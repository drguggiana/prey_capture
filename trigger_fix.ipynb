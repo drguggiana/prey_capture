{
 "cells": [
  {
   "cell_type": "code",
   "execution_count": 1,
   "metadata": {},
   "outputs": [],
   "source": [
    "%matplotlib widget\n",
    "import os\n",
    "import pandas as pd \n",
    "import numpy as np\n",
    "import matplotlib.pyplot as plt\n",
    "import h5py\n",
    "\n",
    "import functions_matching as fm\n",
    "import snakemake_scripts.sub_preprocess_S1 as s1\n",
    "from functions_misc import interp_trace"
   ]
  },
  {
   "cell_type": "code",
   "execution_count": 2,
   "metadata": {},
   "outputs": [],
   "source": [
    "def preprocess_selector(ref_path, file_info):\n",
    "    \"\"\"functions that selects the preprocessing function for the first step, either dlc or not\"\"\"\n",
    "    # check if the input has a dlc path or not\n",
    "    if (len(file_info['dlc_path']) > 0 and file_info['dlc_path'] != 'N/A') or \\\n",
    "            os.path.isfile(file_info['avi_path'].replace('.avi', '_dlc.h5')):\n",
    "        # assemble the path here, in case the file wasn't in the database\n",
    "        dlc_path = file_info['avi_path'].replace('.avi', '_dlc.h5')\n",
    "        # select function depending on the rig\n",
    "        if files['rig'] in ['VWheel', 'VWheelWF'] :\n",
    "            # use the eye specific function\n",
    "            traces, corner_out, frame_b = s1.run_preprocess_eye(ref_path, dlc_path, file_info)\n",
    "        else:\n",
    "            # if there's a dlc file, use this preprocessing\n",
    "            traces, corner_out, frame_b = s1.run_dlc_preprocess(ref_path, dlc_path, file_info)\n",
    "    else:\n",
    "        # if not, use the legacy non-dlc preprocessing\n",
    "        output_path, traces = s1.run_preprocess(ref_path, file_info)\n",
    "        # set corners to empty\n",
    "        corner_out = []\n",
    "        # set frame bounds to empty\n",
    "        frame_b = []\n",
    "    return traces, corner_out, frame_b\n",
    "\n",
    "\n",
    "def check_frame_code(frame_code, error_limit=5):\n",
    "    last_change = 0\n",
    "    count = 0\n",
    "    # error_start = 0\n",
    "    start_frame = 0\n",
    "    error_end = 0\n",
    "    end_frame = 0\n",
    "    error_segment = []\n",
    "\n",
    "    for idx, (frame_a, frame_b) in enumerate(zip(frame_code[:-1], frame_code[1:])):\n",
    "        idx += 1\n",
    "        count += 1\n",
    "\n",
    "        # If we are repeating, but within acceptable limits, continue\n",
    "        if (frame_b == frame_a) and (count <= error_limit):\n",
    "            # Do nothing\n",
    "            pass\n",
    "\n",
    "        # If we find a change in frame number within the acceptable repeat length, reset the count and record the last change\n",
    "        elif (frame_b != frame_a) and (count <= error_limit):\n",
    "            last_change = idx\n",
    "            count = 0\n",
    "\n",
    "        # If the frame is repeated for more than n frames, start recording the error region\n",
    "        elif (frame_b == frame_a) and (count > error_limit):\n",
    "            # Do nothing\n",
    "            pass\n",
    "\n",
    "        elif (frame_b != frame_a)  and (count > error_limit):\n",
    "            error_end = idx\n",
    "            start_frame = frame_a\n",
    "            end_frame = frame_b\n",
    "            \n",
    "            error_segment.append([last_change, start_frame, error_end, end_frame])\n",
    "            \n",
    "            count = 0\n",
    "\n",
    "        else:\n",
    "            pass\n",
    "                \n",
    "    return np.array(error_segment)\n",
    "   \n",
    "\n",
    "def generate_trigger_sequence(start_num, max_val=3):\n",
    "    seq_list = []\n",
    "    for i in np.arange(max_val + 1):\n",
    "        if i == 0:\n",
    "            seq_list.append(start_num)\n",
    "        else:\n",
    "            if seq_list[i-1] < max_val:\n",
    "                seq_list.append(seq_list[i-1] + 1)\n",
    "            else:\n",
    "                seq_list.append(0)\n",
    "    return seq_list\n",
    "\n",
    "\n",
    "def fix_lost_sync_triggers(error_segments, trigger_code):\n",
    "    for err_seg in error_segments:\n",
    "        start_idx  = err_seg[0]\n",
    "        start_frame = err_seg[1]\n",
    "        end_idx = err_seg[2]\n",
    "        end_frame = err_seg[3]\n",
    "        length = end_idx - start_idx\n",
    "\n",
    "        r = 4    # Repeat factor (empirically determined)\n",
    "        seq = generate_trigger_sequence(start_frame)\n",
    "        repeat_seq = np.repeat(seq, r)\n",
    "\n",
    "        # Generate a vector of \"triggers\" that matches the theoretical sequence\n",
    "        replacement_seq = np.tile(repeat_seq, np.ceil(length/len(seq)/r).astype(int))[:length]\n",
    "\n",
    "        replacement_seq_end = replacement_seq[-1]\n",
    "        if replacement_seq_end in [0, 1, 2]:\n",
    "            # Consider this good\n",
    "            if (replacement_seq_end == end_frame) or (replacement_seq_end == end_frame - 1):\n",
    "                trigger_code[start_idx:end_idx] = replacement_seq\n",
    "            else:\n",
    "                # Hacky hacky\n",
    "                replacement_seq[-1:] = end_frame - 1\n",
    "                trigger_code[start_idx:end_idx] = replacement_seq\n",
    "        if replacement_seq_end == 3:\n",
    "            if (replacement_seq_end == end_frame) or (end_frame == 0):\n",
    "                trigger_code[start_idx:end_idx] = replacement_seq\n",
    "            else:\n",
    "                replacement_seq[-1:] = 0\n",
    "                trigger_code[start_idx:end_idx] = replacement_seq\n",
    "\n",
    "    return trigger_code"
   ]
  },
  {
   "cell_type": "code",
   "execution_count": 3,
   "metadata": {},
   "outputs": [],
   "source": [
    "basedir = r\"C:\\Users\\matt\\Desktop\\prey_capture_test\"\n",
    "basename = r'08_01_2023_13_11_33_VWheelWF_MM_230705_b_fixed0_gabor'\n",
    "\n",
    "sync_path = os.path.join(basedir, basename.replace('VWheelWF', 'syncVWheelWF') + '.csv')\n",
    "track_path = os.path.join(basedir, basename + '.txt')\n",
    "avi_path = os.path.join(basedir, basename + '.avi')\n",
    "screen_path = os.path.join(basedir, basename + '.h5')\n",
    "dlc_path = os.path.join(basedir, basename + '_dlc.h5')\n",
    "calcium_path = os.path.join(basedir, basename + '_calcium.hdf5')\n",
    "\n",
    "files = {'sync_path':sync_path,\n",
    "        'track_path': track_path,\n",
    "        'screen_path':screen_path,\n",
    "        'dlc_path':dlc_path,\n",
    "        'avi_path': avi_path,\n",
    "        'rig': 'VWheelWF',\n",
    "        'imaging': 'wirefree',\n",
    "        'date': '2023-08-01T13:11:33Z'}"
   ]
  },
  {
   "cell_type": "code",
   "execution_count": 4,
   "metadata": {},
   "outputs": [
    {
     "name": "stdout",
     "output_type": "stream",
     "text": [
      "Discrepancy of 30 frames between time and traces\n"
     ]
    }
   ],
   "source": [
    "# load the data for the trial structure and parameters\n",
    "trials = pd.read_hdf(files['screen_path'], key='trial_set')\n",
    "params = pd.read_hdf(files['screen_path'], key='params')\n",
    "\n",
    "# run the first stage of preprocessing\n",
    "filtered_traces, corners, frame_bounds = preprocess_selector(files['avi_path'], files)\n",
    "\n",
    "# compute the eye metrics\n",
    "filtered_traces = fm.match_eye(filtered_traces)\n",
    "\n",
    "# get the wheel info\n",
    "filtered_traces = fm.match_wheel(files, filtered_traces)\n",
    "\n",
    "# get the motive tracking data\n",
    "motive_traces, reference_coordinates, obstacle_coordinates = \\\n",
    "    s1.extract_motive(files['track_path'], files['rig'])"
   ]
  },
  {
   "cell_type": "code",
   "execution_count": 5,
   "metadata": {},
   "outputs": [
    {
     "name": "stdout",
     "output_type": "stream",
     "text": [
      "4.980400000000017 5.003900000000002 4.992162416666662\n"
     ]
    }
   ],
   "source": [
    "def get_trial_duration_stats(df, trial_key, time_key):\n",
    "    grouped_trials = df[df[trial_key] > 0].groupby(trial_key)\n",
    "    trial_durations = grouped_trials.apply(lambda x: x[time_key].to_list()[-1] - x[time_key].to_list()[0])\n",
    "    print(trial_durations.min(), trial_durations.max(), trial_durations.mean())\n",
    "    return np.array((trial_durations.min(), trial_durations.max(), trial_durations.mean()))\n",
    "\n",
    "duration_stats = get_trial_duration_stats(motive_traces, 'trial_num', 'time_m')"
   ]
  },
  {
   "cell_type": "markdown",
   "metadata": {},
   "source": [
    "## explode match_motive_2 to debug"
   ]
  },
  {
   "cell_type": "code",
   "execution_count": 6,
   "metadata": {},
   "outputs": [],
   "source": [
    "# align them temporally based on the sync file\n",
    "# kinematics_data = fm.match_motive_2(motive_traces, files['sync_path'], filtered_traces)\n",
    "\n",
    "# def match_motive_2(motive_traces, sync_path, kinematics_data):\n",
    "\"\"\"Match the motive and video traces based on the sync file, updated to second gen rig\"\"\"\n",
    "kinematics_data = filtered_traces\n",
    "\n",
    "# find the first motive frame\n",
    "first_motive = np.argwhere(motive_traces.loc[:, 'trial_num'].to_numpy() == 0)[0][0]\n",
    "# exclude the last frame if it managed to include a single frame of 0\n",
    "last_motive = -1 if motive_traces.loc[motive_traces.shape[0] - 1, 'trial_num'] == 0 else motive_traces.shape[0]\n",
    "# trim the motive frames to the start and end of the experiment\n",
    "trimmed_traces = motive_traces.iloc[first_motive:last_motive, :].reset_index(drop=True)\n",
    "# TODO: remove this for regular trials, only here for 21.2.2022 ones\n",
    "if np.max(trimmed_traces.loc[:, 'color_factor']) > 81:\n",
    "    trimmed_traces.loc[:, 'color_factor'] = trimmed_traces.loc[:, 'color_factor'] / 255\n",
    "# normalize the number to 0 1 2 3 range\n",
    "trimmed_traces.loc[:, 'color_factor'] = np.array([int('0b' + format(int(el) - 1, '#09b')[2] +\n",
    "                                                        format(int(el) - 1, '#09b')[4], 2)\n",
    "                                                    if el > 0 else 0 for el in trimmed_traces.loc[:, 'color_factor']])\n",
    "\n",
    "# load the sync data\n",
    "sync_data = pd.read_csv(sync_path, names=['Time', 'projector_frames', 'camera_frames',\n",
    "                                            'sync_trigger', 'mini_frames', 'wheel_frames', 'projector_frames_2'],\n",
    "                        index_col=False)\n",
    "# get the camera frames (as the indexes from sync_frames are referenced for the uncut sync_data, see match_dlc)\n",
    "frame_times_cam_sync = sync_data.loc[kinematics_data['sync_frames'].to_numpy(), 'Time'].to_numpy()\n",
    "\n",
    "# get the start and end triggers\n",
    "sync_start = np.argwhere(sync_data.loc[:, 'sync_trigger'].to_numpy() == 1)[0][0] - 1\n",
    "sync_end = np.argwhere(sync_data.loc[:, 'sync_trigger'].to_numpy() == 2)[0][0]\n",
    "\n",
    "# trim the sync data to the experiment\n",
    "sync_data = sync_data.iloc[sync_start:sync_end, :].reset_index(drop=True)\n",
    "\n",
    "# get the motive frame times\n",
    "# TODO: probs remove this later, since all trials should be on the new rig with the 2bit frame encoding\n",
    "if np.any(np.isnan(sync_data['projector_frames_2'])):\n",
    "    # get the frame indexes\n",
    "    idx_code = np.argwhere(np.abs(np.diff(np.round(sync_data.loc[:, 'projector_frames'] / 4))) > 0).squeeze() + 1\n",
    "    # get the frame times\n",
    "    frame_times_motive_sync = sync_data.loc[idx_code, 'Time'].to_numpy()\n",
    "    # if the number of frames doesn't match, trim from the end\n",
    "    if trimmed_traces.shape[0] > frame_times_motive_sync.shape[0]:\n",
    "        trimmed_traces = trimmed_traces.iloc[-frame_times_motive_sync.shape[0]:, :]\n",
    "    elif trimmed_traces.shape[0] < frame_times_motive_sync.shape[0]:\n",
    "        frame_times_motive_sync = frame_times_motive_sync[-trimmed_traces.shape[0]:]\n",
    "\n",
    "else:\n",
    "    # This is all from sync file\n",
    "    # binarize both frame streams\n",
    "    frames_0 = np.round(sync_data.loc[:, 'projector_frames'] / 4).astype(int) * 2\n",
    "    frames_1 = np.round(sync_data.loc[:, 'projector_frames_2'] / 4).astype(int)\n",
    "    # assemble the actual sequence\n",
    "    frame_code = (frames_0 | frames_1).to_numpy()\n",
    "\n",
    "    # NEED TO FIND WHERE CONSECUTIVE CODES EXCEED THRESHOLD AND FIX\n",
    "    # Found that in general, the sync frame code dwells for 3 or 4 frames per code. We can generate a sequnce bewteen the start and end codes that should somewhat match the real triggers (sketchy as fuck but oh well)\n",
    "    error_segments_sync = check_frame_code(frame_code, error_limit=7)\n",
    "    frame_code = fix_lost_sync_triggers(error_segments_sync, frame_code)\n",
    "    error_segments_sync_2 = check_frame_code(frame_code, error_limit=7)\n",
    "\n",
    "    # TODO: turn this into a function\n",
    "    fixed_code = frame_code.copy()\n",
    "\n",
    "    # for all the frames\n",
    "    for idx, frame in enumerate(frame_code[1:-1]):\n",
    "        idx += 1\n",
    "        # if it's the same number as before, skip\n",
    "        if frame == fixed_code[idx - 1]:\n",
    "            continue\n",
    "        # if the numbers before and after are equal\n",
    "        if fixed_code[idx - 1] == frame_code[idx + 1]:\n",
    "            # replace this position by the repeated number cause it's likely a mistake\n",
    "            fixed_code[idx] = frame_code[idx - 1]\n",
    "            continue\n",
    "        # if not, start filtering\n",
    "        # first check for 0-2, cause 3 is a special case\n",
    "        if fixed_code[idx - 1] in [0, 1, 2]:\n",
    "            if frame != fixed_code[idx - 1] + 1:\n",
    "                fixed_code[idx] = fixed_code[idx - 1] + 1\n",
    "                continue\n",
    "        else:\n",
    "            if frame != 0:\n",
    "                fixed_code[idx] = 0\n",
    "                continue\n",
    "\n",
    "    # get the motive-based frame code in sync\n",
    "    idx_code = np.argwhere(np.abs(np.diff(fixed_code)) > 0).squeeze() + 1\n",
    "    motive_code = fixed_code[idx_code]\n",
    "    # if the frame numbers don't match, find the first motive color number and match that\n",
    "    last_number = trimmed_traces.loc[trimmed_traces.shape[0] - 1, 'color_factor']\n",
    "    # trim the idx based on the last appearance of the last_number in motive_code\n",
    "    trim_idx = np.argwhere(motive_code == last_number)[-1][0] + 1\n",
    "    idx_code = idx_code[-(trimmed_traces.shape[0] + 1):trim_idx]\n",
    "    # if idx_code.shape[0] < trimmed_traces.shape[0]:\n",
    "    #\n",
    "    #     # get the difference in frames\n",
    "    #     delta_frames = trimmed_traces.shape[0] - idx_code.shape[0]\n",
    "    #     # get trimmed traces trimmed\n",
    "    #     idx_code = idx_code[delta_frames:]\n",
    "    # display_code = fixed_code[idx_code]\n",
    "    \n",
    "    # get the frame times\n",
    "    frame_times_motive_sync = sync_data.loc[idx_code, 'Time'].to_numpy()\n",
    "    \n",
    "    # trim the motive frames to be contained within the camera frames\n",
    "    if frame_times_motive_sync[0] < frame_times_cam_sync[0]:\n",
    "        start_idx = np.argwhere(frame_times_motive_sync > frame_times_cam_sync[0])[0][0]\n",
    "        frame_times_motive_sync = frame_times_motive_sync[start_idx:]\n",
    "        idx_code = idx_code[start_idx:]\n",
    "        trimmed_traces = trimmed_traces.iloc[start_idx:, :].reset_index(drop=True)\n",
    "    \n",
    "    if frame_times_motive_sync[-1] > frame_times_cam_sync[-1]:\n",
    "        end_idx = np.argwhere(frame_times_motive_sync < frame_times_cam_sync[-1])[-1][0] + 1\n",
    "        frame_times_motive_sync = frame_times_motive_sync[:end_idx]\n",
    "        idx_code = idx_code[:end_idx]\n",
    "        trimmed_traces = trimmed_traces.iloc[:end_idx, :].reset_index(drop=True)\n",
    "\n",
    "    if trimmed_traces.shape[0] > frame_times_motive_sync.shape[0]:\n",
    "        delta_frames = trimmed_traces.shape[0] - frame_times_motive_sync.shape[0]\n",
    "        trimmed_traces = trimmed_traces.iloc[delta_frames:, :].reset_index(drop=True)\n",
    "\n",
    "# interpolate the camera traces to match the unity frames\n",
    "matched_camera = kinematics_data.drop(['time_vector', 'mouse', 'datetime', 'sync_frames'],\n",
    "                                        axis=1).apply(interp_trace, raw=False, args=(frame_times_cam_sync,\n",
    "                                                                                    frame_times_motive_sync))\n",
    "\n",
    "# add the correct time vector from the interpolated traces\n",
    "matched_camera['time_vector'] = frame_times_motive_sync\n",
    "matched_camera['mouse'] = kinematics_data.loc[kinematics_data.index[0], 'mouse']\n",
    "matched_camera['datetime'] = kinematics_data.loc[kinematics_data.index[0], 'datetime']\n",
    "# correct the frame indexes to work with the untrimmed sync file\n",
    "idx_code += sync_start\n",
    "matched_camera['sync_frames'] = idx_code\n",
    "\n",
    "# concatenate both data frames\n",
    "full_dataframe = pd.concat([matched_camera, trimmed_traces.drop(['time_m', 'color_factor'], axis=1)], axis=1)\n",
    "\n",
    "# reset the time vector\n",
    "old_time = full_dataframe['time_vector']\n",
    "full_dataframe['time_vector'] = np.array([el - old_time[0] for el in old_time])\n"
   ]
  },
  {
   "cell_type": "code",
   "execution_count": 7,
   "metadata": {},
   "outputs": [],
   "source": [
    "# fig = plt.figure()\n",
    "# ax = fig.add_subplot(211)\n",
    "# # ax.scatter(sync_data.loc[:, 'Time'], sync_data.loc[:, 'projector_frames'])\n",
    "# ax.scatter(sync_data.loc[:, 'Time'], sync_data.loc[:, 'camera_frames'])\n",
    "# ax.scatter(sync_data.loc[:, 'Time'], np.round(sync_data.loc[:, 'projector_frames']/4)*4)\n",
    "# ax.scatter(frame_times_motive_sync, np.ones_like(frame_times_motive_sync))\n",
    "#\n",
    "# fig2 = plt.figure()\n",
    "# ax = fig2.add_subplot(211)\n",
    "# # ax.plot(np.diff(motive_traces.loc[:, 'time_m']))\n",
    "# ax.plot(frame_times_motive_sync[1:], np.diff(frame_times_motive_sync))\n",
    "#\n",
    "# fig3 = plt.figure()\n",
    "# ax = fig3.add_subplot(211)\n",
    "# ax.plot(sync_data.loc[1:, 'Time'], np.diff(frame_code))\n",
    "# ax.plot(sync_data.loc[1:, 'Time'], np.diff(fixed_code))\n",
    "#\n",
    "# fig4 = plt.figure()\n",
    "# ax = fig4.add_subplot(211)\n",
    "# # ax.plot(sync_data.loc[:, 'Time'], sync_data.loc[:, 'projector_frames'])\n",
    "# ax.plot(sync_data.loc[:, 'Time'], sync_data.loc[:, 'sync_trigger'])\n",
    "# ax.scatter(frame_times_motive_sync, np.ones_like(frame_times_motive_sync))\n",
    "#\n",
    "#\n",
    "# fig5 = plt.figure()\n",
    "# ax = fig5.add_subplot(211)\n",
    "# ax.plot(trimmed_traces.loc[:, 'time_m'], trimmed_traces.loc[:, 'trial_num'])\n",
    "# ax.plot(trimmed_traces.loc[:, 'time_m'], trimmed_traces.loc[:, 'sync_trigger'])\n",
    "#\n",
    "# fig6 = plt.figure()\n",
    "# ax = fig6.add_subplot(111)\n",
    "# ax.plot(np.diff(motive_code), marker='o')\n"
   ]
  },
  {
   "cell_type": "code",
   "execution_count": 8,
   "metadata": {},
   "outputs": [
    {
     "name": "stdout",
     "output_type": "stream",
     "text": [
      "4.980400000000017 5.003900000000002 4.992162416666662\n",
      "4.982806444168091 4.9968650341033936 4.992556883891424\n"
     ]
    },
    {
     "data": {
      "text/plain": [
       "True"
      ]
     },
     "execution_count": 8,
     "metadata": {},
     "output_type": "execute_result"
    }
   ],
   "source": [
    "kinematics_data = full_dataframe.copy()\n",
    "duration_stats_motive = get_trial_duration_stats(motive_traces, 'trial_num', 'time_m')\n",
    "duration_stats_kinem = get_trial_duration_stats(kinematics_data, 'trial_num', 'time_vector')\n",
    "np.allclose(duration_stats_motive, duration_stats_kinem, rtol=1e-1, atol=1e-2)"
   ]
  },
  {
   "cell_type": "markdown",
   "metadata": {},
   "source": [
    "## It's not the kinematics matching that's throwing the error, it's `match_calcium_2`"
   ]
  },
  {
   "cell_type": "code",
   "execution_count": 9,
   "metadata": {},
   "outputs": [
    {
     "name": "stdout",
     "output_type": "stream",
     "text": [
      "There were 5612 triggers more than frames on file 08_01_2023_13_11_33_VWheelWF_MM_230705_b_fixed0_gabor_calcium.hdf5\n",
      "4.914435386657715 654.0684463977814 77.68275921727404\n"
     ]
    }
   ],
   "source": [
    "# TODO ERROR ALSO HERE\n",
    "# THIS ONE COMES FROM THE MINISCOPE TRIGGERS FAILING (???)\n",
    "matched_calcium, roi_info = fm.match_calcium_2(calcium_path, files['sync_path'], kinematics_data, trials=trials)\n",
    "duration_stats_matched_ca = get_trial_duration_stats(matched_calcium, 'trial_num', 'time_vector')\n"
   ]
  },
  {
   "cell_type": "code",
   "execution_count": 10,
   "metadata": {},
   "outputs": [
    {
     "name": "stdout",
     "output_type": "stream",
     "text": [
      "[4.9804     5.0039     4.99216242]\n",
      "[4.98280644 4.99686503 4.99255688]\n",
      "[  4.91443539 654.0684464   77.68275922]\n"
     ]
    },
    {
     "data": {
      "text/plain": [
       "False"
      ]
     },
     "execution_count": 10,
     "metadata": {},
     "output_type": "execute_result"
    }
   ],
   "source": [
    "print(duration_stats_motive)\n",
    "print(duration_stats_kinem)\n",
    "print(duration_stats_matched_ca)\n",
    "np.allclose(duration_stats_kinem, duration_stats_matched_ca,  rtol=1e-1, atol=1e-2)"
   ]
  },
  {
   "cell_type": "markdown",
   "metadata": {},
   "source": [
    "## Explode 'match_calcium_2' to debug"
   ]
  },
  {
   "cell_type": "code",
   "execution_count": 20,
   "metadata": {},
   "outputs": [],
   "source": [
    "def interpolate_frame_triggers(triggers_in, threshold=1.5):\n",
    "    \"\"\"Interpolate missing triggers in the sequence based on the median interval\"\"\"\n",
    "    # allocate the output\n",
    "    triggers_out = list(triggers_in)\n",
    "    # get the intervals\n",
    "    intervals = np.diff(triggers_in)\n",
    "    # get the median interval\n",
    "    median_interval = np.median(intervals)\n",
    "    # get the indexes of the intervals that violate threshold times the median or more (since they are continuous)\n",
    "    long_interval_idx = np.argwhere(intervals > threshold * median_interval).flatten()\n",
    "    # cycle through the intervals\n",
    "    for idx in long_interval_idx:\n",
    "        # determine the number of frames to interpolate\n",
    "        frame_number = int(np.round(intervals[idx] / median_interval) - 1)\n",
    "        # generate and add them to the list\n",
    "        for idx2 in np.arange(frame_number):\n",
    "            triggers_out.append(triggers_out[idx] + median_interval * (idx2 + 1))\n",
    "    # sort the list and output\n",
    "    triggers_out = np.sort(np.array(triggers_out))\n",
    "    return triggers_out"
   ]
  },
  {
   "cell_type": "code",
   "execution_count": 23,
   "metadata": {},
   "outputs": [],
   "source": [
    "# load the calcium data (cells x time), transpose to get time x cells\n",
    "with h5py.File(calcium_path, mode='r') as f:\n",
    "    calcium_data = np.array(f['calcium_data']).T\n",
    "    # if there are no ROIs, skip\n",
    "    if (type(calcium_data) == np.ndarray) and (calcium_data == 'no_ROIs'):\n",
    "        print('NO ROIs')\n",
    "    roi_info = np.array(f['roi_info'])\n",
    "# check if there are nans in the columns, if so, also skip\n",
    "if kinematics_data.columns[0] == 'badFile':\n",
    "    print(f'File {os.path.basename(calcium_path)} not matched due to NaNs')\n",
    "\n",
    "# load the sync data\n",
    "sync_data = pd.read_csv(sync_path, header=None)\n",
    "if sync_data.shape[1] == 3:\n",
    "    sync_data.columns = ['Time', 'mini_frames', 'camera_frames']\n",
    "elif sync_data.shape[1] == 6:\n",
    "    # TODO: only for files from 21.02.2022\n",
    "    sync_data.columns = ['Time', 'projector_frames', 'camera_frames',\n",
    "                            'sync_trigger', 'mini_frames', 'wheel_frames']\n",
    "else:\n",
    "    sync_data.columns = ['Time', 'projector_frames', 'camera_frames',\n",
    "                            'sync_trigger', 'mini_frames', 'wheel_frames', 'projector_frames_2']\n",
    "\n",
    "# get the camera frame times\n",
    "frame_idx_camera_sync = kinematics_data['sync_frames'].to_numpy().astype(int)\n",
    "frame_times_camera_sync = sync_data.loc[frame_idx_camera_sync, 'Time'].to_numpy()"
   ]
  },
  {
   "cell_type": "code",
   "execution_count": 24,
   "metadata": {},
   "outputs": [],
   "source": [
    "plt.close('all')"
   ]
  },
  {
   "cell_type": "code",
   "execution_count": 25,
   "metadata": {},
   "outputs": [
    {
     "data": {
      "application/vnd.jupyter.widget-view+json": {
       "model_id": "659f9474e83b4dd2b26a0577baca2876",
       "version_major": 2,
       "version_minor": 0
      },
      "image/png": "[encoded data removed]",
      "text/html": [
       "\n",
       "            <div style=\"display: inline-block;\">\n",
       "                <div class=\"jupyter-widgets widget-label\" style=\"text-align: center;\">\n",
       "                    Figure\n",
       "                </div>\n",
       "                <img src='data:image/png;base64,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' width=640.0/>\n",
       "            </div>\n",
       "        "
      ],
      "text/plain": [
       "Canvas(toolbar=Toolbar(toolitems=[('Home', 'Reset original view', 'home', 'home'), ('Back', 'Back to previous …"
      ]
     },
     "metadata": {},
     "output_type": "display_data"
    }
   ],
   "source": [
    "%matplotlib widget\n",
    "# Sometimes there are weird segments where the mini frame triggers aren't recorded in the middle of a session. \n",
    "# These are large gaps that are obvious\n",
    "# get the miniscope frame indexes from the sync file\n",
    "fig = plt.figure()\n",
    "mini_frame_triggers = np.round(sync_data.loc[:, 'mini_frames']).astype(int)\n",
    "plt.plot(mini_frame_triggers)\n",
    "plt.show()\n"
   ]
  },
  {
   "cell_type": "code",
   "execution_count": 26,
   "metadata": {},
   "outputs": [
    {
     "name": "stdout",
     "output_type": "stream",
     "text": [
      "23900\n",
      "23897\n",
      "23568\n"
     ]
    }
   ],
   "source": [
    "print(calcium_data.shape[0])\n",
    "print(np.sum(mini_frame_triggers > 0))\n",
    "frame_idx_mini_sync = np.argwhere(np.diff(mini_frame_triggers) > 0).squeeze() + 1\n",
    "print(frame_idx_mini_sync.shape[0])"
   ]
  },
  {
   "cell_type": "code",
   "execution_count": null,
   "metadata": {},
   "outputs": [],
   "source": [
    "interp_idx = np.setdiff1d(frame_idx_mini_sync1, frame_idx_mini_sync)\n",
    "interp_idx.shape"
   ]
  },
  {
   "cell_type": "code",
   "execution_count": 18,
   "metadata": {},
   "outputs": [
    {
     "name": "stdout",
     "output_type": "stream",
     "text": [
      "20.0\n"
     ]
    }
   ],
   "source": [
    "frame_idx_mini_sync = np.argwhere(np.diff(mini_frame_triggers) > 0).squeeze() + 1\n",
    "frame_idx_mini_sync1 = np.round(interpolate_frame_triggers(frame_idx_mini_sync))\n",
    "interp_idx = np.setdiff1d(frame_idx_mini_sync1, frame_idx_mini_sync)\n",
    "mini_frame_triggers1 = mini_frame_triggers.copy()\n",
    "mini_frame_triggers1[frame_idx_mini_sync1] = 5\n"
   ]
  },
  {
   "cell_type": "code",
   "execution_count": 27,
   "metadata": {},
   "outputs": [
    {
     "name": "stdout",
     "output_type": "stream",
     "text": [
      "23900\n",
      "23897\n",
      "29369\n"
     ]
    }
   ],
   "source": [
    "print(calcium_data.shape[0])\n",
    "print(np.sum(mini_frame_triggers > 0))\n",
    "frame_idx_mini_sync = np.argwhere(np.diff(mini_frame_triggers) > 0).squeeze() + 1\n",
    "frame_idx_mini_sync1 = np.round(interpolate_frame_triggers(frame_idx_mini_sync))\n",
    "print(frame_idx_mini_sync1.shape[0])"
   ]
  },
  {
   "cell_type": "code",
   "execution_count": null,
   "metadata": {},
   "outputs": [],
   "source": [
    "fig = plt.figure()\n",
    "plt.plot(mini_frame_triggers)\n",
    "plt.plot(mini_frame_triggers1, alpha=0.75)\n",
    "plt.show()"
   ]
  },
  {
   "cell_type": "code",
   "execution_count": null,
   "metadata": {},
   "outputs": [],
   "source": [
    "# interpolate missing triggers (based on experience)\n",
    "frame_idx_mini_sync = np.argwhere(np.diff(mini_frame_triggers1) > 0).squeeze() + 1\n",
    "frame_idx_mini_sync = np.round(interpolate_frame_triggers(frame_idx_mini_sync))"
   ]
  },
  {
   "cell_type": "code",
   "execution_count": null,
   "metadata": {},
   "outputs": [],
   "source": [
    "print(frame_idx_mini_sync[0], frame_idx_mini_sync[-1])\n",
    "print(frame_idx_camera_sync[0], frame_idx_camera_sync[-1])\n",
    "\n",
    "# correct for the calcium starting before and/or ending after the behavior\n",
    "if frame_idx_mini_sync[0] < frame_idx_camera_sync[0]:\n",
    "    start_idx = np.argwhere(frame_idx_mini_sync > frame_idx_camera_sync[0])[0][0]\n",
    "    print(start_idx)\n",
    "    frame_idx_mini_sync = frame_idx_mini_sync[start_idx:]\n",
    "    calcium_data = calcium_data[start_idx:, :]\n",
    "\n",
    "if frame_idx_mini_sync[-1] > frame_idx_camera_sync[-1]:\n",
    "    end_idx = np.argwhere(frame_idx_mini_sync < frame_idx_camera_sync[-1])[-1][0] + 1\n",
    "    print(end_idx)\n",
    "    frame_idx_mini_sync = frame_idx_mini_sync[:end_idx]\n",
    "    calcium_data = calcium_data[:end_idx, :]\n",
    "\n",
    "print(frame_idx_mini_sync[0], frame_idx_mini_sync[-1])\n",
    "print(frame_idx_camera_sync[0], frame_idx_camera_sync[-1])\n",
    "\n",
    "print(calcium_data.shape[0])\n",
    "print(frame_idx_mini_sync.shape[0])\n",
    "\n",
    "# get the delta frames with the calcium\n",
    "delta_frames = frame_idx_mini_sync.shape[0] - calcium_data.shape[0]\n",
    "print(delta_frames)\n",
    "\n"
   ]
  },
  {
   "cell_type": "code",
   "execution_count": null,
   "metadata": {},
   "outputs": [],
   "source": [
    "fig = plt.figure()\n",
    "plt.plot(frame_idx_mini_sync)\n",
    "plt.plot(frame_idx_camera_sync)\n",
    "plt.show()"
   ]
  },
  {
   "cell_type": "code",
   "execution_count": null,
   "metadata": {},
   "outputs": [],
   "source": [
    "# trim calcium according to the frames left within the behavior\n",
    "calcium_data = calcium_data[frame_idx_mini_sync > frame_idx_camera_sync[0], :]\n",
    "\n",
    "# and then remove frames before the behavior starts\n",
    "frame_idx_mini_sync = frame_idx_mini_sync[frame_idx_mini_sync > frame_idx_camera_sync[0]]\n",
    "\n",
    "# get the actual mini times\n",
    "frame_times_mini_sync = sync_data.loc[frame_idx_mini_sync, 'Time'].to_numpy()\n",
    "\n",
    "# interpolate the bonsai traces to match the mini frames\n",
    "matched_bonsai = kinematics_data.drop(['time_vector', 'sync_frames', 'mouse', 'datetime'],\n",
    "                                        axis=1).apply(interp_trace, raw=False, args=(frame_times_camera_sync,\n",
    "                                                                                    frame_times_mini_sync))\n",
    "if trials is not None:\n",
    "\n",
    "    # repair the trial_num column\n",
    "    matched_bonsai.loc[:, 'trial_num'] = np.round(matched_bonsai.loc[:, 'trial_num'])\n",
    "\n",
    "    # now that the trials are reassigned, add the trial data\n",
    "    matched_bonsai = fm.assign_trial_parameters(matched_bonsai, trials)\n",
    "\n",
    "else:\n",
    "    # round the quadrant vector as it should be discrete\n",
    "    quadrant_columns = [el for el in matched_bonsai.columns if ('_quadrant' in el)]\n",
    "    for el in quadrant_columns:\n",
    "        matched_bonsai[el] = np.round(matched_bonsai[el])\n",
    "    # same for the hunt trace\n",
    "    if 'hunt_trace' in matched_bonsai.columns:\n",
    "        matched_bonsai.loc[:, 'hunt_trace'] = np.round(matched_bonsai.loc[:, 'hunt_trace'])\n",
    "\n",
    "# add the correct time vector from the interpolated traces, plus mouse and datetime\n",
    "matched_bonsai['time_vector'] = frame_times_mini_sync\n",
    "matched_bonsai['mouse'] = kinematics_data.loc[0, 'mouse']\n",
    "matched_bonsai['datetime'] = kinematics_data.loc[0, 'datetime']\n",
    "\n",
    "# print a single dataframe with the calcium matched positions and timestamps\n",
    "cell_column_names = ['_'.join(('cell', f'{el:04d}')) for el in range(calcium_data.shape[1])]\n",
    "calcium_dataframe = pd.DataFrame(calcium_data, columns=cell_column_names)\n",
    "# concatenate both data frames\n",
    "full_dataframe = pd.concat([matched_bonsai, calcium_dataframe], axis=1)\n",
    "\n",
    "# reset the time vector\n",
    "old_time = full_dataframe['time_vector']\n",
    "full_dataframe.loc[:, 'time_vector'] = np.array([el - old_time[0] for el in old_time])\n",
    "\n",
    "# turn the roi info into a dataframe\n",
    "roi_info = pd.DataFrame(roi_info, columns=['centroid_x', 'centroid_y',\n",
    "                                            'bbox_left', 'bbox_top', 'bbox_width', 'bbox_height', 'area'])"
   ]
  },
  {
   "cell_type": "code",
   "execution_count": null,
   "metadata": {},
   "outputs": [],
   "source": [
    "duration_stats_matched_ca = get_trial_duration_stats(full_dataframe, 'trial_num', 'time_vector')\n",
    "\n",
    "print(duration_stats_motive)\n",
    "print(duration_stats_kinem)\n",
    "print(duration_stats_matched_ca)\n",
    "np.allclose(duration_stats_kinem, duration_stats_matched_ca,  rtol=1e-1, atol=1e-2)"
   ]
  },
  {
   "cell_type": "code",
   "execution_count": null,
   "metadata": {},
   "outputs": [],
   "source": []
  }
 ],
 "metadata": {
  "kernelspec": {
   "display_name": "prey_capture",
   "language": "python",
   "name": "python3"
  },
  "language_info": {
   "codemirror_mode": {
    "name": "ipython",
    "version": 3
   },
   "file_extension": ".py",
   "mimetype": "text/x-python",
   "name": "python",
   "nbconvert_exporter": "python",
   "pygments_lexer": "ipython3",
   "version": "3.8.18"
  }
 },
 "nbformat": 4,
 "nbformat_minor": 2
}

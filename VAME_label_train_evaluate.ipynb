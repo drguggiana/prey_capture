{
 "cells": [
  {
   "cell_type": "code",
   "execution_count": 10,
   "metadata": {},
   "outputs": [],
   "source": [
    "# Initialize a new VAME project\n",
    "import functions_bondjango as bd\n",
    "import functions_vame as fv\n",
    "import paths\n",
    "import vame\n",
    "import random\n",
    "import os\n",
    "import shutil\n",
    "import align_demo_DGN"
   ]
  },
  {
   "cell_type": "code",
   "execution_count": 7,
   "metadata": {},
   "outputs": [],
   "source": [
    "# get the file paths\n",
    "# define the search string\n",
    "search_string = 'rig:miniscope, slug:DG_190806_a'\n",
    "\n",
    "# define the target model\n",
    "target_model = 'video_experiment'\n",
    "# get the queryset\n",
    "files = bd.query_database(target_model, search_string)\n",
    "\n",
    "# pick a random subset of 20\n",
    "files = random.sample(files, 20)\n",
    "\n",
    "# get the video paths in a list\n",
    "video_paths = [el['avi_path'] for el in files]\n",
    "\n",
    "# define the working directory\n",
    "working_directory = paths.vame_path"
   ]
  },
  {
   "cell_type": "code",
   "execution_count": 14,
   "metadata": {},
   "outputs": [
    {
     "name": "stdout",
     "output_type": "stream",
     "text": [
      "{'url': 'http://192.168.236.135:8080/loggers/video_experiment/09_08_2020_15_56_34_miniscope_dg_200617_b_succ_injured/', 'mouse': 'DG_200617_b', 'avi_path': 'J:\\\\Drago Guggiana Nilo\\\\Prey_capture\\\\VideoExperiment\\\\09_08_2020_15_56_34_miniscope_DG_200617_b_succ_injured.avi', 'bonsai_path': 'J:\\\\Drago Guggiana Nilo\\\\Prey_capture\\\\VideoExperiment\\\\09_08_2020_15_56_34_miniscope_DG_200617_b_succ_injured.csv', 'date': '2020-09-08T15:56:34Z', 'dlc_path': '', 'experiment_type': ['Free_behavior'], 'fluo_path': '', 'id': 1976, 'imaging': 'doric', 'lighting': 'normal', 'notes': 'injured', 'owner': 'drguggiana', 'preproc_files': [], 'result': 'succ', 'rig': 'miniscope', 'slug': '09_08_2020_15_56_34_miniscope_dg_200617_b_succ_injured', 'sync_path': 'J:\\\\Drago Guggiana Nilo\\\\Prey_capture\\\\VideoExperiment\\\\09_08_2020_15_56_34_syncMini_DG_200617_b_succ_injured.csv', 'tif_path': 'J:\\\\Drago Guggiana Nilo\\\\Prey_capture\\\\VideoExperiment\\\\09_08_2020_15_56_34_miniscope_DG_200617_b_succ_injured.tif'}\n"
     ]
    }
   ],
   "source": [
    "print(files[0])"
   ]
  },
  {
   "cell_type": "code",
   "execution_count": 8,
   "metadata": {},
   "outputs": [
    {
     "name": "stdout",
     "output_type": "stream",
     "text": [
      "Created \"F:\\VAME_projects\\VAME_prey-Nov24-2020\\videos\"\n",
      "Created \"F:\\VAME_projects\\VAME_prey-Nov24-2020\\data\"\n",
      "Created \"F:\\VAME_projects\\VAME_prey-Nov24-2020\\results\"\n",
      "Created \"F:\\VAME_projects\\VAME_prey-Nov24-2020\\model\"\n",
      "Copying the videos \n",
      "\n",
      "A VAME project has been created. \n",
      "\n",
      "Next use vame.create_trainset(config) to split your data into a train and test set. \n",
      "Afterwards you can use vame.rnn_model() to train the model on your data.\n"
     ]
    }
   ],
   "source": [
    "# initialize the project\n",
    "config = vame.init_new_project(project='VAME_prey', videos=video_paths, working_directory=working_directory, videotype='.avi')"
   ]
  },
  {
   "cell_type": "code",
   "execution_count": 12,
   "metadata": {},
   "outputs": [
    {
     "name": "stdout",
     "output_type": "stream",
     "text": [
      "F:\\VAME_projects\\VAME_prey-Nov24-2020\n"
     ]
    }
   ],
   "source": [
    "# Align video trajectories\n",
    "\n",
    "# get the project folder\n",
    "project_folder, _ = os.path.split(config)\n",
    "\n",
    "# for all the videos\n",
    "for el in files:\n",
    "    # load the dlc file path\n",
    "    dlc_path = el['dlc_path']\n",
    "    # get the basename and folder\n",
    "    dlc_folder, dlc_basename = os.path.split(dlc_path)\n",
    "    # define the cropping\n",
    "    crop_size = (0, 0)\n",
    "    # egocentrically align the data and save\n",
    "    fv.run_alignment(dlc_folder, project_folder, dlc_basename, '.avi', crop_size\n"
   ]
  },
  {
   "cell_type": "code",
   "execution_count": null,
   "metadata": {},
   "outputs": [],
   "source": [
    "# Create the training set\n",
    "\n",
    "vame.create_trainset(config)"
   ]
  },
  {
   "cell_type": "code",
   "execution_count": null,
   "metadata": {},
   "outputs": [],
   "source": [
    "# Train the network\n",
    "\n",
    "# remember to set the parameters in the bonfig.yaml\n",
    "\n",
    "vame.rnn_model(config, model_name='VAME_prey_model', pretrained_weights=False, pretrained_model=None)"
   ]
  },
  {
   "cell_type": "code",
   "execution_count": null,
   "metadata": {},
   "outputs": [],
   "source": [
    "# Evaluate the network\n",
    "\n",
    "vame.evaluate_model(config, model_name='VAME_prey_model')"
   ]
  },
  {
   "cell_type": "code",
   "execution_count": null,
   "metadata": {},
   "outputs": [],
   "source": [
    "# Segment behavior\n",
    "\n",
    "vame.behavior_segmentation(config, model_name='VAME_prey_model', cluster_method='kmeans', n_cluster=[30])"
   ]
  },
  {
   "cell_type": "code",
   "execution_count": null,
   "metadata": {},
   "outputs": [],
   "source": [
    "# Quantify behavior\n",
    "\n",
    "vame.behavior_quantification(config, model_name='VAME_prey_model', cluster_method='kmeans', n_cluster=30)"
   ]
  }
 ],
 "metadata": {
  "kernelspec": {
   "display_name": "Python [conda env:vame] *",
   "language": "python",
   "name": "conda-env-vame-py"
  },
  "language_info": {
   "codemirror_mode": {
    "name": "ipython",
    "version": 3
   },
   "file_extension": ".py",
   "mimetype": "text/x-python",
   "name": "python",
   "nbconvert_exporter": "python",
   "pygments_lexer": "ipython3",
   "version": "3.7.9"
  }
 },
 "nbformat": 4,
 "nbformat_minor": 2
}

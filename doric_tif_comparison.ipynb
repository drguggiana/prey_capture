{
 "cells": [
  {
   "cell_type": "code",
   "execution_count": 1,
   "id": "e0e74d31",
   "metadata": {
    "code_folding": []
   },
   "outputs": [],
   "source": [
    "# imports\n",
    "import os\n",
    "import sys\n",
    "\n",
    "import paths\n",
    "import functions_bondjango as bd\n",
    "import functions_misc as fm\n",
    "import functions_plotting as fp\n",
    "import pandas as pd\n",
    "import numpy as np\n",
    "import sklearn.mixture as mix\n",
    "import sklearn.decomposition as decomp\n",
    "from sklearn.metrics import confusion_matrix\n",
    "from sklearn.model_selection import cross_val_predict, train_test_split\n",
    "from sklearn import svm, datasets\n",
    "from sklearn import preprocessing\n",
    "import sklearn.linear_model as lin\n",
    "import sklearn.metrics as smet\n",
    "import scipy.signal as ss\n",
    "\n",
    "import random\n",
    "import functions_data_handling as fd\n",
    "import importlib\n",
    "import processing_parameters\n",
    "import h5py\n",
    "import pathlib"
   ]
  },
  {
   "cell_type": "code",
   "execution_count": 37,
   "id": "e4ed1c2e",
   "metadata": {},
   "outputs": [],
   "source": [
    "%matplotlib inline \n",
    "import matplotlib.pyplot as plt"
   ]
  },
  {
   "cell_type": "markdown",
   "id": "e33fa251",
   "metadata": {},
   "source": [
    "# Correlate .doric loaded into numpy vs .tif loaded directly."
   ]
  },
  {
   "cell_type": "code",
   "execution_count": null,
   "id": "9d8aba8b",
   "metadata": {},
   "outputs": [],
   "source": [
    "tif_file = r'D:\\05_02_2022_13_40_25_VWheel_MM_220121_a_fixed0_gabor_mini.tif'\n",
    "doric_file = r'D:\\05_02_2022_13_40_25_VWheel_MM_220121_a_fixed0_gabor_mini.doric'"
   ]
  },
  {
   "cell_type": "code",
   "execution_count": null,
   "id": "1439d2ba",
   "metadata": {},
   "outputs": [],
   "source": [
    "import functions_doric as fdor\n",
    "import tifffile"
   ]
  },
  {
   "cell_type": "code",
   "execution_count": null,
   "id": "c4f73f55",
   "metadata": {},
   "outputs": [],
   "source": [
    "# load doric file\n",
    "doric_data = fdor.extract_doric(doric_file)\n",
    "doric_data = doric_data[0]['Data'][0]['Data']\n",
    "# permute to leave frames as the first dimension\n",
    "doric_data = np.transpose(doric_data, [2, 0, 1])"
   ]
  },
  {
   "cell_type": "code",
   "execution_count": null,
   "id": "736a3639",
   "metadata": {},
   "outputs": [],
   "source": [
    "# load doric file\n",
    "tif_data = tifffile.imread(tif_file)"
   ]
  },
  {
   "cell_type": "code",
   "execution_count": null,
   "id": "0e490b7c",
   "metadata": {},
   "outputs": [],
   "source": [
    "print(tif_data.shape)\n",
    "print(doric_data.shape)"
   ]
  },
  {
   "cell_type": "code",
   "execution_count": null,
   "id": "1c5dedc7",
   "metadata": {},
   "outputs": [],
   "source": [
    "# check if arrays contain the same values\n",
    "print(np.array_equal(doric_data, tif_data))"
   ]
  },
  {
   "cell_type": "code",
   "execution_count": null,
   "id": "a0e03390",
   "metadata": {},
   "outputs": [],
   "source": [
    "plt.imshow(np.corrcoef(doric_data[0, :], tif_data[0, :]))"
   ]
  },
  {
   "cell_type": "code",
   "execution_count": null,
   "id": "ce9dd9d1",
   "metadata": {},
   "outputs": [],
   "source": [
    "from skimage.feature import match_template, register_translation"
   ]
  },
  {
   "cell_type": "code",
   "execution_count": null,
   "id": "d4d01470",
   "metadata": {},
   "outputs": [],
   "source": [
    "shift, error, diffphase = register_translation(doric_data, tif_data, 1)"
   ]
  },
  {
   "cell_type": "code",
   "execution_count": null,
   "id": "3b36fae2",
   "metadata": {},
   "outputs": [],
   "source": [
    "\n",
    "image_product = np.fft.fft2(doric_data[5000,:]) * np.fft.fft2(tif_data[5000,:]).conj()\n",
    "cc_image = np.fft.fftshift(np.fft.ifft2(image_product))\n",
    "plt.imshow(cc_image.real)"
   ]
  },
  {
   "cell_type": "code",
   "execution_count": null,
   "id": "76cc68a9",
   "metadata": {},
   "outputs": [],
   "source": [
    "[np.corrcoef(doric_data[:, 0, 0], tif_data[:, 0, 0]) for i in doric_data.shape[0]] "
   ]
  },
  {
   "cell_type": "code",
   "execution_count": null,
   "id": "e499f509",
   "metadata": {},
   "outputs": [],
   "source": [
    "corr = ss.correlate(doric_data[:, 0, 0], tif_data[:, 0, 0])\n",
    "lags = ss.correlation_lags(len(doric_data[:, 0, 0]), len(tif_data[:, 0, 0]))\n",
    "corr = corr / np.max(corr)"
   ]
  },
  {
   "cell_type": "code",
   "execution_count": null,
   "id": "a6d86911",
   "metadata": {},
   "outputs": [],
   "source": [
    "plt.plot(lags, corr)"
   ]
  },
  {
   "cell_type": "code",
   "execution_count": null,
   "id": "2888cfce",
   "metadata": {},
   "outputs": [],
   "source": [
    "plt.imshow(doric_data[0, :])"
   ]
  },
  {
   "cell_type": "code",
   "execution_count": null,
   "id": "16eac95b",
   "metadata": {},
   "outputs": [],
   "source": [
    "plt.imshow(tif_data[0, :])"
   ]
  },
  {
   "cell_type": "code",
   "execution_count": null,
   "id": "c1c7455a",
   "metadata": {},
   "outputs": [],
   "source": [
    "corr = ss.correlate2d(doric_data[0, :], \n",
    "                      tif_data[0, :],\n",
    "                      boundary='symm',\n",
    "                      mode='full')"
   ]
  },
  {
   "cell_type": "markdown",
   "id": "a0e304c9",
   "metadata": {},
   "source": [
    "# Check distributions of values between files acquired as tif and those converted from .doric"
   ]
  },
  {
   "cell_type": "code",
   "execution_count": 33,
   "id": "6af83020",
   "metadata": {},
   "outputs": [],
   "source": [
    "def get_ca_data_from_h5(path):\n",
    "    with h5py.File(path, 'r') as f:\n",
    "        calcium = f[('C')][:]\n",
    "        footprints = f[('A')][:]\n",
    "        \n",
    "    return calcium, footprints"
   ]
  },
  {
   "cell_type": "code",
   "execution_count": 34,
   "id": "a41585cb",
   "metadata": {},
   "outputs": [],
   "source": [
    "old_ca_file = r'D:\\04_12_2022_MM_220121_a_calciumday.hdf5'\n",
    "new_ca_file = r'D:\\05_03_2022_MM_220121_a_calciumday.hdf5'"
   ]
  },
  {
   "cell_type": "code",
   "execution_count": 35,
   "id": "daed6389",
   "metadata": {},
   "outputs": [],
   "source": [
    "old_ca, old_rois = get_ca_data_from_h5(old_ca_file)\n",
    "new_ca, new_rois = get_ca_data_from_h5(new_ca_file)"
   ]
  },
  {
   "cell_type": "code",
   "execution_count": 38,
   "id": "7b439706",
   "metadata": {},
   "outputs": [
    {
     "data": {
      "text/plain": [
       "(array([[68.,  0.,  0., ...,  0.,  0.,  0.],\n",
       "        [68.,  0.,  0., ...,  0.,  0.,  0.],\n",
       "        [68.,  0.,  0., ...,  0.,  0.,  0.],\n",
       "        ...,\n",
       "        [60.,  6.,  2., ...,  0.,  0.,  0.],\n",
       "        [60.,  6.,  2., ...,  0.,  0.,  0.],\n",
       "        [60.,  7.,  1., ...,  0.,  0.,  0.]]),\n",
       " array([ 0.        ,  3.30972673,  6.61945345,  9.92918018, 13.23890691,\n",
       "        16.54863363, 19.85836036, 23.16808709, 26.47781381, 29.78754054,\n",
       "        33.09726727]),\n",
       " <a list of 12541 BarContainer objects>)"
      ]
     },
     "execution_count": 38,
     "metadata": {},
     "output_type": "execute_result"
    },
    {
     "data": {
      "image/png": "[encoded data removed]",
      "text/plain": [
       "<Figure size 432x288 with 1 Axes>"
      ]
     },
     "metadata": {
      "needs_background": "light"
     },
     "output_type": "display_data"
    }
   ],
   "source": [
    "plt.hist(old_ca)\n",
    "plt.show()"
   ]
  },
  {
   "cell_type": "code",
   "execution_count": 39,
   "id": "f3b39344",
   "metadata": {},
   "outputs": [
    {
     "data": {
      "image/png": "[encoded data removed]",
      "text/plain": [
       "<Figure size 432x288 with 1 Axes>"
      ]
     },
     "metadata": {
      "needs_background": "light"
     },
     "output_type": "display_data"
    }
   ],
   "source": [
    "plt.hist(new_ca)\n",
    "plt.show()"
   ]
  },
  {
   "cell_type": "code",
   "execution_count": 3,
   "id": "fdda2730",
   "metadata": {},
   "outputs": [],
   "source": [
    "a = pd.read_hdf(r'D:\\04_12_2022_13_58_22_VWheel_MM_220117_a_fixed0_gabor_dlc.h5')"
   ]
  },
  {
   "cell_type": "code",
   "execution_count": 9,
   "id": "05a0df40",
   "metadata": {},
   "outputs": [
    {
     "data": {
      "text/plain": [
       "Index(['LED', 'eyeCornerNasal', 'eyeCornerTemporal', 'eyelidBottom',\n",
       "       'eyelidTop', 'pupilBottom', 'pupilBottomLeft', 'pupilBottomRight',\n",
       "       'pupilCenter', 'pupilLeft', 'pupilRight', 'pupilTop', 'pupilTopLeft',\n",
       "       'pupilTopRight'],\n",
       "      dtype='object', name='bodyparts')"
      ]
     },
     "execution_count": 9,
     "metadata": {},
     "output_type": "execute_result"
    }
   ],
   "source": [
    "a.columns.levels[-2]"
   ]
  },
  {
   "cell_type": "code",
   "execution_count": null,
   "id": "37a366bf",
   "metadata": {},
   "outputs": [],
   "source": []
  }
 ],
 "metadata": {
  "kernelspec": {
   "display_name": "Python [conda env:prey_capture] *",
   "language": "python",
   "name": "conda-env-prey_capture-py"
  },
  "language_info": {
   "codemirror_mode": {
    "name": "ipython",
    "version": 3
   },
   "file_extension": ".py",
   "mimetype": "text/x-python",
   "name": "python",
   "nbconvert_exporter": "python",
   "pygments_lexer": "ipython3",
   "version": "3.8.8"
  },
  "varInspector": {
   "cols": {
    "lenName": 16,
    "lenType": 16,
    "lenVar": 40
   },
   "kernels_config": {
    "python": {
     "delete_cmd_postfix": "",
     "delete_cmd_prefix": "del ",
     "library": "var_list.py",
     "varRefreshCmd": "print(var_dic_list())"
    },
    "r": {
     "delete_cmd_postfix": ") ",
     "delete_cmd_prefix": "rm(",
     "library": "var_list.r",
     "varRefreshCmd": "cat(var_dic_list()) "
    }
   },
   "position": {
    "height": "264.85px",
    "left": "1550px",
    "right": "20px",
    "top": "120px",
    "width": "350px"
   },
   "types_to_exclude": [
    "module",
    "function",
    "builtin_function_or_method",
    "instance",
    "_Feature"
   ],
   "window_display": true
  }
 },
 "nbformat": 4,
 "nbformat_minor": 5
}

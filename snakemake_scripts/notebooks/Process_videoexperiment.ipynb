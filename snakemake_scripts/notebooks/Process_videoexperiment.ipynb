{
 "cells": [
  {
   "cell_type": "markdown",
   "metadata": {},
   "source": [
    "\n",
    "# Process raw avi videos via the trained DLC network"
   ]
  },
  {
   "cell_type": "code",
   "execution_count": 21,
   "metadata": {},
   "outputs": [],
   "source": [
    "# imports\n",
    "import os\n",
    "import sys\n",
    "sys.path.insert(0, os.path.abspath(r'D:\\Code Repos\\prey_capture'))\n",
    "\n",
    "import shutil\n",
    "import deeplabcut as dlc\n",
    "import paths\n",
    "import functions_bondjango as bd\n",
    "import functions_misc as fm\n",
    "import yaml\n",
    "\n",
    "# define the config_path\n",
    "config_path = paths.config_path"
   ]
  },
  {
   "cell_type": "code",
   "execution_count": 42,
   "metadata": {},
   "outputs": [],
   "source": [
    "try:\n",
    "    # get the target video path\n",
    "    video_path = snakemake.input[0]\n",
    "    out_path = snakemake.output[0]\n",
    "    video_data = yaml.load(snakemake.params.file_info, Loader=yaml.FullLoader)\n",
    "\n",
    "except NameError:\n",
    "    # define the search string\n",
    "    search_string = 'result:succ, lighting:normal, rig:miniscope, imaging:doric'\n",
    "    # query the database for data to plot\n",
    "    data_all = bd.query_database('video_experiment', search_string)\n",
    "    video_data = data_all[0]\n",
    "    video_path = video_data['avi_path']\n",
    "    # assemble the output path\n",
    "    out_path = video_path.replace('.avi', '_dlc.h5')"
   ]
  },
  {
   "cell_type": "code",
   "execution_count": 14,
   "metadata": {},
   "outputs": [
    {
     "name": "stdout",
     "output_type": "stream",
     "text": [
      "Using snapshot-300000 for model D:\\DLC_projects\\Prey_capture\\Prey_capture-Drago Guggiana-2020-03-26\\dlc-models\\iteration-1\\Prey_captureMar26-trainset95shuffle1\n",
      "Initializing ResNet\n",
      "INFO:tensorflow:Restoring parameters from D:\\DLC_projects\\Prey_capture\\Prey_capture-Drago Guggiana-2020-03-26\\dlc-models\\iteration-1\\Prey_captureMar26-trainset95shuffle1\\train\\snapshot-300000\n"
     ]
    },
    {
     "name": "stderr",
     "output_type": "stream",
     "text": [
      "INFO:tensorflow:Restoring parameters from D:\\DLC_projects\\Prey_capture\\Prey_capture-Drago Guggiana-2020-03-26\\dlc-models\\iteration-1\\Prey_captureMar26-trainset95shuffle1\\train\\snapshot-300000\n",
      "  0%|                                                                                                                                                              | 0/735 [00:00<?, ?it/s]"
     ]
    },
    {
     "name": "stdout",
     "output_type": "stream",
     "text": [
      "Starting to analyze %  J:\\Drago Guggiana Nilo\\Prey_capture\\VideoExperiment\\03_13_2020_14_00_19_miniscope_MM_200129_b_succ.avi\n",
      "Loading  J:\\Drago Guggiana Nilo\\Prey_capture\\VideoExperiment\\03_13_2020_14_00_19_miniscope_MM_200129_b_succ.avi\n",
      "Duration of video [s]:  24.5 , recorded with  30.0 fps!\n",
      "Overall # of frames:  735  found with (before cropping) frame dimensions:  1280 1024\n",
      "Starting to extract posture\n"
     ]
    },
    {
     "name": "stderr",
     "output_type": "stream",
     "text": [
      "740it [03:58,  3.05it/s]                                                                                                                                                                   "
     ]
    },
    {
     "name": "stdout",
     "output_type": "stream",
     "text": [
      "Detected frames:  735\n"
     ]
    },
    {
     "name": "stderr",
     "output_type": "stream",
     "text": [
      "\r",
      "740it [04:00,  3.07it/s]"
     ]
    },
    {
     "name": "stdout",
     "output_type": "stream",
     "text": [
      "Saving results in J:\\Drago Guggiana Nilo\\Prey_capture\\VideoExperiment...\n",
      "The videos are analyzed. Now your research can truly start! \n",
      " You can create labeled videos with 'create_labeled_video'.\n",
      "If the tracking is not satisfactory for some videos, consider expanding the training set. You can use the function 'extract_outlier_frames' to extract any outlier frames!\n"
     ]
    },
    {
     "name": "stderr",
     "output_type": "stream",
     "text": [
      "\n"
     ]
    },
    {
     "data": {
      "text/plain": [
       "'DLC_resnet50_Prey_captureMar26shuffle1_300000'"
      ]
     },
     "execution_count": 14,
     "metadata": {},
     "output_type": "execute_result"
    }
   ],
   "source": [
    "# analyze the video\n",
    "# dlc.analyze_videos?\n",
    "dlc.analyze_videos(config_path, [video_path], destfolder=paths.temp_path)"
   ]
  },
  {
   "cell_type": "code",
   "execution_count": 9,
   "metadata": {},
   "outputs": [],
   "source": [
    "# filter the data\n",
    "dlc.filterpredictions(config_path, [video_path],filtertype='median', \n",
    "                      windowlength=11, destfolder=paths.temp_path, save_as_csv=False)\n",
    "# dlc.filterpredictions?"
   ]
  },
  {
   "cell_type": "code",
   "execution_count": 48,
   "metadata": {},
   "outputs": [
    {
     "data": {
      "text/plain": [
       "'J:\\\\Drago Guggiana Nilo\\\\Prey_capture\\\\VideoExperiment\\\\03_13_2020_14_00_19_miniscope_MM_200129_b_succ_dlc.h5'"
      ]
     },
     "execution_count": 48,
     "metadata": {},
     "output_type": "execute_result"
    }
   ],
   "source": [
    "# move and rename the file\n",
    "\n",
    "# get a list of the files present in the temp folder\n",
    "origin_file = [el for el in os.listdir(paths.temp_path) if ('filtered.h5' in el) and (video_data['slug'] in fm.slugify(el))]\n",
    "\n",
    "assert len(origin_file) > 0, 'The target file was not found'\n",
    "\n",
    "# rename the file to the final path\n",
    "shutil.move(os.path.join(paths.temp_path, origin_file[0]), out_path)"
   ]
  },
  {
   "cell_type": "code",
   "execution_count": 49,
   "metadata": {},
   "outputs": [
    {
     "name": "stdout",
     "output_type": "stream",
     "text": [
      "200\n"
     ]
    }
   ],
   "source": [
    "# update the bondjango entry (need to sort out some fields)\n",
    "ori_data = video_data.copy()\n",
    "ori_data['dlc_path'] = out_path\n",
    "mouse = ori_data['mouse']\n",
    "ori_data['mouse'] = '/'.join((paths.bondjango_url, 'mouse', mouse, ''))\n",
    "ori_data['experiment_type'] = '/'.join((paths.bondjango_url, 'experiment_type', 'Free_behavior', ''))\n",
    "\n",
    "update_url = '/'.join((paths.bondjango_url, 'video_experiment', ori_data['slug'], ''))\n",
    "output_entry = bd.update_entry(update_url, ori_data)\n",
    "\n",
    "print(output_entry.status_code)"
   ]
  }
 ],
 "metadata": {
  "kernelspec": {
   "display_name": "Python [conda env:DLC-GPU]",
   "language": "python",
   "name": "conda-env-DLC-GPU-py"
  },
  "language_info": {
   "codemirror_mode": {
    "name": "ipython",
    "version": 3
   },
   "file_extension": ".py",
   "mimetype": "text/x-python",
   "name": "python",
   "nbconvert_exporter": "python",
   "pygments_lexer": "ipython3",
   "version": "3.7.7"
  }
 },
 "nbformat": 4,
 "nbformat_minor": 4
}

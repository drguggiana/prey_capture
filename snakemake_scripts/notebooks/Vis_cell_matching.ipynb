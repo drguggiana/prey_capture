{
 "cells": [
  {
   "cell_type": "code",
   "execution_count": 3,
   "id": "0bca55d8",
   "metadata": {},
   "outputs": [
    {
     "name": "stderr",
     "output_type": "stream",
     "text": [
      "WARNING:param.main: pandas could not register all extension types imports failed with the following error: cannot import name 'ABCIndexClass' from 'pandas.core.dtypes.generic' (C:\\Users\\drguggiana\\.conda\\envs\\caiman\\lib\\site-packages\\pandas\\core\\dtypes\\generic.py)\n",
      "C:\\Users\\drguggiana\\.conda\\envs\\caiman\\lib\\site-packages\\tensorflow\\python\\framework\\dtypes.py:516: FutureWarning: Passing (type, 1) or '1type' as a synonym of type is deprecated; in a future version of numpy, it will be understood as (type, (1,)) / '(1,)type'.\n",
      "  _np_qint8 = np.dtype([(\"qint8\", np.int8, 1)])\n",
      "C:\\Users\\drguggiana\\.conda\\envs\\caiman\\lib\\site-packages\\tensorflow\\python\\framework\\dtypes.py:517: FutureWarning: Passing (type, 1) or '1type' as a synonym of type is deprecated; in a future version of numpy, it will be understood as (type, (1,)) / '(1,)type'.\n",
      "  _np_quint8 = np.dtype([(\"quint8\", np.uint8, 1)])\n",
      "C:\\Users\\drguggiana\\.conda\\envs\\caiman\\lib\\site-packages\\tensorflow\\python\\framework\\dtypes.py:518: FutureWarning: Passing (type, 1) or '1type' as a synonym of type is deprecated; in a future version of numpy, it will be understood as (type, (1,)) / '(1,)type'.\n",
      "  _np_qint16 = np.dtype([(\"qint16\", np.int16, 1)])\n",
      "C:\\Users\\drguggiana\\.conda\\envs\\caiman\\lib\\site-packages\\tensorflow\\python\\framework\\dtypes.py:519: FutureWarning: Passing (type, 1) or '1type' as a synonym of type is deprecated; in a future version of numpy, it will be understood as (type, (1,)) / '(1,)type'.\n",
      "  _np_quint16 = np.dtype([(\"quint16\", np.uint16, 1)])\n",
      "C:\\Users\\drguggiana\\.conda\\envs\\caiman\\lib\\site-packages\\tensorflow\\python\\framework\\dtypes.py:520: FutureWarning: Passing (type, 1) or '1type' as a synonym of type is deprecated; in a future version of numpy, it will be understood as (type, (1,)) / '(1,)type'.\n",
      "  _np_qint32 = np.dtype([(\"qint32\", np.int32, 1)])\n",
      "C:\\Users\\drguggiana\\.conda\\envs\\caiman\\lib\\site-packages\\tensorflow\\python\\framework\\dtypes.py:525: FutureWarning: Passing (type, 1) or '1type' as a synonym of type is deprecated; in a future version of numpy, it will be understood as (type, (1,)) / '(1,)type'.\n",
      "  np_resource = np.dtype([(\"resource\", np.ubyte, 1)])\n",
      "C:\\Users\\drguggiana\\.conda\\envs\\caiman\\lib\\site-packages\\tensorboard\\compat\\tensorflow_stub\\dtypes.py:541: FutureWarning: Passing (type, 1) or '1type' as a synonym of type is deprecated; in a future version of numpy, it will be understood as (type, (1,)) / '(1,)type'.\n",
      "  _np_qint8 = np.dtype([(\"qint8\", np.int8, 1)])\n",
      "C:\\Users\\drguggiana\\.conda\\envs\\caiman\\lib\\site-packages\\tensorboard\\compat\\tensorflow_stub\\dtypes.py:542: FutureWarning: Passing (type, 1) or '1type' as a synonym of type is deprecated; in a future version of numpy, it will be understood as (type, (1,)) / '(1,)type'.\n",
      "  _np_quint8 = np.dtype([(\"quint8\", np.uint8, 1)])\n",
      "C:\\Users\\drguggiana\\.conda\\envs\\caiman\\lib\\site-packages\\tensorboard\\compat\\tensorflow_stub\\dtypes.py:543: FutureWarning: Passing (type, 1) or '1type' as a synonym of type is deprecated; in a future version of numpy, it will be understood as (type, (1,)) / '(1,)type'.\n",
      "  _np_qint16 = np.dtype([(\"qint16\", np.int16, 1)])\n",
      "C:\\Users\\drguggiana\\.conda\\envs\\caiman\\lib\\site-packages\\tensorboard\\compat\\tensorflow_stub\\dtypes.py:544: FutureWarning: Passing (type, 1) or '1type' as a synonym of type is deprecated; in a future version of numpy, it will be understood as (type, (1,)) / '(1,)type'.\n",
      "  _np_quint16 = np.dtype([(\"quint16\", np.uint16, 1)])\n",
      "C:\\Users\\drguggiana\\.conda\\envs\\caiman\\lib\\site-packages\\tensorboard\\compat\\tensorflow_stub\\dtypes.py:545: FutureWarning: Passing (type, 1) or '1type' as a synonym of type is deprecated; in a future version of numpy, it will be understood as (type, (1,)) / '(1,)type'.\n",
      "  _np_qint32 = np.dtype([(\"qint32\", np.int32, 1)])\n",
      "C:\\Users\\drguggiana\\.conda\\envs\\caiman\\lib\\site-packages\\tensorboard\\compat\\tensorflow_stub\\dtypes.py:550: FutureWarning: Passing (type, 1) or '1type' as a synonym of type is deprecated; in a future version of numpy, it will be understood as (type, (1,)) / '(1,)type'.\n",
      "  np_resource = np.dtype([(\"resource\", np.ubyte, 1)])\n"
     ]
    }
   ],
   "source": [
    "# imports\n",
    "import os\n",
    "import sys\n",
    "sys.path.insert(0, os.path.abspath(r'D:\\Code Repos\\prey_capture'))\n",
    "import functions_bondjango as bd\n",
    "import paths\n",
    "import os\n",
    "from caiman.base.rois import register_multisession\n",
    "\n",
    "import h5py\n",
    "import numpy as np\n",
    "import functions_misc as fm\n",
    "import processing_parameters\n",
    "import sys\n",
    "import re\n",
    "import json\n",
    "import functions_plotting as fplot\n",
    "import processing_parameters"
   ]
  },
  {
   "cell_type": "code",
   "execution_count": 4,
   "id": "7f4700ed",
   "metadata": {},
   "outputs": [
    {
     "name": "stdout",
     "output_type": "stream",
     "text": [
      "3\n"
     ]
    }
   ],
   "source": [
    "# load the data\n",
    "\n",
    "# define the target files\n",
    "# get the search string\n",
    "animal = processing_parameters.animal\n",
    "rig = processing_parameters.rig\n",
    "search_string = 'slug:%s, analysis_type:calciumday' % (fm.slugify(animal))\n",
    "# query the database for data to plot\n",
    "data_all = bd.query_database('analyzed_data', search_string)\n",
    "# get the paths to the files\n",
    "calcium_path = [el['analysis_path'] for el in data_all]\n",
    "# # for testing, filter calcium path\n",
    "calcium_path = [el for el in calcium_path if ('03_24' in el) or ('03_23' in el) or ('03_29' in el)]\n",
    "\n",
    "# load the data for the matching\n",
    "footprint_list = []\n",
    "size_list = []\n",
    "template_list = []\n",
    "# # also store the frame lists\n",
    "# frame_lists = []\n",
    "# also store the date for each file\n",
    "date_list = []\n",
    "# load the calcium data\n",
    "for files in calcium_path:\n",
    "    with h5py.File(files, mode='r') as f:\n",
    "        try:\n",
    "            calcium_data = np.array(f['A'])\n",
    "        except KeyError:\n",
    "            continue\n",
    "\n",
    "        # if there are no ROIs, skip\n",
    "        if (type(calcium_data) == np.ndarray) and (calcium_data == 'no_ROIs'):\n",
    "            continue\n",
    "        footprint_list.append(np.moveaxis(calcium_data, 0, -1).reshape((-1, calcium_data.shape[0])))\n",
    "        size_list.append(calcium_data.shape[1:])\n",
    "        template_list.append(np.zeros(size_list[0]))\n",
    "        # template_list.append(np.array(f['max_proj']))\n",
    "        date_list.append(os.path.basename(files)[:10])\n",
    "        # frame_lists.append(np.array(f['frame_list']))\n",
    "print(f'Number of days selected: {len(footprint_list)}')"
   ]
  },
  {
   "cell_type": "code",
   "execution_count": 5,
   "id": "7d8cf66c",
   "metadata": {},
   "outputs": [
    {
     "name": "stderr",
     "output_type": "stream",
     "text": [
      "C:\\Users\\drguggiana\\.conda\\envs\\caiman\\lib\\site-packages\\caiman\\base\\rois.py:438: RuntimeWarning: invalid value encountered in true_divide\n",
      "  template1 /= template1.max()\n",
      "C:\\Users\\drguggiana\\.conda\\envs\\caiman\\lib\\site-packages\\caiman\\base\\rois.py:440: RuntimeWarning: invalid value encountered in true_divide\n",
      "  template2 /= template2.max()\n",
      "C:\\Users\\drguggiana\\.conda\\envs\\caiman\\lib\\site-packages\\scipy\\sparse\\_index.py:125: SparseEfficiencyWarning: Changing the sparsity structure of a csc_matrix is expensive. lil_matrix is more efficient.\n",
      "  self._set_arrayXarray(i, j, x)\n"
     ]
    }
   ],
   "source": [
    "# run cell matching\n",
    "\n",
    "# run the matching software\n",
    "spatial_union, assignments, matchings = register_multisession(\n",
    "    A=footprint_list, dims=size_list[0], templates=template_list, thresh_cost=1.1)"
   ]
  },
  {
   "cell_type": "code",
   "execution_count": 22,
   "id": "47c92289",
   "metadata": {},
   "outputs": [
    {
     "name": "stdout",
     "output_type": "stream",
     "text": [
      "[[ 0.  0.  1.]\n",
      " [ 1.  1.  0.]\n",
      " [ 2.  2.  2.]\n",
      " [ 3.  3.  4.]\n",
      " [ 4.  4.  3.]\n",
      " [ 5. 11.  9.]\n",
      " [ 6. 13. 10.]\n",
      " [ 7. 17. 13.]\n",
      " [ 8. 16. 12.]\n",
      " [ 9. 19. 16.]\n",
      " [10. 23.  5.]\n",
      " [11.  5. 14.]\n",
      " [12.  6.  7.]\n",
      " [13. 26. 20.]\n",
      " [14. 28. 21.]\n",
      " [15. 29. 17.]\n",
      " [16. 31. 22.]\n",
      " [17. 30. 23.]\n",
      " [18. 34. 25.]\n",
      " [19. 36. 19.]\n",
      " [20.  7. 26.]\n",
      " [21. 38. 27.]\n",
      " [22. 40. 28.]\n",
      " [23.  8.  6.]\n",
      " [24.  9.  8.]\n",
      " [25. 41. 32.]\n",
      " [26. 43. 30.]\n",
      " [27. 44. 34.]\n",
      " [28. 45. 39.]\n",
      " [29. 46. 40.]\n",
      " [30. 51. 33.]\n",
      " [31. 54. 43.]\n",
      " [32. 10. 36.]\n",
      " [33. 12. 11.]\n",
      " [34. 14. 37.]\n",
      " [35. 56. 45.]\n",
      " [36. 15. 31.]\n",
      " [37. 58. 53.]\n",
      " [38. 63. 44.]\n",
      " [39. 18. 15.]\n",
      " [40. 65. 60.]\n",
      " [41. 69. 47.]\n",
      " [42. 20. 48.]\n",
      " [43. 21. 49.]\n",
      " [44. 84. 50.]\n",
      " [45. 81. 52.]\n",
      " [46. 22. 35.]\n",
      " [nan 24. 55.]\n",
      " [nan 25. 18.]\n",
      " [nan 27. 57.]\n",
      " [nan 32. 58.]\n",
      " [nan 33. 24.]\n",
      " [nan 35. 59.]\n",
      " [nan 37. 29.]\n",
      " [nan 39. 61.]\n",
      " [nan 42. 63.]\n",
      " [nan 47. 41.]\n",
      " [nan 48. 38.]\n",
      " [nan 49. 65.]\n",
      " [nan 50. 42.]\n",
      " [nan 52. 67.]\n",
      " [nan 53. 70.]\n",
      " [nan 55. 46.]\n",
      " [nan 57. 51.]\n",
      " [nan 59. 54.]\n",
      " [nan 60. 72.]\n",
      " [nan 61. 56.]\n",
      " [nan 62. nan]\n",
      " [nan 64. nan]\n",
      " [nan 66. nan]\n",
      " [nan 67. nan]\n",
      " [nan 68. nan]\n",
      " [nan 70. nan]\n",
      " [nan 71. 62.]\n",
      " [nan 72. 66.]\n",
      " [nan 73. 64.]\n",
      " [nan 74. nan]\n",
      " [nan 75. nan]\n",
      " [nan 76. nan]\n",
      " [nan 77. nan]\n",
      " [nan 78. nan]\n",
      " [nan 79. nan]\n",
      " [nan 80. nan]\n",
      " [nan 82. nan]\n",
      " [nan 83. 68.]\n",
      " [nan 85. 69.]\n",
      " [nan 86. 71.]\n",
      " [nan 87. nan]\n",
      " [nan 88. nan]\n",
      " [nan 89. nan]\n",
      " [nan 90. nan]]\n"
     ]
    },
    {
     "data": {
      "image/png": "[encoded data removed]",
      "text/plain": [
       "<Figure size 600x400 with 1 Axes>"
      ]
     },
     "execution_count": 22,
     "metadata": {},
     "output_type": "execute_result"
    },
    {
     "data": {
      "image/png": "[encoded data removed]",
      "text/plain": [
       "<Figure size 600x400 with 1 Axes>"
      ]
     },
     "metadata": {
      "needs_background": "light"
     },
     "output_type": "display_data"
    }
   ],
   "source": [
    "# visualize cell matching\n",
    "\n",
    "#print(footprint_list[0].shape)\n",
    "#print(size_list[0])\n",
    "print(assignments)\n",
    "#print(matchings)\n",
    "target_image = spatial_union[:, 41].reshape((630, 630))\n",
    "fplot.plot_image([target_image])\n",
    "\n",
    "# generate the colors for all the cells\n",
    "\n",
    "\n",
    "# for all the units\n",
    "# for all the trials\n",
    "for trial in footprint_list:\n",
    "    "
   ]
  }
 ],
 "metadata": {
  "kernelspec": {
   "display_name": "Python [conda env:.conda-caiman]",
   "language": "python",
   "name": "conda-env-.conda-caiman-py"
  },
  "language_info": {
   "codemirror_mode": {
    "name": "ipython",
    "version": 3
   },
   "file_extension": ".py",
   "mimetype": "text/x-python",
   "name": "python",
   "nbconvert_exporter": "python",
   "pygments_lexer": "ipython3",
   "version": "3.7.10"
  }
 },
 "nbformat": 4,
 "nbformat_minor": 5
}

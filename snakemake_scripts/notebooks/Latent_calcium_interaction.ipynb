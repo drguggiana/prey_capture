{
 "cells": [
  {
   "cell_type": "code",
   "execution_count": null,
   "id": "a8759548",
   "metadata": {},
   "outputs": [],
   "source": [
    "# imports\n",
    "import os\n",
    "import sys\n",
    "sys.path.insert(0, os.path.abspath(r'D:\\Code Repos\\prey_capture'))\n",
    "\n",
    "import panel as pn\n",
    "import holoviews as hv\n",
    "from bokeh.io import export_svgs, export_png\n",
    "from holoviews import opts, dim\n",
    "from holoviews.operation import histogram\n",
    "hv.extension('bokeh')\n",
    "from bokeh.resources import INLINE\n",
    "\n",
    "import importlib\n",
    "import processing_parameters\n",
    "import datetime\n",
    "\n",
    "import functions_bondjango as bd\n",
    "import functions_plotting as fp\n",
    "import functions_loaders as fl\n",
    "import pandas as pd\n",
    "import numpy as np\n",
    "from pprint import pprint\n",
    "import paths\n",
    "import random\n",
    "import scipy.stats as stat\n",
    "import umap\n",
    "from scipy.signal import medfilt\n",
    "\n",
    "pd.options.mode.chained_assignment = None  # default='warn'"
   ]
  },
  {
   "cell_type": "code",
   "execution_count": null,
   "id": "083a9d86",
   "metadata": {},
   "outputs": [],
   "source": [
    "# set up the figure config\n",
    "importlib.reload(fp)\n",
    "importlib.reload(processing_parameters)\n",
    "# define the target saving path\n",
    "save_path = os.path.join(paths.figures_path, 'Latent_calcium_interaction')\n",
    "\n",
    "# define the printing mode\n",
    "save_mode = True\n",
    "# define the target document\n",
    "target_document = 'poster'\n",
    "# set up the figure theme\n",
    "fp.set_theme()\n",
    "# load the label dict\n",
    "label_dict = processing_parameters.label_dictionary\n",
    "variable_list = processing_parameters.variable_list"
   ]
  },
  {
   "cell_type": "code",
   "execution_count": null,
   "id": "e715f3c9",
   "metadata": {},
   "outputs": [],
   "source": [
    "%%time\n",
    "# load the data\n",
    "\n",
    "importlib.reload(fl)\n",
    "importlib.reload(processing_parameters)\n",
    "# get the paths\n",
    "path_list, query_list = fl.query_search_list()\n",
    "\n",
    "# get the data\n",
    "full_df = []\n",
    "frame_list = []\n",
    "meta_list = []\n",
    "\n",
    "# for all the paths and queries\n",
    "for path, query in zip(path_list, query_list):\n",
    "\n",
    "    data, frames, meta = fl.load_preprocessing(path, query, behavior_flag=True)\n",
    "    \n",
    "    # for all the trials in data\n",
    "    for trial in data:\n",
    "        # TODO: fix this in the actual function\n",
    "        if 'badFile' in trial.columns:\n",
    "            continue\n",
    "        if 'sync_frames' in trial.columns:\n",
    "            trial = trial.drop(columns=['sync_frames'])\n",
    "        if 'latent_0' not in trial.columns:\n",
    "            continue\n",
    "\n",
    "#         not_cells = [el for el in trial.columns if 'cell' not in el]\n",
    "#         no_cells_trial = trial[not_cells]\n",
    "        # remove the nan rows in the latents\n",
    "        latents = [el for el in trial.columns if 'latent' in el]\n",
    "        no_nan_vector = ~np.isnan(np.sum(trial[latents].to_numpy(), axis=1))\n",
    "        no_nan_trial = trial.iloc[no_nan_vector, :]\n",
    "\n",
    "        full_df.append(no_nan_trial)\n",
    "        \n",
    "    frame_list.append(frames)\n",
    "    meta_list.append(meta)\n",
    "\n",
    "print(len(full_df))\n"
   ]
  },
  {
   "cell_type": "code",
   "execution_count": null,
   "id": "9e6a6e29",
   "metadata": {},
   "outputs": [],
   "source": [
    "# calculate the relationship between calcium and the latents\n"
   ]
  }
 ],
 "metadata": {
  "kernelspec": {
   "display_name": "Python [conda env:.conda-prey_capture] *",
   "language": "python",
   "name": "conda-env-.conda-prey_capture-py"
  },
  "language_info": {
   "codemirror_mode": {
    "name": "ipython",
    "version": 3
   },
   "file_extension": ".py",
   "mimetype": "text/x-python",
   "name": "python",
   "nbconvert_exporter": "python",
   "pygments_lexer": "ipython3",
   "version": "3.8.8"
  }
 },
 "nbformat": 4,
 "nbformat_minor": 5
}

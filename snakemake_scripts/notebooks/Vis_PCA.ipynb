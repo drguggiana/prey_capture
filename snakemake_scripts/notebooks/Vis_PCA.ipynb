{
 "cells": [
  {
   "cell_type": "markdown",
   "metadata": {},
   "source": [
    "#  PCA and CCA"
   ]
  },
  {
   "cell_type": "code",
   "execution_count": null,
   "metadata": {},
   "outputs": [],
   "source": [
    "import os\n",
    "import sys\n",
    "sys.path.insert(0, os.path.abspath(r'D:\\Code Repos\\prey_capture'))\n",
    "\n",
    "import panel as pn\n",
    "import holoviews as hv\n",
    "from holoviews import opts\n",
    "hv.extension('bokeh')\n",
    "from bokeh.resources import INLINE\n",
    "\n",
    "import functions_bondjango as bd\n",
    "import functions_kinematic as fk\n",
    "import functions_misc as fm\n",
    "import functions_data_handling as fd\n",
    "import pandas as pd\n",
    "import numpy as np\n",
    "import h5py\n",
    "from sklearn.decomposition import PCA\n",
    "# define the name to be used for the saved figures\n",
    "save_name = 'PCA'\n",
    "line_width = 5"
   ]
  },
  {
   "cell_type": "code",
   "execution_count": null,
   "metadata": {},
   "outputs": [],
   "source": [
    "# load the data\n",
    "# get the data paths\n",
    "try:\n",
    "    data_path = snakemake.input[0]\n",
    "except NameError:\n",
    "    # define the search string\n",
    "    search_string = 'result:succ, lighting:normal, rig:miniscope, =analysis_type:aggFullCA'\n",
    "    # query the database for data to plot\n",
    "    data_all = bd.query_database('analyzed_data', search_string)\n",
    "    data_path = data_all[0]['analysis_path']\n",
    "print(data_path)\n",
    "\n",
    "# load the data\n",
    "data = fd.aggregate_loader(data_path)"
   ]
  },
  {
   "cell_type": "code",
   "execution_count": null,
   "metadata": {},
   "outputs": [],
   "source": [
    "hv.extension('plotly')\n",
    "# get the calcium data for this experiment\n",
    "labels = list(calcium.columns)\n",
    "cells = [el for el in labels if 'cell' in el]\n",
    "calcium_data = calcium.loc[:, cells].to_numpy()\n",
    "# create the PCA object\n",
    "pca = PCA(n_components=3)\n",
    "# reduce the dimensionality of the neural activity over time\n",
    "reduced_ca = pca.fit_transform(calcium_data)\n",
    "\n",
    "# plot the trajectory\n",
    "curve3d = hv.Path3D(reduced_ca)*hv.Scatter3D(np.reshape(reduced_ca[0,:],(1,-1)))\n",
    "curve3d"
   ]
  },
  {
   "cell_type": "code",
   "execution_count": null,
   "metadata": {},
   "outputs": [],
   "source": [
    "# allocate dictionaries for both of the projections\n",
    "dict_1 = {}\n",
    "dict_2 = {}\n",
    "\n",
    "\n",
    "# get the dates for this mouse\n",
    "mice = data.keys()\n",
    "\n",
    "# for all the mice\n",
    "for mouse in mice:\n",
    "    # allocate memory for the maps\n",
    "    map_list = []\n",
    "    \n",
    "    # get the dates for this mouse\n",
    "    dates = data[mouse].keys()\n",
    "\n",
    "    # for all the dates\n",
    "    for day in dates:\n",
    "        # get the table\n",
    "        sub_data = data[mouse][day]\n",
    "        # isolate the calcium data\n",
    "        columns = sub_data.columns\n",
    "        cells = [el for el in columns if 'cell' in el]\n",
    "        calcium_data = sub_data[cells].to_numpy()\n",
    "        \n",
    "        # create the PCA object\n",
    "        pca = PCA(n_components=3)\n",
    "        # reduce the dimensionality of the neural activity over time\n",
    "        reduced_ca = pca.fit_transform(calcium_data)\n",
    "        \n",
    "        # plot the 2 projections\n",
    "        projection1 = hv.Curve((reduced_ca[:, 0], reduced_ca[:, 1]), 'PC1', 'PC2')\n",
    "        projection2 = hv.Curve((reduced_ca[:, 0], reduced_ca[:, 2]), 'PC1', 'PC3')\n",
    "        \n",
    "        # store in the dictionary for the holomap\n",
    "        dict_1[(mouse, day)] = projection1\n",
    "        dict_2[(mouse, day)] = projection2\n",
    "\n",
    "# create the holomaps\n",
    "holo1 = hv.HoloMap(dict_1, kdims=['mouse', 'day'])\n",
    "holo2 = hv.HoloMap(dict_2, kdims=['mouse', 'day'])\n",
    "\n",
    "# create the layout\n",
    "holo_image = pn.panel(holo1.opts(shared_axes=False)+\n",
    "                      holo2.opts(shared_axes=False), center=True, \n",
    "                      widget_location='top', widgets={'cell': pn.widgets.DiscreteSlider})\n",
    "\n",
    "holo_image  "
   ]
  }
 ],
 "metadata": {
  "kernelspec": {
   "display_name": "Python 3",
   "language": "python",
   "name": "python3"
  },
  "language_info": {
   "codemirror_mode": {
    "name": "ipython",
    "version": 3
   },
   "file_extension": ".py",
   "mimetype": "text/x-python",
   "name": "python",
   "nbconvert_exporter": "python",
   "pygments_lexer": "ipython3",
   "version": "3.7.3"
  }
 },
 "nbformat": 4,
 "nbformat_minor": 4
}

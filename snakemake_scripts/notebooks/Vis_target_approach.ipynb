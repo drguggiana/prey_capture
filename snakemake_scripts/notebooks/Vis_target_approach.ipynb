{
 "cells": [
  {
   "cell_type": "markdown",
   "metadata": {},
   "source": [
    "# Visualize Target Approach\n",
    "\n",
    "This notebook works for VR target approach experiments where the 2D and 3D stimuli are interleaved (after April 13, 2021)"
   ]
  },
  {
   "cell_type": "code",
   "execution_count": null,
   "metadata": {},
   "outputs": [],
   "source": [
    "import os\n",
    "import sys\n",
    "import h5py\n",
    "\n",
    "import pandas as pd\n",
    "import numpy as np\n",
    "import panel as pn\n",
    "import matplotlib.pyplot as plt\n",
    "from matplotlib.gridspec import GridSpec\n",
    "from tqdm.notebook import tqdm\n",
    "from scipy.stats import sem\n",
    "from datetime import datetime\n",
    "\n",
    "sys.path.insert(0, r'..\\..')\n",
    "import paths\n",
    "import functions_bondjango as bd\n",
    "import functions_kinematic as fk\n",
    "import functions_plotting as fp\n",
    "import functions_preprocessing as fpr\n",
    "import functions_misc as fm\n",
    "import functions_data_handling as fd\n",
    "import functions_vscreens as vs\n",
    "\n",
    "import importlib\n",
    "importlib.reload(vs)\n",
    "\n",
    "line_width = 5"
   ]
  },
  {
   "cell_type": "code",
   "execution_count": null,
   "metadata": {},
   "outputs": [],
   "source": [
    "def thresh_function(param, thres):\n",
    "    return param <= thres"
   ]
  },
  {
   "cell_type": "code",
   "execution_count": null,
   "metadata": {},
   "outputs": [],
   "source": [
    "# define the name to be used for the saved figures\n",
    "save_name = 'VScreen_interleaved'"
   ]
  },
  {
   "cell_type": "code",
   "execution_count": null,
   "metadata": {},
   "outputs": [],
   "source": [
    "# If this data set was already processed\n",
    "trial_approaches = pd.read_hdf(r\"D:/vscreens/\" + save_name, 'data')"
   ]
  },
  {
   "cell_type": "code",
   "execution_count": null,
   "metadata": {},
   "outputs": [],
   "source": [
    "search_params = {'result': 'test',\n",
    "                 'lighting': 'normal',\n",
    "                 'rig': 'VScreen',\n",
    "                 'analysis_type': 'preprocessing',\n",
    "                 'ltdate': '2021-03-22T00-00-00',\n",
    "                 'notes': dimensionality\n",
    "                }\n",
    "\n",
    "search_string = ', '.join(\"{}:{}\".format(key,val) for (key,val) in search_params.items())\n",
    "data = vs.load_VScreens_datasets(search_string, exclusion=\"removedtracker\")"
   ]
  },
  {
   "cell_type": "code",
   "execution_count": null,
   "metadata": {},
   "outputs": [],
   "source": [
    "exp_manipulation_params = ['color_target', 'scale', 'speed']\n",
    "df_columns = ['date', 'animal', 'bin', 'trial_num', 'target_color', 'speed', 'scale', 'approaches', 'has_approach']\n",
    "\n",
    "# encounter_criteria\n",
    "approach_criteria = {'2D': {'distance_threshold':0.05, 'speed_minimum': 0.10, 'start_distance': 0.05, 'window': 2},\n",
    "                     '3D': {'distance_threshold':0.10, 'speed_minimum': 0.10, 'start_distance': 0.05, 'window': 2},\n",
    "                     'cricket': {'distance_threshold':0.10, 'speed_minimum': 0.10, 'start_distance': 0.05, 'window': 2}\n",
    "                     }\n",
    "\n",
    "# This lookup list matches the target types as defined in the Unity scene\n",
    "target_lookup = ['2D', '2D', '2D', '3D', '3D', '3D', 'cricket']"
   ]
  },
  {
   "cell_type": "code",
   "execution_count": null,
   "metadata": {},
   "outputs": [],
   "source": [
    "# For later visualization\n",
    "all_valid_approaches = []\n",
    "all_approaches = []\n",
    "bin_duration = 10    # minutes\n",
    "\n",
    "test_ds = data[3:4]\n",
    "\n",
    "# Make a new data frame\n",
    "approach_df = pd.DataFrame(columns=df_columns)\n",
    "\n",
    "for exp_num, exp in tqdm(enumerate(test_ds), total=len(test_ds)):\n",
    "\n",
    "    # Calculate time bins for each data point in the experiment\n",
    "    exp['traces']['bin'] = vs.calculate_bins(exp['traces']['time_vector'], bin_duration)\n",
    "\n",
    "    # Calculate the distance travelled between each time point in the experiment\n",
    "    exp['traces']['distance_travelled'] = fk.accumulated_distance(exp['traces'][['mouse_x_m', 'mouse_y_m']].to_numpy())\n",
    "        \n",
    "#     # Extract the approaches in this experiment\n",
    "#     experiment_approaches = pd.DataFrame(columns=df_columns)\n",
    "#     experiment_approaches, exp_valid_approaches, all_exp_approaches = vs.extract_experiment_approaches(exp, \n",
    "#                                                                                                   exp_manipulation_params, \n",
    "#                                                                                                   crit, \n",
    "#                                                                                                   thresh_function,\n",
    "#                                                                                                   experiment_approaches\n",
    "#                                                                                                  )\n",
    "    \n",
    "#     approach_df = approach_df.append(experiment_approaches, ignore_index=True)\n",
    "#     all_valid_approaches.append(exp_valid_approaches)\n",
    "#     all_approaches.append(all_exp_approaches)\n",
    "                             \n",
    "        \n",
    "# approach_df.to_hdf(r\"D:/vscreens/\" + save_name, 'data')"
   ]
  }
 ],
 "metadata": {
  "kernelspec": {
   "display_name": "Python [conda env:prey_capture] *",
   "language": "python",
   "name": "conda-env-prey_capture-py"
  },
  "language_info": {
   "codemirror_mode": {
    "name": "ipython",
    "version": 3
   },
   "file_extension": ".py",
   "mimetype": "text/x-python",
   "name": "python",
   "nbconvert_exporter": "python",
   "pygments_lexer": "ipython3",
   "version": "3.7.3"
  },
  "varInspector": {
   "cols": {
    "lenName": 16,
    "lenType": 16,
    "lenVar": 40
   },
   "kernels_config": {
    "python": {
     "delete_cmd_postfix": "",
     "delete_cmd_prefix": "del ",
     "library": "var_list.py",
     "varRefreshCmd": "print(var_dic_list())"
    },
    "r": {
     "delete_cmd_postfix": ") ",
     "delete_cmd_prefix": "rm(",
     "library": "var_list.r",
     "varRefreshCmd": "cat(var_dic_list()) "
    }
   },
   "types_to_exclude": [
    "module",
    "function",
    "builtin_function_or_method",
    "instance",
    "_Feature"
   ],
   "window_display": false
  }
 },
 "nbformat": 4,
 "nbformat_minor": 4
}

{
 "cells": [
  {
   "cell_type": "markdown",
   "metadata": {},
   "source": [
    "# Visualize Target Approach\n",
    "\n",
    "This notebook works for VR target approach experiments where the 2D and 3D stimuli are interleaved (after April 13, 2021)"
   ]
  },
  {
   "cell_type": "code",
   "execution_count": 2,
   "metadata": {},
   "outputs": [],
   "source": [
    "import os\n",
    "import sys\n",
    "import h5py\n",
    "\n",
    "import pandas as pd\n",
    "import numpy as np\n",
    "import panel as pn\n",
    "import matplotlib.pyplot as plt\n",
    "from matplotlib.gridspec import GridSpec\n",
    "from tqdm.notebook import tqdm\n",
    "from scipy.stats import sem\n",
    "from datetime import datetime\n",
    "\n",
    "sys.path.insert(0, r'..\\..')\n",
    "import paths\n",
    "import functions_bondjango as bd\n",
    "import functions_kinematic as fk\n",
    "import functions_plotting as fp\n",
    "import functions_preprocessing as fpr\n",
    "import functions_misc as fm\n",
    "import functions_data_handling as fd\n",
    "import functions_vscreens as vs\n",
    "\n",
    "import importlib\n",
    "importlib.reload(vs)\n",
    "\n",
    "line_width = 5"
   ]
  },
  {
   "cell_type": "code",
   "execution_count": 3,
   "metadata": {},
   "outputs": [],
   "source": [
    "def thresh_function(param, thres):\n",
    "    return param <= thres"
   ]
  },
  {
   "cell_type": "code",
   "execution_count": 4,
   "metadata": {},
   "outputs": [],
   "source": [
    "def remove_trials_end_early(data):\n",
    "    \"\"\"Parse trial params to only include trials that were run if the experiment ended early\"\"\"\n",
    "    num_completed_trials = data['traces']['trails'].unique().to_numpy()\n",
    "    print(max(num_completed_trials))"
   ]
  },
  {
   "cell_type": "code",
   "execution_count": null,
   "metadata": {},
   "outputs": [],
   "source": [
    "# define the name to be used for the saved figures\n",
    "save_name = 'VScreen_interleaved'"
   ]
  },
  {
   "cell_type": "code",
   "execution_count": null,
   "metadata": {},
   "outputs": [],
   "source": [
    "# If this data set was already processed\n",
    "trial_approaches = pd.read_hdf(r\"D:/vscreens/\" + save_name, 'data')"
   ]
  },
  {
   "cell_type": "code",
   "execution_count": 6,
   "metadata": {},
   "outputs": [
    {
     "name": "stdout",
     "output_type": "stream",
     "text": [
      "J:\\Drago Guggiana Nilo\\Prey_capture\\AnalyzedData\\11_23_2020_11_16_30_VScreen_DG_200526_d_test_startTS_CW_preproc.hdf5\n",
      "2020-11-23\n",
      "J:\\Drago Guggiana Nilo\\Prey_capture\\AnalyzedData\\11_17_2020_14_19_03_VScreen_DG_200526_d_test_3D_preproc.hdf5\n",
      "2020-11-17\n",
      "J:\\Drago Guggiana Nilo\\Prey_capture\\AnalyzedData\\11_17_2020_12_51_11_VScreen_DG_200526_c_test_3D_preproc.hdf5\n",
      "2020-11-17\n",
      "J:\\Drago Guggiana Nilo\\Prey_capture\\AnalyzedData\\11_17_2020_11_19_26_VScreen_DG_200526_b_test_3D_preproc.hdf5\n",
      "2020-11-17\n",
      "J:\\Drago Guggiana Nilo\\Prey_capture\\AnalyzedData\\11_17_2020_09_49_42_VScreen_DG_200526_a_test_3D_preproc.hdf5\n",
      "2020-11-17\n",
      "J:\\Drago Guggiana Nilo\\Prey_capture\\AnalyzedData\\11_16_2020_15_09_05_VScreen_DG_200526_d_test_3D_preproc.hdf5\n",
      "2020-11-16\n",
      "J:\\Drago Guggiana Nilo\\Prey_capture\\AnalyzedData\\11_16_2020_13_34_54_VScreen_DG_200526_c_test_3D_preproc.hdf5\n",
      "2020-11-16\n",
      "J:\\Drago Guggiana Nilo\\Prey_capture\\AnalyzedData\\11_16_2020_12_03_30_VScreen_DG_200526_b_test_3D_preproc.hdf5\n",
      "2020-11-16\n",
      "J:\\Drago Guggiana Nilo\\Prey_capture\\AnalyzedData\\11_16_2020_10_07_12_VScreen_DG_200526_a_test_3D_preproc.hdf5\n",
      "2020-11-16\n",
      "J:\\Drago Guggiana Nilo\\Prey_capture\\AnalyzedData\\11_12_2020_15_40_54_VScreen_DG_200526_d_test_2D_preproc.hdf5\n",
      "2020-11-12\n",
      "J:\\Drago Guggiana Nilo\\Prey_capture\\AnalyzedData\\11_12_2020_13_31_20_VScreen_DG_200526_c_test_2D_preproc.hdf5\n",
      "2020-11-12\n",
      "J:\\Drago Guggiana Nilo\\Prey_capture\\AnalyzedData\\11_12_2020_11_55_22_VScreen_DG_200526_b_test_2D_preproc.hdf5\n",
      "2020-11-12\n",
      "J:\\Drago Guggiana Nilo\\Prey_capture\\AnalyzedData\\11_12_2020_10_29_00_VScreen_DG_200526_a_test_2D_preproc.hdf5\n",
      "2020-11-12\n",
      "J:\\Drago Guggiana Nilo\\Prey_capture\\AnalyzedData\\11_11_2020_14_30_08_VScreen_DG_200526_d_test_2D_preproc.hdf5\n",
      "2020-11-11\n",
      "J:\\Drago Guggiana Nilo\\Prey_capture\\AnalyzedData\\11_11_2020_13_02_29_VScreen_DG_200526_c_test_2D_preproc.hdf5\n",
      "2020-11-11\n",
      "J:\\Drago Guggiana Nilo\\Prey_capture\\AnalyzedData\\11_11_2020_11_36_46_VScreen_DG_200526_b_test_2D_preproc.hdf5\n",
      "2020-11-11\n",
      "J:\\Drago Guggiana Nilo\\Prey_capture\\AnalyzedData\\11_11_2020_10_13_02_VScreen_DG_200526_a_test_2D_preproc.hdf5\n",
      "2020-11-11\n",
      "J:\\Drago Guggiana Nilo\\Prey_capture\\AnalyzedData\\11_10_2020_14_18_20_VScreen_DG_200526_d_test_2D_preproc.hdf5\n",
      "2020-11-10\n",
      "J:\\Drago Guggiana Nilo\\Prey_capture\\AnalyzedData\\11_10_2020_12_51_35_VScreen_DG_200526_c_test_2D_preproc.hdf5\n",
      "2020-11-10\n",
      "J:\\Drago Guggiana Nilo\\Prey_capture\\AnalyzedData\\11_10_2020_11_24_19_VScreen_DG_200526_b_test_2D_preproc.hdf5\n",
      "2020-11-10\n",
      "J:\\Drago Guggiana Nilo\\Prey_capture\\AnalyzedData\\11_10_2020_10_00_21_VScreen_DG_200526_a_test_2D_preproc.hdf5\n",
      "2020-11-10\n",
      "J:\\Drago Guggiana Nilo\\Prey_capture\\AnalyzedData\\11_09_2020_14_15_08_VScreen_DG_200526_d_test_2D_preproc.hdf5\n",
      "2020-11-09\n",
      "J:\\Drago Guggiana Nilo\\Prey_capture\\AnalyzedData\\11_09_2020_12_52_15_VScreen_DG_200526_c_test_2D_preproc.hdf5\n",
      "2020-11-09\n",
      "J:\\Drago Guggiana Nilo\\Prey_capture\\AnalyzedData\\11_09_2020_11_31_58_VScreen_DG_200526_b_test_2D_preproc.hdf5\n",
      "2020-11-09\n",
      "J:\\Drago Guggiana Nilo\\Prey_capture\\AnalyzedData\\11_09_2020_10_08_21_VScreen_DG_200526_a_test_2D_preproc.hdf5\n",
      "2020-11-09\n",
      "J:\\Drago Guggiana Nilo\\Prey_capture\\AnalyzedData\\11_06_2020_14_25_14_VScreen_DG_200526_d_test_2D_preproc.hdf5\n",
      "2020-11-06\n",
      "J:\\Drago Guggiana Nilo\\Prey_capture\\AnalyzedData\\11_06_2020_13_00_26_VScreen_DG_200526_c_test_2D_preproc.hdf5\n",
      "2020-11-06\n",
      "J:\\Drago Guggiana Nilo\\Prey_capture\\AnalyzedData\\11_04_2020_15_27_45_VScreen_DG_200526_d_test_2D_preproc.hdf5\n",
      "2020-11-04\n",
      "J:\\Drago Guggiana Nilo\\Prey_capture\\AnalyzedData\\11_04_2020_14_47_41_VScreen_DG_200526_c_test_2D_preproc.hdf5\n",
      "2020-11-04\n",
      "J:\\Drago Guggiana Nilo\\Prey_capture\\AnalyzedData\\11_04_2020_14_06_14_VScreen_DG_200526_b_test_2D_preproc.hdf5\n",
      "2020-11-04\n",
      "J:\\Drago Guggiana Nilo\\Prey_capture\\AnalyzedData\\11_03_2020_15_50_49_VScreen_DG_200526_a_test_2D_preproc.hdf5\n",
      "2020-11-03\n"
     ]
    }
   ],
   "source": [
    "search_params = {'result': 'test',\n",
    "                 'lighting': 'normal',\n",
    "                 'rig': 'VScreen',\n",
    "                 'analysis_type': 'preprocessing',\n",
    "                 'ltdate': '2021-03-22T00-00-00',\n",
    "#                  'notes': dimensionality\n",
    "                }\n",
    "\n",
    "search_string = ', '.join(\"{}:{}\".format(key,val) for (key,val) in search_params.items())\n",
    "data = vs.load_VScreens_datasets(search_string, exclusion=\"removedtracker\")"
   ]
  },
  {
   "cell_type": "code",
   "execution_count": null,
   "metadata": {},
   "outputs": [],
   "source": [
    "exp_manipulation_params = ['color_target', 'scale', 'speed']\n",
    "df_columns = ['date', 'animal', 'bin', 'trial_num', 'target_color', 'speed', 'scale', 'approaches', 'has_approach']\n",
    "\n",
    "# encounter_criteria\n",
    "approach_criteria = {'2D': {'distance_threshold':0.05, 'speed_minimum': 0.10, 'start_distance': 0.05, 'window': 2},\n",
    "                     '3D': {'distance_threshold':0.10, 'speed_minimum': 0.10, 'start_distance': 0.05, 'window': 2},\n",
    "                     'cricket': {'distance_threshold':0.10, 'speed_minimum': 0.10, 'start_distance': 0.05, 'window': 2}\n",
    "                     }\n",
    "\n",
    "# This lookup list matches the target types as defined in the Unity scene\n",
    "target_lookup = ['2D', '2D', '2D', '3D', '3D', '3D', 'cricket']"
   ]
  },
  {
   "cell_type": "code",
   "execution_count": null,
   "metadata": {},
   "outputs": [],
   "source": [
    "# For later visualization\n",
    "all_valid_approaches = []\n",
    "all_approaches = []\n",
    "bin_duration = 10    # minutes\n",
    "\n",
    "test_ds = data[3:4]\n",
    "\n",
    "# Make a new data frame\n",
    "approach_df = pd.DataFrame(columns=df_columns)\n",
    "\n",
    "for exp_num, exp in tqdm(enumerate(test_ds), total=len(test_ds)):\n",
    "\n",
    "    # Calculate time bins for each data point in the experiment\n",
    "    exp['traces']['bin'] = vs.calculate_bins(exp['traces']['time_vector'], bin_duration)\n",
    "\n",
    "    # Calculate the distance travelled between each time point in the experiment\n",
    "    exp['traces']['distance_travelled'] = fk.accumulated_distance(exp['traces'][['mouse_x_m', 'mouse_y_m']].to_numpy())\n",
    "        \n",
    "#     # Extract the approaches in this experiment\n",
    "#     experiment_approaches = pd.DataFrame(columns=df_columns)\n",
    "#     experiment_approaches, exp_valid_approaches, all_exp_approaches = vs.extract_experiment_approaches(exp, \n",
    "#                                                                                                   exp_manipulation_params, \n",
    "#                                                                                                   crit, \n",
    "#                                                                                                   thresh_function,\n",
    "#                                                                                                   experiment_approaches\n",
    "#                                                                                                  )\n",
    "    \n",
    "#     approach_df = approach_df.append(experiment_approaches, ignore_index=True)\n",
    "#     all_valid_approaches.append(exp_valid_approaches)\n",
    "#     all_approaches.append(all_exp_approaches)\n",
    "                             \n",
    "        \n",
    "# approach_df.to_hdf(r\"D:/vscreens/\" + save_name, 'data')"
   ]
  }
 ],
 "metadata": {
  "kernelspec": {
   "display_name": "Python [conda env:prey_capture] *",
   "language": "python",
   "name": "conda-env-prey_capture-py"
  },
  "language_info": {
   "codemirror_mode": {
    "name": "ipython",
    "version": 3
   },
   "file_extension": ".py",
   "mimetype": "text/x-python",
   "name": "python",
   "nbconvert_exporter": "python",
   "pygments_lexer": "ipython3",
   "version": "3.7.3"
  },
  "varInspector": {
   "cols": {
    "lenName": 16,
    "lenType": 16,
    "lenVar": 40
   },
   "kernels_config": {
    "python": {
     "delete_cmd_postfix": "",
     "delete_cmd_prefix": "del ",
     "library": "var_list.py",
     "varRefreshCmd": "print(var_dic_list())"
    },
    "r": {
     "delete_cmd_postfix": ") ",
     "delete_cmd_prefix": "rm(",
     "library": "var_list.r",
     "varRefreshCmd": "cat(var_dic_list()) "
    }
   },
   "types_to_exclude": [
    "module",
    "function",
    "builtin_function_or_method",
    "instance",
    "_Feature"
   ],
   "window_display": false
  }
 },
 "nbformat": 4,
 "nbformat_minor": 4
}

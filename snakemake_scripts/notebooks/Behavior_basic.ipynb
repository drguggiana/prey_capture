{
 "cells": [
  {
   "cell_type": "code",
   "execution_count": null,
   "id": "3180f4d0",
   "metadata": {},
   "outputs": [],
   "source": [
    "# imports\n",
    "import os\n",
    "import sys\n",
    "sys.path.insert(0, os.path.abspath(r'D:\\Code Repos\\prey_capture'))\n",
    "\n",
    "import panel as pn\n",
    "import holoviews as hv\n",
    "from bokeh.io import export_svgs, export_png\n",
    "from holoviews import opts, dim\n",
    "from holoviews.operation import histogram\n",
    "hv.extension('bokeh')\n",
    "from bokeh.resources import INLINE\n",
    "\n",
    "import importlib\n",
    "import processing_parameters\n",
    "import datetime\n",
    "\n",
    "import functions_bondjango as bd\n",
    "import functions_plotting as fp\n",
    "import pandas as pd\n",
    "import numpy as np\n",
    "import pprint as pp\n",
    "import paths\n",
    "\n",
    "# define the target saving path\n",
    "save_path = os.path.join(paths.figures_path, 'Behavior_basic')"
   ]
  },
  {
   "cell_type": "code",
   "execution_count": null,
   "id": "4e083fdf",
   "metadata": {},
   "outputs": [],
   "source": [
    "# get the paths\n",
    "# get the search query\n",
    "search_string = processing_parameters.search_string\n",
    "\n",
    "# query the database for data to plot\n",
    "data_path = bd.query_database('analyzed_data', search_string)\n",
    "data_path = [el['analysis_path'] for el in data_path if '_preproc' in el['slug']][0]\n",
    "\n",
    "print(data_path)"
   ]
  },
  {
   "cell_type": "code",
   "execution_count": null,
   "id": "1453a83e",
   "metadata": {},
   "outputs": [],
   "source": [
    "# load the data\n",
    "data = pd.read_hdf(data_path, 'matched_calcium')\n",
    "\n",
    "print(data.columns)\n",
    "print(data.shape)"
   ]
  }
 ],
 "metadata": {
  "kernelspec": {
   "display_name": "Python [conda env:.conda-prey_capture] *",
   "language": "python",
   "name": "conda-env-.conda-prey_capture-py"
  },
  "language_info": {
   "codemirror_mode": {
    "name": "ipython",
    "version": 3
   },
   "file_extension": ".py",
   "mimetype": "text/x-python",
   "name": "python",
   "nbconvert_exporter": "python",
   "pygments_lexer": "ipython3",
   "version": "3.8.8"
  }
 },
 "nbformat": 4,
 "nbformat_minor": 5
}

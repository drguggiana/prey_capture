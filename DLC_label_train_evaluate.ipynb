{
 "cells": [
  {
   "cell_type": "markdown",
   "metadata": {},
   "source": [
    "# This notebook works with the already created project Prey_capture, with an already defined config.yaml"
   ]
  },
  {
   "cell_type": "code",
   "execution_count": 7,
   "metadata": {},
   "outputs": [],
   "source": [
    "import deeplabcut\n",
    "import paths\n",
    "import importlib\n",
    "import processing_parameters\n",
    "# define the config_path\n",
    "config_path = paths.config_vame_path"
   ]
  },
  {
   "cell_type": "code",
   "execution_count": 3,
   "metadata": {},
   "outputs": [
    {
     "name": "stderr",
     "output_type": "stream",
     "text": [
      "13it [00:00, 123.86it/s]"
     ]
    },
    {
     "name": "stdout",
     "output_type": "stream",
     "text": [
      "Config file read successfully.\n",
      "Extracting frames based on kmeans ...\n",
      "Kmeans-quantization based extracting of frames from 0.0  seconds to 43.47  seconds.\n",
      "Extracting and downsampling... 1304  frames from the video.\n"
     ]
    },
    {
     "name": "stderr",
     "output_type": "stream",
     "text": [
      "1304it [00:06, 200.85it/s]\n"
     ]
    },
    {
     "name": "stdout",
     "output_type": "stream",
     "text": [
      "Kmeans clustering ... (this might take a while)\n"
     ]
    },
    {
     "name": "stderr",
     "output_type": "stream",
     "text": [
      "16it [00:00, 153.91it/s]"
     ]
    },
    {
     "name": "stdout",
     "output_type": "stream",
     "text": [
      "Extracting frames based on kmeans ...\n",
      "Kmeans-quantization based extracting of frames from 0.0  seconds to 41.73  seconds.\n",
      "Extracting and downsampling... 1252  frames from the video.\n"
     ]
    },
    {
     "name": "stderr",
     "output_type": "stream",
     "text": [
      "1252it [00:05, 211.50it/s]\n"
     ]
    },
    {
     "name": "stdout",
     "output_type": "stream",
     "text": [
      "Kmeans clustering ... (this might take a while)\n"
     ]
    },
    {
     "name": "stderr",
     "output_type": "stream",
     "text": [
      "16it [00:00, 155.42it/s]"
     ]
    },
    {
     "name": "stdout",
     "output_type": "stream",
     "text": [
      "Extracting frames based on kmeans ...\n",
      "Kmeans-quantization based extracting of frames from 0.0  seconds to 24.57  seconds.\n",
      "Extracting and downsampling... 737  frames from the video.\n"
     ]
    },
    {
     "name": "stderr",
     "output_type": "stream",
     "text": [
      "737it [00:03, 210.69it/s]\n"
     ]
    },
    {
     "name": "stdout",
     "output_type": "stream",
     "text": [
      "Kmeans clustering ... (this might take a while)\n"
     ]
    },
    {
     "name": "stderr",
     "output_type": "stream",
     "text": [
      "16it [00:00, 153.93it/s]"
     ]
    },
    {
     "name": "stdout",
     "output_type": "stream",
     "text": [
      "Extracting frames based on kmeans ...\n",
      "Kmeans-quantization based extracting of frames from 0.0  seconds to 20.67  seconds.\n",
      "Extracting and downsampling... 620  frames from the video.\n"
     ]
    },
    {
     "name": "stderr",
     "output_type": "stream",
     "text": [
      "620it [00:02, 209.65it/s]\n"
     ]
    },
    {
     "name": "stdout",
     "output_type": "stream",
     "text": [
      "Kmeans clustering ... (this might take a while)\n"
     ]
    },
    {
     "name": "stderr",
     "output_type": "stream",
     "text": [
      "16it [00:00, 149.98it/s]"
     ]
    },
    {
     "name": "stdout",
     "output_type": "stream",
     "text": [
      "Extracting frames based on kmeans ...\n",
      "Kmeans-quantization based extracting of frames from 0.0  seconds to 32.47  seconds.\n",
      "Extracting and downsampling... 974  frames from the video.\n"
     ]
    },
    {
     "name": "stderr",
     "output_type": "stream",
     "text": [
      "974it [00:04, 209.66it/s]\n"
     ]
    },
    {
     "name": "stdout",
     "output_type": "stream",
     "text": [
      "Kmeans clustering ... (this might take a while)\n"
     ]
    },
    {
     "name": "stderr",
     "output_type": "stream",
     "text": [
      "16it [00:00, 153.90it/s]"
     ]
    },
    {
     "name": "stdout",
     "output_type": "stream",
     "text": [
      "Extracting frames based on kmeans ...\n",
      "Kmeans-quantization based extracting of frames from 0.0  seconds to 15.87  seconds.\n",
      "Extracting and downsampling... 476  frames from the video.\n"
     ]
    },
    {
     "name": "stderr",
     "output_type": "stream",
     "text": [
      "476it [00:02, 209.62it/s]\n"
     ]
    },
    {
     "name": "stdout",
     "output_type": "stream",
     "text": [
      "Kmeans clustering ... (this might take a while)\n"
     ]
    },
    {
     "name": "stderr",
     "output_type": "stream",
     "text": [
      "16it [00:00, 153.91it/s]"
     ]
    },
    {
     "name": "stdout",
     "output_type": "stream",
     "text": [
      "Extracting frames based on kmeans ...\n",
      "Kmeans-quantization based extracting of frames from 0.0  seconds to 141.63  seconds.\n",
      "Extracting and downsampling... 4249  frames from the video.\n"
     ]
    },
    {
     "name": "stderr",
     "output_type": "stream",
     "text": [
      "4249it [00:20, 212.05it/s]\n"
     ]
    },
    {
     "name": "stdout",
     "output_type": "stream",
     "text": [
      "Kmeans clustering ... (this might take a while)\n"
     ]
    },
    {
     "name": "stderr",
     "output_type": "stream",
     "text": [
      "16it [00:00, 155.40it/s]"
     ]
    },
    {
     "name": "stdout",
     "output_type": "stream",
     "text": [
      "Extracting frames based on kmeans ...\n",
      "Kmeans-quantization based extracting of frames from 0.0  seconds to 118.13  seconds.\n",
      "Extracting and downsampling... 3544  frames from the video.\n"
     ]
    },
    {
     "name": "stderr",
     "output_type": "stream",
     "text": [
      "3544it [00:16, 214.43it/s]\n"
     ]
    },
    {
     "name": "stdout",
     "output_type": "stream",
     "text": [
      "Kmeans clustering ... (this might take a while)\n"
     ]
    },
    {
     "name": "stderr",
     "output_type": "stream",
     "text": [
      "16it [00:00, 153.90it/s]"
     ]
    },
    {
     "name": "stdout",
     "output_type": "stream",
     "text": [
      "Extracting frames based on kmeans ...\n",
      "Kmeans-quantization based extracting of frames from 0.0  seconds to 49.83  seconds.\n",
      "Extracting and downsampling... 1495  frames from the video.\n"
     ]
    },
    {
     "name": "stderr",
     "output_type": "stream",
     "text": [
      "1495it [00:06, 213.75it/s]\n"
     ]
    },
    {
     "name": "stdout",
     "output_type": "stream",
     "text": [
      "Kmeans clustering ... (this might take a while)\n"
     ]
    },
    {
     "name": "stderr",
     "output_type": "stream",
     "text": [
      "16it [00:00, 153.90it/s]"
     ]
    },
    {
     "name": "stdout",
     "output_type": "stream",
     "text": [
      "Extracting frames based on kmeans ...\n",
      "Kmeans-quantization based extracting of frames from 0.0  seconds to 55.93  seconds.\n",
      "Extracting and downsampling... 1678  frames from the video.\n"
     ]
    },
    {
     "name": "stderr",
     "output_type": "stream",
     "text": [
      "1678it [00:08, 206.44it/s]\n"
     ]
    },
    {
     "name": "stdout",
     "output_type": "stream",
     "text": [
      "Kmeans clustering ... (this might take a while)\n"
     ]
    },
    {
     "name": "stderr",
     "output_type": "stream",
     "text": [
      "16it [00:00, 156.95it/s]"
     ]
    },
    {
     "name": "stdout",
     "output_type": "stream",
     "text": [
      "Extracting frames based on kmeans ...\n",
      "Kmeans-quantization based extracting of frames from 0.0  seconds to 28.7  seconds.\n",
      "Extracting and downsampling... 861  frames from the video.\n"
     ]
    },
    {
     "name": "stderr",
     "output_type": "stream",
     "text": [
      "861it [00:04, 212.03it/s]\n"
     ]
    },
    {
     "name": "stdout",
     "output_type": "stream",
     "text": [
      "Kmeans clustering ... (this might take a while)\n"
     ]
    },
    {
     "name": "stderr",
     "output_type": "stream",
     "text": [
      "16it [00:00, 156.95it/s]"
     ]
    },
    {
     "name": "stdout",
     "output_type": "stream",
     "text": [
      "Extracting frames based on kmeans ...\n",
      "Kmeans-quantization based extracting of frames from 0.0  seconds to 26.7  seconds.\n",
      "Extracting and downsampling... 801  frames from the video.\n"
     ]
    },
    {
     "name": "stderr",
     "output_type": "stream",
     "text": [
      "801it [00:03, 208.87it/s]\n"
     ]
    },
    {
     "name": "stdout",
     "output_type": "stream",
     "text": [
      "Kmeans clustering ... (this might take a while)\n"
     ]
    },
    {
     "name": "stderr",
     "output_type": "stream",
     "text": [
      "16it [00:00, 155.42it/s]"
     ]
    },
    {
     "name": "stdout",
     "output_type": "stream",
     "text": [
      "Extracting frames based on kmeans ...\n",
      "Kmeans-quantization based extracting of frames from 0.0  seconds to 39.37  seconds.\n",
      "Extracting and downsampling... 1181  frames from the video.\n"
     ]
    },
    {
     "name": "stderr",
     "output_type": "stream",
     "text": [
      "1181it [00:05, 211.55it/s]\n"
     ]
    },
    {
     "name": "stdout",
     "output_type": "stream",
     "text": [
      "Kmeans clustering ... (this might take a while)\n"
     ]
    },
    {
     "name": "stderr",
     "output_type": "stream",
     "text": [
      "16it [00:00, 153.94it/s]"
     ]
    },
    {
     "name": "stdout",
     "output_type": "stream",
     "text": [
      "Extracting frames based on kmeans ...\n",
      "Kmeans-quantization based extracting of frames from 0.0  seconds to 22.3  seconds.\n",
      "Extracting and downsampling... 669  frames from the video.\n"
     ]
    },
    {
     "name": "stderr",
     "output_type": "stream",
     "text": [
      "669it [00:03, 209.13it/s]\n"
     ]
    },
    {
     "name": "stdout",
     "output_type": "stream",
     "text": [
      "Kmeans clustering ... (this might take a while)\n"
     ]
    },
    {
     "name": "stderr",
     "output_type": "stream",
     "text": [
      "38it [00:00, 170.91it/s]"
     ]
    },
    {
     "name": "stdout",
     "output_type": "stream",
     "text": [
      "Extracting frames based on kmeans ...\n",
      "Kmeans-quantization based extracting of frames from 0.0  seconds to 76.67  seconds.\n",
      "Extracting and downsampling... 2300  frames from the video.\n"
     ]
    },
    {
     "name": "stderr",
     "output_type": "stream",
     "text": [
      "2300it [00:10, 214.45it/s]\n"
     ]
    },
    {
     "name": "stdout",
     "output_type": "stream",
     "text": [
      "Kmeans clustering ... (this might take a while)\n"
     ]
    },
    {
     "name": "stderr",
     "output_type": "stream",
     "text": [
      "15it [00:00, 148.57it/s]"
     ]
    },
    {
     "name": "stdout",
     "output_type": "stream",
     "text": [
      "Extracting frames based on kmeans ...\n",
      "Kmeans-quantization based extracting of frames from 0.0  seconds to 30.23  seconds.\n",
      "Extracting and downsampling... 907  frames from the video.\n"
     ]
    },
    {
     "name": "stderr",
     "output_type": "stream",
     "text": [
      "907it [00:04, 204.76it/s]\n"
     ]
    },
    {
     "name": "stdout",
     "output_type": "stream",
     "text": [
      "Kmeans clustering ... (this might take a while)\n"
     ]
    },
    {
     "name": "stderr",
     "output_type": "stream",
     "text": [
      "16it [00:00, 156.95it/s]"
     ]
    },
    {
     "name": "stdout",
     "output_type": "stream",
     "text": [
      "Extracting frames based on kmeans ...\n",
      "Kmeans-quantization based extracting of frames from 0.0  seconds to 25.17  seconds.\n",
      "Extracting and downsampling... 755  frames from the video.\n"
     ]
    },
    {
     "name": "stderr",
     "output_type": "stream",
     "text": [
      "755it [00:03, 208.74it/s]\n"
     ]
    },
    {
     "name": "stdout",
     "output_type": "stream",
     "text": [
      "Kmeans clustering ... (this might take a while)\n"
     ]
    },
    {
     "name": "stderr",
     "output_type": "stream",
     "text": [
      "16it [00:00, 155.40it/s]"
     ]
    },
    {
     "name": "stdout",
     "output_type": "stream",
     "text": [
      "Extracting frames based on kmeans ...\n",
      "Kmeans-quantization based extracting of frames from 0.0  seconds to 29.1  seconds.\n",
      "Extracting and downsampling... 873  frames from the video.\n"
     ]
    },
    {
     "name": "stderr",
     "output_type": "stream",
     "text": [
      "873it [00:04, 209.37it/s]\n"
     ]
    },
    {
     "name": "stdout",
     "output_type": "stream",
     "text": [
      "Kmeans clustering ... (this might take a while)\n"
     ]
    },
    {
     "name": "stderr",
     "output_type": "stream",
     "text": [
      "16it [00:00, 156.92it/s]"
     ]
    },
    {
     "name": "stdout",
     "output_type": "stream",
     "text": [
      "Extracting frames based on kmeans ...\n",
      "Kmeans-quantization based extracting of frames from 0.0  seconds to 16.0  seconds.\n",
      "Extracting and downsampling... 480  frames from the video.\n"
     ]
    },
    {
     "name": "stderr",
     "output_type": "stream",
     "text": [
      "480it [00:02, 212.41it/s]\n"
     ]
    },
    {
     "name": "stdout",
     "output_type": "stream",
     "text": [
      "Kmeans clustering ... (this might take a while)\n"
     ]
    },
    {
     "name": "stderr",
     "output_type": "stream",
     "text": [
      "16it [00:00, 156.95it/s]"
     ]
    },
    {
     "name": "stdout",
     "output_type": "stream",
     "text": [
      "Extracting frames based on kmeans ...\n",
      "Kmeans-quantization based extracting of frames from 0.0  seconds to 20.2  seconds.\n",
      "Extracting and downsampling... 606  frames from the video.\n"
     ]
    },
    {
     "name": "stderr",
     "output_type": "stream",
     "text": [
      "606it [00:02, 212.16it/s]\n"
     ]
    },
    {
     "name": "stdout",
     "output_type": "stream",
     "text": [
      "Kmeans clustering ... (this might take a while)\n"
     ]
    },
    {
     "name": "stderr",
     "output_type": "stream",
     "text": [
      "16it [00:00, 155.45it/s]"
     ]
    },
    {
     "name": "stdout",
     "output_type": "stream",
     "text": [
      "Extracting frames based on kmeans ...\n",
      "Kmeans-quantization based extracting of frames from 0.0  seconds to 40.4  seconds.\n",
      "Extracting and downsampling... 1212  frames from the video.\n"
     ]
    },
    {
     "name": "stderr",
     "output_type": "stream",
     "text": [
      "1212it [00:05, 210.94it/s]\n"
     ]
    },
    {
     "name": "stdout",
     "output_type": "stream",
     "text": [
      "Kmeans clustering ... (this might take a while)\n"
     ]
    },
    {
     "name": "stderr",
     "output_type": "stream",
     "text": [
      "16it [00:00, 153.93it/s]"
     ]
    },
    {
     "name": "stdout",
     "output_type": "stream",
     "text": [
      "Extracting frames based on kmeans ...\n",
      "Kmeans-quantization based extracting of frames from 0.0  seconds to 18.13  seconds.\n",
      "Extracting and downsampling... 544  frames from the video.\n"
     ]
    },
    {
     "name": "stderr",
     "output_type": "stream",
     "text": [
      "544it [00:02, 207.67it/s]\n"
     ]
    },
    {
     "name": "stdout",
     "output_type": "stream",
     "text": [
      "Kmeans clustering ... (this might take a while)\n"
     ]
    },
    {
     "name": "stderr",
     "output_type": "stream",
     "text": [
      "16it [00:00, 155.43it/s]"
     ]
    },
    {
     "name": "stdout",
     "output_type": "stream",
     "text": [
      "Extracting frames based on kmeans ...\n",
      "Kmeans-quantization based extracting of frames from 0.0  seconds to 23.37  seconds.\n",
      "Extracting and downsampling... 701  frames from the video.\n"
     ]
    },
    {
     "name": "stderr",
     "output_type": "stream",
     "text": [
      "701it [00:03, 212.67it/s]\n"
     ]
    },
    {
     "name": "stdout",
     "output_type": "stream",
     "text": [
      "Kmeans clustering ... (this might take a while)\n"
     ]
    },
    {
     "name": "stderr",
     "output_type": "stream",
     "text": [
      "38it [00:00, 170.12it/s]"
     ]
    },
    {
     "name": "stdout",
     "output_type": "stream",
     "text": [
      "Extracting frames based on kmeans ...\n",
      "Kmeans-quantization based extracting of frames from 0.0  seconds to 45.9  seconds.\n",
      "Extracting and downsampling... 1377  frames from the video.\n"
     ]
    },
    {
     "name": "stderr",
     "output_type": "stream",
     "text": [
      "1377it [00:06, 213.02it/s]\n"
     ]
    },
    {
     "name": "stdout",
     "output_type": "stream",
     "text": [
      "Kmeans clustering ... (this might take a while)\n"
     ]
    },
    {
     "name": "stderr",
     "output_type": "stream",
     "text": [
      "16it [00:00, 156.92it/s]"
     ]
    },
    {
     "name": "stdout",
     "output_type": "stream",
     "text": [
      "Extracting frames based on kmeans ...\n",
      "Kmeans-quantization based extracting of frames from 0.0  seconds to 26.63  seconds.\n",
      "Extracting and downsampling... 799  frames from the video.\n"
     ]
    },
    {
     "name": "stderr",
     "output_type": "stream",
     "text": [
      "799it [00:03, 211.16it/s]\n"
     ]
    },
    {
     "name": "stdout",
     "output_type": "stream",
     "text": [
      "Kmeans clustering ... (this might take a while)\n"
     ]
    },
    {
     "name": "stderr",
     "output_type": "stream",
     "text": [
      "38it [00:00, 171.34it/s]"
     ]
    },
    {
     "name": "stdout",
     "output_type": "stream",
     "text": [
      "Extracting frames based on kmeans ...\n",
      "Kmeans-quantization based extracting of frames from 0.0  seconds to 30.2  seconds.\n",
      "Extracting and downsampling... 906  frames from the video.\n"
     ]
    },
    {
     "name": "stderr",
     "output_type": "stream",
     "text": [
      "906it [00:04, 213.60it/s]\n"
     ]
    },
    {
     "name": "stdout",
     "output_type": "stream",
     "text": [
      "Kmeans clustering ... (this might take a while)\n"
     ]
    },
    {
     "name": "stderr",
     "output_type": "stream",
     "text": [
      "38it [00:00, 170.94it/s]"
     ]
    },
    {
     "name": "stdout",
     "output_type": "stream",
     "text": [
      "Extracting frames based on kmeans ...\n",
      "Kmeans-quantization based extracting of frames from 0.0  seconds to 14.0  seconds.\n",
      "Extracting and downsampling... 420  frames from the video.\n"
     ]
    },
    {
     "name": "stderr",
     "output_type": "stream",
     "text": [
      "420it [00:01, 212.24it/s]\n"
     ]
    },
    {
     "name": "stdout",
     "output_type": "stream",
     "text": [
      "Kmeans clustering ... (this might take a while)\n"
     ]
    },
    {
     "name": "stderr",
     "output_type": "stream",
     "text": [
      "18it [00:00, 173.84it/s]"
     ]
    },
    {
     "name": "stdout",
     "output_type": "stream",
     "text": [
      "Extracting frames based on kmeans ...\n",
      "Kmeans-quantization based extracting of frames from 0.0  seconds to 23.8  seconds.\n",
      "Extracting and downsampling... 714  frames from the video.\n"
     ]
    },
    {
     "name": "stderr",
     "output_type": "stream",
     "text": [
      "714it [00:03, 213.09it/s]\n"
     ]
    },
    {
     "name": "stdout",
     "output_type": "stream",
     "text": [
      "Kmeans clustering ... (this might take a while)\n"
     ]
    },
    {
     "name": "stderr",
     "output_type": "stream",
     "text": [
      "16it [00:00, 156.92it/s]"
     ]
    },
    {
     "name": "stdout",
     "output_type": "stream",
     "text": [
      "Extracting frames based on kmeans ...\n",
      "Kmeans-quantization based extracting of frames from 0.0  seconds to 21.93  seconds.\n",
      "Extracting and downsampling... 658  frames from the video.\n"
     ]
    },
    {
     "name": "stderr",
     "output_type": "stream",
     "text": [
      "658it [00:03, 212.24it/s]\n"
     ]
    },
    {
     "name": "stdout",
     "output_type": "stream",
     "text": [
      "Kmeans clustering ... (this might take a while)\n"
     ]
    },
    {
     "name": "stderr",
     "output_type": "stream",
     "text": [
      "18it [00:00, 174.86it/s]"
     ]
    },
    {
     "name": "stdout",
     "output_type": "stream",
     "text": [
      "Extracting frames based on kmeans ...\n",
      "Kmeans-quantization based extracting of frames from 0.0  seconds to 13.43  seconds.\n",
      "Extracting and downsampling... 403  frames from the video.\n"
     ]
    },
    {
     "name": "stderr",
     "output_type": "stream",
     "text": [
      "403it [00:01, 211.67it/s]\n"
     ]
    },
    {
     "name": "stdout",
     "output_type": "stream",
     "text": [
      "Kmeans clustering ... (this might take a while)\n"
     ]
    },
    {
     "name": "stderr",
     "output_type": "stream",
     "text": [
      "16it [00:00, 156.95it/s]"
     ]
    },
    {
     "name": "stdout",
     "output_type": "stream",
     "text": [
      "Extracting frames based on kmeans ...\n",
      "Kmeans-quantization based extracting of frames from 0.0  seconds to 21.67  seconds.\n",
      "Extracting and downsampling... 650  frames from the video.\n"
     ]
    },
    {
     "name": "stderr",
     "output_type": "stream",
     "text": [
      "650it [00:03, 211.16it/s]\n"
     ]
    },
    {
     "name": "stdout",
     "output_type": "stream",
     "text": [
      "Kmeans clustering ... (this might take a while)\n"
     ]
    },
    {
     "name": "stderr",
     "output_type": "stream",
     "text": [
      "16it [00:00, 155.49it/s]"
     ]
    },
    {
     "name": "stdout",
     "output_type": "stream",
     "text": [
      "Extracting frames based on kmeans ...\n",
      "Kmeans-quantization based extracting of frames from 0.0  seconds to 16.03  seconds.\n",
      "Extracting and downsampling... 481  frames from the video.\n"
     ]
    },
    {
     "name": "stderr",
     "output_type": "stream",
     "text": [
      "481it [00:02, 207.88it/s]\n"
     ]
    },
    {
     "name": "stdout",
     "output_type": "stream",
     "text": [
      "Kmeans clustering ... (this might take a while)\n"
     ]
    },
    {
     "name": "stderr",
     "output_type": "stream",
     "text": [
      "16it [00:00, 153.93it/s]"
     ]
    },
    {
     "name": "stdout",
     "output_type": "stream",
     "text": [
      "Extracting frames based on kmeans ...\n",
      "Kmeans-quantization based extracting of frames from 0.0  seconds to 14.17  seconds.\n",
      "Extracting and downsampling... 425  frames from the video.\n"
     ]
    },
    {
     "name": "stderr",
     "output_type": "stream",
     "text": [
      "425it [00:02, 205.43it/s]\n"
     ]
    },
    {
     "name": "stdout",
     "output_type": "stream",
     "text": [
      "Kmeans clustering ... (this might take a while)\n"
     ]
    },
    {
     "name": "stderr",
     "output_type": "stream",
     "text": [
      "17it [00:00, 168.41it/s]"
     ]
    },
    {
     "name": "stdout",
     "output_type": "stream",
     "text": [
      "Extracting frames based on kmeans ...\n",
      "Kmeans-quantization based extracting of frames from 0.0  seconds to 18.17  seconds.\n",
      "Extracting and downsampling... 545  frames from the video.\n"
     ]
    },
    {
     "name": "stderr",
     "output_type": "stream",
     "text": [
      "545it [00:02, 204.93it/s]\n"
     ]
    },
    {
     "name": "stdout",
     "output_type": "stream",
     "text": [
      "Kmeans clustering ... (this might take a while)\n"
     ]
    },
    {
     "name": "stderr",
     "output_type": "stream",
     "text": [
      "15it [00:00, 142.91it/s]"
     ]
    },
    {
     "name": "stdout",
     "output_type": "stream",
     "text": [
      "Extracting frames based on kmeans ...\n",
      "Kmeans-quantization based extracting of frames from 0.0  seconds to 15.4  seconds.\n",
      "Extracting and downsampling... 462  frames from the video.\n"
     ]
    },
    {
     "name": "stderr",
     "output_type": "stream",
     "text": [
      "462it [00:02, 193.41it/s]\n"
     ]
    },
    {
     "name": "stdout",
     "output_type": "stream",
     "text": [
      "Kmeans clustering ... (this might take a while)\n"
     ]
    },
    {
     "name": "stderr",
     "output_type": "stream",
     "text": [
      "14it [00:00, 137.33it/s]"
     ]
    },
    {
     "name": "stdout",
     "output_type": "stream",
     "text": [
      "Extracting frames based on kmeans ...\n",
      "Kmeans-quantization based extracting of frames from 0.0  seconds to 15.9  seconds.\n",
      "Extracting and downsampling... 477  frames from the video.\n"
     ]
    },
    {
     "name": "stderr",
     "output_type": "stream",
     "text": [
      "477it [00:02, 194.17it/s]\n"
     ]
    },
    {
     "name": "stdout",
     "output_type": "stream",
     "text": [
      "Kmeans clustering ... (this might take a while)\n"
     ]
    },
    {
     "name": "stderr",
     "output_type": "stream",
     "text": [
      "16it [00:00, 155.42it/s]"
     ]
    },
    {
     "name": "stdout",
     "output_type": "stream",
     "text": [
      "Extracting frames based on kmeans ...\n",
      "Kmeans-quantization based extracting of frames from 0.0  seconds to 14.03  seconds.\n",
      "Extracting and downsampling... 421  frames from the video.\n"
     ]
    },
    {
     "name": "stderr",
     "output_type": "stream",
     "text": [
      "421it [00:02, 194.93it/s]\n"
     ]
    },
    {
     "name": "stdout",
     "output_type": "stream",
     "text": [
      "Kmeans clustering ... (this might take a while)\n"
     ]
    },
    {
     "name": "stderr",
     "output_type": "stream",
     "text": [
      "14it [00:00, 135.97it/s]"
     ]
    },
    {
     "name": "stdout",
     "output_type": "stream",
     "text": [
      "Extracting frames based on kmeans ...\n",
      "Kmeans-quantization based extracting of frames from 0.0  seconds to 16.07  seconds.\n",
      "Extracting and downsampling... 482  frames from the video.\n"
     ]
    },
    {
     "name": "stderr",
     "output_type": "stream",
     "text": [
      "482it [00:02, 189.65it/s]\n"
     ]
    },
    {
     "name": "stdout",
     "output_type": "stream",
     "text": [
      "Kmeans clustering ... (this might take a while)\n"
     ]
    },
    {
     "name": "stderr",
     "output_type": "stream",
     "text": [
      "15it [00:00, 148.63it/s]"
     ]
    },
    {
     "name": "stdout",
     "output_type": "stream",
     "text": [
      "Extracting frames based on kmeans ...\n",
      "Kmeans-quantization based extracting of frames from 0.0  seconds to 14.83  seconds.\n",
      "Extracting and downsampling... 445  frames from the video.\n"
     ]
    },
    {
     "name": "stderr",
     "output_type": "stream",
     "text": [
      "445it [00:02, 195.17it/s]\n"
     ]
    },
    {
     "name": "stdout",
     "output_type": "stream",
     "text": [
      "Kmeans clustering ... (this might take a while)\n"
     ]
    },
    {
     "name": "stderr",
     "output_type": "stream",
     "text": [
      "14it [00:00, 138.69it/s]"
     ]
    },
    {
     "name": "stdout",
     "output_type": "stream",
     "text": [
      "Extracting frames based on kmeans ...\n",
      "Kmeans-quantization based extracting of frames from 0.0  seconds to 14.5  seconds.\n",
      "Extracting and downsampling... 435  frames from the video.\n"
     ]
    },
    {
     "name": "stderr",
     "output_type": "stream",
     "text": [
      "435it [00:02, 193.01it/s]\n"
     ]
    },
    {
     "name": "stdout",
     "output_type": "stream",
     "text": [
      "Kmeans clustering ... (this might take a while)\n"
     ]
    },
    {
     "name": "stderr",
     "output_type": "stream",
     "text": [
      "14it [00:00, 138.69it/s]"
     ]
    },
    {
     "name": "stdout",
     "output_type": "stream",
     "text": [
      "Extracting frames based on kmeans ...\n",
      "Kmeans-quantization based extracting of frames from 0.0  seconds to 15.37  seconds.\n",
      "Extracting and downsampling... 461  frames from the video.\n"
     ]
    },
    {
     "name": "stderr",
     "output_type": "stream",
     "text": [
      "461it [00:02, 193.97it/s]\n"
     ]
    },
    {
     "name": "stdout",
     "output_type": "stream",
     "text": [
      "Kmeans clustering ... (this might take a while)\n"
     ]
    },
    {
     "name": "stderr",
     "output_type": "stream",
     "text": [
      "16it [00:00, 158.51it/s]"
     ]
    },
    {
     "name": "stdout",
     "output_type": "stream",
     "text": [
      "Extracting frames based on kmeans ...\n",
      "Kmeans-quantization based extracting of frames from 0.0  seconds to 17.03  seconds.\n",
      "Extracting and downsampling... 511  frames from the video.\n"
     ]
    },
    {
     "name": "stderr",
     "output_type": "stream",
     "text": [
      "511it [00:02, 192.71it/s]\n"
     ]
    },
    {
     "name": "stdout",
     "output_type": "stream",
     "text": [
      "Kmeans clustering ... (this might take a while)\n"
     ]
    },
    {
     "name": "stderr",
     "output_type": "stream",
     "text": [
      "16it [00:00, 155.42it/s]"
     ]
    },
    {
     "name": "stdout",
     "output_type": "stream",
     "text": [
      "Extracting frames based on kmeans ...\n",
      "Kmeans-quantization based extracting of frames from 0.0  seconds to 16.2  seconds.\n",
      "Extracting and downsampling... 486  frames from the video.\n"
     ]
    },
    {
     "name": "stderr",
     "output_type": "stream",
     "text": [
      "486it [00:02, 193.50it/s]\n"
     ]
    },
    {
     "name": "stdout",
     "output_type": "stream",
     "text": [
      "Kmeans clustering ... (this might take a while)\n"
     ]
    },
    {
     "name": "stderr",
     "output_type": "stream",
     "text": [
      "14it [00:00, 138.69it/s]"
     ]
    },
    {
     "name": "stdout",
     "output_type": "stream",
     "text": [
      "Extracting frames based on kmeans ...\n",
      "Kmeans-quantization based extracting of frames from 0.0  seconds to 17.33  seconds.\n",
      "Extracting and downsampling... 520  frames from the video.\n"
     ]
    },
    {
     "name": "stderr",
     "output_type": "stream",
     "text": [
      "520it [00:02, 194.00it/s]\n"
     ]
    },
    {
     "name": "stdout",
     "output_type": "stream",
     "text": [
      "Kmeans clustering ... (this might take a while)\n"
     ]
    },
    {
     "name": "stderr",
     "output_type": "stream",
     "text": [
      "14it [00:00, 138.69it/s]"
     ]
    },
    {
     "name": "stdout",
     "output_type": "stream",
     "text": [
      "Extracting frames based on kmeans ...\n",
      "Kmeans-quantization based extracting of frames from 0.0  seconds to 13.9  seconds.\n",
      "Extracting and downsampling... 417  frames from the video.\n"
     ]
    },
    {
     "name": "stderr",
     "output_type": "stream",
     "text": [
      "417it [00:02, 192.72it/s]\n"
     ]
    },
    {
     "name": "stdout",
     "output_type": "stream",
     "text": [
      "Kmeans clustering ... (this might take a while)\n"
     ]
    },
    {
     "name": "stderr",
     "output_type": "stream",
     "text": [
      "34it [00:00, 151.39it/s]"
     ]
    },
    {
     "name": "stdout",
     "output_type": "stream",
     "text": [
      "Extracting frames based on kmeans ...\n",
      "Kmeans-quantization based extracting of frames from 0.0  seconds to 18.6  seconds.\n",
      "Extracting and downsampling... 558  frames from the video.\n"
     ]
    },
    {
     "name": "stderr",
     "output_type": "stream",
     "text": [
      "558it [00:02, 193.46it/s]\n"
     ]
    },
    {
     "name": "stdout",
     "output_type": "stream",
     "text": [
      "Kmeans clustering ... (this might take a while)\n"
     ]
    },
    {
     "name": "stderr",
     "output_type": "stream",
     "text": [
      "16it [00:00, 158.48it/s]"
     ]
    },
    {
     "name": "stdout",
     "output_type": "stream",
     "text": [
      "Extracting frames based on kmeans ...\n",
      "Kmeans-quantization based extracting of frames from 0.0  seconds to 14.23  seconds.\n",
      "Extracting and downsampling... 427  frames from the video.\n"
     ]
    },
    {
     "name": "stderr",
     "output_type": "stream",
     "text": [
      "427it [00:02, 198.71it/s]\n"
     ]
    },
    {
     "name": "stdout",
     "output_type": "stream",
     "text": [
      "Kmeans clustering ... (this might take a while)\n"
     ]
    },
    {
     "name": "stderr",
     "output_type": "stream",
     "text": [
      "16it [00:00, 158.48it/s]"
     ]
    },
    {
     "name": "stdout",
     "output_type": "stream",
     "text": [
      "Extracting frames based on kmeans ...\n",
      "Kmeans-quantization based extracting of frames from 0.0  seconds to 19.97  seconds.\n",
      "Extracting and downsampling... 599  frames from the video.\n"
     ]
    },
    {
     "name": "stderr",
     "output_type": "stream",
     "text": [
      "599it [00:03, 198.19it/s]\n"
     ]
    },
    {
     "name": "stdout",
     "output_type": "stream",
     "text": [
      "Kmeans clustering ... (this might take a while)\n"
     ]
    },
    {
     "name": "stderr",
     "output_type": "stream",
     "text": [
      "13it [00:00, 125.46it/s]"
     ]
    },
    {
     "name": "stdout",
     "output_type": "stream",
     "text": [
      "Extracting frames based on kmeans ...\n",
      "Kmeans-quantization based extracting of frames from 0.0  seconds to 13.5  seconds.\n",
      "Extracting and downsampling... 405  frames from the video.\n"
     ]
    },
    {
     "name": "stderr",
     "output_type": "stream",
     "text": [
      "405it [00:02, 194.29it/s]\n"
     ]
    },
    {
     "name": "stdout",
     "output_type": "stream",
     "text": [
      "Kmeans clustering ... (this might take a while)\n"
     ]
    },
    {
     "name": "stderr",
     "output_type": "stream",
     "text": [
      "17it [00:00, 161.97it/s]"
     ]
    },
    {
     "name": "stdout",
     "output_type": "stream",
     "text": [
      "Extracting frames based on kmeans ...\n",
      "Kmeans-quantization based extracting of frames from 0.0  seconds to 13.2  seconds.\n",
      "Extracting and downsampling... 396  frames from the video.\n"
     ]
    },
    {
     "name": "stderr",
     "output_type": "stream",
     "text": [
      "396it [00:02, 196.15it/s]\n"
     ]
    },
    {
     "name": "stdout",
     "output_type": "stream",
     "text": [
      "Kmeans clustering ... (this might take a while)\n"
     ]
    },
    {
     "name": "stderr",
     "output_type": "stream",
     "text": [
      "15it [00:00, 148.57it/s]"
     ]
    },
    {
     "name": "stdout",
     "output_type": "stream",
     "text": [
      "Extracting frames based on kmeans ...\n",
      "Kmeans-quantization based extracting of frames from 0.0  seconds to 14.2  seconds.\n",
      "Extracting and downsampling... 426  frames from the video.\n"
     ]
    },
    {
     "name": "stderr",
     "output_type": "stream",
     "text": [
      "426it [00:02, 200.20it/s]\n"
     ]
    },
    {
     "name": "stdout",
     "output_type": "stream",
     "text": [
      "Kmeans clustering ... (this might take a while)\n"
     ]
    },
    {
     "name": "stderr",
     "output_type": "stream",
     "text": [
      "16it [00:00, 155.40it/s]"
     ]
    },
    {
     "name": "stdout",
     "output_type": "stream",
     "text": [
      "Extracting frames based on kmeans ...\n",
      "Kmeans-quantization based extracting of frames from 0.0  seconds to 12.57  seconds.\n",
      "Extracting and downsampling... 377  frames from the video.\n"
     ]
    },
    {
     "name": "stderr",
     "output_type": "stream",
     "text": [
      "377it [00:01, 191.19it/s]\n"
     ]
    },
    {
     "name": "stdout",
     "output_type": "stream",
     "text": [
      "Kmeans clustering ... (this might take a while)\n"
     ]
    },
    {
     "name": "stderr",
     "output_type": "stream",
     "text": [
      "33it [00:00, 147.24it/s]"
     ]
    },
    {
     "name": "stdout",
     "output_type": "stream",
     "text": [
      "Extracting frames based on kmeans ...\n",
      "Kmeans-quantization based extracting of frames from 0.0  seconds to 12.1  seconds.\n",
      "Extracting and downsampling... 363  frames from the video.\n"
     ]
    },
    {
     "name": "stderr",
     "output_type": "stream",
     "text": [
      "363it [00:01, 192.07it/s]\n"
     ]
    },
    {
     "name": "stdout",
     "output_type": "stream",
     "text": [
      "Kmeans clustering ... (this might take a while)\n"
     ]
    },
    {
     "name": "stderr",
     "output_type": "stream",
     "text": [
      "16it [00:00, 155.43it/s]"
     ]
    },
    {
     "name": "stdout",
     "output_type": "stream",
     "text": [
      "Extracting frames based on kmeans ...\n",
      "Kmeans-quantization based extracting of frames from 0.0  seconds to 12.5  seconds.\n",
      "Extracting and downsampling... 375  frames from the video.\n"
     ]
    },
    {
     "name": "stderr",
     "output_type": "stream",
     "text": [
      "375it [00:01, 194.71it/s]\n"
     ]
    },
    {
     "name": "stdout",
     "output_type": "stream",
     "text": [
      "Kmeans clustering ... (this might take a while)\n"
     ]
    },
    {
     "name": "stderr",
     "output_type": "stream",
     "text": [
      "16it [00:00, 156.93it/s]"
     ]
    },
    {
     "name": "stdout",
     "output_type": "stream",
     "text": [
      "Extracting frames based on kmeans ...\n",
      "Kmeans-quantization based extracting of frames from 0.0  seconds to 13.9  seconds.\n",
      "Extracting and downsampling... 417  frames from the video.\n"
     ]
    },
    {
     "name": "stderr",
     "output_type": "stream",
     "text": [
      "417it [00:02, 195.52it/s]\n"
     ]
    },
    {
     "name": "stdout",
     "output_type": "stream",
     "text": [
      "Kmeans clustering ... (this might take a while)\n"
     ]
    },
    {
     "name": "stderr",
     "output_type": "stream",
     "text": [
      "17it [00:00, 163.55it/s]"
     ]
    },
    {
     "name": "stdout",
     "output_type": "stream",
     "text": [
      "Extracting frames based on kmeans ...\n",
      "Kmeans-quantization based extracting of frames from 0.0  seconds to 13.83  seconds.\n",
      "Extracting and downsampling... 415  frames from the video.\n"
     ]
    },
    {
     "name": "stderr",
     "output_type": "stream",
     "text": [
      "415it [00:02, 199.60it/s]\n"
     ]
    },
    {
     "name": "stdout",
     "output_type": "stream",
     "text": [
      "Kmeans clustering ... (this might take a while)\n"
     ]
    },
    {
     "name": "stderr",
     "output_type": "stream",
     "text": [
      "14it [00:00, 138.69it/s]"
     ]
    },
    {
     "name": "stdout",
     "output_type": "stream",
     "text": [
      "Extracting frames based on kmeans ...\n",
      "Kmeans-quantization based extracting of frames from 0.0  seconds to 14.23  seconds.\n",
      "Extracting and downsampling... 427  frames from the video.\n"
     ]
    },
    {
     "name": "stderr",
     "output_type": "stream",
     "text": [
      "427it [00:02, 192.10it/s]\n"
     ]
    },
    {
     "name": "stdout",
     "output_type": "stream",
     "text": [
      "Kmeans clustering ... (this might take a while)\n"
     ]
    },
    {
     "name": "stderr",
     "output_type": "stream",
     "text": [
      "14it [00:00, 138.67it/s]"
     ]
    },
    {
     "name": "stdout",
     "output_type": "stream",
     "text": [
      "Extracting frames based on kmeans ...\n",
      "Kmeans-quantization based extracting of frames from 0.0  seconds to 12.07  seconds.\n",
      "Extracting and downsampling... 362  frames from the video.\n"
     ]
    },
    {
     "name": "stderr",
     "output_type": "stream",
     "text": [
      "362it [00:01, 194.00it/s]\n"
     ]
    },
    {
     "name": "stdout",
     "output_type": "stream",
     "text": [
      "Kmeans clustering ... (this might take a while)\n"
     ]
    },
    {
     "name": "stderr",
     "output_type": "stream",
     "text": [
      "14it [00:00, 137.33it/s]"
     ]
    },
    {
     "name": "stdout",
     "output_type": "stream",
     "text": [
      "Extracting frames based on kmeans ...\n",
      "Kmeans-quantization based extracting of frames from 0.0  seconds to 19.27  seconds.\n",
      "Extracting and downsampling... 578  frames from the video.\n"
     ]
    },
    {
     "name": "stderr",
     "output_type": "stream",
     "text": [
      "578it [00:02, 194.21it/s]\n"
     ]
    },
    {
     "name": "stdout",
     "output_type": "stream",
     "text": [
      "Kmeans clustering ... (this might take a while)\n"
     ]
    },
    {
     "name": "stderr",
     "output_type": "stream",
     "text": [
      "14it [00:00, 135.97it/s]"
     ]
    },
    {
     "name": "stdout",
     "output_type": "stream",
     "text": [
      "Extracting frames based on kmeans ...\n",
      "Kmeans-quantization based extracting of frames from 0.0  seconds to 49.5  seconds.\n",
      "Extracting and downsampling... 1485  frames from the video.\n"
     ]
    },
    {
     "name": "stderr",
     "output_type": "stream",
     "text": [
      "1485it [00:07, 199.94it/s]\n"
     ]
    },
    {
     "name": "stdout",
     "output_type": "stream",
     "text": [
      "Kmeans clustering ... (this might take a while)\n"
     ]
    },
    {
     "name": "stderr",
     "output_type": "stream",
     "text": [
      "16it [00:00, 158.53it/s]"
     ]
    },
    {
     "name": "stdout",
     "output_type": "stream",
     "text": [
      "Extracting frames based on kmeans ...\n",
      "Kmeans-quantization based extracting of frames from 0.0  seconds to 13.97  seconds.\n",
      "Extracting and downsampling... 419  frames from the video.\n"
     ]
    },
    {
     "name": "stderr",
     "output_type": "stream",
     "text": [
      "419it [00:02, 197.38it/s]\n"
     ]
    },
    {
     "name": "stdout",
     "output_type": "stream",
     "text": [
      "Kmeans clustering ... (this might take a while)\n"
     ]
    },
    {
     "name": "stderr",
     "output_type": "stream",
     "text": [
      "14it [00:00, 138.67it/s]"
     ]
    },
    {
     "name": "stdout",
     "output_type": "stream",
     "text": [
      "Extracting frames based on kmeans ...\n",
      "Kmeans-quantization based extracting of frames from 0.0  seconds to 14.97  seconds.\n",
      "Extracting and downsampling... 449  frames from the video.\n"
     ]
    },
    {
     "name": "stderr",
     "output_type": "stream",
     "text": [
      "449it [00:02, 194.15it/s]\n"
     ]
    },
    {
     "name": "stdout",
     "output_type": "stream",
     "text": [
      "Kmeans clustering ... (this might take a while)\n"
     ]
    },
    {
     "name": "stderr",
     "output_type": "stream",
     "text": [
      "15it [00:00, 144.34it/s]"
     ]
    },
    {
     "name": "stdout",
     "output_type": "stream",
     "text": [
      "Extracting frames based on kmeans ...\n",
      "Kmeans-quantization based extracting of frames from 0.0  seconds to 19.4  seconds.\n",
      "Extracting and downsampling... 582  frames from the video.\n"
     ]
    },
    {
     "name": "stderr",
     "output_type": "stream",
     "text": [
      "582it [00:02, 195.94it/s]\n"
     ]
    },
    {
     "name": "stdout",
     "output_type": "stream",
     "text": [
      "Kmeans clustering ... (this might take a while)\n"
     ]
    },
    {
     "name": "stderr",
     "output_type": "stream",
     "text": [
      "17it [00:00, 166.73it/s]"
     ]
    },
    {
     "name": "stdout",
     "output_type": "stream",
     "text": [
      "Extracting frames based on kmeans ...\n",
      "Kmeans-quantization based extracting of frames from 0.0  seconds to 16.0  seconds.\n",
      "Extracting and downsampling... 480  frames from the video.\n"
     ]
    },
    {
     "name": "stderr",
     "output_type": "stream",
     "text": [
      "480it [00:02, 204.37it/s]\n"
     ]
    },
    {
     "name": "stdout",
     "output_type": "stream",
     "text": [
      "Kmeans clustering ... (this might take a while)\n"
     ]
    },
    {
     "name": "stderr",
     "output_type": "stream",
     "text": [
      "16it [00:00, 152.46it/s]"
     ]
    },
    {
     "name": "stdout",
     "output_type": "stream",
     "text": [
      "Extracting frames based on kmeans ...\n",
      "Kmeans-quantization based extracting of frames from 0.0  seconds to 19.43  seconds.\n",
      "Extracting and downsampling... 583  frames from the video.\n"
     ]
    },
    {
     "name": "stderr",
     "output_type": "stream",
     "text": [
      "583it [00:02, 198.61it/s]\n"
     ]
    },
    {
     "name": "stdout",
     "output_type": "stream",
     "text": [
      "Kmeans clustering ... (this might take a while)\n"
     ]
    },
    {
     "name": "stderr",
     "output_type": "stream",
     "text": [
      "17it [00:00, 156.26it/s]"
     ]
    },
    {
     "name": "stdout",
     "output_type": "stream",
     "text": [
      "Extracting frames based on kmeans ...\n",
      "Kmeans-quantization based extracting of frames from 0.0  seconds to 24.5  seconds.\n",
      "Extracting and downsampling... 735  frames from the video.\n"
     ]
    },
    {
     "name": "stderr",
     "output_type": "stream",
     "text": [
      "735it [00:03, 203.98it/s]\n"
     ]
    },
    {
     "name": "stdout",
     "output_type": "stream",
     "text": [
      "Kmeans clustering ... (this might take a while)\n"
     ]
    },
    {
     "name": "stderr",
     "output_type": "stream",
     "text": [
      "15it [00:00, 148.60it/s]"
     ]
    },
    {
     "name": "stdout",
     "output_type": "stream",
     "text": [
      "Extracting frames based on kmeans ...\n",
      "Kmeans-quantization based extracting of frames from 0.0  seconds to 93.27  seconds.\n",
      "Extracting and downsampling... 2798  frames from the video.\n"
     ]
    },
    {
     "name": "stderr",
     "output_type": "stream",
     "text": [
      "2798it [00:14, 191.16it/s]\n"
     ]
    },
    {
     "name": "stdout",
     "output_type": "stream",
     "text": [
      "Kmeans clustering ... (this might take a while)\n"
     ]
    },
    {
     "name": "stderr",
     "output_type": "stream",
     "text": [
      "15it [00:00, 144.31it/s]"
     ]
    },
    {
     "name": "stdout",
     "output_type": "stream",
     "text": [
      "Extracting frames based on kmeans ...\n",
      "Kmeans-quantization based extracting of frames from 0.0  seconds to 9.73  seconds.\n",
      "Extracting and downsampling... 292  frames from the video.\n"
     ]
    },
    {
     "name": "stderr",
     "output_type": "stream",
     "text": [
      "292it [00:01, 198.21it/s]\n"
     ]
    },
    {
     "name": "stdout",
     "output_type": "stream",
     "text": [
      "Kmeans clustering ... (this might take a while)\n"
     ]
    },
    {
     "name": "stderr",
     "output_type": "stream",
     "text": [
      "15it [00:00, 142.96it/s]"
     ]
    },
    {
     "name": "stdout",
     "output_type": "stream",
     "text": [
      "Extracting frames based on kmeans ...\n",
      "Kmeans-quantization based extracting of frames from 0.0  seconds to 132.63  seconds.\n",
      "Extracting and downsampling... 3979  frames from the video.\n"
     ]
    },
    {
     "name": "stderr",
     "output_type": "stream",
     "text": [
      "3979it [00:19, 201.77it/s]\n"
     ]
    },
    {
     "name": "stdout",
     "output_type": "stream",
     "text": [
      "Kmeans clustering ... (this might take a while)\n"
     ]
    },
    {
     "name": "stderr",
     "output_type": "stream",
     "text": [
      "14it [00:00, 137.33it/s]"
     ]
    },
    {
     "name": "stdout",
     "output_type": "stream",
     "text": [
      "Extracting frames based on kmeans ...\n",
      "Kmeans-quantization based extracting of frames from 0.0  seconds to 170.63  seconds.\n",
      "Extracting and downsampling... 5119  frames from the video.\n"
     ]
    },
    {
     "name": "stderr",
     "output_type": "stream",
     "text": [
      "5119it [00:25, 201.87it/s]\n"
     ]
    },
    {
     "name": "stdout",
     "output_type": "stream",
     "text": [
      "Kmeans clustering ... (this might take a while)\n"
     ]
    },
    {
     "name": "stderr",
     "output_type": "stream",
     "text": [
      "15it [00:00, 145.71it/s]"
     ]
    },
    {
     "name": "stdout",
     "output_type": "stream",
     "text": [
      "Extracting frames based on kmeans ...\n",
      "Kmeans-quantization based extracting of frames from 0.0  seconds to 127.47  seconds.\n",
      "Extracting and downsampling... 3824  frames from the video.\n"
     ]
    },
    {
     "name": "stderr",
     "output_type": "stream",
     "text": [
      "3824it [00:19, 200.01it/s]\n"
     ]
    },
    {
     "name": "stdout",
     "output_type": "stream",
     "text": [
      "Kmeans clustering ... (this might take a while)\n"
     ]
    },
    {
     "name": "stderr",
     "output_type": "stream",
     "text": [
      "15it [00:00, 145.68it/s]"
     ]
    },
    {
     "name": "stdout",
     "output_type": "stream",
     "text": [
      "Extracting frames based on kmeans ...\n",
      "Kmeans-quantization based extracting of frames from 0.0  seconds to 167.0  seconds.\n",
      "Extracting and downsampling... 5010  frames from the video.\n"
     ]
    },
    {
     "name": "stderr",
     "output_type": "stream",
     "text": [
      "5010it [00:24, 201.26it/s]\n"
     ]
    },
    {
     "name": "stdout",
     "output_type": "stream",
     "text": [
      "Kmeans clustering ... (this might take a while)\n"
     ]
    },
    {
     "name": "stderr",
     "output_type": "stream",
     "text": [
      "16it [00:00, 152.46it/s]"
     ]
    },
    {
     "name": "stdout",
     "output_type": "stream",
     "text": [
      "Extracting frames based on kmeans ...\n",
      "Kmeans-quantization based extracting of frames from 0.0  seconds to 73.33  seconds.\n",
      "Extracting and downsampling... 2200  frames from the video.\n"
     ]
    },
    {
     "name": "stderr",
     "output_type": "stream",
     "text": [
      "2200it [00:10, 204.42it/s]\n"
     ]
    },
    {
     "name": "stdout",
     "output_type": "stream",
     "text": [
      "Kmeans clustering ... (this might take a while)\n"
     ]
    },
    {
     "name": "stderr",
     "output_type": "stream",
     "text": [
      "16it [00:00, 155.42it/s]"
     ]
    },
    {
     "name": "stdout",
     "output_type": "stream",
     "text": [
      "Extracting frames based on kmeans ...\n",
      "Kmeans-quantization based extracting of frames from 0.0  seconds to 154.4  seconds.\n",
      "Extracting and downsampling... 4632  frames from the video.\n"
     ]
    },
    {
     "name": "stderr",
     "output_type": "stream",
     "text": [
      "4632it [00:22, 208.36it/s]\n"
     ]
    },
    {
     "name": "stdout",
     "output_type": "stream",
     "text": [
      "Kmeans clustering ... (this might take a while)\n"
     ]
    },
    {
     "name": "stderr",
     "output_type": "stream",
     "text": [
      "16it [00:00, 158.50it/s]"
     ]
    },
    {
     "name": "stdout",
     "output_type": "stream",
     "text": [
      "Extracting frames based on kmeans ...\n",
      "Kmeans-quantization based extracting of frames from 0.0  seconds to 146.9  seconds.\n",
      "Extracting and downsampling... 4407  frames from the video.\n"
     ]
    },
    {
     "name": "stderr",
     "output_type": "stream",
     "text": [
      "4407it [00:20, 211.30it/s]\n"
     ]
    },
    {
     "name": "stdout",
     "output_type": "stream",
     "text": [
      "Kmeans clustering ... (this might take a while)\n"
     ]
    },
    {
     "name": "stderr",
     "output_type": "stream",
     "text": [
      "39it [00:00, 172.83it/s]"
     ]
    },
    {
     "name": "stdout",
     "output_type": "stream",
     "text": [
      "Extracting frames based on kmeans ...\n",
      "Kmeans-quantization based extracting of frames from 0.0  seconds to 59.33  seconds.\n",
      "Extracting and downsampling... 1780  frames from the video.\n"
     ]
    },
    {
     "name": "stderr",
     "output_type": "stream",
     "text": [
      "1780it [00:08, 215.50it/s]\n"
     ]
    },
    {
     "name": "stdout",
     "output_type": "stream",
     "text": [
      "Kmeans clustering ... (this might take a while)\n"
     ]
    },
    {
     "name": "stderr",
     "output_type": "stream",
     "text": [
      "41it [00:00, 191.58it/s]"
     ]
    },
    {
     "name": "stdout",
     "output_type": "stream",
     "text": [
      "Extracting frames based on kmeans ...\n",
      "Kmeans-quantization based extracting of frames from 0.0  seconds to 41.47  seconds.\n",
      "Extracting and downsampling... 1244  frames from the video.\n"
     ]
    },
    {
     "name": "stderr",
     "output_type": "stream",
     "text": [
      "1244it [00:05, 216.92it/s]\n"
     ]
    },
    {
     "name": "stdout",
     "output_type": "stream",
     "text": [
      "Kmeans clustering ... (this might take a while)\n"
     ]
    },
    {
     "name": "stderr",
     "output_type": "stream",
     "text": [
      "19it [00:00, 181.05it/s]"
     ]
    },
    {
     "name": "stdout",
     "output_type": "stream",
     "text": [
      "Extracting frames based on kmeans ...\n",
      "Kmeans-quantization based extracting of frames from 0.0  seconds to 69.1  seconds.\n",
      "Extracting and downsampling... 2073  frames from the video.\n"
     ]
    },
    {
     "name": "stderr",
     "output_type": "stream",
     "text": [
      "2073it [00:09, 213.79it/s]\n"
     ]
    },
    {
     "name": "stdout",
     "output_type": "stream",
     "text": [
      "Kmeans clustering ... (this might take a while)\n"
     ]
    },
    {
     "name": "stderr",
     "output_type": "stream",
     "text": [
      "16it [00:00, 158.47it/s]"
     ]
    },
    {
     "name": "stdout",
     "output_type": "stream",
     "text": [
      "Extracting frames based on kmeans ...\n",
      "Kmeans-quantization based extracting of frames from 0.0  seconds to 69.27  seconds.\n",
      "Extracting and downsampling... 2078  frames from the video.\n"
     ]
    },
    {
     "name": "stderr",
     "output_type": "stream",
     "text": [
      "2078it [00:09, 213.69it/s]\n"
     ]
    },
    {
     "name": "stdout",
     "output_type": "stream",
     "text": [
      "Kmeans clustering ... (this might take a while)\n"
     ]
    },
    {
     "name": "stderr",
     "output_type": "stream",
     "text": [
      "16it [00:00, 158.50it/s]"
     ]
    },
    {
     "name": "stdout",
     "output_type": "stream",
     "text": [
      "Extracting frames based on kmeans ...\n",
      "Kmeans-quantization based extracting of frames from 0.0  seconds to 43.6  seconds.\n",
      "Extracting and downsampling... 1308  frames from the video.\n"
     ]
    },
    {
     "name": "stderr",
     "output_type": "stream",
     "text": [
      "1308it [00:06, 215.75it/s]\n"
     ]
    },
    {
     "name": "stdout",
     "output_type": "stream",
     "text": [
      "Kmeans clustering ... (this might take a while)\n"
     ]
    },
    {
     "name": "stderr",
     "output_type": "stream",
     "text": [
      "16it [00:00, 158.47it/s]"
     ]
    },
    {
     "name": "stdout",
     "output_type": "stream",
     "text": [
      "Extracting frames based on kmeans ...\n",
      "Kmeans-quantization based extracting of frames from 0.0  seconds to 54.63  seconds.\n",
      "Extracting and downsampling... 1639  frames from the video.\n"
     ]
    },
    {
     "name": "stderr",
     "output_type": "stream",
     "text": [
      "1639it [00:07, 212.37it/s]\n"
     ]
    },
    {
     "name": "stdout",
     "output_type": "stream",
     "text": [
      "Kmeans clustering ... (this might take a while)\n"
     ]
    },
    {
     "name": "stderr",
     "output_type": "stream",
     "text": [
      "18it [00:00, 178.32it/s]"
     ]
    },
    {
     "name": "stdout",
     "output_type": "stream",
     "text": [
      "Extracting frames based on kmeans ...\n",
      "Kmeans-quantization based extracting of frames from 0.0  seconds to 27.03  seconds.\n",
      "Extracting and downsampling... 811  frames from the video.\n"
     ]
    },
    {
     "name": "stderr",
     "output_type": "stream",
     "text": [
      "811it [00:03, 211.65it/s]\n"
     ]
    },
    {
     "name": "stdout",
     "output_type": "stream",
     "text": [
      "Kmeans clustering ... (this might take a while)\n"
     ]
    },
    {
     "name": "stderr",
     "output_type": "stream",
     "text": [
      "40it [00:00, 188.12it/s]"
     ]
    },
    {
     "name": "stdout",
     "output_type": "stream",
     "text": [
      "Extracting frames based on kmeans ...\n",
      "Kmeans-quantization based extracting of frames from 0.0  seconds to 54.33  seconds.\n",
      "Extracting and downsampling... 1630  frames from the video.\n"
     ]
    },
    {
     "name": "stderr",
     "output_type": "stream",
     "text": [
      "1630it [00:07, 212.05it/s]\n"
     ]
    },
    {
     "name": "stdout",
     "output_type": "stream",
     "text": [
      "Kmeans clustering ... (this might take a while)\n"
     ]
    },
    {
     "name": "stderr",
     "output_type": "stream",
     "text": [
      "16it [00:00, 156.95it/s]"
     ]
    },
    {
     "name": "stdout",
     "output_type": "stream",
     "text": [
      "Extracting frames based on kmeans ...\n",
      "Kmeans-quantization based extracting of frames from 0.0  seconds to 28.13  seconds.\n",
      "Extracting and downsampling... 844  frames from the video.\n"
     ]
    },
    {
     "name": "stderr",
     "output_type": "stream",
     "text": [
      "844it [00:04, 210.91it/s]\n"
     ]
    },
    {
     "name": "stdout",
     "output_type": "stream",
     "text": [
      "Kmeans clustering ... (this might take a while)\n"
     ]
    },
    {
     "name": "stderr",
     "output_type": "stream",
     "text": [
      "18it [00:00, 174.83it/s]"
     ]
    },
    {
     "name": "stdout",
     "output_type": "stream",
     "text": [
      "Extracting frames based on kmeans ...\n",
      "Kmeans-quantization based extracting of frames from 0.0  seconds to 18.47  seconds.\n",
      "Extracting and downsampling... 554  frames from the video.\n"
     ]
    },
    {
     "name": "stderr",
     "output_type": "stream",
     "text": [
      "554it [00:02, 210.44it/s]\n"
     ]
    },
    {
     "name": "stdout",
     "output_type": "stream",
     "text": [
      "Kmeans clustering ... (this might take a while)\n"
     ]
    },
    {
     "name": "stderr",
     "output_type": "stream",
     "text": [
      "18it [00:00, 173.17it/s]"
     ]
    },
    {
     "name": "stdout",
     "output_type": "stream",
     "text": [
      "Extracting frames based on kmeans ...\n",
      "Kmeans-quantization based extracting of frames from 0.0  seconds to 21.17  seconds.\n",
      "Extracting and downsampling... 635  frames from the video.\n"
     ]
    },
    {
     "name": "stderr",
     "output_type": "stream",
     "text": [
      "635it [00:03, 205.82it/s]\n"
     ]
    },
    {
     "name": "stdout",
     "output_type": "stream",
     "text": [
      "Kmeans clustering ... (this might take a while)\n"
     ]
    },
    {
     "name": "stderr",
     "output_type": "stream",
     "text": [
      "16it [00:00, 156.94it/s]"
     ]
    },
    {
     "name": "stdout",
     "output_type": "stream",
     "text": [
      "Extracting frames based on kmeans ...\n",
      "Kmeans-quantization based extracting of frames from 0.0  seconds to 24.0  seconds.\n",
      "Extracting and downsampling... 720  frames from the video.\n"
     ]
    },
    {
     "name": "stderr",
     "output_type": "stream",
     "text": [
      "720it [00:03, 206.72it/s]\n"
     ]
    },
    {
     "name": "stdout",
     "output_type": "stream",
     "text": [
      "Kmeans clustering ... (this might take a while)\n"
     ]
    },
    {
     "name": "stderr",
     "output_type": "stream",
     "text": [
      "16it [00:00, 156.95it/s]"
     ]
    },
    {
     "name": "stdout",
     "output_type": "stream",
     "text": [
      "Extracting frames based on kmeans ...\n",
      "Kmeans-quantization based extracting of frames from 0.0  seconds to 18.87  seconds.\n",
      "Extracting and downsampling... 566  frames from the video.\n"
     ]
    },
    {
     "name": "stderr",
     "output_type": "stream",
     "text": [
      "566it [00:02, 196.78it/s]\n"
     ]
    },
    {
     "name": "stdout",
     "output_type": "stream",
     "text": [
      "Kmeans clustering ... (this might take a while)\n"
     ]
    },
    {
     "name": "stderr",
     "output_type": "stream",
     "text": [
      "16it [00:00, 156.92it/s]"
     ]
    },
    {
     "name": "stdout",
     "output_type": "stream",
     "text": [
      "Extracting frames based on kmeans ...\n",
      "Kmeans-quantization based extracting of frames from 0.0  seconds to 34.3  seconds.\n",
      "Extracting and downsampling... 1029  frames from the video.\n"
     ]
    },
    {
     "name": "stderr",
     "output_type": "stream",
     "text": [
      "1029it [00:05, 198.99it/s]\n"
     ]
    },
    {
     "name": "stdout",
     "output_type": "stream",
     "text": [
      "Kmeans clustering ... (this might take a while)\n"
     ]
    },
    {
     "name": "stderr",
     "output_type": "stream",
     "text": [
      "17it [00:00, 162.00it/s]"
     ]
    },
    {
     "name": "stdout",
     "output_type": "stream",
     "text": [
      "Extracting frames based on kmeans ...\n",
      "Kmeans-quantization based extracting of frames from 0.0  seconds to 29.73  seconds.\n",
      "Extracting and downsampling... 892  frames from the video.\n"
     ]
    },
    {
     "name": "stderr",
     "output_type": "stream",
     "text": [
      "892it [00:04, 198.61it/s]\n"
     ]
    },
    {
     "name": "stdout",
     "output_type": "stream",
     "text": [
      "Kmeans clustering ... (this might take a while)\n"
     ]
    },
    {
     "name": "stderr",
     "output_type": "stream",
     "text": [
      "15it [00:00, 142.91it/s]"
     ]
    },
    {
     "name": "stdout",
     "output_type": "stream",
     "text": [
      "Extracting frames based on kmeans ...\n",
      "Kmeans-quantization based extracting of frames from 0.0  seconds to 60.7  seconds.\n",
      "Extracting and downsampling... 1821  frames from the video.\n"
     ]
    },
    {
     "name": "stderr",
     "output_type": "stream",
     "text": [
      "1821it [00:09, 198.92it/s]\n"
     ]
    },
    {
     "name": "stdout",
     "output_type": "stream",
     "text": [
      "Kmeans clustering ... (this might take a while)\n"
     ]
    },
    {
     "name": "stderr",
     "output_type": "stream",
     "text": [
      "14it [00:00, 136.00it/s]"
     ]
    },
    {
     "name": "stdout",
     "output_type": "stream",
     "text": [
      "Extracting frames based on kmeans ...\n",
      "Kmeans-quantization based extracting of frames from 0.0  seconds to 23.47  seconds.\n",
      "Extracting and downsampling... 704  frames from the video.\n"
     ]
    },
    {
     "name": "stderr",
     "output_type": "stream",
     "text": [
      "704it [00:03, 193.73it/s]\n"
     ]
    },
    {
     "name": "stdout",
     "output_type": "stream",
     "text": [
      "Kmeans clustering ... (this might take a while)\n"
     ]
    },
    {
     "name": "stderr",
     "output_type": "stream",
     "text": [
      "16it [00:00, 155.40it/s]"
     ]
    },
    {
     "name": "stdout",
     "output_type": "stream",
     "text": [
      "Extracting frames based on kmeans ...\n",
      "Kmeans-quantization based extracting of frames from 0.0  seconds to 34.57  seconds.\n",
      "Extracting and downsampling... 1037  frames from the video.\n"
     ]
    },
    {
     "name": "stderr",
     "output_type": "stream",
     "text": [
      "1037it [00:05, 196.25it/s]\n"
     ]
    },
    {
     "name": "stdout",
     "output_type": "stream",
     "text": [
      "Kmeans clustering ... (this might take a while)\n"
     ]
    },
    {
     "name": "stderr",
     "output_type": "stream",
     "text": [
      "14it [00:00, 137.34it/s]"
     ]
    },
    {
     "name": "stdout",
     "output_type": "stream",
     "text": [
      "Extracting frames based on kmeans ...\n",
      "Kmeans-quantization based extracting of frames from 0.0  seconds to 17.03  seconds.\n",
      "Extracting and downsampling... 511  frames from the video.\n"
     ]
    },
    {
     "name": "stderr",
     "output_type": "stream",
     "text": [
      "511it [00:02, 192.07it/s]\n"
     ]
    },
    {
     "name": "stdout",
     "output_type": "stream",
     "text": [
      "Kmeans clustering ... (this might take a while)\n"
     ]
    },
    {
     "name": "stderr",
     "output_type": "stream",
     "text": [
      "17it [00:00, 161.99it/s]"
     ]
    },
    {
     "name": "stdout",
     "output_type": "stream",
     "text": [
      "Extracting frames based on kmeans ...\n",
      "Kmeans-quantization based extracting of frames from 0.0  seconds to 51.5  seconds.\n",
      "Extracting and downsampling... 1545  frames from the video.\n"
     ]
    },
    {
     "name": "stderr",
     "output_type": "stream",
     "text": [
      "1545it [00:07, 199.08it/s]\n"
     ]
    },
    {
     "name": "stdout",
     "output_type": "stream",
     "text": [
      "Kmeans clustering ... (this might take a while)\n"
     ]
    },
    {
     "name": "stderr",
     "output_type": "stream",
     "text": [
      "16it [00:00, 158.50it/s]"
     ]
    },
    {
     "name": "stdout",
     "output_type": "stream",
     "text": [
      "Extracting frames based on kmeans ...\n",
      "Kmeans-quantization based extracting of frames from 0.0  seconds to 44.17  seconds.\n",
      "Extracting and downsampling... 1325  frames from the video.\n"
     ]
    },
    {
     "name": "stderr",
     "output_type": "stream",
     "text": [
      "1325it [00:06, 199.27it/s]\n"
     ]
    },
    {
     "name": "stdout",
     "output_type": "stream",
     "text": [
      "Kmeans clustering ... (this might take a while)\n"
     ]
    },
    {
     "name": "stderr",
     "output_type": "stream",
     "text": [
      "14it [00:00, 137.33it/s]"
     ]
    },
    {
     "name": "stdout",
     "output_type": "stream",
     "text": [
      "Extracting frames based on kmeans ...\n",
      "Kmeans-quantization based extracting of frames from 0.0  seconds to 103.5  seconds.\n",
      "Extracting and downsampling... 3105  frames from the video.\n"
     ]
    },
    {
     "name": "stderr",
     "output_type": "stream",
     "text": [
      "3105it [00:15, 196.80it/s]\n"
     ]
    },
    {
     "name": "stdout",
     "output_type": "stream",
     "text": [
      "Kmeans clustering ... (this might take a while)\n"
     ]
    },
    {
     "name": "stderr",
     "output_type": "stream",
     "text": [
      "14it [00:00, 133.39it/s]"
     ]
    },
    {
     "name": "stdout",
     "output_type": "stream",
     "text": [
      "Extracting frames based on kmeans ...\n",
      "Kmeans-quantization based extracting of frames from 0.0  seconds to 31.87  seconds.\n",
      "Extracting and downsampling... 956  frames from the video.\n"
     ]
    },
    {
     "name": "stderr",
     "output_type": "stream",
     "text": [
      "956it [00:04, 197.09it/s]\n"
     ]
    },
    {
     "name": "stdout",
     "output_type": "stream",
     "text": [
      "Kmeans clustering ... (this might take a while)\n"
     ]
    },
    {
     "name": "stderr",
     "output_type": "stream",
     "text": [
      "14it [00:00, 137.30it/s]"
     ]
    },
    {
     "name": "stdout",
     "output_type": "stream",
     "text": [
      "Extracting frames based on kmeans ...\n",
      "Kmeans-quantization based extracting of frames from 0.0  seconds to 23.77  seconds.\n",
      "Extracting and downsampling... 713  frames from the video.\n"
     ]
    },
    {
     "name": "stderr",
     "output_type": "stream",
     "text": [
      "713it [00:03, 197.40it/s]\n"
     ]
    },
    {
     "name": "stdout",
     "output_type": "stream",
     "text": [
      "Kmeans clustering ... (this might take a while)\n"
     ]
    },
    {
     "name": "stderr",
     "output_type": "stream",
     "text": [
      "16it [00:00, 151.00it/s]"
     ]
    },
    {
     "name": "stdout",
     "output_type": "stream",
     "text": [
      "Extracting frames based on kmeans ...\n",
      "Kmeans-quantization based extracting of frames from 0.0  seconds to 23.13  seconds.\n",
      "Extracting and downsampling... 694  frames from the video.\n"
     ]
    },
    {
     "name": "stderr",
     "output_type": "stream",
     "text": [
      "694it [00:03, 196.04it/s]\n"
     ]
    },
    {
     "name": "stdout",
     "output_type": "stream",
     "text": [
      "Kmeans clustering ... (this might take a while)\n"
     ]
    },
    {
     "name": "stderr",
     "output_type": "stream",
     "text": [
      "15it [00:00, 141.59it/s]"
     ]
    },
    {
     "name": "stdout",
     "output_type": "stream",
     "text": [
      "Extracting frames based on kmeans ...\n",
      "Kmeans-quantization based extracting of frames from 0.0  seconds to 19.17  seconds.\n",
      "Extracting and downsampling... 575  frames from the video.\n"
     ]
    },
    {
     "name": "stderr",
     "output_type": "stream",
     "text": [
      "575it [00:02, 192.03it/s]\n"
     ]
    },
    {
     "name": "stdout",
     "output_type": "stream",
     "text": [
      "Kmeans clustering ... (this might take a while)\n"
     ]
    },
    {
     "name": "stderr",
     "output_type": "stream",
     "text": [
      "17it [00:00, 168.41it/s]"
     ]
    },
    {
     "name": "stdout",
     "output_type": "stream",
     "text": [
      "Extracting frames based on kmeans ...\n",
      "Kmeans-quantization based extracting of frames from 0.0  seconds to 21.83  seconds.\n",
      "Extracting and downsampling... 655  frames from the video.\n"
     ]
    },
    {
     "name": "stderr",
     "output_type": "stream",
     "text": [
      "655it [00:03, 198.60it/s]\n"
     ]
    },
    {
     "name": "stdout",
     "output_type": "stream",
     "text": [
      "Kmeans clustering ... (this might take a while)\n"
     ]
    },
    {
     "name": "stderr",
     "output_type": "stream",
     "text": [
      "17it [00:00, 161.99it/s]"
     ]
    },
    {
     "name": "stdout",
     "output_type": "stream",
     "text": [
      "Extracting frames based on kmeans ...\n",
      "Kmeans-quantization based extracting of frames from 0.0  seconds to 166.13  seconds.\n",
      "Extracting and downsampling... 4984  frames from the video.\n"
     ]
    },
    {
     "name": "stderr",
     "output_type": "stream",
     "text": [
      "4984it [00:24, 202.42it/s]\n"
     ]
    },
    {
     "name": "stdout",
     "output_type": "stream",
     "text": [
      "Kmeans clustering ... (this might take a while)\n"
     ]
    },
    {
     "name": "stderr",
     "output_type": "stream",
     "text": [
      "15it [00:00, 144.29it/s]"
     ]
    },
    {
     "name": "stdout",
     "output_type": "stream",
     "text": [
      "Extracting frames based on kmeans ...\n",
      "Kmeans-quantization based extracting of frames from 0.0  seconds to 161.03  seconds.\n",
      "Extracting and downsampling... 4831  frames from the video.\n"
     ]
    },
    {
     "name": "stderr",
     "output_type": "stream",
     "text": [
      "4831it [00:23, 201.74it/s]\n"
     ]
    },
    {
     "name": "stdout",
     "output_type": "stream",
     "text": [
      "Kmeans clustering ... (this might take a while)\n"
     ]
    },
    {
     "name": "stderr",
     "output_type": "stream",
     "text": [
      "14it [00:00, 138.70it/s]"
     ]
    },
    {
     "name": "stdout",
     "output_type": "stream",
     "text": [
      "Extracting frames based on kmeans ...\n",
      "Kmeans-quantization based extracting of frames from 0.0  seconds to 140.1  seconds.\n",
      "Extracting and downsampling... 4203  frames from the video.\n"
     ]
    },
    {
     "name": "stderr",
     "output_type": "stream",
     "text": [
      "4203it [00:20, 201.69it/s]\n"
     ]
    },
    {
     "name": "stdout",
     "output_type": "stream",
     "text": [
      "Kmeans clustering ... (this might take a while)\n"
     ]
    },
    {
     "name": "stderr",
     "output_type": "stream",
     "text": [
      "15it [00:00, 144.28it/s]"
     ]
    },
    {
     "name": "stdout",
     "output_type": "stream",
     "text": [
      "Extracting frames based on kmeans ...\n",
      "Kmeans-quantization based extracting of frames from 0.0  seconds to 169.87  seconds.\n",
      "Extracting and downsampling... 5096  frames from the video.\n"
     ]
    },
    {
     "name": "stderr",
     "output_type": "stream",
     "text": [
      "5096it [00:25, 199.74it/s]\n"
     ]
    },
    {
     "name": "stdout",
     "output_type": "stream",
     "text": [
      "Kmeans clustering ... (this might take a while)\n"
     ]
    },
    {
     "name": "stderr",
     "output_type": "stream",
     "text": [
      "15it [00:00, 142.91it/s]"
     ]
    },
    {
     "name": "stdout",
     "output_type": "stream",
     "text": [
      "Extracting frames based on kmeans ...\n",
      "Kmeans-quantization based extracting of frames from 0.0  seconds to 147.6  seconds.\n",
      "Extracting and downsampling... 4428  frames from the video.\n"
     ]
    },
    {
     "name": "stderr",
     "output_type": "stream",
     "text": [
      "4428it [00:21, 203.05it/s]\n"
     ]
    },
    {
     "name": "stdout",
     "output_type": "stream",
     "text": [
      "Kmeans clustering ... (this might take a while)\n"
     ]
    },
    {
     "name": "stderr",
     "output_type": "stream",
     "text": [
      "15it [00:00, 142.94it/s]"
     ]
    },
    {
     "name": "stdout",
     "output_type": "stream",
     "text": [
      "Extracting frames based on kmeans ...\n",
      "Kmeans-quantization based extracting of frames from 0.0  seconds to 153.03  seconds.\n",
      "Extracting and downsampling... 4591  frames from the video.\n"
     ]
    },
    {
     "name": "stderr",
     "output_type": "stream",
     "text": [
      "4591it [00:22, 200.56it/s]\n"
     ]
    },
    {
     "name": "stdout",
     "output_type": "stream",
     "text": [
      "Kmeans clustering ... (this might take a while)\n"
     ]
    },
    {
     "name": "stderr",
     "output_type": "stream",
     "text": [
      "15it [00:00, 142.94it/s]"
     ]
    },
    {
     "name": "stdout",
     "output_type": "stream",
     "text": [
      "Extracting frames based on kmeans ...\n",
      "Kmeans-quantization based extracting of frames from 0.0  seconds to 154.37  seconds.\n",
      "Extracting and downsampling... 4631  frames from the video.\n"
     ]
    },
    {
     "name": "stderr",
     "output_type": "stream",
     "text": [
      "4631it [00:23, 200.61it/s]\n"
     ]
    },
    {
     "name": "stdout",
     "output_type": "stream",
     "text": [
      "Kmeans clustering ... (this might take a while)\n"
     ]
    },
    {
     "name": "stderr",
     "output_type": "stream",
     "text": [
      "14it [00:00, 135.98it/s]"
     ]
    },
    {
     "name": "stdout",
     "output_type": "stream",
     "text": [
      "Extracting frames based on kmeans ...\n",
      "Kmeans-quantization based extracting of frames from 0.0  seconds to 127.9  seconds.\n",
      "Extracting and downsampling... 3837  frames from the video.\n"
     ]
    },
    {
     "name": "stderr",
     "output_type": "stream",
     "text": [
      "3837it [00:19, 199.61it/s]\n"
     ]
    },
    {
     "name": "stdout",
     "output_type": "stream",
     "text": [
      "Kmeans clustering ... (this might take a while)\n"
     ]
    },
    {
     "name": "stderr",
     "output_type": "stream",
     "text": [
      "14it [00:00, 138.67it/s]"
     ]
    },
    {
     "name": "stdout",
     "output_type": "stream",
     "text": [
      "Extracting frames based on kmeans ...\n",
      "Kmeans-quantization based extracting of frames from 0.0  seconds to 134.63  seconds.\n",
      "Extracting and downsampling... 4039  frames from the video.\n"
     ]
    },
    {
     "name": "stderr",
     "output_type": "stream",
     "text": [
      "4039it [00:20, 200.82it/s]\n"
     ]
    },
    {
     "name": "stdout",
     "output_type": "stream",
     "text": [
      "Kmeans clustering ... (this might take a while)\n"
     ]
    },
    {
     "name": "stderr",
     "output_type": "stream",
     "text": [
      "16it [00:00, 155.40it/s]"
     ]
    },
    {
     "name": "stdout",
     "output_type": "stream",
     "text": [
      "Extracting frames based on kmeans ...\n",
      "Kmeans-quantization based extracting of frames from 0.0  seconds to 175.37  seconds.\n",
      "Extracting and downsampling... 5261  frames from the video.\n"
     ]
    },
    {
     "name": "stderr",
     "output_type": "stream",
     "text": [
      "5261it [00:26, 200.96it/s]\n"
     ]
    },
    {
     "name": "stdout",
     "output_type": "stream",
     "text": [
      "Kmeans clustering ... (this might take a while)\n"
     ]
    },
    {
     "name": "stderr",
     "output_type": "stream",
     "text": [
      "15it [00:00, 144.29it/s]"
     ]
    },
    {
     "name": "stdout",
     "output_type": "stream",
     "text": [
      "Extracting frames based on kmeans ...\n",
      "Kmeans-quantization based extracting of frames from 0.0  seconds to 147.03  seconds.\n",
      "Extracting and downsampling... 4411  frames from the video.\n"
     ]
    },
    {
     "name": "stderr",
     "output_type": "stream",
     "text": [
      "4411it [00:21, 202.27it/s]\n"
     ]
    },
    {
     "name": "stdout",
     "output_type": "stream",
     "text": [
      "Kmeans clustering ... (this might take a while)\n"
     ]
    },
    {
     "name": "stderr",
     "output_type": "stream",
     "text": [
      "15it [00:00, 142.91it/s]"
     ]
    },
    {
     "name": "stdout",
     "output_type": "stream",
     "text": [
      "Extracting frames based on kmeans ...\n",
      "Kmeans-quantization based extracting of frames from 0.0  seconds to 170.33  seconds.\n",
      "Extracting and downsampling... 5110  frames from the video.\n"
     ]
    },
    {
     "name": "stderr",
     "output_type": "stream",
     "text": [
      "5110it [00:25, 202.14it/s]\n"
     ]
    },
    {
     "name": "stdout",
     "output_type": "stream",
     "text": [
      "Kmeans clustering ... (this might take a while)\n"
     ]
    },
    {
     "name": "stderr",
     "output_type": "stream",
     "text": [
      "14it [00:00, 137.33it/s]"
     ]
    },
    {
     "name": "stdout",
     "output_type": "stream",
     "text": [
      "Extracting frames based on kmeans ...\n",
      "Kmeans-quantization based extracting of frames from 0.0  seconds to 150.73  seconds.\n",
      "Extracting and downsampling... 4522  frames from the video.\n"
     ]
    },
    {
     "name": "stderr",
     "output_type": "stream",
     "text": [
      "4522it [00:22, 201.32it/s]\n"
     ]
    },
    {
     "name": "stdout",
     "output_type": "stream",
     "text": [
      "Kmeans clustering ... (this might take a while)\n"
     ]
    },
    {
     "name": "stderr",
     "output_type": "stream",
     "text": [
      "14it [00:00, 138.67it/s]"
     ]
    },
    {
     "name": "stdout",
     "output_type": "stream",
     "text": [
      "Extracting frames based on kmeans ...\n",
      "Kmeans-quantization based extracting of frames from 0.0  seconds to 138.97  seconds.\n",
      "Extracting and downsampling... 4169  frames from the video.\n"
     ]
    },
    {
     "name": "stderr",
     "output_type": "stream",
     "text": [
      "4169it [00:20, 199.25it/s]\n"
     ]
    },
    {
     "name": "stdout",
     "output_type": "stream",
     "text": [
      "Kmeans clustering ... (this might take a while)\n"
     ]
    },
    {
     "name": "stderr",
     "output_type": "stream",
     "text": [
      "14it [00:00, 137.33it/s]"
     ]
    },
    {
     "name": "stdout",
     "output_type": "stream",
     "text": [
      "Extracting frames based on kmeans ...\n",
      "Kmeans-quantization based extracting of frames from 0.0  seconds to 160.63  seconds.\n",
      "Extracting and downsampling... 4819  frames from the video.\n"
     ]
    },
    {
     "name": "stderr",
     "output_type": "stream",
     "text": [
      "4819it [00:24, 197.74it/s]\n"
     ]
    },
    {
     "name": "stdout",
     "output_type": "stream",
     "text": [
      "Kmeans clustering ... (this might take a while)\n"
     ]
    },
    {
     "name": "stderr",
     "output_type": "stream",
     "text": [
      "15it [00:00, 142.94it/s]"
     ]
    },
    {
     "name": "stdout",
     "output_type": "stream",
     "text": [
      "Extracting frames based on kmeans ...\n",
      "Kmeans-quantization based extracting of frames from 0.0  seconds to 152.73  seconds.\n",
      "Extracting and downsampling... 4582  frames from the video.\n"
     ]
    },
    {
     "name": "stderr",
     "output_type": "stream",
     "text": [
      "4582it [00:22, 200.89it/s]\n"
     ]
    },
    {
     "name": "stdout",
     "output_type": "stream",
     "text": [
      "Kmeans clustering ... (this might take a while)\n"
     ]
    },
    {
     "name": "stderr",
     "output_type": "stream",
     "text": [
      "15it [00:00, 142.91it/s]"
     ]
    },
    {
     "name": "stdout",
     "output_type": "stream",
     "text": [
      "Extracting frames based on kmeans ...\n",
      "Kmeans-quantization based extracting of frames from 0.0  seconds to 171.63  seconds.\n",
      "Extracting and downsampling... 5149  frames from the video.\n"
     ]
    },
    {
     "name": "stderr",
     "output_type": "stream",
     "text": [
      "5149it [00:25, 201.34it/s]\n"
     ]
    },
    {
     "name": "stdout",
     "output_type": "stream",
     "text": [
      "Kmeans clustering ... (this might take a while)\n"
     ]
    },
    {
     "name": "stderr",
     "output_type": "stream",
     "text": [
      "15it [00:00, 142.92it/s]"
     ]
    },
    {
     "name": "stdout",
     "output_type": "stream",
     "text": [
      "Extracting frames based on kmeans ...\n",
      "Kmeans-quantization based extracting of frames from 0.0  seconds to 133.2  seconds.\n",
      "Extracting and downsampling... 3996  frames from the video.\n"
     ]
    },
    {
     "name": "stderr",
     "output_type": "stream",
     "text": [
      "3996it [00:19, 199.84it/s]\n"
     ]
    },
    {
     "name": "stdout",
     "output_type": "stream",
     "text": [
      "Kmeans clustering ... (this might take a while)\n"
     ]
    },
    {
     "name": "stderr",
     "output_type": "stream",
     "text": [
      "15it [00:00, 147.14it/s]"
     ]
    },
    {
     "name": "stdout",
     "output_type": "stream",
     "text": [
      "Extracting frames based on kmeans ...\n",
      "Kmeans-quantization based extracting of frames from 0.0  seconds to 158.23  seconds.\n",
      "Extracting and downsampling... 4747  frames from the video.\n"
     ]
    },
    {
     "name": "stderr",
     "output_type": "stream",
     "text": [
      "4747it [00:23, 199.28it/s]\n"
     ]
    },
    {
     "name": "stdout",
     "output_type": "stream",
     "text": [
      "Kmeans clustering ... (this might take a while)\n"
     ]
    },
    {
     "name": "stderr",
     "output_type": "stream",
     "text": [
      "15it [00:00, 144.29it/s]"
     ]
    },
    {
     "name": "stdout",
     "output_type": "stream",
     "text": [
      "Extracting frames based on kmeans ...\n",
      "Kmeans-quantization based extracting of frames from 0.0  seconds to 163.9  seconds.\n",
      "Extracting and downsampling... 4917  frames from the video.\n"
     ]
    },
    {
     "name": "stderr",
     "output_type": "stream",
     "text": [
      "4917it [00:24, 202.20it/s]\n"
     ]
    },
    {
     "name": "stdout",
     "output_type": "stream",
     "text": [
      "Kmeans clustering ... (this might take a while)\n"
     ]
    },
    {
     "name": "stderr",
     "output_type": "stream",
     "text": [
      "15it [00:00, 142.94it/s]"
     ]
    },
    {
     "name": "stdout",
     "output_type": "stream",
     "text": [
      "Extracting frames based on kmeans ...\n",
      "Kmeans-quantization based extracting of frames from 0.0  seconds to 157.87  seconds.\n",
      "Extracting and downsampling... 4736  frames from the video.\n"
     ]
    },
    {
     "name": "stderr",
     "output_type": "stream",
     "text": [
      "4736it [00:23, 200.41it/s]\n"
     ]
    },
    {
     "name": "stdout",
     "output_type": "stream",
     "text": [
      "Kmeans clustering ... (this might take a while)\n"
     ]
    },
    {
     "name": "stderr",
     "output_type": "stream",
     "text": [
      "15it [00:00, 142.90it/s]"
     ]
    },
    {
     "name": "stdout",
     "output_type": "stream",
     "text": [
      "Extracting frames based on kmeans ...\n",
      "Kmeans-quantization based extracting of frames from 0.0  seconds to 135.8  seconds.\n",
      "Extracting and downsampling... 4074  frames from the video.\n"
     ]
    },
    {
     "name": "stderr",
     "output_type": "stream",
     "text": [
      "4074it [00:20, 200.60it/s]\n"
     ]
    },
    {
     "name": "stdout",
     "output_type": "stream",
     "text": [
      "Kmeans clustering ... (this might take a while)\n"
     ]
    },
    {
     "name": "stderr",
     "output_type": "stream",
     "text": [
      "14it [00:00, 138.67it/s]"
     ]
    },
    {
     "name": "stdout",
     "output_type": "stream",
     "text": [
      "Extracting frames based on kmeans ...\n",
      "Kmeans-quantization based extracting of frames from 0.0  seconds to 164.83  seconds.\n",
      "Extracting and downsampling... 4945  frames from the video.\n"
     ]
    },
    {
     "name": "stderr",
     "output_type": "stream",
     "text": [
      "4945it [00:24, 200.31it/s]\n"
     ]
    },
    {
     "name": "stdout",
     "output_type": "stream",
     "text": [
      "Kmeans clustering ... (this might take a while)\n"
     ]
    },
    {
     "name": "stderr",
     "output_type": "stream",
     "text": [
      "15it [00:00, 144.31it/s]"
     ]
    },
    {
     "name": "stdout",
     "output_type": "stream",
     "text": [
      "Extracting frames based on kmeans ...\n",
      "Kmeans-quantization based extracting of frames from 0.0  seconds to 157.93  seconds.\n",
      "Extracting and downsampling... 4738  frames from the video.\n"
     ]
    },
    {
     "name": "stderr",
     "output_type": "stream",
     "text": [
      "4738it [00:23, 200.83it/s]\n"
     ]
    },
    {
     "name": "stdout",
     "output_type": "stream",
     "text": [
      "Kmeans clustering ... (this might take a while)\n"
     ]
    },
    {
     "name": "stderr",
     "output_type": "stream",
     "text": [
      "14it [00:00, 138.69it/s]"
     ]
    },
    {
     "name": "stdout",
     "output_type": "stream",
     "text": [
      "Extracting frames based on kmeans ...\n",
      "Kmeans-quantization based extracting of frames from 0.0  seconds to 122.37  seconds.\n",
      "Extracting and downsampling... 3671  frames from the video.\n"
     ]
    },
    {
     "name": "stderr",
     "output_type": "stream",
     "text": [
      "3671it [00:18, 199.75it/s]\n"
     ]
    },
    {
     "name": "stdout",
     "output_type": "stream",
     "text": [
      "Kmeans clustering ... (this might take a while)\n"
     ]
    },
    {
     "name": "stderr",
     "output_type": "stream",
     "text": [
      "15it [00:00, 147.12it/s]"
     ]
    },
    {
     "name": "stdout",
     "output_type": "stream",
     "text": [
      "Extracting frames based on kmeans ...\n",
      "Kmeans-quantization based extracting of frames from 0.0  seconds to 152.83  seconds.\n",
      "Extracting and downsampling... 4585  frames from the video.\n"
     ]
    },
    {
     "name": "stderr",
     "output_type": "stream",
     "text": [
      "4585it [00:22, 199.90it/s]\n"
     ]
    },
    {
     "name": "stdout",
     "output_type": "stream",
     "text": [
      "Kmeans clustering ... (this might take a while)\n"
     ]
    },
    {
     "name": "stderr",
     "output_type": "stream",
     "text": [
      "14it [00:00, 138.69it/s]"
     ]
    },
    {
     "name": "stdout",
     "output_type": "stream",
     "text": [
      "Extracting frames based on kmeans ...\n",
      "Kmeans-quantization based extracting of frames from 0.0  seconds to 174.03  seconds.\n",
      "Extracting and downsampling... 5221  frames from the video.\n"
     ]
    },
    {
     "name": "stderr",
     "output_type": "stream",
     "text": [
      "5221it [00:26, 200.11it/s]\n"
     ]
    },
    {
     "name": "stdout",
     "output_type": "stream",
     "text": [
      "Kmeans clustering ... (this might take a while)\n"
     ]
    },
    {
     "name": "stderr",
     "output_type": "stream",
     "text": [
      "35it [00:00, 156.73it/s]"
     ]
    },
    {
     "name": "stdout",
     "output_type": "stream",
     "text": [
      "Extracting frames based on kmeans ...\n",
      "Kmeans-quantization based extracting of frames from 0.0  seconds to 161.4  seconds.\n",
      "Extracting and downsampling... 4842  frames from the video.\n"
     ]
    },
    {
     "name": "stderr",
     "output_type": "stream",
     "text": [
      "4842it [00:24, 201.13it/s]\n"
     ]
    },
    {
     "name": "stdout",
     "output_type": "stream",
     "text": [
      "Kmeans clustering ... (this might take a while)\n"
     ]
    },
    {
     "name": "stderr",
     "output_type": "stream",
     "text": [
      "14it [00:00, 138.72it/s]"
     ]
    },
    {
     "name": "stdout",
     "output_type": "stream",
     "text": [
      "Extracting frames based on kmeans ...\n",
      "Kmeans-quantization based extracting of frames from 0.0  seconds to 146.3  seconds.\n",
      "Extracting and downsampling... 4389  frames from the video.\n"
     ]
    },
    {
     "name": "stderr",
     "output_type": "stream",
     "text": [
      "4389it [00:21, 200.29it/s]\n"
     ]
    },
    {
     "name": "stdout",
     "output_type": "stream",
     "text": [
      "Kmeans clustering ... (this might take a while)\n"
     ]
    },
    {
     "name": "stderr",
     "output_type": "stream",
     "text": [
      "14it [00:00, 135.97it/s]"
     ]
    },
    {
     "name": "stdout",
     "output_type": "stream",
     "text": [
      "Extracting frames based on kmeans ...\n",
      "Kmeans-quantization based extracting of frames from 0.0  seconds to 165.63  seconds.\n",
      "Extracting and downsampling... 4969  frames from the video.\n"
     ]
    },
    {
     "name": "stderr",
     "output_type": "stream",
     "text": [
      "4969it [00:24, 199.67it/s]\n"
     ]
    },
    {
     "name": "stdout",
     "output_type": "stream",
     "text": [
      "Kmeans clustering ... (this might take a while)\n"
     ]
    },
    {
     "name": "stderr",
     "output_type": "stream",
     "text": [
      "14it [00:00, 138.67it/s]"
     ]
    },
    {
     "name": "stdout",
     "output_type": "stream",
     "text": [
      "Extracting frames based on kmeans ...\n",
      "Kmeans-quantization based extracting of frames from 0.0  seconds to 140.33  seconds.\n",
      "Extracting and downsampling... 4210  frames from the video.\n"
     ]
    },
    {
     "name": "stderr",
     "output_type": "stream",
     "text": [
      "4210it [00:21, 198.50it/s]\n"
     ]
    },
    {
     "name": "stdout",
     "output_type": "stream",
     "text": [
      "Kmeans clustering ... (this might take a while)\n"
     ]
    },
    {
     "name": "stderr",
     "output_type": "stream",
     "text": [
      "15it [00:00, 141.56it/s]"
     ]
    },
    {
     "name": "stdout",
     "output_type": "stream",
     "text": [
      "Extracting frames based on kmeans ...\n",
      "Kmeans-quantization based extracting of frames from 0.0  seconds to 171.7  seconds.\n",
      "Extracting and downsampling... 5151  frames from the video.\n"
     ]
    },
    {
     "name": "stderr",
     "output_type": "stream",
     "text": [
      "5151it [00:25, 201.40it/s]\n"
     ]
    },
    {
     "name": "stdout",
     "output_type": "stream",
     "text": [
      "Kmeans clustering ... (this might take a while)\n"
     ]
    },
    {
     "name": "stderr",
     "output_type": "stream",
     "text": [
      "15it [00:00, 142.94it/s]"
     ]
    },
    {
     "name": "stdout",
     "output_type": "stream",
     "text": [
      "Extracting frames based on kmeans ...\n",
      "Kmeans-quantization based extracting of frames from 0.0  seconds to 166.3  seconds.\n",
      "Extracting and downsampling... 4989  frames from the video.\n"
     ]
    },
    {
     "name": "stderr",
     "output_type": "stream",
     "text": [
      "4989it [00:24, 202.10it/s]\n"
     ]
    },
    {
     "name": "stdout",
     "output_type": "stream",
     "text": [
      "Kmeans clustering ... (this might take a while)\n"
     ]
    },
    {
     "name": "stderr",
     "output_type": "stream",
     "text": [
      "17it [00:00, 161.97it/s]"
     ]
    },
    {
     "name": "stdout",
     "output_type": "stream",
     "text": [
      "Extracting frames based on kmeans ...\n",
      "Kmeans-quantization based extracting of frames from 0.0  seconds to 161.37  seconds.\n",
      "Extracting and downsampling... 4841  frames from the video.\n"
     ]
    },
    {
     "name": "stderr",
     "output_type": "stream",
     "text": [
      "4841it [00:24, 199.93it/s]\n"
     ]
    },
    {
     "name": "stdout",
     "output_type": "stream",
     "text": [
      "Kmeans clustering ... (this might take a while)\n"
     ]
    },
    {
     "name": "stderr",
     "output_type": "stream",
     "text": [
      "14it [00:00, 133.41it/s]"
     ]
    },
    {
     "name": "stdout",
     "output_type": "stream",
     "text": [
      "Extracting frames based on kmeans ...\n",
      "Kmeans-quantization based extracting of frames from 0.0  seconds to 180.1  seconds.\n",
      "Extracting and downsampling... 5403  frames from the video.\n"
     ]
    },
    {
     "name": "stderr",
     "output_type": "stream",
     "text": [
      "5403it [00:26, 200.32it/s]\n"
     ]
    },
    {
     "name": "stdout",
     "output_type": "stream",
     "text": [
      "Kmeans clustering ... (this might take a while)\n"
     ]
    },
    {
     "name": "stderr",
     "output_type": "stream",
     "text": [
      "15it [00:00, 144.32it/s]"
     ]
    },
    {
     "name": "stdout",
     "output_type": "stream",
     "text": [
      "Extracting frames based on kmeans ...\n",
      "Kmeans-quantization based extracting of frames from 0.0  seconds to 155.97  seconds.\n",
      "Extracting and downsampling... 4679  frames from the video.\n"
     ]
    },
    {
     "name": "stderr",
     "output_type": "stream",
     "text": [
      "4679it [00:23, 200.89it/s]\n"
     ]
    },
    {
     "name": "stdout",
     "output_type": "stream",
     "text": [
      "Kmeans clustering ... (this might take a while)\n"
     ]
    },
    {
     "name": "stderr",
     "output_type": "stream",
     "text": [
      "15it [00:00, 144.29it/s]"
     ]
    },
    {
     "name": "stdout",
     "output_type": "stream",
     "text": [
      "Extracting frames based on kmeans ...\n",
      "Kmeans-quantization based extracting of frames from 0.0  seconds to 182.93  seconds.\n",
      "Extracting and downsampling... 5488  frames from the video.\n"
     ]
    },
    {
     "name": "stderr",
     "output_type": "stream",
     "text": [
      "5488it [00:27, 200.48it/s]\n"
     ]
    },
    {
     "name": "stdout",
     "output_type": "stream",
     "text": [
      "Kmeans clustering ... (this might take a while)\n"
     ]
    },
    {
     "name": "stderr",
     "output_type": "stream",
     "text": [
      "14it [00:00, 137.34it/s]"
     ]
    },
    {
     "name": "stdout",
     "output_type": "stream",
     "text": [
      "Extracting frames based on kmeans ...\n",
      "Kmeans-quantization based extracting of frames from 0.0  seconds to 156.83  seconds.\n",
      "Extracting and downsampling... 4705  frames from the video.\n"
     ]
    },
    {
     "name": "stderr",
     "output_type": "stream",
     "text": [
      "4705it [00:23, 200.00it/s]\n"
     ]
    },
    {
     "name": "stdout",
     "output_type": "stream",
     "text": [
      "Kmeans clustering ... (this might take a while)\n"
     ]
    },
    {
     "name": "stderr",
     "output_type": "stream",
     "text": [
      "14it [00:00, 137.31it/s]"
     ]
    },
    {
     "name": "stdout",
     "output_type": "stream",
     "text": [
      "Extracting frames based on kmeans ...\n",
      "Kmeans-quantization based extracting of frames from 0.0  seconds to 167.87  seconds.\n",
      "Extracting and downsampling... 5036  frames from the video.\n"
     ]
    },
    {
     "name": "stderr",
     "output_type": "stream",
     "text": [
      "5036it [00:25, 200.03it/s]\n"
     ]
    },
    {
     "name": "stdout",
     "output_type": "stream",
     "text": [
      "Kmeans clustering ... (this might take a while)\n"
     ]
    },
    {
     "name": "stderr",
     "output_type": "stream",
     "text": [
      "15it [00:00, 145.71it/s]"
     ]
    },
    {
     "name": "stdout",
     "output_type": "stream",
     "text": [
      "Extracting frames based on kmeans ...\n",
      "Kmeans-quantization based extracting of frames from 0.0  seconds to 190.0  seconds.\n",
      "Extracting and downsampling... 5700  frames from the video.\n"
     ]
    },
    {
     "name": "stderr",
     "output_type": "stream",
     "text": [
      "5700it [00:28, 202.97it/s]\n"
     ]
    },
    {
     "name": "stdout",
     "output_type": "stream",
     "text": [
      "Kmeans clustering ... (this might take a while)\n"
     ]
    },
    {
     "name": "stderr",
     "output_type": "stream",
     "text": [
      "13it [00:00, 128.76it/s]"
     ]
    },
    {
     "name": "stdout",
     "output_type": "stream",
     "text": [
      "Extracting frames based on kmeans ...\n",
      "Kmeans-quantization based extracting of frames from 0.0  seconds to 168.93  seconds.\n",
      "Extracting and downsampling... 5068  frames from the video.\n"
     ]
    },
    {
     "name": "stderr",
     "output_type": "stream",
     "text": [
      "5068it [00:25, 199.89it/s]\n"
     ]
    },
    {
     "name": "stdout",
     "output_type": "stream",
     "text": [
      "Kmeans clustering ... (this might take a while)\n"
     ]
    },
    {
     "name": "stderr",
     "output_type": "stream",
     "text": [
      "15it [00:00, 142.94it/s]"
     ]
    },
    {
     "name": "stdout",
     "output_type": "stream",
     "text": [
      "Extracting frames based on kmeans ...\n",
      "Kmeans-quantization based extracting of frames from 0.0  seconds to 166.73  seconds.\n",
      "Extracting and downsampling... 5002  frames from the video.\n"
     ]
    },
    {
     "name": "stderr",
     "output_type": "stream",
     "text": [
      "5002it [00:24, 201.47it/s]\n"
     ]
    },
    {
     "name": "stdout",
     "output_type": "stream",
     "text": [
      "Kmeans clustering ... (this might take a while)\n"
     ]
    },
    {
     "name": "stderr",
     "output_type": "stream",
     "text": [
      "14it [00:00, 137.31it/s]"
     ]
    },
    {
     "name": "stdout",
     "output_type": "stream",
     "text": [
      "Extracting frames based on kmeans ...\n",
      "Kmeans-quantization based extracting of frames from 0.0  seconds to 142.67  seconds.\n",
      "Extracting and downsampling... 4280  frames from the video.\n"
     ]
    },
    {
     "name": "stderr",
     "output_type": "stream",
     "text": [
      "4280it [00:21, 199.46it/s]\n"
     ]
    },
    {
     "name": "stdout",
     "output_type": "stream",
     "text": [
      "Kmeans clustering ... (this might take a while)\n"
     ]
    },
    {
     "name": "stderr",
     "output_type": "stream",
     "text": [
      "15it [00:00, 142.93it/s]"
     ]
    },
    {
     "name": "stdout",
     "output_type": "stream",
     "text": [
      "Extracting frames based on kmeans ...\n",
      "Kmeans-quantization based extracting of frames from 0.0  seconds to 171.73  seconds.\n",
      "Extracting and downsampling... 5152  frames from the video.\n"
     ]
    },
    {
     "name": "stderr",
     "output_type": "stream",
     "text": [
      "5152it [00:25, 200.54it/s]\n"
     ]
    },
    {
     "name": "stdout",
     "output_type": "stream",
     "text": [
      "Kmeans clustering ... (this might take a while)\n"
     ]
    },
    {
     "name": "stderr",
     "output_type": "stream",
     "text": [
      "13it [00:00, 129.92it/s]"
     ]
    },
    {
     "name": "stdout",
     "output_type": "stream",
     "text": [
      "Extracting frames based on kmeans ...\n",
      "Kmeans-quantization based extracting of frames from 0.0  seconds to 178.7  seconds.\n",
      "Extracting and downsampling... 5361  frames from the video.\n"
     ]
    },
    {
     "name": "stderr",
     "output_type": "stream",
     "text": [
      "5361it [00:26, 199.38it/s]\n"
     ]
    },
    {
     "name": "stdout",
     "output_type": "stream",
     "text": [
      "Kmeans clustering ... (this might take a while)\n"
     ]
    },
    {
     "name": "stderr",
     "output_type": "stream",
     "text": [
      "13it [00:00, 128.76it/s]"
     ]
    },
    {
     "name": "stdout",
     "output_type": "stream",
     "text": [
      "Extracting frames based on kmeans ...\n",
      "Kmeans-quantization based extracting of frames from 0.0  seconds to 204.4  seconds.\n",
      "Extracting and downsampling... 6132  frames from the video.\n"
     ]
    },
    {
     "name": "stderr",
     "output_type": "stream",
     "text": [
      "6132it [00:30, 198.73it/s]\n"
     ]
    },
    {
     "name": "stdout",
     "output_type": "stream",
     "text": [
      "Kmeans clustering ... (this might take a while)\n"
     ]
    },
    {
     "name": "stderr",
     "output_type": "stream",
     "text": [
      "14it [00:00, 138.69it/s]"
     ]
    },
    {
     "name": "stdout",
     "output_type": "stream",
     "text": [
      "Extracting frames based on kmeans ...\n",
      "Kmeans-quantization based extracting of frames from 0.0  seconds to 164.67  seconds.\n",
      "Extracting and downsampling... 4940  frames from the video.\n"
     ]
    },
    {
     "name": "stderr",
     "output_type": "stream",
     "text": [
      "4940it [00:24, 199.67it/s]\n"
     ]
    },
    {
     "name": "stdout",
     "output_type": "stream",
     "text": [
      "Kmeans clustering ... (this might take a while)\n"
     ]
    },
    {
     "name": "stderr",
     "output_type": "stream",
     "text": [
      "14it [00:00, 136.02it/s]"
     ]
    },
    {
     "name": "stdout",
     "output_type": "stream",
     "text": [
      "Extracting frames based on kmeans ...\n",
      "Kmeans-quantization based extracting of frames from 0.0  seconds to 172.77  seconds.\n",
      "Extracting and downsampling... 5183  frames from the video.\n"
     ]
    },
    {
     "name": "stderr",
     "output_type": "stream",
     "text": [
      "5183it [00:26, 197.76it/s]\n"
     ]
    },
    {
     "name": "stdout",
     "output_type": "stream",
     "text": [
      "Kmeans clustering ... (this might take a while)\n"
     ]
    },
    {
     "name": "stderr",
     "output_type": "stream",
     "text": [
      "14it [00:00, 137.30it/s]"
     ]
    },
    {
     "name": "stdout",
     "output_type": "stream",
     "text": [
      "Extracting frames based on kmeans ...\n",
      "Kmeans-quantization based extracting of frames from 0.0  seconds to 205.93  seconds.\n",
      "Extracting and downsampling... 6178  frames from the video.\n"
     ]
    },
    {
     "name": "stderr",
     "output_type": "stream",
     "text": [
      "6178it [00:30, 199.30it/s]\n"
     ]
    },
    {
     "name": "stdout",
     "output_type": "stream",
     "text": [
      "Kmeans clustering ... (this might take a while)\n"
     ]
    },
    {
     "name": "stderr",
     "output_type": "stream",
     "text": [
      "15it [00:00, 145.71it/s]"
     ]
    },
    {
     "name": "stdout",
     "output_type": "stream",
     "text": [
      "Extracting frames based on kmeans ...\n",
      "Kmeans-quantization based extracting of frames from 0.0  seconds to 179.47  seconds.\n",
      "Extracting and downsampling... 5384  frames from the video.\n"
     ]
    },
    {
     "name": "stderr",
     "output_type": "stream",
     "text": [
      "5384it [00:26, 199.81it/s]\n"
     ]
    },
    {
     "name": "stdout",
     "output_type": "stream",
     "text": [
      "Kmeans clustering ... (this might take a while)\n"
     ]
    },
    {
     "name": "stderr",
     "output_type": "stream",
     "text": [
      "33it [00:00, 149.08it/s]"
     ]
    },
    {
     "name": "stdout",
     "output_type": "stream",
     "text": [
      "Extracting frames based on kmeans ...\n",
      "Kmeans-quantization based extracting of frames from 0.0  seconds to 167.33  seconds.\n",
      "Extracting and downsampling... 5020  frames from the video.\n"
     ]
    },
    {
     "name": "stderr",
     "output_type": "stream",
     "text": [
      "5020it [00:25, 199.09it/s]\n"
     ]
    },
    {
     "name": "stdout",
     "output_type": "stream",
     "text": [
      "Kmeans clustering ... (this might take a while)\n"
     ]
    },
    {
     "name": "stderr",
     "output_type": "stream",
     "text": [
      "17it [00:00, 161.97it/s]"
     ]
    },
    {
     "name": "stdout",
     "output_type": "stream",
     "text": [
      "Extracting frames based on kmeans ...\n",
      "Kmeans-quantization based extracting of frames from 0.0  seconds to 195.23  seconds.\n",
      "Extracting and downsampling... 5857  frames from the video.\n"
     ]
    },
    {
     "name": "stderr",
     "output_type": "stream",
     "text": [
      "5857it [00:29, 199.82it/s]\n"
     ]
    },
    {
     "name": "stdout",
     "output_type": "stream",
     "text": [
      "Kmeans clustering ... (this might take a while)\n"
     ]
    },
    {
     "name": "stderr",
     "output_type": "stream",
     "text": [
      "14it [00:00, 137.31it/s]"
     ]
    },
    {
     "name": "stdout",
     "output_type": "stream",
     "text": [
      "Extracting frames based on kmeans ...\n",
      "Kmeans-quantization based extracting of frames from 0.0  seconds to 144.87  seconds.\n",
      "Extracting and downsampling... 4346  frames from the video.\n"
     ]
    },
    {
     "name": "stderr",
     "output_type": "stream",
     "text": [
      "4346it [00:21, 197.61it/s]\n"
     ]
    },
    {
     "name": "stdout",
     "output_type": "stream",
     "text": [
      "Kmeans clustering ... (this might take a while)\n"
     ]
    },
    {
     "name": "stderr",
     "output_type": "stream",
     "text": [
      "16it [00:00, 158.51it/s]"
     ]
    },
    {
     "name": "stdout",
     "output_type": "stream",
     "text": [
      "Extracting frames based on kmeans ...\n",
      "Kmeans-quantization based extracting of frames from 0.0  seconds to 88.1  seconds.\n",
      "Extracting and downsampling... 2643  frames from the video.\n"
     ]
    },
    {
     "name": "stderr",
     "output_type": "stream",
     "text": [
      "2643it [00:13, 197.11it/s]\n"
     ]
    },
    {
     "name": "stdout",
     "output_type": "stream",
     "text": [
      "Kmeans clustering ... (this might take a while)\n"
     ]
    },
    {
     "name": "stderr",
     "output_type": "stream",
     "text": [
      "14it [00:00, 138.69it/s]"
     ]
    },
    {
     "name": "stdout",
     "output_type": "stream",
     "text": [
      "Extracting frames based on kmeans ...\n",
      "Kmeans-quantization based extracting of frames from 0.0  seconds to 64.63  seconds.\n",
      "Extracting and downsampling... 1939  frames from the video.\n"
     ]
    },
    {
     "name": "stderr",
     "output_type": "stream",
     "text": [
      "1939it [00:09, 196.39it/s]\n"
     ]
    },
    {
     "name": "stdout",
     "output_type": "stream",
     "text": [
      "Kmeans clustering ... (this might take a while)\n"
     ]
    },
    {
     "name": "stderr",
     "output_type": "stream",
     "text": [
      "14it [00:00, 134.69it/s]"
     ]
    },
    {
     "name": "stdout",
     "output_type": "stream",
     "text": [
      "Extracting frames based on kmeans ...\n",
      "Kmeans-quantization based extracting of frames from 0.0  seconds to 87.8  seconds.\n",
      "Extracting and downsampling... 2634  frames from the video.\n"
     ]
    },
    {
     "name": "stderr",
     "output_type": "stream",
     "text": [
      "2634it [00:13, 198.81it/s]\n"
     ]
    },
    {
     "name": "stdout",
     "output_type": "stream",
     "text": [
      "Kmeans clustering ... (this might take a while)\n"
     ]
    },
    {
     "name": "stderr",
     "output_type": "stream",
     "text": [
      "34it [00:00, 149.13it/s]"
     ]
    },
    {
     "name": "stdout",
     "output_type": "stream",
     "text": [
      "Extracting frames based on kmeans ...\n",
      "Kmeans-quantization based extracting of frames from 0.0  seconds to 183.5  seconds.\n",
      "Extracting and downsampling... 5505  frames from the video.\n"
     ]
    },
    {
     "name": "stderr",
     "output_type": "stream",
     "text": [
      "5505it [00:27, 198.80it/s]\n"
     ]
    },
    {
     "name": "stdout",
     "output_type": "stream",
     "text": [
      "Kmeans clustering ... (this might take a while)\n"
     ]
    },
    {
     "name": "stderr",
     "output_type": "stream",
     "text": [
      "14it [00:00, 134.67it/s]"
     ]
    },
    {
     "name": "stdout",
     "output_type": "stream",
     "text": [
      "Extracting frames based on kmeans ...\n",
      "Kmeans-quantization based extracting of frames from 0.0  seconds to 172.83  seconds.\n",
      "Extracting and downsampling... 5185  frames from the video.\n"
     ]
    },
    {
     "name": "stderr",
     "output_type": "stream",
     "text": [
      "5185it [00:25, 200.11it/s]\n"
     ]
    },
    {
     "name": "stdout",
     "output_type": "stream",
     "text": [
      "Kmeans clustering ... (this might take a while)\n"
     ]
    },
    {
     "name": "stderr",
     "output_type": "stream",
     "text": [
      "14it [00:00, 137.33it/s]"
     ]
    },
    {
     "name": "stdout",
     "output_type": "stream",
     "text": [
      "Extracting frames based on kmeans ...\n",
      "Kmeans-quantization based extracting of frames from 0.0  seconds to 180.73  seconds.\n",
      "Extracting and downsampling... 5422  frames from the video.\n"
     ]
    },
    {
     "name": "stderr",
     "output_type": "stream",
     "text": [
      "5422it [00:27, 197.93it/s]\n"
     ]
    },
    {
     "name": "stdout",
     "output_type": "stream",
     "text": [
      "Kmeans clustering ... (this might take a while)\n"
     ]
    },
    {
     "name": "stderr",
     "output_type": "stream",
     "text": [
      "14it [00:00, 137.31it/s]"
     ]
    },
    {
     "name": "stdout",
     "output_type": "stream",
     "text": [
      "Extracting frames based on kmeans ...\n",
      "Kmeans-quantization based extracting of frames from 0.0  seconds to 139.03  seconds.\n",
      "Extracting and downsampling... 4171  frames from the video.\n"
     ]
    },
    {
     "name": "stderr",
     "output_type": "stream",
     "text": [
      "4171it [00:21, 197.22it/s]\n"
     ]
    },
    {
     "name": "stdout",
     "output_type": "stream",
     "text": [
      "Kmeans clustering ... (this might take a while)\n"
     ]
    },
    {
     "name": "stderr",
     "output_type": "stream",
     "text": [
      "34it [00:00, 151.35it/s]"
     ]
    },
    {
     "name": "stdout",
     "output_type": "stream",
     "text": [
      "Extracting frames based on kmeans ...\n",
      "Kmeans-quantization based extracting of frames from 0.0  seconds to 135.77  seconds.\n",
      "Extracting and downsampling... 4073  frames from the video.\n"
     ]
    },
    {
     "name": "stderr",
     "output_type": "stream",
     "text": [
      "4073it [00:20, 198.35it/s]\n"
     ]
    },
    {
     "name": "stdout",
     "output_type": "stream",
     "text": [
      "Kmeans clustering ... (this might take a while)\n"
     ]
    },
    {
     "name": "stderr",
     "output_type": "stream",
     "text": [
      "14it [00:00, 136.00it/s]"
     ]
    },
    {
     "name": "stdout",
     "output_type": "stream",
     "text": [
      "Extracting frames based on kmeans ...\n",
      "Kmeans-quantization based extracting of frames from 0.0  seconds to 52.13  seconds.\n",
      "Extracting and downsampling... 1564  frames from the video.\n"
     ]
    },
    {
     "name": "stderr",
     "output_type": "stream",
     "text": [
      "1564it [00:08, 192.91it/s]\n"
     ]
    },
    {
     "name": "stdout",
     "output_type": "stream",
     "text": [
      "Kmeans clustering ... (this might take a while)\n"
     ]
    },
    {
     "name": "stderr",
     "output_type": "stream",
     "text": [
      "14it [00:00, 134.67it/s]"
     ]
    },
    {
     "name": "stdout",
     "output_type": "stream",
     "text": [
      "Extracting frames based on kmeans ...\n",
      "Kmeans-quantization based extracting of frames from 0.0  seconds to 169.63  seconds.\n",
      "Extracting and downsampling... 5089  frames from the video.\n"
     ]
    },
    {
     "name": "stderr",
     "output_type": "stream",
     "text": [
      "5089it [00:25, 199.29it/s]\n"
     ]
    },
    {
     "name": "stdout",
     "output_type": "stream",
     "text": [
      "Kmeans clustering ... (this might take a while)\n"
     ]
    },
    {
     "name": "stderr",
     "output_type": "stream",
     "text": [
      "14it [00:00, 136.00it/s]"
     ]
    },
    {
     "name": "stdout",
     "output_type": "stream",
     "text": [
      "Extracting frames based on kmeans ...\n",
      "Kmeans-quantization based extracting of frames from 0.0  seconds to 132.93  seconds.\n",
      "Extracting and downsampling... 3988  frames from the video.\n"
     ]
    },
    {
     "name": "stderr",
     "output_type": "stream",
     "text": [
      "3988it [00:20, 197.48it/s]\n"
     ]
    },
    {
     "name": "stdout",
     "output_type": "stream",
     "text": [
      "Kmeans clustering ... (this might take a while)\n"
     ]
    },
    {
     "name": "stderr",
     "output_type": "stream",
     "text": [
      "16it [00:00, 152.43it/s]"
     ]
    },
    {
     "name": "stdout",
     "output_type": "stream",
     "text": [
      "Extracting frames based on kmeans ...\n",
      "Kmeans-quantization based extracting of frames from 0.0  seconds to 53.1  seconds.\n",
      "Extracting and downsampling... 1593  frames from the video.\n"
     ]
    },
    {
     "name": "stderr",
     "output_type": "stream",
     "text": [
      "1593it [00:08, 196.88it/s]\n"
     ]
    },
    {
     "name": "stdout",
     "output_type": "stream",
     "text": [
      "Kmeans clustering ... (this might take a while)\n"
     ]
    },
    {
     "name": "stderr",
     "output_type": "stream",
     "text": [
      "15it [00:00, 142.94it/s]"
     ]
    },
    {
     "name": "stdout",
     "output_type": "stream",
     "text": [
      "Extracting frames based on kmeans ...\n",
      "Kmeans-quantization based extracting of frames from 0.0  seconds to 28.37  seconds.\n",
      "Extracting and downsampling... 851  frames from the video.\n"
     ]
    },
    {
     "name": "stderr",
     "output_type": "stream",
     "text": [
      "851it [00:04, 197.27it/s]\n"
     ]
    },
    {
     "name": "stdout",
     "output_type": "stream",
     "text": [
      "Kmeans clustering ... (this might take a while)\n"
     ]
    },
    {
     "name": "stderr",
     "output_type": "stream",
     "text": [
      "16it [00:00, 158.50it/s]"
     ]
    },
    {
     "name": "stdout",
     "output_type": "stream",
     "text": [
      "Extracting frames based on kmeans ...\n",
      "Kmeans-quantization based extracting of frames from 0.0  seconds to 23.0  seconds.\n",
      "Extracting and downsampling... 690  frames from the video.\n"
     ]
    },
    {
     "name": "stderr",
     "output_type": "stream",
     "text": [
      "690it [00:03, 195.85it/s]\n"
     ]
    },
    {
     "name": "stdout",
     "output_type": "stream",
     "text": [
      "Kmeans clustering ... (this might take a while)\n"
     ]
    },
    {
     "name": "stderr",
     "output_type": "stream",
     "text": [
      "14it [00:00, 138.69it/s]"
     ]
    },
    {
     "name": "stdout",
     "output_type": "stream",
     "text": [
      "Extracting frames based on kmeans ...\n",
      "Kmeans-quantization based extracting of frames from 0.0  seconds to 25.17  seconds.\n",
      "Extracting and downsampling... 755  frames from the video.\n"
     ]
    },
    {
     "name": "stderr",
     "output_type": "stream",
     "text": [
      "755it [00:03, 193.75it/s]\n"
     ]
    },
    {
     "name": "stdout",
     "output_type": "stream",
     "text": [
      "Kmeans clustering ... (this might take a while)\n"
     ]
    },
    {
     "name": "stderr",
     "output_type": "stream",
     "text": [
      "16it [00:00, 158.50it/s]"
     ]
    },
    {
     "name": "stdout",
     "output_type": "stream",
     "text": [
      "Extracting frames based on kmeans ...\n",
      "Kmeans-quantization based extracting of frames from 0.0  seconds to 36.6  seconds.\n",
      "Extracting and downsampling... 1098  frames from the video.\n"
     ]
    },
    {
     "name": "stderr",
     "output_type": "stream",
     "text": [
      "1098it [00:05, 197.13it/s]\n"
     ]
    },
    {
     "name": "stdout",
     "output_type": "stream",
     "text": [
      "Kmeans clustering ... (this might take a while)\n"
     ]
    },
    {
     "name": "stderr",
     "output_type": "stream",
     "text": [
      "14it [00:00, 132.15it/s]"
     ]
    },
    {
     "name": "stdout",
     "output_type": "stream",
     "text": [
      "Extracting frames based on kmeans ...\n",
      "Kmeans-quantization based extracting of frames from 0.0  seconds to 188.47  seconds.\n",
      "Extracting and downsampling... 5654  frames from the video.\n"
     ]
    },
    {
     "name": "stderr",
     "output_type": "stream",
     "text": [
      "5654it [00:28, 199.22it/s]\n"
     ]
    },
    {
     "name": "stdout",
     "output_type": "stream",
     "text": [
      "Kmeans clustering ... (this might take a while)\n"
     ]
    },
    {
     "name": "stderr",
     "output_type": "stream",
     "text": [
      "12it [00:00, 118.87it/s]"
     ]
    },
    {
     "name": "stdout",
     "output_type": "stream",
     "text": [
      "Extracting frames based on kmeans ...\n",
      "Kmeans-quantization based extracting of frames from 0.0  seconds to 194.93  seconds.\n",
      "Extracting and downsampling... 5848  frames from the video.\n"
     ]
    },
    {
     "name": "stderr",
     "output_type": "stream",
     "text": [
      "5848it [00:29, 199.60it/s]\n"
     ]
    },
    {
     "name": "stdout",
     "output_type": "stream",
     "text": [
      "Kmeans clustering ... (this might take a while)\n"
     ]
    },
    {
     "name": "stderr",
     "output_type": "stream",
     "text": [
      "15it [00:00, 138.87it/s]"
     ]
    },
    {
     "name": "stdout",
     "output_type": "stream",
     "text": [
      "Extracting frames based on kmeans ...\n",
      "Kmeans-quantization based extracting of frames from 0.0  seconds to 168.2  seconds.\n",
      "Extracting and downsampling... 5046  frames from the video.\n"
     ]
    },
    {
     "name": "stderr",
     "output_type": "stream",
     "text": [
      "5046it [00:25, 199.46it/s]\n"
     ]
    },
    {
     "name": "stdout",
     "output_type": "stream",
     "text": [
      "Kmeans clustering ... (this might take a while)\n"
     ]
    },
    {
     "name": "stderr",
     "output_type": "stream",
     "text": [
      "15it [00:00, 142.93it/s]"
     ]
    },
    {
     "name": "stdout",
     "output_type": "stream",
     "text": [
      "Extracting frames based on kmeans ...\n",
      "Kmeans-quantization based extracting of frames from 0.0  seconds to 71.97  seconds.\n",
      "Extracting and downsampling... 2159  frames from the video.\n"
     ]
    },
    {
     "name": "stderr",
     "output_type": "stream",
     "text": [
      "2159it [00:10, 198.33it/s]\n"
     ]
    },
    {
     "name": "stdout",
     "output_type": "stream",
     "text": [
      "Kmeans clustering ... (this might take a while)\n"
     ]
    },
    {
     "name": "stderr",
     "output_type": "stream",
     "text": [
      "17it [00:00, 165.14it/s]"
     ]
    },
    {
     "name": "stdout",
     "output_type": "stream",
     "text": [
      "Extracting frames based on kmeans ...\n",
      "Kmeans-quantization based extracting of frames from 0.0  seconds to 26.07  seconds.\n",
      "Extracting and downsampling... 782  frames from the video.\n"
     ]
    },
    {
     "name": "stderr",
     "output_type": "stream",
     "text": [
      "782it [00:03, 197.79it/s]\n"
     ]
    },
    {
     "name": "stdout",
     "output_type": "stream",
     "text": [
      "Kmeans clustering ... (this might take a while)\n"
     ]
    },
    {
     "name": "stderr",
     "output_type": "stream",
     "text": [
      "17it [00:00, 160.50it/s]"
     ]
    },
    {
     "name": "stdout",
     "output_type": "stream",
     "text": [
      "Extracting frames based on kmeans ...\n",
      "Kmeans-quantization based extracting of frames from 0.0  seconds to 21.47  seconds.\n",
      "Extracting and downsampling... 644  frames from the video.\n"
     ]
    },
    {
     "name": "stderr",
     "output_type": "stream",
     "text": [
      "644it [00:03, 195.91it/s]\n"
     ]
    },
    {
     "name": "stdout",
     "output_type": "stream",
     "text": [
      "Kmeans clustering ... (this might take a while)\n"
     ]
    },
    {
     "name": "stderr",
     "output_type": "stream",
     "text": [
      "15it [00:00, 142.91it/s]"
     ]
    },
    {
     "name": "stdout",
     "output_type": "stream",
     "text": [
      "Extracting frames based on kmeans ...\n",
      "Kmeans-quantization based extracting of frames from 0.0  seconds to 21.9  seconds.\n",
      "Extracting and downsampling... 657  frames from the video.\n"
     ]
    },
    {
     "name": "stderr",
     "output_type": "stream",
     "text": [
      "657it [00:03, 198.42it/s]\n"
     ]
    },
    {
     "name": "stdout",
     "output_type": "stream",
     "text": [
      "Kmeans clustering ... (this might take a while)\n"
     ]
    },
    {
     "name": "stderr",
     "output_type": "stream",
     "text": [
      "14it [00:00, 138.66it/s]"
     ]
    },
    {
     "name": "stdout",
     "output_type": "stream",
     "text": [
      "Extracting frames based on kmeans ...\n",
      "Kmeans-quantization based extracting of frames from 0.0  seconds to 20.97  seconds.\n",
      "Extracting and downsampling... 629  frames from the video.\n"
     ]
    },
    {
     "name": "stderr",
     "output_type": "stream",
     "text": [
      "629it [00:03, 194.00it/s]\n"
     ]
    },
    {
     "name": "stdout",
     "output_type": "stream",
     "text": [
      "Kmeans clustering ... (this might take a while)\n"
     ]
    },
    {
     "name": "stderr",
     "output_type": "stream",
     "text": [
      "16it [00:00, 156.95it/s]"
     ]
    },
    {
     "name": "stdout",
     "output_type": "stream",
     "text": [
      "Extracting frames based on kmeans ...\n",
      "Kmeans-quantization based extracting of frames from 0.0  seconds to 21.27  seconds.\n",
      "Extracting and downsampling... 638  frames from the video.\n"
     ]
    },
    {
     "name": "stderr",
     "output_type": "stream",
     "text": [
      "638it [00:03, 194.03it/s]\n"
     ]
    },
    {
     "name": "stdout",
     "output_type": "stream",
     "text": [
      "Kmeans clustering ... (this might take a while)\n"
     ]
    },
    {
     "name": "stderr",
     "output_type": "stream",
     "text": [
      "17it [00:00, 162.00it/s]"
     ]
    },
    {
     "name": "stdout",
     "output_type": "stream",
     "text": [
      "Extracting frames based on kmeans ...\n",
      "Kmeans-quantization based extracting of frames from 0.0  seconds to 16.73  seconds.\n",
      "Extracting and downsampling... 502  frames from the video.\n"
     ]
    },
    {
     "name": "stderr",
     "output_type": "stream",
     "text": [
      "502it [00:02, 190.55it/s]\n"
     ]
    },
    {
     "name": "stdout",
     "output_type": "stream",
     "text": [
      "Kmeans clustering ... (this might take a while)\n"
     ]
    },
    {
     "name": "stderr",
     "output_type": "stream",
     "text": [
      "14it [00:00, 138.69it/s]"
     ]
    },
    {
     "name": "stdout",
     "output_type": "stream",
     "text": [
      "Extracting frames based on kmeans ...\n",
      "Kmeans-quantization based extracting of frames from 0.0  seconds to 23.13  seconds.\n",
      "Extracting and downsampling... 694  frames from the video.\n"
     ]
    },
    {
     "name": "stderr",
     "output_type": "stream",
     "text": [
      "694it [00:03, 196.10it/s]\n"
     ]
    },
    {
     "name": "stdout",
     "output_type": "stream",
     "text": [
      "Kmeans clustering ... (this might take a while)\n"
     ]
    },
    {
     "name": "stderr",
     "output_type": "stream",
     "text": [
      "14it [00:00, 136.00it/s]"
     ]
    },
    {
     "name": "stdout",
     "output_type": "stream",
     "text": [
      "Extracting frames based on kmeans ...\n",
      "Kmeans-quantization based extracting of frames from 0.0  seconds to 22.23  seconds.\n",
      "Extracting and downsampling... 667  frames from the video.\n"
     ]
    },
    {
     "name": "stderr",
     "output_type": "stream",
     "text": [
      "667it [00:03, 190.30it/s]\n"
     ]
    },
    {
     "name": "stdout",
     "output_type": "stream",
     "text": [
      "Kmeans clustering ... (this might take a while)\n"
     ]
    },
    {
     "name": "stderr",
     "output_type": "stream",
     "text": [
      "17it [00:00, 160.44it/s]"
     ]
    },
    {
     "name": "stdout",
     "output_type": "stream",
     "text": [
      "Extracting frames based on kmeans ...\n",
      "Kmeans-quantization based extracting of frames from 0.0  seconds to 34.4  seconds.\n",
      "Extracting and downsampling... 1032  frames from the video.\n"
     ]
    },
    {
     "name": "stderr",
     "output_type": "stream",
     "text": [
      "1032it [00:05, 196.08it/s]\n"
     ]
    },
    {
     "name": "stdout",
     "output_type": "stream",
     "text": [
      "Kmeans clustering ... (this might take a while)\n"
     ]
    },
    {
     "name": "stderr",
     "output_type": "stream",
     "text": [
      "17it [00:00, 163.56it/s]"
     ]
    },
    {
     "name": "stdout",
     "output_type": "stream",
     "text": [
      "Extracting frames based on kmeans ...\n",
      "Kmeans-quantization based extracting of frames from 0.0  seconds to 41.13  seconds.\n",
      "Extracting and downsampling... 1234  frames from the video.\n"
     ]
    },
    {
     "name": "stderr",
     "output_type": "stream",
     "text": [
      "1234it [00:06, 196.61it/s]\n"
     ]
    },
    {
     "name": "stdout",
     "output_type": "stream",
     "text": [
      "Kmeans clustering ... (this might take a while)\n"
     ]
    },
    {
     "name": "stderr",
     "output_type": "stream",
     "text": [
      "14it [00:00, 138.69it/s]"
     ]
    },
    {
     "name": "stdout",
     "output_type": "stream",
     "text": [
      "Extracting frames based on kmeans ...\n",
      "Kmeans-quantization based extracting of frames from 0.0  seconds to 70.3  seconds.\n",
      "Extracting and downsampling... 2109  frames from the video.\n"
     ]
    },
    {
     "name": "stderr",
     "output_type": "stream",
     "text": [
      "2109it [00:10, 196.91it/s]\n"
     ]
    },
    {
     "name": "stdout",
     "output_type": "stream",
     "text": [
      "Kmeans clustering ... (this might take a while)\n"
     ]
    },
    {
     "name": "stderr",
     "output_type": "stream",
     "text": [
      "16it [00:00, 153.93it/s]"
     ]
    },
    {
     "name": "stdout",
     "output_type": "stream",
     "text": [
      "Extracting frames based on kmeans ...\n",
      "Kmeans-quantization based extracting of frames from 0.0  seconds to 73.7  seconds.\n",
      "Extracting and downsampling... 2211  frames from the video.\n"
     ]
    },
    {
     "name": "stderr",
     "output_type": "stream",
     "text": [
      "2211it [00:11, 197.21it/s]\n"
     ]
    },
    {
     "name": "stdout",
     "output_type": "stream",
     "text": [
      "Kmeans clustering ... (this might take a while)\n"
     ]
    },
    {
     "name": "stderr",
     "output_type": "stream",
     "text": [
      "13it [00:00, 122.71it/s]"
     ]
    },
    {
     "name": "stdout",
     "output_type": "stream",
     "text": [
      "Extracting frames based on kmeans ...\n",
      "Kmeans-quantization based extracting of frames from 0.0  seconds to 30.77  seconds.\n",
      "Extracting and downsampling... 923  frames from the video.\n"
     ]
    },
    {
     "name": "stderr",
     "output_type": "stream",
     "text": [
      "923it [00:04, 191.64it/s]\n"
     ]
    },
    {
     "name": "stdout",
     "output_type": "stream",
     "text": [
      "Kmeans clustering ... (this might take a while)\n"
     ]
    },
    {
     "name": "stderr",
     "output_type": "stream",
     "text": [
      "16it [00:00, 158.51it/s]"
     ]
    },
    {
     "name": "stdout",
     "output_type": "stream",
     "text": [
      "Extracting frames based on kmeans ...\n",
      "Kmeans-quantization based extracting of frames from 0.0  seconds to 20.4  seconds.\n",
      "Extracting and downsampling... 612  frames from the video.\n"
     ]
    },
    {
     "name": "stderr",
     "output_type": "stream",
     "text": [
      "612it [00:03, 192.08it/s]\n"
     ]
    },
    {
     "name": "stdout",
     "output_type": "stream",
     "text": [
      "Kmeans clustering ... (this might take a while)\n"
     ]
    },
    {
     "name": "stderr",
     "output_type": "stream",
     "text": [
      "16it [00:00, 158.50it/s]"
     ]
    },
    {
     "name": "stdout",
     "output_type": "stream",
     "text": [
      "Extracting frames based on kmeans ...\n",
      "Kmeans-quantization based extracting of frames from 0.0  seconds to 22.03  seconds.\n",
      "Extracting and downsampling... 661  frames from the video.\n"
     ]
    },
    {
     "name": "stderr",
     "output_type": "stream",
     "text": [
      "661it [00:03, 191.92it/s]\n"
     ]
    },
    {
     "name": "stdout",
     "output_type": "stream",
     "text": [
      "Kmeans clustering ... (this might take a while)\n"
     ]
    },
    {
     "name": "stderr",
     "output_type": "stream",
     "text": [
      "16it [00:00, 155.40it/s]"
     ]
    },
    {
     "name": "stdout",
     "output_type": "stream",
     "text": [
      "Extracting frames based on kmeans ...\n",
      "Kmeans-quantization based extracting of frames from 0.0  seconds to 31.1  seconds.\n",
      "Extracting and downsampling... 933  frames from the video.\n"
     ]
    },
    {
     "name": "stderr",
     "output_type": "stream",
     "text": [
      "933it [00:04, 199.13it/s]\n"
     ]
    },
    {
     "name": "stdout",
     "output_type": "stream",
     "text": [
      "Kmeans clustering ... (this might take a while)\n"
     ]
    },
    {
     "name": "stderr",
     "output_type": "stream",
     "text": [
      "14it [00:00, 132.15it/s]"
     ]
    },
    {
     "name": "stdout",
     "output_type": "stream",
     "text": [
      "Extracting frames based on kmeans ...\n",
      "Kmeans-quantization based extracting of frames from 0.0  seconds to 23.37  seconds.\n",
      "Extracting and downsampling... 701  frames from the video.\n"
     ]
    },
    {
     "name": "stderr",
     "output_type": "stream",
     "text": [
      "701it [00:03, 192.99it/s]\n"
     ]
    },
    {
     "name": "stdout",
     "output_type": "stream",
     "text": [
      "Kmeans clustering ... (this might take a while)\n"
     ]
    },
    {
     "name": "stderr",
     "output_type": "stream",
     "text": [
      "16it [00:00, 153.95it/s]"
     ]
    },
    {
     "name": "stdout",
     "output_type": "stream",
     "text": [
      "Extracting frames based on kmeans ...\n",
      "Kmeans-quantization based extracting of frames from 0.0  seconds to 17.17  seconds.\n",
      "Extracting and downsampling... 515  frames from the video.\n"
     ]
    },
    {
     "name": "stderr",
     "output_type": "stream",
     "text": [
      "515it [00:02, 192.35it/s]\n"
     ]
    },
    {
     "name": "stdout",
     "output_type": "stream",
     "text": [
      "Kmeans clustering ... (this might take a while)\n"
     ]
    },
    {
     "name": "stderr",
     "output_type": "stream",
     "text": [
      "14it [00:00, 134.69it/s]"
     ]
    },
    {
     "name": "stdout",
     "output_type": "stream",
     "text": [
      "Extracting frames based on kmeans ...\n",
      "Kmeans-quantization based extracting of frames from 0.0  seconds to 14.97  seconds.\n",
      "Extracting and downsampling... 449  frames from the video.\n"
     ]
    },
    {
     "name": "stderr",
     "output_type": "stream",
     "text": [
      "449it [00:02, 192.98it/s]\n"
     ]
    },
    {
     "name": "stdout",
     "output_type": "stream",
     "text": [
      "Kmeans clustering ... (this might take a while)\n"
     ]
    },
    {
     "name": "stderr",
     "output_type": "stream",
     "text": [
      "16it [00:00, 155.43it/s]"
     ]
    },
    {
     "name": "stdout",
     "output_type": "stream",
     "text": [
      "Extracting frames based on kmeans ...\n",
      "Kmeans-quantization based extracting of frames from 0.0  seconds to 20.8  seconds.\n",
      "Extracting and downsampling... 624  frames from the video.\n"
     ]
    },
    {
     "name": "stderr",
     "output_type": "stream",
     "text": [
      "624it [00:03, 191.40it/s]\n"
     ]
    },
    {
     "name": "stdout",
     "output_type": "stream",
     "text": [
      "Kmeans clustering ... (this might take a while)\n"
     ]
    },
    {
     "name": "stderr",
     "output_type": "stream",
     "text": [
      "16it [00:00, 156.95it/s]"
     ]
    },
    {
     "name": "stdout",
     "output_type": "stream",
     "text": [
      "Extracting frames based on kmeans ...\n",
      "Kmeans-quantization based extracting of frames from 0.0  seconds to 16.83  seconds.\n",
      "Extracting and downsampling... 505  frames from the video.\n"
     ]
    },
    {
     "name": "stderr",
     "output_type": "stream",
     "text": [
      "505it [00:02, 188.50it/s]\n"
     ]
    },
    {
     "name": "stdout",
     "output_type": "stream",
     "text": [
      "Kmeans clustering ... (this might take a while)\n"
     ]
    },
    {
     "name": "stderr",
     "output_type": "stream",
     "text": [
      "15it [00:00, 145.71it/s]"
     ]
    },
    {
     "name": "stdout",
     "output_type": "stream",
     "text": [
      "Extracting frames based on kmeans ...\n",
      "Kmeans-quantization based extracting of frames from 0.0  seconds to 17.07  seconds.\n",
      "Extracting and downsampling... 512  frames from the video.\n"
     ]
    },
    {
     "name": "stderr",
     "output_type": "stream",
     "text": [
      "512it [00:02, 199.49it/s]\n"
     ]
    },
    {
     "name": "stdout",
     "output_type": "stream",
     "text": [
      "Kmeans clustering ... (this might take a while)\n"
     ]
    },
    {
     "name": "stderr",
     "output_type": "stream",
     "text": [
      "16it [00:00, 156.92it/s]"
     ]
    },
    {
     "name": "stdout",
     "output_type": "stream",
     "text": [
      "Extracting frames based on kmeans ...\n",
      "Kmeans-quantization based extracting of frames from 0.0  seconds to 89.03  seconds.\n",
      "Extracting and downsampling... 2671  frames from the video.\n"
     ]
    },
    {
     "name": "stderr",
     "output_type": "stream",
     "text": [
      "2671it [00:13, 198.33it/s]\n"
     ]
    },
    {
     "name": "stdout",
     "output_type": "stream",
     "text": [
      "Kmeans clustering ... (this might take a while)\n"
     ]
    },
    {
     "name": "stderr",
     "output_type": "stream",
     "text": [
      "14it [00:00, 138.67it/s]"
     ]
    },
    {
     "name": "stdout",
     "output_type": "stream",
     "text": [
      "Extracting frames based on kmeans ...\n",
      "Kmeans-quantization based extracting of frames from 0.0  seconds to 20.17  seconds.\n",
      "Extracting and downsampling... 605  frames from the video.\n"
     ]
    },
    {
     "name": "stderr",
     "output_type": "stream",
     "text": [
      "605it [00:03, 196.86it/s]\n"
     ]
    },
    {
     "name": "stdout",
     "output_type": "stream",
     "text": [
      "Kmeans clustering ... (this might take a while)\n"
     ]
    },
    {
     "name": "stderr",
     "output_type": "stream",
     "text": [
      "38it [00:00, 170.13it/s]"
     ]
    },
    {
     "name": "stdout",
     "output_type": "stream",
     "text": [
      "Extracting frames based on kmeans ...\n",
      "Kmeans-quantization based extracting of frames from 0.0  seconds to 25.77  seconds.\n",
      "Extracting and downsampling... 773  frames from the video.\n"
     ]
    },
    {
     "name": "stderr",
     "output_type": "stream",
     "text": [
      "773it [00:03, 204.34it/s]\n"
     ]
    },
    {
     "name": "stdout",
     "output_type": "stream",
     "text": [
      "Kmeans clustering ... (this might take a while)\n"
     ]
    },
    {
     "name": "stderr",
     "output_type": "stream",
     "text": [
      "15it [00:00, 142.94it/s]"
     ]
    },
    {
     "name": "stdout",
     "output_type": "stream",
     "text": [
      "Extracting frames based on kmeans ...\n",
      "Kmeans-quantization based extracting of frames from 0.0  seconds to 23.7  seconds.\n",
      "Extracting and downsampling... 711  frames from the video.\n"
     ]
    },
    {
     "name": "stderr",
     "output_type": "stream",
     "text": [
      "711it [00:03, 197.63it/s]\n"
     ]
    },
    {
     "name": "stdout",
     "output_type": "stream",
     "text": [
      "Kmeans clustering ... (this might take a while)\n"
     ]
    },
    {
     "name": "stderr",
     "output_type": "stream",
     "text": [
      "16it [00:00, 158.51it/s]"
     ]
    },
    {
     "name": "stdout",
     "output_type": "stream",
     "text": [
      "Extracting frames based on kmeans ...\n",
      "Kmeans-quantization based extracting of frames from 0.0  seconds to 31.27  seconds.\n",
      "Extracting and downsampling... 938  frames from the video.\n"
     ]
    },
    {
     "name": "stderr",
     "output_type": "stream",
     "text": [
      "938it [00:04, 195.00it/s]\n"
     ]
    },
    {
     "name": "stdout",
     "output_type": "stream",
     "text": [
      "Kmeans clustering ... (this might take a while)\n"
     ]
    },
    {
     "name": "stderr",
     "output_type": "stream",
     "text": [
      "17it [00:00, 162.00it/s]"
     ]
    },
    {
     "name": "stdout",
     "output_type": "stream",
     "text": [
      "Extracting frames based on kmeans ...\n",
      "Kmeans-quantization based extracting of frames from 0.0  seconds to 44.57  seconds.\n",
      "Extracting and downsampling... 1337  frames from the video.\n"
     ]
    },
    {
     "name": "stderr",
     "output_type": "stream",
     "text": [
      "1337it [00:06, 195.95it/s]\n"
     ]
    },
    {
     "name": "stdout",
     "output_type": "stream",
     "text": [
      "Kmeans clustering ... (this might take a while)\n"
     ]
    },
    {
     "name": "stderr",
     "output_type": "stream",
     "text": [
      "14it [00:00, 136.00it/s]"
     ]
    },
    {
     "name": "stdout",
     "output_type": "stream",
     "text": [
      "Extracting frames based on kmeans ...\n",
      "Kmeans-quantization based extracting of frames from 0.0  seconds to 24.27  seconds.\n",
      "Extracting and downsampling... 728  frames from the video.\n"
     ]
    },
    {
     "name": "stderr",
     "output_type": "stream",
     "text": [
      "728it [00:03, 197.94it/s]\n"
     ]
    },
    {
     "name": "stdout",
     "output_type": "stream",
     "text": [
      "Kmeans clustering ... (this might take a while)\n"
     ]
    },
    {
     "name": "stderr",
     "output_type": "stream",
     "text": [
      "17it [00:00, 166.76it/s]"
     ]
    },
    {
     "name": "stdout",
     "output_type": "stream",
     "text": [
      "Extracting frames based on kmeans ...\n",
      "Kmeans-quantization based extracting of frames from 0.0  seconds to 23.0  seconds.\n",
      "Extracting and downsampling... 690  frames from the video.\n"
     ]
    },
    {
     "name": "stderr",
     "output_type": "stream",
     "text": [
      "690it [00:03, 198.79it/s]\n"
     ]
    },
    {
     "name": "stdout",
     "output_type": "stream",
     "text": [
      "Kmeans clustering ... (this might take a while)\n"
     ]
    },
    {
     "name": "stderr",
     "output_type": "stream",
     "text": [
      "14it [00:00, 137.33it/s]"
     ]
    },
    {
     "name": "stdout",
     "output_type": "stream",
     "text": [
      "Extracting frames based on kmeans ...\n",
      "Kmeans-quantization based extracting of frames from 0.0  seconds to 25.03  seconds.\n",
      "Extracting and downsampling... 751  frames from the video.\n"
     ]
    },
    {
     "name": "stderr",
     "output_type": "stream",
     "text": [
      "751it [00:03, 193.40it/s]\n"
     ]
    },
    {
     "name": "stdout",
     "output_type": "stream",
     "text": [
      "Kmeans clustering ... (this might take a while)\n"
     ]
    },
    {
     "name": "stderr",
     "output_type": "stream",
     "text": [
      "16it [00:00, 158.47it/s]"
     ]
    },
    {
     "name": "stdout",
     "output_type": "stream",
     "text": [
      "Extracting frames based on kmeans ...\n",
      "Kmeans-quantization based extracting of frames from 0.0  seconds to 14.5  seconds.\n",
      "Extracting and downsampling... 435  frames from the video.\n"
     ]
    },
    {
     "name": "stderr",
     "output_type": "stream",
     "text": [
      "435it [00:02, 192.41it/s]\n"
     ]
    },
    {
     "name": "stdout",
     "output_type": "stream",
     "text": [
      "Kmeans clustering ... (this might take a while)\n"
     ]
    },
    {
     "name": "stderr",
     "output_type": "stream",
     "text": [
      "13it [00:00, 126.27it/s]"
     ]
    },
    {
     "name": "stdout",
     "output_type": "stream",
     "text": [
      "Extracting frames based on kmeans ...\n",
      "Kmeans-quantization based extracting of frames from 0.0  seconds to 22.43  seconds.\n",
      "Extracting and downsampling... 673  frames from the video.\n"
     ]
    },
    {
     "name": "stderr",
     "output_type": "stream",
     "text": [
      "673it [00:03, 192.78it/s]\n"
     ]
    },
    {
     "name": "stdout",
     "output_type": "stream",
     "text": [
      "Kmeans clustering ... (this might take a while)\n"
     ]
    },
    {
     "name": "stderr",
     "output_type": "stream",
     "text": [
      "17it [00:00, 165.12it/s]"
     ]
    },
    {
     "name": "stdout",
     "output_type": "stream",
     "text": [
      "Extracting frames based on kmeans ...\n",
      "Kmeans-quantization based extracting of frames from 0.0  seconds to 31.33  seconds.\n",
      "Extracting and downsampling... 940  frames from the video.\n"
     ]
    },
    {
     "name": "stderr",
     "output_type": "stream",
     "text": [
      "940it [00:04, 201.24it/s]\n"
     ]
    },
    {
     "name": "stdout",
     "output_type": "stream",
     "text": [
      "Kmeans clustering ... (this might take a while)\n"
     ]
    },
    {
     "name": "stderr",
     "output_type": "stream",
     "text": [
      "17it [00:00, 166.73it/s]"
     ]
    },
    {
     "name": "stdout",
     "output_type": "stream",
     "text": [
      "Extracting frames based on kmeans ...\n",
      "Kmeans-quantization based extracting of frames from 0.0  seconds to 19.6  seconds.\n",
      "Extracting and downsampling... 588  frames from the video.\n"
     ]
    },
    {
     "name": "stderr",
     "output_type": "stream",
     "text": [
      "588it [00:02, 197.09it/s]\n"
     ]
    },
    {
     "name": "stdout",
     "output_type": "stream",
     "text": [
      "Kmeans clustering ... (this might take a while)\n"
     ]
    },
    {
     "name": "stderr",
     "output_type": "stream",
     "text": [
      "17it [00:00, 161.97it/s]"
     ]
    },
    {
     "name": "stdout",
     "output_type": "stream",
     "text": [
      "Extracting frames based on kmeans ...\n",
      "Kmeans-quantization based extracting of frames from 0.0  seconds to 19.37  seconds.\n",
      "Extracting and downsampling... 581  frames from the video.\n"
     ]
    },
    {
     "name": "stderr",
     "output_type": "stream",
     "text": [
      "581it [00:02, 196.79it/s]\n"
     ]
    },
    {
     "name": "stdout",
     "output_type": "stream",
     "text": [
      "Kmeans clustering ... (this might take a while)\n"
     ]
    },
    {
     "name": "stderr",
     "output_type": "stream",
     "text": [
      "14it [00:00, 136.02it/s]"
     ]
    },
    {
     "name": "stdout",
     "output_type": "stream",
     "text": [
      "Extracting frames based on kmeans ...\n",
      "Kmeans-quantization based extracting of frames from 0.0  seconds to 26.97  seconds.\n",
      "Extracting and downsampling... 809  frames from the video.\n"
     ]
    },
    {
     "name": "stderr",
     "output_type": "stream",
     "text": [
      "809it [00:04, 188.73it/s]\n"
     ]
    },
    {
     "name": "stdout",
     "output_type": "stream",
     "text": [
      "Kmeans clustering ... (this might take a while)\n"
     ]
    },
    {
     "name": "stderr",
     "output_type": "stream",
     "text": [
      "16it [00:00, 158.48it/s]"
     ]
    },
    {
     "name": "stdout",
     "output_type": "stream",
     "text": [
      "Extracting frames based on kmeans ...\n",
      "Kmeans-quantization based extracting of frames from 0.0  seconds to 29.73  seconds.\n",
      "Extracting and downsampling... 892  frames from the video.\n"
     ]
    },
    {
     "name": "stderr",
     "output_type": "stream",
     "text": [
      "892it [00:04, 193.77it/s]\n"
     ]
    },
    {
     "name": "stdout",
     "output_type": "stream",
     "text": [
      "Kmeans clustering ... (this might take a while)\n"
     ]
    },
    {
     "name": "stderr",
     "output_type": "stream",
     "text": [
      "16it [00:00, 156.92it/s]"
     ]
    },
    {
     "name": "stdout",
     "output_type": "stream",
     "text": [
      "Extracting frames based on kmeans ...\n",
      "Kmeans-quantization based extracting of frames from 0.0  seconds to 64.43  seconds.\n",
      "Extracting and downsampling... 1933  frames from the video.\n"
     ]
    },
    {
     "name": "stderr",
     "output_type": "stream",
     "text": [
      "1933it [00:09, 200.15it/s]\n"
     ]
    },
    {
     "name": "stdout",
     "output_type": "stream",
     "text": [
      "Kmeans clustering ... (this might take a while)\n"
     ]
    },
    {
     "name": "stderr",
     "output_type": "stream",
     "text": [
      "17it [00:00, 163.52it/s]"
     ]
    },
    {
     "name": "stdout",
     "output_type": "stream",
     "text": [
      "Extracting frames based on kmeans ...\n",
      "Kmeans-quantization based extracting of frames from 0.0  seconds to 16.7  seconds.\n",
      "Extracting and downsampling... 501  frames from the video.\n"
     ]
    },
    {
     "name": "stderr",
     "output_type": "stream",
     "text": [
      "501it [00:02, 193.17it/s]\n"
     ]
    },
    {
     "name": "stdout",
     "output_type": "stream",
     "text": [
      "Kmeans clustering ... (this might take a while)\n"
     ]
    },
    {
     "name": "stderr",
     "output_type": "stream",
     "text": [
      "13it [00:00, 126.26it/s]"
     ]
    },
    {
     "name": "stdout",
     "output_type": "stream",
     "text": [
      "Extracting frames based on kmeans ...\n",
      "Kmeans-quantization based extracting of frames from 0.0  seconds to 15.13  seconds.\n",
      "Extracting and downsampling... 454  frames from the video.\n"
     ]
    },
    {
     "name": "stderr",
     "output_type": "stream",
     "text": [
      "454it [00:02, 187.24it/s]\n"
     ]
    },
    {
     "name": "stdout",
     "output_type": "stream",
     "text": [
      "Kmeans clustering ... (this might take a while)\n"
     ]
    },
    {
     "name": "stderr",
     "output_type": "stream",
     "text": [
      "16it [00:00, 158.91it/s]"
     ]
    },
    {
     "name": "stdout",
     "output_type": "stream",
     "text": [
      "Extracting frames based on kmeans ...\n",
      "Kmeans-quantization based extracting of frames from 0.0  seconds to 20.57  seconds.\n",
      "Extracting and downsampling... 617  frames from the video.\n"
     ]
    },
    {
     "name": "stderr",
     "output_type": "stream",
     "text": [
      "617it [00:03, 199.74it/s]\n"
     ]
    },
    {
     "name": "stdout",
     "output_type": "stream",
     "text": [
      "Kmeans clustering ... (this might take a while)\n"
     ]
    },
    {
     "name": "stderr",
     "output_type": "stream",
     "text": [
      "16it [00:00, 156.95it/s]"
     ]
    },
    {
     "name": "stdout",
     "output_type": "stream",
     "text": [
      "Extracting frames based on kmeans ...\n",
      "Kmeans-quantization based extracting of frames from 0.0  seconds to 12.7  seconds.\n",
      "Extracting and downsampling... 381  frames from the video.\n"
     ]
    },
    {
     "name": "stderr",
     "output_type": "stream",
     "text": [
      "381it [00:01, 192.82it/s]\n"
     ]
    },
    {
     "name": "stdout",
     "output_type": "stream",
     "text": [
      "Kmeans clustering ... (this might take a while)\n"
     ]
    },
    {
     "name": "stderr",
     "output_type": "stream",
     "text": [
      "16it [00:00, 149.25it/s]"
     ]
    },
    {
     "name": "stdout",
     "output_type": "stream",
     "text": [
      "Extracting frames based on kmeans ...\n",
      "Kmeans-quantization based extracting of frames from 0.0  seconds to 17.97  seconds.\n",
      "Extracting and downsampling... 539  frames from the video.\n"
     ]
    },
    {
     "name": "stderr",
     "output_type": "stream",
     "text": [
      "539it [00:02, 191.25it/s]\n"
     ]
    },
    {
     "name": "stdout",
     "output_type": "stream",
     "text": [
      "Kmeans clustering ... (this might take a while)\n"
     ]
    },
    {
     "name": "stderr",
     "output_type": "stream",
     "text": [
      "18it [00:00, 165.10it/s]"
     ]
    },
    {
     "name": "stdout",
     "output_type": "stream",
     "text": [
      "Extracting frames based on kmeans ...\n",
      "Kmeans-quantization based extracting of frames from 0.0  seconds to 20.8  seconds.\n",
      "Extracting and downsampling... 624  frames from the video.\n"
     ]
    },
    {
     "name": "stderr",
     "output_type": "stream",
     "text": [
      "624it [00:03, 190.37it/s]\n"
     ]
    },
    {
     "name": "stdout",
     "output_type": "stream",
     "text": [
      "Kmeans clustering ... (this might take a while)\n"
     ]
    },
    {
     "name": "stderr",
     "output_type": "stream",
     "text": [
      "15it [00:00, 145.71it/s]"
     ]
    },
    {
     "name": "stdout",
     "output_type": "stream",
     "text": [
      "Extracting frames based on kmeans ...\n",
      "Kmeans-quantization based extracting of frames from 0.0  seconds to 15.17  seconds.\n",
      "Extracting and downsampling... 455  frames from the video.\n"
     ]
    },
    {
     "name": "stderr",
     "output_type": "stream",
     "text": [
      "455it [00:02, 195.22it/s]\n"
     ]
    },
    {
     "name": "stdout",
     "output_type": "stream",
     "text": [
      "Kmeans clustering ... (this might take a while)\n"
     ]
    },
    {
     "name": "stderr",
     "output_type": "stream",
     "text": [
      "14it [00:00, 138.66it/s]"
     ]
    },
    {
     "name": "stdout",
     "output_type": "stream",
     "text": [
      "Extracting frames based on kmeans ...\n",
      "Kmeans-quantization based extracting of frames from 0.0  seconds to 25.37  seconds.\n",
      "Extracting and downsampling... 761  frames from the video.\n"
     ]
    },
    {
     "name": "stderr",
     "output_type": "stream",
     "text": [
      "761it [00:03, 194.59it/s]\n"
     ]
    },
    {
     "name": "stdout",
     "output_type": "stream",
     "text": [
      "Kmeans clustering ... (this might take a while)\n"
     ]
    },
    {
     "name": "stderr",
     "output_type": "stream",
     "text": [
      "17it [00:00, 166.79it/s]"
     ]
    },
    {
     "name": "stdout",
     "output_type": "stream",
     "text": [
      "Extracting frames based on kmeans ...\n",
      "Kmeans-quantization based extracting of frames from 0.0  seconds to 18.03  seconds.\n",
      "Extracting and downsampling... 541  frames from the video.\n"
     ]
    },
    {
     "name": "stderr",
     "output_type": "stream",
     "text": [
      "541it [00:02, 199.23it/s]\n"
     ]
    },
    {
     "name": "stdout",
     "output_type": "stream",
     "text": [
      "Kmeans clustering ... (this might take a while)\n"
     ]
    },
    {
     "name": "stderr",
     "output_type": "stream",
     "text": [
      "36it [00:00, 164.53it/s]"
     ]
    },
    {
     "name": "stdout",
     "output_type": "stream",
     "text": [
      "Extracting frames based on kmeans ...\n",
      "Kmeans-quantization based extracting of frames from 0.0  seconds to 18.57  seconds.\n",
      "Extracting and downsampling... 557  frames from the video.\n"
     ]
    },
    {
     "name": "stderr",
     "output_type": "stream",
     "text": [
      "557it [00:02, 192.85it/s]\n"
     ]
    },
    {
     "name": "stdout",
     "output_type": "stream",
     "text": [
      "Kmeans clustering ... (this might take a while)\n"
     ]
    },
    {
     "name": "stderr",
     "output_type": "stream",
     "text": [
      "14it [00:00, 134.67it/s]"
     ]
    },
    {
     "name": "stdout",
     "output_type": "stream",
     "text": [
      "Extracting frames based on kmeans ...\n",
      "Kmeans-quantization based extracting of frames from 0.0  seconds to 16.0  seconds.\n",
      "Extracting and downsampling... 480  frames from the video.\n"
     ]
    },
    {
     "name": "stderr",
     "output_type": "stream",
     "text": [
      "480it [00:02, 190.74it/s]\n"
     ]
    },
    {
     "name": "stdout",
     "output_type": "stream",
     "text": [
      "Kmeans clustering ... (this might take a while)\n"
     ]
    },
    {
     "name": "stderr",
     "output_type": "stream",
     "text": [
      "14it [00:00, 134.71it/s]"
     ]
    },
    {
     "name": "stdout",
     "output_type": "stream",
     "text": [
      "Extracting frames based on kmeans ...\n",
      "Kmeans-quantization based extracting of frames from 0.0  seconds to 23.17  seconds.\n",
      "Extracting and downsampling... 695  frames from the video.\n"
     ]
    },
    {
     "name": "stderr",
     "output_type": "stream",
     "text": [
      "695it [00:03, 191.09it/s]\n"
     ]
    },
    {
     "name": "stdout",
     "output_type": "stream",
     "text": [
      "Kmeans clustering ... (this might take a while)\n"
     ]
    },
    {
     "name": "stderr",
     "output_type": "stream",
     "text": [
      "15it [00:00, 147.12it/s]"
     ]
    },
    {
     "name": "stdout",
     "output_type": "stream",
     "text": [
      "Extracting frames based on kmeans ...\n",
      "Kmeans-quantization based extracting of frames from 0.0  seconds to 20.6  seconds.\n",
      "Extracting and downsampling... 618  frames from the video.\n"
     ]
    },
    {
     "name": "stderr",
     "output_type": "stream",
     "text": [
      "618it [00:03, 194.76it/s]\n"
     ]
    },
    {
     "name": "stdout",
     "output_type": "stream",
     "text": [
      "Kmeans clustering ... (this might take a while)\n"
     ]
    },
    {
     "name": "stderr",
     "output_type": "stream",
     "text": [
      "17it [00:00, 161.99it/s]"
     ]
    },
    {
     "name": "stdout",
     "output_type": "stream",
     "text": [
      "Extracting frames based on kmeans ...\n",
      "Kmeans-quantization based extracting of frames from 0.0  seconds to 17.73  seconds.\n",
      "Extracting and downsampling... 532  frames from the video.\n"
     ]
    },
    {
     "name": "stderr",
     "output_type": "stream",
     "text": [
      "532it [00:02, 190.86it/s]\n"
     ]
    },
    {
     "name": "stdout",
     "output_type": "stream",
     "text": [
      "Kmeans clustering ... (this might take a while)\n"
     ]
    },
    {
     "name": "stderr",
     "output_type": "stream",
     "text": [
      "17it [00:00, 168.37it/s]"
     ]
    },
    {
     "name": "stdout",
     "output_type": "stream",
     "text": [
      "Extracting frames based on kmeans ...\n",
      "Kmeans-quantization based extracting of frames from 0.0  seconds to 18.3  seconds.\n",
      "Extracting and downsampling... 549  frames from the video.\n"
     ]
    },
    {
     "name": "stderr",
     "output_type": "stream",
     "text": [
      "549it [00:02, 201.02it/s]\n"
     ]
    },
    {
     "name": "stdout",
     "output_type": "stream",
     "text": [
      "Kmeans clustering ... (this might take a while)\n"
     ]
    },
    {
     "name": "stderr",
     "output_type": "stream",
     "text": [
      "14it [00:00, 138.67it/s]"
     ]
    },
    {
     "name": "stdout",
     "output_type": "stream",
     "text": [
      "Extracting frames based on kmeans ...\n",
      "Kmeans-quantization based extracting of frames from 0.0  seconds to 13.77  seconds.\n",
      "Extracting and downsampling... 413  frames from the video.\n"
     ]
    },
    {
     "name": "stderr",
     "output_type": "stream",
     "text": [
      "413it [00:02, 190.43it/s]\n"
     ]
    },
    {
     "name": "stdout",
     "output_type": "stream",
     "text": [
      "Kmeans clustering ... (this might take a while)\n"
     ]
    },
    {
     "name": "stderr",
     "output_type": "stream",
     "text": [
      "14it [00:00, 134.69it/s]"
     ]
    },
    {
     "name": "stdout",
     "output_type": "stream",
     "text": [
      "Extracting frames based on kmeans ...\n",
      "Kmeans-quantization based extracting of frames from 0.0  seconds to 22.43  seconds.\n",
      "Extracting and downsampling... 673  frames from the video.\n"
     ]
    },
    {
     "name": "stderr",
     "output_type": "stream",
     "text": [
      "673it [00:03, 195.98it/s]\n"
     ]
    },
    {
     "name": "stdout",
     "output_type": "stream",
     "text": [
      "Kmeans clustering ... (this might take a while)\n"
     ]
    },
    {
     "name": "stderr",
     "output_type": "stream",
     "text": [
      "16it [00:00, 155.40it/s]"
     ]
    },
    {
     "name": "stdout",
     "output_type": "stream",
     "text": [
      "Extracting frames based on kmeans ...\n",
      "Kmeans-quantization based extracting of frames from 0.0  seconds to 12.63  seconds.\n",
      "Extracting and downsampling... 379  frames from the video.\n"
     ]
    },
    {
     "name": "stderr",
     "output_type": "stream",
     "text": [
      "379it [00:01, 193.08it/s]\n"
     ]
    },
    {
     "name": "stdout",
     "output_type": "stream",
     "text": [
      "Kmeans clustering ... (this might take a while)\n"
     ]
    },
    {
     "name": "stderr",
     "output_type": "stream",
     "text": [
      "17it [00:00, 168.41it/s]"
     ]
    },
    {
     "name": "stdout",
     "output_type": "stream",
     "text": [
      "Extracting frames based on kmeans ...\n",
      "Kmeans-quantization based extracting of frames from 0.0  seconds to 11.47  seconds.\n",
      "Extracting and downsampling... 344  frames from the video.\n"
     ]
    },
    {
     "name": "stderr",
     "output_type": "stream",
     "text": [
      "344it [00:01, 199.07it/s]\n"
     ]
    },
    {
     "name": "stdout",
     "output_type": "stream",
     "text": [
      "Kmeans clustering ... (this might take a while)\n"
     ]
    },
    {
     "name": "stderr",
     "output_type": "stream",
     "text": [
      "17it [00:00, 163.58it/s]"
     ]
    },
    {
     "name": "stdout",
     "output_type": "stream",
     "text": [
      "Extracting frames based on kmeans ...\n",
      "Kmeans-quantization based extracting of frames from 0.0  seconds to 17.93  seconds.\n",
      "Extracting and downsampling... 538  frames from the video.\n"
     ]
    },
    {
     "name": "stderr",
     "output_type": "stream",
     "text": [
      "538it [00:02, 196.60it/s]\n"
     ]
    },
    {
     "name": "stdout",
     "output_type": "stream",
     "text": [
      "Kmeans clustering ... (this might take a while)\n"
     ]
    },
    {
     "name": "stderr",
     "output_type": "stream",
     "text": [
      "15it [00:00, 142.91it/s]"
     ]
    },
    {
     "name": "stdout",
     "output_type": "stream",
     "text": [
      "Extracting frames based on kmeans ...\n",
      "Kmeans-quantization based extracting of frames from 0.0  seconds to 37.47  seconds.\n",
      "Extracting and downsampling... 1124  frames from the video.\n"
     ]
    },
    {
     "name": "stderr",
     "output_type": "stream",
     "text": [
      "1124it [00:05, 197.13it/s]\n"
     ]
    },
    {
     "name": "stdout",
     "output_type": "stream",
     "text": [
      "Kmeans clustering ... (this might take a while)\n"
     ]
    },
    {
     "name": "stderr",
     "output_type": "stream",
     "text": [
      "14it [00:00, 137.30it/s]"
     ]
    },
    {
     "name": "stdout",
     "output_type": "stream",
     "text": [
      "Extracting frames based on kmeans ...\n",
      "Kmeans-quantization based extracting of frames from 0.0  seconds to 14.67  seconds.\n",
      "Extracting and downsampling... 440  frames from the video.\n"
     ]
    },
    {
     "name": "stderr",
     "output_type": "stream",
     "text": [
      "440it [00:02, 183.63it/s]\n"
     ]
    },
    {
     "name": "stdout",
     "output_type": "stream",
     "text": [
      "Kmeans clustering ... (this might take a while)\n"
     ]
    },
    {
     "name": "stderr",
     "output_type": "stream",
     "text": [
      "16it [00:00, 153.91it/s]"
     ]
    },
    {
     "name": "stdout",
     "output_type": "stream",
     "text": [
      "Extracting frames based on kmeans ...\n",
      "Kmeans-quantization based extracting of frames from 0.0  seconds to 16.87  seconds.\n",
      "Extracting and downsampling... 506  frames from the video.\n"
     ]
    },
    {
     "name": "stderr",
     "output_type": "stream",
     "text": [
      "506it [00:02, 191.56it/s]\n"
     ]
    },
    {
     "name": "stdout",
     "output_type": "stream",
     "text": [
      "Kmeans clustering ... (this might take a while)\n"
     ]
    },
    {
     "name": "stderr",
     "output_type": "stream",
     "text": [
      "15it [00:00, 147.14it/s]"
     ]
    },
    {
     "name": "stdout",
     "output_type": "stream",
     "text": [
      "Extracting frames based on kmeans ...\n",
      "Kmeans-quantization based extracting of frames from 0.0  seconds to 12.3  seconds.\n",
      "Extracting and downsampling... 369  frames from the video.\n"
     ]
    },
    {
     "name": "stderr",
     "output_type": "stream",
     "text": [
      "369it [00:01, 190.22it/s]\n"
     ]
    },
    {
     "name": "stdout",
     "output_type": "stream",
     "text": [
      "Kmeans clustering ... (this might take a while)\n"
     ]
    },
    {
     "name": "stderr",
     "output_type": "stream",
     "text": [
      "14it [00:00, 134.70it/s]"
     ]
    },
    {
     "name": "stdout",
     "output_type": "stream",
     "text": [
      "Extracting frames based on kmeans ...\n",
      "Kmeans-quantization based extracting of frames from 0.0  seconds to 17.87  seconds.\n",
      "Extracting and downsampling... 536  frames from the video.\n"
     ]
    },
    {
     "name": "stderr",
     "output_type": "stream",
     "text": [
      "536it [00:02, 195.09it/s]\n"
     ]
    },
    {
     "name": "stdout",
     "output_type": "stream",
     "text": [
      "Kmeans clustering ... (this might take a while)\n"
     ]
    },
    {
     "name": "stderr",
     "output_type": "stream",
     "text": [
      "16it [00:00, 155.43it/s]"
     ]
    },
    {
     "name": "stdout",
     "output_type": "stream",
     "text": [
      "Extracting frames based on kmeans ...\n",
      "Kmeans-quantization based extracting of frames from 0.0  seconds to 18.27  seconds.\n",
      "Extracting and downsampling... 548  frames from the video.\n"
     ]
    },
    {
     "name": "stderr",
     "output_type": "stream",
     "text": [
      "548it [00:02, 189.09it/s]\n"
     ]
    },
    {
     "name": "stdout",
     "output_type": "stream",
     "text": [
      "Kmeans clustering ... (this might take a while)\n"
     ]
    },
    {
     "name": "stderr",
     "output_type": "stream",
     "text": [
      "17it [00:00, 163.52it/s]"
     ]
    },
    {
     "name": "stdout",
     "output_type": "stream",
     "text": [
      "Extracting frames based on kmeans ...\n",
      "Kmeans-quantization based extracting of frames from 0.0  seconds to 21.7  seconds.\n",
      "Extracting and downsampling... 651  frames from the video.\n"
     ]
    },
    {
     "name": "stderr",
     "output_type": "stream",
     "text": [
      "651it [00:03, 193.69it/s]\n"
     ]
    },
    {
     "name": "stdout",
     "output_type": "stream",
     "text": [
      "Kmeans clustering ... (this might take a while)\n"
     ]
    },
    {
     "name": "stderr",
     "output_type": "stream",
     "text": [
      "15it [00:00, 148.61it/s]"
     ]
    },
    {
     "name": "stdout",
     "output_type": "stream",
     "text": [
      "Extracting frames based on kmeans ...\n",
      "Kmeans-quantization based extracting of frames from 0.0  seconds to 22.63  seconds.\n",
      "Extracting and downsampling... 679  frames from the video.\n"
     ]
    },
    {
     "name": "stderr",
     "output_type": "stream",
     "text": [
      "679it [00:03, 192.41it/s]\n"
     ]
    },
    {
     "name": "stdout",
     "output_type": "stream",
     "text": [
      "Kmeans clustering ... (this might take a while)\n"
     ]
    },
    {
     "name": "stderr",
     "output_type": "stream",
     "text": [
      "17it [00:00, 163.52it/s]"
     ]
    },
    {
     "name": "stdout",
     "output_type": "stream",
     "text": [
      "Extracting frames based on kmeans ...\n",
      "Kmeans-quantization based extracting of frames from 0.0  seconds to 18.1  seconds.\n",
      "Extracting and downsampling... 543  frames from the video.\n"
     ]
    },
    {
     "name": "stderr",
     "output_type": "stream",
     "text": [
      "543it [00:02, 201.75it/s]\n"
     ]
    },
    {
     "name": "stdout",
     "output_type": "stream",
     "text": [
      "Kmeans clustering ... (this might take a while)\n"
     ]
    },
    {
     "name": "stderr",
     "output_type": "stream",
     "text": [
      "15it [00:00, 149.14it/s]"
     ]
    },
    {
     "name": "stdout",
     "output_type": "stream",
     "text": [
      "Extracting frames based on kmeans ...\n",
      "Kmeans-quantization based extracting of frames from 0.0  seconds to 28.9  seconds.\n",
      "Extracting and downsampling... 867  frames from the video.\n"
     ]
    },
    {
     "name": "stderr",
     "output_type": "stream",
     "text": [
      "867it [00:04, 200.41it/s]\n"
     ]
    },
    {
     "name": "stdout",
     "output_type": "stream",
     "text": [
      "Kmeans clustering ... (this might take a while)\n"
     ]
    },
    {
     "name": "stderr",
     "output_type": "stream",
     "text": [
      "16it [00:00, 155.39it/s]"
     ]
    },
    {
     "name": "stdout",
     "output_type": "stream",
     "text": [
      "Extracting frames based on kmeans ...\n",
      "Kmeans-quantization based extracting of frames from 0.0  seconds to 76.23  seconds.\n",
      "Extracting and downsampling... 2287  frames from the video.\n"
     ]
    },
    {
     "name": "stderr",
     "output_type": "stream",
     "text": [
      "2287it [00:11, 202.09it/s]\n"
     ]
    },
    {
     "name": "stdout",
     "output_type": "stream",
     "text": [
      "Kmeans clustering ... (this might take a while)\n"
     ]
    },
    {
     "name": "stderr",
     "output_type": "stream",
     "text": [
      "16it [00:00, 155.39it/s]"
     ]
    },
    {
     "name": "stdout",
     "output_type": "stream",
     "text": [
      "Extracting frames based on kmeans ...\n",
      "Kmeans-quantization based extracting of frames from 0.0  seconds to 18.33  seconds.\n",
      "Extracting and downsampling... 550  frames from the video.\n"
     ]
    },
    {
     "name": "stderr",
     "output_type": "stream",
     "text": [
      "550it [00:02, 210.58it/s]\n"
     ]
    },
    {
     "name": "stdout",
     "output_type": "stream",
     "text": [
      "Kmeans clustering ... (this might take a while)\n"
     ]
    },
    {
     "name": "stderr",
     "output_type": "stream",
     "text": [
      "38it [00:00, 170.54it/s]"
     ]
    },
    {
     "name": "stdout",
     "output_type": "stream",
     "text": [
      "Extracting frames based on kmeans ...\n",
      "Kmeans-quantization based extracting of frames from 0.0  seconds to 15.67  seconds.\n",
      "Extracting and downsampling... 470  frames from the video.\n"
     ]
    },
    {
     "name": "stderr",
     "output_type": "stream",
     "text": [
      "470it [00:02, 205.63it/s]\n"
     ]
    },
    {
     "name": "stdout",
     "output_type": "stream",
     "text": [
      "Kmeans clustering ... (this might take a while)\n"
     ]
    },
    {
     "name": "stderr",
     "output_type": "stream",
     "text": [
      "19it [00:00, 182.80it/s]"
     ]
    },
    {
     "name": "stdout",
     "output_type": "stream",
     "text": [
      "Extracting frames based on kmeans ...\n",
      "Kmeans-quantization based extracting of frames from 0.0  seconds to 16.77  seconds.\n",
      "Extracting and downsampling... 503  frames from the video.\n"
     ]
    },
    {
     "name": "stderr",
     "output_type": "stream",
     "text": [
      "503it [00:02, 214.80it/s]\n"
     ]
    },
    {
     "name": "stdout",
     "output_type": "stream",
     "text": [
      "Kmeans clustering ... (this might take a while)\n"
     ]
    },
    {
     "name": "stderr",
     "output_type": "stream",
     "text": [
      "19it [00:00, 182.76it/s]"
     ]
    },
    {
     "name": "stdout",
     "output_type": "stream",
     "text": [
      "Extracting frames based on kmeans ...\n",
      "Kmeans-quantization based extracting of frames from 0.0  seconds to 32.03  seconds.\n",
      "Extracting and downsampling... 961  frames from the video.\n"
     ]
    },
    {
     "name": "stderr",
     "output_type": "stream",
     "text": [
      "961it [00:04, 212.49it/s]\n"
     ]
    },
    {
     "name": "stdout",
     "output_type": "stream",
     "text": [
      "Kmeans clustering ... (this might take a while)\n"
     ]
    },
    {
     "name": "stderr",
     "output_type": "stream",
     "text": [
      "39it [00:00, 181.45it/s]"
     ]
    },
    {
     "name": "stdout",
     "output_type": "stream",
     "text": [
      "Extracting frames based on kmeans ...\n",
      "Kmeans-quantization based extracting of frames from 0.0  seconds to 17.93  seconds.\n",
      "Extracting and downsampling... 538  frames from the video.\n"
     ]
    },
    {
     "name": "stderr",
     "output_type": "stream",
     "text": [
      "538it [00:02, 214.59it/s]\n"
     ]
    },
    {
     "name": "stdout",
     "output_type": "stream",
     "text": [
      "Kmeans clustering ... (this might take a while)\n"
     ]
    },
    {
     "name": "stderr",
     "output_type": "stream",
     "text": [
      "16it [00:00, 158.50it/s]"
     ]
    },
    {
     "name": "stdout",
     "output_type": "stream",
     "text": [
      "Extracting frames based on kmeans ...\n",
      "Kmeans-quantization based extracting of frames from 0.0  seconds to 12.73  seconds.\n",
      "Extracting and downsampling... 382  frames from the video.\n"
     ]
    },
    {
     "name": "stderr",
     "output_type": "stream",
     "text": [
      "382it [00:01, 211.40it/s]\n"
     ]
    },
    {
     "name": "stdout",
     "output_type": "stream",
     "text": [
      "Kmeans clustering ... (this might take a while)\n"
     ]
    },
    {
     "name": "stderr",
     "output_type": "stream",
     "text": [
      "19it [00:00, 182.76it/s]"
     ]
    },
    {
     "name": "stdout",
     "output_type": "stream",
     "text": [
      "Extracting frames based on kmeans ...\n",
      "Kmeans-quantization based extracting of frames from 0.0  seconds to 12.1  seconds.\n",
      "Extracting and downsampling... 363  frames from the video.\n"
     ]
    },
    {
     "name": "stderr",
     "output_type": "stream",
     "text": [
      "363it [00:01, 213.15it/s]\n"
     ]
    },
    {
     "name": "stdout",
     "output_type": "stream",
     "text": [
      "Kmeans clustering ... (this might take a while)\n"
     ]
    },
    {
     "name": "stderr",
     "output_type": "stream",
     "text": [
      "19it [00:00, 186.35it/s]"
     ]
    },
    {
     "name": "stdout",
     "output_type": "stream",
     "text": [
      "Extracting frames based on kmeans ...\n",
      "Kmeans-quantization based extracting of frames from 0.0  seconds to 11.5  seconds.\n",
      "Extracting and downsampling... 345  frames from the video.\n"
     ]
    },
    {
     "name": "stderr",
     "output_type": "stream",
     "text": [
      "345it [00:01, 213.94it/s]\n"
     ]
    },
    {
     "name": "stdout",
     "output_type": "stream",
     "text": [
      "Kmeans clustering ... (this might take a while)\n"
     ]
    },
    {
     "name": "stderr",
     "output_type": "stream",
     "text": [
      "19it [00:00, 184.60it/s]"
     ]
    },
    {
     "name": "stdout",
     "output_type": "stream",
     "text": [
      "Extracting frames based on kmeans ...\n",
      "Kmeans-quantization based extracting of frames from 0.0  seconds to 12.73  seconds.\n",
      "Extracting and downsampling... 382  frames from the video.\n"
     ]
    },
    {
     "name": "stderr",
     "output_type": "stream",
     "text": [
      "382it [00:01, 212.58it/s]\n"
     ]
    },
    {
     "name": "stdout",
     "output_type": "stream",
     "text": [
      "Kmeans clustering ... (this might take a while)\n"
     ]
    },
    {
     "name": "stderr",
     "output_type": "stream",
     "text": [
      "19it [00:00, 182.79it/s]"
     ]
    },
    {
     "name": "stdout",
     "output_type": "stream",
     "text": [
      "Extracting frames based on kmeans ...\n",
      "Kmeans-quantization based extracting of frames from 0.0  seconds to 17.5  seconds.\n",
      "Extracting and downsampling... 525  frames from the video.\n"
     ]
    },
    {
     "name": "stderr",
     "output_type": "stream",
     "text": [
      "525it [00:02, 210.63it/s]\n"
     ]
    },
    {
     "name": "stdout",
     "output_type": "stream",
     "text": [
      "Kmeans clustering ... (this might take a while)\n"
     ]
    },
    {
     "name": "stderr",
     "output_type": "stream",
     "text": [
      "16it [00:00, 158.51it/s]"
     ]
    },
    {
     "name": "stdout",
     "output_type": "stream",
     "text": [
      "Extracting frames based on kmeans ...\n",
      "Kmeans-quantization based extracting of frames from 0.0  seconds to 21.17  seconds.\n",
      "Extracting and downsampling... 635  frames from the video.\n"
     ]
    },
    {
     "name": "stderr",
     "output_type": "stream",
     "text": [
      "635it [00:02, 212.92it/s]\n"
     ]
    },
    {
     "name": "stdout",
     "output_type": "stream",
     "text": [
      "Kmeans clustering ... (this might take a while)\n"
     ]
    },
    {
     "name": "stderr",
     "output_type": "stream",
     "text": [
      "16it [00:00, 158.50it/s]"
     ]
    },
    {
     "name": "stdout",
     "output_type": "stream",
     "text": [
      "Extracting frames based on kmeans ...\n",
      "Kmeans-quantization based extracting of frames from 0.0  seconds to 20.27  seconds.\n",
      "Extracting and downsampling... 608  frames from the video.\n"
     ]
    },
    {
     "name": "stderr",
     "output_type": "stream",
     "text": [
      "608it [00:02, 212.71it/s]\n"
     ]
    },
    {
     "name": "stdout",
     "output_type": "stream",
     "text": [
      "Kmeans clustering ... (this might take a while)\n"
     ]
    },
    {
     "name": "stderr",
     "output_type": "stream",
     "text": [
      "41it [00:00, 193.45it/s]"
     ]
    },
    {
     "name": "stdout",
     "output_type": "stream",
     "text": [
      "Extracting frames based on kmeans ...\n",
      "Kmeans-quantization based extracting of frames from 0.0  seconds to 17.0  seconds.\n",
      "Extracting and downsampling... 510  frames from the video.\n"
     ]
    },
    {
     "name": "stderr",
     "output_type": "stream",
     "text": [
      "510it [00:02, 215.04it/s]\n"
     ]
    },
    {
     "name": "stdout",
     "output_type": "stream",
     "text": [
      "Kmeans clustering ... (this might take a while)\n"
     ]
    },
    {
     "name": "stderr",
     "output_type": "stream",
     "text": [
      "19it [00:00, 181.05it/s]"
     ]
    },
    {
     "name": "stdout",
     "output_type": "stream",
     "text": [
      "Extracting frames based on kmeans ...\n",
      "Kmeans-quantization based extracting of frames from 0.0  seconds to 17.4  seconds.\n",
      "Extracting and downsampling... 522  frames from the video.\n"
     ]
    },
    {
     "name": "stderr",
     "output_type": "stream",
     "text": [
      "522it [00:02, 205.22it/s]\n"
     ]
    },
    {
     "name": "stdout",
     "output_type": "stream",
     "text": [
      "Kmeans clustering ... (this might take a while)\n"
     ]
    },
    {
     "name": "stderr",
     "output_type": "stream",
     "text": [
      "18it [00:00, 173.17it/s]"
     ]
    },
    {
     "name": "stdout",
     "output_type": "stream",
     "text": [
      "Extracting frames based on kmeans ...\n",
      "Kmeans-quantization based extracting of frames from 0.0  seconds to 23.27  seconds.\n",
      "Extracting and downsampling... 698  frames from the video.\n"
     ]
    },
    {
     "name": "stderr",
     "output_type": "stream",
     "text": [
      "698it [00:03, 206.40it/s]\n"
     ]
    },
    {
     "name": "stdout",
     "output_type": "stream",
     "text": [
      "Kmeans clustering ... (this might take a while)\n"
     ]
    },
    {
     "name": "stderr",
     "output_type": "stream",
     "text": [
      "16it [00:00, 156.95it/s]"
     ]
    },
    {
     "name": "stdout",
     "output_type": "stream",
     "text": [
      "Extracting frames based on kmeans ...\n",
      "Kmeans-quantization based extracting of frames from 0.0  seconds to 25.47  seconds.\n",
      "Extracting and downsampling... 764  frames from the video.\n"
     ]
    },
    {
     "name": "stderr",
     "output_type": "stream",
     "text": [
      "764it [00:03, 209.49it/s]\n"
     ]
    },
    {
     "name": "stdout",
     "output_type": "stream",
     "text": [
      "Kmeans clustering ... (this might take a while)\n"
     ]
    },
    {
     "name": "stderr",
     "output_type": "stream",
     "text": [
      "18it [00:00, 176.58it/s]"
     ]
    },
    {
     "name": "stdout",
     "output_type": "stream",
     "text": [
      "Extracting frames based on kmeans ...\n",
      "Kmeans-quantization based extracting of frames from 0.0  seconds to 57.67  seconds.\n",
      "Extracting and downsampling... 1730  frames from the video.\n"
     ]
    },
    {
     "name": "stderr",
     "output_type": "stream",
     "text": [
      "1730it [00:08, 209.26it/s]\n"
     ]
    },
    {
     "name": "stdout",
     "output_type": "stream",
     "text": [
      "Kmeans clustering ... (this might take a while)\n"
     ]
    },
    {
     "name": "stderr",
     "output_type": "stream",
     "text": [
      "16it [00:00, 156.95it/s]"
     ]
    },
    {
     "name": "stdout",
     "output_type": "stream",
     "text": [
      "Extracting frames based on kmeans ...\n",
      "Kmeans-quantization based extracting of frames from 0.0  seconds to 18.37  seconds.\n",
      "Extracting and downsampling... 551  frames from the video.\n"
     ]
    },
    {
     "name": "stderr",
     "output_type": "stream",
     "text": [
      "551it [00:02, 210.42it/s]\n"
     ]
    },
    {
     "name": "stdout",
     "output_type": "stream",
     "text": [
      "Kmeans clustering ... (this might take a while)\n"
     ]
    },
    {
     "name": "stderr",
     "output_type": "stream",
     "text": [
      "16it [00:00, 156.95it/s]"
     ]
    },
    {
     "name": "stdout",
     "output_type": "stream",
     "text": [
      "Extracting frames based on kmeans ...\n",
      "Kmeans-quantization based extracting of frames from 0.0  seconds to 17.73  seconds.\n",
      "Extracting and downsampling... 532  frames from the video.\n"
     ]
    },
    {
     "name": "stderr",
     "output_type": "stream",
     "text": [
      "532it [00:02, 208.66it/s]\n"
     ]
    },
    {
     "name": "stdout",
     "output_type": "stream",
     "text": [
      "Kmeans clustering ... (this might take a while)\n"
     ]
    },
    {
     "name": "stderr",
     "output_type": "stream",
     "text": [
      "19it [00:00, 182.76it/s]"
     ]
    },
    {
     "name": "stdout",
     "output_type": "stream",
     "text": [
      "Extracting frames based on kmeans ...\n",
      "Kmeans-quantization based extracting of frames from 0.0  seconds to 17.83  seconds.\n",
      "Extracting and downsampling... 535  frames from the video.\n"
     ]
    },
    {
     "name": "stderr",
     "output_type": "stream",
     "text": [
      "535it [00:02, 213.18it/s]\n"
     ]
    },
    {
     "name": "stdout",
     "output_type": "stream",
     "text": [
      "Kmeans clustering ... (this might take a while)\n"
     ]
    },
    {
     "name": "stderr",
     "output_type": "stream",
     "text": [
      "18it [00:00, 178.32it/s]"
     ]
    },
    {
     "name": "stdout",
     "output_type": "stream",
     "text": [
      "Extracting frames based on kmeans ...\n",
      "Kmeans-quantization based extracting of frames from 0.0  seconds to 18.83  seconds.\n",
      "Extracting and downsampling... 565  frames from the video.\n"
     ]
    },
    {
     "name": "stderr",
     "output_type": "stream",
     "text": [
      "565it [00:02, 213.81it/s]\n"
     ]
    },
    {
     "name": "stdout",
     "output_type": "stream",
     "text": [
      "Kmeans clustering ... (this might take a while)\n"
     ]
    },
    {
     "name": "stderr",
     "output_type": "stream",
     "text": [
      "19it [00:00, 182.80it/s]"
     ]
    },
    {
     "name": "stdout",
     "output_type": "stream",
     "text": [
      "Extracting frames based on kmeans ...\n",
      "Kmeans-quantization based extracting of frames from 0.0  seconds to 36.37  seconds.\n",
      "Extracting and downsampling... 1091  frames from the video.\n"
     ]
    },
    {
     "name": "stderr",
     "output_type": "stream",
     "text": [
      "1091it [00:05, 213.62it/s]\n"
     ]
    },
    {
     "name": "stdout",
     "output_type": "stream",
     "text": [
      "Kmeans clustering ... (this might take a while)\n"
     ]
    },
    {
     "name": "stderr",
     "output_type": "stream",
     "text": [
      "19it [00:00, 182.79it/s]"
     ]
    },
    {
     "name": "stdout",
     "output_type": "stream",
     "text": [
      "Extracting frames based on kmeans ...\n",
      "Kmeans-quantization based extracting of frames from 0.0  seconds to 16.1  seconds.\n",
      "Extracting and downsampling... 483  frames from the video.\n"
     ]
    },
    {
     "name": "stderr",
     "output_type": "stream",
     "text": [
      "483it [00:02, 211.78it/s]\n"
     ]
    },
    {
     "name": "stdout",
     "output_type": "stream",
     "text": [
      "Kmeans clustering ... (this might take a while)\n"
     ]
    },
    {
     "name": "stderr",
     "output_type": "stream",
     "text": [
      "16it [00:00, 158.51it/s]"
     ]
    },
    {
     "name": "stdout",
     "output_type": "stream",
     "text": [
      "Extracting frames based on kmeans ...\n",
      "Kmeans-quantization based extracting of frames from 0.0  seconds to 61.9  seconds.\n",
      "Extracting and downsampling... 1857  frames from the video.\n"
     ]
    },
    {
     "name": "stderr",
     "output_type": "stream",
     "text": [
      "1857it [00:08, 212.78it/s]\n"
     ]
    },
    {
     "name": "stdout",
     "output_type": "stream",
     "text": [
      "Kmeans clustering ... (this might take a while)\n"
     ]
    },
    {
     "name": "stderr",
     "output_type": "stream",
     "text": [
      "19it [00:00, 182.76it/s]"
     ]
    },
    {
     "name": "stdout",
     "output_type": "stream",
     "text": [
      "Extracting frames based on kmeans ...\n",
      "Kmeans-quantization based extracting of frames from 0.0  seconds to 47.37  seconds.\n",
      "Extracting and downsampling... 1421  frames from the video.\n"
     ]
    },
    {
     "name": "stderr",
     "output_type": "stream",
     "text": [
      "1421it [00:06, 213.86it/s]\n"
     ]
    },
    {
     "name": "stdout",
     "output_type": "stream",
     "text": [
      "Kmeans clustering ... (this might take a while)\n"
     ]
    },
    {
     "name": "stderr",
     "output_type": "stream",
     "text": [
      "19it [00:00, 181.05it/s]"
     ]
    },
    {
     "name": "stdout",
     "output_type": "stream",
     "text": [
      "Extracting frames based on kmeans ...\n",
      "Kmeans-quantization based extracting of frames from 0.0  seconds to 20.03  seconds.\n",
      "Extracting and downsampling... 601  frames from the video.\n"
     ]
    },
    {
     "name": "stderr",
     "output_type": "stream",
     "text": [
      "601it [00:02, 212.79it/s]\n"
     ]
    },
    {
     "name": "stdout",
     "output_type": "stream",
     "text": [
      "Kmeans clustering ... (this might take a while)\n"
     ]
    },
    {
     "name": "stderr",
     "output_type": "stream",
     "text": [
      "16it [00:00, 155.40it/s]"
     ]
    },
    {
     "name": "stdout",
     "output_type": "stream",
     "text": [
      "Extracting frames based on kmeans ...\n",
      "Kmeans-quantization based extracting of frames from 0.0  seconds to 17.03  seconds.\n",
      "Extracting and downsampling... 511  frames from the video.\n"
     ]
    },
    {
     "name": "stderr",
     "output_type": "stream",
     "text": [
      "511it [00:02, 208.09it/s]\n"
     ]
    },
    {
     "name": "stdout",
     "output_type": "stream",
     "text": [
      "Kmeans clustering ... (this might take a while)\n"
     ]
    },
    {
     "name": "stderr",
     "output_type": "stream",
     "text": [
      "16it [00:00, 153.93it/s]"
     ]
    },
    {
     "name": "stdout",
     "output_type": "stream",
     "text": [
      "Extracting frames based on kmeans ...\n",
      "Kmeans-quantization based extracting of frames from 0.0  seconds to 131.8  seconds.\n",
      "Extracting and downsampling... 3954  frames from the video.\n"
     ]
    },
    {
     "name": "stderr",
     "output_type": "stream",
     "text": [
      "3954it [00:18, 214.14it/s]\n"
     ]
    },
    {
     "name": "stdout",
     "output_type": "stream",
     "text": [
      "Kmeans clustering ... (this might take a while)\n"
     ]
    },
    {
     "name": "stderr",
     "output_type": "stream",
     "text": [
      "16it [00:00, 158.51it/s]"
     ]
    },
    {
     "name": "stdout",
     "output_type": "stream",
     "text": [
      "Extracting frames based on kmeans ...\n",
      "Kmeans-quantization based extracting of frames from 0.0  seconds to 22.77  seconds.\n",
      "Extracting and downsampling... 683  frames from the video.\n"
     ]
    },
    {
     "name": "stderr",
     "output_type": "stream",
     "text": [
      "683it [00:03, 213.83it/s]\n"
     ]
    },
    {
     "name": "stdout",
     "output_type": "stream",
     "text": [
      "Kmeans clustering ... (this might take a while)\n"
     ]
    },
    {
     "name": "stderr",
     "output_type": "stream",
     "text": [
      "16it [00:00, 156.92it/s]"
     ]
    },
    {
     "name": "stdout",
     "output_type": "stream",
     "text": [
      "Extracting frames based on kmeans ...\n",
      "Kmeans-quantization based extracting of frames from 0.0  seconds to 14.17  seconds.\n",
      "Extracting and downsampling... 425  frames from the video.\n"
     ]
    },
    {
     "name": "stderr",
     "output_type": "stream",
     "text": [
      "425it [00:02, 211.56it/s]\n"
     ]
    },
    {
     "name": "stdout",
     "output_type": "stream",
     "text": [
      "Kmeans clustering ... (this might take a while)\n"
     ]
    },
    {
     "name": "stderr",
     "output_type": "stream",
     "text": [
      "18it [00:00, 173.21it/s]"
     ]
    },
    {
     "name": "stdout",
     "output_type": "stream",
     "text": [
      "Extracting frames based on kmeans ...\n",
      "Kmeans-quantization based extracting of frames from 0.0  seconds to 85.07  seconds.\n",
      "Extracting and downsampling... 2552  frames from the video.\n"
     ]
    },
    {
     "name": "stderr",
     "output_type": "stream",
     "text": [
      "2552it [00:11, 214.06it/s]\n"
     ]
    },
    {
     "name": "stdout",
     "output_type": "stream",
     "text": [
      "Kmeans clustering ... (this might take a while)\n",
      "\n",
      "Frames were selected.\n",
      "You can now label the frames using the function 'label_frames' (if you extracted enough frames for all videos).\n"
     ]
    }
   ],
   "source": [
    "# extract frames from the videos\n",
    "# will go through all of the videos on the list, so if many videos, it might take a while\n",
    "deeplabcut.extract_frames(config_path, mode='automatic', algo='kmeans', crop = False, userfeedback=False)"
   ]
  },
  {
   "cell_type": "code",
   "execution_count": 4,
   "metadata": {},
   "outputs": [
    {
     "name": "stdout",
     "output_type": "stream",
     "text": [
      "You can now check the labels, using 'check_labels' before proceeding. Then, you can use the function 'create_training_dataset' to create the training dataset.\n"
     ]
    }
   ],
   "source": [
    "# label frames\n",
    "# generates folders in the labeled-data folder with the video name\n",
    "deeplabcut.label_frames(config_path)"
   ]
  },
  {
   "cell_type": "code",
   "execution_count": 11,
   "metadata": {
    "collapsed": true
   },
   "outputs": [
    {
     "name": "stdout",
     "output_type": "stream",
     "text": [
      "Creating images with labels by Drago Guggiana.\n",
      "D:\\DLC_projects\\Prey_capture\\Prey_capture-Drago Guggiana-2020-03-26\\labeled-data\\03_02_2020_15_35_18_miniscope_MM_200129_a_succ_nomini_labeled  already exists!\n",
      "They are stored in the following folder: D:\\DLC_projects\\Prey_capture\\Prey_capture-Drago Guggiana-2020-03-26\\labeled-data\\03_02_2020_15_35_18_miniscope_MM_200129_a_succ_nomini_labeled.\n",
      "D:\\DLC_projects\\Prey_capture\\Prey_capture-Drago Guggiana-2020-03-26\\labeled-data\\03_02_2020_15_41_21_miniscope_MM_200129_a_succ_nomini_labeled  already exists!\n",
      "They are stored in the following folder: D:\\DLC_projects\\Prey_capture\\Prey_capture-Drago Guggiana-2020-03-26\\labeled-data\\03_02_2020_15_41_21_miniscope_MM_200129_a_succ_nomini_labeled.\n",
      "Attention: D:\\DLC_projects\\Prey_capture\\Prey_capture-Drago Guggiana-2020-03-26\\labeled-data\\03_02_2020_15_45_20_miniscope_MM_200129_a_succ_nomini does not appear to have labeled data!\n",
      "Attention: D:\\DLC_projects\\Prey_capture\\Prey_capture-Drago Guggiana-2020-03-26\\labeled-data\\03_02_2020_15_50_05_miniscope_MM_200129_a_succ does not appear to have labeled data!\n",
      "Attention: D:\\DLC_projects\\Prey_capture\\Prey_capture-Drago Guggiana-2020-03-26\\labeled-data\\03_02_2020_15_54_55_miniscope_MM_200129_a_succ does not appear to have labeled data!\n",
      "Attention: D:\\DLC_projects\\Prey_capture\\Prey_capture-Drago Guggiana-2020-03-26\\labeled-data\\03_02_2020_15_59_15_miniscope_MM_200129_a_succ does not appear to have labeled data!\n",
      "D:\\DLC_projects\\Prey_capture\\Prey_capture-Drago Guggiana-2020-03-26\\labeled-data\\03_02_2020_16_09_51_miniscope_MM_200129_b_fail_labeled  already exists!\n",
      "They are stored in the following folder: D:\\DLC_projects\\Prey_capture\\Prey_capture-Drago Guggiana-2020-03-26\\labeled-data\\03_02_2020_16_09_51_miniscope_MM_200129_b_fail_labeled.\n",
      "Attention: D:\\DLC_projects\\Prey_capture\\Prey_capture-Drago Guggiana-2020-03-26\\labeled-data\\03_02_2020_16_15_37_miniscope_MM_200129_b_fail does not appear to have labeled data!\n",
      "D:\\DLC_projects\\Prey_capture\\Prey_capture-Drago Guggiana-2020-03-26\\labeled-data\\03_02_2020_16_20_39_miniscope_MM_200129_b_succ_labeled  already exists!\n",
      "They are stored in the following folder: D:\\DLC_projects\\Prey_capture\\Prey_capture-Drago Guggiana-2020-03-26\\labeled-data\\03_02_2020_16_20_39_miniscope_MM_200129_b_succ_labeled.\n",
      "D:\\DLC_projects\\Prey_capture\\Prey_capture-Drago Guggiana-2020-03-26\\labeled-data\\03_02_2020_16_29_48_miniscope_MM_200129_b_succ_labeled  already exists!\n",
      "They are stored in the following folder: D:\\DLC_projects\\Prey_capture\\Prey_capture-Drago Guggiana-2020-03-26\\labeled-data\\03_02_2020_16_29_48_miniscope_MM_200129_b_succ_labeled.\n",
      "Attention: D:\\DLC_projects\\Prey_capture\\Prey_capture-Drago Guggiana-2020-03-26\\labeled-data\\03_04_2020_15_37_26_miniscope_MM_200129_a_succ does not appear to have labeled data!\n",
      "Attention: D:\\DLC_projects\\Prey_capture\\Prey_capture-Drago Guggiana-2020-03-26\\labeled-data\\03_04_2020_15_42_07_miniscope_MM_200129_a_succ does not appear to have labeled data!\n",
      "Attention: D:\\DLC_projects\\Prey_capture\\Prey_capture-Drago Guggiana-2020-03-26\\labeled-data\\03_04_2020_15_46_47_miniscope_MM_200129_a_succ does not appear to have labeled data!\n",
      "Attention: D:\\DLC_projects\\Prey_capture\\Prey_capture-Drago Guggiana-2020-03-26\\labeled-data\\03_04_2020_15_54_26_miniscope_MM_200129_a_succ does not appear to have labeled data!\n",
      "D:\\DLC_projects\\Prey_capture\\Prey_capture-Drago Guggiana-2020-03-26\\labeled-data\\03_04_2020_16_05_47_miniscope_MM_200129_b_succ_labeled  already exists!\n",
      "They are stored in the following folder: D:\\DLC_projects\\Prey_capture\\Prey_capture-Drago Guggiana-2020-03-26\\labeled-data\\03_04_2020_16_05_47_miniscope_MM_200129_b_succ_labeled.\n",
      "Attention: D:\\DLC_projects\\Prey_capture\\Prey_capture-Drago Guggiana-2020-03-26\\labeled-data\\03_04_2020_16_12_03_miniscope_MM_200129_b_succ does not appear to have labeled data!\n",
      "Attention: D:\\DLC_projects\\Prey_capture\\Prey_capture-Drago Guggiana-2020-03-26\\labeled-data\\03_04_2020_16_16_18_miniscope_MM_200129_b_succ does not appear to have labeled data!\n",
      "Attention: D:\\DLC_projects\\Prey_capture\\Prey_capture-Drago Guggiana-2020-03-26\\labeled-data\\03_04_2020_16_18_47_miniscope_MM_200129_b_succ does not appear to have labeled data!\n",
      "Attention: D:\\DLC_projects\\Prey_capture\\Prey_capture-Drago Guggiana-2020-03-26\\labeled-data\\03_05_2020_15_32_18_miniscope_MM_200129_a_succ does not appear to have labeled data!\n",
      "Attention: D:\\DLC_projects\\Prey_capture\\Prey_capture-Drago Guggiana-2020-03-26\\labeled-data\\03_05_2020_15_35_45_miniscope_MM_200129_a_succ does not appear to have labeled data!\n",
      "Attention: D:\\DLC_projects\\Prey_capture\\Prey_capture-Drago Guggiana-2020-03-26\\labeled-data\\03_05_2020_15_39_38_miniscope_MM_200129_a_succ does not appear to have labeled data!\n",
      "Attention: D:\\DLC_projects\\Prey_capture\\Prey_capture-Drago Guggiana-2020-03-26\\labeled-data\\03_05_2020_15_46_40_miniscope_MM_200129_a_succ does not appear to have labeled data!\n",
      "Attention: D:\\DLC_projects\\Prey_capture\\Prey_capture-Drago Guggiana-2020-03-26\\labeled-data\\03_05_2020_15_56_12_miniscope_MM_200129_b_succ does not appear to have labeled data!\n",
      "Attention: D:\\DLC_projects\\Prey_capture\\Prey_capture-Drago Guggiana-2020-03-26\\labeled-data\\03_05_2020_15_59_48_miniscope_MM_200129_b_succ does not appear to have labeled data!\n",
      "Attention: D:\\DLC_projects\\Prey_capture\\Prey_capture-Drago Guggiana-2020-03-26\\labeled-data\\03_05_2020_16_07_59_miniscope_MM_200129_b_succ does not appear to have labeled data!\n",
      "Attention: D:\\DLC_projects\\Prey_capture\\Prey_capture-Drago Guggiana-2020-03-26\\labeled-data\\03_05_2020_16_13_46_miniscope_MM_200129_b_succ does not appear to have labeled data!\n",
      "Attention: D:\\DLC_projects\\Prey_capture\\Prey_capture-Drago Guggiana-2020-03-26\\labeled-data\\03_06_2020_15_49_03_miniscope_MM_200129_a_succ does not appear to have labeled data!\n",
      "Attention: D:\\DLC_projects\\Prey_capture\\Prey_capture-Drago Guggiana-2020-03-26\\labeled-data\\03_06_2020_15_53_37_miniscope_MM_200129_a_succ does not appear to have labeled data!\n",
      "Attention: D:\\DLC_projects\\Prey_capture\\Prey_capture-Drago Guggiana-2020-03-26\\labeled-data\\03_06_2020_16_00_37_miniscope_MM_200129_a_succ does not appear to have labeled data!\n",
      "D:\\DLC_projects\\Prey_capture\\Prey_capture-Drago Guggiana-2020-03-26\\labeled-data\\03_06_2020_16_04_24_miniscope_MM_200129_a_succ_labeled  already exists!\n",
      "They are stored in the following folder: D:\\DLC_projects\\Prey_capture\\Prey_capture-Drago Guggiana-2020-03-26\\labeled-data\\03_06_2020_16_04_24_miniscope_MM_200129_a_succ_labeled.\n",
      "D:\\DLC_projects\\Prey_capture\\Prey_capture-Drago Guggiana-2020-03-26\\labeled-data\\03_06_2020_16_17_02_miniscope_MM_200129_b_succ_labeled  already exists!\n",
      "They are stored in the following folder: D:\\DLC_projects\\Prey_capture\\Prey_capture-Drago Guggiana-2020-03-26\\labeled-data\\03_06_2020_16_17_02_miniscope_MM_200129_b_succ_labeled.\n",
      "Attention: D:\\DLC_projects\\Prey_capture\\Prey_capture-Drago Guggiana-2020-03-26\\labeled-data\\03_06_2020_16_20_40_miniscope_MM_200129_b_succ does not appear to have labeled data!\n",
      "Attention: D:\\DLC_projects\\Prey_capture\\Prey_capture-Drago Guggiana-2020-03-26\\labeled-data\\03_06_2020_16_25_04_miniscope_MM_200129_b_succ does not appear to have labeled data!\n",
      "Attention: D:\\DLC_projects\\Prey_capture\\Prey_capture-Drago Guggiana-2020-03-26\\labeled-data\\03_06_2020_16_30_52_miniscope_MM_200129_b_succ does not appear to have labeled data!\n",
      "Attention: D:\\DLC_projects\\Prey_capture\\Prey_capture-Drago Guggiana-2020-03-26\\labeled-data\\03_10_2020_15_48_48_miniscope_MM_200129_a_succ does not appear to have labeled data!\n",
      "D:\\DLC_projects\\Prey_capture\\Prey_capture-Drago Guggiana-2020-03-26\\labeled-data\\03_10_2020_15_52_35_miniscope_MM_200129_a_succ_labeled  already exists!\n",
      "They are stored in the following folder: D:\\DLC_projects\\Prey_capture\\Prey_capture-Drago Guggiana-2020-03-26\\labeled-data\\03_10_2020_15_52_35_miniscope_MM_200129_a_succ_labeled.\n",
      "Attention: D:\\DLC_projects\\Prey_capture\\Prey_capture-Drago Guggiana-2020-03-26\\labeled-data\\03_10_2020_15_56_24_miniscope_MM_200129_a_succ does not appear to have labeled data!\n",
      "Attention: D:\\DLC_projects\\Prey_capture\\Prey_capture-Drago Guggiana-2020-03-26\\labeled-data\\03_10_2020_16_00_39_miniscope_MM_200129_a_succ does not appear to have labeled data!\n",
      "Attention: D:\\DLC_projects\\Prey_capture\\Prey_capture-Drago Guggiana-2020-03-26\\labeled-data\\03_10_2020_16_09_06_miniscope_MM_200129_b_succ does not appear to have labeled data!\n",
      "D:\\DLC_projects\\Prey_capture\\Prey_capture-Drago Guggiana-2020-03-26\\labeled-data\\03_10_2020_16_13_35_miniscope_MM_200129_b_succ_labeled  already exists!\n"
     ]
    },
    {
     "name": "stdout",
     "output_type": "stream",
     "text": [
      "They are stored in the following folder: D:\\DLC_projects\\Prey_capture\\Prey_capture-Drago Guggiana-2020-03-26\\labeled-data\\03_10_2020_16_13_35_miniscope_MM_200129_b_succ_labeled.\n",
      "D:\\DLC_projects\\Prey_capture\\Prey_capture-Drago Guggiana-2020-03-26\\labeled-data\\03_10_2020_16_17_45_miniscope_MM_200129_b_succ_labeled  already exists!\n",
      "They are stored in the following folder: D:\\DLC_projects\\Prey_capture\\Prey_capture-Drago Guggiana-2020-03-26\\labeled-data\\03_10_2020_16_17_45_miniscope_MM_200129_b_succ_labeled.\n",
      "Attention: D:\\DLC_projects\\Prey_capture\\Prey_capture-Drago Guggiana-2020-03-26\\labeled-data\\03_10_2020_16_21_31_miniscope_MM_200129_b_succ does not appear to have labeled data!\n",
      "Attention: D:\\DLC_projects\\Prey_capture\\Prey_capture-Drago Guggiana-2020-03-26\\labeled-data\\03_11_2020_15_58_51_miniscope_MM_200129_a_succ does not appear to have labeled data!\n",
      "Attention: D:\\DLC_projects\\Prey_capture\\Prey_capture-Drago Guggiana-2020-03-26\\labeled-data\\03_11_2020_16_02_24_miniscope_MM_200129_a_succ does not appear to have labeled data!\n",
      "Attention: D:\\DLC_projects\\Prey_capture\\Prey_capture-Drago Guggiana-2020-03-26\\labeled-data\\03_11_2020_16_10_08_miniscope_MM_200129_a_succ does not appear to have labeled data!\n",
      "Attention: D:\\DLC_projects\\Prey_capture\\Prey_capture-Drago Guggiana-2020-03-26\\labeled-data\\03_11_2020_16_14_11_miniscope_MM_200129_a_succ does not appear to have labeled data!\n",
      "Attention: D:\\DLC_projects\\Prey_capture\\Prey_capture-Drago Guggiana-2020-03-26\\labeled-data\\03_11_2020_16_37_26_miniscope_MM_200129_b_succ does not appear to have labeled data!\n",
      "Attention: D:\\DLC_projects\\Prey_capture\\Prey_capture-Drago Guggiana-2020-03-26\\labeled-data\\03_11_2020_16_42_47_miniscope_MM_200129_b_succ does not appear to have labeled data!\n",
      "D:\\DLC_projects\\Prey_capture\\Prey_capture-Drago Guggiana-2020-03-26\\labeled-data\\03_11_2020_16_47_49_miniscope_MM_200129_b_succ_labeled  already exists!\n",
      "They are stored in the following folder: D:\\DLC_projects\\Prey_capture\\Prey_capture-Drago Guggiana-2020-03-26\\labeled-data\\03_11_2020_16_47_49_miniscope_MM_200129_b_succ_labeled.\n",
      "Attention: D:\\DLC_projects\\Prey_capture\\Prey_capture-Drago Guggiana-2020-03-26\\labeled-data\\03_11_2020_16_52_20_miniscope_MM_200129_b_succ does not appear to have labeled data!\n",
      "Attention: D:\\DLC_projects\\Prey_capture\\Prey_capture-Drago Guggiana-2020-03-26\\labeled-data\\03_12_2020_16_23_09_miniscope_MM_200129_a_succ does not appear to have labeled data!\n",
      "Attention: D:\\DLC_projects\\Prey_capture\\Prey_capture-Drago Guggiana-2020-03-26\\labeled-data\\03_12_2020_16_25_39_miniscope_MM_200129_a_succ does not appear to have labeled data!\n",
      "Attention: D:\\DLC_projects\\Prey_capture\\Prey_capture-Drago Guggiana-2020-03-26\\labeled-data\\03_12_2020_16_30_37_miniscope_MM_200129_a_succ does not appear to have labeled data!\n",
      "Attention: D:\\DLC_projects\\Prey_capture\\Prey_capture-Drago Guggiana-2020-03-26\\labeled-data\\03_12_2020_16_32_46_miniscope_MM_200129_a_succ does not appear to have labeled data!\n",
      "D:\\DLC_projects\\Prey_capture\\Prey_capture-Drago Guggiana-2020-03-26\\labeled-data\\03_12_2020_16_44_47_miniscope_MM_200129_b_succ_labeled  already exists!\n",
      "They are stored in the following folder: D:\\DLC_projects\\Prey_capture\\Prey_capture-Drago Guggiana-2020-03-26\\labeled-data\\03_12_2020_16_44_47_miniscope_MM_200129_b_succ_labeled.\n",
      "Attention: D:\\DLC_projects\\Prey_capture\\Prey_capture-Drago Guggiana-2020-03-26\\labeled-data\\03_12_2020_16_49_07_miniscope_MM_200129_b_succ does not appear to have labeled data!\n",
      "Attention: D:\\DLC_projects\\Prey_capture\\Prey_capture-Drago Guggiana-2020-03-26\\labeled-data\\03_12_2020_16_52_33_miniscope_MM_200129_b_succ does not appear to have labeled data!\n",
      "Attention: D:\\DLC_projects\\Prey_capture\\Prey_capture-Drago Guggiana-2020-03-26\\labeled-data\\03_12_2020_16_56_04_miniscope_MM_200129_b_succ does not appear to have labeled data!\n",
      "Attention: D:\\DLC_projects\\Prey_capture\\Prey_capture-Drago Guggiana-2020-03-26\\labeled-data\\03_13_2020_13_10_44_miniscope_MM_200129_a_succ does not appear to have labeled data!\n",
      "Attention: D:\\DLC_projects\\Prey_capture\\Prey_capture-Drago Guggiana-2020-03-26\\labeled-data\\03_13_2020_13_14_07_miniscope_MM_200129_a_succ does not appear to have labeled data!\n",
      "Attention: D:\\DLC_projects\\Prey_capture\\Prey_capture-Drago Guggiana-2020-03-26\\labeled-data\\03_13_2020_13_20_21_miniscope_MM_200129_a_succ does not appear to have labeled data!\n",
      "D:\\DLC_projects\\Prey_capture\\Prey_capture-Drago Guggiana-2020-03-26\\labeled-data\\03_13_2020_13_25_36_miniscope_MM_200129_a_succ_labeled  already exists!\n",
      "They are stored in the following folder: D:\\DLC_projects\\Prey_capture\\Prey_capture-Drago Guggiana-2020-03-26\\labeled-data\\03_13_2020_13_25_36_miniscope_MM_200129_a_succ_labeled.\n",
      "D:\\DLC_projects\\Prey_capture\\Prey_capture-Drago Guggiana-2020-03-26\\labeled-data\\03_13_2020_13_44_46_miniscope_MM_200129_b_succ_labeled  already exists!\n",
      "They are stored in the following folder: D:\\DLC_projects\\Prey_capture\\Prey_capture-Drago Guggiana-2020-03-26\\labeled-data\\03_13_2020_13_44_46_miniscope_MM_200129_b_succ_labeled.\n",
      "Attention: D:\\DLC_projects\\Prey_capture\\Prey_capture-Drago Guggiana-2020-03-26\\labeled-data\\03_13_2020_13_49_34_miniscope_MM_200129_b_succ does not appear to have labeled data!\n",
      "Attention: D:\\DLC_projects\\Prey_capture\\Prey_capture-Drago Guggiana-2020-03-26\\labeled-data\\03_13_2020_13_53_47_miniscope_MM_200129_b_succ does not appear to have labeled data!\n",
      "Attention: D:\\DLC_projects\\Prey_capture\\Prey_capture-Drago Guggiana-2020-03-26\\labeled-data\\03_13_2020_14_00_19_miniscope_MM_200129_b_succ does not appear to have labeled data!\n",
      "Attention: D:\\DLC_projects\\Prey_capture\\Prey_capture-Drago Guggiana-2020-03-26\\labeled-data\\11_11_2019_00_41_27_miniscope_DG_190806_a_fail_nomini does not appear to have labeled data!\n",
      "D:\\DLC_projects\\Prey_capture\\Prey_capture-Drago Guggiana-2020-03-26\\labeled-data\\11_11_2019_00_49_07_miniscope_DG_190806_a_fail_nomini_labeled  already exists!\n",
      "They are stored in the following folder: D:\\DLC_projects\\Prey_capture\\Prey_capture-Drago Guggiana-2020-03-26\\labeled-data\\11_11_2019_00_49_07_miniscope_DG_190806_a_fail_nomini_labeled.\n",
      "D:\\DLC_projects\\Prey_capture\\Prey_capture-Drago Guggiana-2020-03-26\\labeled-data\\11_11_2019_00_54_37_miniscope_DG_190806_a_fail_nomini_labeled  already exists!\n",
      "They are stored in the following folder: D:\\DLC_projects\\Prey_capture\\Prey_capture-Drago Guggiana-2020-03-26\\labeled-data\\11_11_2019_00_54_37_miniscope_DG_190806_a_fail_nomini_labeled.\n",
      "Attention: D:\\DLC_projects\\Prey_capture\\Prey_capture-Drago Guggiana-2020-03-26\\labeled-data\\11_11_2019_01_21_58_miniscope_DG_190806_a_fail_nofluo does not appear to have labeled data!\n",
      "Attention: D:\\DLC_projects\\Prey_capture\\Prey_capture-Drago Guggiana-2020-03-26\\labeled-data\\11_11_2019_22_43_04_miniscope_DG_190806_a_fail_nofluo does not appear to have labeled data!\n",
      "D:\\DLC_projects\\Prey_capture\\Prey_capture-Drago Guggiana-2020-03-26\\labeled-data\\11_11_2019_22_48_32_miniscope_DG_190806_a_fail_nofluo_labeled  already exists!\n",
      "They are stored in the following folder: D:\\DLC_projects\\Prey_capture\\Prey_capture-Drago Guggiana-2020-03-26\\labeled-data\\11_11_2019_22_48_32_miniscope_DG_190806_a_fail_nofluo_labeled.\n",
      "Attention: D:\\DLC_projects\\Prey_capture\\Prey_capture-Drago Guggiana-2020-03-26\\labeled-data\\11_11_2019_22_56_57_miniscope_DG_190806_a_succ_nofluo does not appear to have labeled data!\n",
      "Attention: D:\\DLC_projects\\Prey_capture\\Prey_capture-Drago Guggiana-2020-03-26\\labeled-data\\11_11_2019_23_07_55_miniscope_DG_190806_a_fail_nofluo does not appear to have labeled data!\n",
      "Attention: D:\\DLC_projects\\Prey_capture\\Prey_capture-Drago Guggiana-2020-03-26\\labeled-data\\11_11_2019_23_23_16_miniscope_DG_190810_a_fail_nomini does not appear to have labeled data!\n",
      "D:\\DLC_projects\\Prey_capture\\Prey_capture-Drago Guggiana-2020-03-26\\labeled-data\\11_11_2019_23_30_06_miniscope_DG_190810_a_succ_nomini_labeled  already exists!\n",
      "They are stored in the following folder: D:\\DLC_projects\\Prey_capture\\Prey_capture-Drago Guggiana-2020-03-26\\labeled-data\\11_11_2019_23_30_06_miniscope_DG_190810_a_succ_nomini_labeled.\n",
      "Attention: D:\\DLC_projects\\Prey_capture\\Prey_capture-Drago Guggiana-2020-03-26\\labeled-data\\11_11_2019_23_35_36_miniscope_DG_190810_a_succ_nomini does not appear to have labeled data!\n",
      "Attention: D:\\DLC_projects\\Prey_capture\\Prey_capture-Drago Guggiana-2020-03-26\\labeled-data\\11_11_2019_23_43_13_miniscope_DG_190810_a_succ_nomini does not appear to have labeled data!\n",
      "D:\\DLC_projects\\Prey_capture\\Prey_capture-Drago Guggiana-2020-03-26\\labeled-data\\11_12_2019_16_41_32_miniscope_DG_190806_a_succ_nofluobadtrigger_labeled  already exists!\n"
     ]
    },
    {
     "name": "stdout",
     "output_type": "stream",
     "text": [
      "They are stored in the following folder: D:\\DLC_projects\\Prey_capture\\Prey_capture-Drago Guggiana-2020-03-26\\labeled-data\\11_12_2019_16_41_32_miniscope_DG_190806_a_succ_nofluobadtrigger_labeled.\n",
      "Attention: D:\\DLC_projects\\Prey_capture\\Prey_capture-Drago Guggiana-2020-03-26\\labeled-data\\11_12_2019_16_47_36_miniscope_DG_190806_a_succ_nofluo does not appear to have labeled data!\n",
      "Attention: D:\\DLC_projects\\Prey_capture\\Prey_capture-Drago Guggiana-2020-03-26\\labeled-data\\11_12_2019_16_50_34_miniscope_DG_190806_a_succ_nofluo does not appear to have labeled data!\n",
      "Attention: D:\\DLC_projects\\Prey_capture\\Prey_capture-Drago Guggiana-2020-03-26\\labeled-data\\11_12_2019_16_54_56_miniscope_DG_190806_a_succ_nofluo does not appear to have labeled data!\n",
      "Attention: D:\\DLC_projects\\Prey_capture\\Prey_capture-Drago Guggiana-2020-03-26\\labeled-data\\11_12_2019_17_02_59_miniscope_DG_190810_a_succ_nomini does not appear to have labeled data!\n",
      "Attention: D:\\DLC_projects\\Prey_capture\\Prey_capture-Drago Guggiana-2020-03-26\\labeled-data\\11_12_2019_17_07_21_miniscope_DG_190810_a_succ_nomini does not appear to have labeled data!\n",
      "Attention: D:\\DLC_projects\\Prey_capture\\Prey_capture-Drago Guggiana-2020-03-26\\labeled-data\\11_12_2019_17_10_51_miniscope_DG_190810_a_succ_nomini does not appear to have labeled data!\n",
      "Attention: D:\\DLC_projects\\Prey_capture\\Prey_capture-Drago Guggiana-2020-03-26\\labeled-data\\11_12_2019_17_14_20_miniscope_DG_190810_a_succ_nomini does not appear to have labeled data!\n",
      "Attention: D:\\DLC_projects\\Prey_capture\\Prey_capture-Drago Guggiana-2020-03-26\\labeled-data\\11_13_2019_17_57_10_miniscope_DG_190806_a_succ_nofluobadtrigger does not appear to have labeled data!\n",
      "Attention: D:\\DLC_projects\\Prey_capture\\Prey_capture-Drago Guggiana-2020-03-26\\labeled-data\\11_13_2019_18_00_39_miniscope_DG_190806_a_succ_nofluo does not appear to have labeled data!\n",
      "Attention: D:\\DLC_projects\\Prey_capture\\Prey_capture-Drago Guggiana-2020-03-26\\labeled-data\\11_13_2019_18_04_22_miniscope_DG_190806_a_succ_nofluo does not appear to have labeled data!\n",
      "Attention: D:\\DLC_projects\\Prey_capture\\Prey_capture-Drago Guggiana-2020-03-26\\labeled-data\\11_13_2019_18_08_16_miniscope_DG_190806_a_succ_nofluo does not appear to have labeled data!\n",
      "Attention: D:\\DLC_projects\\Prey_capture\\Prey_capture-Drago Guggiana-2020-03-26\\labeled-data\\11_13_2019_18_14_36_miniscope_DG_190810_a_succ_nomini does not appear to have labeled data!\n",
      "Attention: D:\\DLC_projects\\Prey_capture\\Prey_capture-Drago Guggiana-2020-03-26\\labeled-data\\11_13_2019_18_19_35_miniscope_DG_190810_a_succ_nomini does not appear to have labeled data!\n",
      "Attention: D:\\DLC_projects\\Prey_capture\\Prey_capture-Drago Guggiana-2020-03-26\\labeled-data\\11_13_2019_18_23_01_miniscope_DG_190810_a_succ_nomini does not appear to have labeled data!\n",
      "Attention: D:\\DLC_projects\\Prey_capture\\Prey_capture-Drago Guggiana-2020-03-26\\labeled-data\\11_13_2019_18_25_56_miniscope_DG_190810_a_succ_nomini does not appear to have labeled data!\n",
      "Attention: D:\\DLC_projects\\Prey_capture\\Prey_capture-Drago Guggiana-2020-03-26\\labeled-data\\11_14_2019_17_15_24_miniscope_DG_190806_a_succ_nofluo does not appear to have labeled data!\n",
      "Attention: D:\\DLC_projects\\Prey_capture\\Prey_capture-Drago Guggiana-2020-03-26\\labeled-data\\11_14_2019_17_19_46_miniscope_DG_190806_a_succ_nofluo does not appear to have labeled data!\n",
      "Attention: D:\\DLC_projects\\Prey_capture\\Prey_capture-Drago Guggiana-2020-03-26\\labeled-data\\11_14_2019_17_24_28_miniscope_DG_190806_a_succ_nofluo does not appear to have labeled data!\n",
      "Attention: D:\\DLC_projects\\Prey_capture\\Prey_capture-Drago Guggiana-2020-03-26\\labeled-data\\11_14_2019_17_30_44_miniscope_DG_190806_a_succ_nofluo does not appear to have labeled data!\n",
      "Attention: D:\\DLC_projects\\Prey_capture\\Prey_capture-Drago Guggiana-2020-03-26\\labeled-data\\11_14_2019_17_39_46_miniscope_DG_190810_a_succ_nomini does not appear to have labeled data!\n",
      "Attention: D:\\DLC_projects\\Prey_capture\\Prey_capture-Drago Guggiana-2020-03-26\\labeled-data\\11_14_2019_17_43_07_miniscope_DG_190810_a_succ_nomini does not appear to have labeled data!\n",
      "Attention: D:\\DLC_projects\\Prey_capture\\Prey_capture-Drago Guggiana-2020-03-26\\labeled-data\\11_14_2019_17_46_42_miniscope_DG_190810_a_succ_nomini does not appear to have labeled data!\n",
      "Attention: D:\\DLC_projects\\Prey_capture\\Prey_capture-Drago Guggiana-2020-03-26\\labeled-data\\11_14_2019_17_50_12_miniscope_DG_190810_a_succ_nomini does not appear to have labeled data!\n",
      "Attention: D:\\DLC_projects\\Prey_capture\\Prey_capture-Drago Guggiana-2020-03-26\\labeled-data\\11_25_2019_14_30_43_miniscope_MM_191105_a_fail_nomini does not appear to have labeled data!\n",
      "Attention: D:\\DLC_projects\\Prey_capture\\Prey_capture-Drago Guggiana-2020-03-26\\labeled-data\\11_25_2019_14_38_45_miniscope_MM_191105_a_fail_nomini does not appear to have labeled data!\n",
      "Attention: D:\\DLC_projects\\Prey_capture\\Prey_capture-Drago Guggiana-2020-03-26\\labeled-data\\11_25_2019_14_47_40_miniscope_MM_191105_a_fail_nomini does not appear to have labeled data!\n",
      "Attention: D:\\DLC_projects\\Prey_capture\\Prey_capture-Drago Guggiana-2020-03-26\\labeled-data\\11_25_2019_14_55_06_miniscope_MM_191105_a_fail_nomini does not appear to have labeled data!\n",
      "Attention: D:\\DLC_projects\\Prey_capture\\Prey_capture-Drago Guggiana-2020-03-26\\labeled-data\\11_25_2019_15_09_04_miniscope_MM_191106_a_fail_nomini does not appear to have labeled data!\n",
      "Attention: D:\\DLC_projects\\Prey_capture\\Prey_capture-Drago Guggiana-2020-03-26\\labeled-data\\11_25_2019_15_15_55_miniscope_MM_191106_a_fail_nomini does not appear to have labeled data!\n",
      "Attention: D:\\DLC_projects\\Prey_capture\\Prey_capture-Drago Guggiana-2020-03-26\\labeled-data\\11_25_2019_15_22_31_miniscope_MM_191106_a_fail_nomini does not appear to have labeled data!\n",
      "Attention: D:\\DLC_projects\\Prey_capture\\Prey_capture-Drago Guggiana-2020-03-26\\labeled-data\\11_25_2019_15_28_57_miniscope_MM_191106_a_fail_nomini does not appear to have labeled data!\n",
      "Attention: D:\\DLC_projects\\Prey_capture\\Prey_capture-Drago Guggiana-2020-03-26\\labeled-data\\11_25_2019_15_43_30_miniscope_MM_191107_a_fail_nomini does not appear to have labeled data!\n",
      "Attention: D:\\DLC_projects\\Prey_capture\\Prey_capture-Drago Guggiana-2020-03-26\\labeled-data\\11_25_2019_15_49_41_miniscope_MM_191107_a_fail_nomini does not appear to have labeled data!\n",
      "Attention: D:\\DLC_projects\\Prey_capture\\Prey_capture-Drago Guggiana-2020-03-26\\labeled-data\\11_25_2019_15_58_05_miniscope_MM_191107_a_fail_nomini does not appear to have labeled data!\n",
      "Attention: D:\\DLC_projects\\Prey_capture\\Prey_capture-Drago Guggiana-2020-03-26\\labeled-data\\11_25_2019_16_04_36_miniscope_MM_191107_a_fail_nomini does not appear to have labeled data!\n",
      "Attention: D:\\DLC_projects\\Prey_capture\\Prey_capture-Drago Guggiana-2020-03-26\\labeled-data\\11_25_2019_16_15_54_miniscope_MM_191108_a_fail_nomini does not appear to have labeled data!\n",
      "Attention: D:\\DLC_projects\\Prey_capture\\Prey_capture-Drago Guggiana-2020-03-26\\labeled-data\\11_25_2019_16_22_23_miniscope_MM_191108_a_fail_nomini does not appear to have labeled data!\n",
      "Attention: D:\\DLC_projects\\Prey_capture\\Prey_capture-Drago Guggiana-2020-03-26\\labeled-data\\11_25_2019_16_28_56_miniscope_MM_191108_a_fail_nomini does not appear to have labeled data!\n",
      "Attention: D:\\DLC_projects\\Prey_capture\\Prey_capture-Drago Guggiana-2020-03-26\\labeled-data\\11_25_2019_16_36_00_miniscope_MM_191108_a_fail_nomini does not appear to have labeled data!\n",
      "Attention: D:\\DLC_projects\\Prey_capture\\Prey_capture-Drago Guggiana-2020-03-26\\labeled-data\\11_26_2019_15_44_01_miniscope_MM_191106_a_fail_nomini does not appear to have labeled data!\n",
      "Attention: D:\\DLC_projects\\Prey_capture\\Prey_capture-Drago Guggiana-2020-03-26\\labeled-data\\11_26_2019_15_52_26_miniscope_MM_191106_a_fail_nomini does not appear to have labeled data!\n",
      "Attention: D:\\DLC_projects\\Prey_capture\\Prey_capture-Drago Guggiana-2020-03-26\\labeled-data\\11_26_2019_15_59_23_miniscope_MM_191106_a_fail_nomini does not appear to have labeled data!\n",
      "Attention: D:\\DLC_projects\\Prey_capture\\Prey_capture-Drago Guggiana-2020-03-26\\labeled-data\\11_26_2019_16_10_04_miniscope_MM_191106_a_fail_nomini does not appear to have labeled data!\n",
      "Attention: D:\\DLC_projects\\Prey_capture\\Prey_capture-Drago Guggiana-2020-03-26\\labeled-data\\11_26_2019_16_20_21_miniscope_MM_191107_a_fail_nomini does not appear to have labeled data!\n",
      "Attention: D:\\DLC_projects\\Prey_capture\\Prey_capture-Drago Guggiana-2020-03-26\\labeled-data\\11_26_2019_16_26_36_miniscope_MM_191107_a_fail_nomini does not appear to have labeled data!\n",
      "Attention: D:\\DLC_projects\\Prey_capture\\Prey_capture-Drago Guggiana-2020-03-26\\labeled-data\\11_26_2019_16_32_30_miniscope_MM_191107_a_fail_nomini does not appear to have labeled data!\n",
      "Attention: D:\\DLC_projects\\Prey_capture\\Prey_capture-Drago Guggiana-2020-03-26\\labeled-data\\11_26_2019_16_39_57_miniscope_MM_191107_a_fail_nomini does not appear to have labeled data!\n",
      "Attention: D:\\DLC_projects\\Prey_capture\\Prey_capture-Drago Guggiana-2020-03-26\\labeled-data\\11_26_2019_16_48_28_miniscope_MM_191108_a_fail_nomini does not appear to have labeled data!\n",
      "Attention: D:\\DLC_projects\\Prey_capture\\Prey_capture-Drago Guggiana-2020-03-26\\labeled-data\\11_26_2019_16_54_02_miniscope_MM_191108_a_fail_nomini does not appear to have labeled data!\n",
      "Attention: D:\\DLC_projects\\Prey_capture\\Prey_capture-Drago Guggiana-2020-03-26\\labeled-data\\11_26_2019_17_00_05_miniscope_MM_191108_a_fail_nomini does not appear to have labeled data!\n",
      "Attention: D:\\DLC_projects\\Prey_capture\\Prey_capture-Drago Guggiana-2020-03-26\\labeled-data\\11_26_2019_17_06_44_miniscope_MM_191108_a_fail_nomini does not appear to have labeled data!\n",
      "Attention: D:\\DLC_projects\\Prey_capture\\Prey_capture-Drago Guggiana-2020-03-26\\labeled-data\\11_29_2019_14_03_19_miniscope_MM_191105_a_fail_nomini does not appear to have labeled data!\n",
      "Attention: D:\\DLC_projects\\Prey_capture\\Prey_capture-Drago Guggiana-2020-03-26\\labeled-data\\11_29_2019_14_09_23_miniscope_MM_191105_a_fail_nomini does not appear to have labeled data!\n",
      "Attention: D:\\DLC_projects\\Prey_capture\\Prey_capture-Drago Guggiana-2020-03-26\\labeled-data\\11_29_2019_14_16_30_miniscope_MM_191105_a_fail_nomini does not appear to have labeled data!\n",
      "Attention: D:\\DLC_projects\\Prey_capture\\Prey_capture-Drago Guggiana-2020-03-26\\labeled-data\\11_29_2019_14_25_32_miniscope_MM_191105_a_fail_nomini does not appear to have labeled data!\n",
      "Attention: D:\\DLC_projects\\Prey_capture\\Prey_capture-Drago Guggiana-2020-03-26\\labeled-data\\11_29_2019_14_36_52_miniscope_MM_191106_a_fail_nomini does not appear to have labeled data!\n",
      "Attention: D:\\DLC_projects\\Prey_capture\\Prey_capture-Drago Guggiana-2020-03-26\\labeled-data\\11_29_2019_14_43_47_miniscope_MM_191106_a_fail_nomini does not appear to have labeled data!\n",
      "Attention: D:\\DLC_projects\\Prey_capture\\Prey_capture-Drago Guggiana-2020-03-26\\labeled-data\\11_29_2019_14_50_39_miniscope_MM_191106_a_fail_nomini does not appear to have labeled data!\n",
      "Attention: D:\\DLC_projects\\Prey_capture\\Prey_capture-Drago Guggiana-2020-03-26\\labeled-data\\11_29_2019_14_57_47_miniscope_MM_191106_a_fail_nomini does not appear to have labeled data!\n",
      "Attention: D:\\DLC_projects\\Prey_capture\\Prey_capture-Drago Guggiana-2020-03-26\\labeled-data\\11_29_2019_15_08_11_miniscope_MM_191107_a_fail_nomini does not appear to have labeled data!\n",
      "Attention: D:\\DLC_projects\\Prey_capture\\Prey_capture-Drago Guggiana-2020-03-26\\labeled-data\\11_29_2019_15_16_19_miniscope_MM_191107_a_fail_nomini does not appear to have labeled data!\n",
      "Attention: D:\\DLC_projects\\Prey_capture\\Prey_capture-Drago Guggiana-2020-03-26\\labeled-data\\11_29_2019_15_23_26_miniscope_MM_191107_a_fail_nomini does not appear to have labeled data!\n",
      "Attention: D:\\DLC_projects\\Prey_capture\\Prey_capture-Drago Guggiana-2020-03-26\\labeled-data\\11_29_2019_15_30_55_miniscope_MM_191107_a_fail_nomini does not appear to have labeled data!\n",
      "Attention: D:\\DLC_projects\\Prey_capture\\Prey_capture-Drago Guggiana-2020-03-26\\labeled-data\\11_29_2019_15_42_19_miniscope_MM_191108_a_fail_nomini does not appear to have labeled data!\n",
      "Attention: D:\\DLC_projects\\Prey_capture\\Prey_capture-Drago Guggiana-2020-03-26\\labeled-data\\11_29_2019_15_49_40_miniscope_MM_191108_a_fail_nomini does not appear to have labeled data!\n",
      "Attention: D:\\DLC_projects\\Prey_capture\\Prey_capture-Drago Guggiana-2020-03-26\\labeled-data\\11_29_2019_15_56_39_miniscope_MM_191108_a_fail_nomini does not appear to have labeled data!\n",
      "Attention: D:\\DLC_projects\\Prey_capture\\Prey_capture-Drago Guggiana-2020-03-26\\labeled-data\\11_29_2019_16_02_26_miniscope_MM_191108_a_fail_nomini does not appear to have labeled data!\n",
      "Attention: D:\\DLC_projects\\Prey_capture\\Prey_capture-Drago Guggiana-2020-03-26\\labeled-data\\12_02_2019_16_05_42_miniscope_MM_191105_a_fail_nomini does not appear to have labeled data!\n",
      "Attention: D:\\DLC_projects\\Prey_capture\\Prey_capture-Drago Guggiana-2020-03-26\\labeled-data\\12_02_2019_16_13_23_miniscope_MM_191105_a_fail_nomini does not appear to have labeled data!\n",
      "Attention: D:\\DLC_projects\\Prey_capture\\Prey_capture-Drago Guggiana-2020-03-26\\labeled-data\\12_02_2019_16_21_09_miniscope_MM_191105_a_fail_nomini does not appear to have labeled data!\n",
      "Attention: D:\\DLC_projects\\Prey_capture\\Prey_capture-Drago Guggiana-2020-03-26\\labeled-data\\12_02_2019_16_27_33_miniscope_MM_191105_a_fail_nomini does not appear to have labeled data!\n",
      "Attention: D:\\DLC_projects\\Prey_capture\\Prey_capture-Drago Guggiana-2020-03-26\\labeled-data\\12_02_2019_16_37_29_miniscope_MM_191106_a_fail_nomini does not appear to have labeled data!\n",
      "Attention: D:\\DLC_projects\\Prey_capture\\Prey_capture-Drago Guggiana-2020-03-26\\labeled-data\\12_02_2019_16_45_51_miniscope_MM_191106_a_fail_nomini does not appear to have labeled data!\n",
      "Attention: D:\\DLC_projects\\Prey_capture\\Prey_capture-Drago Guggiana-2020-03-26\\labeled-data\\12_02_2019_16_52_33_miniscope_MM_191106_a_fail_nomini does not appear to have labeled data!\n",
      "Attention: D:\\DLC_projects\\Prey_capture\\Prey_capture-Drago Guggiana-2020-03-26\\labeled-data\\12_02_2019_16_58_55_miniscope_MM_191106_a_fail_nomini does not appear to have labeled data!\n",
      "Attention: D:\\DLC_projects\\Prey_capture\\Prey_capture-Drago Guggiana-2020-03-26\\labeled-data\\12_02_2019_17_08_58_miniscope_MM_191107_a_succ_nomini does not appear to have labeled data!\n",
      "Attention: D:\\DLC_projects\\Prey_capture\\Prey_capture-Drago Guggiana-2020-03-26\\labeled-data\\12_02_2019_17_18_30_miniscope_MM_191107_a_succ_nomini does not appear to have labeled data!\n",
      "Attention: D:\\DLC_projects\\Prey_capture\\Prey_capture-Drago Guggiana-2020-03-26\\labeled-data\\12_02_2019_17_26_56_miniscope_MM_191107_a_succ_nomini does not appear to have labeled data!\n",
      "Attention: D:\\DLC_projects\\Prey_capture\\Prey_capture-Drago Guggiana-2020-03-26\\labeled-data\\12_02_2019_17_33_47_miniscope_MM_191107_a_succ_nomini does not appear to have labeled data!\n",
      "Attention: D:\\DLC_projects\\Prey_capture\\Prey_capture-Drago Guggiana-2020-03-26\\labeled-data\\12_02_2019_17_44_49_miniscope_MM_191108_a_fail_nomini does not appear to have labeled data!\n",
      "Attention: D:\\DLC_projects\\Prey_capture\\Prey_capture-Drago Guggiana-2020-03-26\\labeled-data\\12_02_2019_17_52_21_miniscope_MM_191108_a_fail_nomini does not appear to have labeled data!\n",
      "Attention: D:\\DLC_projects\\Prey_capture\\Prey_capture-Drago Guggiana-2020-03-26\\labeled-data\\12_03_2019_15_00_53_miniscope_MM_191105_a_fail_nomini does not appear to have labeled data!\n",
      "Attention: D:\\DLC_projects\\Prey_capture\\Prey_capture-Drago Guggiana-2020-03-26\\labeled-data\\12_03_2019_15_08_15_miniscope_MM_191105_a_succ_nomini does not appear to have labeled data!\n",
      "Attention: D:\\DLC_projects\\Prey_capture\\Prey_capture-Drago Guggiana-2020-03-26\\labeled-data\\12_03_2019_15_15_55_miniscope_MM_191105_a_succ_nomini does not appear to have labeled data!\n",
      "Attention: D:\\DLC_projects\\Prey_capture\\Prey_capture-Drago Guggiana-2020-03-26\\labeled-data\\12_03_2019_15_24_04_miniscope_MM_191105_a_succ_nomini does not appear to have labeled data!\n",
      "Attention: D:\\DLC_projects\\Prey_capture\\Prey_capture-Drago Guggiana-2020-03-26\\labeled-data\\12_03_2019_15_31_21_miniscope_MM_191106_a_fail_nomini does not appear to have labeled data!\n",
      "Attention: D:\\DLC_projects\\Prey_capture\\Prey_capture-Drago Guggiana-2020-03-26\\labeled-data\\12_03_2019_15_38_58_miniscope_MM_191106_a_fail_nomini does not appear to have labeled data!\n",
      "Attention: D:\\DLC_projects\\Prey_capture\\Prey_capture-Drago Guggiana-2020-03-26\\labeled-data\\12_03_2019_15_47_19_miniscope_MM_191107_a_succ_nomini does not appear to have labeled data!\n",
      "Attention: D:\\DLC_projects\\Prey_capture\\Prey_capture-Drago Guggiana-2020-03-26\\labeled-data\\12_03_2019_15_52_44_miniscope_MM_191107_a_succ_nomini does not appear to have labeled data!\n",
      "Attention: D:\\DLC_projects\\Prey_capture\\Prey_capture-Drago Guggiana-2020-03-26\\labeled-data\\12_03_2019_15_57_28_miniscope_MM_191107_a_succ_nomini does not appear to have labeled data!\n",
      "Attention: D:\\DLC_projects\\Prey_capture\\Prey_capture-Drago Guggiana-2020-03-26\\labeled-data\\12_03_2019_16_03_45_miniscope_MM_191107_a_succ_nomini does not appear to have labeled data!\n",
      "Attention: D:\\DLC_projects\\Prey_capture\\Prey_capture-Drago Guggiana-2020-03-26\\labeled-data\\12_03_2019_16_11_31_miniscope_MM_191106_a_succ_nomini does not appear to have labeled data!\n",
      "Attention: D:\\DLC_projects\\Prey_capture\\Prey_capture-Drago Guggiana-2020-03-26\\labeled-data\\12_03_2019_16_20_45_miniscope_MM_191106_a_fail_nomini does not appear to have labeled data!\n",
      "Attention: D:\\DLC_projects\\Prey_capture\\Prey_capture-Drago Guggiana-2020-03-26\\labeled-data\\12_03_2019_16_34_28_miniscope_MM_191108_a_fail_nomini does not appear to have labeled data!\n",
      "Attention: D:\\DLC_projects\\Prey_capture\\Prey_capture-Drago Guggiana-2020-03-26\\labeled-data\\12_03_2019_16_42_00_miniscope_MM_191108_a_fail_nomini does not appear to have labeled data!\n",
      "Attention: D:\\DLC_projects\\Prey_capture\\Prey_capture-Drago Guggiana-2020-03-26\\labeled-data\\12_03_2019_16_48_22_miniscope_MM_191108_a_succ_nomini does not appear to have labeled data!\n",
      "Attention: D:\\DLC_projects\\Prey_capture\\Prey_capture-Drago Guggiana-2020-03-26\\labeled-data\\12_03_2019_16_57_25_miniscope_MM_191108_a_succ_nomini does not appear to have labeled data!\n",
      "Attention: D:\\DLC_projects\\Prey_capture\\Prey_capture-Drago Guggiana-2020-03-26\\labeled-data\\12_04_2019_15_19_29_miniscope_MM_191106_a_succ_nomini does not appear to have labeled data!\n",
      "Attention: D:\\DLC_projects\\Prey_capture\\Prey_capture-Drago Guggiana-2020-03-26\\labeled-data\\12_04_2019_15_23_56_miniscope_MM_191106_a_succ_nomini does not appear to have labeled data!\n",
      "Attention: D:\\DLC_projects\\Prey_capture\\Prey_capture-Drago Guggiana-2020-03-26\\labeled-data\\12_04_2019_15_29_28_miniscope_MM_191106_a_succ_nomini does not appear to have labeled data!\n",
      "Attention: D:\\DLC_projects\\Prey_capture\\Prey_capture-Drago Guggiana-2020-03-26\\labeled-data\\12_04_2019_15_45_59_miniscope_MM_191107_a_succ_nomini does not appear to have labeled data!\n",
      "Attention: D:\\DLC_projects\\Prey_capture\\Prey_capture-Drago Guggiana-2020-03-26\\labeled-data\\12_04_2019_15_52_05_miniscope_MM_191107_a_succ_nomini does not appear to have labeled data!\n",
      "Attention: D:\\DLC_projects\\Prey_capture\\Prey_capture-Drago Guggiana-2020-03-26\\labeled-data\\12_04_2019_15_56_34_miniscope_MM_191107_a_succ_nomini does not appear to have labeled data!\n",
      "Attention: D:\\DLC_projects\\Prey_capture\\Prey_capture-Drago Guggiana-2020-03-26\\labeled-data\\12_04_2019_16_01_30_miniscope_MM_191107_a_succ_nomini does not appear to have labeled data!\n",
      "Attention: D:\\DLC_projects\\Prey_capture\\Prey_capture-Drago Guggiana-2020-03-26\\labeled-data\\12_04_2019_16_07_38_miniscope_MM_191108_a_succ_nomini does not appear to have labeled data!\n",
      "Attention: D:\\DLC_projects\\Prey_capture\\Prey_capture-Drago Guggiana-2020-03-26\\labeled-data\\12_04_2019_16_13_30_miniscope_MM_191108_a_succ_nomini does not appear to have labeled data!\n",
      "Attention: D:\\DLC_projects\\Prey_capture\\Prey_capture-Drago Guggiana-2020-03-26\\labeled-data\\12_04_2019_16_18_37_miniscope_MM_191108_a_succ_nomini does not appear to have labeled data!\n",
      "Attention: D:\\DLC_projects\\Prey_capture\\Prey_capture-Drago Guggiana-2020-03-26\\labeled-data\\12_04_2019_16_27_21_miniscope_MM_191108_a_succ_nomini does not appear to have labeled data!\n",
      "Attention: D:\\DLC_projects\\Prey_capture\\Prey_capture-Drago Guggiana-2020-03-26\\labeled-data\\12_04_2019_16_39_29_miniscope_MM_191105_a_succ_nomini does not appear to have labeled data!\n",
      "Attention: D:\\DLC_projects\\Prey_capture\\Prey_capture-Drago Guggiana-2020-03-26\\labeled-data\\12_04_2019_16_44_23_miniscope_MM_191105_a_succ_nomini does not appear to have labeled data!\n",
      "Attention: D:\\DLC_projects\\Prey_capture\\Prey_capture-Drago Guggiana-2020-03-26\\labeled-data\\12_04_2019_16_48_26_miniscope_MM_191105_a_succ_nomini does not appear to have labeled data!\n",
      "Attention: D:\\DLC_projects\\Prey_capture\\Prey_capture-Drago Guggiana-2020-03-26\\labeled-data\\12_04_2019_16_53_11_miniscope_MM_191105_a_succ_nomini does not appear to have labeled data!\n",
      "Attention: D:\\DLC_projects\\Prey_capture\\Prey_capture-Drago Guggiana-2020-03-26\\labeled-data\\12_06_2019_14_00_21_miniscope_MM_191105_a_succ_nomini does not appear to have labeled data!\n",
      "Attention: D:\\DLC_projects\\Prey_capture\\Prey_capture-Drago Guggiana-2020-03-26\\labeled-data\\12_06_2019_14_07_11_miniscope_MM_191105_a_succ_nomini does not appear to have labeled data!\n",
      "Attention: D:\\DLC_projects\\Prey_capture\\Prey_capture-Drago Guggiana-2020-03-26\\labeled-data\\12_06_2019_14_15_39_miniscope_MM_191105_a_succ_nomini does not appear to have labeled data!\n",
      "Attention: D:\\DLC_projects\\Prey_capture\\Prey_capture-Drago Guggiana-2020-03-26\\labeled-data\\12_06_2019_14_21_20_miniscope_MM_191105_a_succ_nomini does not appear to have labeled data!\n",
      "Attention: D:\\DLC_projects\\Prey_capture\\Prey_capture-Drago Guggiana-2020-03-26\\labeled-data\\12_06_2019_14_47_35_miniscope_MM_191106_a_succ_nomini does not appear to have labeled data!\n",
      "Attention: D:\\DLC_projects\\Prey_capture\\Prey_capture-Drago Guggiana-2020-03-26\\labeled-data\\12_06_2019_14_50_58_miniscope_MM_191106_a_succ_nomini does not appear to have labeled data!\n",
      "Attention: D:\\DLC_projects\\Prey_capture\\Prey_capture-Drago Guggiana-2020-03-26\\labeled-data\\12_06_2019_14_55_56_miniscope_MM_191106_a_succ_nomini does not appear to have labeled data!\n",
      "Attention: D:\\DLC_projects\\Prey_capture\\Prey_capture-Drago Guggiana-2020-03-26\\labeled-data\\12_06_2019_15_04_44_miniscope_MM_191107_a_succ_nomini does not appear to have labeled data!\n",
      "Attention: D:\\DLC_projects\\Prey_capture\\Prey_capture-Drago Guggiana-2020-03-26\\labeled-data\\12_06_2019_15_13_44_miniscope_MM_191107_a_succ_nomini does not appear to have labeled data!\n",
      "Attention: D:\\DLC_projects\\Prey_capture\\Prey_capture-Drago Guggiana-2020-03-26\\labeled-data\\12_06_2019_15_18_15_miniscope_MM_191107_a_succ_nomini does not appear to have labeled data!\n",
      "Attention: D:\\DLC_projects\\Prey_capture\\Prey_capture-Drago Guggiana-2020-03-26\\labeled-data\\12_07_2019_15_01_31_miniscope_MM_191108_a_succ does not appear to have labeled data!\n",
      "Attention: D:\\DLC_projects\\Prey_capture\\Prey_capture-Drago Guggiana-2020-03-26\\labeled-data\\12_07_2019_15_06_28_miniscope_MM_191108_a_succ does not appear to have labeled data!\n",
      "Attention: D:\\DLC_projects\\Prey_capture\\Prey_capture-Drago Guggiana-2020-03-26\\labeled-data\\12_07_2019_15_11_16_miniscope_MM_191108_a_succ does not appear to have labeled data!\n",
      "Attention: D:\\DLC_projects\\Prey_capture\\Prey_capture-Drago Guggiana-2020-03-26\\labeled-data\\12_07_2019_15_15_49_miniscope_MM_191108_a_succ does not appear to have labeled data!\n",
      "Attention: D:\\DLC_projects\\Prey_capture\\Prey_capture-Drago Guggiana-2020-03-26\\labeled-data\\12_07_2019_15_20_56_miniscope_MM_191108_a_succ does not appear to have labeled data!\n",
      "Attention: D:\\DLC_projects\\Prey_capture\\Prey_capture-Drago Guggiana-2020-03-26\\labeled-data\\12_07_2019_15_24_53_miniscope_MM_191108_a_succ does not appear to have labeled data!\n",
      "Attention: D:\\DLC_projects\\Prey_capture\\Prey_capture-Drago Guggiana-2020-03-26\\labeled-data\\12_07_2019_15_29_41_miniscope_MM_191108_a_succ does not appear to have labeled data!\n",
      "Attention: D:\\DLC_projects\\Prey_capture\\Prey_capture-Drago Guggiana-2020-03-26\\labeled-data\\12_07_2019_15_34_47_miniscope_MM_191108_a_succ does not appear to have labeled data!\n",
      "Attention: D:\\DLC_projects\\Prey_capture\\Prey_capture-Drago Guggiana-2020-03-26\\labeled-data\\12_07_2019_15_39_33_miniscope_MM_191108_a_succ does not appear to have labeled data!\n",
      "Attention: D:\\DLC_projects\\Prey_capture\\Prey_capture-Drago Guggiana-2020-03-26\\labeled-data\\12_07_2019_15_43_37_miniscope_MM_191108_a_succ does not appear to have labeled data!\n",
      "Attention: D:\\DLC_projects\\Prey_capture\\Prey_capture-Drago Guggiana-2020-03-26\\labeled-data\\12_07_2019_15_47_28_miniscope_MM_191108_a_succ does not appear to have labeled data!\n",
      "Attention: D:\\DLC_projects\\Prey_capture\\Prey_capture-Drago Guggiana-2020-03-26\\labeled-data\\12_07_2019_15_52_11_miniscope_MM_191108_a_succ does not appear to have labeled data!\n",
      "Attention: D:\\DLC_projects\\Prey_capture\\Prey_capture-Drago Guggiana-2020-03-26\\labeled-data\\12_07_2019_15_56_10_miniscope_MM_191108_a_fail does not appear to have labeled data!\n",
      "Attention: D:\\DLC_projects\\Prey_capture\\Prey_capture-Drago Guggiana-2020-03-26\\labeled-data\\12_07_2019_16_05_30_miniscope_MM_191105_a_succ_nomini does not appear to have labeled data!\n",
      "Attention: D:\\DLC_projects\\Prey_capture\\Prey_capture-Drago Guggiana-2020-03-26\\labeled-data\\12_07_2019_16_09_54_miniscope_MM_191105_a_succ_nomini does not appear to have labeled data!\n",
      "Attention: D:\\DLC_projects\\Prey_capture\\Prey_capture-Drago Guggiana-2020-03-26\\labeled-data\\12_07_2019_16_18_20_miniscope_MM_191106_a_succ_nomini does not appear to have labeled data!\n",
      "Attention: D:\\DLC_projects\\Prey_capture\\Prey_capture-Drago Guggiana-2020-03-26\\labeled-data\\12_07_2019_16_23_23_miniscope_MM_191106_a_succ_nomini does not appear to have labeled data!\n",
      "Attention: D:\\DLC_projects\\Prey_capture\\Prey_capture-Drago Guggiana-2020-03-26\\labeled-data\\12_07_2019_16_29_31_miniscope_MM_191107_a_succ_nomini does not appear to have labeled data!\n",
      "Attention: D:\\DLC_projects\\Prey_capture\\Prey_capture-Drago Guggiana-2020-03-26\\labeled-data\\12_07_2019_16_34_28_miniscope_MM_191107_a_succ_nomini does not appear to have labeled data!\n",
      "Attention: D:\\DLC_projects\\Prey_capture\\Prey_capture-Drago Guggiana-2020-03-26\\labeled-data\\12_07_2019_16_38_08_miniscope_MM_191107_a_succ_nomini does not appear to have labeled data!\n",
      "Attention: D:\\DLC_projects\\Prey_capture\\Prey_capture-Drago Guggiana-2020-03-26\\labeled-data\\12_09_2019_15_04_06_miniscope_MM_191108_a_succ does not appear to have labeled data!\n",
      "Attention: D:\\DLC_projects\\Prey_capture\\Prey_capture-Drago Guggiana-2020-03-26\\labeled-data\\12_09_2019_15_08_33_miniscope_MM_191108_a_succ does not appear to have labeled data!\n",
      "Attention: D:\\DLC_projects\\Prey_capture\\Prey_capture-Drago Guggiana-2020-03-26\\labeled-data\\12_09_2019_15_12_24_miniscope_MM_191108_a_succ does not appear to have labeled data!\n",
      "Attention: D:\\DLC_projects\\Prey_capture\\Prey_capture-Drago Guggiana-2020-03-26\\labeled-data\\12_09_2019_15_16_05_miniscope_MM_191108_a_succ does not appear to have labeled data!\n",
      "Attention: D:\\DLC_projects\\Prey_capture\\Prey_capture-Drago Guggiana-2020-03-26\\labeled-data\\12_09_2019_15_21_10_miniscope_MM_191108_a_succ does not appear to have labeled data!\n",
      "Attention: D:\\DLC_projects\\Prey_capture\\Prey_capture-Drago Guggiana-2020-03-26\\labeled-data\\12_09_2019_15_25_14_miniscope_MM_191108_a_succ does not appear to have labeled data!\n",
      "Attention: D:\\DLC_projects\\Prey_capture\\Prey_capture-Drago Guggiana-2020-03-26\\labeled-data\\12_09_2019_15_30_13_miniscope_MM_191108_a_succ does not appear to have labeled data!\n",
      "Attention: D:\\DLC_projects\\Prey_capture\\Prey_capture-Drago Guggiana-2020-03-26\\labeled-data\\12_09_2019_15_34_10_miniscope_MM_191108_a_succ does not appear to have labeled data!\n",
      "Attention: D:\\DLC_projects\\Prey_capture\\Prey_capture-Drago Guggiana-2020-03-26\\labeled-data\\12_09_2019_16_30_00_miniscope_MM_191105_a_succ_nomini does not appear to have labeled data!\n",
      "Attention: D:\\DLC_projects\\Prey_capture\\Prey_capture-Drago Guggiana-2020-03-26\\labeled-data\\12_09_2019_16_34_39_miniscope_MM_191105_a_succ_nomini does not appear to have labeled data!\n",
      "Attention: D:\\DLC_projects\\Prey_capture\\Prey_capture-Drago Guggiana-2020-03-26\\labeled-data\\12_09_2019_16_38_36_miniscope_MM_191105_a_succ_nomini does not appear to have labeled data!\n",
      "Attention: D:\\DLC_projects\\Prey_capture\\Prey_capture-Drago Guggiana-2020-03-26\\labeled-data\\12_09_2019_16_41_05_miniscope_MM_191105_a_succ_nomini does not appear to have labeled data!\n",
      "Attention: D:\\DLC_projects\\Prey_capture\\Prey_capture-Drago Guggiana-2020-03-26\\labeled-data\\12_09_2019_16_46_19_miniscope_MM_191106_a_succ_nomini does not appear to have labeled data!\n",
      "Attention: D:\\DLC_projects\\Prey_capture\\Prey_capture-Drago Guggiana-2020-03-26\\labeled-data\\12_09_2019_16_49_50_miniscope_MM_191106_a_succ_nomini does not appear to have labeled data!\n",
      "Attention: D:\\DLC_projects\\Prey_capture\\Prey_capture-Drago Guggiana-2020-03-26\\labeled-data\\12_09_2019_16_53_42_miniscope_MM_191106_a_succ_nomini does not appear to have labeled data!\n",
      "Attention: D:\\DLC_projects\\Prey_capture\\Prey_capture-Drago Guggiana-2020-03-26\\labeled-data\\12_09_2019_16_58_58_miniscope_MM_191107_a_succ_nomini does not appear to have labeled data!\n",
      "Attention: D:\\DLC_projects\\Prey_capture\\Prey_capture-Drago Guggiana-2020-03-26\\labeled-data\\12_09_2019_17_01_33_miniscope_MM_191107_a_succ_bad_track_nomini does not appear to have labeled data!\n",
      "Attention: D:\\DLC_projects\\Prey_capture\\Prey_capture-Drago Guggiana-2020-03-26\\labeled-data\\12_09_2019_17_04_36_miniscope_MM_191107_a_succ_nomini does not appear to have labeled data!\n",
      "Attention: D:\\DLC_projects\\Prey_capture\\Prey_capture-Drago Guggiana-2020-03-26\\labeled-data\\12_10_2019_15_00_45_miniscope_MM_191108_a_succ does not appear to have labeled data!\n",
      "Attention: D:\\DLC_projects\\Prey_capture\\Prey_capture-Drago Guggiana-2020-03-26\\labeled-data\\12_10_2019_15_05_17_miniscope_MM_191108_a_succ does not appear to have labeled data!\n",
      "Attention: D:\\DLC_projects\\Prey_capture\\Prey_capture-Drago Guggiana-2020-03-26\\labeled-data\\12_10_2019_15_10_23_miniscope_MM_191108_a_succ does not appear to have labeled data!\n",
      "Attention: D:\\DLC_projects\\Prey_capture\\Prey_capture-Drago Guggiana-2020-03-26\\labeled-data\\12_10_2019_15_15_08_miniscope_MM_191108_a_succ does not appear to have labeled data!\n",
      "Attention: D:\\DLC_projects\\Prey_capture\\Prey_capture-Drago Guggiana-2020-03-26\\labeled-data\\12_10_2019_15_19_56_miniscope_MM_191108_a_succ does not appear to have labeled data!\n",
      "Attention: D:\\DLC_projects\\Prey_capture\\Prey_capture-Drago Guggiana-2020-03-26\\labeled-data\\12_10_2019_15_23_16_miniscope_MM_191108_a_fail does not appear to have labeled data!\n",
      "Attention: D:\\DLC_projects\\Prey_capture\\Prey_capture-Drago Guggiana-2020-03-26\\labeled-data\\12_10_2019_15_30_07_miniscope_MM_191108_a_succ does not appear to have labeled data!\n",
      "Attention: D:\\DLC_projects\\Prey_capture\\Prey_capture-Drago Guggiana-2020-03-26\\labeled-data\\12_10_2019_15_35_36_miniscope_MM_191108_a_succ does not appear to have labeled data!\n",
      "Attention: D:\\DLC_projects\\Prey_capture\\Prey_capture-Drago Guggiana-2020-03-26\\labeled-data\\12_10_2019_15_39_55_miniscope_MM_191108_a_succ does not appear to have labeled data!\n",
      "Attention: D:\\DLC_projects\\Prey_capture\\Prey_capture-Drago Guggiana-2020-03-26\\labeled-data\\12_10_2019_15_43_20_miniscope_MM_191108_a_fail does not appear to have labeled data!\n",
      "Attention: D:\\DLC_projects\\Prey_capture\\Prey_capture-Drago Guggiana-2020-03-26\\labeled-data\\12_10_2019_16_36_38_miniscope_MM_191106_a_succ_nomini does not appear to have labeled data!\n",
      "Attention: D:\\DLC_projects\\Prey_capture\\Prey_capture-Drago Guggiana-2020-03-26\\labeled-data\\12_10_2019_16_44_10_miniscope_MM_191107_a_succ_nomini does not appear to have labeled data!\n",
      "Attention: D:\\DLC_projects\\Prey_capture\\Prey_capture-Drago Guggiana-2020-03-26\\labeled-data\\12_10_2019_16_48_14_miniscope_MM_191107_a_succ_nomini does not appear to have labeled data!\n",
      "Attention: D:\\DLC_projects\\Prey_capture\\Prey_capture-Drago Guggiana-2020-03-26\\labeled-data\\12_10_2019_16_53_34_miniscope_MM_191107_a_succ_nomini does not appear to have labeled data!\n",
      "Attention: D:\\DLC_projects\\Prey_capture\\Prey_capture-Drago Guggiana-2020-03-26\\labeled-data\\12_10_2019_16_57_26_miniscope_MM_191107_a_succ_nomini does not appear to have labeled data!\n",
      "Attention: D:\\DLC_projects\\Prey_capture\\Prey_capture-Drago Guggiana-2020-03-26\\labeled-data\\12_11_2019_16_45_12_miniscope_MM_191108_a_succ does not appear to have labeled data!\n",
      "Attention: D:\\DLC_projects\\Prey_capture\\Prey_capture-Drago Guggiana-2020-03-26\\labeled-data\\12_11_2019_16_49_04_miniscope_MM_191108_a_succ_miniscopeafterbonsai does not appear to have labeled data!\n",
      "Attention: D:\\DLC_projects\\Prey_capture\\Prey_capture-Drago Guggiana-2020-03-26\\labeled-data\\12_11_2019_16_53_36_miniscope_MM_191108_a_succ does not appear to have labeled data!\n",
      "Attention: D:\\DLC_projects\\Prey_capture\\Prey_capture-Drago Guggiana-2020-03-26\\labeled-data\\12_11_2019_16_56_38_miniscope_MM_191108_a_succ does not appear to have labeled data!\n",
      "Attention: D:\\DLC_projects\\Prey_capture\\Prey_capture-Drago Guggiana-2020-03-26\\labeled-data\\12_11_2019_17_01_21_miniscope_MM_191108_a_succ does not appear to have labeled data!\n",
      "Attention: D:\\DLC_projects\\Prey_capture\\Prey_capture-Drago Guggiana-2020-03-26\\labeled-data\\12_11_2019_17_05_25_miniscope_MM_191108_a_succ does not appear to have labeled data!\n",
      "Attention: D:\\DLC_projects\\Prey_capture\\Prey_capture-Drago Guggiana-2020-03-26\\labeled-data\\12_11_2019_17_09_52_miniscope_MM_191108_a_succ does not appear to have labeled data!\n",
      "Attention: D:\\DLC_projects\\Prey_capture\\Prey_capture-Drago Guggiana-2020-03-26\\labeled-data\\12_11_2019_17_14_34_miniscope_MM_191108_a_fail_miniscopeafterbonsai does not appear to have labeled data!\n",
      "Attention: D:\\DLC_projects\\Prey_capture\\Prey_capture-Drago Guggiana-2020-03-26\\labeled-data\\12_12_2019_14_58_00_miniscope_MM_191108_a_succ_nofluo does not appear to have labeled data!\n",
      "Attention: D:\\DLC_projects\\Prey_capture\\Prey_capture-Drago Guggiana-2020-03-26\\labeled-data\\12_12_2019_15_00_56_miniscope_MM_191108_a_succ does not appear to have labeled data!\n",
      "Attention: D:\\DLC_projects\\Prey_capture\\Prey_capture-Drago Guggiana-2020-03-26\\labeled-data\\12_12_2019_15_04_45_miniscope_MM_191108_a_succ does not appear to have labeled data!\n",
      "Attention: D:\\DLC_projects\\Prey_capture\\Prey_capture-Drago Guggiana-2020-03-26\\labeled-data\\12_12_2019_15_08_15_miniscope_MM_191108_a_succ does not appear to have labeled data!\n",
      "Attention: D:\\DLC_projects\\Prey_capture\\Prey_capture-Drago Guggiana-2020-03-26\\labeled-data\\12_12_2019_15_11_45_miniscope_MM_191108_a_fail does not appear to have labeled data!\n",
      "Attention: D:\\DLC_projects\\Prey_capture\\Prey_capture-Drago Guggiana-2020-03-26\\labeled-data\\12_12_2019_15_16_04_miniscope_MM_191108_a_succ does not appear to have labeled data!\n",
      "Attention: D:\\DLC_projects\\Prey_capture\\Prey_capture-Drago Guggiana-2020-03-26\\labeled-data\\12_12_2019_15_18_57_miniscope_MM_191108_a_fail does not appear to have labeled data!\n",
      "Attention: D:\\DLC_projects\\Prey_capture\\Prey_capture-Drago Guggiana-2020-03-26\\labeled-data\\12_12_2019_15_23_10_miniscope_MM_191108_a_fail does not appear to have labeled data!\n",
      "Attention: D:\\DLC_projects\\Prey_capture\\Prey_capture-Drago Guggiana-2020-03-26\\labeled-data\\12_12_2019_15_27_48_miniscope_MM_191108_a_succ does not appear to have labeled data!\n",
      "Attention: D:\\DLC_projects\\Prey_capture\\Prey_capture-Drago Guggiana-2020-03-26\\labeled-data\\12_12_2019_15_32_29_miniscope_MM_191108_a_succ does not appear to have labeled data!\n",
      "Attention: D:\\DLC_projects\\Prey_capture\\Prey_capture-Drago Guggiana-2020-03-26\\labeled-data\\12_16_2019_16_21_34_miniscope_MM_191108_a_fail does not appear to have labeled data!\n",
      "Attention: D:\\DLC_projects\\Prey_capture\\Prey_capture-Drago Guggiana-2020-03-26\\labeled-data\\12_16_2019_16_27_17_miniscope_MM_191108_a_succ does not appear to have labeled data!\n",
      "Attention: D:\\DLC_projects\\Prey_capture\\Prey_capture-Drago Guggiana-2020-03-26\\labeled-data\\12_16_2019_16_31_08_miniscope_MM_191108_a_succ does not appear to have labeled data!\n",
      "Attention: D:\\DLC_projects\\Prey_capture\\Prey_capture-Drago Guggiana-2020-03-26\\labeled-data\\12_16_2019_16_34_45_miniscope_MM_191108_a_fail does not appear to have labeled data!\n",
      "If all the labels are ok, then use the function 'create_training_dataset' to create the training dataset!\n"
     ]
    }
   ],
   "source": [
    "# check the labels\n",
    "# generates folders in the labeled-data folder with the video name but the actual labels printed on the pics\n",
    "deeplabcut.check_labels(config_path)"
   ]
  },
  {
   "cell_type": "code",
   "execution_count": 10,
   "metadata": {
    "collapsed": true
   },
   "outputs": [
    {
     "name": "stdout",
     "output_type": "stream",
     "text": [
      "D:\\DLC_projects\\Prey_capture\\Prey_capture-Drago Guggiana-2020-03-26\\labeled-data\\03_02_2020_15_45_20_miniscope_MM_200129_a_succ_nomini/CollectedData_Drago Guggiana.h5  not found (perhaps not annotated)\n",
      "D:\\DLC_projects\\Prey_capture\\Prey_capture-Drago Guggiana-2020-03-26\\labeled-data\\03_02_2020_15_50_05_miniscope_MM_200129_a_succ/CollectedData_Drago Guggiana.h5  not found (perhaps not annotated)\n",
      "D:\\DLC_projects\\Prey_capture\\Prey_capture-Drago Guggiana-2020-03-26\\labeled-data\\03_02_2020_15_54_55_miniscope_MM_200129_a_succ/CollectedData_Drago Guggiana.h5  not found (perhaps not annotated)\n",
      "D:\\DLC_projects\\Prey_capture\\Prey_capture-Drago Guggiana-2020-03-26\\labeled-data\\03_02_2020_15_59_15_miniscope_MM_200129_a_succ/CollectedData_Drago Guggiana.h5  not found (perhaps not annotated)\n",
      "D:\\DLC_projects\\Prey_capture\\Prey_capture-Drago Guggiana-2020-03-26\\labeled-data\\03_02_2020_16_15_37_miniscope_MM_200129_b_fail/CollectedData_Drago Guggiana.h5  not found (perhaps not annotated)\n",
      "D:\\DLC_projects\\Prey_capture\\Prey_capture-Drago Guggiana-2020-03-26\\labeled-data\\03_04_2020_15_37_26_miniscope_MM_200129_a_succ/CollectedData_Drago Guggiana.h5  not found (perhaps not annotated)\n",
      "D:\\DLC_projects\\Prey_capture\\Prey_capture-Drago Guggiana-2020-03-26\\labeled-data\\03_04_2020_15_42_07_miniscope_MM_200129_a_succ/CollectedData_Drago Guggiana.h5  not found (perhaps not annotated)\n",
      "D:\\DLC_projects\\Prey_capture\\Prey_capture-Drago Guggiana-2020-03-26\\labeled-data\\03_04_2020_15_46_47_miniscope_MM_200129_a_succ/CollectedData_Drago Guggiana.h5  not found (perhaps not annotated)\n",
      "D:\\DLC_projects\\Prey_capture\\Prey_capture-Drago Guggiana-2020-03-26\\labeled-data\\03_04_2020_15_54_26_miniscope_MM_200129_a_succ/CollectedData_Drago Guggiana.h5  not found (perhaps not annotated)\n",
      "D:\\DLC_projects\\Prey_capture\\Prey_capture-Drago Guggiana-2020-03-26\\labeled-data\\03_04_2020_16_12_03_miniscope_MM_200129_b_succ/CollectedData_Drago Guggiana.h5  not found (perhaps not annotated)\n",
      "D:\\DLC_projects\\Prey_capture\\Prey_capture-Drago Guggiana-2020-03-26\\labeled-data\\03_04_2020_16_16_18_miniscope_MM_200129_b_succ/CollectedData_Drago Guggiana.h5  not found (perhaps not annotated)\n",
      "D:\\DLC_projects\\Prey_capture\\Prey_capture-Drago Guggiana-2020-03-26\\labeled-data\\03_04_2020_16_18_47_miniscope_MM_200129_b_succ/CollectedData_Drago Guggiana.h5  not found (perhaps not annotated)\n",
      "D:\\DLC_projects\\Prey_capture\\Prey_capture-Drago Guggiana-2020-03-26\\labeled-data\\03_05_2020_15_32_18_miniscope_MM_200129_a_succ/CollectedData_Drago Guggiana.h5  not found (perhaps not annotated)\n",
      "D:\\DLC_projects\\Prey_capture\\Prey_capture-Drago Guggiana-2020-03-26\\labeled-data\\03_05_2020_15_35_45_miniscope_MM_200129_a_succ/CollectedData_Drago Guggiana.h5  not found (perhaps not annotated)\n",
      "D:\\DLC_projects\\Prey_capture\\Prey_capture-Drago Guggiana-2020-03-26\\labeled-data\\03_05_2020_15_39_38_miniscope_MM_200129_a_succ/CollectedData_Drago Guggiana.h5  not found (perhaps not annotated)\n",
      "D:\\DLC_projects\\Prey_capture\\Prey_capture-Drago Guggiana-2020-03-26\\labeled-data\\03_05_2020_15_46_40_miniscope_MM_200129_a_succ/CollectedData_Drago Guggiana.h5  not found (perhaps not annotated)\n",
      "D:\\DLC_projects\\Prey_capture\\Prey_capture-Drago Guggiana-2020-03-26\\labeled-data\\03_05_2020_15_56_12_miniscope_MM_200129_b_succ/CollectedData_Drago Guggiana.h5  not found (perhaps not annotated)\n",
      "D:\\DLC_projects\\Prey_capture\\Prey_capture-Drago Guggiana-2020-03-26\\labeled-data\\03_05_2020_15_59_48_miniscope_MM_200129_b_succ/CollectedData_Drago Guggiana.h5  not found (perhaps not annotated)\n",
      "D:\\DLC_projects\\Prey_capture\\Prey_capture-Drago Guggiana-2020-03-26\\labeled-data\\03_05_2020_16_07_59_miniscope_MM_200129_b_succ/CollectedData_Drago Guggiana.h5  not found (perhaps not annotated)\n",
      "D:\\DLC_projects\\Prey_capture\\Prey_capture-Drago Guggiana-2020-03-26\\labeled-data\\03_05_2020_16_13_46_miniscope_MM_200129_b_succ/CollectedData_Drago Guggiana.h5  not found (perhaps not annotated)\n",
      "D:\\DLC_projects\\Prey_capture\\Prey_capture-Drago Guggiana-2020-03-26\\labeled-data\\03_06_2020_15_49_03_miniscope_MM_200129_a_succ/CollectedData_Drago Guggiana.h5  not found (perhaps not annotated)\n",
      "D:\\DLC_projects\\Prey_capture\\Prey_capture-Drago Guggiana-2020-03-26\\labeled-data\\03_06_2020_15_53_37_miniscope_MM_200129_a_succ/CollectedData_Drago Guggiana.h5  not found (perhaps not annotated)\n",
      "D:\\DLC_projects\\Prey_capture\\Prey_capture-Drago Guggiana-2020-03-26\\labeled-data\\03_06_2020_16_00_37_miniscope_MM_200129_a_succ/CollectedData_Drago Guggiana.h5  not found (perhaps not annotated)\n",
      "D:\\DLC_projects\\Prey_capture\\Prey_capture-Drago Guggiana-2020-03-26\\labeled-data\\03_06_2020_16_20_40_miniscope_MM_200129_b_succ/CollectedData_Drago Guggiana.h5  not found (perhaps not annotated)\n",
      "D:\\DLC_projects\\Prey_capture\\Prey_capture-Drago Guggiana-2020-03-26\\labeled-data\\03_06_2020_16_25_04_miniscope_MM_200129_b_succ/CollectedData_Drago Guggiana.h5  not found (perhaps not annotated)\n",
      "D:\\DLC_projects\\Prey_capture\\Prey_capture-Drago Guggiana-2020-03-26\\labeled-data\\03_06_2020_16_30_52_miniscope_MM_200129_b_succ/CollectedData_Drago Guggiana.h5  not found (perhaps not annotated)\n",
      "D:\\DLC_projects\\Prey_capture\\Prey_capture-Drago Guggiana-2020-03-26\\labeled-data\\03_10_2020_15_48_48_miniscope_MM_200129_a_succ/CollectedData_Drago Guggiana.h5  not found (perhaps not annotated)\n",
      "D:\\DLC_projects\\Prey_capture\\Prey_capture-Drago Guggiana-2020-03-26\\labeled-data\\03_10_2020_15_56_24_miniscope_MM_200129_a_succ/CollectedData_Drago Guggiana.h5  not found (perhaps not annotated)\n",
      "D:\\DLC_projects\\Prey_capture\\Prey_capture-Drago Guggiana-2020-03-26\\labeled-data\\03_10_2020_16_00_39_miniscope_MM_200129_a_succ/CollectedData_Drago Guggiana.h5  not found (perhaps not annotated)\n",
      "D:\\DLC_projects\\Prey_capture\\Prey_capture-Drago Guggiana-2020-03-26\\labeled-data\\03_10_2020_16_09_06_miniscope_MM_200129_b_succ/CollectedData_Drago Guggiana.h5  not found (perhaps not annotated)\n",
      "D:\\DLC_projects\\Prey_capture\\Prey_capture-Drago Guggiana-2020-03-26\\labeled-data\\03_10_2020_16_21_31_miniscope_MM_200129_b_succ/CollectedData_Drago Guggiana.h5  not found (perhaps not annotated)\n",
      "D:\\DLC_projects\\Prey_capture\\Prey_capture-Drago Guggiana-2020-03-26\\labeled-data\\03_11_2020_15_58_51_miniscope_MM_200129_a_succ/CollectedData_Drago Guggiana.h5  not found (perhaps not annotated)\n",
      "D:\\DLC_projects\\Prey_capture\\Prey_capture-Drago Guggiana-2020-03-26\\labeled-data\\03_11_2020_16_02_24_miniscope_MM_200129_a_succ/CollectedData_Drago Guggiana.h5  not found (perhaps not annotated)\n",
      "D:\\DLC_projects\\Prey_capture\\Prey_capture-Drago Guggiana-2020-03-26\\labeled-data\\03_11_2020_16_10_08_miniscope_MM_200129_a_succ/CollectedData_Drago Guggiana.h5  not found (perhaps not annotated)\n",
      "D:\\DLC_projects\\Prey_capture\\Prey_capture-Drago Guggiana-2020-03-26\\labeled-data\\03_11_2020_16_14_11_miniscope_MM_200129_a_succ/CollectedData_Drago Guggiana.h5  not found (perhaps not annotated)\n",
      "D:\\DLC_projects\\Prey_capture\\Prey_capture-Drago Guggiana-2020-03-26\\labeled-data\\03_11_2020_16_37_26_miniscope_MM_200129_b_succ/CollectedData_Drago Guggiana.h5  not found (perhaps not annotated)\n",
      "D:\\DLC_projects\\Prey_capture\\Prey_capture-Drago Guggiana-2020-03-26\\labeled-data\\03_11_2020_16_42_47_miniscope_MM_200129_b_succ/CollectedData_Drago Guggiana.h5  not found (perhaps not annotated)\n",
      "D:\\DLC_projects\\Prey_capture\\Prey_capture-Drago Guggiana-2020-03-26\\labeled-data\\03_11_2020_16_52_20_miniscope_MM_200129_b_succ/CollectedData_Drago Guggiana.h5  not found (perhaps not annotated)\n",
      "D:\\DLC_projects\\Prey_capture\\Prey_capture-Drago Guggiana-2020-03-26\\labeled-data\\03_12_2020_16_23_09_miniscope_MM_200129_a_succ/CollectedData_Drago Guggiana.h5  not found (perhaps not annotated)\n",
      "D:\\DLC_projects\\Prey_capture\\Prey_capture-Drago Guggiana-2020-03-26\\labeled-data\\03_12_2020_16_25_39_miniscope_MM_200129_a_succ/CollectedData_Drago Guggiana.h5  not found (perhaps not annotated)\n",
      "D:\\DLC_projects\\Prey_capture\\Prey_capture-Drago Guggiana-2020-03-26\\labeled-data\\03_12_2020_16_30_37_miniscope_MM_200129_a_succ/CollectedData_Drago Guggiana.h5  not found (perhaps not annotated)\n",
      "D:\\DLC_projects\\Prey_capture\\Prey_capture-Drago Guggiana-2020-03-26\\labeled-data\\03_12_2020_16_32_46_miniscope_MM_200129_a_succ/CollectedData_Drago Guggiana.h5  not found (perhaps not annotated)\n",
      "D:\\DLC_projects\\Prey_capture\\Prey_capture-Drago Guggiana-2020-03-26\\labeled-data\\03_12_2020_16_49_07_miniscope_MM_200129_b_succ/CollectedData_Drago Guggiana.h5  not found (perhaps not annotated)\n",
      "D:\\DLC_projects\\Prey_capture\\Prey_capture-Drago Guggiana-2020-03-26\\labeled-data\\03_12_2020_16_52_33_miniscope_MM_200129_b_succ/CollectedData_Drago Guggiana.h5  not found (perhaps not annotated)\n",
      "D:\\DLC_projects\\Prey_capture\\Prey_capture-Drago Guggiana-2020-03-26\\labeled-data\\03_12_2020_16_56_04_miniscope_MM_200129_b_succ/CollectedData_Drago Guggiana.h5  not found (perhaps not annotated)\n",
      "D:\\DLC_projects\\Prey_capture\\Prey_capture-Drago Guggiana-2020-03-26\\labeled-data\\03_13_2020_13_10_44_miniscope_MM_200129_a_succ/CollectedData_Drago Guggiana.h5  not found (perhaps not annotated)\n",
      "D:\\DLC_projects\\Prey_capture\\Prey_capture-Drago Guggiana-2020-03-26\\labeled-data\\03_13_2020_13_14_07_miniscope_MM_200129_a_succ/CollectedData_Drago Guggiana.h5  not found (perhaps not annotated)\n",
      "D:\\DLC_projects\\Prey_capture\\Prey_capture-Drago Guggiana-2020-03-26\\labeled-data\\03_13_2020_13_20_21_miniscope_MM_200129_a_succ/CollectedData_Drago Guggiana.h5  not found (perhaps not annotated)\n",
      "D:\\DLC_projects\\Prey_capture\\Prey_capture-Drago Guggiana-2020-03-26\\labeled-data\\03_13_2020_13_49_34_miniscope_MM_200129_b_succ/CollectedData_Drago Guggiana.h5  not found (perhaps not annotated)\n",
      "D:\\DLC_projects\\Prey_capture\\Prey_capture-Drago Guggiana-2020-03-26\\labeled-data\\03_13_2020_13_53_47_miniscope_MM_200129_b_succ/CollectedData_Drago Guggiana.h5  not found (perhaps not annotated)\n",
      "D:\\DLC_projects\\Prey_capture\\Prey_capture-Drago Guggiana-2020-03-26\\labeled-data\\03_13_2020_14_00_19_miniscope_MM_200129_b_succ/CollectedData_Drago Guggiana.h5  not found (perhaps not annotated)\n",
      "D:\\DLC_projects\\Prey_capture\\Prey_capture-Drago Guggiana-2020-03-26\\labeled-data\\11_11_2019_00_41_27_miniscope_DG_190806_a_fail_nomini/CollectedData_Drago Guggiana.h5  not found (perhaps not annotated)\n",
      "D:\\DLC_projects\\Prey_capture\\Prey_capture-Drago Guggiana-2020-03-26\\labeled-data\\11_11_2019_01_21_58_miniscope_DG_190806_a_fail_nofluo/CollectedData_Drago Guggiana.h5  not found (perhaps not annotated)\n",
      "D:\\DLC_projects\\Prey_capture\\Prey_capture-Drago Guggiana-2020-03-26\\labeled-data\\11_11_2019_22_43_04_miniscope_DG_190806_a_fail_nofluo/CollectedData_Drago Guggiana.h5  not found (perhaps not annotated)\n",
      "D:\\DLC_projects\\Prey_capture\\Prey_capture-Drago Guggiana-2020-03-26\\labeled-data\\11_11_2019_22_56_57_miniscope_DG_190806_a_succ_nofluo/CollectedData_Drago Guggiana.h5  not found (perhaps not annotated)\n",
      "D:\\DLC_projects\\Prey_capture\\Prey_capture-Drago Guggiana-2020-03-26\\labeled-data\\11_11_2019_23_07_55_miniscope_DG_190806_a_fail_nofluo/CollectedData_Drago Guggiana.h5  not found (perhaps not annotated)\n",
      "D:\\DLC_projects\\Prey_capture\\Prey_capture-Drago Guggiana-2020-03-26\\labeled-data\\11_11_2019_23_23_16_miniscope_DG_190810_a_fail_nomini/CollectedData_Drago Guggiana.h5  not found (perhaps not annotated)\n",
      "D:\\DLC_projects\\Prey_capture\\Prey_capture-Drago Guggiana-2020-03-26\\labeled-data\\11_11_2019_23_35_36_miniscope_DG_190810_a_succ_nomini/CollectedData_Drago Guggiana.h5  not found (perhaps not annotated)\n",
      "D:\\DLC_projects\\Prey_capture\\Prey_capture-Drago Guggiana-2020-03-26\\labeled-data\\11_11_2019_23_43_13_miniscope_DG_190810_a_succ_nomini/CollectedData_Drago Guggiana.h5  not found (perhaps not annotated)\n",
      "D:\\DLC_projects\\Prey_capture\\Prey_capture-Drago Guggiana-2020-03-26\\labeled-data\\11_12_2019_16_47_36_miniscope_DG_190806_a_succ_nofluo/CollectedData_Drago Guggiana.h5  not found (perhaps not annotated)\n",
      "D:\\DLC_projects\\Prey_capture\\Prey_capture-Drago Guggiana-2020-03-26\\labeled-data\\11_12_2019_16_50_34_miniscope_DG_190806_a_succ_nofluo/CollectedData_Drago Guggiana.h5  not found (perhaps not annotated)\n",
      "D:\\DLC_projects\\Prey_capture\\Prey_capture-Drago Guggiana-2020-03-26\\labeled-data\\11_12_2019_16_54_56_miniscope_DG_190806_a_succ_nofluo/CollectedData_Drago Guggiana.h5  not found (perhaps not annotated)\n",
      "D:\\DLC_projects\\Prey_capture\\Prey_capture-Drago Guggiana-2020-03-26\\labeled-data\\11_12_2019_17_02_59_miniscope_DG_190810_a_succ_nomini/CollectedData_Drago Guggiana.h5  not found (perhaps not annotated)\n",
      "D:\\DLC_projects\\Prey_capture\\Prey_capture-Drago Guggiana-2020-03-26\\labeled-data\\11_12_2019_17_07_21_miniscope_DG_190810_a_succ_nomini/CollectedData_Drago Guggiana.h5  not found (perhaps not annotated)\n",
      "D:\\DLC_projects\\Prey_capture\\Prey_capture-Drago Guggiana-2020-03-26\\labeled-data\\11_12_2019_17_10_51_miniscope_DG_190810_a_succ_nomini/CollectedData_Drago Guggiana.h5  not found (perhaps not annotated)\n",
      "D:\\DLC_projects\\Prey_capture\\Prey_capture-Drago Guggiana-2020-03-26\\labeled-data\\11_12_2019_17_14_20_miniscope_DG_190810_a_succ_nomini/CollectedData_Drago Guggiana.h5  not found (perhaps not annotated)\n",
      "D:\\DLC_projects\\Prey_capture\\Prey_capture-Drago Guggiana-2020-03-26\\labeled-data\\11_13_2019_17_57_10_miniscope_DG_190806_a_succ_nofluobadtrigger/CollectedData_Drago Guggiana.h5  not found (perhaps not annotated)\n",
      "D:\\DLC_projects\\Prey_capture\\Prey_capture-Drago Guggiana-2020-03-26\\labeled-data\\11_13_2019_18_00_39_miniscope_DG_190806_a_succ_nofluo/CollectedData_Drago Guggiana.h5  not found (perhaps not annotated)\n",
      "D:\\DLC_projects\\Prey_capture\\Prey_capture-Drago Guggiana-2020-03-26\\labeled-data\\11_13_2019_18_04_22_miniscope_DG_190806_a_succ_nofluo/CollectedData_Drago Guggiana.h5  not found (perhaps not annotated)\n",
      "D:\\DLC_projects\\Prey_capture\\Prey_capture-Drago Guggiana-2020-03-26\\labeled-data\\11_13_2019_18_08_16_miniscope_DG_190806_a_succ_nofluo/CollectedData_Drago Guggiana.h5  not found (perhaps not annotated)\n",
      "D:\\DLC_projects\\Prey_capture\\Prey_capture-Drago Guggiana-2020-03-26\\labeled-data\\11_13_2019_18_14_36_miniscope_DG_190810_a_succ_nomini/CollectedData_Drago Guggiana.h5  not found (perhaps not annotated)\n",
      "D:\\DLC_projects\\Prey_capture\\Prey_capture-Drago Guggiana-2020-03-26\\labeled-data\\11_13_2019_18_19_35_miniscope_DG_190810_a_succ_nomini/CollectedData_Drago Guggiana.h5  not found (perhaps not annotated)\n",
      "D:\\DLC_projects\\Prey_capture\\Prey_capture-Drago Guggiana-2020-03-26\\labeled-data\\11_13_2019_18_23_01_miniscope_DG_190810_a_succ_nomini/CollectedData_Drago Guggiana.h5  not found (perhaps not annotated)\n",
      "D:\\DLC_projects\\Prey_capture\\Prey_capture-Drago Guggiana-2020-03-26\\labeled-data\\11_13_2019_18_25_56_miniscope_DG_190810_a_succ_nomini/CollectedData_Drago Guggiana.h5  not found (perhaps not annotated)\n",
      "D:\\DLC_projects\\Prey_capture\\Prey_capture-Drago Guggiana-2020-03-26\\labeled-data\\11_14_2019_17_15_24_miniscope_DG_190806_a_succ_nofluo/CollectedData_Drago Guggiana.h5  not found (perhaps not annotated)\n",
      "D:\\DLC_projects\\Prey_capture\\Prey_capture-Drago Guggiana-2020-03-26\\labeled-data\\11_14_2019_17_19_46_miniscope_DG_190806_a_succ_nofluo/CollectedData_Drago Guggiana.h5  not found (perhaps not annotated)\n",
      "D:\\DLC_projects\\Prey_capture\\Prey_capture-Drago Guggiana-2020-03-26\\labeled-data\\11_14_2019_17_24_28_miniscope_DG_190806_a_succ_nofluo/CollectedData_Drago Guggiana.h5  not found (perhaps not annotated)\n",
      "D:\\DLC_projects\\Prey_capture\\Prey_capture-Drago Guggiana-2020-03-26\\labeled-data\\11_14_2019_17_30_44_miniscope_DG_190806_a_succ_nofluo/CollectedData_Drago Guggiana.h5  not found (perhaps not annotated)\n",
      "D:\\DLC_projects\\Prey_capture\\Prey_capture-Drago Guggiana-2020-03-26\\labeled-data\\11_14_2019_17_39_46_miniscope_DG_190810_a_succ_nomini/CollectedData_Drago Guggiana.h5  not found (perhaps not annotated)\n",
      "D:\\DLC_projects\\Prey_capture\\Prey_capture-Drago Guggiana-2020-03-26\\labeled-data\\11_14_2019_17_43_07_miniscope_DG_190810_a_succ_nomini/CollectedData_Drago Guggiana.h5  not found (perhaps not annotated)\n",
      "D:\\DLC_projects\\Prey_capture\\Prey_capture-Drago Guggiana-2020-03-26\\labeled-data\\11_14_2019_17_46_42_miniscope_DG_190810_a_succ_nomini/CollectedData_Drago Guggiana.h5  not found (perhaps not annotated)\n",
      "D:\\DLC_projects\\Prey_capture\\Prey_capture-Drago Guggiana-2020-03-26\\labeled-data\\11_14_2019_17_50_12_miniscope_DG_190810_a_succ_nomini/CollectedData_Drago Guggiana.h5  not found (perhaps not annotated)\n",
      "D:\\DLC_projects\\Prey_capture\\Prey_capture-Drago Guggiana-2020-03-26\\labeled-data\\11_25_2019_14_30_43_miniscope_MM_191105_a_fail_nomini/CollectedData_Drago Guggiana.h5  not found (perhaps not annotated)\n",
      "D:\\DLC_projects\\Prey_capture\\Prey_capture-Drago Guggiana-2020-03-26\\labeled-data\\11_25_2019_14_38_45_miniscope_MM_191105_a_fail_nomini/CollectedData_Drago Guggiana.h5  not found (perhaps not annotated)\n",
      "D:\\DLC_projects\\Prey_capture\\Prey_capture-Drago Guggiana-2020-03-26\\labeled-data\\11_25_2019_14_47_40_miniscope_MM_191105_a_fail_nomini/CollectedData_Drago Guggiana.h5  not found (perhaps not annotated)\n",
      "D:\\DLC_projects\\Prey_capture\\Prey_capture-Drago Guggiana-2020-03-26\\labeled-data\\11_25_2019_14_55_06_miniscope_MM_191105_a_fail_nomini/CollectedData_Drago Guggiana.h5  not found (perhaps not annotated)\n",
      "D:\\DLC_projects\\Prey_capture\\Prey_capture-Drago Guggiana-2020-03-26\\labeled-data\\11_25_2019_15_09_04_miniscope_MM_191106_a_fail_nomini/CollectedData_Drago Guggiana.h5  not found (perhaps not annotated)\n",
      "D:\\DLC_projects\\Prey_capture\\Prey_capture-Drago Guggiana-2020-03-26\\labeled-data\\11_25_2019_15_15_55_miniscope_MM_191106_a_fail_nomini/CollectedData_Drago Guggiana.h5  not found (perhaps not annotated)\n",
      "D:\\DLC_projects\\Prey_capture\\Prey_capture-Drago Guggiana-2020-03-26\\labeled-data\\11_25_2019_15_22_31_miniscope_MM_191106_a_fail_nomini/CollectedData_Drago Guggiana.h5  not found (perhaps not annotated)\n",
      "D:\\DLC_projects\\Prey_capture\\Prey_capture-Drago Guggiana-2020-03-26\\labeled-data\\11_25_2019_15_28_57_miniscope_MM_191106_a_fail_nomini/CollectedData_Drago Guggiana.h5  not found (perhaps not annotated)\n",
      "D:\\DLC_projects\\Prey_capture\\Prey_capture-Drago Guggiana-2020-03-26\\labeled-data\\11_25_2019_15_43_30_miniscope_MM_191107_a_fail_nomini/CollectedData_Drago Guggiana.h5  not found (perhaps not annotated)\n",
      "D:\\DLC_projects\\Prey_capture\\Prey_capture-Drago Guggiana-2020-03-26\\labeled-data\\11_25_2019_15_49_41_miniscope_MM_191107_a_fail_nomini/CollectedData_Drago Guggiana.h5  not found (perhaps not annotated)\n",
      "D:\\DLC_projects\\Prey_capture\\Prey_capture-Drago Guggiana-2020-03-26\\labeled-data\\11_25_2019_15_58_05_miniscope_MM_191107_a_fail_nomini/CollectedData_Drago Guggiana.h5  not found (perhaps not annotated)\n",
      "D:\\DLC_projects\\Prey_capture\\Prey_capture-Drago Guggiana-2020-03-26\\labeled-data\\11_25_2019_16_04_36_miniscope_MM_191107_a_fail_nomini/CollectedData_Drago Guggiana.h5  not found (perhaps not annotated)\n",
      "D:\\DLC_projects\\Prey_capture\\Prey_capture-Drago Guggiana-2020-03-26\\labeled-data\\11_25_2019_16_15_54_miniscope_MM_191108_a_fail_nomini/CollectedData_Drago Guggiana.h5  not found (perhaps not annotated)\n",
      "D:\\DLC_projects\\Prey_capture\\Prey_capture-Drago Guggiana-2020-03-26\\labeled-data\\11_25_2019_16_22_23_miniscope_MM_191108_a_fail_nomini/CollectedData_Drago Guggiana.h5  not found (perhaps not annotated)\n",
      "D:\\DLC_projects\\Prey_capture\\Prey_capture-Drago Guggiana-2020-03-26\\labeled-data\\11_25_2019_16_28_56_miniscope_MM_191108_a_fail_nomini/CollectedData_Drago Guggiana.h5  not found (perhaps not annotated)\n",
      "D:\\DLC_projects\\Prey_capture\\Prey_capture-Drago Guggiana-2020-03-26\\labeled-data\\11_25_2019_16_36_00_miniscope_MM_191108_a_fail_nomini/CollectedData_Drago Guggiana.h5  not found (perhaps not annotated)\n",
      "D:\\DLC_projects\\Prey_capture\\Prey_capture-Drago Guggiana-2020-03-26\\labeled-data\\11_26_2019_15_44_01_miniscope_MM_191106_a_fail_nomini/CollectedData_Drago Guggiana.h5  not found (perhaps not annotated)\n",
      "D:\\DLC_projects\\Prey_capture\\Prey_capture-Drago Guggiana-2020-03-26\\labeled-data\\11_26_2019_15_52_26_miniscope_MM_191106_a_fail_nomini/CollectedData_Drago Guggiana.h5  not found (perhaps not annotated)\n",
      "D:\\DLC_projects\\Prey_capture\\Prey_capture-Drago Guggiana-2020-03-26\\labeled-data\\11_26_2019_15_59_23_miniscope_MM_191106_a_fail_nomini/CollectedData_Drago Guggiana.h5  not found (perhaps not annotated)\n",
      "D:\\DLC_projects\\Prey_capture\\Prey_capture-Drago Guggiana-2020-03-26\\labeled-data\\11_26_2019_16_10_04_miniscope_MM_191106_a_fail_nomini/CollectedData_Drago Guggiana.h5  not found (perhaps not annotated)\n",
      "D:\\DLC_projects\\Prey_capture\\Prey_capture-Drago Guggiana-2020-03-26\\labeled-data\\11_26_2019_16_20_21_miniscope_MM_191107_a_fail_nomini/CollectedData_Drago Guggiana.h5  not found (perhaps not annotated)\n",
      "D:\\DLC_projects\\Prey_capture\\Prey_capture-Drago Guggiana-2020-03-26\\labeled-data\\11_26_2019_16_26_36_miniscope_MM_191107_a_fail_nomini/CollectedData_Drago Guggiana.h5  not found (perhaps not annotated)\n",
      "D:\\DLC_projects\\Prey_capture\\Prey_capture-Drago Guggiana-2020-03-26\\labeled-data\\11_26_2019_16_32_30_miniscope_MM_191107_a_fail_nomini/CollectedData_Drago Guggiana.h5  not found (perhaps not annotated)\n",
      "D:\\DLC_projects\\Prey_capture\\Prey_capture-Drago Guggiana-2020-03-26\\labeled-data\\11_26_2019_16_39_57_miniscope_MM_191107_a_fail_nomini/CollectedData_Drago Guggiana.h5  not found (perhaps not annotated)\n",
      "D:\\DLC_projects\\Prey_capture\\Prey_capture-Drago Guggiana-2020-03-26\\labeled-data\\11_26_2019_16_48_28_miniscope_MM_191108_a_fail_nomini/CollectedData_Drago Guggiana.h5  not found (perhaps not annotated)\n",
      "D:\\DLC_projects\\Prey_capture\\Prey_capture-Drago Guggiana-2020-03-26\\labeled-data\\11_26_2019_16_54_02_miniscope_MM_191108_a_fail_nomini/CollectedData_Drago Guggiana.h5  not found (perhaps not annotated)\n",
      "D:\\DLC_projects\\Prey_capture\\Prey_capture-Drago Guggiana-2020-03-26\\labeled-data\\11_26_2019_17_00_05_miniscope_MM_191108_a_fail_nomini/CollectedData_Drago Guggiana.h5  not found (perhaps not annotated)\n",
      "D:\\DLC_projects\\Prey_capture\\Prey_capture-Drago Guggiana-2020-03-26\\labeled-data\\11_26_2019_17_06_44_miniscope_MM_191108_a_fail_nomini/CollectedData_Drago Guggiana.h5  not found (perhaps not annotated)\n",
      "D:\\DLC_projects\\Prey_capture\\Prey_capture-Drago Guggiana-2020-03-26\\labeled-data\\11_29_2019_14_03_19_miniscope_MM_191105_a_fail_nomini/CollectedData_Drago Guggiana.h5  not found (perhaps not annotated)\n",
      "D:\\DLC_projects\\Prey_capture\\Prey_capture-Drago Guggiana-2020-03-26\\labeled-data\\11_29_2019_14_09_23_miniscope_MM_191105_a_fail_nomini/CollectedData_Drago Guggiana.h5  not found (perhaps not annotated)\n",
      "D:\\DLC_projects\\Prey_capture\\Prey_capture-Drago Guggiana-2020-03-26\\labeled-data\\11_29_2019_14_16_30_miniscope_MM_191105_a_fail_nomini/CollectedData_Drago Guggiana.h5  not found (perhaps not annotated)\n",
      "D:\\DLC_projects\\Prey_capture\\Prey_capture-Drago Guggiana-2020-03-26\\labeled-data\\11_29_2019_14_25_32_miniscope_MM_191105_a_fail_nomini/CollectedData_Drago Guggiana.h5  not found (perhaps not annotated)\n",
      "D:\\DLC_projects\\Prey_capture\\Prey_capture-Drago Guggiana-2020-03-26\\labeled-data\\11_29_2019_14_36_52_miniscope_MM_191106_a_fail_nomini/CollectedData_Drago Guggiana.h5  not found (perhaps not annotated)\n",
      "D:\\DLC_projects\\Prey_capture\\Prey_capture-Drago Guggiana-2020-03-26\\labeled-data\\11_29_2019_14_43_47_miniscope_MM_191106_a_fail_nomini/CollectedData_Drago Guggiana.h5  not found (perhaps not annotated)\n",
      "D:\\DLC_projects\\Prey_capture\\Prey_capture-Drago Guggiana-2020-03-26\\labeled-data\\11_29_2019_14_50_39_miniscope_MM_191106_a_fail_nomini/CollectedData_Drago Guggiana.h5  not found (perhaps not annotated)\n",
      "D:\\DLC_projects\\Prey_capture\\Prey_capture-Drago Guggiana-2020-03-26\\labeled-data\\11_29_2019_14_57_47_miniscope_MM_191106_a_fail_nomini/CollectedData_Drago Guggiana.h5  not found (perhaps not annotated)\n",
      "D:\\DLC_projects\\Prey_capture\\Prey_capture-Drago Guggiana-2020-03-26\\labeled-data\\11_29_2019_15_08_11_miniscope_MM_191107_a_fail_nomini/CollectedData_Drago Guggiana.h5  not found (perhaps not annotated)\n",
      "D:\\DLC_projects\\Prey_capture\\Prey_capture-Drago Guggiana-2020-03-26\\labeled-data\\11_29_2019_15_16_19_miniscope_MM_191107_a_fail_nomini/CollectedData_Drago Guggiana.h5  not found (perhaps not annotated)\n",
      "D:\\DLC_projects\\Prey_capture\\Prey_capture-Drago Guggiana-2020-03-26\\labeled-data\\11_29_2019_15_23_26_miniscope_MM_191107_a_fail_nomini/CollectedData_Drago Guggiana.h5  not found (perhaps not annotated)\n",
      "D:\\DLC_projects\\Prey_capture\\Prey_capture-Drago Guggiana-2020-03-26\\labeled-data\\11_29_2019_15_30_55_miniscope_MM_191107_a_fail_nomini/CollectedData_Drago Guggiana.h5  not found (perhaps not annotated)\n",
      "D:\\DLC_projects\\Prey_capture\\Prey_capture-Drago Guggiana-2020-03-26\\labeled-data\\11_29_2019_15_42_19_miniscope_MM_191108_a_fail_nomini/CollectedData_Drago Guggiana.h5  not found (perhaps not annotated)\n",
      "D:\\DLC_projects\\Prey_capture\\Prey_capture-Drago Guggiana-2020-03-26\\labeled-data\\11_29_2019_15_49_40_miniscope_MM_191108_a_fail_nomini/CollectedData_Drago Guggiana.h5  not found (perhaps not annotated)\n",
      "D:\\DLC_projects\\Prey_capture\\Prey_capture-Drago Guggiana-2020-03-26\\labeled-data\\11_29_2019_15_56_39_miniscope_MM_191108_a_fail_nomini/CollectedData_Drago Guggiana.h5  not found (perhaps not annotated)\n",
      "D:\\DLC_projects\\Prey_capture\\Prey_capture-Drago Guggiana-2020-03-26\\labeled-data\\11_29_2019_16_02_26_miniscope_MM_191108_a_fail_nomini/CollectedData_Drago Guggiana.h5  not found (perhaps not annotated)\n",
      "D:\\DLC_projects\\Prey_capture\\Prey_capture-Drago Guggiana-2020-03-26\\labeled-data\\12_02_2019_16_05_42_miniscope_MM_191105_a_fail_nomini/CollectedData_Drago Guggiana.h5  not found (perhaps not annotated)\n",
      "D:\\DLC_projects\\Prey_capture\\Prey_capture-Drago Guggiana-2020-03-26\\labeled-data\\12_02_2019_16_13_23_miniscope_MM_191105_a_fail_nomini/CollectedData_Drago Guggiana.h5  not found (perhaps not annotated)\n",
      "D:\\DLC_projects\\Prey_capture\\Prey_capture-Drago Guggiana-2020-03-26\\labeled-data\\12_02_2019_16_21_09_miniscope_MM_191105_a_fail_nomini/CollectedData_Drago Guggiana.h5  not found (perhaps not annotated)\n",
      "D:\\DLC_projects\\Prey_capture\\Prey_capture-Drago Guggiana-2020-03-26\\labeled-data\\12_02_2019_16_27_33_miniscope_MM_191105_a_fail_nomini/CollectedData_Drago Guggiana.h5  not found (perhaps not annotated)\n",
      "D:\\DLC_projects\\Prey_capture\\Prey_capture-Drago Guggiana-2020-03-26\\labeled-data\\12_02_2019_16_37_29_miniscope_MM_191106_a_fail_nomini/CollectedData_Drago Guggiana.h5  not found (perhaps not annotated)\n",
      "D:\\DLC_projects\\Prey_capture\\Prey_capture-Drago Guggiana-2020-03-26\\labeled-data\\12_02_2019_16_45_51_miniscope_MM_191106_a_fail_nomini/CollectedData_Drago Guggiana.h5  not found (perhaps not annotated)\n",
      "D:\\DLC_projects\\Prey_capture\\Prey_capture-Drago Guggiana-2020-03-26\\labeled-data\\12_02_2019_16_52_33_miniscope_MM_191106_a_fail_nomini/CollectedData_Drago Guggiana.h5  not found (perhaps not annotated)\n",
      "D:\\DLC_projects\\Prey_capture\\Prey_capture-Drago Guggiana-2020-03-26\\labeled-data\\12_02_2019_16_58_55_miniscope_MM_191106_a_fail_nomini/CollectedData_Drago Guggiana.h5  not found (perhaps not annotated)\n",
      "D:\\DLC_projects\\Prey_capture\\Prey_capture-Drago Guggiana-2020-03-26\\labeled-data\\12_02_2019_17_08_58_miniscope_MM_191107_a_succ_nomini/CollectedData_Drago Guggiana.h5  not found (perhaps not annotated)\n",
      "D:\\DLC_projects\\Prey_capture\\Prey_capture-Drago Guggiana-2020-03-26\\labeled-data\\12_02_2019_17_18_30_miniscope_MM_191107_a_succ_nomini/CollectedData_Drago Guggiana.h5  not found (perhaps not annotated)\n",
      "D:\\DLC_projects\\Prey_capture\\Prey_capture-Drago Guggiana-2020-03-26\\labeled-data\\12_02_2019_17_26_56_miniscope_MM_191107_a_succ_nomini/CollectedData_Drago Guggiana.h5  not found (perhaps not annotated)\n",
      "D:\\DLC_projects\\Prey_capture\\Prey_capture-Drago Guggiana-2020-03-26\\labeled-data\\12_02_2019_17_33_47_miniscope_MM_191107_a_succ_nomini/CollectedData_Drago Guggiana.h5  not found (perhaps not annotated)\n",
      "D:\\DLC_projects\\Prey_capture\\Prey_capture-Drago Guggiana-2020-03-26\\labeled-data\\12_02_2019_17_44_49_miniscope_MM_191108_a_fail_nomini/CollectedData_Drago Guggiana.h5  not found (perhaps not annotated)\n",
      "D:\\DLC_projects\\Prey_capture\\Prey_capture-Drago Guggiana-2020-03-26\\labeled-data\\12_02_2019_17_52_21_miniscope_MM_191108_a_fail_nomini/CollectedData_Drago Guggiana.h5  not found (perhaps not annotated)\n",
      "D:\\DLC_projects\\Prey_capture\\Prey_capture-Drago Guggiana-2020-03-26\\labeled-data\\12_03_2019_15_00_53_miniscope_MM_191105_a_fail_nomini/CollectedData_Drago Guggiana.h5  not found (perhaps not annotated)\n",
      "D:\\DLC_projects\\Prey_capture\\Prey_capture-Drago Guggiana-2020-03-26\\labeled-data\\12_03_2019_15_08_15_miniscope_MM_191105_a_succ_nomini/CollectedData_Drago Guggiana.h5  not found (perhaps not annotated)\n",
      "D:\\DLC_projects\\Prey_capture\\Prey_capture-Drago Guggiana-2020-03-26\\labeled-data\\12_03_2019_15_15_55_miniscope_MM_191105_a_succ_nomini/CollectedData_Drago Guggiana.h5  not found (perhaps not annotated)\n",
      "D:\\DLC_projects\\Prey_capture\\Prey_capture-Drago Guggiana-2020-03-26\\labeled-data\\12_03_2019_15_24_04_miniscope_MM_191105_a_succ_nomini/CollectedData_Drago Guggiana.h5  not found (perhaps not annotated)\n",
      "D:\\DLC_projects\\Prey_capture\\Prey_capture-Drago Guggiana-2020-03-26\\labeled-data\\12_03_2019_15_31_21_miniscope_MM_191106_a_fail_nomini/CollectedData_Drago Guggiana.h5  not found (perhaps not annotated)\n",
      "D:\\DLC_projects\\Prey_capture\\Prey_capture-Drago Guggiana-2020-03-26\\labeled-data\\12_03_2019_15_38_58_miniscope_MM_191106_a_fail_nomini/CollectedData_Drago Guggiana.h5  not found (perhaps not annotated)\n",
      "D:\\DLC_projects\\Prey_capture\\Prey_capture-Drago Guggiana-2020-03-26\\labeled-data\\12_03_2019_15_47_19_miniscope_MM_191107_a_succ_nomini/CollectedData_Drago Guggiana.h5  not found (perhaps not annotated)\n",
      "D:\\DLC_projects\\Prey_capture\\Prey_capture-Drago Guggiana-2020-03-26\\labeled-data\\12_03_2019_15_52_44_miniscope_MM_191107_a_succ_nomini/CollectedData_Drago Guggiana.h5  not found (perhaps not annotated)\n",
      "D:\\DLC_projects\\Prey_capture\\Prey_capture-Drago Guggiana-2020-03-26\\labeled-data\\12_03_2019_15_57_28_miniscope_MM_191107_a_succ_nomini/CollectedData_Drago Guggiana.h5  not found (perhaps not annotated)\n",
      "D:\\DLC_projects\\Prey_capture\\Prey_capture-Drago Guggiana-2020-03-26\\labeled-data\\12_03_2019_16_03_45_miniscope_MM_191107_a_succ_nomini/CollectedData_Drago Guggiana.h5  not found (perhaps not annotated)\n",
      "D:\\DLC_projects\\Prey_capture\\Prey_capture-Drago Guggiana-2020-03-26\\labeled-data\\12_03_2019_16_11_31_miniscope_MM_191106_a_succ_nomini/CollectedData_Drago Guggiana.h5  not found (perhaps not annotated)\n",
      "D:\\DLC_projects\\Prey_capture\\Prey_capture-Drago Guggiana-2020-03-26\\labeled-data\\12_03_2019_16_20_45_miniscope_MM_191106_a_fail_nomini/CollectedData_Drago Guggiana.h5  not found (perhaps not annotated)\n",
      "D:\\DLC_projects\\Prey_capture\\Prey_capture-Drago Guggiana-2020-03-26\\labeled-data\\12_03_2019_16_34_28_miniscope_MM_191108_a_fail_nomini/CollectedData_Drago Guggiana.h5  not found (perhaps not annotated)\n",
      "D:\\DLC_projects\\Prey_capture\\Prey_capture-Drago Guggiana-2020-03-26\\labeled-data\\12_03_2019_16_42_00_miniscope_MM_191108_a_fail_nomini/CollectedData_Drago Guggiana.h5  not found (perhaps not annotated)\n",
      "D:\\DLC_projects\\Prey_capture\\Prey_capture-Drago Guggiana-2020-03-26\\labeled-data\\12_03_2019_16_48_22_miniscope_MM_191108_a_succ_nomini/CollectedData_Drago Guggiana.h5  not found (perhaps not annotated)\n",
      "D:\\DLC_projects\\Prey_capture\\Prey_capture-Drago Guggiana-2020-03-26\\labeled-data\\12_03_2019_16_57_25_miniscope_MM_191108_a_succ_nomini/CollectedData_Drago Guggiana.h5  not found (perhaps not annotated)\n",
      "D:\\DLC_projects\\Prey_capture\\Prey_capture-Drago Guggiana-2020-03-26\\labeled-data\\12_04_2019_15_19_29_miniscope_MM_191106_a_succ_nomini/CollectedData_Drago Guggiana.h5  not found (perhaps not annotated)\n",
      "D:\\DLC_projects\\Prey_capture\\Prey_capture-Drago Guggiana-2020-03-26\\labeled-data\\12_04_2019_15_23_56_miniscope_MM_191106_a_succ_nomini/CollectedData_Drago Guggiana.h5  not found (perhaps not annotated)\n",
      "D:\\DLC_projects\\Prey_capture\\Prey_capture-Drago Guggiana-2020-03-26\\labeled-data\\12_04_2019_15_29_28_miniscope_MM_191106_a_succ_nomini/CollectedData_Drago Guggiana.h5  not found (perhaps not annotated)\n",
      "D:\\DLC_projects\\Prey_capture\\Prey_capture-Drago Guggiana-2020-03-26\\labeled-data\\12_04_2019_15_45_59_miniscope_MM_191107_a_succ_nomini/CollectedData_Drago Guggiana.h5  not found (perhaps not annotated)\n",
      "D:\\DLC_projects\\Prey_capture\\Prey_capture-Drago Guggiana-2020-03-26\\labeled-data\\12_04_2019_15_52_05_miniscope_MM_191107_a_succ_nomini/CollectedData_Drago Guggiana.h5  not found (perhaps not annotated)\n",
      "D:\\DLC_projects\\Prey_capture\\Prey_capture-Drago Guggiana-2020-03-26\\labeled-data\\12_04_2019_15_56_34_miniscope_MM_191107_a_succ_nomini/CollectedData_Drago Guggiana.h5  not found (perhaps not annotated)\n",
      "D:\\DLC_projects\\Prey_capture\\Prey_capture-Drago Guggiana-2020-03-26\\labeled-data\\12_04_2019_16_01_30_miniscope_MM_191107_a_succ_nomini/CollectedData_Drago Guggiana.h5  not found (perhaps not annotated)\n",
      "D:\\DLC_projects\\Prey_capture\\Prey_capture-Drago Guggiana-2020-03-26\\labeled-data\\12_04_2019_16_07_38_miniscope_MM_191108_a_succ_nomini/CollectedData_Drago Guggiana.h5  not found (perhaps not annotated)\n",
      "D:\\DLC_projects\\Prey_capture\\Prey_capture-Drago Guggiana-2020-03-26\\labeled-data\\12_04_2019_16_13_30_miniscope_MM_191108_a_succ_nomini/CollectedData_Drago Guggiana.h5  not found (perhaps not annotated)\n",
      "D:\\DLC_projects\\Prey_capture\\Prey_capture-Drago Guggiana-2020-03-26\\labeled-data\\12_04_2019_16_18_37_miniscope_MM_191108_a_succ_nomini/CollectedData_Drago Guggiana.h5  not found (perhaps not annotated)\n",
      "D:\\DLC_projects\\Prey_capture\\Prey_capture-Drago Guggiana-2020-03-26\\labeled-data\\12_04_2019_16_27_21_miniscope_MM_191108_a_succ_nomini/CollectedData_Drago Guggiana.h5  not found (perhaps not annotated)\n",
      "D:\\DLC_projects\\Prey_capture\\Prey_capture-Drago Guggiana-2020-03-26\\labeled-data\\12_04_2019_16_39_29_miniscope_MM_191105_a_succ_nomini/CollectedData_Drago Guggiana.h5  not found (perhaps not annotated)\n",
      "D:\\DLC_projects\\Prey_capture\\Prey_capture-Drago Guggiana-2020-03-26\\labeled-data\\12_04_2019_16_44_23_miniscope_MM_191105_a_succ_nomini/CollectedData_Drago Guggiana.h5  not found (perhaps not annotated)\n",
      "D:\\DLC_projects\\Prey_capture\\Prey_capture-Drago Guggiana-2020-03-26\\labeled-data\\12_04_2019_16_48_26_miniscope_MM_191105_a_succ_nomini/CollectedData_Drago Guggiana.h5  not found (perhaps not annotated)\n",
      "D:\\DLC_projects\\Prey_capture\\Prey_capture-Drago Guggiana-2020-03-26\\labeled-data\\12_04_2019_16_53_11_miniscope_MM_191105_a_succ_nomini/CollectedData_Drago Guggiana.h5  not found (perhaps not annotated)\n",
      "D:\\DLC_projects\\Prey_capture\\Prey_capture-Drago Guggiana-2020-03-26\\labeled-data\\12_06_2019_14_00_21_miniscope_MM_191105_a_succ_nomini/CollectedData_Drago Guggiana.h5  not found (perhaps not annotated)\n"
     ]
    },
    {
     "name": "stdout",
     "output_type": "stream",
     "text": [
      "D:\\DLC_projects\\Prey_capture\\Prey_capture-Drago Guggiana-2020-03-26\\labeled-data\\12_06_2019_14_07_11_miniscope_MM_191105_a_succ_nomini/CollectedData_Drago Guggiana.h5  not found (perhaps not annotated)\n",
      "D:\\DLC_projects\\Prey_capture\\Prey_capture-Drago Guggiana-2020-03-26\\labeled-data\\12_06_2019_14_15_39_miniscope_MM_191105_a_succ_nomini/CollectedData_Drago Guggiana.h5  not found (perhaps not annotated)\n",
      "D:\\DLC_projects\\Prey_capture\\Prey_capture-Drago Guggiana-2020-03-26\\labeled-data\\12_06_2019_14_21_20_miniscope_MM_191105_a_succ_nomini/CollectedData_Drago Guggiana.h5  not found (perhaps not annotated)\n",
      "D:\\DLC_projects\\Prey_capture\\Prey_capture-Drago Guggiana-2020-03-26\\labeled-data\\12_06_2019_14_47_35_miniscope_MM_191106_a_succ_nomini/CollectedData_Drago Guggiana.h5  not found (perhaps not annotated)\n",
      "D:\\DLC_projects\\Prey_capture\\Prey_capture-Drago Guggiana-2020-03-26\\labeled-data\\12_06_2019_14_50_58_miniscope_MM_191106_a_succ_nomini/CollectedData_Drago Guggiana.h5  not found (perhaps not annotated)\n",
      "D:\\DLC_projects\\Prey_capture\\Prey_capture-Drago Guggiana-2020-03-26\\labeled-data\\12_06_2019_14_55_56_miniscope_MM_191106_a_succ_nomini/CollectedData_Drago Guggiana.h5  not found (perhaps not annotated)\n",
      "D:\\DLC_projects\\Prey_capture\\Prey_capture-Drago Guggiana-2020-03-26\\labeled-data\\12_06_2019_15_04_44_miniscope_MM_191107_a_succ_nomini/CollectedData_Drago Guggiana.h5  not found (perhaps not annotated)\n",
      "D:\\DLC_projects\\Prey_capture\\Prey_capture-Drago Guggiana-2020-03-26\\labeled-data\\12_06_2019_15_13_44_miniscope_MM_191107_a_succ_nomini/CollectedData_Drago Guggiana.h5  not found (perhaps not annotated)\n",
      "D:\\DLC_projects\\Prey_capture\\Prey_capture-Drago Guggiana-2020-03-26\\labeled-data\\12_06_2019_15_18_15_miniscope_MM_191107_a_succ_nomini/CollectedData_Drago Guggiana.h5  not found (perhaps not annotated)\n",
      "D:\\DLC_projects\\Prey_capture\\Prey_capture-Drago Guggiana-2020-03-26\\labeled-data\\12_07_2019_15_01_31_miniscope_MM_191108_a_succ/CollectedData_Drago Guggiana.h5  not found (perhaps not annotated)\n",
      "D:\\DLC_projects\\Prey_capture\\Prey_capture-Drago Guggiana-2020-03-26\\labeled-data\\12_07_2019_15_06_28_miniscope_MM_191108_a_succ/CollectedData_Drago Guggiana.h5  not found (perhaps not annotated)\n",
      "D:\\DLC_projects\\Prey_capture\\Prey_capture-Drago Guggiana-2020-03-26\\labeled-data\\12_07_2019_15_11_16_miniscope_MM_191108_a_succ/CollectedData_Drago Guggiana.h5  not found (perhaps not annotated)\n",
      "D:\\DLC_projects\\Prey_capture\\Prey_capture-Drago Guggiana-2020-03-26\\labeled-data\\12_07_2019_15_15_49_miniscope_MM_191108_a_succ/CollectedData_Drago Guggiana.h5  not found (perhaps not annotated)\n",
      "D:\\DLC_projects\\Prey_capture\\Prey_capture-Drago Guggiana-2020-03-26\\labeled-data\\12_07_2019_15_20_56_miniscope_MM_191108_a_succ/CollectedData_Drago Guggiana.h5  not found (perhaps not annotated)\n",
      "D:\\DLC_projects\\Prey_capture\\Prey_capture-Drago Guggiana-2020-03-26\\labeled-data\\12_07_2019_15_24_53_miniscope_MM_191108_a_succ/CollectedData_Drago Guggiana.h5  not found (perhaps not annotated)\n",
      "D:\\DLC_projects\\Prey_capture\\Prey_capture-Drago Guggiana-2020-03-26\\labeled-data\\12_07_2019_15_34_47_miniscope_MM_191108_a_succ/CollectedData_Drago Guggiana.h5  not found (perhaps not annotated)\n",
      "D:\\DLC_projects\\Prey_capture\\Prey_capture-Drago Guggiana-2020-03-26\\labeled-data\\12_07_2019_15_39_33_miniscope_MM_191108_a_succ/CollectedData_Drago Guggiana.h5  not found (perhaps not annotated)\n",
      "D:\\DLC_projects\\Prey_capture\\Prey_capture-Drago Guggiana-2020-03-26\\labeled-data\\12_07_2019_15_43_37_miniscope_MM_191108_a_succ/CollectedData_Drago Guggiana.h5  not found (perhaps not annotated)\n",
      "D:\\DLC_projects\\Prey_capture\\Prey_capture-Drago Guggiana-2020-03-26\\labeled-data\\12_07_2019_15_47_28_miniscope_MM_191108_a_succ/CollectedData_Drago Guggiana.h5  not found (perhaps not annotated)\n",
      "D:\\DLC_projects\\Prey_capture\\Prey_capture-Drago Guggiana-2020-03-26\\labeled-data\\12_07_2019_15_52_11_miniscope_MM_191108_a_succ/CollectedData_Drago Guggiana.h5  not found (perhaps not annotated)\n",
      "D:\\DLC_projects\\Prey_capture\\Prey_capture-Drago Guggiana-2020-03-26\\labeled-data\\12_07_2019_15_56_10_miniscope_MM_191108_a_fail/CollectedData_Drago Guggiana.h5  not found (perhaps not annotated)\n",
      "D:\\DLC_projects\\Prey_capture\\Prey_capture-Drago Guggiana-2020-03-26\\labeled-data\\12_07_2019_16_05_30_miniscope_MM_191105_a_succ_nomini/CollectedData_Drago Guggiana.h5  not found (perhaps not annotated)\n",
      "D:\\DLC_projects\\Prey_capture\\Prey_capture-Drago Guggiana-2020-03-26\\labeled-data\\12_07_2019_16_09_54_miniscope_MM_191105_a_succ_nomini/CollectedData_Drago Guggiana.h5  not found (perhaps not annotated)\n",
      "D:\\DLC_projects\\Prey_capture\\Prey_capture-Drago Guggiana-2020-03-26\\labeled-data\\12_07_2019_16_18_20_miniscope_MM_191106_a_succ_nomini/CollectedData_Drago Guggiana.h5  not found (perhaps not annotated)\n",
      "D:\\DLC_projects\\Prey_capture\\Prey_capture-Drago Guggiana-2020-03-26\\labeled-data\\12_07_2019_16_23_23_miniscope_MM_191106_a_succ_nomini/CollectedData_Drago Guggiana.h5  not found (perhaps not annotated)\n",
      "D:\\DLC_projects\\Prey_capture\\Prey_capture-Drago Guggiana-2020-03-26\\labeled-data\\12_07_2019_16_29_31_miniscope_MM_191107_a_succ_nomini/CollectedData_Drago Guggiana.h5  not found (perhaps not annotated)\n",
      "D:\\DLC_projects\\Prey_capture\\Prey_capture-Drago Guggiana-2020-03-26\\labeled-data\\12_07_2019_16_38_08_miniscope_MM_191107_a_succ_nomini/CollectedData_Drago Guggiana.h5  not found (perhaps not annotated)\n",
      "D:\\DLC_projects\\Prey_capture\\Prey_capture-Drago Guggiana-2020-03-26\\labeled-data\\12_09_2019_15_04_06_miniscope_MM_191108_a_succ/CollectedData_Drago Guggiana.h5  not found (perhaps not annotated)\n",
      "D:\\DLC_projects\\Prey_capture\\Prey_capture-Drago Guggiana-2020-03-26\\labeled-data\\12_09_2019_15_08_33_miniscope_MM_191108_a_succ/CollectedData_Drago Guggiana.h5  not found (perhaps not annotated)\n",
      "D:\\DLC_projects\\Prey_capture\\Prey_capture-Drago Guggiana-2020-03-26\\labeled-data\\12_09_2019_15_12_24_miniscope_MM_191108_a_succ/CollectedData_Drago Guggiana.h5  not found (perhaps not annotated)\n",
      "D:\\DLC_projects\\Prey_capture\\Prey_capture-Drago Guggiana-2020-03-26\\labeled-data\\12_09_2019_15_16_05_miniscope_MM_191108_a_succ/CollectedData_Drago Guggiana.h5  not found (perhaps not annotated)\n",
      "D:\\DLC_projects\\Prey_capture\\Prey_capture-Drago Guggiana-2020-03-26\\labeled-data\\12_09_2019_15_21_10_miniscope_MM_191108_a_succ/CollectedData_Drago Guggiana.h5  not found (perhaps not annotated)\n",
      "D:\\DLC_projects\\Prey_capture\\Prey_capture-Drago Guggiana-2020-03-26\\labeled-data\\12_09_2019_15_25_14_miniscope_MM_191108_a_succ/CollectedData_Drago Guggiana.h5  not found (perhaps not annotated)\n",
      "D:\\DLC_projects\\Prey_capture\\Prey_capture-Drago Guggiana-2020-03-26\\labeled-data\\12_09_2019_15_30_13_miniscope_MM_191108_a_succ/CollectedData_Drago Guggiana.h5  not found (perhaps not annotated)\n",
      "D:\\DLC_projects\\Prey_capture\\Prey_capture-Drago Guggiana-2020-03-26\\labeled-data\\12_09_2019_15_34_10_miniscope_MM_191108_a_succ/CollectedData_Drago Guggiana.h5  not found (perhaps not annotated)\n",
      "D:\\DLC_projects\\Prey_capture\\Prey_capture-Drago Guggiana-2020-03-26\\labeled-data\\12_09_2019_16_30_00_miniscope_MM_191105_a_succ_nomini/CollectedData_Drago Guggiana.h5  not found (perhaps not annotated)\n",
      "D:\\DLC_projects\\Prey_capture\\Prey_capture-Drago Guggiana-2020-03-26\\labeled-data\\12_09_2019_16_34_39_miniscope_MM_191105_a_succ_nomini/CollectedData_Drago Guggiana.h5  not found (perhaps not annotated)\n",
      "D:\\DLC_projects\\Prey_capture\\Prey_capture-Drago Guggiana-2020-03-26\\labeled-data\\12_09_2019_16_38_36_miniscope_MM_191105_a_succ_nomini/CollectedData_Drago Guggiana.h5  not found (perhaps not annotated)\n",
      "D:\\DLC_projects\\Prey_capture\\Prey_capture-Drago Guggiana-2020-03-26\\labeled-data\\12_09_2019_16_41_05_miniscope_MM_191105_a_succ_nomini/CollectedData_Drago Guggiana.h5  not found (perhaps not annotated)\n",
      "D:\\DLC_projects\\Prey_capture\\Prey_capture-Drago Guggiana-2020-03-26\\labeled-data\\12_09_2019_16_46_19_miniscope_MM_191106_a_succ_nomini/CollectedData_Drago Guggiana.h5  not found (perhaps not annotated)\n",
      "D:\\DLC_projects\\Prey_capture\\Prey_capture-Drago Guggiana-2020-03-26\\labeled-data\\12_09_2019_16_49_50_miniscope_MM_191106_a_succ_nomini/CollectedData_Drago Guggiana.h5  not found (perhaps not annotated)\n",
      "D:\\DLC_projects\\Prey_capture\\Prey_capture-Drago Guggiana-2020-03-26\\labeled-data\\12_09_2019_16_53_42_miniscope_MM_191106_a_succ_nomini/CollectedData_Drago Guggiana.h5  not found (perhaps not annotated)\n",
      "D:\\DLC_projects\\Prey_capture\\Prey_capture-Drago Guggiana-2020-03-26\\labeled-data\\12_09_2019_16_58_58_miniscope_MM_191107_a_succ_nomini/CollectedData_Drago Guggiana.h5  not found (perhaps not annotated)\n",
      "D:\\DLC_projects\\Prey_capture\\Prey_capture-Drago Guggiana-2020-03-26\\labeled-data\\12_09_2019_17_01_33_miniscope_MM_191107_a_succ_bad_track_nomini/CollectedData_Drago Guggiana.h5  not found (perhaps not annotated)\n",
      "D:\\DLC_projects\\Prey_capture\\Prey_capture-Drago Guggiana-2020-03-26\\labeled-data\\12_09_2019_17_04_36_miniscope_MM_191107_a_succ_nomini/CollectedData_Drago Guggiana.h5  not found (perhaps not annotated)\n",
      "D:\\DLC_projects\\Prey_capture\\Prey_capture-Drago Guggiana-2020-03-26\\labeled-data\\12_10_2019_15_00_45_miniscope_MM_191108_a_succ/CollectedData_Drago Guggiana.h5  not found (perhaps not annotated)\n",
      "D:\\DLC_projects\\Prey_capture\\Prey_capture-Drago Guggiana-2020-03-26\\labeled-data\\12_10_2019_15_05_17_miniscope_MM_191108_a_succ/CollectedData_Drago Guggiana.h5  not found (perhaps not annotated)\n",
      "D:\\DLC_projects\\Prey_capture\\Prey_capture-Drago Guggiana-2020-03-26\\labeled-data\\12_10_2019_15_10_23_miniscope_MM_191108_a_succ/CollectedData_Drago Guggiana.h5  not found (perhaps not annotated)\n",
      "D:\\DLC_projects\\Prey_capture\\Prey_capture-Drago Guggiana-2020-03-26\\labeled-data\\12_10_2019_15_15_08_miniscope_MM_191108_a_succ/CollectedData_Drago Guggiana.h5  not found (perhaps not annotated)\n",
      "D:\\DLC_projects\\Prey_capture\\Prey_capture-Drago Guggiana-2020-03-26\\labeled-data\\12_10_2019_15_19_56_miniscope_MM_191108_a_succ/CollectedData_Drago Guggiana.h5  not found (perhaps not annotated)\n",
      "D:\\DLC_projects\\Prey_capture\\Prey_capture-Drago Guggiana-2020-03-26\\labeled-data\\12_10_2019_15_23_16_miniscope_MM_191108_a_fail/CollectedData_Drago Guggiana.h5  not found (perhaps not annotated)\n",
      "D:\\DLC_projects\\Prey_capture\\Prey_capture-Drago Guggiana-2020-03-26\\labeled-data\\12_10_2019_15_30_07_miniscope_MM_191108_a_succ/CollectedData_Drago Guggiana.h5  not found (perhaps not annotated)\n",
      "D:\\DLC_projects\\Prey_capture\\Prey_capture-Drago Guggiana-2020-03-26\\labeled-data\\12_10_2019_15_35_36_miniscope_MM_191108_a_succ/CollectedData_Drago Guggiana.h5  not found (perhaps not annotated)\n",
      "D:\\DLC_projects\\Prey_capture\\Prey_capture-Drago Guggiana-2020-03-26\\labeled-data\\12_10_2019_15_39_55_miniscope_MM_191108_a_succ/CollectedData_Drago Guggiana.h5  not found (perhaps not annotated)\n",
      "D:\\DLC_projects\\Prey_capture\\Prey_capture-Drago Guggiana-2020-03-26\\labeled-data\\12_10_2019_15_43_20_miniscope_MM_191108_a_fail/CollectedData_Drago Guggiana.h5  not found (perhaps not annotated)\n",
      "D:\\DLC_projects\\Prey_capture\\Prey_capture-Drago Guggiana-2020-03-26\\labeled-data\\12_10_2019_16_36_38_miniscope_MM_191106_a_succ_nomini/CollectedData_Drago Guggiana.h5  not found (perhaps not annotated)\n",
      "D:\\DLC_projects\\Prey_capture\\Prey_capture-Drago Guggiana-2020-03-26\\labeled-data\\12_10_2019_16_44_10_miniscope_MM_191107_a_succ_nomini/CollectedData_Drago Guggiana.h5  not found (perhaps not annotated)\n",
      "D:\\DLC_projects\\Prey_capture\\Prey_capture-Drago Guggiana-2020-03-26\\labeled-data\\12_10_2019_16_48_14_miniscope_MM_191107_a_succ_nomini/CollectedData_Drago Guggiana.h5  not found (perhaps not annotated)\n",
      "D:\\DLC_projects\\Prey_capture\\Prey_capture-Drago Guggiana-2020-03-26\\labeled-data\\12_10_2019_16_53_34_miniscope_MM_191107_a_succ_nomini/CollectedData_Drago Guggiana.h5  not found (perhaps not annotated)\n",
      "D:\\DLC_projects\\Prey_capture\\Prey_capture-Drago Guggiana-2020-03-26\\labeled-data\\12_10_2019_16_57_26_miniscope_MM_191107_a_succ_nomini/CollectedData_Drago Guggiana.h5  not found (perhaps not annotated)\n",
      "D:\\DLC_projects\\Prey_capture\\Prey_capture-Drago Guggiana-2020-03-26\\labeled-data\\12_11_2019_16_45_12_miniscope_MM_191108_a_succ/CollectedData_Drago Guggiana.h5  not found (perhaps not annotated)\n",
      "D:\\DLC_projects\\Prey_capture\\Prey_capture-Drago Guggiana-2020-03-26\\labeled-data\\12_11_2019_16_49_04_miniscope_MM_191108_a_succ_miniscopeafterbonsai/CollectedData_Drago Guggiana.h5  not found (perhaps not annotated)\n",
      "D:\\DLC_projects\\Prey_capture\\Prey_capture-Drago Guggiana-2020-03-26\\labeled-data\\12_11_2019_16_53_36_miniscope_MM_191108_a_succ/CollectedData_Drago Guggiana.h5  not found (perhaps not annotated)\n",
      "D:\\DLC_projects\\Prey_capture\\Prey_capture-Drago Guggiana-2020-03-26\\labeled-data\\12_11_2019_16_56_38_miniscope_MM_191108_a_succ/CollectedData_Drago Guggiana.h5  not found (perhaps not annotated)\n",
      "D:\\DLC_projects\\Prey_capture\\Prey_capture-Drago Guggiana-2020-03-26\\labeled-data\\12_11_2019_17_01_21_miniscope_MM_191108_a_succ/CollectedData_Drago Guggiana.h5  not found (perhaps not annotated)\n",
      "D:\\DLC_projects\\Prey_capture\\Prey_capture-Drago Guggiana-2020-03-26\\labeled-data\\12_11_2019_17_05_25_miniscope_MM_191108_a_succ/CollectedData_Drago Guggiana.h5  not found (perhaps not annotated)\n",
      "D:\\DLC_projects\\Prey_capture\\Prey_capture-Drago Guggiana-2020-03-26\\labeled-data\\12_11_2019_17_09_52_miniscope_MM_191108_a_succ/CollectedData_Drago Guggiana.h5  not found (perhaps not annotated)\n",
      "D:\\DLC_projects\\Prey_capture\\Prey_capture-Drago Guggiana-2020-03-26\\labeled-data\\12_11_2019_17_14_34_miniscope_MM_191108_a_fail_miniscopeafterbonsai/CollectedData_Drago Guggiana.h5  not found (perhaps not annotated)\n",
      "D:\\DLC_projects\\Prey_capture\\Prey_capture-Drago Guggiana-2020-03-26\\labeled-data\\12_12_2019_14_58_00_miniscope_MM_191108_a_succ_nofluo/CollectedData_Drago Guggiana.h5  not found (perhaps not annotated)\n",
      "D:\\DLC_projects\\Prey_capture\\Prey_capture-Drago Guggiana-2020-03-26\\labeled-data\\12_12_2019_15_00_56_miniscope_MM_191108_a_succ/CollectedData_Drago Guggiana.h5  not found (perhaps not annotated)\n",
      "D:\\DLC_projects\\Prey_capture\\Prey_capture-Drago Guggiana-2020-03-26\\labeled-data\\12_12_2019_15_04_45_miniscope_MM_191108_a_succ/CollectedData_Drago Guggiana.h5  not found (perhaps not annotated)\n",
      "D:\\DLC_projects\\Prey_capture\\Prey_capture-Drago Guggiana-2020-03-26\\labeled-data\\12_12_2019_15_08_15_miniscope_MM_191108_a_succ/CollectedData_Drago Guggiana.h5  not found (perhaps not annotated)\n",
      "D:\\DLC_projects\\Prey_capture\\Prey_capture-Drago Guggiana-2020-03-26\\labeled-data\\12_12_2019_15_11_45_miniscope_MM_191108_a_fail/CollectedData_Drago Guggiana.h5  not found (perhaps not annotated)\n",
      "D:\\DLC_projects\\Prey_capture\\Prey_capture-Drago Guggiana-2020-03-26\\labeled-data\\12_12_2019_15_16_04_miniscope_MM_191108_a_succ/CollectedData_Drago Guggiana.h5  not found (perhaps not annotated)\n",
      "D:\\DLC_projects\\Prey_capture\\Prey_capture-Drago Guggiana-2020-03-26\\labeled-data\\12_12_2019_15_27_48_miniscope_MM_191108_a_succ/CollectedData_Drago Guggiana.h5  not found (perhaps not annotated)\n",
      "D:\\DLC_projects\\Prey_capture\\Prey_capture-Drago Guggiana-2020-03-26\\labeled-data\\12_12_2019_15_32_29_miniscope_MM_191108_a_succ/CollectedData_Drago Guggiana.h5  not found (perhaps not annotated)\n",
      "D:\\DLC_projects\\Prey_capture\\Prey_capture-Drago Guggiana-2020-03-26\\labeled-data\\12_16_2019_16_27_17_miniscope_MM_191108_a_succ/CollectedData_Drago Guggiana.h5  not found (perhaps not annotated)\n",
      "D:\\DLC_projects\\Prey_capture\\Prey_capture-Drago Guggiana-2020-03-26\\labeled-data\\12_16_2019_16_31_08_miniscope_MM_191108_a_succ/CollectedData_Drago Guggiana.h5  not found (perhaps not annotated)\n",
      "D:\\DLC_projects\\Prey_capture\\Prey_capture-Drago Guggiana-2020-03-26\\labeled-data\\12_16_2019_16_34_45_miniscope_MM_191108_a_fail/CollectedData_Drago Guggiana.h5  not found (perhaps not annotated)\n"
     ]
    },
    {
     "name": "stdout",
     "output_type": "stream",
     "text": [
      "The training dataset is successfully created. Use the function 'train_network' to start training. Happy training!\n"
     ]
    },
    {
     "data": {
      "text/plain": [
       "[(0.95,\n",
       "  1,\n",
       "  (array([ 64, 156, 121,  39, 179, 369, 297,  80, 208, 372, 264, 462, 123,\n",
       "          356, 233,  44, 430, 343,  14, 135, 180, 134, 365, 315, 319, 119,\n",
       "          326, 330, 155, 313, 186,  35,   0, 292, 351, 348, 390, 210, 220,\n",
       "          248, 340, 435, 279, 280, 257, 247, 168, 226, 276, 230, 232, 438,\n",
       "          357, 385, 193,  28,  47, 152,  65, 431, 283,  84, 464, 197, 318,\n",
       "           34, 195,  75, 491, 255,  83, 332, 204,  49, 425, 459, 207, 294,\n",
       "          406, 493, 164, 485, 241, 218, 469, 353, 306, 273, 182, 416, 335,\n",
       "          420, 370, 132, 274, 304, 174, 363, 371, 254, 289, 105, 228, 300,\n",
       "          183, 249, 298, 339, 428, 496, 427, 120, 113, 429, 424, 256,  68,\n",
       "           89, 159, 305, 375, 146, 277, 477, 498,  77,  69, 404, 169, 166,\n",
       "          149, 466, 171, 421, 413,  53, 114, 242, 451, 205, 495,  17, 234,\n",
       "          446, 472, 196,  29, 442, 163, 191, 392,  67, 131, 396,  55, 337,\n",
       "          222,  60, 384, 327, 490, 127, 454,  37, 115, 221, 284, 445, 211,\n",
       "           41,  36, 201, 362,  10, 263,  13,   9, 151, 471, 133, 389, 341,\n",
       "          252, 272, 260, 411, 299,  19, 367, 288, 148, 108, 358,   8, 483,\n",
       "          374,  11,  96, 240,  59,  20, 124, 329, 380, 395,  71, 310, 377,\n",
       "          243,  38, 101,  98, 167,  15, 189,  63,  78, 158, 386, 333, 265,\n",
       "           27, 455, 200,  26, 355, 161, 317, 393,  43,  72, 199,  86, 476,\n",
       "           57, 194,  50,  54, 487, 402, 383,  70,   5,  97, 285, 322, 192,\n",
       "          291,  42, 202, 244,  81, 457, 350,  52, 217, 361, 268, 465, 314,\n",
       "          324, 184, 470, 275, 296, 117, 223, 359,  85, 342, 214,  16, 162,\n",
       "          141, 216, 325, 349, 412, 463, 373,  79, 238, 302, 308, 130, 237,\n",
       "          323, 287, 209, 178, 482, 136, 376, 423, 456, 381,  87, 118, 170,\n",
       "          479,  58, 448, 295, 489, 419, 129, 231, 102, 203, 110, 486, 172,\n",
       "          379, 142, 261, 213, 145, 410, 405, 111,  24, 352, 229, 112, 251,\n",
       "          444,  82,  66, 321,  32, 104, 224, 175, 290,  95, 103, 354, 137,\n",
       "          190, 474, 282, 126, 320,  56, 460, 122, 293, 468,  76, 262, 417,\n",
       "          267, 452,   2, 366, 206, 181, 484, 278, 125, 473, 407,  21, 198,\n",
       "           92, 378, 409, 426, 188, 100, 382, 497, 150, 397, 336, 345, 436,\n",
       "          391, 303,  25, 309, 360,  90, 334, 107, 368, 236, 227,  88, 364,\n",
       "          116, 154,  46,  31,  94, 245, 140, 398, 271, 440, 219, 494, 311,\n",
       "          439, 458, 235, 173, 253,   4, 109,  12, 331, 160,  93,  61,  33,\n",
       "          312, 270, 157, 147, 301, 441,  23, 388, 449, 443, 266,  73, 467,\n",
       "           99,   3, 481, 215, 415, 286, 394, 492,  18, 187, 239, 400, 225,\n",
       "          165, 461, 387, 307, 128, 269,  22, 106,   6,  51, 403, 328, 176,\n",
       "           48, 347, 212, 153, 480,  40, 185, 478, 414, 144, 422, 399, 447,\n",
       "          138, 246,  62, 346,  91, 338]),\n",
       "   array([281,   1, 488, 259, 258,  30, 418, 433, 177,  74, 408, 401, 437,\n",
       "          432, 344, 139,   7, 316, 475, 143, 434, 250, 450, 453,  45])))]"
      ]
     },
     "execution_count": 10,
     "metadata": {},
     "output_type": "execute_result"
    }
   ],
   "source": [
    "# create the training set\n",
    "# also creates the Pose.yaml in the dlc-models/train dataset, which contains the setting for training, i.e. take a look\n",
    "deeplabcut.create_training_dataset(config_path, augmenter_type = 'imgaug')"
   ]
  },
  {
   "cell_type": "code",
   "execution_count": 12,
   "metadata": {
    "collapsed": true
   },
   "outputs": [
    {
     "name": "stderr",
     "output_type": "stream",
     "text": [
      "Config:\n",
      "{'all_joints': [[0], [1], [2]],\n",
      " 'all_joints_names': ['mouseHead', 'mouseBody', 'cricket'],\n",
      " 'batch_size': 1,\n",
      " 'bottomheight': 400,\n",
      " 'crop': True,\n",
      " 'crop_pad': 0,\n",
      " 'cropratio': 0.4,\n",
      " 'dataset': 'training-datasets\\\\iteration-1\\\\UnaugmentedDataSet_Prey_captureMar26\\\\Prey_capture_Drago '\n",
      "            'Guggiana95shuffle1.mat',\n",
      " 'dataset_type': 'imgaug',\n",
      " 'deconvolutionstride': 2,\n",
      " 'deterministic': False,\n",
      " 'display_iters': 1000,\n",
      " 'fg_fraction': 0.25,\n",
      " 'global_scale': 0.5,\n",
      " 'init_weights': 'D:\\\\ProgramData\\\\Miniconda3\\\\envs\\\\DLC-GPU\\\\lib\\\\site-packages\\\\deeplabcut\\\\pose_estimation_tensorflow\\\\models\\\\pretrained\\\\resnet_v1_50.ckpt',\n",
      " 'intermediate_supervision': False,\n",
      " 'intermediate_supervision_layer': 12,\n",
      " 'leftwidth': 400,\n",
      " 'location_refinement': True,\n",
      " 'locref_huber_loss': True,\n",
      " 'locref_loss_weight': 0.05,\n",
      " 'locref_stdev': 7.2801,\n",
      " 'log_dir': 'log',\n",
      " 'max_input_size': 1500,\n",
      " 'mean_pixel': [123.68, 116.779, 103.939],\n",
      " 'metadataset': 'training-datasets\\\\iteration-1\\\\UnaugmentedDataSet_Prey_captureMar26\\\\Documentation_data-Prey_capture_95shuffle1.pickle',\n",
      " 'min_input_size': 64,\n",
      " 'minsize': 100,\n",
      " 'mirror': False,\n",
      " 'multi_step': [[0.005, 10000],\n",
      "                [0.02, 430000],\n",
      "                [0.002, 730000],\n",
      "                [0.001, 1030000]],\n",
      " 'net_type': 'resnet_50',\n",
      " 'num_joints': 3,\n",
      " 'optimizer': 'sgd',\n",
      " 'output_stride': 16,\n",
      " 'pos_dist_thresh': 17,\n",
      " 'project_path': 'D:\\\\DLC_projects\\\\Prey_capture\\\\Prey_capture-Drago '\n",
      "                 'Guggiana-2020-03-26',\n",
      " 'regularize': False,\n",
      " 'rightwidth': 400,\n",
      " 'save_iters': 50000,\n",
      " 'scale_jitter_lo': 0.5,\n",
      " 'scale_jitter_up': 1.25,\n",
      " 'scoremap_dir': 'test',\n",
      " 'shuffle': True,\n",
      " 'snapshot_prefix': 'D:\\\\DLC_projects\\\\Prey_capture\\\\Prey_capture-Drago '\n",
      "                    'Guggiana-2020-03-26\\\\dlc-models\\\\iteration-1\\\\Prey_captureMar26-trainset95shuffle1\\\\train\\\\snapshot',\n",
      " 'stride': 8.0,\n",
      " 'topheight': 400,\n",
      " 'weigh_negatives': False,\n",
      " 'weigh_only_present_joints': False,\n",
      " 'weigh_part_predictions': False,\n",
      " 'weight_decay': 0.0001}\n"
     ]
    },
    {
     "name": "stdout",
     "output_type": "stream",
     "text": [
      "Starting with imgaug pose-dataset loader.\n",
      "Batch Size is 1\n",
      "Initializing ResNet\n",
      "Loading ImageNet-pretrained resnet_50\n",
      "INFO:tensorflow:Restoring parameters from D:\\ProgramData\\Miniconda3\\envs\\DLC-GPU\\lib\\site-packages\\deeplabcut\\pose_estimation_tensorflow\\models\\pretrained\\resnet_v1_50.ckpt\n",
      "Training parameter:\n",
      "{'stride': 8.0, 'weigh_part_predictions': False, 'weigh_negatives': False, 'fg_fraction': 0.25, 'weigh_only_present_joints': False, 'mean_pixel': [123.68, 116.779, 103.939], 'shuffle': True, 'snapshot_prefix': 'D:\\\\DLC_projects\\\\Prey_capture\\\\Prey_capture-Drago Guggiana-2020-03-26\\\\dlc-models\\\\iteration-1\\\\Prey_captureMar26-trainset95shuffle1\\\\train\\\\snapshot', 'log_dir': 'log', 'global_scale': 0.5, 'location_refinement': True, 'locref_stdev': 7.2801, 'locref_loss_weight': 0.05, 'locref_huber_loss': True, 'optimizer': 'sgd', 'intermediate_supervision': False, 'intermediate_supervision_layer': 12, 'regularize': False, 'weight_decay': 0.0001, 'mirror': False, 'crop_pad': 0, 'scoremap_dir': 'test', 'batch_size': 1, 'dataset_type': 'imgaug', 'deterministic': False, 'crop': True, 'cropratio': 0.4, 'minsize': 100, 'leftwidth': 400, 'rightwidth': 400, 'topheight': 400, 'bottomheight': 400, 'all_joints': [[0], [1], [2]], 'all_joints_names': ['mouseHead', 'mouseBody', 'cricket'], 'dataset': 'training-datasets\\\\iteration-1\\\\UnaugmentedDataSet_Prey_captureMar26\\\\Prey_capture_Drago Guggiana95shuffle1.mat', 'display_iters': 1000, 'init_weights': 'D:\\\\ProgramData\\\\Miniconda3\\\\envs\\\\DLC-GPU\\\\lib\\\\site-packages\\\\deeplabcut\\\\pose_estimation_tensorflow\\\\models\\\\pretrained\\\\resnet_v1_50.ckpt', 'max_input_size': 1500, 'metadataset': 'training-datasets\\\\iteration-1\\\\UnaugmentedDataSet_Prey_captureMar26\\\\Documentation_data-Prey_capture_95shuffle1.pickle', 'min_input_size': 64, 'multi_step': [[0.005, 10000], [0.02, 430000], [0.002, 730000], [0.001, 1030000]], 'net_type': 'resnet_50', 'num_joints': 3, 'pos_dist_thresh': 17, 'project_path': 'D:\\\\DLC_projects\\\\Prey_capture\\\\Prey_capture-Drago Guggiana-2020-03-26', 'save_iters': 50000, 'scale_jitter_lo': 0.5, 'scale_jitter_up': 1.25, 'output_stride': 16, 'deconvolutionstride': 2}\n",
      "Starting training....\n"
     ]
    },
    {
     "name": "stderr",
     "output_type": "stream",
     "text": [
      "iteration: 1000 loss: 0.0143 lr: 0.005\n",
      "iteration: 2000 loss: 0.0085 lr: 0.005\n",
      "iteration: 3000 loss: 0.0073 lr: 0.005\n",
      "iteration: 4000 loss: 0.0068 lr: 0.005\n",
      "iteration: 5000 loss: 0.0061 lr: 0.005\n",
      "iteration: 6000 loss: 0.0060 lr: 0.005\n",
      "iteration: 7000 loss: 0.0059 lr: 0.005\n",
      "iteration: 8000 loss: 0.0055 lr: 0.005\n",
      "iteration: 9000 loss: 0.0053 lr: 0.005\n",
      "iteration: 10000 loss: 0.0051 lr: 0.005\n",
      "iteration: 11000 loss: 0.0069 lr: 0.02\n",
      "iteration: 12000 loss: 0.0070 lr: 0.02\n",
      "iteration: 13000 loss: 0.0058 lr: 0.02\n",
      "iteration: 14000 loss: 0.0056 lr: 0.02\n",
      "iteration: 15000 loss: 0.0052 lr: 0.02\n",
      "iteration: 16000 loss: 0.0050 lr: 0.02\n",
      "iteration: 17000 loss: 0.0050 lr: 0.02\n",
      "iteration: 18000 loss: 0.0049 lr: 0.02\n",
      "iteration: 19000 loss: 0.0044 lr: 0.02\n",
      "iteration: 20000 loss: 0.0044 lr: 0.02\n",
      "iteration: 21000 loss: 0.0043 lr: 0.02\n",
      "iteration: 22000 loss: 0.0041 lr: 0.02\n",
      "iteration: 23000 loss: 0.0041 lr: 0.02\n",
      "iteration: 24000 loss: 0.0040 lr: 0.02\n",
      "iteration: 25000 loss: 0.0038 lr: 0.02\n",
      "iteration: 26000 loss: 0.0037 lr: 0.02\n",
      "iteration: 27000 loss: 0.0038 lr: 0.02\n",
      "iteration: 28000 loss: 0.0037 lr: 0.02\n",
      "iteration: 29000 loss: 0.0034 lr: 0.02\n",
      "iteration: 30000 loss: 0.0035 lr: 0.02\n",
      "iteration: 31000 loss: 0.0035 lr: 0.02\n",
      "iteration: 32000 loss: 0.0034 lr: 0.02\n",
      "iteration: 33000 loss: 0.0033 lr: 0.02\n",
      "iteration: 34000 loss: 0.0032 lr: 0.02\n",
      "iteration: 35000 loss: 0.0031 lr: 0.02\n",
      "iteration: 36000 loss: 0.0030 lr: 0.02\n",
      "iteration: 37000 loss: 0.0030 lr: 0.02\n",
      "iteration: 38000 loss: 0.0029 lr: 0.02\n",
      "iteration: 39000 loss: 0.0030 lr: 0.02\n",
      "iteration: 40000 loss: 0.0030 lr: 0.02\n",
      "iteration: 41000 loss: 0.0029 lr: 0.02\n",
      "iteration: 42000 loss: 0.0029 lr: 0.02\n",
      "iteration: 43000 loss: 0.0029 lr: 0.02\n",
      "iteration: 44000 loss: 0.0028 lr: 0.02\n",
      "iteration: 45000 loss: 0.0027 lr: 0.02\n",
      "iteration: 46000 loss: 0.0026 lr: 0.02\n",
      "iteration: 47000 loss: 0.0026 lr: 0.02\n",
      "iteration: 48000 loss: 0.0028 lr: 0.02\n",
      "iteration: 49000 loss: 0.0028 lr: 0.02\n",
      "iteration: 50000 loss: 0.0027 lr: 0.02\n",
      "iteration: 51000 loss: 0.0027 lr: 0.02\n",
      "iteration: 52000 loss: 0.0026 lr: 0.02\n",
      "iteration: 53000 loss: 0.0025 lr: 0.02\n",
      "iteration: 54000 loss: 0.0024 lr: 0.02\n",
      "iteration: 55000 loss: 0.0025 lr: 0.02\n",
      "iteration: 56000 loss: 0.0024 lr: 0.02\n",
      "iteration: 57000 loss: 0.0024 lr: 0.02\n",
      "iteration: 58000 loss: 0.0024 lr: 0.02\n",
      "iteration: 59000 loss: 0.0025 lr: 0.02\n",
      "iteration: 60000 loss: 0.0024 lr: 0.02\n",
      "iteration: 61000 loss: 0.0025 lr: 0.02\n",
      "iteration: 62000 loss: 0.0023 lr: 0.02\n",
      "iteration: 63000 loss: 0.0022 lr: 0.02\n",
      "iteration: 64000 loss: 0.0023 lr: 0.02\n",
      "iteration: 65000 loss: 0.0023 lr: 0.02\n",
      "iteration: 66000 loss: 0.0023 lr: 0.02\n",
      "iteration: 67000 loss: 0.0023 lr: 0.02\n",
      "iteration: 68000 loss: 0.0022 lr: 0.02\n",
      "iteration: 69000 loss: 0.0023 lr: 0.02\n",
      "iteration: 70000 loss: 0.0023 lr: 0.02\n",
      "iteration: 71000 loss: 0.0022 lr: 0.02\n",
      "iteration: 72000 loss: 0.0021 lr: 0.02\n",
      "iteration: 73000 loss: 0.0021 lr: 0.02\n",
      "iteration: 74000 loss: 0.0021 lr: 0.02\n",
      "iteration: 75000 loss: 0.0021 lr: 0.02\n",
      "iteration: 76000 loss: 0.0023 lr: 0.02\n",
      "iteration: 77000 loss: 0.0020 lr: 0.02\n",
      "iteration: 78000 loss: 0.0022 lr: 0.02\n",
      "iteration: 79000 loss: 0.0021 lr: 0.02\n",
      "iteration: 80000 loss: 0.0021 lr: 0.02\n",
      "iteration: 81000 loss: 0.0021 lr: 0.02\n",
      "iteration: 82000 loss: 0.0020 lr: 0.02\n",
      "iteration: 83000 loss: 0.0021 lr: 0.02\n",
      "iteration: 84000 loss: 0.0021 lr: 0.02\n",
      "iteration: 85000 loss: 0.0019 lr: 0.02\n",
      "iteration: 86000 loss: 0.0020 lr: 0.02\n",
      "iteration: 87000 loss: 0.0020 lr: 0.02\n",
      "iteration: 88000 loss: 0.0019 lr: 0.02\n",
      "iteration: 89000 loss: 0.0020 lr: 0.02\n",
      "iteration: 90000 loss: 0.0020 lr: 0.02\n",
      "iteration: 91000 loss: 0.0020 lr: 0.02\n",
      "iteration: 92000 loss: 0.0020 lr: 0.02\n",
      "iteration: 93000 loss: 0.0020 lr: 0.02\n",
      "iteration: 94000 loss: 0.0020 lr: 0.02\n",
      "iteration: 95000 loss: 0.0020 lr: 0.02\n",
      "iteration: 96000 loss: 0.0020 lr: 0.02\n",
      "iteration: 97000 loss: 0.0020 lr: 0.02\n",
      "iteration: 98000 loss: 0.0020 lr: 0.02\n",
      "iteration: 99000 loss: 0.0019 lr: 0.02\n",
      "iteration: 100000 loss: 0.0019 lr: 0.02\n",
      "iteration: 101000 loss: 0.0019 lr: 0.02\n",
      "iteration: 102000 loss: 0.0019 lr: 0.02\n",
      "iteration: 103000 loss: 0.0020 lr: 0.02\n",
      "iteration: 104000 loss: 0.0018 lr: 0.02\n",
      "iteration: 105000 loss: 0.0020 lr: 0.02\n",
      "iteration: 106000 loss: 0.0019 lr: 0.02\n",
      "iteration: 107000 loss: 0.0019 lr: 0.02\n",
      "iteration: 108000 loss: 0.0019 lr: 0.02\n",
      "iteration: 109000 loss: 0.0018 lr: 0.02\n",
      "iteration: 110000 loss: 0.0019 lr: 0.02\n",
      "iteration: 111000 loss: 0.0018 lr: 0.02\n",
      "iteration: 112000 loss: 0.0019 lr: 0.02\n",
      "iteration: 113000 loss: 0.0019 lr: 0.02\n",
      "iteration: 114000 loss: 0.0019 lr: 0.02\n",
      "iteration: 115000 loss: 0.0018 lr: 0.02\n",
      "iteration: 116000 loss: 0.0018 lr: 0.02\n",
      "iteration: 117000 loss: 0.0019 lr: 0.02\n",
      "iteration: 118000 loss: 0.0019 lr: 0.02\n",
      "iteration: 119000 loss: 0.0019 lr: 0.02\n",
      "iteration: 120000 loss: 0.0019 lr: 0.02\n",
      "iteration: 121000 loss: 0.0018 lr: 0.02\n",
      "iteration: 122000 loss: 0.0019 lr: 0.02\n",
      "iteration: 123000 loss: 0.0018 lr: 0.02\n",
      "iteration: 124000 loss: 0.0017 lr: 0.02\n",
      "iteration: 125000 loss: 0.0018 lr: 0.02\n",
      "iteration: 126000 loss: 0.0018 lr: 0.02\n",
      "iteration: 127000 loss: 0.0018 lr: 0.02\n",
      "iteration: 128000 loss: 0.0018 lr: 0.02\n",
      "iteration: 129000 loss: 0.0018 lr: 0.02\n",
      "iteration: 130000 loss: 0.0018 lr: 0.02\n",
      "iteration: 131000 loss: 0.0017 lr: 0.02\n",
      "iteration: 132000 loss: 0.0017 lr: 0.02\n",
      "iteration: 133000 loss: 0.0018 lr: 0.02\n",
      "iteration: 134000 loss: 0.0018 lr: 0.02\n",
      "iteration: 135000 loss: 0.0017 lr: 0.02\n",
      "iteration: 136000 loss: 0.0017 lr: 0.02\n",
      "iteration: 137000 loss: 0.0017 lr: 0.02\n",
      "iteration: 138000 loss: 0.0017 lr: 0.02\n",
      "iteration: 139000 loss: 0.0016 lr: 0.02\n",
      "iteration: 140000 loss: 0.0017 lr: 0.02\n",
      "iteration: 141000 loss: 0.0016 lr: 0.02\n",
      "iteration: 142000 loss: 0.0018 lr: 0.02\n",
      "iteration: 143000 loss: 0.0018 lr: 0.02\n",
      "iteration: 144000 loss: 0.0017 lr: 0.02\n",
      "iteration: 145000 loss: 0.0017 lr: 0.02\n",
      "iteration: 146000 loss: 0.0018 lr: 0.02\n",
      "iteration: 147000 loss: 0.0018 lr: 0.02\n",
      "iteration: 148000 loss: 0.0016 lr: 0.02\n",
      "iteration: 149000 loss: 0.0017 lr: 0.02\n",
      "iteration: 150000 loss: 0.0017 lr: 0.02\n",
      "iteration: 151000 loss: 0.0017 lr: 0.02\n",
      "iteration: 152000 loss: 0.0017 lr: 0.02\n",
      "iteration: 153000 loss: 0.0016 lr: 0.02\n",
      "iteration: 154000 loss: 0.0016 lr: 0.02\n",
      "iteration: 155000 loss: 0.0017 lr: 0.02\n",
      "iteration: 156000 loss: 0.0017 lr: 0.02\n",
      "iteration: 157000 loss: 0.0018 lr: 0.02\n",
      "iteration: 158000 loss: 0.0016 lr: 0.02\n",
      "iteration: 159000 loss: 0.0017 lr: 0.02\n",
      "iteration: 160000 loss: 0.0016 lr: 0.02\n",
      "iteration: 161000 loss: 0.0016 lr: 0.02\n",
      "iteration: 162000 loss: 0.0016 lr: 0.02\n",
      "iteration: 163000 loss: 0.0016 lr: 0.02\n",
      "iteration: 164000 loss: 0.0016 lr: 0.02\n",
      "iteration: 165000 loss: 0.0017 lr: 0.02\n",
      "iteration: 166000 loss: 0.0016 lr: 0.02\n",
      "iteration: 167000 loss: 0.0016 lr: 0.02\n",
      "iteration: 168000 loss: 0.0016 lr: 0.02\n",
      "iteration: 169000 loss: 0.0016 lr: 0.02\n",
      "iteration: 170000 loss: 0.0016 lr: 0.02\n",
      "iteration: 171000 loss: 0.0016 lr: 0.02\n",
      "iteration: 172000 loss: 0.0017 lr: 0.02\n",
      "iteration: 173000 loss: 0.0016 lr: 0.02\n",
      "iteration: 174000 loss: 0.0016 lr: 0.02\n",
      "iteration: 175000 loss: 0.0016 lr: 0.02\n",
      "iteration: 176000 loss: 0.0016 lr: 0.02\n",
      "iteration: 177000 loss: 0.0016 lr: 0.02\n",
      "iteration: 178000 loss: 0.0017 lr: 0.02\n",
      "iteration: 179000 loss: 0.0015 lr: 0.02\n",
      "iteration: 180000 loss: 0.0015 lr: 0.02\n",
      "iteration: 181000 loss: 0.0016 lr: 0.02\n",
      "iteration: 182000 loss: 0.0016 lr: 0.02\n",
      "iteration: 183000 loss: 0.0016 lr: 0.02\n",
      "iteration: 184000 loss: 0.0016 lr: 0.02\n",
      "iteration: 185000 loss: 0.0017 lr: 0.02\n",
      "iteration: 186000 loss: 0.0016 lr: 0.02\n",
      "iteration: 187000 loss: 0.0015 lr: 0.02\n",
      "iteration: 188000 loss: 0.0015 lr: 0.02\n",
      "iteration: 189000 loss: 0.0015 lr: 0.02\n",
      "iteration: 190000 loss: 0.0015 lr: 0.02\n",
      "iteration: 191000 loss: 0.0015 lr: 0.02\n",
      "iteration: 192000 loss: 0.0015 lr: 0.02\n",
      "iteration: 193000 loss: 0.0016 lr: 0.02\n",
      "iteration: 194000 loss: 0.0016 lr: 0.02\n",
      "iteration: 195000 loss: 0.0016 lr: 0.02\n",
      "iteration: 196000 loss: 0.0016 lr: 0.02\n",
      "iteration: 197000 loss: 0.0015 lr: 0.02\n",
      "iteration: 198000 loss: 0.0015 lr: 0.02\n",
      "iteration: 199000 loss: 0.0016 lr: 0.02\n",
      "iteration: 200000 loss: 0.0015 lr: 0.02\n",
      "iteration: 201000 loss: 0.0016 lr: 0.02\n",
      "iteration: 202000 loss: 0.0016 lr: 0.02\n",
      "iteration: 203000 loss: 0.0015 lr: 0.02\n",
      "iteration: 204000 loss: 0.0015 lr: 0.02\n",
      "iteration: 205000 loss: 0.0015 lr: 0.02\n",
      "iteration: 206000 loss: 0.0014 lr: 0.02\n",
      "iteration: 207000 loss: 0.0015 lr: 0.02\n",
      "iteration: 208000 loss: 0.0015 lr: 0.02\n"
     ]
    },
    {
     "name": "stderr",
     "output_type": "stream",
     "text": [
      "iteration: 209000 loss: 0.0015 lr: 0.02\n",
      "iteration: 210000 loss: 0.0015 lr: 0.02\n",
      "iteration: 211000 loss: 0.0015 lr: 0.02\n",
      "iteration: 212000 loss: 0.0015 lr: 0.02\n",
      "iteration: 213000 loss: 0.0016 lr: 0.02\n",
      "iteration: 214000 loss: 0.0014 lr: 0.02\n",
      "iteration: 215000 loss: 0.0015 lr: 0.02\n",
      "iteration: 216000 loss: 0.0015 lr: 0.02\n",
      "iteration: 217000 loss: 0.0015 lr: 0.02\n",
      "iteration: 218000 loss: 0.0016 lr: 0.02\n",
      "iteration: 219000 loss: 0.0015 lr: 0.02\n",
      "iteration: 220000 loss: 0.0015 lr: 0.02\n",
      "iteration: 221000 loss: 0.0015 lr: 0.02\n",
      "iteration: 222000 loss: 0.0014 lr: 0.02\n",
      "iteration: 223000 loss: 0.0015 lr: 0.02\n",
      "iteration: 224000 loss: 0.0015 lr: 0.02\n",
      "iteration: 225000 loss: 0.0015 lr: 0.02\n",
      "iteration: 226000 loss: 0.0015 lr: 0.02\n",
      "iteration: 227000 loss: 0.0014 lr: 0.02\n",
      "iteration: 228000 loss: 0.0015 lr: 0.02\n",
      "iteration: 229000 loss: 0.0014 lr: 0.02\n",
      "iteration: 230000 loss: 0.0014 lr: 0.02\n",
      "iteration: 231000 loss: 0.0014 lr: 0.02\n",
      "iteration: 232000 loss: 0.0015 lr: 0.02\n",
      "iteration: 233000 loss: 0.0014 lr: 0.02\n",
      "iteration: 234000 loss: 0.0014 lr: 0.02\n",
      "iteration: 235000 loss: 0.0014 lr: 0.02\n",
      "iteration: 236000 loss: 0.0015 lr: 0.02\n",
      "iteration: 237000 loss: 0.0015 lr: 0.02\n",
      "iteration: 238000 loss: 0.0014 lr: 0.02\n",
      "iteration: 239000 loss: 0.0014 lr: 0.02\n",
      "iteration: 240000 loss: 0.0015 lr: 0.02\n",
      "iteration: 241000 loss: 0.0014 lr: 0.02\n",
      "iteration: 242000 loss: 0.0014 lr: 0.02\n",
      "iteration: 243000 loss: 0.0014 lr: 0.02\n",
      "iteration: 244000 loss: 0.0014 lr: 0.02\n",
      "iteration: 245000 loss: 0.0014 lr: 0.02\n",
      "iteration: 246000 loss: 0.0014 lr: 0.02\n",
      "iteration: 247000 loss: 0.0014 lr: 0.02\n",
      "iteration: 248000 loss: 0.0014 lr: 0.02\n",
      "iteration: 249000 loss: 0.0014 lr: 0.02\n",
      "iteration: 250000 loss: 0.0013 lr: 0.02\n",
      "iteration: 251000 loss: 0.0014 lr: 0.02\n",
      "iteration: 252000 loss: 0.0014 lr: 0.02\n",
      "iteration: 253000 loss: 0.0013 lr: 0.02\n",
      "iteration: 254000 loss: 0.0014 lr: 0.02\n",
      "iteration: 255000 loss: 0.0014 lr: 0.02\n",
      "iteration: 256000 loss: 0.0014 lr: 0.02\n",
      "iteration: 257000 loss: 0.0014 lr: 0.02\n",
      "iteration: 258000 loss: 0.0013 lr: 0.02\n",
      "iteration: 259000 loss: 0.0014 lr: 0.02\n",
      "iteration: 260000 loss: 0.0014 lr: 0.02\n",
      "iteration: 261000 loss: 0.0013 lr: 0.02\n",
      "iteration: 262000 loss: 0.0014 lr: 0.02\n",
      "iteration: 263000 loss: 0.0014 lr: 0.02\n",
      "iteration: 264000 loss: 0.0014 lr: 0.02\n",
      "iteration: 265000 loss: 0.0014 lr: 0.02\n",
      "iteration: 266000 loss: 0.0014 lr: 0.02\n",
      "iteration: 267000 loss: 0.0013 lr: 0.02\n",
      "iteration: 268000 loss: 0.0014 lr: 0.02\n",
      "iteration: 269000 loss: 0.0014 lr: 0.02\n",
      "iteration: 270000 loss: 0.0013 lr: 0.02\n",
      "iteration: 271000 loss: 0.0014 lr: 0.02\n",
      "iteration: 272000 loss: 0.0013 lr: 0.02\n",
      "iteration: 273000 loss: 0.0013 lr: 0.02\n",
      "iteration: 274000 loss: 0.0014 lr: 0.02\n",
      "iteration: 275000 loss: 0.0013 lr: 0.02\n",
      "iteration: 276000 loss: 0.0013 lr: 0.02\n",
      "iteration: 277000 loss: 0.0013 lr: 0.02\n",
      "iteration: 278000 loss: 0.0013 lr: 0.02\n",
      "iteration: 279000 loss: 0.0013 lr: 0.02\n",
      "iteration: 280000 loss: 0.0013 lr: 0.02\n",
      "iteration: 281000 loss: 0.0014 lr: 0.02\n",
      "iteration: 282000 loss: 0.0014 lr: 0.02\n",
      "iteration: 283000 loss: 0.0013 lr: 0.02\n",
      "iteration: 284000 loss: 0.0013 lr: 0.02\n",
      "iteration: 285000 loss: 0.0013 lr: 0.02\n",
      "iteration: 286000 loss: 0.0013 lr: 0.02\n",
      "iteration: 287000 loss: 0.0013 lr: 0.02\n",
      "iteration: 288000 loss: 0.0013 lr: 0.02\n",
      "iteration: 289000 loss: 0.0013 lr: 0.02\n",
      "iteration: 290000 loss: 0.0013 lr: 0.02\n",
      "iteration: 291000 loss: 0.0013 lr: 0.02\n",
      "iteration: 292000 loss: 0.0013 lr: 0.02\n",
      "iteration: 293000 loss: 0.0013 lr: 0.02\n",
      "iteration: 294000 loss: 0.0013 lr: 0.02\n",
      "iteration: 295000 loss: 0.0012 lr: 0.02\n",
      "iteration: 296000 loss: 0.0013 lr: 0.02\n",
      "iteration: 297000 loss: 0.0013 lr: 0.02\n",
      "iteration: 298000 loss: 0.0013 lr: 0.02\n",
      "iteration: 299000 loss: 0.0013 lr: 0.02\n",
      "iteration: 300000 loss: 0.0013 lr: 0.02\n",
      "iteration: 301000 loss: 0.0013 lr: 0.02\n",
      "iteration: 302000 loss: 0.0013 lr: 0.02\n",
      "iteration: 303000 loss: 0.0013 lr: 0.02\n",
      "iteration: 304000 loss: 0.0012 lr: 0.02\n",
      "iteration: 305000 loss: 0.0013 lr: 0.02\n",
      "iteration: 306000 loss: 0.0013 lr: 0.02\n",
      "iteration: 307000 loss: 0.0013 lr: 0.02\n",
      "iteration: 308000 loss: 0.0013 lr: 0.02\n",
      "iteration: 309000 loss: 0.0013 lr: 0.02\n",
      "iteration: 310000 loss: 0.0013 lr: 0.02\n",
      "iteration: 311000 loss: 0.0013 lr: 0.02\n",
      "iteration: 312000 loss: 0.0013 lr: 0.02\n",
      "iteration: 313000 loss: 0.0013 lr: 0.02\n",
      "iteration: 314000 loss: 0.0013 lr: 0.02\n"
     ]
    },
    {
     "ename": "KeyboardInterrupt",
     "evalue": "",
     "output_type": "error",
     "traceback": [
      "\u001b[1;31m---------------------------------------------------------------------------\u001b[0m",
      "\u001b[1;31mKeyboardInterrupt\u001b[0m                         Traceback (most recent call last)",
      "\u001b[1;32m<ipython-input-12-b7081d820a13>\u001b[0m in \u001b[0;36m<module>\u001b[1;34m\u001b[0m\n\u001b[0;32m      1\u001b[0m \u001b[1;31m# train the network\u001b[0m\u001b[1;33m\u001b[0m\u001b[1;33m\u001b[0m\u001b[1;33m\u001b[0m\u001b[0m\n\u001b[1;32m----> 2\u001b[1;33m \u001b[0mdeeplabcut\u001b[0m\u001b[1;33m.\u001b[0m\u001b[0mtrain_network\u001b[0m\u001b[1;33m(\u001b[0m\u001b[0mconfig_path\u001b[0m\u001b[1;33m,\u001b[0m \u001b[0mmax_snapshots_to_keep\u001b[0m\u001b[1;33m=\u001b[0m\u001b[1;36m10\u001b[0m\u001b[1;33m)\u001b[0m\u001b[1;33m\u001b[0m\u001b[1;33m\u001b[0m\u001b[0m\n\u001b[0m",
      "\u001b[1;32mD:\\ProgramData\\Miniconda3\\envs\\DLC-GPU\\lib\\site-packages\\deeplabcut\\pose_estimation_tensorflow\\training.py\u001b[0m in \u001b[0;36mtrain_network\u001b[1;34m(config, shuffle, trainingsetindex, max_snapshots_to_keep, displayiters, saveiters, maxiters, allow_growth, gputouse, autotune, keepdeconvweights)\u001b[0m\n\u001b[0;32m    132\u001b[0m         \u001b[0mtrain\u001b[0m\u001b[1;33m(\u001b[0m\u001b[0mstr\u001b[0m\u001b[1;33m(\u001b[0m\u001b[0mposeconfigfile\u001b[0m\u001b[1;33m)\u001b[0m\u001b[1;33m,\u001b[0m\u001b[0mdisplayiters\u001b[0m\u001b[1;33m,\u001b[0m\u001b[0msaveiters\u001b[0m\u001b[1;33m,\u001b[0m\u001b[0mmaxiters\u001b[0m\u001b[1;33m,\u001b[0m\u001b[0mmax_to_keep\u001b[0m\u001b[1;33m=\u001b[0m\u001b[0mmax_snapshots_to_keep\u001b[0m\u001b[1;33m,\u001b[0m\u001b[0mkeepdeconvweights\u001b[0m\u001b[1;33m=\u001b[0m\u001b[0mkeepdeconvweights\u001b[0m\u001b[1;33m,\u001b[0m\u001b[0mallow_growth\u001b[0m\u001b[1;33m=\u001b[0m\u001b[0mallow_growth\u001b[0m\u001b[1;33m)\u001b[0m \u001b[1;31m#pass on path and file name for pose_cfg.yaml!\u001b[0m\u001b[1;33m\u001b[0m\u001b[1;33m\u001b[0m\u001b[0m\n\u001b[0;32m    133\u001b[0m     \u001b[1;32mexcept\u001b[0m \u001b[0mBaseException\u001b[0m \u001b[1;32mas\u001b[0m \u001b[0me\u001b[0m\u001b[1;33m:\u001b[0m\u001b[1;33m\u001b[0m\u001b[1;33m\u001b[0m\u001b[0m\n\u001b[1;32m--> 134\u001b[1;33m         \u001b[1;32mraise\u001b[0m \u001b[0me\u001b[0m\u001b[1;33m\u001b[0m\u001b[1;33m\u001b[0m\u001b[0m\n\u001b[0m\u001b[0;32m    135\u001b[0m     \u001b[1;32mfinally\u001b[0m\u001b[1;33m:\u001b[0m\u001b[1;33m\u001b[0m\u001b[1;33m\u001b[0m\u001b[0m\n\u001b[0;32m    136\u001b[0m         \u001b[0mos\u001b[0m\u001b[1;33m.\u001b[0m\u001b[0mchdir\u001b[0m\u001b[1;33m(\u001b[0m\u001b[0mstr\u001b[0m\u001b[1;33m(\u001b[0m\u001b[0mstart_path\u001b[0m\u001b[1;33m)\u001b[0m\u001b[1;33m)\u001b[0m\u001b[1;33m\u001b[0m\u001b[1;33m\u001b[0m\u001b[0m\n",
      "\u001b[1;32mD:\\ProgramData\\Miniconda3\\envs\\DLC-GPU\\lib\\site-packages\\deeplabcut\\pose_estimation_tensorflow\\training.py\u001b[0m in \u001b[0;36mtrain_network\u001b[1;34m(config, shuffle, trainingsetindex, max_snapshots_to_keep, displayiters, saveiters, maxiters, allow_growth, gputouse, autotune, keepdeconvweights)\u001b[0m\n\u001b[0;32m    130\u001b[0m             \u001b[0mos\u001b[0m\u001b[1;33m.\u001b[0m\u001b[0menviron\u001b[0m\u001b[1;33m[\u001b[0m\u001b[1;34m'CUDA_VISIBLE_DEVICES'\u001b[0m\u001b[1;33m]\u001b[0m \u001b[1;33m=\u001b[0m \u001b[0mstr\u001b[0m\u001b[1;33m(\u001b[0m\u001b[0mgputouse\u001b[0m\u001b[1;33m)\u001b[0m\u001b[1;33m\u001b[0m\u001b[1;33m\u001b[0m\u001b[0m\n\u001b[0;32m    131\u001b[0m     \u001b[1;32mtry\u001b[0m\u001b[1;33m:\u001b[0m\u001b[1;33m\u001b[0m\u001b[1;33m\u001b[0m\u001b[0m\n\u001b[1;32m--> 132\u001b[1;33m         \u001b[0mtrain\u001b[0m\u001b[1;33m(\u001b[0m\u001b[0mstr\u001b[0m\u001b[1;33m(\u001b[0m\u001b[0mposeconfigfile\u001b[0m\u001b[1;33m)\u001b[0m\u001b[1;33m,\u001b[0m\u001b[0mdisplayiters\u001b[0m\u001b[1;33m,\u001b[0m\u001b[0msaveiters\u001b[0m\u001b[1;33m,\u001b[0m\u001b[0mmaxiters\u001b[0m\u001b[1;33m,\u001b[0m\u001b[0mmax_to_keep\u001b[0m\u001b[1;33m=\u001b[0m\u001b[0mmax_snapshots_to_keep\u001b[0m\u001b[1;33m,\u001b[0m\u001b[0mkeepdeconvweights\u001b[0m\u001b[1;33m=\u001b[0m\u001b[0mkeepdeconvweights\u001b[0m\u001b[1;33m,\u001b[0m\u001b[0mallow_growth\u001b[0m\u001b[1;33m=\u001b[0m\u001b[0mallow_growth\u001b[0m\u001b[1;33m)\u001b[0m \u001b[1;31m#pass on path and file name for pose_cfg.yaml!\u001b[0m\u001b[1;33m\u001b[0m\u001b[1;33m\u001b[0m\u001b[0m\n\u001b[0m\u001b[0;32m    133\u001b[0m     \u001b[1;32mexcept\u001b[0m \u001b[0mBaseException\u001b[0m \u001b[1;32mas\u001b[0m \u001b[0me\u001b[0m\u001b[1;33m:\u001b[0m\u001b[1;33m\u001b[0m\u001b[1;33m\u001b[0m\u001b[0m\n\u001b[0;32m    134\u001b[0m         \u001b[1;32mraise\u001b[0m \u001b[0me\u001b[0m\u001b[1;33m\u001b[0m\u001b[1;33m\u001b[0m\u001b[0m\n",
      "\u001b[1;32mD:\\ProgramData\\Miniconda3\\envs\\DLC-GPU\\lib\\site-packages\\deeplabcut\\pose_estimation_tensorflow\\train.py\u001b[0m in \u001b[0;36mtrain\u001b[1;34m(config_yaml, displayiters, saveiters, maxiters, max_to_keep, keepdeconvweights, allow_growth)\u001b[0m\n\u001b[0;32m    188\u001b[0m         \u001b[0mcurrent_lr\u001b[0m \u001b[1;33m=\u001b[0m \u001b[0mlr_gen\u001b[0m\u001b[1;33m.\u001b[0m\u001b[0mget_lr\u001b[0m\u001b[1;33m(\u001b[0m\u001b[0mit\u001b[0m\u001b[1;33m)\u001b[0m\u001b[1;33m\u001b[0m\u001b[1;33m\u001b[0m\u001b[0m\n\u001b[0;32m    189\u001b[0m         [_, loss_val, summary] = sess.run([train_op, total_loss, merged_summaries],\n\u001b[1;32m--> 190\u001b[1;33m                                           feed_dict={learning_rate: current_lr})\n\u001b[0m\u001b[0;32m    191\u001b[0m         \u001b[0mcum_loss\u001b[0m \u001b[1;33m+=\u001b[0m \u001b[0mloss_val\u001b[0m\u001b[1;33m\u001b[0m\u001b[1;33m\u001b[0m\u001b[0m\n\u001b[0;32m    192\u001b[0m         \u001b[0mtrain_writer\u001b[0m\u001b[1;33m.\u001b[0m\u001b[0madd_summary\u001b[0m\u001b[1;33m(\u001b[0m\u001b[0msummary\u001b[0m\u001b[1;33m,\u001b[0m \u001b[0mit\u001b[0m\u001b[1;33m)\u001b[0m\u001b[1;33m\u001b[0m\u001b[1;33m\u001b[0m\u001b[0m\n",
      "\u001b[1;32mD:\\ProgramData\\Miniconda3\\envs\\DLC-GPU\\lib\\site-packages\\tensorflow\\python\\client\\session.py\u001b[0m in \u001b[0;36mrun\u001b[1;34m(self, fetches, feed_dict, options, run_metadata)\u001b[0m\n\u001b[0;32m    927\u001b[0m     \u001b[1;32mtry\u001b[0m\u001b[1;33m:\u001b[0m\u001b[1;33m\u001b[0m\u001b[1;33m\u001b[0m\u001b[0m\n\u001b[0;32m    928\u001b[0m       result = self._run(None, fetches, feed_dict, options_ptr,\n\u001b[1;32m--> 929\u001b[1;33m                          run_metadata_ptr)\n\u001b[0m\u001b[0;32m    930\u001b[0m       \u001b[1;32mif\u001b[0m \u001b[0mrun_metadata\u001b[0m\u001b[1;33m:\u001b[0m\u001b[1;33m\u001b[0m\u001b[1;33m\u001b[0m\u001b[0m\n\u001b[0;32m    931\u001b[0m         \u001b[0mproto_data\u001b[0m \u001b[1;33m=\u001b[0m \u001b[0mtf_session\u001b[0m\u001b[1;33m.\u001b[0m\u001b[0mTF_GetBuffer\u001b[0m\u001b[1;33m(\u001b[0m\u001b[0mrun_metadata_ptr\u001b[0m\u001b[1;33m)\u001b[0m\u001b[1;33m\u001b[0m\u001b[1;33m\u001b[0m\u001b[0m\n",
      "\u001b[1;32mD:\\ProgramData\\Miniconda3\\envs\\DLC-GPU\\lib\\site-packages\\tensorflow\\python\\client\\session.py\u001b[0m in \u001b[0;36m_run\u001b[1;34m(self, handle, fetches, feed_dict, options, run_metadata)\u001b[0m\n\u001b[0;32m   1150\u001b[0m     \u001b[1;32mif\u001b[0m \u001b[0mfinal_fetches\u001b[0m \u001b[1;32mor\u001b[0m \u001b[0mfinal_targets\u001b[0m \u001b[1;32mor\u001b[0m \u001b[1;33m(\u001b[0m\u001b[0mhandle\u001b[0m \u001b[1;32mand\u001b[0m \u001b[0mfeed_dict_tensor\u001b[0m\u001b[1;33m)\u001b[0m\u001b[1;33m:\u001b[0m\u001b[1;33m\u001b[0m\u001b[1;33m\u001b[0m\u001b[0m\n\u001b[0;32m   1151\u001b[0m       results = self._do_run(handle, final_targets, final_fetches,\n\u001b[1;32m-> 1152\u001b[1;33m                              feed_dict_tensor, options, run_metadata)\n\u001b[0m\u001b[0;32m   1153\u001b[0m     \u001b[1;32melse\u001b[0m\u001b[1;33m:\u001b[0m\u001b[1;33m\u001b[0m\u001b[1;33m\u001b[0m\u001b[0m\n\u001b[0;32m   1154\u001b[0m       \u001b[0mresults\u001b[0m \u001b[1;33m=\u001b[0m \u001b[1;33m[\u001b[0m\u001b[1;33m]\u001b[0m\u001b[1;33m\u001b[0m\u001b[1;33m\u001b[0m\u001b[0m\n",
      "\u001b[1;32mD:\\ProgramData\\Miniconda3\\envs\\DLC-GPU\\lib\\site-packages\\tensorflow\\python\\client\\session.py\u001b[0m in \u001b[0;36m_do_run\u001b[1;34m(self, handle, target_list, fetch_list, feed_dict, options, run_metadata)\u001b[0m\n\u001b[0;32m   1326\u001b[0m     \u001b[1;32mif\u001b[0m \u001b[0mhandle\u001b[0m \u001b[1;32mis\u001b[0m \u001b[1;32mNone\u001b[0m\u001b[1;33m:\u001b[0m\u001b[1;33m\u001b[0m\u001b[1;33m\u001b[0m\u001b[0m\n\u001b[0;32m   1327\u001b[0m       return self._do_call(_run_fn, feeds, fetches, targets, options,\n\u001b[1;32m-> 1328\u001b[1;33m                            run_metadata)\n\u001b[0m\u001b[0;32m   1329\u001b[0m     \u001b[1;32melse\u001b[0m\u001b[1;33m:\u001b[0m\u001b[1;33m\u001b[0m\u001b[1;33m\u001b[0m\u001b[0m\n\u001b[0;32m   1330\u001b[0m       \u001b[1;32mreturn\u001b[0m \u001b[0mself\u001b[0m\u001b[1;33m.\u001b[0m\u001b[0m_do_call\u001b[0m\u001b[1;33m(\u001b[0m\u001b[0m_prun_fn\u001b[0m\u001b[1;33m,\u001b[0m \u001b[0mhandle\u001b[0m\u001b[1;33m,\u001b[0m \u001b[0mfeeds\u001b[0m\u001b[1;33m,\u001b[0m \u001b[0mfetches\u001b[0m\u001b[1;33m)\u001b[0m\u001b[1;33m\u001b[0m\u001b[1;33m\u001b[0m\u001b[0m\n",
      "\u001b[1;32mD:\\ProgramData\\Miniconda3\\envs\\DLC-GPU\\lib\\site-packages\\tensorflow\\python\\client\\session.py\u001b[0m in \u001b[0;36m_do_call\u001b[1;34m(self, fn, *args)\u001b[0m\n\u001b[0;32m   1332\u001b[0m   \u001b[1;32mdef\u001b[0m \u001b[0m_do_call\u001b[0m\u001b[1;33m(\u001b[0m\u001b[0mself\u001b[0m\u001b[1;33m,\u001b[0m \u001b[0mfn\u001b[0m\u001b[1;33m,\u001b[0m \u001b[1;33m*\u001b[0m\u001b[0margs\u001b[0m\u001b[1;33m)\u001b[0m\u001b[1;33m:\u001b[0m\u001b[1;33m\u001b[0m\u001b[1;33m\u001b[0m\u001b[0m\n\u001b[0;32m   1333\u001b[0m     \u001b[1;32mtry\u001b[0m\u001b[1;33m:\u001b[0m\u001b[1;33m\u001b[0m\u001b[1;33m\u001b[0m\u001b[0m\n\u001b[1;32m-> 1334\u001b[1;33m       \u001b[1;32mreturn\u001b[0m \u001b[0mfn\u001b[0m\u001b[1;33m(\u001b[0m\u001b[1;33m*\u001b[0m\u001b[0margs\u001b[0m\u001b[1;33m)\u001b[0m\u001b[1;33m\u001b[0m\u001b[1;33m\u001b[0m\u001b[0m\n\u001b[0m\u001b[0;32m   1335\u001b[0m     \u001b[1;32mexcept\u001b[0m \u001b[0merrors\u001b[0m\u001b[1;33m.\u001b[0m\u001b[0mOpError\u001b[0m \u001b[1;32mas\u001b[0m \u001b[0me\u001b[0m\u001b[1;33m:\u001b[0m\u001b[1;33m\u001b[0m\u001b[1;33m\u001b[0m\u001b[0m\n\u001b[0;32m   1336\u001b[0m       \u001b[0mmessage\u001b[0m \u001b[1;33m=\u001b[0m \u001b[0mcompat\u001b[0m\u001b[1;33m.\u001b[0m\u001b[0mas_text\u001b[0m\u001b[1;33m(\u001b[0m\u001b[0me\u001b[0m\u001b[1;33m.\u001b[0m\u001b[0mmessage\u001b[0m\u001b[1;33m)\u001b[0m\u001b[1;33m\u001b[0m\u001b[1;33m\u001b[0m\u001b[0m\n",
      "\u001b[1;32mD:\\ProgramData\\Miniconda3\\envs\\DLC-GPU\\lib\\site-packages\\tensorflow\\python\\client\\session.py\u001b[0m in \u001b[0;36m_run_fn\u001b[1;34m(feed_dict, fetch_list, target_list, options, run_metadata)\u001b[0m\n\u001b[0;32m   1317\u001b[0m       \u001b[0mself\u001b[0m\u001b[1;33m.\u001b[0m\u001b[0m_extend_graph\u001b[0m\u001b[1;33m(\u001b[0m\u001b[1;33m)\u001b[0m\u001b[1;33m\u001b[0m\u001b[1;33m\u001b[0m\u001b[0m\n\u001b[0;32m   1318\u001b[0m       return self._call_tf_sessionrun(\n\u001b[1;32m-> 1319\u001b[1;33m           options, feed_dict, fetch_list, target_list, run_metadata)\n\u001b[0m\u001b[0;32m   1320\u001b[0m \u001b[1;33m\u001b[0m\u001b[0m\n\u001b[0;32m   1321\u001b[0m     \u001b[1;32mdef\u001b[0m \u001b[0m_prun_fn\u001b[0m\u001b[1;33m(\u001b[0m\u001b[0mhandle\u001b[0m\u001b[1;33m,\u001b[0m \u001b[0mfeed_dict\u001b[0m\u001b[1;33m,\u001b[0m \u001b[0mfetch_list\u001b[0m\u001b[1;33m)\u001b[0m\u001b[1;33m:\u001b[0m\u001b[1;33m\u001b[0m\u001b[1;33m\u001b[0m\u001b[0m\n",
      "\u001b[1;32mD:\\ProgramData\\Miniconda3\\envs\\DLC-GPU\\lib\\site-packages\\tensorflow\\python\\client\\session.py\u001b[0m in \u001b[0;36m_call_tf_sessionrun\u001b[1;34m(self, options, feed_dict, fetch_list, target_list, run_metadata)\u001b[0m\n\u001b[0;32m   1405\u001b[0m     return tf_session.TF_SessionRun_wrapper(\n\u001b[0;32m   1406\u001b[0m         \u001b[0mself\u001b[0m\u001b[1;33m.\u001b[0m\u001b[0m_session\u001b[0m\u001b[1;33m,\u001b[0m \u001b[0moptions\u001b[0m\u001b[1;33m,\u001b[0m \u001b[0mfeed_dict\u001b[0m\u001b[1;33m,\u001b[0m \u001b[0mfetch_list\u001b[0m\u001b[1;33m,\u001b[0m \u001b[0mtarget_list\u001b[0m\u001b[1;33m,\u001b[0m\u001b[1;33m\u001b[0m\u001b[1;33m\u001b[0m\u001b[0m\n\u001b[1;32m-> 1407\u001b[1;33m         run_metadata)\n\u001b[0m\u001b[0;32m   1408\u001b[0m \u001b[1;33m\u001b[0m\u001b[0m\n\u001b[0;32m   1409\u001b[0m   \u001b[1;32mdef\u001b[0m \u001b[0m_call_tf_sessionprun\u001b[0m\u001b[1;33m(\u001b[0m\u001b[0mself\u001b[0m\u001b[1;33m,\u001b[0m \u001b[0mhandle\u001b[0m\u001b[1;33m,\u001b[0m \u001b[0mfeed_dict\u001b[0m\u001b[1;33m,\u001b[0m \u001b[0mfetch_list\u001b[0m\u001b[1;33m)\u001b[0m\u001b[1;33m:\u001b[0m\u001b[1;33m\u001b[0m\u001b[1;33m\u001b[0m\u001b[0m\n",
      "\u001b[1;31mKeyboardInterrupt\u001b[0m: "
     ]
    }
   ],
   "source": [
    "# train the network\n",
    "deeplabcut.train_network(config_path, max_snapshots_to_keep=10)"
   ]
  },
  {
   "cell_type": "code",
   "execution_count": 13,
   "metadata": {
    "collapsed": true
   },
   "outputs": [
    {
     "name": "stderr",
     "output_type": "stream",
     "text": [
      "Config:\n",
      "{'all_joints': [[0], [1], [2]],\n",
      " 'all_joints_names': ['mouseHead', 'mouseBody', 'cricket'],\n",
      " 'batch_size': 1,\n",
      " 'bottomheight': 400,\n",
      " 'crop': True,\n",
      " 'crop_pad': 0,\n",
      " 'cropratio': 0.4,\n",
      " 'dataset': 'training-datasets\\\\iteration-1\\\\UnaugmentedDataSet_Prey_captureMar26\\\\Prey_capture_Drago '\n",
      "            'Guggiana95shuffle1.mat',\n",
      " 'dataset_type': 'imgaug',\n",
      " 'deconvolutionstride': 2,\n",
      " 'deterministic': False,\n",
      " 'display_iters': 1000,\n",
      " 'fg_fraction': 0.25,\n",
      " 'global_scale': 0.8,\n",
      " 'init_weights': 'D:\\\\ProgramData\\\\Miniconda3\\\\envs\\\\DLC-GPU\\\\lib\\\\site-packages\\\\deeplabcut\\\\pose_estimation_tensorflow\\\\models\\\\pretrained\\\\resnet_v1_50.ckpt',\n",
      " 'intermediate_supervision': False,\n",
      " 'intermediate_supervision_layer': 12,\n",
      " 'leftwidth': 400,\n",
      " 'location_refinement': True,\n",
      " 'locref_huber_loss': True,\n",
      " 'locref_loss_weight': 0.05,\n",
      " 'locref_stdev': 7.2801,\n",
      " 'log_dir': 'log',\n",
      " 'max_input_size': 1500,\n",
      " 'mean_pixel': [123.68, 116.779, 103.939],\n",
      " 'metadataset': 'training-datasets\\\\iteration-1\\\\UnaugmentedDataSet_Prey_captureMar26\\\\Documentation_data-Prey_capture_95shuffle1.pickle',\n",
      " 'min_input_size': 64,\n",
      " 'minsize': 100,\n",
      " 'mirror': False,\n",
      " 'multi_step': [[0.005, 10000],\n",
      "                [0.02, 430000],\n",
      "                [0.002, 730000],\n",
      "                [0.001, 1030000]],\n",
      " 'net_type': 'resnet_50',\n",
      " 'num_joints': 3,\n",
      " 'optimizer': 'sgd',\n",
      " 'output_stride': 16,\n",
      " 'pos_dist_thresh': 17,\n",
      " 'project_path': 'D:\\\\DLC_projects\\\\Prey_capture\\\\Prey_capture-Drago '\n",
      "                 'Guggiana-2020-03-26',\n",
      " 'regularize': False,\n",
      " 'rightwidth': 400,\n",
      " 'save_iters': 50000,\n",
      " 'scale_jitter_lo': 0.5,\n",
      " 'scale_jitter_up': 1.25,\n",
      " 'scoremap_dir': 'test',\n",
      " 'shuffle': True,\n",
      " 'snapshot_prefix': 'D:\\\\DLC_projects\\\\Prey_capture\\\\Prey_capture-Drago '\n",
      "                    'Guggiana-2020-03-26\\\\dlc-models\\\\iteration-1\\\\Prey_captureMar26-trainset95shuffle1\\\\test\\\\snapshot',\n",
      " 'stride': 8.0,\n",
      " 'topheight': 400,\n",
      " 'weigh_negatives': False,\n",
      " 'weigh_only_present_joints': False,\n",
      " 'weigh_part_predictions': False,\n",
      " 'weight_decay': 0.0001}\n"
     ]
    },
    {
     "name": "stdout",
     "output_type": "stream",
     "text": [
      "D:\\DLC_projects\\Prey_capture\\Prey_capture-Drago Guggiana-2020-03-26/evaluation-results/  already exists!\n",
      "Running  DLC_resnet50_Prey_captureMar26shuffle1_300000  with # of trainingiterations: 300000\n",
      "Initializing ResNet\n",
      "INFO:tensorflow:Restoring parameters from D:\\DLC_projects\\Prey_capture\\Prey_capture-Drago Guggiana-2020-03-26\\dlc-models\\iteration-1\\Prey_captureMar26-trainset95shuffle1\\train\\snapshot-300000\n"
     ]
    },
    {
     "name": "stderr",
     "output_type": "stream",
     "text": [
      "\r",
      "0it [00:00, ?it/s]"
     ]
    },
    {
     "name": "stdout",
     "output_type": "stream",
     "text": [
      "Analyzing data...\n"
     ]
    },
    {
     "name": "stderr",
     "output_type": "stream",
     "text": [
      "499it [03:26,  2.41it/s]\n",
      "  0%|                                                                                          | 0/499 [00:00<?, ?it/s]"
     ]
    },
    {
     "name": "stdout",
     "output_type": "stream",
     "text": [
      "Done and results stored for snapshot:  snapshot-300000\n",
      "Results for 300000  training iterations: 95 1 train error: 10.04 pixels. Test error: 13.18  pixels.\n",
      "With pcutoff of 0.6  train error: 5.49 pixels. Test error: 6.03 pixels\n",
      "Thereby, the errors are given by the average distances between the labels by DLC and the scorer.\n",
      "Plotting...\n"
     ]
    },
    {
     "name": "stderr",
     "output_type": "stream",
     "text": [
      "100%|████████████████████████████████████████████████████████████████████████████████| 499/499 [04:45<00:00,  1.75it/s]"
     ]
    },
    {
     "name": "stdout",
     "output_type": "stream",
     "text": [
      "The network is evaluated and the results are stored in the subdirectory 'evaluation_results'.\n",
      "If it generalizes well, choose the best model for prediction and update the config file with the appropriate index for the 'snapshotindex'.\n",
      "Use the function 'analyze_video' to make predictions on new videos.\n",
      "Otherwise consider retraining the network (see DeepLabCut workflow Fig 2)\n"
     ]
    },
    {
     "name": "stderr",
     "output_type": "stream",
     "text": [
      "\n"
     ]
    }
   ],
   "source": [
    "# evaluate the network\n",
    "deeplabcut.evaluate_network(config_path,Shuffles=[1], plotting=True)"
   ]
  },
  {
   "cell_type": "code",
   "execution_count": 18,
   "metadata": {
    "collapsed": true
   },
   "outputs": [
    {
     "name": "stdout",
     "output_type": "stream",
     "text": [
      "Method  jump  found  61  putative outlier frames.\n",
      "Do you want to proceed with extracting  20  of those?\n",
      "If this list is very large, perhaps consider changing the paramters (start, stop, epsilon, comparisonbodyparts) or use a different method.\n",
      "yes/noyes\n"
     ]
    },
    {
     "name": "stderr",
     "output_type": "stream",
     "text": [
      "3it [00:00, 29.73it/s]"
     ]
    },
    {
     "name": "stdout",
     "output_type": "stream",
     "text": [
      "Frames from video 12_07_2019_15_29_41_miniscope_MM_191108_a_succ  already extracted (more will be added)!\n",
      "Loading video...\n",
      "Duration of video [s]:  22.433333333333334 , recorded @  30.0 fps!\n",
      "Overall # of frames:  673 with (cropped) frame dimensions: \n",
      "Kmeans-quantization based extracting of frames from 0.0  seconds to 22.43  seconds.\n",
      "Extracting and downsampling... 61  frames from the video.\n"
     ]
    },
    {
     "name": "stderr",
     "output_type": "stream",
     "text": [
      "61it [00:00, 66.56it/s]\n"
     ]
    },
    {
     "name": "stdout",
     "output_type": "stream",
     "text": [
      "Kmeans clustering ... (this might take a while)\n",
      "Let's select frames indices: [162, 128, 296, 152, 395, 146, 464, 376, 552, 297, 397, 579, 338, 282, 413, 523, 378, 122, 575, 160]\n",
      "New video was added to the project! Use the function 'extract_frames' to select frames for labeling.\n",
      "The outlier frames are extracted. They are stored in the subdirectory labeled-data\\12_07_2019_15_29_41_miniscope_MM_191108_a_succ.\n",
      "Once you extracted frames for all videos, use 'refine_labels' to manually correct the labels.\n"
     ]
    }
   ],
   "source": [
    "# extract outlier frames\n",
    "deeplabcut.extract_outlier_frames(config_path, video, outlieralgorithm='jump', epsilon=200)\n",
    "# deeplabcut.extract_outlier_frames?"
   ]
  },
  {
   "cell_type": "code",
   "execution_count": 5,
   "metadata": {
    "collapsed": true
   },
   "outputs": [
    {
     "name": "stdout",
     "output_type": "stream",
     "text": [
      "Windows\n",
      "Checking labels if they are outside the image\n",
      "Windows\n",
      "Checking labels if they are outside the image\n",
      "Windows\n",
      "Checking labels if they are outside the image\n",
      "Windows\n",
      "Checking labels if they are outside the image\n",
      "Windows\n",
      "Checking labels if they are outside the image\n",
      "A training dataset file is already found for this video. The refined machine labels are merged to this data!\n",
      "Windows\n",
      "Checking labels if they are outside the image\n",
      "A training dataset file is already found for this video. The refined machine labels are merged to this data!\n",
      "Windows\n"
     ]
    },
    {
     "ename": "RuntimeError",
     "evalue": "wrapped C/C++ object of type FileDialog has been deleted",
     "output_type": "error",
     "traceback": [
      "\u001b[1;31m---------------------------------------------------------------------------\u001b[0m",
      "\u001b[1;31mRuntimeError\u001b[0m                              Traceback (most recent call last)",
      "\u001b[1;32mD:\\ProgramData\\Miniconda3\\envs\\DLC-GPU\\lib\\site-packages\\deeplabcut\\refine_training_dataset\\refinement.py\u001b[0m in \u001b[0;36msaveDataSet\u001b[1;34m(self, event)\u001b[0m\n\u001b[0;32m    628\u001b[0m             \u001b[1;31m# self.slider.Enable(False)\u001b[0m\u001b[1;33m\u001b[0m\u001b[1;33m\u001b[0m\u001b[1;33m\u001b[0m\u001b[0m\n\u001b[0;32m    629\u001b[0m             \u001b[1;31m# self.checkBox.Enable(False)\u001b[0m\u001b[1;33m\u001b[0m\u001b[1;33m\u001b[0m\u001b[1;33m\u001b[0m\u001b[0m\n\u001b[1;32m--> 630\u001b[1;33m             \u001b[0mMainFrame\u001b[0m\u001b[1;33m.\u001b[0m\u001b[0mbrowseDir\u001b[0m\u001b[1;33m(\u001b[0m\u001b[0mself\u001b[0m\u001b[1;33m,\u001b[0m \u001b[0mevent\u001b[0m\u001b[1;33m)\u001b[0m\u001b[1;33m\u001b[0m\u001b[1;33m\u001b[0m\u001b[0m\n\u001b[0m\u001b[0;32m    631\u001b[0m \u001b[1;33m\u001b[0m\u001b[0m\n\u001b[0;32m    632\u001b[0m \u001b[1;31m# ###########################################################################\u001b[0m\u001b[1;33m\u001b[0m\u001b[1;33m\u001b[0m\u001b[1;33m\u001b[0m\u001b[0m\n",
      "\u001b[1;32mD:\\ProgramData\\Miniconda3\\envs\\DLC-GPU\\lib\\site-packages\\deeplabcut\\refine_training_dataset\\refinement.py\u001b[0m in \u001b[0;36mbrowseDir\u001b[1;34m(self, event)\u001b[0m\n\u001b[0;32m    376\u001b[0m             \u001b[0mdlg\u001b[0m\u001b[1;33m.\u001b[0m\u001b[0mDestroy\u001b[0m\u001b[1;33m(\u001b[0m\u001b[1;33m)\u001b[0m\u001b[1;33m\u001b[0m\u001b[1;33m\u001b[0m\u001b[0m\n\u001b[0;32m    377\u001b[0m             \u001b[0mself\u001b[0m\u001b[1;33m.\u001b[0m\u001b[0mDestroy\u001b[0m\u001b[1;33m(\u001b[0m\u001b[1;33m)\u001b[0m\u001b[1;33m\u001b[0m\u001b[1;33m\u001b[0m\u001b[0m\n\u001b[1;32m--> 378\u001b[1;33m         \u001b[0mdlg\u001b[0m\u001b[1;33m.\u001b[0m\u001b[0mDestroy\u001b[0m\u001b[1;33m(\u001b[0m\u001b[1;33m)\u001b[0m\u001b[1;33m\u001b[0m\u001b[1;33m\u001b[0m\u001b[0m\n\u001b[0m\u001b[0;32m    379\u001b[0m \u001b[1;33m\u001b[0m\u001b[0m\n\u001b[0;32m    380\u001b[0m         \u001b[1;32mtry\u001b[0m\u001b[1;33m:\u001b[0m\u001b[1;33m\u001b[0m\u001b[1;33m\u001b[0m\u001b[0m\n",
      "\u001b[1;31mRuntimeError\u001b[0m: wrapped C/C++ object of type FileDialog has been deleted"
     ]
    }
   ],
   "source": [
    "# Refine the labels if the network didn't perform as desired\n",
    "\n",
    "deeplabcut.refine_labels(config_path)\n",
    "# deeplabcut.refine_training_dataset?"
   ]
  },
  {
   "cell_type": "code",
   "execution_count": 9,
   "metadata": {},
   "outputs": [
    {
     "name": "stdout",
     "output_type": "stream",
     "text": [
      "Merged data sets and updated refinement iteration to 1.\n",
      "Now you can create a new training set for the expanded annotated images (use create_training_dataset).\n"
     ]
    }
   ],
   "source": [
    "# Merge the dataset, then move to check labels and retrain\n",
    "\n",
    "deeplabcut.merge_datasets(config_path)\n",
    "# deeplabcut.merge_datasets?"
   ]
  },
  {
   "cell_type": "code",
   "execution_count": 8,
   "metadata": {},
   "outputs": [
    {
     "name": "stdout",
     "output_type": "stream",
     "text": [
      "['J:\\\\Drago Guggiana Nilo\\\\Prey_capture\\\\VideoExperiment\\\\09_08_2020_15_26_21_miniscope_DG_200701_a_succ.avi']\n"
     ]
    }
   ],
   "source": [
    "# Define the videos to analyze\n",
    "importlib.reload(processing_parameters)\n",
    "# manually define video paths (hand picked as more representative)\n",
    "video = processing_parameters.test_videos\n",
    "print(video)"
   ]
  },
  {
   "cell_type": "code",
   "execution_count": 9,
   "metadata": {},
   "outputs": [
    {
     "name": "stdout",
     "output_type": "stream",
     "text": [
      "Using snapshot-250000 for model D:\\DLC_projects\\Prey_capture\\Prey_VAME-Drago Guggiana-2021-02-07\\dlc-models\\iteration-4\\Prey_VAMEFeb7-trainset95shuffle1\n",
      "Initializing ResNet\n",
      "Starting to analyze %  J:\\Drago Guggiana Nilo\\Prey_capture\\VideoExperiment\\09_08_2020_15_26_21_miniscope_DG_200701_a_succ.avi\n",
      "J:\\Drago Guggiana Nilo\\Prey_capture\\VideoExperiment  already exists!\n"
     ]
    },
    {
     "name": "stderr",
     "output_type": "stream",
     "text": [
      "\r",
      "  0%|                                                                                                                                                                                                             | 0/385 [00:00<?, ?it/s]"
     ]
    },
    {
     "name": "stdout",
     "output_type": "stream",
     "text": [
      "Loading  J:\\Drago Guggiana Nilo\\Prey_capture\\VideoExperiment\\09_08_2020_15_26_21_miniscope_DG_200701_a_succ.avi\n",
      "Duration of video [s]:  12.83 , recorded with  30.0 fps!\n",
      "Overall # of frames:  385  found with (before cropping) frame dimensions:  1280 1024\n",
      "Starting to extract posture\n"
     ]
    },
    {
     "name": "stderr",
     "output_type": "stream",
     "text": [
      "390it [00:26, 14.91it/s]                                                                                                                                                                                                                  \n"
     ]
    },
    {
     "name": "stdout",
     "output_type": "stream",
     "text": [
      "Saving results in J:\\Drago Guggiana Nilo\\Prey_capture\\VideoExperiment...\n",
      "The videos are analyzed. Now your research can truly start! \n",
      " You can create labeled videos with 'create_labeled_video'\n",
      "If the tracking is not satisfactory for some videos, consider expanding the training set. You can use the function 'extract_outlier_frames' to extract a few representative outlier frames.\n"
     ]
    }
   ],
   "source": [
    "# analyze videos\n",
    "\n",
    "# define the video path\n",
    "\n",
    "# video = [r'D:\\DLC_projects\\Prey_capture\\Prey_capture-Drago Guggiana-2020-03-26\\videos\\12_12_2019_15_18_57_miniscope_MM_191108_a_fail.avi']\n",
    "# video = [r'D:\\DLC_projects\\Prey_capture\\Prey_capture-Drago Guggiana-2020-03-26\\videos\\12_07_2019_15_29_41_miniscope_MM_191108_a_succ.avi']\n",
    "# video = [r'J:\\Drago Guggiana Nilo\\Prey_capture\\VideoExperiment\\12_12_2019_15_16_04_miniscope_MM_191108_a_succ.avi']\n",
    "deeplabcut.analyze_videos(config_path, video)\n",
    "deeplabcut.create_labeled_video(config_path, video)"
   ]
  },
  {
   "cell_type": "code",
   "execution_count": 6,
   "metadata": {},
   "outputs": [
    {
     "name": "stdout",
     "output_type": "stream",
     "text": [
      "D:\\DLC_projects\\Prey_capture\\Prey_capture-Drago Guggiana-2020-03-26\\videos\\03_02_2020_15_35_18_miniscope_MM_200129_a_succ_nomini.avi\n",
      "Starting %  D:\\DLC_projects\\Prey_capture\\Prey_capture-Drago Guggiana-2020-03-26\\videos D:\\DLC_projects\\Prey_capture\\Prey_capture-Drago Guggiana-2020-03-26\\videos\\03_02_2020_15_35_18_miniscope_MM_200129_a_succ_nomini.avi\n",
      "Loading  D:\\DLC_projects\\Prey_capture\\Prey_capture-Drago Guggiana-2020-03-26\\videos\\03_02_2020_15_35_18_miniscope_MM_200129_a_succ_nomini.avi and data.\n",
      "D:\\DLC_projects\\Prey_capture\\Prey_capture-Drago Guggiana-2020-03-26\\videos  already exists!\n",
      "Plots created! Please check the directory \"plot-poses\" within the video directory\n"
     ]
    }
   ],
   "source": [
    "# plot trajectories\n",
    "\n",
    "# use the path defined above\n",
    "deeplabcut.plot_trajectories(config_path, video)"
   ]
  },
  {
   "cell_type": "code",
   "execution_count": 5,
   "metadata": {},
   "outputs": [
    {
     "ename": "KeyError",
     "evalue": "'pcutoff'",
     "output_type": "error",
     "traceback": [
      "\u001b[1;31m---------------------------------------------------------------------------\u001b[0m",
      "\u001b[1;31mRemoteTraceback\u001b[0m                           Traceback (most recent call last)",
      "\u001b[1;31mRemoteTraceback\u001b[0m: \n\"\"\"\nTraceback (most recent call last):\n  File \"C:\\Users\\drguggiana\\.conda\\envs\\DLC-GPU\\lib\\multiprocessing\\pool.py\", line 121, in worker\n    result = (True, func(*args, **kwds))\n  File \"C:\\Users\\drguggiana\\.conda\\envs\\DLC-GPU\\lib\\multiprocessing\\pool.py\", line 44, in mapstar\n    return list(map(*args))\n  File \"C:\\Users\\drguggiana\\.conda\\envs\\DLC-GPU\\lib\\site-packages\\deeplabcut\\utils\\make_labeled_video.py\", line 657, in proc_video\n    cfg[\"pcutoff\"],\n  File \"C:\\Users\\drguggiana\\.conda\\envs\\DLC-GPU\\lib\\site-packages\\ruamel\\yaml\\comments.py\", line 826, in __getitem__\n    return ordereddict.__getitem__(self, key)\nKeyError: 'pcutoff'\n\"\"\"",
      "\nThe above exception was the direct cause of the following exception:\n",
      "\u001b[1;31mKeyError\u001b[0m                                  Traceback (most recent call last)",
      "\u001b[1;32m<ipython-input-5-9c13e2becbd8>\u001b[0m in \u001b[0;36m<module>\u001b[1;34m\u001b[0m\n\u001b[0;32m      2\u001b[0m \u001b[1;33m\u001b[0m\u001b[0m\n\u001b[0;32m      3\u001b[0m \u001b[1;31m# use the path defined above\u001b[0m\u001b[1;33m\u001b[0m\u001b[1;33m\u001b[0m\u001b[1;33m\u001b[0m\u001b[0m\n\u001b[1;32m----> 4\u001b[1;33m \u001b[0mdeeplabcut\u001b[0m\u001b[1;33m.\u001b[0m\u001b[0mcreate_labeled_video\u001b[0m\u001b[1;33m(\u001b[0m\u001b[0mconfig_path\u001b[0m\u001b[1;33m,\u001b[0m \u001b[0mvideo\u001b[0m\u001b[1;33m)\u001b[0m\u001b[1;33m\u001b[0m\u001b[1;33m\u001b[0m\u001b[0m\n\u001b[0m",
      "\u001b[1;32m~\\.conda\\envs\\DLC-GPU\\lib\\site-packages\\deeplabcut\\utils\\make_labeled_video.py\u001b[0m in \u001b[0;36mcreate_labeled_video\u001b[1;34m(config, videos, videotype, shuffle, trainingsetindex, filtered, fastmode, save_frames, keypoints_only, Frames2plot, displayedbodyparts, displayedindividuals, codec, outputframerate, destfolder, draw_skeleton, trailpoints, displaycropped, color_by, modelprefix, track_method)\u001b[0m\n\u001b[0;32m    509\u001b[0m \u001b[1;33m\u001b[0m\u001b[0m\n\u001b[0;32m    510\u001b[0m     \u001b[1;32mwith\u001b[0m \u001b[0mPool\u001b[0m\u001b[1;33m(\u001b[0m\u001b[0mmin\u001b[0m\u001b[1;33m(\u001b[0m\u001b[0mos\u001b[0m\u001b[1;33m.\u001b[0m\u001b[0mcpu_count\u001b[0m\u001b[1;33m(\u001b[0m\u001b[1;33m)\u001b[0m\u001b[1;33m,\u001b[0m \u001b[0mlen\u001b[0m\u001b[1;33m(\u001b[0m\u001b[0mVideos\u001b[0m\u001b[1;33m)\u001b[0m\u001b[1;33m)\u001b[0m\u001b[1;33m)\u001b[0m \u001b[1;32mas\u001b[0m \u001b[0mpool\u001b[0m\u001b[1;33m:\u001b[0m\u001b[1;33m\u001b[0m\u001b[1;33m\u001b[0m\u001b[0m\n\u001b[1;32m--> 511\u001b[1;33m         \u001b[0mpool\u001b[0m\u001b[1;33m.\u001b[0m\u001b[0mmap\u001b[0m\u001b[1;33m(\u001b[0m\u001b[0mfunc\u001b[0m\u001b[1;33m,\u001b[0m \u001b[0mVideos\u001b[0m\u001b[1;33m)\u001b[0m\u001b[1;33m\u001b[0m\u001b[1;33m\u001b[0m\u001b[0m\n\u001b[0m\u001b[0;32m    512\u001b[0m \u001b[1;33m\u001b[0m\u001b[0m\n\u001b[0;32m    513\u001b[0m     \u001b[0mos\u001b[0m\u001b[1;33m.\u001b[0m\u001b[0mchdir\u001b[0m\u001b[1;33m(\u001b[0m\u001b[0mstart_path\u001b[0m\u001b[1;33m)\u001b[0m\u001b[1;33m\u001b[0m\u001b[1;33m\u001b[0m\u001b[0m\n",
      "\u001b[1;32m~\\.conda\\envs\\DLC-GPU\\lib\\multiprocessing\\pool.py\u001b[0m in \u001b[0;36mmap\u001b[1;34m(self, func, iterable, chunksize)\u001b[0m\n\u001b[0;32m    266\u001b[0m         \u001b[1;32min\u001b[0m \u001b[0ma\u001b[0m \u001b[0mlist\u001b[0m \u001b[0mthat\u001b[0m \u001b[1;32mis\u001b[0m \u001b[0mreturned\u001b[0m\u001b[1;33m.\u001b[0m\u001b[1;33m\u001b[0m\u001b[1;33m\u001b[0m\u001b[0m\n\u001b[0;32m    267\u001b[0m         '''\n\u001b[1;32m--> 268\u001b[1;33m         \u001b[1;32mreturn\u001b[0m \u001b[0mself\u001b[0m\u001b[1;33m.\u001b[0m\u001b[0m_map_async\u001b[0m\u001b[1;33m(\u001b[0m\u001b[0mfunc\u001b[0m\u001b[1;33m,\u001b[0m \u001b[0miterable\u001b[0m\u001b[1;33m,\u001b[0m \u001b[0mmapstar\u001b[0m\u001b[1;33m,\u001b[0m \u001b[0mchunksize\u001b[0m\u001b[1;33m)\u001b[0m\u001b[1;33m.\u001b[0m\u001b[0mget\u001b[0m\u001b[1;33m(\u001b[0m\u001b[1;33m)\u001b[0m\u001b[1;33m\u001b[0m\u001b[1;33m\u001b[0m\u001b[0m\n\u001b[0m\u001b[0;32m    269\u001b[0m \u001b[1;33m\u001b[0m\u001b[0m\n\u001b[0;32m    270\u001b[0m     \u001b[1;32mdef\u001b[0m \u001b[0mstarmap\u001b[0m\u001b[1;33m(\u001b[0m\u001b[0mself\u001b[0m\u001b[1;33m,\u001b[0m \u001b[0mfunc\u001b[0m\u001b[1;33m,\u001b[0m \u001b[0miterable\u001b[0m\u001b[1;33m,\u001b[0m \u001b[0mchunksize\u001b[0m\u001b[1;33m=\u001b[0m\u001b[1;32mNone\u001b[0m\u001b[1;33m)\u001b[0m\u001b[1;33m:\u001b[0m\u001b[1;33m\u001b[0m\u001b[1;33m\u001b[0m\u001b[0m\n",
      "\u001b[1;32m~\\.conda\\envs\\DLC-GPU\\lib\\multiprocessing\\pool.py\u001b[0m in \u001b[0;36mget\u001b[1;34m(self, timeout)\u001b[0m\n\u001b[0;32m    655\u001b[0m             \u001b[1;32mreturn\u001b[0m \u001b[0mself\u001b[0m\u001b[1;33m.\u001b[0m\u001b[0m_value\u001b[0m\u001b[1;33m\u001b[0m\u001b[1;33m\u001b[0m\u001b[0m\n\u001b[0;32m    656\u001b[0m         \u001b[1;32melse\u001b[0m\u001b[1;33m:\u001b[0m\u001b[1;33m\u001b[0m\u001b[1;33m\u001b[0m\u001b[0m\n\u001b[1;32m--> 657\u001b[1;33m             \u001b[1;32mraise\u001b[0m \u001b[0mself\u001b[0m\u001b[1;33m.\u001b[0m\u001b[0m_value\u001b[0m\u001b[1;33m\u001b[0m\u001b[1;33m\u001b[0m\u001b[0m\n\u001b[0m\u001b[0;32m    658\u001b[0m \u001b[1;33m\u001b[0m\u001b[0m\n\u001b[0;32m    659\u001b[0m     \u001b[1;32mdef\u001b[0m \u001b[0m_set\u001b[0m\u001b[1;33m(\u001b[0m\u001b[0mself\u001b[0m\u001b[1;33m,\u001b[0m \u001b[0mi\u001b[0m\u001b[1;33m,\u001b[0m \u001b[0mobj\u001b[0m\u001b[1;33m)\u001b[0m\u001b[1;33m:\u001b[0m\u001b[1;33m\u001b[0m\u001b[1;33m\u001b[0m\u001b[0m\n",
      "\u001b[1;31mKeyError\u001b[0m: 'pcutoff'"
     ]
    }
   ],
   "source": [
    "# create labeled video\n",
    "\n",
    "# use the path defined above\n",
    "deeplabcut.create_labeled_video(config_path, video)"
   ]
  }
 ],
 "metadata": {
  "kernelspec": {
   "display_name": "Python [conda env:.conda-DLC-GPU] *",
   "language": "python",
   "name": "conda-env-.conda-DLC-GPU-py"
  },
  "language_info": {
   "codemirror_mode": {
    "name": "ipython",
    "version": 3
   },
   "file_extension": ".py",
   "mimetype": "text/x-python",
   "name": "python",
   "nbconvert_exporter": "python",
   "pygments_lexer": "ipython3",
   "version": "3.7.10"
  }
 },
 "nbformat": 4,
 "nbformat_minor": 4
}

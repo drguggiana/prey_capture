{
 "cells": [
  {
   "cell_type": "markdown",
   "metadata": {},
   "source": [
    "# This notebook works with the already created project Prey_capture, with an already defined config.yaml"
   ]
  },
  {
   "cell_type": "code",
   "execution_count": 1,
   "metadata": {},
   "outputs": [],
   "source": [
    "import deeplabcut\n",
    "import paths\n",
    "# define the config_path\n",
    "config_path = paths.config_path"
   ]
  },
  {
   "cell_type": "code",
   "execution_count": 4,
   "metadata": {
    "collapsed": true
   },
   "outputs": [
    {
     "name": "stdout",
     "output_type": "stream",
     "text": [
      "Config file read successfully.\n",
      "Do you want to extract (perhaps additional) frames for video: D:\\DLC_projects\\Prey_capture\\Prey_capture-Drago Guggiana-2020-03-26\\videos\\03_02_2020_15_35_18_miniscope_MM_200129_a_succ_nomini.avi ?\n",
      "yes/noyes\n"
     ]
    },
    {
     "name": "stderr",
     "output_type": "stream",
     "text": [
      "11it [00:00, 105.86it/s]"
     ]
    },
    {
     "name": "stdout",
     "output_type": "stream",
     "text": [
      "Extracting frames based on kmeans ...\n",
      "Kmeans-quantization based extracting of frames from 0.0  seconds to 43.47  seconds.\n",
      "Extracting and downsampling... 1304  frames from the video.\n"
     ]
    },
    {
     "name": "stderr",
     "output_type": "stream",
     "text": [
      "1304it [00:06, 200.02it/s]\n"
     ]
    },
    {
     "name": "stdout",
     "output_type": "stream",
     "text": [
      "Kmeans clustering ... (this might take a while)\n",
      "Do you want to extract (perhaps additional) frames for video: D:\\DLC_projects\\Prey_capture\\Prey_capture-Drago Guggiana-2020-03-26\\videos\\03_02_2020_15_41_21_miniscope_MM_200129_a_succ_nomini.avi ?\n",
      "yes/noyes\n"
     ]
    },
    {
     "name": "stderr",
     "output_type": "stream",
     "text": [
      "12it [00:00, 115.42it/s]"
     ]
    },
    {
     "name": "stdout",
     "output_type": "stream",
     "text": [
      "Extracting frames based on kmeans ...\n",
      "Kmeans-quantization based extracting of frames from 0.0  seconds to 41.73  seconds.\n",
      "Extracting and downsampling... 1252  frames from the video.\n"
     ]
    },
    {
     "name": "stderr",
     "output_type": "stream",
     "text": [
      "1252it [00:06, 202.93it/s]\n"
     ]
    },
    {
     "name": "stdout",
     "output_type": "stream",
     "text": [
      "Kmeans clustering ... (this might take a while)\n",
      "Do you want to extract (perhaps additional) frames for video: D:\\DLC_projects\\Prey_capture\\Prey_capture-Drago Guggiana-2020-03-26\\videos\\03_02_2020_15_45_20_miniscope_MM_200129_a_succ_nomini.avi ?\n",
      "yes/nono\n",
      "Do you want to extract (perhaps additional) frames for video: D:\\DLC_projects\\Prey_capture\\Prey_capture-Drago Guggiana-2020-03-26\\videos\\03_02_2020_15_50_05_miniscope_MM_200129_a_succ.avi ?\n",
      "yes/nono\n",
      "Do you want to extract (perhaps additional) frames for video: D:\\DLC_projects\\Prey_capture\\Prey_capture-Drago Guggiana-2020-03-26\\videos\\03_02_2020_15_54_55_miniscope_MM_200129_a_succ.avi ?\n",
      "yes/nono\n",
      "Do you want to extract (perhaps additional) frames for video: D:\\DLC_projects\\Prey_capture\\Prey_capture-Drago Guggiana-2020-03-26\\videos\\03_02_2020_15_59_15_miniscope_MM_200129_a_succ.avi ?\n",
      "yes/nono\n",
      "Do you want to extract (perhaps additional) frames for video: D:\\DLC_projects\\Prey_capture\\Prey_capture-Drago Guggiana-2020-03-26\\videos\\03_02_2020_16_09_51_miniscope_MM_200129_b_fail.avi ?\n",
      "yes/noyes\n"
     ]
    },
    {
     "name": "stderr",
     "output_type": "stream",
     "text": [
      "2it [00:00, 19.82it/s]"
     ]
    },
    {
     "name": "stdout",
     "output_type": "stream",
     "text": [
      "Extracting frames based on kmeans ...\n",
      "Kmeans-quantization based extracting of frames from 0.0  seconds to 141.63  seconds.\n",
      "Extracting and downsampling... 4249  frames from the video.\n"
     ]
    },
    {
     "name": "stderr",
     "output_type": "stream",
     "text": [
      "4249it [00:21, 195.45it/s]\n"
     ]
    },
    {
     "name": "stdout",
     "output_type": "stream",
     "text": [
      "Kmeans clustering ... (this might take a while)\n",
      "Do you want to extract (perhaps additional) frames for video: D:\\DLC_projects\\Prey_capture\\Prey_capture-Drago Guggiana-2020-03-26\\videos\\03_02_2020_16_15_37_miniscope_MM_200129_b_fail.avi ?\n",
      "yes/nono\n",
      "Do you want to extract (perhaps additional) frames for video: D:\\DLC_projects\\Prey_capture\\Prey_capture-Drago Guggiana-2020-03-26\\videos\\03_02_2020_16_20_39_miniscope_MM_200129_b_succ.avi ?\n",
      "yes/noyes\n"
     ]
    },
    {
     "name": "stderr",
     "output_type": "stream",
     "text": [
      "10it [00:00, 95.27it/s]"
     ]
    },
    {
     "name": "stdout",
     "output_type": "stream",
     "text": [
      "Extracting frames based on kmeans ...\n",
      "Kmeans-quantization based extracting of frames from 0.0  seconds to 49.83  seconds.\n",
      "Extracting and downsampling... 1495  frames from the video.\n"
     ]
    },
    {
     "name": "stderr",
     "output_type": "stream",
     "text": [
      "1495it [00:07, 199.26it/s]\n"
     ]
    },
    {
     "name": "stdout",
     "output_type": "stream",
     "text": [
      "Kmeans clustering ... (this might take a while)\n",
      "Do you want to extract (perhaps additional) frames for video: D:\\DLC_projects\\Prey_capture\\Prey_capture-Drago Guggiana-2020-03-26\\videos\\03_02_2020_16_29_48_miniscope_MM_200129_b_succ.avi ?\n",
      "yes/noyes\n"
     ]
    },
    {
     "name": "stderr",
     "output_type": "stream",
     "text": [
      "33it [00:00, 132.99it/s]"
     ]
    },
    {
     "name": "stdout",
     "output_type": "stream",
     "text": [
      "Extracting frames based on kmeans ...\n",
      "Kmeans-quantization based extracting of frames from 0.0  seconds to 55.93  seconds.\n",
      "Extracting and downsampling... 1678  frames from the video.\n"
     ]
    },
    {
     "name": "stderr",
     "output_type": "stream",
     "text": [
      "1678it [00:08, 200.37it/s]\n"
     ]
    },
    {
     "name": "stdout",
     "output_type": "stream",
     "text": [
      "Kmeans clustering ... (this might take a while)\n",
      "Do you want to extract (perhaps additional) frames for video: D:\\DLC_projects\\Prey_capture\\Prey_capture-Drago Guggiana-2020-03-26\\videos\\03_04_2020_15_37_26_miniscope_MM_200129_a_succ.avi ?\n",
      "yes/nono\n",
      "Do you want to extract (perhaps additional) frames for video: D:\\DLC_projects\\Prey_capture\\Prey_capture-Drago Guggiana-2020-03-26\\videos\\03_04_2020_15_42_07_miniscope_MM_200129_a_succ.avi ?\n",
      "yes/nono\n",
      "Do you want to extract (perhaps additional) frames for video: D:\\DLC_projects\\Prey_capture\\Prey_capture-Drago Guggiana-2020-03-26\\videos\\03_04_2020_15_46_47_miniscope_MM_200129_a_succ.avi ?\n",
      "yes/nono\n",
      "Do you want to extract (perhaps additional) frames for video: D:\\DLC_projects\\Prey_capture\\Prey_capture-Drago Guggiana-2020-03-26\\videos\\03_04_2020_15_54_26_miniscope_MM_200129_a_succ.avi ?\n",
      "yes/nono\n",
      "Do you want to extract (perhaps additional) frames for video: D:\\DLC_projects\\Prey_capture\\Prey_capture-Drago Guggiana-2020-03-26\\videos\\03_04_2020_16_05_47_miniscope_MM_200129_b_succ.avi ?\n",
      "yes/noyes\n"
     ]
    },
    {
     "name": "stderr",
     "output_type": "stream",
     "text": [
      "10it [00:00, 96.18it/s]"
     ]
    },
    {
     "name": "stdout",
     "output_type": "stream",
     "text": [
      "Extracting frames based on kmeans ...\n",
      "Kmeans-quantization based extracting of frames from 0.0  seconds to 76.67  seconds.\n",
      "Extracting and downsampling... 2300  frames from the video.\n"
     ]
    },
    {
     "name": "stderr",
     "output_type": "stream",
     "text": [
      "2300it [00:11, 202.40it/s]\n"
     ]
    },
    {
     "name": "stdout",
     "output_type": "stream",
     "text": [
      "Kmeans clustering ... (this might take a while)\n",
      "Do you want to extract (perhaps additional) frames for video: D:\\DLC_projects\\Prey_capture\\Prey_capture-Drago Guggiana-2020-03-26\\videos\\03_04_2020_16_12_03_miniscope_MM_200129_b_succ.avi ?\n",
      "yes/nono\n",
      "Do you want to extract (perhaps additional) frames for video: D:\\DLC_projects\\Prey_capture\\Prey_capture-Drago Guggiana-2020-03-26\\videos\\03_04_2020_16_16_18_miniscope_MM_200129_b_succ.avi ?\n",
      "yes/nono\n",
      "Do you want to extract (perhaps additional) frames for video: D:\\DLC_projects\\Prey_capture\\Prey_capture-Drago Guggiana-2020-03-26\\videos\\03_04_2020_16_18_47_miniscope_MM_200129_b_succ.avi ?\n",
      "yes/nono\n",
      "Do you want to extract (perhaps additional) frames for video: D:\\DLC_projects\\Prey_capture\\Prey_capture-Drago Guggiana-2020-03-26\\videos\\03_05_2020_15_32_18_miniscope_MM_200129_a_succ.avi ?\n",
      "yes/nono\n",
      "Do you want to extract (perhaps additional) frames for video: D:\\DLC_projects\\Prey_capture\\Prey_capture-Drago Guggiana-2020-03-26\\videos\\03_05_2020_15_35_45_miniscope_MM_200129_a_succ.avi ?\n",
      "yes/nono\n",
      "Do you want to extract (perhaps additional) frames for video: D:\\DLC_projects\\Prey_capture\\Prey_capture-Drago Guggiana-2020-03-26\\videos\\03_05_2020_15_39_38_miniscope_MM_200129_a_succ.avi ?\n",
      "yes/nono\n",
      "Do you want to extract (perhaps additional) frames for video: D:\\DLC_projects\\Prey_capture\\Prey_capture-Drago Guggiana-2020-03-26\\videos\\03_05_2020_15_46_40_miniscope_MM_200129_a_succ.avi ?\n",
      "yes/nono\n",
      "Do you want to extract (perhaps additional) frames for video: D:\\DLC_projects\\Prey_capture\\Prey_capture-Drago Guggiana-2020-03-26\\videos\\03_05_2020_15_56_12_miniscope_MM_200129_b_succ.avi ?\n",
      "yes/nono\n",
      "Do you want to extract (perhaps additional) frames for video: D:\\DLC_projects\\Prey_capture\\Prey_capture-Drago Guggiana-2020-03-26\\videos\\03_05_2020_15_59_48_miniscope_MM_200129_b_succ.avi ?\n",
      "yes/nono\n",
      "Do you want to extract (perhaps additional) frames for video: D:\\DLC_projects\\Prey_capture\\Prey_capture-Drago Guggiana-2020-03-26\\videos\\03_05_2020_16_07_59_miniscope_MM_200129_b_succ.avi ?\n",
      "yes/nono\n",
      "Do you want to extract (perhaps additional) frames for video: D:\\DLC_projects\\Prey_capture\\Prey_capture-Drago Guggiana-2020-03-26\\videos\\03_05_2020_16_13_46_miniscope_MM_200129_b_succ.avi ?\n",
      "yes/nono\n",
      "Do you want to extract (perhaps additional) frames for video: D:\\DLC_projects\\Prey_capture\\Prey_capture-Drago Guggiana-2020-03-26\\videos\\03_06_2020_15_49_03_miniscope_MM_200129_a_succ.avi ?\n",
      "yes/nono\n",
      "Do you want to extract (perhaps additional) frames for video: D:\\DLC_projects\\Prey_capture\\Prey_capture-Drago Guggiana-2020-03-26\\videos\\03_06_2020_15_53_37_miniscope_MM_200129_a_succ.avi ?\n",
      "yes/nono\n",
      "Do you want to extract (perhaps additional) frames for video: D:\\DLC_projects\\Prey_capture\\Prey_capture-Drago Guggiana-2020-03-26\\videos\\03_06_2020_16_00_37_miniscope_MM_200129_a_succ.avi ?\n",
      "yes/nono\n",
      "Do you want to extract (perhaps additional) frames for video: D:\\DLC_projects\\Prey_capture\\Prey_capture-Drago Guggiana-2020-03-26\\videos\\03_06_2020_16_04_24_miniscope_MM_200129_a_succ.avi ?\n",
      "yes/noyes\n"
     ]
    },
    {
     "name": "stderr",
     "output_type": "stream",
     "text": [
      "7it [00:00, 68.67it/s]"
     ]
    },
    {
     "name": "stdout",
     "output_type": "stream",
     "text": [
      "Extracting frames based on kmeans ...\n",
      "Kmeans-quantization based extracting of frames from 0.0  seconds to 13.43  seconds.\n",
      "Extracting and downsampling... 403  frames from the video.\n"
     ]
    },
    {
     "name": "stderr",
     "output_type": "stream",
     "text": [
      "403it [00:02, 185.14it/s]\n"
     ]
    },
    {
     "name": "stdout",
     "output_type": "stream",
     "text": [
      "Kmeans clustering ... (this might take a while)\n",
      "Do you want to extract (perhaps additional) frames for video: D:\\DLC_projects\\Prey_capture\\Prey_capture-Drago Guggiana-2020-03-26\\videos\\03_06_2020_16_17_02_miniscope_MM_200129_b_succ.avi ?\n",
      "yes/noyes\n"
     ]
    },
    {
     "name": "stderr",
     "output_type": "stream",
     "text": [
      "9it [00:00, 85.75it/s]"
     ]
    },
    {
     "name": "stdout",
     "output_type": "stream",
     "text": [
      "Extracting frames based on kmeans ...\n",
      "Kmeans-quantization based extracting of frames from 0.0  seconds to 21.67  seconds.\n",
      "Extracting and downsampling... 650  frames from the video.\n"
     ]
    },
    {
     "name": "stderr",
     "output_type": "stream",
     "text": [
      "650it [00:03, 193.10it/s]\n"
     ]
    },
    {
     "name": "stdout",
     "output_type": "stream",
     "text": [
      "Kmeans clustering ... (this might take a while)\n",
      "Do you want to extract (perhaps additional) frames for video: D:\\DLC_projects\\Prey_capture\\Prey_capture-Drago Guggiana-2020-03-26\\videos\\03_06_2020_16_20_40_miniscope_MM_200129_b_succ.avi ?\n",
      "yes/nono\n",
      "Do you want to extract (perhaps additional) frames for video: D:\\DLC_projects\\Prey_capture\\Prey_capture-Drago Guggiana-2020-03-26\\videos\\03_06_2020_16_25_04_miniscope_MM_200129_b_succ.avi ?\n",
      "yes/nono\n",
      "Do you want to extract (perhaps additional) frames for video: D:\\DLC_projects\\Prey_capture\\Prey_capture-Drago Guggiana-2020-03-26\\videos\\03_06_2020_16_30_52_miniscope_MM_200129_b_succ.avi ?\n",
      "yes/nono\n",
      "Do you want to extract (perhaps additional) frames for video: D:\\DLC_projects\\Prey_capture\\Prey_capture-Drago Guggiana-2020-03-26\\videos\\03_10_2020_15_48_48_miniscope_MM_200129_a_succ.avi ?\n",
      "yes/nono\n",
      "Do you want to extract (perhaps additional) frames for video: D:\\DLC_projects\\Prey_capture\\Prey_capture-Drago Guggiana-2020-03-26\\videos\\03_10_2020_15_52_35_miniscope_MM_200129_a_succ.avi ?\n",
      "yes/noyes\n"
     ]
    },
    {
     "name": "stderr",
     "output_type": "stream",
     "text": [
      "7it [00:00, 67.99it/s]"
     ]
    },
    {
     "name": "stdout",
     "output_type": "stream",
     "text": [
      "Extracting frames based on kmeans ...\n",
      "Kmeans-quantization based extracting of frames from 0.0  seconds to 15.9  seconds.\n",
      "Extracting and downsampling... 477  frames from the video.\n"
     ]
    },
    {
     "name": "stderr",
     "output_type": "stream",
     "text": [
      "477it [00:02, 184.84it/s]\n"
     ]
    },
    {
     "name": "stdout",
     "output_type": "stream",
     "text": [
      "Kmeans clustering ... (this might take a while)\n",
      "Do you want to extract (perhaps additional) frames for video: D:\\DLC_projects\\Prey_capture\\Prey_capture-Drago Guggiana-2020-03-26\\videos\\03_10_2020_15_56_24_miniscope_MM_200129_a_succ.avi ?\n",
      "yes/nono\n",
      "Do you want to extract (perhaps additional) frames for video: D:\\DLC_projects\\Prey_capture\\Prey_capture-Drago Guggiana-2020-03-26\\videos\\03_10_2020_16_00_39_miniscope_MM_200129_a_succ.avi ?\n",
      "yes/nono\n",
      "Do you want to extract (perhaps additional) frames for video: D:\\DLC_projects\\Prey_capture\\Prey_capture-Drago Guggiana-2020-03-26\\videos\\03_10_2020_16_09_06_miniscope_MM_200129_b_succ.avi ?\n",
      "yes/nono\n",
      "Do you want to extract (perhaps additional) frames for video: D:\\DLC_projects\\Prey_capture\\Prey_capture-Drago Guggiana-2020-03-26\\videos\\03_10_2020_16_13_35_miniscope_MM_200129_b_succ.avi ?\n",
      "yes/noyes\n"
     ]
    },
    {
     "name": "stderr",
     "output_type": "stream",
     "text": [
      "14it [00:00, 137.30it/s]"
     ]
    },
    {
     "name": "stdout",
     "output_type": "stream",
     "text": [
      "Extracting frames based on kmeans ...\n",
      "Kmeans-quantization based extracting of frames from 0.0  seconds to 14.5  seconds.\n",
      "Extracting and downsampling... 435  frames from the video.\n"
     ]
    },
    {
     "name": "stderr",
     "output_type": "stream",
     "text": [
      "435it [00:02, 201.22it/s]\n"
     ]
    },
    {
     "name": "stdout",
     "output_type": "stream",
     "text": [
      "Kmeans clustering ... (this might take a while)\n",
      "Do you want to extract (perhaps additional) frames for video: D:\\DLC_projects\\Prey_capture\\Prey_capture-Drago Guggiana-2020-03-26\\videos\\03_10_2020_16_17_45_miniscope_MM_200129_b_succ.avi ?\n",
      "yes/noyes\n"
     ]
    },
    {
     "name": "stderr",
     "output_type": "stream",
     "text": [
      "3it [00:00, 28.59it/s]"
     ]
    },
    {
     "name": "stdout",
     "output_type": "stream",
     "text": [
      "Extracting frames based on kmeans ...\n",
      "Kmeans-quantization based extracting of frames from 0.0  seconds to 15.37  seconds.\n",
      "Extracting and downsampling... 461  frames from the video.\n"
     ]
    },
    {
     "name": "stderr",
     "output_type": "stream",
     "text": [
      "461it [00:02, 186.22it/s]\n"
     ]
    },
    {
     "name": "stdout",
     "output_type": "stream",
     "text": [
      "Kmeans clustering ... (this might take a while)\n",
      "Do you want to extract (perhaps additional) frames for video: D:\\DLC_projects\\Prey_capture\\Prey_capture-Drago Guggiana-2020-03-26\\videos\\03_10_2020_16_21_31_miniscope_MM_200129_b_succ.avi ?\n",
      "yes/nono\n",
      "Do you want to extract (perhaps additional) frames for video: D:\\DLC_projects\\Prey_capture\\Prey_capture-Drago Guggiana-2020-03-26\\videos\\03_11_2020_15_58_51_miniscope_MM_200129_a_succ.avi ?\n",
      "yes/nono\n",
      "Do you want to extract (perhaps additional) frames for video: D:\\DLC_projects\\Prey_capture\\Prey_capture-Drago Guggiana-2020-03-26\\videos\\03_11_2020_16_02_24_miniscope_MM_200129_a_succ.avi ?\n",
      "yes/nono\n",
      "Do you want to extract (perhaps additional) frames for video: D:\\DLC_projects\\Prey_capture\\Prey_capture-Drago Guggiana-2020-03-26\\videos\\03_11_2020_16_10_08_miniscope_MM_200129_a_succ.avi ?\n",
      "yes/nono\n",
      "Do you want to extract (perhaps additional) frames for video: D:\\DLC_projects\\Prey_capture\\Prey_capture-Drago Guggiana-2020-03-26\\videos\\03_11_2020_16_14_11_miniscope_MM_200129_a_succ.avi ?\n",
      "yes/nono\n",
      "Do you want to extract (perhaps additional) frames for video: D:\\DLC_projects\\Prey_capture\\Prey_capture-Drago Guggiana-2020-03-26\\videos\\03_11_2020_16_37_26_miniscope_MM_200129_b_succ.avi ?\n",
      "yes/nono\n",
      "Do you want to extract (perhaps additional) frames for video: D:\\DLC_projects\\Prey_capture\\Prey_capture-Drago Guggiana-2020-03-26\\videos\\03_11_2020_16_42_47_miniscope_MM_200129_b_succ.avi ?\n",
      "yes/nono\n",
      "Do you want to extract (perhaps additional) frames for video: D:\\DLC_projects\\Prey_capture\\Prey_capture-Drago Guggiana-2020-03-26\\videos\\03_11_2020_16_47_49_miniscope_MM_200129_b_succ.avi ?\n",
      "yes/noyes\n"
     ]
    },
    {
     "name": "stderr",
     "output_type": "stream",
     "text": [
      "15it [00:00, 144.29it/s]"
     ]
    },
    {
     "name": "stdout",
     "output_type": "stream",
     "text": [
      "Extracting frames based on kmeans ...\n",
      "Kmeans-quantization based extracting of frames from 0.0  seconds to 13.5  seconds.\n",
      "Extracting and downsampling... 405  frames from the video.\n"
     ]
    },
    {
     "name": "stderr",
     "output_type": "stream",
     "text": [
      "405it [00:02, 196.43it/s]\n"
     ]
    },
    {
     "name": "stdout",
     "output_type": "stream",
     "text": [
      "Kmeans clustering ... (this might take a while)\n",
      "Do you want to extract (perhaps additional) frames for video: D:\\DLC_projects\\Prey_capture\\Prey_capture-Drago Guggiana-2020-03-26\\videos\\03_11_2020_16_52_20_miniscope_MM_200129_b_succ.avi ?\n",
      "yes/nono\n",
      "Do you want to extract (perhaps additional) frames for video: D:\\DLC_projects\\Prey_capture\\Prey_capture-Drago Guggiana-2020-03-26\\videos\\03_12_2020_16_23_09_miniscope_MM_200129_a_succ.avi ?\n",
      "yes/nono\n",
      "Do you want to extract (perhaps additional) frames for video: D:\\DLC_projects\\Prey_capture\\Prey_capture-Drago Guggiana-2020-03-26\\videos\\03_12_2020_16_25_39_miniscope_MM_200129_a_succ.avi ?\n",
      "yes/nono\n",
      "Do you want to extract (perhaps additional) frames for video: D:\\DLC_projects\\Prey_capture\\Prey_capture-Drago Guggiana-2020-03-26\\videos\\03_12_2020_16_30_37_miniscope_MM_200129_a_succ.avi ?\n",
      "yes/nono\n",
      "Do you want to extract (perhaps additional) frames for video: D:\\DLC_projects\\Prey_capture\\Prey_capture-Drago Guggiana-2020-03-26\\videos\\03_12_2020_16_32_46_miniscope_MM_200129_a_succ.avi ?\n",
      "yes/nono\n",
      "Do you want to extract (perhaps additional) frames for video: D:\\DLC_projects\\Prey_capture\\Prey_capture-Drago Guggiana-2020-03-26\\videos\\03_12_2020_16_44_47_miniscope_MM_200129_b_succ.avi ?\n",
      "yes/noyes\n"
     ]
    },
    {
     "name": "stderr",
     "output_type": "stream",
     "text": [
      "12it [00:00, 115.45it/s]"
     ]
    },
    {
     "name": "stdout",
     "output_type": "stream",
     "text": [
      "Extracting frames based on kmeans ...\n",
      "Kmeans-quantization based extracting of frames from 0.0  seconds to 13.9  seconds.\n",
      "Extracting and downsampling... 417  frames from the video.\n"
     ]
    },
    {
     "name": "stderr",
     "output_type": "stream",
     "text": [
      "417it [00:02, 196.44it/s]\n"
     ]
    },
    {
     "name": "stdout",
     "output_type": "stream",
     "text": [
      "Kmeans clustering ... (this might take a while)\n",
      "Do you want to extract (perhaps additional) frames for video: D:\\DLC_projects\\Prey_capture\\Prey_capture-Drago Guggiana-2020-03-26\\videos\\03_12_2020_16_49_07_miniscope_MM_200129_b_succ.avi ?\n",
      "yes/nono\n",
      "Do you want to extract (perhaps additional) frames for video: D:\\DLC_projects\\Prey_capture\\Prey_capture-Drago Guggiana-2020-03-26\\videos\\03_12_2020_16_52_33_miniscope_MM_200129_b_succ.avi ?\n",
      "yes/nono\n",
      "Do you want to extract (perhaps additional) frames for video: D:\\DLC_projects\\Prey_capture\\Prey_capture-Drago Guggiana-2020-03-26\\videos\\03_12_2020_16_56_04_miniscope_MM_200129_b_succ.avi ?\n",
      "yes/nono\n",
      "Do you want to extract (perhaps additional) frames for video: D:\\DLC_projects\\Prey_capture\\Prey_capture-Drago Guggiana-2020-03-26\\videos\\03_13_2020_13_10_44_miniscope_MM_200129_a_succ.avi ?\n",
      "yes/nono\n",
      "Do you want to extract (perhaps additional) frames for video: D:\\DLC_projects\\Prey_capture\\Prey_capture-Drago Guggiana-2020-03-26\\videos\\03_13_2020_13_14_07_miniscope_MM_200129_a_succ.avi ?\n",
      "yes/nono\n",
      "Do you want to extract (perhaps additional) frames for video: D:\\DLC_projects\\Prey_capture\\Prey_capture-Drago Guggiana-2020-03-26\\videos\\03_13_2020_13_20_21_miniscope_MM_200129_a_succ.avi ?\n",
      "yes/nono\n",
      "Do you want to extract (perhaps additional) frames for video: D:\\DLC_projects\\Prey_capture\\Prey_capture-Drago Guggiana-2020-03-26\\videos\\03_13_2020_13_25_36_miniscope_MM_200129_a_succ.avi ?\n",
      "yes/noyes\n"
     ]
    },
    {
     "name": "stderr",
     "output_type": "stream",
     "text": [
      "9it [00:00, 86.59it/s]"
     ]
    },
    {
     "name": "stdout",
     "output_type": "stream",
     "text": [
      "Extracting frames based on kmeans ...\n",
      "Kmeans-quantization based extracting of frames from 0.0  seconds to 14.97  seconds.\n",
      "Extracting and downsampling... 449  frames from the video.\n"
     ]
    },
    {
     "name": "stderr",
     "output_type": "stream",
     "text": [
      "449it [00:02, 188.44it/s]\n"
     ]
    },
    {
     "name": "stdout",
     "output_type": "stream",
     "text": [
      "Kmeans clustering ... (this might take a while)\n",
      "Do you want to extract (perhaps additional) frames for video: D:\\DLC_projects\\Prey_capture\\Prey_capture-Drago Guggiana-2020-03-26\\videos\\03_13_2020_13_44_46_miniscope_MM_200129_b_succ.avi ?\n",
      "yes/noyes\n"
     ]
    },
    {
     "name": "stderr",
     "output_type": "stream",
     "text": [
      "9it [00:00, 89.16it/s]"
     ]
    },
    {
     "name": "stdout",
     "output_type": "stream",
     "text": [
      "Extracting frames based on kmeans ...\n",
      "Kmeans-quantization based extracting of frames from 0.0  seconds to 19.4  seconds.\n",
      "Extracting and downsampling... 582  frames from the video.\n"
     ]
    },
    {
     "name": "stderr",
     "output_type": "stream",
     "text": [
      "582it [00:03, 189.99it/s]\n"
     ]
    },
    {
     "name": "stdout",
     "output_type": "stream",
     "text": [
      "Kmeans clustering ... (this might take a while)\n",
      "Do you want to extract (perhaps additional) frames for video: D:\\DLC_projects\\Prey_capture\\Prey_capture-Drago Guggiana-2020-03-26\\videos\\03_13_2020_13_49_34_miniscope_MM_200129_b_succ.avi ?\n",
      "yes/nono\n",
      "Do you want to extract (perhaps additional) frames for video: D:\\DLC_projects\\Prey_capture\\Prey_capture-Drago Guggiana-2020-03-26\\videos\\03_13_2020_13_53_47_miniscope_MM_200129_b_succ.avi ?\n",
      "yes/nono\n",
      "Do you want to extract (perhaps additional) frames for video: D:\\DLC_projects\\Prey_capture\\Prey_capture-Drago Guggiana-2020-03-26\\videos\\03_13_2020_14_00_19_miniscope_MM_200129_b_succ.avi ?\n",
      "yes/nono\n",
      "Do you want to extract (perhaps additional) frames for video: D:\\DLC_projects\\Prey_capture\\Prey_capture-Drago Guggiana-2020-03-26\\videos\\11_11_2019_00_41_27_miniscope_DG_190806_a_fail_nomini.avi ?\n",
      "yes/nono\n",
      "Do you want to extract (perhaps additional) frames for video: D:\\DLC_projects\\Prey_capture\\Prey_capture-Drago Guggiana-2020-03-26\\videos\\11_11_2019_00_49_07_miniscope_DG_190806_a_fail_nomini.avi ?\n",
      "yes/noyes\n"
     ]
    },
    {
     "name": "stderr",
     "output_type": "stream",
     "text": [
      "8it [00:00, 76.95it/s]"
     ]
    },
    {
     "name": "stdout",
     "output_type": "stream",
     "text": [
      "Extracting frames based on kmeans ...\n",
      "Kmeans-quantization based extracting of frames from 0.0  seconds to 9.73  seconds.\n",
      "Extracting and downsampling... 292  frames from the video.\n"
     ]
    },
    {
     "name": "stderr",
     "output_type": "stream",
     "text": [
      "292it [00:01, 183.75it/s]\n"
     ]
    },
    {
     "name": "stdout",
     "output_type": "stream",
     "text": [
      "Kmeans clustering ... (this might take a while)\n",
      "Do you want to extract (perhaps additional) frames for video: D:\\DLC_projects\\Prey_capture\\Prey_capture-Drago Guggiana-2020-03-26\\videos\\11_11_2019_00_54_37_miniscope_DG_190806_a_fail_nomini.avi ?\n",
      "yes/noyes\n"
     ]
    },
    {
     "name": "stderr",
     "output_type": "stream",
     "text": [
      "10it [00:00, 99.07it/s]"
     ]
    },
    {
     "name": "stdout",
     "output_type": "stream",
     "text": [
      "Extracting frames based on kmeans ...\n",
      "Kmeans-quantization based extracting of frames from 0.0  seconds to 132.63  seconds.\n",
      "Extracting and downsampling... 3979  frames from the video.\n"
     ]
    },
    {
     "name": "stderr",
     "output_type": "stream",
     "text": [
      "3979it [00:19, 199.14it/s]\n"
     ]
    },
    {
     "name": "stdout",
     "output_type": "stream",
     "text": [
      "Kmeans clustering ... (this might take a while)\n",
      "Do you want to extract (perhaps additional) frames for video: D:\\DLC_projects\\Prey_capture\\Prey_capture-Drago Guggiana-2020-03-26\\videos\\11_11_2019_01_21_58_miniscope_DG_190806_a_fail_nofluo.avi ?\n",
      "yes/nono\n",
      "Do you want to extract (perhaps additional) frames for video: D:\\DLC_projects\\Prey_capture\\Prey_capture-Drago Guggiana-2020-03-26\\videos\\11_11_2019_22_43_04_miniscope_DG_190806_a_fail_nofluo.avi ?\n",
      "yes/nono\n",
      "Do you want to extract (perhaps additional) frames for video: D:\\DLC_projects\\Prey_capture\\Prey_capture-Drago Guggiana-2020-03-26\\videos\\11_11_2019_22_48_32_miniscope_DG_190806_a_fail_nofluo.avi ?\n",
      "yes/noyes\n"
     ]
    },
    {
     "name": "stderr",
     "output_type": "stream",
     "text": [
      "11it [00:00, 104.82it/s]"
     ]
    },
    {
     "name": "stdout",
     "output_type": "stream",
     "text": [
      "Extracting frames based on kmeans ...\n",
      "Kmeans-quantization based extracting of frames from 0.0  seconds to 167.0  seconds.\n",
      "Extracting and downsampling... 5010  frames from the video.\n"
     ]
    },
    {
     "name": "stderr",
     "output_type": "stream",
     "text": [
      "5010it [00:25, 200.13it/s]\n"
     ]
    },
    {
     "name": "stdout",
     "output_type": "stream",
     "text": [
      "Kmeans clustering ... (this might take a while)\n",
      "Do you want to extract (perhaps additional) frames for video: D:\\DLC_projects\\Prey_capture\\Prey_capture-Drago Guggiana-2020-03-26\\videos\\11_11_2019_22_56_57_miniscope_DG_190806_a_succ_nofluo.avi ?\n",
      "yes/nono\n",
      "Do you want to extract (perhaps additional) frames for video: D:\\DLC_projects\\Prey_capture\\Prey_capture-Drago Guggiana-2020-03-26\\videos\\11_11_2019_23_07_55_miniscope_DG_190806_a_fail_nofluo.avi ?\n",
      "yes/nono\n",
      "Do you want to extract (perhaps additional) frames for video: D:\\DLC_projects\\Prey_capture\\Prey_capture-Drago Guggiana-2020-03-26\\videos\\11_11_2019_23_23_16_miniscope_DG_190810_a_fail_nomini.avi ?\n",
      "yes/nono\n",
      "Do you want to extract (perhaps additional) frames for video: D:\\DLC_projects\\Prey_capture\\Prey_capture-Drago Guggiana-2020-03-26\\videos\\11_11_2019_23_30_06_miniscope_DG_190810_a_succ_nomini.avi ?\n",
      "yes/noyes\n"
     ]
    },
    {
     "name": "stderr",
     "output_type": "stream",
     "text": [
      "11it [00:00, 107.90it/s]"
     ]
    },
    {
     "name": "stdout",
     "output_type": "stream",
     "text": [
      "Extracting frames based on kmeans ...\n",
      "Kmeans-quantization based extracting of frames from 0.0  seconds to 59.33  seconds.\n",
      "Extracting and downsampling... 1780  frames from the video.\n"
     ]
    },
    {
     "name": "stderr",
     "output_type": "stream",
     "text": [
      "1780it [00:08, 198.59it/s]\n"
     ]
    },
    {
     "name": "stdout",
     "output_type": "stream",
     "text": [
      "Kmeans clustering ... (this might take a while)\n",
      "Do you want to extract (perhaps additional) frames for video: D:\\DLC_projects\\Prey_capture\\Prey_capture-Drago Guggiana-2020-03-26\\videos\\11_11_2019_23_35_36_miniscope_DG_190810_a_succ_nomini.avi ?\n",
      "yes/nono\n",
      "Do you want to extract (perhaps additional) frames for video: D:\\DLC_projects\\Prey_capture\\Prey_capture-Drago Guggiana-2020-03-26\\videos\\11_11_2019_23_43_13_miniscope_DG_190810_a_succ_nomini.avi ?\n",
      "yes/nono\n",
      "Do you want to extract (perhaps additional) frames for video: D:\\DLC_projects\\Prey_capture\\Prey_capture-Drago Guggiana-2020-03-26\\videos\\11_12_2019_16_41_32_miniscope_DG_190806_a_succ_nofluobadtrigger.avi ?\n",
      "yes/noyes\n"
     ]
    },
    {
     "name": "stderr",
     "output_type": "stream",
     "text": [
      "12it [00:00, 117.71it/s]"
     ]
    },
    {
     "name": "stdout",
     "output_type": "stream",
     "text": [
      "Extracting frames based on kmeans ...\n",
      "Kmeans-quantization based extracting of frames from 0.0  seconds to 69.27  seconds.\n",
      "Extracting and downsampling... 2078  frames from the video.\n"
     ]
    },
    {
     "name": "stderr",
     "output_type": "stream",
     "text": [
      "2078it [00:10, 193.09it/s]\n"
     ]
    },
    {
     "name": "stdout",
     "output_type": "stream",
     "text": [
      "Kmeans clustering ... (this might take a while)\n",
      "Do you want to extract (perhaps additional) frames for video: D:\\DLC_projects\\Prey_capture\\Prey_capture-Drago Guggiana-2020-03-26\\videos\\11_12_2019_16_47_36_miniscope_DG_190806_a_succ_nofluo.avi ?\n",
      "yes/nono\n",
      "Do you want to extract (perhaps additional) frames for video: D:\\DLC_projects\\Prey_capture\\Prey_capture-Drago Guggiana-2020-03-26\\videos\\11_12_2019_16_50_34_miniscope_DG_190806_a_succ_nofluo.avi ?\n",
      "yes/nono\n",
      "Do you want to extract (perhaps additional) frames for video: D:\\DLC_projects\\Prey_capture\\Prey_capture-Drago Guggiana-2020-03-26\\videos\\11_12_2019_16_54_56_miniscope_DG_190806_a_succ_nofluo.avi ?\n",
      "yes/nono\n",
      "Do you want to extract (perhaps additional) frames for video: D:\\DLC_projects\\Prey_capture\\Prey_capture-Drago Guggiana-2020-03-26\\videos\\11_12_2019_17_02_59_miniscope_DG_190810_a_succ_nomini.avi ?\n",
      "yes/nono\n",
      "Do you want to extract (perhaps additional) frames for video: D:\\DLC_projects\\Prey_capture\\Prey_capture-Drago Guggiana-2020-03-26\\videos\\11_12_2019_17_07_21_miniscope_DG_190810_a_succ_nomini.avi ?\n",
      "yes/nono\n",
      "Do you want to extract (perhaps additional) frames for video: D:\\DLC_projects\\Prey_capture\\Prey_capture-Drago Guggiana-2020-03-26\\videos\\11_12_2019_17_10_51_miniscope_DG_190810_a_succ_nomini.avi ?\n",
      "yes/nono\n",
      "Do you want to extract (perhaps additional) frames for video: D:\\DLC_projects\\Prey_capture\\Prey_capture-Drago Guggiana-2020-03-26\\videos\\11_12_2019_17_14_20_miniscope_DG_190810_a_succ_nomini.avi ?\n",
      "yes/nono\n",
      "Do you want to extract (perhaps additional) frames for video: D:\\DLC_projects\\Prey_capture\\Prey_capture-Drago Guggiana-2020-03-26\\videos\\11_13_2019_17_57_10_miniscope_DG_190806_a_succ_nofluobadtrigger.avi ?\n",
      "yes/nono\n",
      "Do you want to extract (perhaps additional) frames for video: D:\\DLC_projects\\Prey_capture\\Prey_capture-Drago Guggiana-2020-03-26\\videos\\11_13_2019_18_00_39_miniscope_DG_190806_a_succ_nofluo.avi ?\n",
      "yes/nono\n",
      "Do you want to extract (perhaps additional) frames for video: D:\\DLC_projects\\Prey_capture\\Prey_capture-Drago Guggiana-2020-03-26\\videos\\11_13_2019_18_04_22_miniscope_DG_190806_a_succ_nofluo.avi ?\n",
      "yes/nono\n",
      "Do you want to extract (perhaps additional) frames for video: D:\\DLC_projects\\Prey_capture\\Prey_capture-Drago Guggiana-2020-03-26\\videos\\11_13_2019_18_08_16_miniscope_DG_190806_a_succ_nofluo.avi ?\n",
      "yes/nono\n",
      "Do you want to extract (perhaps additional) frames for video: D:\\DLC_projects\\Prey_capture\\Prey_capture-Drago Guggiana-2020-03-26\\videos\\11_13_2019_18_14_36_miniscope_DG_190810_a_succ_nomini.avi ?\n",
      "yes/nono\n",
      "Do you want to extract (perhaps additional) frames for video: D:\\DLC_projects\\Prey_capture\\Prey_capture-Drago Guggiana-2020-03-26\\videos\\11_13_2019_18_19_35_miniscope_DG_190810_a_succ_nomini.avi ?\n",
      "yes/nono\n",
      "Do you want to extract (perhaps additional) frames for video: D:\\DLC_projects\\Prey_capture\\Prey_capture-Drago Guggiana-2020-03-26\\videos\\11_13_2019_18_23_01_miniscope_DG_190810_a_succ_nomini.avi ?\n",
      "yes/nono\n",
      "Do you want to extract (perhaps additional) frames for video: D:\\DLC_projects\\Prey_capture\\Prey_capture-Drago Guggiana-2020-03-26\\videos\\11_13_2019_18_25_56_miniscope_DG_190810_a_succ_nomini.avi ?\n",
      "yes/nono\n",
      "Do you want to extract (perhaps additional) frames for video: D:\\DLC_projects\\Prey_capture\\Prey_capture-Drago Guggiana-2020-03-26\\videos\\11_14_2019_17_15_24_miniscope_DG_190806_a_succ_nofluo.avi ?\n",
      "yes/nono\n",
      "Do you want to extract (perhaps additional) frames for video: D:\\DLC_projects\\Prey_capture\\Prey_capture-Drago Guggiana-2020-03-26\\videos\\11_14_2019_17_19_46_miniscope_DG_190806_a_succ_nofluo.avi ?\n",
      "yes/nono\n",
      "Do you want to extract (perhaps additional) frames for video: D:\\DLC_projects\\Prey_capture\\Prey_capture-Drago Guggiana-2020-03-26\\videos\\11_14_2019_17_24_28_miniscope_DG_190806_a_succ_nofluo.avi ?\n",
      "yes/nono\n",
      "Do you want to extract (perhaps additional) frames for video: D:\\DLC_projects\\Prey_capture\\Prey_capture-Drago Guggiana-2020-03-26\\videos\\11_14_2019_17_30_44_miniscope_DG_190806_a_succ_nofluo.avi ?\n",
      "yes/nono\n",
      "Do you want to extract (perhaps additional) frames for video: D:\\DLC_projects\\Prey_capture\\Prey_capture-Drago Guggiana-2020-03-26\\videos\\11_14_2019_17_39_46_miniscope_DG_190810_a_succ_nomini.avi ?\n",
      "yes/nono\n",
      "Do you want to extract (perhaps additional) frames for video: D:\\DLC_projects\\Prey_capture\\Prey_capture-Drago Guggiana-2020-03-26\\videos\\11_14_2019_17_43_07_miniscope_DG_190810_a_succ_nomini.avi ?\n",
      "yes/nono\n",
      "Do you want to extract (perhaps additional) frames for video: D:\\DLC_projects\\Prey_capture\\Prey_capture-Drago Guggiana-2020-03-26\\videos\\11_14_2019_17_46_42_miniscope_DG_190810_a_succ_nomini.avi ?\n",
      "yes/nono\n",
      "Do you want to extract (perhaps additional) frames for video: D:\\DLC_projects\\Prey_capture\\Prey_capture-Drago Guggiana-2020-03-26\\videos\\11_14_2019_17_50_12_miniscope_DG_190810_a_succ_nomini.avi ?\n",
      "yes/nono\n",
      "Do you want to extract (perhaps additional) frames for video: D:\\DLC_projects\\Prey_capture\\Prey_capture-Drago Guggiana-2020-03-26\\videos\\11_25_2019_14_30_43_miniscope_MM_191105_a_fail_nomini.avi ?\n",
      "yes/nono\n",
      "Do you want to extract (perhaps additional) frames for video: D:\\DLC_projects\\Prey_capture\\Prey_capture-Drago Guggiana-2020-03-26\\videos\\11_25_2019_14_38_45_miniscope_MM_191105_a_fail_nomini.avi ?\n",
      "yes/nono\n",
      "Do you want to extract (perhaps additional) frames for video: D:\\DLC_projects\\Prey_capture\\Prey_capture-Drago Guggiana-2020-03-26\\videos\\11_25_2019_14_47_40_miniscope_MM_191105_a_fail_nomini.avi ?\n",
      "yes/nono\n",
      "Do you want to extract (perhaps additional) frames for video: D:\\DLC_projects\\Prey_capture\\Prey_capture-Drago Guggiana-2020-03-26\\videos\\11_25_2019_14_55_06_miniscope_MM_191105_a_fail_nomini.avi ?\n",
      "yes/nono\n",
      "Do you want to extract (perhaps additional) frames for video: D:\\DLC_projects\\Prey_capture\\Prey_capture-Drago Guggiana-2020-03-26\\videos\\11_25_2019_15_09_04_miniscope_MM_191106_a_fail_nomini.avi ?\n",
      "yes/nono\n",
      "Do you want to extract (perhaps additional) frames for video: D:\\DLC_projects\\Prey_capture\\Prey_capture-Drago Guggiana-2020-03-26\\videos\\11_25_2019_15_15_55_miniscope_MM_191106_a_fail_nomini.avi ?\n",
      "yes/nono\n",
      "Do you want to extract (perhaps additional) frames for video: D:\\DLC_projects\\Prey_capture\\Prey_capture-Drago Guggiana-2020-03-26\\videos\\11_25_2019_15_22_31_miniscope_MM_191106_a_fail_nomini.avi ?\n",
      "yes/nono\n",
      "Do you want to extract (perhaps additional) frames for video: D:\\DLC_projects\\Prey_capture\\Prey_capture-Drago Guggiana-2020-03-26\\videos\\11_25_2019_15_28_57_miniscope_MM_191106_a_fail_nomini.avi ?\n",
      "yes/nono\n",
      "Do you want to extract (perhaps additional) frames for video: D:\\DLC_projects\\Prey_capture\\Prey_capture-Drago Guggiana-2020-03-26\\videos\\11_25_2019_15_43_30_miniscope_MM_191107_a_fail_nomini.avi ?\n",
      "yes/nono\n",
      "Do you want to extract (perhaps additional) frames for video: D:\\DLC_projects\\Prey_capture\\Prey_capture-Drago Guggiana-2020-03-26\\videos\\11_25_2019_15_49_41_miniscope_MM_191107_a_fail_nomini.avi ?\n",
      "yes/nono\n",
      "Do you want to extract (perhaps additional) frames for video: D:\\DLC_projects\\Prey_capture\\Prey_capture-Drago Guggiana-2020-03-26\\videos\\11_25_2019_15_58_05_miniscope_MM_191107_a_fail_nomini.avi ?\n",
      "yes/nono\n",
      "Do you want to extract (perhaps additional) frames for video: D:\\DLC_projects\\Prey_capture\\Prey_capture-Drago Guggiana-2020-03-26\\videos\\11_25_2019_16_04_36_miniscope_MM_191107_a_fail_nomini.avi ?\n",
      "yes/nono\n",
      "Do you want to extract (perhaps additional) frames for video: D:\\DLC_projects\\Prey_capture\\Prey_capture-Drago Guggiana-2020-03-26\\videos\\11_25_2019_16_15_54_miniscope_MM_191108_a_fail_nomini.avi ?\n",
      "yes/nono\n",
      "Do you want to extract (perhaps additional) frames for video: D:\\DLC_projects\\Prey_capture\\Prey_capture-Drago Guggiana-2020-03-26\\videos\\11_25_2019_16_22_23_miniscope_MM_191108_a_fail_nomini.avi ?\n",
      "yes/nono\n",
      "Do you want to extract (perhaps additional) frames for video: D:\\DLC_projects\\Prey_capture\\Prey_capture-Drago Guggiana-2020-03-26\\videos\\11_25_2019_16_28_56_miniscope_MM_191108_a_fail_nomini.avi ?\n",
      "yes/nono\n",
      "Do you want to extract (perhaps additional) frames for video: D:\\DLC_projects\\Prey_capture\\Prey_capture-Drago Guggiana-2020-03-26\\videos\\11_25_2019_16_36_00_miniscope_MM_191108_a_fail_nomini.avi ?\n",
      "yes/nono\n",
      "Do you want to extract (perhaps additional) frames for video: D:\\DLC_projects\\Prey_capture\\Prey_capture-Drago Guggiana-2020-03-26\\videos\\11_26_2019_15_44_01_miniscope_MM_191106_a_fail_nomini.avi ?\n"
     ]
    },
    {
     "name": "stdout",
     "output_type": "stream",
     "text": [
      "yes/nono\n",
      "Do you want to extract (perhaps additional) frames for video: D:\\DLC_projects\\Prey_capture\\Prey_capture-Drago Guggiana-2020-03-26\\videos\\11_26_2019_15_52_26_miniscope_MM_191106_a_fail_nomini.avi ?\n",
      "yes/nono\n",
      "Do you want to extract (perhaps additional) frames for video: D:\\DLC_projects\\Prey_capture\\Prey_capture-Drago Guggiana-2020-03-26\\videos\\11_26_2019_15_59_23_miniscope_MM_191106_a_fail_nomini.avi ?\n",
      "yes/nono\n",
      "Do you want to extract (perhaps additional) frames for video: D:\\DLC_projects\\Prey_capture\\Prey_capture-Drago Guggiana-2020-03-26\\videos\\11_26_2019_16_10_04_miniscope_MM_191106_a_fail_nomini.avi ?\n",
      "yes/nono\n",
      "Do you want to extract (perhaps additional) frames for video: D:\\DLC_projects\\Prey_capture\\Prey_capture-Drago Guggiana-2020-03-26\\videos\\11_26_2019_16_20_21_miniscope_MM_191107_a_fail_nomini.avi ?\n",
      "yes/nono\n",
      "Do you want to extract (perhaps additional) frames for video: D:\\DLC_projects\\Prey_capture\\Prey_capture-Drago Guggiana-2020-03-26\\videos\\11_26_2019_16_26_36_miniscope_MM_191107_a_fail_nomini.avi ?\n",
      "yes/nono\n",
      "Do you want to extract (perhaps additional) frames for video: D:\\DLC_projects\\Prey_capture\\Prey_capture-Drago Guggiana-2020-03-26\\videos\\11_26_2019_16_32_30_miniscope_MM_191107_a_fail_nomini.avi ?\n",
      "yes/nono\n",
      "Do you want to extract (perhaps additional) frames for video: D:\\DLC_projects\\Prey_capture\\Prey_capture-Drago Guggiana-2020-03-26\\videos\\11_26_2019_16_39_57_miniscope_MM_191107_a_fail_nomini.avi ?\n",
      "yes/nono\n",
      "Do you want to extract (perhaps additional) frames for video: D:\\DLC_projects\\Prey_capture\\Prey_capture-Drago Guggiana-2020-03-26\\videos\\11_26_2019_16_48_28_miniscope_MM_191108_a_fail_nomini.avi ?\n",
      "yes/nono\n",
      "Do you want to extract (perhaps additional) frames for video: D:\\DLC_projects\\Prey_capture\\Prey_capture-Drago Guggiana-2020-03-26\\videos\\11_26_2019_16_54_02_miniscope_MM_191108_a_fail_nomini.avi ?\n",
      "yes/nono\n",
      "Do you want to extract (perhaps additional) frames for video: D:\\DLC_projects\\Prey_capture\\Prey_capture-Drago Guggiana-2020-03-26\\videos\\11_26_2019_17_00_05_miniscope_MM_191108_a_fail_nomini.avi ?\n",
      "yes/nono\n",
      "Do you want to extract (perhaps additional) frames for video: D:\\DLC_projects\\Prey_capture\\Prey_capture-Drago Guggiana-2020-03-26\\videos\\11_26_2019_17_06_44_miniscope_MM_191108_a_fail_nomini.avi ?\n",
      "yes/nono\n",
      "Do you want to extract (perhaps additional) frames for video: D:\\DLC_projects\\Prey_capture\\Prey_capture-Drago Guggiana-2020-03-26\\videos\\11_29_2019_14_03_19_miniscope_MM_191105_a_fail_nomini.avi ?\n",
      "yes/nono\n",
      "Do you want to extract (perhaps additional) frames for video: D:\\DLC_projects\\Prey_capture\\Prey_capture-Drago Guggiana-2020-03-26\\videos\\11_29_2019_14_09_23_miniscope_MM_191105_a_fail_nomini.avi ?\n",
      "yes/nono\n",
      "Do you want to extract (perhaps additional) frames for video: D:\\DLC_projects\\Prey_capture\\Prey_capture-Drago Guggiana-2020-03-26\\videos\\11_29_2019_14_16_30_miniscope_MM_191105_a_fail_nomini.avi ?\n",
      "yes/nono\n",
      "Do you want to extract (perhaps additional) frames for video: D:\\DLC_projects\\Prey_capture\\Prey_capture-Drago Guggiana-2020-03-26\\videos\\11_29_2019_14_25_32_miniscope_MM_191105_a_fail_nomini.avi ?\n",
      "yes/nono\n",
      "Do you want to extract (perhaps additional) frames for video: D:\\DLC_projects\\Prey_capture\\Prey_capture-Drago Guggiana-2020-03-26\\videos\\11_29_2019_14_36_52_miniscope_MM_191106_a_fail_nomini.avi ?\n",
      "yes/nono\n",
      "Do you want to extract (perhaps additional) frames for video: D:\\DLC_projects\\Prey_capture\\Prey_capture-Drago Guggiana-2020-03-26\\videos\\11_29_2019_14_43_47_miniscope_MM_191106_a_fail_nomini.avi ?\n",
      "yes/nono\n",
      "Do you want to extract (perhaps additional) frames for video: D:\\DLC_projects\\Prey_capture\\Prey_capture-Drago Guggiana-2020-03-26\\videos\\11_29_2019_14_50_39_miniscope_MM_191106_a_fail_nomini.avi ?\n",
      "yes/nono\n",
      "Do you want to extract (perhaps additional) frames for video: D:\\DLC_projects\\Prey_capture\\Prey_capture-Drago Guggiana-2020-03-26\\videos\\11_29_2019_14_57_47_miniscope_MM_191106_a_fail_nomini.avi ?\n",
      "yes/nono\n",
      "Do you want to extract (perhaps additional) frames for video: D:\\DLC_projects\\Prey_capture\\Prey_capture-Drago Guggiana-2020-03-26\\videos\\11_29_2019_15_08_11_miniscope_MM_191107_a_fail_nomini.avi ?\n",
      "yes/nono\n",
      "Do you want to extract (perhaps additional) frames for video: D:\\DLC_projects\\Prey_capture\\Prey_capture-Drago Guggiana-2020-03-26\\videos\\11_29_2019_15_16_19_miniscope_MM_191107_a_fail_nomini.avi ?\n",
      "yes/nono\n",
      "Do you want to extract (perhaps additional) frames for video: D:\\DLC_projects\\Prey_capture\\Prey_capture-Drago Guggiana-2020-03-26\\videos\\11_29_2019_15_23_26_miniscope_MM_191107_a_fail_nomini.avi ?\n",
      "yes/nono\n",
      "Do you want to extract (perhaps additional) frames for video: D:\\DLC_projects\\Prey_capture\\Prey_capture-Drago Guggiana-2020-03-26\\videos\\11_29_2019_15_30_55_miniscope_MM_191107_a_fail_nomini.avi ?\n",
      "yes/nono\n",
      "Do you want to extract (perhaps additional) frames for video: D:\\DLC_projects\\Prey_capture\\Prey_capture-Drago Guggiana-2020-03-26\\videos\\11_29_2019_15_42_19_miniscope_MM_191108_a_fail_nomini.avi ?\n",
      "yes/nono\n",
      "Do you want to extract (perhaps additional) frames for video: D:\\DLC_projects\\Prey_capture\\Prey_capture-Drago Guggiana-2020-03-26\\videos\\11_29_2019_15_49_40_miniscope_MM_191108_a_fail_nomini.avi ?\n",
      "yes/nono\n",
      "Do you want to extract (perhaps additional) frames for video: D:\\DLC_projects\\Prey_capture\\Prey_capture-Drago Guggiana-2020-03-26\\videos\\11_29_2019_15_56_39_miniscope_MM_191108_a_fail_nomini.avi ?\n",
      "yes/nono\n",
      "Do you want to extract (perhaps additional) frames for video: D:\\DLC_projects\\Prey_capture\\Prey_capture-Drago Guggiana-2020-03-26\\videos\\11_29_2019_16_02_26_miniscope_MM_191108_a_fail_nomini.avi ?\n",
      "yes/nono\n",
      "Do you want to extract (perhaps additional) frames for video: D:\\DLC_projects\\Prey_capture\\Prey_capture-Drago Guggiana-2020-03-26\\videos\\12_02_2019_16_05_42_miniscope_MM_191105_a_fail_nomini.avi ?\n",
      "yes/nono\n",
      "Do you want to extract (perhaps additional) frames for video: D:\\DLC_projects\\Prey_capture\\Prey_capture-Drago Guggiana-2020-03-26\\videos\\12_02_2019_16_13_23_miniscope_MM_191105_a_fail_nomini.avi ?\n",
      "yes/nono\n",
      "Do you want to extract (perhaps additional) frames for video: D:\\DLC_projects\\Prey_capture\\Prey_capture-Drago Guggiana-2020-03-26\\videos\\12_02_2019_16_21_09_miniscope_MM_191105_a_fail_nomini.avi ?\n",
      "yes/nono\n",
      "Do you want to extract (perhaps additional) frames for video: D:\\DLC_projects\\Prey_capture\\Prey_capture-Drago Guggiana-2020-03-26\\videos\\12_02_2019_16_27_33_miniscope_MM_191105_a_fail_nomini.avi ?\n",
      "yes/nono\n",
      "Do you want to extract (perhaps additional) frames for video: D:\\DLC_projects\\Prey_capture\\Prey_capture-Drago Guggiana-2020-03-26\\videos\\12_02_2019_16_37_29_miniscope_MM_191106_a_fail_nomini.avi ?\n",
      "yes/nono\n",
      "Do you want to extract (perhaps additional) frames for video: D:\\DLC_projects\\Prey_capture\\Prey_capture-Drago Guggiana-2020-03-26\\videos\\12_02_2019_16_45_51_miniscope_MM_191106_a_fail_nomini.avi ?\n",
      "yes/nono\n",
      "Do you want to extract (perhaps additional) frames for video: D:\\DLC_projects\\Prey_capture\\Prey_capture-Drago Guggiana-2020-03-26\\videos\\12_02_2019_16_52_33_miniscope_MM_191106_a_fail_nomini.avi ?\n",
      "yes/nono\n",
      "Do you want to extract (perhaps additional) frames for video: D:\\DLC_projects\\Prey_capture\\Prey_capture-Drago Guggiana-2020-03-26\\videos\\12_02_2019_16_58_55_miniscope_MM_191106_a_fail_nomini.avi ?\n",
      "yes/nono\n",
      "Do you want to extract (perhaps additional) frames for video: D:\\DLC_projects\\Prey_capture\\Prey_capture-Drago Guggiana-2020-03-26\\videos\\12_02_2019_17_08_58_miniscope_MM_191107_a_succ_nomini.avi ?\n",
      "yes/nono\n",
      "Do you want to extract (perhaps additional) frames for video: D:\\DLC_projects\\Prey_capture\\Prey_capture-Drago Guggiana-2020-03-26\\videos\\12_02_2019_17_18_30_miniscope_MM_191107_a_succ_nomini.avi ?\n",
      "yes/nono\n",
      "Do you want to extract (perhaps additional) frames for video: D:\\DLC_projects\\Prey_capture\\Prey_capture-Drago Guggiana-2020-03-26\\videos\\12_02_2019_17_26_56_miniscope_MM_191107_a_succ_nomini.avi ?\n",
      "yes/nono\n",
      "Do you want to extract (perhaps additional) frames for video: D:\\DLC_projects\\Prey_capture\\Prey_capture-Drago Guggiana-2020-03-26\\videos\\12_02_2019_17_33_47_miniscope_MM_191107_a_succ_nomini.avi ?\n",
      "yes/nono\n",
      "Do you want to extract (perhaps additional) frames for video: D:\\DLC_projects\\Prey_capture\\Prey_capture-Drago Guggiana-2020-03-26\\videos\\12_02_2019_17_44_49_miniscope_MM_191108_a_fail_nomini.avi ?\n"
     ]
    },
    {
     "name": "stdout",
     "output_type": "stream",
     "text": [
      "yes/nono\n",
      "Do you want to extract (perhaps additional) frames for video: D:\\DLC_projects\\Prey_capture\\Prey_capture-Drago Guggiana-2020-03-26\\videos\\12_02_2019_17_52_21_miniscope_MM_191108_a_fail_nomini.avi ?\n",
      "yes/nono\n",
      "Do you want to extract (perhaps additional) frames for video: D:\\DLC_projects\\Prey_capture\\Prey_capture-Drago Guggiana-2020-03-26\\videos\\12_03_2019_15_00_53_miniscope_MM_191105_a_fail_nomini.avi ?\n",
      "yes/nono\n",
      "Do you want to extract (perhaps additional) frames for video: D:\\DLC_projects\\Prey_capture\\Prey_capture-Drago Guggiana-2020-03-26\\videos\\12_03_2019_15_08_15_miniscope_MM_191105_a_succ_nomini.avi ?\n",
      "yes/nono\n",
      "Do you want to extract (perhaps additional) frames for video: D:\\DLC_projects\\Prey_capture\\Prey_capture-Drago Guggiana-2020-03-26\\videos\\12_03_2019_15_15_55_miniscope_MM_191105_a_succ_nomini.avi ?\n",
      "yes/nono\n",
      "Do you want to extract (perhaps additional) frames for video: D:\\DLC_projects\\Prey_capture\\Prey_capture-Drago Guggiana-2020-03-26\\videos\\12_03_2019_15_24_04_miniscope_MM_191105_a_succ_nomini.avi ?\n",
      "yes/nono\n",
      "Do you want to extract (perhaps additional) frames for video: D:\\DLC_projects\\Prey_capture\\Prey_capture-Drago Guggiana-2020-03-26\\videos\\12_03_2019_15_31_21_miniscope_MM_191106_a_fail_nomini.avi ?\n",
      "yes/nono\n",
      "Do you want to extract (perhaps additional) frames for video: D:\\DLC_projects\\Prey_capture\\Prey_capture-Drago Guggiana-2020-03-26\\videos\\12_03_2019_15_38_58_miniscope_MM_191106_a_fail_nomini.avi ?\n",
      "yes/nono\n",
      "Do you want to extract (perhaps additional) frames for video: D:\\DLC_projects\\Prey_capture\\Prey_capture-Drago Guggiana-2020-03-26\\videos\\12_03_2019_15_47_19_miniscope_MM_191107_a_succ_nomini.avi ?\n",
      "yes/nono\n",
      "Do you want to extract (perhaps additional) frames for video: D:\\DLC_projects\\Prey_capture\\Prey_capture-Drago Guggiana-2020-03-26\\videos\\12_03_2019_15_52_44_miniscope_MM_191107_a_succ_nomini.avi ?\n",
      "yes/nono\n",
      "Do you want to extract (perhaps additional) frames for video: D:\\DLC_projects\\Prey_capture\\Prey_capture-Drago Guggiana-2020-03-26\\videos\\12_03_2019_15_57_28_miniscope_MM_191107_a_succ_nomini.avi ?\n",
      "yes/nono\n",
      "Do you want to extract (perhaps additional) frames for video: D:\\DLC_projects\\Prey_capture\\Prey_capture-Drago Guggiana-2020-03-26\\videos\\12_03_2019_16_03_45_miniscope_MM_191107_a_succ_nomini.avi ?\n",
      "yes/nono\n",
      "Do you want to extract (perhaps additional) frames for video: D:\\DLC_projects\\Prey_capture\\Prey_capture-Drago Guggiana-2020-03-26\\videos\\12_03_2019_16_11_31_miniscope_MM_191106_a_succ_nomini.avi ?\n",
      "yes/nono\n",
      "Do you want to extract (perhaps additional) frames for video: D:\\DLC_projects\\Prey_capture\\Prey_capture-Drago Guggiana-2020-03-26\\videos\\12_03_2019_16_20_45_miniscope_MM_191106_a_fail_nomini.avi ?\n",
      "yes/nono\n",
      "Do you want to extract (perhaps additional) frames for video: D:\\DLC_projects\\Prey_capture\\Prey_capture-Drago Guggiana-2020-03-26\\videos\\12_03_2019_16_34_28_miniscope_MM_191108_a_fail_nomini.avi ?\n",
      "yes/nono\n",
      "Do you want to extract (perhaps additional) frames for video: D:\\DLC_projects\\Prey_capture\\Prey_capture-Drago Guggiana-2020-03-26\\videos\\12_03_2019_16_42_00_miniscope_MM_191108_a_fail_nomini.avi ?\n",
      "yes/nono\n",
      "Do you want to extract (perhaps additional) frames for video: D:\\DLC_projects\\Prey_capture\\Prey_capture-Drago Guggiana-2020-03-26\\videos\\12_03_2019_16_48_22_miniscope_MM_191108_a_succ_nomini.avi ?\n",
      "yes/nono\n",
      "Do you want to extract (perhaps additional) frames for video: D:\\DLC_projects\\Prey_capture\\Prey_capture-Drago Guggiana-2020-03-26\\videos\\12_03_2019_16_57_25_miniscope_MM_191108_a_succ_nomini.avi ?\n",
      "yes/nono\n",
      "Do you want to extract (perhaps additional) frames for video: D:\\DLC_projects\\Prey_capture\\Prey_capture-Drago Guggiana-2020-03-26\\videos\\12_04_2019_15_19_29_miniscope_MM_191106_a_succ_nomini.avi ?\n",
      "yes/nono\n",
      "Do you want to extract (perhaps additional) frames for video: D:\\DLC_projects\\Prey_capture\\Prey_capture-Drago Guggiana-2020-03-26\\videos\\12_04_2019_15_23_56_miniscope_MM_191106_a_succ_nomini.avi ?\n",
      "yes/nono\n",
      "Do you want to extract (perhaps additional) frames for video: D:\\DLC_projects\\Prey_capture\\Prey_capture-Drago Guggiana-2020-03-26\\videos\\12_04_2019_15_29_28_miniscope_MM_191106_a_succ_nomini.avi ?\n",
      "yes/nono\n",
      "Do you want to extract (perhaps additional) frames for video: D:\\DLC_projects\\Prey_capture\\Prey_capture-Drago Guggiana-2020-03-26\\videos\\12_04_2019_15_45_59_miniscope_MM_191107_a_succ_nomini.avi ?\n",
      "yes/nono\n",
      "Do you want to extract (perhaps additional) frames for video: D:\\DLC_projects\\Prey_capture\\Prey_capture-Drago Guggiana-2020-03-26\\videos\\12_04_2019_15_52_05_miniscope_MM_191107_a_succ_nomini.avi ?\n",
      "yes/nono\n",
      "Do you want to extract (perhaps additional) frames for video: D:\\DLC_projects\\Prey_capture\\Prey_capture-Drago Guggiana-2020-03-26\\videos\\12_04_2019_15_56_34_miniscope_MM_191107_a_succ_nomini.avi ?\n",
      "yes/nono\n",
      "Do you want to extract (perhaps additional) frames for video: D:\\DLC_projects\\Prey_capture\\Prey_capture-Drago Guggiana-2020-03-26\\videos\\12_04_2019_16_01_30_miniscope_MM_191107_a_succ_nomini.avi ?\n",
      "yes/nono\n",
      "Do you want to extract (perhaps additional) frames for video: D:\\DLC_projects\\Prey_capture\\Prey_capture-Drago Guggiana-2020-03-26\\videos\\12_04_2019_16_07_38_miniscope_MM_191108_a_succ_nomini.avi ?\n",
      "yes/nono\n",
      "Do you want to extract (perhaps additional) frames for video: D:\\DLC_projects\\Prey_capture\\Prey_capture-Drago Guggiana-2020-03-26\\videos\\12_04_2019_16_13_30_miniscope_MM_191108_a_succ_nomini.avi ?\n",
      "yes/nono\n",
      "Do you want to extract (perhaps additional) frames for video: D:\\DLC_projects\\Prey_capture\\Prey_capture-Drago Guggiana-2020-03-26\\videos\\12_04_2019_16_18_37_miniscope_MM_191108_a_succ_nomini.avi ?\n",
      "yes/nono\n",
      "Do you want to extract (perhaps additional) frames for video: D:\\DLC_projects\\Prey_capture\\Prey_capture-Drago Guggiana-2020-03-26\\videos\\12_04_2019_16_27_21_miniscope_MM_191108_a_succ_nomini.avi ?\n",
      "yes/nono\n",
      "Do you want to extract (perhaps additional) frames for video: D:\\DLC_projects\\Prey_capture\\Prey_capture-Drago Guggiana-2020-03-26\\videos\\12_04_2019_16_39_29_miniscope_MM_191105_a_succ_nomini.avi ?\n",
      "yes/nono\n",
      "Do you want to extract (perhaps additional) frames for video: D:\\DLC_projects\\Prey_capture\\Prey_capture-Drago Guggiana-2020-03-26\\videos\\12_04_2019_16_44_23_miniscope_MM_191105_a_succ_nomini.avi ?\n",
      "yes/nono\n",
      "Do you want to extract (perhaps additional) frames for video: D:\\DLC_projects\\Prey_capture\\Prey_capture-Drago Guggiana-2020-03-26\\videos\\12_04_2019_16_48_26_miniscope_MM_191105_a_succ_nomini.avi ?\n",
      "yes/nono\n",
      "Do you want to extract (perhaps additional) frames for video: D:\\DLC_projects\\Prey_capture\\Prey_capture-Drago Guggiana-2020-03-26\\videos\\12_04_2019_16_53_11_miniscope_MM_191105_a_succ_nomini.avi ?\n",
      "yes/nono\n",
      "Do you want to extract (perhaps additional) frames for video: D:\\DLC_projects\\Prey_capture\\Prey_capture-Drago Guggiana-2020-03-26\\videos\\12_06_2019_14_00_21_miniscope_MM_191105_a_succ_nomini.avi ?\n",
      "yes/nono\n",
      "Do you want to extract (perhaps additional) frames for video: D:\\DLC_projects\\Prey_capture\\Prey_capture-Drago Guggiana-2020-03-26\\videos\\12_06_2019_14_07_11_miniscope_MM_191105_a_succ_nomini.avi ?\n",
      "yes/nono\n",
      "Do you want to extract (perhaps additional) frames for video: D:\\DLC_projects\\Prey_capture\\Prey_capture-Drago Guggiana-2020-03-26\\videos\\12_06_2019_14_15_39_miniscope_MM_191105_a_succ_nomini.avi ?\n",
      "yes/nono\n",
      "Do you want to extract (perhaps additional) frames for video: D:\\DLC_projects\\Prey_capture\\Prey_capture-Drago Guggiana-2020-03-26\\videos\\12_06_2019_14_21_20_miniscope_MM_191105_a_succ_nomini.avi ?\n",
      "yes/nono\n",
      "Do you want to extract (perhaps additional) frames for video: D:\\DLC_projects\\Prey_capture\\Prey_capture-Drago Guggiana-2020-03-26\\videos\\12_06_2019_14_47_35_miniscope_MM_191106_a_succ_nomini.avi ?\n",
      "yes/nono\n",
      "Do you want to extract (perhaps additional) frames for video: D:\\DLC_projects\\Prey_capture\\Prey_capture-Drago Guggiana-2020-03-26\\videos\\12_06_2019_14_50_58_miniscope_MM_191106_a_succ_nomini.avi ?\n",
      "yes/nono\n",
      "Do you want to extract (perhaps additional) frames for video: D:\\DLC_projects\\Prey_capture\\Prey_capture-Drago Guggiana-2020-03-26\\videos\\12_06_2019_14_55_56_miniscope_MM_191106_a_succ_nomini.avi ?\n",
      "yes/nono\n",
      "Do you want to extract (perhaps additional) frames for video: D:\\DLC_projects\\Prey_capture\\Prey_capture-Drago Guggiana-2020-03-26\\videos\\12_06_2019_15_04_44_miniscope_MM_191107_a_succ_nomini.avi ?\n"
     ]
    },
    {
     "name": "stdout",
     "output_type": "stream",
     "text": [
      "yes/noo\n",
      "Do you want to extract (perhaps additional) frames for video: D:\\DLC_projects\\Prey_capture\\Prey_capture-Drago Guggiana-2020-03-26\\videos\\12_06_2019_15_13_44_miniscope_MM_191107_a_succ_nomini.avi ?\n",
      "yes/nono\n",
      "Do you want to extract (perhaps additional) frames for video: D:\\DLC_projects\\Prey_capture\\Prey_capture-Drago Guggiana-2020-03-26\\videos\\12_06_2019_15_18_15_miniscope_MM_191107_a_succ_nomini.avi ?\n",
      "yes/nono\n",
      "Do you want to extract (perhaps additional) frames for video: D:\\DLC_projects\\Prey_capture\\Prey_capture-Drago Guggiana-2020-03-26\\videos\\12_07_2019_15_01_31_miniscope_MM_191108_a_succ.avi ?\n",
      "yes/nono\n",
      "Do you want to extract (perhaps additional) frames for video: D:\\DLC_projects\\Prey_capture\\Prey_capture-Drago Guggiana-2020-03-26\\videos\\12_07_2019_15_06_28_miniscope_MM_191108_a_succ.avi ?\n",
      "yes/nono\n",
      "Do you want to extract (perhaps additional) frames for video: D:\\DLC_projects\\Prey_capture\\Prey_capture-Drago Guggiana-2020-03-26\\videos\\12_07_2019_15_11_16_miniscope_MM_191108_a_succ.avi ?\n",
      "yes/nono\n",
      "Do you want to extract (perhaps additional) frames for video: D:\\DLC_projects\\Prey_capture\\Prey_capture-Drago Guggiana-2020-03-26\\videos\\12_07_2019_15_15_49_miniscope_MM_191108_a_succ.avi ?\n",
      "yes/nono\n",
      "Do you want to extract (perhaps additional) frames for video: D:\\DLC_projects\\Prey_capture\\Prey_capture-Drago Guggiana-2020-03-26\\videos\\12_07_2019_15_20_56_miniscope_MM_191108_a_succ.avi ?\n",
      "yes/nono\n",
      "Do you want to extract (perhaps additional) frames for video: D:\\DLC_projects\\Prey_capture\\Prey_capture-Drago Guggiana-2020-03-26\\videos\\12_07_2019_15_24_53_miniscope_MM_191108_a_succ.avi ?\n",
      "yes/nono\n",
      "Do you want to extract (perhaps additional) frames for video: D:\\DLC_projects\\Prey_capture\\Prey_capture-Drago Guggiana-2020-03-26\\videos\\12_07_2019_15_29_41_miniscope_MM_191108_a_succ.avi ?\n",
      "yes/nono\n",
      "Do you want to extract (perhaps additional) frames for video: D:\\DLC_projects\\Prey_capture\\Prey_capture-Drago Guggiana-2020-03-26\\videos\\12_07_2019_15_34_47_miniscope_MM_191108_a_succ.avi ?\n",
      "yes/nono\n",
      "Do you want to extract (perhaps additional) frames for video: D:\\DLC_projects\\Prey_capture\\Prey_capture-Drago Guggiana-2020-03-26\\videos\\12_07_2019_15_39_33_miniscope_MM_191108_a_succ.avi ?\n",
      "yes/nono\n",
      "Do you want to extract (perhaps additional) frames for video: D:\\DLC_projects\\Prey_capture\\Prey_capture-Drago Guggiana-2020-03-26\\videos\\12_07_2019_15_43_37_miniscope_MM_191108_a_succ.avi ?\n",
      "yes/nono\n",
      "Do you want to extract (perhaps additional) frames for video: D:\\DLC_projects\\Prey_capture\\Prey_capture-Drago Guggiana-2020-03-26\\videos\\12_07_2019_15_47_28_miniscope_MM_191108_a_succ.avi ?\n",
      "yes/nono\n",
      "Do you want to extract (perhaps additional) frames for video: D:\\DLC_projects\\Prey_capture\\Prey_capture-Drago Guggiana-2020-03-26\\videos\\12_07_2019_15_52_11_miniscope_MM_191108_a_succ.avi ?\n",
      "yes/nono\n",
      "Do you want to extract (perhaps additional) frames for video: D:\\DLC_projects\\Prey_capture\\Prey_capture-Drago Guggiana-2020-03-26\\videos\\12_07_2019_15_56_10_miniscope_MM_191108_a_fail.avi ?\n",
      "yes/nono\n",
      "Do you want to extract (perhaps additional) frames for video: D:\\DLC_projects\\Prey_capture\\Prey_capture-Drago Guggiana-2020-03-26\\videos\\12_07_2019_16_05_30_miniscope_MM_191105_a_succ_nomini.avi ?\n",
      "yes/nono\n",
      "Do you want to extract (perhaps additional) frames for video: D:\\DLC_projects\\Prey_capture\\Prey_capture-Drago Guggiana-2020-03-26\\videos\\12_07_2019_16_09_54_miniscope_MM_191105_a_succ_nomini.avi ?\n",
      "yes/nono\n",
      "Do you want to extract (perhaps additional) frames for video: D:\\DLC_projects\\Prey_capture\\Prey_capture-Drago Guggiana-2020-03-26\\videos\\12_07_2019_16_18_20_miniscope_MM_191106_a_succ_nomini.avi ?\n",
      "yes/nono\n",
      "Do you want to extract (perhaps additional) frames for video: D:\\DLC_projects\\Prey_capture\\Prey_capture-Drago Guggiana-2020-03-26\\videos\\12_07_2019_16_23_23_miniscope_MM_191106_a_succ_nomini.avi ?\n",
      "yes/nono\n",
      "Do you want to extract (perhaps additional) frames for video: D:\\DLC_projects\\Prey_capture\\Prey_capture-Drago Guggiana-2020-03-26\\videos\\12_07_2019_16_29_31_miniscope_MM_191107_a_succ_nomini.avi ?\n",
      "yes/nono\n",
      "Do you want to extract (perhaps additional) frames for video: D:\\DLC_projects\\Prey_capture\\Prey_capture-Drago Guggiana-2020-03-26\\videos\\12_07_2019_16_34_28_miniscope_MM_191107_a_succ_nomini.avi ?\n",
      "yes/nono\n",
      "Do you want to extract (perhaps additional) frames for video: D:\\DLC_projects\\Prey_capture\\Prey_capture-Drago Guggiana-2020-03-26\\videos\\12_07_2019_16_38_08_miniscope_MM_191107_a_succ_nomini.avi ?\n",
      "yes/nono\n",
      "Do you want to extract (perhaps additional) frames for video: D:\\DLC_projects\\Prey_capture\\Prey_capture-Drago Guggiana-2020-03-26\\videos\\12_09_2019_15_04_06_miniscope_MM_191108_a_succ.avi ?\n",
      "yes/nono\n",
      "Do you want to extract (perhaps additional) frames for video: D:\\DLC_projects\\Prey_capture\\Prey_capture-Drago Guggiana-2020-03-26\\videos\\12_09_2019_15_08_33_miniscope_MM_191108_a_succ.avi ?\n",
      "yes/nono\n",
      "Do you want to extract (perhaps additional) frames for video: D:\\DLC_projects\\Prey_capture\\Prey_capture-Drago Guggiana-2020-03-26\\videos\\12_09_2019_15_12_24_miniscope_MM_191108_a_succ.avi ?\n",
      "yes/nono\n",
      "Do you want to extract (perhaps additional) frames for video: D:\\DLC_projects\\Prey_capture\\Prey_capture-Drago Guggiana-2020-03-26\\videos\\12_09_2019_15_16_05_miniscope_MM_191108_a_succ.avi ?\n",
      "yes/nono\n",
      "Do you want to extract (perhaps additional) frames for video: D:\\DLC_projects\\Prey_capture\\Prey_capture-Drago Guggiana-2020-03-26\\videos\\12_09_2019_15_21_10_miniscope_MM_191108_a_succ.avi ?\n",
      "yes/nono\n",
      "Do you want to extract (perhaps additional) frames for video: D:\\DLC_projects\\Prey_capture\\Prey_capture-Drago Guggiana-2020-03-26\\videos\\12_09_2019_15_25_14_miniscope_MM_191108_a_succ.avi ?\n",
      "yes/nono\n",
      "Do you want to extract (perhaps additional) frames for video: D:\\DLC_projects\\Prey_capture\\Prey_capture-Drago Guggiana-2020-03-26\\videos\\12_09_2019_15_30_13_miniscope_MM_191108_a_succ.avi ?\n",
      "yes/nono\n",
      "Do you want to extract (perhaps additional) frames for video: D:\\DLC_projects\\Prey_capture\\Prey_capture-Drago Guggiana-2020-03-26\\videos\\12_09_2019_15_34_10_miniscope_MM_191108_a_succ.avi ?\n",
      "yes/nono\n",
      "Do you want to extract (perhaps additional) frames for video: D:\\DLC_projects\\Prey_capture\\Prey_capture-Drago Guggiana-2020-03-26\\videos\\12_09_2019_16_30_00_miniscope_MM_191105_a_succ_nomini.avi ?\n",
      "yes/nono\n",
      "Do you want to extract (perhaps additional) frames for video: D:\\DLC_projects\\Prey_capture\\Prey_capture-Drago Guggiana-2020-03-26\\videos\\12_09_2019_16_34_39_miniscope_MM_191105_a_succ_nomini.avi ?\n",
      "yes/nono\n",
      "Do you want to extract (perhaps additional) frames for video: D:\\DLC_projects\\Prey_capture\\Prey_capture-Drago Guggiana-2020-03-26\\videos\\12_09_2019_16_38_36_miniscope_MM_191105_a_succ_nomini.avi ?\n",
      "yes/nono\n",
      "Do you want to extract (perhaps additional) frames for video: D:\\DLC_projects\\Prey_capture\\Prey_capture-Drago Guggiana-2020-03-26\\videos\\12_09_2019_16_41_05_miniscope_MM_191105_a_succ_nomini.avi ?\n",
      "yes/nono\n",
      "Do you want to extract (perhaps additional) frames for video: D:\\DLC_projects\\Prey_capture\\Prey_capture-Drago Guggiana-2020-03-26\\videos\\12_09_2019_16_46_19_miniscope_MM_191106_a_succ_nomini.avi ?\n",
      "yes/nono\n",
      "Do you want to extract (perhaps additional) frames for video: D:\\DLC_projects\\Prey_capture\\Prey_capture-Drago Guggiana-2020-03-26\\videos\\12_09_2019_16_49_50_miniscope_MM_191106_a_succ_nomini.avi ?\n",
      "yes/nono\n",
      "Do you want to extract (perhaps additional) frames for video: D:\\DLC_projects\\Prey_capture\\Prey_capture-Drago Guggiana-2020-03-26\\videos\\12_09_2019_16_53_42_miniscope_MM_191106_a_succ_nomini.avi ?\n",
      "yes/nono\n",
      "Do you want to extract (perhaps additional) frames for video: D:\\DLC_projects\\Prey_capture\\Prey_capture-Drago Guggiana-2020-03-26\\videos\\12_09_2019_16_58_58_miniscope_MM_191107_a_succ_nomini.avi ?\n",
      "yes/nono\n",
      "Do you want to extract (perhaps additional) frames for video: D:\\DLC_projects\\Prey_capture\\Prey_capture-Drago Guggiana-2020-03-26\\videos\\12_09_2019_17_01_33_miniscope_MM_191107_a_succ_bad_track_nomini.avi ?\n",
      "yes/nono\n",
      "Do you want to extract (perhaps additional) frames for video: D:\\DLC_projects\\Prey_capture\\Prey_capture-Drago Guggiana-2020-03-26\\videos\\12_09_2019_17_04_36_miniscope_MM_191107_a_succ_nomini.avi ?\n",
      "yes/nono\n",
      "Do you want to extract (perhaps additional) frames for video: D:\\DLC_projects\\Prey_capture\\Prey_capture-Drago Guggiana-2020-03-26\\videos\\12_10_2019_15_00_45_miniscope_MM_191108_a_succ.avi ?\n"
     ]
    },
    {
     "name": "stdout",
     "output_type": "stream",
     "text": [
      "yes/nono\n",
      "Do you want to extract (perhaps additional) frames for video: D:\\DLC_projects\\Prey_capture\\Prey_capture-Drago Guggiana-2020-03-26\\videos\\12_10_2019_15_05_17_miniscope_MM_191108_a_succ.avi ?\n",
      "yes/nono\n",
      "Do you want to extract (perhaps additional) frames for video: D:\\DLC_projects\\Prey_capture\\Prey_capture-Drago Guggiana-2020-03-26\\videos\\12_10_2019_15_10_23_miniscope_MM_191108_a_succ.avi ?\n",
      "yes/nono\n",
      "Do you want to extract (perhaps additional) frames for video: D:\\DLC_projects\\Prey_capture\\Prey_capture-Drago Guggiana-2020-03-26\\videos\\12_10_2019_15_15_08_miniscope_MM_191108_a_succ.avi ?\n",
      "yes/nono\n",
      "Do you want to extract (perhaps additional) frames for video: D:\\DLC_projects\\Prey_capture\\Prey_capture-Drago Guggiana-2020-03-26\\videos\\12_10_2019_15_19_56_miniscope_MM_191108_a_succ.avi ?\n",
      "yes/nono\n",
      "Do you want to extract (perhaps additional) frames for video: D:\\DLC_projects\\Prey_capture\\Prey_capture-Drago Guggiana-2020-03-26\\videos\\12_10_2019_15_23_16_miniscope_MM_191108_a_fail.avi ?\n",
      "yes/nono\n",
      "Do you want to extract (perhaps additional) frames for video: D:\\DLC_projects\\Prey_capture\\Prey_capture-Drago Guggiana-2020-03-26\\videos\\12_10_2019_15_30_07_miniscope_MM_191108_a_succ.avi ?\n",
      "yes/nono\n",
      "Do you want to extract (perhaps additional) frames for video: D:\\DLC_projects\\Prey_capture\\Prey_capture-Drago Guggiana-2020-03-26\\videos\\12_10_2019_15_35_36_miniscope_MM_191108_a_succ.avi ?\n",
      "yes/nono\n",
      "Do you want to extract (perhaps additional) frames for video: D:\\DLC_projects\\Prey_capture\\Prey_capture-Drago Guggiana-2020-03-26\\videos\\12_10_2019_15_39_55_miniscope_MM_191108_a_succ.avi ?\n",
      "yes/nono\n",
      "Do you want to extract (perhaps additional) frames for video: D:\\DLC_projects\\Prey_capture\\Prey_capture-Drago Guggiana-2020-03-26\\videos\\12_10_2019_15_43_20_miniscope_MM_191108_a_fail.avi ?\n",
      "yes/nono\n",
      "Do you want to extract (perhaps additional) frames for video: D:\\DLC_projects\\Prey_capture\\Prey_capture-Drago Guggiana-2020-03-26\\videos\\12_10_2019_16_36_38_miniscope_MM_191106_a_succ_nomini.avi ?\n",
      "yes/nono\n",
      "Do you want to extract (perhaps additional) frames for video: D:\\DLC_projects\\Prey_capture\\Prey_capture-Drago Guggiana-2020-03-26\\videos\\12_10_2019_16_44_10_miniscope_MM_191107_a_succ_nomini.avi ?\n",
      "yes/nono\n",
      "Do you want to extract (perhaps additional) frames for video: D:\\DLC_projects\\Prey_capture\\Prey_capture-Drago Guggiana-2020-03-26\\videos\\12_10_2019_16_48_14_miniscope_MM_191107_a_succ_nomini.avi ?\n",
      "yes/nono\n",
      "Do you want to extract (perhaps additional) frames for video: D:\\DLC_projects\\Prey_capture\\Prey_capture-Drago Guggiana-2020-03-26\\videos\\12_10_2019_16_53_34_miniscope_MM_191107_a_succ_nomini.avi ?\n",
      "yes/nono\n",
      "Do you want to extract (perhaps additional) frames for video: D:\\DLC_projects\\Prey_capture\\Prey_capture-Drago Guggiana-2020-03-26\\videos\\12_10_2019_16_57_26_miniscope_MM_191107_a_succ_nomini.avi ?\n",
      "yes/nono\n",
      "Do you want to extract (perhaps additional) frames for video: D:\\DLC_projects\\Prey_capture\\Prey_capture-Drago Guggiana-2020-03-26\\videos\\12_11_2019_16_45_12_miniscope_MM_191108_a_succ.avi ?\n",
      "yes/nono\n",
      "Do you want to extract (perhaps additional) frames for video: D:\\DLC_projects\\Prey_capture\\Prey_capture-Drago Guggiana-2020-03-26\\videos\\12_11_2019_16_49_04_miniscope_MM_191108_a_succ_miniscopeafterbonsai.avi ?\n",
      "yes/nono\n",
      "Do you want to extract (perhaps additional) frames for video: D:\\DLC_projects\\Prey_capture\\Prey_capture-Drago Guggiana-2020-03-26\\videos\\12_11_2019_16_53_36_miniscope_MM_191108_a_succ.avi ?\n",
      "yes/nono\n",
      "Do you want to extract (perhaps additional) frames for video: D:\\DLC_projects\\Prey_capture\\Prey_capture-Drago Guggiana-2020-03-26\\videos\\12_11_2019_16_56_38_miniscope_MM_191108_a_succ.avi ?\n",
      "yes/nono\n",
      "Do you want to extract (perhaps additional) frames for video: D:\\DLC_projects\\Prey_capture\\Prey_capture-Drago Guggiana-2020-03-26\\videos\\12_11_2019_17_01_21_miniscope_MM_191108_a_succ.avi ?\n",
      "yes/nono\n",
      "Do you want to extract (perhaps additional) frames for video: D:\\DLC_projects\\Prey_capture\\Prey_capture-Drago Guggiana-2020-03-26\\videos\\12_11_2019_17_05_25_miniscope_MM_191108_a_succ.avi ?\n",
      "yes/nono\n",
      "Do you want to extract (perhaps additional) frames for video: D:\\DLC_projects\\Prey_capture\\Prey_capture-Drago Guggiana-2020-03-26\\videos\\12_11_2019_17_09_52_miniscope_MM_191108_a_succ.avi ?\n",
      "yes/nono\n",
      "Do you want to extract (perhaps additional) frames for video: D:\\DLC_projects\\Prey_capture\\Prey_capture-Drago Guggiana-2020-03-26\\videos\\12_11_2019_17_14_34_miniscope_MM_191108_a_fail_miniscopeafterbonsai.avi ?\n",
      "yes/nono\n",
      "Do you want to extract (perhaps additional) frames for video: D:\\DLC_projects\\Prey_capture\\Prey_capture-Drago Guggiana-2020-03-26\\videos\\12_12_2019_14_58_00_miniscope_MM_191108_a_succ_nofluo.avi ?\n",
      "yes/nono\n",
      "Do you want to extract (perhaps additional) frames for video: D:\\DLC_projects\\Prey_capture\\Prey_capture-Drago Guggiana-2020-03-26\\videos\\12_12_2019_15_00_56_miniscope_MM_191108_a_succ.avi ?\n",
      "yes/nono\n",
      "Do you want to extract (perhaps additional) frames for video: D:\\DLC_projects\\Prey_capture\\Prey_capture-Drago Guggiana-2020-03-26\\videos\\12_12_2019_15_04_45_miniscope_MM_191108_a_succ.avi ?\n",
      "yes/nono\n",
      "Do you want to extract (perhaps additional) frames for video: D:\\DLC_projects\\Prey_capture\\Prey_capture-Drago Guggiana-2020-03-26\\videos\\12_12_2019_15_08_15_miniscope_MM_191108_a_succ.avi ?\n",
      "yes/nono\n",
      "Do you want to extract (perhaps additional) frames for video: D:\\DLC_projects\\Prey_capture\\Prey_capture-Drago Guggiana-2020-03-26\\videos\\12_12_2019_15_11_45_miniscope_MM_191108_a_fail.avi ?\n",
      "yes/nono\n",
      "Do you want to extract (perhaps additional) frames for video: D:\\DLC_projects\\Prey_capture\\Prey_capture-Drago Guggiana-2020-03-26\\videos\\12_12_2019_15_16_04_miniscope_MM_191108_a_succ.avi ?\n",
      "yes/nono\n",
      "Do you want to extract (perhaps additional) frames for video: D:\\DLC_projects\\Prey_capture\\Prey_capture-Drago Guggiana-2020-03-26\\videos\\12_12_2019_15_18_57_miniscope_MM_191108_a_fail.avi ?\n",
      "yes/nono\n",
      "Do you want to extract (perhaps additional) frames for video: D:\\DLC_projects\\Prey_capture\\Prey_capture-Drago Guggiana-2020-03-26\\videos\\12_12_2019_15_23_10_miniscope_MM_191108_a_fail.avi ?\n",
      "yes/nono\n",
      "Do you want to extract (perhaps additional) frames for video: D:\\DLC_projects\\Prey_capture\\Prey_capture-Drago Guggiana-2020-03-26\\videos\\12_12_2019_15_27_48_miniscope_MM_191108_a_succ.avi ?\n",
      "yes/nono\n",
      "Do you want to extract (perhaps additional) frames for video: D:\\DLC_projects\\Prey_capture\\Prey_capture-Drago Guggiana-2020-03-26\\videos\\12_12_2019_15_32_29_miniscope_MM_191108_a_succ.avi ?\n",
      "yes/nono\n",
      "Do you want to extract (perhaps additional) frames for video: D:\\DLC_projects\\Prey_capture\\Prey_capture-Drago Guggiana-2020-03-26\\videos\\12_16_2019_16_21_34_miniscope_MM_191108_a_fail.avi ?\n",
      "yes/nono\n",
      "Do you want to extract (perhaps additional) frames for video: D:\\DLC_projects\\Prey_capture\\Prey_capture-Drago Guggiana-2020-03-26\\videos\\12_16_2019_16_27_17_miniscope_MM_191108_a_succ.avi ?\n",
      "yes/nono\n",
      "Do you want to extract (perhaps additional) frames for video: D:\\DLC_projects\\Prey_capture\\Prey_capture-Drago Guggiana-2020-03-26\\videos\\12_16_2019_16_31_08_miniscope_MM_191108_a_succ.avi ?\n",
      "yes/nono\n",
      "Do you want to extract (perhaps additional) frames for video: D:\\DLC_projects\\Prey_capture\\Prey_capture-Drago Guggiana-2020-03-26\\videos\\12_16_2019_16_34_45_miniscope_MM_191108_a_fail.avi ?\n",
      "yes/nono\n",
      "\n",
      "Frames were selected.\n",
      "You can now label the frames using the function 'label_frames' (if you extracted enough frames for all videos).\n"
     ]
    }
   ],
   "source": [
    "# extract frames from the videos\n",
    "# will go through all of the videos on the list, so if many videos, it might take a while\n",
    "deeplabcut.extract_frames(config_path, mode='automatic', algo='kmeans', crop = False, userfeedback=True)"
   ]
  },
  {
   "cell_type": "code",
   "execution_count": 12,
   "metadata": {},
   "outputs": [
    {
     "name": "stdout",
     "output_type": "stream",
     "text": [
      "You can now check the labels, using 'check_labels' before proceeding. Then, you can use the function 'create_training_dataset' to create the training dataset.\n"
     ]
    }
   ],
   "source": [
    "# label frames\n",
    "# generates folders in the labeled-data folder with the video name\n",
    "deeplabcut.label_frames(config_path)"
   ]
  },
  {
   "cell_type": "code",
   "execution_count": 11,
   "metadata": {
    "collapsed": true
   },
   "outputs": [
    {
     "name": "stdout",
     "output_type": "stream",
     "text": [
      "Creating images with labels by Drago Guggiana.\n",
      "D:\\DLC_projects\\Prey_capture\\Prey_capture-Drago Guggiana-2020-03-26\\labeled-data\\03_02_2020_15_35_18_miniscope_MM_200129_a_succ_nomini_labeled  already exists!\n",
      "They are stored in the following folder: D:\\DLC_projects\\Prey_capture\\Prey_capture-Drago Guggiana-2020-03-26\\labeled-data\\03_02_2020_15_35_18_miniscope_MM_200129_a_succ_nomini_labeled.\n",
      "D:\\DLC_projects\\Prey_capture\\Prey_capture-Drago Guggiana-2020-03-26\\labeled-data\\03_02_2020_15_41_21_miniscope_MM_200129_a_succ_nomini_labeled  already exists!\n",
      "They are stored in the following folder: D:\\DLC_projects\\Prey_capture\\Prey_capture-Drago Guggiana-2020-03-26\\labeled-data\\03_02_2020_15_41_21_miniscope_MM_200129_a_succ_nomini_labeled.\n",
      "Attention: D:\\DLC_projects\\Prey_capture\\Prey_capture-Drago Guggiana-2020-03-26\\labeled-data\\03_02_2020_15_45_20_miniscope_MM_200129_a_succ_nomini does not appear to have labeled data!\n",
      "Attention: D:\\DLC_projects\\Prey_capture\\Prey_capture-Drago Guggiana-2020-03-26\\labeled-data\\03_02_2020_15_50_05_miniscope_MM_200129_a_succ does not appear to have labeled data!\n",
      "Attention: D:\\DLC_projects\\Prey_capture\\Prey_capture-Drago Guggiana-2020-03-26\\labeled-data\\03_02_2020_15_54_55_miniscope_MM_200129_a_succ does not appear to have labeled data!\n",
      "Attention: D:\\DLC_projects\\Prey_capture\\Prey_capture-Drago Guggiana-2020-03-26\\labeled-data\\03_02_2020_15_59_15_miniscope_MM_200129_a_succ does not appear to have labeled data!\n",
      "D:\\DLC_projects\\Prey_capture\\Prey_capture-Drago Guggiana-2020-03-26\\labeled-data\\03_02_2020_16_09_51_miniscope_MM_200129_b_fail_labeled  already exists!\n",
      "They are stored in the following folder: D:\\DLC_projects\\Prey_capture\\Prey_capture-Drago Guggiana-2020-03-26\\labeled-data\\03_02_2020_16_09_51_miniscope_MM_200129_b_fail_labeled.\n",
      "Attention: D:\\DLC_projects\\Prey_capture\\Prey_capture-Drago Guggiana-2020-03-26\\labeled-data\\03_02_2020_16_15_37_miniscope_MM_200129_b_fail does not appear to have labeled data!\n",
      "D:\\DLC_projects\\Prey_capture\\Prey_capture-Drago Guggiana-2020-03-26\\labeled-data\\03_02_2020_16_20_39_miniscope_MM_200129_b_succ_labeled  already exists!\n",
      "They are stored in the following folder: D:\\DLC_projects\\Prey_capture\\Prey_capture-Drago Guggiana-2020-03-26\\labeled-data\\03_02_2020_16_20_39_miniscope_MM_200129_b_succ_labeled.\n",
      "D:\\DLC_projects\\Prey_capture\\Prey_capture-Drago Guggiana-2020-03-26\\labeled-data\\03_02_2020_16_29_48_miniscope_MM_200129_b_succ_labeled  already exists!\n",
      "They are stored in the following folder: D:\\DLC_projects\\Prey_capture\\Prey_capture-Drago Guggiana-2020-03-26\\labeled-data\\03_02_2020_16_29_48_miniscope_MM_200129_b_succ_labeled.\n",
      "Attention: D:\\DLC_projects\\Prey_capture\\Prey_capture-Drago Guggiana-2020-03-26\\labeled-data\\03_04_2020_15_37_26_miniscope_MM_200129_a_succ does not appear to have labeled data!\n",
      "Attention: D:\\DLC_projects\\Prey_capture\\Prey_capture-Drago Guggiana-2020-03-26\\labeled-data\\03_04_2020_15_42_07_miniscope_MM_200129_a_succ does not appear to have labeled data!\n",
      "Attention: D:\\DLC_projects\\Prey_capture\\Prey_capture-Drago Guggiana-2020-03-26\\labeled-data\\03_04_2020_15_46_47_miniscope_MM_200129_a_succ does not appear to have labeled data!\n",
      "Attention: D:\\DLC_projects\\Prey_capture\\Prey_capture-Drago Guggiana-2020-03-26\\labeled-data\\03_04_2020_15_54_26_miniscope_MM_200129_a_succ does not appear to have labeled data!\n",
      "D:\\DLC_projects\\Prey_capture\\Prey_capture-Drago Guggiana-2020-03-26\\labeled-data\\03_04_2020_16_05_47_miniscope_MM_200129_b_succ_labeled  already exists!\n",
      "They are stored in the following folder: D:\\DLC_projects\\Prey_capture\\Prey_capture-Drago Guggiana-2020-03-26\\labeled-data\\03_04_2020_16_05_47_miniscope_MM_200129_b_succ_labeled.\n",
      "Attention: D:\\DLC_projects\\Prey_capture\\Prey_capture-Drago Guggiana-2020-03-26\\labeled-data\\03_04_2020_16_12_03_miniscope_MM_200129_b_succ does not appear to have labeled data!\n",
      "Attention: D:\\DLC_projects\\Prey_capture\\Prey_capture-Drago Guggiana-2020-03-26\\labeled-data\\03_04_2020_16_16_18_miniscope_MM_200129_b_succ does not appear to have labeled data!\n",
      "Attention: D:\\DLC_projects\\Prey_capture\\Prey_capture-Drago Guggiana-2020-03-26\\labeled-data\\03_04_2020_16_18_47_miniscope_MM_200129_b_succ does not appear to have labeled data!\n",
      "Attention: D:\\DLC_projects\\Prey_capture\\Prey_capture-Drago Guggiana-2020-03-26\\labeled-data\\03_05_2020_15_32_18_miniscope_MM_200129_a_succ does not appear to have labeled data!\n",
      "Attention: D:\\DLC_projects\\Prey_capture\\Prey_capture-Drago Guggiana-2020-03-26\\labeled-data\\03_05_2020_15_35_45_miniscope_MM_200129_a_succ does not appear to have labeled data!\n",
      "Attention: D:\\DLC_projects\\Prey_capture\\Prey_capture-Drago Guggiana-2020-03-26\\labeled-data\\03_05_2020_15_39_38_miniscope_MM_200129_a_succ does not appear to have labeled data!\n",
      "Attention: D:\\DLC_projects\\Prey_capture\\Prey_capture-Drago Guggiana-2020-03-26\\labeled-data\\03_05_2020_15_46_40_miniscope_MM_200129_a_succ does not appear to have labeled data!\n",
      "Attention: D:\\DLC_projects\\Prey_capture\\Prey_capture-Drago Guggiana-2020-03-26\\labeled-data\\03_05_2020_15_56_12_miniscope_MM_200129_b_succ does not appear to have labeled data!\n",
      "Attention: D:\\DLC_projects\\Prey_capture\\Prey_capture-Drago Guggiana-2020-03-26\\labeled-data\\03_05_2020_15_59_48_miniscope_MM_200129_b_succ does not appear to have labeled data!\n",
      "Attention: D:\\DLC_projects\\Prey_capture\\Prey_capture-Drago Guggiana-2020-03-26\\labeled-data\\03_05_2020_16_07_59_miniscope_MM_200129_b_succ does not appear to have labeled data!\n",
      "Attention: D:\\DLC_projects\\Prey_capture\\Prey_capture-Drago Guggiana-2020-03-26\\labeled-data\\03_05_2020_16_13_46_miniscope_MM_200129_b_succ does not appear to have labeled data!\n",
      "Attention: D:\\DLC_projects\\Prey_capture\\Prey_capture-Drago Guggiana-2020-03-26\\labeled-data\\03_06_2020_15_49_03_miniscope_MM_200129_a_succ does not appear to have labeled data!\n",
      "Attention: D:\\DLC_projects\\Prey_capture\\Prey_capture-Drago Guggiana-2020-03-26\\labeled-data\\03_06_2020_15_53_37_miniscope_MM_200129_a_succ does not appear to have labeled data!\n",
      "Attention: D:\\DLC_projects\\Prey_capture\\Prey_capture-Drago Guggiana-2020-03-26\\labeled-data\\03_06_2020_16_00_37_miniscope_MM_200129_a_succ does not appear to have labeled data!\n",
      "D:\\DLC_projects\\Prey_capture\\Prey_capture-Drago Guggiana-2020-03-26\\labeled-data\\03_06_2020_16_04_24_miniscope_MM_200129_a_succ_labeled  already exists!\n",
      "They are stored in the following folder: D:\\DLC_projects\\Prey_capture\\Prey_capture-Drago Guggiana-2020-03-26\\labeled-data\\03_06_2020_16_04_24_miniscope_MM_200129_a_succ_labeled.\n",
      "D:\\DLC_projects\\Prey_capture\\Prey_capture-Drago Guggiana-2020-03-26\\labeled-data\\03_06_2020_16_17_02_miniscope_MM_200129_b_succ_labeled  already exists!\n",
      "They are stored in the following folder: D:\\DLC_projects\\Prey_capture\\Prey_capture-Drago Guggiana-2020-03-26\\labeled-data\\03_06_2020_16_17_02_miniscope_MM_200129_b_succ_labeled.\n",
      "Attention: D:\\DLC_projects\\Prey_capture\\Prey_capture-Drago Guggiana-2020-03-26\\labeled-data\\03_06_2020_16_20_40_miniscope_MM_200129_b_succ does not appear to have labeled data!\n",
      "Attention: D:\\DLC_projects\\Prey_capture\\Prey_capture-Drago Guggiana-2020-03-26\\labeled-data\\03_06_2020_16_25_04_miniscope_MM_200129_b_succ does not appear to have labeled data!\n",
      "Attention: D:\\DLC_projects\\Prey_capture\\Prey_capture-Drago Guggiana-2020-03-26\\labeled-data\\03_06_2020_16_30_52_miniscope_MM_200129_b_succ does not appear to have labeled data!\n",
      "Attention: D:\\DLC_projects\\Prey_capture\\Prey_capture-Drago Guggiana-2020-03-26\\labeled-data\\03_10_2020_15_48_48_miniscope_MM_200129_a_succ does not appear to have labeled data!\n",
      "D:\\DLC_projects\\Prey_capture\\Prey_capture-Drago Guggiana-2020-03-26\\labeled-data\\03_10_2020_15_52_35_miniscope_MM_200129_a_succ_labeled  already exists!\n",
      "They are stored in the following folder: D:\\DLC_projects\\Prey_capture\\Prey_capture-Drago Guggiana-2020-03-26\\labeled-data\\03_10_2020_15_52_35_miniscope_MM_200129_a_succ_labeled.\n",
      "Attention: D:\\DLC_projects\\Prey_capture\\Prey_capture-Drago Guggiana-2020-03-26\\labeled-data\\03_10_2020_15_56_24_miniscope_MM_200129_a_succ does not appear to have labeled data!\n",
      "Attention: D:\\DLC_projects\\Prey_capture\\Prey_capture-Drago Guggiana-2020-03-26\\labeled-data\\03_10_2020_16_00_39_miniscope_MM_200129_a_succ does not appear to have labeled data!\n",
      "Attention: D:\\DLC_projects\\Prey_capture\\Prey_capture-Drago Guggiana-2020-03-26\\labeled-data\\03_10_2020_16_09_06_miniscope_MM_200129_b_succ does not appear to have labeled data!\n",
      "D:\\DLC_projects\\Prey_capture\\Prey_capture-Drago Guggiana-2020-03-26\\labeled-data\\03_10_2020_16_13_35_miniscope_MM_200129_b_succ_labeled  already exists!\n"
     ]
    },
    {
     "name": "stdout",
     "output_type": "stream",
     "text": [
      "They are stored in the following folder: D:\\DLC_projects\\Prey_capture\\Prey_capture-Drago Guggiana-2020-03-26\\labeled-data\\03_10_2020_16_13_35_miniscope_MM_200129_b_succ_labeled.\n",
      "D:\\DLC_projects\\Prey_capture\\Prey_capture-Drago Guggiana-2020-03-26\\labeled-data\\03_10_2020_16_17_45_miniscope_MM_200129_b_succ_labeled  already exists!\n",
      "They are stored in the following folder: D:\\DLC_projects\\Prey_capture\\Prey_capture-Drago Guggiana-2020-03-26\\labeled-data\\03_10_2020_16_17_45_miniscope_MM_200129_b_succ_labeled.\n",
      "Attention: D:\\DLC_projects\\Prey_capture\\Prey_capture-Drago Guggiana-2020-03-26\\labeled-data\\03_10_2020_16_21_31_miniscope_MM_200129_b_succ does not appear to have labeled data!\n",
      "Attention: D:\\DLC_projects\\Prey_capture\\Prey_capture-Drago Guggiana-2020-03-26\\labeled-data\\03_11_2020_15_58_51_miniscope_MM_200129_a_succ does not appear to have labeled data!\n",
      "Attention: D:\\DLC_projects\\Prey_capture\\Prey_capture-Drago Guggiana-2020-03-26\\labeled-data\\03_11_2020_16_02_24_miniscope_MM_200129_a_succ does not appear to have labeled data!\n",
      "Attention: D:\\DLC_projects\\Prey_capture\\Prey_capture-Drago Guggiana-2020-03-26\\labeled-data\\03_11_2020_16_10_08_miniscope_MM_200129_a_succ does not appear to have labeled data!\n",
      "Attention: D:\\DLC_projects\\Prey_capture\\Prey_capture-Drago Guggiana-2020-03-26\\labeled-data\\03_11_2020_16_14_11_miniscope_MM_200129_a_succ does not appear to have labeled data!\n",
      "Attention: D:\\DLC_projects\\Prey_capture\\Prey_capture-Drago Guggiana-2020-03-26\\labeled-data\\03_11_2020_16_37_26_miniscope_MM_200129_b_succ does not appear to have labeled data!\n",
      "Attention: D:\\DLC_projects\\Prey_capture\\Prey_capture-Drago Guggiana-2020-03-26\\labeled-data\\03_11_2020_16_42_47_miniscope_MM_200129_b_succ does not appear to have labeled data!\n",
      "D:\\DLC_projects\\Prey_capture\\Prey_capture-Drago Guggiana-2020-03-26\\labeled-data\\03_11_2020_16_47_49_miniscope_MM_200129_b_succ_labeled  already exists!\n",
      "They are stored in the following folder: D:\\DLC_projects\\Prey_capture\\Prey_capture-Drago Guggiana-2020-03-26\\labeled-data\\03_11_2020_16_47_49_miniscope_MM_200129_b_succ_labeled.\n",
      "Attention: D:\\DLC_projects\\Prey_capture\\Prey_capture-Drago Guggiana-2020-03-26\\labeled-data\\03_11_2020_16_52_20_miniscope_MM_200129_b_succ does not appear to have labeled data!\n",
      "Attention: D:\\DLC_projects\\Prey_capture\\Prey_capture-Drago Guggiana-2020-03-26\\labeled-data\\03_12_2020_16_23_09_miniscope_MM_200129_a_succ does not appear to have labeled data!\n",
      "Attention: D:\\DLC_projects\\Prey_capture\\Prey_capture-Drago Guggiana-2020-03-26\\labeled-data\\03_12_2020_16_25_39_miniscope_MM_200129_a_succ does not appear to have labeled data!\n",
      "Attention: D:\\DLC_projects\\Prey_capture\\Prey_capture-Drago Guggiana-2020-03-26\\labeled-data\\03_12_2020_16_30_37_miniscope_MM_200129_a_succ does not appear to have labeled data!\n",
      "Attention: D:\\DLC_projects\\Prey_capture\\Prey_capture-Drago Guggiana-2020-03-26\\labeled-data\\03_12_2020_16_32_46_miniscope_MM_200129_a_succ does not appear to have labeled data!\n",
      "D:\\DLC_projects\\Prey_capture\\Prey_capture-Drago Guggiana-2020-03-26\\labeled-data\\03_12_2020_16_44_47_miniscope_MM_200129_b_succ_labeled  already exists!\n",
      "They are stored in the following folder: D:\\DLC_projects\\Prey_capture\\Prey_capture-Drago Guggiana-2020-03-26\\labeled-data\\03_12_2020_16_44_47_miniscope_MM_200129_b_succ_labeled.\n",
      "Attention: D:\\DLC_projects\\Prey_capture\\Prey_capture-Drago Guggiana-2020-03-26\\labeled-data\\03_12_2020_16_49_07_miniscope_MM_200129_b_succ does not appear to have labeled data!\n",
      "Attention: D:\\DLC_projects\\Prey_capture\\Prey_capture-Drago Guggiana-2020-03-26\\labeled-data\\03_12_2020_16_52_33_miniscope_MM_200129_b_succ does not appear to have labeled data!\n",
      "Attention: D:\\DLC_projects\\Prey_capture\\Prey_capture-Drago Guggiana-2020-03-26\\labeled-data\\03_12_2020_16_56_04_miniscope_MM_200129_b_succ does not appear to have labeled data!\n",
      "Attention: D:\\DLC_projects\\Prey_capture\\Prey_capture-Drago Guggiana-2020-03-26\\labeled-data\\03_13_2020_13_10_44_miniscope_MM_200129_a_succ does not appear to have labeled data!\n",
      "Attention: D:\\DLC_projects\\Prey_capture\\Prey_capture-Drago Guggiana-2020-03-26\\labeled-data\\03_13_2020_13_14_07_miniscope_MM_200129_a_succ does not appear to have labeled data!\n",
      "Attention: D:\\DLC_projects\\Prey_capture\\Prey_capture-Drago Guggiana-2020-03-26\\labeled-data\\03_13_2020_13_20_21_miniscope_MM_200129_a_succ does not appear to have labeled data!\n",
      "D:\\DLC_projects\\Prey_capture\\Prey_capture-Drago Guggiana-2020-03-26\\labeled-data\\03_13_2020_13_25_36_miniscope_MM_200129_a_succ_labeled  already exists!\n",
      "They are stored in the following folder: D:\\DLC_projects\\Prey_capture\\Prey_capture-Drago Guggiana-2020-03-26\\labeled-data\\03_13_2020_13_25_36_miniscope_MM_200129_a_succ_labeled.\n",
      "D:\\DLC_projects\\Prey_capture\\Prey_capture-Drago Guggiana-2020-03-26\\labeled-data\\03_13_2020_13_44_46_miniscope_MM_200129_b_succ_labeled  already exists!\n",
      "They are stored in the following folder: D:\\DLC_projects\\Prey_capture\\Prey_capture-Drago Guggiana-2020-03-26\\labeled-data\\03_13_2020_13_44_46_miniscope_MM_200129_b_succ_labeled.\n",
      "Attention: D:\\DLC_projects\\Prey_capture\\Prey_capture-Drago Guggiana-2020-03-26\\labeled-data\\03_13_2020_13_49_34_miniscope_MM_200129_b_succ does not appear to have labeled data!\n",
      "Attention: D:\\DLC_projects\\Prey_capture\\Prey_capture-Drago Guggiana-2020-03-26\\labeled-data\\03_13_2020_13_53_47_miniscope_MM_200129_b_succ does not appear to have labeled data!\n",
      "Attention: D:\\DLC_projects\\Prey_capture\\Prey_capture-Drago Guggiana-2020-03-26\\labeled-data\\03_13_2020_14_00_19_miniscope_MM_200129_b_succ does not appear to have labeled data!\n",
      "Attention: D:\\DLC_projects\\Prey_capture\\Prey_capture-Drago Guggiana-2020-03-26\\labeled-data\\11_11_2019_00_41_27_miniscope_DG_190806_a_fail_nomini does not appear to have labeled data!\n",
      "D:\\DLC_projects\\Prey_capture\\Prey_capture-Drago Guggiana-2020-03-26\\labeled-data\\11_11_2019_00_49_07_miniscope_DG_190806_a_fail_nomini_labeled  already exists!\n",
      "They are stored in the following folder: D:\\DLC_projects\\Prey_capture\\Prey_capture-Drago Guggiana-2020-03-26\\labeled-data\\11_11_2019_00_49_07_miniscope_DG_190806_a_fail_nomini_labeled.\n",
      "D:\\DLC_projects\\Prey_capture\\Prey_capture-Drago Guggiana-2020-03-26\\labeled-data\\11_11_2019_00_54_37_miniscope_DG_190806_a_fail_nomini_labeled  already exists!\n",
      "They are stored in the following folder: D:\\DLC_projects\\Prey_capture\\Prey_capture-Drago Guggiana-2020-03-26\\labeled-data\\11_11_2019_00_54_37_miniscope_DG_190806_a_fail_nomini_labeled.\n",
      "Attention: D:\\DLC_projects\\Prey_capture\\Prey_capture-Drago Guggiana-2020-03-26\\labeled-data\\11_11_2019_01_21_58_miniscope_DG_190806_a_fail_nofluo does not appear to have labeled data!\n",
      "Attention: D:\\DLC_projects\\Prey_capture\\Prey_capture-Drago Guggiana-2020-03-26\\labeled-data\\11_11_2019_22_43_04_miniscope_DG_190806_a_fail_nofluo does not appear to have labeled data!\n",
      "D:\\DLC_projects\\Prey_capture\\Prey_capture-Drago Guggiana-2020-03-26\\labeled-data\\11_11_2019_22_48_32_miniscope_DG_190806_a_fail_nofluo_labeled  already exists!\n",
      "They are stored in the following folder: D:\\DLC_projects\\Prey_capture\\Prey_capture-Drago Guggiana-2020-03-26\\labeled-data\\11_11_2019_22_48_32_miniscope_DG_190806_a_fail_nofluo_labeled.\n",
      "Attention: D:\\DLC_projects\\Prey_capture\\Prey_capture-Drago Guggiana-2020-03-26\\labeled-data\\11_11_2019_22_56_57_miniscope_DG_190806_a_succ_nofluo does not appear to have labeled data!\n",
      "Attention: D:\\DLC_projects\\Prey_capture\\Prey_capture-Drago Guggiana-2020-03-26\\labeled-data\\11_11_2019_23_07_55_miniscope_DG_190806_a_fail_nofluo does not appear to have labeled data!\n",
      "Attention: D:\\DLC_projects\\Prey_capture\\Prey_capture-Drago Guggiana-2020-03-26\\labeled-data\\11_11_2019_23_23_16_miniscope_DG_190810_a_fail_nomini does not appear to have labeled data!\n",
      "D:\\DLC_projects\\Prey_capture\\Prey_capture-Drago Guggiana-2020-03-26\\labeled-data\\11_11_2019_23_30_06_miniscope_DG_190810_a_succ_nomini_labeled  already exists!\n",
      "They are stored in the following folder: D:\\DLC_projects\\Prey_capture\\Prey_capture-Drago Guggiana-2020-03-26\\labeled-data\\11_11_2019_23_30_06_miniscope_DG_190810_a_succ_nomini_labeled.\n",
      "Attention: D:\\DLC_projects\\Prey_capture\\Prey_capture-Drago Guggiana-2020-03-26\\labeled-data\\11_11_2019_23_35_36_miniscope_DG_190810_a_succ_nomini does not appear to have labeled data!\n",
      "Attention: D:\\DLC_projects\\Prey_capture\\Prey_capture-Drago Guggiana-2020-03-26\\labeled-data\\11_11_2019_23_43_13_miniscope_DG_190810_a_succ_nomini does not appear to have labeled data!\n",
      "D:\\DLC_projects\\Prey_capture\\Prey_capture-Drago Guggiana-2020-03-26\\labeled-data\\11_12_2019_16_41_32_miniscope_DG_190806_a_succ_nofluobadtrigger_labeled  already exists!\n"
     ]
    },
    {
     "name": "stdout",
     "output_type": "stream",
     "text": [
      "They are stored in the following folder: D:\\DLC_projects\\Prey_capture\\Prey_capture-Drago Guggiana-2020-03-26\\labeled-data\\11_12_2019_16_41_32_miniscope_DG_190806_a_succ_nofluobadtrigger_labeled.\n",
      "Attention: D:\\DLC_projects\\Prey_capture\\Prey_capture-Drago Guggiana-2020-03-26\\labeled-data\\11_12_2019_16_47_36_miniscope_DG_190806_a_succ_nofluo does not appear to have labeled data!\n",
      "Attention: D:\\DLC_projects\\Prey_capture\\Prey_capture-Drago Guggiana-2020-03-26\\labeled-data\\11_12_2019_16_50_34_miniscope_DG_190806_a_succ_nofluo does not appear to have labeled data!\n",
      "Attention: D:\\DLC_projects\\Prey_capture\\Prey_capture-Drago Guggiana-2020-03-26\\labeled-data\\11_12_2019_16_54_56_miniscope_DG_190806_a_succ_nofluo does not appear to have labeled data!\n",
      "Attention: D:\\DLC_projects\\Prey_capture\\Prey_capture-Drago Guggiana-2020-03-26\\labeled-data\\11_12_2019_17_02_59_miniscope_DG_190810_a_succ_nomini does not appear to have labeled data!\n",
      "Attention: D:\\DLC_projects\\Prey_capture\\Prey_capture-Drago Guggiana-2020-03-26\\labeled-data\\11_12_2019_17_07_21_miniscope_DG_190810_a_succ_nomini does not appear to have labeled data!\n",
      "Attention: D:\\DLC_projects\\Prey_capture\\Prey_capture-Drago Guggiana-2020-03-26\\labeled-data\\11_12_2019_17_10_51_miniscope_DG_190810_a_succ_nomini does not appear to have labeled data!\n",
      "Attention: D:\\DLC_projects\\Prey_capture\\Prey_capture-Drago Guggiana-2020-03-26\\labeled-data\\11_12_2019_17_14_20_miniscope_DG_190810_a_succ_nomini does not appear to have labeled data!\n",
      "Attention: D:\\DLC_projects\\Prey_capture\\Prey_capture-Drago Guggiana-2020-03-26\\labeled-data\\11_13_2019_17_57_10_miniscope_DG_190806_a_succ_nofluobadtrigger does not appear to have labeled data!\n",
      "Attention: D:\\DLC_projects\\Prey_capture\\Prey_capture-Drago Guggiana-2020-03-26\\labeled-data\\11_13_2019_18_00_39_miniscope_DG_190806_a_succ_nofluo does not appear to have labeled data!\n",
      "Attention: D:\\DLC_projects\\Prey_capture\\Prey_capture-Drago Guggiana-2020-03-26\\labeled-data\\11_13_2019_18_04_22_miniscope_DG_190806_a_succ_nofluo does not appear to have labeled data!\n",
      "Attention: D:\\DLC_projects\\Prey_capture\\Prey_capture-Drago Guggiana-2020-03-26\\labeled-data\\11_13_2019_18_08_16_miniscope_DG_190806_a_succ_nofluo does not appear to have labeled data!\n",
      "Attention: D:\\DLC_projects\\Prey_capture\\Prey_capture-Drago Guggiana-2020-03-26\\labeled-data\\11_13_2019_18_14_36_miniscope_DG_190810_a_succ_nomini does not appear to have labeled data!\n",
      "Attention: D:\\DLC_projects\\Prey_capture\\Prey_capture-Drago Guggiana-2020-03-26\\labeled-data\\11_13_2019_18_19_35_miniscope_DG_190810_a_succ_nomini does not appear to have labeled data!\n",
      "Attention: D:\\DLC_projects\\Prey_capture\\Prey_capture-Drago Guggiana-2020-03-26\\labeled-data\\11_13_2019_18_23_01_miniscope_DG_190810_a_succ_nomini does not appear to have labeled data!\n",
      "Attention: D:\\DLC_projects\\Prey_capture\\Prey_capture-Drago Guggiana-2020-03-26\\labeled-data\\11_13_2019_18_25_56_miniscope_DG_190810_a_succ_nomini does not appear to have labeled data!\n",
      "Attention: D:\\DLC_projects\\Prey_capture\\Prey_capture-Drago Guggiana-2020-03-26\\labeled-data\\11_14_2019_17_15_24_miniscope_DG_190806_a_succ_nofluo does not appear to have labeled data!\n",
      "Attention: D:\\DLC_projects\\Prey_capture\\Prey_capture-Drago Guggiana-2020-03-26\\labeled-data\\11_14_2019_17_19_46_miniscope_DG_190806_a_succ_nofluo does not appear to have labeled data!\n",
      "Attention: D:\\DLC_projects\\Prey_capture\\Prey_capture-Drago Guggiana-2020-03-26\\labeled-data\\11_14_2019_17_24_28_miniscope_DG_190806_a_succ_nofluo does not appear to have labeled data!\n",
      "Attention: D:\\DLC_projects\\Prey_capture\\Prey_capture-Drago Guggiana-2020-03-26\\labeled-data\\11_14_2019_17_30_44_miniscope_DG_190806_a_succ_nofluo does not appear to have labeled data!\n",
      "Attention: D:\\DLC_projects\\Prey_capture\\Prey_capture-Drago Guggiana-2020-03-26\\labeled-data\\11_14_2019_17_39_46_miniscope_DG_190810_a_succ_nomini does not appear to have labeled data!\n",
      "Attention: D:\\DLC_projects\\Prey_capture\\Prey_capture-Drago Guggiana-2020-03-26\\labeled-data\\11_14_2019_17_43_07_miniscope_DG_190810_a_succ_nomini does not appear to have labeled data!\n",
      "Attention: D:\\DLC_projects\\Prey_capture\\Prey_capture-Drago Guggiana-2020-03-26\\labeled-data\\11_14_2019_17_46_42_miniscope_DG_190810_a_succ_nomini does not appear to have labeled data!\n",
      "Attention: D:\\DLC_projects\\Prey_capture\\Prey_capture-Drago Guggiana-2020-03-26\\labeled-data\\11_14_2019_17_50_12_miniscope_DG_190810_a_succ_nomini does not appear to have labeled data!\n",
      "Attention: D:\\DLC_projects\\Prey_capture\\Prey_capture-Drago Guggiana-2020-03-26\\labeled-data\\11_25_2019_14_30_43_miniscope_MM_191105_a_fail_nomini does not appear to have labeled data!\n",
      "Attention: D:\\DLC_projects\\Prey_capture\\Prey_capture-Drago Guggiana-2020-03-26\\labeled-data\\11_25_2019_14_38_45_miniscope_MM_191105_a_fail_nomini does not appear to have labeled data!\n",
      "Attention: D:\\DLC_projects\\Prey_capture\\Prey_capture-Drago Guggiana-2020-03-26\\labeled-data\\11_25_2019_14_47_40_miniscope_MM_191105_a_fail_nomini does not appear to have labeled data!\n",
      "Attention: D:\\DLC_projects\\Prey_capture\\Prey_capture-Drago Guggiana-2020-03-26\\labeled-data\\11_25_2019_14_55_06_miniscope_MM_191105_a_fail_nomini does not appear to have labeled data!\n",
      "Attention: D:\\DLC_projects\\Prey_capture\\Prey_capture-Drago Guggiana-2020-03-26\\labeled-data\\11_25_2019_15_09_04_miniscope_MM_191106_a_fail_nomini does not appear to have labeled data!\n",
      "Attention: D:\\DLC_projects\\Prey_capture\\Prey_capture-Drago Guggiana-2020-03-26\\labeled-data\\11_25_2019_15_15_55_miniscope_MM_191106_a_fail_nomini does not appear to have labeled data!\n",
      "Attention: D:\\DLC_projects\\Prey_capture\\Prey_capture-Drago Guggiana-2020-03-26\\labeled-data\\11_25_2019_15_22_31_miniscope_MM_191106_a_fail_nomini does not appear to have labeled data!\n",
      "Attention: D:\\DLC_projects\\Prey_capture\\Prey_capture-Drago Guggiana-2020-03-26\\labeled-data\\11_25_2019_15_28_57_miniscope_MM_191106_a_fail_nomini does not appear to have labeled data!\n",
      "Attention: D:\\DLC_projects\\Prey_capture\\Prey_capture-Drago Guggiana-2020-03-26\\labeled-data\\11_25_2019_15_43_30_miniscope_MM_191107_a_fail_nomini does not appear to have labeled data!\n",
      "Attention: D:\\DLC_projects\\Prey_capture\\Prey_capture-Drago Guggiana-2020-03-26\\labeled-data\\11_25_2019_15_49_41_miniscope_MM_191107_a_fail_nomini does not appear to have labeled data!\n",
      "Attention: D:\\DLC_projects\\Prey_capture\\Prey_capture-Drago Guggiana-2020-03-26\\labeled-data\\11_25_2019_15_58_05_miniscope_MM_191107_a_fail_nomini does not appear to have labeled data!\n",
      "Attention: D:\\DLC_projects\\Prey_capture\\Prey_capture-Drago Guggiana-2020-03-26\\labeled-data\\11_25_2019_16_04_36_miniscope_MM_191107_a_fail_nomini does not appear to have labeled data!\n",
      "Attention: D:\\DLC_projects\\Prey_capture\\Prey_capture-Drago Guggiana-2020-03-26\\labeled-data\\11_25_2019_16_15_54_miniscope_MM_191108_a_fail_nomini does not appear to have labeled data!\n",
      "Attention: D:\\DLC_projects\\Prey_capture\\Prey_capture-Drago Guggiana-2020-03-26\\labeled-data\\11_25_2019_16_22_23_miniscope_MM_191108_a_fail_nomini does not appear to have labeled data!\n",
      "Attention: D:\\DLC_projects\\Prey_capture\\Prey_capture-Drago Guggiana-2020-03-26\\labeled-data\\11_25_2019_16_28_56_miniscope_MM_191108_a_fail_nomini does not appear to have labeled data!\n",
      "Attention: D:\\DLC_projects\\Prey_capture\\Prey_capture-Drago Guggiana-2020-03-26\\labeled-data\\11_25_2019_16_36_00_miniscope_MM_191108_a_fail_nomini does not appear to have labeled data!\n",
      "Attention: D:\\DLC_projects\\Prey_capture\\Prey_capture-Drago Guggiana-2020-03-26\\labeled-data\\11_26_2019_15_44_01_miniscope_MM_191106_a_fail_nomini does not appear to have labeled data!\n",
      "Attention: D:\\DLC_projects\\Prey_capture\\Prey_capture-Drago Guggiana-2020-03-26\\labeled-data\\11_26_2019_15_52_26_miniscope_MM_191106_a_fail_nomini does not appear to have labeled data!\n",
      "Attention: D:\\DLC_projects\\Prey_capture\\Prey_capture-Drago Guggiana-2020-03-26\\labeled-data\\11_26_2019_15_59_23_miniscope_MM_191106_a_fail_nomini does not appear to have labeled data!\n",
      "Attention: D:\\DLC_projects\\Prey_capture\\Prey_capture-Drago Guggiana-2020-03-26\\labeled-data\\11_26_2019_16_10_04_miniscope_MM_191106_a_fail_nomini does not appear to have labeled data!\n",
      "Attention: D:\\DLC_projects\\Prey_capture\\Prey_capture-Drago Guggiana-2020-03-26\\labeled-data\\11_26_2019_16_20_21_miniscope_MM_191107_a_fail_nomini does not appear to have labeled data!\n",
      "Attention: D:\\DLC_projects\\Prey_capture\\Prey_capture-Drago Guggiana-2020-03-26\\labeled-data\\11_26_2019_16_26_36_miniscope_MM_191107_a_fail_nomini does not appear to have labeled data!\n",
      "Attention: D:\\DLC_projects\\Prey_capture\\Prey_capture-Drago Guggiana-2020-03-26\\labeled-data\\11_26_2019_16_32_30_miniscope_MM_191107_a_fail_nomini does not appear to have labeled data!\n",
      "Attention: D:\\DLC_projects\\Prey_capture\\Prey_capture-Drago Guggiana-2020-03-26\\labeled-data\\11_26_2019_16_39_57_miniscope_MM_191107_a_fail_nomini does not appear to have labeled data!\n",
      "Attention: D:\\DLC_projects\\Prey_capture\\Prey_capture-Drago Guggiana-2020-03-26\\labeled-data\\11_26_2019_16_48_28_miniscope_MM_191108_a_fail_nomini does not appear to have labeled data!\n",
      "Attention: D:\\DLC_projects\\Prey_capture\\Prey_capture-Drago Guggiana-2020-03-26\\labeled-data\\11_26_2019_16_54_02_miniscope_MM_191108_a_fail_nomini does not appear to have labeled data!\n",
      "Attention: D:\\DLC_projects\\Prey_capture\\Prey_capture-Drago Guggiana-2020-03-26\\labeled-data\\11_26_2019_17_00_05_miniscope_MM_191108_a_fail_nomini does not appear to have labeled data!\n",
      "Attention: D:\\DLC_projects\\Prey_capture\\Prey_capture-Drago Guggiana-2020-03-26\\labeled-data\\11_26_2019_17_06_44_miniscope_MM_191108_a_fail_nomini does not appear to have labeled data!\n",
      "Attention: D:\\DLC_projects\\Prey_capture\\Prey_capture-Drago Guggiana-2020-03-26\\labeled-data\\11_29_2019_14_03_19_miniscope_MM_191105_a_fail_nomini does not appear to have labeled data!\n",
      "Attention: D:\\DLC_projects\\Prey_capture\\Prey_capture-Drago Guggiana-2020-03-26\\labeled-data\\11_29_2019_14_09_23_miniscope_MM_191105_a_fail_nomini does not appear to have labeled data!\n",
      "Attention: D:\\DLC_projects\\Prey_capture\\Prey_capture-Drago Guggiana-2020-03-26\\labeled-data\\11_29_2019_14_16_30_miniscope_MM_191105_a_fail_nomini does not appear to have labeled data!\n",
      "Attention: D:\\DLC_projects\\Prey_capture\\Prey_capture-Drago Guggiana-2020-03-26\\labeled-data\\11_29_2019_14_25_32_miniscope_MM_191105_a_fail_nomini does not appear to have labeled data!\n",
      "Attention: D:\\DLC_projects\\Prey_capture\\Prey_capture-Drago Guggiana-2020-03-26\\labeled-data\\11_29_2019_14_36_52_miniscope_MM_191106_a_fail_nomini does not appear to have labeled data!\n",
      "Attention: D:\\DLC_projects\\Prey_capture\\Prey_capture-Drago Guggiana-2020-03-26\\labeled-data\\11_29_2019_14_43_47_miniscope_MM_191106_a_fail_nomini does not appear to have labeled data!\n",
      "Attention: D:\\DLC_projects\\Prey_capture\\Prey_capture-Drago Guggiana-2020-03-26\\labeled-data\\11_29_2019_14_50_39_miniscope_MM_191106_a_fail_nomini does not appear to have labeled data!\n",
      "Attention: D:\\DLC_projects\\Prey_capture\\Prey_capture-Drago Guggiana-2020-03-26\\labeled-data\\11_29_2019_14_57_47_miniscope_MM_191106_a_fail_nomini does not appear to have labeled data!\n",
      "Attention: D:\\DLC_projects\\Prey_capture\\Prey_capture-Drago Guggiana-2020-03-26\\labeled-data\\11_29_2019_15_08_11_miniscope_MM_191107_a_fail_nomini does not appear to have labeled data!\n",
      "Attention: D:\\DLC_projects\\Prey_capture\\Prey_capture-Drago Guggiana-2020-03-26\\labeled-data\\11_29_2019_15_16_19_miniscope_MM_191107_a_fail_nomini does not appear to have labeled data!\n",
      "Attention: D:\\DLC_projects\\Prey_capture\\Prey_capture-Drago Guggiana-2020-03-26\\labeled-data\\11_29_2019_15_23_26_miniscope_MM_191107_a_fail_nomini does not appear to have labeled data!\n",
      "Attention: D:\\DLC_projects\\Prey_capture\\Prey_capture-Drago Guggiana-2020-03-26\\labeled-data\\11_29_2019_15_30_55_miniscope_MM_191107_a_fail_nomini does not appear to have labeled data!\n",
      "Attention: D:\\DLC_projects\\Prey_capture\\Prey_capture-Drago Guggiana-2020-03-26\\labeled-data\\11_29_2019_15_42_19_miniscope_MM_191108_a_fail_nomini does not appear to have labeled data!\n",
      "Attention: D:\\DLC_projects\\Prey_capture\\Prey_capture-Drago Guggiana-2020-03-26\\labeled-data\\11_29_2019_15_49_40_miniscope_MM_191108_a_fail_nomini does not appear to have labeled data!\n",
      "Attention: D:\\DLC_projects\\Prey_capture\\Prey_capture-Drago Guggiana-2020-03-26\\labeled-data\\11_29_2019_15_56_39_miniscope_MM_191108_a_fail_nomini does not appear to have labeled data!\n",
      "Attention: D:\\DLC_projects\\Prey_capture\\Prey_capture-Drago Guggiana-2020-03-26\\labeled-data\\11_29_2019_16_02_26_miniscope_MM_191108_a_fail_nomini does not appear to have labeled data!\n",
      "Attention: D:\\DLC_projects\\Prey_capture\\Prey_capture-Drago Guggiana-2020-03-26\\labeled-data\\12_02_2019_16_05_42_miniscope_MM_191105_a_fail_nomini does not appear to have labeled data!\n",
      "Attention: D:\\DLC_projects\\Prey_capture\\Prey_capture-Drago Guggiana-2020-03-26\\labeled-data\\12_02_2019_16_13_23_miniscope_MM_191105_a_fail_nomini does not appear to have labeled data!\n",
      "Attention: D:\\DLC_projects\\Prey_capture\\Prey_capture-Drago Guggiana-2020-03-26\\labeled-data\\12_02_2019_16_21_09_miniscope_MM_191105_a_fail_nomini does not appear to have labeled data!\n",
      "Attention: D:\\DLC_projects\\Prey_capture\\Prey_capture-Drago Guggiana-2020-03-26\\labeled-data\\12_02_2019_16_27_33_miniscope_MM_191105_a_fail_nomini does not appear to have labeled data!\n",
      "Attention: D:\\DLC_projects\\Prey_capture\\Prey_capture-Drago Guggiana-2020-03-26\\labeled-data\\12_02_2019_16_37_29_miniscope_MM_191106_a_fail_nomini does not appear to have labeled data!\n",
      "Attention: D:\\DLC_projects\\Prey_capture\\Prey_capture-Drago Guggiana-2020-03-26\\labeled-data\\12_02_2019_16_45_51_miniscope_MM_191106_a_fail_nomini does not appear to have labeled data!\n",
      "Attention: D:\\DLC_projects\\Prey_capture\\Prey_capture-Drago Guggiana-2020-03-26\\labeled-data\\12_02_2019_16_52_33_miniscope_MM_191106_a_fail_nomini does not appear to have labeled data!\n",
      "Attention: D:\\DLC_projects\\Prey_capture\\Prey_capture-Drago Guggiana-2020-03-26\\labeled-data\\12_02_2019_16_58_55_miniscope_MM_191106_a_fail_nomini does not appear to have labeled data!\n",
      "Attention: D:\\DLC_projects\\Prey_capture\\Prey_capture-Drago Guggiana-2020-03-26\\labeled-data\\12_02_2019_17_08_58_miniscope_MM_191107_a_succ_nomini does not appear to have labeled data!\n",
      "Attention: D:\\DLC_projects\\Prey_capture\\Prey_capture-Drago Guggiana-2020-03-26\\labeled-data\\12_02_2019_17_18_30_miniscope_MM_191107_a_succ_nomini does not appear to have labeled data!\n",
      "Attention: D:\\DLC_projects\\Prey_capture\\Prey_capture-Drago Guggiana-2020-03-26\\labeled-data\\12_02_2019_17_26_56_miniscope_MM_191107_a_succ_nomini does not appear to have labeled data!\n",
      "Attention: D:\\DLC_projects\\Prey_capture\\Prey_capture-Drago Guggiana-2020-03-26\\labeled-data\\12_02_2019_17_33_47_miniscope_MM_191107_a_succ_nomini does not appear to have labeled data!\n",
      "Attention: D:\\DLC_projects\\Prey_capture\\Prey_capture-Drago Guggiana-2020-03-26\\labeled-data\\12_02_2019_17_44_49_miniscope_MM_191108_a_fail_nomini does not appear to have labeled data!\n",
      "Attention: D:\\DLC_projects\\Prey_capture\\Prey_capture-Drago Guggiana-2020-03-26\\labeled-data\\12_02_2019_17_52_21_miniscope_MM_191108_a_fail_nomini does not appear to have labeled data!\n",
      "Attention: D:\\DLC_projects\\Prey_capture\\Prey_capture-Drago Guggiana-2020-03-26\\labeled-data\\12_03_2019_15_00_53_miniscope_MM_191105_a_fail_nomini does not appear to have labeled data!\n",
      "Attention: D:\\DLC_projects\\Prey_capture\\Prey_capture-Drago Guggiana-2020-03-26\\labeled-data\\12_03_2019_15_08_15_miniscope_MM_191105_a_succ_nomini does not appear to have labeled data!\n",
      "Attention: D:\\DLC_projects\\Prey_capture\\Prey_capture-Drago Guggiana-2020-03-26\\labeled-data\\12_03_2019_15_15_55_miniscope_MM_191105_a_succ_nomini does not appear to have labeled data!\n",
      "Attention: D:\\DLC_projects\\Prey_capture\\Prey_capture-Drago Guggiana-2020-03-26\\labeled-data\\12_03_2019_15_24_04_miniscope_MM_191105_a_succ_nomini does not appear to have labeled data!\n",
      "Attention: D:\\DLC_projects\\Prey_capture\\Prey_capture-Drago Guggiana-2020-03-26\\labeled-data\\12_03_2019_15_31_21_miniscope_MM_191106_a_fail_nomini does not appear to have labeled data!\n",
      "Attention: D:\\DLC_projects\\Prey_capture\\Prey_capture-Drago Guggiana-2020-03-26\\labeled-data\\12_03_2019_15_38_58_miniscope_MM_191106_a_fail_nomini does not appear to have labeled data!\n",
      "Attention: D:\\DLC_projects\\Prey_capture\\Prey_capture-Drago Guggiana-2020-03-26\\labeled-data\\12_03_2019_15_47_19_miniscope_MM_191107_a_succ_nomini does not appear to have labeled data!\n",
      "Attention: D:\\DLC_projects\\Prey_capture\\Prey_capture-Drago Guggiana-2020-03-26\\labeled-data\\12_03_2019_15_52_44_miniscope_MM_191107_a_succ_nomini does not appear to have labeled data!\n",
      "Attention: D:\\DLC_projects\\Prey_capture\\Prey_capture-Drago Guggiana-2020-03-26\\labeled-data\\12_03_2019_15_57_28_miniscope_MM_191107_a_succ_nomini does not appear to have labeled data!\n",
      "Attention: D:\\DLC_projects\\Prey_capture\\Prey_capture-Drago Guggiana-2020-03-26\\labeled-data\\12_03_2019_16_03_45_miniscope_MM_191107_a_succ_nomini does not appear to have labeled data!\n",
      "Attention: D:\\DLC_projects\\Prey_capture\\Prey_capture-Drago Guggiana-2020-03-26\\labeled-data\\12_03_2019_16_11_31_miniscope_MM_191106_a_succ_nomini does not appear to have labeled data!\n",
      "Attention: D:\\DLC_projects\\Prey_capture\\Prey_capture-Drago Guggiana-2020-03-26\\labeled-data\\12_03_2019_16_20_45_miniscope_MM_191106_a_fail_nomini does not appear to have labeled data!\n",
      "Attention: D:\\DLC_projects\\Prey_capture\\Prey_capture-Drago Guggiana-2020-03-26\\labeled-data\\12_03_2019_16_34_28_miniscope_MM_191108_a_fail_nomini does not appear to have labeled data!\n",
      "Attention: D:\\DLC_projects\\Prey_capture\\Prey_capture-Drago Guggiana-2020-03-26\\labeled-data\\12_03_2019_16_42_00_miniscope_MM_191108_a_fail_nomini does not appear to have labeled data!\n",
      "Attention: D:\\DLC_projects\\Prey_capture\\Prey_capture-Drago Guggiana-2020-03-26\\labeled-data\\12_03_2019_16_48_22_miniscope_MM_191108_a_succ_nomini does not appear to have labeled data!\n",
      "Attention: D:\\DLC_projects\\Prey_capture\\Prey_capture-Drago Guggiana-2020-03-26\\labeled-data\\12_03_2019_16_57_25_miniscope_MM_191108_a_succ_nomini does not appear to have labeled data!\n",
      "Attention: D:\\DLC_projects\\Prey_capture\\Prey_capture-Drago Guggiana-2020-03-26\\labeled-data\\12_04_2019_15_19_29_miniscope_MM_191106_a_succ_nomini does not appear to have labeled data!\n",
      "Attention: D:\\DLC_projects\\Prey_capture\\Prey_capture-Drago Guggiana-2020-03-26\\labeled-data\\12_04_2019_15_23_56_miniscope_MM_191106_a_succ_nomini does not appear to have labeled data!\n",
      "Attention: D:\\DLC_projects\\Prey_capture\\Prey_capture-Drago Guggiana-2020-03-26\\labeled-data\\12_04_2019_15_29_28_miniscope_MM_191106_a_succ_nomini does not appear to have labeled data!\n",
      "Attention: D:\\DLC_projects\\Prey_capture\\Prey_capture-Drago Guggiana-2020-03-26\\labeled-data\\12_04_2019_15_45_59_miniscope_MM_191107_a_succ_nomini does not appear to have labeled data!\n",
      "Attention: D:\\DLC_projects\\Prey_capture\\Prey_capture-Drago Guggiana-2020-03-26\\labeled-data\\12_04_2019_15_52_05_miniscope_MM_191107_a_succ_nomini does not appear to have labeled data!\n",
      "Attention: D:\\DLC_projects\\Prey_capture\\Prey_capture-Drago Guggiana-2020-03-26\\labeled-data\\12_04_2019_15_56_34_miniscope_MM_191107_a_succ_nomini does not appear to have labeled data!\n",
      "Attention: D:\\DLC_projects\\Prey_capture\\Prey_capture-Drago Guggiana-2020-03-26\\labeled-data\\12_04_2019_16_01_30_miniscope_MM_191107_a_succ_nomini does not appear to have labeled data!\n",
      "Attention: D:\\DLC_projects\\Prey_capture\\Prey_capture-Drago Guggiana-2020-03-26\\labeled-data\\12_04_2019_16_07_38_miniscope_MM_191108_a_succ_nomini does not appear to have labeled data!\n",
      "Attention: D:\\DLC_projects\\Prey_capture\\Prey_capture-Drago Guggiana-2020-03-26\\labeled-data\\12_04_2019_16_13_30_miniscope_MM_191108_a_succ_nomini does not appear to have labeled data!\n",
      "Attention: D:\\DLC_projects\\Prey_capture\\Prey_capture-Drago Guggiana-2020-03-26\\labeled-data\\12_04_2019_16_18_37_miniscope_MM_191108_a_succ_nomini does not appear to have labeled data!\n",
      "Attention: D:\\DLC_projects\\Prey_capture\\Prey_capture-Drago Guggiana-2020-03-26\\labeled-data\\12_04_2019_16_27_21_miniscope_MM_191108_a_succ_nomini does not appear to have labeled data!\n",
      "Attention: D:\\DLC_projects\\Prey_capture\\Prey_capture-Drago Guggiana-2020-03-26\\labeled-data\\12_04_2019_16_39_29_miniscope_MM_191105_a_succ_nomini does not appear to have labeled data!\n",
      "Attention: D:\\DLC_projects\\Prey_capture\\Prey_capture-Drago Guggiana-2020-03-26\\labeled-data\\12_04_2019_16_44_23_miniscope_MM_191105_a_succ_nomini does not appear to have labeled data!\n",
      "Attention: D:\\DLC_projects\\Prey_capture\\Prey_capture-Drago Guggiana-2020-03-26\\labeled-data\\12_04_2019_16_48_26_miniscope_MM_191105_a_succ_nomini does not appear to have labeled data!\n",
      "Attention: D:\\DLC_projects\\Prey_capture\\Prey_capture-Drago Guggiana-2020-03-26\\labeled-data\\12_04_2019_16_53_11_miniscope_MM_191105_a_succ_nomini does not appear to have labeled data!\n",
      "Attention: D:\\DLC_projects\\Prey_capture\\Prey_capture-Drago Guggiana-2020-03-26\\labeled-data\\12_06_2019_14_00_21_miniscope_MM_191105_a_succ_nomini does not appear to have labeled data!\n",
      "Attention: D:\\DLC_projects\\Prey_capture\\Prey_capture-Drago Guggiana-2020-03-26\\labeled-data\\12_06_2019_14_07_11_miniscope_MM_191105_a_succ_nomini does not appear to have labeled data!\n",
      "Attention: D:\\DLC_projects\\Prey_capture\\Prey_capture-Drago Guggiana-2020-03-26\\labeled-data\\12_06_2019_14_15_39_miniscope_MM_191105_a_succ_nomini does not appear to have labeled data!\n",
      "Attention: D:\\DLC_projects\\Prey_capture\\Prey_capture-Drago Guggiana-2020-03-26\\labeled-data\\12_06_2019_14_21_20_miniscope_MM_191105_a_succ_nomini does not appear to have labeled data!\n",
      "Attention: D:\\DLC_projects\\Prey_capture\\Prey_capture-Drago Guggiana-2020-03-26\\labeled-data\\12_06_2019_14_47_35_miniscope_MM_191106_a_succ_nomini does not appear to have labeled data!\n",
      "Attention: D:\\DLC_projects\\Prey_capture\\Prey_capture-Drago Guggiana-2020-03-26\\labeled-data\\12_06_2019_14_50_58_miniscope_MM_191106_a_succ_nomini does not appear to have labeled data!\n",
      "Attention: D:\\DLC_projects\\Prey_capture\\Prey_capture-Drago Guggiana-2020-03-26\\labeled-data\\12_06_2019_14_55_56_miniscope_MM_191106_a_succ_nomini does not appear to have labeled data!\n",
      "Attention: D:\\DLC_projects\\Prey_capture\\Prey_capture-Drago Guggiana-2020-03-26\\labeled-data\\12_06_2019_15_04_44_miniscope_MM_191107_a_succ_nomini does not appear to have labeled data!\n",
      "Attention: D:\\DLC_projects\\Prey_capture\\Prey_capture-Drago Guggiana-2020-03-26\\labeled-data\\12_06_2019_15_13_44_miniscope_MM_191107_a_succ_nomini does not appear to have labeled data!\n",
      "Attention: D:\\DLC_projects\\Prey_capture\\Prey_capture-Drago Guggiana-2020-03-26\\labeled-data\\12_06_2019_15_18_15_miniscope_MM_191107_a_succ_nomini does not appear to have labeled data!\n",
      "Attention: D:\\DLC_projects\\Prey_capture\\Prey_capture-Drago Guggiana-2020-03-26\\labeled-data\\12_07_2019_15_01_31_miniscope_MM_191108_a_succ does not appear to have labeled data!\n",
      "Attention: D:\\DLC_projects\\Prey_capture\\Prey_capture-Drago Guggiana-2020-03-26\\labeled-data\\12_07_2019_15_06_28_miniscope_MM_191108_a_succ does not appear to have labeled data!\n",
      "Attention: D:\\DLC_projects\\Prey_capture\\Prey_capture-Drago Guggiana-2020-03-26\\labeled-data\\12_07_2019_15_11_16_miniscope_MM_191108_a_succ does not appear to have labeled data!\n",
      "Attention: D:\\DLC_projects\\Prey_capture\\Prey_capture-Drago Guggiana-2020-03-26\\labeled-data\\12_07_2019_15_15_49_miniscope_MM_191108_a_succ does not appear to have labeled data!\n",
      "Attention: D:\\DLC_projects\\Prey_capture\\Prey_capture-Drago Guggiana-2020-03-26\\labeled-data\\12_07_2019_15_20_56_miniscope_MM_191108_a_succ does not appear to have labeled data!\n",
      "Attention: D:\\DLC_projects\\Prey_capture\\Prey_capture-Drago Guggiana-2020-03-26\\labeled-data\\12_07_2019_15_24_53_miniscope_MM_191108_a_succ does not appear to have labeled data!\n",
      "Attention: D:\\DLC_projects\\Prey_capture\\Prey_capture-Drago Guggiana-2020-03-26\\labeled-data\\12_07_2019_15_29_41_miniscope_MM_191108_a_succ does not appear to have labeled data!\n",
      "Attention: D:\\DLC_projects\\Prey_capture\\Prey_capture-Drago Guggiana-2020-03-26\\labeled-data\\12_07_2019_15_34_47_miniscope_MM_191108_a_succ does not appear to have labeled data!\n",
      "Attention: D:\\DLC_projects\\Prey_capture\\Prey_capture-Drago Guggiana-2020-03-26\\labeled-data\\12_07_2019_15_39_33_miniscope_MM_191108_a_succ does not appear to have labeled data!\n",
      "Attention: D:\\DLC_projects\\Prey_capture\\Prey_capture-Drago Guggiana-2020-03-26\\labeled-data\\12_07_2019_15_43_37_miniscope_MM_191108_a_succ does not appear to have labeled data!\n",
      "Attention: D:\\DLC_projects\\Prey_capture\\Prey_capture-Drago Guggiana-2020-03-26\\labeled-data\\12_07_2019_15_47_28_miniscope_MM_191108_a_succ does not appear to have labeled data!\n",
      "Attention: D:\\DLC_projects\\Prey_capture\\Prey_capture-Drago Guggiana-2020-03-26\\labeled-data\\12_07_2019_15_52_11_miniscope_MM_191108_a_succ does not appear to have labeled data!\n",
      "Attention: D:\\DLC_projects\\Prey_capture\\Prey_capture-Drago Guggiana-2020-03-26\\labeled-data\\12_07_2019_15_56_10_miniscope_MM_191108_a_fail does not appear to have labeled data!\n",
      "Attention: D:\\DLC_projects\\Prey_capture\\Prey_capture-Drago Guggiana-2020-03-26\\labeled-data\\12_07_2019_16_05_30_miniscope_MM_191105_a_succ_nomini does not appear to have labeled data!\n",
      "Attention: D:\\DLC_projects\\Prey_capture\\Prey_capture-Drago Guggiana-2020-03-26\\labeled-data\\12_07_2019_16_09_54_miniscope_MM_191105_a_succ_nomini does not appear to have labeled data!\n",
      "Attention: D:\\DLC_projects\\Prey_capture\\Prey_capture-Drago Guggiana-2020-03-26\\labeled-data\\12_07_2019_16_18_20_miniscope_MM_191106_a_succ_nomini does not appear to have labeled data!\n",
      "Attention: D:\\DLC_projects\\Prey_capture\\Prey_capture-Drago Guggiana-2020-03-26\\labeled-data\\12_07_2019_16_23_23_miniscope_MM_191106_a_succ_nomini does not appear to have labeled data!\n",
      "Attention: D:\\DLC_projects\\Prey_capture\\Prey_capture-Drago Guggiana-2020-03-26\\labeled-data\\12_07_2019_16_29_31_miniscope_MM_191107_a_succ_nomini does not appear to have labeled data!\n",
      "Attention: D:\\DLC_projects\\Prey_capture\\Prey_capture-Drago Guggiana-2020-03-26\\labeled-data\\12_07_2019_16_34_28_miniscope_MM_191107_a_succ_nomini does not appear to have labeled data!\n",
      "Attention: D:\\DLC_projects\\Prey_capture\\Prey_capture-Drago Guggiana-2020-03-26\\labeled-data\\12_07_2019_16_38_08_miniscope_MM_191107_a_succ_nomini does not appear to have labeled data!\n",
      "Attention: D:\\DLC_projects\\Prey_capture\\Prey_capture-Drago Guggiana-2020-03-26\\labeled-data\\12_09_2019_15_04_06_miniscope_MM_191108_a_succ does not appear to have labeled data!\n",
      "Attention: D:\\DLC_projects\\Prey_capture\\Prey_capture-Drago Guggiana-2020-03-26\\labeled-data\\12_09_2019_15_08_33_miniscope_MM_191108_a_succ does not appear to have labeled data!\n",
      "Attention: D:\\DLC_projects\\Prey_capture\\Prey_capture-Drago Guggiana-2020-03-26\\labeled-data\\12_09_2019_15_12_24_miniscope_MM_191108_a_succ does not appear to have labeled data!\n",
      "Attention: D:\\DLC_projects\\Prey_capture\\Prey_capture-Drago Guggiana-2020-03-26\\labeled-data\\12_09_2019_15_16_05_miniscope_MM_191108_a_succ does not appear to have labeled data!\n",
      "Attention: D:\\DLC_projects\\Prey_capture\\Prey_capture-Drago Guggiana-2020-03-26\\labeled-data\\12_09_2019_15_21_10_miniscope_MM_191108_a_succ does not appear to have labeled data!\n",
      "Attention: D:\\DLC_projects\\Prey_capture\\Prey_capture-Drago Guggiana-2020-03-26\\labeled-data\\12_09_2019_15_25_14_miniscope_MM_191108_a_succ does not appear to have labeled data!\n",
      "Attention: D:\\DLC_projects\\Prey_capture\\Prey_capture-Drago Guggiana-2020-03-26\\labeled-data\\12_09_2019_15_30_13_miniscope_MM_191108_a_succ does not appear to have labeled data!\n",
      "Attention: D:\\DLC_projects\\Prey_capture\\Prey_capture-Drago Guggiana-2020-03-26\\labeled-data\\12_09_2019_15_34_10_miniscope_MM_191108_a_succ does not appear to have labeled data!\n",
      "Attention: D:\\DLC_projects\\Prey_capture\\Prey_capture-Drago Guggiana-2020-03-26\\labeled-data\\12_09_2019_16_30_00_miniscope_MM_191105_a_succ_nomini does not appear to have labeled data!\n",
      "Attention: D:\\DLC_projects\\Prey_capture\\Prey_capture-Drago Guggiana-2020-03-26\\labeled-data\\12_09_2019_16_34_39_miniscope_MM_191105_a_succ_nomini does not appear to have labeled data!\n",
      "Attention: D:\\DLC_projects\\Prey_capture\\Prey_capture-Drago Guggiana-2020-03-26\\labeled-data\\12_09_2019_16_38_36_miniscope_MM_191105_a_succ_nomini does not appear to have labeled data!\n",
      "Attention: D:\\DLC_projects\\Prey_capture\\Prey_capture-Drago Guggiana-2020-03-26\\labeled-data\\12_09_2019_16_41_05_miniscope_MM_191105_a_succ_nomini does not appear to have labeled data!\n",
      "Attention: D:\\DLC_projects\\Prey_capture\\Prey_capture-Drago Guggiana-2020-03-26\\labeled-data\\12_09_2019_16_46_19_miniscope_MM_191106_a_succ_nomini does not appear to have labeled data!\n",
      "Attention: D:\\DLC_projects\\Prey_capture\\Prey_capture-Drago Guggiana-2020-03-26\\labeled-data\\12_09_2019_16_49_50_miniscope_MM_191106_a_succ_nomini does not appear to have labeled data!\n",
      "Attention: D:\\DLC_projects\\Prey_capture\\Prey_capture-Drago Guggiana-2020-03-26\\labeled-data\\12_09_2019_16_53_42_miniscope_MM_191106_a_succ_nomini does not appear to have labeled data!\n",
      "Attention: D:\\DLC_projects\\Prey_capture\\Prey_capture-Drago Guggiana-2020-03-26\\labeled-data\\12_09_2019_16_58_58_miniscope_MM_191107_a_succ_nomini does not appear to have labeled data!\n",
      "Attention: D:\\DLC_projects\\Prey_capture\\Prey_capture-Drago Guggiana-2020-03-26\\labeled-data\\12_09_2019_17_01_33_miniscope_MM_191107_a_succ_bad_track_nomini does not appear to have labeled data!\n",
      "Attention: D:\\DLC_projects\\Prey_capture\\Prey_capture-Drago Guggiana-2020-03-26\\labeled-data\\12_09_2019_17_04_36_miniscope_MM_191107_a_succ_nomini does not appear to have labeled data!\n",
      "Attention: D:\\DLC_projects\\Prey_capture\\Prey_capture-Drago Guggiana-2020-03-26\\labeled-data\\12_10_2019_15_00_45_miniscope_MM_191108_a_succ does not appear to have labeled data!\n",
      "Attention: D:\\DLC_projects\\Prey_capture\\Prey_capture-Drago Guggiana-2020-03-26\\labeled-data\\12_10_2019_15_05_17_miniscope_MM_191108_a_succ does not appear to have labeled data!\n",
      "Attention: D:\\DLC_projects\\Prey_capture\\Prey_capture-Drago Guggiana-2020-03-26\\labeled-data\\12_10_2019_15_10_23_miniscope_MM_191108_a_succ does not appear to have labeled data!\n",
      "Attention: D:\\DLC_projects\\Prey_capture\\Prey_capture-Drago Guggiana-2020-03-26\\labeled-data\\12_10_2019_15_15_08_miniscope_MM_191108_a_succ does not appear to have labeled data!\n",
      "Attention: D:\\DLC_projects\\Prey_capture\\Prey_capture-Drago Guggiana-2020-03-26\\labeled-data\\12_10_2019_15_19_56_miniscope_MM_191108_a_succ does not appear to have labeled data!\n",
      "Attention: D:\\DLC_projects\\Prey_capture\\Prey_capture-Drago Guggiana-2020-03-26\\labeled-data\\12_10_2019_15_23_16_miniscope_MM_191108_a_fail does not appear to have labeled data!\n",
      "Attention: D:\\DLC_projects\\Prey_capture\\Prey_capture-Drago Guggiana-2020-03-26\\labeled-data\\12_10_2019_15_30_07_miniscope_MM_191108_a_succ does not appear to have labeled data!\n",
      "Attention: D:\\DLC_projects\\Prey_capture\\Prey_capture-Drago Guggiana-2020-03-26\\labeled-data\\12_10_2019_15_35_36_miniscope_MM_191108_a_succ does not appear to have labeled data!\n",
      "Attention: D:\\DLC_projects\\Prey_capture\\Prey_capture-Drago Guggiana-2020-03-26\\labeled-data\\12_10_2019_15_39_55_miniscope_MM_191108_a_succ does not appear to have labeled data!\n",
      "Attention: D:\\DLC_projects\\Prey_capture\\Prey_capture-Drago Guggiana-2020-03-26\\labeled-data\\12_10_2019_15_43_20_miniscope_MM_191108_a_fail does not appear to have labeled data!\n",
      "Attention: D:\\DLC_projects\\Prey_capture\\Prey_capture-Drago Guggiana-2020-03-26\\labeled-data\\12_10_2019_16_36_38_miniscope_MM_191106_a_succ_nomini does not appear to have labeled data!\n",
      "Attention: D:\\DLC_projects\\Prey_capture\\Prey_capture-Drago Guggiana-2020-03-26\\labeled-data\\12_10_2019_16_44_10_miniscope_MM_191107_a_succ_nomini does not appear to have labeled data!\n",
      "Attention: D:\\DLC_projects\\Prey_capture\\Prey_capture-Drago Guggiana-2020-03-26\\labeled-data\\12_10_2019_16_48_14_miniscope_MM_191107_a_succ_nomini does not appear to have labeled data!\n",
      "Attention: D:\\DLC_projects\\Prey_capture\\Prey_capture-Drago Guggiana-2020-03-26\\labeled-data\\12_10_2019_16_53_34_miniscope_MM_191107_a_succ_nomini does not appear to have labeled data!\n",
      "Attention: D:\\DLC_projects\\Prey_capture\\Prey_capture-Drago Guggiana-2020-03-26\\labeled-data\\12_10_2019_16_57_26_miniscope_MM_191107_a_succ_nomini does not appear to have labeled data!\n",
      "Attention: D:\\DLC_projects\\Prey_capture\\Prey_capture-Drago Guggiana-2020-03-26\\labeled-data\\12_11_2019_16_45_12_miniscope_MM_191108_a_succ does not appear to have labeled data!\n",
      "Attention: D:\\DLC_projects\\Prey_capture\\Prey_capture-Drago Guggiana-2020-03-26\\labeled-data\\12_11_2019_16_49_04_miniscope_MM_191108_a_succ_miniscopeafterbonsai does not appear to have labeled data!\n",
      "Attention: D:\\DLC_projects\\Prey_capture\\Prey_capture-Drago Guggiana-2020-03-26\\labeled-data\\12_11_2019_16_53_36_miniscope_MM_191108_a_succ does not appear to have labeled data!\n",
      "Attention: D:\\DLC_projects\\Prey_capture\\Prey_capture-Drago Guggiana-2020-03-26\\labeled-data\\12_11_2019_16_56_38_miniscope_MM_191108_a_succ does not appear to have labeled data!\n",
      "Attention: D:\\DLC_projects\\Prey_capture\\Prey_capture-Drago Guggiana-2020-03-26\\labeled-data\\12_11_2019_17_01_21_miniscope_MM_191108_a_succ does not appear to have labeled data!\n",
      "Attention: D:\\DLC_projects\\Prey_capture\\Prey_capture-Drago Guggiana-2020-03-26\\labeled-data\\12_11_2019_17_05_25_miniscope_MM_191108_a_succ does not appear to have labeled data!\n",
      "Attention: D:\\DLC_projects\\Prey_capture\\Prey_capture-Drago Guggiana-2020-03-26\\labeled-data\\12_11_2019_17_09_52_miniscope_MM_191108_a_succ does not appear to have labeled data!\n",
      "Attention: D:\\DLC_projects\\Prey_capture\\Prey_capture-Drago Guggiana-2020-03-26\\labeled-data\\12_11_2019_17_14_34_miniscope_MM_191108_a_fail_miniscopeafterbonsai does not appear to have labeled data!\n",
      "Attention: D:\\DLC_projects\\Prey_capture\\Prey_capture-Drago Guggiana-2020-03-26\\labeled-data\\12_12_2019_14_58_00_miniscope_MM_191108_a_succ_nofluo does not appear to have labeled data!\n",
      "Attention: D:\\DLC_projects\\Prey_capture\\Prey_capture-Drago Guggiana-2020-03-26\\labeled-data\\12_12_2019_15_00_56_miniscope_MM_191108_a_succ does not appear to have labeled data!\n",
      "Attention: D:\\DLC_projects\\Prey_capture\\Prey_capture-Drago Guggiana-2020-03-26\\labeled-data\\12_12_2019_15_04_45_miniscope_MM_191108_a_succ does not appear to have labeled data!\n",
      "Attention: D:\\DLC_projects\\Prey_capture\\Prey_capture-Drago Guggiana-2020-03-26\\labeled-data\\12_12_2019_15_08_15_miniscope_MM_191108_a_succ does not appear to have labeled data!\n",
      "Attention: D:\\DLC_projects\\Prey_capture\\Prey_capture-Drago Guggiana-2020-03-26\\labeled-data\\12_12_2019_15_11_45_miniscope_MM_191108_a_fail does not appear to have labeled data!\n",
      "Attention: D:\\DLC_projects\\Prey_capture\\Prey_capture-Drago Guggiana-2020-03-26\\labeled-data\\12_12_2019_15_16_04_miniscope_MM_191108_a_succ does not appear to have labeled data!\n",
      "Attention: D:\\DLC_projects\\Prey_capture\\Prey_capture-Drago Guggiana-2020-03-26\\labeled-data\\12_12_2019_15_18_57_miniscope_MM_191108_a_fail does not appear to have labeled data!\n",
      "Attention: D:\\DLC_projects\\Prey_capture\\Prey_capture-Drago Guggiana-2020-03-26\\labeled-data\\12_12_2019_15_23_10_miniscope_MM_191108_a_fail does not appear to have labeled data!\n",
      "Attention: D:\\DLC_projects\\Prey_capture\\Prey_capture-Drago Guggiana-2020-03-26\\labeled-data\\12_12_2019_15_27_48_miniscope_MM_191108_a_succ does not appear to have labeled data!\n",
      "Attention: D:\\DLC_projects\\Prey_capture\\Prey_capture-Drago Guggiana-2020-03-26\\labeled-data\\12_12_2019_15_32_29_miniscope_MM_191108_a_succ does not appear to have labeled data!\n",
      "Attention: D:\\DLC_projects\\Prey_capture\\Prey_capture-Drago Guggiana-2020-03-26\\labeled-data\\12_16_2019_16_21_34_miniscope_MM_191108_a_fail does not appear to have labeled data!\n",
      "Attention: D:\\DLC_projects\\Prey_capture\\Prey_capture-Drago Guggiana-2020-03-26\\labeled-data\\12_16_2019_16_27_17_miniscope_MM_191108_a_succ does not appear to have labeled data!\n",
      "Attention: D:\\DLC_projects\\Prey_capture\\Prey_capture-Drago Guggiana-2020-03-26\\labeled-data\\12_16_2019_16_31_08_miniscope_MM_191108_a_succ does not appear to have labeled data!\n",
      "Attention: D:\\DLC_projects\\Prey_capture\\Prey_capture-Drago Guggiana-2020-03-26\\labeled-data\\12_16_2019_16_34_45_miniscope_MM_191108_a_fail does not appear to have labeled data!\n",
      "If all the labels are ok, then use the function 'create_training_dataset' to create the training dataset!\n"
     ]
    }
   ],
   "source": [
    "# check the labels\n",
    "# generates folders in the labeled-data folder with the video name but the actual labels printed on the pics\n",
    "deeplabcut.check_labels(config_path)"
   ]
  },
  {
   "cell_type": "code",
   "execution_count": 13,
   "metadata": {
    "collapsed": true
   },
   "outputs": [
    {
     "name": "stdout",
     "output_type": "stream",
     "text": [
      "D:\\DLC_projects\\Prey_capture\\Prey_capture-Drago Guggiana-2020-03-26\\labeled-data\\03_02_2020_15_45_20_miniscope_MM_200129_a_succ_nomini/CollectedData_Drago Guggiana.h5  not found (perhaps not annotated)\n",
      "D:\\DLC_projects\\Prey_capture\\Prey_capture-Drago Guggiana-2020-03-26\\labeled-data\\03_02_2020_15_50_05_miniscope_MM_200129_a_succ/CollectedData_Drago Guggiana.h5  not found (perhaps not annotated)\n",
      "D:\\DLC_projects\\Prey_capture\\Prey_capture-Drago Guggiana-2020-03-26\\labeled-data\\03_02_2020_15_54_55_miniscope_MM_200129_a_succ/CollectedData_Drago Guggiana.h5  not found (perhaps not annotated)\n",
      "D:\\DLC_projects\\Prey_capture\\Prey_capture-Drago Guggiana-2020-03-26\\labeled-data\\03_02_2020_15_59_15_miniscope_MM_200129_a_succ/CollectedData_Drago Guggiana.h5  not found (perhaps not annotated)\n",
      "D:\\DLC_projects\\Prey_capture\\Prey_capture-Drago Guggiana-2020-03-26\\labeled-data\\03_02_2020_16_15_37_miniscope_MM_200129_b_fail/CollectedData_Drago Guggiana.h5  not found (perhaps not annotated)\n",
      "D:\\DLC_projects\\Prey_capture\\Prey_capture-Drago Guggiana-2020-03-26\\labeled-data\\03_04_2020_15_37_26_miniscope_MM_200129_a_succ/CollectedData_Drago Guggiana.h5  not found (perhaps not annotated)\n",
      "D:\\DLC_projects\\Prey_capture\\Prey_capture-Drago Guggiana-2020-03-26\\labeled-data\\03_04_2020_15_42_07_miniscope_MM_200129_a_succ/CollectedData_Drago Guggiana.h5  not found (perhaps not annotated)\n",
      "D:\\DLC_projects\\Prey_capture\\Prey_capture-Drago Guggiana-2020-03-26\\labeled-data\\03_04_2020_15_46_47_miniscope_MM_200129_a_succ/CollectedData_Drago Guggiana.h5  not found (perhaps not annotated)\n",
      "D:\\DLC_projects\\Prey_capture\\Prey_capture-Drago Guggiana-2020-03-26\\labeled-data\\03_04_2020_15_54_26_miniscope_MM_200129_a_succ/CollectedData_Drago Guggiana.h5  not found (perhaps not annotated)\n",
      "D:\\DLC_projects\\Prey_capture\\Prey_capture-Drago Guggiana-2020-03-26\\labeled-data\\03_04_2020_16_12_03_miniscope_MM_200129_b_succ/CollectedData_Drago Guggiana.h5  not found (perhaps not annotated)\n",
      "D:\\DLC_projects\\Prey_capture\\Prey_capture-Drago Guggiana-2020-03-26\\labeled-data\\03_04_2020_16_16_18_miniscope_MM_200129_b_succ/CollectedData_Drago Guggiana.h5  not found (perhaps not annotated)\n",
      "D:\\DLC_projects\\Prey_capture\\Prey_capture-Drago Guggiana-2020-03-26\\labeled-data\\03_04_2020_16_18_47_miniscope_MM_200129_b_succ/CollectedData_Drago Guggiana.h5  not found (perhaps not annotated)\n",
      "D:\\DLC_projects\\Prey_capture\\Prey_capture-Drago Guggiana-2020-03-26\\labeled-data\\03_05_2020_15_32_18_miniscope_MM_200129_a_succ/CollectedData_Drago Guggiana.h5  not found (perhaps not annotated)\n",
      "D:\\DLC_projects\\Prey_capture\\Prey_capture-Drago Guggiana-2020-03-26\\labeled-data\\03_05_2020_15_35_45_miniscope_MM_200129_a_succ/CollectedData_Drago Guggiana.h5  not found (perhaps not annotated)\n",
      "D:\\DLC_projects\\Prey_capture\\Prey_capture-Drago Guggiana-2020-03-26\\labeled-data\\03_05_2020_15_39_38_miniscope_MM_200129_a_succ/CollectedData_Drago Guggiana.h5  not found (perhaps not annotated)\n",
      "D:\\DLC_projects\\Prey_capture\\Prey_capture-Drago Guggiana-2020-03-26\\labeled-data\\03_05_2020_15_46_40_miniscope_MM_200129_a_succ/CollectedData_Drago Guggiana.h5  not found (perhaps not annotated)\n",
      "D:\\DLC_projects\\Prey_capture\\Prey_capture-Drago Guggiana-2020-03-26\\labeled-data\\03_05_2020_15_56_12_miniscope_MM_200129_b_succ/CollectedData_Drago Guggiana.h5  not found (perhaps not annotated)\n",
      "D:\\DLC_projects\\Prey_capture\\Prey_capture-Drago Guggiana-2020-03-26\\labeled-data\\03_05_2020_15_59_48_miniscope_MM_200129_b_succ/CollectedData_Drago Guggiana.h5  not found (perhaps not annotated)\n",
      "D:\\DLC_projects\\Prey_capture\\Prey_capture-Drago Guggiana-2020-03-26\\labeled-data\\03_05_2020_16_07_59_miniscope_MM_200129_b_succ/CollectedData_Drago Guggiana.h5  not found (perhaps not annotated)\n",
      "D:\\DLC_projects\\Prey_capture\\Prey_capture-Drago Guggiana-2020-03-26\\labeled-data\\03_05_2020_16_13_46_miniscope_MM_200129_b_succ/CollectedData_Drago Guggiana.h5  not found (perhaps not annotated)\n",
      "D:\\DLC_projects\\Prey_capture\\Prey_capture-Drago Guggiana-2020-03-26\\labeled-data\\03_06_2020_15_49_03_miniscope_MM_200129_a_succ/CollectedData_Drago Guggiana.h5  not found (perhaps not annotated)\n",
      "D:\\DLC_projects\\Prey_capture\\Prey_capture-Drago Guggiana-2020-03-26\\labeled-data\\03_06_2020_15_53_37_miniscope_MM_200129_a_succ/CollectedData_Drago Guggiana.h5  not found (perhaps not annotated)\n",
      "D:\\DLC_projects\\Prey_capture\\Prey_capture-Drago Guggiana-2020-03-26\\labeled-data\\03_06_2020_16_00_37_miniscope_MM_200129_a_succ/CollectedData_Drago Guggiana.h5  not found (perhaps not annotated)\n",
      "D:\\DLC_projects\\Prey_capture\\Prey_capture-Drago Guggiana-2020-03-26\\labeled-data\\03_06_2020_16_20_40_miniscope_MM_200129_b_succ/CollectedData_Drago Guggiana.h5  not found (perhaps not annotated)\n",
      "D:\\DLC_projects\\Prey_capture\\Prey_capture-Drago Guggiana-2020-03-26\\labeled-data\\03_06_2020_16_25_04_miniscope_MM_200129_b_succ/CollectedData_Drago Guggiana.h5  not found (perhaps not annotated)\n",
      "D:\\DLC_projects\\Prey_capture\\Prey_capture-Drago Guggiana-2020-03-26\\labeled-data\\03_06_2020_16_30_52_miniscope_MM_200129_b_succ/CollectedData_Drago Guggiana.h5  not found (perhaps not annotated)\n",
      "D:\\DLC_projects\\Prey_capture\\Prey_capture-Drago Guggiana-2020-03-26\\labeled-data\\03_10_2020_15_48_48_miniscope_MM_200129_a_succ/CollectedData_Drago Guggiana.h5  not found (perhaps not annotated)\n",
      "D:\\DLC_projects\\Prey_capture\\Prey_capture-Drago Guggiana-2020-03-26\\labeled-data\\03_10_2020_15_56_24_miniscope_MM_200129_a_succ/CollectedData_Drago Guggiana.h5  not found (perhaps not annotated)\n",
      "D:\\DLC_projects\\Prey_capture\\Prey_capture-Drago Guggiana-2020-03-26\\labeled-data\\03_10_2020_16_00_39_miniscope_MM_200129_a_succ/CollectedData_Drago Guggiana.h5  not found (perhaps not annotated)\n",
      "D:\\DLC_projects\\Prey_capture\\Prey_capture-Drago Guggiana-2020-03-26\\labeled-data\\03_10_2020_16_09_06_miniscope_MM_200129_b_succ/CollectedData_Drago Guggiana.h5  not found (perhaps not annotated)\n",
      "D:\\DLC_projects\\Prey_capture\\Prey_capture-Drago Guggiana-2020-03-26\\labeled-data\\03_10_2020_16_21_31_miniscope_MM_200129_b_succ/CollectedData_Drago Guggiana.h5  not found (perhaps not annotated)\n",
      "D:\\DLC_projects\\Prey_capture\\Prey_capture-Drago Guggiana-2020-03-26\\labeled-data\\03_11_2020_15_58_51_miniscope_MM_200129_a_succ/CollectedData_Drago Guggiana.h5  not found (perhaps not annotated)\n",
      "D:\\DLC_projects\\Prey_capture\\Prey_capture-Drago Guggiana-2020-03-26\\labeled-data\\03_11_2020_16_02_24_miniscope_MM_200129_a_succ/CollectedData_Drago Guggiana.h5  not found (perhaps not annotated)\n",
      "D:\\DLC_projects\\Prey_capture\\Prey_capture-Drago Guggiana-2020-03-26\\labeled-data\\03_11_2020_16_10_08_miniscope_MM_200129_a_succ/CollectedData_Drago Guggiana.h5  not found (perhaps not annotated)\n",
      "D:\\DLC_projects\\Prey_capture\\Prey_capture-Drago Guggiana-2020-03-26\\labeled-data\\03_11_2020_16_14_11_miniscope_MM_200129_a_succ/CollectedData_Drago Guggiana.h5  not found (perhaps not annotated)\n",
      "D:\\DLC_projects\\Prey_capture\\Prey_capture-Drago Guggiana-2020-03-26\\labeled-data\\03_11_2020_16_37_26_miniscope_MM_200129_b_succ/CollectedData_Drago Guggiana.h5  not found (perhaps not annotated)\n",
      "D:\\DLC_projects\\Prey_capture\\Prey_capture-Drago Guggiana-2020-03-26\\labeled-data\\03_11_2020_16_42_47_miniscope_MM_200129_b_succ/CollectedData_Drago Guggiana.h5  not found (perhaps not annotated)\n",
      "D:\\DLC_projects\\Prey_capture\\Prey_capture-Drago Guggiana-2020-03-26\\labeled-data\\03_11_2020_16_52_20_miniscope_MM_200129_b_succ/CollectedData_Drago Guggiana.h5  not found (perhaps not annotated)\n",
      "D:\\DLC_projects\\Prey_capture\\Prey_capture-Drago Guggiana-2020-03-26\\labeled-data\\03_12_2020_16_23_09_miniscope_MM_200129_a_succ/CollectedData_Drago Guggiana.h5  not found (perhaps not annotated)\n",
      "D:\\DLC_projects\\Prey_capture\\Prey_capture-Drago Guggiana-2020-03-26\\labeled-data\\03_12_2020_16_25_39_miniscope_MM_200129_a_succ/CollectedData_Drago Guggiana.h5  not found (perhaps not annotated)\n",
      "D:\\DLC_projects\\Prey_capture\\Prey_capture-Drago Guggiana-2020-03-26\\labeled-data\\03_12_2020_16_30_37_miniscope_MM_200129_a_succ/CollectedData_Drago Guggiana.h5  not found (perhaps not annotated)\n",
      "D:\\DLC_projects\\Prey_capture\\Prey_capture-Drago Guggiana-2020-03-26\\labeled-data\\03_12_2020_16_32_46_miniscope_MM_200129_a_succ/CollectedData_Drago Guggiana.h5  not found (perhaps not annotated)\n",
      "D:\\DLC_projects\\Prey_capture\\Prey_capture-Drago Guggiana-2020-03-26\\labeled-data\\03_12_2020_16_49_07_miniscope_MM_200129_b_succ/CollectedData_Drago Guggiana.h5  not found (perhaps not annotated)\n",
      "D:\\DLC_projects\\Prey_capture\\Prey_capture-Drago Guggiana-2020-03-26\\labeled-data\\03_12_2020_16_52_33_miniscope_MM_200129_b_succ/CollectedData_Drago Guggiana.h5  not found (perhaps not annotated)\n",
      "D:\\DLC_projects\\Prey_capture\\Prey_capture-Drago Guggiana-2020-03-26\\labeled-data\\03_12_2020_16_56_04_miniscope_MM_200129_b_succ/CollectedData_Drago Guggiana.h5  not found (perhaps not annotated)\n",
      "D:\\DLC_projects\\Prey_capture\\Prey_capture-Drago Guggiana-2020-03-26\\labeled-data\\03_13_2020_13_10_44_miniscope_MM_200129_a_succ/CollectedData_Drago Guggiana.h5  not found (perhaps not annotated)\n",
      "D:\\DLC_projects\\Prey_capture\\Prey_capture-Drago Guggiana-2020-03-26\\labeled-data\\03_13_2020_13_14_07_miniscope_MM_200129_a_succ/CollectedData_Drago Guggiana.h5  not found (perhaps not annotated)\n",
      "D:\\DLC_projects\\Prey_capture\\Prey_capture-Drago Guggiana-2020-03-26\\labeled-data\\03_13_2020_13_20_21_miniscope_MM_200129_a_succ/CollectedData_Drago Guggiana.h5  not found (perhaps not annotated)\n"
     ]
    },
    {
     "name": "stdout",
     "output_type": "stream",
     "text": [
      "D:\\DLC_projects\\Prey_capture\\Prey_capture-Drago Guggiana-2020-03-26\\labeled-data\\03_13_2020_13_49_34_miniscope_MM_200129_b_succ/CollectedData_Drago Guggiana.h5  not found (perhaps not annotated)\n",
      "D:\\DLC_projects\\Prey_capture\\Prey_capture-Drago Guggiana-2020-03-26\\labeled-data\\03_13_2020_13_53_47_miniscope_MM_200129_b_succ/CollectedData_Drago Guggiana.h5  not found (perhaps not annotated)\n",
      "D:\\DLC_projects\\Prey_capture\\Prey_capture-Drago Guggiana-2020-03-26\\labeled-data\\03_13_2020_14_00_19_miniscope_MM_200129_b_succ/CollectedData_Drago Guggiana.h5  not found (perhaps not annotated)\n",
      "D:\\DLC_projects\\Prey_capture\\Prey_capture-Drago Guggiana-2020-03-26\\labeled-data\\11_11_2019_00_41_27_miniscope_DG_190806_a_fail_nomini/CollectedData_Drago Guggiana.h5  not found (perhaps not annotated)\n",
      "D:\\DLC_projects\\Prey_capture\\Prey_capture-Drago Guggiana-2020-03-26\\labeled-data\\11_11_2019_01_21_58_miniscope_DG_190806_a_fail_nofluo/CollectedData_Drago Guggiana.h5  not found (perhaps not annotated)\n",
      "D:\\DLC_projects\\Prey_capture\\Prey_capture-Drago Guggiana-2020-03-26\\labeled-data\\11_11_2019_22_43_04_miniscope_DG_190806_a_fail_nofluo/CollectedData_Drago Guggiana.h5  not found (perhaps not annotated)\n",
      "D:\\DLC_projects\\Prey_capture\\Prey_capture-Drago Guggiana-2020-03-26\\labeled-data\\11_11_2019_22_56_57_miniscope_DG_190806_a_succ_nofluo/CollectedData_Drago Guggiana.h5  not found (perhaps not annotated)\n",
      "D:\\DLC_projects\\Prey_capture\\Prey_capture-Drago Guggiana-2020-03-26\\labeled-data\\11_11_2019_23_07_55_miniscope_DG_190806_a_fail_nofluo/CollectedData_Drago Guggiana.h5  not found (perhaps not annotated)\n",
      "D:\\DLC_projects\\Prey_capture\\Prey_capture-Drago Guggiana-2020-03-26\\labeled-data\\11_11_2019_23_23_16_miniscope_DG_190810_a_fail_nomini/CollectedData_Drago Guggiana.h5  not found (perhaps not annotated)\n",
      "D:\\DLC_projects\\Prey_capture\\Prey_capture-Drago Guggiana-2020-03-26\\labeled-data\\11_11_2019_23_35_36_miniscope_DG_190810_a_succ_nomini/CollectedData_Drago Guggiana.h5  not found (perhaps not annotated)\n",
      "D:\\DLC_projects\\Prey_capture\\Prey_capture-Drago Guggiana-2020-03-26\\labeled-data\\11_11_2019_23_43_13_miniscope_DG_190810_a_succ_nomini/CollectedData_Drago Guggiana.h5  not found (perhaps not annotated)\n",
      "D:\\DLC_projects\\Prey_capture\\Prey_capture-Drago Guggiana-2020-03-26\\labeled-data\\11_12_2019_16_47_36_miniscope_DG_190806_a_succ_nofluo/CollectedData_Drago Guggiana.h5  not found (perhaps not annotated)\n",
      "D:\\DLC_projects\\Prey_capture\\Prey_capture-Drago Guggiana-2020-03-26\\labeled-data\\11_12_2019_16_50_34_miniscope_DG_190806_a_succ_nofluo/CollectedData_Drago Guggiana.h5  not found (perhaps not annotated)\n",
      "D:\\DLC_projects\\Prey_capture\\Prey_capture-Drago Guggiana-2020-03-26\\labeled-data\\11_12_2019_16_54_56_miniscope_DG_190806_a_succ_nofluo/CollectedData_Drago Guggiana.h5  not found (perhaps not annotated)\n",
      "D:\\DLC_projects\\Prey_capture\\Prey_capture-Drago Guggiana-2020-03-26\\labeled-data\\11_12_2019_17_02_59_miniscope_DG_190810_a_succ_nomini/CollectedData_Drago Guggiana.h5  not found (perhaps not annotated)\n",
      "D:\\DLC_projects\\Prey_capture\\Prey_capture-Drago Guggiana-2020-03-26\\labeled-data\\11_12_2019_17_07_21_miniscope_DG_190810_a_succ_nomini/CollectedData_Drago Guggiana.h5  not found (perhaps not annotated)\n",
      "D:\\DLC_projects\\Prey_capture\\Prey_capture-Drago Guggiana-2020-03-26\\labeled-data\\11_12_2019_17_10_51_miniscope_DG_190810_a_succ_nomini/CollectedData_Drago Guggiana.h5  not found (perhaps not annotated)\n",
      "D:\\DLC_projects\\Prey_capture\\Prey_capture-Drago Guggiana-2020-03-26\\labeled-data\\11_12_2019_17_14_20_miniscope_DG_190810_a_succ_nomini/CollectedData_Drago Guggiana.h5  not found (perhaps not annotated)\n",
      "D:\\DLC_projects\\Prey_capture\\Prey_capture-Drago Guggiana-2020-03-26\\labeled-data\\11_13_2019_17_57_10_miniscope_DG_190806_a_succ_nofluobadtrigger/CollectedData_Drago Guggiana.h5  not found (perhaps not annotated)\n",
      "D:\\DLC_projects\\Prey_capture\\Prey_capture-Drago Guggiana-2020-03-26\\labeled-data\\11_13_2019_18_00_39_miniscope_DG_190806_a_succ_nofluo/CollectedData_Drago Guggiana.h5  not found (perhaps not annotated)\n",
      "D:\\DLC_projects\\Prey_capture\\Prey_capture-Drago Guggiana-2020-03-26\\labeled-data\\11_13_2019_18_04_22_miniscope_DG_190806_a_succ_nofluo/CollectedData_Drago Guggiana.h5  not found (perhaps not annotated)\n",
      "D:\\DLC_projects\\Prey_capture\\Prey_capture-Drago Guggiana-2020-03-26\\labeled-data\\11_13_2019_18_08_16_miniscope_DG_190806_a_succ_nofluo/CollectedData_Drago Guggiana.h5  not found (perhaps not annotated)\n",
      "D:\\DLC_projects\\Prey_capture\\Prey_capture-Drago Guggiana-2020-03-26\\labeled-data\\11_13_2019_18_14_36_miniscope_DG_190810_a_succ_nomini/CollectedData_Drago Guggiana.h5  not found (perhaps not annotated)\n",
      "D:\\DLC_projects\\Prey_capture\\Prey_capture-Drago Guggiana-2020-03-26\\labeled-data\\11_13_2019_18_19_35_miniscope_DG_190810_a_succ_nomini/CollectedData_Drago Guggiana.h5  not found (perhaps not annotated)\n",
      "D:\\DLC_projects\\Prey_capture\\Prey_capture-Drago Guggiana-2020-03-26\\labeled-data\\11_13_2019_18_23_01_miniscope_DG_190810_a_succ_nomini/CollectedData_Drago Guggiana.h5  not found (perhaps not annotated)\n",
      "D:\\DLC_projects\\Prey_capture\\Prey_capture-Drago Guggiana-2020-03-26\\labeled-data\\11_13_2019_18_25_56_miniscope_DG_190810_a_succ_nomini/CollectedData_Drago Guggiana.h5  not found (perhaps not annotated)\n",
      "D:\\DLC_projects\\Prey_capture\\Prey_capture-Drago Guggiana-2020-03-26\\labeled-data\\11_14_2019_17_15_24_miniscope_DG_190806_a_succ_nofluo/CollectedData_Drago Guggiana.h5  not found (perhaps not annotated)\n",
      "D:\\DLC_projects\\Prey_capture\\Prey_capture-Drago Guggiana-2020-03-26\\labeled-data\\11_14_2019_17_19_46_miniscope_DG_190806_a_succ_nofluo/CollectedData_Drago Guggiana.h5  not found (perhaps not annotated)\n",
      "D:\\DLC_projects\\Prey_capture\\Prey_capture-Drago Guggiana-2020-03-26\\labeled-data\\11_14_2019_17_24_28_miniscope_DG_190806_a_succ_nofluo/CollectedData_Drago Guggiana.h5  not found (perhaps not annotated)\n",
      "D:\\DLC_projects\\Prey_capture\\Prey_capture-Drago Guggiana-2020-03-26\\labeled-data\\11_14_2019_17_30_44_miniscope_DG_190806_a_succ_nofluo/CollectedData_Drago Guggiana.h5  not found (perhaps not annotated)\n",
      "D:\\DLC_projects\\Prey_capture\\Prey_capture-Drago Guggiana-2020-03-26\\labeled-data\\11_14_2019_17_39_46_miniscope_DG_190810_a_succ_nomini/CollectedData_Drago Guggiana.h5  not found (perhaps not annotated)\n",
      "D:\\DLC_projects\\Prey_capture\\Prey_capture-Drago Guggiana-2020-03-26\\labeled-data\\11_14_2019_17_43_07_miniscope_DG_190810_a_succ_nomini/CollectedData_Drago Guggiana.h5  not found (perhaps not annotated)\n",
      "D:\\DLC_projects\\Prey_capture\\Prey_capture-Drago Guggiana-2020-03-26\\labeled-data\\11_14_2019_17_46_42_miniscope_DG_190810_a_succ_nomini/CollectedData_Drago Guggiana.h5  not found (perhaps not annotated)\n",
      "D:\\DLC_projects\\Prey_capture\\Prey_capture-Drago Guggiana-2020-03-26\\labeled-data\\11_14_2019_17_50_12_miniscope_DG_190810_a_succ_nomini/CollectedData_Drago Guggiana.h5  not found (perhaps not annotated)\n",
      "D:\\DLC_projects\\Prey_capture\\Prey_capture-Drago Guggiana-2020-03-26\\labeled-data\\11_25_2019_14_30_43_miniscope_MM_191105_a_fail_nomini/CollectedData_Drago Guggiana.h5  not found (perhaps not annotated)\n",
      "D:\\DLC_projects\\Prey_capture\\Prey_capture-Drago Guggiana-2020-03-26\\labeled-data\\11_25_2019_14_38_45_miniscope_MM_191105_a_fail_nomini/CollectedData_Drago Guggiana.h5  not found (perhaps not annotated)\n",
      "D:\\DLC_projects\\Prey_capture\\Prey_capture-Drago Guggiana-2020-03-26\\labeled-data\\11_25_2019_14_47_40_miniscope_MM_191105_a_fail_nomini/CollectedData_Drago Guggiana.h5  not found (perhaps not annotated)\n",
      "D:\\DLC_projects\\Prey_capture\\Prey_capture-Drago Guggiana-2020-03-26\\labeled-data\\11_25_2019_14_55_06_miniscope_MM_191105_a_fail_nomini/CollectedData_Drago Guggiana.h5  not found (perhaps not annotated)\n",
      "D:\\DLC_projects\\Prey_capture\\Prey_capture-Drago Guggiana-2020-03-26\\labeled-data\\11_25_2019_15_09_04_miniscope_MM_191106_a_fail_nomini/CollectedData_Drago Guggiana.h5  not found (perhaps not annotated)\n",
      "D:\\DLC_projects\\Prey_capture\\Prey_capture-Drago Guggiana-2020-03-26\\labeled-data\\11_25_2019_15_15_55_miniscope_MM_191106_a_fail_nomini/CollectedData_Drago Guggiana.h5  not found (perhaps not annotated)\n",
      "D:\\DLC_projects\\Prey_capture\\Prey_capture-Drago Guggiana-2020-03-26\\labeled-data\\11_25_2019_15_22_31_miniscope_MM_191106_a_fail_nomini/CollectedData_Drago Guggiana.h5  not found (perhaps not annotated)\n",
      "D:\\DLC_projects\\Prey_capture\\Prey_capture-Drago Guggiana-2020-03-26\\labeled-data\\11_25_2019_15_28_57_miniscope_MM_191106_a_fail_nomini/CollectedData_Drago Guggiana.h5  not found (perhaps not annotated)\n",
      "D:\\DLC_projects\\Prey_capture\\Prey_capture-Drago Guggiana-2020-03-26\\labeled-data\\11_25_2019_15_43_30_miniscope_MM_191107_a_fail_nomini/CollectedData_Drago Guggiana.h5  not found (perhaps not annotated)\n",
      "D:\\DLC_projects\\Prey_capture\\Prey_capture-Drago Guggiana-2020-03-26\\labeled-data\\11_25_2019_15_49_41_miniscope_MM_191107_a_fail_nomini/CollectedData_Drago Guggiana.h5  not found (perhaps not annotated)\n",
      "D:\\DLC_projects\\Prey_capture\\Prey_capture-Drago Guggiana-2020-03-26\\labeled-data\\11_25_2019_15_58_05_miniscope_MM_191107_a_fail_nomini/CollectedData_Drago Guggiana.h5  not found (perhaps not annotated)\n",
      "D:\\DLC_projects\\Prey_capture\\Prey_capture-Drago Guggiana-2020-03-26\\labeled-data\\11_25_2019_16_04_36_miniscope_MM_191107_a_fail_nomini/CollectedData_Drago Guggiana.h5  not found (perhaps not annotated)\n",
      "D:\\DLC_projects\\Prey_capture\\Prey_capture-Drago Guggiana-2020-03-26\\labeled-data\\11_25_2019_16_15_54_miniscope_MM_191108_a_fail_nomini/CollectedData_Drago Guggiana.h5  not found (perhaps not annotated)\n",
      "D:\\DLC_projects\\Prey_capture\\Prey_capture-Drago Guggiana-2020-03-26\\labeled-data\\11_25_2019_16_22_23_miniscope_MM_191108_a_fail_nomini/CollectedData_Drago Guggiana.h5  not found (perhaps not annotated)\n",
      "D:\\DLC_projects\\Prey_capture\\Prey_capture-Drago Guggiana-2020-03-26\\labeled-data\\11_25_2019_16_28_56_miniscope_MM_191108_a_fail_nomini/CollectedData_Drago Guggiana.h5  not found (perhaps not annotated)\n",
      "D:\\DLC_projects\\Prey_capture\\Prey_capture-Drago Guggiana-2020-03-26\\labeled-data\\11_25_2019_16_36_00_miniscope_MM_191108_a_fail_nomini/CollectedData_Drago Guggiana.h5  not found (perhaps not annotated)\n",
      "D:\\DLC_projects\\Prey_capture\\Prey_capture-Drago Guggiana-2020-03-26\\labeled-data\\11_26_2019_15_44_01_miniscope_MM_191106_a_fail_nomini/CollectedData_Drago Guggiana.h5  not found (perhaps not annotated)\n",
      "D:\\DLC_projects\\Prey_capture\\Prey_capture-Drago Guggiana-2020-03-26\\labeled-data\\11_26_2019_15_52_26_miniscope_MM_191106_a_fail_nomini/CollectedData_Drago Guggiana.h5  not found (perhaps not annotated)\n",
      "D:\\DLC_projects\\Prey_capture\\Prey_capture-Drago Guggiana-2020-03-26\\labeled-data\\11_26_2019_15_59_23_miniscope_MM_191106_a_fail_nomini/CollectedData_Drago Guggiana.h5  not found (perhaps not annotated)\n",
      "D:\\DLC_projects\\Prey_capture\\Prey_capture-Drago Guggiana-2020-03-26\\labeled-data\\11_26_2019_16_10_04_miniscope_MM_191106_a_fail_nomini/CollectedData_Drago Guggiana.h5  not found (perhaps not annotated)\n",
      "D:\\DLC_projects\\Prey_capture\\Prey_capture-Drago Guggiana-2020-03-26\\labeled-data\\11_26_2019_16_20_21_miniscope_MM_191107_a_fail_nomini/CollectedData_Drago Guggiana.h5  not found (perhaps not annotated)\n",
      "D:\\DLC_projects\\Prey_capture\\Prey_capture-Drago Guggiana-2020-03-26\\labeled-data\\11_26_2019_16_26_36_miniscope_MM_191107_a_fail_nomini/CollectedData_Drago Guggiana.h5  not found (perhaps not annotated)\n",
      "D:\\DLC_projects\\Prey_capture\\Prey_capture-Drago Guggiana-2020-03-26\\labeled-data\\11_26_2019_16_32_30_miniscope_MM_191107_a_fail_nomini/CollectedData_Drago Guggiana.h5  not found (perhaps not annotated)\n",
      "D:\\DLC_projects\\Prey_capture\\Prey_capture-Drago Guggiana-2020-03-26\\labeled-data\\11_26_2019_16_39_57_miniscope_MM_191107_a_fail_nomini/CollectedData_Drago Guggiana.h5  not found (perhaps not annotated)\n",
      "D:\\DLC_projects\\Prey_capture\\Prey_capture-Drago Guggiana-2020-03-26\\labeled-data\\11_26_2019_16_48_28_miniscope_MM_191108_a_fail_nomini/CollectedData_Drago Guggiana.h5  not found (perhaps not annotated)\n",
      "D:\\DLC_projects\\Prey_capture\\Prey_capture-Drago Guggiana-2020-03-26\\labeled-data\\11_26_2019_16_54_02_miniscope_MM_191108_a_fail_nomini/CollectedData_Drago Guggiana.h5  not found (perhaps not annotated)\n",
      "D:\\DLC_projects\\Prey_capture\\Prey_capture-Drago Guggiana-2020-03-26\\labeled-data\\11_26_2019_17_00_05_miniscope_MM_191108_a_fail_nomini/CollectedData_Drago Guggiana.h5  not found (perhaps not annotated)\n",
      "D:\\DLC_projects\\Prey_capture\\Prey_capture-Drago Guggiana-2020-03-26\\labeled-data\\11_26_2019_17_06_44_miniscope_MM_191108_a_fail_nomini/CollectedData_Drago Guggiana.h5  not found (perhaps not annotated)\n",
      "D:\\DLC_projects\\Prey_capture\\Prey_capture-Drago Guggiana-2020-03-26\\labeled-data\\11_29_2019_14_03_19_miniscope_MM_191105_a_fail_nomini/CollectedData_Drago Guggiana.h5  not found (perhaps not annotated)\n",
      "D:\\DLC_projects\\Prey_capture\\Prey_capture-Drago Guggiana-2020-03-26\\labeled-data\\11_29_2019_14_09_23_miniscope_MM_191105_a_fail_nomini/CollectedData_Drago Guggiana.h5  not found (perhaps not annotated)\n",
      "D:\\DLC_projects\\Prey_capture\\Prey_capture-Drago Guggiana-2020-03-26\\labeled-data\\11_29_2019_14_16_30_miniscope_MM_191105_a_fail_nomini/CollectedData_Drago Guggiana.h5  not found (perhaps not annotated)\n",
      "D:\\DLC_projects\\Prey_capture\\Prey_capture-Drago Guggiana-2020-03-26\\labeled-data\\11_29_2019_14_25_32_miniscope_MM_191105_a_fail_nomini/CollectedData_Drago Guggiana.h5  not found (perhaps not annotated)\n",
      "D:\\DLC_projects\\Prey_capture\\Prey_capture-Drago Guggiana-2020-03-26\\labeled-data\\11_29_2019_14_36_52_miniscope_MM_191106_a_fail_nomini/CollectedData_Drago Guggiana.h5  not found (perhaps not annotated)\n",
      "D:\\DLC_projects\\Prey_capture\\Prey_capture-Drago Guggiana-2020-03-26\\labeled-data\\11_29_2019_14_43_47_miniscope_MM_191106_a_fail_nomini/CollectedData_Drago Guggiana.h5  not found (perhaps not annotated)\n",
      "D:\\DLC_projects\\Prey_capture\\Prey_capture-Drago Guggiana-2020-03-26\\labeled-data\\11_29_2019_14_50_39_miniscope_MM_191106_a_fail_nomini/CollectedData_Drago Guggiana.h5  not found (perhaps not annotated)\n",
      "D:\\DLC_projects\\Prey_capture\\Prey_capture-Drago Guggiana-2020-03-26\\labeled-data\\11_29_2019_14_57_47_miniscope_MM_191106_a_fail_nomini/CollectedData_Drago Guggiana.h5  not found (perhaps not annotated)\n",
      "D:\\DLC_projects\\Prey_capture\\Prey_capture-Drago Guggiana-2020-03-26\\labeled-data\\11_29_2019_15_08_11_miniscope_MM_191107_a_fail_nomini/CollectedData_Drago Guggiana.h5  not found (perhaps not annotated)\n",
      "D:\\DLC_projects\\Prey_capture\\Prey_capture-Drago Guggiana-2020-03-26\\labeled-data\\11_29_2019_15_16_19_miniscope_MM_191107_a_fail_nomini/CollectedData_Drago Guggiana.h5  not found (perhaps not annotated)\n",
      "D:\\DLC_projects\\Prey_capture\\Prey_capture-Drago Guggiana-2020-03-26\\labeled-data\\11_29_2019_15_23_26_miniscope_MM_191107_a_fail_nomini/CollectedData_Drago Guggiana.h5  not found (perhaps not annotated)\n",
      "D:\\DLC_projects\\Prey_capture\\Prey_capture-Drago Guggiana-2020-03-26\\labeled-data\\11_29_2019_15_30_55_miniscope_MM_191107_a_fail_nomini/CollectedData_Drago Guggiana.h5  not found (perhaps not annotated)\n",
      "D:\\DLC_projects\\Prey_capture\\Prey_capture-Drago Guggiana-2020-03-26\\labeled-data\\11_29_2019_15_42_19_miniscope_MM_191108_a_fail_nomini/CollectedData_Drago Guggiana.h5  not found (perhaps not annotated)\n",
      "D:\\DLC_projects\\Prey_capture\\Prey_capture-Drago Guggiana-2020-03-26\\labeled-data\\11_29_2019_15_49_40_miniscope_MM_191108_a_fail_nomini/CollectedData_Drago Guggiana.h5  not found (perhaps not annotated)\n",
      "D:\\DLC_projects\\Prey_capture\\Prey_capture-Drago Guggiana-2020-03-26\\labeled-data\\11_29_2019_15_56_39_miniscope_MM_191108_a_fail_nomini/CollectedData_Drago Guggiana.h5  not found (perhaps not annotated)\n",
      "D:\\DLC_projects\\Prey_capture\\Prey_capture-Drago Guggiana-2020-03-26\\labeled-data\\11_29_2019_16_02_26_miniscope_MM_191108_a_fail_nomini/CollectedData_Drago Guggiana.h5  not found (perhaps not annotated)\n",
      "D:\\DLC_projects\\Prey_capture\\Prey_capture-Drago Guggiana-2020-03-26\\labeled-data\\12_02_2019_16_05_42_miniscope_MM_191105_a_fail_nomini/CollectedData_Drago Guggiana.h5  not found (perhaps not annotated)\n",
      "D:\\DLC_projects\\Prey_capture\\Prey_capture-Drago Guggiana-2020-03-26\\labeled-data\\12_02_2019_16_13_23_miniscope_MM_191105_a_fail_nomini/CollectedData_Drago Guggiana.h5  not found (perhaps not annotated)\n",
      "D:\\DLC_projects\\Prey_capture\\Prey_capture-Drago Guggiana-2020-03-26\\labeled-data\\12_02_2019_16_21_09_miniscope_MM_191105_a_fail_nomini/CollectedData_Drago Guggiana.h5  not found (perhaps not annotated)\n",
      "D:\\DLC_projects\\Prey_capture\\Prey_capture-Drago Guggiana-2020-03-26\\labeled-data\\12_02_2019_16_27_33_miniscope_MM_191105_a_fail_nomini/CollectedData_Drago Guggiana.h5  not found (perhaps not annotated)\n",
      "D:\\DLC_projects\\Prey_capture\\Prey_capture-Drago Guggiana-2020-03-26\\labeled-data\\12_02_2019_16_37_29_miniscope_MM_191106_a_fail_nomini/CollectedData_Drago Guggiana.h5  not found (perhaps not annotated)\n",
      "D:\\DLC_projects\\Prey_capture\\Prey_capture-Drago Guggiana-2020-03-26\\labeled-data\\12_02_2019_16_45_51_miniscope_MM_191106_a_fail_nomini/CollectedData_Drago Guggiana.h5  not found (perhaps not annotated)\n",
      "D:\\DLC_projects\\Prey_capture\\Prey_capture-Drago Guggiana-2020-03-26\\labeled-data\\12_02_2019_16_52_33_miniscope_MM_191106_a_fail_nomini/CollectedData_Drago Guggiana.h5  not found (perhaps not annotated)\n",
      "D:\\DLC_projects\\Prey_capture\\Prey_capture-Drago Guggiana-2020-03-26\\labeled-data\\12_02_2019_16_58_55_miniscope_MM_191106_a_fail_nomini/CollectedData_Drago Guggiana.h5  not found (perhaps not annotated)\n",
      "D:\\DLC_projects\\Prey_capture\\Prey_capture-Drago Guggiana-2020-03-26\\labeled-data\\12_02_2019_17_08_58_miniscope_MM_191107_a_succ_nomini/CollectedData_Drago Guggiana.h5  not found (perhaps not annotated)\n",
      "D:\\DLC_projects\\Prey_capture\\Prey_capture-Drago Guggiana-2020-03-26\\labeled-data\\12_02_2019_17_18_30_miniscope_MM_191107_a_succ_nomini/CollectedData_Drago Guggiana.h5  not found (perhaps not annotated)\n",
      "D:\\DLC_projects\\Prey_capture\\Prey_capture-Drago Guggiana-2020-03-26\\labeled-data\\12_02_2019_17_26_56_miniscope_MM_191107_a_succ_nomini/CollectedData_Drago Guggiana.h5  not found (perhaps not annotated)\n",
      "D:\\DLC_projects\\Prey_capture\\Prey_capture-Drago Guggiana-2020-03-26\\labeled-data\\12_02_2019_17_33_47_miniscope_MM_191107_a_succ_nomini/CollectedData_Drago Guggiana.h5  not found (perhaps not annotated)\n",
      "D:\\DLC_projects\\Prey_capture\\Prey_capture-Drago Guggiana-2020-03-26\\labeled-data\\12_02_2019_17_44_49_miniscope_MM_191108_a_fail_nomini/CollectedData_Drago Guggiana.h5  not found (perhaps not annotated)\n",
      "D:\\DLC_projects\\Prey_capture\\Prey_capture-Drago Guggiana-2020-03-26\\labeled-data\\12_02_2019_17_52_21_miniscope_MM_191108_a_fail_nomini/CollectedData_Drago Guggiana.h5  not found (perhaps not annotated)\n",
      "D:\\DLC_projects\\Prey_capture\\Prey_capture-Drago Guggiana-2020-03-26\\labeled-data\\12_03_2019_15_00_53_miniscope_MM_191105_a_fail_nomini/CollectedData_Drago Guggiana.h5  not found (perhaps not annotated)\n",
      "D:\\DLC_projects\\Prey_capture\\Prey_capture-Drago Guggiana-2020-03-26\\labeled-data\\12_03_2019_15_08_15_miniscope_MM_191105_a_succ_nomini/CollectedData_Drago Guggiana.h5  not found (perhaps not annotated)\n",
      "D:\\DLC_projects\\Prey_capture\\Prey_capture-Drago Guggiana-2020-03-26\\labeled-data\\12_03_2019_15_15_55_miniscope_MM_191105_a_succ_nomini/CollectedData_Drago Guggiana.h5  not found (perhaps not annotated)\n",
      "D:\\DLC_projects\\Prey_capture\\Prey_capture-Drago Guggiana-2020-03-26\\labeled-data\\12_03_2019_15_24_04_miniscope_MM_191105_a_succ_nomini/CollectedData_Drago Guggiana.h5  not found (perhaps not annotated)\n",
      "D:\\DLC_projects\\Prey_capture\\Prey_capture-Drago Guggiana-2020-03-26\\labeled-data\\12_03_2019_15_31_21_miniscope_MM_191106_a_fail_nomini/CollectedData_Drago Guggiana.h5  not found (perhaps not annotated)\n",
      "D:\\DLC_projects\\Prey_capture\\Prey_capture-Drago Guggiana-2020-03-26\\labeled-data\\12_03_2019_15_38_58_miniscope_MM_191106_a_fail_nomini/CollectedData_Drago Guggiana.h5  not found (perhaps not annotated)\n",
      "D:\\DLC_projects\\Prey_capture\\Prey_capture-Drago Guggiana-2020-03-26\\labeled-data\\12_03_2019_15_47_19_miniscope_MM_191107_a_succ_nomini/CollectedData_Drago Guggiana.h5  not found (perhaps not annotated)\n",
      "D:\\DLC_projects\\Prey_capture\\Prey_capture-Drago Guggiana-2020-03-26\\labeled-data\\12_03_2019_15_52_44_miniscope_MM_191107_a_succ_nomini/CollectedData_Drago Guggiana.h5  not found (perhaps not annotated)\n",
      "D:\\DLC_projects\\Prey_capture\\Prey_capture-Drago Guggiana-2020-03-26\\labeled-data\\12_03_2019_15_57_28_miniscope_MM_191107_a_succ_nomini/CollectedData_Drago Guggiana.h5  not found (perhaps not annotated)\n",
      "D:\\DLC_projects\\Prey_capture\\Prey_capture-Drago Guggiana-2020-03-26\\labeled-data\\12_03_2019_16_03_45_miniscope_MM_191107_a_succ_nomini/CollectedData_Drago Guggiana.h5  not found (perhaps not annotated)\n",
      "D:\\DLC_projects\\Prey_capture\\Prey_capture-Drago Guggiana-2020-03-26\\labeled-data\\12_03_2019_16_11_31_miniscope_MM_191106_a_succ_nomini/CollectedData_Drago Guggiana.h5  not found (perhaps not annotated)\n",
      "D:\\DLC_projects\\Prey_capture\\Prey_capture-Drago Guggiana-2020-03-26\\labeled-data\\12_03_2019_16_20_45_miniscope_MM_191106_a_fail_nomini/CollectedData_Drago Guggiana.h5  not found (perhaps not annotated)\n",
      "D:\\DLC_projects\\Prey_capture\\Prey_capture-Drago Guggiana-2020-03-26\\labeled-data\\12_03_2019_16_34_28_miniscope_MM_191108_a_fail_nomini/CollectedData_Drago Guggiana.h5  not found (perhaps not annotated)\n",
      "D:\\DLC_projects\\Prey_capture\\Prey_capture-Drago Guggiana-2020-03-26\\labeled-data\\12_03_2019_16_42_00_miniscope_MM_191108_a_fail_nomini/CollectedData_Drago Guggiana.h5  not found (perhaps not annotated)\n",
      "D:\\DLC_projects\\Prey_capture\\Prey_capture-Drago Guggiana-2020-03-26\\labeled-data\\12_03_2019_16_48_22_miniscope_MM_191108_a_succ_nomini/CollectedData_Drago Guggiana.h5  not found (perhaps not annotated)\n",
      "D:\\DLC_projects\\Prey_capture\\Prey_capture-Drago Guggiana-2020-03-26\\labeled-data\\12_03_2019_16_57_25_miniscope_MM_191108_a_succ_nomini/CollectedData_Drago Guggiana.h5  not found (perhaps not annotated)\n",
      "D:\\DLC_projects\\Prey_capture\\Prey_capture-Drago Guggiana-2020-03-26\\labeled-data\\12_04_2019_15_19_29_miniscope_MM_191106_a_succ_nomini/CollectedData_Drago Guggiana.h5  not found (perhaps not annotated)\n",
      "D:\\DLC_projects\\Prey_capture\\Prey_capture-Drago Guggiana-2020-03-26\\labeled-data\\12_04_2019_15_23_56_miniscope_MM_191106_a_succ_nomini/CollectedData_Drago Guggiana.h5  not found (perhaps not annotated)\n",
      "D:\\DLC_projects\\Prey_capture\\Prey_capture-Drago Guggiana-2020-03-26\\labeled-data\\12_04_2019_15_29_28_miniscope_MM_191106_a_succ_nomini/CollectedData_Drago Guggiana.h5  not found (perhaps not annotated)\n",
      "D:\\DLC_projects\\Prey_capture\\Prey_capture-Drago Guggiana-2020-03-26\\labeled-data\\12_04_2019_15_45_59_miniscope_MM_191107_a_succ_nomini/CollectedData_Drago Guggiana.h5  not found (perhaps not annotated)\n",
      "D:\\DLC_projects\\Prey_capture\\Prey_capture-Drago Guggiana-2020-03-26\\labeled-data\\12_04_2019_15_52_05_miniscope_MM_191107_a_succ_nomini/CollectedData_Drago Guggiana.h5  not found (perhaps not annotated)\n",
      "D:\\DLC_projects\\Prey_capture\\Prey_capture-Drago Guggiana-2020-03-26\\labeled-data\\12_04_2019_15_56_34_miniscope_MM_191107_a_succ_nomini/CollectedData_Drago Guggiana.h5  not found (perhaps not annotated)\n",
      "D:\\DLC_projects\\Prey_capture\\Prey_capture-Drago Guggiana-2020-03-26\\labeled-data\\12_04_2019_16_01_30_miniscope_MM_191107_a_succ_nomini/CollectedData_Drago Guggiana.h5  not found (perhaps not annotated)\n",
      "D:\\DLC_projects\\Prey_capture\\Prey_capture-Drago Guggiana-2020-03-26\\labeled-data\\12_04_2019_16_07_38_miniscope_MM_191108_a_succ_nomini/CollectedData_Drago Guggiana.h5  not found (perhaps not annotated)\n",
      "D:\\DLC_projects\\Prey_capture\\Prey_capture-Drago Guggiana-2020-03-26\\labeled-data\\12_04_2019_16_13_30_miniscope_MM_191108_a_succ_nomini/CollectedData_Drago Guggiana.h5  not found (perhaps not annotated)\n",
      "D:\\DLC_projects\\Prey_capture\\Prey_capture-Drago Guggiana-2020-03-26\\labeled-data\\12_04_2019_16_18_37_miniscope_MM_191108_a_succ_nomini/CollectedData_Drago Guggiana.h5  not found (perhaps not annotated)\n",
      "D:\\DLC_projects\\Prey_capture\\Prey_capture-Drago Guggiana-2020-03-26\\labeled-data\\12_04_2019_16_27_21_miniscope_MM_191108_a_succ_nomini/CollectedData_Drago Guggiana.h5  not found (perhaps not annotated)\n",
      "D:\\DLC_projects\\Prey_capture\\Prey_capture-Drago Guggiana-2020-03-26\\labeled-data\\12_04_2019_16_39_29_miniscope_MM_191105_a_succ_nomini/CollectedData_Drago Guggiana.h5  not found (perhaps not annotated)\n",
      "D:\\DLC_projects\\Prey_capture\\Prey_capture-Drago Guggiana-2020-03-26\\labeled-data\\12_04_2019_16_44_23_miniscope_MM_191105_a_succ_nomini/CollectedData_Drago Guggiana.h5  not found (perhaps not annotated)\n",
      "D:\\DLC_projects\\Prey_capture\\Prey_capture-Drago Guggiana-2020-03-26\\labeled-data\\12_04_2019_16_48_26_miniscope_MM_191105_a_succ_nomini/CollectedData_Drago Guggiana.h5  not found (perhaps not annotated)\n",
      "D:\\DLC_projects\\Prey_capture\\Prey_capture-Drago Guggiana-2020-03-26\\labeled-data\\12_04_2019_16_53_11_miniscope_MM_191105_a_succ_nomini/CollectedData_Drago Guggiana.h5  not found (perhaps not annotated)\n",
      "D:\\DLC_projects\\Prey_capture\\Prey_capture-Drago Guggiana-2020-03-26\\labeled-data\\12_06_2019_14_00_21_miniscope_MM_191105_a_succ_nomini/CollectedData_Drago Guggiana.h5  not found (perhaps not annotated)\n",
      "D:\\DLC_projects\\Prey_capture\\Prey_capture-Drago Guggiana-2020-03-26\\labeled-data\\12_06_2019_14_07_11_miniscope_MM_191105_a_succ_nomini/CollectedData_Drago Guggiana.h5  not found (perhaps not annotated)\n",
      "D:\\DLC_projects\\Prey_capture\\Prey_capture-Drago Guggiana-2020-03-26\\labeled-data\\12_06_2019_14_15_39_miniscope_MM_191105_a_succ_nomini/CollectedData_Drago Guggiana.h5  not found (perhaps not annotated)\n",
      "D:\\DLC_projects\\Prey_capture\\Prey_capture-Drago Guggiana-2020-03-26\\labeled-data\\12_06_2019_14_21_20_miniscope_MM_191105_a_succ_nomini/CollectedData_Drago Guggiana.h5  not found (perhaps not annotated)\n",
      "D:\\DLC_projects\\Prey_capture\\Prey_capture-Drago Guggiana-2020-03-26\\labeled-data\\12_06_2019_14_47_35_miniscope_MM_191106_a_succ_nomini/CollectedData_Drago Guggiana.h5  not found (perhaps not annotated)\n",
      "D:\\DLC_projects\\Prey_capture\\Prey_capture-Drago Guggiana-2020-03-26\\labeled-data\\12_06_2019_14_50_58_miniscope_MM_191106_a_succ_nomini/CollectedData_Drago Guggiana.h5  not found (perhaps not annotated)\n",
      "D:\\DLC_projects\\Prey_capture\\Prey_capture-Drago Guggiana-2020-03-26\\labeled-data\\12_06_2019_14_55_56_miniscope_MM_191106_a_succ_nomini/CollectedData_Drago Guggiana.h5  not found (perhaps not annotated)\n",
      "D:\\DLC_projects\\Prey_capture\\Prey_capture-Drago Guggiana-2020-03-26\\labeled-data\\12_06_2019_15_04_44_miniscope_MM_191107_a_succ_nomini/CollectedData_Drago Guggiana.h5  not found (perhaps not annotated)\n",
      "D:\\DLC_projects\\Prey_capture\\Prey_capture-Drago Guggiana-2020-03-26\\labeled-data\\12_06_2019_15_13_44_miniscope_MM_191107_a_succ_nomini/CollectedData_Drago Guggiana.h5  not found (perhaps not annotated)\n",
      "D:\\DLC_projects\\Prey_capture\\Prey_capture-Drago Guggiana-2020-03-26\\labeled-data\\12_06_2019_15_18_15_miniscope_MM_191107_a_succ_nomini/CollectedData_Drago Guggiana.h5  not found (perhaps not annotated)\n",
      "D:\\DLC_projects\\Prey_capture\\Prey_capture-Drago Guggiana-2020-03-26\\labeled-data\\12_07_2019_15_01_31_miniscope_MM_191108_a_succ/CollectedData_Drago Guggiana.h5  not found (perhaps not annotated)\n",
      "D:\\DLC_projects\\Prey_capture\\Prey_capture-Drago Guggiana-2020-03-26\\labeled-data\\12_07_2019_15_06_28_miniscope_MM_191108_a_succ/CollectedData_Drago Guggiana.h5  not found (perhaps not annotated)\n",
      "D:\\DLC_projects\\Prey_capture\\Prey_capture-Drago Guggiana-2020-03-26\\labeled-data\\12_07_2019_15_11_16_miniscope_MM_191108_a_succ/CollectedData_Drago Guggiana.h5  not found (perhaps not annotated)\n",
      "D:\\DLC_projects\\Prey_capture\\Prey_capture-Drago Guggiana-2020-03-26\\labeled-data\\12_07_2019_15_15_49_miniscope_MM_191108_a_succ/CollectedData_Drago Guggiana.h5  not found (perhaps not annotated)\n",
      "D:\\DLC_projects\\Prey_capture\\Prey_capture-Drago Guggiana-2020-03-26\\labeled-data\\12_07_2019_15_20_56_miniscope_MM_191108_a_succ/CollectedData_Drago Guggiana.h5  not found (perhaps not annotated)\n",
      "D:\\DLC_projects\\Prey_capture\\Prey_capture-Drago Guggiana-2020-03-26\\labeled-data\\12_07_2019_15_24_53_miniscope_MM_191108_a_succ/CollectedData_Drago Guggiana.h5  not found (perhaps not annotated)\n",
      "D:\\DLC_projects\\Prey_capture\\Prey_capture-Drago Guggiana-2020-03-26\\labeled-data\\12_07_2019_15_29_41_miniscope_MM_191108_a_succ/CollectedData_Drago Guggiana.h5  not found (perhaps not annotated)\n",
      "D:\\DLC_projects\\Prey_capture\\Prey_capture-Drago Guggiana-2020-03-26\\labeled-data\\12_07_2019_15_34_47_miniscope_MM_191108_a_succ/CollectedData_Drago Guggiana.h5  not found (perhaps not annotated)\n",
      "D:\\DLC_projects\\Prey_capture\\Prey_capture-Drago Guggiana-2020-03-26\\labeled-data\\12_07_2019_15_39_33_miniscope_MM_191108_a_succ/CollectedData_Drago Guggiana.h5  not found (perhaps not annotated)\n",
      "D:\\DLC_projects\\Prey_capture\\Prey_capture-Drago Guggiana-2020-03-26\\labeled-data\\12_07_2019_15_43_37_miniscope_MM_191108_a_succ/CollectedData_Drago Guggiana.h5  not found (perhaps not annotated)\n",
      "D:\\DLC_projects\\Prey_capture\\Prey_capture-Drago Guggiana-2020-03-26\\labeled-data\\12_07_2019_15_47_28_miniscope_MM_191108_a_succ/CollectedData_Drago Guggiana.h5  not found (perhaps not annotated)\n",
      "D:\\DLC_projects\\Prey_capture\\Prey_capture-Drago Guggiana-2020-03-26\\labeled-data\\12_07_2019_15_52_11_miniscope_MM_191108_a_succ/CollectedData_Drago Guggiana.h5  not found (perhaps not annotated)\n",
      "D:\\DLC_projects\\Prey_capture\\Prey_capture-Drago Guggiana-2020-03-26\\labeled-data\\12_07_2019_15_56_10_miniscope_MM_191108_a_fail/CollectedData_Drago Guggiana.h5  not found (perhaps not annotated)\n",
      "D:\\DLC_projects\\Prey_capture\\Prey_capture-Drago Guggiana-2020-03-26\\labeled-data\\12_07_2019_16_05_30_miniscope_MM_191105_a_succ_nomini/CollectedData_Drago Guggiana.h5  not found (perhaps not annotated)\n",
      "D:\\DLC_projects\\Prey_capture\\Prey_capture-Drago Guggiana-2020-03-26\\labeled-data\\12_07_2019_16_09_54_miniscope_MM_191105_a_succ_nomini/CollectedData_Drago Guggiana.h5  not found (perhaps not annotated)\n",
      "D:\\DLC_projects\\Prey_capture\\Prey_capture-Drago Guggiana-2020-03-26\\labeled-data\\12_07_2019_16_18_20_miniscope_MM_191106_a_succ_nomini/CollectedData_Drago Guggiana.h5  not found (perhaps not annotated)\n",
      "D:\\DLC_projects\\Prey_capture\\Prey_capture-Drago Guggiana-2020-03-26\\labeled-data\\12_07_2019_16_23_23_miniscope_MM_191106_a_succ_nomini/CollectedData_Drago Guggiana.h5  not found (perhaps not annotated)\n",
      "D:\\DLC_projects\\Prey_capture\\Prey_capture-Drago Guggiana-2020-03-26\\labeled-data\\12_07_2019_16_29_31_miniscope_MM_191107_a_succ_nomini/CollectedData_Drago Guggiana.h5  not found (perhaps not annotated)\n",
      "D:\\DLC_projects\\Prey_capture\\Prey_capture-Drago Guggiana-2020-03-26\\labeled-data\\12_07_2019_16_34_28_miniscope_MM_191107_a_succ_nomini/CollectedData_Drago Guggiana.h5  not found (perhaps not annotated)\n",
      "D:\\DLC_projects\\Prey_capture\\Prey_capture-Drago Guggiana-2020-03-26\\labeled-data\\12_07_2019_16_38_08_miniscope_MM_191107_a_succ_nomini/CollectedData_Drago Guggiana.h5  not found (perhaps not annotated)\n",
      "D:\\DLC_projects\\Prey_capture\\Prey_capture-Drago Guggiana-2020-03-26\\labeled-data\\12_09_2019_15_04_06_miniscope_MM_191108_a_succ/CollectedData_Drago Guggiana.h5  not found (perhaps not annotated)\n",
      "D:\\DLC_projects\\Prey_capture\\Prey_capture-Drago Guggiana-2020-03-26\\labeled-data\\12_09_2019_15_08_33_miniscope_MM_191108_a_succ/CollectedData_Drago Guggiana.h5  not found (perhaps not annotated)\n",
      "D:\\DLC_projects\\Prey_capture\\Prey_capture-Drago Guggiana-2020-03-26\\labeled-data\\12_09_2019_15_12_24_miniscope_MM_191108_a_succ/CollectedData_Drago Guggiana.h5  not found (perhaps not annotated)\n",
      "D:\\DLC_projects\\Prey_capture\\Prey_capture-Drago Guggiana-2020-03-26\\labeled-data\\12_09_2019_15_16_05_miniscope_MM_191108_a_succ/CollectedData_Drago Guggiana.h5  not found (perhaps not annotated)\n",
      "D:\\DLC_projects\\Prey_capture\\Prey_capture-Drago Guggiana-2020-03-26\\labeled-data\\12_09_2019_15_21_10_miniscope_MM_191108_a_succ/CollectedData_Drago Guggiana.h5  not found (perhaps not annotated)\n",
      "D:\\DLC_projects\\Prey_capture\\Prey_capture-Drago Guggiana-2020-03-26\\labeled-data\\12_09_2019_15_25_14_miniscope_MM_191108_a_succ/CollectedData_Drago Guggiana.h5  not found (perhaps not annotated)\n",
      "D:\\DLC_projects\\Prey_capture\\Prey_capture-Drago Guggiana-2020-03-26\\labeled-data\\12_09_2019_15_30_13_miniscope_MM_191108_a_succ/CollectedData_Drago Guggiana.h5  not found (perhaps not annotated)\n",
      "D:\\DLC_projects\\Prey_capture\\Prey_capture-Drago Guggiana-2020-03-26\\labeled-data\\12_09_2019_15_34_10_miniscope_MM_191108_a_succ/CollectedData_Drago Guggiana.h5  not found (perhaps not annotated)\n",
      "D:\\DLC_projects\\Prey_capture\\Prey_capture-Drago Guggiana-2020-03-26\\labeled-data\\12_09_2019_16_30_00_miniscope_MM_191105_a_succ_nomini/CollectedData_Drago Guggiana.h5  not found (perhaps not annotated)\n",
      "D:\\DLC_projects\\Prey_capture\\Prey_capture-Drago Guggiana-2020-03-26\\labeled-data\\12_09_2019_16_34_39_miniscope_MM_191105_a_succ_nomini/CollectedData_Drago Guggiana.h5  not found (perhaps not annotated)\n",
      "D:\\DLC_projects\\Prey_capture\\Prey_capture-Drago Guggiana-2020-03-26\\labeled-data\\12_09_2019_16_38_36_miniscope_MM_191105_a_succ_nomini/CollectedData_Drago Guggiana.h5  not found (perhaps not annotated)\n",
      "D:\\DLC_projects\\Prey_capture\\Prey_capture-Drago Guggiana-2020-03-26\\labeled-data\\12_09_2019_16_41_05_miniscope_MM_191105_a_succ_nomini/CollectedData_Drago Guggiana.h5  not found (perhaps not annotated)\n",
      "D:\\DLC_projects\\Prey_capture\\Prey_capture-Drago Guggiana-2020-03-26\\labeled-data\\12_09_2019_16_46_19_miniscope_MM_191106_a_succ_nomini/CollectedData_Drago Guggiana.h5  not found (perhaps not annotated)\n",
      "D:\\DLC_projects\\Prey_capture\\Prey_capture-Drago Guggiana-2020-03-26\\labeled-data\\12_09_2019_16_49_50_miniscope_MM_191106_a_succ_nomini/CollectedData_Drago Guggiana.h5  not found (perhaps not annotated)\n",
      "D:\\DLC_projects\\Prey_capture\\Prey_capture-Drago Guggiana-2020-03-26\\labeled-data\\12_09_2019_16_53_42_miniscope_MM_191106_a_succ_nomini/CollectedData_Drago Guggiana.h5  not found (perhaps not annotated)\n",
      "D:\\DLC_projects\\Prey_capture\\Prey_capture-Drago Guggiana-2020-03-26\\labeled-data\\12_09_2019_16_58_58_miniscope_MM_191107_a_succ_nomini/CollectedData_Drago Guggiana.h5  not found (perhaps not annotated)\n",
      "D:\\DLC_projects\\Prey_capture\\Prey_capture-Drago Guggiana-2020-03-26\\labeled-data\\12_09_2019_17_01_33_miniscope_MM_191107_a_succ_bad_track_nomini/CollectedData_Drago Guggiana.h5  not found (perhaps not annotated)\n",
      "D:\\DLC_projects\\Prey_capture\\Prey_capture-Drago Guggiana-2020-03-26\\labeled-data\\12_09_2019_17_04_36_miniscope_MM_191107_a_succ_nomini/CollectedData_Drago Guggiana.h5  not found (perhaps not annotated)\n",
      "D:\\DLC_projects\\Prey_capture\\Prey_capture-Drago Guggiana-2020-03-26\\labeled-data\\12_10_2019_15_00_45_miniscope_MM_191108_a_succ/CollectedData_Drago Guggiana.h5  not found (perhaps not annotated)\n",
      "D:\\DLC_projects\\Prey_capture\\Prey_capture-Drago Guggiana-2020-03-26\\labeled-data\\12_10_2019_15_05_17_miniscope_MM_191108_a_succ/CollectedData_Drago Guggiana.h5  not found (perhaps not annotated)\n",
      "D:\\DLC_projects\\Prey_capture\\Prey_capture-Drago Guggiana-2020-03-26\\labeled-data\\12_10_2019_15_10_23_miniscope_MM_191108_a_succ/CollectedData_Drago Guggiana.h5  not found (perhaps not annotated)\n",
      "D:\\DLC_projects\\Prey_capture\\Prey_capture-Drago Guggiana-2020-03-26\\labeled-data\\12_10_2019_15_15_08_miniscope_MM_191108_a_succ/CollectedData_Drago Guggiana.h5  not found (perhaps not annotated)\n",
      "D:\\DLC_projects\\Prey_capture\\Prey_capture-Drago Guggiana-2020-03-26\\labeled-data\\12_10_2019_15_19_56_miniscope_MM_191108_a_succ/CollectedData_Drago Guggiana.h5  not found (perhaps not annotated)\n",
      "D:\\DLC_projects\\Prey_capture\\Prey_capture-Drago Guggiana-2020-03-26\\labeled-data\\12_10_2019_15_23_16_miniscope_MM_191108_a_fail/CollectedData_Drago Guggiana.h5  not found (perhaps not annotated)\n",
      "D:\\DLC_projects\\Prey_capture\\Prey_capture-Drago Guggiana-2020-03-26\\labeled-data\\12_10_2019_15_30_07_miniscope_MM_191108_a_succ/CollectedData_Drago Guggiana.h5  not found (perhaps not annotated)\n",
      "D:\\DLC_projects\\Prey_capture\\Prey_capture-Drago Guggiana-2020-03-26\\labeled-data\\12_10_2019_15_35_36_miniscope_MM_191108_a_succ/CollectedData_Drago Guggiana.h5  not found (perhaps not annotated)\n",
      "D:\\DLC_projects\\Prey_capture\\Prey_capture-Drago Guggiana-2020-03-26\\labeled-data\\12_10_2019_15_39_55_miniscope_MM_191108_a_succ/CollectedData_Drago Guggiana.h5  not found (perhaps not annotated)\n",
      "D:\\DLC_projects\\Prey_capture\\Prey_capture-Drago Guggiana-2020-03-26\\labeled-data\\12_10_2019_15_43_20_miniscope_MM_191108_a_fail/CollectedData_Drago Guggiana.h5  not found (perhaps not annotated)\n",
      "D:\\DLC_projects\\Prey_capture\\Prey_capture-Drago Guggiana-2020-03-26\\labeled-data\\12_10_2019_16_36_38_miniscope_MM_191106_a_succ_nomini/CollectedData_Drago Guggiana.h5  not found (perhaps not annotated)\n",
      "D:\\DLC_projects\\Prey_capture\\Prey_capture-Drago Guggiana-2020-03-26\\labeled-data\\12_10_2019_16_44_10_miniscope_MM_191107_a_succ_nomini/CollectedData_Drago Guggiana.h5  not found (perhaps not annotated)\n",
      "D:\\DLC_projects\\Prey_capture\\Prey_capture-Drago Guggiana-2020-03-26\\labeled-data\\12_10_2019_16_48_14_miniscope_MM_191107_a_succ_nomini/CollectedData_Drago Guggiana.h5  not found (perhaps not annotated)\n",
      "D:\\DLC_projects\\Prey_capture\\Prey_capture-Drago Guggiana-2020-03-26\\labeled-data\\12_10_2019_16_53_34_miniscope_MM_191107_a_succ_nomini/CollectedData_Drago Guggiana.h5  not found (perhaps not annotated)\n",
      "D:\\DLC_projects\\Prey_capture\\Prey_capture-Drago Guggiana-2020-03-26\\labeled-data\\12_10_2019_16_57_26_miniscope_MM_191107_a_succ_nomini/CollectedData_Drago Guggiana.h5  not found (perhaps not annotated)\n",
      "D:\\DLC_projects\\Prey_capture\\Prey_capture-Drago Guggiana-2020-03-26\\labeled-data\\12_11_2019_16_45_12_miniscope_MM_191108_a_succ/CollectedData_Drago Guggiana.h5  not found (perhaps not annotated)\n",
      "D:\\DLC_projects\\Prey_capture\\Prey_capture-Drago Guggiana-2020-03-26\\labeled-data\\12_11_2019_16_49_04_miniscope_MM_191108_a_succ_miniscopeafterbonsai/CollectedData_Drago Guggiana.h5  not found (perhaps not annotated)\n",
      "D:\\DLC_projects\\Prey_capture\\Prey_capture-Drago Guggiana-2020-03-26\\labeled-data\\12_11_2019_16_53_36_miniscope_MM_191108_a_succ/CollectedData_Drago Guggiana.h5  not found (perhaps not annotated)\n",
      "D:\\DLC_projects\\Prey_capture\\Prey_capture-Drago Guggiana-2020-03-26\\labeled-data\\12_11_2019_16_56_38_miniscope_MM_191108_a_succ/CollectedData_Drago Guggiana.h5  not found (perhaps not annotated)\n",
      "D:\\DLC_projects\\Prey_capture\\Prey_capture-Drago Guggiana-2020-03-26\\labeled-data\\12_11_2019_17_01_21_miniscope_MM_191108_a_succ/CollectedData_Drago Guggiana.h5  not found (perhaps not annotated)\n",
      "D:\\DLC_projects\\Prey_capture\\Prey_capture-Drago Guggiana-2020-03-26\\labeled-data\\12_11_2019_17_05_25_miniscope_MM_191108_a_succ/CollectedData_Drago Guggiana.h5  not found (perhaps not annotated)\n",
      "D:\\DLC_projects\\Prey_capture\\Prey_capture-Drago Guggiana-2020-03-26\\labeled-data\\12_11_2019_17_09_52_miniscope_MM_191108_a_succ/CollectedData_Drago Guggiana.h5  not found (perhaps not annotated)\n",
      "D:\\DLC_projects\\Prey_capture\\Prey_capture-Drago Guggiana-2020-03-26\\labeled-data\\12_11_2019_17_14_34_miniscope_MM_191108_a_fail_miniscopeafterbonsai/CollectedData_Drago Guggiana.h5  not found (perhaps not annotated)\n",
      "D:\\DLC_projects\\Prey_capture\\Prey_capture-Drago Guggiana-2020-03-26\\labeled-data\\12_12_2019_14_58_00_miniscope_MM_191108_a_succ_nofluo/CollectedData_Drago Guggiana.h5  not found (perhaps not annotated)\n",
      "D:\\DLC_projects\\Prey_capture\\Prey_capture-Drago Guggiana-2020-03-26\\labeled-data\\12_12_2019_15_00_56_miniscope_MM_191108_a_succ/CollectedData_Drago Guggiana.h5  not found (perhaps not annotated)\n",
      "D:\\DLC_projects\\Prey_capture\\Prey_capture-Drago Guggiana-2020-03-26\\labeled-data\\12_12_2019_15_04_45_miniscope_MM_191108_a_succ/CollectedData_Drago Guggiana.h5  not found (perhaps not annotated)\n",
      "D:\\DLC_projects\\Prey_capture\\Prey_capture-Drago Guggiana-2020-03-26\\labeled-data\\12_12_2019_15_08_15_miniscope_MM_191108_a_succ/CollectedData_Drago Guggiana.h5  not found (perhaps not annotated)\n",
      "D:\\DLC_projects\\Prey_capture\\Prey_capture-Drago Guggiana-2020-03-26\\labeled-data\\12_12_2019_15_11_45_miniscope_MM_191108_a_fail/CollectedData_Drago Guggiana.h5  not found (perhaps not annotated)\n",
      "D:\\DLC_projects\\Prey_capture\\Prey_capture-Drago Guggiana-2020-03-26\\labeled-data\\12_12_2019_15_16_04_miniscope_MM_191108_a_succ/CollectedData_Drago Guggiana.h5  not found (perhaps not annotated)\n",
      "D:\\DLC_projects\\Prey_capture\\Prey_capture-Drago Guggiana-2020-03-26\\labeled-data\\12_12_2019_15_18_57_miniscope_MM_191108_a_fail/CollectedData_Drago Guggiana.h5  not found (perhaps not annotated)\n",
      "D:\\DLC_projects\\Prey_capture\\Prey_capture-Drago Guggiana-2020-03-26\\labeled-data\\12_12_2019_15_23_10_miniscope_MM_191108_a_fail/CollectedData_Drago Guggiana.h5  not found (perhaps not annotated)\n",
      "D:\\DLC_projects\\Prey_capture\\Prey_capture-Drago Guggiana-2020-03-26\\labeled-data\\12_12_2019_15_27_48_miniscope_MM_191108_a_succ/CollectedData_Drago Guggiana.h5  not found (perhaps not annotated)\n",
      "D:\\DLC_projects\\Prey_capture\\Prey_capture-Drago Guggiana-2020-03-26\\labeled-data\\12_12_2019_15_32_29_miniscope_MM_191108_a_succ/CollectedData_Drago Guggiana.h5  not found (perhaps not annotated)\n",
      "D:\\DLC_projects\\Prey_capture\\Prey_capture-Drago Guggiana-2020-03-26\\labeled-data\\12_16_2019_16_21_34_miniscope_MM_191108_a_fail/CollectedData_Drago Guggiana.h5  not found (perhaps not annotated)\n",
      "D:\\DLC_projects\\Prey_capture\\Prey_capture-Drago Guggiana-2020-03-26\\labeled-data\\12_16_2019_16_27_17_miniscope_MM_191108_a_succ/CollectedData_Drago Guggiana.h5  not found (perhaps not annotated)\n",
      "D:\\DLC_projects\\Prey_capture\\Prey_capture-Drago Guggiana-2020-03-26\\labeled-data\\12_16_2019_16_31_08_miniscope_MM_191108_a_succ/CollectedData_Drago Guggiana.h5  not found (perhaps not annotated)\n",
      "D:\\DLC_projects\\Prey_capture\\Prey_capture-Drago Guggiana-2020-03-26\\labeled-data\\12_16_2019_16_34_45_miniscope_MM_191108_a_fail/CollectedData_Drago Guggiana.h5  not found (perhaps not annotated)\n",
      "Downloading a ImageNet-pretrained model from http://download.tensorflow.org/models/resnet_v1_50_2016_08_28.tar.gz....\n"
     ]
    },
    {
     "name": "stdout",
     "output_type": "stream",
     "text": [
      "The training dataset is successfully created. Use the function 'train_network' to start training. Happy training!\n"
     ]
    },
    {
     "data": {
      "text/plain": [
       "[(0.95,\n",
       "  1,\n",
       "  (array([ 28, 172, 385, 277, 300, 332,  72, 309,  46,  81, 250,  12,  75,\n",
       "          318, 202, 376,   9, 144, 289, 253, 134,  34, 254, 153, 198, 273,\n",
       "          271, 265, 152, 157, 150, 141,  49, 132, 233, 387,  73, 156,  92,\n",
       "          187,  29,   2, 191, 242, 204, 112, 398,   8, 236,  18, 197,  87,\n",
       "          258, 378, 337, 126, 224, 269,  99, 349, 165, 201,  76, 319, 285,\n",
       "           10,   4, 322, 203,   1, 168, 308, 352, 147, 355, 279, 333, 159,\n",
       "          210, 264, 248, 170, 176, 360, 297, 263, 377, 389,  26,  38, 196,\n",
       "          205, 394, 135, 281,  14, 145, 252, 207, 290, 329,  48, 339, 226,\n",
       "          291, 225, 276, 214, 123, 283, 383, 246, 392, 142, 115,  17,  93,\n",
       "          231, 232, 282, 350, 390, 163, 310, 167,  23,   7,  80,  13,  47,\n",
       "          130, 120,  65, 178, 209, 393, 101, 166, 330, 298, 343, 323, 161,\n",
       "          293, 193, 331,  50, 251, 151, 356,  35, 371,  83, 114, 326,  98,\n",
       "           42, 379,  30, 346,  53, 109, 228, 324, 216, 259, 131, 119, 270,\n",
       "          260, 256, 295, 189, 208, 111, 243, 245, 313, 365, 314, 336, 128,\n",
       "           16, 261,   0, 108,  66, 275, 229, 177,  96,  33, 215,  63,  71,\n",
       "           91,  84, 328, 358, 100, 267, 227, 278,  79, 286, 316,  97, 359,\n",
       "           70, 148, 307, 351, 257, 280,  11, 160, 397, 386, 292, 103, 218,\n",
       "          249, 370,  22, 306, 327, 294,  58, 199, 174,  27, 164, 190, 133,\n",
       "          304, 284,  85, 288,  67,  20, 186, 368, 315, 312,  55,  19, 345,\n",
       "           95, 188, 372, 302,  45, 192, 311, 364,  25, 335, 221, 125, 325,\n",
       "          127,  59, 116,  43, 105, 299, 348,  77,  74, 183, 104, 395,  61,\n",
       "          107, 305, 217, 185,  31, 149, 268, 179, 296, 154, 222, 180,  78,\n",
       "          255, 110,  36, 341, 181, 220, 211, 194,  82, 230, 363, 266,  88,\n",
       "          137, 391, 361, 102, 244, 213, 124,   3, 238, 182,  21,  15,  56,\n",
       "          317,   5, 162, 237, 353, 173, 171, 272, 239, 369,  60, 129, 140,\n",
       "          195, 388, 247, 373, 303,   6, 287,  44, 212, 175,  39,  94, 321,\n",
       "           64, 347,  37, 106, 374, 146, 320,  90,  86, 169,  62,  57, 235,\n",
       "          366,  69, 342, 155,  41, 117,  89, 206, 384, 118, 396, 262, 357,\n",
       "           54, 382, 362, 143,  24, 274, 354, 301, 375, 113, 200, 241,  68,\n",
       "          340, 139]),\n",
       "   array([334, 219, 122, 344,  52, 158, 380, 121, 184, 234,  32,  51, 223,\n",
       "          367, 240, 381, 138,  40, 136, 338])))]"
      ]
     },
     "execution_count": 13,
     "metadata": {},
     "output_type": "execute_result"
    }
   ],
   "source": [
    "# create the training set\n",
    "# also creates the Pose.yaml in the dlc-models/train dataset, which contains the setting for training, i.e. take a look\n",
    "deeplabcut.create_training_dataset(config_path, augmenter_type = 'imgaug')"
   ]
  },
  {
   "cell_type": "code",
   "execution_count": null,
   "metadata": {},
   "outputs": [
    {
     "name": "stderr",
     "output_type": "stream",
     "text": [
      "Config:\n",
      "{'all_joints': [[0], [1], [2]],\n",
      " 'all_joints_names': ['mouseHead', 'mouseBody', 'cricket'],\n",
      " 'batch_size': 1,\n",
      " 'bottomheight': 400,\n",
      " 'crop': True,\n",
      " 'crop_pad': 0,\n",
      " 'cropratio': 0.4,\n",
      " 'dataset': 'training-datasets\\\\iteration-0\\\\UnaugmentedDataSet_Prey_captureMar26\\\\Prey_capture_Drago '\n",
      "            'Guggiana95shuffle1.mat',\n",
      " 'dataset_type': 'imgaug',\n",
      " 'deterministic': False,\n",
      " 'display_iters': 1000,\n",
      " 'fg_fraction': 0.25,\n",
      " 'global_scale': 0.5,\n",
      " 'init_weights': 'D:\\\\ProgramData\\\\Miniconda3\\\\envs\\\\DLC-GPU\\\\lib\\\\site-packages\\\\deeplabcut\\\\pose_estimation_tensorflow\\\\models\\\\pretrained\\\\resnet_v1_50.ckpt',\n",
      " 'intermediate_supervision': False,\n",
      " 'intermediate_supervision_layer': 12,\n",
      " 'leftwidth': 400,\n",
      " 'location_refinement': True,\n",
      " 'locref_huber_loss': True,\n",
      " 'locref_loss_weight': 0.05,\n",
      " 'locref_stdev': 7.2801,\n",
      " 'log_dir': 'log',\n",
      " 'max_input_size': 1500,\n",
      " 'mean_pixel': [123.68, 116.779, 103.939],\n",
      " 'metadataset': 'training-datasets\\\\iteration-0\\\\UnaugmentedDataSet_Prey_captureMar26\\\\Documentation_data-Prey_capture_95shuffle1.pickle',\n",
      " 'min_input_size': 64,\n",
      " 'minsize': 100,\n",
      " 'mirror': False,\n",
      " 'multi_step': [[0.005, 10000],\n",
      "                [0.02, 430000],\n",
      "                [0.002, 730000],\n",
      "                [0.001, 1030000]],\n",
      " 'net_type': 'resnet_50',\n",
      " 'num_joints': 3,\n",
      " 'optimizer': 'sgd',\n",
      " 'pos_dist_thresh': 17,\n",
      " 'project_path': 'D:\\\\DLC_projects\\\\Prey_capture\\\\Prey_capture-Drago '\n",
      "                 'Guggiana-2020-03-26',\n",
      " 'regularize': False,\n",
      " 'rightwidth': 400,\n",
      " 'save_iters': 50000,\n",
      " 'scale_jitter_lo': 0.5,\n",
      " 'scale_jitter_up': 1.25,\n",
      " 'scoremap_dir': 'test',\n",
      " 'shuffle': True,\n",
      " 'snapshot_prefix': 'D:\\\\DLC_projects\\\\Prey_capture\\\\Prey_capture-Drago '\n",
      "                    'Guggiana-2020-03-26\\\\dlc-models\\\\iteration-0\\\\Prey_captureMar26-trainset95shuffle1\\\\train\\\\snapshot',\n",
      " 'stride': 8.0,\n",
      " 'topheight': 400,\n",
      " 'weigh_negatives': False,\n",
      " 'weigh_only_present_joints': False,\n",
      " 'weigh_part_predictions': False,\n",
      " 'weight_decay': 0.0001}\n"
     ]
    },
    {
     "name": "stdout",
     "output_type": "stream",
     "text": [
      "Starting with imgaug pose-dataset loader.\n",
      "Batch Size is 1\n",
      "Initializing ResNet\n",
      "WARNING:tensorflow:From D:\\ProgramData\\Miniconda3\\envs\\DLC-GPU\\lib\\site-packages\\tensorflow\\python\\framework\\op_def_library.py:263: colocate_with (from tensorflow.python.framework.ops) is deprecated and will be removed in a future version.\n",
      "Instructions for updating:\n",
      "Colocations handled automatically by placer.\n",
      "WARNING:tensorflow:From D:\\ProgramData\\Miniconda3\\envs\\DLC-GPU\\lib\\site-packages\\tensorflow\\python\\ops\\losses\\losses_impl.py:209: to_float (from tensorflow.python.ops.math_ops) is deprecated and will be removed in a future version.\n",
      "Instructions for updating:\n",
      "Use tf.cast instead.\n",
      "Loading ImageNet-pretrained resnet_50\n",
      "WARNING:tensorflow:From D:\\ProgramData\\Miniconda3\\envs\\DLC-GPU\\lib\\site-packages\\tensorflow\\python\\training\\saver.py:1266: checkpoint_exists (from tensorflow.python.training.checkpoint_management) is deprecated and will be removed in a future version.\n",
      "Instructions for updating:\n",
      "Use standard file APIs to check for files with this prefix.\n",
      "INFO:tensorflow:Restoring parameters from D:\\ProgramData\\Miniconda3\\envs\\DLC-GPU\\lib\\site-packages\\deeplabcut\\pose_estimation_tensorflow\\models\\pretrained\\resnet_v1_50.ckpt\n",
      "Training parameter:\n",
      "{'stride': 8.0, 'weigh_part_predictions': False, 'weigh_negatives': False, 'fg_fraction': 0.25, 'weigh_only_present_joints': False, 'mean_pixel': [123.68, 116.779, 103.939], 'shuffle': True, 'snapshot_prefix': 'D:\\\\DLC_projects\\\\Prey_capture\\\\Prey_capture-Drago Guggiana-2020-03-26\\\\dlc-models\\\\iteration-0\\\\Prey_captureMar26-trainset95shuffle1\\\\train\\\\snapshot', 'log_dir': 'log', 'global_scale': 0.5, 'location_refinement': True, 'locref_stdev': 7.2801, 'locref_loss_weight': 0.05, 'locref_huber_loss': True, 'optimizer': 'sgd', 'intermediate_supervision': False, 'intermediate_supervision_layer': 12, 'regularize': False, 'weight_decay': 0.0001, 'mirror': False, 'crop_pad': 0, 'scoremap_dir': 'test', 'batch_size': 1, 'dataset_type': 'imgaug', 'deterministic': False, 'crop': True, 'cropratio': 0.4, 'minsize': 100, 'leftwidth': 400, 'rightwidth': 400, 'topheight': 400, 'bottomheight': 400, 'all_joints': [[0], [1], [2]], 'all_joints_names': ['mouseHead', 'mouseBody', 'cricket'], 'dataset': 'training-datasets\\\\iteration-0\\\\UnaugmentedDataSet_Prey_captureMar26\\\\Prey_capture_Drago Guggiana95shuffle1.mat', 'display_iters': 1000, 'init_weights': 'D:\\\\ProgramData\\\\Miniconda3\\\\envs\\\\DLC-GPU\\\\lib\\\\site-packages\\\\deeplabcut\\\\pose_estimation_tensorflow\\\\models\\\\pretrained\\\\resnet_v1_50.ckpt', 'max_input_size': 1500, 'metadataset': 'training-datasets\\\\iteration-0\\\\UnaugmentedDataSet_Prey_captureMar26\\\\Documentation_data-Prey_capture_95shuffle1.pickle', 'min_input_size': 64, 'multi_step': [[0.005, 10000], [0.02, 430000], [0.002, 730000], [0.001, 1030000]], 'net_type': 'resnet_50', 'num_joints': 3, 'pos_dist_thresh': 17, 'project_path': 'D:\\\\DLC_projects\\\\Prey_capture\\\\Prey_capture-Drago Guggiana-2020-03-26', 'save_iters': 50000, 'scale_jitter_lo': 0.5, 'scale_jitter_up': 1.25, 'output_stride': 16, 'deconvolutionstride': 2}\n",
      "Starting training....\n"
     ]
    },
    {
     "name": "stderr",
     "output_type": "stream",
     "text": [
      "iteration: 1000 loss: 0.0142 lr: 0.005\n",
      "iteration: 2000 loss: 0.0079 lr: 0.005\n",
      "iteration: 3000 loss: 0.0072 lr: 0.005\n",
      "iteration: 4000 loss: 0.0066 lr: 0.005\n",
      "iteration: 5000 loss: 0.0062 lr: 0.005\n",
      "iteration: 6000 loss: 0.0059 lr: 0.005\n",
      "iteration: 7000 loss: 0.0057 lr: 0.005\n",
      "iteration: 8000 loss: 0.0056 lr: 0.005\n",
      "iteration: 9000 loss: 0.0051 lr: 0.005\n",
      "iteration: 10000 loss: 0.0052 lr: 0.005\n",
      "iteration: 11000 loss: 0.0074 lr: 0.02\n",
      "iteration: 12000 loss: 0.0064 lr: 0.02\n",
      "iteration: 13000 loss: 0.0058 lr: 0.02\n",
      "iteration: 14000 loss: 0.0053 lr: 0.02\n",
      "iteration: 15000 loss: 0.0050 lr: 0.02\n",
      "iteration: 16000 loss: 0.0048 lr: 0.02\n",
      "iteration: 17000 loss: 0.0046 lr: 0.02\n",
      "iteration: 18000 loss: 0.0044 lr: 0.02\n",
      "iteration: 19000 loss: 0.0043 lr: 0.02\n",
      "iteration: 20000 loss: 0.0042 lr: 0.02\n",
      "iteration: 21000 loss: 0.0039 lr: 0.02\n",
      "iteration: 22000 loss: 0.0038 lr: 0.02\n",
      "iteration: 23000 loss: 0.0037 lr: 0.02\n",
      "iteration: 24000 loss: 0.0035 lr: 0.02\n",
      "iteration: 25000 loss: 0.0035 lr: 0.02\n",
      "iteration: 26000 loss: 0.0035 lr: 0.02\n",
      "iteration: 27000 loss: 0.0035 lr: 0.02\n",
      "iteration: 28000 loss: 0.0032 lr: 0.02\n",
      "iteration: 29000 loss: 0.0032 lr: 0.02\n",
      "iteration: 30000 loss: 0.0031 lr: 0.02\n",
      "iteration: 31000 loss: 0.0030 lr: 0.02\n",
      "iteration: 32000 loss: 0.0029 lr: 0.02\n",
      "iteration: 33000 loss: 0.0029 lr: 0.02\n",
      "iteration: 34000 loss: 0.0028 lr: 0.02\n",
      "iteration: 35000 loss: 0.0028 lr: 0.02\n",
      "iteration: 36000 loss: 0.0027 lr: 0.02\n",
      "iteration: 37000 loss: 0.0026 lr: 0.02\n",
      "iteration: 38000 loss: 0.0027 lr: 0.02\n",
      "iteration: 39000 loss: 0.0027 lr: 0.02\n",
      "iteration: 40000 loss: 0.0026 lr: 0.02\n",
      "iteration: 41000 loss: 0.0026 lr: 0.02\n",
      "iteration: 42000 loss: 0.0026 lr: 0.02\n",
      "iteration: 43000 loss: 0.0025 lr: 0.02\n",
      "iteration: 44000 loss: 0.0024 lr: 0.02\n"
     ]
    }
   ],
   "source": [
    "# train the network\n",
    "deeplabcut.train_network(config_path, max_snapshots_to_keep=5)"
   ]
  },
  {
   "cell_type": "code",
   "execution_count": null,
   "metadata": {},
   "outputs": [],
   "source": [
    "# evaluate the network\n",
    "deeplabcut.evaluate_network(config_path,Shuffles=[1], plotting=True)"
   ]
  }
 ],
 "metadata": {
  "kernelspec": {
   "display_name": "Python 3",
   "language": "python",
   "name": "python3"
  },
  "language_info": {
   "codemirror_mode": {
    "name": "ipython",
    "version": 3
   },
   "file_extension": ".py",
   "mimetype": "text/x-python",
   "name": "python",
   "nbconvert_exporter": "python",
   "pygments_lexer": "ipython3",
   "version": "3.7.7"
  }
 },
 "nbformat": 4,
 "nbformat_minor": 4
}

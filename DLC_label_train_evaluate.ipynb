{
 "cells": [
  {
   "cell_type": "markdown",
   "metadata": {},
   "source": [
    "# This notebook works with the already created project Prey_capture, with an already defined config.yaml"
   ]
  },
  {
   "cell_type": "code",
   "execution_count": 1,
   "metadata": {},
   "outputs": [
    {
     "name": "stderr",
     "output_type": "stream",
     "text": [
      "C:\\Users\\drguggiana\\.conda\\envs\\DLC-GPU\\lib\\site-packages\\tensorflow\\python\\framework\\dtypes.py:526: FutureWarning: Passing (type, 1) or '1type' as a synonym of type is deprecated; in a future version of numpy, it will be understood as (type, (1,)) / '(1,)type'.\n",
      "  _np_qint8 = np.dtype([(\"qint8\", np.int8, 1)])\n",
      "C:\\Users\\drguggiana\\.conda\\envs\\DLC-GPU\\lib\\site-packages\\tensorflow\\python\\framework\\dtypes.py:527: FutureWarning: Passing (type, 1) or '1type' as a synonym of type is deprecated; in a future version of numpy, it will be understood as (type, (1,)) / '(1,)type'.\n",
      "  _np_quint8 = np.dtype([(\"quint8\", np.uint8, 1)])\n",
      "C:\\Users\\drguggiana\\.conda\\envs\\DLC-GPU\\lib\\site-packages\\tensorflow\\python\\framework\\dtypes.py:528: FutureWarning: Passing (type, 1) or '1type' as a synonym of type is deprecated; in a future version of numpy, it will be understood as (type, (1,)) / '(1,)type'.\n",
      "  _np_qint16 = np.dtype([(\"qint16\", np.int16, 1)])\n",
      "C:\\Users\\drguggiana\\.conda\\envs\\DLC-GPU\\lib\\site-packages\\tensorflow\\python\\framework\\dtypes.py:529: FutureWarning: Passing (type, 1) or '1type' as a synonym of type is deprecated; in a future version of numpy, it will be understood as (type, (1,)) / '(1,)type'.\n",
      "  _np_quint16 = np.dtype([(\"quint16\", np.uint16, 1)])\n",
      "C:\\Users\\drguggiana\\.conda\\envs\\DLC-GPU\\lib\\site-packages\\tensorflow\\python\\framework\\dtypes.py:530: FutureWarning: Passing (type, 1) or '1type' as a synonym of type is deprecated; in a future version of numpy, it will be understood as (type, (1,)) / '(1,)type'.\n",
      "  _np_qint32 = np.dtype([(\"qint32\", np.int32, 1)])\n",
      "C:\\Users\\drguggiana\\.conda\\envs\\DLC-GPU\\lib\\site-packages\\tensorflow\\python\\framework\\dtypes.py:535: FutureWarning: Passing (type, 1) or '1type' as a synonym of type is deprecated; in a future version of numpy, it will be understood as (type, (1,)) / '(1,)type'.\n",
      "  np_resource = np.dtype([(\"resource\", np.ubyte, 1)])\n",
      "In C:\\Users\\drguggiana\\.conda\\envs\\DLC-GPU\\lib\\site-packages\\matplotlib\\mpl-data\\stylelib\\_classic_test.mplstyle: \n",
      "The text.latex.preview rcparam was deprecated in Matplotlib 3.3 and will be removed two minor releases later.\n",
      "In C:\\Users\\drguggiana\\.conda\\envs\\DLC-GPU\\lib\\site-packages\\matplotlib\\mpl-data\\stylelib\\_classic_test.mplstyle: \n",
      "The mathtext.fallback_to_cm rcparam was deprecated in Matplotlib 3.3 and will be removed two minor releases later.\n",
      "In C:\\Users\\drguggiana\\.conda\\envs\\DLC-GPU\\lib\\site-packages\\matplotlib\\mpl-data\\stylelib\\_classic_test.mplstyle: Support for setting the 'mathtext.fallback_to_cm' rcParam is deprecated since 3.3 and will be removed two minor releases later; use 'mathtext.fallback : 'cm' instead.\n",
      "In C:\\Users\\drguggiana\\.conda\\envs\\DLC-GPU\\lib\\site-packages\\matplotlib\\mpl-data\\stylelib\\_classic_test.mplstyle: \n",
      "The validate_bool_maybe_none function was deprecated in Matplotlib 3.3 and will be removed two minor releases later.\n",
      "In C:\\Users\\drguggiana\\.conda\\envs\\DLC-GPU\\lib\\site-packages\\matplotlib\\mpl-data\\stylelib\\_classic_test.mplstyle: \n",
      "The savefig.jpeg_quality rcparam was deprecated in Matplotlib 3.3 and will be removed two minor releases later.\n",
      "In C:\\Users\\drguggiana\\.conda\\envs\\DLC-GPU\\lib\\site-packages\\matplotlib\\mpl-data\\stylelib\\_classic_test.mplstyle: \n",
      "The keymap.all_axes rcparam was deprecated in Matplotlib 3.3 and will be removed two minor releases later.\n",
      "In C:\\Users\\drguggiana\\.conda\\envs\\DLC-GPU\\lib\\site-packages\\matplotlib\\mpl-data\\stylelib\\_classic_test.mplstyle: \n",
      "The animation.avconv_path rcparam was deprecated in Matplotlib 3.3 and will be removed two minor releases later.\n",
      "In C:\\Users\\drguggiana\\.conda\\envs\\DLC-GPU\\lib\\site-packages\\matplotlib\\mpl-data\\stylelib\\_classic_test.mplstyle: \n",
      "The animation.avconv_args rcparam was deprecated in Matplotlib 3.3 and will be removed two minor releases later.\n"
     ]
    }
   ],
   "source": [
    "import deeplabcut\n",
    "import paths\n",
    "import importlib\n",
    "import processing_parameters\n",
    "# define the config_path\n",
    "config_path = paths.config_vame_path"
   ]
  },
  {
   "cell_type": "code",
   "execution_count": 7,
   "metadata": {},
   "outputs": [
    {
     "name": "stderr",
     "output_type": "stream",
     "text": [
      "1it [00:00,  9.90it/s]"
     ]
    },
    {
     "name": "stdout",
     "output_type": "stream",
     "text": [
      "Config file read successfully.\n",
      "Extracting frames based on kmeans ...\n",
      "Kmeans-quantization based extracting of frames from 0.0  seconds to 43.47  seconds.\n",
      "Extracting and downsampling... 1304  frames from the video.\n"
     ]
    },
    {
     "name": "stderr",
     "output_type": "stream",
     "text": [
      "1304it [00:14, 91.69it/s] \n"
     ]
    },
    {
     "name": "stdout",
     "output_type": "stream",
     "text": [
      "Kmeans clustering ... (this might take a while)\n"
     ]
    },
    {
     "name": "stderr",
     "output_type": "stream",
     "text": [
      "C:\\Users\\drguggiana\\.conda\\envs\\DLC-GPU\\lib\\site-packages\\sklearn\\cluster\\_kmeans.py:888: UserWarning: MiniBatchKMeans is known to have a memory leak on Windows with MKL, when there are less chunks than available threads. You can prevent it by setting batch_size >= 4096 or by setting the environment variable OMP_NUM_THREADS=1\n",
      "  f\"MiniBatchKMeans is known to have a memory leak on \"\n",
      "14it [00:00, 75.79it/s]"
     ]
    },
    {
     "name": "stdout",
     "output_type": "stream",
     "text": [
      "Extracting frames based on kmeans ...\n",
      "Kmeans-quantization based extracting of frames from 0.0  seconds to 20.2  seconds.\n",
      "Extracting and downsampling... 606  frames from the video.\n"
     ]
    },
    {
     "name": "stderr",
     "output_type": "stream",
     "text": [
      "606it [00:05, 108.35it/s]\n",
      "C:\\Users\\drguggiana\\.conda\\envs\\DLC-GPU\\lib\\site-packages\\sklearn\\cluster\\_kmeans.py:888: UserWarning: MiniBatchKMeans is known to have a memory leak on Windows with MKL, when there are less chunks than available threads. You can prevent it by setting batch_size >= 4096 or by setting the environment variable OMP_NUM_THREADS=1\n",
      "  f\"MiniBatchKMeans is known to have a memory leak on \"\n"
     ]
    },
    {
     "name": "stdout",
     "output_type": "stream",
     "text": [
      "Kmeans clustering ... (this might take a while)\n"
     ]
    },
    {
     "name": "stderr",
     "output_type": "stream",
     "text": [
      "2it [00:00, 17.97it/s]"
     ]
    },
    {
     "name": "stdout",
     "output_type": "stream",
     "text": [
      "Extracting frames based on kmeans ...\n",
      "Kmeans-quantization based extracting of frames from 0.0  seconds to 14.5  seconds.\n",
      "Extracting and downsampling... 435  frames from the video.\n"
     ]
    },
    {
     "name": "stderr",
     "output_type": "stream",
     "text": [
      "435it [00:04, 106.61it/s]\n",
      "C:\\Users\\drguggiana\\.conda\\envs\\DLC-GPU\\lib\\site-packages\\sklearn\\cluster\\_kmeans.py:888: UserWarning: MiniBatchKMeans is known to have a memory leak on Windows with MKL, when there are less chunks than available threads. You can prevent it by setting batch_size >= 4096 or by setting the environment variable OMP_NUM_THREADS=1\n",
      "  f\"MiniBatchKMeans is known to have a memory leak on \"\n"
     ]
    },
    {
     "name": "stdout",
     "output_type": "stream",
     "text": [
      "Kmeans clustering ... (this might take a while)\n"
     ]
    },
    {
     "name": "stderr",
     "output_type": "stream",
     "text": [
      "3it [00:00, 29.68it/s]"
     ]
    },
    {
     "name": "stdout",
     "output_type": "stream",
     "text": [
      "Extracting frames based on kmeans ...\n",
      "Kmeans-quantization based extracting of frames from 0.0  seconds to 49.5  seconds.\n",
      "Extracting and downsampling... 1485  frames from the video.\n"
     ]
    },
    {
     "name": "stderr",
     "output_type": "stream",
     "text": [
      "1485it [00:13, 109.36it/s]\n",
      "C:\\Users\\drguggiana\\.conda\\envs\\DLC-GPU\\lib\\site-packages\\sklearn\\cluster\\_kmeans.py:888: UserWarning: MiniBatchKMeans is known to have a memory leak on Windows with MKL, when there are less chunks than available threads. You can prevent it by setting batch_size >= 4096 or by setting the environment variable OMP_NUM_THREADS=1\n",
      "  f\"MiniBatchKMeans is known to have a memory leak on \"\n"
     ]
    },
    {
     "name": "stdout",
     "output_type": "stream",
     "text": [
      "Kmeans clustering ... (this might take a while)\n"
     ]
    },
    {
     "name": "stderr",
     "output_type": "stream",
     "text": [
      "2it [00:00, 16.81it/s]"
     ]
    },
    {
     "name": "stdout",
     "output_type": "stream",
     "text": [
      "Extracting frames based on kmeans ...\n",
      "Kmeans-quantization based extracting of frames from 0.0  seconds to 43.6  seconds.\n",
      "Extracting and downsampling... 1308  frames from the video.\n"
     ]
    },
    {
     "name": "stderr",
     "output_type": "stream",
     "text": [
      "1308it [00:13, 94.38it/s]\n",
      "C:\\Users\\drguggiana\\.conda\\envs\\DLC-GPU\\lib\\site-packages\\sklearn\\cluster\\_kmeans.py:888: UserWarning: MiniBatchKMeans is known to have a memory leak on Windows with MKL, when there are less chunks than available threads. You can prevent it by setting batch_size >= 4096 or by setting the environment variable OMP_NUM_THREADS=1\n",
      "  f\"MiniBatchKMeans is known to have a memory leak on \"\n"
     ]
    },
    {
     "name": "stdout",
     "output_type": "stream",
     "text": [
      "Kmeans clustering ... (this might take a while)\n"
     ]
    },
    {
     "name": "stderr",
     "output_type": "stream",
     "text": [
      "1it [00:00,  9.49it/s]"
     ]
    },
    {
     "name": "stdout",
     "output_type": "stream",
     "text": [
      "Extracting frames based on kmeans ...\n",
      "Kmeans-quantization based extracting of frames from 0.0  seconds to 23.13  seconds.\n",
      "Extracting and downsampling... 694  frames from the video.\n"
     ]
    },
    {
     "name": "stderr",
     "output_type": "stream",
     "text": [
      "694it [00:08, 85.67it/s]\n",
      "C:\\Users\\drguggiana\\.conda\\envs\\DLC-GPU\\lib\\site-packages\\sklearn\\cluster\\_kmeans.py:888: UserWarning: MiniBatchKMeans is known to have a memory leak on Windows with MKL, when there are less chunks than available threads. You can prevent it by setting batch_size >= 4096 or by setting the environment variable OMP_NUM_THREADS=1\n",
      "  f\"MiniBatchKMeans is known to have a memory leak on \"\n"
     ]
    },
    {
     "name": "stdout",
     "output_type": "stream",
     "text": [
      "Kmeans clustering ... (this might take a while)\n"
     ]
    },
    {
     "name": "stderr",
     "output_type": "stream",
     "text": [
      "2it [00:00, 17.23it/s]"
     ]
    },
    {
     "name": "stdout",
     "output_type": "stream",
     "text": [
      "Extracting frames based on kmeans ...\n",
      "Kmeans-quantization based extracting of frames from 0.0  seconds to 133.2  seconds.\n",
      "Extracting and downsampling... 3996  frames from the video.\n"
     ]
    },
    {
     "name": "stderr",
     "output_type": "stream",
     "text": [
      "3996it [00:44, 89.25it/s] \n",
      "C:\\Users\\drguggiana\\.conda\\envs\\DLC-GPU\\lib\\site-packages\\sklearn\\cluster\\_kmeans.py:888: UserWarning: MiniBatchKMeans is known to have a memory leak on Windows with MKL, when there are less chunks than available threads. You can prevent it by setting batch_size >= 4096 or by setting the environment variable OMP_NUM_THREADS=1\n",
      "  f\"MiniBatchKMeans is known to have a memory leak on \"\n"
     ]
    },
    {
     "name": "stdout",
     "output_type": "stream",
     "text": [
      "Kmeans clustering ... (this might take a while)\n"
     ]
    },
    {
     "name": "stderr",
     "output_type": "stream",
     "text": [
      "1it [00:00,  9.79it/s]"
     ]
    },
    {
     "name": "stdout",
     "output_type": "stream",
     "text": [
      "Extracting frames based on kmeans ...\n",
      "Kmeans-quantization based extracting of frames from 0.0  seconds to 156.83  seconds.\n",
      "Extracting and downsampling... 4705  frames from the video.\n"
     ]
    },
    {
     "name": "stderr",
     "output_type": "stream",
     "text": [
      "4705it [00:53, 88.27it/s] \n",
      "C:\\Users\\drguggiana\\.conda\\envs\\DLC-GPU\\lib\\site-packages\\sklearn\\cluster\\_kmeans.py:888: UserWarning: MiniBatchKMeans is known to have a memory leak on Windows with MKL, when there are less chunks than available threads. You can prevent it by setting batch_size >= 4096 or by setting the environment variable OMP_NUM_THREADS=1\n",
      "  f\"MiniBatchKMeans is known to have a memory leak on \"\n"
     ]
    },
    {
     "name": "stdout",
     "output_type": "stream",
     "text": [
      "Kmeans clustering ... (this might take a while)\n"
     ]
    },
    {
     "name": "stderr",
     "output_type": "stream",
     "text": [
      "2it [00:00, 17.79it/s]"
     ]
    },
    {
     "name": "stdout",
     "output_type": "stream",
     "text": [
      "Extracting frames based on kmeans ...\n",
      "Kmeans-quantization based extracting of frames from 0.0  seconds to 172.83  seconds.\n",
      "Extracting and downsampling... 5185  frames from the video.\n"
     ]
    },
    {
     "name": "stderr",
     "output_type": "stream",
     "text": [
      "5185it [00:58, 88.44it/s] \n",
      "C:\\Users\\drguggiana\\.conda\\envs\\DLC-GPU\\lib\\site-packages\\sklearn\\cluster\\_kmeans.py:888: UserWarning: MiniBatchKMeans is known to have a memory leak on Windows with MKL, when there are less chunks than available threads. You can prevent it by setting batch_size >= 4096 or by setting the environment variable OMP_NUM_THREADS=1\n",
      "  f\"MiniBatchKMeans is known to have a memory leak on \"\n"
     ]
    },
    {
     "name": "stdout",
     "output_type": "stream",
     "text": [
      "Kmeans clustering ... (this might take a while)\n"
     ]
    },
    {
     "name": "stderr",
     "output_type": "stream",
     "text": [
      "2it [00:00, 18.16it/s]"
     ]
    },
    {
     "name": "stdout",
     "output_type": "stream",
     "text": [
      "Extracting frames based on kmeans ...\n",
      "Kmeans-quantization based extracting of frames from 0.0  seconds to 21.27  seconds.\n",
      "Extracting and downsampling... 638  frames from the video.\n"
     ]
    },
    {
     "name": "stderr",
     "output_type": "stream",
     "text": [
      "638it [00:07, 88.29it/s] \n",
      "C:\\Users\\drguggiana\\.conda\\envs\\DLC-GPU\\lib\\site-packages\\sklearn\\cluster\\_kmeans.py:888: UserWarning: MiniBatchKMeans is known to have a memory leak on Windows with MKL, when there are less chunks than available threads. You can prevent it by setting batch_size >= 4096 or by setting the environment variable OMP_NUM_THREADS=1\n",
      "  f\"MiniBatchKMeans is known to have a memory leak on \"\n"
     ]
    },
    {
     "name": "stdout",
     "output_type": "stream",
     "text": [
      "Kmeans clustering ... (this might take a while)\n"
     ]
    },
    {
     "name": "stderr",
     "output_type": "stream",
     "text": [
      "2it [00:00, 15.29it/s]"
     ]
    },
    {
     "name": "stdout",
     "output_type": "stream",
     "text": [
      "Extracting frames based on kmeans ...\n",
      "Kmeans-quantization based extracting of frames from 0.0  seconds to 25.77  seconds.\n",
      "Extracting and downsampling... 773  frames from the video.\n"
     ]
    },
    {
     "name": "stderr",
     "output_type": "stream",
     "text": [
      "773it [00:08, 86.70it/s]\n",
      "C:\\Users\\drguggiana\\.conda\\envs\\DLC-GPU\\lib\\site-packages\\sklearn\\cluster\\_kmeans.py:888: UserWarning: MiniBatchKMeans is known to have a memory leak on Windows with MKL, when there are less chunks than available threads. You can prevent it by setting batch_size >= 4096 or by setting the environment variable OMP_NUM_THREADS=1\n",
      "  f\"MiniBatchKMeans is known to have a memory leak on \"\n"
     ]
    },
    {
     "name": "stdout",
     "output_type": "stream",
     "text": [
      "Kmeans clustering ... (this might take a while)\n"
     ]
    },
    {
     "name": "stderr",
     "output_type": "stream",
     "text": [
      "2it [00:00, 17.22it/s]"
     ]
    },
    {
     "name": "stdout",
     "output_type": "stream",
     "text": [
      "Extracting frames based on kmeans ...\n",
      "Kmeans-quantization based extracting of frames from 0.0  seconds to 20.8  seconds.\n",
      "Extracting and downsampling... 624  frames from the video.\n"
     ]
    },
    {
     "name": "stderr",
     "output_type": "stream",
     "text": [
      "624it [00:07, 86.69it/s]\n",
      "C:\\Users\\drguggiana\\.conda\\envs\\DLC-GPU\\lib\\site-packages\\sklearn\\cluster\\_kmeans.py:888: UserWarning: MiniBatchKMeans is known to have a memory leak on Windows with MKL, when there are less chunks than available threads. You can prevent it by setting batch_size >= 4096 or by setting the environment variable OMP_NUM_THREADS=1\n",
      "  f\"MiniBatchKMeans is known to have a memory leak on \"\n"
     ]
    },
    {
     "name": "stdout",
     "output_type": "stream",
     "text": [
      "Kmeans clustering ... (this might take a while)\n"
     ]
    },
    {
     "name": "stderr",
     "output_type": "stream",
     "text": [
      "2it [00:00, 14.97it/s]"
     ]
    },
    {
     "name": "stdout",
     "output_type": "stream",
     "text": [
      "Extracting frames based on kmeans ...\n",
      "Kmeans-quantization based extracting of frames from 0.0  seconds to 18.27  seconds.\n",
      "Extracting and downsampling... 548  frames from the video.\n"
     ]
    },
    {
     "name": "stderr",
     "output_type": "stream",
     "text": [
      "548it [00:06, 86.73it/s]\n",
      "C:\\Users\\drguggiana\\.conda\\envs\\DLC-GPU\\lib\\site-packages\\sklearn\\cluster\\_kmeans.py:888: UserWarning: MiniBatchKMeans is known to have a memory leak on Windows with MKL, when there are less chunks than available threads. You can prevent it by setting batch_size >= 4096 or by setting the environment variable OMP_NUM_THREADS=1\n",
      "  f\"MiniBatchKMeans is known to have a memory leak on \"\n"
     ]
    },
    {
     "name": "stdout",
     "output_type": "stream",
     "text": [
      "Kmeans clustering ... (this might take a while)\n"
     ]
    },
    {
     "name": "stderr",
     "output_type": "stream",
     "text": [
      "1it [00:00,  8.60it/s]"
     ]
    },
    {
     "name": "stdout",
     "output_type": "stream",
     "text": [
      "Extracting frames based on kmeans ...\n",
      "Kmeans-quantization based extracting of frames from 0.0  seconds to 23.27  seconds.\n",
      "Extracting and downsampling... 698  frames from the video.\n"
     ]
    },
    {
     "name": "stderr",
     "output_type": "stream",
     "text": [
      "698it [00:07, 88.04it/s] \n",
      "C:\\Users\\drguggiana\\.conda\\envs\\DLC-GPU\\lib\\site-packages\\sklearn\\cluster\\_kmeans.py:888: UserWarning: MiniBatchKMeans is known to have a memory leak on Windows with MKL, when there are less chunks than available threads. You can prevent it by setting batch_size >= 4096 or by setting the environment variable OMP_NUM_THREADS=1\n",
      "  f\"MiniBatchKMeans is known to have a memory leak on \"\n"
     ]
    },
    {
     "name": "stdout",
     "output_type": "stream",
     "text": [
      "Kmeans clustering ... (this might take a while)\n"
     ]
    },
    {
     "name": "stderr",
     "output_type": "stream",
     "text": [
      "1it [00:00,  9.63it/s]"
     ]
    },
    {
     "name": "stdout",
     "output_type": "stream",
     "text": [
      "Extracting frames based on kmeans ...\n",
      "Kmeans-quantization based extracting of frames from 0.0  seconds to 85.07  seconds.\n",
      "Extracting and downsampling... 2552  frames from the video.\n"
     ]
    },
    {
     "name": "stderr",
     "output_type": "stream",
     "text": [
      "2552it [00:28, 88.09it/s] \n",
      "C:\\Users\\drguggiana\\.conda\\envs\\DLC-GPU\\lib\\site-packages\\sklearn\\cluster\\_kmeans.py:888: UserWarning: MiniBatchKMeans is known to have a memory leak on Windows with MKL, when there are less chunks than available threads. You can prevent it by setting batch_size >= 4096 or by setting the environment variable OMP_NUM_THREADS=1\n",
      "  f\"MiniBatchKMeans is known to have a memory leak on \"\n"
     ]
    },
    {
     "name": "stdout",
     "output_type": "stream",
     "text": [
      "Kmeans clustering ... (this might take a while)\n"
     ]
    },
    {
     "name": "stderr",
     "output_type": "stream",
     "text": [
      "2it [00:00, 17.63it/s]"
     ]
    },
    {
     "name": "stdout",
     "output_type": "stream",
     "text": [
      "Extracting frames based on kmeans ...\n",
      "Kmeans-quantization based extracting of frames from 0.0  seconds to 33.03  seconds.\n",
      "Extracting and downsampling... 991  frames from the video.\n"
     ]
    },
    {
     "name": "stderr",
     "output_type": "stream",
     "text": [
      "991it [00:11, 87.45it/s] \n",
      "C:\\Users\\drguggiana\\.conda\\envs\\DLC-GPU\\lib\\site-packages\\sklearn\\cluster\\_kmeans.py:888: UserWarning: MiniBatchKMeans is known to have a memory leak on Windows with MKL, when there are less chunks than available threads. You can prevent it by setting batch_size >= 4096 or by setting the environment variable OMP_NUM_THREADS=1\n",
      "  f\"MiniBatchKMeans is known to have a memory leak on \"\n"
     ]
    },
    {
     "name": "stdout",
     "output_type": "stream",
     "text": [
      "Kmeans clustering ... (this might take a while)\n"
     ]
    },
    {
     "name": "stderr",
     "output_type": "stream",
     "text": [
      "2it [00:00, 15.66it/s]"
     ]
    },
    {
     "name": "stdout",
     "output_type": "stream",
     "text": [
      "Extracting frames based on kmeans ...\n",
      "Kmeans-quantization based extracting of frames from 0.0  seconds to 37.63  seconds.\n",
      "Extracting and downsampling... 1129  frames from the video.\n"
     ]
    },
    {
     "name": "stderr",
     "output_type": "stream",
     "text": [
      "1129it [00:12, 88.19it/s]\n",
      "C:\\Users\\drguggiana\\.conda\\envs\\DLC-GPU\\lib\\site-packages\\sklearn\\cluster\\_kmeans.py:888: UserWarning: MiniBatchKMeans is known to have a memory leak on Windows with MKL, when there are less chunks than available threads. You can prevent it by setting batch_size >= 4096 or by setting the environment variable OMP_NUM_THREADS=1\n",
      "  f\"MiniBatchKMeans is known to have a memory leak on \"\n"
     ]
    },
    {
     "name": "stdout",
     "output_type": "stream",
     "text": [
      "Kmeans clustering ... (this might take a while)\n"
     ]
    },
    {
     "name": "stderr",
     "output_type": "stream",
     "text": [
      "3it [00:00, 25.58it/s]"
     ]
    },
    {
     "name": "stdout",
     "output_type": "stream",
     "text": [
      "Extracting frames based on kmeans ...\n",
      "Kmeans-quantization based extracting of frames from 0.0  seconds to 27.5  seconds.\n",
      "Extracting and downsampling... 825  frames from the video.\n"
     ]
    },
    {
     "name": "stderr",
     "output_type": "stream",
     "text": [
      "825it [00:09, 87.65it/s]\n",
      "C:\\Users\\drguggiana\\.conda\\envs\\DLC-GPU\\lib\\site-packages\\sklearn\\cluster\\_kmeans.py:888: UserWarning: MiniBatchKMeans is known to have a memory leak on Windows with MKL, when there are less chunks than available threads. You can prevent it by setting batch_size >= 4096 or by setting the environment variable OMP_NUM_THREADS=1\n",
      "  f\"MiniBatchKMeans is known to have a memory leak on \"\n"
     ]
    },
    {
     "name": "stdout",
     "output_type": "stream",
     "text": [
      "Kmeans clustering ... (this might take a while)\n"
     ]
    },
    {
     "name": "stderr",
     "output_type": "stream",
     "text": [
      "2it [00:00, 18.75it/s]"
     ]
    },
    {
     "name": "stdout",
     "output_type": "stream",
     "text": [
      "Extracting frames based on kmeans ...\n",
      "Kmeans-quantization based extracting of frames from 0.0  seconds to 28.0  seconds.\n",
      "Extracting and downsampling... 840  frames from the video.\n"
     ]
    },
    {
     "name": "stderr",
     "output_type": "stream",
     "text": [
      "840it [00:09, 87.67it/s] \n",
      "C:\\Users\\drguggiana\\.conda\\envs\\DLC-GPU\\lib\\site-packages\\sklearn\\cluster\\_kmeans.py:888: UserWarning: MiniBatchKMeans is known to have a memory leak on Windows with MKL, when there are less chunks than available threads. You can prevent it by setting batch_size >= 4096 or by setting the environment variable OMP_NUM_THREADS=1\n",
      "  f\"MiniBatchKMeans is known to have a memory leak on \"\n"
     ]
    },
    {
     "name": "stdout",
     "output_type": "stream",
     "text": [
      "Kmeans clustering ... (this might take a while)\n"
     ]
    },
    {
     "name": "stderr",
     "output_type": "stream",
     "text": [
      "10it [00:00, 50.71it/s]"
     ]
    },
    {
     "name": "stdout",
     "output_type": "stream",
     "text": [
      "Extracting frames based on kmeans ...\n",
      "Kmeans-quantization based extracting of frames from 0.0  seconds to 30.67  seconds.\n",
      "Extracting and downsampling... 920  frames from the video.\n"
     ]
    },
    {
     "name": "stderr",
     "output_type": "stream",
     "text": [
      "920it [00:10, 89.70it/s]\n",
      "C:\\Users\\drguggiana\\.conda\\envs\\DLC-GPU\\lib\\site-packages\\sklearn\\cluster\\_kmeans.py:888: UserWarning: MiniBatchKMeans is known to have a memory leak on Windows with MKL, when there are less chunks than available threads. You can prevent it by setting batch_size >= 4096 or by setting the environment variable OMP_NUM_THREADS=1\n",
      "  f\"MiniBatchKMeans is known to have a memory leak on \"\n"
     ]
    },
    {
     "name": "stdout",
     "output_type": "stream",
     "text": [
      "Kmeans clustering ... (this might take a while)\n"
     ]
    },
    {
     "name": "stderr",
     "output_type": "stream",
     "text": [
      "2it [00:00, 19.45it/s]"
     ]
    },
    {
     "name": "stdout",
     "output_type": "stream",
     "text": [
      "Extracting frames based on kmeans ...\n",
      "Kmeans-quantization based extracting of frames from 0.0  seconds to 29.2  seconds.\n",
      "Extracting and downsampling... 876  frames from the video.\n"
     ]
    },
    {
     "name": "stderr",
     "output_type": "stream",
     "text": [
      "876it [00:09, 87.82it/s] \n",
      "C:\\Users\\drguggiana\\.conda\\envs\\DLC-GPU\\lib\\site-packages\\sklearn\\cluster\\_kmeans.py:888: UserWarning: MiniBatchKMeans is known to have a memory leak on Windows with MKL, when there are less chunks than available threads. You can prevent it by setting batch_size >= 4096 or by setting the environment variable OMP_NUM_THREADS=1\n",
      "  f\"MiniBatchKMeans is known to have a memory leak on \"\n"
     ]
    },
    {
     "name": "stdout",
     "output_type": "stream",
     "text": [
      "Kmeans clustering ... (this might take a while)\n"
     ]
    },
    {
     "name": "stderr",
     "output_type": "stream",
     "text": [
      "3it [00:00, 27.15it/s]"
     ]
    },
    {
     "name": "stdout",
     "output_type": "stream",
     "text": [
      "Extracting frames based on kmeans ...\n",
      "Kmeans-quantization based extracting of frames from 0.0  seconds to 18.7  seconds.\n",
      "Extracting and downsampling... 561  frames from the video.\n"
     ]
    },
    {
     "name": "stderr",
     "output_type": "stream",
     "text": [
      "561it [00:06, 87.51it/s]\n",
      "C:\\Users\\drguggiana\\.conda\\envs\\DLC-GPU\\lib\\site-packages\\sklearn\\cluster\\_kmeans.py:888: UserWarning: MiniBatchKMeans is known to have a memory leak on Windows with MKL, when there are less chunks than available threads. You can prevent it by setting batch_size >= 4096 or by setting the environment variable OMP_NUM_THREADS=1\n",
      "  f\"MiniBatchKMeans is known to have a memory leak on \"\n"
     ]
    },
    {
     "name": "stdout",
     "output_type": "stream",
     "text": [
      "Kmeans clustering ... (this might take a while)\n"
     ]
    },
    {
     "name": "stderr",
     "output_type": "stream",
     "text": [
      "2it [00:00, 18.67it/s]"
     ]
    },
    {
     "name": "stdout",
     "output_type": "stream",
     "text": [
      "Extracting frames based on kmeans ...\n",
      "Kmeans-quantization based extracting of frames from 0.0  seconds to 19.47  seconds.\n",
      "Extracting and downsampling... 584  frames from the video.\n"
     ]
    },
    {
     "name": "stderr",
     "output_type": "stream",
     "text": [
      "584it [00:06, 87.40it/s]\n",
      "C:\\Users\\drguggiana\\.conda\\envs\\DLC-GPU\\lib\\site-packages\\sklearn\\cluster\\_kmeans.py:888: UserWarning: MiniBatchKMeans is known to have a memory leak on Windows with MKL, when there are less chunks than available threads. You can prevent it by setting batch_size >= 4096 or by setting the environment variable OMP_NUM_THREADS=1\n",
      "  f\"MiniBatchKMeans is known to have a memory leak on \"\n"
     ]
    },
    {
     "name": "stdout",
     "output_type": "stream",
     "text": [
      "Kmeans clustering ... (this might take a while)\n"
     ]
    },
    {
     "name": "stderr",
     "output_type": "stream",
     "text": [
      "4it [00:00, 39.31it/s]"
     ]
    },
    {
     "name": "stdout",
     "output_type": "stream",
     "text": [
      "Extracting frames based on kmeans ...\n",
      "Kmeans-quantization based extracting of frames from 0.0  seconds to 166.7  seconds.\n",
      "Extracting and downsampling... 5001  frames from the video.\n"
     ]
    },
    {
     "name": "stderr",
     "output_type": "stream",
     "text": [
      "5001it [00:46, 108.22it/s]\n",
      "C:\\Users\\drguggiana\\.conda\\envs\\DLC-GPU\\lib\\site-packages\\sklearn\\cluster\\_kmeans.py:888: UserWarning: MiniBatchKMeans is known to have a memory leak on Windows with MKL, when there are less chunks than available threads. You can prevent it by setting batch_size >= 4096 or by setting the environment variable OMP_NUM_THREADS=1\n",
      "  f\"MiniBatchKMeans is known to have a memory leak on \"\n"
     ]
    },
    {
     "name": "stdout",
     "output_type": "stream",
     "text": [
      "Kmeans clustering ... (this might take a while)\n"
     ]
    },
    {
     "name": "stderr",
     "output_type": "stream",
     "text": [
      "3it [00:00, 27.76it/s]"
     ]
    },
    {
     "name": "stdout",
     "output_type": "stream",
     "text": [
      "Extracting frames based on kmeans ...\n",
      "Kmeans-quantization based extracting of frames from 0.0  seconds to 169.93  seconds.\n",
      "Extracting and downsampling... 5098  frames from the video.\n"
     ]
    },
    {
     "name": "stderr",
     "output_type": "stream",
     "text": [
      "5098it [00:55, 92.40it/s] \n",
      "C:\\Users\\drguggiana\\.conda\\envs\\DLC-GPU\\lib\\site-packages\\sklearn\\cluster\\_kmeans.py:888: UserWarning: MiniBatchKMeans is known to have a memory leak on Windows with MKL, when there are less chunks than available threads. You can prevent it by setting batch_size >= 4096 or by setting the environment variable OMP_NUM_THREADS=1\n",
      "  f\"MiniBatchKMeans is known to have a memory leak on \"\n"
     ]
    },
    {
     "name": "stdout",
     "output_type": "stream",
     "text": [
      "Kmeans clustering ... (this might take a while)\n"
     ]
    },
    {
     "name": "stderr",
     "output_type": "stream",
     "text": [
      "3it [00:00, 28.07it/s]"
     ]
    },
    {
     "name": "stdout",
     "output_type": "stream",
     "text": [
      "Extracting frames based on kmeans ...\n",
      "Kmeans-quantization based extracting of frames from 0.0  seconds to 167.37  seconds.\n",
      "Extracting and downsampling... 5021  frames from the video.\n"
     ]
    },
    {
     "name": "stderr",
     "output_type": "stream",
     "text": [
      "5021it [00:50, 98.50it/s] \n",
      "C:\\Users\\drguggiana\\.conda\\envs\\DLC-GPU\\lib\\site-packages\\sklearn\\cluster\\_kmeans.py:888: UserWarning: MiniBatchKMeans is known to have a memory leak on Windows with MKL, when there are less chunks than available threads. You can prevent it by setting batch_size >= 4096 or by setting the environment variable OMP_NUM_THREADS=1\n",
      "  f\"MiniBatchKMeans is known to have a memory leak on \"\n"
     ]
    },
    {
     "name": "stdout",
     "output_type": "stream",
     "text": [
      "Kmeans clustering ... (this might take a while)\n"
     ]
    },
    {
     "name": "stderr",
     "output_type": "stream",
     "text": [
      "4it [00:00, 36.95it/s]"
     ]
    },
    {
     "name": "stdout",
     "output_type": "stream",
     "text": [
      "Extracting frames based on kmeans ...\n",
      "Kmeans-quantization based extracting of frames from 0.0  seconds to 165.87  seconds.\n",
      "Extracting and downsampling... 4976  frames from the video.\n"
     ]
    },
    {
     "name": "stderr",
     "output_type": "stream",
     "text": [
      "4976it [00:46, 107.02it/s]\n",
      "C:\\Users\\drguggiana\\.conda\\envs\\DLC-GPU\\lib\\site-packages\\sklearn\\cluster\\_kmeans.py:888: UserWarning: MiniBatchKMeans is known to have a memory leak on Windows with MKL, when there are less chunks than available threads. You can prevent it by setting batch_size >= 4096 or by setting the environment variable OMP_NUM_THREADS=1\n",
      "  f\"MiniBatchKMeans is known to have a memory leak on \"\n"
     ]
    },
    {
     "name": "stdout",
     "output_type": "stream",
     "text": [
      "Kmeans clustering ... (this might take a while)\n"
     ]
    },
    {
     "name": "stderr",
     "output_type": "stream",
     "text": [
      "1it [00:00,  9.96it/s]"
     ]
    },
    {
     "name": "stdout",
     "output_type": "stream",
     "text": [
      "Extracting frames based on kmeans ...\n",
      "Kmeans-quantization based extracting of frames from 0.0  seconds to 22.3  seconds.\n",
      "Extracting and downsampling... 669  frames from the video.\n"
     ]
    },
    {
     "name": "stderr",
     "output_type": "stream",
     "text": [
      "669it [00:06, 103.31it/s]\n",
      "C:\\Users\\drguggiana\\.conda\\envs\\DLC-GPU\\lib\\site-packages\\sklearn\\cluster\\_kmeans.py:888: UserWarning: MiniBatchKMeans is known to have a memory leak on Windows with MKL, when there are less chunks than available threads. You can prevent it by setting batch_size >= 4096 or by setting the environment variable OMP_NUM_THREADS=1\n",
      "  f\"MiniBatchKMeans is known to have a memory leak on \"\n"
     ]
    },
    {
     "name": "stdout",
     "output_type": "stream",
     "text": [
      "Kmeans clustering ... (this might take a while)\n"
     ]
    },
    {
     "name": "stderr",
     "output_type": "stream",
     "text": [
      "3it [00:00, 27.63it/s]"
     ]
    },
    {
     "name": "stdout",
     "output_type": "stream",
     "text": [
      "Extracting frames based on kmeans ...\n",
      "Kmeans-quantization based extracting of frames from 0.0  seconds to 36.23  seconds.\n",
      "Extracting and downsampling... 1087  frames from the video.\n"
     ]
    },
    {
     "name": "stderr",
     "output_type": "stream",
     "text": [
      "1087it [00:10, 103.42it/s]\n",
      "C:\\Users\\drguggiana\\.conda\\envs\\DLC-GPU\\lib\\site-packages\\sklearn\\cluster\\_kmeans.py:888: UserWarning: MiniBatchKMeans is known to have a memory leak on Windows with MKL, when there are less chunks than available threads. You can prevent it by setting batch_size >= 4096 or by setting the environment variable OMP_NUM_THREADS=1\n",
      "  f\"MiniBatchKMeans is known to have a memory leak on \"\n"
     ]
    },
    {
     "name": "stdout",
     "output_type": "stream",
     "text": [
      "Kmeans clustering ... (this might take a while)\n"
     ]
    },
    {
     "name": "stderr",
     "output_type": "stream",
     "text": [
      "2it [00:00, 19.45it/s]"
     ]
    },
    {
     "name": "stdout",
     "output_type": "stream",
     "text": [
      "Extracting frames based on kmeans ...\n",
      "Kmeans-quantization based extracting of frames from 0.0  seconds to 37.9  seconds.\n",
      "Extracting and downsampling... 1137  frames from the video.\n"
     ]
    },
    {
     "name": "stderr",
     "output_type": "stream",
     "text": [
      "1137it [00:12, 89.10it/s]\n",
      "C:\\Users\\drguggiana\\.conda\\envs\\DLC-GPU\\lib\\site-packages\\sklearn\\cluster\\_kmeans.py:888: UserWarning: MiniBatchKMeans is known to have a memory leak on Windows with MKL, when there are less chunks than available threads. You can prevent it by setting batch_size >= 4096 or by setting the environment variable OMP_NUM_THREADS=1\n",
      "  f\"MiniBatchKMeans is known to have a memory leak on \"\n"
     ]
    },
    {
     "name": "stdout",
     "output_type": "stream",
     "text": [
      "Kmeans clustering ... (this might take a while)\n",
      "Frames were successfully extracted, for the videos of interest.\n",
      "\n",
      "You can now label the frames using the function 'label_frames' (if you extracted enough frames for all videos).\n"
     ]
    }
   ],
   "source": [
    "# extract frames from the videos\n",
    "# will go through all of the videos on the list, so if many videos, it might take a while\n",
    "deeplabcut.extract_frames(config_path, mode='automatic', algo='kmeans', crop = False, userfeedback=False)"
   ]
  },
  {
   "cell_type": "code",
   "execution_count": null,
   "metadata": {},
   "outputs": [
    {
     "name": "stdout",
     "output_type": "stream",
     "text": [
      "You can now check the labels, using 'check_labels' before proceeding. Then, you can use the function 'create_training_dataset' to create the training dataset.\n"
     ]
    }
   ],
   "source": [
    "# label frames\n",
    "# generates folders in the labeled-data folder with the video name\n",
    "deeplabcut.label_frames(config_path)"
   ]
  },
  {
   "cell_type": "code",
   "execution_count": 3,
   "metadata": {},
   "outputs": [
    {
     "name": "stdout",
     "output_type": "stream",
     "text": [
      "Creating images with labels by Drago Guggiana.\n"
     ]
    },
    {
     "ename": "ValueError",
     "evalue": "too many values to unpack (expected 2)",
     "output_type": "error",
     "traceback": [
      "\u001b[1;31m---------------------------------------------------------------------------\u001b[0m",
      "\u001b[1;31mValueError\u001b[0m                                Traceback (most recent call last)",
      "\u001b[1;32m<ipython-input-3-62199b967230>\u001b[0m in \u001b[0;36m<module>\u001b[1;34m\u001b[0m\n\u001b[0;32m      1\u001b[0m \u001b[1;31m# check the labels\u001b[0m\u001b[1;33m\u001b[0m\u001b[1;33m\u001b[0m\u001b[1;33m\u001b[0m\u001b[0m\n\u001b[0;32m      2\u001b[0m \u001b[1;31m# generates folders in the labeled-data folder with the video name but the actual labels printed on the pics\u001b[0m\u001b[1;33m\u001b[0m\u001b[1;33m\u001b[0m\u001b[1;33m\u001b[0m\u001b[0m\n\u001b[1;32m----> 3\u001b[1;33m \u001b[0mdeeplabcut\u001b[0m\u001b[1;33m.\u001b[0m\u001b[0mcheck_labels\u001b[0m\u001b[1;33m(\u001b[0m\u001b[0mconfig_path\u001b[0m\u001b[1;33m)\u001b[0m\u001b[1;33m\u001b[0m\u001b[1;33m\u001b[0m\u001b[0m\n\u001b[0m",
      "\u001b[1;32m~\\.conda\\envs\\DLC-GPU\\lib\\site-packages\\deeplabcut\\generate_training_dataset\\trainingsetmanipulation.py\u001b[0m in \u001b[0;36mcheck_labels\u001b[1;34m(config, Labels, scale, dpi, draw_skeleton, visualizeindividuals)\u001b[0m\n\u001b[0;32m    478\u001b[0m                 \u001b[0mkeypoint\u001b[0m\u001b[1;33m=\u001b[0m\u001b[0mLabels\u001b[0m\u001b[1;33m[\u001b[0m\u001b[1;36m0\u001b[0m\u001b[1;33m]\u001b[0m\u001b[1;33m,\u001b[0m\u001b[1;33m\u001b[0m\u001b[1;33m\u001b[0m\u001b[0m\n\u001b[0;32m    479\u001b[0m                 \u001b[0mdraw_skeleton\u001b[0m\u001b[1;33m=\u001b[0m\u001b[0mdraw_skeleton\u001b[0m\u001b[1;33m,\u001b[0m\u001b[1;33m\u001b[0m\u001b[1;33m\u001b[0m\u001b[0m\n\u001b[1;32m--> 480\u001b[1;33m                 \u001b[0mcolor_by\u001b[0m\u001b[1;33m=\u001b[0m\u001b[0mcolor_by\u001b[0m\u001b[1;33m,\u001b[0m\u001b[1;33m\u001b[0m\u001b[1;33m\u001b[0m\u001b[0m\n\u001b[0m\u001b[0;32m    481\u001b[0m             )\n\u001b[0;32m    482\u001b[0m         \u001b[1;32mexcept\u001b[0m \u001b[0mFileNotFoundError\u001b[0m\u001b[1;33m:\u001b[0m\u001b[1;33m\u001b[0m\u001b[1;33m\u001b[0m\u001b[0m\n",
      "\u001b[1;32m~\\.conda\\envs\\DLC-GPU\\lib\\site-packages\\deeplabcut\\utils\\visualization.py\u001b[0m in \u001b[0;36mmake_labeled_images_from_dataframe\u001b[1;34m(df, cfg, destfolder, scale, dpi, keypoint, draw_skeleton, color_by)\u001b[0m\n\u001b[0;32m    260\u001b[0m     \u001b[0mbones\u001b[0m \u001b[1;33m=\u001b[0m \u001b[1;33m[\u001b[0m\u001b[1;33m]\u001b[0m\u001b[1;33m\u001b[0m\u001b[1;33m\u001b[0m\u001b[0m\n\u001b[0;32m    261\u001b[0m     \u001b[1;32mif\u001b[0m \u001b[0mdraw_skeleton\u001b[0m\u001b[1;33m:\u001b[0m\u001b[1;33m\u001b[0m\u001b[1;33m\u001b[0m\u001b[0m\n\u001b[1;32m--> 262\u001b[1;33m         \u001b[1;32mfor\u001b[0m \u001b[0mbp1\u001b[0m\u001b[1;33m,\u001b[0m \u001b[0mbp2\u001b[0m \u001b[1;32min\u001b[0m \u001b[0mcfg\u001b[0m\u001b[1;33m[\u001b[0m\u001b[1;34m\"skeleton\"\u001b[0m\u001b[1;33m]\u001b[0m\u001b[1;33m:\u001b[0m\u001b[1;33m\u001b[0m\u001b[1;33m\u001b[0m\u001b[0m\n\u001b[0m\u001b[0;32m    263\u001b[0m             \u001b[0mmatch1\u001b[0m\u001b[1;33m,\u001b[0m \u001b[0mmatch2\u001b[0m \u001b[1;33m=\u001b[0m \u001b[1;33m[\u001b[0m\u001b[1;33m]\u001b[0m\u001b[1;33m,\u001b[0m \u001b[1;33m[\u001b[0m\u001b[1;33m]\u001b[0m\u001b[1;33m\u001b[0m\u001b[1;33m\u001b[0m\u001b[0m\n\u001b[0;32m    264\u001b[0m             \u001b[1;32mfor\u001b[0m \u001b[0mj\u001b[0m\u001b[1;33m,\u001b[0m \u001b[0mbp\u001b[0m \u001b[1;32min\u001b[0m \u001b[0menumerate\u001b[0m\u001b[1;33m(\u001b[0m\u001b[0mbodyparts\u001b[0m\u001b[1;33m)\u001b[0m\u001b[1;33m:\u001b[0m\u001b[1;33m\u001b[0m\u001b[1;33m\u001b[0m\u001b[0m\n",
      "\u001b[1;31mValueError\u001b[0m: too many values to unpack (expected 2)"
     ]
    }
   ],
   "source": [
    "# check the labels\n",
    "# generates folders in the labeled-data folder with the video name but the actual labels printed on the pics\n",
    "deeplabcut.check_labels(config_path)"
   ]
  },
  {
   "cell_type": "code",
   "execution_count": 4,
   "metadata": {},
   "outputs": [
    {
     "name": "stdout",
     "output_type": "stream",
     "text": [
      "Downloading a ImageNet-pretrained model from http://download.tensorflow.org/models/resnet_v1_50_2016_08_28.tar.gz....\n",
      "The training dataset is successfully created. Use the function 'train_network' to start training. Happy training!\n"
     ]
    },
    {
     "data": {
      "text/plain": [
       "[(0.95,\n",
       "  1,\n",
       "  (array([523, 322, 471, 106, 357,   9, 453, 577, 464, 182, 312, 482,  93,\n",
       "           30,  62, 384,  41, 490, 222, 578, 459,  71, 484, 529, 349, 377,\n",
       "          519,  32,  77, 215, 423, 421, 401, 579, 310,   1, 447, 200, 151,\n",
       "          390, 190, 414, 494, 286,  60, 122, 321,  59,  81, 347, 187, 320,\n",
       "          177, 428, 397, 475, 444, 395,   5, 446, 269, 261,  28, 139, 545,\n",
       "           83, 375, 101, 294, 571, 386, 144,  97, 344, 562, 345, 145, 465,\n",
       "          365, 535, 429,  63, 120, 138, 354, 525, 109, 102, 427, 289, 420,\n",
       "          360, 593,  99, 536, 573, 198,  38, 483, 560,  23, 291, 135, 596,\n",
       "          227,   4, 280, 543, 248,  78, 530, 118, 296, 331, 495, 242, 411,\n",
       "          594, 116, 183, 533, 165, 422, 170, 141, 249,  36, 486, 431,  87,\n",
       "          112,  51, 326, 224, 127, 498, 346, 175, 341, 207, 246, 430,   3,\n",
       "          328, 531, 279, 239, 124, 292, 461, 445, 350, 443, 576, 103, 324,\n",
       "          367,  94, 233, 595,  19, 507, 188, 259, 366, 117, 437,  21, 550,\n",
       "          169, 285, 534, 409,   2,  31, 487, 197, 537, 132, 425, 220, 457,\n",
       "          340,  73,  67, 561,  52, 574, 400, 105, 547, 226,  40, 565, 179,\n",
       "          154, 195, 463, 301, 509, 276, 115, 330,  13,  70, 284, 185, 548,\n",
       "           75, 389, 313, 288, 440, 532, 237, 334, 359, 408, 379,  44,  42,\n",
       "          502, 585, 458, 581,  11, 467,   7, 417,  69, 485, 219,  37, 110,\n",
       "          202,  95, 274, 108,  88,  54, 163, 134, 590, 225, 449, 564, 396,\n",
       "          556, 342, 302, 142,  26, 256, 104, 518, 315, 586,  33, 240, 559,\n",
       "          157,  96, 143, 476, 358, 325, 217, 361, 441,  15, 468, 405, 391,\n",
       "          501, 119, 223, 295, 152, 462, 309, 130, 186,  49,  92,  57,  76,\n",
       "          554,  74, 369,  79, 275, 451, 434, 526, 121, 460, 450, 298, 236,\n",
       "          153,  43, 348, 513,  16, 262,  39, 355, 419, 544, 155, 424, 591,\n",
       "           72,  98, 194, 572, 469, 385, 540, 191, 563, 362, 213, 353, 497,\n",
       "          168, 510, 174, 403, 113, 173, 323, 549, 251, 598,  48, 435, 352,\n",
       "          257, 244, 205, 111,  68, 299, 260,   8, 148,  50, 478, 511, 282,\n",
       "          392, 100, 247,   0, 472, 255,  17, 128, 555, 176, 147, 499, 492,\n",
       "          568, 319, 343, 234, 337,  29, 455,  12,  55, 216,  86, 204, 368,\n",
       "          300, 232, 140,   6, 245,  85, 546, 381, 402, 303, 193, 432, 336,\n",
       "          553, 516, 196, 160, 228, 433, 520, 161, 218, 311, 210, 335, 582,\n",
       "          172, 272, 308, 415, 270, 221,  20, 278, 393,  91, 229, 333, 454,\n",
       "          268, 253, 258, 203,  35, 383, 307, 399, 372,  80, 243, 418,  66,\n",
       "          452, 406, 474, 580, 496, 250, 363, 231, 264, 304, 252, 438, 166,\n",
       "          515, 316, 539, 514, 380,  24, 508, 589,  22, 388, 439, 493, 281,\n",
       "          199, 566, 426,  45, 599, 133, 180, 125, 503, 398, 283, 214, 575,\n",
       "          273, 538, 131, 374, 167,  89, 306, 552,  53, 158, 356, 407, 480,\n",
       "          364, 150, 327, 156, 504, 413, 473, 317, 410, 235, 171, 178, 491,\n",
       "          557, 470, 512, 254, 479, 266, 332, 339, 442,  65, 241, 318, 287,\n",
       "          206, 394, 263, 351, 597,  58, 567, 277, 164, 521, 489, 136, 265,\n",
       "           82,  61, 517, 488, 208,  14, 129, 570, 184, 524, 338, 584,  10,\n",
       "           18, 412, 481, 137, 542, 378, 211,  64, 387, 436, 271, 146, 416,\n",
       "          149, 500, 290, 181, 314,  46, 541,  34, 592, 267, 209, 123,  25,\n",
       "          107, 588, 551, 456, 201, 527, 370, 238, 587,  27, 297]),\n",
       "   array([477, 448, 329, 583, 114, 382, 376, 212,  84, 569, 522, 466, 305,\n",
       "          371, 293, 159,  47, 528, 230, 192, 404, 162, 558,  56,  90, 189,\n",
       "          373, 506, 505, 126])))]"
      ]
     },
     "execution_count": 4,
     "metadata": {},
     "output_type": "execute_result"
    }
   ],
   "source": [
    "# create the training set\n",
    "# also creates the Pose.yaml in the dlc-models/train dataset, which contains the setting for training, i.e. take a look\n",
    "deeplabcut.create_training_dataset(config_path, augmenter_type = 'imgaug')"
   ]
  },
  {
   "cell_type": "code",
   "execution_count": null,
   "metadata": {},
   "outputs": [
    {
     "name": "stderr",
     "output_type": "stream",
     "text": [
      "Config:\n",
      "{'all_joints': [[0],\n",
      "                [1],\n",
      "                [2],\n",
      "                [3],\n",
      "                [4],\n",
      "                [5],\n",
      "                [6],\n",
      "                [7],\n",
      "                [8],\n",
      "                [9],\n",
      "                [10],\n",
      "                [11],\n",
      "                [12],\n",
      "                [13],\n",
      "                [14],\n",
      "                [15]],\n",
      " 'all_joints_names': ['mouseHead',\n",
      "                      'mouseBody1',\n",
      "                      'mouseBody2',\n",
      "                      'mouseBody3',\n",
      "                      'mouseBase',\n",
      "                      'cricketHead',\n",
      "                      'cricketBody',\n",
      "                      'corner_UL',\n",
      "                      'corner_UR',\n",
      "                      'corner_BL',\n",
      "                      'corner_BR',\n",
      "                      'mouseSnout',\n",
      "                      'mouseBarL',\n",
      "                      'mouseBarR',\n",
      "                      'objFront',\n",
      "                      'objBack'],\n",
      " 'alpha_r': 0.02,\n",
      " 'batch_size': 1,\n",
      " 'crop_pad': 0,\n",
      " 'cropratio': 0.4,\n",
      " 'dataset': 'training-datasets\\\\iteration-5\\\\UnaugmentedDataSet_Prey_VAMEFeb7\\\\Prey_VAME_Drago '\n",
      "            'Guggiana95shuffle1.mat',\n",
      " 'dataset_type': 'imgaug',\n",
      " 'decay_steps': 30000,\n",
      " 'deterministic': False,\n",
      " 'display_iters': 1000,\n",
      " 'fg_fraction': 0.25,\n",
      " 'global_scale': 0.8,\n",
      " 'init_weights': 'C:\\\\Users\\\\drguggiana\\\\.conda\\\\envs\\\\DLC-GPU\\\\lib\\\\site-packages\\\\deeplabcut\\\\pose_estimation_tensorflow\\\\models\\\\pretrained\\\\resnet_v1_50.ckpt',\n",
      " 'intermediate_supervision': False,\n",
      " 'intermediate_supervision_layer': 12,\n",
      " 'location_refinement': True,\n",
      " 'locref_huber_loss': True,\n",
      " 'locref_loss_weight': 0.05,\n",
      " 'locref_stdev': 7.2801,\n",
      " 'log_dir': 'log',\n",
      " 'lr_init': 0.0005,\n",
      " 'max_input_size': 1500,\n",
      " 'mean_pixel': [123.68, 116.779, 103.939],\n",
      " 'metadataset': 'training-datasets\\\\iteration-5\\\\UnaugmentedDataSet_Prey_VAMEFeb7\\\\Documentation_data-Prey_VAME_95shuffle1.pickle',\n",
      " 'min_input_size': 64,\n",
      " 'mirror': False,\n",
      " 'multi_step': [[0.005, 10000],\n",
      "                [0.02, 430000],\n",
      "                [0.002, 730000],\n",
      "                [0.001, 1030000]],\n",
      " 'net_type': 'resnet_50',\n",
      " 'num_joints': 16,\n",
      " 'optimizer': 'sgd',\n",
      " 'pairwise_huber_loss': False,\n",
      " 'pairwise_predict': False,\n",
      " 'partaffinityfield_predict': False,\n",
      " 'pos_dist_thresh': 17,\n",
      " 'project_path': 'D:\\\\DLC_projects\\\\Prey_capture\\\\Prey_VAME-Drago '\n",
      "                 'Guggiana-2021-02-07',\n",
      " 'regularize': False,\n",
      " 'rotation': 25,\n",
      " 'rotratio': 0.4,\n",
      " 'save_iters': 50000,\n",
      " 'scale_jitter_lo': 0.5,\n",
      " 'scale_jitter_up': 1.25,\n",
      " 'scoremap_dir': 'test',\n",
      " 'shuffle': True,\n",
      " 'snapshot_prefix': 'D:\\\\DLC_projects\\\\Prey_capture\\\\Prey_VAME-Drago '\n",
      "                    'Guggiana-2021-02-07\\\\dlc-models\\\\iteration-5\\\\Prey_VAMEFeb7-trainset95shuffle1\\\\train\\\\snapshot',\n",
      " 'stride': 8.0,\n",
      " 'weigh_negatives': False,\n",
      " 'weigh_only_present_joints': False,\n",
      " 'weigh_part_predictions': False,\n",
      " 'weight_decay': 0.0001}\n"
     ]
    },
    {
     "name": "stdout",
     "output_type": "stream",
     "text": [
      "Selecting single-animal trainer\n",
      "Starting with imgaug pose-dataset loader (=default).\n",
      "Batch Size is 1\n",
      "Initializing ResNet\n",
      "Loading ImageNet-pretrained resnet_50\n",
      "Training parameter:\n",
      "{'stride': 8.0, 'weigh_part_predictions': False, 'weigh_negatives': False, 'fg_fraction': 0.25, 'mean_pixel': [123.68, 116.779, 103.939], 'shuffle': True, 'snapshot_prefix': 'D:\\\\DLC_projects\\\\Prey_capture\\\\Prey_VAME-Drago Guggiana-2021-02-07\\\\dlc-models\\\\iteration-5\\\\Prey_VAMEFeb7-trainset95shuffle1\\\\train\\\\snapshot', 'log_dir': 'log', 'global_scale': 0.8, 'location_refinement': True, 'locref_stdev': 7.2801, 'locref_loss_weight': 0.05, 'locref_huber_loss': True, 'optimizer': 'sgd', 'intermediate_supervision': False, 'intermediate_supervision_layer': 12, 'regularize': False, 'weight_decay': 0.0001, 'crop_pad': 0, 'scoremap_dir': 'test', 'batch_size': 1, 'dataset_type': 'imgaug', 'deterministic': False, 'mirror': False, 'pairwise_huber_loss': False, 'weigh_only_present_joints': False, 'partaffinityfield_predict': False, 'pairwise_predict': False, 'all_joints': [[0], [1], [2], [3], [4], [5], [6], [7], [8], [9], [10], [11], [12], [13], [14], [15]], 'all_joints_names': ['mouseHead', 'mouseBody1', 'mouseBody2', 'mouseBody3', 'mouseBase', 'cricketHead', 'cricketBody', 'corner_UL', 'corner_UR', 'corner_BL', 'corner_BR', 'mouseSnout', 'mouseBarL', 'mouseBarR', 'objFront', 'objBack'], 'alpha_r': 0.02, 'cropratio': 0.4, 'dataset': 'training-datasets\\\\iteration-5\\\\UnaugmentedDataSet_Prey_VAMEFeb7\\\\Prey_VAME_Drago Guggiana95shuffle1.mat', 'decay_steps': 30000, 'display_iters': 1000, 'init_weights': 'C:\\\\Users\\\\drguggiana\\\\.conda\\\\envs\\\\DLC-GPU\\\\lib\\\\site-packages\\\\deeplabcut\\\\pose_estimation_tensorflow\\\\models\\\\pretrained\\\\resnet_v1_50.ckpt', 'lr_init': 0.0005, 'max_input_size': 1500, 'metadataset': 'training-datasets\\\\iteration-5\\\\UnaugmentedDataSet_Prey_VAMEFeb7\\\\Documentation_data-Prey_VAME_95shuffle1.pickle', 'min_input_size': 64, 'multi_step': [[0.005, 10000], [0.02, 430000], [0.002, 730000], [0.001, 1030000]], 'net_type': 'resnet_50', 'num_joints': 16, 'pos_dist_thresh': 17, 'project_path': 'D:\\\\DLC_projects\\\\Prey_capture\\\\Prey_VAME-Drago Guggiana-2021-02-07', 'rotation': 25, 'rotratio': 0.4, 'save_iters': 50000, 'scale_jitter_lo': 0.5, 'scale_jitter_up': 1.25, 'covering': True, 'elastic_transform': True, 'motion_blur': True, 'motion_blur_params': {'k': 7, 'angle': (-90, 90)}}\n",
      "Starting training....\n"
     ]
    },
    {
     "name": "stderr",
     "output_type": "stream",
     "text": [
      "iteration: 1000 loss: 0.0251 lr: 0.005\n",
      "iteration: 2000 loss: 0.0145 lr: 0.005\n",
      "iteration: 3000 loss: 0.0127 lr: 0.005\n",
      "iteration: 4000 loss: 0.0113 lr: 0.005\n",
      "iteration: 5000 loss: 0.0106 lr: 0.005\n",
      "iteration: 6000 loss: 0.0099 lr: 0.005\n",
      "iteration: 7000 loss: 0.0094 lr: 0.005\n",
      "iteration: 8000 loss: 0.0093 lr: 0.005\n",
      "iteration: 9000 loss: 0.0088 lr: 0.005\n",
      "iteration: 10000 loss: 0.0085 lr: 0.005\n",
      "iteration: 11000 loss: 0.0100 lr: 0.02\n",
      "iteration: 12000 loss: 0.0089 lr: 0.02\n",
      "iteration: 13000 loss: 0.0084 lr: 0.02\n",
      "iteration: 14000 loss: 0.0077 lr: 0.02\n",
      "iteration: 15000 loss: 0.0072 lr: 0.02\n",
      "iteration: 16000 loss: 0.0070 lr: 0.02\n",
      "iteration: 17000 loss: 0.0067 lr: 0.02\n",
      "iteration: 18000 loss: 0.0063 lr: 0.02\n",
      "iteration: 19000 loss: 0.0061 lr: 0.02\n",
      "iteration: 20000 loss: 0.0059 lr: 0.02\n",
      "iteration: 21000 loss: 0.0057 lr: 0.02\n",
      "iteration: 22000 loss: 0.0058 lr: 0.02\n",
      "iteration: 23000 loss: 0.0055 lr: 0.02\n",
      "iteration: 24000 loss: 0.0055 lr: 0.02\n",
      "iteration: 25000 loss: 0.0051 lr: 0.02\n",
      "iteration: 26000 loss: 0.0050 lr: 0.02\n",
      "iteration: 27000 loss: 0.0048 lr: 0.02\n",
      "iteration: 28000 loss: 0.0048 lr: 0.02\n",
      "iteration: 29000 loss: 0.0047 lr: 0.02\n",
      "iteration: 30000 loss: 0.0045 lr: 0.02\n",
      "iteration: 31000 loss: 0.0045 lr: 0.02\n",
      "iteration: 32000 loss: 0.0045 lr: 0.02\n",
      "iteration: 33000 loss: 0.0044 lr: 0.02\n",
      "iteration: 34000 loss: 0.0042 lr: 0.02\n",
      "iteration: 35000 loss: 0.0045 lr: 0.02\n",
      "iteration: 36000 loss: 0.0042 lr: 0.02\n",
      "iteration: 37000 loss: 0.0040 lr: 0.02\n",
      "iteration: 38000 loss: 0.0042 lr: 0.02\n",
      "iteration: 39000 loss: 0.0039 lr: 0.02\n",
      "iteration: 40000 loss: 0.0037 lr: 0.02\n",
      "iteration: 41000 loss: 0.0036 lr: 0.02\n",
      "iteration: 42000 loss: 0.0038 lr: 0.02\n",
      "iteration: 43000 loss: 0.0036 lr: 0.02\n",
      "iteration: 44000 loss: 0.0036 lr: 0.02\n",
      "iteration: 45000 loss: 0.0036 lr: 0.02\n",
      "iteration: 46000 loss: 0.0035 lr: 0.02\n",
      "iteration: 47000 loss: 0.0036 lr: 0.02\n",
      "iteration: 48000 loss: 0.0036 lr: 0.02\n",
      "iteration: 49000 loss: 0.0034 lr: 0.02\n",
      "iteration: 50000 loss: 0.0034 lr: 0.02\n",
      "iteration: 51000 loss: 0.0033 lr: 0.02\n",
      "iteration: 52000 loss: 0.0033 lr: 0.02\n",
      "iteration: 53000 loss: 0.0032 lr: 0.02\n",
      "iteration: 54000 loss: 0.0033 lr: 0.02\n",
      "iteration: 55000 loss: 0.0031 lr: 0.02\n",
      "iteration: 56000 loss: 0.0033 lr: 0.02\n",
      "iteration: 57000 loss: 0.0032 lr: 0.02\n",
      "iteration: 58000 loss: 0.0032 lr: 0.02\n",
      "iteration: 59000 loss: 0.0031 lr: 0.02\n",
      "iteration: 60000 loss: 0.0030 lr: 0.02\n",
      "iteration: 61000 loss: 0.0030 lr: 0.02\n",
      "iteration: 62000 loss: 0.0029 lr: 0.02\n",
      "iteration: 63000 loss: 0.0029 lr: 0.02\n",
      "iteration: 64000 loss: 0.0031 lr: 0.02\n",
      "iteration: 65000 loss: 0.0031 lr: 0.02\n",
      "iteration: 66000 loss: 0.0030 lr: 0.02\n",
      "iteration: 67000 loss: 0.0029 lr: 0.02\n",
      "iteration: 68000 loss: 0.0029 lr: 0.02\n",
      "iteration: 69000 loss: 0.0029 lr: 0.02\n",
      "iteration: 70000 loss: 0.0026 lr: 0.02\n",
      "iteration: 71000 loss: 0.0028 lr: 0.02\n",
      "iteration: 72000 loss: 0.0027 lr: 0.02\n",
      "iteration: 73000 loss: 0.0027 lr: 0.02\n",
      "iteration: 74000 loss: 0.0027 lr: 0.02\n",
      "iteration: 75000 loss: 0.0027 lr: 0.02\n",
      "iteration: 76000 loss: 0.0027 lr: 0.02\n",
      "iteration: 77000 loss: 0.0027 lr: 0.02\n",
      "iteration: 78000 loss: 0.0026 lr: 0.02\n",
      "iteration: 79000 loss: 0.0026 lr: 0.02\n",
      "iteration: 80000 loss: 0.0027 lr: 0.02\n",
      "iteration: 81000 loss: 0.0026 lr: 0.02\n",
      "iteration: 82000 loss: 0.0027 lr: 0.02\n",
      "iteration: 83000 loss: 0.0026 lr: 0.02\n",
      "iteration: 84000 loss: 0.0026 lr: 0.02\n",
      "iteration: 85000 loss: 0.0027 lr: 0.02\n",
      "iteration: 86000 loss: 0.0026 lr: 0.02\n",
      "iteration: 87000 loss: 0.0024 lr: 0.02\n",
      "iteration: 88000 loss: 0.0024 lr: 0.02\n",
      "iteration: 89000 loss: 0.0026 lr: 0.02\n",
      "iteration: 90000 loss: 0.0027 lr: 0.02\n",
      "iteration: 91000 loss: 0.0026 lr: 0.02\n",
      "iteration: 92000 loss: 0.0026 lr: 0.02\n",
      "iteration: 93000 loss: 0.0025 lr: 0.02\n",
      "iteration: 94000 loss: 0.0025 lr: 0.02\n",
      "iteration: 95000 loss: 0.0024 lr: 0.02\n",
      "iteration: 96000 loss: 0.0026 lr: 0.02\n",
      "iteration: 97000 loss: 0.0024 lr: 0.02\n",
      "iteration: 98000 loss: 0.0024 lr: 0.02\n",
      "iteration: 99000 loss: 0.0023 lr: 0.02\n",
      "iteration: 100000 loss: 0.0023 lr: 0.02\n",
      "iteration: 101000 loss: 0.0023 lr: 0.02\n",
      "iteration: 102000 loss: 0.0022 lr: 0.02\n",
      "iteration: 103000 loss: 0.0023 lr: 0.02\n",
      "iteration: 104000 loss: 0.0024 lr: 0.02\n",
      "iteration: 105000 loss: 0.0024 lr: 0.02\n",
      "iteration: 106000 loss: 0.0024 lr: 0.02\n",
      "iteration: 107000 loss: 0.0023 lr: 0.02\n",
      "iteration: 108000 loss: 0.0023 lr: 0.02\n",
      "iteration: 109000 loss: 0.0023 lr: 0.02\n",
      "iteration: 110000 loss: 0.0023 lr: 0.02\n",
      "iteration: 111000 loss: 0.0023 lr: 0.02\n",
      "iteration: 112000 loss: 0.0022 lr: 0.02\n",
      "iteration: 113000 loss: 0.0023 lr: 0.02\n",
      "iteration: 114000 loss: 0.0023 lr: 0.02\n",
      "iteration: 115000 loss: 0.0022 lr: 0.02\n",
      "iteration: 116000 loss: 0.0021 lr: 0.02\n",
      "iteration: 117000 loss: 0.0022 lr: 0.02\n",
      "iteration: 118000 loss: 0.0021 lr: 0.02\n",
      "iteration: 119000 loss: 0.0021 lr: 0.02\n",
      "iteration: 120000 loss: 0.0021 lr: 0.02\n",
      "iteration: 121000 loss: 0.0022 lr: 0.02\n",
      "iteration: 122000 loss: 0.0022 lr: 0.02\n",
      "iteration: 123000 loss: 0.0022 lr: 0.02\n",
      "iteration: 124000 loss: 0.0022 lr: 0.02\n",
      "iteration: 125000 loss: 0.0021 lr: 0.02\n",
      "iteration: 126000 loss: 0.0021 lr: 0.02\n",
      "iteration: 127000 loss: 0.0021 lr: 0.02\n",
      "iteration: 128000 loss: 0.0020 lr: 0.02\n",
      "iteration: 129000 loss: 0.0022 lr: 0.02\n",
      "iteration: 130000 loss: 0.0022 lr: 0.02\n",
      "iteration: 131000 loss: 0.0021 lr: 0.02\n",
      "iteration: 132000 loss: 0.0022 lr: 0.02\n",
      "iteration: 133000 loss: 0.0021 lr: 0.02\n",
      "iteration: 134000 loss: 0.0022 lr: 0.02\n",
      "iteration: 135000 loss: 0.0021 lr: 0.02\n",
      "iteration: 136000 loss: 0.0021 lr: 0.02\n",
      "iteration: 137000 loss: 0.0020 lr: 0.02\n",
      "iteration: 138000 loss: 0.0021 lr: 0.02\n",
      "iteration: 139000 loss: 0.0022 lr: 0.02\n",
      "iteration: 140000 loss: 0.0021 lr: 0.02\n",
      "iteration: 141000 loss: 0.0020 lr: 0.02\n",
      "iteration: 142000 loss: 0.0020 lr: 0.02\n",
      "iteration: 143000 loss: 0.0021 lr: 0.02\n",
      "iteration: 144000 loss: 0.0018 lr: 0.02\n",
      "iteration: 145000 loss: 0.0019 lr: 0.02\n",
      "iteration: 146000 loss: 0.0020 lr: 0.02\n",
      "iteration: 147000 loss: 0.0020 lr: 0.02\n",
      "iteration: 148000 loss: 0.0020 lr: 0.02\n",
      "iteration: 149000 loss: 0.0020 lr: 0.02\n",
      "iteration: 150000 loss: 0.0020 lr: 0.02\n",
      "iteration: 151000 loss: 0.0019 lr: 0.02\n",
      "iteration: 152000 loss: 0.0019 lr: 0.02\n",
      "iteration: 153000 loss: 0.0021 lr: 0.02\n",
      "iteration: 154000 loss: 0.0020 lr: 0.02\n",
      "iteration: 155000 loss: 0.0019 lr: 0.02\n",
      "iteration: 156000 loss: 0.0020 lr: 0.02\n",
      "iteration: 157000 loss: 0.0020 lr: 0.02\n",
      "iteration: 158000 loss: 0.0019 lr: 0.02\n",
      "iteration: 159000 loss: 0.0019 lr: 0.02\n",
      "iteration: 160000 loss: 0.0019 lr: 0.02\n",
      "iteration: 161000 loss: 0.0019 lr: 0.02\n",
      "iteration: 162000 loss: 0.0018 lr: 0.02\n",
      "iteration: 163000 loss: 0.0019 lr: 0.02\n",
      "iteration: 164000 loss: 0.0019 lr: 0.02\n",
      "iteration: 165000 loss: 0.0019 lr: 0.02\n",
      "iteration: 166000 loss: 0.0019 lr: 0.02\n",
      "iteration: 167000 loss: 0.0020 lr: 0.02\n",
      "iteration: 168000 loss: 0.0020 lr: 0.02\n",
      "iteration: 169000 loss: 0.0019 lr: 0.02\n",
      "iteration: 170000 loss: 0.0019 lr: 0.02\n",
      "iteration: 171000 loss: 0.0018 lr: 0.02\n",
      "iteration: 172000 loss: 0.0019 lr: 0.02\n",
      "iteration: 173000 loss: 0.0019 lr: 0.02\n",
      "iteration: 174000 loss: 0.0018 lr: 0.02\n",
      "iteration: 175000 loss: 0.0018 lr: 0.02\n",
      "iteration: 176000 loss: 0.0019 lr: 0.02\n",
      "iteration: 177000 loss: 0.0018 lr: 0.02\n",
      "iteration: 178000 loss: 0.0018 lr: 0.02\n",
      "iteration: 179000 loss: 0.0018 lr: 0.02\n",
      "iteration: 180000 loss: 0.0018 lr: 0.02\n",
      "iteration: 181000 loss: 0.0018 lr: 0.02\n",
      "iteration: 182000 loss: 0.0018 lr: 0.02\n",
      "iteration: 183000 loss: 0.0018 lr: 0.02\n",
      "iteration: 184000 loss: 0.0017 lr: 0.02\n",
      "iteration: 185000 loss: 0.0018 lr: 0.02\n",
      "iteration: 186000 loss: 0.0018 lr: 0.02\n",
      "iteration: 187000 loss: 0.0017 lr: 0.02\n",
      "iteration: 188000 loss: 0.0017 lr: 0.02\n",
      "iteration: 189000 loss: 0.0019 lr: 0.02\n",
      "iteration: 190000 loss: 0.0019 lr: 0.02\n",
      "iteration: 191000 loss: 0.0018 lr: 0.02\n",
      "iteration: 192000 loss: 0.0018 lr: 0.02\n",
      "iteration: 193000 loss: 0.0018 lr: 0.02\n",
      "iteration: 194000 loss: 0.0018 lr: 0.02\n",
      "iteration: 195000 loss: 0.0018 lr: 0.02\n",
      "iteration: 196000 loss: 0.0018 lr: 0.02\n",
      "iteration: 197000 loss: 0.0017 lr: 0.02\n",
      "iteration: 198000 loss: 0.0018 lr: 0.02\n",
      "iteration: 199000 loss: 0.0017 lr: 0.02\n",
      "iteration: 200000 loss: 0.0017 lr: 0.02\n",
      "iteration: 201000 loss: 0.0017 lr: 0.02\n",
      "iteration: 202000 loss: 0.0017 lr: 0.02\n",
      "iteration: 203000 loss: 0.0017 lr: 0.02\n",
      "iteration: 204000 loss: 0.0017 lr: 0.02\n",
      "iteration: 205000 loss: 0.0017 lr: 0.02\n",
      "iteration: 206000 loss: 0.0017 lr: 0.02\n",
      "iteration: 207000 loss: 0.0016 lr: 0.02\n",
      "iteration: 208000 loss: 0.0018 lr: 0.02\n"
     ]
    },
    {
     "name": "stderr",
     "output_type": "stream",
     "text": [
      "iteration: 209000 loss: 0.0018 lr: 0.02\n",
      "iteration: 210000 loss: 0.0017 lr: 0.02\n",
      "iteration: 211000 loss: 0.0017 lr: 0.02\n",
      "iteration: 212000 loss: 0.0016 lr: 0.02\n",
      "iteration: 213000 loss: 0.0017 lr: 0.02\n",
      "iteration: 214000 loss: 0.0017 lr: 0.02\n",
      "iteration: 215000 loss: 0.0017 lr: 0.02\n",
      "iteration: 216000 loss: 0.0017 lr: 0.02\n",
      "iteration: 217000 loss: 0.0016 lr: 0.02\n",
      "iteration: 218000 loss: 0.0017 lr: 0.02\n",
      "iteration: 219000 loss: 0.0017 lr: 0.02\n",
      "iteration: 220000 loss: 0.0017 lr: 0.02\n",
      "iteration: 221000 loss: 0.0018 lr: 0.02\n",
      "iteration: 222000 loss: 0.0017 lr: 0.02\n",
      "iteration: 223000 loss: 0.0017 lr: 0.02\n",
      "iteration: 224000 loss: 0.0017 lr: 0.02\n",
      "iteration: 225000 loss: 0.0016 lr: 0.02\n",
      "iteration: 226000 loss: 0.0017 lr: 0.02\n",
      "iteration: 227000 loss: 0.0017 lr: 0.02\n",
      "iteration: 228000 loss: 0.0016 lr: 0.02\n",
      "iteration: 229000 loss: 0.0016 lr: 0.02\n",
      "iteration: 230000 loss: 0.0017 lr: 0.02\n",
      "iteration: 231000 loss: 0.0017 lr: 0.02\n",
      "iteration: 232000 loss: 0.0016 lr: 0.02\n",
      "iteration: 233000 loss: 0.0016 lr: 0.02\n",
      "iteration: 234000 loss: 0.0016 lr: 0.02\n",
      "iteration: 235000 loss: 0.0016 lr: 0.02\n",
      "iteration: 236000 loss: 0.0016 lr: 0.02\n",
      "iteration: 237000 loss: 0.0015 lr: 0.02\n",
      "iteration: 238000 loss: 0.0016 lr: 0.02\n",
      "iteration: 239000 loss: 0.0016 lr: 0.02\n",
      "iteration: 240000 loss: 0.0016 lr: 0.02\n",
      "iteration: 241000 loss: 0.0017 lr: 0.02\n",
      "iteration: 242000 loss: 0.0016 lr: 0.02\n",
      "iteration: 243000 loss: 0.0016 lr: 0.02\n",
      "iteration: 244000 loss: 0.0016 lr: 0.02\n",
      "iteration: 245000 loss: 0.0015 lr: 0.02\n",
      "iteration: 246000 loss: 0.0016 lr: 0.02\n",
      "iteration: 247000 loss: 0.0016 lr: 0.02\n",
      "iteration: 248000 loss: 0.0016 lr: 0.02\n",
      "iteration: 249000 loss: 0.0016 lr: 0.02\n",
      "iteration: 250000 loss: 0.0015 lr: 0.02\n",
      "iteration: 251000 loss: 0.0016 lr: 0.02\n",
      "iteration: 252000 loss: 0.0015 lr: 0.02\n"
     ]
    }
   ],
   "source": [
    "# train the network\n",
    "deeplabcut.train_network(config_path, max_snapshots_to_keep=10)"
   ]
  },
  {
   "cell_type": "code",
   "execution_count": 2,
   "metadata": {},
   "outputs": [
    {
     "name": "stdout",
     "output_type": "stream",
     "text": [
      "D:\\DLC_projects\\Prey_capture\\Prey_VAME-Drago Guggiana-2021-02-07/evaluation-results/  already exists!\n",
      "D:\\DLC_projects\\Prey_capture\\Prey_VAME-Drago Guggiana-2021-02-07\\evaluation-results\\iteration-5\\Prey_VAMEFeb7-trainset95shuffle1  already exists!\n",
      "Running  DLC_resnet_50_Prey_VAMEFeb7shuffle1_250000  with # of trainingiterations: 250000\n",
      "Initializing ResNet\n"
     ]
    },
    {
     "name": "stderr",
     "output_type": "stream",
     "text": [
      "\r",
      "0it [00:00, ?it/s]"
     ]
    },
    {
     "name": "stdout",
     "output_type": "stream",
     "text": [
      "Analyzing data...\n"
     ]
    },
    {
     "name": "stderr",
     "output_type": "stream",
     "text": [
      "600it [00:58, 10.32it/s]\n",
      "  0%|                                                                                                                                                                                                             | 0/600 [00:00<?, ?it/s]"
     ]
    },
    {
     "name": "stdout",
     "output_type": "stream",
     "text": [
      "Done and results stored for snapshot:  snapshot-250000\n",
      "Results for 250000  training iterations: 95 1 train error: 2.62 pixels. Test error: 12.05  pixels.\n",
      "With pcutoff of 0.6  train error: 2.4 pixels. Test error: 5.65 pixels\n",
      "Thereby, the errors are given by the average distances between the labels by DLC and the scorer.\n",
      "Plotting...\n"
     ]
    },
    {
     "name": "stderr",
     "output_type": "stream",
     "text": [
      "100%|███████████████████████████████████████████████████████████████████████████████████████████████████████████████████████████████████████████████████████████████████████████████████████████████████| 600/600 [05:07<00:00,  1.95it/s]"
     ]
    },
    {
     "name": "stdout",
     "output_type": "stream",
     "text": [
      "The network is evaluated and the results are stored in the subdirectory 'evaluation_results'.\n",
      "If it generalizes well, choose the best model for prediction and update the config file with the appropriate index for the 'snapshotindex'.\n",
      "Use the function 'analyze_video' to make predictions on new videos.\n",
      "Otherwise consider retraining the network (see DeepLabCut workflow Fig 2)\n"
     ]
    },
    {
     "name": "stderr",
     "output_type": "stream",
     "text": [
      "\n"
     ]
    }
   ],
   "source": [
    "# evaluate the network\n",
    "deeplabcut.evaluate_network(config_path,Shuffles=[1], plotting=True)"
   ]
  },
  {
   "cell_type": "code",
   "execution_count": 18,
   "metadata": {
    "collapsed": true
   },
   "outputs": [
    {
     "name": "stdout",
     "output_type": "stream",
     "text": [
      "Method  jump  found  61  putative outlier frames.\n",
      "Do you want to proceed with extracting  20  of those?\n",
      "If this list is very large, perhaps consider changing the paramters (start, stop, epsilon, comparisonbodyparts) or use a different method.\n",
      "yes/noyes\n"
     ]
    },
    {
     "name": "stderr",
     "output_type": "stream",
     "text": [
      "3it [00:00, 29.73it/s]"
     ]
    },
    {
     "name": "stdout",
     "output_type": "stream",
     "text": [
      "Frames from video 12_07_2019_15_29_41_miniscope_MM_191108_a_succ  already extracted (more will be added)!\n",
      "Loading video...\n",
      "Duration of video [s]:  22.433333333333334 , recorded @  30.0 fps!\n",
      "Overall # of frames:  673 with (cropped) frame dimensions: \n",
      "Kmeans-quantization based extracting of frames from 0.0  seconds to 22.43  seconds.\n",
      "Extracting and downsampling... 61  frames from the video.\n"
     ]
    },
    {
     "name": "stderr",
     "output_type": "stream",
     "text": [
      "61it [00:00, 66.56it/s]\n"
     ]
    },
    {
     "name": "stdout",
     "output_type": "stream",
     "text": [
      "Kmeans clustering ... (this might take a while)\n",
      "Let's select frames indices: [162, 128, 296, 152, 395, 146, 464, 376, 552, 297, 397, 579, 338, 282, 413, 523, 378, 122, 575, 160]\n",
      "New video was added to the project! Use the function 'extract_frames' to select frames for labeling.\n",
      "The outlier frames are extracted. They are stored in the subdirectory labeled-data\\12_07_2019_15_29_41_miniscope_MM_191108_a_succ.\n",
      "Once you extracted frames for all videos, use 'refine_labels' to manually correct the labels.\n"
     ]
    }
   ],
   "source": [
    "# extract outlier frames\n",
    "deeplabcut.extract_outlier_frames(config_path, video, outlieralgorithm='jump', epsilon=200)\n",
    "# deeplabcut.extract_outlier_frames?"
   ]
  },
  {
   "cell_type": "code",
   "execution_count": 5,
   "metadata": {
    "collapsed": true
   },
   "outputs": [
    {
     "name": "stdout",
     "output_type": "stream",
     "text": [
      "Windows\n",
      "Checking labels if they are outside the image\n",
      "Windows\n",
      "Checking labels if they are outside the image\n",
      "Windows\n",
      "Checking labels if they are outside the image\n",
      "Windows\n",
      "Checking labels if they are outside the image\n",
      "Windows\n",
      "Checking labels if they are outside the image\n",
      "A training dataset file is already found for this video. The refined machine labels are merged to this data!\n",
      "Windows\n",
      "Checking labels if they are outside the image\n",
      "A training dataset file is already found for this video. The refined machine labels are merged to this data!\n",
      "Windows\n"
     ]
    },
    {
     "ename": "RuntimeError",
     "evalue": "wrapped C/C++ object of type FileDialog has been deleted",
     "output_type": "error",
     "traceback": [
      "\u001b[1;31m---------------------------------------------------------------------------\u001b[0m",
      "\u001b[1;31mRuntimeError\u001b[0m                              Traceback (most recent call last)",
      "\u001b[1;32mD:\\ProgramData\\Miniconda3\\envs\\DLC-GPU\\lib\\site-packages\\deeplabcut\\refine_training_dataset\\refinement.py\u001b[0m in \u001b[0;36msaveDataSet\u001b[1;34m(self, event)\u001b[0m\n\u001b[0;32m    628\u001b[0m             \u001b[1;31m# self.slider.Enable(False)\u001b[0m\u001b[1;33m\u001b[0m\u001b[1;33m\u001b[0m\u001b[1;33m\u001b[0m\u001b[0m\n\u001b[0;32m    629\u001b[0m             \u001b[1;31m# self.checkBox.Enable(False)\u001b[0m\u001b[1;33m\u001b[0m\u001b[1;33m\u001b[0m\u001b[1;33m\u001b[0m\u001b[0m\n\u001b[1;32m--> 630\u001b[1;33m             \u001b[0mMainFrame\u001b[0m\u001b[1;33m.\u001b[0m\u001b[0mbrowseDir\u001b[0m\u001b[1;33m(\u001b[0m\u001b[0mself\u001b[0m\u001b[1;33m,\u001b[0m \u001b[0mevent\u001b[0m\u001b[1;33m)\u001b[0m\u001b[1;33m\u001b[0m\u001b[1;33m\u001b[0m\u001b[0m\n\u001b[0m\u001b[0;32m    631\u001b[0m \u001b[1;33m\u001b[0m\u001b[0m\n\u001b[0;32m    632\u001b[0m \u001b[1;31m# ###########################################################################\u001b[0m\u001b[1;33m\u001b[0m\u001b[1;33m\u001b[0m\u001b[1;33m\u001b[0m\u001b[0m\n",
      "\u001b[1;32mD:\\ProgramData\\Miniconda3\\envs\\DLC-GPU\\lib\\site-packages\\deeplabcut\\refine_training_dataset\\refinement.py\u001b[0m in \u001b[0;36mbrowseDir\u001b[1;34m(self, event)\u001b[0m\n\u001b[0;32m    376\u001b[0m             \u001b[0mdlg\u001b[0m\u001b[1;33m.\u001b[0m\u001b[0mDestroy\u001b[0m\u001b[1;33m(\u001b[0m\u001b[1;33m)\u001b[0m\u001b[1;33m\u001b[0m\u001b[1;33m\u001b[0m\u001b[0m\n\u001b[0;32m    377\u001b[0m             \u001b[0mself\u001b[0m\u001b[1;33m.\u001b[0m\u001b[0mDestroy\u001b[0m\u001b[1;33m(\u001b[0m\u001b[1;33m)\u001b[0m\u001b[1;33m\u001b[0m\u001b[1;33m\u001b[0m\u001b[0m\n\u001b[1;32m--> 378\u001b[1;33m         \u001b[0mdlg\u001b[0m\u001b[1;33m.\u001b[0m\u001b[0mDestroy\u001b[0m\u001b[1;33m(\u001b[0m\u001b[1;33m)\u001b[0m\u001b[1;33m\u001b[0m\u001b[1;33m\u001b[0m\u001b[0m\n\u001b[0m\u001b[0;32m    379\u001b[0m \u001b[1;33m\u001b[0m\u001b[0m\n\u001b[0;32m    380\u001b[0m         \u001b[1;32mtry\u001b[0m\u001b[1;33m:\u001b[0m\u001b[1;33m\u001b[0m\u001b[1;33m\u001b[0m\u001b[0m\n",
      "\u001b[1;31mRuntimeError\u001b[0m: wrapped C/C++ object of type FileDialog has been deleted"
     ]
    }
   ],
   "source": [
    "# Refine the labels if the network didn't perform as desired\n",
    "\n",
    "deeplabcut.refine_labels(config_path)\n",
    "# deeplabcut.refine_training_dataset?"
   ]
  },
  {
   "cell_type": "code",
   "execution_count": 3,
   "metadata": {},
   "outputs": [
    {
     "name": "stdout",
     "output_type": "stream",
     "text": [
      "New video was added to the project! Use the function 'extract_frames' to select frames for labeling.\n"
     ]
    }
   ],
   "source": [
    "# Add new videos\n",
    "\n",
    "# define the videos to add\n",
    "# new_video_list = [\n",
    "#     r\"J:\\Drago Guggiana Nilo\\Prey_capture\\VideoExperiment\\06_15_2021_09_56_55_miniscope_DG_210323_b_succ_dark_nofluo_head.avi\",\n",
    "#     r\"J:\\Drago Guggiana Nilo\\Prey_capture\\VideoExperiment\\06_14_2021_11_26_24_miniscope_DG_210323_b_succ_dark_nofluo_head.avi\",\n",
    "#     r\"J:\\Drago Guggiana Nilo\\Prey_capture\\VideoExperiment\\06_17_2021_10_39_40_miniscope_DG_210323_b_succ_dark_head.avi\",\n",
    "#     r\"J:\\Drago Guggiana Nilo\\Prey_capture\\VideoExperiment\\06_17_2021_10_46_31_miniscope_DG_210323_b_succ_dark_head.avi\",\n",
    "#     r\"J:\\Drago Guggiana Nilo\\Prey_capture\\VideoExperiment\\06_17_2021_10_59_21_miniscope_DG_210323_b_succ_dark_head.avi\",\n",
    "#     r\"J:\\Drago Guggiana Nilo\\Prey_capture\\VideoExperiment\\06_18_2021_13_54_19_miniscope_DG_210323_b_succ_dark_head.avi\",\n",
    "#     r\"J:\\Drago Guggiana Nilo\\Prey_capture\\VideoExperiment\\06_18_2021_14_01_27_miniscope_DG_210323_b_succ_dark_head.avi\",\n",
    "#     r\"J:\\Drago Guggiana Nilo\\Prey_capture\\VideoExperiment\\06_18_2021_13_47_49_miniscope_DG_210323_b_succ_dark_head.avi\",\n",
    "# ]\n",
    "\n",
    "new_video_list = [\n",
    "    r\"J:\\Drago Guggiana Nilo\\Prey_capture\\VideoExperiment\\06_30_2021_17_19_57_miniscope_DG_210323_b_objt_nonres.avi\",\n",
    "    r\"J:\\Drago Guggiana Nilo\\Prey_capture\\VideoExperiment\\06_30_2021_17_31_02_miniscope_DG_210323_b_objt_nonres.avi\",\n",
    "    r\"J:\\Drago Guggiana Nilo\\Prey_capture\\VideoExperiment\\06_30_2021_17_44_21_miniscope_DG_210323_b_objt_nonres.avi\",\n",
    "    r\"J:\\Drago Guggiana Nilo\\Prey_capture\\VideoExperiment\\06_30_2021_17_56_56_miniscope_DG_210323_b_objt_nonres.avi\",\n",
    "    r\"J:\\Drago Guggiana Nilo\\Prey_capture\\test_files\\06_30_2021_18_05_40_miniscope_object_medium.avi\",\n",
    "    r\"J:\\Drago Guggiana Nilo\\Prey_capture\\test_files\\06_30_2021_18_07_01_miniscope_object_small.avi\",\n",
    "    r\"J:\\Drago Guggiana Nilo\\Prey_capture\\test_files\\06_30_2021_18_09_49_miniscope_object_large.avi\",\n",
    "]\n",
    "\n",
    "# run the video addition function\n",
    "deeplabcut.add_new_videos(config_path, new_video_list, copy_videos=True)"
   ]
  },
  {
   "cell_type": "code",
   "execution_count": 9,
   "metadata": {},
   "outputs": [
    {
     "name": "stdout",
     "output_type": "stream",
     "text": [
      "Merged data sets and updated refinement iteration to 1.\n",
      "Now you can create a new training set for the expanded annotated images (use create_training_dataset).\n"
     ]
    }
   ],
   "source": [
    "# Merge the dataset, then move to check labels and retrain\n",
    "\n",
    "deeplabcut.merge_datasets(config_path)\n",
    "# deeplabcut.merge_datasets?"
   ]
  },
  {
   "cell_type": "code",
   "execution_count": 4,
   "metadata": {},
   "outputs": [
    {
     "name": "stdout",
     "output_type": "stream",
     "text": [
      "['J:\\\\Drago Guggiana Nilo\\\\Prey_capture\\\\VideoExperiment\\\\03_15_2021_10_35_50_miniscope_DG_210202_a_habi_nomini.avi', 'J:\\\\Drago Guggiana Nilo\\\\Prey_capture\\\\VideoExperiment\\\\08_08_2020_16_00_22_miniscope_DG_200617_b_succ.avi', 'J:\\\\Drago Guggiana Nilo\\\\Prey_capture\\\\VideoExperiment\\\\08_12_2020_15_44_23_miniscope_DG_200701_a_succ_noncon.avi', 'J:\\\\Drago Guggiana Nilo\\\\Prey_capture\\\\VideoExperiment\\\\11_11_2019_01_21_58_miniscope_DG_190806_a_fail_nofluo.avi', 'J:\\\\Drago Guggiana Nilo\\\\Prey_capture\\\\VideoExperiment\\\\04_02_2021_10_34_47_miniscope_DG_210202_a_succ.avi', 'J:\\\\Drago Guggiana Nilo\\\\Prey_capture\\\\VideoExperiment\\\\06_17_2021_10_39_40_miniscope_DG_210323_b_succ_dark_head.avi', 'J:\\\\Drago Guggiana Nilo\\\\Prey_capture\\\\test_files\\\\06_30_2021_18_07_01_miniscope_object_small.avi', 'J:\\\\Drago Guggiana Nilo\\\\Prey_capture\\\\test_files\\\\06_30_2021_18_09_49_miniscope_object_large.avi', 'J:\\\\Drago Guggiana Nilo\\\\Prey_capture\\\\VideoExperiment\\\\06_30_2021_17_19_57_miniscope_DG_210323_b_objt_nonres.avi']\n"
     ]
    }
   ],
   "source": [
    "# Define the videos to analyze\n",
    "importlib.reload(processing_parameters)\n",
    "# manually define video paths (hand picked as more representative)\n",
    "video = processing_parameters.test_videos\n",
    "print(video)"
   ]
  },
  {
   "cell_type": "code",
   "execution_count": 6,
   "metadata": {},
   "outputs": [
    {
     "name": "stdout",
     "output_type": "stream",
     "text": [
      "Using snapshot-250000 for model D:\\DLC_projects\\Prey_capture\\Prey_VAME-Drago Guggiana-2021-02-07\\dlc-models\\iteration-5\\Prey_VAMEFeb7-trainset95shuffle1\n",
      "Initializing ResNet\n",
      "Starting to analyze %  J:\\Drago Guggiana Nilo\\Prey_capture\\VideoExperiment\\03_15_2021_10_35_50_miniscope_DG_210202_a_habi_nomini.avi\n",
      "J:\\Drago Guggiana Nilo\\Prey_capture\\VideoExperiment  already exists!\n"
     ]
    },
    {
     "name": "stderr",
     "output_type": "stream",
     "text": [
      "\r",
      "  0%|                                                                                                                                                                                                            | 0/5025 [00:00<?, ?it/s]"
     ]
    },
    {
     "name": "stdout",
     "output_type": "stream",
     "text": [
      "Loading  J:\\Drago Guggiana Nilo\\Prey_capture\\VideoExperiment\\03_15_2021_10_35_50_miniscope_DG_210202_a_habi_nomini.avi\n",
      "Duration of video [s]:  167.5 , recorded with  30.0 fps!\n",
      "Overall # of frames:  5025  found with (before cropping) frame dimensions:  1280 1024\n",
      "Starting to extract posture\n"
     ]
    },
    {
     "name": "stderr",
     "output_type": "stream",
     "text": [
      "5050it [04:32, 18.50it/s]                                                                                                                                                                                                                 \n"
     ]
    },
    {
     "name": "stdout",
     "output_type": "stream",
     "text": [
      "Saving results in J:\\Drago Guggiana Nilo\\Prey_capture\\VideoExperiment...\n",
      "Starting to analyze %  J:\\Drago Guggiana Nilo\\Prey_capture\\VideoExperiment\\08_08_2020_16_00_22_miniscope_DG_200617_b_succ.avi\n",
      "J:\\Drago Guggiana Nilo\\Prey_capture\\VideoExperiment  already exists!\n"
     ]
    },
    {
     "name": "stderr",
     "output_type": "stream",
     "text": [
      "\r",
      "  0%|                                                                                                                                                                                                             | 0/832 [00:00<?, ?it/s]"
     ]
    },
    {
     "name": "stdout",
     "output_type": "stream",
     "text": [
      "Loading  J:\\Drago Guggiana Nilo\\Prey_capture\\VideoExperiment\\08_08_2020_16_00_22_miniscope_DG_200617_b_succ.avi\n",
      "Duration of video [s]:  27.73 , recorded with  30.0 fps!\n",
      "Overall # of frames:  832  found with (before cropping) frame dimensions:  1280 1024\n",
      "Starting to extract posture\n"
     ]
    },
    {
     "name": "stderr",
     "output_type": "stream",
     "text": [
      "840it [00:45, 18.31it/s]                                                                                                                                                                                                                  \n"
     ]
    },
    {
     "name": "stdout",
     "output_type": "stream",
     "text": [
      "Saving results in J:\\Drago Guggiana Nilo\\Prey_capture\\VideoExperiment...\n",
      "Starting to analyze %  J:\\Drago Guggiana Nilo\\Prey_capture\\VideoExperiment\\08_12_2020_15_44_23_miniscope_DG_200701_a_succ_noncon.avi\n",
      "J:\\Drago Guggiana Nilo\\Prey_capture\\VideoExperiment  already exists!\n"
     ]
    },
    {
     "name": "stderr",
     "output_type": "stream",
     "text": [
      "\r",
      "  0%|                                                                                                                                                                                                             | 0/511 [00:00<?, ?it/s]"
     ]
    },
    {
     "name": "stdout",
     "output_type": "stream",
     "text": [
      "Loading  J:\\Drago Guggiana Nilo\\Prey_capture\\VideoExperiment\\08_12_2020_15_44_23_miniscope_DG_200701_a_succ_noncon.avi\n",
      "Duration of video [s]:  17.03 , recorded with  30.0 fps!\n",
      "Overall # of frames:  511  found with (before cropping) frame dimensions:  1280 1024\n",
      "Starting to extract posture\n"
     ]
    },
    {
     "name": "stderr",
     "output_type": "stream",
     "text": [
      "520it [00:28, 18.54it/s]                                                                                                                                                                                                                  \n"
     ]
    },
    {
     "name": "stdout",
     "output_type": "stream",
     "text": [
      "Saving results in J:\\Drago Guggiana Nilo\\Prey_capture\\VideoExperiment...\n",
      "Starting to analyze %  J:\\Drago Guggiana Nilo\\Prey_capture\\VideoExperiment\\11_11_2019_01_21_58_miniscope_DG_190806_a_fail_nofluo.avi\n",
      "J:\\Drago Guggiana Nilo\\Prey_capture\\VideoExperiment  already exists!\n"
     ]
    },
    {
     "name": "stderr",
     "output_type": "stream",
     "text": [
      "\r",
      "  0%|                                                                                                                                                                                                            | 0/5119 [00:00<?, ?it/s]"
     ]
    },
    {
     "name": "stdout",
     "output_type": "stream",
     "text": [
      "Loading  J:\\Drago Guggiana Nilo\\Prey_capture\\VideoExperiment\\11_11_2019_01_21_58_miniscope_DG_190806_a_fail_nofluo.avi\n",
      "Duration of video [s]:  170.63 , recorded with  30.0 fps!\n",
      "Overall # of frames:  5119  found with (before cropping) frame dimensions:  1280 1024\n",
      "Starting to extract posture\n"
     ]
    },
    {
     "name": "stderr",
     "output_type": "stream",
     "text": [
      "5151it [04:37, 18.54it/s]                                                                                                                                                                                                                 \n"
     ]
    },
    {
     "name": "stdout",
     "output_type": "stream",
     "text": [
      "Saving results in J:\\Drago Guggiana Nilo\\Prey_capture\\VideoExperiment...\n",
      "Starting to analyze %  J:\\Drago Guggiana Nilo\\Prey_capture\\VideoExperiment\\04_02_2021_10_34_47_miniscope_DG_210202_a_succ.avi\n",
      "J:\\Drago Guggiana Nilo\\Prey_capture\\VideoExperiment  already exists!\n",
      "Starting to analyze %  J:\\Drago Guggiana Nilo\\Prey_capture\\VideoExperiment\\06_17_2021_10_39_40_miniscope_DG_210323_b_succ_dark_head.avi\n",
      "J:\\Drago Guggiana Nilo\\Prey_capture\\VideoExperiment  already exists!\n",
      "Starting to analyze %  J:\\Drago Guggiana Nilo\\Prey_capture\\test_files\\06_30_2021_18_07_01_miniscope_object_small.avi\n",
      "J:\\Drago Guggiana Nilo\\Prey_capture\\test_files  already exists!\n",
      "Starting to analyze %  J:\\Drago Guggiana Nilo\\Prey_capture\\test_files\\06_30_2021_18_09_49_miniscope_object_large.avi\n",
      "J:\\Drago Guggiana Nilo\\Prey_capture\\test_files  already exists!\n",
      "Starting to analyze %  J:\\Drago Guggiana Nilo\\Prey_capture\\VideoExperiment\\06_30_2021_17_19_57_miniscope_DG_210323_b_objt_nonres.avi\n",
      "J:\\Drago Guggiana Nilo\\Prey_capture\\VideoExperiment  already exists!\n",
      "The videos are analyzed. Now your research can truly start! \n",
      " You can create labeled videos with 'create_labeled_video'\n",
      "If the tracking is not satisfactory for some videos, consider expanding the training set. You can use the function 'extract_outlier_frames' to extract a few representative outlier frames.\n"
     ]
    }
   ],
   "source": [
    "# analyze videos\n",
    "\n",
    "# define the video path\n",
    "\n",
    "# video = [r'D:\\DLC_projects\\Prey_capture\\Prey_capture-Drago Guggiana-2020-03-26\\videos\\12_12_2019_15_18_57_miniscope_MM_191108_a_fail.avi']\n",
    "# video = [r'D:\\DLC_projects\\Prey_capture\\Prey_capture-Drago Guggiana-2020-03-26\\videos\\12_07_2019_15_29_41_miniscope_MM_191108_a_succ.avi']\n",
    "# video = [r'J:\\Drago Guggiana Nilo\\Prey_capture\\VideoExperiment\\12_12_2019_15_16_04_miniscope_MM_191108_a_succ.avi']\n",
    "deeplabcut.analyze_videos(config_path, video)\n",
    "deeplabcut.create_labeled_video(config_path, video)"
   ]
  },
  {
   "cell_type": "code",
   "execution_count": 6,
   "metadata": {},
   "outputs": [
    {
     "name": "stdout",
     "output_type": "stream",
     "text": [
      "D:\\DLC_projects\\Prey_capture\\Prey_capture-Drago Guggiana-2020-03-26\\videos\\03_02_2020_15_35_18_miniscope_MM_200129_a_succ_nomini.avi\n",
      "Starting %  D:\\DLC_projects\\Prey_capture\\Prey_capture-Drago Guggiana-2020-03-26\\videos D:\\DLC_projects\\Prey_capture\\Prey_capture-Drago Guggiana-2020-03-26\\videos\\03_02_2020_15_35_18_miniscope_MM_200129_a_succ_nomini.avi\n",
      "Loading  D:\\DLC_projects\\Prey_capture\\Prey_capture-Drago Guggiana-2020-03-26\\videos\\03_02_2020_15_35_18_miniscope_MM_200129_a_succ_nomini.avi and data.\n",
      "D:\\DLC_projects\\Prey_capture\\Prey_capture-Drago Guggiana-2020-03-26\\videos  already exists!\n",
      "Plots created! Please check the directory \"plot-poses\" within the video directory\n"
     ]
    }
   ],
   "source": [
    "# plot trajectories\n",
    "\n",
    "# use the path defined above\n",
    "deeplabcut.plot_trajectories(config_path, video)"
   ]
  },
  {
   "cell_type": "code",
   "execution_count": 5,
   "metadata": {},
   "outputs": [
    {
     "ename": "KeyError",
     "evalue": "'pcutoff'",
     "output_type": "error",
     "traceback": [
      "\u001b[1;31m---------------------------------------------------------------------------\u001b[0m",
      "\u001b[1;31mRemoteTraceback\u001b[0m                           Traceback (most recent call last)",
      "\u001b[1;31mRemoteTraceback\u001b[0m: \n\"\"\"\nTraceback (most recent call last):\n  File \"C:\\Users\\drguggiana\\.conda\\envs\\DLC-GPU\\lib\\multiprocessing\\pool.py\", line 121, in worker\n    result = (True, func(*args, **kwds))\n  File \"C:\\Users\\drguggiana\\.conda\\envs\\DLC-GPU\\lib\\multiprocessing\\pool.py\", line 44, in mapstar\n    return list(map(*args))\n  File \"C:\\Users\\drguggiana\\.conda\\envs\\DLC-GPU\\lib\\site-packages\\deeplabcut\\utils\\make_labeled_video.py\", line 657, in proc_video\n    cfg[\"pcutoff\"],\n  File \"C:\\Users\\drguggiana\\.conda\\envs\\DLC-GPU\\lib\\site-packages\\ruamel\\yaml\\comments.py\", line 826, in __getitem__\n    return ordereddict.__getitem__(self, key)\nKeyError: 'pcutoff'\n\"\"\"",
      "\nThe above exception was the direct cause of the following exception:\n",
      "\u001b[1;31mKeyError\u001b[0m                                  Traceback (most recent call last)",
      "\u001b[1;32m<ipython-input-5-9c13e2becbd8>\u001b[0m in \u001b[0;36m<module>\u001b[1;34m\u001b[0m\n\u001b[0;32m      2\u001b[0m \u001b[1;33m\u001b[0m\u001b[0m\n\u001b[0;32m      3\u001b[0m \u001b[1;31m# use the path defined above\u001b[0m\u001b[1;33m\u001b[0m\u001b[1;33m\u001b[0m\u001b[1;33m\u001b[0m\u001b[0m\n\u001b[1;32m----> 4\u001b[1;33m \u001b[0mdeeplabcut\u001b[0m\u001b[1;33m.\u001b[0m\u001b[0mcreate_labeled_video\u001b[0m\u001b[1;33m(\u001b[0m\u001b[0mconfig_path\u001b[0m\u001b[1;33m,\u001b[0m \u001b[0mvideo\u001b[0m\u001b[1;33m)\u001b[0m\u001b[1;33m\u001b[0m\u001b[1;33m\u001b[0m\u001b[0m\n\u001b[0m",
      "\u001b[1;32m~\\.conda\\envs\\DLC-GPU\\lib\\site-packages\\deeplabcut\\utils\\make_labeled_video.py\u001b[0m in \u001b[0;36mcreate_labeled_video\u001b[1;34m(config, videos, videotype, shuffle, trainingsetindex, filtered, fastmode, save_frames, keypoints_only, Frames2plot, displayedbodyparts, displayedindividuals, codec, outputframerate, destfolder, draw_skeleton, trailpoints, displaycropped, color_by, modelprefix, track_method)\u001b[0m\n\u001b[0;32m    509\u001b[0m \u001b[1;33m\u001b[0m\u001b[0m\n\u001b[0;32m    510\u001b[0m     \u001b[1;32mwith\u001b[0m \u001b[0mPool\u001b[0m\u001b[1;33m(\u001b[0m\u001b[0mmin\u001b[0m\u001b[1;33m(\u001b[0m\u001b[0mos\u001b[0m\u001b[1;33m.\u001b[0m\u001b[0mcpu_count\u001b[0m\u001b[1;33m(\u001b[0m\u001b[1;33m)\u001b[0m\u001b[1;33m,\u001b[0m \u001b[0mlen\u001b[0m\u001b[1;33m(\u001b[0m\u001b[0mVideos\u001b[0m\u001b[1;33m)\u001b[0m\u001b[1;33m)\u001b[0m\u001b[1;33m)\u001b[0m \u001b[1;32mas\u001b[0m \u001b[0mpool\u001b[0m\u001b[1;33m:\u001b[0m\u001b[1;33m\u001b[0m\u001b[1;33m\u001b[0m\u001b[0m\n\u001b[1;32m--> 511\u001b[1;33m         \u001b[0mpool\u001b[0m\u001b[1;33m.\u001b[0m\u001b[0mmap\u001b[0m\u001b[1;33m(\u001b[0m\u001b[0mfunc\u001b[0m\u001b[1;33m,\u001b[0m \u001b[0mVideos\u001b[0m\u001b[1;33m)\u001b[0m\u001b[1;33m\u001b[0m\u001b[1;33m\u001b[0m\u001b[0m\n\u001b[0m\u001b[0;32m    512\u001b[0m \u001b[1;33m\u001b[0m\u001b[0m\n\u001b[0;32m    513\u001b[0m     \u001b[0mos\u001b[0m\u001b[1;33m.\u001b[0m\u001b[0mchdir\u001b[0m\u001b[1;33m(\u001b[0m\u001b[0mstart_path\u001b[0m\u001b[1;33m)\u001b[0m\u001b[1;33m\u001b[0m\u001b[1;33m\u001b[0m\u001b[0m\n",
      "\u001b[1;32m~\\.conda\\envs\\DLC-GPU\\lib\\multiprocessing\\pool.py\u001b[0m in \u001b[0;36mmap\u001b[1;34m(self, func, iterable, chunksize)\u001b[0m\n\u001b[0;32m    266\u001b[0m         \u001b[1;32min\u001b[0m \u001b[0ma\u001b[0m \u001b[0mlist\u001b[0m \u001b[0mthat\u001b[0m \u001b[1;32mis\u001b[0m \u001b[0mreturned\u001b[0m\u001b[1;33m.\u001b[0m\u001b[1;33m\u001b[0m\u001b[1;33m\u001b[0m\u001b[0m\n\u001b[0;32m    267\u001b[0m         '''\n\u001b[1;32m--> 268\u001b[1;33m         \u001b[1;32mreturn\u001b[0m \u001b[0mself\u001b[0m\u001b[1;33m.\u001b[0m\u001b[0m_map_async\u001b[0m\u001b[1;33m(\u001b[0m\u001b[0mfunc\u001b[0m\u001b[1;33m,\u001b[0m \u001b[0miterable\u001b[0m\u001b[1;33m,\u001b[0m \u001b[0mmapstar\u001b[0m\u001b[1;33m,\u001b[0m \u001b[0mchunksize\u001b[0m\u001b[1;33m)\u001b[0m\u001b[1;33m.\u001b[0m\u001b[0mget\u001b[0m\u001b[1;33m(\u001b[0m\u001b[1;33m)\u001b[0m\u001b[1;33m\u001b[0m\u001b[1;33m\u001b[0m\u001b[0m\n\u001b[0m\u001b[0;32m    269\u001b[0m \u001b[1;33m\u001b[0m\u001b[0m\n\u001b[0;32m    270\u001b[0m     \u001b[1;32mdef\u001b[0m \u001b[0mstarmap\u001b[0m\u001b[1;33m(\u001b[0m\u001b[0mself\u001b[0m\u001b[1;33m,\u001b[0m \u001b[0mfunc\u001b[0m\u001b[1;33m,\u001b[0m \u001b[0miterable\u001b[0m\u001b[1;33m,\u001b[0m \u001b[0mchunksize\u001b[0m\u001b[1;33m=\u001b[0m\u001b[1;32mNone\u001b[0m\u001b[1;33m)\u001b[0m\u001b[1;33m:\u001b[0m\u001b[1;33m\u001b[0m\u001b[1;33m\u001b[0m\u001b[0m\n",
      "\u001b[1;32m~\\.conda\\envs\\DLC-GPU\\lib\\multiprocessing\\pool.py\u001b[0m in \u001b[0;36mget\u001b[1;34m(self, timeout)\u001b[0m\n\u001b[0;32m    655\u001b[0m             \u001b[1;32mreturn\u001b[0m \u001b[0mself\u001b[0m\u001b[1;33m.\u001b[0m\u001b[0m_value\u001b[0m\u001b[1;33m\u001b[0m\u001b[1;33m\u001b[0m\u001b[0m\n\u001b[0;32m    656\u001b[0m         \u001b[1;32melse\u001b[0m\u001b[1;33m:\u001b[0m\u001b[1;33m\u001b[0m\u001b[1;33m\u001b[0m\u001b[0m\n\u001b[1;32m--> 657\u001b[1;33m             \u001b[1;32mraise\u001b[0m \u001b[0mself\u001b[0m\u001b[1;33m.\u001b[0m\u001b[0m_value\u001b[0m\u001b[1;33m\u001b[0m\u001b[1;33m\u001b[0m\u001b[0m\n\u001b[0m\u001b[0;32m    658\u001b[0m \u001b[1;33m\u001b[0m\u001b[0m\n\u001b[0;32m    659\u001b[0m     \u001b[1;32mdef\u001b[0m \u001b[0m_set\u001b[0m\u001b[1;33m(\u001b[0m\u001b[0mself\u001b[0m\u001b[1;33m,\u001b[0m \u001b[0mi\u001b[0m\u001b[1;33m,\u001b[0m \u001b[0mobj\u001b[0m\u001b[1;33m)\u001b[0m\u001b[1;33m:\u001b[0m\u001b[1;33m\u001b[0m\u001b[1;33m\u001b[0m\u001b[0m\n",
      "\u001b[1;31mKeyError\u001b[0m: 'pcutoff'"
     ]
    }
   ],
   "source": [
    "# create labeled video\n",
    "\n",
    "# use the path defined above\n",
    "deeplabcut.create_labeled_video(config_path, video)"
   ]
  }
 ],
 "metadata": {
  "kernelspec": {
   "display_name": "Python [conda env:.conda-DLC-GPU]",
   "language": "python",
   "name": "conda-env-.conda-DLC-GPU-py"
  },
  "language_info": {
   "codemirror_mode": {
    "name": "ipython",
    "version": 3
   },
   "file_extension": ".py",
   "mimetype": "text/x-python",
   "name": "python",
   "nbconvert_exporter": "python",
   "pygments_lexer": "ipython3",
   "version": "3.7.10"
  }
 },
 "nbformat": 4,
 "nbformat_minor": 4
}

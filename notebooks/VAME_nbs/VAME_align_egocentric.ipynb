{
 "cells": [
  {
   "cell_type": "code",
   "execution_count": null,
   "id": "54c68c7d",
   "metadata": {},
   "source": [
    "import functions_bondjango as bd\n",
    "import functions_vame as fv\n",
    "import paths\n",
    "import random\n",
    "import os"
   ],
   "outputs": []
  },
  {
   "cell_type": "code",
   "execution_count": null,
   "id": "d37b0e5e",
   "metadata": {},
   "source": [
    "# get the file paths\n",
    "\n",
    "# define the number of files to use\n",
    "number_files = 0\n",
    "# define the search string\n",
    "search_string = ['rig:miniscope, result:succ', 'rig:miniscope, result:fail']\n",
    "\n",
    "# define the target model\n",
    "target_model = 'video_experiment'\n",
    "\n",
    "# allocate memory for the files\n",
    "files = []\n",
    "\n",
    "# for all the queries\n",
    "for query in search_string:\n",
    "    # get the queryset\n",
    "    files.append(bd.query_database(target_model, query))\n",
    "\n",
    "# concatenate the list\n",
    "files = [item for sublist in files for item in sublist]\n",
    "\n",
    "if number_files > 0:\n",
    "    # pick a random subset of number_files\n",
    "    files = random.sample(files, number_files)\n",
    "\n",
    "# get the video paths in a list\n",
    "video_paths = [el['avi_path'] for el in files]\n",
    "\n",
    "# define the working directory\n",
    "working_directory = paths.vame_path"
   ],
   "outputs": []
  },
  {
   "cell_type": "code",
   "execution_count": null,
   "id": "0875fe30",
   "metadata": {},
   "source": [
    "# Manually define the config path if project has already been created\n",
    "config = r\"D:\\VAME_projects\\VAME_prey_5-Apr21-2021\\config.yaml\""
   ],
   "outputs": []
  },
  {
   "cell_type": "code",
   "execution_count": null,
   "id": "bf15cf35",
   "metadata": {},
   "source": [
    "# Align video trajectories\n",
    "\n",
    "# get the project folder\n",
    "project_folder, _ = os.path.split(config)\n",
    "\n",
    "# for all the videos\n",
    "for el in files:\n",
    "    print(f'Current file: {el[\"slug\"]}')\n",
    "    \n",
    "    # if there is no preprocessing file, skip and warn\n",
    "    if len(el['preproc_files']) == 0:\n",
    "        print('no preprocessing file found')\n",
    "        continue\n",
    "    # load the avi file path\n",
    "    dlc_path = el['avi_path']\n",
    "    # edit it for the preprocessing path\n",
    "    dlc_path = dlc_path.replace('.avi', '_preproc.hdf5')\n",
    "    dlc_path = dlc_path.replace('VideoExperiment', 'AnalyzedData')\n",
    "    dlc_path = dlc_path.replace('VRExperiment', 'AnalyzedData')\n",
    "\n",
    "    # define the cropping\n",
    "    crop_size = (1, 1)\n",
    "    # egocentrically align the data and save\n",
    "    fv.run_alignment(dlc_path, project_folder, '.avi', crop_size)"
   ],
   "outputs": []
  }
 ],
 "metadata": {
  "kernelspec": {
   "display_name": "Python [conda env:.conda-prey_capture]",
   "language": "python",
   "name": "conda-env-.conda-prey_capture-py"
  },
  "language_info": {
   "codemirror_mode": {
    "name": "ipython",
    "version": 3
   },
   "file_extension": ".py",
   "mimetype": "text/x-python",
   "name": "python",
   "nbconvert_exporter": "python",
   "pygments_lexer": "ipython3",
   "version": "3.8.8"
  }
 },
 "nbformat": 4,
 "nbformat_minor": 5
}

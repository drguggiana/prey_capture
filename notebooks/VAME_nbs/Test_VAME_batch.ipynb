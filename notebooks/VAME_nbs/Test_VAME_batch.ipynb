{
 "cells": [
  {
   "cell_type": "code",
   "execution_count": null,
   "id": "1f641321",
   "metadata": {},
   "outputs": [],
   "source": [
    "# %load_ext autoreload\n",
    "# %autoreload 2\n",
    "# imports\n",
    "import vame\n",
    "import functions_bondjango as bd\n",
    "import functions_vame as fv\n",
    "import paths\n",
    "import random\n",
    "import os\n",
    "import shutil\n",
    "import h5py\n",
    "import numpy as np\n",
    "import importlib\n",
    "import processing_parameters\n",
    "import pandas as pd\n",
    "import pprint as pp\n",
    "from sklearn import cluster"
   ]
  },
  {
   "cell_type": "code",
   "execution_count": null,
   "id": "dd87bd6f",
   "metadata": {},
   "outputs": [],
   "source": [
    "# test the batch function\n",
    "importlib.reload(vame)\n",
    "# importlib.reload(paths)\n",
    "\n",
    "# define the test path\n",
    "# test_path = [r'09_16_2021_11_03_39_miniscope_DG_210728_a_succ_head_petri']\n",
    "test_path = [r'J:\\Drago Guggiana Nilo\\Prey_capture\\AnalyzedData\\09_08_2020_15_26_21_miniscope_DG_200701_a_succ_preproc.hdf5']\n",
    "\n",
    "# load the data\n",
    "# with pd.HDFStore(test_path) as h:\n",
    "#     data_in = h['full_traces']\n",
    "with h5py.File(test_path[0], 'r') as f:\n",
    "    values = np.array(f['full_traces/block0_values'])\n",
    "    labels = np.array(f['full_traces/block0_items']).astype(str)\n",
    "    data = pd.DataFrame(values, columns=labels)\n",
    "\n",
    "# get the list of columns\n",
    "column_list_all = data.columns\n",
    "column_list = [el for el in column_list_all if (('x' in el) or ('y' in el)) ]\n",
    "\n",
    "# get the config path\n",
    "config_file = os.path.join(paths.vame_path, paths.vame_current_model_name, 'config.yaml')\n",
    "\n",
    "config = vame.read_config(config_file)\n",
    "\n",
    "# test the alignment function\n",
    "aligned_traj, frames = vame.egocentric_alignment(config, pose_ref_index=[0, 7], crop_size=(200, 200), \n",
    "                                                 use_video=False, video_format='.mp4', check_video=False, \n",
    "                                                 save_flag=False, filename=[data], column_list=column_list)\n",
    "# aligned_traj = pd.DataFrame(aligned_traj.T, columns=column_list)\n",
    "print(aligned_traj.shape)\n"
   ]
  },
  {
   "cell_type": "code",
   "execution_count": null,
   "id": "9f531365",
   "metadata": {},
   "outputs": [],
   "source": [
    "# Test the embedding\n",
    "# import importlib\n",
    "# importlib.reload(vame)\n",
    "# pp.pprint(sys.modules)\n",
    "# assemble the template path\n",
    "first_file = os.listdir(os.path.join(paths.vame_results, 'results'))[0]\n",
    "template_path = os.path.join(paths.vame_results, 'results', first_file, 'VAME', 'kmeans-15', 'cluster_center_'+first_file+'.npy')\n",
    "# load the cluster centers\n",
    "cluster_centers = np.load(template_path)\n",
    "# get the number of clusters and features\n",
    "n_cluster, _ = cluster_centers.shape\n",
    "# create a new kmeans object\n",
    "random_state = 42\n",
    "n_init = 15\n",
    "kmeans_object = cluster.KMeans(init='k-means++', n_clusters=n_cluster, random_state=random_state, n_init=n_init)\n",
    "kmeans_object.cluster_centers_ = cluster_centers\n",
    "kmeans_object._n_threads = 1\n",
    "# run the pose segmentation\n",
    "latents, clusters = vame.batch_pose_segmentation(config, [0], aligned_traj, kmeans_obj=kmeans_object)\n",
    "\n",
    "print(latents[0].shape)\n",
    "print(clusters[0].shape)"
   ]
  }
 ],
 "metadata": {
  "interpreter": {
   "hash": "46de17c4a122c2fa2650de39421b3fdabec908683285861e501ff153a2f3b731"
  },
  "kernelspec": {
   "display_name": "Python 3.7.10 64-bit ('VAME': conda)",
   "name": "python3"
  },
  "language_info": {
   "codemirror_mode": {
    "name": "ipython",
    "version": 3
   },
   "file_extension": ".py",
   "mimetype": "text/x-python",
   "name": "python",
   "nbconvert_exporter": "python",
   "pygments_lexer": "ipython3",
   "version": "3.7.10"
  }
 },
 "nbformat": 4,
 "nbformat_minor": 5
}

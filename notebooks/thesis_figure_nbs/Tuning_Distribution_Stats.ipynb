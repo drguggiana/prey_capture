{
 "cells": [
  {
   "cell_type": "markdown",
   "metadata": {},
   "source": [
    "# Calculate Stats on Tuning Distributions"
   ]
  },
  {
   "cell_type": "code",
   "execution_count": 1,
   "metadata": {},
   "outputs": [],
   "source": [
    "import os\n",
    "import sys\n",
    "\n",
    "import numpy as np\n",
    "import pandas as pd\n",
    "import matplotlib.pyplot as plt\n",
    "import scipy.stats as stats\n",
    "import scikit_posthocs as posthoc\n",
    "from statsmodels.stats.multitest import multipletests\n",
    "from hmmlearn import hmm\n",
    "\n",
    "sys.path.insert(0, os.path.abspath(r'C:/Users/mmccann/repos/bonhoeffer/prey_capture/'))\n",
    "import functions_plotting as fp"
   ]
  },
  {
   "cell_type": "code",
   "execution_count": 2,
   "metadata": {},
   "outputs": [],
   "source": [
    "def h5_to_dict(filepath):\n",
    "    with pd.HDFStore(filepath, 'r') as store:\n",
    "        keys = store.keys()\n",
    "        data = {key[1:]: store[key] for key in keys}\n",
    "    return data\n",
    "\n",
    "\n",
    "def kruskal_w_dunn(data, nan_policy='omit', alpha=0.05):\n",
    "    statistic, p_val = stats.kruskal(*data, nan_policy=nan_policy)\n",
    "    dunn_test = posthoc.posthoc_dunn([*data], p_adjust='holm')\n",
    "\n",
    "    # Return just the corrected pvals instead of a whole matrix\n",
    "    if dunn_test.shape[-1] > 2:\n",
    "        p_val_corrected = np.array([dunn_test.iloc[0, i] for i in range(1, dunn_test.shape[-1])] + [dunn_test.iloc[1, -1]])\n",
    "    else:\n",
    "        p_val_corrected = np.array([dunn_test.iloc[0, i] for i in range(1, dunn_test.shape[-1])])\n",
    "    return p_val, p_val_corrected\n",
    "\n",
    "\n",
    "def mannwhitneyu_w_bonferroni(data, nan_policy='omit', alpha=0.05):\n",
    "    statistic, p_val = stats.mannwhitneyu(*data, nan_policy=nan_policy)\n",
    "    reject, p_val_corrected, _, _ = multipletests(p_val, alpha=alpha, method='holm')\n",
    "    return p_val, p_val_corrected\n",
    "\n",
    "\n",
    "def wilcoxon_w_bonferroni(data, nan_policy='omit', alpha=0.05):\n",
    "    statistic, p_val = stats.wilcoxon(*data, nan_policy=nan_policy)\n",
    "    reject, p_val_corrected, _, _ = multipletests(p_val, alpha=alpha, method='holm')\n",
    "    return p_val, p_val_corrected\n",
    "\n",
    "\n",
    "def sample_df(data1, data2):\n",
    "    df1 = data1.dropna()\n",
    "    df2 = data2.dropna() \n",
    "\n",
    "    if len(df1) > len(df2):\n",
    "        df1 = df1.sample(len(df2), replace=True)\n",
    "    elif len(df2) > len(df1):\n",
    "        df2 = df2.sample(len(df1), replace=True)\n",
    "    else:\n",
    "        pass\n",
    "\n",
    "    return df1, df2\n",
    "\n",
    "\n",
    "def bootstrap_tests(datasets, key, tuning_kind, method, n_iters=10000, alpha=0.05, bootstrap_all=False):\n",
    "    data = [ds[key][tuning_kind].dropna() for ds in datasets]\n",
    "\n",
    "    # First run the test on the raw data\n",
    "    if 'wilcoxon' in method.__name__:\n",
    "        raw_test = method(sample_df(*data), alpha=alpha)\n",
    "    elif 'mannwhitneyu' in method.__name__:\n",
    "        raw_test = method(data, alpha=alpha)\n",
    "    else:\n",
    "        raw_test = method(data, alpha=alpha)\n",
    "\n",
    "    # Now run the bootstrapping\n",
    "    p_vals = np.zeros(n_iters)\n",
    "    p_vals_corrected = np.zeros((n_iters, len(data)))\n",
    "\n",
    "    sample_size = len(max(data, key=len))\n",
    "\n",
    "    # Run bootstrap\n",
    "    for i in range(n_iters):\n",
    "\n",
    "        if bootstrap_all:\n",
    "            sample_data = [d.sample(sample_size, replace=True) for d in data]\n",
    "            # sample_data1  = data2.sample(sample_size, replace=True)\n",
    "        else:\n",
    "            sample_data = [data[0]] + [d.sample(sample_size, replace=True) for d in data[1:]]\n",
    "            \n",
    "        p_val, p_val_corrected = method(sample_data, alpha=alpha)\n",
    "        p_vals[i] = p_val\n",
    "        p_vals_corrected[i, :] = p_val_corrected\n",
    "\n",
    "    # 95% confidence interval of pvals\n",
    "    ci = stats.t.interval(0.95, len(p_vals) - 1, loc=np.nanmean(p_vals), scale=stats.sem(p_vals, nan_policy='omit'))\n",
    "\n",
    "    if method == kruskal_w_dunn:\n",
    "        # Since this is for multiple groups, need to run this column-wise\n",
    "\n",
    "        # Corrected 95% CIs\n",
    "        ci_corrected = np.zeros((len(data), 2))\n",
    "        for i in range(p_vals_corrected.shape[-1]):\n",
    "            p_val_corr_col = p_vals_corrected[:, i]\n",
    "            ci_col = stats.t.interval(0.95, len(p_val_corr_col) - 1, loc=np.nanmean(p_val_corr_col), scale=stats.sem(p_val_corr_col, nan_policy='omit'))\n",
    "            ci_corrected[i, :] = ci_col\n",
    "    else:\n",
    "        ci_corrected = stats.t.interval(0.95, len(p_vals_corrected) - 1, loc=np.nanmean(p_vals_corrected), scale=stats.sem(p_vals_corrected, nan_policy='omit'))\n",
    "\n",
    "    return raw_test, (p_vals, ci), (p_vals_corrected, ci_corrected)\n",
    "\n",
    "\n",
    "def plot_bootstrap_distributions(data):\n",
    "    # Plot the bootstrap distributions\n",
    "    num_ds = len(data)\n",
    "    cols = 3\n",
    "    rows = num_ds//cols + 1\n",
    "    fig, axes = plt.subplots(rows, cols, figsize=(5*cols, 5*rows))\n",
    "\n",
    "    for i, (ds, ax) in enumerate(zip(data, axes.ravel())):\n",
    "\n",
    "        raw_test = ds[0]\n",
    "        bootstrap_tests = ds[1]\n",
    "        corrected_bootstrap_tests = ds[2]\n",
    "\n",
    "        ax.hist(bootstrap_tests[0], bins=20)\n",
    "        ax.axvline(np.percentile(bootstrap_tests[0], 95), 0, 50, color='r')\n",
    "        ax.axvline(bootstrap_tests[1][0], 0, 50, color='g')\n",
    "        ax.axvline(bootstrap_tests[1][1], 0, 50, color='g')\n",
    "        ax.axvline(raw_test[0], 0, 100, color='k')\n",
    "\n",
    "\n",
    "    return fig, axes"
   ]
  },
  {
   "cell_type": "code",
   "execution_count": 3,
   "metadata": {},
   "outputs": [],
   "source": [
    "basedir = r\"Z:\\Prey_capture\\WF_Figures\"\n",
    "still_or_all = 'full'\n",
    "main_exp_path = os.path.join(basedir, still_or_all, r\"multi_normal_ALL\\stats.hdf5\")\n",
    "control_light_path  = os.path.join(basedir, still_or_all, r\"control_normal_ALL\\stats.hdf5\")\n",
    "control_dark_path = os.path.join(basedir, still_or_all, r\"control_dark_ALL\\stats.hdf5\")\n",
    "repeat_fixed_path = os.path.join(basedir, still_or_all, r\"repeat_normal_VWheelWF\\stats.hdf5\")\n",
    "repeat_free_path = os.path.join(basedir, still_or_all, r\"repeat_normal_VTuningWF\\stats.hdf5\")\n",
    "output_path = os.path.join(basedir, 'stats', f\"{still_or_all}_tuning_stats.h5\")"
   ]
  },
  {
   "cell_type": "code",
   "execution_count": 4,
   "metadata": {},
   "outputs": [],
   "source": [
    "main_exp_data = h5_to_dict(main_exp_path)\n",
    "control_light_data = h5_to_dict(control_light_path)\n",
    "control_dark_data = h5_to_dict(control_dark_path)\n",
    "repeat_fixed_data = h5_to_dict(repeat_fixed_path)\n",
    "repeat_free_data = h5_to_dict(repeat_free_path)"
   ]
  },
  {
   "cell_type": "code",
   "execution_count": 5,
   "metadata": {},
   "outputs": [],
   "source": [
    "method = kruskal_w_dunn\n",
    "bootstrap_iters = 1000"
   ]
  },
  {
   "cell_type": "markdown",
   "metadata": {},
   "source": [
    "# Kinematic Tuning"
   ]
  },
  {
   "cell_type": "code",
   "execution_count": 6,
   "metadata": {},
   "outputs": [],
   "source": [
    "def kinem_stats(data, ds_name, alpha=0.05):\n",
    "    cols = data[0][ds_name].columns.to_list()\n",
    "\n",
    "    stats = {}\n",
    "    for col in cols:\n",
    "        stats[col] = bootstrap_tests(data, ds_name, col,   \n",
    "                                      kruskal_w_dunn, n_iters=bootstrap_iters, bootstrap_all=True)\n",
    "\n",
    "    return stats"
   ]
  },
  {
   "cell_type": "code",
   "execution_count": 7,
   "metadata": {},
   "outputs": [],
   "source": [
    "# with pd.HDFStore(output_path, 'a') as store:\n",
    "#     a = store['kruskal_kinem_tuning_free']\n",
    "\n",
    "#     for var in a.index.to_list():\n",
    "#         print(var)\n",
    "#         print(a.loc[var, 'control_dark'][-1])"
   ]
  },
  {
   "cell_type": "code",
   "execution_count": 8,
   "metadata": {},
   "outputs": [
    {
     "name": "stderr",
     "output_type": "stream",
     "text": [
      "C:\\Users\\mmccann\\AppData\\Local\\Temp\\ipykernel_26392\\4136049986.py:8: PerformanceWarning: \n",
      "your performance may suffer as PyTables will pickle object types that it cannot\n",
      "map directly to c-types [inferred_type->mixed,key->block0_values] [items->Index(['main', 'control_light', 'control_dark'], dtype='object')]\n",
      "\n",
      "  store[f'kruskal_kinem_tuning_fixed'] = kinem_tuning_fixed\n",
      "C:\\Users\\mmccann\\AppData\\Local\\Temp\\ipykernel_26392\\4136049986.py:18: PerformanceWarning: \n",
      "your performance may suffer as PyTables will pickle object types that it cannot\n",
      "map directly to c-types [inferred_type->mixed,key->block0_values] [items->Index(['main', 'control_light', 'control_dark'], dtype='object')]\n",
      "\n",
      "  store[f'kruskal_kinem_tuning_free'] = kinem_tuning_free\n"
     ]
    }
   ],
   "source": [
    "# Fixed data\n",
    "fixed_kinem = kinem_stats([main_exp_data, control_light_data, control_dark_data], 'frac_kinem_resp_fixed')\n",
    "kinem_tuning_fixed = pd.DataFrame(fixed_kinem).T\n",
    "kinem_tuning_fixed.columns = ['main', 'control_light', 'control_dark']\n",
    "\n",
    "# Save it\n",
    "with pd.HDFStore(output_path, 'a') as store:\n",
    "    store[f'kruskal_kinem_tuning_fixed'] = kinem_tuning_fixed\n",
    "\n",
    "\n",
    "# Free data\n",
    "free_kinem = kinem_stats([main_exp_data, control_light_data, control_dark_data], 'frac_kinem_resp_free')\n",
    "kinem_tuning_free = pd.DataFrame(free_kinem).T\n",
    "kinem_tuning_free.columns = ['main', 'control_light', 'control_dark']\n",
    "\n",
    "# Save it\n",
    "with pd.HDFStore(output_path, 'a') as store:\n",
    "    store[f'kruskal_kinem_tuning_free'] = kinem_tuning_free\n"
   ]
  },
  {
   "cell_type": "markdown",
   "metadata": {},
   "source": [
    "# Visual Tuning"
   ]
  },
  {
   "cell_type": "code",
   "execution_count": 9,
   "metadata": {},
   "outputs": [],
   "source": [
    "vis_classes = ['', 'mod_', 'not_']"
   ]
  },
  {
   "cell_type": "markdown",
   "metadata": {},
   "source": [
    "## Frac Visual Tuning - Fixed to Free"
   ]
  },
  {
   "cell_type": "markdown",
   "metadata": {},
   "source": [
    "### Kruskal-Wallis"
   ]
  },
  {
   "cell_type": "code",
   "execution_count": 10,
   "metadata": {},
   "outputs": [
    {
     "name": "stdout",
     "output_type": "stream",
     "text": [
      "Fixed vs Free Visual: (0.6368039160463146, array([0.63680392]))\n",
      "Fixed vs Free Orientation: (5.562268506118308e-13, array([5.56226851e-13]))\n",
      "Fixed vs Free Direction: (0.039924934730025854, array([0.03992493]))\n",
      "Fixed vs Free Visual: (2.3224044590229072e-07, array([2.32240446e-07]))\n"
     ]
    },
    {
     "name": "stderr",
     "output_type": "stream",
     "text": [
      "C:\\Users\\mmccann\\AppData\\Local\\Temp\\ipykernel_26392\\93519829.py:23: PerformanceWarning: \n",
      "your performance may suffer as PyTables will pickle object types that it cannot\n",
      "map directly to c-types [inferred_type->mixed,key->block0_values] [items->Int64Index([0], dtype='int64')]\n",
      "\n",
      "  store[f'{vis_class}vis/kruskal_exp_fixed_free_vis'] = pd.DataFrame(exp_fixed_free_vis, index=['p_val', 'p_val_dunn_posthoc'])\n",
      "C:\\Users\\mmccann\\AppData\\Local\\Temp\\ipykernel_26392\\93519829.py:24: PerformanceWarning: \n",
      "your performance may suffer as PyTables will pickle object types that it cannot\n",
      "map directly to c-types [inferred_type->mixed,key->block0_values] [items->Int64Index([0], dtype='int64')]\n",
      "\n",
      "  store[f'{vis_class}vis/kruskal_exp_fixed_free_ori'] = pd.DataFrame(exp_fixed_free_ori, index=['p_val', 'p_val_dunn_posthoc'])\n",
      "C:\\Users\\mmccann\\AppData\\Local\\Temp\\ipykernel_26392\\93519829.py:25: PerformanceWarning: \n",
      "your performance may suffer as PyTables will pickle object types that it cannot\n",
      "map directly to c-types [inferred_type->mixed,key->block0_values] [items->Int64Index([0], dtype='int64')]\n",
      "\n",
      "  store[f'{vis_class}vis/kruskal_exp_fixed_free_dir'] = pd.DataFrame(exp_fixed_free_dir, index=['p_val', 'p_val_dunn_posthoc'])\n"
     ]
    },
    {
     "name": "stdout",
     "output_type": "stream",
     "text": [
      "Fixed vs Free Orientation: (0.03587265361570818, array([0.03587265]))\n",
      "Fixed vs Free Direction: (0.07335503543167632, array([0.07335504]))\n"
     ]
    },
    {
     "name": "stderr",
     "output_type": "stream",
     "text": [
      "C:\\Users\\mmccann\\AppData\\Local\\Temp\\ipykernel_26392\\93519829.py:23: PerformanceWarning: \n",
      "your performance may suffer as PyTables will pickle object types that it cannot\n",
      "map directly to c-types [inferred_type->mixed,key->block0_values] [items->Int64Index([0], dtype='int64')]\n",
      "\n",
      "  store[f'{vis_class}vis/kruskal_exp_fixed_free_vis'] = pd.DataFrame(exp_fixed_free_vis, index=['p_val', 'p_val_dunn_posthoc'])\n",
      "C:\\Users\\mmccann\\AppData\\Local\\Temp\\ipykernel_26392\\93519829.py:24: PerformanceWarning: \n",
      "your performance may suffer as PyTables will pickle object types that it cannot\n",
      "map directly to c-types [inferred_type->mixed,key->block0_values] [items->Int64Index([0], dtype='int64')]\n",
      "\n",
      "  store[f'{vis_class}vis/kruskal_exp_fixed_free_ori'] = pd.DataFrame(exp_fixed_free_ori, index=['p_val', 'p_val_dunn_posthoc'])\n",
      "C:\\Users\\mmccann\\AppData\\Local\\Temp\\ipykernel_26392\\93519829.py:25: PerformanceWarning: \n",
      "your performance may suffer as PyTables will pickle object types that it cannot\n",
      "map directly to c-types [inferred_type->mixed,key->block0_values] [items->Int64Index([0], dtype='int64')]\n",
      "\n",
      "  store[f'{vis_class}vis/kruskal_exp_fixed_free_dir'] = pd.DataFrame(exp_fixed_free_dir, index=['p_val', 'p_val_dunn_posthoc'])\n"
     ]
    },
    {
     "name": "stdout",
     "output_type": "stream",
     "text": [
      "Fixed vs Free Visual: (1.6615940515672703e-11, array([1.66159405e-11]))\n",
      "Fixed vs Free Orientation: (1.0729285688929223e-09, array([1.07292857e-09]))\n",
      "Fixed vs Free Direction: (1.6170257352397262e-06, array([1.61702574e-06]))\n"
     ]
    },
    {
     "name": "stderr",
     "output_type": "stream",
     "text": [
      "C:\\Users\\mmccann\\AppData\\Local\\Temp\\ipykernel_26392\\93519829.py:23: PerformanceWarning: \n",
      "your performance may suffer as PyTables will pickle object types that it cannot\n",
      "map directly to c-types [inferred_type->mixed,key->block0_values] [items->Int64Index([0], dtype='int64')]\n",
      "\n",
      "  store[f'{vis_class}vis/kruskal_exp_fixed_free_vis'] = pd.DataFrame(exp_fixed_free_vis, index=['p_val', 'p_val_dunn_posthoc'])\n",
      "C:\\Users\\mmccann\\AppData\\Local\\Temp\\ipykernel_26392\\93519829.py:24: PerformanceWarning: \n",
      "your performance may suffer as PyTables will pickle object types that it cannot\n",
      "map directly to c-types [inferred_type->mixed,key->block0_values] [items->Int64Index([0], dtype='int64')]\n",
      "\n",
      "  store[f'{vis_class}vis/kruskal_exp_fixed_free_ori'] = pd.DataFrame(exp_fixed_free_ori, index=['p_val', 'p_val_dunn_posthoc'])\n",
      "C:\\Users\\mmccann\\AppData\\Local\\Temp\\ipykernel_26392\\93519829.py:25: PerformanceWarning: \n",
      "your performance may suffer as PyTables will pickle object types that it cannot\n",
      "map directly to c-types [inferred_type->mixed,key->block0_values] [items->Int64Index([0], dtype='int64')]\n",
      "\n",
      "  store[f'{vis_class}vis/kruskal_exp_fixed_free_dir'] = pd.DataFrame(exp_fixed_free_dir, index=['p_val', 'p_val_dunn_posthoc'])\n"
     ]
    }
   ],
   "source": [
    "for vis_class in vis_classes:\n",
    "    # Do a Kruskal-Wallis test with posthoc Dunn test for multiple comparisons\n",
    "\n",
    "    # Visual\n",
    "    exp_fixed_free_vis = kruskal_w_dunn(sample_df(main_exp_data['frac_vis_resp_fixed'][f'{vis_class}visual'], \n",
    "                                                main_exp_data['frac_vis_resp_free'][f'{vis_class}visual']))\n",
    "    print('Fixed vs Free Visual:', exp_fixed_free_vis)\n",
    "\n",
    "\n",
    "    # Orientation\n",
    "    exp_fixed_free_ori = kruskal_w_dunn(sample_df(main_exp_data['frac_vis_resp_fixed'][f'{vis_class}orientation'], \n",
    "                                                main_exp_data['frac_vis_resp_free'][f'{vis_class}orientation']))\n",
    "    print('Fixed vs Free Orientation:', exp_fixed_free_ori)\n",
    "\n",
    "\n",
    "    # Direction\n",
    "    exp_fixed_free_dir = kruskal_w_dunn(sample_df(main_exp_data['frac_vis_resp_fixed'][f'{vis_class}direction'], \n",
    "                                                main_exp_data['frac_vis_resp_free'][f'{vis_class}direction']))\n",
    "    print('Fixed vs Free Direction:', exp_fixed_free_dir)\n",
    "\n",
    "    # Save the data\n",
    "    with pd.HDFStore(output_path, 'a') as store:\n",
    "        store[f'{vis_class}vis/kruskal_exp_fixed_free_vis'] = pd.DataFrame(exp_fixed_free_vis, index=['p_val', 'p_val_dunn_posthoc'])\n",
    "        store[f'{vis_class}vis/kruskal_exp_fixed_free_ori'] = pd.DataFrame(exp_fixed_free_ori, index=['p_val', 'p_val_dunn_posthoc'])\n",
    "        store[f'{vis_class}vis/kruskal_exp_fixed_free_dir'] = pd.DataFrame(exp_fixed_free_dir, index=['p_val', 'p_val_dunn_posthoc'])"
   ]
  },
  {
   "cell_type": "markdown",
   "metadata": {},
   "source": [
    "### Wilcoxon Rank Sum"
   ]
  },
  {
   "cell_type": "code",
   "execution_count": 11,
   "metadata": {},
   "outputs": [
    {
     "name": "stdout",
     "output_type": "stream",
     "text": [
      "Fixed vs Free Visual: (0.5535240471550497, array([0.55352405]))\n",
      "Fixed vs Free Orientation: (2.1622325721292424e-17, array([2.16223257e-17]))\n",
      "Fixed vs Free Direction: (0.0035842744078428378, array([0.00358427]))\n"
     ]
    },
    {
     "name": "stderr",
     "output_type": "stream",
     "text": [
      "C:\\Users\\mmccann\\AppData\\Local\\Temp\\ipykernel_26392\\4259356661.py:23: PerformanceWarning: \n",
      "your performance may suffer as PyTables will pickle object types that it cannot\n",
      "map directly to c-types [inferred_type->mixed,key->block0_values] [items->Int64Index([0], dtype='int64')]\n",
      "\n",
      "  store[f'{vis_class}vis/wilcoxon_exp_fixed_free_vis'] = pd.DataFrame(exp_fixed_free_vis, index=['p_val', 'p_val_bonferroni'])\n",
      "C:\\Users\\mmccann\\AppData\\Local\\Temp\\ipykernel_26392\\4259356661.py:24: PerformanceWarning: \n",
      "your performance may suffer as PyTables will pickle object types that it cannot\n",
      "map directly to c-types [inferred_type->mixed,key->block0_values] [items->Int64Index([0], dtype='int64')]\n",
      "\n",
      "  store[f'{vis_class}vis/wilcoxon_exp_fixed_free_ori'] = pd.DataFrame(exp_fixed_free_ori, index=['p_val', 'p_val_bonferroni'])\n",
      "C:\\Users\\mmccann\\AppData\\Local\\Temp\\ipykernel_26392\\4259356661.py:25: PerformanceWarning: \n",
      "your performance may suffer as PyTables will pickle object types that it cannot\n",
      "map directly to c-types [inferred_type->mixed,key->block0_values] [items->Int64Index([0], dtype='int64')]\n",
      "\n",
      "  store[f'{vis_class}vis/wilcoxon_exp_fixed_free_dir'] = pd.DataFrame(exp_fixed_free_dir, index=['p_val', 'p_val_bonferroni'])\n"
     ]
    },
    {
     "name": "stdout",
     "output_type": "stream",
     "text": [
      "Fixed vs Free Visual: (4.926295351994665e-09, array([4.92629535e-09]))\n",
      "Fixed vs Free Orientation: (0.024496672188132375, array([0.02449667]))\n",
      "Fixed vs Free Direction: (0.06942877646669475, array([0.06942878]))\n"
     ]
    },
    {
     "name": "stderr",
     "output_type": "stream",
     "text": [
      "C:\\Users\\mmccann\\AppData\\Local\\Temp\\ipykernel_26392\\4259356661.py:23: PerformanceWarning: \n",
      "your performance may suffer as PyTables will pickle object types that it cannot\n",
      "map directly to c-types [inferred_type->mixed,key->block0_values] [items->Int64Index([0], dtype='int64')]\n",
      "\n",
      "  store[f'{vis_class}vis/wilcoxon_exp_fixed_free_vis'] = pd.DataFrame(exp_fixed_free_vis, index=['p_val', 'p_val_bonferroni'])\n",
      "C:\\Users\\mmccann\\AppData\\Local\\Temp\\ipykernel_26392\\4259356661.py:24: PerformanceWarning: \n",
      "your performance may suffer as PyTables will pickle object types that it cannot\n",
      "map directly to c-types [inferred_type->mixed,key->block0_values] [items->Int64Index([0], dtype='int64')]\n",
      "\n",
      "  store[f'{vis_class}vis/wilcoxon_exp_fixed_free_ori'] = pd.DataFrame(exp_fixed_free_ori, index=['p_val', 'p_val_bonferroni'])\n",
      "C:\\Users\\mmccann\\AppData\\Local\\Temp\\ipykernel_26392\\4259356661.py:25: PerformanceWarning: \n",
      "your performance may suffer as PyTables will pickle object types that it cannot\n",
      "map directly to c-types [inferred_type->mixed,key->block0_values] [items->Int64Index([0], dtype='int64')]\n",
      "\n",
      "  store[f'{vis_class}vis/wilcoxon_exp_fixed_free_dir'] = pd.DataFrame(exp_fixed_free_dir, index=['p_val', 'p_val_bonferroni'])\n"
     ]
    },
    {
     "name": "stdout",
     "output_type": "stream",
     "text": [
      "Fixed vs Free Visual: (4.549549164014347e-20, array([4.54954916e-20]))\n",
      "Fixed vs Free Orientation: (9.044640840395366e-13, array([9.04464084e-13]))\n",
      "Fixed vs Free Direction: (9.382871325416073e-11, array([9.38287133e-11]))\n"
     ]
    },
    {
     "name": "stderr",
     "output_type": "stream",
     "text": [
      "C:\\Users\\mmccann\\AppData\\Local\\Temp\\ipykernel_26392\\4259356661.py:23: PerformanceWarning: \n",
      "your performance may suffer as PyTables will pickle object types that it cannot\n",
      "map directly to c-types [inferred_type->mixed,key->block0_values] [items->Int64Index([0], dtype='int64')]\n",
      "\n",
      "  store[f'{vis_class}vis/wilcoxon_exp_fixed_free_vis'] = pd.DataFrame(exp_fixed_free_vis, index=['p_val', 'p_val_bonferroni'])\n",
      "C:\\Users\\mmccann\\AppData\\Local\\Temp\\ipykernel_26392\\4259356661.py:24: PerformanceWarning: \n",
      "your performance may suffer as PyTables will pickle object types that it cannot\n",
      "map directly to c-types [inferred_type->mixed,key->block0_values] [items->Int64Index([0], dtype='int64')]\n",
      "\n",
      "  store[f'{vis_class}vis/wilcoxon_exp_fixed_free_ori'] = pd.DataFrame(exp_fixed_free_ori, index=['p_val', 'p_val_bonferroni'])\n",
      "C:\\Users\\mmccann\\AppData\\Local\\Temp\\ipykernel_26392\\4259356661.py:25: PerformanceWarning: \n",
      "your performance may suffer as PyTables will pickle object types that it cannot\n",
      "map directly to c-types [inferred_type->mixed,key->block0_values] [items->Int64Index([0], dtype='int64')]\n",
      "\n",
      "  store[f'{vis_class}vis/wilcoxon_exp_fixed_free_dir'] = pd.DataFrame(exp_fixed_free_dir, index=['p_val', 'p_val_bonferroni'])\n"
     ]
    }
   ],
   "source": [
    "# Do a Wilcox Rank-Sum test with Bonferroni correction\n",
    "\n",
    "for vis_class in vis_classes:\n",
    "    # Visual\n",
    "    exp_fixed_free_vis = wilcoxon_w_bonferroni(sample_df(main_exp_data['frac_vis_resp_fixed'][f'{vis_class}visual'], \n",
    "                                                        main_exp_data['frac_vis_resp_free'][f'{vis_class}visual']))\n",
    "    print('Fixed vs Free Visual:', exp_fixed_free_vis)\n",
    "\n",
    "\n",
    "    # Orientation\n",
    "    exp_fixed_free_ori = wilcoxon_w_bonferroni(sample_df(main_exp_data['frac_vis_resp_fixed'][f'{vis_class}orientation'], \n",
    "                                                        main_exp_data['frac_vis_resp_free'][f'{vis_class}orientation']))\n",
    "    print('Fixed vs Free Orientation:', exp_fixed_free_ori)\n",
    "\n",
    "\n",
    "    # Direction\n",
    "    exp_fixed_free_dir = wilcoxon_w_bonferroni(sample_df(main_exp_data['frac_vis_resp_fixed'][f'{vis_class}direction'], \n",
    "                                                        main_exp_data['frac_vis_resp_free'][f'{vis_class}direction']))\n",
    "    print('Fixed vs Free Direction:', exp_fixed_free_dir)\n",
    "\n",
    "    # Save the data\n",
    "    with pd.HDFStore(output_path, 'a') as store:\n",
    "        store[f'{vis_class}vis/wilcoxon_exp_fixed_free_vis'] = pd.DataFrame(exp_fixed_free_vis, index=['p_val', 'p_val_bonferroni'])\n",
    "        store[f'{vis_class}vis/wilcoxon_exp_fixed_free_ori'] = pd.DataFrame(exp_fixed_free_ori, index=['p_val', 'p_val_bonferroni'])\n",
    "        store[f'{vis_class}vis/wilcoxon_exp_fixed_free_dir'] = pd.DataFrame(exp_fixed_free_dir, index=['p_val', 'p_val_bonferroni'])"
   ]
  },
  {
   "cell_type": "markdown",
   "metadata": {},
   "source": [
    "### Mann-Whitney U"
   ]
  },
  {
   "cell_type": "code",
   "execution_count": 12,
   "metadata": {},
   "outputs": [
    {
     "name": "stdout",
     "output_type": "stream",
     "text": [
      "Fixed vs Free Visual: (0.6369949704544589, array([0.63699497]))\n",
      "Fixed vs Free Orientation: (5.573587631945802e-13, array([5.57358763e-13]))\n",
      "Fixed vs Free Direction: (0.03995130385570297, array([0.0399513]))\n"
     ]
    },
    {
     "name": "stderr",
     "output_type": "stream",
     "text": [
      "C:\\Users\\mmccann\\AppData\\Local\\Temp\\ipykernel_26392\\1293581978.py:20: PerformanceWarning: \n",
      "your performance may suffer as PyTables will pickle object types that it cannot\n",
      "map directly to c-types [inferred_type->mixed,key->block0_values] [items->Int64Index([0], dtype='int64')]\n",
      "\n",
      "  store[f'{vis_class}vis/mannwhitneyu_exp_fixed_free_vis'] = pd.DataFrame(exp_fixed_free_vis, index=['p_val', 'p_val_bonferroni'])\n",
      "C:\\Users\\mmccann\\AppData\\Local\\Temp\\ipykernel_26392\\1293581978.py:21: PerformanceWarning: \n",
      "your performance may suffer as PyTables will pickle object types that it cannot\n",
      "map directly to c-types [inferred_type->mixed,key->block0_values] [items->Int64Index([0], dtype='int64')]\n",
      "\n",
      "  store[f'{vis_class}vis/mannwhitneyu_exp_fixed_free_ori'] = pd.DataFrame(exp_fixed_free_ori, index=['p_val', 'p_val_bonferroni'])\n",
      "C:\\Users\\mmccann\\AppData\\Local\\Temp\\ipykernel_26392\\1293581978.py:22: PerformanceWarning: \n",
      "your performance may suffer as PyTables will pickle object types that it cannot\n",
      "map directly to c-types [inferred_type->mixed,key->block0_values] [items->Int64Index([0], dtype='int64')]\n",
      "\n",
      "  store[f'{vis_class}vis/mannwhitneyu_exp_fixed_free_dir'] = pd.DataFrame(exp_fixed_free_dir, index=['p_val', 'p_val_bonferroni'])\n"
     ]
    },
    {
     "name": "stdout",
     "output_type": "stream",
     "text": [
      "Fixed vs Free Visual: (2.3257271126334626e-07, array([2.32572711e-07]))\n",
      "Fixed vs Free Orientation: (0.03589671204574371, array([0.03589671]))\n",
      "Fixed vs Free Direction: (0.07339811688855885, array([0.07339812]))\n"
     ]
    },
    {
     "name": "stderr",
     "output_type": "stream",
     "text": [
      "C:\\Users\\mmccann\\AppData\\Local\\Temp\\ipykernel_26392\\1293581978.py:20: PerformanceWarning: \n",
      "your performance may suffer as PyTables will pickle object types that it cannot\n",
      "map directly to c-types [inferred_type->mixed,key->block0_values] [items->Int64Index([0], dtype='int64')]\n",
      "\n",
      "  store[f'{vis_class}vis/mannwhitneyu_exp_fixed_free_vis'] = pd.DataFrame(exp_fixed_free_vis, index=['p_val', 'p_val_bonferroni'])\n",
      "C:\\Users\\mmccann\\AppData\\Local\\Temp\\ipykernel_26392\\1293581978.py:21: PerformanceWarning: \n",
      "your performance may suffer as PyTables will pickle object types that it cannot\n",
      "map directly to c-types [inferred_type->mixed,key->block0_values] [items->Int64Index([0], dtype='int64')]\n",
      "\n",
      "  store[f'{vis_class}vis/mannwhitneyu_exp_fixed_free_ori'] = pd.DataFrame(exp_fixed_free_ori, index=['p_val', 'p_val_bonferroni'])\n",
      "C:\\Users\\mmccann\\AppData\\Local\\Temp\\ipykernel_26392\\1293581978.py:22: PerformanceWarning: \n",
      "your performance may suffer as PyTables will pickle object types that it cannot\n",
      "map directly to c-types [inferred_type->mixed,key->block0_values] [items->Int64Index([0], dtype='int64')]\n",
      "\n",
      "  store[f'{vis_class}vis/mannwhitneyu_exp_fixed_free_dir'] = pd.DataFrame(exp_fixed_free_dir, index=['p_val', 'p_val_bonferroni'])\n"
     ]
    },
    {
     "name": "stdout",
     "output_type": "stream",
     "text": [
      "Fixed vs Free Visual: (1.6646842229142308e-11, array([1.66468422e-11]))\n",
      "Fixed vs Free Orientation: (1.0751165968978945e-09, array([1.0751166e-09]))\n",
      "Fixed vs Free Direction: (1.6193600592145545e-06, array([1.61936006e-06]))\n"
     ]
    },
    {
     "name": "stderr",
     "output_type": "stream",
     "text": [
      "C:\\Users\\mmccann\\AppData\\Local\\Temp\\ipykernel_26392\\1293581978.py:20: PerformanceWarning: \n",
      "your performance may suffer as PyTables will pickle object types that it cannot\n",
      "map directly to c-types [inferred_type->mixed,key->block0_values] [items->Int64Index([0], dtype='int64')]\n",
      "\n",
      "  store[f'{vis_class}vis/mannwhitneyu_exp_fixed_free_vis'] = pd.DataFrame(exp_fixed_free_vis, index=['p_val', 'p_val_bonferroni'])\n",
      "C:\\Users\\mmccann\\AppData\\Local\\Temp\\ipykernel_26392\\1293581978.py:21: PerformanceWarning: \n",
      "your performance may suffer as PyTables will pickle object types that it cannot\n",
      "map directly to c-types [inferred_type->mixed,key->block0_values] [items->Int64Index([0], dtype='int64')]\n",
      "\n",
      "  store[f'{vis_class}vis/mannwhitneyu_exp_fixed_free_ori'] = pd.DataFrame(exp_fixed_free_ori, index=['p_val', 'p_val_bonferroni'])\n",
      "C:\\Users\\mmccann\\AppData\\Local\\Temp\\ipykernel_26392\\1293581978.py:22: PerformanceWarning: \n",
      "your performance may suffer as PyTables will pickle object types that it cannot\n",
      "map directly to c-types [inferred_type->mixed,key->block0_values] [items->Int64Index([0], dtype='int64')]\n",
      "\n",
      "  store[f'{vis_class}vis/mannwhitneyu_exp_fixed_free_dir'] = pd.DataFrame(exp_fixed_free_dir, index=['p_val', 'p_val_bonferroni'])\n"
     ]
    }
   ],
   "source": [
    "# Do a Mann-Whitney U test with Bonferroni correction\n",
    "for vis_class in vis_classes:\n",
    "    # Visual\n",
    "    exp_fixed_free_vis = mannwhitneyu_w_bonferroni(sample_df(main_exp_data['frac_vis_resp_fixed'][f'{vis_class}visual'], \n",
    "                                                main_exp_data['frac_vis_resp_free'][f'{vis_class}visual']))\n",
    "    print('Fixed vs Free Visual:', exp_fixed_free_vis)\n",
    "\n",
    "    # Orientation\n",
    "    exp_fixed_free_ori = mannwhitneyu_w_bonferroni(sample_df(main_exp_data['frac_vis_resp_fixed'][f'{vis_class}orientation'], \n",
    "                                                main_exp_data['frac_vis_resp_free'][f'{vis_class}orientation']))\n",
    "    print('Fixed vs Free Orientation:', exp_fixed_free_ori)\n",
    "\n",
    "    # Direction\n",
    "    exp_fixed_free_dir = mannwhitneyu_w_bonferroni(sample_df(main_exp_data['frac_vis_resp_fixed'][f'{vis_class}direction'], \n",
    "                                                main_exp_data['frac_vis_resp_free'][f'{vis_class}direction']))\n",
    "    print('Fixed vs Free Direction:', exp_fixed_free_dir)\n",
    "\n",
    "    # Save the data\n",
    "    with pd.HDFStore(output_path, 'a') as store:\n",
    "        store[f'{vis_class}vis/mannwhitneyu_exp_fixed_free_vis'] = pd.DataFrame(exp_fixed_free_vis, index=['p_val', 'p_val_bonferroni'])\n",
    "        store[f'{vis_class}vis/mannwhitneyu_exp_fixed_free_ori'] = pd.DataFrame(exp_fixed_free_ori, index=['p_val', 'p_val_bonferroni'])\n",
    "        store[f'{vis_class}vis/mannwhitneyu_exp_fixed_free_dir'] = pd.DataFrame(exp_fixed_free_dir, index=['p_val', 'p_val_bonferroni'])"
   ]
  },
  {
   "cell_type": "markdown",
   "metadata": {},
   "source": [
    "## Frac Visual Tuning - Exp vs Controls"
   ]
  },
  {
   "cell_type": "markdown",
   "metadata": {},
   "source": [
    "### Fixed Kruskal Wallis"
   ]
  },
  {
   "cell_type": "code",
   "execution_count": 13,
   "metadata": {},
   "outputs": [
    {
     "name": "stdout",
     "output_type": "stream",
     "text": [
      "Fixed vs Controls Visual 95% CI (-4.219527126916455e-25, 1.2989254494384436e-24)\n",
      "Fixed vs Controls Visual 95% CI - Corrected: [[-1.51802415e-16  4.67306565e-16]\n",
      " [-2.26808209e-23  1.32859905e-22]\n",
      " [ 4.19816074e-01  4.55552292e-01]]\n",
      "Fixed vs Controls Visual Raw: (8.366268871528825e-15, array([1.57344464e-07, 9.83506935e-11, 6.07587104e-01]))\n",
      "Fixed vs Controls Ori 95% CI (-1.0636906967236118e-68, 7.913360329623997e-68)\n",
      "Fixed vs Controls Ori 95% CI - Corrected: [[-6.65599890e-54  4.08754680e-53]\n",
      " [-1.72917781e-50  1.64163652e-49]\n",
      " [ 4.91761390e-01  5.21395961e-01]]\n",
      "Fixed vs Controls Ori Raw: (1.4468502067743607e-19, array([3.18220818e-11, 1.40078048e-12, 8.89164817e-01]))\n",
      "Fixed vs Controls Dir 95% CI (-4.3012065535100076e-33, 1.421860057360119e-32)\n",
      "Fixed vs Controls Dir 95% CI - Corrected: [[-8.73570228e-31  3.99797150e-30]\n",
      " [-2.25962428e-21  2.87911910e-20]\n",
      " [ 9.91548439e-02  1.17341937e-01]]\n",
      "Fixed vs Controls Dir Raw: (2.9913270159495296e-13, array([2.46097057e-08, 3.44884283e-08, 6.06697541e-01]))\n"
     ]
    },
    {
     "name": "stderr",
     "output_type": "stream",
     "text": [
      "C:\\Users\\mmccann\\AppData\\Local\\Temp\\ipykernel_26392\\1589276187.py:29: PerformanceWarning: \n",
      "your performance may suffer as PyTables will pickle object types that it cannot\n",
      "map directly to c-types [inferred_type->mixed,key->block0_values] [items->Index(['raw_test', 'bootstrap_tests', 'corrected_bootstrap_tests'], dtype='object')]\n",
      "\n",
      "  store[f'{vis_class}vis/kruskal_frac_fixed_vis'] = pd.DataFrame(list(frac_fixed_vis), columns=['pval', 'ci'],\n",
      "C:\\Users\\mmccann\\AppData\\Local\\Temp\\ipykernel_26392\\1589276187.py:31: PerformanceWarning: \n",
      "your performance may suffer as PyTables will pickle object types that it cannot\n",
      "map directly to c-types [inferred_type->mixed,key->block0_values] [items->Index(['raw_test', 'bootstrap_tests', 'corrected_bootstrap_tests'], dtype='object')]\n",
      "\n",
      "  store[f'{vis_class}vis/kruskal_frac_fixed_ori'] = pd.DataFrame(list(frac_fixed_ori), columns=['pval', 'ci'],\n",
      "C:\\Users\\mmccann\\AppData\\Local\\Temp\\ipykernel_26392\\1589276187.py:33: PerformanceWarning: \n",
      "your performance may suffer as PyTables will pickle object types that it cannot\n",
      "map directly to c-types [inferred_type->mixed,key->block0_values] [items->Index(['raw_test', 'bootstrap_tests', 'corrected_bootstrap_tests'], dtype='object')]\n",
      "\n",
      "  store[f'{vis_class}vis/kruskal_frac_fixed_dir'] = pd.DataFrame(list(frac_fixed_dir), columns=['pval', 'ci'],\n"
     ]
    },
    {
     "name": "stdout",
     "output_type": "stream",
     "text": [
      "Fixed vs Controls Visual 95% CI (-1.1569772824988846e-28, 3.6814519101355353e-28)\n",
      "Fixed vs Controls Visual 95% CI - Corrected: [[-5.65670454e-20  1.82091678e-19]\n",
      " [-3.99988624e-24  2.79616239e-23]\n",
      " [ 4.38124489e-01  4.73993771e-01]]\n",
      "Fixed vs Controls Visual Raw: (8.366268871528825e-15, array([1.57344464e-07, 9.83506935e-11, 6.07587104e-01]))\n",
      "Fixed vs Controls Ori 95% CI (-1.8342444679239147e-62, 1.0954879555280172e-61)\n",
      "Fixed vs Controls Ori 95% CI - Corrected: [[-1.06486468e-50  3.32862007e-50]\n",
      " [-5.43411620e-44  1.68488931e-43]\n",
      " [ 4.89940783e-01  5.19487394e-01]]\n",
      "Fixed vs Controls Ori Raw: (1.4468502067743607e-19, array([3.18220818e-11, 1.40078048e-12, 8.89164817e-01]))\n",
      "Fixed vs Controls Dir 95% CI (-1.6070419341079596e-32, 6.629091285711173e-32)\n",
      "Fixed vs Controls Dir 95% CI - Corrected: [[-7.69260996e-29  2.46972727e-28]\n",
      " [-1.50301225e-21  1.47636384e-20]\n",
      " [ 9.67120983e-02  1.14776608e-01]]\n",
      "Fixed vs Controls Dir Raw: (2.9913270159495296e-13, array([2.46097057e-08, 3.44884283e-08, 6.06697541e-01]))\n"
     ]
    },
    {
     "name": "stderr",
     "output_type": "stream",
     "text": [
      "C:\\Users\\mmccann\\AppData\\Local\\Temp\\ipykernel_26392\\1589276187.py:29: PerformanceWarning: \n",
      "your performance may suffer as PyTables will pickle object types that it cannot\n",
      "map directly to c-types [inferred_type->mixed,key->block0_values] [items->Index(['raw_test', 'bootstrap_tests', 'corrected_bootstrap_tests'], dtype='object')]\n",
      "\n",
      "  store[f'{vis_class}vis/kruskal_frac_fixed_vis'] = pd.DataFrame(list(frac_fixed_vis), columns=['pval', 'ci'],\n",
      "C:\\Users\\mmccann\\AppData\\Local\\Temp\\ipykernel_26392\\1589276187.py:31: PerformanceWarning: \n",
      "your performance may suffer as PyTables will pickle object types that it cannot\n",
      "map directly to c-types [inferred_type->mixed,key->block0_values] [items->Index(['raw_test', 'bootstrap_tests', 'corrected_bootstrap_tests'], dtype='object')]\n",
      "\n",
      "  store[f'{vis_class}vis/kruskal_frac_fixed_ori'] = pd.DataFrame(list(frac_fixed_ori), columns=['pval', 'ci'],\n",
      "C:\\Users\\mmccann\\AppData\\Local\\Temp\\ipykernel_26392\\1589276187.py:33: PerformanceWarning: \n",
      "your performance may suffer as PyTables will pickle object types that it cannot\n",
      "map directly to c-types [inferred_type->mixed,key->block0_values] [items->Index(['raw_test', 'bootstrap_tests', 'corrected_bootstrap_tests'], dtype='object')]\n",
      "\n",
      "  store[f'{vis_class}vis/kruskal_frac_fixed_dir'] = pd.DataFrame(list(frac_fixed_dir), columns=['pval', 'ci'],\n"
     ]
    },
    {
     "name": "stdout",
     "output_type": "stream",
     "text": [
      "Fixed vs Controls Visual 95% CI (-2.0185599810085138e-27, 6.214787138848481e-27)\n",
      "Fixed vs Controls Visual 95% CI - Corrected: [[-5.45997448e-22  3.56180864e-20]\n",
      " [-5.66155457e-23  1.76048362e-22]\n",
      " [ 4.42936029e-01  4.79224670e-01]]\n",
      "Fixed vs Controls Visual Raw: (8.366268871528825e-15, array([1.57344464e-07, 9.83506935e-11, 6.07587104e-01]))\n",
      "Fixed vs Controls Ori 95% CI (1.850931064218834e-69, 1.5091532065409043e-67)\n",
      "Fixed vs Controls Ori 95% CI - Corrected: [[-1.43546385e-54  5.45614300e-54]\n",
      " [-2.42735267e-48  1.13155035e-47]\n",
      " [ 4.90091043e-01  5.18645202e-01]]\n",
      "Fixed vs Controls Ori Raw: (1.4468502067743607e-19, array([3.18220818e-11, 1.40078048e-12, 8.89164817e-01]))\n",
      "Fixed vs Controls Dir 95% CI (-2.8793841375639956e-35, 1.0562255480113369e-34)\n",
      "Fixed vs Controls Dir 95% CI - Corrected: [[-6.56937887e-30  2.05018762e-29]\n",
      " [-3.84329221e-20  1.25527328e-19]\n",
      " [ 8.88894555e-02  1.04931858e-01]]\n",
      "Fixed vs Controls Dir Raw: (2.9913270159495296e-13, array([2.46097057e-08, 3.44884283e-08, 6.06697541e-01]))\n"
     ]
    },
    {
     "name": "stderr",
     "output_type": "stream",
     "text": [
      "C:\\Users\\mmccann\\AppData\\Local\\Temp\\ipykernel_26392\\1589276187.py:29: PerformanceWarning: \n",
      "your performance may suffer as PyTables will pickle object types that it cannot\n",
      "map directly to c-types [inferred_type->mixed,key->block0_values] [items->Index(['raw_test', 'bootstrap_tests', 'corrected_bootstrap_tests'], dtype='object')]\n",
      "\n",
      "  store[f'{vis_class}vis/kruskal_frac_fixed_vis'] = pd.DataFrame(list(frac_fixed_vis), columns=['pval', 'ci'],\n",
      "C:\\Users\\mmccann\\AppData\\Local\\Temp\\ipykernel_26392\\1589276187.py:31: PerformanceWarning: \n",
      "your performance may suffer as PyTables will pickle object types that it cannot\n",
      "map directly to c-types [inferred_type->mixed,key->block0_values] [items->Index(['raw_test', 'bootstrap_tests', 'corrected_bootstrap_tests'], dtype='object')]\n",
      "\n",
      "  store[f'{vis_class}vis/kruskal_frac_fixed_ori'] = pd.DataFrame(list(frac_fixed_ori), columns=['pval', 'ci'],\n",
      "C:\\Users\\mmccann\\AppData\\Local\\Temp\\ipykernel_26392\\1589276187.py:33: PerformanceWarning: \n",
      "your performance may suffer as PyTables will pickle object types that it cannot\n",
      "map directly to c-types [inferred_type->mixed,key->block0_values] [items->Index(['raw_test', 'bootstrap_tests', 'corrected_bootstrap_tests'], dtype='object')]\n",
      "\n",
      "  store[f'{vis_class}vis/kruskal_frac_fixed_dir'] = pd.DataFrame(list(frac_fixed_dir), columns=['pval', 'ci'],\n"
     ]
    }
   ],
   "source": [
    "# Do a Kruskal-Wallis test with Dunn posthoc\n",
    "for vis_class in vis_classes:\n",
    "    # Visual\n",
    "    frac_fixed_vis = bootstrap_tests([main_exp_data, control_light_data, control_dark_data],\n",
    "                                    'frac_vis_resp_fixed', 'visual',\n",
    "                                    kruskal_w_dunn, n_iters=bootstrap_iters, bootstrap_all=True)\n",
    "    print('Fixed vs Controls Visual 95% CI', frac_fixed_vis[1][1])\n",
    "    print('Fixed vs Controls Visual 95% CI - Corrected:', frac_fixed_vis[-1][1])\n",
    "    print('Fixed vs Controls Visual Raw:', frac_fixed_vis[0])\n",
    "\n",
    "    # Orientation\n",
    "    frac_fixed_ori = bootstrap_tests([main_exp_data, control_light_data, control_dark_data],\n",
    "                                    'frac_vis_resp_fixed', 'orientation',\n",
    "                                    kruskal_w_dunn, n_iters=bootstrap_iters, bootstrap_all=True)\n",
    "    print('Fixed vs Controls Ori 95% CI', frac_fixed_ori[1][1])\n",
    "    print('Fixed vs Controls Ori 95% CI - Corrected:', frac_fixed_ori[-1][1])\n",
    "    print('Fixed vs Controls Ori Raw:', frac_fixed_ori[0])\n",
    "\n",
    "    # Direction\n",
    "    frac_fixed_dir = bootstrap_tests([main_exp_data, control_light_data, control_dark_data],\n",
    "                                    'frac_vis_resp_fixed', 'direction',\n",
    "                                    kruskal_w_dunn, n_iters=bootstrap_iters, bootstrap_all=True)\n",
    "    print('Fixed vs Controls Dir 95% CI', frac_fixed_dir[1][1])\n",
    "    print('Fixed vs Controls Dir 95% CI - Corrected:', frac_fixed_dir[-1][1])\n",
    "    print('Fixed vs Controls Dir Raw:', frac_fixed_dir[0])\n",
    "\n",
    "    # Save the data\n",
    "    with pd.HDFStore(output_path, 'a') as store:\n",
    "        store[f'{vis_class}vis/kruskal_frac_fixed_vis'] = pd.DataFrame(list(frac_fixed_vis), columns=['pval', 'ci'],\n",
    "                                                    index=['raw_test', 'bootstrap_tests', 'corrected_bootstrap_tests']).T\n",
    "        store[f'{vis_class}vis/kruskal_frac_fixed_ori'] = pd.DataFrame(list(frac_fixed_ori), columns=['pval', 'ci'],\n",
    "                                                    index=['raw_test', 'bootstrap_tests', 'corrected_bootstrap_tests']).T\n",
    "        store[f'{vis_class}vis/kruskal_frac_fixed_dir'] = pd.DataFrame(list(frac_fixed_dir), columns=['pval', 'ci'],\n",
    "                                                    index=['raw_test', 'bootstrap_tests', 'corrected_bootstrap_tests']).T"
   ]
  },
  {
   "cell_type": "code",
   "execution_count": 14,
   "metadata": {},
   "outputs": [],
   "source": [
    "# with pd.HDFStore(output_path, 'a') as store:\n",
    "#     a = store[f'{vis_class}vis/kruskal_frac_fixed_dir']\n",
    "#     print(a.loc['ci', 'corrected_bootstrap_tests'])"
   ]
  },
  {
   "cell_type": "code",
   "execution_count": 15,
   "metadata": {},
   "outputs": [],
   "source": [
    "# frac_fixed_fig = plot_bootstrap_distributions([frac_fixed_gen, \n",
    "#                                                frac_fixed_vis, frac_fixed_vis_no_gen, \n",
    "#                                                frac_fixed_ori, frac_fixed_ori_no_gen,\n",
    "#                                                frac_fixed_dir, frac_fixed_dir_no_gen])\n",
    "# plt.show()"
   ]
  },
  {
   "cell_type": "markdown",
   "metadata": {},
   "source": [
    "### Free Kruskal Wallis"
   ]
  },
  {
   "cell_type": "code",
   "execution_count": 16,
   "metadata": {},
   "outputs": [
    {
     "name": "stdout",
     "output_type": "stream",
     "text": [
      "Free vs Controls Visual 95% CI (-2.293552065648655e-24, 3.202042221537334e-23)\n",
      "Free vs Controls Visual 95% CI - Corrected: [[-3.99624905e-17  9.32551390e-16]\n",
      " [-5.32818722e-21  7.36856654e-20]\n",
      " [ 3.35292329e-01  3.70159357e-01]]\n",
      "Free vs Controls Visual Raw: (2.256976482633488e-12, array([7.64863616e-07, 1.22705793e-08, 8.38302451e-01]))\n",
      "Free vs Controls Ori 95% CI (-2.11927911358321e-18, 3.893333413705232e-17)\n",
      "Free vs Controls Ori 95% CI - Corrected: [[ 1.53993090e-08  2.27089377e-07]\n",
      " [-8.40208193e-18  4.61750709e-17]\n",
      " [ 8.09009366e-03  1.23092298e-02]]\n",
      "Free vs Controls Ori Raw: (1.215172622536174e-07, array([1.63979021e-03, 2.42977059e-06, 3.70787550e-01]))\n",
      "Free vs Controls Dir 95% CI (-1.4208155342293747e-19, 4.462757231138728e-19)\n",
      "Free vs Controls Dir 95% CI - Corrected: [[ 2.30181264e-06  1.30035432e-05]\n",
      " [-5.54512750e-20  1.74336034e-19]\n",
      " [ 1.06225633e-05  3.69369105e-05]]\n",
      "Free vs Controls Dir Raw: (6.262589083172232e-09, array([4.42860952e-03, 4.12671462e-08, 9.76719490e-02]))\n"
     ]
    },
    {
     "name": "stderr",
     "output_type": "stream",
     "text": [
      "C:\\Users\\mmccann\\AppData\\Local\\Temp\\ipykernel_26392\\361439579.py:30: PerformanceWarning: \n",
      "your performance may suffer as PyTables will pickle object types that it cannot\n",
      "map directly to c-types [inferred_type->mixed,key->block0_values] [items->Index(['raw_test', 'bootstrap_tests', 'corrected_bootstrap_tests'], dtype='object')]\n",
      "\n",
      "  store[f'{vis_class}vis/kruskal_frac_free_vis'] = pd.DataFrame(list(frac_free_vis), columns=['pval', 'ci'],\n",
      "C:\\Users\\mmccann\\AppData\\Local\\Temp\\ipykernel_26392\\361439579.py:32: PerformanceWarning: \n",
      "your performance may suffer as PyTables will pickle object types that it cannot\n",
      "map directly to c-types [inferred_type->mixed,key->block0_values] [items->Index(['raw_test', 'bootstrap_tests', 'corrected_bootstrap_tests'], dtype='object')]\n",
      "\n",
      "  store[f'{vis_class}vis/kruskal_frac_free_ori'] = pd.DataFrame(list(frac_free_ori), columns=['pval', 'ci'],\n",
      "C:\\Users\\mmccann\\AppData\\Local\\Temp\\ipykernel_26392\\361439579.py:34: PerformanceWarning: \n",
      "your performance may suffer as PyTables will pickle object types that it cannot\n",
      "map directly to c-types [inferred_type->mixed,key->block0_values] [items->Index(['raw_test', 'bootstrap_tests', 'corrected_bootstrap_tests'], dtype='object')]\n",
      "\n",
      "  store[f'{vis_class}vis/kruskal_frac_free_dir'] = pd.DataFrame(list(frac_free_dir), columns=['pval', 'ci'],\n"
     ]
    },
    {
     "name": "stdout",
     "output_type": "stream",
     "text": [
      "Free vs Controls Visual 95% CI (-2.2903172318774863e-22, 8.257117647610215e-22)\n",
      "Free vs Controls Visual 95% CI - Corrected: [[-4.08220293e-16  3.92954557e-15]\n",
      " [-6.64653371e-19  2.70270429e-18]\n",
      " [ 3.46604739e-01  3.82142525e-01]]\n",
      "Free vs Controls Visual Raw: (2.256976482633488e-12, array([7.64863616e-07, 1.22705793e-08, 8.38302451e-01]))\n",
      "Free vs Controls Ori 95% CI (-2.4016967534712182e-17, 1.714797117192958e-16)\n",
      "Free vs Controls Ori 95% CI - Corrected: [[-5.57796259e-08  5.89275023e-07]\n",
      " [-2.30529380e-17  1.69191412e-16]\n",
      " [ 7.33341625e-03  1.05178693e-02]]\n",
      "Free vs Controls Ori Raw: (1.215172622536174e-07, array([1.63979021e-03, 2.42977059e-06, 3.70787550e-01]))\n",
      "Free vs Controls Dir 95% CI (-2.1571559548748927e-23, 5.383599068347666e-21)\n",
      "Free vs Controls Dir 95% CI - Corrected: [[ 2.04386016e-06  1.74271193e-05]\n",
      " [-4.72957162e-23  1.68295766e-21]\n",
      " [ 7.38681214e-06  1.96197522e-05]]\n",
      "Free vs Controls Dir Raw: (6.262589083172232e-09, array([4.42860952e-03, 4.12671462e-08, 9.76719490e-02]))\n"
     ]
    },
    {
     "name": "stderr",
     "output_type": "stream",
     "text": [
      "C:\\Users\\mmccann\\AppData\\Local\\Temp\\ipykernel_26392\\361439579.py:30: PerformanceWarning: \n",
      "your performance may suffer as PyTables will pickle object types that it cannot\n",
      "map directly to c-types [inferred_type->mixed,key->block0_values] [items->Index(['raw_test', 'bootstrap_tests', 'corrected_bootstrap_tests'], dtype='object')]\n",
      "\n",
      "  store[f'{vis_class}vis/kruskal_frac_free_vis'] = pd.DataFrame(list(frac_free_vis), columns=['pval', 'ci'],\n",
      "C:\\Users\\mmccann\\AppData\\Local\\Temp\\ipykernel_26392\\361439579.py:32: PerformanceWarning: \n",
      "your performance may suffer as PyTables will pickle object types that it cannot\n",
      "map directly to c-types [inferred_type->mixed,key->block0_values] [items->Index(['raw_test', 'bootstrap_tests', 'corrected_bootstrap_tests'], dtype='object')]\n",
      "\n",
      "  store[f'{vis_class}vis/kruskal_frac_free_ori'] = pd.DataFrame(list(frac_free_ori), columns=['pval', 'ci'],\n",
      "C:\\Users\\mmccann\\AppData\\Local\\Temp\\ipykernel_26392\\361439579.py:34: PerformanceWarning: \n",
      "your performance may suffer as PyTables will pickle object types that it cannot\n",
      "map directly to c-types [inferred_type->mixed,key->block0_values] [items->Index(['raw_test', 'bootstrap_tests', 'corrected_bootstrap_tests'], dtype='object')]\n",
      "\n",
      "  store[f'{vis_class}vis/kruskal_frac_free_dir'] = pd.DataFrame(list(frac_free_dir), columns=['pval', 'ci'],\n"
     ]
    },
    {
     "name": "stdout",
     "output_type": "stream",
     "text": [
      "Free vs Controls Visual 95% CI (-1.8149404102245638e-19, 5.588185986573532e-19)\n",
      "Free vs Controls Visual 95% CI - Corrected: [[-1.01077514e-14  3.45453837e-14]\n",
      " [-2.18609153e-17  6.92461335e-17]\n",
      " [ 3.37533010e-01  3.72058173e-01]]\n",
      "Free vs Controls Visual Raw: (2.256976482633488e-12, array([7.64863616e-07, 1.22705793e-08, 8.38302451e-01]))\n",
      "Free vs Controls Ori 95% CI (1.5099301866604638e-18, 6.879028375583995e-17)\n",
      "Free vs Controls Ori 95% CI - Corrected: [[-1.74980158e-07  1.07017463e-06]\n",
      " [-1.21416337e-18  6.52293351e-17]\n",
      " [ 6.71690798e-03  1.05030008e-02]]\n",
      "Free vs Controls Ori Raw: (1.215172622536174e-07, array([1.63979021e-03, 2.42977059e-06, 3.70787550e-01]))\n",
      "Free vs Controls Dir 95% CI (-4.294102840342218e-19, 1.3913044790794687e-18)\n",
      "Free vs Controls Dir 95% CI - Corrected: [[-2.51336381e-05  8.97180641e-05]\n",
      " [-1.26110234e-19  4.34334560e-19]\n",
      " [ 7.63207363e-06  2.42823288e-05]]\n",
      "Free vs Controls Dir Raw: (6.262589083172232e-09, array([4.42860952e-03, 4.12671462e-08, 9.76719490e-02]))\n"
     ]
    },
    {
     "name": "stderr",
     "output_type": "stream",
     "text": [
      "C:\\Users\\mmccann\\AppData\\Local\\Temp\\ipykernel_26392\\361439579.py:30: PerformanceWarning: \n",
      "your performance may suffer as PyTables will pickle object types that it cannot\n",
      "map directly to c-types [inferred_type->mixed,key->block0_values] [items->Index(['raw_test', 'bootstrap_tests', 'corrected_bootstrap_tests'], dtype='object')]\n",
      "\n",
      "  store[f'{vis_class}vis/kruskal_frac_free_vis'] = pd.DataFrame(list(frac_free_vis), columns=['pval', 'ci'],\n",
      "C:\\Users\\mmccann\\AppData\\Local\\Temp\\ipykernel_26392\\361439579.py:32: PerformanceWarning: \n",
      "your performance may suffer as PyTables will pickle object types that it cannot\n",
      "map directly to c-types [inferred_type->mixed,key->block0_values] [items->Index(['raw_test', 'bootstrap_tests', 'corrected_bootstrap_tests'], dtype='object')]\n",
      "\n",
      "  store[f'{vis_class}vis/kruskal_frac_free_ori'] = pd.DataFrame(list(frac_free_ori), columns=['pval', 'ci'],\n",
      "C:\\Users\\mmccann\\AppData\\Local\\Temp\\ipykernel_26392\\361439579.py:34: PerformanceWarning: \n",
      "your performance may suffer as PyTables will pickle object types that it cannot\n",
      "map directly to c-types [inferred_type->mixed,key->block0_values] [items->Index(['raw_test', 'bootstrap_tests', 'corrected_bootstrap_tests'], dtype='object')]\n",
      "\n",
      "  store[f'{vis_class}vis/kruskal_frac_free_dir'] = pd.DataFrame(list(frac_free_dir), columns=['pval', 'ci'],\n"
     ]
    }
   ],
   "source": [
    "# Do a Kruskal-Wallis test with Dunn posthoc\n",
    "for vis_class in vis_classes:\n",
    "    # Visual\n",
    "    frac_free_vis = bootstrap_tests([main_exp_data, control_light_data, control_dark_data],\n",
    "                                    'frac_vis_resp_free', 'visual',\n",
    "                                    kruskal_w_dunn, n_iters=bootstrap_iters, bootstrap_all=True)\n",
    "    print('Free vs Controls Visual 95% CI', frac_free_vis[1][1])\n",
    "    print('Free vs Controls Visual 95% CI - Corrected:', frac_free_vis[-1][1])\n",
    "    print('Free vs Controls Visual Raw:', frac_free_vis[0])\n",
    "\n",
    "    # Orientation\n",
    "    frac_free_ori = bootstrap_tests([main_exp_data, control_light_data, control_dark_data],\n",
    "                                    'frac_vis_resp_free', 'orientation',\n",
    "                                    kruskal_w_dunn, n_iters=bootstrap_iters, bootstrap_all=True)\n",
    "    print('Free vs Controls Ori 95% CI', frac_free_ori[1][1])\n",
    "    print('Free vs Controls Ori 95% CI - Corrected:', frac_free_ori[-1][1])\n",
    "    print('Free vs Controls Ori Raw:', frac_free_ori[0])\n",
    "\n",
    "    # Direction\n",
    "    frac_free_dir = bootstrap_tests([main_exp_data, control_light_data, control_dark_data],\n",
    "                                    'frac_vis_resp_free', 'direction',\n",
    "                                    kruskal_w_dunn, n_iters=bootstrap_iters, bootstrap_all=True)\n",
    "    print('Free vs Controls Dir 95% CI', frac_free_dir[1][1])\n",
    "    print('Free vs Controls Dir 95% CI - Corrected:', frac_free_dir[-1][1])\n",
    "    print('Free vs Controls Dir Raw:', frac_free_dir[0])\n",
    "\n",
    "\n",
    "    # Save the data\n",
    "    with pd.HDFStore(output_path, 'a') as store:\n",
    "        store[f'{vis_class}vis/kruskal_frac_free_vis'] = pd.DataFrame(list(frac_free_vis), columns=['pval', 'ci'],\n",
    "                                                    index=['raw_test', 'bootstrap_tests', 'corrected_bootstrap_tests']).T\n",
    "        store[f'{vis_class}vis/kruskal_frac_free_ori'] = pd.DataFrame(list(frac_free_ori), columns=['pval', 'ci'],\n",
    "                                                    index=['raw_test', 'bootstrap_tests', 'corrected_bootstrap_tests']).T\n",
    "        store[f'{vis_class}vis/kruskal_frac_free_dir'] = pd.DataFrame(list(frac_free_dir), columns=['pval', 'ci'],\n",
    "                                                    index=['raw_test', 'bootstrap_tests', 'corrected_bootstrap_tests']).T"
   ]
  },
  {
   "cell_type": "code",
   "execution_count": 17,
   "metadata": {},
   "outputs": [],
   "source": [
    "# frac_free_fig = plot_bootstrap_distributions([frac_free_gen, \n",
    "#                                               frac_free_vis, frac_free_vis_no_gen, \n",
    "#                                               frac_free_ori, frac_free_ori_no_gen,\n",
    "#                                               frac_free_dir, frac_free_dir_no_gen])\n",
    "# plt.show()"
   ]
  },
  {
   "cell_type": "markdown",
   "metadata": {},
   "source": [
    "## Count Vis Tuning - Fixed vs Free"
   ]
  },
  {
   "cell_type": "markdown",
   "metadata": {},
   "source": [
    "### Kruskal-Wallis"
   ]
  },
  {
   "cell_type": "code",
   "execution_count": 18,
   "metadata": {},
   "outputs": [
    {
     "name": "stdout",
     "output_type": "stream",
     "text": [
      "Fixed vs Free Visual: (1.6646842229142308e-11, array([1.66468422e-11]))\n",
      "Fixed vs Free Orientation: (1.0751165968978945e-09, array([1.0751166e-09]))\n",
      "Fixed vs Free Direction: (1.6193600592145545e-06, array([1.61936006e-06]))\n"
     ]
    },
    {
     "name": "stderr",
     "output_type": "stream",
     "text": [
      "C:\\Users\\mmccann\\AppData\\Local\\Temp\\ipykernel_26392\\1890522773.py:22: PerformanceWarning: \n",
      "your performance may suffer as PyTables will pickle object types that it cannot\n",
      "map directly to c-types [inferred_type->mixed,key->block0_values] [items->Int64Index([0], dtype='int64')]\n",
      "\n",
      "  store[f'{vis_class}vis/kruskal_exp_fixed_free_vis_count'] = pd.DataFrame(count_exp_fixed_free_vis, index=['p_val', 'p_val_dunn_posthoc'])\n",
      "C:\\Users\\mmccann\\AppData\\Local\\Temp\\ipykernel_26392\\1890522773.py:23: PerformanceWarning: \n",
      "your performance may suffer as PyTables will pickle object types that it cannot\n",
      "map directly to c-types [inferred_type->mixed,key->block0_values] [items->Int64Index([0], dtype='int64')]\n",
      "\n",
      "  store[f'{vis_class}vis/kruskal_exp_fixed_free_ori_count'] = pd.DataFrame(count_exp_fixed_free_ori, index=['p_val', 'p_val_dunn_posthoc'])\n",
      "C:\\Users\\mmccann\\AppData\\Local\\Temp\\ipykernel_26392\\1890522773.py:24: PerformanceWarning: \n",
      "your performance may suffer as PyTables will pickle object types that it cannot\n",
      "map directly to c-types [inferred_type->mixed,key->block0_values] [items->Int64Index([0], dtype='int64')]\n",
      "\n",
      "  store[f'{vis_class}vis/kruskal_exp_fixed_free_dir_count'] = pd.DataFrame(count_exp_fixed_free_dir, index=['p_val', 'p_val_dunn_posthoc'])\n"
     ]
    },
    {
     "name": "stdout",
     "output_type": "stream",
     "text": [
      "Fixed vs Free Visual: (1.6646842229142308e-11, array([1.66468422e-11]))\n",
      "Fixed vs Free Orientation: (1.0751165968978945e-09, array([1.0751166e-09]))\n",
      "Fixed vs Free Direction: (1.6193600592145545e-06, array([1.61936006e-06]))\n"
     ]
    },
    {
     "name": "stderr",
     "output_type": "stream",
     "text": [
      "C:\\Users\\mmccann\\AppData\\Local\\Temp\\ipykernel_26392\\1890522773.py:22: PerformanceWarning: \n",
      "your performance may suffer as PyTables will pickle object types that it cannot\n",
      "map directly to c-types [inferred_type->mixed,key->block0_values] [items->Int64Index([0], dtype='int64')]\n",
      "\n",
      "  store[f'{vis_class}vis/kruskal_exp_fixed_free_vis_count'] = pd.DataFrame(count_exp_fixed_free_vis, index=['p_val', 'p_val_dunn_posthoc'])\n",
      "C:\\Users\\mmccann\\AppData\\Local\\Temp\\ipykernel_26392\\1890522773.py:23: PerformanceWarning: \n",
      "your performance may suffer as PyTables will pickle object types that it cannot\n",
      "map directly to c-types [inferred_type->mixed,key->block0_values] [items->Int64Index([0], dtype='int64')]\n",
      "\n",
      "  store[f'{vis_class}vis/kruskal_exp_fixed_free_ori_count'] = pd.DataFrame(count_exp_fixed_free_ori, index=['p_val', 'p_val_dunn_posthoc'])\n",
      "C:\\Users\\mmccann\\AppData\\Local\\Temp\\ipykernel_26392\\1890522773.py:24: PerformanceWarning: \n",
      "your performance may suffer as PyTables will pickle object types that it cannot\n",
      "map directly to c-types [inferred_type->mixed,key->block0_values] [items->Int64Index([0], dtype='int64')]\n",
      "\n",
      "  store[f'{vis_class}vis/kruskal_exp_fixed_free_dir_count'] = pd.DataFrame(count_exp_fixed_free_dir, index=['p_val', 'p_val_dunn_posthoc'])\n"
     ]
    },
    {
     "name": "stdout",
     "output_type": "stream",
     "text": [
      "Fixed vs Free Visual: (1.6646842229142308e-11, array([1.66468422e-11]))\n",
      "Fixed vs Free Orientation: (1.0751165968978945e-09, array([1.0751166e-09]))\n",
      "Fixed vs Free Direction: (1.6193600592145545e-06, array([1.61936006e-06]))\n"
     ]
    },
    {
     "name": "stderr",
     "output_type": "stream",
     "text": [
      "C:\\Users\\mmccann\\AppData\\Local\\Temp\\ipykernel_26392\\1890522773.py:22: PerformanceWarning: \n",
      "your performance may suffer as PyTables will pickle object types that it cannot\n",
      "map directly to c-types [inferred_type->mixed,key->block0_values] [items->Int64Index([0], dtype='int64')]\n",
      "\n",
      "  store[f'{vis_class}vis/kruskal_exp_fixed_free_vis_count'] = pd.DataFrame(count_exp_fixed_free_vis, index=['p_val', 'p_val_dunn_posthoc'])\n",
      "C:\\Users\\mmccann\\AppData\\Local\\Temp\\ipykernel_26392\\1890522773.py:23: PerformanceWarning: \n",
      "your performance may suffer as PyTables will pickle object types that it cannot\n",
      "map directly to c-types [inferred_type->mixed,key->block0_values] [items->Int64Index([0], dtype='int64')]\n",
      "\n",
      "  store[f'{vis_class}vis/kruskal_exp_fixed_free_ori_count'] = pd.DataFrame(count_exp_fixed_free_ori, index=['p_val', 'p_val_dunn_posthoc'])\n",
      "C:\\Users\\mmccann\\AppData\\Local\\Temp\\ipykernel_26392\\1890522773.py:24: PerformanceWarning: \n",
      "your performance may suffer as PyTables will pickle object types that it cannot\n",
      "map directly to c-types [inferred_type->mixed,key->block0_values] [items->Int64Index([0], dtype='int64')]\n",
      "\n",
      "  store[f'{vis_class}vis/kruskal_exp_fixed_free_dir_count'] = pd.DataFrame(count_exp_fixed_free_dir, index=['p_val', 'p_val_dunn_posthoc'])\n"
     ]
    }
   ],
   "source": [
    "# Do a Kruskal-Wallis test with posthoc Dunn test for multiple comparisons\n",
    "for vis_class in vis_classes:\n",
    "\n",
    "    # Visual\n",
    "    count_exp_fixed_free_vis = kruskal_w_dunn(sample_df(main_exp_data['count_vis_resp_fixed'][f'{vis_class}visual'], \n",
    "                                                main_exp_data['count_vis_resp_free'][f'{vis_class}visual']))\n",
    "    print('Fixed vs Free Visual:', exp_fixed_free_vis)\n",
    "\n",
    "    # Orientation\n",
    "    count_exp_fixed_free_ori = kruskal_w_dunn(sample_df(main_exp_data['count_vis_resp_fixed'][f'{vis_class}orientation'], \n",
    "                                                main_exp_data['count_vis_resp_free'][f'{vis_class}orientation']))\n",
    "    print('Fixed vs Free Orientation:', exp_fixed_free_ori)\n",
    "\n",
    "\n",
    "    # Direction\n",
    "    count_exp_fixed_free_dir = kruskal_w_dunn(sample_df(main_exp_data['count_vis_resp_fixed'][f'{vis_class}direction'], \n",
    "                                                main_exp_data['count_vis_resp_free'][f'{vis_class}direction']))\n",
    "    print('Fixed vs Free Direction:', exp_fixed_free_dir)\n",
    "\n",
    "    # Save the data\n",
    "    with pd.HDFStore(output_path, 'a') as store:\n",
    "        store[f'{vis_class}vis/kruskal_exp_fixed_free_vis_count'] = pd.DataFrame(count_exp_fixed_free_vis, index=['p_val', 'p_val_dunn_posthoc'])\n",
    "        store[f'{vis_class}vis/kruskal_exp_fixed_free_ori_count'] = pd.DataFrame(count_exp_fixed_free_ori, index=['p_val', 'p_val_dunn_posthoc'])\n",
    "        store[f'{vis_class}vis/kruskal_exp_fixed_free_dir_count'] = pd.DataFrame(count_exp_fixed_free_dir, index=['p_val', 'p_val_dunn_posthoc'])"
   ]
  },
  {
   "cell_type": "markdown",
   "metadata": {},
   "source": [
    "### Wilcoxon Rank Sum"
   ]
  },
  {
   "cell_type": "code",
   "execution_count": 19,
   "metadata": {},
   "outputs": [
    {
     "name": "stdout",
     "output_type": "stream",
     "text": [
      "Fixed vs Free Visual: (1.6646842229142308e-11, array([1.66468422e-11]))\n",
      "Fixed vs Free Orientation: (1.0751165968978945e-09, array([1.0751166e-09]))\n",
      "Fixed vs Free Direction: (1.6193600592145545e-06, array([1.61936006e-06]))\n",
      "Fixed vs Free Visual: (1.6646842229142308e-11, array([1.66468422e-11]))\n"
     ]
    },
    {
     "name": "stderr",
     "output_type": "stream",
     "text": [
      "C:\\Users\\mmccann\\AppData\\Local\\Temp\\ipykernel_26392\\553109606.py:21: PerformanceWarning: \n",
      "your performance may suffer as PyTables will pickle object types that it cannot\n",
      "map directly to c-types [inferred_type->mixed,key->block0_values] [items->Int64Index([0], dtype='int64')]\n",
      "\n",
      "  store[f'{vis_class}vis/wilcoxon_exp_fixed_free_vis_count'] = pd.DataFrame(count_exp_fixed_free_vis, index=['p_val', 'p_val_dunn_posthoc'])\n",
      "C:\\Users\\mmccann\\AppData\\Local\\Temp\\ipykernel_26392\\553109606.py:22: PerformanceWarning: \n",
      "your performance may suffer as PyTables will pickle object types that it cannot\n",
      "map directly to c-types [inferred_type->mixed,key->block0_values] [items->Int64Index([0], dtype='int64')]\n",
      "\n",
      "  store[f'{vis_class}vis/wilcoxon_exp_fixed_freew_ori_count'] = pd.DataFrame(count_exp_fixed_free_ori, index=['p_val', 'p_val_dunn_posthoc'])\n",
      "C:\\Users\\mmccann\\AppData\\Local\\Temp\\ipykernel_26392\\553109606.py:23: PerformanceWarning: \n",
      "your performance may suffer as PyTables will pickle object types that it cannot\n",
      "map directly to c-types [inferred_type->mixed,key->block0_values] [items->Int64Index([0], dtype='int64')]\n",
      "\n",
      "  store[f'{vis_class}vis/wilcoxon_exp_fixed_free_dir_count'] = pd.DataFrame(count_exp_fixed_free_dir, index=['p_val', 'p_val_dunn_posthoc'])\n"
     ]
    },
    {
     "name": "stdout",
     "output_type": "stream",
     "text": [
      "Fixed vs Free Orientation: (1.0751165968978945e-09, array([1.0751166e-09]))\n",
      "Fixed vs Free Direction: (1.6193600592145545e-06, array([1.61936006e-06]))\n",
      "Fixed vs Free Visual: (1.6646842229142308e-11, array([1.66468422e-11]))\n"
     ]
    },
    {
     "name": "stderr",
     "output_type": "stream",
     "text": [
      "C:\\Users\\mmccann\\AppData\\Local\\Temp\\ipykernel_26392\\553109606.py:21: PerformanceWarning: \n",
      "your performance may suffer as PyTables will pickle object types that it cannot\n",
      "map directly to c-types [inferred_type->mixed,key->block0_values] [items->Int64Index([0], dtype='int64')]\n",
      "\n",
      "  store[f'{vis_class}vis/wilcoxon_exp_fixed_free_vis_count'] = pd.DataFrame(count_exp_fixed_free_vis, index=['p_val', 'p_val_dunn_posthoc'])\n",
      "C:\\Users\\mmccann\\AppData\\Local\\Temp\\ipykernel_26392\\553109606.py:22: PerformanceWarning: \n",
      "your performance may suffer as PyTables will pickle object types that it cannot\n",
      "map directly to c-types [inferred_type->mixed,key->block0_values] [items->Int64Index([0], dtype='int64')]\n",
      "\n",
      "  store[f'{vis_class}vis/wilcoxon_exp_fixed_freew_ori_count'] = pd.DataFrame(count_exp_fixed_free_ori, index=['p_val', 'p_val_dunn_posthoc'])\n",
      "C:\\Users\\mmccann\\AppData\\Local\\Temp\\ipykernel_26392\\553109606.py:23: PerformanceWarning: \n",
      "your performance may suffer as PyTables will pickle object types that it cannot\n",
      "map directly to c-types [inferred_type->mixed,key->block0_values] [items->Int64Index([0], dtype='int64')]\n",
      "\n",
      "  store[f'{vis_class}vis/wilcoxon_exp_fixed_free_dir_count'] = pd.DataFrame(count_exp_fixed_free_dir, index=['p_val', 'p_val_dunn_posthoc'])\n"
     ]
    },
    {
     "name": "stdout",
     "output_type": "stream",
     "text": [
      "Fixed vs Free Orientation: (1.0751165968978945e-09, array([1.0751166e-09]))\n",
      "Fixed vs Free Direction: (1.6193600592145545e-06, array([1.61936006e-06]))\n"
     ]
    },
    {
     "name": "stderr",
     "output_type": "stream",
     "text": [
      "C:\\Users\\mmccann\\AppData\\Local\\Temp\\ipykernel_26392\\553109606.py:21: PerformanceWarning: \n",
      "your performance may suffer as PyTables will pickle object types that it cannot\n",
      "map directly to c-types [inferred_type->mixed,key->block0_values] [items->Int64Index([0], dtype='int64')]\n",
      "\n",
      "  store[f'{vis_class}vis/wilcoxon_exp_fixed_free_vis_count'] = pd.DataFrame(count_exp_fixed_free_vis, index=['p_val', 'p_val_dunn_posthoc'])\n",
      "C:\\Users\\mmccann\\AppData\\Local\\Temp\\ipykernel_26392\\553109606.py:22: PerformanceWarning: \n",
      "your performance may suffer as PyTables will pickle object types that it cannot\n",
      "map directly to c-types [inferred_type->mixed,key->block0_values] [items->Int64Index([0], dtype='int64')]\n",
      "\n",
      "  store[f'{vis_class}vis/wilcoxon_exp_fixed_freew_ori_count'] = pd.DataFrame(count_exp_fixed_free_ori, index=['p_val', 'p_val_dunn_posthoc'])\n",
      "C:\\Users\\mmccann\\AppData\\Local\\Temp\\ipykernel_26392\\553109606.py:23: PerformanceWarning: \n",
      "your performance may suffer as PyTables will pickle object types that it cannot\n",
      "map directly to c-types [inferred_type->mixed,key->block0_values] [items->Int64Index([0], dtype='int64')]\n",
      "\n",
      "  store[f'{vis_class}vis/wilcoxon_exp_fixed_free_dir_count'] = pd.DataFrame(count_exp_fixed_free_dir, index=['p_val', 'p_val_dunn_posthoc'])\n"
     ]
    }
   ],
   "source": [
    "# Do a Wilcox Rank-Sum test with Bonferroni correction\n",
    "for vis_class in vis_classes:\n",
    "\n",
    "    # Visual\n",
    "    count_exp_fixed_free_vis = wilcoxon_w_bonferroni(sample_df(main_exp_data['count_vis_resp_fixed'][f'{vis_class}visual'], \n",
    "                                                main_exp_data['count_vis_resp_free'][f'{vis_class}visual']))\n",
    "    print('Fixed vs Free Visual:', exp_fixed_free_vis)\n",
    "\n",
    "    # Orientation\n",
    "    count_exp_fixed_free_ori = wilcoxon_w_bonferroni(sample_df(main_exp_data['count_vis_resp_fixed'][f'{vis_class}orientation'], \n",
    "                                                main_exp_data['count_vis_resp_free'][f'{vis_class}orientation']))\n",
    "    print('Fixed vs Free Orientation:', exp_fixed_free_ori)\n",
    "\n",
    "    # Direction\n",
    "    count_exp_fixed_free_dir = wilcoxon_w_bonferroni(sample_df(main_exp_data['count_vis_resp_fixed'][f'{vis_class}direction'], \n",
    "                                                main_exp_data['count_vis_resp_free'][f'{vis_class}direction']))\n",
    "    print('Fixed vs Free Direction:', exp_fixed_free_dir)\n",
    "\n",
    "    # Save the data\n",
    "    with pd.HDFStore(output_path, 'a') as store:\n",
    "        store[f'{vis_class}vis/wilcoxon_exp_fixed_free_vis_count'] = pd.DataFrame(count_exp_fixed_free_vis, index=['p_val', 'p_val_dunn_posthoc'])\n",
    "        store[f'{vis_class}vis/wilcoxon_exp_fixed_freew_ori_count'] = pd.DataFrame(count_exp_fixed_free_ori, index=['p_val', 'p_val_dunn_posthoc'])\n",
    "        store[f'{vis_class}vis/wilcoxon_exp_fixed_free_dir_count'] = pd.DataFrame(count_exp_fixed_free_dir, index=['p_val', 'p_val_dunn_posthoc'])"
   ]
  },
  {
   "cell_type": "markdown",
   "metadata": {},
   "source": [
    "### Mann-Whitney U"
   ]
  },
  {
   "cell_type": "code",
   "execution_count": 20,
   "metadata": {},
   "outputs": [
    {
     "name": "stdout",
     "output_type": "stream",
     "text": [
      "Fixed vs Free Visual: (1.6646842229142308e-11, array([1.66468422e-11]))\n",
      "Fixed vs Free Orientation: (1.0751165968978945e-09, array([1.0751166e-09]))\n",
      "Fixed vs Free Direction: (1.6193600592145545e-06, array([1.61936006e-06]))\n",
      "Fixed vs Free Visual:"
     ]
    },
    {
     "name": "stderr",
     "output_type": "stream",
     "text": [
      "C:\\Users\\mmccann\\AppData\\Local\\Temp\\ipykernel_26392\\920968691.py:21: PerformanceWarning: \n",
      "your performance may suffer as PyTables will pickle object types that it cannot\n",
      "map directly to c-types [inferred_type->mixed,key->block0_values] [items->Int64Index([0], dtype='int64')]\n",
      "\n",
      "  store[f'{vis_class}vis/mannwhitneyu_exp_fixed_free_vis_count'] = pd.DataFrame(count_exp_fixed_free_vis, index=['p_val', 'p_val_dunn_posthoc'])\n",
      "C:\\Users\\mmccann\\AppData\\Local\\Temp\\ipykernel_26392\\920968691.py:22: PerformanceWarning: \n",
      "your performance may suffer as PyTables will pickle object types that it cannot\n",
      "map directly to c-types [inferred_type->mixed,key->block0_values] [items->Int64Index([0], dtype='int64')]\n",
      "\n",
      "  store[f'{vis_class}vis/mannwhitneyu_exp_fixed_freew_ori_count'] = pd.DataFrame(count_exp_fixed_free_ori, index=['p_val', 'p_val_dunn_posthoc'])\n",
      "C:\\Users\\mmccann\\AppData\\Local\\Temp\\ipykernel_26392\\920968691.py:23: PerformanceWarning: \n",
      "your performance may suffer as PyTables will pickle object types that it cannot\n",
      "map directly to c-types [inferred_type->mixed,key->block0_values] [items->Int64Index([0], dtype='int64')]\n",
      "\n",
      "  store[f'{vis_class}vis/mannwhitneyu_exp_fixed_free_dir_count'] = pd.DataFrame(count_exp_fixed_free_dir, index=['p_val', 'p_val_dunn_posthoc'])\n"
     ]
    },
    {
     "name": "stdout",
     "output_type": "stream",
     "text": [
      " (1.6646842229142308e-11, array([1.66468422e-11]))\n",
      "Fixed vs Free Orientation: (1.0751165968978945e-09, array([1.0751166e-09]))\n",
      "Fixed vs Free Direction: (1.6193600592145545e-06, array([1.61936006e-06]))\n",
      "Fixed vs Free Visual: (1.6646842229142308e-11, array([1.66468422e-11]))\n"
     ]
    },
    {
     "name": "stderr",
     "output_type": "stream",
     "text": [
      "C:\\Users\\mmccann\\AppData\\Local\\Temp\\ipykernel_26392\\920968691.py:21: PerformanceWarning: \n",
      "your performance may suffer as PyTables will pickle object types that it cannot\n",
      "map directly to c-types [inferred_type->mixed,key->block0_values] [items->Int64Index([0], dtype='int64')]\n",
      "\n",
      "  store[f'{vis_class}vis/mannwhitneyu_exp_fixed_free_vis_count'] = pd.DataFrame(count_exp_fixed_free_vis, index=['p_val', 'p_val_dunn_posthoc'])\n",
      "C:\\Users\\mmccann\\AppData\\Local\\Temp\\ipykernel_26392\\920968691.py:22: PerformanceWarning: \n",
      "your performance may suffer as PyTables will pickle object types that it cannot\n",
      "map directly to c-types [inferred_type->mixed,key->block0_values] [items->Int64Index([0], dtype='int64')]\n",
      "\n",
      "  store[f'{vis_class}vis/mannwhitneyu_exp_fixed_freew_ori_count'] = pd.DataFrame(count_exp_fixed_free_ori, index=['p_val', 'p_val_dunn_posthoc'])\n",
      "C:\\Users\\mmccann\\AppData\\Local\\Temp\\ipykernel_26392\\920968691.py:23: PerformanceWarning: \n",
      "your performance may suffer as PyTables will pickle object types that it cannot\n",
      "map directly to c-types [inferred_type->mixed,key->block0_values] [items->Int64Index([0], dtype='int64')]\n",
      "\n",
      "  store[f'{vis_class}vis/mannwhitneyu_exp_fixed_free_dir_count'] = pd.DataFrame(count_exp_fixed_free_dir, index=['p_val', 'p_val_dunn_posthoc'])\n"
     ]
    },
    {
     "name": "stdout",
     "output_type": "stream",
     "text": [
      "Fixed vs Free Orientation: (1.0751165968978945e-09, array([1.0751166e-09]))\n",
      "Fixed vs Free Direction: (1.6193600592145545e-06, array([1.61936006e-06]))\n"
     ]
    },
    {
     "name": "stderr",
     "output_type": "stream",
     "text": [
      "C:\\Users\\mmccann\\AppData\\Local\\Temp\\ipykernel_26392\\920968691.py:21: PerformanceWarning: \n",
      "your performance may suffer as PyTables will pickle object types that it cannot\n",
      "map directly to c-types [inferred_type->mixed,key->block0_values] [items->Int64Index([0], dtype='int64')]\n",
      "\n",
      "  store[f'{vis_class}vis/mannwhitneyu_exp_fixed_free_vis_count'] = pd.DataFrame(count_exp_fixed_free_vis, index=['p_val', 'p_val_dunn_posthoc'])\n",
      "C:\\Users\\mmccann\\AppData\\Local\\Temp\\ipykernel_26392\\920968691.py:22: PerformanceWarning: \n",
      "your performance may suffer as PyTables will pickle object types that it cannot\n",
      "map directly to c-types [inferred_type->mixed,key->block0_values] [items->Int64Index([0], dtype='int64')]\n",
      "\n",
      "  store[f'{vis_class}vis/mannwhitneyu_exp_fixed_freew_ori_count'] = pd.DataFrame(count_exp_fixed_free_ori, index=['p_val', 'p_val_dunn_posthoc'])\n",
      "C:\\Users\\mmccann\\AppData\\Local\\Temp\\ipykernel_26392\\920968691.py:23: PerformanceWarning: \n",
      "your performance may suffer as PyTables will pickle object types that it cannot\n",
      "map directly to c-types [inferred_type->mixed,key->block0_values] [items->Int64Index([0], dtype='int64')]\n",
      "\n",
      "  store[f'{vis_class}vis/mannwhitneyu_exp_fixed_free_dir_count'] = pd.DataFrame(count_exp_fixed_free_dir, index=['p_val', 'p_val_dunn_posthoc'])\n"
     ]
    }
   ],
   "source": [
    "# Do a Mann-Whitney U test with Bonferroni correction\n",
    "for vis_class in vis_classes:\n",
    "\n",
    "    # Visual\n",
    "    count_exp_fixed_free_vis = mannwhitneyu_w_bonferroni(sample_df(main_exp_data['count_vis_resp_fixed'][f'{vis_class}visual'], \n",
    "                                                main_exp_data['count_vis_resp_free'][f'{vis_class}visual']))\n",
    "    print('Fixed vs Free Visual:', exp_fixed_free_vis)\n",
    "\n",
    "    # Orientation\n",
    "    count_exp_fixed_free_ori = mannwhitneyu_w_bonferroni(sample_df(main_exp_data['count_vis_resp_fixed'][f'{vis_class}orientation'], \n",
    "                                                main_exp_data['count_vis_resp_free'][f'{vis_class}orientation']))\n",
    "    print('Fixed vs Free Orientation:', exp_fixed_free_ori)\n",
    "\n",
    "    # Direction\n",
    "    count_exp_fixed_free_dir = mannwhitneyu_w_bonferroni(sample_df(main_exp_data['count_vis_resp_fixed'][f'{vis_class}direction'], \n",
    "                                                main_exp_data['count_vis_resp_free'][f'{vis_class}direction']))\n",
    "    print('Fixed vs Free Direction:', exp_fixed_free_dir)\n",
    "\n",
    "    # Save the data\n",
    "    with pd.HDFStore(output_path, 'a') as store:\n",
    "        store[f'{vis_class}vis/mannwhitneyu_exp_fixed_free_vis_count'] = pd.DataFrame(count_exp_fixed_free_vis, index=['p_val', 'p_val_dunn_posthoc'])\n",
    "        store[f'{vis_class}vis/mannwhitneyu_exp_fixed_freew_ori_count'] = pd.DataFrame(count_exp_fixed_free_ori, index=['p_val', 'p_val_dunn_posthoc'])\n",
    "        store[f'{vis_class}vis/mannwhitneyu_exp_fixed_free_dir_count'] = pd.DataFrame(count_exp_fixed_free_dir, index=['p_val', 'p_val_dunn_posthoc'])"
   ]
  },
  {
   "cell_type": "markdown",
   "metadata": {},
   "source": [
    "## Count Vis Tuning - Exp vs Controls"
   ]
  },
  {
   "cell_type": "markdown",
   "metadata": {},
   "source": [
    "### Fixed Kruskal Wallis"
   ]
  },
  {
   "cell_type": "code",
   "execution_count": 21,
   "metadata": {},
   "outputs": [
    {
     "name": "stdout",
     "output_type": "stream",
     "text": [
      "Fixed vs Controls Visual 95% CI: (-2.567150223488718e-07, 2.5353063432427752e-06)\n",
      "Fixed vs Controls Visual Raw: (0.000268196058097534, array([0.00634131, 0.00634131, 0.78859931]))\n",
      "Fixed vs Controls Orientation 95% CI: (-1.5854064097329855e-21, 6.423371191100037e-21)\n",
      "Fixed vs Controls Orientation Raw: (5.443136292223412e-08, array([5.21956459e-05, 2.30637753e-05, 9.07642115e-01]))\n",
      "Fixed vs Controls Direction 95% CI: (-3.651593254821519e-11, 4.784199111506427e-10)\n",
      "Fixed vs Controls Direction Raw: (1.6802916286478037e-05, array([0.00106744, 0.00106744, 0.73690399]))\n"
     ]
    },
    {
     "name": "stderr",
     "output_type": "stream",
     "text": [
      "C:\\Users\\mmccann\\AppData\\Local\\Temp\\ipykernel_26392\\1713287464.py:28: PerformanceWarning: \n",
      "your performance may suffer as PyTables will pickle object types that it cannot\n",
      "map directly to c-types [inferred_type->mixed,key->block0_values] [items->Index(['raw_test', 'bootstrap_tests', 'corrected_bootstrap_tests'], dtype='object')]\n",
      "\n",
      "  store[f'{vis_class}vis/kruskal_count_fixed_vis'] = pd.DataFrame(list(count_fixed_vis), columns=['pval', 'ci'],\n",
      "C:\\Users\\mmccann\\AppData\\Local\\Temp\\ipykernel_26392\\1713287464.py:30: PerformanceWarning: \n",
      "your performance may suffer as PyTables will pickle object types that it cannot\n",
      "map directly to c-types [inferred_type->mixed,key->block0_values] [items->Index(['raw_test', 'bootstrap_tests', 'corrected_bootstrap_tests'], dtype='object')]\n",
      "\n",
      "  store[f'{vis_class}vis/kruskal_count_fixed_ori'] = pd.DataFrame(list(count_fixed_ori), columns=['pval', 'ci'],\n",
      "C:\\Users\\mmccann\\AppData\\Local\\Temp\\ipykernel_26392\\1713287464.py:32: PerformanceWarning: \n",
      "your performance may suffer as PyTables will pickle object types that it cannot\n",
      "map directly to c-types [inferred_type->mixed,key->block0_values] [items->Index(['raw_test', 'bootstrap_tests', 'corrected_bootstrap_tests'], dtype='object')]\n",
      "\n",
      "  store[f'{vis_class}vis/kruskal_count_fixed_dir'] = pd.DataFrame(list(count_fixed_dir), columns=['pval', 'ci'],\n"
     ]
    },
    {
     "name": "stdout",
     "output_type": "stream",
     "text": [
      "Fixed vs Controls Visual 95% CI: (1.5281081180699622e-08, 2.9232665895948906e-06)\n",
      "Fixed vs Controls Visual Raw: (0.000268196058097534, array([0.00634131, 0.00634131, 0.78859931]))\n",
      "Fixed vs Controls Orientation 95% CI: (-2.1990657834116196e-21, 1.5024818800168422e-20)\n",
      "Fixed vs Controls Orientation Raw: (5.443136292223412e-08, array([5.21956459e-05, 2.30637753e-05, 9.07642115e-01]))\n",
      "Fixed vs Controls Direction 95% CI: (4.978197228724627e-12, 6.882987011076393e-11)\n",
      "Fixed vs Controls Direction Raw: (1.6802916286478037e-05, array([0.00106744, 0.00106744, 0.73690399]))\n"
     ]
    },
    {
     "name": "stderr",
     "output_type": "stream",
     "text": [
      "C:\\Users\\mmccann\\AppData\\Local\\Temp\\ipykernel_26392\\1713287464.py:28: PerformanceWarning: \n",
      "your performance may suffer as PyTables will pickle object types that it cannot\n",
      "map directly to c-types [inferred_type->mixed,key->block0_values] [items->Index(['raw_test', 'bootstrap_tests', 'corrected_bootstrap_tests'], dtype='object')]\n",
      "\n",
      "  store[f'{vis_class}vis/kruskal_count_fixed_vis'] = pd.DataFrame(list(count_fixed_vis), columns=['pval', 'ci'],\n",
      "C:\\Users\\mmccann\\AppData\\Local\\Temp\\ipykernel_26392\\1713287464.py:30: PerformanceWarning: \n",
      "your performance may suffer as PyTables will pickle object types that it cannot\n",
      "map directly to c-types [inferred_type->mixed,key->block0_values] [items->Index(['raw_test', 'bootstrap_tests', 'corrected_bootstrap_tests'], dtype='object')]\n",
      "\n",
      "  store[f'{vis_class}vis/kruskal_count_fixed_ori'] = pd.DataFrame(list(count_fixed_ori), columns=['pval', 'ci'],\n",
      "C:\\Users\\mmccann\\AppData\\Local\\Temp\\ipykernel_26392\\1713287464.py:32: PerformanceWarning: \n",
      "your performance may suffer as PyTables will pickle object types that it cannot\n",
      "map directly to c-types [inferred_type->mixed,key->block0_values] [items->Index(['raw_test', 'bootstrap_tests', 'corrected_bootstrap_tests'], dtype='object')]\n",
      "\n",
      "  store[f'{vis_class}vis/kruskal_count_fixed_dir'] = pd.DataFrame(list(count_fixed_dir), columns=['pval', 'ci'],\n"
     ]
    },
    {
     "name": "stdout",
     "output_type": "stream",
     "text": [
      "Fixed vs Controls Visual 95% CI: (1.7309893533918707e-07, 2.1619940348969113e-06)\n",
      "Fixed vs Controls Visual Raw: (0.000268196058097534, array([0.00634131, 0.00634131, 0.78859931]))\n",
      "Fixed vs Controls Orientation 95% CI: (-5.498434728016464e-22, 1.8149164428726968e-21)\n",
      "Fixed vs Controls Orientation Raw: (5.443136292223412e-08, array([5.21956459e-05, 2.30637753e-05, 9.07642115e-01]))\n",
      "Fixed vs Controls Direction 95% CI: (-5.086446227485963e-11, 2.385089461903857e-10)\n",
      "Fixed vs Controls Direction Raw: (1.6802916286478037e-05, array([0.00106744, 0.00106744, 0.73690399]))\n"
     ]
    },
    {
     "name": "stderr",
     "output_type": "stream",
     "text": [
      "C:\\Users\\mmccann\\AppData\\Local\\Temp\\ipykernel_26392\\1713287464.py:28: PerformanceWarning: \n",
      "your performance may suffer as PyTables will pickle object types that it cannot\n",
      "map directly to c-types [inferred_type->mixed,key->block0_values] [items->Index(['raw_test', 'bootstrap_tests', 'corrected_bootstrap_tests'], dtype='object')]\n",
      "\n",
      "  store[f'{vis_class}vis/kruskal_count_fixed_vis'] = pd.DataFrame(list(count_fixed_vis), columns=['pval', 'ci'],\n",
      "C:\\Users\\mmccann\\AppData\\Local\\Temp\\ipykernel_26392\\1713287464.py:30: PerformanceWarning: \n",
      "your performance may suffer as PyTables will pickle object types that it cannot\n",
      "map directly to c-types [inferred_type->mixed,key->block0_values] [items->Index(['raw_test', 'bootstrap_tests', 'corrected_bootstrap_tests'], dtype='object')]\n",
      "\n",
      "  store[f'{vis_class}vis/kruskal_count_fixed_ori'] = pd.DataFrame(list(count_fixed_ori), columns=['pval', 'ci'],\n",
      "C:\\Users\\mmccann\\AppData\\Local\\Temp\\ipykernel_26392\\1713287464.py:32: PerformanceWarning: \n",
      "your performance may suffer as PyTables will pickle object types that it cannot\n",
      "map directly to c-types [inferred_type->mixed,key->block0_values] [items->Index(['raw_test', 'bootstrap_tests', 'corrected_bootstrap_tests'], dtype='object')]\n",
      "\n",
      "  store[f'{vis_class}vis/kruskal_count_fixed_dir'] = pd.DataFrame(list(count_fixed_dir), columns=['pval', 'ci'],\n"
     ]
    }
   ],
   "source": [
    "# Do a Kruskal-Wallis test with Dunn posthoc\n",
    "\n",
    "for vis_class in vis_classes:\n",
    "\n",
    "    # Visual\n",
    "    count_fixed_vis = bootstrap_tests([main_exp_data, control_light_data, control_dark_data],\n",
    "                                    'count_vis_resp_fixed', 'visual',   \n",
    "                                    kruskal_w_dunn, n_iters=bootstrap_iters, bootstrap_all=True)\n",
    "    print('Fixed vs Controls Visual 95% CI:', count_fixed_vis[1][1])\n",
    "    print('Fixed vs Controls Visual Raw:', count_fixed_vis[0])\n",
    "\n",
    "    # Orientation\n",
    "    count_fixed_ori = bootstrap_tests([main_exp_data, control_light_data, control_dark_data],\n",
    "                                    'count_vis_resp_fixed', 'orientation',\n",
    "                                    kruskal_w_dunn, n_iters=bootstrap_iters, bootstrap_all=True)\n",
    "    print('Fixed vs Controls Orientation 95% CI:', count_fixed_ori[1][1])\n",
    "    print('Fixed vs Controls Orientation Raw:', count_fixed_ori[0])\n",
    "\n",
    "    # Direction\n",
    "    count_fixed_dir = bootstrap_tests([main_exp_data, control_light_data, control_dark_data],\n",
    "                                    'count_vis_resp_fixed', 'direction',\n",
    "                                    kruskal_w_dunn, n_iters=bootstrap_iters, bootstrap_all=True)\n",
    "    print('Fixed vs Controls Direction 95% CI:', count_fixed_dir[1][1])\n",
    "    print('Fixed vs Controls Direction Raw:', count_fixed_dir[0])\n",
    "\n",
    "    # Save the data\n",
    "    with pd.HDFStore(output_path, 'a') as store:\n",
    "        store[f'{vis_class}vis/kruskal_count_fixed_vis'] = pd.DataFrame(list(count_fixed_vis), columns=['pval', 'ci'],\n",
    "                                                    index=['raw_test', 'bootstrap_tests', 'corrected_bootstrap_tests']).T\n",
    "        store[f'{vis_class}vis/kruskal_count_fixed_ori'] = pd.DataFrame(list(count_fixed_ori), columns=['pval', 'ci'],\n",
    "                                                    index=['raw_test', 'bootstrap_tests', 'corrected_bootstrap_tests']).T\n",
    "        store[f'{vis_class}vis/kruskal_count_fixed_dir'] = pd.DataFrame(list(count_fixed_dir), columns=['pval', 'ci'],\n",
    "                                                    index=['raw_test', 'bootstrap_tests', 'corrected_bootstrap_tests']).T"
   ]
  },
  {
   "cell_type": "markdown",
   "metadata": {},
   "source": [
    "### Free Kruskal Wallis"
   ]
  },
  {
   "cell_type": "code",
   "execution_count": 22,
   "metadata": {},
   "outputs": [
    {
     "name": "stdout",
     "output_type": "stream",
     "text": [
      "Free vs Controls Visual 95% CI: (5.085348331800605e-07, 3.2991142693782306e-06)\n",
      "Free vs Controls Visual Raw: (0.0003101948186057097, array([0.01768822, 0.00235345, 0.73407518]))\n",
      "Free vs Controls Orientation 95% CI: (2.4379307677528055e-07, 2.562021680041131e-06)\n",
      "Free vs Controls Orientation Raw: (0.001265652736278355, array([0.06810468, 0.00383673, 0.5248231 ]))\n",
      "Free vs Controls Direction 95% CI: (-1.5220674557641285e-08, 1.0733916024516493e-07)\n",
      "Free vs Controls Direction Raw: (0.0002634136057045376, array([0.08240132, 0.00055088, 0.28396112]))\n"
     ]
    },
    {
     "name": "stderr",
     "output_type": "stream",
     "text": [
      "C:\\Users\\mmccann\\AppData\\Local\\Temp\\ipykernel_26392\\2513833730.py:27: PerformanceWarning: \n",
      "your performance may suffer as PyTables will pickle object types that it cannot\n",
      "map directly to c-types [inferred_type->mixed,key->block0_values] [items->Index(['raw_test', 'bootstrap_tests', 'corrected_bootstrap_tests'], dtype='object')]\n",
      "\n",
      "  store[f'{vis_class}vis/kruskal_count_free_vis'] = pd.DataFrame(list(count_free_vis), columns=['pval', 'ci'],\n",
      "C:\\Users\\mmccann\\AppData\\Local\\Temp\\ipykernel_26392\\2513833730.py:29: PerformanceWarning: \n",
      "your performance may suffer as PyTables will pickle object types that it cannot\n",
      "map directly to c-types [inferred_type->mixed,key->block0_values] [items->Index(['raw_test', 'bootstrap_tests', 'corrected_bootstrap_tests'], dtype='object')]\n",
      "\n",
      "  store[f'{vis_class}vis/kruskal_count_free_ori'] = pd.DataFrame(list(count_free_ori), columns=['pval', 'ci'],\n",
      "C:\\Users\\mmccann\\AppData\\Local\\Temp\\ipykernel_26392\\2513833730.py:31: PerformanceWarning: \n",
      "your performance may suffer as PyTables will pickle object types that it cannot\n",
      "map directly to c-types [inferred_type->mixed,key->block0_values] [items->Index(['raw_test', 'bootstrap_tests', 'corrected_bootstrap_tests'], dtype='object')]\n",
      "\n",
      "  store[f'{vis_class}vis/kruskal_count_free_dir'] = pd.DataFrame(list(count_free_dir), columns=['pval', 'ci'],\n"
     ]
    },
    {
     "name": "stdout",
     "output_type": "stream",
     "text": [
      "Free vs Controls Visual 95% CI: (-4.506344429273759e-07, 6.354160976440384e-06)\n",
      "Free vs Controls Visual Raw: (0.0003101948186057097, array([0.01768822, 0.00235345, 0.73407518]))\n",
      "Free vs Controls Orientation 95% CI: (3.22141134346072e-07, 3.1570008041507363e-06)\n",
      "Free vs Controls Orientation Raw: (0.001265652736278355, array([0.06810468, 0.00383673, 0.5248231 ]))\n",
      "Free vs Controls Direction 95% CI: (1.3331842653378983e-09, 1.0521336257520351e-08)\n",
      "Free vs Controls Direction Raw: (0.0002634136057045376, array([0.08240132, 0.00055088, 0.28396112]))\n"
     ]
    },
    {
     "name": "stderr",
     "output_type": "stream",
     "text": [
      "C:\\Users\\mmccann\\AppData\\Local\\Temp\\ipykernel_26392\\2513833730.py:27: PerformanceWarning: \n",
      "your performance may suffer as PyTables will pickle object types that it cannot\n",
      "map directly to c-types [inferred_type->mixed,key->block0_values] [items->Index(['raw_test', 'bootstrap_tests', 'corrected_bootstrap_tests'], dtype='object')]\n",
      "\n",
      "  store[f'{vis_class}vis/kruskal_count_free_vis'] = pd.DataFrame(list(count_free_vis), columns=['pval', 'ci'],\n",
      "C:\\Users\\mmccann\\AppData\\Local\\Temp\\ipykernel_26392\\2513833730.py:29: PerformanceWarning: \n",
      "your performance may suffer as PyTables will pickle object types that it cannot\n",
      "map directly to c-types [inferred_type->mixed,key->block0_values] [items->Index(['raw_test', 'bootstrap_tests', 'corrected_bootstrap_tests'], dtype='object')]\n",
      "\n",
      "  store[f'{vis_class}vis/kruskal_count_free_ori'] = pd.DataFrame(list(count_free_ori), columns=['pval', 'ci'],\n",
      "C:\\Users\\mmccann\\AppData\\Local\\Temp\\ipykernel_26392\\2513833730.py:31: PerformanceWarning: \n",
      "your performance may suffer as PyTables will pickle object types that it cannot\n",
      "map directly to c-types [inferred_type->mixed,key->block0_values] [items->Index(['raw_test', 'bootstrap_tests', 'corrected_bootstrap_tests'], dtype='object')]\n",
      "\n",
      "  store[f'{vis_class}vis/kruskal_count_free_dir'] = pd.DataFrame(list(count_free_dir), columns=['pval', 'ci'],\n"
     ]
    },
    {
     "name": "stdout",
     "output_type": "stream",
     "text": [
      "Free vs Controls Visual 95% CI: (6.227205626339049e-08, 5.851732944823053e-06)\n",
      "Free vs Controls Visual Raw: (0.0003101948186057097, array([0.01768822, 0.00235345, 0.73407518]))\n",
      "Free vs Controls Orientation 95% CI: (-2.701507645025714e-07, 2.4278217762924573e-06)\n",
      "Free vs Controls Orientation Raw: (0.001265652736278355, array([0.06810468, 0.00383673, 0.5248231 ]))\n",
      "Free vs Controls Direction 95% CI: (-1.6912994107270064e-08, 1.0380331964495544e-07)\n",
      "Free vs Controls Direction Raw: (0.0002634136057045376, array([0.08240132, 0.00055088, 0.28396112]))\n"
     ]
    },
    {
     "name": "stderr",
     "output_type": "stream",
     "text": [
      "C:\\Users\\mmccann\\AppData\\Local\\Temp\\ipykernel_26392\\2513833730.py:27: PerformanceWarning: \n",
      "your performance may suffer as PyTables will pickle object types that it cannot\n",
      "map directly to c-types [inferred_type->mixed,key->block0_values] [items->Index(['raw_test', 'bootstrap_tests', 'corrected_bootstrap_tests'], dtype='object')]\n",
      "\n",
      "  store[f'{vis_class}vis/kruskal_count_free_vis'] = pd.DataFrame(list(count_free_vis), columns=['pval', 'ci'],\n",
      "C:\\Users\\mmccann\\AppData\\Local\\Temp\\ipykernel_26392\\2513833730.py:29: PerformanceWarning: \n",
      "your performance may suffer as PyTables will pickle object types that it cannot\n",
      "map directly to c-types [inferred_type->mixed,key->block0_values] [items->Index(['raw_test', 'bootstrap_tests', 'corrected_bootstrap_tests'], dtype='object')]\n",
      "\n",
      "  store[f'{vis_class}vis/kruskal_count_free_ori'] = pd.DataFrame(list(count_free_ori), columns=['pval', 'ci'],\n",
      "C:\\Users\\mmccann\\AppData\\Local\\Temp\\ipykernel_26392\\2513833730.py:31: PerformanceWarning: \n",
      "your performance may suffer as PyTables will pickle object types that it cannot\n",
      "map directly to c-types [inferred_type->mixed,key->block0_values] [items->Index(['raw_test', 'bootstrap_tests', 'corrected_bootstrap_tests'], dtype='object')]\n",
      "\n",
      "  store[f'{vis_class}vis/kruskal_count_free_dir'] = pd.DataFrame(list(count_free_dir), columns=['pval', 'ci'],\n"
     ]
    }
   ],
   "source": [
    "# Do a Kruskal-Wallis test with Dunn posthoc\n",
    "for vis_class in vis_classes:\n",
    "\n",
    "    # Visual\n",
    "    count_free_vis = bootstrap_tests([main_exp_data, control_light_data, control_dark_data],\n",
    "                                    'count_vis_resp_free', 'visual',   \n",
    "                                    kruskal_w_dunn, n_iters=bootstrap_iters, bootstrap_all=True)\n",
    "    print('Free vs Controls Visual 95% CI:', count_free_vis[1][1])\n",
    "    print('Free vs Controls Visual Raw:', count_free_vis[0])\n",
    "\n",
    "    # Orientation\n",
    "    count_free_ori = bootstrap_tests([main_exp_data, control_light_data, control_dark_data],\n",
    "                                    'count_vis_resp_free', 'orientation',\n",
    "                                    kruskal_w_dunn, n_iters=bootstrap_iters, bootstrap_all=True)\n",
    "    print('Free vs Controls Orientation 95% CI:', count_free_ori[1][1])\n",
    "    print('Free vs Controls Orientation Raw:', count_free_ori[0])\n",
    "\n",
    "    # Direction\n",
    "    count_free_dir = bootstrap_tests([main_exp_data, control_light_data, control_dark_data],\n",
    "                                    'count_vis_resp_free', 'direction',\n",
    "                                    kruskal_w_dunn, n_iters=bootstrap_iters, bootstrap_all=True)\n",
    "    print('Free vs Controls Direction 95% CI:', count_free_dir[1][1])\n",
    "    print('Free vs Controls Direction Raw:', count_free_dir[0])\n",
    "\n",
    "    # Save the data\n",
    "    with pd.HDFStore(output_path, 'a') as store:\n",
    "        store[f'{vis_class}vis/kruskal_count_free_vis'] = pd.DataFrame(list(count_free_vis), columns=['pval', 'ci'],\n",
    "                                                    index=['raw_test', 'bootstrap_tests', 'corrected_bootstrap_tests']).T\n",
    "        store[f'{vis_class}vis/kruskal_count_free_ori'] = pd.DataFrame(list(count_free_ori), columns=['pval', 'ci'],\n",
    "                                                    index=['raw_test', 'bootstrap_tests', 'corrected_bootstrap_tests']).T\n",
    "        store[f'{vis_class}vis/kruskal_count_free_dir'] = pd.DataFrame(list(count_free_dir), columns=['pval', 'ci'],\n",
    "                                                    index=['raw_test', 'bootstrap_tests', 'corrected_bootstrap_tests']).T"
   ]
  },
  {
   "cell_type": "markdown",
   "metadata": {},
   "source": [
    "# Running Modulated"
   ]
  },
  {
   "cell_type": "markdown",
   "metadata": {},
   "source": [
    "## Fixed"
   ]
  },
  {
   "cell_type": "code",
   "execution_count": 23,
   "metadata": {},
   "outputs": [
    {
     "name": "stdout",
     "output_type": "stream",
     "text": [
      "Fixed vs Controls Run Mod. 95% CI (0.3557069668175729, 0.3928559554587849)\n",
      "Fixed vs Controls Run Mod. 95% CI - Corrected: [[0.61118157 0.65420881]\n",
      " [0.65731332 0.69693776]\n",
      " [0.56272833 0.60856571]]\n",
      "Fixed vs Controls Run Mod. Raw: (0.9442514760228817, array([1., 1., 1.]))\n",
      "Fixed vs Controls Vis. + Run Mod. 95% CI (0.462767944784378, 0.4997216212971214)\n",
      "Fixed vs Controls Vis. + Run Mod. 95% CI - Corrected: [[0.7095718  0.74890941]\n",
      " [0.72747871 0.76502486]\n",
      " [0.71289749 0.75162364]]\n",
      "Fixed vs Controls Vis. + Run Mod. Raw: (0.9930991992130431, array([1., 1., 1.]))\n"
     ]
    },
    {
     "name": "stderr",
     "output_type": "stream",
     "text": [
      "C:\\Users\\mmccann\\AppData\\Local\\Temp\\ipykernel_26392\\193980662.py:21: PerformanceWarning: \n",
      "your performance may suffer as PyTables will pickle object types that it cannot\n",
      "map directly to c-types [inferred_type->mixed,key->block0_values] [items->Index(['raw_test', 'bootstrap_tests', 'corrected_bootstrap_tests'], dtype='object')]\n",
      "\n",
      "  store[f'kruskal_frac_fixed_run_mod'] = pd.DataFrame(list(frac_fixed_run_mod), columns=['pval', 'ci'],\n",
      "C:\\Users\\mmccann\\AppData\\Local\\Temp\\ipykernel_26392\\193980662.py:23: PerformanceWarning: \n",
      "your performance may suffer as PyTables will pickle object types that it cannot\n",
      "map directly to c-types [inferred_type->mixed,key->block0_values] [items->Index(['raw_test', 'bootstrap_tests', 'corrected_bootstrap_tests'], dtype='object')]\n",
      "\n",
      "  store[f'kruskal_frac_fixed_vis_run_mod'] = pd.DataFrame(list(frac_fixed_vis_run_mod), columns=['pval', 'ci'],\n"
     ]
    }
   ],
   "source": [
    "# Do a Kruskal-Wallis test with Dunn posthoc\n",
    "\n",
    "# Running Modulated\n",
    "frac_fixed_run_mod = bootstrap_tests([main_exp_data, control_light_data, control_dark_data],\n",
    "                                      'frac_run_mod_fixed', 'run_modulated',\n",
    "                                      kruskal_w_dunn, n_iters=bootstrap_iters, bootstrap_all=True)\n",
    "print('Fixed vs Controls Run Mod. 95% CI', frac_fixed_run_mod[1][1])\n",
    "print('Fixed vs Controls Run Mod. 95% CI - Corrected:', frac_fixed_run_mod[-1][1])\n",
    "print('Fixed vs Controls Run Mod. Raw:', frac_fixed_run_mod[0])\n",
    "\n",
    "# Running and Visually Modulated\n",
    "frac_fixed_vis_run_mod = bootstrap_tests([main_exp_data, control_light_data, control_dark_data],\n",
    "                                        'frac_run_mod_fixed', 'vis_run_modulated',\n",
    "                                        kruskal_w_dunn, n_iters=bootstrap_iters, bootstrap_all=True)\n",
    "print('Fixed vs Controls Vis. + Run Mod. 95% CI', frac_fixed_vis_run_mod[1][1])\n",
    "print('Fixed vs Controls Vis. + Run Mod. 95% CI - Corrected:', frac_fixed_vis_run_mod[-1][1])\n",
    "print('Fixed vs Controls Vis. + Run Mod. Raw:', frac_fixed_vis_run_mod[0])\n",
    "\n",
    "# Save the data\n",
    "with pd.HDFStore(output_path, 'a') as store:\n",
    "    store[f'kruskal_frac_fixed_run_mod'] = pd.DataFrame(list(frac_fixed_run_mod), columns=['pval', 'ci'],\n",
    "                                                  index=['raw_test', 'bootstrap_tests', 'corrected_bootstrap_tests']).T\n",
    "    store[f'kruskal_frac_fixed_vis_run_mod'] = pd.DataFrame(list(frac_fixed_vis_run_mod), columns=['pval', 'ci'],\n",
    "                                                  index=['raw_test', 'bootstrap_tests', 'corrected_bootstrap_tests']).T"
   ]
  },
  {
   "cell_type": "code",
   "execution_count": 24,
   "metadata": {},
   "outputs": [],
   "source": [
    "# with pd.HDFStore(output_path, 'a') as store:\n",
    "#     a = store['kruskal_frac_free_run_mod']\n",
    "#     print(a.loc['ci', 'corrected_bootstrap_tests'])"
   ]
  },
  {
   "cell_type": "markdown",
   "metadata": {},
   "source": [
    "## Free"
   ]
  },
  {
   "cell_type": "code",
   "execution_count": 25,
   "metadata": {},
   "outputs": [
    {
     "name": "stdout",
     "output_type": "stream",
     "text": [
      "Free vs Controls Run Mod. 95% CI (0.015448591707197656, 0.023272150925609743)\n",
      "Free vs Controls Run Mod. 95% CI - Corrected: [[0.39710937 0.43439417]\n",
      " [0.0309366  0.0443857 ]\n",
      " [0.08043503 0.10006718]]\n",
      "Free vs Controls Run Mod. Raw: (0.20904135793189865, array([0.70912232, 0.23373511, 0.66223755]))\n",
      "Free vs Controls Vis. + Run Mod. 95% CI (0.257088319504758, 0.29112995740918973)\n",
      "Free vs Controls Vis. + Run Mod. 95% CI - Corrected: [[0.55325688 0.59575901]\n",
      " [0.40167317 0.44856603]\n",
      " [0.55335567 0.5940595 ]]\n",
      "Free vs Controls Vis. + Run Mod. Raw: (0.6308430619522412, array([1., 1., 1.]))\n"
     ]
    },
    {
     "name": "stderr",
     "output_type": "stream",
     "text": [
      "C:\\Users\\mmccann\\AppData\\Local\\Temp\\ipykernel_26392\\602213168.py:21: PerformanceWarning: \n",
      "your performance may suffer as PyTables will pickle object types that it cannot\n",
      "map directly to c-types [inferred_type->mixed,key->block0_values] [items->Index(['raw_test', 'bootstrap_tests', 'corrected_bootstrap_tests'], dtype='object')]\n",
      "\n",
      "  store[f'kruskal_frac_free_run_mod'] = pd.DataFrame(list(frac_free_run_mod), columns=['pval', 'ci'],\n",
      "C:\\Users\\mmccann\\AppData\\Local\\Temp\\ipykernel_26392\\602213168.py:23: PerformanceWarning: \n",
      "your performance may suffer as PyTables will pickle object types that it cannot\n",
      "map directly to c-types [inferred_type->mixed,key->block0_values] [items->Index(['raw_test', 'bootstrap_tests', 'corrected_bootstrap_tests'], dtype='object')]\n",
      "\n",
      "  store[f'kruskal_frac_free_vis_run_mod'] = pd.DataFrame(list(frac_free_vis_run_mod), columns=['pval', 'ci'],\n"
     ]
    }
   ],
   "source": [
    "# Do a Kruskal-Wallis test with Dunn posthoc\n",
    "\n",
    "# Running Modulated\n",
    "frac_free_run_mod = bootstrap_tests([main_exp_data, control_light_data, control_dark_data],\n",
    "                                      'frac_run_mod_free', 'run_modulated',\n",
    "                                      kruskal_w_dunn, n_iters=bootstrap_iters, bootstrap_all=True)\n",
    "print('Free vs Controls Run Mod. 95% CI', frac_free_run_mod[1][1])\n",
    "print('Free vs Controls Run Mod. 95% CI - Corrected:', frac_free_run_mod[-1][1])\n",
    "print('Free vs Controls Run Mod. Raw:', frac_free_run_mod[0])\n",
    "\n",
    "# Running and Visually Modulated\n",
    "frac_free_vis_run_mod = bootstrap_tests([main_exp_data, control_light_data, control_dark_data],\n",
    "                                        'frac_run_mod_free', 'vis_run_modulated',\n",
    "                                        kruskal_w_dunn, n_iters=bootstrap_iters, bootstrap_all=True)\n",
    "print('Free vs Controls Vis. + Run Mod. 95% CI', frac_free_vis_run_mod[1][1])\n",
    "print('Free vs Controls Vis. + Run Mod. 95% CI - Corrected:', frac_free_vis_run_mod[-1][1])\n",
    "print('Free vs Controls Vis. + Run Mod. Raw:', frac_free_vis_run_mod[0])\n",
    "\n",
    "# Save the data\n",
    "with pd.HDFStore(output_path, 'a') as store:\n",
    "    store[f'kruskal_frac_free_run_mod'] = pd.DataFrame(list(frac_free_run_mod), columns=['pval', 'ci'],\n",
    "                                                  index=['raw_test', 'bootstrap_tests', 'corrected_bootstrap_tests']).T\n",
    "    store[f'kruskal_frac_free_vis_run_mod'] = pd.DataFrame(list(frac_free_vis_run_mod), columns=['pval', 'ci'],\n",
    "                                                  index=['raw_test', 'bootstrap_tests', 'corrected_bootstrap_tests']).T"
   ]
  }
 ],
 "metadata": {
  "kernelspec": {
   "display_name": "prey_capture",
   "language": "python",
   "name": "python3"
  },
  "language_info": {
   "codemirror_mode": {
    "name": "ipython",
    "version": 3
   },
   "file_extension": ".py",
   "mimetype": "text/x-python",
   "name": "python",
   "nbconvert_exporter": "python",
   "pygments_lexer": "ipython3",
   "version": "3.8.16"
  }
 },
 "nbformat": 4,
 "nbformat_minor": 2
}

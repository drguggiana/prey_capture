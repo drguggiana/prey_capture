{
 "cells": [
  {
   "cell_type": "markdown",
   "metadata": {},
   "source": [
    "# Calculate Stats on Tuning Distributions"
   ]
  },
  {
   "cell_type": "code",
   "execution_count": 1,
   "metadata": {},
   "outputs": [],
   "source": [
    "import os\n",
    "import sys\n",
    "\n",
    "import numpy as np\n",
    "import pandas as pd\n",
    "import matplotlib.pyplot as plt\n",
    "import scipy.stats as stats\n",
    "import scikit_posthocs as posthoc\n",
    "from statsmodels.stats.multitest import multipletests\n",
    "from hmmlearn import hmm\n",
    "\n",
    "sys.path.insert(0, os.path.abspath(r'C:/Users/mmccann/repos/bonhoeffer/prey_capture/'))\n",
    "import functions_plotting as fp"
   ]
  },
  {
   "cell_type": "code",
   "execution_count": 66,
   "metadata": {},
   "outputs": [],
   "source": [
    "def h5_to_dict(filepath):\n",
    "    with pd.HDFStore(filepath, 'r') as store:\n",
    "        keys = store.keys()\n",
    "        data = {key[1:]: store[key] for key in keys}\n",
    "    return data\n",
    "\n",
    "\n",
    "def kruskal_w_dunn(data, nan_policy='omit', alpha=0.05):\n",
    "    statistic, p_val = stats.kruskal(*data, nan_policy=nan_policy)\n",
    "    dunn_test = posthoc.posthoc_dunn([*data], p_adjust='holm')\n",
    "\n",
    "    # Return just the corrected pvals instead of a whole matrix\n",
    "    if dunn_test.shape[-1] > 2:\n",
    "        p_val_corrected = np.array([dunn_test.iloc[0, i] for i in range(1, dunn_test.shape[-1])] + [dunn_test.iloc[1, -1]])\n",
    "    else:\n",
    "        p_val_corrected = np.array([dunn_test.iloc[0, i] for i in range(1, dunn_test.shape[-1])])\n",
    "    return p_val, p_val_corrected\n",
    "\n",
    "\n",
    "def mannwhitneyu_w_bonferroni(data, nan_policy='omit', alpha=0.05):\n",
    "    statistic, p_val = stats.mannwhitneyu(*data, nan_policy=nan_policy)\n",
    "    reject, p_val_corrected, _, _ = multipletests(p_val, alpha=alpha, method='holm')\n",
    "    return p_val, p_val_corrected\n",
    "\n",
    "\n",
    "def wilcoxon_w_bonferroni(data, nan_policy='omit', alpha=0.05):\n",
    "    statistic, p_val = stats.wilcoxon(*data, nan_policy=nan_policy)\n",
    "    reject, p_val_corrected, _, _ = multipletests(p_val, alpha=alpha, method='holm')\n",
    "    return p_val, p_val_corrected\n",
    "\n",
    "\n",
    "def sample_df(data1, data2):\n",
    "    df1 = data1.dropna()\n",
    "    df2 = data2.dropna() \n",
    "\n",
    "    if len(df1) > len(df2):\n",
    "        df1 = df1.sample(len(df2), replace=True)\n",
    "    elif len(df2) > len(df1):\n",
    "        df2 = df2.sample(len(df1), replace=True)\n",
    "    else:\n",
    "        pass\n",
    "\n",
    "    return df1, df2\n",
    "\n",
    "\n",
    "def bootstrap_tests(datasets, key, tuning_kind, method, n_iters=10000, alpha=0.05, bootstrap_all=False):\n",
    "    data = [ds[key][tuning_kind].dropna() for ds in datasets]\n",
    "\n",
    "    # First run the test on the raw data\n",
    "    if 'wilcoxon' in method.__name__:\n",
    "        raw_test = method(sample_df(*data), alpha=alpha)\n",
    "    elif 'mannwhitneyu' in method.__name__:\n",
    "        raw_test = method(data, alpha=alpha)\n",
    "    else:\n",
    "        raw_test = method(data, alpha=alpha)\n",
    "\n",
    "    # Now run the bootstrapping\n",
    "    p_vals = np.zeros(n_iters)\n",
    "    p_vals_corrected = np.zeros((n_iters, len(data)))\n",
    "\n",
    "    sample_size = len(max(data, key=len))\n",
    "\n",
    "    # Run bootstrap\n",
    "    for i in range(n_iters):\n",
    "\n",
    "        if bootstrap_all:\n",
    "            sample_data = [d.sample(sample_size, replace=True) for d in data]\n",
    "            # sample_data1  = data2.sample(sample_size, replace=True)\n",
    "        else:\n",
    "            sample_data = [data[0]] + [d.sample(sample_size, replace=True) for d in data[1:]]\n",
    "            \n",
    "        p_val, p_val_corrected = method(sample_data, alpha=alpha)\n",
    "        p_vals[i] = p_val\n",
    "        p_vals_corrected[i, :] = p_val_corrected\n",
    "\n",
    "    # 95% confidence interval of pvals\n",
    "    ci = stats.t.interval(0.95, len(p_vals) - 1, loc=np.nanmean(p_vals), scale=stats.sem(p_vals, nan_policy='omit'))\n",
    "\n",
    "    if method == kruskal_w_dunn:\n",
    "        # Since this is for multiple groups, need to run this column-wise\n",
    "\n",
    "        # Corrected 95% CIs\n",
    "        ci_corrected = np.zeros((len(data), 2))\n",
    "        for i in range(p_vals_corrected.shape[-1]):\n",
    "            p_val_corr_col = p_vals_corrected[:, i]\n",
    "            ci_col = stats.t.interval(0.95, len(p_val_corr_col) - 1, loc=np.nanmean(p_val_corr_col), scale=stats.sem(p_val_corr_col, nan_policy='omit'))\n",
    "            ci_corrected[i, :] = ci_col\n",
    "    else:\n",
    "        ci_corrected = stats.t.interval(0.95, len(p_vals_corrected) - 1, loc=np.nanmean(p_vals_corrected), scale=stats.sem(p_vals_corrected, nan_policy='omit'))\n",
    "\n",
    "    return raw_test, (p_vals, ci), (p_vals_corrected, ci_corrected)\n",
    "\n",
    "\n",
    "def plot_bootstrap_distributions(data):\n",
    "    # Plot the bootstrap distributions\n",
    "    num_ds = len(data)\n",
    "    cols = 3\n",
    "    rows = num_ds//cols + 1\n",
    "    fig, axes = plt.subplots(rows, cols, figsize=(5*cols, 5*rows))\n",
    "\n",
    "    for i, (ds, ax) in enumerate(zip(data, axes.ravel())):\n",
    "\n",
    "        raw_test = ds[0]\n",
    "        bootstrap_tests = ds[1]\n",
    "        corrected_bootstrap_tests = ds[2]\n",
    "\n",
    "        ax.hist(bootstrap_tests[0], bins=20)\n",
    "        ax.axvline(np.percentile(bootstrap_tests[0], 95), 0, 50, color='r')\n",
    "        ax.axvline(bootstrap_tests[1][0], 0, 50, color='g')\n",
    "        ax.axvline(bootstrap_tests[1][1], 0, 50, color='g')\n",
    "        ax.axvline(raw_test[0], 0, 100, color='k')\n",
    "\n",
    "\n",
    "    return fig, axes"
   ]
  },
  {
   "cell_type": "code",
   "execution_count": 4,
   "metadata": {},
   "outputs": [],
   "source": [
    "basedir = r\"Z:\\Prey_capture\\WF_Figures\"\n",
    "still_or_all = 'full'\n",
    "main_exp_path = os.path.join(basedir, still_or_all, r\"multi_normal_ALL\\stats.hdf5\")\n",
    "control_light_path  = os.path.join(basedir, still_or_all, r\"control_normal_ALL\\stats.hdf5\")\n",
    "control_dark_path = os.path.join(basedir, still_or_all, r\"control_dark_ALL\\stats.hdf5\")\n",
    "repeat_fixed_path = os.path.join(basedir, still_or_all, r\"repeat_normal_VWheelWF\\stats.hdf5\")\n",
    "repeat_free_path = os.path.join(basedir, still_or_all, r\"repeat_normal_VTuningWF\\stats.hdf5\")\n",
    "output_path = os.path.join(basedir, 'stats', f\"{still_or_all}_tuning_stats.h5\")"
   ]
  },
  {
   "cell_type": "code",
   "execution_count": 5,
   "metadata": {},
   "outputs": [],
   "source": [
    "main_exp_data = h5_to_dict(main_exp_path)\n",
    "control_light_data = h5_to_dict(control_light_path)\n",
    "control_dark_data = h5_to_dict(control_dark_path)\n",
    "repeat_fixed_data = h5_to_dict(repeat_fixed_path)\n",
    "repeat_free_data = h5_to_dict(repeat_free_path)"
   ]
  },
  {
   "cell_type": "code",
   "execution_count": 6,
   "metadata": {},
   "outputs": [],
   "source": [
    "method = kruskal_w_dunn\n",
    "bootstrap_iters = 1000"
   ]
  },
  {
   "cell_type": "markdown",
   "metadata": {},
   "source": [
    "# Kinematic Tuning"
   ]
  },
  {
   "cell_type": "code",
   "execution_count": 67,
   "metadata": {},
   "outputs": [],
   "source": [
    "def kinem_stats(data, ds_name, alpha=0.05):\n",
    "    cols = data[0][ds_name].columns.to_list()\n",
    "\n",
    "    stats = {}\n",
    "    for col in cols:\n",
    "        stats[col] = bootstrap_tests(data, ds_name, col,   \n",
    "                                      kruskal_w_dunn, n_iters=bootstrap_iters, bootstrap_all=True)\n",
    "\n",
    "    return stats"
   ]
  },
  {
   "cell_type": "code",
   "execution_count": 88,
   "metadata": {},
   "outputs": [
    {
     "name": "stdout",
     "output_type": "stream",
     "text": [
      "(0.10221279416257911, array([0.32058756, 0.16056516, 0.12267395]))\n",
      "[[1.21113810e-01 1.47050606e-01]\n",
      " [1.48939219e-02 2.14869225e-02]\n",
      " [5.59826499e-05 3.68494937e-04]]\n"
     ]
    }
   ],
   "source": [
    "var = 'mouse_heading'\n",
    "print(free_kinem[var][0])\n",
    "print(free_kinem[var][-1][-1])"
   ]
  },
  {
   "cell_type": "code",
   "execution_count": null,
   "metadata": {},
   "outputs": [],
   "source": [
    "# Fixed data\n",
    "fixed_kinem = kinem_stats([main_exp_data, control_light_data, control_dark_data], 'frac_kinem_resp_fixed')\n",
    "kinem_tuning_fixed = pd.DataFrame(fixed_kinem).T\n",
    "kinem_tuning_fixed.columns = ['main', 'control_light', 'control_dark']\n",
    "\n",
    "# Save it\n",
    "with pd.HDFStore(output_path, 'a') as store:\n",
    "    store['kruskal_kinem_tuning_fixed'] = kinem_tuning_fixed\n",
    "\n",
    "\n",
    "# Free data\n",
    "free_kinem = kinem_stats([main_exp_data, control_light_data, control_dark_data], 'frac_kinem_resp_free')\n",
    "kinem_tuning_free = pd.DataFrame(free_kinem).T\n",
    "kinem_tuning_free.columns = ['main', 'control_light', 'control_dark']\n",
    "\n",
    "# Save it\n",
    "with pd.HDFStore(output_path, 'a') as store:\n",
    "    store['kruskal_kinem_tuning_free'] = kinem_tuning_free\n"
   ]
  },
  {
   "cell_type": "markdown",
   "metadata": {},
   "source": [
    "# Visual Tuning"
   ]
  },
  {
   "cell_type": "markdown",
   "metadata": {},
   "source": [
    "## Frac Visual Tuning - Fixed to Free"
   ]
  },
  {
   "cell_type": "markdown",
   "metadata": {},
   "source": [
    "### Kruskal-Wallis"
   ]
  },
  {
   "cell_type": "code",
   "execution_count": null,
   "metadata": {},
   "outputs": [
    {
     "name": "stdout",
     "output_type": "stream",
     "text": [
      "Fixed vs Free Visual: (0.6368039160463146, array([0.63680392]))\n",
      "Fixed vs Free Orientation: (5.562268506118308e-13, array([5.56226851e-13]))\n",
      "Fixed vs Free Direction: (0.039924934730025854, array([0.03992493]))\n"
     ]
    },
    {
     "name": "stderr",
     "output_type": "stream",
     "text": [
      "C:\\Users\\mmccann\\AppData\\Local\\Temp\\ipykernel_21936\\1807864428.py:22: PerformanceWarning: \n",
      "your performance may suffer as PyTables will pickle object types that it cannot\n",
      "map directly to c-types [inferred_type->mixed,key->block0_values] [items->Int64Index([0], dtype='int64')]\n",
      "\n",
      "  store['kruskal_exp_fixed_free_vis'] = pd.DataFrame(exp_fixed_free_vis, index=['p_val', 'p_val_dunn_posthoc'])\n",
      "C:\\Users\\mmccann\\AppData\\Local\\Temp\\ipykernel_21936\\1807864428.py:23: PerformanceWarning: \n",
      "your performance may suffer as PyTables will pickle object types that it cannot\n",
      "map directly to c-types [inferred_type->mixed,key->block0_values] [items->Int64Index([0], dtype='int64')]\n",
      "\n",
      "  store['kruskal_exp_fixed_free_ori'] = pd.DataFrame(exp_fixed_free_ori, index=['p_val', 'p_val_dunn_posthoc'])\n",
      "C:\\Users\\mmccann\\AppData\\Local\\Temp\\ipykernel_21936\\1807864428.py:24: PerformanceWarning: \n",
      "your performance may suffer as PyTables will pickle object types that it cannot\n",
      "map directly to c-types [inferred_type->mixed,key->block0_values] [items->Int64Index([0], dtype='int64')]\n",
      "\n",
      "  store['kruskal_exp_fixed_free_dir'] = pd.DataFrame(exp_fixed_free_dir, index=['p_val', 'p_val_dunn_posthoc'])\n"
     ]
    }
   ],
   "source": [
    "# Do a Kruskal-Wallis test with posthoc Dunn test for multiple comparisons\n",
    "\n",
    "# Visual\n",
    "exp_fixed_free_vis = kruskal_w_dunn(sample_df(main_exp_data['frac_vis_resp_fixed'].visual, \n",
    "                                              main_exp_data['frac_vis_resp_free'].visual))\n",
    "print('Fixed vs Free Visual:', exp_fixed_free_vis)\n",
    "\n",
    "\n",
    "# Orientation\n",
    "exp_fixed_free_ori = kruskal_w_dunn(sample_df(main_exp_data['frac_vis_resp_fixed'].orientation, \n",
    "                                              main_exp_data['frac_vis_resp_free'].orientation))\n",
    "print('Fixed vs Free Orientation:', exp_fixed_free_ori)\n",
    "\n",
    "\n",
    "# Direction\n",
    "exp_fixed_free_dir = kruskal_w_dunn(sample_df(main_exp_data['frac_vis_resp_fixed'].direction, \n",
    "                                              main_exp_data['frac_vis_resp_free'].direction))\n",
    "print('Fixed vs Free Direction:', exp_fixed_free_dir)\n",
    "\n",
    "# Save the data\n",
    "with pd.HDFStore(output_path, 'a') as store:\n",
    "    store['kruskal_exp_fixed_free_vis'] = pd.DataFrame(exp_fixed_free_vis, index=['p_val', 'p_val_dunn_posthoc'])\n",
    "    store['kruskal_exp_fixed_free_ori'] = pd.DataFrame(exp_fixed_free_ori, index=['p_val', 'p_val_dunn_posthoc'])\n",
    "    store['kruskal_exp_fixed_free_dir'] = pd.DataFrame(exp_fixed_free_dir, index=['p_val', 'p_val_dunn_posthoc'])"
   ]
  },
  {
   "cell_type": "markdown",
   "metadata": {},
   "source": [
    "### Wilcoxon Rank Sum"
   ]
  },
  {
   "cell_type": "code",
   "execution_count": null,
   "metadata": {},
   "outputs": [
    {
     "name": "stdout",
     "output_type": "stream",
     "text": [
      "Fixed vs Free Visual: (0.5535240471550497, array([0.55352405]))\n",
      "Fixed vs Free Orientation: (2.1622325721292424e-17, array([2.16223257e-17]))\n",
      "Fixed vs Free Direction: (0.0035842744078428378, array([0.00358427]))\n"
     ]
    },
    {
     "name": "stderr",
     "output_type": "stream",
     "text": [
      "C:\\Users\\mmccann\\AppData\\Local\\Temp\\ipykernel_21936\\4171216171.py:22: PerformanceWarning: \n",
      "your performance may suffer as PyTables will pickle object types that it cannot\n",
      "map directly to c-types [inferred_type->mixed,key->block0_values] [items->Int64Index([0], dtype='int64')]\n",
      "\n",
      "  store['wilcoxon_exp_fixed_free_vis'] = pd.DataFrame(exp_fixed_free_vis, index=['p_val', 'p_val_bonferroni'])\n",
      "C:\\Users\\mmccann\\AppData\\Local\\Temp\\ipykernel_21936\\4171216171.py:23: PerformanceWarning: \n",
      "your performance may suffer as PyTables will pickle object types that it cannot\n",
      "map directly to c-types [inferred_type->mixed,key->block0_values] [items->Int64Index([0], dtype='int64')]\n",
      "\n",
      "  store['wilcoxon_exp_fixed_free_ori'] = pd.DataFrame(exp_fixed_free_ori, index=['p_val', 'p_val_bonferroni'])\n",
      "C:\\Users\\mmccann\\AppData\\Local\\Temp\\ipykernel_21936\\4171216171.py:24: PerformanceWarning: \n",
      "your performance may suffer as PyTables will pickle object types that it cannot\n",
      "map directly to c-types [inferred_type->mixed,key->block0_values] [items->Int64Index([0], dtype='int64')]\n",
      "\n",
      "  store['wilcoxon_exp_fixed_free_dir'] = pd.DataFrame(exp_fixed_free_dir, index=['p_val', 'p_val_bonferroni'])\n"
     ]
    }
   ],
   "source": [
    "# Do a Wilcox Rank-Sum test with Bonferroni correction\n",
    "\n",
    "# Visual\n",
    "exp_fixed_free_vis = wilcoxon_w_bonferroni(sample_df(main_exp_data['frac_vis_resp_fixed'].visual, \n",
    "                                                     main_exp_data['frac_vis_resp_free'].visual))\n",
    "print('Fixed vs Free Visual:', exp_fixed_free_vis)\n",
    "\n",
    "\n",
    "# Orientation\n",
    "exp_fixed_free_ori = wilcoxon_w_bonferroni(sample_df(main_exp_data['frac_vis_resp_fixed'].orientation, \n",
    "                                                     main_exp_data['frac_vis_resp_free'].orientation))\n",
    "print('Fixed vs Free Orientation:', exp_fixed_free_ori)\n",
    "\n",
    "\n",
    "# Direction\n",
    "exp_fixed_free_dir = wilcoxon_w_bonferroni(sample_df(main_exp_data['frac_vis_resp_fixed'].direction, \n",
    "                                                     main_exp_data['frac_vis_resp_free'].direction))\n",
    "print('Fixed vs Free Direction:', exp_fixed_free_dir)\n",
    "\n",
    "# Save the data\n",
    "with pd.HDFStore(output_path, 'a') as store:\n",
    "    store['wilcoxon_exp_fixed_free_vis'] = pd.DataFrame(exp_fixed_free_vis, index=['p_val', 'p_val_bonferroni'])\n",
    "    store['wilcoxon_exp_fixed_free_ori'] = pd.DataFrame(exp_fixed_free_ori, index=['p_val', 'p_val_bonferroni'])\n",
    "    store['wilcoxon_exp_fixed_free_dir'] = pd.DataFrame(exp_fixed_free_dir, index=['p_val', 'p_val_bonferroni'])"
   ]
  },
  {
   "cell_type": "markdown",
   "metadata": {},
   "source": [
    "### Mann-Whitney U"
   ]
  },
  {
   "cell_type": "code",
   "execution_count": null,
   "metadata": {},
   "outputs": [
    {
     "name": "stdout",
     "output_type": "stream",
     "text": [
      "Fixed vs Free Visual: (0.6369949704544589, array([0.63699497]))\n",
      "Fixed vs Free Orientation: (5.573587631945802e-13, array([5.57358763e-13]))\n",
      "Fixed vs Free Direction: (0.03995130385570297, array([0.0399513]))\n"
     ]
    },
    {
     "name": "stderr",
     "output_type": "stream",
     "text": [
      "C:\\Users\\mmccann\\AppData\\Local\\Temp\\ipykernel_21936\\1262552217.py:20: PerformanceWarning: \n",
      "your performance may suffer as PyTables will pickle object types that it cannot\n",
      "map directly to c-types [inferred_type->mixed,key->block0_values] [items->Int64Index([0], dtype='int64')]\n",
      "\n",
      "  store['mannwhitneyu_exp_fixed_free_vis'] = pd.DataFrame(exp_fixed_free_vis, index=['p_val', 'p_val_bonferroni'])\n",
      "C:\\Users\\mmccann\\AppData\\Local\\Temp\\ipykernel_21936\\1262552217.py:21: PerformanceWarning: \n",
      "your performance may suffer as PyTables will pickle object types that it cannot\n",
      "map directly to c-types [inferred_type->mixed,key->block0_values] [items->Int64Index([0], dtype='int64')]\n",
      "\n",
      "  store['mannwhitneyu_exp_fixed_free_ori'] = pd.DataFrame(exp_fixed_free_ori, index=['p_val', 'p_val_bonferroni'])\n",
      "C:\\Users\\mmccann\\AppData\\Local\\Temp\\ipykernel_21936\\1262552217.py:22: PerformanceWarning: \n",
      "your performance may suffer as PyTables will pickle object types that it cannot\n",
      "map directly to c-types [inferred_type->mixed,key->block0_values] [items->Int64Index([0], dtype='int64')]\n",
      "\n",
      "  store['mannwhitneyu_exp_fixed_free_dir'] = pd.DataFrame(exp_fixed_free_dir, index=['p_val', 'p_val_bonferroni'])\n"
     ]
    }
   ],
   "source": [
    "# Do a Mann-Whitney U test with Bonferroni correction\n",
    "\n",
    "# Visual\n",
    "exp_fixed_free_vis = mannwhitneyu_w_bonferroni(sample_df(main_exp_data['frac_vis_resp_fixed'].visual, \n",
    "                                              main_exp_data['frac_vis_resp_free'].visual))\n",
    "print('Fixed vs Free Visual:', exp_fixed_free_vis)\n",
    "\n",
    "# Orientation\n",
    "exp_fixed_free_ori = mannwhitneyu_w_bonferroni(sample_df(main_exp_data['frac_vis_resp_fixed'].orientation, \n",
    "                                              main_exp_data['frac_vis_resp_free'].orientation))\n",
    "print('Fixed vs Free Orientation:', exp_fixed_free_ori)\n",
    "\n",
    "# Direction\n",
    "exp_fixed_free_dir = mannwhitneyu_w_bonferroni(sample_df(main_exp_data['frac_vis_resp_fixed'].direction, \n",
    "                                              main_exp_data['frac_vis_resp_free'].direction))\n",
    "print('Fixed vs Free Direction:', exp_fixed_free_dir)\n",
    "\n",
    "# Save the data\n",
    "with pd.HDFStore(output_path, 'a') as store:\n",
    "    store['mannwhitneyu_exp_fixed_free_vis'] = pd.DataFrame(exp_fixed_free_vis, index=['p_val', 'p_val_bonferroni'])\n",
    "    store['mannwhitneyu_exp_fixed_free_ori'] = pd.DataFrame(exp_fixed_free_ori, index=['p_val', 'p_val_bonferroni'])\n",
    "    store['mannwhitneyu_exp_fixed_free_dir'] = pd.DataFrame(exp_fixed_free_dir, index=['p_val', 'p_val_bonferroni'])"
   ]
  },
  {
   "cell_type": "markdown",
   "metadata": {},
   "source": [
    "## Frac Visual Tuning - Exp vs Controls"
   ]
  },
  {
   "cell_type": "markdown",
   "metadata": {},
   "source": [
    "### Fixed Kruskal Wallis"
   ]
  },
  {
   "cell_type": "code",
   "execution_count": null,
   "metadata": {},
   "outputs": [
    {
     "name": "stdout",
     "output_type": "stream",
     "text": [
      "Fixed vs Controls Visual 95% CI (-2.828481708825561e-29, 8.838416656002784e-29)\n",
      "Fixed vs Controls Visual 95% CI - Corrected: [[-1.04640460e-22  4.60604228e-21]\n",
      " [-1.02163626e-24  5.56194443e-24]\n",
      " [ 4.36831988e-01  4.73458884e-01]]\n",
      "Fixed vs Controls Visual Raw: (8.366268871528825e-15, array([1.57344464e-07, 9.83506935e-11, 6.07587104e-01]))\n",
      "Fixed vs Controls Ori 95% CI (-1.0453309158973413e-64, 3.353553894210938e-64)\n",
      "Fixed vs Controls Ori 95% CI - Corrected: [[-6.41434501e-51  3.00994560e-50]\n",
      " [-4.39958159e-50  1.15057650e-48]\n",
      " [ 4.85532980e-01  5.14752960e-01]]\n",
      "Fixed vs Controls Ori Raw: (1.4468502067743607e-19, array([3.18220818e-11, 1.40078048e-12, 8.89164817e-01]))\n",
      "Fixed vs Controls Dir 95% CI (-3.469602102578267e-36, 1.8372800574377145e-35)\n",
      "Fixed vs Controls Dir 95% CI - Corrected: [[ 1.25010240e-34  6.64081190e-32]\n",
      " [-2.44738871e-22  3.05852556e-21]\n",
      " [ 9.00474963e-02  1.06765360e-01]]\n",
      "Fixed vs Controls Dir Raw: (2.9913270159495296e-13, array([2.46097057e-08, 3.44884283e-08, 6.06697541e-01]))\n"
     ]
    },
    {
     "name": "stderr",
     "output_type": "stream",
     "text": [
      "C:\\Users\\mmccann\\AppData\\Local\\Temp\\ipykernel_21936\\2937115539.py:29: PerformanceWarning: \n",
      "your performance may suffer as PyTables will pickle object types that it cannot\n",
      "map directly to c-types [inferred_type->mixed,key->block0_values] [items->Index(['raw_test', 'bootstrap_tests', 'corrected_bootstrap_tests'], dtype='object')]\n",
      "\n",
      "  store['kruskal_frac_fixed_vis'] = pd.DataFrame(list(frac_fixed_vis), columns=['pval', 'ci'],\n",
      "C:\\Users\\mmccann\\AppData\\Local\\Temp\\ipykernel_21936\\2937115539.py:31: PerformanceWarning: \n",
      "your performance may suffer as PyTables will pickle object types that it cannot\n",
      "map directly to c-types [inferred_type->mixed,key->block0_values] [items->Index(['raw_test', 'bootstrap_tests', 'corrected_bootstrap_tests'], dtype='object')]\n",
      "\n",
      "  store['kruskal_frac_fixed_ori'] = pd.DataFrame(list(frac_fixed_ori), columns=['pval', 'ci'],\n",
      "C:\\Users\\mmccann\\AppData\\Local\\Temp\\ipykernel_21936\\2937115539.py:33: PerformanceWarning: \n",
      "your performance may suffer as PyTables will pickle object types that it cannot\n",
      "map directly to c-types [inferred_type->mixed,key->block0_values] [items->Index(['raw_test', 'bootstrap_tests', 'corrected_bootstrap_tests'], dtype='object')]\n",
      "\n",
      "  store['kruskal_frac_fixed_dir'] = pd.DataFrame(list(frac_fixed_dir), columns=['pval', 'ci'],\n"
     ]
    }
   ],
   "source": [
    "# Do a Kruskal-Wallis test with Dunn posthoc\n",
    "\n",
    "# Visual\n",
    "frac_fixed_vis = bootstrap_tests([main_exp_data, control_light_data, control_dark_data],\n",
    "                                 'frac_vis_resp_fixed', 'visual',\n",
    "                                 kruskal_w_dunn, n_iters=bootstrap_iters, bootstrap_all=True)\n",
    "print('Fixed vs Controls Visual 95% CI', frac_fixed_vis[1][1])\n",
    "print('Fixed vs Controls Visual 95% CI - Corrected:', frac_fixed_vis[-1][1])\n",
    "print('Fixed vs Controls Visual Raw:', frac_fixed_vis[0])\n",
    "\n",
    "# Orientation\n",
    "frac_fixed_ori = bootstrap_tests([main_exp_data, control_light_data, control_dark_data],\n",
    "                                 'frac_vis_resp_fixed', 'orientation',\n",
    "                                 kruskal_w_dunn, n_iters=bootstrap_iters, bootstrap_all=True)\n",
    "print('Fixed vs Controls Ori 95% CI', frac_fixed_ori[1][1])\n",
    "print('Fixed vs Controls Ori 95% CI - Corrected:', frac_fixed_ori[-1][1])\n",
    "print('Fixed vs Controls Ori Raw:', frac_fixed_ori[0])\n",
    "\n",
    "# Direction\n",
    "frac_fixed_dir = bootstrap_tests([main_exp_data, control_light_data, control_dark_data],\n",
    "                                 'frac_vis_resp_fixed', 'direction',\n",
    "                                 kruskal_w_dunn, n_iters=bootstrap_iters, bootstrap_all=True)\n",
    "print('Fixed vs Controls Dir 95% CI', frac_fixed_dir[1][1])\n",
    "print('Fixed vs Controls Dir 95% CI - Corrected:', frac_fixed_dir[-1][1])\n",
    "print('Fixed vs Controls Dir Raw:', frac_fixed_dir[0])\n",
    "\n",
    "# Save the data\n",
    "with pd.HDFStore(output_path, 'a') as store:\n",
    "    store['kruskal_frac_fixed_vis'] = pd.DataFrame(list(frac_fixed_vis), columns=['pval', 'ci'],\n",
    "                                                  index=['raw_test', 'bootstrap_tests', 'corrected_bootstrap_tests']).T\n",
    "    store['kruskal_frac_fixed_ori'] = pd.DataFrame(list(frac_fixed_ori), columns=['pval', 'ci'],\n",
    "                                                  index=['raw_test', 'bootstrap_tests', 'corrected_bootstrap_tests']).T\n",
    "    store['kruskal_frac_fixed_dir'] = pd.DataFrame(list(frac_fixed_dir), columns=['pval', 'ci'],\n",
    "                                                  index=['raw_test', 'bootstrap_tests', 'corrected_bootstrap_tests']).T"
   ]
  },
  {
   "cell_type": "code",
   "execution_count": null,
   "metadata": {},
   "outputs": [],
   "source": [
    "frac_fixed_fig = plot_bootstrap_distributions([frac_fixed_gen, \n",
    "                                               frac_fixed_vis, frac_fixed_vis_no_gen, \n",
    "                                               frac_fixed_ori, frac_fixed_ori_no_gen,\n",
    "                                               frac_fixed_dir, frac_fixed_dir_no_gen])\n",
    "plt.show()"
   ]
  },
  {
   "cell_type": "markdown",
   "metadata": {},
   "source": [
    "### Free Kruskal Wallis"
   ]
  },
  {
   "cell_type": "code",
   "execution_count": null,
   "metadata": {},
   "outputs": [
    {
     "name": "stdout",
     "output_type": "stream",
     "text": [
      "Free vs Controls Visual 95% CI (-3.378824251318259e-25, 4.496966286521529e-24)\n",
      "Free vs Controls Visual 95% CI - Corrected: [[ 3.64541627e-18  4.85787939e-17]\n",
      " [-3.03196346e-20  1.68238257e-19]\n",
      " [ 3.48658860e-01  3.83911276e-01]]\n",
      "Free vs Controls Visual Raw: (2.256976482633488e-12, array([7.64863616e-07, 1.22705793e-08, 8.38302451e-01]))\n",
      "Free vs Controls Ori 95% CI (-4.4520023719633245e-17, 4.718578427914253e-16)\n",
      "Free vs Controls Ori 95% CI - Corrected: [[ 3.62446534e-08  1.72921695e-07]\n",
      " [-1.76723247e-16  1.42809905e-15]\n",
      " [ 7.21194156e-03  1.08306496e-02]]\n",
      "Free vs Controls Ori Raw: (1.215172622536174e-07, array([1.63979021e-03, 2.42977059e-06, 3.70787550e-01]))\n",
      "Free vs Controls Dir 95% CI (-1.5006553818339583e-20, 7.513208770557706e-20)\n",
      "Free vs Controls Dir 95% CI - Corrected: [[ 2.58086836e-06  9.54486531e-06]\n",
      " [-5.10161402e-21  2.56370613e-20]\n",
      " [ 2.39666539e-06  5.88676774e-05]]\n",
      "Free vs Controls Dir Raw: (6.262589083172232e-09, array([4.42860952e-03, 4.12671462e-08, 9.76719490e-02]))\n"
     ]
    },
    {
     "name": "stderr",
     "output_type": "stream",
     "text": [
      "C:\\Users\\mmccann\\AppData\\Local\\Temp\\ipykernel_21936\\4050277121.py:30: PerformanceWarning: \n",
      "your performance may suffer as PyTables will pickle object types that it cannot\n",
      "map directly to c-types [inferred_type->mixed,key->block0_values] [items->Index(['raw_test', 'bootstrap_tests', 'corrected_bootstrap_tests'], dtype='object')]\n",
      "\n",
      "  store['kruskal_frac_free_vis'] = pd.DataFrame(list(frac_free_vis), columns=['pval', 'ci'],\n",
      "C:\\Users\\mmccann\\AppData\\Local\\Temp\\ipykernel_21936\\4050277121.py:32: PerformanceWarning: \n",
      "your performance may suffer as PyTables will pickle object types that it cannot\n",
      "map directly to c-types [inferred_type->mixed,key->block0_values] [items->Index(['raw_test', 'bootstrap_tests', 'corrected_bootstrap_tests'], dtype='object')]\n",
      "\n",
      "  store['kruskal_frac_free_ori'] = pd.DataFrame(list(frac_free_ori), columns=['pval', 'ci'],\n",
      "C:\\Users\\mmccann\\AppData\\Local\\Temp\\ipykernel_21936\\4050277121.py:34: PerformanceWarning: \n",
      "your performance may suffer as PyTables will pickle object types that it cannot\n",
      "map directly to c-types [inferred_type->mixed,key->block0_values] [items->Index(['raw_test', 'bootstrap_tests', 'corrected_bootstrap_tests'], dtype='object')]\n",
      "\n",
      "  store['kruskal_frac_free_dir'] = pd.DataFrame(list(frac_free_dir), columns=['pval', 'ci'],\n"
     ]
    }
   ],
   "source": [
    "# Do a Kruskal-Wallis test with Dunn posthoc\n",
    "\n",
    "# Visual\n",
    "frac_free_vis = bootstrap_tests([main_exp_data, control_light_data, control_dark_data],\n",
    "                                  'frac_vis_resp_free', 'visual',\n",
    "                                  kruskal_w_dunn, n_iters=bootstrap_iters, bootstrap_all=True)\n",
    "print('Free vs Controls Visual 95% CI', frac_free_vis[1][1])\n",
    "print('Free vs Controls Visual 95% CI - Corrected:', frac_free_vis[-1][1])\n",
    "print('Free vs Controls Visual Raw:', frac_free_vis[0])\n",
    "\n",
    "# Orientation\n",
    "frac_free_ori = bootstrap_tests([main_exp_data, control_light_data, control_dark_data],\n",
    "                                  'frac_vis_resp_free', 'orientation',\n",
    "                                  kruskal_w_dunn, n_iters=bootstrap_iters, bootstrap_all=True)\n",
    "print('Free vs Controls Ori 95% CI', frac_free_ori[1][1])\n",
    "print('Free vs Controls Ori 95% CI - Corrected:', frac_free_ori[-1][1])\n",
    "print('Free vs Controls Ori Raw:', frac_free_ori[0])\n",
    "\n",
    "# Direction\n",
    "frac_free_dir = bootstrap_tests([main_exp_data, control_light_data, control_dark_data],\n",
    "                                  'frac_vis_resp_free', 'direction',\n",
    "                                  kruskal_w_dunn, n_iters=bootstrap_iters, bootstrap_all=True)\n",
    "print('Free vs Controls Dir 95% CI', frac_free_dir[1][1])\n",
    "print('Free vs Controls Dir 95% CI - Corrected:', frac_free_dir[-1][1])\n",
    "print('Free vs Controls Dir Raw:', frac_free_dir[0])\n",
    "\n",
    "\n",
    "# Save the data\n",
    "with pd.HDFStore(output_path, 'a') as store:\n",
    "    store['kruskal_frac_free_vis'] = pd.DataFrame(list(frac_free_vis), columns=['pval', 'ci'],\n",
    "                                                  index=['raw_test', 'bootstrap_tests', 'corrected_bootstrap_tests']).T\n",
    "    store['kruskal_frac_free_ori'] = pd.DataFrame(list(frac_free_ori), columns=['pval', 'ci'],\n",
    "                                                  index=['raw_test', 'bootstrap_tests', 'corrected_bootstrap_tests']).T\n",
    "    store['kruskal_frac_free_dir'] = pd.DataFrame(list(frac_free_dir), columns=['pval', 'ci'],\n",
    "                                                  index=['raw_test', 'bootstrap_tests', 'corrected_bootstrap_tests']).T"
   ]
  },
  {
   "cell_type": "code",
   "execution_count": null,
   "metadata": {},
   "outputs": [],
   "source": [
    "frac_free_fig = plot_bootstrap_distributions([frac_free_gen, \n",
    "                                              frac_free_vis, frac_free_vis_no_gen, \n",
    "                                              frac_free_ori, frac_free_ori_no_gen,\n",
    "                                              frac_free_dir, frac_free_dir_no_gen])\n",
    "plt.show()"
   ]
  },
  {
   "cell_type": "markdown",
   "metadata": {},
   "source": [
    "## Count Vis Tuning - Fixed vs Free"
   ]
  },
  {
   "cell_type": "markdown",
   "metadata": {},
   "source": [
    "### Kruskal-Wallis"
   ]
  },
  {
   "cell_type": "code",
   "execution_count": null,
   "metadata": {},
   "outputs": [
    {
     "name": "stdout",
     "output_type": "stream",
     "text": [
      "Fixed vs Free Visual: (0.6369949704544589, array([0.63699497]))\n",
      "Fixed vs Free Orientation: (5.573587631945802e-13, array([5.57358763e-13]))\n",
      "Fixed vs Free Direction: (0.03995130385570297, array([0.0399513]))\n"
     ]
    },
    {
     "name": "stderr",
     "output_type": "stream",
     "text": [
      "C:\\Users\\mmccann\\AppData\\Local\\Temp\\ipykernel_21936\\557711235.py:21: PerformanceWarning: \n",
      "your performance may suffer as PyTables will pickle object types that it cannot\n",
      "map directly to c-types [inferred_type->mixed,key->block0_values] [items->Int64Index([0], dtype='int64')]\n",
      "\n",
      "  store['kruskal_exp_fixed_free_vis_count'] = pd.DataFrame(count_exp_fixed_free_vis, index=['p_val', 'p_val_dunn_posthoc'])\n",
      "C:\\Users\\mmccann\\AppData\\Local\\Temp\\ipykernel_21936\\557711235.py:22: PerformanceWarning: \n",
      "your performance may suffer as PyTables will pickle object types that it cannot\n",
      "map directly to c-types [inferred_type->mixed,key->block0_values] [items->Int64Index([0], dtype='int64')]\n",
      "\n",
      "  store['kruskal_exp_fixed_free_ori_count'] = pd.DataFrame(count_exp_fixed_free_ori, index=['p_val', 'p_val_dunn_posthoc'])\n",
      "C:\\Users\\mmccann\\AppData\\Local\\Temp\\ipykernel_21936\\557711235.py:23: PerformanceWarning: \n",
      "your performance may suffer as PyTables will pickle object types that it cannot\n",
      "map directly to c-types [inferred_type->mixed,key->block0_values] [items->Int64Index([0], dtype='int64')]\n",
      "\n",
      "  store['kruskal_exp_fixed_free_dir_count'] = pd.DataFrame(count_exp_fixed_free_dir, index=['p_val', 'p_val_dunn_posthoc'])\n"
     ]
    }
   ],
   "source": [
    "# Do a Kruskal-Wallis test with posthoc Dunn test for multiple comparisons\n",
    "\n",
    "# Visual\n",
    "count_exp_fixed_free_vis = kruskal_w_dunn(sample_df(main_exp_data['count_vis_resp_fixed'].visual, \n",
    "                                              main_exp_data['count_vis_resp_free'].visual))\n",
    "print('Fixed vs Free Visual:', exp_fixed_free_vis)\n",
    "\n",
    "# Orientation\n",
    "count_exp_fixed_free_ori = kruskal_w_dunn(sample_df(main_exp_data['count_vis_resp_fixed'].orientation, \n",
    "                                              main_exp_data['count_vis_resp_free'].orientation))\n",
    "print('Fixed vs Free Orientation:', exp_fixed_free_ori)\n",
    "\n",
    "\n",
    "# Direction\n",
    "count_exp_fixed_free_dir = kruskal_w_dunn(sample_df(main_exp_data['count_vis_resp_fixed'].direction, \n",
    "                                              main_exp_data['count_vis_resp_free'].direction))\n",
    "print('Fixed vs Free Direction:', exp_fixed_free_dir)\n",
    "\n",
    "# Save the data\n",
    "with pd.HDFStore(output_path, 'a') as store:\n",
    "    store['kruskal_exp_fixed_free_vis_count'] = pd.DataFrame(count_exp_fixed_free_vis, index=['p_val', 'p_val_dunn_posthoc'])\n",
    "    store['kruskal_exp_fixed_free_ori_count'] = pd.DataFrame(count_exp_fixed_free_ori, index=['p_val', 'p_val_dunn_posthoc'])\n",
    "    store['kruskal_exp_fixed_free_dir_count'] = pd.DataFrame(count_exp_fixed_free_dir, index=['p_val', 'p_val_dunn_posthoc'])"
   ]
  },
  {
   "cell_type": "markdown",
   "metadata": {},
   "source": [
    "### Wilcoxon Rank Sum"
   ]
  },
  {
   "cell_type": "code",
   "execution_count": null,
   "metadata": {},
   "outputs": [
    {
     "name": "stdout",
     "output_type": "stream",
     "text": [
      "Fixed vs Free Visual: (0.6369949704544589, array([0.63699497]))\n",
      "Fixed vs Free Orientation: (5.573587631945802e-13, array([5.57358763e-13]))\n",
      "Fixed vs Free Direction: (0.03995130385570297, array([0.0399513]))\n"
     ]
    },
    {
     "name": "stderr",
     "output_type": "stream",
     "text": [
      "C:\\Users\\mmccann\\AppData\\Local\\Temp\\ipykernel_21936\\2056095805.py:20: PerformanceWarning: \n",
      "your performance may suffer as PyTables will pickle object types that it cannot\n",
      "map directly to c-types [inferred_type->mixed,key->block0_values] [items->Int64Index([0], dtype='int64')]\n",
      "\n",
      "  store['wilcoxon_exp_fixed_free_vis_count'] = pd.DataFrame(count_exp_fixed_free_vis, index=['p_val', 'p_val_dunn_posthoc'])\n",
      "C:\\Users\\mmccann\\AppData\\Local\\Temp\\ipykernel_21936\\2056095805.py:21: PerformanceWarning: \n",
      "your performance may suffer as PyTables will pickle object types that it cannot\n",
      "map directly to c-types [inferred_type->mixed,key->block0_values] [items->Int64Index([0], dtype='int64')]\n",
      "\n",
      "  store['wilcoxon_exp_fixed_freew_ori_count'] = pd.DataFrame(count_exp_fixed_free_ori, index=['p_val', 'p_val_dunn_posthoc'])\n",
      "C:\\Users\\mmccann\\AppData\\Local\\Temp\\ipykernel_21936\\2056095805.py:22: PerformanceWarning: \n",
      "your performance may suffer as PyTables will pickle object types that it cannot\n",
      "map directly to c-types [inferred_type->mixed,key->block0_values] [items->Int64Index([0], dtype='int64')]\n",
      "\n",
      "  store['wilcoxon_exp_fixed_free_dir_count'] = pd.DataFrame(count_exp_fixed_free_dir, index=['p_val', 'p_val_dunn_posthoc'])\n"
     ]
    }
   ],
   "source": [
    "# Do a Wilcox Rank-Sum test with Bonferroni correction\n",
    "\n",
    "# Visual\n",
    "count_exp_fixed_free_vis = wilcoxon_w_bonferroni(sample_df(main_exp_data['count_vis_resp_fixed'].visual, \n",
    "                                              main_exp_data['count_vis_resp_free'].visual))\n",
    "print('Fixed vs Free Visual:', exp_fixed_free_vis)\n",
    "\n",
    "# Orientation\n",
    "count_exp_fixed_free_ori = wilcoxon_w_bonferroni(sample_df(main_exp_data['count_vis_resp_fixed'].orientation, \n",
    "                                              main_exp_data['count_vis_resp_free'].orientation))\n",
    "print('Fixed vs Free Orientation:', exp_fixed_free_ori)\n",
    "\n",
    "# Direction\n",
    "count_exp_fixed_free_dir = wilcoxon_w_bonferroni(sample_df(main_exp_data['count_vis_resp_fixed'].direction, \n",
    "                                              main_exp_data['count_vis_resp_free'].direction))\n",
    "print('Fixed vs Free Direction:', exp_fixed_free_dir)\n",
    "\n",
    "# Save the data\n",
    "with pd.HDFStore(output_path, 'a') as store:\n",
    "    store['wilcoxon_exp_fixed_free_vis_count'] = pd.DataFrame(count_exp_fixed_free_vis, index=['p_val', 'p_val_dunn_posthoc'])\n",
    "    store['wilcoxon_exp_fixed_freew_ori_count'] = pd.DataFrame(count_exp_fixed_free_ori, index=['p_val', 'p_val_dunn_posthoc'])\n",
    "    store['wilcoxon_exp_fixed_free_dir_count'] = pd.DataFrame(count_exp_fixed_free_dir, index=['p_val', 'p_val_dunn_posthoc'])"
   ]
  },
  {
   "cell_type": "markdown",
   "metadata": {},
   "source": [
    "### Mann-Whitney U"
   ]
  },
  {
   "cell_type": "code",
   "execution_count": null,
   "metadata": {},
   "outputs": [
    {
     "name": "stdout",
     "output_type": "stream",
     "text": [
      "Fixed vs Free Visual: (0.6369949704544589, array([0.63699497]))\n",
      "Fixed vs Free Orientation: (5.573587631945802e-13, array([5.57358763e-13]))\n",
      "Fixed vs Free Direction: (0.03995130385570297, array([0.0399513]))\n"
     ]
    },
    {
     "name": "stderr",
     "output_type": "stream",
     "text": [
      "C:\\Users\\mmccann\\AppData\\Local\\Temp\\ipykernel_21936\\492689366.py:20: PerformanceWarning: \n",
      "your performance may suffer as PyTables will pickle object types that it cannot\n",
      "map directly to c-types [inferred_type->mixed,key->block0_values] [items->Int64Index([0], dtype='int64')]\n",
      "\n",
      "  store['mannwhitneyu_exp_fixed_free_vis_count'] = pd.DataFrame(count_exp_fixed_free_vis, index=['p_val', 'p_val_dunn_posthoc'])\n",
      "C:\\Users\\mmccann\\AppData\\Local\\Temp\\ipykernel_21936\\492689366.py:21: PerformanceWarning: \n",
      "your performance may suffer as PyTables will pickle object types that it cannot\n",
      "map directly to c-types [inferred_type->mixed,key->block0_values] [items->Int64Index([0], dtype='int64')]\n",
      "\n",
      "  store['mannwhitneyu_exp_fixed_freew_ori_count'] = pd.DataFrame(count_exp_fixed_free_ori, index=['p_val', 'p_val_dunn_posthoc'])\n",
      "C:\\Users\\mmccann\\AppData\\Local\\Temp\\ipykernel_21936\\492689366.py:22: PerformanceWarning: \n",
      "your performance may suffer as PyTables will pickle object types that it cannot\n",
      "map directly to c-types [inferred_type->mixed,key->block0_values] [items->Int64Index([0], dtype='int64')]\n",
      "\n",
      "  store['mannwhitneyu_exp_fixed_free_dir_count'] = pd.DataFrame(count_exp_fixed_free_dir, index=['p_val', 'p_val_dunn_posthoc'])\n"
     ]
    }
   ],
   "source": [
    "# Do a Mann-Whitney U test with Bonferroni correction\n",
    "\n",
    "# Visual\n",
    "count_exp_fixed_free_vis = mannwhitneyu_w_bonferroni(sample_df(main_exp_data['count_vis_resp_fixed'].visual, \n",
    "                                              main_exp_data['count_vis_resp_free'].visual))\n",
    "print('Fixed vs Free Visual:', exp_fixed_free_vis)\n",
    "\n",
    "# Orientation\n",
    "count_exp_fixed_free_ori = mannwhitneyu_w_bonferroni(sample_df(main_exp_data['count_vis_resp_fixed'].orientation, \n",
    "                                              main_exp_data['count_vis_resp_free'].orientation))\n",
    "print('Fixed vs Free Orientation:', exp_fixed_free_ori)\n",
    "\n",
    "# Direction\n",
    "count_exp_fixed_free_dir = mannwhitneyu_w_bonferroni(sample_df(main_exp_data['count_vis_resp_fixed'].direction, \n",
    "                                              main_exp_data['count_vis_resp_free'].direction))\n",
    "print('Fixed vs Free Direction:', exp_fixed_free_dir)\n",
    "\n",
    "# Save the data\n",
    "with pd.HDFStore(output_path, 'a') as store:\n",
    "    store['mannwhitneyu_exp_fixed_free_vis_count'] = pd.DataFrame(count_exp_fixed_free_vis, index=['p_val', 'p_val_dunn_posthoc'])\n",
    "    store['mannwhitneyu_exp_fixed_freew_ori_count'] = pd.DataFrame(count_exp_fixed_free_ori, index=['p_val', 'p_val_dunn_posthoc'])\n",
    "    store['mannwhitneyu_exp_fixed_free_dir_count'] = pd.DataFrame(count_exp_fixed_free_dir, index=['p_val', 'p_val_dunn_posthoc'])"
   ]
  },
  {
   "cell_type": "markdown",
   "metadata": {},
   "source": [
    "## Count Vis Tuning - Exp vs Controls"
   ]
  },
  {
   "cell_type": "markdown",
   "metadata": {},
   "source": [
    "### Fixed Kruskal Wallis"
   ]
  },
  {
   "cell_type": "code",
   "execution_count": null,
   "metadata": {},
   "outputs": [
    {
     "name": "stdout",
     "output_type": "stream",
     "text": [
      "Fixed vs Controls Visual 95% CI: (1.1898280240107973e-07, 4.278181580262835e-07)\n",
      "Fixed vs Controls Visual Raw: (0.000268196058097534, array([0.00634131, 0.00634131, 0.78859931]))\n",
      "Fixed vs Controls Orientation 95% CI: (-1.0588450281132102e-23, 1.787913192627451e-22)\n",
      "Fixed vs Controls Orientation Raw: (5.443136292223412e-08, array([5.21956459e-05, 2.30637753e-05, 9.07642115e-01]))\n",
      "Fixed vs Controls Direction 95% CI: (-1.7748405866532095e-10, 6.225623259710055e-10)\n",
      "Fixed vs Controls Direction Raw: (1.6802916286478037e-05, array([0.00106744, 0.00106744, 0.73690399]))\n"
     ]
    },
    {
     "name": "stderr",
     "output_type": "stream",
     "text": [
      "C:\\Users\\mmccann\\AppData\\Local\\Temp\\ipykernel_21936\\1615279377.py:27: PerformanceWarning: \n",
      "your performance may suffer as PyTables will pickle object types that it cannot\n",
      "map directly to c-types [inferred_type->mixed,key->block0_values] [items->Index(['raw_test', 'bootstrap_tests', 'corrected_bootstrap_tests'], dtype='object')]\n",
      "\n",
      "  store['kruskal_count_fixed_vis'] = pd.DataFrame(list(count_fixed_vis), columns=['pval', 'ci'],\n",
      "C:\\Users\\mmccann\\AppData\\Local\\Temp\\ipykernel_21936\\1615279377.py:29: PerformanceWarning: \n",
      "your performance may suffer as PyTables will pickle object types that it cannot\n",
      "map directly to c-types [inferred_type->mixed,key->block0_values] [items->Index(['raw_test', 'bootstrap_tests', 'corrected_bootstrap_tests'], dtype='object')]\n",
      "\n",
      "  store['kruskal_count_fixed_ori'] = pd.DataFrame(list(count_fixed_ori), columns=['pval', 'ci'],\n",
      "C:\\Users\\mmccann\\AppData\\Local\\Temp\\ipykernel_21936\\1615279377.py:31: PerformanceWarning: \n",
      "your performance may suffer as PyTables will pickle object types that it cannot\n",
      "map directly to c-types [inferred_type->mixed,key->block0_values] [items->Index(['raw_test', 'bootstrap_tests', 'corrected_bootstrap_tests'], dtype='object')]\n",
      "\n",
      "  store['kruskal_count_fixed_dir'] = pd.DataFrame(list(count_fixed_dir), columns=['pval', 'ci'],\n"
     ]
    }
   ],
   "source": [
    "# Do a Kruskal-Wallis test with Dunn posthoc\n",
    "\n",
    "\n",
    "# Visual\n",
    "count_fixed_vis = bootstrap_tests([main_exp_data, control_light_data, control_dark_data],\n",
    "                                 'count_vis_resp_fixed', 'visual',   \n",
    "                                 kruskal_w_dunn, n_iters=bootstrap_iters, bootstrap_all=True)\n",
    "print('Fixed vs Controls Visual 95% CI:', count_fixed_vis[1][1])\n",
    "print('Fixed vs Controls Visual Raw:', count_fixed_vis[0])\n",
    "\n",
    "# Orientation\n",
    "count_fixed_ori = bootstrap_tests([main_exp_data, control_light_data, control_dark_data],\n",
    "                                 'count_vis_resp_fixed', 'orientation',\n",
    "                                 kruskal_w_dunn, n_iters=bootstrap_iters, bootstrap_all=True)\n",
    "print('Fixed vs Controls Orientation 95% CI:', count_fixed_ori[1][1])\n",
    "print('Fixed vs Controls Orientation Raw:', count_fixed_ori[0])\n",
    "\n",
    "# Direction\n",
    "count_fixed_dir = bootstrap_tests([main_exp_data, control_light_data, control_dark_data],\n",
    "                                 'count_vis_resp_fixed', 'direction',\n",
    "                                 kruskal_w_dunn, n_iters=bootstrap_iters, bootstrap_all=True)\n",
    "print('Fixed vs Controls Direction 95% CI:', count_fixed_dir[1][1])\n",
    "print('Fixed vs Controls Direction Raw:', count_fixed_dir[0])\n",
    "\n",
    "# Save the data\n",
    "with pd.HDFStore(output_path, 'a') as store:\n",
    "    store['kruskal_count_fixed_vis'] = pd.DataFrame(list(count_fixed_vis), columns=['pval', 'ci'],\n",
    "                                                  index=['raw_test', 'bootstrap_tests', 'corrected_bootstrap_tests']).T\n",
    "    store['kruskal_count_fixed_ori'] = pd.DataFrame(list(count_fixed_ori), columns=['pval', 'ci'],\n",
    "                                                  index=['raw_test', 'bootstrap_tests', 'corrected_bootstrap_tests']).T\n",
    "    store['kruskal_count_fixed_dir'] = pd.DataFrame(list(count_fixed_dir), columns=['pval', 'ci'],\n",
    "                                                  index=['raw_test', 'bootstrap_tests', 'corrected_bootstrap_tests']).T"
   ]
  },
  {
   "cell_type": "markdown",
   "metadata": {},
   "source": [
    "### Free Kruskal Wallis"
   ]
  },
  {
   "cell_type": "code",
   "execution_count": null,
   "metadata": {},
   "outputs": [
    {
     "name": "stdout",
     "output_type": "stream",
     "text": [
      "Free vs Controls Visual 95% CI: (-1.5467932053140595e-06, 1.1222112647587745e-05)\n",
      "Free vs Controls Visual Raw: (0.0003101948186057097, array([0.01768822, 0.00235345, 0.73407518]))\n",
      "Free vs Controls Orientation 95% CI: (1.356590257564576e-07, 8.352331534934261e-07)\n",
      "Free vs Controls Orientation Raw: (0.001265652736278355, array([0.06810468, 0.00383673, 0.5248231 ]))\n",
      "Free vs Controls Direction 95% CI: (1.7544569059523954e-09, 2.5175397273982187e-08)\n",
      "Free vs Controls Direction Raw: (0.0002634136057045376, array([0.08240132, 0.00055088, 0.28396112]))\n"
     ]
    },
    {
     "name": "stderr",
     "output_type": "stream",
     "text": [
      "C:\\Users\\mmccann\\AppData\\Local\\Temp\\ipykernel_21936\\1888198755.py:26: PerformanceWarning: \n",
      "your performance may suffer as PyTables will pickle object types that it cannot\n",
      "map directly to c-types [inferred_type->mixed,key->block0_values] [items->Index(['raw_test', 'bootstrap_tests', 'corrected_bootstrap_tests'], dtype='object')]\n",
      "\n",
      "  store['kruskal_count_free_vis'] = pd.DataFrame(list(count_free_vis), columns=['pval', 'ci'],\n",
      "C:\\Users\\mmccann\\AppData\\Local\\Temp\\ipykernel_21936\\1888198755.py:28: PerformanceWarning: \n",
      "your performance may suffer as PyTables will pickle object types that it cannot\n",
      "map directly to c-types [inferred_type->mixed,key->block0_values] [items->Index(['raw_test', 'bootstrap_tests', 'corrected_bootstrap_tests'], dtype='object')]\n",
      "\n",
      "  store['kruskal_count_free_ori'] = pd.DataFrame(list(count_free_ori), columns=['pval', 'ci'],\n",
      "C:\\Users\\mmccann\\AppData\\Local\\Temp\\ipykernel_21936\\1888198755.py:30: PerformanceWarning: \n",
      "your performance may suffer as PyTables will pickle object types that it cannot\n",
      "map directly to c-types [inferred_type->mixed,key->block0_values] [items->Index(['raw_test', 'bootstrap_tests', 'corrected_bootstrap_tests'], dtype='object')]\n",
      "\n",
      "  store['kruskal_count_free_dir'] = pd.DataFrame(list(count_free_dir), columns=['pval', 'ci'],\n"
     ]
    }
   ],
   "source": [
    "# Do a Kruskal-Wallis test with Dunn posthoc\n",
    "\n",
    "# Visual\n",
    "count_free_vis = bootstrap_tests([main_exp_data, control_light_data, control_dark_data],\n",
    "                                 'count_vis_resp_free', 'visual',   \n",
    "                                 kruskal_w_dunn, n_iters=bootstrap_iters, bootstrap_all=True)\n",
    "print('Free vs Controls Visual 95% CI:', count_free_vis[1][1])\n",
    "print('Free vs Controls Visual Raw:', count_free_vis[0])\n",
    "\n",
    "# Orientation\n",
    "count_free_ori = bootstrap_tests([main_exp_data, control_light_data, control_dark_data],\n",
    "                                 'count_vis_resp_free', 'orientation',\n",
    "                                 kruskal_w_dunn, n_iters=bootstrap_iters, bootstrap_all=True)\n",
    "print('Free vs Controls Orientation 95% CI:', count_free_ori[1][1])\n",
    "print('Free vs Controls Orientation Raw:', count_free_ori[0])\n",
    "\n",
    "# Direction\n",
    "count_free_dir = bootstrap_tests([main_exp_data, control_light_data, control_dark_data],\n",
    "                                 'count_vis_resp_free', 'direction',\n",
    "                                 kruskal_w_dunn, n_iters=bootstrap_iters, bootstrap_all=True)\n",
    "print('Free vs Controls Direction 95% CI:', count_free_dir[1][1])\n",
    "print('Free vs Controls Direction Raw:', count_free_dir[0])\n",
    "\n",
    "# Save the data\n",
    "with pd.HDFStore(output_path, 'a') as store:\n",
    "    store['kruskal_count_free_vis'] = pd.DataFrame(list(count_free_vis), columns=['pval', 'ci'],\n",
    "                                                  index=['raw_test', 'bootstrap_tests', 'corrected_bootstrap_tests']).T\n",
    "    store['kruskal_count_free_ori'] = pd.DataFrame(list(count_free_ori), columns=['pval', 'ci'],\n",
    "                                                  index=['raw_test', 'bootstrap_tests', 'corrected_bootstrap_tests']).T\n",
    "    store['kruskal_count_free_dir'] = pd.DataFrame(list(count_free_dir), columns=['pval', 'ci'],\n",
    "                                                  index=['raw_test', 'bootstrap_tests', 'corrected_bootstrap_tests']).T"
   ]
  },
  {
   "cell_type": "markdown",
   "metadata": {},
   "source": [
    "# Running Modulated"
   ]
  },
  {
   "cell_type": "code",
   "execution_count": 52,
   "metadata": {},
   "outputs": [
    {
     "data": {
      "text/plain": [
       "['angle_residual_rmse_tuned_all_matches_all_vis_resp',\n",
       " 'angle_residual_rmse_tuned_all_matches_both_vis_resp',\n",
       " 'angle_residual_rmse_tuned_curated_matches_all_vis_resp',\n",
       " 'angle_residual_rmse_tuned_curated_matches_both_vis_resp',\n",
       " 'angle_residual_rmse_vis_resp_all_matches_all_vis_resp',\n",
       " 'angle_residual_rmse_vis_resp_all_matches_both_vis_resp',\n",
       " 'angle_residual_rmse_vis_resp_curated_matches_all_vis_resp',\n",
       " 'angle_residual_rmse_vis_resp_curated_matches_both_vis_resp',\n",
       " 'count_vis_resp_fixed',\n",
       " 'count_vis_resp_free',\n",
       " 'dsi_residuals_tuned_all_matches_all_vis_resp',\n",
       " 'dsi_residuals_tuned_all_matches_both_vis_resp',\n",
       " 'dsi_residuals_tuned_curated_matches_all_vis_resp',\n",
       " 'dsi_residuals_tuned_curated_matches_both_vis_resp',\n",
       " 'dsi_residuals_vis_resp_all_matches_all_vis_resp',\n",
       " 'dsi_residuals_vis_resp_all_matches_both_vis_resp',\n",
       " 'dsi_residuals_vis_resp_curated_matches_all_vis_resp',\n",
       " 'dsi_residuals_vis_resp_curated_matches_both_vis_resp',\n",
       " 'dsi_shifts_tuned_all_matches_all_vis_resp',\n",
       " 'dsi_shifts_tuned_all_matches_both_vis_resp',\n",
       " 'dsi_shifts_tuned_curated_matches_all_vis_resp',\n",
       " 'dsi_shifts_tuned_curated_matches_both_vis_resp',\n",
       " 'dsi_shifts_vis_resp_all_matches_all_vis_resp',\n",
       " 'dsi_shifts_vis_resp_all_matches_both_vis_resp',\n",
       " 'dsi_shifts_vis_resp_curated_matches_all_vis_resp',\n",
       " 'dsi_shifts_vis_resp_curated_matches_both_vis_resp',\n",
       " 'frac_cell_match',\n",
       " 'frac_kinem_resp_fixed',\n",
       " 'frac_kinem_resp_free',\n",
       " 'frac_vis_resp_fixed',\n",
       " 'frac_vis_resp_free',\n",
       " 'osi_residuals_tuned_all_matches_all_vis_resp',\n",
       " 'osi_residuals_tuned_all_matches_both_vis_resp',\n",
       " 'osi_residuals_tuned_curated_matches_all_vis_resp',\n",
       " 'osi_residuals_tuned_curated_matches_both_vis_resp',\n",
       " 'osi_residuals_vis_resp_all_matches_all_vis_resp',\n",
       " 'osi_residuals_vis_resp_all_matches_both_vis_resp',\n",
       " 'osi_residuals_vis_resp_curated_matches_all_vis_resp',\n",
       " 'osi_residuals_vis_resp_curated_matches_both_vis_resp',\n",
       " 'osi_shifts_tuned_all_matches_all_vis_resp',\n",
       " 'osi_shifts_tuned_all_matches_both_vis_resp',\n",
       " 'osi_shifts_tuned_curated_matches_all_vis_resp',\n",
       " 'osi_shifts_tuned_curated_matches_both_vis_resp',\n",
       " 'osi_shifts_vis_resp_all_matches_all_vis_resp',\n",
       " 'osi_shifts_vis_resp_all_matches_both_vis_resp',\n",
       " 'osi_shifts_vis_resp_curated_matches_all_vis_resp',\n",
       " 'osi_shifts_vis_resp_curated_matches_both_vis_resp',\n",
       " 'pd_residuals_tuned_all_matches_all_vis_resp',\n",
       " 'pd_residuals_tuned_all_matches_both_vis_resp',\n",
       " 'pd_residuals_tuned_curated_matches_all_vis_resp',\n",
       " 'pd_residuals_tuned_curated_matches_both_vis_resp',\n",
       " 'pd_residuals_vis_resp_all_matches_all_vis_resp',\n",
       " 'pd_residuals_vis_resp_all_matches_both_vis_resp',\n",
       " 'pd_residuals_vis_resp_curated_matches_all_vis_resp',\n",
       " 'pd_residuals_vis_resp_curated_matches_both_vis_resp',\n",
       " 'pd_shifts_tuned_all_matches_all_vis_resp',\n",
       " 'pd_shifts_tuned_all_matches_both_vis_resp',\n",
       " 'pd_shifts_tuned_curated_matches_all_vis_resp',\n",
       " 'pd_shifts_tuned_curated_matches_both_vis_resp',\n",
       " 'pd_shifts_vis_resp_all_matches_all_vis_resp',\n",
       " 'pd_shifts_vis_resp_all_matches_both_vis_resp',\n",
       " 'pd_shifts_vis_resp_curated_matches_all_vis_resp',\n",
       " 'pd_shifts_vis_resp_curated_matches_both_vis_resp',\n",
       " 'po_residuals_tuned_all_matches_all_vis_resp',\n",
       " 'po_residuals_tuned_all_matches_both_vis_resp',\n",
       " 'po_residuals_tuned_curated_matches_all_vis_resp',\n",
       " 'po_residuals_tuned_curated_matches_both_vis_resp',\n",
       " 'po_residuals_vis_resp_all_matches_all_vis_resp',\n",
       " 'po_residuals_vis_resp_all_matches_both_vis_resp',\n",
       " 'po_residuals_vis_resp_curated_matches_all_vis_resp',\n",
       " 'po_residuals_vis_resp_curated_matches_both_vis_resp',\n",
       " 'po_shifts_tuned_all_matches_all_vis_resp',\n",
       " 'po_shifts_tuned_all_matches_both_vis_resp',\n",
       " 'po_shifts_tuned_curated_matches_all_vis_resp',\n",
       " 'po_shifts_tuned_curated_matches_both_vis_resp',\n",
       " 'po_shifts_vis_resp_all_matches_all_vis_resp',\n",
       " 'po_shifts_vis_resp_all_matches_both_vis_resp',\n",
       " 'po_shifts_vis_resp_curated_matches_all_vis_resp',\n",
       " 'po_shifts_vis_resp_curated_matches_both_vis_resp',\n",
       " 'selectivity_residual_rmse_tuned_all_matches_all_vis_resp',\n",
       " 'selectivity_residual_rmse_tuned_all_matches_both_vis_resp',\n",
       " 'selectivity_residual_rmse_tuned_curated_matches_all_vis_resp',\n",
       " 'selectivity_residual_rmse_tuned_curated_matches_both_vis_resp',\n",
       " 'selectivity_residual_rmse_vis_resp_all_matches_all_vis_resp',\n",
       " 'selectivity_residual_rmse_vis_resp_all_matches_both_vis_resp',\n",
       " 'selectivity_residual_rmse_vis_resp_curated_matches_all_vis_resp',\n",
       " 'selectivity_residual_rmse_vis_resp_curated_matches_both_vis_resp']"
      ]
     },
     "execution_count": 52,
     "metadata": {},
     "output_type": "execute_result"
    }
   ],
   "source": [
    "list(main_exp_data.keys())"
   ]
  },
  {
   "cell_type": "markdown",
   "metadata": {},
   "source": []
  }
 ],
 "metadata": {
  "kernelspec": {
   "display_name": "prey_capture",
   "language": "python",
   "name": "python3"
  },
  "language_info": {
   "codemirror_mode": {
    "name": "ipython",
    "version": 3
   },
   "file_extension": ".py",
   "mimetype": "text/x-python",
   "name": "python",
   "nbconvert_exporter": "python",
   "pygments_lexer": "ipython3",
   "version": "3.8.16"
  }
 },
 "nbformat": 4,
 "nbformat_minor": 2
}

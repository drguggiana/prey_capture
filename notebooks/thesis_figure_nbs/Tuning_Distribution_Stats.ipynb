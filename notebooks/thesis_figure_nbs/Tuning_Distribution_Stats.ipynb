{
 "cells": [
  {
   "cell_type": "markdown",
   "metadata": {},
   "source": [
    "# Calculate Stats on Tuning Distributions"
   ]
  },
  {
   "cell_type": "code",
   "execution_count": 5,
   "metadata": {},
   "outputs": [],
   "source": [
    "import os\n",
    "import sys\n",
    "\n",
    "import numpy as np\n",
    "import pandas as pd\n",
    "import matplotlib.pyplot as plt\n",
    "import scipy.stats as stats\n",
    "import scikit_posthocs as posthoc\n",
    "from statsmodels.stats.multitest import multipletests\n",
    "from hmmlearn import hmm\n",
    "\n",
    "sys.path.insert(0, os.path.abspath(r'C:/Users/mmccann/repos/bonhoeffer/prey_capture/'))\n",
    "import functions_plotting as fp"
   ]
  },
  {
   "cell_type": "code",
   "execution_count": 6,
   "metadata": {},
   "outputs": [],
   "source": [
    "def h5_to_dict(filepath):\n",
    "    with pd.HDFStore(filepath, 'r') as store:\n",
    "        keys = store.keys()\n",
    "        data = {key[1:]: store[key] for key in keys}\n",
    "    return data\n",
    "\n",
    "\n",
    "def kruskal_w_dunn(data, nan_policy='omit', alpha=0.05):\n",
    "    statistic, p_val = stats.kruskal(*data, nan_policy=nan_policy)\n",
    "    dunn_test = posthoc.posthoc_dunn([*data], p_adjust='holm')\n",
    "\n",
    "    # Return just the corrected pvals instead of a whole matrix\n",
    "    if dunn_test.shape[-1] > 2:\n",
    "        p_val_corrected = np.array([dunn_test.iloc[0, i] for i in range(1, dunn_test.shape[-1])] + [dunn_test.iloc[1, -1]])\n",
    "    else:\n",
    "        p_val_corrected = np.array([dunn_test.iloc[0, i] for i in range(1, dunn_test.shape[-1])])\n",
    "    return p_val, p_val_corrected\n",
    "\n",
    "\n",
    "def mannwhitneyu_w_bonferroni(data, nan_policy='omit', alpha=0.05):\n",
    "    statistic, p_val = stats.mannwhitneyu(*data, nan_policy=nan_policy)\n",
    "    reject, p_val_corrected, _, _ = multipletests(p_val, alpha=alpha, method='holm')\n",
    "    return p_val, p_val_corrected\n",
    "\n",
    "\n",
    "def wilcoxon_w_bonferroni(data, nan_policy='omit', alpha=0.05):\n",
    "    statistic, p_val = stats.wilcoxon(*data, nan_policy=nan_policy)\n",
    "    reject, p_val_corrected, _, _ = multipletests(p_val, alpha=alpha, method='holm')\n",
    "    return p_val, p_val_corrected\n",
    "\n",
    "\n",
    "def sample_df(data1, data2):\n",
    "    df1 = data1.dropna()\n",
    "    df2 = data2.dropna() \n",
    "\n",
    "    if len(df1) > len(df2):\n",
    "        df1 = df1.sample(len(df2), replace=True)\n",
    "    elif len(df2) > len(df1):\n",
    "        df2 = df2.sample(len(df1), replace=True)\n",
    "    else:\n",
    "        pass\n",
    "\n",
    "    return df1, df2\n",
    "\n",
    "\n",
    "def bootstrap_tests(datasets, key, tuning_kind, method, n_iters=10000, alpha=0.05, bootstrap_all=False):\n",
    "    data = [ds[key][tuning_kind].dropna() for ds in datasets]\n",
    "\n",
    "    # First run the test on the raw data\n",
    "    if 'wilcoxon' in method.__name__:\n",
    "        raw_test = method(sample_df(*data), alpha=alpha)\n",
    "    elif 'mannwhitneyu' in method.__name__:\n",
    "        raw_test = method(data, alpha=alpha)\n",
    "    else:\n",
    "        raw_test = method(data, alpha=alpha)\n",
    "\n",
    "    # Now run the bootstrapping\n",
    "    p_vals = np.zeros(n_iters)\n",
    "    p_vals_corrected = np.zeros((n_iters, len(data)))\n",
    "\n",
    "    sample_size = len(max(data, key=len))\n",
    "\n",
    "    # Run bootstrap\n",
    "    for i in range(n_iters):\n",
    "\n",
    "        if bootstrap_all:\n",
    "            sample_data = [d.sample(sample_size, replace=True) for d in data]\n",
    "            # sample_data1  = data2.sample(sample_size, replace=True)\n",
    "        else:\n",
    "            sample_data = [data[0]] + [d.sample(sample_size, replace=True) for d in data[1:]]\n",
    "            \n",
    "        p_val, p_val_corrected = method(sample_data, alpha=alpha)\n",
    "        p_vals[i] = p_val\n",
    "        p_vals_corrected[i, :] = p_val_corrected\n",
    "\n",
    "    # 95% confidence interval of pvals\n",
    "    ci = stats.t.interval(0.95, len(p_vals) - 1, loc=np.nanmean(p_vals), scale=stats.sem(p_vals, nan_policy='omit'))\n",
    "\n",
    "    if method == kruskal_w_dunn:\n",
    "        # Since this is for multiple groups, need to run this column-wise\n",
    "\n",
    "        # Corrected 95% CIs\n",
    "        ci_corrected = np.zeros((len(data), 2))\n",
    "        for i in range(p_vals_corrected.shape[-1]):\n",
    "            p_val_corr_col = p_vals_corrected[:, i]\n",
    "            ci_col = stats.t.interval(0.95, len(p_val_corr_col) - 1, loc=np.nanmean(p_val_corr_col), scale=stats.sem(p_val_corr_col, nan_policy='omit'))\n",
    "            ci_corrected[i, :] = ci_col\n",
    "    else:\n",
    "        ci_corrected = stats.t.interval(0.95, len(p_vals_corrected) - 1, loc=np.nanmean(p_vals_corrected), scale=stats.sem(p_vals_corrected, nan_policy='omit'))\n",
    "\n",
    "    return raw_test, (p_vals, ci), (p_vals_corrected, ci_corrected)\n",
    "\n",
    "\n",
    "def plot_bootstrap_distributions(data):\n",
    "    # Plot the bootstrap distributions\n",
    "    num_ds = len(data)\n",
    "    cols = 3\n",
    "    rows = num_ds//cols + 1\n",
    "    fig, axes = plt.subplots(rows, cols, figsize=(5*cols, 5*rows))\n",
    "\n",
    "    for i, (ds, ax) in enumerate(zip(data, axes.ravel())):\n",
    "\n",
    "        raw_test = ds[0]\n",
    "        bootstrap_tests = ds[1]\n",
    "        corrected_bootstrap_tests = ds[2]\n",
    "\n",
    "        ax.hist(bootstrap_tests[0], bins=20)\n",
    "        ax.axvline(np.percentile(bootstrap_tests[0], 95), 0, 50, color='r')\n",
    "        ax.axvline(bootstrap_tests[1][0], 0, 50, color='g')\n",
    "        ax.axvline(bootstrap_tests[1][1], 0, 50, color='g')\n",
    "        ax.axvline(raw_test[0], 0, 100, color='k')\n",
    "\n",
    "\n",
    "    return fig, axes"
   ]
  },
  {
   "cell_type": "code",
   "execution_count": 7,
   "metadata": {},
   "outputs": [],
   "source": [
    "basedir = r\"Z:\\Prey_capture\\WF_Figures\"\n",
    "still_or_all = 'full'\n",
    "main_exp_path = os.path.join(basedir, still_or_all, r\"multi_normal_ALL\\stats.hdf5\")\n",
    "control_light_path  = os.path.join(basedir, still_or_all, r\"control_normal_ALL\\stats.hdf5\")\n",
    "control_dark_path = os.path.join(basedir, still_or_all, r\"control_dark_ALL\\stats.hdf5\")\n",
    "repeat_fixed_path = os.path.join(basedir, still_or_all, r\"repeat_normal_VWheelWF\\stats.hdf5\")\n",
    "repeat_free_path = os.path.join(basedir, still_or_all, r\"repeat_normal_VTuningWF\\stats.hdf5\")\n",
    "output_path = os.path.join(basedir, 'stats', f\"{still_or_all}_tuning_stats.h5\")"
   ]
  },
  {
   "cell_type": "code",
   "execution_count": 8,
   "metadata": {},
   "outputs": [],
   "source": [
    "main_exp_data = h5_to_dict(main_exp_path)\n",
    "control_light_data = h5_to_dict(control_light_path)\n",
    "control_dark_data = h5_to_dict(control_dark_path)\n",
    "repeat_fixed_data = h5_to_dict(repeat_fixed_path)\n",
    "repeat_free_data = h5_to_dict(repeat_free_path)"
   ]
  },
  {
   "cell_type": "code",
   "execution_count": 9,
   "metadata": {},
   "outputs": [],
   "source": [
    "method = kruskal_w_dunn\n",
    "bootstrap_iters = 1000"
   ]
  },
  {
   "cell_type": "code",
   "execution_count": 10,
   "metadata": {},
   "outputs": [],
   "source": [
    "# main_exp_data['frac_vis_resp_fixed'].set_index(['mouse', 'day']).iloc[:10, :]"
   ]
  },
  {
   "cell_type": "code",
   "execution_count": 11,
   "metadata": {},
   "outputs": [],
   "source": [
    "# main_exp_data['frac_vis_resp_free'].count()"
   ]
  },
  {
   "cell_type": "code",
   "execution_count": 12,
   "metadata": {},
   "outputs": [],
   "source": [
    "# control_dark_data['frac_kinem_resp_fixed'].count()"
   ]
  },
  {
   "cell_type": "code",
   "execution_count": 13,
   "metadata": {},
   "outputs": [],
   "source": [
    "# control_light_data['frac_kinem_resp_fixed'].count()"
   ]
  },
  {
   "cell_type": "markdown",
   "metadata": {},
   "source": [
    "# Kinematic Tuning"
   ]
  },
  {
   "cell_type": "code",
   "execution_count": 14,
   "metadata": {},
   "outputs": [],
   "source": [
    "def kinem_stats(data, ds_name, alpha=0.05):\n",
    "    cols = data[0][ds_name].columns.to_list()\n",
    "\n",
    "    stats = {}\n",
    "    for col in cols:\n",
    "        stats[col] = bootstrap_tests(data, ds_name, col,   \n",
    "                                      kruskal_w_dunn, n_iters=bootstrap_iters, bootstrap_all=True)\n",
    "\n",
    "    return stats"
   ]
  },
  {
   "cell_type": "code",
   "execution_count": 15,
   "metadata": {},
   "outputs": [],
   "source": [
    "# with pd.HDFStore(output_path, 'a') as store:\n",
    "#     a = store['kruskal_kinem_tuning_free']\n",
    "\n",
    "#     for var in a.index.to_list():\n",
    "#         print(var)\n",
    "#         print(a.loc[var, 'control_dark'][-1])"
   ]
  },
  {
   "cell_type": "code",
   "execution_count": 16,
   "metadata": {},
   "outputs": [
    {
     "name": "stderr",
     "output_type": "stream",
     "text": [
      "C:\\Users\\mmccann\\AppData\\Local\\Temp\\ipykernel_29592\\4136049986.py:8: PerformanceWarning: \n",
      "your performance may suffer as PyTables will pickle object types that it cannot\n",
      "map directly to c-types [inferred_type->mixed,key->block0_values] [items->Index(['main', 'control_light', 'control_dark'], dtype='object')]\n",
      "\n",
      "  store[f'kruskal_kinem_tuning_fixed'] = kinem_tuning_fixed\n",
      "C:\\Users\\mmccann\\AppData\\Local\\Temp\\ipykernel_29592\\4136049986.py:18: PerformanceWarning: \n",
      "your performance may suffer as PyTables will pickle object types that it cannot\n",
      "map directly to c-types [inferred_type->mixed,key->block0_values] [items->Index(['main', 'control_light', 'control_dark'], dtype='object')]\n",
      "\n",
      "  store[f'kruskal_kinem_tuning_free'] = kinem_tuning_free\n"
     ]
    }
   ],
   "source": [
    "# Fixed data\n",
    "fixed_kinem = kinem_stats([main_exp_data, control_light_data, control_dark_data], 'frac_kinem_resp_fixed')\n",
    "kinem_tuning_fixed = pd.DataFrame(fixed_kinem).T\n",
    "kinem_tuning_fixed.columns = ['main', 'control_light', 'control_dark']\n",
    "\n",
    "# Save it\n",
    "with pd.HDFStore(output_path, 'a') as store:\n",
    "    store[f'kruskal_kinem_tuning_fixed'] = kinem_tuning_fixed\n",
    "\n",
    "\n",
    "# Free data\n",
    "free_kinem = kinem_stats([main_exp_data, control_light_data, control_dark_data], 'frac_kinem_resp_free')\n",
    "kinem_tuning_free = pd.DataFrame(free_kinem).T\n",
    "kinem_tuning_free.columns = ['main', 'control_light', 'control_dark']\n",
    "\n",
    "# Save it\n",
    "with pd.HDFStore(output_path, 'a') as store:\n",
    "    store[f'kruskal_kinem_tuning_free'] = kinem_tuning_free\n"
   ]
  },
  {
   "cell_type": "markdown",
   "metadata": {},
   "source": [
    "# Visual Tuning"
   ]
  },
  {
   "cell_type": "code",
   "execution_count": 17,
   "metadata": {},
   "outputs": [],
   "source": [
    "vis_classes = ['', 'mod_', 'not_']"
   ]
  },
  {
   "cell_type": "markdown",
   "metadata": {},
   "source": [
    "## Frac Visual Tuning - Fixed to Free"
   ]
  },
  {
   "cell_type": "markdown",
   "metadata": {},
   "source": [
    "### Kruskal-Wallis"
   ]
  },
  {
   "cell_type": "code",
   "execution_count": 18,
   "metadata": {},
   "outputs": [
    {
     "name": "stdout",
     "output_type": "stream",
     "text": [
      "Fixed vs Free Visual: (0.44939864646157335, array([0.44939865]))\n",
      "Fixed vs Free Orientation: (6.883752847305841e-07, array([6.88375285e-07]))\n",
      "Fixed vs Free Direction: (0.10380080551334125, array([0.10380081]))\n"
     ]
    },
    {
     "name": "stderr",
     "output_type": "stream",
     "text": [
      "C:\\Users\\mmccann\\AppData\\Local\\Temp\\ipykernel_29592\\512116551.py:26: PerformanceWarning: \n",
      "your performance may suffer as PyTables will pickle object types that it cannot\n",
      "map directly to c-types [inferred_type->mixed,key->block0_values] [items->Int64Index([0], dtype='int64')]\n",
      "\n",
      "  store[f'{vis_class}vis/kruskal_exp_fixed_free_vis'] = pd.DataFrame(exp_fixed_free_vis, index=['p_val', 'p_val_dunn_posthoc'])\n",
      "C:\\Users\\mmccann\\AppData\\Local\\Temp\\ipykernel_29592\\512116551.py:27: PerformanceWarning: \n",
      "your performance may suffer as PyTables will pickle object types that it cannot\n",
      "map directly to c-types [inferred_type->mixed,key->block0_values] [items->Int64Index([0], dtype='int64')]\n",
      "\n",
      "  store[f'{vis_class}vis/kruskal_exp_fixed_free_ori'] = pd.DataFrame(exp_fixed_free_ori, index=['p_val', 'p_val_dunn_posthoc'])\n",
      "C:\\Users\\mmccann\\AppData\\Local\\Temp\\ipykernel_29592\\512116551.py:28: PerformanceWarning: \n",
      "your performance may suffer as PyTables will pickle object types that it cannot\n",
      "map directly to c-types [inferred_type->mixed,key->block0_values] [items->Int64Index([0], dtype='int64')]\n",
      "\n",
      "  store[f'{vis_class}vis/kruskal_exp_fixed_free_dir'] = pd.DataFrame(exp_fixed_free_dir, index=['p_val', 'p_val_dunn_posthoc'])\n"
     ]
    },
    {
     "name": "stdout",
     "output_type": "stream",
     "text": [
      "Fixed vs Free Visual: (0.00045743224653777936, array([0.00045743]))\n",
      "Fixed vs Free Orientation: (0.13129093973109643, array([0.13129094]))\n",
      "Fixed vs Free Direction: (0.08756695399605391, array([0.08756695]))\n"
     ]
    },
    {
     "name": "stderr",
     "output_type": "stream",
     "text": [
      "C:\\Users\\mmccann\\AppData\\Local\\Temp\\ipykernel_29592\\512116551.py:26: PerformanceWarning: \n",
      "your performance may suffer as PyTables will pickle object types that it cannot\n",
      "map directly to c-types [inferred_type->mixed,key->block0_values] [items->Int64Index([0], dtype='int64')]\n",
      "\n",
      "  store[f'{vis_class}vis/kruskal_exp_fixed_free_vis'] = pd.DataFrame(exp_fixed_free_vis, index=['p_val', 'p_val_dunn_posthoc'])\n",
      "C:\\Users\\mmccann\\AppData\\Local\\Temp\\ipykernel_29592\\512116551.py:27: PerformanceWarning: \n",
      "your performance may suffer as PyTables will pickle object types that it cannot\n",
      "map directly to c-types [inferred_type->mixed,key->block0_values] [items->Int64Index([0], dtype='int64')]\n",
      "\n",
      "  store[f'{vis_class}vis/kruskal_exp_fixed_free_ori'] = pd.DataFrame(exp_fixed_free_ori, index=['p_val', 'p_val_dunn_posthoc'])\n",
      "C:\\Users\\mmccann\\AppData\\Local\\Temp\\ipykernel_29592\\512116551.py:28: PerformanceWarning: \n",
      "your performance may suffer as PyTables will pickle object types that it cannot\n",
      "map directly to c-types [inferred_type->mixed,key->block0_values] [items->Int64Index([0], dtype='int64')]\n",
      "\n",
      "  store[f'{vis_class}vis/kruskal_exp_fixed_free_dir'] = pd.DataFrame(exp_fixed_free_dir, index=['p_val', 'p_val_dunn_posthoc'])\n"
     ]
    },
    {
     "name": "stdout",
     "output_type": "stream",
     "text": [
      "Fixed vs Free Visual: (3.26125836043493e-06, array([3.26125836e-06]))\n",
      "Fixed vs Free Orientation: (0.0001937325416675049, array([0.00019373]))\n",
      "Fixed vs Free Direction: (0.0011966217300060356, array([0.00119662]))\n"
     ]
    },
    {
     "name": "stderr",
     "output_type": "stream",
     "text": [
      "C:\\Users\\mmccann\\AppData\\Local\\Temp\\ipykernel_29592\\512116551.py:26: PerformanceWarning: \n",
      "your performance may suffer as PyTables will pickle object types that it cannot\n",
      "map directly to c-types [inferred_type->mixed,key->block0_values] [items->Int64Index([0], dtype='int64')]\n",
      "\n",
      "  store[f'{vis_class}vis/kruskal_exp_fixed_free_vis'] = pd.DataFrame(exp_fixed_free_vis, index=['p_val', 'p_val_dunn_posthoc'])\n",
      "C:\\Users\\mmccann\\AppData\\Local\\Temp\\ipykernel_29592\\512116551.py:27: PerformanceWarning: \n",
      "your performance may suffer as PyTables will pickle object types that it cannot\n",
      "map directly to c-types [inferred_type->mixed,key->block0_values] [items->Int64Index([0], dtype='int64')]\n",
      "\n",
      "  store[f'{vis_class}vis/kruskal_exp_fixed_free_ori'] = pd.DataFrame(exp_fixed_free_ori, index=['p_val', 'p_val_dunn_posthoc'])\n",
      "C:\\Users\\mmccann\\AppData\\Local\\Temp\\ipykernel_29592\\512116551.py:28: PerformanceWarning: \n",
      "your performance may suffer as PyTables will pickle object types that it cannot\n",
      "map directly to c-types [inferred_type->mixed,key->block0_values] [items->Int64Index([0], dtype='int64')]\n",
      "\n",
      "  store[f'{vis_class}vis/kruskal_exp_fixed_free_dir'] = pd.DataFrame(exp_fixed_free_dir, index=['p_val', 'p_val_dunn_posthoc'])\n"
     ]
    }
   ],
   "source": [
    "for vis_class in vis_classes:\n",
    "    # Do a Kruskal-Wallis test with posthoc Dunn test for multiple comparisons\n",
    "\n",
    "    # Visual\n",
    "    exp_fixed_free_vis = kruskal_w_dunn(sample_df(main_exp_data['frac_vis_resp_fixed'][f'{vis_class}visual'], \n",
    "                                                  main_exp_data['frac_vis_resp_free'][f'{vis_class}visual'])\n",
    "                                                  )\n",
    "    print('Fixed vs Free Visual:', exp_fixed_free_vis)\n",
    "\n",
    "\n",
    "    # Orientation\n",
    "    exp_fixed_free_ori = kruskal_w_dunn(sample_df(main_exp_data['frac_vis_resp_fixed'][f'{vis_class}orientation'], \n",
    "                                                  main_exp_data['frac_vis_resp_free'][f'{vis_class}orientation'])\n",
    "                                                  )\n",
    "    print('Fixed vs Free Orientation:', exp_fixed_free_ori)\n",
    "\n",
    "\n",
    "    # Direction\n",
    "    exp_fixed_free_dir = kruskal_w_dunn(sample_df(main_exp_data['frac_vis_resp_fixed'][f'{vis_class}direction'], \n",
    "                                                  main_exp_data['frac_vis_resp_free'][f'{vis_class}direction'])\n",
    "                                                  )\n",
    "    print('Fixed vs Free Direction:', exp_fixed_free_dir)\n",
    "\n",
    "    # Save the data\n",
    "    with pd.HDFStore(output_path, 'a') as store:\n",
    "        store[f'{vis_class}vis/kruskal_exp_fixed_free_vis'] = pd.DataFrame(exp_fixed_free_vis, index=['p_val', 'p_val_dunn_posthoc'])\n",
    "        store[f'{vis_class}vis/kruskal_exp_fixed_free_ori'] = pd.DataFrame(exp_fixed_free_ori, index=['p_val', 'p_val_dunn_posthoc'])\n",
    "        store[f'{vis_class}vis/kruskal_exp_fixed_free_dir'] = pd.DataFrame(exp_fixed_free_dir, index=['p_val', 'p_val_dunn_posthoc'])"
   ]
  },
  {
   "cell_type": "markdown",
   "metadata": {},
   "source": [
    "### Wilcoxon Rank Sum"
   ]
  },
  {
   "cell_type": "code",
   "execution_count": 19,
   "metadata": {},
   "outputs": [
    {
     "name": "stdout",
     "output_type": "stream",
     "text": [
      "Fixed vs Free Visual: (0.8957222313738202, array([0.89572223]))\n",
      "Fixed vs Free Orientation: (5.6243341243348525e-08, array([5.62433412e-08]))\n",
      "Fixed vs Free Direction: (0.04933242463327135, array([0.04933242]))\n"
     ]
    },
    {
     "name": "stderr",
     "output_type": "stream",
     "text": [
      "C:\\Users\\mmccann\\AppData\\Local\\Temp\\ipykernel_29592\\4259356661.py:23: PerformanceWarning: \n",
      "your performance may suffer as PyTables will pickle object types that it cannot\n",
      "map directly to c-types [inferred_type->mixed,key->block0_values] [items->Int64Index([0], dtype='int64')]\n",
      "\n",
      "  store[f'{vis_class}vis/wilcoxon_exp_fixed_free_vis'] = pd.DataFrame(exp_fixed_free_vis, index=['p_val', 'p_val_bonferroni'])\n",
      "C:\\Users\\mmccann\\AppData\\Local\\Temp\\ipykernel_29592\\4259356661.py:24: PerformanceWarning: \n",
      "your performance may suffer as PyTables will pickle object types that it cannot\n",
      "map directly to c-types [inferred_type->mixed,key->block0_values] [items->Int64Index([0], dtype='int64')]\n",
      "\n",
      "  store[f'{vis_class}vis/wilcoxon_exp_fixed_free_ori'] = pd.DataFrame(exp_fixed_free_ori, index=['p_val', 'p_val_bonferroni'])\n",
      "C:\\Users\\mmccann\\AppData\\Local\\Temp\\ipykernel_29592\\4259356661.py:25: PerformanceWarning: \n",
      "your performance may suffer as PyTables will pickle object types that it cannot\n",
      "map directly to c-types [inferred_type->mixed,key->block0_values] [items->Int64Index([0], dtype='int64')]\n",
      "\n",
      "  store[f'{vis_class}vis/wilcoxon_exp_fixed_free_dir'] = pd.DataFrame(exp_fixed_free_dir, index=['p_val', 'p_val_bonferroni'])\n"
     ]
    },
    {
     "name": "stdout",
     "output_type": "stream",
     "text": [
      "Fixed vs Free Visual: (0.0001936225336793642, array([0.00019362]))\n",
      "Fixed vs Free Orientation: (0.09841049145651927, array([0.09841049]))\n",
      "Fixed vs Free Direction: (0.148096669435202, array([0.14809667]))\n"
     ]
    },
    {
     "name": "stderr",
     "output_type": "stream",
     "text": [
      "C:\\Users\\mmccann\\AppData\\Local\\Temp\\ipykernel_29592\\4259356661.py:23: PerformanceWarning: \n",
      "your performance may suffer as PyTables will pickle object types that it cannot\n",
      "map directly to c-types [inferred_type->mixed,key->block0_values] [items->Int64Index([0], dtype='int64')]\n",
      "\n",
      "  store[f'{vis_class}vis/wilcoxon_exp_fixed_free_vis'] = pd.DataFrame(exp_fixed_free_vis, index=['p_val', 'p_val_bonferroni'])\n",
      "C:\\Users\\mmccann\\AppData\\Local\\Temp\\ipykernel_29592\\4259356661.py:24: PerformanceWarning: \n",
      "your performance may suffer as PyTables will pickle object types that it cannot\n",
      "map directly to c-types [inferred_type->mixed,key->block0_values] [items->Int64Index([0], dtype='int64')]\n",
      "\n",
      "  store[f'{vis_class}vis/wilcoxon_exp_fixed_free_ori'] = pd.DataFrame(exp_fixed_free_ori, index=['p_val', 'p_val_bonferroni'])\n",
      "C:\\Users\\mmccann\\AppData\\Local\\Temp\\ipykernel_29592\\4259356661.py:25: PerformanceWarning: \n",
      "your performance may suffer as PyTables will pickle object types that it cannot\n",
      "map directly to c-types [inferred_type->mixed,key->block0_values] [items->Int64Index([0], dtype='int64')]\n",
      "\n",
      "  store[f'{vis_class}vis/wilcoxon_exp_fixed_free_dir'] = pd.DataFrame(exp_fixed_free_dir, index=['p_val', 'p_val_bonferroni'])\n"
     ]
    },
    {
     "name": "stdout",
     "output_type": "stream",
     "text": [
      "Fixed vs Free Visual: (2.7780197254206182e-09, array([2.77801973e-09]))\n",
      "Fixed vs Free Orientation: (4.015643462997091e-06, array([4.01564346e-06]))\n",
      "Fixed vs Free Direction: (2.9346859614647896e-05, array([2.93468596e-05]))\n"
     ]
    },
    {
     "name": "stderr",
     "output_type": "stream",
     "text": [
      "C:\\Users\\mmccann\\AppData\\Local\\Temp\\ipykernel_29592\\4259356661.py:23: PerformanceWarning: \n",
      "your performance may suffer as PyTables will pickle object types that it cannot\n",
      "map directly to c-types [inferred_type->mixed,key->block0_values] [items->Int64Index([0], dtype='int64')]\n",
      "\n",
      "  store[f'{vis_class}vis/wilcoxon_exp_fixed_free_vis'] = pd.DataFrame(exp_fixed_free_vis, index=['p_val', 'p_val_bonferroni'])\n",
      "C:\\Users\\mmccann\\AppData\\Local\\Temp\\ipykernel_29592\\4259356661.py:24: PerformanceWarning: \n",
      "your performance may suffer as PyTables will pickle object types that it cannot\n",
      "map directly to c-types [inferred_type->mixed,key->block0_values] [items->Int64Index([0], dtype='int64')]\n",
      "\n",
      "  store[f'{vis_class}vis/wilcoxon_exp_fixed_free_ori'] = pd.DataFrame(exp_fixed_free_ori, index=['p_val', 'p_val_bonferroni'])\n",
      "C:\\Users\\mmccann\\AppData\\Local\\Temp\\ipykernel_29592\\4259356661.py:25: PerformanceWarning: \n",
      "your performance may suffer as PyTables will pickle object types that it cannot\n",
      "map directly to c-types [inferred_type->mixed,key->block0_values] [items->Int64Index([0], dtype='int64')]\n",
      "\n",
      "  store[f'{vis_class}vis/wilcoxon_exp_fixed_free_dir'] = pd.DataFrame(exp_fixed_free_dir, index=['p_val', 'p_val_bonferroni'])\n"
     ]
    }
   ],
   "source": [
    "# Do a Wilcox Rank-Sum test with Bonferroni correction\n",
    "\n",
    "for vis_class in vis_classes:\n",
    "    # Visual\n",
    "    exp_fixed_free_vis = wilcoxon_w_bonferroni(sample_df(main_exp_data['frac_vis_resp_fixed'][f'{vis_class}visual'], \n",
    "                                                        main_exp_data['frac_vis_resp_free'][f'{vis_class}visual']))\n",
    "    print('Fixed vs Free Visual:', exp_fixed_free_vis)\n",
    "\n",
    "\n",
    "    # Orientation\n",
    "    exp_fixed_free_ori = wilcoxon_w_bonferroni(sample_df(main_exp_data['frac_vis_resp_fixed'][f'{vis_class}orientation'], \n",
    "                                                        main_exp_data['frac_vis_resp_free'][f'{vis_class}orientation']))\n",
    "    print('Fixed vs Free Orientation:', exp_fixed_free_ori)\n",
    "\n",
    "\n",
    "    # Direction\n",
    "    exp_fixed_free_dir = wilcoxon_w_bonferroni(sample_df(main_exp_data['frac_vis_resp_fixed'][f'{vis_class}direction'], \n",
    "                                                        main_exp_data['frac_vis_resp_free'][f'{vis_class}direction']))\n",
    "    print('Fixed vs Free Direction:', exp_fixed_free_dir)\n",
    "\n",
    "    # Save the data\n",
    "    with pd.HDFStore(output_path, 'a') as store:\n",
    "        store[f'{vis_class}vis/wilcoxon_exp_fixed_free_vis'] = pd.DataFrame(exp_fixed_free_vis, index=['p_val', 'p_val_bonferroni'])\n",
    "        store[f'{vis_class}vis/wilcoxon_exp_fixed_free_ori'] = pd.DataFrame(exp_fixed_free_ori, index=['p_val', 'p_val_bonferroni'])\n",
    "        store[f'{vis_class}vis/wilcoxon_exp_fixed_free_dir'] = pd.DataFrame(exp_fixed_free_dir, index=['p_val', 'p_val_bonferroni'])"
   ]
  },
  {
   "cell_type": "markdown",
   "metadata": {},
   "source": [
    "### Mann-Whitney U"
   ]
  },
  {
   "cell_type": "code",
   "execution_count": 20,
   "metadata": {},
   "outputs": [
    {
     "name": "stdout",
     "output_type": "stream",
     "text": [
      "Fixed vs Free Visual: (0.4502294377882633, array([0.45022944]))\n",
      "Fixed vs Free Orientation: (6.933893977149523e-07, array([6.93389398e-07]))\n",
      "Fixed vs Free Direction: (0.10409758705244772, array([0.10409759]))\n"
     ]
    },
    {
     "name": "stderr",
     "output_type": "stream",
     "text": [
      "C:\\Users\\mmccann\\AppData\\Local\\Temp\\ipykernel_29592\\1293581978.py:20: PerformanceWarning: \n",
      "your performance may suffer as PyTables will pickle object types that it cannot\n",
      "map directly to c-types [inferred_type->mixed,key->block0_values] [items->Int64Index([0], dtype='int64')]\n",
      "\n",
      "  store[f'{vis_class}vis/mannwhitneyu_exp_fixed_free_vis'] = pd.DataFrame(exp_fixed_free_vis, index=['p_val', 'p_val_bonferroni'])\n",
      "C:\\Users\\mmccann\\AppData\\Local\\Temp\\ipykernel_29592\\1293581978.py:21: PerformanceWarning: \n",
      "your performance may suffer as PyTables will pickle object types that it cannot\n",
      "map directly to c-types [inferred_type->mixed,key->block0_values] [items->Int64Index([0], dtype='int64')]\n",
      "\n",
      "  store[f'{vis_class}vis/mannwhitneyu_exp_fixed_free_ori'] = pd.DataFrame(exp_fixed_free_ori, index=['p_val', 'p_val_bonferroni'])\n",
      "C:\\Users\\mmccann\\AppData\\Local\\Temp\\ipykernel_29592\\1293581978.py:22: PerformanceWarning: \n",
      "your performance may suffer as PyTables will pickle object types that it cannot\n",
      "map directly to c-types [inferred_type->mixed,key->block0_values] [items->Int64Index([0], dtype='int64')]\n",
      "\n",
      "  store[f'{vis_class}vis/mannwhitneyu_exp_fixed_free_dir'] = pd.DataFrame(exp_fixed_free_dir, index=['p_val', 'p_val_bonferroni'])\n"
     ]
    },
    {
     "name": "stdout",
     "output_type": "stream",
     "text": [
      "Fixed vs Free Visual: (0.000459816775601058, array([0.00045982]))\n",
      "Fixed vs Free Orientation: (0.13164672020480175, array([0.13164672]))\n",
      "Fixed vs Free Direction: (0.08782418337700752, array([0.08782418]))\n"
     ]
    },
    {
     "name": "stderr",
     "output_type": "stream",
     "text": [
      "C:\\Users\\mmccann\\AppData\\Local\\Temp\\ipykernel_29592\\1293581978.py:20: PerformanceWarning: \n",
      "your performance may suffer as PyTables will pickle object types that it cannot\n",
      "map directly to c-types [inferred_type->mixed,key->block0_values] [items->Int64Index([0], dtype='int64')]\n",
      "\n",
      "  store[f'{vis_class}vis/mannwhitneyu_exp_fixed_free_vis'] = pd.DataFrame(exp_fixed_free_vis, index=['p_val', 'p_val_bonferroni'])\n",
      "C:\\Users\\mmccann\\AppData\\Local\\Temp\\ipykernel_29592\\1293581978.py:21: PerformanceWarning: \n",
      "your performance may suffer as PyTables will pickle object types that it cannot\n",
      "map directly to c-types [inferred_type->mixed,key->block0_values] [items->Int64Index([0], dtype='int64')]\n",
      "\n",
      "  store[f'{vis_class}vis/mannwhitneyu_exp_fixed_free_ori'] = pd.DataFrame(exp_fixed_free_ori, index=['p_val', 'p_val_bonferroni'])\n",
      "C:\\Users\\mmccann\\AppData\\Local\\Temp\\ipykernel_29592\\1293581978.py:22: PerformanceWarning: \n",
      "your performance may suffer as PyTables will pickle object types that it cannot\n",
      "map directly to c-types [inferred_type->mixed,key->block0_values] [items->Int64Index([0], dtype='int64')]\n",
      "\n",
      "  store[f'{vis_class}vis/mannwhitneyu_exp_fixed_free_dir'] = pd.DataFrame(exp_fixed_free_dir, index=['p_val', 'p_val_bonferroni'])\n"
     ]
    },
    {
     "name": "stdout",
     "output_type": "stream",
     "text": [
      "Fixed vs Free Visual: (3.283338042575187e-06, array([3.28333804e-06]))\n",
      "Fixed vs Free Orientation: (0.0001949594692131118, array([0.00019496]))\n",
      "Fixed vs Free Direction: (0.00120268863930236, array([0.00120269]))\n"
     ]
    },
    {
     "name": "stderr",
     "output_type": "stream",
     "text": [
      "C:\\Users\\mmccann\\AppData\\Local\\Temp\\ipykernel_29592\\1293581978.py:20: PerformanceWarning: \n",
      "your performance may suffer as PyTables will pickle object types that it cannot\n",
      "map directly to c-types [inferred_type->mixed,key->block0_values] [items->Int64Index([0], dtype='int64')]\n",
      "\n",
      "  store[f'{vis_class}vis/mannwhitneyu_exp_fixed_free_vis'] = pd.DataFrame(exp_fixed_free_vis, index=['p_val', 'p_val_bonferroni'])\n",
      "C:\\Users\\mmccann\\AppData\\Local\\Temp\\ipykernel_29592\\1293581978.py:21: PerformanceWarning: \n",
      "your performance may suffer as PyTables will pickle object types that it cannot\n",
      "map directly to c-types [inferred_type->mixed,key->block0_values] [items->Int64Index([0], dtype='int64')]\n",
      "\n",
      "  store[f'{vis_class}vis/mannwhitneyu_exp_fixed_free_ori'] = pd.DataFrame(exp_fixed_free_ori, index=['p_val', 'p_val_bonferroni'])\n",
      "C:\\Users\\mmccann\\AppData\\Local\\Temp\\ipykernel_29592\\1293581978.py:22: PerformanceWarning: \n",
      "your performance may suffer as PyTables will pickle object types that it cannot\n",
      "map directly to c-types [inferred_type->mixed,key->block0_values] [items->Int64Index([0], dtype='int64')]\n",
      "\n",
      "  store[f'{vis_class}vis/mannwhitneyu_exp_fixed_free_dir'] = pd.DataFrame(exp_fixed_free_dir, index=['p_val', 'p_val_bonferroni'])\n"
     ]
    }
   ],
   "source": [
    "# Do a Mann-Whitney U test with Bonferroni correction\n",
    "for vis_class in vis_classes:\n",
    "    # Visual\n",
    "    exp_fixed_free_vis = mannwhitneyu_w_bonferroni(sample_df(main_exp_data['frac_vis_resp_fixed'][f'{vis_class}visual'], \n",
    "                                                main_exp_data['frac_vis_resp_free'][f'{vis_class}visual']))\n",
    "    print('Fixed vs Free Visual:', exp_fixed_free_vis)\n",
    "\n",
    "    # Orientation\n",
    "    exp_fixed_free_ori = mannwhitneyu_w_bonferroni(sample_df(main_exp_data['frac_vis_resp_fixed'][f'{vis_class}orientation'], \n",
    "                                                main_exp_data['frac_vis_resp_free'][f'{vis_class}orientation']))\n",
    "    print('Fixed vs Free Orientation:', exp_fixed_free_ori)\n",
    "\n",
    "    # Direction\n",
    "    exp_fixed_free_dir = mannwhitneyu_w_bonferroni(sample_df(main_exp_data['frac_vis_resp_fixed'][f'{vis_class}direction'], \n",
    "                                                main_exp_data['frac_vis_resp_free'][f'{vis_class}direction']))\n",
    "    print('Fixed vs Free Direction:', exp_fixed_free_dir)\n",
    "\n",
    "    # Save the data\n",
    "    with pd.HDFStore(output_path, 'a') as store:\n",
    "        store[f'{vis_class}vis/mannwhitneyu_exp_fixed_free_vis'] = pd.DataFrame(exp_fixed_free_vis, index=['p_val', 'p_val_bonferroni'])\n",
    "        store[f'{vis_class}vis/mannwhitneyu_exp_fixed_free_ori'] = pd.DataFrame(exp_fixed_free_ori, index=['p_val', 'p_val_bonferroni'])\n",
    "        store[f'{vis_class}vis/mannwhitneyu_exp_fixed_free_dir'] = pd.DataFrame(exp_fixed_free_dir, index=['p_val', 'p_val_bonferroni'])"
   ]
  },
  {
   "cell_type": "markdown",
   "metadata": {},
   "source": [
    "## Frac Visual Tuning - Exp vs Controls"
   ]
  },
  {
   "cell_type": "markdown",
   "metadata": {},
   "source": [
    "### Fixed Kruskal Wallis"
   ]
  },
  {
   "cell_type": "code",
   "execution_count": 21,
   "metadata": {},
   "outputs": [
    {
     "name": "stdout",
     "output_type": "stream",
     "text": [
      "Fixed vs Controls Visual 95% CI (2.5417322008283457e-11, 3.854425051702783e-10)\n",
      "Fixed vs Controls Visual 95% CI - Corrected: [[-1.63262691e-07  1.13748285e-06]\n",
      " [ 1.97833718e-10  2.82499261e-09]\n",
      " [ 3.81610454e-01  4.17783414e-01]]\n",
      "Fixed vs Controls Visual Raw: (3.2014409264734207e-06, array([2.67957738e-03, 6.36704690e-05, 6.06531979e-01]))\n",
      "Fixed vs Controls Ori 95% CI (1.6644244762646192e-24, 1.6282858196387512e-22)\n",
      "Fixed vs Controls Ori 95% CI - Corrected: [[ 3.65387799e-20  3.87206626e-19]\n",
      " [-1.27978710e-16  6.22121576e-16]\n",
      " [ 5.04846152e-01  5.35052313e-01]]\n",
      "Fixed vs Controls Ori Raw: (3.299103554764786e-08, array([4.00639943e-05, 1.66410525e-05, 9.09774218e-01]))\n",
      "Fixed vs Controls Dir 95% CI (-1.220901706729164e-10, 3.8575526083479863e-10)\n",
      "Fixed vs Controls Dir 95% CI - Corrected: [[-3.65550299e-10  1.23375473e-09]\n",
      " [ 2.85732598e-08  5.00263108e-07]\n",
      " [ 1.80432969e-01  2.05848704e-01]]\n",
      "Fixed vs Controls Dir Raw: (7.753844837840536e-06, array([6.03607635e-04, 7.29513186e-04, 7.01426508e-01]))\n"
     ]
    },
    {
     "name": "stderr",
     "output_type": "stream",
     "text": [
      "C:\\Users\\mmccann\\AppData\\Local\\Temp\\ipykernel_29592\\1589276187.py:29: PerformanceWarning: \n",
      "your performance may suffer as PyTables will pickle object types that it cannot\n",
      "map directly to c-types [inferred_type->mixed,key->block0_values] [items->Index(['raw_test', 'bootstrap_tests', 'corrected_bootstrap_tests'], dtype='object')]\n",
      "\n",
      "  store[f'{vis_class}vis/kruskal_frac_fixed_vis'] = pd.DataFrame(list(frac_fixed_vis), columns=['pval', 'ci'],\n",
      "C:\\Users\\mmccann\\AppData\\Local\\Temp\\ipykernel_29592\\1589276187.py:31: PerformanceWarning: \n",
      "your performance may suffer as PyTables will pickle object types that it cannot\n",
      "map directly to c-types [inferred_type->mixed,key->block0_values] [items->Index(['raw_test', 'bootstrap_tests', 'corrected_bootstrap_tests'], dtype='object')]\n",
      "\n",
      "  store[f'{vis_class}vis/kruskal_frac_fixed_ori'] = pd.DataFrame(list(frac_fixed_ori), columns=['pval', 'ci'],\n",
      "C:\\Users\\mmccann\\AppData\\Local\\Temp\\ipykernel_29592\\1589276187.py:33: PerformanceWarning: \n",
      "your performance may suffer as PyTables will pickle object types that it cannot\n",
      "map directly to c-types [inferred_type->mixed,key->block0_values] [items->Index(['raw_test', 'bootstrap_tests', 'corrected_bootstrap_tests'], dtype='object')]\n",
      "\n",
      "  store[f'{vis_class}vis/kruskal_frac_fixed_dir'] = pd.DataFrame(list(frac_fixed_dir), columns=['pval', 'ci'],\n"
     ]
    },
    {
     "name": "stdout",
     "output_type": "stream",
     "text": [
      "Fixed vs Controls Visual 95% CI (-2.341298557813793e-11, 1.405904842203229e-10)\n",
      "Fixed vs Controls Visual 95% CI - Corrected: [[ 7.55951277e-08  4.20184681e-07]\n",
      " [-2.82195146e-11  1.52841787e-09]\n",
      " [ 3.81567775e-01  4.18474745e-01]]\n",
      "Fixed vs Controls Visual Raw: (3.2014409264734207e-06, array([2.67957738e-03, 6.36704690e-05, 6.06531979e-01]))\n",
      "Fixed vs Controls Ori 95% CI (-2.6127034165767524e-24, 1.5871818962960903e-23)\n",
      "Fixed vs Controls Ori 95% CI - Corrected: [[-3.14047420e-19  1.04312326e-18]\n",
      " [-3.87881065e-17  2.24143028e-16]\n",
      " [ 5.17424792e-01  5.48171950e-01]]\n",
      "Fixed vs Controls Ori Raw: (3.299103554764786e-08, array([4.00639943e-05, 1.66410525e-05, 9.09774218e-01]))\n",
      "Fixed vs Controls Dir 95% CI (-1.0121823439960787e-12, 1.745835390082729e-11)\n",
      "Fixed vs Controls Dir 95% CI - Corrected: [[-1.09350512e-11  1.03331703e-10]\n",
      " [-1.07861009e-07  1.47031399e-06]\n",
      " [ 1.85538286e-01  2.11814127e-01]]\n",
      "Fixed vs Controls Dir Raw: (7.753844837840536e-06, array([6.03607635e-04, 7.29513186e-04, 7.01426508e-01]))\n"
     ]
    },
    {
     "name": "stderr",
     "output_type": "stream",
     "text": [
      "C:\\Users\\mmccann\\AppData\\Local\\Temp\\ipykernel_29592\\1589276187.py:29: PerformanceWarning: \n",
      "your performance may suffer as PyTables will pickle object types that it cannot\n",
      "map directly to c-types [inferred_type->mixed,key->block0_values] [items->Index(['raw_test', 'bootstrap_tests', 'corrected_bootstrap_tests'], dtype='object')]\n",
      "\n",
      "  store[f'{vis_class}vis/kruskal_frac_fixed_vis'] = pd.DataFrame(list(frac_fixed_vis), columns=['pval', 'ci'],\n",
      "C:\\Users\\mmccann\\AppData\\Local\\Temp\\ipykernel_29592\\1589276187.py:31: PerformanceWarning: \n",
      "your performance may suffer as PyTables will pickle object types that it cannot\n",
      "map directly to c-types [inferred_type->mixed,key->block0_values] [items->Index(['raw_test', 'bootstrap_tests', 'corrected_bootstrap_tests'], dtype='object')]\n",
      "\n",
      "  store[f'{vis_class}vis/kruskal_frac_fixed_ori'] = pd.DataFrame(list(frac_fixed_ori), columns=['pval', 'ci'],\n",
      "C:\\Users\\mmccann\\AppData\\Local\\Temp\\ipykernel_29592\\1589276187.py:33: PerformanceWarning: \n",
      "your performance may suffer as PyTables will pickle object types that it cannot\n",
      "map directly to c-types [inferred_type->mixed,key->block0_values] [items->Index(['raw_test', 'bootstrap_tests', 'corrected_bootstrap_tests'], dtype='object')]\n",
      "\n",
      "  store[f'{vis_class}vis/kruskal_frac_fixed_dir'] = pd.DataFrame(list(frac_fixed_dir), columns=['pval', 'ci'],\n"
     ]
    },
    {
     "name": "stdout",
     "output_type": "stream",
     "text": [
      "Fixed vs Controls Visual 95% CI (-6.255093521326121e-11, 7.133039165938428e-10)\n",
      "Fixed vs Controls Visual 95% CI - Corrected: [[-1.52555330e-07  5.18379479e-06]\n",
      " [ 1.30818422e-10  9.76072815e-10]\n",
      " [ 3.90735746e-01  4.27931310e-01]]\n",
      "Fixed vs Controls Visual Raw: (3.2014409264734207e-06, array([2.67957738e-03, 6.36704690e-05, 6.06531979e-01]))\n",
      "Fixed vs Controls Ori 95% CI (-6.172679309828902e-23, 2.4112579522974436e-22)\n",
      "Fixed vs Controls Ori 95% CI - Corrected: [[-3.29899626e-19  1.34898504e-18]\n",
      " [-1.43124914e-17  1.02353268e-16]\n",
      " [ 5.13204288e-01  5.43537821e-01]]\n",
      "Fixed vs Controls Ori Raw: (3.299103554764786e-08, array([4.00639943e-05, 1.66410525e-05, 9.09774218e-01]))\n",
      "Fixed vs Controls Dir 95% CI (-1.0339043269176514e-12, 2.2913052735723917e-11)\n",
      "Fixed vs Controls Dir 95% CI - Corrected: [[ 8.92686114e-12  6.52905027e-11]\n",
      " [-1.59628942e-08  3.00539148e-07]\n",
      " [ 1.87628092e-01  2.14247251e-01]]\n",
      "Fixed vs Controls Dir Raw: (7.753844837840536e-06, array([6.03607635e-04, 7.29513186e-04, 7.01426508e-01]))\n"
     ]
    },
    {
     "name": "stderr",
     "output_type": "stream",
     "text": [
      "C:\\Users\\mmccann\\AppData\\Local\\Temp\\ipykernel_29592\\1589276187.py:29: PerformanceWarning: \n",
      "your performance may suffer as PyTables will pickle object types that it cannot\n",
      "map directly to c-types [inferred_type->mixed,key->block0_values] [items->Index(['raw_test', 'bootstrap_tests', 'corrected_bootstrap_tests'], dtype='object')]\n",
      "\n",
      "  store[f'{vis_class}vis/kruskal_frac_fixed_vis'] = pd.DataFrame(list(frac_fixed_vis), columns=['pval', 'ci'],\n",
      "C:\\Users\\mmccann\\AppData\\Local\\Temp\\ipykernel_29592\\1589276187.py:31: PerformanceWarning: \n",
      "your performance may suffer as PyTables will pickle object types that it cannot\n",
      "map directly to c-types [inferred_type->mixed,key->block0_values] [items->Index(['raw_test', 'bootstrap_tests', 'corrected_bootstrap_tests'], dtype='object')]\n",
      "\n",
      "  store[f'{vis_class}vis/kruskal_frac_fixed_ori'] = pd.DataFrame(list(frac_fixed_ori), columns=['pval', 'ci'],\n",
      "C:\\Users\\mmccann\\AppData\\Local\\Temp\\ipykernel_29592\\1589276187.py:33: PerformanceWarning: \n",
      "your performance may suffer as PyTables will pickle object types that it cannot\n",
      "map directly to c-types [inferred_type->mixed,key->block0_values] [items->Index(['raw_test', 'bootstrap_tests', 'corrected_bootstrap_tests'], dtype='object')]\n",
      "\n",
      "  store[f'{vis_class}vis/kruskal_frac_fixed_dir'] = pd.DataFrame(list(frac_fixed_dir), columns=['pval', 'ci'],\n"
     ]
    }
   ],
   "source": [
    "# Do a Kruskal-Wallis test with Dunn posthoc\n",
    "for vis_class in vis_classes:\n",
    "    # Visual\n",
    "    frac_fixed_vis = bootstrap_tests([main_exp_data, control_light_data, control_dark_data],\n",
    "                                    'frac_vis_resp_fixed', 'visual',\n",
    "                                    kruskal_w_dunn, n_iters=bootstrap_iters, bootstrap_all=True)\n",
    "    print('Fixed vs Controls Visual 95% CI', frac_fixed_vis[1][1])\n",
    "    print('Fixed vs Controls Visual 95% CI - Corrected:', frac_fixed_vis[-1][1])\n",
    "    print('Fixed vs Controls Visual Raw:', frac_fixed_vis[0])\n",
    "\n",
    "    # Orientation\n",
    "    frac_fixed_ori = bootstrap_tests([main_exp_data, control_light_data, control_dark_data],\n",
    "                                    'frac_vis_resp_fixed', 'orientation',\n",
    "                                    kruskal_w_dunn, n_iters=bootstrap_iters, bootstrap_all=True)\n",
    "    print('Fixed vs Controls Ori 95% CI', frac_fixed_ori[1][1])\n",
    "    print('Fixed vs Controls Ori 95% CI - Corrected:', frac_fixed_ori[-1][1])\n",
    "    print('Fixed vs Controls Ori Raw:', frac_fixed_ori[0])\n",
    "\n",
    "    # Direction\n",
    "    frac_fixed_dir = bootstrap_tests([main_exp_data, control_light_data, control_dark_data],\n",
    "                                    'frac_vis_resp_fixed', 'direction',\n",
    "                                    kruskal_w_dunn, n_iters=bootstrap_iters, bootstrap_all=True)\n",
    "    print('Fixed vs Controls Dir 95% CI', frac_fixed_dir[1][1])\n",
    "    print('Fixed vs Controls Dir 95% CI - Corrected:', frac_fixed_dir[-1][1])\n",
    "    print('Fixed vs Controls Dir Raw:', frac_fixed_dir[0])\n",
    "\n",
    "    # Save the data\n",
    "    with pd.HDFStore(output_path, 'a') as store:\n",
    "        store[f'{vis_class}vis/kruskal_frac_fixed_vis'] = pd.DataFrame(list(frac_fixed_vis), columns=['pval', 'ci'],\n",
    "                                                    index=['raw_test', 'bootstrap_tests', 'corrected_bootstrap_tests']).T\n",
    "        store[f'{vis_class}vis/kruskal_frac_fixed_ori'] = pd.DataFrame(list(frac_fixed_ori), columns=['pval', 'ci'],\n",
    "                                                    index=['raw_test', 'bootstrap_tests', 'corrected_bootstrap_tests']).T\n",
    "        store[f'{vis_class}vis/kruskal_frac_fixed_dir'] = pd.DataFrame(list(frac_fixed_dir), columns=['pval', 'ci'],\n",
    "                                                    index=['raw_test', 'bootstrap_tests', 'corrected_bootstrap_tests']).T"
   ]
  },
  {
   "cell_type": "code",
   "execution_count": 22,
   "metadata": {},
   "outputs": [],
   "source": [
    "# with pd.HDFStore(output_path, 'a') as store:\n",
    "#     a = store[f'{vis_class}vis/kruskal_frac_fixed_dir']\n",
    "#     print(a.loc['ci', 'corrected_bootstrap_tests'])"
   ]
  },
  {
   "cell_type": "code",
   "execution_count": 23,
   "metadata": {},
   "outputs": [],
   "source": [
    "# frac_fixed_fig = plot_bootstrap_distributions([frac_fixed_gen, \n",
    "#                                                frac_fixed_vis, frac_fixed_vis_no_gen, \n",
    "#                                                frac_fixed_ori, frac_fixed_ori_no_gen,\n",
    "#                                                frac_fixed_dir, frac_fixed_dir_no_gen])\n",
    "# plt.show()"
   ]
  },
  {
   "cell_type": "markdown",
   "metadata": {},
   "source": [
    "### Free Kruskal Wallis"
   ]
  },
  {
   "cell_type": "code",
   "execution_count": 24,
   "metadata": {},
   "outputs": [
    {
     "name": "stdout",
     "output_type": "stream",
     "text": [
      "Free vs Controls Visual 95% CI (-5.3144337899489904e-08, 3.5789710004661864e-07)\n",
      "Free vs Controls Visual 95% CI - Corrected: [[ 5.11513495e-08  3.16696325e-06]\n",
      " [-5.86771287e-07  3.27670726e-06]\n",
      " [ 5.02046501e-01  5.35928823e-01]]\n",
      "Free vs Controls Visual Raw: (1.6781978854705825e-05, array([2.14577042e-03, 5.32204021e-04, 9.17489829e-01]))\n",
      "Free vs Controls Ori 95% CI (3.065740034231262e-08, 4.37116018742714e-07)\n",
      "Free vs Controls Ori 95% CI - Corrected: [[5.58119374e-04 2.91441293e-03]\n",
      " [4.78035852e-09 3.61178872e-07]\n",
      " [4.27377793e-02 5.45136191e-02]]\n",
      "Free vs Controls Ori Raw: (0.0006527808927983592, array([0.05294006, 0.00218761, 0.50272113]))\n",
      "Free vs Controls Dir 95% CI (-3.5460270411695664e-07, 1.9200281281057023e-06)\n",
      "Free vs Controls Dir 95% CI - Corrected: [[ 5.32962078e-04  2.50767880e-03]\n",
      " [-3.18549667e-07  1.50989732e-06]\n",
      " [ 2.32682103e-02  3.13856522e-02]]\n",
      "Free vs Controls Dir Raw: (0.00025095700950984116, array([0.04135328, 0.00089175, 0.44289122]))\n"
     ]
    },
    {
     "name": "stderr",
     "output_type": "stream",
     "text": [
      "C:\\Users\\mmccann\\AppData\\Local\\Temp\\ipykernel_29592\\361439579.py:30: PerformanceWarning: \n",
      "your performance may suffer as PyTables will pickle object types that it cannot\n",
      "map directly to c-types [inferred_type->mixed,key->block0_values] [items->Index(['raw_test', 'bootstrap_tests', 'corrected_bootstrap_tests'], dtype='object')]\n",
      "\n",
      "  store[f'{vis_class}vis/kruskal_frac_free_vis'] = pd.DataFrame(list(frac_free_vis), columns=['pval', 'ci'],\n",
      "C:\\Users\\mmccann\\AppData\\Local\\Temp\\ipykernel_29592\\361439579.py:32: PerformanceWarning: \n",
      "your performance may suffer as PyTables will pickle object types that it cannot\n",
      "map directly to c-types [inferred_type->mixed,key->block0_values] [items->Index(['raw_test', 'bootstrap_tests', 'corrected_bootstrap_tests'], dtype='object')]\n",
      "\n",
      "  store[f'{vis_class}vis/kruskal_frac_free_ori'] = pd.DataFrame(list(frac_free_ori), columns=['pval', 'ci'],\n",
      "C:\\Users\\mmccann\\AppData\\Local\\Temp\\ipykernel_29592\\361439579.py:34: PerformanceWarning: \n",
      "your performance may suffer as PyTables will pickle object types that it cannot\n",
      "map directly to c-types [inferred_type->mixed,key->block0_values] [items->Index(['raw_test', 'bootstrap_tests', 'corrected_bootstrap_tests'], dtype='object')]\n",
      "\n",
      "  store[f'{vis_class}vis/kruskal_frac_free_dir'] = pd.DataFrame(list(frac_free_dir), columns=['pval', 'ci'],\n"
     ]
    },
    {
     "name": "stdout",
     "output_type": "stream",
     "text": [
      "Free vs Controls Visual 95% CI (-6.309107136802632e-08, 2.161105136141584e-07)\n",
      "Free vs Controls Visual 95% CI - Corrected: [[-7.76156035e-09  3.41600181e-06]\n",
      " [-1.27683341e-07  6.95770541e-07]\n",
      " [ 5.09709689e-01  5.43708346e-01]]\n",
      "Free vs Controls Visual Raw: (1.6781978854705825e-05, array([2.14577042e-03, 5.32204021e-04, 9.17489829e-01]))\n",
      "Free vs Controls Ori 95% CI (1.9767317120795692e-08, 1.2160960335478674e-07)\n",
      "Free vs Controls Ori 95% CI - Corrected: [[5.31921701e-04 1.16484304e-03]\n",
      " [1.29262418e-08 7.59801120e-08]\n",
      " [4.17337820e-02 5.30532120e-02]]\n",
      "Free vs Controls Ori Raw: (0.0006527808927983592, array([0.05294006, 0.00218761, 0.50272113]))\n",
      "Free vs Controls Dir 95% CI (2.8595078034094126e-09, 1.245988916250625e-07)\n",
      "Free vs Controls Dir 95% CI - Corrected: [[ 5.91407564e-04  1.15130986e-03]\n",
      " [-2.58884513e-08  1.70540437e-07]\n",
      " [ 2.50653461e-02  3.37932373e-02]]\n",
      "Free vs Controls Dir Raw: (0.00025095700950984116, array([0.04135328, 0.00089175, 0.44289122]))\n"
     ]
    },
    {
     "name": "stderr",
     "output_type": "stream",
     "text": [
      "C:\\Users\\mmccann\\AppData\\Local\\Temp\\ipykernel_29592\\361439579.py:30: PerformanceWarning: \n",
      "your performance may suffer as PyTables will pickle object types that it cannot\n",
      "map directly to c-types [inferred_type->mixed,key->block0_values] [items->Index(['raw_test', 'bootstrap_tests', 'corrected_bootstrap_tests'], dtype='object')]\n",
      "\n",
      "  store[f'{vis_class}vis/kruskal_frac_free_vis'] = pd.DataFrame(list(frac_free_vis), columns=['pval', 'ci'],\n",
      "C:\\Users\\mmccann\\AppData\\Local\\Temp\\ipykernel_29592\\361439579.py:32: PerformanceWarning: \n",
      "your performance may suffer as PyTables will pickle object types that it cannot\n",
      "map directly to c-types [inferred_type->mixed,key->block0_values] [items->Index(['raw_test', 'bootstrap_tests', 'corrected_bootstrap_tests'], dtype='object')]\n",
      "\n",
      "  store[f'{vis_class}vis/kruskal_frac_free_ori'] = pd.DataFrame(list(frac_free_ori), columns=['pval', 'ci'],\n",
      "C:\\Users\\mmccann\\AppData\\Local\\Temp\\ipykernel_29592\\361439579.py:34: PerformanceWarning: \n",
      "your performance may suffer as PyTables will pickle object types that it cannot\n",
      "map directly to c-types [inferred_type->mixed,key->block0_values] [items->Index(['raw_test', 'bootstrap_tests', 'corrected_bootstrap_tests'], dtype='object')]\n",
      "\n",
      "  store[f'{vis_class}vis/kruskal_frac_free_dir'] = pd.DataFrame(list(frac_free_dir), columns=['pval', 'ci'],\n"
     ]
    },
    {
     "name": "stdout",
     "output_type": "stream",
     "text": [
      "Free vs Controls Visual 95% CI (1.3734940883784355e-09, 4.7152617703566516e-08)\n",
      "Free vs Controls Visual 95% CI - Corrected: [[3.04706616e-07 1.07617144e-06]\n",
      " [2.33785892e-08 6.91831875e-07]\n",
      " [4.98748201e-01 5.33215354e-01]]\n",
      "Free vs Controls Visual Raw: (1.6781978854705825e-05, array([2.14577042e-03, 5.32204021e-04, 9.17489829e-01]))\n",
      "Free vs Controls Ori 95% CI (-9.44359921087845e-09, 1.9317716874366347e-07)\n",
      "Free vs Controls Ori 95% CI - Corrected: [[ 6.55248134e-04  1.43430175e-03]\n",
      " [-1.34798129e-09  1.08231471e-07]\n",
      " [ 3.83085079e-02  4.77958694e-02]]\n",
      "Free vs Controls Ori Raw: (0.0006527808927983592, array([0.05294006, 0.00218761, 0.50272113]))\n",
      "Free vs Controls Dir 95% CI (-8.600124954092861e-08, 3.568229681942717e-07)\n",
      "Free vs Controls Dir 95% CI - Corrected: [[ 6.71526620e-04  1.25595040e-03]\n",
      " [-9.52567234e-08  3.61416573e-07]\n",
      " [ 2.47709918e-02  3.42302594e-02]]\n",
      "Free vs Controls Dir Raw: (0.00025095700950984116, array([0.04135328, 0.00089175, 0.44289122]))\n"
     ]
    },
    {
     "name": "stderr",
     "output_type": "stream",
     "text": [
      "C:\\Users\\mmccann\\AppData\\Local\\Temp\\ipykernel_29592\\361439579.py:30: PerformanceWarning: \n",
      "your performance may suffer as PyTables will pickle object types that it cannot\n",
      "map directly to c-types [inferred_type->mixed,key->block0_values] [items->Index(['raw_test', 'bootstrap_tests', 'corrected_bootstrap_tests'], dtype='object')]\n",
      "\n",
      "  store[f'{vis_class}vis/kruskal_frac_free_vis'] = pd.DataFrame(list(frac_free_vis), columns=['pval', 'ci'],\n",
      "C:\\Users\\mmccann\\AppData\\Local\\Temp\\ipykernel_29592\\361439579.py:32: PerformanceWarning: \n",
      "your performance may suffer as PyTables will pickle object types that it cannot\n",
      "map directly to c-types [inferred_type->mixed,key->block0_values] [items->Index(['raw_test', 'bootstrap_tests', 'corrected_bootstrap_tests'], dtype='object')]\n",
      "\n",
      "  store[f'{vis_class}vis/kruskal_frac_free_ori'] = pd.DataFrame(list(frac_free_ori), columns=['pval', 'ci'],\n",
      "C:\\Users\\mmccann\\AppData\\Local\\Temp\\ipykernel_29592\\361439579.py:34: PerformanceWarning: \n",
      "your performance may suffer as PyTables will pickle object types that it cannot\n",
      "map directly to c-types [inferred_type->mixed,key->block0_values] [items->Index(['raw_test', 'bootstrap_tests', 'corrected_bootstrap_tests'], dtype='object')]\n",
      "\n",
      "  store[f'{vis_class}vis/kruskal_frac_free_dir'] = pd.DataFrame(list(frac_free_dir), columns=['pval', 'ci'],\n"
     ]
    }
   ],
   "source": [
    "# Do a Kruskal-Wallis test with Dunn posthoc\n",
    "for vis_class in vis_classes:\n",
    "    # Visual\n",
    "    frac_free_vis = bootstrap_tests([main_exp_data, control_light_data, control_dark_data],\n",
    "                                    'frac_vis_resp_free', 'visual',\n",
    "                                    kruskal_w_dunn, n_iters=bootstrap_iters, bootstrap_all=True)\n",
    "    print('Free vs Controls Visual 95% CI', frac_free_vis[1][1])\n",
    "    print('Free vs Controls Visual 95% CI - Corrected:', frac_free_vis[-1][1])\n",
    "    print('Free vs Controls Visual Raw:', frac_free_vis[0])\n",
    "\n",
    "    # Orientation\n",
    "    frac_free_ori = bootstrap_tests([main_exp_data, control_light_data, control_dark_data],\n",
    "                                    'frac_vis_resp_free', 'orientation',\n",
    "                                    kruskal_w_dunn, n_iters=bootstrap_iters, bootstrap_all=True)\n",
    "    print('Free vs Controls Ori 95% CI', frac_free_ori[1][1])\n",
    "    print('Free vs Controls Ori 95% CI - Corrected:', frac_free_ori[-1][1])\n",
    "    print('Free vs Controls Ori Raw:', frac_free_ori[0])\n",
    "\n",
    "    # Direction\n",
    "    frac_free_dir = bootstrap_tests([main_exp_data, control_light_data, control_dark_data],\n",
    "                                    'frac_vis_resp_free', 'direction',\n",
    "                                    kruskal_w_dunn, n_iters=bootstrap_iters, bootstrap_all=True)\n",
    "    print('Free vs Controls Dir 95% CI', frac_free_dir[1][1])\n",
    "    print('Free vs Controls Dir 95% CI - Corrected:', frac_free_dir[-1][1])\n",
    "    print('Free vs Controls Dir Raw:', frac_free_dir[0])\n",
    "\n",
    "\n",
    "    # Save the data\n",
    "    with pd.HDFStore(output_path, 'a') as store:\n",
    "        store[f'{vis_class}vis/kruskal_frac_free_vis'] = pd.DataFrame(list(frac_free_vis), columns=['pval', 'ci'],\n",
    "                                                    index=['raw_test', 'bootstrap_tests', 'corrected_bootstrap_tests']).T\n",
    "        store[f'{vis_class}vis/kruskal_frac_free_ori'] = pd.DataFrame(list(frac_free_ori), columns=['pval', 'ci'],\n",
    "                                                    index=['raw_test', 'bootstrap_tests', 'corrected_bootstrap_tests']).T\n",
    "        store[f'{vis_class}vis/kruskal_frac_free_dir'] = pd.DataFrame(list(frac_free_dir), columns=['pval', 'ci'],\n",
    "                                                    index=['raw_test', 'bootstrap_tests', 'corrected_bootstrap_tests']).T"
   ]
  },
  {
   "cell_type": "code",
   "execution_count": 25,
   "metadata": {},
   "outputs": [],
   "source": [
    "# frac_free_fig = plot_bootstrap_distributions([frac_free_gen, \n",
    "#                                               frac_free_vis, frac_free_vis_no_gen, \n",
    "#                                               frac_free_ori, frac_free_ori_no_gen,\n",
    "#                                               frac_free_dir, frac_free_dir_no_gen])\n",
    "# plt.show()"
   ]
  },
  {
   "cell_type": "markdown",
   "metadata": {},
   "source": [
    "## Count Vis Tuning - Fixed vs Free"
   ]
  },
  {
   "cell_type": "markdown",
   "metadata": {},
   "source": [
    "### Kruskal-Wallis"
   ]
  },
  {
   "cell_type": "code",
   "execution_count": 26,
   "metadata": {},
   "outputs": [
    {
     "name": "stdout",
     "output_type": "stream",
     "text": [
      "Fixed vs Free Visual: (3.283338042575187e-06, array([3.28333804e-06]))\n",
      "Fixed vs Free Orientation: (0.0001949594692131118, array([0.00019496]))\n",
      "Fixed vs Free Direction: (0.00120268863930236, array([0.00120269]))\n"
     ]
    },
    {
     "name": "stderr",
     "output_type": "stream",
     "text": [
      "C:\\Users\\mmccann\\AppData\\Local\\Temp\\ipykernel_29592\\1890522773.py:22: PerformanceWarning: \n",
      "your performance may suffer as PyTables will pickle object types that it cannot\n",
      "map directly to c-types [inferred_type->mixed,key->block0_values] [items->Int64Index([0], dtype='int64')]\n",
      "\n",
      "  store[f'{vis_class}vis/kruskal_exp_fixed_free_vis_count'] = pd.DataFrame(count_exp_fixed_free_vis, index=['p_val', 'p_val_dunn_posthoc'])\n",
      "C:\\Users\\mmccann\\AppData\\Local\\Temp\\ipykernel_29592\\1890522773.py:23: PerformanceWarning: \n",
      "your performance may suffer as PyTables will pickle object types that it cannot\n",
      "map directly to c-types [inferred_type->mixed,key->block0_values] [items->Int64Index([0], dtype='int64')]\n",
      "\n",
      "  store[f'{vis_class}vis/kruskal_exp_fixed_free_ori_count'] = pd.DataFrame(count_exp_fixed_free_ori, index=['p_val', 'p_val_dunn_posthoc'])\n",
      "C:\\Users\\mmccann\\AppData\\Local\\Temp\\ipykernel_29592\\1890522773.py:24: PerformanceWarning: \n",
      "your performance may suffer as PyTables will pickle object types that it cannot\n",
      "map directly to c-types [inferred_type->mixed,key->block0_values] [items->Int64Index([0], dtype='int64')]\n",
      "\n",
      "  store[f'{vis_class}vis/kruskal_exp_fixed_free_dir_count'] = pd.DataFrame(count_exp_fixed_free_dir, index=['p_val', 'p_val_dunn_posthoc'])\n"
     ]
    },
    {
     "name": "stdout",
     "output_type": "stream",
     "text": [
      "Fixed vs Free Visual: (3.283338042575187e-06, array([3.28333804e-06]))\n",
      "Fixed vs Free Orientation: (0.0001949594692131118, array([0.00019496]))\n",
      "Fixed vs Free Direction: (0.00120268863930236, array([0.00120269]))\n"
     ]
    },
    {
     "name": "stderr",
     "output_type": "stream",
     "text": [
      "C:\\Users\\mmccann\\AppData\\Local\\Temp\\ipykernel_29592\\1890522773.py:22: PerformanceWarning: \n",
      "your performance may suffer as PyTables will pickle object types that it cannot\n",
      "map directly to c-types [inferred_type->mixed,key->block0_values] [items->Int64Index([0], dtype='int64')]\n",
      "\n",
      "  store[f'{vis_class}vis/kruskal_exp_fixed_free_vis_count'] = pd.DataFrame(count_exp_fixed_free_vis, index=['p_val', 'p_val_dunn_posthoc'])\n",
      "C:\\Users\\mmccann\\AppData\\Local\\Temp\\ipykernel_29592\\1890522773.py:23: PerformanceWarning: \n",
      "your performance may suffer as PyTables will pickle object types that it cannot\n",
      "map directly to c-types [inferred_type->mixed,key->block0_values] [items->Int64Index([0], dtype='int64')]\n",
      "\n",
      "  store[f'{vis_class}vis/kruskal_exp_fixed_free_ori_count'] = pd.DataFrame(count_exp_fixed_free_ori, index=['p_val', 'p_val_dunn_posthoc'])\n",
      "C:\\Users\\mmccann\\AppData\\Local\\Temp\\ipykernel_29592\\1890522773.py:24: PerformanceWarning: \n",
      "your performance may suffer as PyTables will pickle object types that it cannot\n",
      "map directly to c-types [inferred_type->mixed,key->block0_values] [items->Int64Index([0], dtype='int64')]\n",
      "\n",
      "  store[f'{vis_class}vis/kruskal_exp_fixed_free_dir_count'] = pd.DataFrame(count_exp_fixed_free_dir, index=['p_val', 'p_val_dunn_posthoc'])\n"
     ]
    },
    {
     "name": "stdout",
     "output_type": "stream",
     "text": [
      "Fixed vs Free Visual: (3.283338042575187e-06, array([3.28333804e-06]))\n",
      "Fixed vs Free Orientation: (0.0001949594692131118, array([0.00019496]))\n",
      "Fixed vs Free Direction: (0.00120268863930236, array([0.00120269]))\n"
     ]
    },
    {
     "name": "stderr",
     "output_type": "stream",
     "text": [
      "C:\\Users\\mmccann\\AppData\\Local\\Temp\\ipykernel_29592\\1890522773.py:22: PerformanceWarning: \n",
      "your performance may suffer as PyTables will pickle object types that it cannot\n",
      "map directly to c-types [inferred_type->mixed,key->block0_values] [items->Int64Index([0], dtype='int64')]\n",
      "\n",
      "  store[f'{vis_class}vis/kruskal_exp_fixed_free_vis_count'] = pd.DataFrame(count_exp_fixed_free_vis, index=['p_val', 'p_val_dunn_posthoc'])\n",
      "C:\\Users\\mmccann\\AppData\\Local\\Temp\\ipykernel_29592\\1890522773.py:23: PerformanceWarning: \n",
      "your performance may suffer as PyTables will pickle object types that it cannot\n",
      "map directly to c-types [inferred_type->mixed,key->block0_values] [items->Int64Index([0], dtype='int64')]\n",
      "\n",
      "  store[f'{vis_class}vis/kruskal_exp_fixed_free_ori_count'] = pd.DataFrame(count_exp_fixed_free_ori, index=['p_val', 'p_val_dunn_posthoc'])\n",
      "C:\\Users\\mmccann\\AppData\\Local\\Temp\\ipykernel_29592\\1890522773.py:24: PerformanceWarning: \n",
      "your performance may suffer as PyTables will pickle object types that it cannot\n",
      "map directly to c-types [inferred_type->mixed,key->block0_values] [items->Int64Index([0], dtype='int64')]\n",
      "\n",
      "  store[f'{vis_class}vis/kruskal_exp_fixed_free_dir_count'] = pd.DataFrame(count_exp_fixed_free_dir, index=['p_val', 'p_val_dunn_posthoc'])\n"
     ]
    }
   ],
   "source": [
    "# Do a Kruskal-Wallis test with posthoc Dunn test for multiple comparisons\n",
    "for vis_class in vis_classes:\n",
    "\n",
    "    # Visual\n",
    "    count_exp_fixed_free_vis = kruskal_w_dunn(sample_df(main_exp_data['count_vis_resp_fixed'][f'{vis_class}visual'], \n",
    "                                                main_exp_data['count_vis_resp_free'][f'{vis_class}visual']))\n",
    "    print('Fixed vs Free Visual:', exp_fixed_free_vis)\n",
    "\n",
    "    # Orientation\n",
    "    count_exp_fixed_free_ori = kruskal_w_dunn(sample_df(main_exp_data['count_vis_resp_fixed'][f'{vis_class}orientation'], \n",
    "                                                main_exp_data['count_vis_resp_free'][f'{vis_class}orientation']))\n",
    "    print('Fixed vs Free Orientation:', exp_fixed_free_ori)\n",
    "\n",
    "\n",
    "    # Direction\n",
    "    count_exp_fixed_free_dir = kruskal_w_dunn(sample_df(main_exp_data['count_vis_resp_fixed'][f'{vis_class}direction'], \n",
    "                                                main_exp_data['count_vis_resp_free'][f'{vis_class}direction']))\n",
    "    print('Fixed vs Free Direction:', exp_fixed_free_dir)\n",
    "\n",
    "    # Save the data\n",
    "    with pd.HDFStore(output_path, 'a') as store:\n",
    "        store[f'{vis_class}vis/kruskal_exp_fixed_free_vis_count'] = pd.DataFrame(count_exp_fixed_free_vis, index=['p_val', 'p_val_dunn_posthoc'])\n",
    "        store[f'{vis_class}vis/kruskal_exp_fixed_free_ori_count'] = pd.DataFrame(count_exp_fixed_free_ori, index=['p_val', 'p_val_dunn_posthoc'])\n",
    "        store[f'{vis_class}vis/kruskal_exp_fixed_free_dir_count'] = pd.DataFrame(count_exp_fixed_free_dir, index=['p_val', 'p_val_dunn_posthoc'])"
   ]
  },
  {
   "cell_type": "markdown",
   "metadata": {},
   "source": [
    "### Wilcoxon Rank Sum"
   ]
  },
  {
   "cell_type": "code",
   "execution_count": 27,
   "metadata": {},
   "outputs": [
    {
     "name": "stdout",
     "output_type": "stream",
     "text": [
      "Fixed vs Free Visual: (3.283338042575187e-06, array([3.28333804e-06]))\n",
      "Fixed vs Free Orientation: (0.0001949594692131118, array([0.00019496]))\n",
      "Fixed vs Free Direction: (0.00120268863930236, array([0.00120269]))\n"
     ]
    },
    {
     "name": "stderr",
     "output_type": "stream",
     "text": [
      "C:\\Users\\mmccann\\AppData\\Local\\Temp\\ipykernel_29592\\553109606.py:21: PerformanceWarning: \n",
      "your performance may suffer as PyTables will pickle object types that it cannot\n",
      "map directly to c-types [inferred_type->mixed,key->block0_values] [items->Int64Index([0], dtype='int64')]\n",
      "\n",
      "  store[f'{vis_class}vis/wilcoxon_exp_fixed_free_vis_count'] = pd.DataFrame(count_exp_fixed_free_vis, index=['p_val', 'p_val_dunn_posthoc'])\n",
      "C:\\Users\\mmccann\\AppData\\Local\\Temp\\ipykernel_29592\\553109606.py:22: PerformanceWarning: \n",
      "your performance may suffer as PyTables will pickle object types that it cannot\n",
      "map directly to c-types [inferred_type->mixed,key->block0_values] [items->Int64Index([0], dtype='int64')]\n",
      "\n",
      "  store[f'{vis_class}vis/wilcoxon_exp_fixed_freew_ori_count'] = pd.DataFrame(count_exp_fixed_free_ori, index=['p_val', 'p_val_dunn_posthoc'])\n",
      "C:\\Users\\mmccann\\AppData\\Local\\Temp\\ipykernel_29592\\553109606.py:23: PerformanceWarning: \n",
      "your performance may suffer as PyTables will pickle object types that it cannot\n",
      "map directly to c-types [inferred_type->mixed,key->block0_values] [items->Int64Index([0], dtype='int64')]\n",
      "\n",
      "  store[f'{vis_class}vis/wilcoxon_exp_fixed_free_dir_count'] = pd.DataFrame(count_exp_fixed_free_dir, index=['p_val', 'p_val_dunn_posthoc'])\n"
     ]
    },
    {
     "name": "stdout",
     "output_type": "stream",
     "text": [
      "Fixed vs Free Visual: (3.283338042575187e-06, array([3.28333804e-06]))\n",
      "Fixed vs Free Orientation: (0.0001949594692131118, array([0.00019496]))\n",
      "Fixed vs Free Direction: (0.00120268863930236, array([0.00120269]))\n"
     ]
    },
    {
     "name": "stderr",
     "output_type": "stream",
     "text": [
      "C:\\Users\\mmccann\\AppData\\Local\\Temp\\ipykernel_29592\\553109606.py:21: PerformanceWarning: \n",
      "your performance may suffer as PyTables will pickle object types that it cannot\n",
      "map directly to c-types [inferred_type->mixed,key->block0_values] [items->Int64Index([0], dtype='int64')]\n",
      "\n",
      "  store[f'{vis_class}vis/wilcoxon_exp_fixed_free_vis_count'] = pd.DataFrame(count_exp_fixed_free_vis, index=['p_val', 'p_val_dunn_posthoc'])\n",
      "C:\\Users\\mmccann\\AppData\\Local\\Temp\\ipykernel_29592\\553109606.py:22: PerformanceWarning: \n",
      "your performance may suffer as PyTables will pickle object types that it cannot\n",
      "map directly to c-types [inferred_type->mixed,key->block0_values] [items->Int64Index([0], dtype='int64')]\n",
      "\n",
      "  store[f'{vis_class}vis/wilcoxon_exp_fixed_freew_ori_count'] = pd.DataFrame(count_exp_fixed_free_ori, index=['p_val', 'p_val_dunn_posthoc'])\n",
      "C:\\Users\\mmccann\\AppData\\Local\\Temp\\ipykernel_29592\\553109606.py:23: PerformanceWarning: \n",
      "your performance may suffer as PyTables will pickle object types that it cannot\n",
      "map directly to c-types [inferred_type->mixed,key->block0_values] [items->Int64Index([0], dtype='int64')]\n",
      "\n",
      "  store[f'{vis_class}vis/wilcoxon_exp_fixed_free_dir_count'] = pd.DataFrame(count_exp_fixed_free_dir, index=['p_val', 'p_val_dunn_posthoc'])\n"
     ]
    },
    {
     "name": "stdout",
     "output_type": "stream",
     "text": [
      "Fixed vs Free Visual: (3.283338042575187e-06, array([3.28333804e-06]))\n",
      "Fixed vs Free Orientation: (0.0001949594692131118, array([0.00019496]))\n",
      "Fixed vs Free Direction: (0.00120268863930236, array([0.00120269]))\n"
     ]
    },
    {
     "name": "stderr",
     "output_type": "stream",
     "text": [
      "C:\\Users\\mmccann\\AppData\\Local\\Temp\\ipykernel_29592\\553109606.py:21: PerformanceWarning: \n",
      "your performance may suffer as PyTables will pickle object types that it cannot\n",
      "map directly to c-types [inferred_type->mixed,key->block0_values] [items->Int64Index([0], dtype='int64')]\n",
      "\n",
      "  store[f'{vis_class}vis/wilcoxon_exp_fixed_free_vis_count'] = pd.DataFrame(count_exp_fixed_free_vis, index=['p_val', 'p_val_dunn_posthoc'])\n",
      "C:\\Users\\mmccann\\AppData\\Local\\Temp\\ipykernel_29592\\553109606.py:22: PerformanceWarning: \n",
      "your performance may suffer as PyTables will pickle object types that it cannot\n",
      "map directly to c-types [inferred_type->mixed,key->block0_values] [items->Int64Index([0], dtype='int64')]\n",
      "\n",
      "  store[f'{vis_class}vis/wilcoxon_exp_fixed_freew_ori_count'] = pd.DataFrame(count_exp_fixed_free_ori, index=['p_val', 'p_val_dunn_posthoc'])\n",
      "C:\\Users\\mmccann\\AppData\\Local\\Temp\\ipykernel_29592\\553109606.py:23: PerformanceWarning: \n",
      "your performance may suffer as PyTables will pickle object types that it cannot\n",
      "map directly to c-types [inferred_type->mixed,key->block0_values] [items->Int64Index([0], dtype='int64')]\n",
      "\n",
      "  store[f'{vis_class}vis/wilcoxon_exp_fixed_free_dir_count'] = pd.DataFrame(count_exp_fixed_free_dir, index=['p_val', 'p_val_dunn_posthoc'])\n"
     ]
    }
   ],
   "source": [
    "# Do a Wilcox Rank-Sum test with Bonferroni correction\n",
    "for vis_class in vis_classes:\n",
    "\n",
    "    # Visual\n",
    "    count_exp_fixed_free_vis = wilcoxon_w_bonferroni(sample_df(main_exp_data['count_vis_resp_fixed'][f'{vis_class}visual'], \n",
    "                                                main_exp_data['count_vis_resp_free'][f'{vis_class}visual']))\n",
    "    print('Fixed vs Free Visual:', exp_fixed_free_vis)\n",
    "\n",
    "    # Orientation\n",
    "    count_exp_fixed_free_ori = wilcoxon_w_bonferroni(sample_df(main_exp_data['count_vis_resp_fixed'][f'{vis_class}orientation'], \n",
    "                                                main_exp_data['count_vis_resp_free'][f'{vis_class}orientation']))\n",
    "    print('Fixed vs Free Orientation:', exp_fixed_free_ori)\n",
    "\n",
    "    # Direction\n",
    "    count_exp_fixed_free_dir = wilcoxon_w_bonferroni(sample_df(main_exp_data['count_vis_resp_fixed'][f'{vis_class}direction'], \n",
    "                                                main_exp_data['count_vis_resp_free'][f'{vis_class}direction']))\n",
    "    print('Fixed vs Free Direction:', exp_fixed_free_dir)\n",
    "\n",
    "    # Save the data\n",
    "    with pd.HDFStore(output_path, 'a') as store:\n",
    "        store[f'{vis_class}vis/wilcoxon_exp_fixed_free_vis_count'] = pd.DataFrame(count_exp_fixed_free_vis, index=['p_val', 'p_val_dunn_posthoc'])\n",
    "        store[f'{vis_class}vis/wilcoxon_exp_fixed_freew_ori_count'] = pd.DataFrame(count_exp_fixed_free_ori, index=['p_val', 'p_val_dunn_posthoc'])\n",
    "        store[f'{vis_class}vis/wilcoxon_exp_fixed_free_dir_count'] = pd.DataFrame(count_exp_fixed_free_dir, index=['p_val', 'p_val_dunn_posthoc'])"
   ]
  },
  {
   "cell_type": "markdown",
   "metadata": {},
   "source": [
    "### Mann-Whitney U"
   ]
  },
  {
   "cell_type": "code",
   "execution_count": 28,
   "metadata": {},
   "outputs": [
    {
     "name": "stdout",
     "output_type": "stream",
     "text": [
      "Fixed vs Free Visual: (3.283338042575187e-06, array([3.28333804e-06]))\n",
      "Fixed vs Free Orientation: (0.0001949594692131118, array([0.00019496]))\n",
      "Fixed vs Free Direction: (0.00120268863930236, array([0.00120269]))\n"
     ]
    },
    {
     "name": "stderr",
     "output_type": "stream",
     "text": [
      "C:\\Users\\mmccann\\AppData\\Local\\Temp\\ipykernel_29592\\920968691.py:21: PerformanceWarning: \n",
      "your performance may suffer as PyTables will pickle object types that it cannot\n",
      "map directly to c-types [inferred_type->mixed,key->block0_values] [items->Int64Index([0], dtype='int64')]\n",
      "\n",
      "  store[f'{vis_class}vis/mannwhitneyu_exp_fixed_free_vis_count'] = pd.DataFrame(count_exp_fixed_free_vis, index=['p_val', 'p_val_dunn_posthoc'])\n",
      "C:\\Users\\mmccann\\AppData\\Local\\Temp\\ipykernel_29592\\920968691.py:22: PerformanceWarning: \n",
      "your performance may suffer as PyTables will pickle object types that it cannot\n",
      "map directly to c-types [inferred_type->mixed,key->block0_values] [items->Int64Index([0], dtype='int64')]\n",
      "\n",
      "  store[f'{vis_class}vis/mannwhitneyu_exp_fixed_freew_ori_count'] = pd.DataFrame(count_exp_fixed_free_ori, index=['p_val', 'p_val_dunn_posthoc'])\n",
      "C:\\Users\\mmccann\\AppData\\Local\\Temp\\ipykernel_29592\\920968691.py:23: PerformanceWarning: \n",
      "your performance may suffer as PyTables will pickle object types that it cannot\n",
      "map directly to c-types [inferred_type->mixed,key->block0_values] [items->Int64Index([0], dtype='int64')]\n",
      "\n",
      "  store[f'{vis_class}vis/mannwhitneyu_exp_fixed_free_dir_count'] = pd.DataFrame(count_exp_fixed_free_dir, index=['p_val', 'p_val_dunn_posthoc'])\n"
     ]
    },
    {
     "name": "stdout",
     "output_type": "stream",
     "text": [
      "Fixed vs Free Visual: (3.283338042575187e-06, array([3.28333804e-06]))\n",
      "Fixed vs Free Orientation: (0.0001949594692131118, array([0.00019496]))\n",
      "Fixed vs Free Direction: (0.00120268863930236, array([0.00120269]))\n"
     ]
    },
    {
     "name": "stderr",
     "output_type": "stream",
     "text": [
      "C:\\Users\\mmccann\\AppData\\Local\\Temp\\ipykernel_29592\\920968691.py:21: PerformanceWarning: \n",
      "your performance may suffer as PyTables will pickle object types that it cannot\n",
      "map directly to c-types [inferred_type->mixed,key->block0_values] [items->Int64Index([0], dtype='int64')]\n",
      "\n",
      "  store[f'{vis_class}vis/mannwhitneyu_exp_fixed_free_vis_count'] = pd.DataFrame(count_exp_fixed_free_vis, index=['p_val', 'p_val_dunn_posthoc'])\n",
      "C:\\Users\\mmccann\\AppData\\Local\\Temp\\ipykernel_29592\\920968691.py:22: PerformanceWarning: \n",
      "your performance may suffer as PyTables will pickle object types that it cannot\n",
      "map directly to c-types [inferred_type->mixed,key->block0_values] [items->Int64Index([0], dtype='int64')]\n",
      "\n",
      "  store[f'{vis_class}vis/mannwhitneyu_exp_fixed_freew_ori_count'] = pd.DataFrame(count_exp_fixed_free_ori, index=['p_val', 'p_val_dunn_posthoc'])\n",
      "C:\\Users\\mmccann\\AppData\\Local\\Temp\\ipykernel_29592\\920968691.py:23: PerformanceWarning: \n",
      "your performance may suffer as PyTables will pickle object types that it cannot\n",
      "map directly to c-types [inferred_type->mixed,key->block0_values] [items->Int64Index([0], dtype='int64')]\n",
      "\n",
      "  store[f'{vis_class}vis/mannwhitneyu_exp_fixed_free_dir_count'] = pd.DataFrame(count_exp_fixed_free_dir, index=['p_val', 'p_val_dunn_posthoc'])\n"
     ]
    },
    {
     "name": "stdout",
     "output_type": "stream",
     "text": [
      "Fixed vs Free Visual: (3.283338042575187e-06, array([3.28333804e-06]))\n",
      "Fixed vs Free Orientation: (0.0001949594692131118, array([0.00019496]))\n",
      "Fixed vs Free Direction: (0.00120268863930236, array([0.00120269]))\n"
     ]
    },
    {
     "name": "stderr",
     "output_type": "stream",
     "text": [
      "C:\\Users\\mmccann\\AppData\\Local\\Temp\\ipykernel_29592\\920968691.py:21: PerformanceWarning: \n",
      "your performance may suffer as PyTables will pickle object types that it cannot\n",
      "map directly to c-types [inferred_type->mixed,key->block0_values] [items->Int64Index([0], dtype='int64')]\n",
      "\n",
      "  store[f'{vis_class}vis/mannwhitneyu_exp_fixed_free_vis_count'] = pd.DataFrame(count_exp_fixed_free_vis, index=['p_val', 'p_val_dunn_posthoc'])\n",
      "C:\\Users\\mmccann\\AppData\\Local\\Temp\\ipykernel_29592\\920968691.py:22: PerformanceWarning: \n",
      "your performance may suffer as PyTables will pickle object types that it cannot\n",
      "map directly to c-types [inferred_type->mixed,key->block0_values] [items->Int64Index([0], dtype='int64')]\n",
      "\n",
      "  store[f'{vis_class}vis/mannwhitneyu_exp_fixed_freew_ori_count'] = pd.DataFrame(count_exp_fixed_free_ori, index=['p_val', 'p_val_dunn_posthoc'])\n",
      "C:\\Users\\mmccann\\AppData\\Local\\Temp\\ipykernel_29592\\920968691.py:23: PerformanceWarning: \n",
      "your performance may suffer as PyTables will pickle object types that it cannot\n",
      "map directly to c-types [inferred_type->mixed,key->block0_values] [items->Int64Index([0], dtype='int64')]\n",
      "\n",
      "  store[f'{vis_class}vis/mannwhitneyu_exp_fixed_free_dir_count'] = pd.DataFrame(count_exp_fixed_free_dir, index=['p_val', 'p_val_dunn_posthoc'])\n"
     ]
    }
   ],
   "source": [
    "# Do a Mann-Whitney U test with Bonferroni correction\n",
    "for vis_class in vis_classes:\n",
    "\n",
    "    # Visual\n",
    "    count_exp_fixed_free_vis = mannwhitneyu_w_bonferroni(sample_df(main_exp_data['count_vis_resp_fixed'][f'{vis_class}visual'], \n",
    "                                                main_exp_data['count_vis_resp_free'][f'{vis_class}visual']))\n",
    "    print('Fixed vs Free Visual:', exp_fixed_free_vis)\n",
    "\n",
    "    # Orientation\n",
    "    count_exp_fixed_free_ori = mannwhitneyu_w_bonferroni(sample_df(main_exp_data['count_vis_resp_fixed'][f'{vis_class}orientation'], \n",
    "                                                main_exp_data['count_vis_resp_free'][f'{vis_class}orientation']))\n",
    "    print('Fixed vs Free Orientation:', exp_fixed_free_ori)\n",
    "\n",
    "    # Direction\n",
    "    count_exp_fixed_free_dir = mannwhitneyu_w_bonferroni(sample_df(main_exp_data['count_vis_resp_fixed'][f'{vis_class}direction'], \n",
    "                                                main_exp_data['count_vis_resp_free'][f'{vis_class}direction']))\n",
    "    print('Fixed vs Free Direction:', exp_fixed_free_dir)\n",
    "\n",
    "    # Save the data\n",
    "    with pd.HDFStore(output_path, 'a') as store:\n",
    "        store[f'{vis_class}vis/mannwhitneyu_exp_fixed_free_vis_count'] = pd.DataFrame(count_exp_fixed_free_vis, index=['p_val', 'p_val_dunn_posthoc'])\n",
    "        store[f'{vis_class}vis/mannwhitneyu_exp_fixed_freew_ori_count'] = pd.DataFrame(count_exp_fixed_free_ori, index=['p_val', 'p_val_dunn_posthoc'])\n",
    "        store[f'{vis_class}vis/mannwhitneyu_exp_fixed_free_dir_count'] = pd.DataFrame(count_exp_fixed_free_dir, index=['p_val', 'p_val_dunn_posthoc'])"
   ]
  },
  {
   "cell_type": "markdown",
   "metadata": {},
   "source": [
    "## Count Vis Tuning - Exp vs Controls"
   ]
  },
  {
   "cell_type": "markdown",
   "metadata": {},
   "source": [
    "### Fixed Kruskal Wallis"
   ]
  },
  {
   "cell_type": "code",
   "execution_count": 29,
   "metadata": {},
   "outputs": [
    {
     "name": "stdout",
     "output_type": "stream",
     "text": [
      "Fixed vs Controls Visual 95% CI: (8.987338912598435e-08, 5.751958705100255e-07)\n",
      "Fixed vs Controls Visual Raw: (0.000268196058097534, array([0.00634131, 0.00634131, 0.78859931]))\n",
      "Fixed vs Controls Orientation 95% CI: (-5.318967052521085e-23, 2.3578324501800215e-22)\n",
      "Fixed vs Controls Orientation Raw: (5.443136292223412e-08, array([5.21956459e-05, 2.30637753e-05, 9.07642115e-01]))\n",
      "Fixed vs Controls Direction 95% CI: (-1.4474948608057018e-10, 4.922230642580338e-10)\n",
      "Fixed vs Controls Direction Raw: (1.6802916286478037e-05, array([0.00106744, 0.00106744, 0.73690399]))\n"
     ]
    },
    {
     "name": "stderr",
     "output_type": "stream",
     "text": [
      "C:\\Users\\mmccann\\AppData\\Local\\Temp\\ipykernel_29592\\1713287464.py:28: PerformanceWarning: \n",
      "your performance may suffer as PyTables will pickle object types that it cannot\n",
      "map directly to c-types [inferred_type->mixed,key->block0_values] [items->Index(['raw_test', 'bootstrap_tests', 'corrected_bootstrap_tests'], dtype='object')]\n",
      "\n",
      "  store[f'{vis_class}vis/kruskal_count_fixed_vis'] = pd.DataFrame(list(count_fixed_vis), columns=['pval', 'ci'],\n",
      "C:\\Users\\mmccann\\AppData\\Local\\Temp\\ipykernel_29592\\1713287464.py:30: PerformanceWarning: \n",
      "your performance may suffer as PyTables will pickle object types that it cannot\n",
      "map directly to c-types [inferred_type->mixed,key->block0_values] [items->Index(['raw_test', 'bootstrap_tests', 'corrected_bootstrap_tests'], dtype='object')]\n",
      "\n",
      "  store[f'{vis_class}vis/kruskal_count_fixed_ori'] = pd.DataFrame(list(count_fixed_ori), columns=['pval', 'ci'],\n",
      "C:\\Users\\mmccann\\AppData\\Local\\Temp\\ipykernel_29592\\1713287464.py:32: PerformanceWarning: \n",
      "your performance may suffer as PyTables will pickle object types that it cannot\n",
      "map directly to c-types [inferred_type->mixed,key->block0_values] [items->Index(['raw_test', 'bootstrap_tests', 'corrected_bootstrap_tests'], dtype='object')]\n",
      "\n",
      "  store[f'{vis_class}vis/kruskal_count_fixed_dir'] = pd.DataFrame(list(count_fixed_dir), columns=['pval', 'ci'],\n"
     ]
    },
    {
     "name": "stdout",
     "output_type": "stream",
     "text": [
      "Fixed vs Controls Visual 95% CI: (-1.435032834326182e-07, 2.1054361932320198e-06)\n",
      "Fixed vs Controls Visual Raw: (0.000268196058097534, array([0.00634131, 0.00634131, 0.78859931]))\n",
      "Fixed vs Controls Orientation 95% CI: (-6.521874949468022e-23, 4.480354898732437e-22)\n",
      "Fixed vs Controls Orientation Raw: (5.443136292223412e-08, array([5.21956459e-05, 2.30637753e-05, 9.07642115e-01]))\n",
      "Fixed vs Controls Direction 95% CI: (-2.8550909326418946e-13, 4.530296065432015e-11)\n",
      "Fixed vs Controls Direction Raw: (1.6802916286478037e-05, array([0.00106744, 0.00106744, 0.73690399]))\n"
     ]
    },
    {
     "name": "stderr",
     "output_type": "stream",
     "text": [
      "C:\\Users\\mmccann\\AppData\\Local\\Temp\\ipykernel_29592\\1713287464.py:28: PerformanceWarning: \n",
      "your performance may suffer as PyTables will pickle object types that it cannot\n",
      "map directly to c-types [inferred_type->mixed,key->block0_values] [items->Index(['raw_test', 'bootstrap_tests', 'corrected_bootstrap_tests'], dtype='object')]\n",
      "\n",
      "  store[f'{vis_class}vis/kruskal_count_fixed_vis'] = pd.DataFrame(list(count_fixed_vis), columns=['pval', 'ci'],\n",
      "C:\\Users\\mmccann\\AppData\\Local\\Temp\\ipykernel_29592\\1713287464.py:30: PerformanceWarning: \n",
      "your performance may suffer as PyTables will pickle object types that it cannot\n",
      "map directly to c-types [inferred_type->mixed,key->block0_values] [items->Index(['raw_test', 'bootstrap_tests', 'corrected_bootstrap_tests'], dtype='object')]\n",
      "\n",
      "  store[f'{vis_class}vis/kruskal_count_fixed_ori'] = pd.DataFrame(list(count_fixed_ori), columns=['pval', 'ci'],\n",
      "C:\\Users\\mmccann\\AppData\\Local\\Temp\\ipykernel_29592\\1713287464.py:32: PerformanceWarning: \n",
      "your performance may suffer as PyTables will pickle object types that it cannot\n",
      "map directly to c-types [inferred_type->mixed,key->block0_values] [items->Index(['raw_test', 'bootstrap_tests', 'corrected_bootstrap_tests'], dtype='object')]\n",
      "\n",
      "  store[f'{vis_class}vis/kruskal_count_fixed_dir'] = pd.DataFrame(list(count_fixed_dir), columns=['pval', 'ci'],\n"
     ]
    },
    {
     "name": "stdout",
     "output_type": "stream",
     "text": [
      "Fixed vs Controls Visual 95% CI: (-5.160011221974568e-07, 3.2973917949911603e-06)\n",
      "Fixed vs Controls Visual Raw: (0.000268196058097534, array([0.00634131, 0.00634131, 0.78859931]))\n",
      "Fixed vs Controls Orientation 95% CI: (-3.4360128459774927e-22, 2.3666532173430634e-21)\n",
      "Fixed vs Controls Orientation Raw: (5.443136292223412e-08, array([5.21956459e-05, 2.30637753e-05, 9.07642115e-01]))\n",
      "Fixed vs Controls Direction 95% CI: (-4.613149888604364e-10, 2.1794247071877005e-09)\n",
      "Fixed vs Controls Direction Raw: (1.6802916286478037e-05, array([0.00106744, 0.00106744, 0.73690399]))\n"
     ]
    },
    {
     "name": "stderr",
     "output_type": "stream",
     "text": [
      "C:\\Users\\mmccann\\AppData\\Local\\Temp\\ipykernel_29592\\1713287464.py:28: PerformanceWarning: \n",
      "your performance may suffer as PyTables will pickle object types that it cannot\n",
      "map directly to c-types [inferred_type->mixed,key->block0_values] [items->Index(['raw_test', 'bootstrap_tests', 'corrected_bootstrap_tests'], dtype='object')]\n",
      "\n",
      "  store[f'{vis_class}vis/kruskal_count_fixed_vis'] = pd.DataFrame(list(count_fixed_vis), columns=['pval', 'ci'],\n",
      "C:\\Users\\mmccann\\AppData\\Local\\Temp\\ipykernel_29592\\1713287464.py:30: PerformanceWarning: \n",
      "your performance may suffer as PyTables will pickle object types that it cannot\n",
      "map directly to c-types [inferred_type->mixed,key->block0_values] [items->Index(['raw_test', 'bootstrap_tests', 'corrected_bootstrap_tests'], dtype='object')]\n",
      "\n",
      "  store[f'{vis_class}vis/kruskal_count_fixed_ori'] = pd.DataFrame(list(count_fixed_ori), columns=['pval', 'ci'],\n",
      "C:\\Users\\mmccann\\AppData\\Local\\Temp\\ipykernel_29592\\1713287464.py:32: PerformanceWarning: \n",
      "your performance may suffer as PyTables will pickle object types that it cannot\n",
      "map directly to c-types [inferred_type->mixed,key->block0_values] [items->Index(['raw_test', 'bootstrap_tests', 'corrected_bootstrap_tests'], dtype='object')]\n",
      "\n",
      "  store[f'{vis_class}vis/kruskal_count_fixed_dir'] = pd.DataFrame(list(count_fixed_dir), columns=['pval', 'ci'],\n"
     ]
    }
   ],
   "source": [
    "# Do a Kruskal-Wallis test with Dunn posthoc\n",
    "\n",
    "for vis_class in vis_classes:\n",
    "\n",
    "    # Visual\n",
    "    count_fixed_vis = bootstrap_tests([main_exp_data, control_light_data, control_dark_data],\n",
    "                                    'count_vis_resp_fixed', 'visual',   \n",
    "                                    kruskal_w_dunn, n_iters=bootstrap_iters, bootstrap_all=True)\n",
    "    print('Fixed vs Controls Visual 95% CI:', count_fixed_vis[1][1])\n",
    "    print('Fixed vs Controls Visual Raw:', count_fixed_vis[0])\n",
    "\n",
    "    # Orientation\n",
    "    count_fixed_ori = bootstrap_tests([main_exp_data, control_light_data, control_dark_data],\n",
    "                                    'count_vis_resp_fixed', 'orientation',\n",
    "                                    kruskal_w_dunn, n_iters=bootstrap_iters, bootstrap_all=True)\n",
    "    print('Fixed vs Controls Orientation 95% CI:', count_fixed_ori[1][1])\n",
    "    print('Fixed vs Controls Orientation Raw:', count_fixed_ori[0])\n",
    "\n",
    "    # Direction\n",
    "    count_fixed_dir = bootstrap_tests([main_exp_data, control_light_data, control_dark_data],\n",
    "                                    'count_vis_resp_fixed', 'direction',\n",
    "                                    kruskal_w_dunn, n_iters=bootstrap_iters, bootstrap_all=True)\n",
    "    print('Fixed vs Controls Direction 95% CI:', count_fixed_dir[1][1])\n",
    "    print('Fixed vs Controls Direction Raw:', count_fixed_dir[0])\n",
    "\n",
    "    # Save the data\n",
    "    with pd.HDFStore(output_path, 'a') as store:\n",
    "        store[f'{vis_class}vis/kruskal_count_fixed_vis'] = pd.DataFrame(list(count_fixed_vis), columns=['pval', 'ci'],\n",
    "                                                    index=['raw_test', 'bootstrap_tests', 'corrected_bootstrap_tests']).T\n",
    "        store[f'{vis_class}vis/kruskal_count_fixed_ori'] = pd.DataFrame(list(count_fixed_ori), columns=['pval', 'ci'],\n",
    "                                                    index=['raw_test', 'bootstrap_tests', 'corrected_bootstrap_tests']).T\n",
    "        store[f'{vis_class}vis/kruskal_count_fixed_dir'] = pd.DataFrame(list(count_fixed_dir), columns=['pval', 'ci'],\n",
    "                                                    index=['raw_test', 'bootstrap_tests', 'corrected_bootstrap_tests']).T"
   ]
  },
  {
   "cell_type": "markdown",
   "metadata": {},
   "source": [
    "### Free Kruskal Wallis"
   ]
  },
  {
   "cell_type": "code",
   "execution_count": 30,
   "metadata": {},
   "outputs": [
    {
     "name": "stdout",
     "output_type": "stream",
     "text": [
      "Free vs Controls Visual 95% CI: (-3.717080224392362e-07, 3.199992084061008e-06)\n",
      "Free vs Controls Visual Raw: (0.0003101948186057097, array([0.01768822, 0.00235345, 0.73407518]))\n",
      "Free vs Controls Orientation 95% CI: (2.1672563806664647e-07, 2.1336181263164084e-06)\n",
      "Free vs Controls Orientation Raw: (0.001265652736278355, array([0.06810468, 0.00383673, 0.5248231 ]))\n",
      "Free vs Controls Direction 95% CI: (-5.988030517330385e-09, 1.1148772314494695e-07)\n",
      "Free vs Controls Direction Raw: (0.0002634136057045376, array([0.08240132, 0.00055088, 0.28396112]))\n"
     ]
    },
    {
     "name": "stderr",
     "output_type": "stream",
     "text": [
      "C:\\Users\\mmccann\\AppData\\Local\\Temp\\ipykernel_29592\\2513833730.py:27: PerformanceWarning: \n",
      "your performance may suffer as PyTables will pickle object types that it cannot\n",
      "map directly to c-types [inferred_type->mixed,key->block0_values] [items->Index(['raw_test', 'bootstrap_tests', 'corrected_bootstrap_tests'], dtype='object')]\n",
      "\n",
      "  store[f'{vis_class}vis/kruskal_count_free_vis'] = pd.DataFrame(list(count_free_vis), columns=['pval', 'ci'],\n",
      "C:\\Users\\mmccann\\AppData\\Local\\Temp\\ipykernel_29592\\2513833730.py:29: PerformanceWarning: \n",
      "your performance may suffer as PyTables will pickle object types that it cannot\n",
      "map directly to c-types [inferred_type->mixed,key->block0_values] [items->Index(['raw_test', 'bootstrap_tests', 'corrected_bootstrap_tests'], dtype='object')]\n",
      "\n",
      "  store[f'{vis_class}vis/kruskal_count_free_ori'] = pd.DataFrame(list(count_free_ori), columns=['pval', 'ci'],\n",
      "C:\\Users\\mmccann\\AppData\\Local\\Temp\\ipykernel_29592\\2513833730.py:31: PerformanceWarning: \n",
      "your performance may suffer as PyTables will pickle object types that it cannot\n",
      "map directly to c-types [inferred_type->mixed,key->block0_values] [items->Index(['raw_test', 'bootstrap_tests', 'corrected_bootstrap_tests'], dtype='object')]\n",
      "\n",
      "  store[f'{vis_class}vis/kruskal_count_free_dir'] = pd.DataFrame(list(count_free_dir), columns=['pval', 'ci'],\n"
     ]
    },
    {
     "name": "stdout",
     "output_type": "stream",
     "text": [
      "Free vs Controls Visual 95% CI: (-1.5544418439959242e-05, 6.532984985334846e-05)\n",
      "Free vs Controls Visual Raw: (0.0003101948186057097, array([0.01768822, 0.00235345, 0.73407518]))\n",
      "Free vs Controls Orientation 95% CI: (1.5847544321524241e-07, 1.7040130783623212e-06)\n",
      "Free vs Controls Orientation Raw: (0.001265652736278355, array([0.06810468, 0.00383673, 0.5248231 ]))\n",
      "Free vs Controls Direction 95% CI: (-5.855556674817974e-09, 8.941747961867321e-08)\n",
      "Free vs Controls Direction Raw: (0.0002634136057045376, array([0.08240132, 0.00055088, 0.28396112]))\n"
     ]
    },
    {
     "name": "stderr",
     "output_type": "stream",
     "text": [
      "C:\\Users\\mmccann\\AppData\\Local\\Temp\\ipykernel_29592\\2513833730.py:27: PerformanceWarning: \n",
      "your performance may suffer as PyTables will pickle object types that it cannot\n",
      "map directly to c-types [inferred_type->mixed,key->block0_values] [items->Index(['raw_test', 'bootstrap_tests', 'corrected_bootstrap_tests'], dtype='object')]\n",
      "\n",
      "  store[f'{vis_class}vis/kruskal_count_free_vis'] = pd.DataFrame(list(count_free_vis), columns=['pval', 'ci'],\n",
      "C:\\Users\\mmccann\\AppData\\Local\\Temp\\ipykernel_29592\\2513833730.py:29: PerformanceWarning: \n",
      "your performance may suffer as PyTables will pickle object types that it cannot\n",
      "map directly to c-types [inferred_type->mixed,key->block0_values] [items->Index(['raw_test', 'bootstrap_tests', 'corrected_bootstrap_tests'], dtype='object')]\n",
      "\n",
      "  store[f'{vis_class}vis/kruskal_count_free_ori'] = pd.DataFrame(list(count_free_ori), columns=['pval', 'ci'],\n",
      "C:\\Users\\mmccann\\AppData\\Local\\Temp\\ipykernel_29592\\2513833730.py:31: PerformanceWarning: \n",
      "your performance may suffer as PyTables will pickle object types that it cannot\n",
      "map directly to c-types [inferred_type->mixed,key->block0_values] [items->Index(['raw_test', 'bootstrap_tests', 'corrected_bootstrap_tests'], dtype='object')]\n",
      "\n",
      "  store[f'{vis_class}vis/kruskal_count_free_dir'] = pd.DataFrame(list(count_free_dir), columns=['pval', 'ci'],\n"
     ]
    },
    {
     "name": "stdout",
     "output_type": "stream",
     "text": [
      "Free vs Controls Visual 95% CI: (-3.072774394837871e-07, 5.655235082075863e-06)\n",
      "Free vs Controls Visual Raw: (0.0003101948186057097, array([0.01768822, 0.00235345, 0.73407518]))\n",
      "Free vs Controls Orientation 95% CI: (1.0210663926774006e-07, 7.709921977413506e-07)\n",
      "Free vs Controls Orientation Raw: (0.001265652736278355, array([0.06810468, 0.00383673, 0.5248231 ]))\n",
      "Free vs Controls Direction 95% CI: (-1.374265081667947e-07, 5.819888873641996e-07)\n",
      "Free vs Controls Direction Raw: (0.0002634136057045376, array([0.08240132, 0.00055088, 0.28396112]))\n"
     ]
    },
    {
     "name": "stderr",
     "output_type": "stream",
     "text": [
      "C:\\Users\\mmccann\\AppData\\Local\\Temp\\ipykernel_29592\\2513833730.py:27: PerformanceWarning: \n",
      "your performance may suffer as PyTables will pickle object types that it cannot\n",
      "map directly to c-types [inferred_type->mixed,key->block0_values] [items->Index(['raw_test', 'bootstrap_tests', 'corrected_bootstrap_tests'], dtype='object')]\n",
      "\n",
      "  store[f'{vis_class}vis/kruskal_count_free_vis'] = pd.DataFrame(list(count_free_vis), columns=['pval', 'ci'],\n",
      "C:\\Users\\mmccann\\AppData\\Local\\Temp\\ipykernel_29592\\2513833730.py:29: PerformanceWarning: \n",
      "your performance may suffer as PyTables will pickle object types that it cannot\n",
      "map directly to c-types [inferred_type->mixed,key->block0_values] [items->Index(['raw_test', 'bootstrap_tests', 'corrected_bootstrap_tests'], dtype='object')]\n",
      "\n",
      "  store[f'{vis_class}vis/kruskal_count_free_ori'] = pd.DataFrame(list(count_free_ori), columns=['pval', 'ci'],\n",
      "C:\\Users\\mmccann\\AppData\\Local\\Temp\\ipykernel_29592\\2513833730.py:31: PerformanceWarning: \n",
      "your performance may suffer as PyTables will pickle object types that it cannot\n",
      "map directly to c-types [inferred_type->mixed,key->block0_values] [items->Index(['raw_test', 'bootstrap_tests', 'corrected_bootstrap_tests'], dtype='object')]\n",
      "\n",
      "  store[f'{vis_class}vis/kruskal_count_free_dir'] = pd.DataFrame(list(count_free_dir), columns=['pval', 'ci'],\n"
     ]
    }
   ],
   "source": [
    "# Do a Kruskal-Wallis test with Dunn posthoc\n",
    "for vis_class in vis_classes:\n",
    "\n",
    "    # Visual\n",
    "    count_free_vis = bootstrap_tests([main_exp_data, control_light_data, control_dark_data],\n",
    "                                    'count_vis_resp_free', 'visual',   \n",
    "                                    kruskal_w_dunn, n_iters=bootstrap_iters, bootstrap_all=True)\n",
    "    print('Free vs Controls Visual 95% CI:', count_free_vis[1][1])\n",
    "    print('Free vs Controls Visual Raw:', count_free_vis[0])\n",
    "\n",
    "    # Orientation\n",
    "    count_free_ori = bootstrap_tests([main_exp_data, control_light_data, control_dark_data],\n",
    "                                    'count_vis_resp_free', 'orientation',\n",
    "                                    kruskal_w_dunn, n_iters=bootstrap_iters, bootstrap_all=True)\n",
    "    print('Free vs Controls Orientation 95% CI:', count_free_ori[1][1])\n",
    "    print('Free vs Controls Orientation Raw:', count_free_ori[0])\n",
    "\n",
    "    # Direction\n",
    "    count_free_dir = bootstrap_tests([main_exp_data, control_light_data, control_dark_data],\n",
    "                                    'count_vis_resp_free', 'direction',\n",
    "                                    kruskal_w_dunn, n_iters=bootstrap_iters, bootstrap_all=True)\n",
    "    print('Free vs Controls Direction 95% CI:', count_free_dir[1][1])\n",
    "    print('Free vs Controls Direction Raw:', count_free_dir[0])\n",
    "\n",
    "    # Save the data\n",
    "    with pd.HDFStore(output_path, 'a') as store:\n",
    "        store[f'{vis_class}vis/kruskal_count_free_vis'] = pd.DataFrame(list(count_free_vis), columns=['pval', 'ci'],\n",
    "                                                    index=['raw_test', 'bootstrap_tests', 'corrected_bootstrap_tests']).T\n",
    "        store[f'{vis_class}vis/kruskal_count_free_ori'] = pd.DataFrame(list(count_free_ori), columns=['pval', 'ci'],\n",
    "                                                    index=['raw_test', 'bootstrap_tests', 'corrected_bootstrap_tests']).T\n",
    "        store[f'{vis_class}vis/kruskal_count_free_dir'] = pd.DataFrame(list(count_free_dir), columns=['pval', 'ci'],\n",
    "                                                    index=['raw_test', 'bootstrap_tests', 'corrected_bootstrap_tests']).T"
   ]
  },
  {
   "cell_type": "markdown",
   "metadata": {},
   "source": [
    "# Running Modulated"
   ]
  },
  {
   "cell_type": "markdown",
   "metadata": {},
   "source": [
    "## Fixed"
   ]
  },
  {
   "cell_type": "code",
   "execution_count": 31,
   "metadata": {},
   "outputs": [
    {
     "name": "stdout",
     "output_type": "stream",
     "text": [
      "Fixed vs Controls Run Mod. 95% CI (0.363631191322667, 0.39848591448664433)\n",
      "Fixed vs Controls Run Mod. 95% CI - Corrected: [[0.64458453 0.68452718]\n",
      " [0.66394885 0.70255602]\n",
      " [0.57684678 0.62153293]]\n",
      "Fixed vs Controls Run Mod. Raw: (0.9442514760228817, array([1., 1., 1.]))\n",
      "Fixed vs Controls Vis. + Run Mod. 95% CI (0.47192512216909527, 0.5088561331687305)\n",
      "Fixed vs Controls Vis. + Run Mod. 95% CI - Corrected: [[0.72069727 0.76023083]\n",
      " [0.73474963 0.7728401 ]\n",
      " [0.7280345  0.76625019]]\n",
      "Fixed vs Controls Vis. + Run Mod. Raw: (0.9930991992130431, array([1., 1., 1.]))\n"
     ]
    },
    {
     "name": "stderr",
     "output_type": "stream",
     "text": [
      "C:\\Users\\mmccann\\AppData\\Local\\Temp\\ipykernel_29592\\193980662.py:21: PerformanceWarning: \n",
      "your performance may suffer as PyTables will pickle object types that it cannot\n",
      "map directly to c-types [inferred_type->mixed,key->block0_values] [items->Index(['raw_test', 'bootstrap_tests', 'corrected_bootstrap_tests'], dtype='object')]\n",
      "\n",
      "  store[f'kruskal_frac_fixed_run_mod'] = pd.DataFrame(list(frac_fixed_run_mod), columns=['pval', 'ci'],\n",
      "C:\\Users\\mmccann\\AppData\\Local\\Temp\\ipykernel_29592\\193980662.py:23: PerformanceWarning: \n",
      "your performance may suffer as PyTables will pickle object types that it cannot\n",
      "map directly to c-types [inferred_type->mixed,key->block0_values] [items->Index(['raw_test', 'bootstrap_tests', 'corrected_bootstrap_tests'], dtype='object')]\n",
      "\n",
      "  store[f'kruskal_frac_fixed_vis_run_mod'] = pd.DataFrame(list(frac_fixed_vis_run_mod), columns=['pval', 'ci'],\n"
     ]
    }
   ],
   "source": [
    "# Do a Kruskal-Wallis test with Dunn posthoc\n",
    "\n",
    "# Running Modulated\n",
    "frac_fixed_run_mod = bootstrap_tests([main_exp_data, control_light_data, control_dark_data],\n",
    "                                      'frac_run_mod_fixed', 'run_modulated',\n",
    "                                      kruskal_w_dunn, n_iters=bootstrap_iters, bootstrap_all=True)\n",
    "print('Fixed vs Controls Run Mod. 95% CI', frac_fixed_run_mod[1][1])\n",
    "print('Fixed vs Controls Run Mod. 95% CI - Corrected:', frac_fixed_run_mod[-1][1])\n",
    "print('Fixed vs Controls Run Mod. Raw:', frac_fixed_run_mod[0])\n",
    "\n",
    "# Running and Visually Modulated\n",
    "frac_fixed_vis_run_mod = bootstrap_tests([main_exp_data, control_light_data, control_dark_data],\n",
    "                                        'frac_run_mod_fixed', 'vis_run_modulated',\n",
    "                                        kruskal_w_dunn, n_iters=bootstrap_iters, bootstrap_all=True)\n",
    "print('Fixed vs Controls Vis. + Run Mod. 95% CI', frac_fixed_vis_run_mod[1][1])\n",
    "print('Fixed vs Controls Vis. + Run Mod. 95% CI - Corrected:', frac_fixed_vis_run_mod[-1][1])\n",
    "print('Fixed vs Controls Vis. + Run Mod. Raw:', frac_fixed_vis_run_mod[0])\n",
    "\n",
    "# Save the data\n",
    "with pd.HDFStore(output_path, 'a') as store:\n",
    "    store[f'kruskal_frac_fixed_run_mod'] = pd.DataFrame(list(frac_fixed_run_mod), columns=['pval', 'ci'],\n",
    "                                                  index=['raw_test', 'bootstrap_tests', 'corrected_bootstrap_tests']).T\n",
    "    store[f'kruskal_frac_fixed_vis_run_mod'] = pd.DataFrame(list(frac_fixed_vis_run_mod), columns=['pval', 'ci'],\n",
    "                                                  index=['raw_test', 'bootstrap_tests', 'corrected_bootstrap_tests']).T"
   ]
  },
  {
   "cell_type": "code",
   "execution_count": 32,
   "metadata": {},
   "outputs": [],
   "source": [
    "# with pd.HDFStore(output_path, 'a') as store:\n",
    "#     a = store['kruskal_frac_free_run_mod']\n",
    "#     print(a.loc['ci', 'corrected_bootstrap_tests'])"
   ]
  },
  {
   "cell_type": "markdown",
   "metadata": {},
   "source": [
    "## Free"
   ]
  },
  {
   "cell_type": "code",
   "execution_count": 33,
   "metadata": {},
   "outputs": [
    {
     "name": "stdout",
     "output_type": "stream",
     "text": [
      "Free vs Controls Run Mod. 95% CI (0.015649883927561285, 0.02216972132084549)\n",
      "Free vs Controls Run Mod. 95% CI - Corrected: [[0.39599727 0.43310747]\n",
      " [0.02647913 0.03782461]\n",
      " [0.08540729 0.10532919]]\n",
      "Free vs Controls Run Mod. Raw: (0.20904135793189865, array([0.70912232, 0.23373511, 0.66223755]))\n",
      "Free vs Controls Vis. + Run Mod. 95% CI (0.2648771404734779, 0.29891421431011866)\n",
      "Free vs Controls Vis. + Run Mod. 95% CI - Corrected: [[0.55206425 0.59465317]\n",
      " [0.41093752 0.45817261]\n",
      " [0.57458274 0.61544986]]\n",
      "Free vs Controls Vis. + Run Mod. Raw: (0.6308430619522412, array([1., 1., 1.]))\n"
     ]
    },
    {
     "name": "stderr",
     "output_type": "stream",
     "text": [
      "C:\\Users\\mmccann\\AppData\\Local\\Temp\\ipykernel_29592\\602213168.py:21: PerformanceWarning: \n",
      "your performance may suffer as PyTables will pickle object types that it cannot\n",
      "map directly to c-types [inferred_type->mixed,key->block0_values] [items->Index(['raw_test', 'bootstrap_tests', 'corrected_bootstrap_tests'], dtype='object')]\n",
      "\n",
      "  store[f'kruskal_frac_free_run_mod'] = pd.DataFrame(list(frac_free_run_mod), columns=['pval', 'ci'],\n",
      "C:\\Users\\mmccann\\AppData\\Local\\Temp\\ipykernel_29592\\602213168.py:23: PerformanceWarning: \n",
      "your performance may suffer as PyTables will pickle object types that it cannot\n",
      "map directly to c-types [inferred_type->mixed,key->block0_values] [items->Index(['raw_test', 'bootstrap_tests', 'corrected_bootstrap_tests'], dtype='object')]\n",
      "\n",
      "  store[f'kruskal_frac_free_vis_run_mod'] = pd.DataFrame(list(frac_free_vis_run_mod), columns=['pval', 'ci'],\n"
     ]
    }
   ],
   "source": [
    "# Do a Kruskal-Wallis test with Dunn posthoc\n",
    "\n",
    "# Running Modulated\n",
    "frac_free_run_mod = bootstrap_tests([main_exp_data, control_light_data, control_dark_data],\n",
    "                                      'frac_run_mod_free', 'run_modulated',\n",
    "                                      kruskal_w_dunn, n_iters=bootstrap_iters, bootstrap_all=True)\n",
    "print('Free vs Controls Run Mod. 95% CI', frac_free_run_mod[1][1])\n",
    "print('Free vs Controls Run Mod. 95% CI - Corrected:', frac_free_run_mod[-1][1])\n",
    "print('Free vs Controls Run Mod. Raw:', frac_free_run_mod[0])\n",
    "\n",
    "# Running and Visually Modulated\n",
    "frac_free_vis_run_mod = bootstrap_tests([main_exp_data, control_light_data, control_dark_data],\n",
    "                                        'frac_run_mod_free', 'vis_run_modulated',\n",
    "                                        kruskal_w_dunn, n_iters=bootstrap_iters, bootstrap_all=True)\n",
    "print('Free vs Controls Vis. + Run Mod. 95% CI', frac_free_vis_run_mod[1][1])\n",
    "print('Free vs Controls Vis. + Run Mod. 95% CI - Corrected:', frac_free_vis_run_mod[-1][1])\n",
    "print('Free vs Controls Vis. + Run Mod. Raw:', frac_free_vis_run_mod[0])\n",
    "\n",
    "# Save the data\n",
    "with pd.HDFStore(output_path, 'a') as store:\n",
    "    store[f'kruskal_frac_free_run_mod'] = pd.DataFrame(list(frac_free_run_mod), columns=['pval', 'ci'],\n",
    "                                                  index=['raw_test', 'bootstrap_tests', 'corrected_bootstrap_tests']).T\n",
    "    store[f'kruskal_frac_free_vis_run_mod'] = pd.DataFrame(list(frac_free_vis_run_mod), columns=['pval', 'ci'],\n",
    "                                                  index=['raw_test', 'bootstrap_tests', 'corrected_bootstrap_tests']).T"
   ]
  },
  {
   "cell_type": "code",
   "execution_count": null,
   "metadata": {},
   "outputs": [],
   "source": []
  }
 ],
 "metadata": {
  "kernelspec": {
   "display_name": "prey_capture",
   "language": "python",
   "name": "python3"
  },
  "language_info": {
   "codemirror_mode": {
    "name": "ipython",
    "version": 3
   },
   "file_extension": ".py",
   "mimetype": "text/x-python",
   "name": "python",
   "nbconvert_exporter": "python",
   "pygments_lexer": "ipython3",
   "version": "3.8.16"
  }
 },
 "nbformat": 4,
 "nbformat_minor": 2
}

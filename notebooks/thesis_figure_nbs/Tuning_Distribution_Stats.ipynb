{
 "cells": [
  {
   "cell_type": "markdown",
   "metadata": {},
   "source": [
    "# Calculate Stats on Tuning Distributions"
   ]
  },
  {
   "cell_type": "code",
   "execution_count": null,
   "metadata": {},
   "outputs": [],
   "source": [
    "import os\n",
    "import sys\n",
    "\n",
    "import numpy as np\n",
    "import pandas as pd\n",
    "import matplotlib.pyplot as plt\n",
    "import scipy.stats as stats\n",
    "import scikit_posthocs as posthoc\n",
    "from statsmodels.stats.multitest import multipletests\n",
    "from hmmlearn import hmm\n",
    "\n",
    "sys.path.insert(0, os.path.abspath(r'C:/Users/mmccann/repos/bonhoeffer/prey_capture/'))\n",
    "import functions_plotting as fp"
   ]
  },
  {
   "cell_type": "code",
   "execution_count": null,
   "metadata": {},
   "outputs": [],
   "source": [
    "def h5_to_dict(filepath):\n",
    "    with pd.HDFStore(filepath, 'r') as store:\n",
    "        keys = store.keys()\n",
    "        data = {key[1:]: store[key] for key in keys}\n",
    "    return data\n",
    "\n",
    "\n",
    "def kruskal_w_dunn(data, nan_policy='omit', alpha=0.05):\n",
    "    statistic, p_val = stats.kruskal(*data, nan_policy=nan_policy)\n",
    "    dunn_test = posthoc.posthoc_dunn([*data], p_adjust='holm')\n",
    "\n",
    "    # Return just the corrected pvals instead of a whole matrix\n",
    "    if dunn_test.shape[-1] > 2:\n",
    "        p_val_corrected = np.array([dunn_test.iloc[0, i] for i in range(1, dunn_test.shape[-1])] + [dunn_test.iloc[1, -1]])\n",
    "    else:\n",
    "        p_val_corrected = np.array([dunn_test.iloc[0, i] for i in range(1, dunn_test.shape[-1])])\n",
    "    return p_val, p_val_corrected\n",
    "\n",
    "\n",
    "def mannwhitneyu_w_bonferroni(data, nan_policy='omit', alpha=0.05):\n",
    "    statistic, p_val = stats.mannwhitneyu(*data, nan_policy=nan_policy)\n",
    "    reject, p_val_corrected, _, _ = multipletests(p_val, alpha=alpha, method='holm')\n",
    "    return p_val, p_val_corrected\n",
    "\n",
    "\n",
    "def wilcoxon_w_bonferroni(data, nan_policy='omit', alpha=0.05):\n",
    "    statistic, p_val = stats.wilcoxon(*data, nan_policy=nan_policy)\n",
    "    reject, p_val_corrected, _, _ = multipletests(p_val, alpha=alpha, method='holm')\n",
    "    return p_val, p_val_corrected\n",
    "\n",
    "\n",
    "def sample_df(data1, data2):\n",
    "    df1 = data1.dropna()\n",
    "    df2 = data2.dropna() \n",
    "\n",
    "    if len(df1) > len(df2):\n",
    "        df1 = df1.sample(len(df2), replace=True)\n",
    "    elif len(df2) > len(df1):\n",
    "        df2 = df2.sample(len(df1), replace=True)\n",
    "    else:\n",
    "        pass\n",
    "\n",
    "    return df1, df2\n",
    "\n",
    "\n",
    "def bootstrap_tests(datasets, key, tuning_kind, method, n_iters=10000, alpha=0.05, bootstrap_all=False):\n",
    "    data = [ds[key][tuning_kind].dropna() for ds in datasets]\n",
    "\n",
    "    # First run the test on the raw data\n",
    "    if 'wilcoxon' in method.__name__:\n",
    "        raw_test = method(sample_df(*data), alpha=alpha)\n",
    "    elif 'mannwhitneyu' in method.__name__:\n",
    "        raw_test = method(data, alpha=alpha)\n",
    "    else:\n",
    "        raw_test = method(data, alpha=alpha)\n",
    "\n",
    "    # Now run the bootstrapping\n",
    "    p_vals = np.zeros(n_iters)\n",
    "    p_vals_corrected = np.zeros((n_iters, len(data)))\n",
    "\n",
    "    sample_size = len(max(data, key=len))\n",
    "\n",
    "    # Run bootstrap\n",
    "    for i in range(n_iters):\n",
    "\n",
    "        if bootstrap_all:\n",
    "            sample_data = [d.sample(sample_size, replace=True) for d in data]\n",
    "            # sample_data1  = data2.sample(sample_size, replace=True)\n",
    "        else:\n",
    "            sample_data = [data[0]] + [d.sample(sample_size, replace=True) for d in data[1:]]\n",
    "            \n",
    "        p_val, p_val_corrected = method(sample_data, alpha=alpha)\n",
    "        p_vals[i] = p_val\n",
    "        p_vals_corrected[i, :] = p_val_corrected\n",
    "\n",
    "    # 95% confidence interval of pvals\n",
    "    ci = stats.t.interval(0.95, len(p_vals) - 1, loc=np.nanmean(p_vals), scale=stats.sem(p_vals, nan_policy='omit'))\n",
    "\n",
    "    if method == kruskal_w_dunn:\n",
    "        # Since this is for multiple groups, need to run this column-wise\n",
    "\n",
    "        # Corrected 95% CIs\n",
    "        ci_corrected = np.zeros((len(data), 2))\n",
    "        for i in range(p_vals_corrected.shape[-1]):\n",
    "            p_val_corr_col = p_vals_corrected[:, i]\n",
    "            ci_col = stats.t.interval(0.95, len(p_val_corr_col) - 1, loc=np.nanmean(p_val_corr_col), scale=stats.sem(p_val_corr_col, nan_policy='omit'))\n",
    "            ci_corrected[i, :] = ci_col\n",
    "    else:\n",
    "        ci_corrected = stats.t.interval(0.95, len(p_vals_corrected) - 1, loc=np.nanmean(p_vals_corrected), scale=stats.sem(p_vals_corrected, nan_policy='omit'))\n",
    "\n",
    "    return raw_test, (p_vals, ci), (p_vals_corrected, ci_corrected)\n",
    "\n",
    "\n",
    "def plot_bootstrap_distributions(data):\n",
    "    # Plot the bootstrap distributions\n",
    "    num_ds = len(data)\n",
    "    cols = 3\n",
    "    rows = num_ds//cols + 1\n",
    "    fig, axes = plt.subplots(rows, cols, figsize=(5*cols, 5*rows))\n",
    "\n",
    "    for i, (ds, ax) in enumerate(zip(data, axes.ravel())):\n",
    "\n",
    "        raw_test = ds[0]\n",
    "        bootstrap_tests = ds[1]\n",
    "        corrected_bootstrap_tests = ds[2]\n",
    "\n",
    "        ax.hist(bootstrap_tests[0], bins=20)\n",
    "        ax.axvline(np.percentile(bootstrap_tests[0], 95), 0, 50, color='r')\n",
    "        ax.axvline(bootstrap_tests[1][0], 0, 50, color='g')\n",
    "        ax.axvline(bootstrap_tests[1][1], 0, 50, color='g')\n",
    "        ax.axvline(raw_test[0], 0, 100, color='k')\n",
    "\n",
    "\n",
    "    return fig, axes"
   ]
  },
  {
   "cell_type": "code",
   "execution_count": null,
   "metadata": {},
   "outputs": [],
   "source": [
    "basedir = r\"Z:\\Prey_capture\\WF_Figures\"\n",
    "still_or_all = 'full'\n",
    "main_exp_path = os.path.join(basedir, still_or_all, r\"multi_normal_ALL\\stats.hdf5\")\n",
    "control_light_path  = os.path.join(basedir, still_or_all, r\"control_normal_ALL\\stats.hdf5\")\n",
    "control_dark_path = os.path.join(basedir, still_or_all, r\"control_dark_ALL\\stats.hdf5\")\n",
    "repeat_fixed_path = os.path.join(basedir, still_or_all, r\"repeat_normal_VWheelWF\\stats.hdf5\")\n",
    "repeat_free_path = os.path.join(basedir, still_or_all, r\"repeat_normal_VTuningWF\\stats.hdf5\")\n",
    "output_path = os.path.join(basedir, 'stats', f\"{still_or_all}_tuning_stats.h5\")"
   ]
  },
  {
   "cell_type": "code",
   "execution_count": null,
   "metadata": {},
   "outputs": [],
   "source": [
    "main_exp_data = h5_to_dict(main_exp_path)\n",
    "control_light_data = h5_to_dict(control_light_path)\n",
    "control_dark_data = h5_to_dict(control_dark_path)\n",
    "repeat_fixed_data = h5_to_dict(repeat_fixed_path)\n",
    "repeat_free_data = h5_to_dict(repeat_free_path)"
   ]
  },
  {
   "cell_type": "code",
   "execution_count": null,
   "metadata": {},
   "outputs": [],
   "source": [
    "method = kruskal_w_dunn\n",
    "bootstrap_iters = 1000"
   ]
  },
  {
   "cell_type": "code",
   "execution_count": null,
   "metadata": {},
   "outputs": [],
   "source": [
    "# main_exp_data['frac_vis_resp_fixed'].set_index(['mouse', 'day']).iloc[:10, :]"
   ]
  },
  {
   "cell_type": "code",
   "execution_count": null,
   "metadata": {},
   "outputs": [],
   "source": [
    "# main_exp_data['frac_vis_resp_free'].count()"
   ]
  },
  {
   "cell_type": "code",
   "execution_count": null,
   "metadata": {},
   "outputs": [],
   "source": [
    "# control_dark_data['frac_kinem_resp_fixed'].count()"
   ]
  },
  {
   "cell_type": "code",
   "execution_count": null,
   "metadata": {},
   "outputs": [],
   "source": [
    "# control_light_data['frac_kinem_resp_fixed'].count()"
   ]
  },
  {
   "cell_type": "markdown",
   "metadata": {},
   "source": [
    "# Kinematic Tuning"
   ]
  },
  {
   "cell_type": "code",
   "execution_count": null,
   "metadata": {},
   "outputs": [],
   "source": [
    "def kinem_stats(data, ds_name, alpha=0.05):\n",
    "    cols = data[0][ds_name].columns.to_list()\n",
    "\n",
    "    stats = {}\n",
    "    for col in cols:\n",
    "        stats[col] = bootstrap_tests(data, ds_name, col,   \n",
    "                                      kruskal_w_dunn, n_iters=bootstrap_iters, bootstrap_all=True)\n",
    "\n",
    "    return stats"
   ]
  },
  {
   "cell_type": "code",
   "execution_count": null,
   "metadata": {},
   "outputs": [],
   "source": [
    "# with pd.HDFStore(output_path, 'a') as store:\n",
    "#     a = store['kruskal_kinem_tuning_free']\n",
    "\n",
    "#     for var in a.index.to_list():\n",
    "#         print(var)\n",
    "#         print(a.loc[var, 'control_dark'][-1])"
   ]
  },
  {
   "cell_type": "code",
   "execution_count": null,
   "metadata": {},
   "outputs": [],
   "source": [
    "# Fixed data\n",
    "fixed_kinem = kinem_stats([main_exp_data, control_light_data, control_dark_data], 'frac_kinem_resp_fixed')\n",
    "kinem_tuning_fixed = pd.DataFrame(fixed_kinem).T\n",
    "kinem_tuning_fixed.columns = ['main', 'control_light', 'control_dark']\n",
    "\n",
    "# Save it\n",
    "with pd.HDFStore(output_path, 'a') as store:\n",
    "    store[f'kruskal_kinem_tuning_fixed'] = kinem_tuning_fixed\n",
    "\n",
    "\n",
    "# Free data\n",
    "free_kinem = kinem_stats([main_exp_data, control_light_data, control_dark_data], 'frac_kinem_resp_free')\n",
    "kinem_tuning_free = pd.DataFrame(free_kinem).T\n",
    "kinem_tuning_free.columns = ['main', 'control_light', 'control_dark']\n",
    "\n",
    "# Save it\n",
    "with pd.HDFStore(output_path, 'a') as store:\n",
    "    store[f'kruskal_kinem_tuning_free'] = kinem_tuning_free\n"
   ]
  },
  {
   "cell_type": "markdown",
   "metadata": {},
   "source": [
    "# Visual Tuning"
   ]
  },
  {
   "cell_type": "code",
   "execution_count": null,
   "metadata": {},
   "outputs": [],
   "source": [
    "vis_classes = ['', 'mod_', 'not_']"
   ]
  },
  {
   "cell_type": "markdown",
   "metadata": {},
   "source": [
    "## Frac Visual Tuning - Fixed to Free"
   ]
  },
  {
   "cell_type": "markdown",
   "metadata": {},
   "source": [
    "### Kruskal-Wallis"
   ]
  },
  {
   "cell_type": "code",
   "execution_count": null,
   "metadata": {},
   "outputs": [],
   "source": [
    "for vis_class in vis_classes:\n",
    "    # Do a Kruskal-Wallis test with posthoc Dunn test for multiple comparisons\n",
    "\n",
    "    # Visual\n",
    "    exp_fixed_free_vis = kruskal_w_dunn(sample_df(main_exp_data['frac_vis_resp_fixed'][f'{vis_class}visual'], \n",
    "                                                  main_exp_data['frac_vis_resp_free'][f'{vis_class}visual'])\n",
    "                                                  )\n",
    "    print('Fixed vs Free Visual:', exp_fixed_free_vis)\n",
    "\n",
    "\n",
    "    # Orientation\n",
    "    exp_fixed_free_ori = kruskal_w_dunn(sample_df(main_exp_data['frac_vis_resp_fixed'][f'{vis_class}orientation'], \n",
    "                                                  main_exp_data['frac_vis_resp_free'][f'{vis_class}orientation'])\n",
    "                                                  )\n",
    "    print('Fixed vs Free Orientation:', exp_fixed_free_ori)\n",
    "\n",
    "\n",
    "    # Direction\n",
    "    exp_fixed_free_dir = kruskal_w_dunn(sample_df(main_exp_data['frac_vis_resp_fixed'][f'{vis_class}direction'], \n",
    "                                                  main_exp_data['frac_vis_resp_free'][f'{vis_class}direction'])\n",
    "                                                  )\n",
    "    print('Fixed vs Free Direction:', exp_fixed_free_dir)\n",
    "\n",
    "    # Save the data\n",
    "    with pd.HDFStore(output_path, 'a') as store:\n",
    "        store[f'{vis_class}vis/kruskal_exp_fixed_free_vis'] = pd.DataFrame(exp_fixed_free_vis, index=['p_val', 'p_val_dunn_posthoc'])\n",
    "        store[f'{vis_class}vis/kruskal_exp_fixed_free_ori'] = pd.DataFrame(exp_fixed_free_ori, index=['p_val', 'p_val_dunn_posthoc'])\n",
    "        store[f'{vis_class}vis/kruskal_exp_fixed_free_dir'] = pd.DataFrame(exp_fixed_free_dir, index=['p_val', 'p_val_dunn_posthoc'])"
   ]
  },
  {
   "cell_type": "markdown",
   "metadata": {},
   "source": [
    "### Wilcoxon Rank Sum"
   ]
  },
  {
   "cell_type": "code",
   "execution_count": null,
   "metadata": {},
   "outputs": [],
   "source": [
    "# Do a Wilcox Rank-Sum test with Bonferroni correction\n",
    "\n",
    "for vis_class in vis_classes:\n",
    "    # Visual\n",
    "    exp_fixed_free_vis = wilcoxon_w_bonferroni(sample_df(main_exp_data['frac_vis_resp_fixed'][f'{vis_class}visual'], \n",
    "                                                        main_exp_data['frac_vis_resp_free'][f'{vis_class}visual']))\n",
    "    print('Fixed vs Free Visual:', exp_fixed_free_vis)\n",
    "\n",
    "\n",
    "    # Orientation\n",
    "    exp_fixed_free_ori = wilcoxon_w_bonferroni(sample_df(main_exp_data['frac_vis_resp_fixed'][f'{vis_class}orientation'], \n",
    "                                                        main_exp_data['frac_vis_resp_free'][f'{vis_class}orientation']))\n",
    "    print('Fixed vs Free Orientation:', exp_fixed_free_ori)\n",
    "\n",
    "\n",
    "    # Direction\n",
    "    exp_fixed_free_dir = wilcoxon_w_bonferroni(sample_df(main_exp_data['frac_vis_resp_fixed'][f'{vis_class}direction'], \n",
    "                                                        main_exp_data['frac_vis_resp_free'][f'{vis_class}direction']))\n",
    "    print('Fixed vs Free Direction:', exp_fixed_free_dir)\n",
    "\n",
    "    # Save the data\n",
    "    with pd.HDFStore(output_path, 'a') as store:\n",
    "        store[f'{vis_class}vis/wilcoxon_exp_fixed_free_vis'] = pd.DataFrame(exp_fixed_free_vis, index=['p_val', 'p_val_bonferroni'])\n",
    "        store[f'{vis_class}vis/wilcoxon_exp_fixed_free_ori'] = pd.DataFrame(exp_fixed_free_ori, index=['p_val', 'p_val_bonferroni'])\n",
    "        store[f'{vis_class}vis/wilcoxon_exp_fixed_free_dir'] = pd.DataFrame(exp_fixed_free_dir, index=['p_val', 'p_val_bonferroni'])"
   ]
  },
  {
   "cell_type": "markdown",
   "metadata": {},
   "source": [
    "### Mann-Whitney U"
   ]
  },
  {
   "cell_type": "code",
   "execution_count": null,
   "metadata": {},
   "outputs": [],
   "source": [
    "# Do a Mann-Whitney U test with Bonferroni correction\n",
    "for vis_class in vis_classes:\n",
    "    # Visual\n",
    "    exp_fixed_free_vis = mannwhitneyu_w_bonferroni(sample_df(main_exp_data['frac_vis_resp_fixed'][f'{vis_class}visual'], \n",
    "                                                main_exp_data['frac_vis_resp_free'][f'{vis_class}visual']))\n",
    "    print('Fixed vs Free Visual:', exp_fixed_free_vis)\n",
    "\n",
    "    # Orientation\n",
    "    exp_fixed_free_ori = mannwhitneyu_w_bonferroni(sample_df(main_exp_data['frac_vis_resp_fixed'][f'{vis_class}orientation'], \n",
    "                                                main_exp_data['frac_vis_resp_free'][f'{vis_class}orientation']))\n",
    "    print('Fixed vs Free Orientation:', exp_fixed_free_ori)\n",
    "\n",
    "    # Direction\n",
    "    exp_fixed_free_dir = mannwhitneyu_w_bonferroni(sample_df(main_exp_data['frac_vis_resp_fixed'][f'{vis_class}direction'], \n",
    "                                                main_exp_data['frac_vis_resp_free'][f'{vis_class}direction']))\n",
    "    print('Fixed vs Free Direction:', exp_fixed_free_dir)\n",
    "\n",
    "    # Save the data\n",
    "    with pd.HDFStore(output_path, 'a') as store:\n",
    "        store[f'{vis_class}vis/mannwhitneyu_exp_fixed_free_vis'] = pd.DataFrame(exp_fixed_free_vis, index=['p_val', 'p_val_bonferroni'])\n",
    "        store[f'{vis_class}vis/mannwhitneyu_exp_fixed_free_ori'] = pd.DataFrame(exp_fixed_free_ori, index=['p_val', 'p_val_bonferroni'])\n",
    "        store[f'{vis_class}vis/mannwhitneyu_exp_fixed_free_dir'] = pd.DataFrame(exp_fixed_free_dir, index=['p_val', 'p_val_bonferroni'])"
   ]
  },
  {
   "cell_type": "markdown",
   "metadata": {},
   "source": [
    "## Frac Visual Tuning - Exp vs Controls"
   ]
  },
  {
   "cell_type": "markdown",
   "metadata": {},
   "source": [
    "### Fixed Kruskal Wallis"
   ]
  },
  {
   "cell_type": "code",
   "execution_count": null,
   "metadata": {},
   "outputs": [],
   "source": [
    "# Do a Kruskal-Wallis test with Dunn posthoc\n",
    "for vis_class in vis_classes:\n",
    "    # Visual\n",
    "    frac_fixed_vis = bootstrap_tests([main_exp_data, control_light_data, control_dark_data],\n",
    "                                    'frac_vis_resp_fixed', 'visual',\n",
    "                                    kruskal_w_dunn, n_iters=bootstrap_iters, bootstrap_all=True)\n",
    "    print('Fixed vs Controls Visual 95% CI', frac_fixed_vis[1][1])\n",
    "    print('Fixed vs Controls Visual 95% CI - Corrected:', frac_fixed_vis[-1][1])\n",
    "    print('Fixed vs Controls Visual Raw:', frac_fixed_vis[0])\n",
    "\n",
    "    # Orientation\n",
    "    frac_fixed_ori = bootstrap_tests([main_exp_data, control_light_data, control_dark_data],\n",
    "                                    'frac_vis_resp_fixed', 'orientation',\n",
    "                                    kruskal_w_dunn, n_iters=bootstrap_iters, bootstrap_all=True)\n",
    "    print('Fixed vs Controls Ori 95% CI', frac_fixed_ori[1][1])\n",
    "    print('Fixed vs Controls Ori 95% CI - Corrected:', frac_fixed_ori[-1][1])\n",
    "    print('Fixed vs Controls Ori Raw:', frac_fixed_ori[0])\n",
    "\n",
    "    # Direction\n",
    "    frac_fixed_dir = bootstrap_tests([main_exp_data, control_light_data, control_dark_data],\n",
    "                                    'frac_vis_resp_fixed', 'direction',\n",
    "                                    kruskal_w_dunn, n_iters=bootstrap_iters, bootstrap_all=True)\n",
    "    print('Fixed vs Controls Dir 95% CI', frac_fixed_dir[1][1])\n",
    "    print('Fixed vs Controls Dir 95% CI - Corrected:', frac_fixed_dir[-1][1])\n",
    "    print('Fixed vs Controls Dir Raw:', frac_fixed_dir[0])\n",
    "\n",
    "    # Save the data\n",
    "    with pd.HDFStore(output_path, 'a') as store:\n",
    "        store[f'{vis_class}vis/kruskal_frac_fixed_vis'] = pd.DataFrame(list(frac_fixed_vis), columns=['pval', 'ci'],\n",
    "                                                    index=['raw_test', 'bootstrap_tests', 'corrected_bootstrap_tests']).T\n",
    "        store[f'{vis_class}vis/kruskal_frac_fixed_ori'] = pd.DataFrame(list(frac_fixed_ori), columns=['pval', 'ci'],\n",
    "                                                    index=['raw_test', 'bootstrap_tests', 'corrected_bootstrap_tests']).T\n",
    "        store[f'{vis_class}vis/kruskal_frac_fixed_dir'] = pd.DataFrame(list(frac_fixed_dir), columns=['pval', 'ci'],\n",
    "                                                    index=['raw_test', 'bootstrap_tests', 'corrected_bootstrap_tests']).T"
   ]
  },
  {
   "cell_type": "code",
   "execution_count": null,
   "metadata": {},
   "outputs": [],
   "source": [
    "# with pd.HDFStore(output_path, 'a') as store:\n",
    "#     a = store[f'{vis_class}vis/kruskal_frac_fixed_dir']\n",
    "#     print(a.loc['ci', 'corrected_bootstrap_tests'])"
   ]
  },
  {
   "cell_type": "code",
   "execution_count": null,
   "metadata": {},
   "outputs": [],
   "source": [
    "# frac_fixed_fig = plot_bootstrap_distributions([frac_fixed_gen, \n",
    "#                                                frac_fixed_vis, frac_fixed_vis_no_gen, \n",
    "#                                                frac_fixed_ori, frac_fixed_ori_no_gen,\n",
    "#                                                frac_fixed_dir, frac_fixed_dir_no_gen])\n",
    "# plt.show()"
   ]
  },
  {
   "cell_type": "markdown",
   "metadata": {},
   "source": [
    "### Free Kruskal Wallis"
   ]
  },
  {
   "cell_type": "code",
   "execution_count": null,
   "metadata": {},
   "outputs": [],
   "source": [
    "# Do a Kruskal-Wallis test with Dunn posthoc\n",
    "for vis_class in vis_classes:\n",
    "    # Visual\n",
    "    frac_free_vis = bootstrap_tests([main_exp_data, control_light_data, control_dark_data],\n",
    "                                    'frac_vis_resp_free', 'visual',\n",
    "                                    kruskal_w_dunn, n_iters=bootstrap_iters, bootstrap_all=True)\n",
    "    print('Free vs Controls Visual 95% CI', frac_free_vis[1][1])\n",
    "    print('Free vs Controls Visual 95% CI - Corrected:', frac_free_vis[-1][1])\n",
    "    print('Free vs Controls Visual Raw:', frac_free_vis[0])\n",
    "\n",
    "    # Orientation\n",
    "    frac_free_ori = bootstrap_tests([main_exp_data, control_light_data, control_dark_data],\n",
    "                                    'frac_vis_resp_free', 'orientation',\n",
    "                                    kruskal_w_dunn, n_iters=bootstrap_iters, bootstrap_all=True)\n",
    "    print('Free vs Controls Ori 95% CI', frac_free_ori[1][1])\n",
    "    print('Free vs Controls Ori 95% CI - Corrected:', frac_free_ori[-1][1])\n",
    "    print('Free vs Controls Ori Raw:', frac_free_ori[0])\n",
    "\n",
    "    # Direction\n",
    "    frac_free_dir = bootstrap_tests([main_exp_data, control_light_data, control_dark_data],\n",
    "                                    'frac_vis_resp_free', 'direction',\n",
    "                                    kruskal_w_dunn, n_iters=bootstrap_iters, bootstrap_all=True)\n",
    "    print('Free vs Controls Dir 95% CI', frac_free_dir[1][1])\n",
    "    print('Free vs Controls Dir 95% CI - Corrected:', frac_free_dir[-1][1])\n",
    "    print('Free vs Controls Dir Raw:', frac_free_dir[0])\n",
    "\n",
    "\n",
    "    # Save the data\n",
    "    with pd.HDFStore(output_path, 'a') as store:\n",
    "        store[f'{vis_class}vis/kruskal_frac_free_vis'] = pd.DataFrame(list(frac_free_vis), columns=['pval', 'ci'],\n",
    "                                                    index=['raw_test', 'bootstrap_tests', 'corrected_bootstrap_tests']).T\n",
    "        store[f'{vis_class}vis/kruskal_frac_free_ori'] = pd.DataFrame(list(frac_free_ori), columns=['pval', 'ci'],\n",
    "                                                    index=['raw_test', 'bootstrap_tests', 'corrected_bootstrap_tests']).T\n",
    "        store[f'{vis_class}vis/kruskal_frac_free_dir'] = pd.DataFrame(list(frac_free_dir), columns=['pval', 'ci'],\n",
    "                                                    index=['raw_test', 'bootstrap_tests', 'corrected_bootstrap_tests']).T"
   ]
  },
  {
   "cell_type": "code",
   "execution_count": null,
   "metadata": {},
   "outputs": [],
   "source": [
    "# frac_free_fig = plot_bootstrap_distributions([frac_free_gen, \n",
    "#                                               frac_free_vis, frac_free_vis_no_gen, \n",
    "#                                               frac_free_ori, frac_free_ori_no_gen,\n",
    "#                                               frac_free_dir, frac_free_dir_no_gen])\n",
    "# plt.show()"
   ]
  },
  {
   "cell_type": "markdown",
   "metadata": {},
   "source": [
    "## Count Vis Tuning - Fixed vs Free"
   ]
  },
  {
   "cell_type": "markdown",
   "metadata": {},
   "source": [
    "### Kruskal-Wallis"
   ]
  },
  {
   "cell_type": "code",
   "execution_count": null,
   "metadata": {},
   "outputs": [],
   "source": [
    "# Do a Kruskal-Wallis test with posthoc Dunn test for multiple comparisons\n",
    "for vis_class in vis_classes:\n",
    "\n",
    "    # Visual\n",
    "    count_exp_fixed_free_vis = kruskal_w_dunn(sample_df(main_exp_data['count_vis_resp_fixed'][f'{vis_class}visual'], \n",
    "                                                main_exp_data['count_vis_resp_free'][f'{vis_class}visual']))\n",
    "    print('Fixed vs Free Visual:', exp_fixed_free_vis)\n",
    "\n",
    "    # Orientation\n",
    "    count_exp_fixed_free_ori = kruskal_w_dunn(sample_df(main_exp_data['count_vis_resp_fixed'][f'{vis_class}orientation'], \n",
    "                                                main_exp_data['count_vis_resp_free'][f'{vis_class}orientation']))\n",
    "    print('Fixed vs Free Orientation:', exp_fixed_free_ori)\n",
    "\n",
    "\n",
    "    # Direction\n",
    "    count_exp_fixed_free_dir = kruskal_w_dunn(sample_df(main_exp_data['count_vis_resp_fixed'][f'{vis_class}direction'], \n",
    "                                                main_exp_data['count_vis_resp_free'][f'{vis_class}direction']))\n",
    "    print('Fixed vs Free Direction:', exp_fixed_free_dir)\n",
    "\n",
    "    # Save the data\n",
    "    with pd.HDFStore(output_path, 'a') as store:\n",
    "        store[f'{vis_class}vis/kruskal_exp_fixed_free_vis_count'] = pd.DataFrame(count_exp_fixed_free_vis, index=['p_val', 'p_val_dunn_posthoc'])\n",
    "        store[f'{vis_class}vis/kruskal_exp_fixed_free_ori_count'] = pd.DataFrame(count_exp_fixed_free_ori, index=['p_val', 'p_val_dunn_posthoc'])\n",
    "        store[f'{vis_class}vis/kruskal_exp_fixed_free_dir_count'] = pd.DataFrame(count_exp_fixed_free_dir, index=['p_val', 'p_val_dunn_posthoc'])"
   ]
  },
  {
   "cell_type": "markdown",
   "metadata": {},
   "source": [
    "### Wilcoxon Rank Sum"
   ]
  },
  {
   "cell_type": "code",
   "execution_count": null,
   "metadata": {},
   "outputs": [],
   "source": [
    "# Do a Wilcox Rank-Sum test with Bonferroni correction\n",
    "for vis_class in vis_classes:\n",
    "\n",
    "    # Visual\n",
    "    count_exp_fixed_free_vis = wilcoxon_w_bonferroni(sample_df(main_exp_data['count_vis_resp_fixed'][f'{vis_class}visual'], \n",
    "                                                main_exp_data['count_vis_resp_free'][f'{vis_class}visual']))\n",
    "    print('Fixed vs Free Visual:', exp_fixed_free_vis)\n",
    "\n",
    "    # Orientation\n",
    "    count_exp_fixed_free_ori = wilcoxon_w_bonferroni(sample_df(main_exp_data['count_vis_resp_fixed'][f'{vis_class}orientation'], \n",
    "                                                main_exp_data['count_vis_resp_free'][f'{vis_class}orientation']))\n",
    "    print('Fixed vs Free Orientation:', exp_fixed_free_ori)\n",
    "\n",
    "    # Direction\n",
    "    count_exp_fixed_free_dir = wilcoxon_w_bonferroni(sample_df(main_exp_data['count_vis_resp_fixed'][f'{vis_class}direction'], \n",
    "                                                main_exp_data['count_vis_resp_free'][f'{vis_class}direction']))\n",
    "    print('Fixed vs Free Direction:', exp_fixed_free_dir)\n",
    "\n",
    "    # Save the data\n",
    "    with pd.HDFStore(output_path, 'a') as store:\n",
    "        store[f'{vis_class}vis/wilcoxon_exp_fixed_free_vis_count'] = pd.DataFrame(count_exp_fixed_free_vis, index=['p_val', 'p_val_dunn_posthoc'])\n",
    "        store[f'{vis_class}vis/wilcoxon_exp_fixed_freew_ori_count'] = pd.DataFrame(count_exp_fixed_free_ori, index=['p_val', 'p_val_dunn_posthoc'])\n",
    "        store[f'{vis_class}vis/wilcoxon_exp_fixed_free_dir_count'] = pd.DataFrame(count_exp_fixed_free_dir, index=['p_val', 'p_val_dunn_posthoc'])"
   ]
  },
  {
   "cell_type": "markdown",
   "metadata": {},
   "source": [
    "### Mann-Whitney U"
   ]
  },
  {
   "cell_type": "code",
   "execution_count": null,
   "metadata": {},
   "outputs": [],
   "source": [
    "# Do a Mann-Whitney U test with Bonferroni correction\n",
    "for vis_class in vis_classes:\n",
    "\n",
    "    # Visual\n",
    "    count_exp_fixed_free_vis = mannwhitneyu_w_bonferroni(sample_df(main_exp_data['count_vis_resp_fixed'][f'{vis_class}visual'], \n",
    "                                                main_exp_data['count_vis_resp_free'][f'{vis_class}visual']))\n",
    "    print('Fixed vs Free Visual:', exp_fixed_free_vis)\n",
    "\n",
    "    # Orientation\n",
    "    count_exp_fixed_free_ori = mannwhitneyu_w_bonferroni(sample_df(main_exp_data['count_vis_resp_fixed'][f'{vis_class}orientation'], \n",
    "                                                main_exp_data['count_vis_resp_free'][f'{vis_class}orientation']))\n",
    "    print('Fixed vs Free Orientation:', exp_fixed_free_ori)\n",
    "\n",
    "    # Direction\n",
    "    count_exp_fixed_free_dir = mannwhitneyu_w_bonferroni(sample_df(main_exp_data['count_vis_resp_fixed'][f'{vis_class}direction'], \n",
    "                                                main_exp_data['count_vis_resp_free'][f'{vis_class}direction']))\n",
    "    print('Fixed vs Free Direction:', exp_fixed_free_dir)\n",
    "\n",
    "    # Save the data\n",
    "    with pd.HDFStore(output_path, 'a') as store:\n",
    "        store[f'{vis_class}vis/mannwhitneyu_exp_fixed_free_vis_count'] = pd.DataFrame(count_exp_fixed_free_vis, index=['p_val', 'p_val_dunn_posthoc'])\n",
    "        store[f'{vis_class}vis/mannwhitneyu_exp_fixed_freew_ori_count'] = pd.DataFrame(count_exp_fixed_free_ori, index=['p_val', 'p_val_dunn_posthoc'])\n",
    "        store[f'{vis_class}vis/mannwhitneyu_exp_fixed_free_dir_count'] = pd.DataFrame(count_exp_fixed_free_dir, index=['p_val', 'p_val_dunn_posthoc'])"
   ]
  },
  {
   "cell_type": "markdown",
   "metadata": {},
   "source": [
    "## Count Vis Tuning - Exp vs Controls"
   ]
  },
  {
   "cell_type": "markdown",
   "metadata": {},
   "source": [
    "### Fixed Kruskal Wallis"
   ]
  },
  {
   "cell_type": "code",
   "execution_count": null,
   "metadata": {},
   "outputs": [],
   "source": [
    "# Do a Kruskal-Wallis test with Dunn posthoc\n",
    "\n",
    "for vis_class in vis_classes:\n",
    "\n",
    "    # Visual\n",
    "    count_fixed_vis = bootstrap_tests([main_exp_data, control_light_data, control_dark_data],\n",
    "                                    'count_vis_resp_fixed', 'visual',   \n",
    "                                    kruskal_w_dunn, n_iters=bootstrap_iters, bootstrap_all=True)\n",
    "    print('Fixed vs Controls Visual 95% CI:', count_fixed_vis[1][1])\n",
    "    print('Fixed vs Controls Visual Raw:', count_fixed_vis[0])\n",
    "\n",
    "    # Orientation\n",
    "    count_fixed_ori = bootstrap_tests([main_exp_data, control_light_data, control_dark_data],\n",
    "                                    'count_vis_resp_fixed', 'orientation',\n",
    "                                    kruskal_w_dunn, n_iters=bootstrap_iters, bootstrap_all=True)\n",
    "    print('Fixed vs Controls Orientation 95% CI:', count_fixed_ori[1][1])\n",
    "    print('Fixed vs Controls Orientation Raw:', count_fixed_ori[0])\n",
    "\n",
    "    # Direction\n",
    "    count_fixed_dir = bootstrap_tests([main_exp_data, control_light_data, control_dark_data],\n",
    "                                    'count_vis_resp_fixed', 'direction',\n",
    "                                    kruskal_w_dunn, n_iters=bootstrap_iters, bootstrap_all=True)\n",
    "    print('Fixed vs Controls Direction 95% CI:', count_fixed_dir[1][1])\n",
    "    print('Fixed vs Controls Direction Raw:', count_fixed_dir[0])\n",
    "\n",
    "    # Save the data\n",
    "    with pd.HDFStore(output_path, 'a') as store:\n",
    "        store[f'{vis_class}vis/kruskal_count_fixed_vis'] = pd.DataFrame(list(count_fixed_vis), columns=['pval', 'ci'],\n",
    "                                                    index=['raw_test', 'bootstrap_tests', 'corrected_bootstrap_tests']).T\n",
    "        store[f'{vis_class}vis/kruskal_count_fixed_ori'] = pd.DataFrame(list(count_fixed_ori), columns=['pval', 'ci'],\n",
    "                                                    index=['raw_test', 'bootstrap_tests', 'corrected_bootstrap_tests']).T\n",
    "        store[f'{vis_class}vis/kruskal_count_fixed_dir'] = pd.DataFrame(list(count_fixed_dir), columns=['pval', 'ci'],\n",
    "                                                    index=['raw_test', 'bootstrap_tests', 'corrected_bootstrap_tests']).T"
   ]
  },
  {
   "cell_type": "markdown",
   "metadata": {},
   "source": [
    "### Free Kruskal Wallis"
   ]
  },
  {
   "cell_type": "code",
   "execution_count": null,
   "metadata": {},
   "outputs": [],
   "source": [
    "# Do a Kruskal-Wallis test with Dunn posthoc\n",
    "for vis_class in vis_classes:\n",
    "\n",
    "    # Visual\n",
    "    count_free_vis = bootstrap_tests([main_exp_data, control_light_data, control_dark_data],\n",
    "                                    'count_vis_resp_free', 'visual',   \n",
    "                                    kruskal_w_dunn, n_iters=bootstrap_iters, bootstrap_all=True)\n",
    "    print('Free vs Controls Visual 95% CI:', count_free_vis[1][1])\n",
    "    print('Free vs Controls Visual Raw:', count_free_vis[0])\n",
    "\n",
    "    # Orientation\n",
    "    count_free_ori = bootstrap_tests([main_exp_data, control_light_data, control_dark_data],\n",
    "                                    'count_vis_resp_free', 'orientation',\n",
    "                                    kruskal_w_dunn, n_iters=bootstrap_iters, bootstrap_all=True)\n",
    "    print('Free vs Controls Orientation 95% CI:', count_free_ori[1][1])\n",
    "    print('Free vs Controls Orientation Raw:', count_free_ori[0])\n",
    "\n",
    "    # Direction\n",
    "    count_free_dir = bootstrap_tests([main_exp_data, control_light_data, control_dark_data],\n",
    "                                    'count_vis_resp_free', 'direction',\n",
    "                                    kruskal_w_dunn, n_iters=bootstrap_iters, bootstrap_all=True)\n",
    "    print('Free vs Controls Direction 95% CI:', count_free_dir[1][1])\n",
    "    print('Free vs Controls Direction Raw:', count_free_dir[0])\n",
    "\n",
    "    # Save the data\n",
    "    with pd.HDFStore(output_path, 'a') as store:\n",
    "        store[f'{vis_class}vis/kruskal_count_free_vis'] = pd.DataFrame(list(count_free_vis), columns=['pval', 'ci'],\n",
    "                                                    index=['raw_test', 'bootstrap_tests', 'corrected_bootstrap_tests']).T\n",
    "        store[f'{vis_class}vis/kruskal_count_free_ori'] = pd.DataFrame(list(count_free_ori), columns=['pval', 'ci'],\n",
    "                                                    index=['raw_test', 'bootstrap_tests', 'corrected_bootstrap_tests']).T\n",
    "        store[f'{vis_class}vis/kruskal_count_free_dir'] = pd.DataFrame(list(count_free_dir), columns=['pval', 'ci'],\n",
    "                                                    index=['raw_test', 'bootstrap_tests', 'corrected_bootstrap_tests']).T"
   ]
  },
  {
   "cell_type": "markdown",
   "metadata": {},
   "source": [
    "# Running Modulated"
   ]
  },
  {
   "cell_type": "markdown",
   "metadata": {},
   "source": [
    "## Fixed"
   ]
  },
  {
   "cell_type": "code",
   "execution_count": null,
   "metadata": {},
   "outputs": [],
   "source": [
    "# Do a Kruskal-Wallis test with Dunn posthoc\n",
    "\n",
    "# Running Modulated\n",
    "frac_fixed_run_mod = bootstrap_tests([main_exp_data, control_light_data, control_dark_data],\n",
    "                                      'frac_run_mod_fixed', 'run_modulated',\n",
    "                                      kruskal_w_dunn, n_iters=bootstrap_iters, bootstrap_all=True)\n",
    "print('Fixed vs Controls Run Mod. 95% CI', frac_fixed_run_mod[1][1])\n",
    "print('Fixed vs Controls Run Mod. 95% CI - Corrected:', frac_fixed_run_mod[-1][1])\n",
    "print('Fixed vs Controls Run Mod. Raw:', frac_fixed_run_mod[0])\n",
    "\n",
    "# Running and Visually Modulated\n",
    "frac_fixed_vis_run_mod = bootstrap_tests([main_exp_data, control_light_data, control_dark_data],\n",
    "                                        'frac_run_mod_fixed', 'vis_run_modulated',\n",
    "                                        kruskal_w_dunn, n_iters=bootstrap_iters, bootstrap_all=True)\n",
    "print('Fixed vs Controls Vis. + Run Mod. 95% CI', frac_fixed_vis_run_mod[1][1])\n",
    "print('Fixed vs Controls Vis. + Run Mod. 95% CI - Corrected:', frac_fixed_vis_run_mod[-1][1])\n",
    "print('Fixed vs Controls Vis. + Run Mod. Raw:', frac_fixed_vis_run_mod[0])\n",
    "\n",
    "# Save the data\n",
    "with pd.HDFStore(output_path, 'a') as store:\n",
    "    store[f'kruskal_frac_fixed_run_mod'] = pd.DataFrame(list(frac_fixed_run_mod), columns=['pval', 'ci'],\n",
    "                                                  index=['raw_test', 'bootstrap_tests', 'corrected_bootstrap_tests']).T\n",
    "    store[f'kruskal_frac_fixed_vis_run_mod'] = pd.DataFrame(list(frac_fixed_vis_run_mod), columns=['pval', 'ci'],\n",
    "                                                  index=['raw_test', 'bootstrap_tests', 'corrected_bootstrap_tests']).T"
   ]
  },
  {
   "cell_type": "code",
   "execution_count": null,
   "metadata": {},
   "outputs": [],
   "source": [
    "# with pd.HDFStore(output_path, 'a') as store:\n",
    "#     a = store['kruskal_frac_free_run_mod']\n",
    "#     print(a.loc['ci', 'corrected_bootstrap_tests'])"
   ]
  },
  {
   "cell_type": "markdown",
   "metadata": {},
   "source": [
    "## Free"
   ]
  },
  {
   "cell_type": "code",
   "execution_count": null,
   "metadata": {},
   "outputs": [],
   "source": [
    "# Do a Kruskal-Wallis test with Dunn posthoc\n",
    "\n",
    "# Running Modulated\n",
    "frac_free_run_mod = bootstrap_tests([main_exp_data, control_light_data, control_dark_data],\n",
    "                                      'frac_run_mod_free', 'run_modulated',\n",
    "                                      kruskal_w_dunn, n_iters=bootstrap_iters, bootstrap_all=True)\n",
    "print('Free vs Controls Run Mod. 95% CI', frac_free_run_mod[1][1])\n",
    "print('Free vs Controls Run Mod. 95% CI - Corrected:', frac_free_run_mod[-1][1])\n",
    "print('Free vs Controls Run Mod. Raw:', frac_free_run_mod[0])\n",
    "\n",
    "# Running and Visually Modulated\n",
    "frac_free_vis_run_mod = bootstrap_tests([main_exp_data, control_light_data, control_dark_data],\n",
    "                                        'frac_run_mod_free', 'vis_run_modulated',\n",
    "                                        kruskal_w_dunn, n_iters=bootstrap_iters, bootstrap_all=True)\n",
    "print('Free vs Controls Vis. + Run Mod. 95% CI', frac_free_vis_run_mod[1][1])\n",
    "print('Free vs Controls Vis. + Run Mod. 95% CI - Corrected:', frac_free_vis_run_mod[-1][1])\n",
    "print('Free vs Controls Vis. + Run Mod. Raw:', frac_free_vis_run_mod[0])\n",
    "\n",
    "# Save the data\n",
    "with pd.HDFStore(output_path, 'a') as store:\n",
    "    store[f'kruskal_frac_free_run_mod'] = pd.DataFrame(list(frac_free_run_mod), columns=['pval', 'ci'],\n",
    "                                                  index=['raw_test', 'bootstrap_tests', 'corrected_bootstrap_tests']).T\n",
    "    store[f'kruskal_frac_free_vis_run_mod'] = pd.DataFrame(list(frac_free_vis_run_mod), columns=['pval', 'ci'],\n",
    "                                                  index=['raw_test', 'bootstrap_tests', 'corrected_bootstrap_tests']).T"
   ]
  },
  {
   "cell_type": "code",
   "execution_count": null,
   "metadata": {},
   "outputs": [],
   "source": []
  }
 ],
 "metadata": {
  "kernelspec": {
   "display_name": "prey_capture",
   "language": "python",
   "name": "python3"
  },
  "language_info": {
   "codemirror_mode": {
    "name": "ipython",
    "version": 3
   },
   "file_extension": ".py",
   "mimetype": "text/x-python",
   "name": "python",
   "nbconvert_exporter": "python",
   "pygments_lexer": "ipython3",
   "version": "3.8.16"
  }
 },
 "nbformat": 4,
 "nbformat_minor": 2
}

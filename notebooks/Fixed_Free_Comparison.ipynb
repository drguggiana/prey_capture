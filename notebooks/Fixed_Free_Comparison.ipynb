{
 "cells": [
  {
   "cell_type": "code",
   "execution_count": null,
   "id": "508ea348-529e-4fed-9f6b-0c4fa460c090",
   "metadata": {},
   "outputs": [],
   "source": [
    "%load_ext autoreload\n",
    "%autoreload 2\n",
    "\n",
    "# Imports\n",
    "import numpy as np\n",
    "import pandas as pd\n",
    "import xarray as xr\n",
    "import panel as pn\n",
    "import holoviews as hv\n",
    "import datashader as dshade\n",
    "import ipywidgets as widgets\n",
    "from ipywidgets import interact\n",
    "\n",
    "import os\n",
    "import sys\n",
    "import random\n",
    "import importlib\n",
    "import datetime\n",
    "import warnings\n",
    "import math\n",
    "import cmath\n",
    "import pycircstat as circ\n",
    "warnings.filterwarnings('ignore')\n",
    "\n",
    "from itertools import zip_longest\n",
    "from scipy.stats import sem, norm, binned_statistic, percentileofscore, ttest_1samp, ttest_ind\n",
    "from scipy.optimize import least_squares\n",
    "\n",
    "from bokeh.resources import INLINE\n",
    "from bokeh.io import export_svgs, export_png\n",
    "from holoviews import opts, dim\n",
    "from holoviews.operation import histogram\n",
    "from holoviews.operation.datashader import datashade, shade\n",
    "hv.extension('bokeh')\n",
    "# hv.extension('matplotlib')\n",
    "import matplotlib.pyplot as plt\n",
    "%matplotlib inline\n",
    "\n",
    "sys.path.insert(0, os.path.abspath(r'C:/Users/mmccann/repos/bonhoeffer/prey_capture/'))\n",
    "%aimport paths\n",
    "import processing_parameters\n",
    "import functions_bondjango as bd\n",
    "import functions_plotting as fp\n",
    "import functions_data_handling as fdh\n",
    "import functions_kinematic as fk\n",
    "import functions_tuning as tuning\n",
    "from wirefree_experiment import WirefreeExperiment, DataContainer\n",
    "\n",
    "importlib.reload(fp)\n",
    "# set up the figure theme\n",
    "fp.set_theme()"
   ]
  },
  {
   "cell_type": "code",
   "execution_count": 1,
   "id": "c87f75d4-335a-4b74-9842-e42443ecd7a7",
   "metadata": {},
   "outputs": [
    {
     "ename": "NameError",
     "evalue": "name 'fixed' is not defined",
     "output_type": "error",
     "traceback": [
      "\u001b[1;31m---------------------------------------------------------------------------\u001b[0m",
      "\u001b[1;31mNameError\u001b[0m                                 Traceback (most recent call last)",
      "Cell \u001b[1;32mIn[1], line 16\u001b[0m\n\u001b[0;32m     12\u001b[0m         traces \u001b[38;5;241m=\u001b[39m pd\u001b[38;5;241m.\u001b[39mconcat([ds_vars, traces], axis\u001b[38;5;241m=\u001b[39m\u001b[38;5;241m1\u001b[39m)\n\u001b[0;32m     13\u001b[0m         \u001b[38;5;28msetattr\u001b[39m(exp, new_ds_name, traces)\n\u001b[1;32m---> 16\u001b[0m \u001b[38;5;28;01mfor\u001b[39;00m i, exp \u001b[38;5;129;01min\u001b[39;00m \u001b[38;5;28menumerate\u001b[39m([\u001b[43mfixed\u001b[49m, free]):\n\u001b[0;32m     17\u001b[0m     cell_nums \u001b[38;5;241m=\u001b[39m [\u001b[38;5;28mint\u001b[39m(cell\u001b[38;5;241m.\u001b[39msplit(\u001b[38;5;124m\"\u001b[39m\u001b[38;5;124m_\u001b[39m\u001b[38;5;124m\"\u001b[39m)[\u001b[38;5;241m-\u001b[39m\u001b[38;5;241m1\u001b[39m])  \u001b[38;5;28;01mfor\u001b[39;00m cell \u001b[38;5;129;01min\u001b[39;00m exp\u001b[38;5;241m.\u001b[39mcells]\n\u001b[0;32m     18\u001b[0m     match_col \u001b[38;5;241m=\u001b[39m np\u001b[38;5;241m.\u001b[39margwhere([exp\u001b[38;5;241m.\u001b[39mmetadata\u001b[38;5;241m.\u001b[39mexp_type \u001b[38;5;129;01min\u001b[39;00m col \u001b[38;5;28;01mfor\u001b[39;00m col \u001b[38;5;129;01min\u001b[39;00m \u001b[38;5;28mlist\u001b[39m(matches\u001b[38;5;241m.\u001b[39mcolumns)])\u001b[38;5;241m.\u001b[39mflatten()[\u001b[38;5;241m0\u001b[39m]\n",
      "\u001b[1;31mNameError\u001b[0m: name 'fixed' is not defined"
     ]
    }
   ],
   "source": [
    "def create_matched_datasets(exp, dataset_names, cell_ids, matched_ids):\n",
    "    cell_cols = [f\"cell_{el:04}\" for el in cell_ids]\n",
    "    new_cols = [f\"cell_{el:04}\" for el in matched_ids]\n",
    "    renaming_mapper = dict(zip(cell_cols, new_cols))\n",
    "    new_ds_names  = [f'{name}_matched' for name in dataset_names]\n",
    "    \n",
    "    for ds_name, new_ds_name in zip(dataset_names, new_ds_names):\n",
    "        ds = getattr(exp, ds_name)\n",
    "        ds_vars = ds.iloc[:, :6]\n",
    "        traces = ds[cell_cols]\n",
    "        traces.rename(columns=renaming_mapper, inplace=True)\n",
    "        traces = pd.concat([ds_vars, traces], axis=1)\n",
    "        setattr(exp, new_ds_name, traces)\n",
    "\n",
    "\n",
    "for i, exp in enumerate([fixed, free]):\n",
    "    cell_nums = [int(cell.split(\"_\")[-1])  for cell in exp.cells]\n",
    "    match_col = np.argwhere([exp.metadata.exp_type in col for col in list(matches.columns)]).flatten()[0]\n",
    "    \n",
    "    matched_cells = matches.iloc[:, match_col].to_numpy()\n",
    "    unmatched_cells = np.setdiff1d(cell_nums, match_cells)\n",
    "\n",
    "    rename_match = matches.index.to_numpy()\n",
    "\n",
    "    create_matched_datasets(exp, ['raw_spikes', 'norm_spikes', 'raw_fluor'], matched_cells, rename_match)"
   ]
  },
  {
   "cell_type": "code",
   "execution_count": null,
   "id": "280a2e0b-3be7-467b-8787-67acda75684c",
   "metadata": {},
   "outputs": [],
   "source": []
  }
 ],
 "metadata": {
  "kernelspec": {
   "display_name": "Python 3 (ipykernel)",
   "language": "python",
   "name": "python3"
  },
  "language_info": {
   "codemirror_mode": {
    "name": "ipython",
    "version": 3
   },
   "file_extension": ".py",
   "mimetype": "text/x-python",
   "name": "python",
   "nbconvert_exporter": "python",
   "pygments_lexer": "ipython3",
   "version": "3.8.16"
  }
 },
 "nbformat": 4,
 "nbformat_minor": 5
}

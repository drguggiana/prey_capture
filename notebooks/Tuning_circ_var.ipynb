{
 "cells": [
  {
   "cell_type": "markdown",
   "id": "60b9a88a",
   "metadata": {},
   "source": [
    "# TO DO \n",
    "- [x] Responsivity - bootstrap for metric\n",
    "- [ ] Mean spike rate per trial\n",
    "- [x] Tuning Width\n",
    "- [x] Tuning Peak\n",
    "- [x] Smooth tuning curves\n",
    "- [ ] Running vs not\n",
    "\n",
    "Notes:\n",
    "- [x] Distribution-based metrics of responsivity (bootstrapping, etc) over arbitrary values (Baden 2016 style)\n",
    "- [ ] Population measures\n",
    "    - [ ] distribution of widths/prefs\n",
    "    - [ ] pop. vector decoding"
   ]
  },
  {
   "cell_type": "code",
   "execution_count": null,
   "id": "2f82e766",
   "metadata": {
    "editable": true,
    "init_cell": true,
    "pycharm": {
     "name": "#%%\n"
    },
    "slideshow": {
     "slide_type": ""
    },
    "tags": []
   },
   "source": [],
   "outputs": []
  },
  {
   "cell_type": "markdown",
   "id": "f43a3f4d-01cf-43f5-9717-14c132a5adf3",
   "metadata": {
    "tags": []
   },
   "source": [
    "# Functions"
   ]
  },
  {
   "cell_type": "markdown",
   "id": "4912b9bf-214e-4673-a438-4bd47e4c92f1",
   "metadata": {
    "jp-MarkdownHeadingCollapsed": true,
    "tags": []
   },
   "source": [
    "## Utilities"
   ]
  },
  {
   "cell_type": "code",
   "execution_count": null,
   "id": "fa0ee3b2",
   "metadata": {
    "code_folding": [
     0,
     22,
     28
    ],
    "init_cell": true
   },
   "source": [
    "def normalize_rows(data_in):\n",
    "    for idx, el in enumerate(data_in):\n",
    "        data_in[idx, :] = (el-np.nanmin(el))/(np.nanmax(el)-np.nanmin(el))\n",
    "    return data_in\n",
    "\n",
    "def normalize(data_in):\n",
    "    return (data_in - np.nanmin(data_in)) / (np.nanmax(data_in) - np.nanmin(data_in))"
   ],
   "outputs": []
  },
  {
   "cell_type": "markdown",
   "id": "9b515d29-d5bb-4ace-b788-a10b0feb3fcc",
   "metadata": {
    "tags": []
   },
   "source": [
    "## Gaussian Fitting"
   ]
  },
  {
   "cell_type": "code",
   "execution_count": null,
   "id": "89f7cb91-4d30-4b79-a32f-9e2ac9353a95",
   "metadata": {
    "code_folding": [
     0,
     4,
     8,
     13,
     17,
     20,
     23
    ],
    "init_cell": true,
    "tags": []
   },
   "source": [
    "import functions_tuning as tuning"
   ],
   "outputs": []
  },
  {
   "cell_type": "markdown",
   "id": "d9bc8ca7-fe16-436e-886d-8ee08bcbb987",
   "metadata": {
    "jp-MarkdownHeadingCollapsed": true,
    "tags": []
   },
   "source": [
    "## Plotting"
   ]
  },
  {
   "cell_type": "code",
   "execution_count": null,
   "id": "77a01217-8fdb-43a1-8392-556b7cc26e75",
   "metadata": {
    "code_folding": [
     0,
     9
    ],
    "init_cell": true
   },
   "source": [
    "def spike_raster(data, cells=None):\n",
    "        if cells is None:\n",
    "            cells = [el for el in data.columns if 'cell' in el]\n",
    "    \n",
    "        spikes = data.loc[:, cells]\n",
    "    \n",
    "        im = hv.Image((data.time_vector, np.arange(len(cells)), spikes.values.T), \n",
    "                        kdims=['Time (s)', 'Cells'], vdims=['Activity (a.u.)'])\n",
    "        im.opts(width=600) #, cmap='Purples')\n",
    "        return im\n",
    "    \n",
    "def trace_raster(data, cells=None, ds_factor=1):\n",
    "    if cells is None:\n",
    "        cells = [el for el in data.columns if 'cell' in el]\n",
    "\n",
    "    trace = data.loc[:, cells]\n",
    "    max_std = trace.std().max()\n",
    "\n",
    "    lines = {i: hv.Curve((data.time_vector, trace.iloc[:, i].values.T + i*max_std)) for i in np.arange(len(cells))}\n",
    "    lineoverlay = hv.NdOverlay(lines, kdims=['Time (s)']).opts(height=500, width=800)\n",
    "    return lineoverlay\n",
    "\n",
    "\n",
    "def rand_jitter(arr):\n",
    "    stdev = .01 * (max(arr) - min(arr))\n",
    "    return arr + np.random.randn(len(arr)) * stdev\n",
    "\n",
    "\n",
    "def plot_tuning_curve(tuning_curve, error, fit=None, trials=None, pref_angle=None, ax=None, **kwargs):\n",
    "    if ax is None:\n",
    "        fig = plt.figure(dpi=300, figsize=(10, 6))\n",
    "        ax = fig.add_subplot(111)\n",
    "\n",
    "    tuning = ax.errorbar(tuning_curve[:,0], tuning_curve[:,1], yerr=error, elinewidth=0.5, **kwargs)\n",
    "\n",
    "    if fit is not None:\n",
    "        ax.plot(fit[:,0], fit[:, 1], c='r')\n",
    "        \n",
    "    if pref_angle is not None:\n",
    "        ax.axvline(pref_angle, color='k', linewidth=1)\n",
    "\n",
    "    if trials is not None:\n",
    "        ax.scatter(trials[:, 0], rand_jitter(trials[:, 1]), marker='.', c='k', alpha=0.5)\n",
    "\n",
    "    return tuning\n",
    "\n",
    "\n",
    "def plot_polar_tuning_curve(tuning_curve, error, fit=None, trials=None, pref_angle=None, ax=None, **kwargs):\n",
    "    theta_max = kwargs.pop('theta_max', 360)\n",
    "    \n",
    "    if ax is None:\n",
    "        fig = plt.figure(dpi=300, figsize=(10, 6))\n",
    "        ax = fig.add_subplot(111, projection='polar')\n",
    "\n",
    "    tuning = ax.errorbar(np.deg2rad(tuning_curve[:,0]), tuning_curve[:,1], yerr=error, elinewidth=0.5, **kwargs)\n",
    "\n",
    "    if fit is not None:\n",
    "        ax.plot(np.deg2rad(fit[:,0]), fit[:, 1], c='r')\n",
    "\n",
    "    if trials is not None:\n",
    "        ax.scatter(np.deg2rad(trials[:, 0]), rand_jitter(trials[:, 1]), marker='.', color='k', alpha=0.5)\n",
    "            \n",
    "    if pref_angle is not None:\n",
    "        ax.axvline(np.deg2rad(pref_angle), color='k', linewidth=1)\n",
    "\n",
    "    \n",
    "    ax.set_thetamax(theta_max)\n",
    "    ax.set_theta_zero_location(\"W\")\n",
    "    ax.set_theta_direction(-1)\n",
    "    ax.set_rlabel_position(180)\n",
    "\n",
    "    return tuning\n",
    "\n",
    "    \n",
    "def plot_tuning_curve_hv(tuning_curve, fit=None, error=None, trials=None, pref_angle=None, **kwargs):\n",
    "    overlay = []\n",
    "    \n",
    "    tuning = hv.Curve(tuning_curve).opts(width=600, height=300, **kwargs)\n",
    "    overlay.append(tuning)\n",
    "\n",
    "    error_plot = hv.Spread((*tuning_curve.T, error)).opts(fill_alpha=0.25)\n",
    "    overlay.append(error_plot)\n",
    "    \n",
    "    if fit is not None:\n",
    "        fit_plot = hv.Curve(fit)\n",
    "        overlay.append(fit_plot)\n",
    "        \n",
    "\n",
    "        \n",
    "    if trials is not None:\n",
    "        trials_plot = hv.Scatter(trials).opts(color='k', size=3)\n",
    "        overlay.append(trials_plot)\n",
    "        \n",
    "    if pref_angle is not None:\n",
    "        pref_plot = hv.VLine(pref_angle).opts(color='k', line_width=1)\n",
    "        overlay.append(pref_plot)\n",
    "                  \n",
    "    return hv.Overlay(overlay)\n",
    "def plot_visual_tuning_curves(cell, data_type='norm_spikes', polar=True, axes=None):\n",
    "\n",
    "    direction_data = getattr(cell, data_type + '_direction_props')\n",
    "    orientation_data = getattr(cell, data_type + '_orientation_props')\n",
    "\n",
    "    columns = ['tuning_curve_norm', 'std_norm', 'fit_curve', 'shown_pref', 'trial_resp_norm']\n",
    "\n",
    "    if axes is None:\n",
    "        if polar:\n",
    "            fig, axes = plt.subplots(nrows=1, ncols=2, figsize=(12,4), subplot_kw=dict(projection=\"polar\"))\n",
    "        else:\n",
    "            fig, axes = plt.subplots(nrows=1, ncols=2, figsize=(12,4))\n",
    "\n",
    "    if polar:\n",
    "        plot_func = plot_polar_tuning_curve\n",
    "    else:\n",
    "        plot_func = plot_tuning_curve\n",
    "\n",
    "    # Plot directions    \n",
    "    fig = plot_func(direction_data[columns[0]][0], \n",
    "                    direction_data[columns[1]][0],\n",
    "                    fit=direction_data[columns[2]][0], \n",
    "                    pref_angle=direction_data[columns[3]][0],\n",
    "                    trials=direction_data[columns[4]][0],\n",
    "                    ax=axes[0]\n",
    "                    )\n",
    "\n",
    "    if polar:\n",
    "        fig = plot_func(orientation_data[columns[0]][0], \n",
    "                        orientation_data[columns[1]][0],\n",
    "                        fit=orientation_data[columns[2]][0], \n",
    "                        pref_angle=orientation_data[columns[3]][0],\n",
    "                        trials=orientation_data[columns[4]][0],\n",
    "                        ax=axes[1], theta_max=180\n",
    "                       )\n",
    "    else:\n",
    "        fig = plot_func(orientation_data[columns[0]][0], \n",
    "                        orientation_data[columns[1]][0],\n",
    "                        fit=orientation_data[columns[2]][0], \n",
    "                        pref_angle=orientation_data[columns[3]][0],\n",
    "                        trials=orientation_data[columns[4]][0],\n",
    "                        ax=axes[1]\n",
    "                       )\n",
    "\n",
    "    return fig, axes\n",
    "def plot_fixed_ethogram(experiment, num_cells=15, **kwargs):\n",
    "    kinem = experiment.kinematics\n",
    "    time = kinem.time_vector\n",
    "\n",
    "    # Select cells\n",
    "    cells = np.random.choice(experiment.cells, num_cells)\n",
    "    \n",
    "    fig, axes = plt.subplots(nrows=num_cells+4, ncols=1, sharex=True, **kwargs)\n",
    "    axes_labels = ['trials', 'run speed', 'pupil dia.', 'pupil pos.'] + list(cells)\n",
    "\n",
    "    # Plot trials and kinematics\n",
    "    trial_tick = np.where(kinem.trial_num > 0, 1, 0)\n",
    "    axes[0].plot(time, trial_tick, 'k')\n",
    "    \n",
    "    \n",
    "    axes[1].plot(time, np.abs(kinem.wheel_speed), 'k')\n",
    "    axes[1].set_ylim((0, 1))\n",
    "\n",
    "    smoothed_diameter = normalize(np.unwrap(fk.jump_killer(kinem.pupil_diameter, 2), 10))\n",
    "    axes[2].plot(time, smoothed_diameter, 'k')\n",
    "    axes[2].set_ylim((0, 1))\n",
    "\n",
    "    smoothed_x = np.unwrap(fk.jump_killer(kinem.fit_pupil_center_x, 3), 15)\n",
    "    smoothed_x -= np.mean(smoothed_x)\n",
    "    smoothed_y = np.unwrap(fk.jump_killer(kinem.fit_pupil_center_y, 3), 15)\n",
    "    smoothed_y -= np.mean(smoothed_y)\n",
    "    axes[3].plot(time, smoothed_x, 'k', time, smoothed_y, 'r')\n",
    "    \n",
    "\n",
    "    # Plot neural data\n",
    "    for i, cell in enumerate(cells):\n",
    "        axes[i+4].plot(time, exp.cell_props[cell].norm_dff[cell], 'k', alpha=0.7)\n",
    "        axes[i+4].plot(time, exp.cell_props[cell].norm_spikes[cell], 'g', alpha=0.5)\n",
    "        axes[i+4].set_ylim((0, 1))\n",
    "\n",
    "    # Remove ticks\n",
    "    for i, a in enumerate(axes):   \n",
    "        a.set_ylabel(axes_labels[i], rotation=45, va='center', wrap=True, x=-50)\n",
    "        a.spines[\"top\"].set_visible(False)\n",
    "        a.spines[\"right\"].set_visible(False)\n",
    "        if i < len(axes)-1:\n",
    "            a.spines[\"bottom\"].set_visible(False)\n",
    "            a.xaxis.set_tick_params(bottom=False)\n",
    "    \n",
    "    axes[-1].set_xlabel (\"Time (s)\")\n",
    "\n",
    "    return fig"
   ],
   "outputs": []
  },
  {
   "cell_type": "markdown",
   "id": "0c27b5a5",
   "metadata": {
    "tags": []
   },
   "source": [
    "# Load the Data"
   ]
  },
  {
   "cell_type": "code",
   "execution_count": null,
   "id": "7cf77fe8",
   "metadata": {
    "init_cell": true,
    "tags": []
   },
   "source": [
    "importlib.reload(processing_parameters)\n",
    "\n",
    "# get the search string\n",
    "search_string = processing_parameters.search_string + r\", analysis_type:preprocessing\"\n",
    "\n",
    "# get the paths from the database\n",
    "file_path, paths_all, parsed_query, date_list, animal_list = fdh.fetch_preprocessing(search_string)\n",
    "\n",
    "animal_idxs = [i for i,d in enumerate(animal_list) if d==parsed_query['mouse'].lower()]\n",
    "good_entries = [file_path[index] for index in animal_idxs]\n",
    "input_paths = [paths_all[index] for index in animal_idxs]\n",
    "\n",
    "# # assemble the output path\n",
    "print(input_paths)"
   ],
   "outputs": []
  },
  {
   "cell_type": "code",
   "execution_count": null,
   "id": "5c8276e6",
   "metadata": {
    "init_cell": true,
    "pycharm": {
     "name": "#%%\n"
    },
    "tags": []
   },
   "source": [
    "fixed = WirefreeExperiment(input_paths[0], use_xarray=False)\n",
    "free = WirefreeExperiment(input_paths[1], use_xarray=False)"
   ],
   "outputs": []
  },
  {
   "cell_type": "markdown",
   "id": "cde5cf1a-eb3d-4529-94a3-a46a5998070a",
   "metadata": {
    "tags": []
   },
   "source": [
    "# Remove baselines from the data for later processing\n",
    "Also normalize inferred spike responses"
   ]
  },
  {
   "cell_type": "code",
   "execution_count": null,
   "id": "ce03539b",
   "metadata": {},
   "source": [
    "def normalize_spike_responses(ds, quantile=0.07):\n",
    "    ds_norm = ds.fillna(0)\n",
    "    \n",
    "    # get the number of cells\n",
    "    if type(ds) is pd.DataFrame:\n",
    "        cells = [el for el in ds.columns if \"cell\" in el]\n",
    "        # Normalize cell responses across all sessions\n",
    "        ds_norm[cells].apply(normalize)\n",
    "    \n",
    "        # Get the 7th percentile of activity per cell for each stimulus\n",
    "        # Try 7th/8th percentile\n",
    "        percentiles = ds_norm.groupby(['direction'])[cells].quantile(quantile)\n",
    "    \n",
    "        # get the baselines - The first row is the inter-trial interval\n",
    "        baselines = percentiles.iloc[0, :]\n",
    "    \n",
    "        # Subtract baseline from everything\n",
    "        ds_norm[cells].subtract(baselines, axis=1)\n",
    "\n",
    "    elif type(ds) == xr.Dataset:\n",
    "        # TODO\n",
    "        cells = [el for el in ds.data_vars if \"cell\" in el]\n",
    "    \n",
    "\n",
    "    return ds_norm"
   ],
   "outputs": []
  },
  {
   "cell_type": "code",
   "execution_count": null,
   "id": "533535d5-12c4-4de8-a99e-063160b3bef0",
   "metadata": {},
   "source": [
    "free.norm_spikes = normalize_spike_responses(free.raw_spikes)\n",
    "fixed.norm_spikes = normalize_spike_responses(fixed.raw_spikes)"
   ],
   "outputs": []
  },
  {
   "cell_type": "markdown",
   "id": "c9870aa6-018d-4ec2-b290-23c2b98bdbc0",
   "metadata": {},
   "source": [
    "# Populate cell objects with their neural activity"
   ]
  },
  {
   "cell_type": "code",
   "execution_count": null,
   "id": "bd806520-0b34-4fb3-8949-2077943909e3",
   "metadata": {},
   "source": [
    "def add_activity_to_cell(experiment):\n",
    "    # Populate spikes\n",
    "    for cell_id, cell_obj in experiment.cell_props.items():\n",
    "        cell_obj.raw_spikes = experiment.raw_spikes.iloc[:, [*range(6), experiment.raw_spikes.columns.get_loc(cell_id)]]\n",
    "        cell_obj.norm_spikes = experiment.norm_spikes.iloc[:, [*range(6), experiment.norm_spikes.columns.get_loc(cell_id)]]\n",
    "        \n",
    "        cell_obj.raw_fluor = experiment.raw_fluor.iloc[:, [*range(6), experiment.raw_fluor.columns.get_loc(cell_id)]]"
   ],
   "outputs": []
  },
  {
   "cell_type": "code",
   "execution_count": null,
   "id": "0db64e3d-3777-49ae-8617-95486248f6d3",
   "metadata": {},
   "source": [
    "add_activity_to_cell(free)\n",
    "add_activity_to_cell(fixed)"
   ],
   "outputs": []
  },
  {
   "cell_type": "markdown",
   "id": "57719c37",
   "metadata": {},
   "source": [
    "# Extract matched cells"
   ]
  },
  {
   "cell_type": "code",
   "execution_count": null,
   "id": "a09c1d3f",
   "metadata": {},
   "source": [
    "def create_matched_datasets(exp, dataset_names, cell_ids, matched_ids):\n",
    "    cell_cols = [f\"cell_{el:04}\" for el in cell_ids]\n",
    "    new_cols = [f\"cell_{el:04}\" for el in matched_ids]\n",
    "    renaming_mapper = dict(zip(cell_cols, new_cols))\n",
    "    new_ds_names  = [f'{name}_matched' for name in dataset_names]\n",
    "    \n",
    "    for ds_name, new_ds_name in zip(dataset_names, new_ds_names):\n",
    "        ds = getattr(exp, ds_name)\n",
    "        ds_vars = ds.iloc[:, :6]\n",
    "        traces = ds[cell_cols]\n",
    "        traces.rename(columns=renaming_mapper, inplace=True)\n",
    "        traces = pd.concat([ds_vars, traces], axis=1)\n",
    "        setattr(exp, new_ds_name, traces)\n",
    "\n",
    "\n",
    "for i, exp in enumerate([fixed, free]):\n",
    "    cell_nums = [int(cell.split(\"_\")[-1])  for cell in exp.cells]\n",
    "    match_col = np.argwhere([exp.metadata.exp_type in col for col in list(matches.columns)]).flatten()[0]\n",
    "    \n",
    "    matched_cells = matches.iloc[:, match_col].to_numpy()\n",
    "    unmatched_cells = np.setdiff1d(cell_nums, match_cells)\n",
    "\n",
    "    rename_match = matches.index.to_numpy()\n",
    "\n",
    "    create_matched_datasets(exp, ['raw_spikes', 'norm_spikes', 'raw_fluor'], matched_cells, rename_match)"
   ],
   "outputs": []
  },
  {
   "cell_type": "markdown",
   "id": "f7b2ffa1",
   "metadata": {},
   "source": [
    "# Determine responsivity"
   ]
  },
  {
   "cell_type": "code",
   "execution_count": null,
   "id": "d69be7be",
   "metadata": {},
   "source": [
    "ds = matched_data[0]\n",
    "# get the number of cells\n",
    "cell_spikes = [el for el in ds.columns if 'spikes' in el]\n",
    "\n",
    "# Get response per trial for each cell\n",
    "for cell in cell_spikes:\n",
    "    trial_responses = ds[ds.trial_num >= 1].groupby(['trial_num'])[cell].mean().to_numpy()\n",
    "    isi_responses = ds[ds.trial_num == 0][cell].mean()\n",
    "#     isi_responses = np.ones(trial_responses.shape) * isi_responses\n",
    "    \n",
    "    ttest = ttest_ind(isi_responses, trial_responses)\n",
    "\n",
    "# trial_start = ds[ds.trial_num >= 1].groupby(['trial_num']).time_vector.nth(0)\n",
    "# trial_end = ds[ds.trial_num >= 1].groupby(['trial_num']).time_vector.nth(-2)\n",
    "# trial_times = np.array((trial_start, trial_end)).T"
   ],
   "outputs": []
  },
  {
   "cell_type": "code",
   "execution_count": null,
   "id": "a40aa12a",
   "metadata": {},
   "source": [
    "isi_responses"
   ],
   "outputs": []
  },
  {
   "cell_type": "markdown",
   "id": "63181c7a-85cd-4ef8-8d61-f6638f4f0314",
   "metadata": {
    "jp-MarkdownHeadingCollapsed": true,
    "tags": []
   },
   "source": [
    "# Some simple exploration"
   ]
  },
  {
   "cell_type": "markdown",
   "id": "b62f067a",
   "metadata": {
    "heading_collapsed": true,
    "jp-MarkdownHeadingCollapsed": true,
    "tags": []
   },
   "source": [
    "## Plot activity"
   ]
  },
  {
   "cell_type": "code",
   "execution_count": null,
   "id": "835f4c58",
   "metadata": {
    "hidden": true,
    "pycharm": {
     "name": "#%%\n"
    }
   },
   "source": [
    "# Inferred spikes\n",
    "spike_plots = [trace_raster(free.norm_spikes), trace_raster(fixed.norm_spikes)]\n",
    "hv.Layout(spike_plots).cols(2).opts(shared_axes=False)"
   ],
   "outputs": []
  },
  {
   "cell_type": "code",
   "execution_count": null,
   "id": "25892929-5790-4205-bc15-5b3f9162b405",
   "metadata": {},
   "source": [
    "# allocate memory for the plots\n",
    "fluor_plots = [trace_raster(free.raw_fluor), trace_raster(fixed.raw_fluor)]\n",
    "hv.Layout(fluor_plots).cols(2).opts(shared_axes=False)"
   ],
   "outputs": []
  },
  {
   "cell_type": "code",
   "execution_count": null,
   "id": "054772f4",
   "metadata": {},
   "source": [
    "# average across repeats and time\n"
   ],
   "outputs": []
  },
  {
   "cell_type": "markdown",
   "id": "328ccd7d",
   "metadata": {
    "heading_collapsed": true,
    "jp-MarkdownHeadingCollapsed": true,
    "tags": []
   },
   "source": [
    "## Visualize the activity for all units during the inter-trial interval"
   ]
  },
  {
   "cell_type": "code",
   "execution_count": null,
   "id": "7274d528",
   "metadata": {
    "hidden": true
   },
   "source": [
    "free_iti = free.norm_spikes.loc[free.norm_spikes['trial_num'] == 0, ['time_vector'] + free.cells].reset_index(drop=True)\n",
    "trace_raster(free_iti).opts(ylabel=\"Cells\", width=900, height=500)"
   ],
   "outputs": []
  },
  {
   "cell_type": "code",
   "execution_count": null,
   "id": "29a000f5-86a9-40a1-9f2f-fa552991cd04",
   "metadata": {},
   "source": [
    "fixed_iti = fixed.norm_spikes.loc[fixed.norm_spikes['trial_num'] == 0, ['time_vector'] + fixed.cells].reset_index(drop=True)\n",
    "trace_raster(fixed_iti).opts(ylabel=\"Cells\", width=900, height=500)"
   ],
   "outputs": []
  },
  {
   "cell_type": "markdown",
   "id": "7cbfa3e5-14d4-4c67-a2a1-1c18dcd708b0",
   "metadata": {
    "jp-MarkdownHeadingCollapsed": true
   },
   "source": [
    "## Plot the activity of each cell "
   ]
  },
  {
   "cell_type": "code",
   "execution_count": null,
   "id": "f050fc45-abb0-40b4-b08d-cc7262518900",
   "metadata": {},
   "source": [
    "direction_plots = []\n",
    "for cell in free.cells[:2]:\n",
    "    for direction in free.exp_params['direction']:\n",
    "        individual_responses = free.norm_spikes.groupby(['trial_num'])[cell].agg(list)\n",
    "        resp_array = np.array(list(zip_longest(*individual_responses, fillvalue=np.NaN))).T\n",
    "        current_direction = np.nanmean(resp_array, axis=0)\n",
    "        current_sem = sem(resp_array, axis=0, nan_policy='omit')\n",
    "\n",
    "        x = np.arange(resp_array.shape[-1])\n",
    "        plot = hv.Curve(current_direction).opts(ylabel=str(direction), xlabel=\"time\")\n",
    "        plot2 = hv.Spread((x, current_direction, current_sem))\n",
    "        plot.opts(xrotation=45)\n",
    "        direction_plots.append(plot*plot2)\n",
    "\n",
    "hv.Layout(direction_plots).opts(shared_axes=False).cols(len(free.exp_params['direction']))"
   ],
   "outputs": []
  },
  {
   "cell_type": "markdown",
   "id": "b8f0d1c8",
   "metadata": {
    "heading_collapsed": true,
    "jp-MarkdownHeadingCollapsed": true,
    "tags": []
   },
   "source": [
    "## Plot direction selectivity"
   ]
  },
  {
   "cell_type": "code",
   "execution_count": null,
   "id": "b7199406",
   "metadata": {
    "hidden": true,
    "init_cell": true
   },
   "source": [
    "def plot_trial_responses(ds, key, cells=None):\n",
    "    # allocate memory for the cell plots\n",
    "    cell_plots = []\n",
    "\n",
    "    if cells is None:\n",
    "        cells = [el for el in data.columns if 'cell' in el]\n",
    "    num_cells = len(cells)\n",
    "    \n",
    "    tuning = ds.groupby([key])[cells].mean()\n",
    "    tuning_sem = ds.groupby([key])[cells].sem()\n",
    "    percentiles = ds.groupby([key])[cells].quantile(0.07)\n",
    "\n",
    "    # get the baselines - The first column is the inter-trial interval\n",
    "    baselines = percentiles.iloc[0, percentiles.columns.get_loc(cells[0]):percentiles.columns.get_loc(cells[-1])+1]\n",
    "\n",
    "    # Subtract baseline from everything\n",
    "    ds[cells].subtract(baselines, axis=1)\n",
    "    \n",
    "    # Get the mean reponse on each trial\n",
    "    trial_responses = ds.groupby([key, 'trial_num'])[cells].agg(np.nanmean)\n",
    "    # Drop the trial number level and regroup by orientation\n",
    "    trial_responses = trial_responses.droplevel(['trial_num']).groupby([key]).agg(list)\n",
    "    \n",
    "    for cell in cells:\n",
    "        \n",
    "        # get the current cell dActivity and sem\n",
    "        current_cell = tuning.iloc[1:, tuning.columns.get_loc(cell)]\n",
    "        current_sem = tuning_sem.iloc[1:, tuning_sem.columns.get_loc(cell)]\n",
    "        \n",
    "        # get the current cell dActivity\n",
    "        current_cell_trials = trial_responses.iloc[1:, trial_responses.columns.get_loc(cell)].to_list()\n",
    "        current_cell_trials = list_lists_to_array(current_cell_trials)\n",
    "\n",
    "        # get the orientation or direction\n",
    "        label = current_cell.index.to_numpy()\n",
    "        label_by_observation = np.multiply(np.ones(current_cell_trials.shape), label[:, np.newaxis])\n",
    "        \n",
    "        # Create a 2D array of positions and values for scatter plot\n",
    "        X = np.vstack((np.ravel(label_by_observation), np.ravel(current_cell_trials))).T\n",
    "\n",
    "        # plot\n",
    "        if key == 'direction':\n",
    "            x_lim = (-180, 180)\n",
    "        else:\n",
    "            x_lim= (0, 180)\n",
    "            \n",
    "        plot_scatter = hv.Scatter(X).opts(color='r', size=3, xlabel=key, xlim=x_lim, xrotation=45)\n",
    "        plot_mean = hv.Curve((label, current_cell))\n",
    "        plot_sem = hv.Spread((label, current_cell.values, current_sem))\n",
    "        cell_plots.append(plot_scatter*plot_mean*plot_sem)\n",
    "        \n",
    "    return cell_plots"
   ],
   "outputs": []
  },
  {
   "cell_type": "code",
   "execution_count": null,
   "id": "50a4506e",
   "metadata": {
    "hidden": true,
    "pycharm": {
     "name": "#%%\n"
    }
   },
   "source": [
    "# allocate memory for the cell plots\n",
    "cell_plots = []\n",
    "\n",
    "# for all the files\n",
    "for ds in matched_data:\n",
    "    ds_plots = plot_trial_responses(ds, 'direction')\n",
    "    cell_plots.append(ds_plots)\n",
    "        \n",
    "num_cells = len(cell_plots[0])\n",
    "cell_plots = sum(cell_plots, [])\n",
    "hv.Layout(cell_plots).opts(shared_axes=False).cols(num_cells)"
   ],
   "outputs": []
  },
  {
   "cell_type": "markdown",
   "id": "5d096013",
   "metadata": {
    "heading_collapsed": true,
    "jp-MarkdownHeadingCollapsed": true,
    "tags": []
   },
   "source": [
    "## Plot orientation selectivity"
   ]
  },
  {
   "cell_type": "code",
   "execution_count": null,
   "id": "1ff6b09b",
   "metadata": {
    "hidden": true
   },
   "source": [
    "# allocate memory for the cell plots\n",
    "cell_plots = []\n",
    "\n",
    "# for all the files\n",
    "for ds in matched_data:\n",
    "    ds_plots = plot_trial_responses(ds, 'orientation')\n",
    "    cell_plots.append(ds_plots)\n",
    "        \n",
    "num_cells = len(cell_plots[0])\n",
    "cell_plots = sum(cell_plots, [])\n",
    "hv.Layout(cell_plots).opts(shared_axes=False).cols(num_cells)"
   ],
   "outputs": []
  },
  {
   "cell_type": "markdown",
   "id": "c782f233-0c0b-410e-8089-09b83c4faf4c",
   "metadata": {
    "jp-MarkdownHeadingCollapsed": true,
    "tags": []
   },
   "source": [
    "# Tuning with circular variance\n",
    "As seen in Carandini, Rose, Schumacher papers"
   ]
  },
  {
   "cell_type": "markdown",
   "id": "71682f7a-bbc1-47b8-afec-173eea191000",
   "metadata": {
    "tags": []
   },
   "source": [
    "## Circular Functions"
   ]
  },
  {
   "cell_type": "code",
   "execution_count": null,
   "id": "92e59dff-6672-4d42-ae0f-057deb5b2d5c",
   "metadata": {
    "code_folding": [
     0,
     8,
     17,
     22,
     37,
     47,
     75,
     101
    ]
   },
   "source": [
    "def map_statistic(x, func):\n",
    "    x_array = np.array(x)\n",
    "    output = func(x_array, axis=1)\n",
    "    return output"
   ],
   "outputs": []
  },
  {
   "cell_type": "markdown",
   "id": "1bb1443a-06b0-4511-9f23-6e2d17864e33",
   "metadata": {},
   "source": [
    "## Main Loop"
   ]
  },
  {
   "cell_type": "code",
   "execution_count": null,
   "id": "e2413553-ab50-4c36-aee8-6dc3427217d4",
   "metadata": {},
   "source": [
    "def tuning_loop(experiment, key, **kwargs):\n",
    "\n",
    "    for cell_name, cell in list(experiment.cell_props.items()):\n",
    "        calculate_tuning(cell, key, **kwargs)\n",
    "        \n",
    "def calculate_tuning(cell, tuning_kind, data_type='norm_spikes', tuning_fit='von_mises'):\n",
    "    # Get the mean reponse per trial and drop the inter-trial interval from df\n",
    "    activity = getattr(cell, data_type).copy()\n",
    "    trial_activity = activity.groupby([tuning_kind, 'trial_num'])[cell.id].agg(np.nanmean)\n",
    "    trial_activity = trial_activity.droplevel(['trial_num'])\n",
    "    trial_activity = trial_activity.drop(trial_activity[trial_activity.index == -1000].index)\n",
    "    trial_responses = trial_activity.reset_index()\n",
    "\n",
    "    #-- Create the response vectors --#\n",
    "    mean_resp, angles = tuning.generate_response_vector(trial_responses, np.nanmean)\n",
    "    sem_resp, _ = tuning.generate_response_vector(trial_responses, sem, nan_policy='omit')\n",
    "    std_resp, _ = tuning.generate_response_vector(trial_responses, np.std)\n",
    "\n",
    "    # Normalize if cell is responsive. Here we normalize the responses of each cell to the maximum response of the cell on any given trial\n",
    "    if np.max(mean_resp) > 0:\n",
    "        \n",
    "        norm_trial_resp = trial_responses.copy()\n",
    "        norm_trial_resp[cell.id] = normalize(trial_responses[cell.id])\n",
    "        \n",
    "        norm_mean_resp, _ = tuning.generate_response_vector(norm_trial_resp, np.nanmean)\n",
    "        norm_sem_resp, _ = tuning.generate_response_vector(norm_trial_resp, sem, nan_policy='omit')\n",
    "        norm_std_resp, _ = tuning.generate_response_vector(norm_trial_resp, np.std)\n",
    "        \n",
    "    else:\n",
    "        \n",
    "        norm_mean_resp = mean_resp\n",
    "        norm_trial_resp = trial_responses\n",
    "        norm_sem_resp = sem_resp\n",
    "        norm_std_resp = std_resp\n",
    "    \n",
    "    # -- Fit tuning curves to get preference-- #\n",
    "    if 'direction' in tuning_kind:\n",
    "        if tuning_fit == 'von_mises':\n",
    "            fit_function = tuning.calculate_pref_direction_vm\n",
    "        else:\n",
    "            fit_function = tuning.calculate_pref_direction\n",
    "    else:\n",
    "        fit_function = tuning.calculate_pref_orientation\n",
    "\n",
    "    # Calculate fit on whole dataset and get R2\n",
    "    fit, fit_curve, pref_angle, real_pref_angle = fit_function(norm_trial_resp[tuning_kind], norm_trial_resp[cell.id])\n",
    "    fit_r2 = tuning.fit_r2(norm_trial_resp[tuning_kind], norm_trial_resp[cell.id], fit_curve[:,0], fit_curve[:,1])\n",
    "\n",
    "    # -- Get resultant vector and respose variance-- #\n",
    "    thetas = np.deg2rad(norm_trial_resp[tuning_kind])\n",
    "    magnitudes = norm_trial_resp[cell.id]\n",
    "    angle_sep = np.mean(np.diff(thetas))\n",
    "    \n",
    "    resultant_length = circ.resultant_vector_length(thetas, w=magnitudes, d=angle_sep)\n",
    "    resultant_angle = circ.mean(thetas, w=magnitudes, d=angle_sep)\n",
    "    resultant_angle = np.rad2deg(resultant_angle)\n",
    "\n",
    "    circ_var = circ.var(thetas, w=magnitudes, d=angle_sep)\n",
    "    responsivity = 1 - circ_var\n",
    "\n",
    "    # -- Run permutation test -- #\n",
    "    # Here we shuffle the trial IDs and compare the real selectivity index to the bootstrapped distribution\n",
    "    _, shuffled_responsivity = tuning.bootstrap_responsivity(thetas, magnitudes, num_shuffles=500)\n",
    "    p = percentileofscore(shuffled_responsivity, responsivity, kind='mean') / 100.\n",
    "\n",
    "    # Try leave one out\n",
    "\n",
    "    # -- Assign variables to the cell class -- #\n",
    "    tuning_label = tuning_kind.split('_')[0]\n",
    "    \n",
    "    vars = ['trial_resp', 'trial_resp_norm', 'mean', 'mean_norm', 'std', 'std_norm', 'sem', 'sem_norm', \\\n",
    "            'tuning_curve', 'tuning_curve_norm', 'resultant', 'circ_var', 'responsivity', \\\n",
    "            'fit', 'fit_curve', 'fit_r2', 'pref', 'shown_pref']\n",
    "    \n",
    "    data = [trial_responses.to_numpy(), norm_trial_resp.to_numpy(), mean_resp, norm_mean_resp, std_resp, norm_std_resp, sem_resp, norm_sem_resp, \\\n",
    "            np.vstack([angles, mean_resp]).T, np.vstack([angles, norm_mean_resp]).T, (resultant_length, resultant_angle), circ_var, responsivity, \\\n",
    "            fit, fit_curve, fit_r2, pref_angle, real_pref_angle]\n",
    "\n",
    "    df = pd.DataFrame(columns=vars, dtype='object')\n",
    "    df = df.append(dict(zip(vars, data)), ignore_index=True)\n",
    "\n",
    "    setattr(cell, f'{data_type}_{tuning_label}_props', df)"
   ],
   "outputs": []
  },
  {
   "cell_type": "code",
   "execution_count": null,
   "id": "e435c3a6-49cf-44fe-b975-cde8c702566e",
   "metadata": {},
   "source": [
    "%%time\n",
    "keys = ['direction_wrapped', 'orientation']\n",
    "\n",
    "for key in keys:\n",
    "    tuning_loop(fixed, key, data_type='norm_spikes')\n",
    "    tuning_loop(free, key, data_type='norm_spikes_still')"
   ],
   "outputs": []
  },
  {
   "cell_type": "code",
   "execution_count": null,
   "id": "1af1a01d-4f7c-4618-89db-98f7eebd8de1",
   "metadata": {},
   "source": [
    "cell_name, cell = list(fixed.cell_props.items())[-1]\n",
    "direction_plot = plot_tuning_curve_hv(cell.spikes_props.direction_wrapped_tuning_curve_norm,\n",
    "                                     error=cell.spikes_props.direction_wrapped_sem_resp_norm,\n",
    "                                     fit=cell.spikes_props.direction_wrapped_fit_curve, \n",
    "                                     pref_angle=cell.spikes_props.direction_wrapped_pref,\n",
    "                                     trials=cell.spikes_props.direction_wrapped_trial_resp_norm\n",
    "                                     )\n",
    "\n",
    "orientation_plot = plot_tuning_curve_hv(cell.spikes_props.orientation_tuning_curve_norm,\n",
    "                                        error=cell.spikes_props.orientation_sem_resp_norm,\n",
    "                                        fit=cell.spikes_props.orientation_fit_curve, \n",
    "                                        pref_angle=cell.spikes_props.orientation_pref,\n",
    "                                        trials=cell.spikes_props.orientation_trial_resp_norm\n",
    "                                       )\n",
    "hv.Layout([direction_plot + orientation_plot]).opts(shared_axes=False)"
   ],
   "outputs": []
  },
  {
   "cell_type": "code",
   "execution_count": null,
   "id": "c42cc166-fc5b-4ff8-a941-493d936582ee",
   "metadata": {},
   "source": [
    "cell_name, cell = list(fixed.cell_props.items())[-1]\n",
    "fig, axes = plt.subplots(nrows=1, ncols=2, figsize=(12,4))\n",
    "fig = plot_tuning_curve(cell.spikes_props.direction_wrapped_tuning_curve_norm, ax=axes[0],\n",
    "                        error=cell.spikes_props.direction_wrapped_std_resp_norm,\n",
    "                        fit=cell.spikes_props.direction_wrapped_fit_curve, \n",
    "                        pref_angle=cell.spikes_props.direction_wrapped_pref,\n",
    "                        trials=cell.spikes_props.direction_wrapped_trial_resp_norm,\n",
    "                       )\n",
    "fig = plot_tuning_curve(cell.spikes_props.orientation_tuning_curve_norm, ax=axes[1],\n",
    "                        error=cell.spikes_props.orientation_std_resp_norm,\n",
    "                        fit=cell.spikes_props.orientation_fit_curve, \n",
    "                        pref_angle=cell.spikes_props.orientation_pref, \n",
    "                        trials=cell.spikes_props.orientation_trial_resp_norm,\n",
    "                       )"
   ],
   "outputs": []
  },
  {
   "cell_type": "code",
   "execution_count": null,
   "id": "063742f0-bad4-4311-8099-c192e7af706d",
   "metadata": {},
   "source": [
    "cell_name, cell = list(fixed.cell_props.items())[100]\n",
    "fig, axes = plt.subplots(nrows=1, ncols=2, figsize=(12,4), subplot_kw=dict(projection=\"polar\"))\n",
    "fig = plot_polar_tuning_curve(cell.spikes_props.direction_wrapped_tuning_curve_norm, ax=axes[0],\n",
    "                        error=cell.spikes_props.direction_wrapped_std_resp_norm,\n",
    "                        fit=cell.spikes_props.direction_wrapped_fit_curve, \n",
    "                        pref_angle=cell.spikes_props.direction_wrapped_pref,\n",
    "                        trials=cell.spikes_props.direction_wrapped_trial_resp_norm,\n",
    "                       )\n",
    "\n",
    "fig = plot_polar_tuning_curve(cell.spikes_props.orientation_tuning_curve_norm, ax=axes[1],\n",
    "                        error=cell.spikes_props.orientation_std_resp_norm,\n",
    "                        fit=cell.spikes_props.orientation_fit_curve, \n",
    "                        pref_angle=cell.spikes_props.orientation_pref, \n",
    "                        trials=cell.spikes_props.orientation_trial_resp_norm,\n",
    "                        theta_max=180\n",
    "                       )"
   ],
   "outputs": []
  },
  {
   "cell_type": "code",
   "execution_count": null,
   "id": "e6c7cb05-643b-4ebe-86ff-eb39ce5edb14",
   "metadata": {},
   "source": [
    "cell_name, cell = list(free.cell_props.items())[0]\n",
    "fig1 = fp.plot_polar(cell.spikes_props.direction_wrapped_tuning_curve)\n",
    "ax = fig1.gca()\n",
    "mag, dir = cell.spikes_props.direction_wrapped_resultant\n",
    "ax.arrow(np.deg2rad(dir), 0, 0, mag, width = 0.2, facecolor = 'red', lw=1, head_length=0.05)\n",
    "plt.polar(np.deg2rad(cell.spikes_props.direction_wrapped_fit_curve[:,0]), cell.spikes_props.direction_wrapped_fit_curve[:,1], color='r')\n",
    "\n",
    "ax.set_theta_zero_location(\"W\")\n",
    "ax.set_theta_direction(-1)"
   ],
   "outputs": []
  },
  {
   "cell_type": "code",
   "execution_count": null,
   "id": "0f0b0c35-1638-4aba-96db-dd9c4acb5976",
   "metadata": {},
   "source": [
    "cell_name, cell = list(fixed.cell_props.items())[200]\n",
    "trial_resp_dir = cell.spikes_props.direction_wrapped_trial_resp_norm\n",
    "trial_resp_ori = cell.spikes_props.orientation_trial_resp_norm\n",
    "\n",
    "\n",
    "fig, axes = plt.subplots(nrows=1, ncols=2, figsize=(15,5) , subplot_kw=dict(projection=\"polar\"))\n",
    "\n",
    "fit, fit_curve, pref_angle, real_pref_angle = tuning.calculate_pref_direction_vm(trial_resp_dir[:,0], trial_resp_dir[:,1])\n",
    "fig = plot_polar_tuning_curve(cell.spikes_props.direction_wrapped_tuning_curve_norm, ax=axes[0],\n",
    "                        error=cell.spikes_props.direction_wrapped_std_resp_norm,\n",
    "                        fit=fit_curve,\n",
    "                        pref_angle=pref_angle,\n",
    "                        trials=cell.spikes_props.direction_wrapped_trial_resp_norm,\n",
    "                       )\n",
    "\n",
    "# fit, fit_curve, pref_angle, real_pref_angle = tuning.calculate_pref_orientation(trial_resp_ori[:,0], trial_resp_ori[:,1])\n",
    "fig = plot_polar_tuning_curve(cell.spikes_props.orientation_tuning_curve_norm, ax=axes[1],\n",
    "                        error=cell.spikes_props.orientation_std_resp_norm,\n",
    "                        fit=cell.spikes_props.orientation_fit_curve, \n",
    "                        pref_angle=cell.spikes_props.orientation_pref, \n",
    "                        trials=cell.spikes_props.orientation_trial_resp_norm,\n",
    "                        theta_max=180\n",
    "                       )"
   ],
   "outputs": []
  },
  {
   "cell_type": "code",
   "execution_count": null,
   "id": "963bee96-33da-43eb-aea2-69b659ae1d1b",
   "metadata": {},
   "source": [
    "bins = np.linspace(0, max(responsivity, np.max(shuffled_responsivity)), retstep=0.2)[0]\n",
    "values, bins, _ = plt.hist(shuffled_responsivity, bins=bins, edgecolor='k', linewidth=1)\n",
    "plt.axvline(responsivity, color='r', linewidth=3)\n",
    "plt.xlabel('1 - circ_var')\n",
    "plt.ylabel('# of runs')\n",
    "plt.text(0, 200, str(p)) \n",
    "plt.show()"
   ],
   "outputs": []
  },
  {
   "cell_type": "code",
   "execution_count": null,
   "id": "2bb04dff",
   "metadata": {},
   "source": [
    "# allocate memory for the cell plots\n",
    "cell_plots = []\n",
    "\n",
    "# for all the files\n",
    "for ds in df_list_circvar:\n",
    "    for i, cell in ds.iterrows():\n",
    "        \n",
    "        cell_plot = plot_tuning_curve_hv(cell.ori_tuning_curve,\n",
    "                                         sem=cell.ori_sem,\n",
    "                                         fit=cell.ori_fit_curve, \n",
    "                                         pref_angle=cell.ori_pref)\n",
    "        \n",
    "        cell_plots.append(cell_plot.opts(xlim=(0,180), xlabel=\"angle [deg]\", title=str(cell.cell)))\n",
    "        \n",
    "num_cells = np.max([len(ds.cell.unique()) for ds in df_list_circvar])\n",
    "hv.Layout(cell_plots).opts(shared_axes=False).cols(num_cells)"
   ],
   "outputs": []
  },
  {
   "cell_type": "code",
   "execution_count": null,
   "id": "9a325af8",
   "metadata": {},
   "source": [
    "# allocate memory for the cell plots\n",
    "cell_plots = []\n",
    "\n",
    "# for all the files\n",
    "for ds in df_list_circvar:\n",
    "    for i, cell in ds.iterrows():\n",
    "        \n",
    "        cell_plot = plot_tuning_curve_hv(cell.dir_tuning_curve, \n",
    "                                         sem=cell.dir_sem,\n",
    "                                         fit=cell.dir_fit_curve, \n",
    "                                         pref_angle=cell.dir_pref)\n",
    "        cell_plots.append(cell_plot.opts(xlim=(0, 360), xlabel=\"angle [deg]\", title=str(cell.cell)))\n",
    "        \n",
    "num_cells = np.max([len(ds.cell.unique()) for ds in df_list_circvar])\n",
    "hv.Layout(cell_plots).opts(shared_axes=False).cols(num_cells)"
   ],
   "outputs": []
  },
  {
   "cell_type": "code",
   "execution_count": null,
   "id": "022b6cdf-a54e-4150-bf58-7d12e28689ea",
   "metadata": {},
   "source": [
    "shared_dir_sel = sig_dir_sel_svd.merge(sig_dir_sel_cv, on='cell', how='left', suffixes=['_svd', '_cv'])\n",
    "shared_ori_sel = sig_ori_sel_svd.merge(sig_ori_sel_cv, on='cell', how='left', suffixes=['_svd', '_cv'])"
   ],
   "outputs": []
  },
  {
   "cell_type": "code",
   "execution_count": null,
   "id": "9b96ed5d-18b8-46c1-8d3b-009f31a59f3c",
   "metadata": {},
   "source": [
    "shared_dir_sel[['cell', 'dir_sel_p', 'dir_pref_svd', 'dir_pref_cv', 'dir_resp']]"
   ],
   "outputs": []
  },
  {
   "cell_type": "code",
   "execution_count": null,
   "id": "2e68dbb5-28ec-4d6f-be4d-398d33fafd6f",
   "metadata": {},
   "source": [
    "shared_dir_sel[['cell', 'ori_sel_p', 'ori_pref_svd', 'ori_pref_cv', 'ori_resp']]"
   ],
   "outputs": []
  },
  {
   "cell_type": "markdown",
   "id": "a9a10f39-8448-4079-b180-a7b2a7981d53",
   "metadata": {
    "jp-MarkdownHeadingCollapsed": true
   },
   "source": [
    "# Population Vector Decoding"
   ]
  },
  {
   "cell_type": "markdown",
   "id": "ed72c272-d923-485a-a2ca-0b7391651db8",
   "metadata": {},
   "source": [
    "Use SVD chosen, direction selective cells"
   ]
  },
  {
   "cell_type": "code",
   "execution_count": null,
   "id": "b38fe7ee-480b-4197-b402-f380126504d5",
   "metadata": {},
   "source": [
    "cell_properties_svd = df_list[-1]\n",
    "# The cutoff of QI here is from the Baden paper\n",
    "sig_dir_sel_svd = cell_properties_svd[(cell_properties_svd.dir_sel_p <= 0.15)].sort_values('dir_sel_p')\n",
    "cell_tuning = sig_dir_sel_svd[['cell', 'dir_pref']].sort_index()\n",
    "tuned_cells = cell_tuning.cell.to_list()\n",
    "dir_prefs = cell_tuning.dir_pref.to_list()"
   ],
   "outputs": []
  },
  {
   "cell_type": "code",
   "execution_count": null,
   "id": "e9c349c8-822b-4bde-83fe-bb5c1b6f9313",
   "metadata": {},
   "source": [
    "print(tuned_cells)\n",
    "print(dir_prefs)"
   ],
   "outputs": []
  },
  {
   "cell_type": "code",
   "execution_count": null,
   "id": "5b2c8dc7-30e0-4f14-9f13-055c779d6e0b",
   "metadata": {},
   "source": [
    "# Get the mean reponse per trial\n",
    "trial_responses = data[-1].groupby(['trial_num'])[['direction'] + tuned_cells].agg(np.nanmean)\n",
    "\n",
    "# Drop the inter-trial interval from df\n",
    "trial_responses = trial_responses.drop(trial_responses[trial_responses.index == 0].index)\n",
    "\n",
    "real_direction = trial_responses.direction.to_numpy()\n",
    "\n",
    "decoded_angles = []\n",
    "for i, row in trial_responses.iterrows():\n",
    "    direction = row.direction\n",
    "    cell_resps = row[tuned_cells]\n",
    "    \n",
    "    #-- Get preferred tuning --#\n",
    "    decoded_length, decoded_angle = get_resultant_vector(np.deg2rad(dir_prefs), cell_resps, 'direction')\n",
    "    decoded_angle = np.rad2deg(decoded_angle)\n",
    "    if decoded_angle > 180:\n",
    "        decoded_angle = decoded_angle % 180 - 180\n",
    "    decoded_angles.append(decoded_angle)\n",
    "    \n",
    "decoded_angles = np.array(decoded_angles)\n",
    "\n",
    "# for cell in cells:\n",
    "\n",
    "#     current_cell_responses = trial_responses.iloc[:, trial_responses.columns.get_loc(cell)]\n",
    "\n",
    "#     # Get mean response across trials\n",
    "#     current_cell_mean_resp = current_cell_responses.groupby([key]).apply(np.nanmean)\n",
    "\n",
    "#     # Normalize responses and fill any NaNs with zeros\n",
    "#     current_cell_mean_resp = current_cell_mean_resp.fillna(0)\n",
    "\n",
    "#     # Get a list of directions/orientations\n",
    "#     angles = current_cell_mean_resp.index.to_numpy()\n",
    "\n",
    "#     # Wrap angles from [-180, 180] to [0, 360] for direction tuning, and sort angles and cell responses\n",
    "#     # Needed for pycircstat toolbox\n",
    "#     angles_wrapped = fk.wrap(angles)\n",
    "#     sort_idx = np.argsort(angles_wrapped)\n",
    "#     angles_sorted = angles_wrapped[sort_idx]\n",
    "\n",
    "#     current_cell_mean_resp = current_cell_mean_resp.to_numpy()\n",
    "#     sorted_mean_resp = current_cell_mean_resp[sort_idx]\n",
    "\n",
    "#     #-- Get preferred tuning --#\n",
    "#     resultant_length, resultant_angle = get_resultant_vector(np.deg2rad(angles_sorted), sorted_mean_resp, key)\n",
    "#     resultant_angle = fk.wrap(np.rad2deg(resultant_angle))\n"
   ],
   "outputs": []
  },
  {
   "cell_type": "code",
   "execution_count": null,
   "id": "e3194fc5-3586-42bc-92cd-e5467756810a",
   "metadata": {},
   "source": [
    "print(real_direction)"
   ],
   "outputs": []
  },
  {
   "cell_type": "code",
   "execution_count": null,
   "id": "de2598c2-b5da-480f-82ee-13c715ff80cc",
   "metadata": {},
   "source": [
    "print(decoded_angles)"
   ],
   "outputs": []
  },
  {
   "cell_type": "code",
   "execution_count": null,
   "id": "3d93f4ee-7ec1-4bad-aca7-795a71388282",
   "metadata": {},
   "source": [
    "real_direction - decoded_angles"
   ],
   "outputs": []
  },
  {
   "cell_type": "code",
   "execution_count": null,
   "id": "9811e443-c8e5-423b-aed3-ebba226df41e",
   "metadata": {},
   "source": [
    "plt.imshow(np.cov(real_direction, decoded_angles))"
   ],
   "outputs": []
  },
  {
   "cell_type": "markdown",
   "id": "8a00dc96",
   "metadata": {
    "heading_collapsed": true,
    "jp-MarkdownHeadingCollapsed": true,
    "tags": []
   },
   "source": [
    "# Polar plots"
   ]
  },
  {
   "cell_type": "code",
   "execution_count": null,
   "id": "c137c1d2",
   "metadata": {
    "hidden": true
   },
   "source": [
    "# Test polar vector sum for direction\n",
    "fig, axes = plt.subplots(nrows=len(data), ncols=len(cells), subplot_kw={'projection': 'polar'}, figsize=(20,40))\n",
    "\n",
    "for j, ds in enumerate(data):\n",
    "    cells = [el for el in ds.columns if 'cell' in el]\n",
    "    tuning = ds.groupby(['direction'])[cells].mean()\n",
    "    tuning_sem = ds.groupby(['direction'])[cells].sem()\n",
    "\n",
    "    for i, cell in enumerate(cells):\n",
    "\n",
    "        baseline = tuning.iloc[0, tuning.columns.get_loc(cell)]\n",
    "        current_cell = tuning.iloc[1:, tuning.columns.get_loc(cell)] - baseline\n",
    "        current_cell -= current_cell.min()\n",
    "        current_cell_norm = current_cell / current_cell.max()\n",
    "        current_sem = (tuning_sem.iloc[1:, tuning_sem.columns.get_loc(cell)])\n",
    "        directions = current_cell.index.to_numpy()\n",
    "        r, theta = polar_vector_sum(current_cell.to_numpy(), directions)\n",
    "\n",
    "        axes[j,i].plot(np.deg2rad(directions), current_cell.to_numpy())\n",
    "        axes[j,i].fill_between(np.deg2rad(directions), current_cell.to_numpy()+current_sem.to_numpy(), current_cell.to_numpy()-current_sem.to_numpy(), alpha=0.2)\n",
    "        axes[j,i].plot([0, np.deg2rad(theta)], [0, current_cell.max()], color='r')\n",
    "        axes[j,i].set_rmin(0)\n",
    "        axes[j,i].set_theta_zero_location(\"W\")\n",
    "        axes[j,i].set_theta_direction(-1)\n",
    "        axes[j,i].set_xticklabels(['0', '45', '90', '135', '+/-180', '-135', '-90', '-45'])\n",
    "        axes[j,i].set_title(cell)\n",
    "\n",
    "plt.tight_layout()"
   ],
   "outputs": []
  },
  {
   "cell_type": "code",
   "execution_count": null,
   "id": "4187f7bc",
   "metadata": {
    "hidden": true
   },
   "source": [
    "# Test polar vector sum for orientation\n",
    "fig, axes = plt.subplots(nrows=len(data), ncols=len(cells), subplot_kw={'projection': 'polar'}, figsize=(20,40))\n",
    "\n",
    "for j, ds in enumerate(data):\n",
    "    cells = [el for el in ds.columns if 'cell' in el]\n",
    "    tuning = ds.groupby(['orientation'])[cells].mean()\n",
    "    tuning_sem = ds.groupby(['orientation'])[cells].sem()\n",
    "\n",
    "    for i, cell in enumerate(cells):\n",
    "\n",
    "        baseline = tuning.iloc[0, tuning.columns.get_loc(cell)]\n",
    "        current_cell = tuning.iloc[1:, tuning.columns.get_loc(cell)] - baseline\n",
    "        current_cell -= current_cell.min()\n",
    "        current_cell_norm = current_cell / current_cell.max()\n",
    "        current_sem = (tuning_sem.iloc[1:, tuning_sem.columns.get_loc(cell)])\n",
    "        directions = current_cell.index.to_numpy()\n",
    "        r, theta = polar_vector_sum(current_cell.to_numpy(), directions)\n",
    "\n",
    "        axes[j,i].plot(np.deg2rad(directions), current_cell.to_numpy())\n",
    "        axes[j,i].fill_between(np.deg2rad(directions), current_cell.to_numpy()+current_sem.to_numpy(), current_cell.to_numpy()-current_sem.to_numpy(), alpha=0.2)\n",
    "        axes[j,i].plot([0, np.deg2rad(theta)], [0, current_cell.max()], color='r')\n",
    "        axes[j,i].set_rmin(0)\n",
    "        axes[j,i].set_theta_zero_location(\"W\")\n",
    "        axes[j,i].set_theta_direction(-1)\n",
    "        axes[j,i].set_thetamax(180)\n",
    "        axes[j,i].set_title(cell)\n"
   ],
   "outputs": []
  }
 ],
 "metadata": {
  "celltoolbar": "Initialization Cell",
  "kernelspec": {
   "display_name": "Python 3 (ipykernel)",
   "language": "python",
   "name": "python3"
  },
  "language_info": {
   "codemirror_mode": {
    "name": "ipython",
    "version": 3
   },
   "file_extension": ".py",
   "mimetype": "text/x-python",
   "name": "python",
   "nbconvert_exporter": "python",
   "pygments_lexer": "ipython3",
   "version": "3.8.16"
  },
  "varInspector": {
   "cols": {
    "lenName": 16,
    "lenType": 16,
    "lenVar": 40
   },
   "kernels_config": {
    "python": {
     "delete_cmd_postfix": "",
     "delete_cmd_prefix": "del ",
     "library": "var_list.py",
     "varRefreshCmd": "print(var_dic_list())"
    },
    "r": {
     "delete_cmd_postfix": ") ",
     "delete_cmd_prefix": "rm(",
     "library": "var_list.r",
     "varRefreshCmd": "cat(var_dic_list()) "
    }
   },
   "position": {
    "height": "383.85px",
    "left": "1265px",
    "right": "20px",
    "top": "157px",
    "width": "558px"
   },
   "types_to_exclude": [
    "module",
    "function",
    "builtin_function_or_method",
    "instance",
    "_Feature"
   ],
   "window_display": false
  }
 },
 "nbformat": 4,
 "nbformat_minor": 5
}

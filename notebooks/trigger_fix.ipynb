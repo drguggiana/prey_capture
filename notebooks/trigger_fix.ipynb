{
 "cells": [
  {
   "cell_type": "code",
   "execution_count": 1,
   "metadata": {
    "ExecuteTime": {
     "end_time": "2023-12-05T12:17:30.925070700Z",
     "start_time": "2023-12-05T12:17:30.905380800Z"
    }
   },
   "outputs": [],
   "source": [
    "%matplotlib widget\n",
    "import os\n",
    "import sys\n",
    "\n",
    "import h5py\n",
    "import pandas as pd \n",
    "import numpy as np\n",
    "import matplotlib.pyplot as plt\n",
    "from skimage import io\n",
    "\n",
    "sys.path.insert(0, os.path.abspath(r'C:/Users/mmccann/repos/bonhoeffer/prey_capture/'))\n",
    "\n",
    "import paths\n",
    "import functions_matching as fm\n",
    "import functions_preprocessing as fp\n",
    "import functions_wirefree_trigger_fix as wf_trig\n",
    "import snakemake_scripts.sub_preprocess_S1 as s1\n",
    "import snakemake_scripts.sub_preprocess_S2 as s2\n",
    "from functions_misc import interp_trace"
   ]
  },
  {
   "cell_type": "code",
   "execution_count": 2,
   "metadata": {
    "ExecuteTime": {
     "end_time": "2023-12-05T12:15:03.385482500Z",
     "start_time": "2023-12-05T12:15:03.338466100Z"
    }
   },
   "outputs": [],
   "source": [
    "def preprocess_selector(ref_path, file_info):\n",
    "    \"\"\"functions that selects the preprocessing function for the first step, either dlc or not\"\"\"\n",
    "    # check if the input has a dlc path or not\n",
    "    if (len(file_info['dlc_path']) > 0 and file_info['dlc_path'] != 'N/A') or \\\n",
    "            os.path.isfile(file_info['avi_path'].replace('.avi', '_dlc.h5')):\n",
    "        # assemble the path here, in case the file wasn't in the database\n",
    "        dlc_path = file_info['avi_path'].replace('.avi', '_dlc.h5')\n",
    "        # select function depending on the rig\n",
    "        if files['rig'] in ['VWheel', 'VWheelWF'] :\n",
    "            # use the eye specific function\n",
    "            traces, corner_out, frame_b = s1.run_preprocess_eye(ref_path, dlc_path, file_info)\n",
    "        else:\n",
    "            # if there's a dlc file, use this preprocessing\n",
    "            traces, corner_out, frame_b = s1.run_dlc_preprocess(ref_path, dlc_path, file_info)\n",
    "    else:\n",
    "        # if not, use the legacy non-dlc preprocessing\n",
    "        output_path, traces = s1.run_preprocess(ref_path, file_info)\n",
    "        # set corners to empty\n",
    "        corner_out = []\n",
    "        # set frame bounds to empty\n",
    "        frame_b = []\n",
    "    return traces, corner_out, frame_b\n",
    "\n",
    "\n",
    "def check_frame_code(frame_code, error_limit=5):\n",
    "    last_change = 0\n",
    "    count = 0\n",
    "    # error_start = 0\n",
    "    start_frame = 0\n",
    "    error_end = 0\n",
    "    end_frame = 0\n",
    "    error_segment = []\n",
    "\n",
    "    for idx, (frame_a, frame_b) in enumerate(zip(frame_code[:-1], frame_code[1:])):\n",
    "        idx += 1\n",
    "        count += 1\n",
    "\n",
    "        # If we are repeating, but within acceptable limits, continue\n",
    "        if (frame_b == frame_a) and (count <= error_limit):\n",
    "            # Do nothing\n",
    "            pass\n",
    "\n",
    "        # If we find a change in frame number within the acceptable repeat length, reset the count and record the last change\n",
    "        elif (frame_b != frame_a) and (count <= error_limit):\n",
    "            last_change = idx\n",
    "            count = 0\n",
    "\n",
    "        # If the frame is repeated for more than n frames, start recording the error region\n",
    "        elif (frame_b == frame_a) and (count > error_limit):\n",
    "            # Do nothing\n",
    "            pass\n",
    "\n",
    "        elif (frame_b != frame_a)  and (count > error_limit):\n",
    "            error_end = idx\n",
    "            start_frame = frame_a\n",
    "            end_frame = frame_b\n",
    "            \n",
    "            error_segment.append([last_change, start_frame, error_end, end_frame])\n",
    "            \n",
    "            count = 0\n",
    "\n",
    "        else:\n",
    "            pass\n",
    "                \n",
    "    return np.array(error_segment)\n",
    "   \n",
    "\n",
    "def generate_trigger_sequence(start_num, max_val=3):\n",
    "    seq_list = []\n",
    "    for i in np.arange(max_val + 1):\n",
    "        if i == 0:\n",
    "            seq_list.append(start_num)\n",
    "        else:\n",
    "            if seq_list[i-1] < max_val:\n",
    "                seq_list.append(seq_list[i-1] + 1)\n",
    "            else:\n",
    "                seq_list.append(0)\n",
    "    return seq_list\n",
    "\n",
    "\n",
    "def fix_lost_sync_triggers(error_segments, trigger_code):\n",
    "    for err_seg in error_segments:\n",
    "        start_idx  = err_seg[0]\n",
    "        start_frame = err_seg[1]\n",
    "        end_idx = err_seg[2]\n",
    "        end_frame = err_seg[3]\n",
    "        length = end_idx - start_idx\n",
    "\n",
    "        r = 4    # Repeat factor (empirically determined)\n",
    "        seq = generate_trigger_sequence(start_frame)\n",
    "        repeat_seq = np.repeat(seq, r)\n",
    "\n",
    "        # Generate a vector of \"triggers\" that matches the theoretical sequence\n",
    "        replacement_seq = np.tile(repeat_seq, np.ceil(length/len(seq)/r).astype(int))[:length]\n",
    "\n",
    "        replacement_seq_end = replacement_seq[-1]\n",
    "        if replacement_seq_end in [0, 1, 2]:\n",
    "            # Consider this good\n",
    "            if (replacement_seq_end == end_frame) or (replacement_seq_end == end_frame - 1):\n",
    "                trigger_code[start_idx:end_idx] = replacement_seq\n",
    "            else:\n",
    "                # Hacky hacky\n",
    "                replacement_seq[-1:] = end_frame - 1\n",
    "                trigger_code[start_idx:end_idx] = replacement_seq\n",
    "        if replacement_seq_end == 3:\n",
    "            if (replacement_seq_end == end_frame) or (end_frame == 0):\n",
    "                trigger_code[start_idx:end_idx] = replacement_seq\n",
    "            else:\n",
    "                replacement_seq[-1:] = 0\n",
    "                trigger_code[start_idx:end_idx] = replacement_seq\n",
    "\n",
    "    return trigger_code"
   ]
  },
  {
   "cell_type": "code",
   "execution_count": 3,
   "metadata": {
    "ExecuteTime": {
     "end_time": "2023-12-05T12:20:30.876059Z",
     "start_time": "2023-12-05T12:20:30.861061Z"
    }
   },
   "outputs": [],
   "source": [
    "basedir = paths.vrexperiment_path\n",
    "basename = r'01_11_2023_12_13_01_VWheelWF_MM_221109_a_fixed1_gabor'\n",
    "\n",
    "sync_path = os.path.join(basedir, basename.replace('VWheelWF', 'syncVWheelWF') + '.csv')\n",
    "track_path = os.path.join(basedir, basename + '.txt')\n",
    "tif_path = os.path.join(basedir, basename + '.tif')\n",
    "avi_path = os.path.join(basedir, basename + '.avi')\n",
    "screen_path = os.path.join(basedir, basename + '.h5')\n",
    "dlc_path = os.path.join(basedir, basename + '_dlc.h5')\n",
    "calcium_path = os.path.join(basedir, basename + '_calcium.hdf5')\n",
    "\n",
    "files = {'sync_path':sync_path,\n",
    "        'track_path': track_path,\n",
    "        'screen_path':screen_path,\n",
    "        'dlc_path':dlc_path,\n",
    "        'avi_path': avi_path,\n",
    "        'result': 'free0',\n",
    "        'rig': 'VTuningWF',\n",
    "        'imaging': 'wirefree',\n",
    "        'notes': 'gabor_crickets_0_vrcrickets_0',\n",
    "        'date': '2023-08-31T12:35:13Z'}"
   ]
  },
  {
   "cell_type": "code",
   "execution_count": null,
   "metadata": {
    "ExecuteTime": {
     "end_time": "2023-12-05T12:20:44.485487600Z",
     "start_time": "2023-12-05T12:20:32.882337400Z"
    }
   },
   "outputs": [],
   "source": [
    "# load the data for the trial structure and parameters\n",
    "trials = pd.read_hdf(files['screen_path'], key='trial_set')\n",
    "params = pd.read_hdf(files['screen_path'], key='params')\n",
    "\n",
    "# get the video tracking data\n",
    "filtered_traces, px_corners, frame_bounds = preprocess_selector(files['avi_path'], files)\n",
    "\n",
    "# define the dimensions of the arena\n",
    "manual_coordinates = paths.arena_coordinates['VTuningWF']\n",
    "\n",
    "# get the motive tracking data\n",
    "motive_traces, reference_coordinates, obstacle_coordinates = \\\n",
    "    s1.extract_motive(files['track_path'], files['rig'])\n",
    "\n",
    "# scale the traces accordingly\n",
    "filtered_traces, corners = \\\n",
    "    fp.rescale_pixels(filtered_traces, files, manual_coordinates, px_corners.to_numpy().T)\n",
    "\n",
    "# align them temporally based on the sync file\n",
    "filtered_traces = fm.match_motive_2(motive_traces, files['sync_path'], filtered_traces)\n",
    "\n",
    "# run the preprocessing kinematic calculations\n",
    "# also saves the data\n",
    "kinematics_data, real_crickets, vr_crickets = s2.kinematic_calculations(filtered_traces)\n",
    "\n",
    "# get a dataframe with the calcium data matched to the bonsai data\n",
    "matched_calcium, roi_info = fm.match_calcium_wf(calcium_path, files['sync_path'], kinematics_data, trials=trials)\n",
    "_ = wf_trig.get_trial_duration_stats(matched_calcium, 'trial_num', 'time_vector')"
   ]
  },
  {
   "cell_type": "code",
   "execution_count": null,
   "metadata": {
    "ExecuteTime": {
     "end_time": "2023-12-05T12:21:03.922560200Z",
     "start_time": "2023-12-05T12:21:03.795562Z"
    }
   },
   "outputs": [],
   "source": [
    "duration_stats_motive = wf_trig.get_trial_duration_stats(motive_traces, 'trial_num', 'time_m')\n",
    "duration_stats_kinem = wf_trig.get_trial_duration_stats(kinematics_data, 'trial_num', 'time_vector')\n",
    "duration_stats_matched_ca = wf_trig.get_trial_duration_stats(matched_calcium, 'trial_num', 'time_vector')\n",
    "\n",
    "print(np.allclose(duration_stats_motive, duration_stats_kinem,  rtol=1e-1, atol=1e-2))\n",
    "print(np.allclose(duration_stats_kinem, duration_stats_matched_ca,  rtol=1e-1, atol=1e-2))"
   ]
  },
  {
   "cell_type": "markdown",
   "metadata": {},
   "source": [
    "## explode match_motive_2 to debug"
   ]
  },
  {
   "cell_type": "code",
   "execution_count": null,
   "metadata": {},
   "outputs": [],
   "source": [
    "kinematics_data = filtered_traces\n",
    "\n",
    "# find the first motive frame\n",
    "first_motive = np.argwhere(motive_traces.loc[:, 'trial_num'].to_numpy() == 0)[0][0]\n",
    "# exclude the last frame if it managed to include a single frame of 0\n",
    "last_motive = -1 if motive_traces.loc[motive_traces.shape[0] - 1, 'trial_num'] == 0 else motive_traces.shape[0]\n",
    "# trim the motive frames to the start and end of the experiment\n",
    "trimmed_traces = motive_traces.iloc[first_motive:last_motive, :].reset_index(drop=True)\n",
    "# TODO: remove this for regular trials, only here for 21.2.2022 ones\n",
    "if np.max(trimmed_traces.loc[:, 'color_factor']) > 81:\n",
    "    trimmed_traces.loc[:, 'color_factor'] = trimmed_traces.loc[:, 'color_factor'] / 255\n",
    "# normalize the number to 0 1 2 3 range\n",
    "trimmed_traces.loc[:, 'color_factor'] = np.array([int('0b' + format(int(el) - 1, '#09b')[2] +\n",
    "                                                        format(int(el) - 1, '#09b')[4], 2)\n",
    "                                                    if el > 0 else 0 for el in trimmed_traces.loc[:, 'color_factor']])\n",
    "\n",
    "# load the sync data\n",
    "sync_data = pd.read_csv(sync_path, names=['Time', 'projector_frames', 'camera_frames',\n",
    "                                            'sync_trigger', 'mini_frames', 'wheel_frames', 'projector_frames_2'],\n",
    "                        index_col=False)\n",
    "# get the camera frames (as the indexes from sync_frames are referenced for the uncut sync_data, see match_dlc)\n",
    "frame_times_cam_sync = sync_data.loc[kinematics_data['sync_frames'].to_numpy(), 'Time'].to_numpy()\n",
    "\n",
    "# get the start and end triggers\n",
    "sync_start = np.argwhere(sync_data.loc[:, 'sync_trigger'].to_numpy() == 1)[0][0] - 1\n",
    "sync_end = np.argwhere(sync_data.loc[:, 'sync_trigger'].to_numpy() == 2)[0][0]\n",
    "\n",
    "# trim the sync data to the experiment\n",
    "sync_data = sync_data.iloc[sync_start:sync_end, :].reset_index(drop=True)\n",
    "\n",
    "# get the motive frame times\n",
    "# TODO: probs remove this later, since all trials should be on the new rig with the 2bit frame encoding\n",
    "if np.any(np.isnan(sync_data['projector_frames_2'])):\n",
    "    # get the frame indexes\n",
    "    idx_code = np.argwhere(np.abs(np.diff(np.round(sync_data.loc[:, 'projector_frames'] / 4))) > 0).squeeze() + 1\n",
    "    # get the frame times\n",
    "    frame_times_motive_sync = sync_data.loc[idx_code, 'Time'].to_numpy()\n",
    "    # if the number of frames doesn't match, trim from the end\n",
    "    if trimmed_traces.shape[0] > frame_times_motive_sync.shape[0]:\n",
    "        trimmed_traces = trimmed_traces.iloc[-frame_times_motive_sync.shape[0]:, :]\n",
    "    elif trimmed_traces.shape[0] < frame_times_motive_sync.shape[0]:\n",
    "        frame_times_motive_sync = frame_times_motive_sync[-trimmed_traces.shape[0]:]\n",
    "\n",
    "else:\n",
    "    # This is all from sync file\n",
    "    # binarize both frame streams\n",
    "    frames_0 = np.round(sync_data.loc[:, 'projector_frames'] / 4).astype(int) * 2\n",
    "    frames_1 = np.round(sync_data.loc[:, 'projector_frames_2'] / 4).astype(int)\n",
    "    # assemble the actual sequence\n",
    "    frame_code = (frames_0 | frames_1).to_numpy()"
   ]
  },
  {
   "cell_type": "code",
   "execution_count": null,
   "metadata": {},
   "outputs": [],
   "source": [
    "kinematics_data = filtered_traces\n",
    "\n",
    "# find the first motive frame\n",
    "first_motive = np.argwhere(motive_traces.loc[:, 'trial_num'].to_numpy() == 0)[0][0]\n",
    "# exclude the last frame if it managed to include a single frame of 0\n",
    "last_motive = -1 if motive_traces.loc[motive_traces.shape[0] - 1, 'trial_num'] == 0 else motive_traces.shape[0]\n",
    "# trim the motive frames to the start and end of the experiment\n",
    "trimmed_traces = motive_traces.iloc[first_motive:last_motive, :].reset_index(drop=True)\n",
    "# TODO: remove this for regular trials, only here for 21.2.2022 ones\n",
    "if np.max(trimmed_traces.loc[:, 'color_factor']) > 81:\n",
    "    trimmed_traces.loc[:, 'color_factor'] = trimmed_traces.loc[:, 'color_factor'] / 255\n",
    "# normalize the number to 0 1 2 3 range\n",
    "trimmed_traces.loc[:, 'color_factor'] = np.array([int('0b' + format(int(el) - 1, '#09b')[2] +\n",
    "                                                        format(int(el) - 1, '#09b')[4], 2)\n",
    "                                                    if el > 0 else 0 for el in trimmed_traces.loc[:, 'color_factor']])\n",
    "\n",
    "# load the sync data\n",
    "sync_data = pd.read_csv(sync_path, names=['Time', 'projector_frames', 'camera_frames',\n",
    "                                            'sync_trigger', 'mini_frames', 'wheel_frames', 'projector_frames_2'],\n",
    "                        index_col=False)\n",
    "# get the camera frames (as the indexes from sync_frames are referenced for the uncut sync_data, see match_dlc)\n",
    "frame_times_cam_sync = sync_data.loc[kinematics_data['sync_frames'].to_numpy(), 'Time'].to_numpy()\n",
    "\n",
    "# get the start and end triggers\n",
    "sync_start = np.argwhere(sync_data.loc[:, 'sync_trigger'].to_numpy() == 1)[0][0] - 1\n",
    "sync_end = np.argwhere(sync_data.loc[:, 'sync_trigger'].to_numpy() == 2)[0][0]\n",
    "\n",
    "# trim the sync data to the experiment\n",
    "sync_data = sync_data.iloc[sync_start:sync_end, :].reset_index(drop=True)\n",
    "\n",
    "# get the motive frame times\n",
    "# TODO: probs remove this later, since all trials should be on the new rig with the 2bit frame encoding\n",
    "if np.any(np.isnan(sync_data['projector_frames_2'])):\n",
    "    # get the frame indexes\n",
    "    idx_code = np.argwhere(np.abs(np.diff(np.round(sync_data.loc[:, 'projector_frames'] / 4))) > 0).squeeze() + 1\n",
    "    # get the frame times\n",
    "    frame_times_motive_sync = sync_data.loc[idx_code, 'Time'].to_numpy()\n",
    "    # if the number of frames doesn't match, trim from the end\n",
    "    if trimmed_traces.shape[0] > frame_times_motive_sync.shape[0]:\n",
    "        trimmed_traces = trimmed_traces.iloc[-frame_times_motive_sync.shape[0]:, :]\n",
    "    elif trimmed_traces.shape[0] < frame_times_motive_sync.shape[0]:\n",
    "        frame_times_motive_sync = frame_times_motive_sync[-trimmed_traces.shape[0]:]\n",
    "\n",
    "else:\n",
    "    # This is all from sync file\n",
    "    # binarize both frame streams\n",
    "    frames_0 = np.round(sync_data.loc[:, 'projector_frames'] / 4).astype(int) * 2\n",
    "    frames_1 = np.round(sync_data.loc[:, 'projector_frames_2'] / 4).astype(int)\n",
    "    # assemble the actual sequence\n",
    "    frame_code = (frames_0 | frames_1).to_numpy()\n",
    "\n",
    "    # NEED TO FIND WHERE CONSECUTIVE CODES EXCEED THRESHOLD AND FIX\n",
    "    # Found that in general, the sync frame code dwells for 3 or 4 frames per code. \n",
    "    # We can generate a sequnce bewteen the start and end codes that should somewhat match the real triggers\n",
    "    error_segments_sync = check_frame_code(frame_code, error_limit=7)\n",
    "    frame_code = fix_lost_sync_triggers(error_segments_sync, frame_code)\n",
    "    error_segments_sync_2 = check_frame_code(frame_code, error_limit=7)\n",
    "\n",
    "    # TODO: turn this into a function\n",
    "    fixed_code = frame_code.copy()\n",
    "\n",
    "    # for all the frames\n",
    "    for idx, frame in enumerate(frame_code[1:-1]):\n",
    "        idx += 1\n",
    "        # if it's the same number as before, skip\n",
    "        if frame == fixed_code[idx - 1]:\n",
    "            continue\n",
    "        # if the numbers before and after are equal\n",
    "        if fixed_code[idx - 1] == frame_code[idx + 1]:\n",
    "            # replace this position by the repeated number cause it's likely a mistake\n",
    "            fixed_code[idx] = frame_code[idx - 1]\n",
    "            continue\n",
    "        # if not, start filtering\n",
    "        # first check for 0-2, cause 3 is a special case\n",
    "        if fixed_code[idx - 1] in [0, 1, 2]:\n",
    "            if frame != fixed_code[idx - 1] + 1:\n",
    "                fixed_code[idx] = fixed_code[idx - 1] + 1\n",
    "                continue\n",
    "        else:\n",
    "            if frame != 0:\n",
    "                fixed_code[idx] = 0\n",
    "                continue\n",
    "\n",
    "    # get the motive-based frame code in sync\n",
    "    idx_code = np.argwhere(np.abs(np.diff(fixed_code)) > 0).squeeze() + 1\n",
    "    motive_code = fixed_code[idx_code]\n",
    "    # if the frame numbers don't match, find the first motive color number and match that\n",
    "    last_number = trimmed_traces.loc[trimmed_traces.shape[0] - 1, 'color_factor']\n",
    "    # trim the idx based on the last appearance of the last_number in motive_code\n",
    "    trim_idx = np.argwhere(motive_code == last_number)[-1][0] + 1\n",
    "    idx_code = idx_code[-(trimmed_traces.shape[0] + 1):trim_idx]\n",
    "    # if idx_code.shape[0] < trimmed_traces.shape[0]:\n",
    "    #\n",
    "    #     # get the difference in frames\n",
    "    #     delta_frames = trimmed_traces.shape[0] - idx_code.shape[0]\n",
    "    #     # get trimmed traces trimmed\n",
    "    #     idx_code = idx_code[delta_frames:]\n",
    "    # display_code = fixed_code[idx_code]\n",
    "    \n",
    "    # get the frame times\n",
    "    frame_times_motive_sync = sync_data.loc[idx_code, 'Time'].to_numpy()\n",
    "    \n",
    "    # trim the motive frames to be contained within the camera frames\n",
    "    if frame_times_motive_sync[0] < frame_times_cam_sync[0]:\n",
    "        start_idx = np.argwhere(frame_times_motive_sync > frame_times_cam_sync[0])[0][0]\n",
    "        frame_times_motive_sync = frame_times_motive_sync[start_idx:]\n",
    "        idx_code = idx_code[start_idx:]\n",
    "        trimmed_traces = trimmed_traces.iloc[start_idx:, :].reset_index(drop=True)\n",
    "    \n",
    "    if frame_times_motive_sync[-1] > frame_times_cam_sync[-1]:\n",
    "        end_idx = np.argwhere(frame_times_motive_sync < frame_times_cam_sync[-1])[-1][0] + 1\n",
    "        frame_times_motive_sync = frame_times_motive_sync[:end_idx]\n",
    "        idx_code = idx_code[:end_idx]\n",
    "        trimmed_traces = trimmed_traces.iloc[:end_idx, :].reset_index(drop=True)\n",
    "\n",
    "    if trimmed_traces.shape[0] > frame_times_motive_sync.shape[0]:\n",
    "        delta_frames = trimmed_traces.shape[0] - frame_times_motive_sync.shape[0]\n",
    "        trimmed_traces = trimmed_traces.iloc[delta_frames:, :].reset_index(drop=True)\n",
    "\n",
    "# interpolate the camera traces to match the unity frames\n",
    "matched_camera = kinematics_data.drop(['time_vector', 'mouse', 'datetime', 'sync_frames'],\n",
    "                                        axis=1).apply(interp_trace, raw=False, args=(frame_times_cam_sync,\n",
    "                                                                                    frame_times_motive_sync))\n",
    "\n",
    "# add the correct time vector from the interpolated traces\n",
    "matched_camera['time_vector'] = frame_times_motive_sync\n",
    "matched_camera['mouse'] = kinematics_data.loc[kinematics_data.index[0], 'mouse']\n",
    "matched_camera['datetime'] = kinematics_data.loc[kinematics_data.index[0], 'datetime']\n",
    "# correct the frame indexes to work with the untrimmed sync file\n",
    "idx_code += sync_start\n",
    "matched_camera['sync_frames'] = idx_code\n",
    "\n",
    "# concatenate both data frames\n",
    "full_dataframe = pd.concat([matched_camera, trimmed_traces.drop(['time_m', 'color_factor'], axis=1)], axis=1)\n",
    "\n",
    "# reset the time vector\n",
    "old_time = full_dataframe['time_vector']\n",
    "full_dataframe['time_vector'] = np.array([el - old_time[0] for el in old_time])\n"
   ]
  },
  {
   "cell_type": "code",
   "execution_count": null,
   "metadata": {},
   "outputs": [],
   "source": [
    "fig = plt.figure()\n",
    "ax = fig.add_subplot(211)\n",
    "# ax.scatter(sync_data.loc[:, 'Time'], sync_data.loc[:, 'projector_frames'])\n",
    "ax.scatter(sync_data.loc[:, 'Time'], sync_data.loc[:, 'camera_frames'])\n",
    "ax.scatter(sync_data.loc[:, 'Time'], np.round(sync_data.loc[:, 'projector_frames']/4)*4)\n",
    "ax.scatter(frame_times_motive_sync, np.ones_like(frame_times_motive_sync))\n",
    "\n",
    "fig2 = plt.figure()\n",
    "ax = fig2.add_subplot(211)\n",
    "# ax.plot(np.diff(motive_traces.loc[:, 'time_m']))\n",
    "ax.plot(frame_times_motive_sync[1:], np.diff(frame_times_motive_sync))\n",
    "\n",
    "fig3 = plt.figure()\n",
    "ax = fig3.add_subplot(211)\n",
    "ax.plot(sync_data.loc[1:, 'Time'], np.diff(frame_code))\n",
    "ax.plot(sync_data.loc[1:, 'Time'], np.diff(fixed_code))\n",
    "\n",
    "fig4 = plt.figure()\n",
    "ax = fig4.add_subplot(211)\n",
    "# ax.plot(sync_data.loc[:, 'Time'], sync_data.loc[:, 'projector_frames'])\n",
    "ax.plot(sync_data.loc[:, 'Time'], sync_data.loc[:, 'sync_trigger'])\n",
    "ax.scatter(frame_times_motive_sync, np.ones_like(frame_times_motive_sync))\n",
    "\n",
    "\n",
    "fig5 = plt.figure()\n",
    "ax = fig5.add_subplot(211)\n",
    "ax.plot(trimmed_traces.loc[:, 'time_m'], trimmed_traces.loc[:, 'trial_num'])\n",
    "# ax.plot(trimmed_traces.loc[:, 'time_m'], trimmed_traces.loc[:, 'sync_trigger'])\n",
    "\n",
    "fig6 = plt.figure()\n",
    "ax = fig6.add_subplot(111)\n",
    "ax.plot(np.diff(motive_code), marker='o')\n"
   ]
  },
  {
   "cell_type": "code",
   "execution_count": null,
   "metadata": {},
   "outputs": [],
   "source": [
    "kinematics_data = full_dataframe.copy()\n",
    "duration_stats_motive = get_trial_duration_stats(motive_traces, 'trial_num', 'time_m')\n",
    "duration_stats_kinem = get_trial_duration_stats(kinematics_data, 'trial_num', 'time_vector')\n",
    "np.allclose(duration_stats_motive, duration_stats_kinem, rtol=1e-1, atol=1e-2)"
   ]
  },
  {
   "cell_type": "markdown",
   "metadata": {},
   "source": [
    "## It's not the kinematics matching that's throwing the error, it's `match_calcium_wf`"
   ]
  },
  {
   "cell_type": "code",
   "execution_count": null,
   "metadata": {},
   "outputs": [],
   "source": [
    "# TODO ERROR ALSO HERE\n",
    "# THIS ONE COMES FROM THE MINISCOPE TRIGGERS FAILING (???)\n",
    "matched_calcium, roi_info = fm.match_calcium_wf(calcium_path, files['sync_path'], kinematics_data, trials=trials)\n",
    "duration_stats_matched_ca = get_trial_duration_stats(matched_calcium, 'trial_num', 'time_vector')\n",
    "\n",
    "print(duration_stats_motive)\n",
    "print(duration_stats_kinem)\n",
    "print(duration_stats_matched_ca)\n",
    "np.allclose(duration_stats_kinem, duration_stats_matched_ca,  rtol=1e-1, atol=1e-2)"
   ]
  },
  {
   "cell_type": "markdown",
   "metadata": {},
   "source": [
    "## Explode 'match_calcium_wf' to debug"
   ]
  },
  {
   "cell_type": "code",
   "execution_count": null,
   "metadata": {
    "ExecuteTime": {
     "end_time": "2023-12-05T12:25:55.864515300Z",
     "start_time": "2023-12-05T12:25:53.767826900Z"
    }
   },
   "outputs": [],
   "source": [
    "# load the calcium data (cells x time), transpose to get time x cells\n",
    "with h5py.File(calcium_path, mode='r') as f:\n",
    "    calcium_data = np.array(f['calcium_data']).T\n",
    "    fluor_data = np.array(f['fluor_data']).T\n",
    "\n",
    "# load the sync data\n",
    "sync_data = pd.read_csv(sync_path, header=None)\n",
    "if sync_data.shape[1] == 3:\n",
    "    sync_data.columns = ['Time', 'mini_frames', 'camera_frames']\n",
    "elif sync_data.shape[1] == 6:\n",
    "    # TODO: only for files from 21.02.2022\n",
    "    sync_data.columns = ['Time', 'projector_frames', 'camera_frames',\n",
    "                            'sync_trigger', 'mini_frames', 'wheel_frames']\n",
    "else:\n",
    "    sync_data.columns = ['Time', 'projector_frames', 'camera_frames',\n",
    "                            'sync_trigger', 'mini_frames', 'wheel_frames', 'projector_frames_2']\n",
    "\n",
    "# get the camera frame times\n",
    "frame_idx_camera_sync = kinematics_data['sync_frames'].to_numpy().astype(int)\n",
    "frame_times_camera_sync = sync_data.loc[frame_idx_camera_sync, 'Time'].to_numpy()"
   ]
  },
  {
   "cell_type": "code",
   "execution_count": null,
   "metadata": {
    "ExecuteTime": {
     "end_time": "2023-12-05T12:25:58.834968Z",
     "start_time": "2023-12-05T12:25:57.986904800Z"
    }
   },
   "outputs": [],
   "source": [
    "%matplotlib widget\n",
    "# Sometimes there are weird segments where the mini frame triggers aren't recorded in the middle of a session. \n",
    "# These are large gaps that are obvious\n",
    "# get the miniscope frame indexes from the sync file\n",
    "fig = plt.figure()\n",
    "mini_frame_triggers = np.round(sync_data.loc[:, 'mini_frames']).astype(int)\n",
    "plt.plot(mini_frame_triggers)\n",
    "plt.show()\n"
   ]
  },
  {
   "cell_type": "code",
   "execution_count": null,
   "metadata": {
    "ExecuteTime": {
     "end_time": "2023-12-05T12:26:04.936770400Z",
     "start_time": "2023-12-05T12:26:04.884065600Z"
    }
   },
   "outputs": [],
   "source": [
    "frame_idx_mini_sync = np.argwhere(np.diff(np.round(sync_data.loc[:, 'mini_frames'])) > 0).squeeze() + 1\n",
    "print(calcium_data.shape[0])\n",
    "print(np.sum(mini_frame_triggers > 0))\n",
    "print(frame_idx_mini_sync.shape[0])"
   ]
  },
  {
   "cell_type": "code",
   "execution_count": null,
   "metadata": {
    "ExecuteTime": {
     "end_time": "2023-12-05T12:28:29.149979900Z",
     "start_time": "2023-12-05T12:28:29.120879200Z"
    }
   },
   "outputs": [],
   "source": [
    " # get the miniscope frame indexes from the sync file\n",
    "frame_idx_mini_sync = np.argwhere(np.diff(np.round(sync_data.loc[:, 'mini_frames'])) > 0).squeeze() + 1\n",
    "frame_times_mini_sync = sync_data.loc[frame_idx_mini_sync, 'Time'].to_numpy()\n",
    "# interpolate missing triggers (based on experience)\n",
    "# frame_idx_mini_sync = np.round(interpolate_frame_triggers(frame_idx_mini_sync)).astype(int)\n",
    "# print(frame_idx_mini_sync.shape[0])"
   ]
  },
  {
   "cell_type": "code",
   "execution_count": null,
   "metadata": {
    "ExecuteTime": {
     "end_time": "2023-12-05T12:28:30.765561200Z",
     "start_time": "2023-12-05T12:28:30.734254200Z"
    }
   },
   "outputs": [],
   "source": [
    "print(frame_idx_mini_sync[0], frame_idx_mini_sync[-1])\n",
    "print(frame_idx_camera_sync[0], frame_idx_camera_sync[-1])\n",
    "print(calcium_data.shape[0])\n",
    "\n",
    "# correct for the calcium starting before and/or ending after the behavior\n",
    "if frame_idx_mini_sync[0] < frame_idx_camera_sync[0]:\n",
    "    start_idx = np.argwhere(frame_idx_mini_sync > frame_idx_camera_sync[0])[0][0]\n",
    "    print(start_idx)\n",
    "    frame_idx_mini_sync = frame_idx_mini_sync[start_idx:]\n",
    "    calcium_data = calcium_data[start_idx:, :]\n",
    "    fluor_data = fluor_data[start_idx:, :]\n",
    "\n",
    "if frame_idx_mini_sync[-1] > frame_idx_camera_sync[-1]:\n",
    "    end_idx = np.argwhere(frame_idx_mini_sync < frame_idx_camera_sync[-1])[-1][0] + 1\n",
    "    print(end_idx)\n",
    "    frame_idx_mini_sync = frame_idx_mini_sync[:end_idx]\n",
    "    calcium_data = calcium_data[:end_idx, :]\n",
    "    fluor_data = fluor_data[:end_idx, :]\n",
    "\n",
    "print(frame_idx_mini_sync[0], frame_idx_mini_sync[-1])\n",
    "print(frame_idx_camera_sync[0], frame_idx_camera_sync[-1])\n",
    "\n",
    "print(calcium_data.shape[0])\n",
    "print(frame_idx_mini_sync.shape[0])\n",
    "\n",
    "# get the delta frames with the calcium\n",
    "delta_frames = frame_idx_mini_sync.shape[0] - calcium_data.shape[0]\n",
    "\n",
    "# remove extra detections coming from terminating the calcium mid frame (I think)\n",
    "if delta_frames > 0:\n",
    "    print(f'There were {delta_frames} triggers more than frames on file {os.path.basename(calcium_path)}')\n",
    "    frame_idx_mini_sync = frame_idx_mini_sync[:-delta_frames]\n",
    "elif delta_frames < 0:\n",
    "    print(f'There were {-delta_frames} more frames than triggers on file {os.path.basename(calcium_path)}')\n",
    "    calcium_data = calcium_data[:delta_frames, :]\n",
    "    fluor_data = fluor_data[:delta_frames, :]"
   ]
  },
  {
   "cell_type": "code",
   "execution_count": null,
   "metadata": {
    "ExecuteTime": {
     "end_time": "2023-12-05T12:28:32.375913400Z",
     "start_time": "2023-12-05T12:28:32.269726600Z"
    }
   },
   "outputs": [],
   "source": [
    "fig = plt.figure()\n",
    "plt.plot(frame_times_mini_sync)\n",
    "plt.plot(frame_times_camera_sync)\n",
    "plt.show()"
   ]
  },
  {
   "cell_type": "code",
   "execution_count": null,
   "metadata": {
    "ExecuteTime": {
     "end_time": "2023-12-05T12:33:25.081257500Z",
     "start_time": "2023-12-05T12:33:24.766257600Z"
    }
   },
   "outputs": [],
   "source": [
    "# trim calcium according to the frames left within the behavior\n",
    "calcium_data = calcium_data[frame_idx_mini_sync > frame_idx_camera_sync[0], :]\n",
    "fluor_data = fluor_data[frame_idx_mini_sync > frame_idx_camera_sync[0], :]\n",
    "\n",
    "# and then remove frames before the behavior starts\n",
    "frame_idx_mini_sync = frame_idx_mini_sync[frame_idx_mini_sync > frame_idx_camera_sync[0]]\n",
    "\n",
    "# get the actual mini times\n",
    "frame_times_mini_sync = sync_data.loc[frame_idx_mini_sync, 'Time'].to_numpy()\n",
    "\n",
    "# interpolate the bonsai traces to match the mini frames\n",
    "matched_bonsai = kinematics_data.drop(['time_vector', 'sync_frames', 'mouse', 'datetime'], axis=1).apply(interp_trace, raw=False, args=(frame_times_camera_sync, frame_times_mini_sync))"
   ]
  },
  {
   "cell_type": "code",
   "execution_count": null,
   "metadata": {
    "ExecuteTime": {
     "end_time": "2023-12-05T12:47:50.272913800Z",
     "start_time": "2023-12-05T12:47:50.214966500Z"
    }
   },
   "outputs": [],
   "source": [
    "if trials is not None:\n",
    "\n",
    "    # repair the trial_num column\n",
    "    trial_nums = matched_bonsai.trial_num\n",
    "    real_trials = np.concatenate([[0], trials.index + 1])\n",
    "    incorrect_trial_assignments = ~np.isin(matched_bonsai.loc[:, 'trial_num'], real_trials)\n",
    "    incorrect_trial_idxs = matched_bonsai.index[incorrect_trial_assignments]\n",
    "    \n",
    "    # Check preceding or following frames for the correct trial number\n",
    "    for idx in incorrect_trial_idxs:\n",
    "        trial_val = matched_bonsai.loc[idx, 'trial_num']\n",
    "        rounded_trial = np.round(trial_val)\n",
    "        prec_trial = matched_bonsai.loc[idx - 1, 'trial_num']\n",
    "        next_trial = matched_bonsai.loc[idx + 1, 'trial_num']\n",
    "        \n",
    "        if (rounded_trial == prec_trial) and (next_trial == 0):\n",
    "            matched_bonsai.loc[idx, 'trial_num'] = prec_trial\n",
    "        elif (rounded_trial == next_trial) and (prec_trial == 0):\n",
    "            matched_bonsai.loc[idx, 'trial_num'] = next_trial\n",
    "        elif (rounded_trial == prec_trial) and (rounded_trial == next_trial):\n",
    "            matched_bonsai.loc[idx, 'trial_num'] = prec_trial\n",
    "        else:\n",
    "            matched_bonsai.loc[idx, 'trial_num'] = 0\n",
    "    \n",
    "    matched_bonsai.loc[:, 'trial_num'] = np.round(matched_bonsai.loc[:, 'trial_num'])\n",
    "\n",
    "    # find indexes for each trial number > 0. If there are some that aren't consecutive, fix them\n",
    "    # Seems to be the case the sometimes the transition is split across two frames\n",
    "    for trial in matched_bonsai.trial_num.unique():\n",
    "        indexes = matched_bonsai.index[matched_bonsai.trial_num == trial]\n",
    "        if np.any(np.diff(indexes) != 1):\n",
    "            where_bad = np.argwhere(np.diff(indexes) > 1).squeeze() + 1\n",
    "            matched_bonsai.loc[indexes[where_bad], 'trial_num'] = 0\n",
    "\n",
    "    # # now that the trials are reassigned, add the trial data\n",
    "    matched_bonsai = fm.assign_trial_parameters(matched_bonsai, trials)\n",
    "\n",
    "else:\n",
    "    # round the quadrant vector as it should be discrete\n",
    "    quadrant_columns = [el for el in matched_bonsai.columns if ('_quadrant' in el)]\n",
    "\n",
    "    for el in quadrant_columns:\n",
    "        matched_bonsai[el] = np.round(matched_bonsai[el])\n",
    "\n",
    "    # same for the hunt trace\n",
    "    if 'hunt_trace' in matched_bonsai.columns:\n",
    "        matched_bonsai.loc[:, 'hunt_trace'] = np.round(matched_bonsai.loc[:, 'hunt_trace'])\n",
    "\n",
    "# add the correct time vector from the interpolated traces, plus mouse and datetime\n",
    "matched_bonsai['time_vector'] = frame_times_mini_sync\n",
    "matched_bonsai['mouse'] = kinematics_data.loc[0, 'mouse']\n",
    "matched_bonsai['datetime'] = kinematics_data.loc[0, 'datetime']"
   ]
  },
  {
   "cell_type": "code",
   "execution_count": null,
   "metadata": {},
   "outputs": [],
   "source": [
    "a = matched_bonsai.trial_num.value_counts()"
   ]
  },
  {
   "cell_type": "code",
   "execution_count": null,
   "metadata": {
    "ExecuteTime": {
     "end_time": "2023-12-05T12:45:35.518027800Z",
     "start_time": "2023-12-05T12:45:35.419029800Z"
    }
   },
   "outputs": [],
   "source": [
    "fig = plt.figure()\n",
    "plt.plot(matched_bonsai.time_vector, matched_bonsai.trial_num)\n",
    "plt.plot(matched_bonsai.time_vector, matched_bonsai.trial_num == 5)\n",
    "plt.plot(matched_bonsai.time_vector, matched_bonsai.trial_num == 15)\n",
    "plt.show()"
   ]
  },
  {
   "cell_type": "code",
   "execution_count": null,
   "metadata": {},
   "outputs": [],
   "source": [
    "# print a single dataframe with the calcium matched positions and timestamps\n",
    "cell_column_names = ['_'.join(('cell', f'{el:04d}', 'spikes')) for el in range(calcium_data.shape[1])]\n",
    "calcium_dataframe = pd.DataFrame(calcium_data, columns=cell_column_names)\n",
    "cell_column_names = [col.replace('spikes', 'fluor') for col in cell_column_names]\n",
    "fluorescence_dataframe = pd.DataFrame(fluor_data, columns=cell_column_names)\n",
    "# concatenate both data frames\n",
    "full_dataframe = pd.concat([matched_bonsai, calcium_dataframe, fluorescence_dataframe], axis=1)\n",
    "\n",
    "# reset the time vector\n",
    "old_time = full_dataframe['time_vector']\n",
    "full_dataframe.loc[:, 'time_vector'] = np.array([el - old_time[0] for el in old_time])\n",
    "\n",
    "# turn the roi info into a dataframe\n",
    "roi_info = pd.DataFrame(roi_info, columns=['centroid_x', 'centroid_y',\n",
    "                                            'bbox_left', 'bbox_top', 'bbox_width', 'bbox_height', 'area'])\n",
    "\n",
    "full_dataframe = full_dataframe.dropna()"
   ]
  },
  {
   "cell_type": "code",
   "execution_count": null,
   "metadata": {},
   "outputs": [],
   "source": [
    "fig = plt.figure()\n",
    "plt.plot(full_dataframe.trial_num == 2)\n",
    "plt.show()"
   ]
  },
  {
   "cell_type": "code",
   "execution_count": null,
   "metadata": {},
   "outputs": [],
   "source": [
    "duration_stats_full = wf_trig.get_trial_duration_stats(full_dataframe, 'trial_num', 'time_vector')\n",
    "\n",
    "print(duration_stats_motive)\n",
    "print(duration_stats_kinem)\n",
    "print(duration_stats_full)\n",
    "np.allclose(duration_stats_kinem, duration_stats_full,  rtol=1e-1, atol=1e-2)"
   ]
  },
  {
   "cell_type": "code",
   "execution_count": null,
   "metadata": {},
   "outputs": [],
   "source": [
    "grouped_trials = full_dataframe.loc[full_dataframe['trial_num'] != 0]\n",
    "grouped_trials = grouped_trials.groupby('trial_num')\n",
    "trial_durations = grouped_trials.apply(lambda x: x['time_vector'].to_list()[-1] - x['time_vector'].to_list()[0])\n",
    "# print(trial_durations.min(), trial_durations.max(), trial_durations.mean())\n",
    "trial_range = grouped_trials.apply(lambda x: (x['time_vector'].to_list()[0], x['time_vector'].to_list()[-1]))\n",
    "trial_range"
   ]
  },
  {
   "cell_type": "markdown",
   "metadata": {},
   "source": [
    "## Load the tiff and extract triggers to check"
   ]
  },
  {
   "cell_type": "code",
   "execution_count": 4,
   "metadata": {
    "ExecuteTime": {
     "end_time": "2023-12-05T12:24:12.771253100Z",
     "start_time": "2023-12-05T12:24:12.737255800Z"
    }
   },
   "outputs": [],
   "source": [
    "from functions_wirefree_trigger_fix import extract_timestamp, correct_timestamp_jumps, update_sync_file"
   ]
  },
  {
   "cell_type": "code",
   "execution_count": 5,
   "metadata": {
    "ExecuteTime": {
     "end_time": "2023-12-05T12:24:41.420346400Z",
     "start_time": "2023-12-05T12:24:14.513783500Z"
    }
   },
   "outputs": [],
   "source": [
    "stack = io.imread(tif_path)"
   ]
  },
  {
   "cell_type": "code",
   "execution_count": 6,
   "metadata": {},
   "outputs": [],
   "source": [
    "timestamps = np.array([extract_timestamp(el)/1000 for el in stack])\n",
    "corrected_timestamps , idxs, _= correct_timestamp_jumps(timestamps)"
   ]
  },
  {
   "cell_type": "code",
   "execution_count": 7,
   "metadata": {
    "ExecuteTime": {
     "end_time": "2023-12-05T12:25:20.166095700Z",
     "start_time": "2023-12-05T12:25:20.015440Z"
    }
   },
   "outputs": [
    {
     "data": {
      "application/vnd.jupyter.widget-view+json": {
       "model_id": "7edc89aabfb047bab1f63791e30df483",
       "version_major": 2,
       "version_minor": 0
      },
      "image/png": "[encoded data removed]",
      "text/html": [
       "\n",
       "            <div style=\"display: inline-block;\">\n",
       "                <div class=\"jupyter-widgets widget-label\" style=\"text-align: center;\">\n",
       "                    Figure\n",
       "                </div>\n",
       "                <img src='data:image/png;base64,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' width=640.0/>\n",
       "            </div>\n",
       "        "
      ],
      "text/plain": [
       "Canvas(toolbar=Toolbar(toolitems=[('Home', 'Reset original view', 'home', 'home'), ('Back', 'Back to previous …"
      ]
     },
     "metadata": {},
     "output_type": "display_data"
    }
   ],
   "source": [
    "fig = plt.figure()\n",
    "plt.plot(timestamps)\n",
    "plt.plot(corrected_timestamps)\n",
    "plt.xlabel('Frame number')\n",
    "plt.ylabel('Timestamp (s)')\n",
    "plt.show()"
   ]
  },
  {
   "cell_type": "code",
   "execution_count": 8,
   "metadata": {},
   "outputs": [],
   "source": [
    "sync_data_original = pd.read_csv(sync_path.replace('.csv', '_original.csv'), header=None)\n",
    "sync_data_original.columns = ['Time', 'projector_frames', 'camera_frames',\n",
    "                             'sync_trigger', 'mini_frames', 'wheel_frames', 'projector_frames_2']\n",
    "\n",
    "sync_data = pd.read_csv(sync_path, header=None)\n",
    "sync_data.columns = ['Time', 'projector_frames', 'camera_frames',\n",
    "                             'sync_trigger', 'mini_frames', 'wheel_frames', 'projector_frames_2']"
   ]
  },
  {
   "cell_type": "code",
   "execution_count": 9,
   "metadata": {},
   "outputs": [
    {
     "data": {
      "application/vnd.jupyter.widget-view+json": {
       "model_id": "ff0afe1eb5964bd79c8050f28f0a9020",
       "version_major": 2,
       "version_minor": 0
      },
      "image/png": "[encoded data removed]",
      "text/html": [
       "\n",
       "            <div style=\"display: inline-block;\">\n",
       "                <div class=\"jupyter-widgets widget-label\" style=\"text-align: center;\">\n",
       "                    Figure\n",
       "                </div>\n",
       "                <img src='data:image/png;base64,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' width=640.0/>\n",
       "            </div>\n",
       "        "
      ],
      "text/plain": [
       "Canvas(toolbar=Toolbar(toolitems=[('Home', 'Reset original view', 'home', 'home'), ('Back', 'Back to previous …"
      ]
     },
     "metadata": {},
     "output_type": "display_data"
    }
   ],
   "source": [
    "fig = plt.figure()\n",
    "plt.plot(np.round(sync_data_original.mini_frames))\n",
    "plt.plot(np.round(sync_data.mini_frames))\n",
    "plt.show()"
   ]
  },
  {
   "cell_type": "code",
   "execution_count": 10,
   "metadata": {
    "ExecuteTime": {
     "end_time": "2023-12-05T12:25:25.386242900Z",
     "start_time": "2023-12-05T12:25:25.355623300Z"
    }
   },
   "outputs": [],
   "source": [
    "# There are still these little mistakes throughout that cause timing errors down the line. \n",
    "# Let's try to fix them by interpolating the timestamps\n",
    "slope, intercept = np.polyfit(np.arange(len(corrected_timestamps)-1), corrected_timestamps[:-1], deg=1)\n",
    "regressed_timestamps = np.arange(len(corrected_timestamps)) * slope + intercept"
   ]
  },
  {
   "cell_type": "code",
   "execution_count": 12,
   "metadata": {
    "ExecuteTime": {
     "end_time": "2023-12-05T12:25:26.833523500Z",
     "start_time": "2023-12-05T12:25:26.747354300Z"
    }
   },
   "outputs": [
    {
     "data": {
      "application/vnd.jupyter.widget-view+json": {
       "model_id": "ec8c055be9834d7ca0c46eccbeaf1a76",
       "version_major": 2,
       "version_minor": 0
      },
      "image/png": "[encoded data removed]",
      "text/html": [
       "\n",
       "            <div style=\"display: inline-block;\">\n",
       "                <div class=\"jupyter-widgets widget-label\" style=\"text-align: center;\">\n",
       "                    Figure\n",
       "                </div>\n",
       "                <img src='data:image/png;base64,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' width=640.0/>\n",
       "            </div>\n",
       "        "
      ],
      "text/plain": [
       "Canvas(toolbar=Toolbar(toolitems=[('Home', 'Reset original view', 'home', 'home'), ('Back', 'Back to previous …"
      ]
     },
     "metadata": {},
     "output_type": "display_data"
    }
   ],
   "source": [
    "fig = plt.figure()\n",
    "plt.plot(timestamps, marker='.')\n",
    "plt.plot(corrected_timestamps, marker='.')\n",
    "plt.plot(regressed_timestamps, marker='.')\n",
    "plt.xlabel('Frame number')\n",
    "plt.ylabel('Timestamp (s)')\n",
    "plt.show()"
   ]
  },
  {
   "cell_type": "code",
   "execution_count": null,
   "metadata": {},
   "outputs": [],
   "source": [
    "fig = plt.figure()\n",
    "plt.plot(corrected_timestamps - regressed_timestamps)\n",
    "plt.xlabel('Frame number')\n",
    "plt.ylabel('Timestamp (s)')\n",
    "plt.show()"
   ]
  },
  {
   "cell_type": "code",
   "execution_count": null,
   "metadata": {
    "ExecuteTime": {
     "end_time": "2023-12-05T12:25:36.025748600Z",
     "start_time": "2023-12-05T12:25:35.995207900Z"
    }
   },
   "outputs": [],
   "source": [
    "interp_idxs = np.argwhere(np.abs(corrected_timestamps - regressed_timestamps) > 0.05).squeeze()\n",
    "corrected_timestamps[interp_idxs] = regressed_timestamps[interp_idxs]"
   ]
  },
  {
   "cell_type": "code",
   "execution_count": null,
   "metadata": {
    "ExecuteTime": {
     "end_time": "2023-12-05T12:25:36.350254200Z",
     "start_time": "2023-12-05T12:25:36.282290200Z"
    }
   },
   "outputs": [],
   "source": [
    "fig = plt.figure()\n",
    "plt.plot(timestamps)\n",
    "plt.plot(corrected_timestamps)\n",
    "plt.plot(regressed_timestamps)\n",
    "plt.xlabel('Frame number')\n",
    "plt.ylabel('Timestamp (s)')\n",
    "plt.show()"
   ]
  },
  {
   "cell_type": "code",
   "execution_count": null,
   "metadata": {},
   "outputs": [],
   "source": [
    "update_sync_file(corrected_timestamps, sync_path)"
   ]
  },
  {
   "cell_type": "markdown",
   "metadata": {},
   "source": [
    "## Use snakemake to get a sense of how many experiments are affected"
   ]
  },
  {
   "cell_type": "code",
   "execution_count": null,
   "metadata": {},
   "outputs": [],
   "source": [
    "import functions_data_handling as fdh\n",
    "import functions_bondjango as bd\n",
    "from tqdm import tqdm"
   ]
  },
  {
   "cell_type": "code",
   "execution_count": null,
   "metadata": {},
   "outputs": [],
   "source": [
    "mice = [# 'MM_221110_a', 'MM_221109_a', 'MM_220928_a', 'MM_220915_a', 'MM_230518_b', 'MM_230705_b', \n",
    "       'MM_230706_a', 'MM_230706_b']\n",
    "\n",
    "rigs = ['VTuningWF', 'VWheelWF']\n",
    "\n",
    "num_files = 0\n",
    "affected_files = 0\n",
    "\n",
    "for mouse in mice:\n",
    "    for rig in rigs:\n",
    "        # get the search string\n",
    "        search_string = f\"mouse:{mouse}, rig:{rig}\"\n",
    "        parsed_search = fdh.parse_search_string(search_string)\n",
    "        \n",
    "        # get the paths from the database\n",
    "        file_infos = bd.query_database(\"vr_experiment\", search_string)\n",
    "        \n",
    "        for file_info in tqdm(file_infos):\n",
    "            num_files += 1\n",
    "            tif_path = file_info['tif_path']\n",
    "            sync_path = file_info['sync_path']\n",
    "            \n",
    "            # Load tif and check for timestamp weirdness\n",
    "            stack = io.imread(tif_path)\n",
    "            timestamps = np.array([extract_timestamp(el)/1000 for el in stack])\n",
    "            corrected_timestamps , idxs, _= correct_shifted_timestamps(timestamps)\n",
    "\n",
    "            if len(idxs) > 0:\n",
    "                affected_files += 1\n",
    "                \n",
    "print(f'Fraction of files affected: {affected_files / num_files}')"
   ]
  },
  {
   "cell_type": "code",
   "execution_count": null,
   "metadata": {},
   "outputs": [],
   "source": []
  }
 ],
 "metadata": {
  "kernelspec": {
   "display_name": "prey_capture",
   "language": "python",
   "name": "python3"
  },
  "language_info": {
   "codemirror_mode": {
    "name": "ipython",
    "version": 3
   },
   "file_extension": ".py",
   "mimetype": "text/x-python",
   "name": "python",
   "nbconvert_exporter": "python",
   "pygments_lexer": "ipython3",
   "version": "3.8.16"
  }
 },
 "nbformat": 4,
 "nbformat_minor": 2
}

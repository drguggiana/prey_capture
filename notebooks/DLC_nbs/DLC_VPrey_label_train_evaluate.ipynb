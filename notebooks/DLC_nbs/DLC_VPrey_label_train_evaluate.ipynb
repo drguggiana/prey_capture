{
 "cells": [
  {
   "cell_type": "markdown",
   "metadata": {},
   "source": [
    "# This notebook works with the Vprey project and it's current config.yaml file.\n",
    "\n",
    "**Note**: It will also create the project if not already specified."
   ]
  },
  {
   "cell_type": "code",
   "execution_count": null,
   "metadata": {},
   "outputs": [],
   "source": [
    "import deeplabcut as dlc\n",
    "import random\n",
    "import shutil\n",
    "import glob\n",
    "import os\n",
    "\n",
    "# From paths.py\n",
    "import paths"
   ]
  },
  {
   "cell_type": "code",
   "execution_count": null,
   "metadata": {},
   "outputs": [],
   "source": [
    "# Find all videos in the data directory\n",
    "all_videos = glob.glob(paths.vrexperiment_path + os.sep + \"*.avi\")"
   ]
  },
  {
   "cell_type": "markdown",
   "metadata": {},
   "source": [
    "## If project already created, run the snipped below"
   ]
  },
  {
   "cell_type": "code",
   "execution_count": null,
   "metadata": {},
   "outputs": [],
   "source": [
    "# Get config path\n",
    "config_path = paths.config_path_vr\n",
    "\n",
    "# Read config file\n",
    "cfg = dlc.auxiliaryfunctions.read_config(config_path)\n",
    "\n",
    "# Get project directory\n",
    "project_directory = cfg['project_path']\n",
    "\n",
    "# Get list of local videos as found in the config\n",
    "project_video_list = [vid for vid in cfg[\"video_sets\"]]"
   ]
  },
  {
   "cell_type": "markdown",
   "metadata": {},
   "source": [
    "# Convert to DLC 2.2 MultiAnimal\n",
    "Only needs to be done once - DONE"
   ]
  },
  {
   "cell_type": "code",
   "execution_count": null,
   "metadata": {},
   "outputs": [],
   "source": [
    "dlc.convert2_maDLC(config_path, userfeedback=True)"
   ]
  },
  {
   "cell_type": "code",
   "execution_count": null,
   "metadata": {},
   "outputs": [],
   "source": [
    "## If you haven't created a project, run this cell"
   ]
  },
  {
   "cell_type": "code",
   "execution_count": null,
   "metadata": {},
   "outputs": [],
   "source": [
    "dlc.create_new_project?"
   ]
  },
  {
   "cell_type": "code",
   "execution_count": null,
   "metadata": {},
   "outputs": [],
   "source": [
    "# Randomly select 15 videos to train on\n",
    "remote_video_list = []\n",
    "for i in range(20):\n",
    "    remote_video_list.append(random.choice(all_videos))\n",
    "\n",
    "# Depreciated\n",
    "# video_list = [r\"06_30_2020_17_06_13_DG_200526_d_succ_lowFR.avi\",\n",
    "#               r\"06_30_2020_15_06_59_DG_200526_b_succ_lowFR.avi\",\n",
    "#               r\"06_23_2020_15_03_01_DG_200526_c_succ.avi\",\n",
    "#               r\"06_30_2020_14_41_22_DG_200526_b_test_lowFR.avi\",\n",
    "#               r\"06_26_2020_16_25_35_DG_200526_c_succ_lowFR.avi\",\n",
    "#               r\"06_22_2020_12_24_42_DG_200526_b_succ.avi\",\n",
    "#               r\"06_22_2020_11_25_50_DG_200526_a_test.avi\",\n",
    "#               r\"03_12_2020_15_35_46_MM_200128_a_succ.avi\",\n",
    "#               r\"03_05_2020_16_26_13_MM_200128_a_succ.avi\", \n",
    "#               r\"11_10_2019_23_46_06_DG_190417_a_fail.avi\",\n",
    "#               r\"08_07_2019_18_05_49_DG_190416_a_succ.avi\",\n",
    "#               r\"08_03_2019_17_34_12_DG_190416_a_succ.avi\",\n",
    "#               r\"07_08_2020_16_10_58_DG_200526_b_succ_blackCr.avi\",\n",
    "#               r\"07_08_2020_12_04_55_DG_200526_a_succ_blackCr.avi\",\n",
    "#               r\"07_08_2020_11_43_42_DG_200526_a_test_blackCr.avi\",\n",
    "#               r\"07_08_2020_16_09_13_DG_200526_b_test_nonrewarded_blackCr.avi\",\n",
    "#               r\"07_08_2020_16_06_56_DG_200526_b_test_nonrewarded_blackCr.avi\"\n",
    "#              ]\n",
    "# remote_video_list = [os.path.join(remote_data_directory, vid) for vid in video_list]\n",
    "\n",
    "# Create the project if not already done\n",
    "dlc.create_new_project(\"VPrey\", \"Matt\", remote_video_list, working_directory=r\"D:\\dlc_vr_arena\", copy_videos=True)"
   ]
  },
  {
   "cell_type": "markdown",
   "metadata": {},
   "source": [
    "Make sure to add the path to the config file into ``paths.py``"
   ]
  },
  {
   "cell_type": "code",
   "execution_count": null,
   "metadata": {},
   "outputs": [],
   "source": [
    "# Get config and path info\n",
    "config_path = paths.config_path\n",
    "cfg = dlc.auxiliaryfunctions.read_config(config_path)\n",
    "project_directory = cfg['project_path']\n",
    "project_video_list = [vid for vid in cfg[\"video_sets\"]]"
   ]
  },
  {
   "cell_type": "markdown",
   "metadata": {},
   "source": [
    "## Pick videos not contained in the training set for testing"
   ]
  },
  {
   "cell_type": "code",
   "execution_count": null,
   "metadata": {},
   "outputs": [],
   "source": [
    "# Randomly pick videos to test the network that are not part of the training set and copy to the project directory\n",
    "test_video_dir = os.path.join(project_directory, \"test-videos\")\n",
    "if not os.path.isdir(test_video_dir):\n",
    "    os.mkdir(test_video_dir)\n",
    "\n",
    "    # Randomly pick five videos outside of the training set to thest the network on\n",
    "    test_vids = []\n",
    "    while(len(test_vids) < 5):\n",
    "        vid = random.choice(all_videos)\n",
    "        if vid not in project_video_list:\n",
    "            dest = shutil.copy2(vid, test_video_dir)\n",
    "            test_vids.append(dest)\n",
    "\n",
    "else:\n",
    "    test_vids = glob.glob(test_video_dir + os.sep + \"*.avi\")"
   ]
  },
  {
   "cell_type": "markdown",
   "metadata": {},
   "source": [
    "## Add extra videos (if needed)"
   ]
  },
  {
   "cell_type": "code",
   "execution_count": null,
   "metadata": {},
   "outputs": [],
   "source": [
    "# If adding new videos, do that here by randomly selecting some not in the original data set or the test set\n",
    "extra_vids = []\n",
    "while(len(extra_vids) < 5):\n",
    "    vid = random.choice(all_videos)\n",
    "    if vid not in project_video_list or test_vids:\n",
    "        extra_vids.append(vid)\n",
    "        \n",
    "dlc.add_new_videos(config_path, extra_vids, copy_videos=True)"
   ]
  },
  {
   "cell_type": "markdown",
   "metadata": {},
   "source": [
    "## Extract and label frames"
   ]
  },
  {
   "cell_type": "code",
   "execution_count": null,
   "metadata": {},
   "outputs": [],
   "source": [
    "dlc.extract_frames?"
   ]
  },
  {
   "cell_type": "code",
   "execution_count": null,
   "metadata": {},
   "outputs": [],
   "source": [
    "# extract frames from the videos\n",
    "# will go through all of the videos on the list, so if many videos, it might take a while\n",
    "dlc.extract_frames(config_path, mode='automatic', algo='kmeans', crop=\"GUI\", userfeedback=False);"
   ]
  },
  {
   "cell_type": "code",
   "execution_count": null,
   "metadata": {},
   "outputs": [],
   "source": [
    "# label frames\n",
    "# generates folders in the labeled-data folder with the video name\n",
    "dlc.label_frames(config_path)"
   ]
  },
  {
   "cell_type": "code",
   "execution_count": null,
   "metadata": {},
   "outputs": [],
   "source": [
    "# check the labels\n",
    "# generates folders in the labeled-data folder with the video name but the actual labels printed on the pics\n",
    "dlc.check_labels(config_path);"
   ]
  },
  {
   "cell_type": "markdown",
   "metadata": {},
   "source": [
    "## Create dataset and train network"
   ]
  },
  {
   "cell_type": "code",
   "execution_count": null,
   "metadata": {},
   "outputs": [],
   "source": [
    "dlc.create_training_dataset?"
   ]
  },
  {
   "cell_type": "code",
   "execution_count": null,
   "metadata": {},
   "outputs": [],
   "source": [
    "# create the training set\n",
    "# also creates the Pose.yaml in the dlc-models/train dataset, which contains the setting for training, i.e. take a look\n",
    "dlc.create_training_dataset(config_path, augmenter_type='default');"
   ]
  },
  {
   "cell_type": "code",
   "execution_count": null,
   "metadata": {},
   "outputs": [],
   "source": [
    "# train the network\n",
    "dlc.train_network(config_path, max_snapshots_to_keep=10, displayiters=50000, saveiters=50000)"
   ]
  },
  {
   "cell_type": "markdown",
   "metadata": {},
   "source": [
    "## Evaluate network"
   ]
  },
  {
   "cell_type": "code",
   "execution_count": null,
   "metadata": {},
   "outputs": [],
   "source": [
    "# evaluate the network\n",
    "dlc.evaluate_network(config_path, Shuffles=[1], plotting=True)"
   ]
  },
  {
   "cell_type": "markdown",
   "metadata": {},
   "source": [
    "## Analyze new videos"
   ]
  },
  {
   "cell_type": "code",
   "execution_count": null,
   "metadata": {},
   "outputs": [],
   "source": [
    "dlc.analyze_videos?"
   ]
  },
  {
   "cell_type": "code",
   "execution_count": null,
   "metadata": {},
   "outputs": [],
   "source": [
    "dlc.analyze_videos(config_path, test_vids)"
   ]
  },
  {
   "cell_type": "code",
   "execution_count": null,
   "metadata": {},
   "outputs": [],
   "source": [
    "dlc.create_labeled_video?"
   ]
  },
  {
   "cell_type": "code",
   "execution_count": null,
   "metadata": {},
   "outputs": [],
   "source": [
    "# use the path defined above\n",
    "dlc.create_labeled_video(config_path, test_vids)"
   ]
  },
  {
   "cell_type": "code",
   "execution_count": null,
   "metadata": {},
   "outputs": [],
   "source": [
    "# extract outlier frames\n",
    "dlc.extract_outlier_frames?"
   ]
  },
  {
   "cell_type": "code",
   "execution_count": null,
   "metadata": {},
   "outputs": [],
   "source": [
    "# extract outlier frames\n",
    "dlc.extract_outlier_frames(config_path, project_video_list, outlieralgorithm='uncerrtain', p_bound=0.8)\n",
    "# deeplabcut.extract_outlier_frames?"
   ]
  },
  {
   "cell_type": "code",
   "execution_count": null,
   "metadata": {},
   "outputs": [],
   "source": [
    "dlc.refine_labels(config_path)"
   ]
  },
  {
   "cell_type": "code",
   "execution_count": null,
   "metadata": {},
   "outputs": [],
   "source": [
    "# Merge the dataset, then move to check labels and retrain\n",
    "\n",
    "dlc.merge_datasets(config_path)"
   ]
  }
 ],
 "metadata": {
  "kernelspec": {
   "display_name": "Python 3 (ipykernel)",
   "language": "python",
   "name": "python3"
  },
  "language_info": {
   "codemirror_mode": {
    "name": "ipython",
    "version": 3
   },
   "file_extension": ".py",
   "mimetype": "text/x-python",
   "name": "python",
   "nbconvert_exporter": "python",
   "pygments_lexer": "ipython3",
   "version": "3.8.11"
  },
  "varInspector": {
   "cols": {
    "lenName": 16,
    "lenType": 16,
    "lenVar": 40
   },
   "kernels_config": {
    "python": {
     "delete_cmd_postfix": "",
     "delete_cmd_prefix": "del ",
     "library": "var_list.py",
     "varRefreshCmd": "print(var_dic_list())"
    },
    "r": {
     "delete_cmd_postfix": ") ",
     "delete_cmd_prefix": "rm(",
     "library": "var_list.r",
     "varRefreshCmd": "cat(var_dic_list()) "
    }
   },
   "types_to_exclude": [
    "module",
    "function",
    "builtin_function_or_method",
    "instance",
    "_Feature"
   ],
   "window_display": false
  }
 },
 "nbformat": 4,
 "nbformat_minor": 4
}

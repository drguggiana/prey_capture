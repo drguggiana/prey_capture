{
 "cells": [
  {
   "cell_type": "code",
   "execution_count": null,
   "id": "677b6a3d",
   "metadata": {
    "init_cell": true
   },
   "outputs": [],
   "source": [
    "import deeplabcut as dlc\n",
    "import random\n",
    "import shutil\n",
    "import glob\n",
    "import os\n",
    "\n",
    "# From paths.py\n",
    "import paths"
   ]
  },
  {
   "cell_type": "code",
   "execution_count": null,
   "id": "3345f7c5",
   "metadata": {
    "init_cell": true
   },
   "outputs": [],
   "source": [
    "# Find all videos in the data directory with VTuning in the name\n",
    "all_videos = glob.glob(paths.vrexperiment_path + os.sep + \"*VWheel*.avi\")"
   ]
  },
  {
   "cell_type": "code",
   "execution_count": null,
   "id": "5af98c80",
   "metadata": {
    "init_cell": true
   },
   "outputs": [],
   "source": [
    "working_dir = r\"D:\\DLC_projects\"\n",
    "project_name = \"vwheel_pupil_modelzoo\"\n",
    "experimenter = \"matt\""
   ]
  },
  {
   "cell_type": "markdown",
   "id": "3fb58578",
   "metadata": {},
   "source": [
    "# If Project already created, run the cell below"
   ]
  },
  {
   "cell_type": "code",
   "execution_count": null,
   "id": "a7b1da4a",
   "metadata": {},
   "outputs": [],
   "source": [
    "config_path = glob.glob(os.path.join(working_dir, project_name) + \"*/config.yaml\")[0]\n",
    "cfg = dlc.auxiliaryfunctions.read_config(config_path)\n",
    "project_directory = cfg['project_path']\n",
    "project_video_list = [vid for vid in cfg[\"video_sets\"]]\n",
    "# test_vids = os.path.join(project_video_list, \"test-videos\")"
   ]
  },
  {
   "cell_type": "markdown",
   "id": "673ec4ac",
   "metadata": {},
   "source": [
    "# If you haven't created a new project, run this cell"
   ]
  },
  {
   "cell_type": "code",
   "execution_count": null,
   "id": "d3c733fe",
   "metadata": {},
   "outputs": [],
   "source": [
    "# Randomly select videos to train on\n",
    "remote_video_list = []\n",
    "for i in range(2):\n",
    "    remote_video_list.append(random.choice(all_videos))"
   ]
  },
  {
   "cell_type": "code",
   "execution_count": null,
   "id": "01545c87",
   "metadata": {},
   "outputs": [],
   "source": [
    "dlc.create_pretrained_project?"
   ]
  },
  {
   "cell_type": "code",
   "execution_count": null,
   "id": "e8d8dee9",
   "metadata": {},
   "outputs": [],
   "source": [
    "config_path, train_config_path = dlc.create_pretrained_project(\n",
    "    project_name,\n",
    "    experimenter,\n",
    "    remote_video_list,\n",
    "    model=\"mouse_pupil_vclose\",\n",
    "    working_directory=working_dir,\n",
    "    analyzevideo=False,\n",
    "    createlabeledvideo=False,\n",
    "    copy_videos=True, #must leave copy_videos=True\n",
    ")\n",
    "\n",
    "config_path = glob.glob(os.path.join(working_dir, project_name) + \"*/config.yaml\")[0]\n",
    "cfg = dlc.auxiliaryfunctions.read_config(config_path)\n",
    "project_directory = cfg['project_path']\n",
    "project_video_list = [vid for vid in cfg[\"video_sets\"]]"
   ]
  },
  {
   "cell_type": "code",
   "execution_count": null,
   "id": "2a61a9cd",
   "metadata": {},
   "outputs": [],
   "source": [
    "# Update some config paramters\n",
    "# Updating the plotting within the config.yaml file (without opening it ;):\n",
    "edits = {\n",
    "    'dotsize': 3,  # size of the dots!\n",
    "    'colormap': 'jet',  # any matplotlib colormap!\n",
    "    'pcutoff': 0.85,  # the higher the more conservative the plotting!\n",
    "}\n",
    "dlc.auxiliaryfunctions.edit_config(config_path, edits)"
   ]
  },
  {
   "cell_type": "markdown",
   "id": "9daf2717",
   "metadata": {},
   "source": [
    "# Extract and label frames"
   ]
  },
  {
   "cell_type": "code",
   "execution_count": null,
   "id": "72dcb973",
   "metadata": {},
   "outputs": [],
   "source": [
    "dlc.extract_frames?"
   ]
  },
  {
   "cell_type": "code",
   "execution_count": null,
   "id": "cbcd3217",
   "metadata": {},
   "outputs": [],
   "source": [
    "# extract frames from the videos\n",
    "# will go through all of the videos on the list, so if many videos, it might take a while\n",
    "dlc.extract_frames(config_path, mode='automatic', algo='kmeans', crop=False, userfeedback=False);"
   ]
  },
  {
   "cell_type": "code",
   "execution_count": null,
   "id": "c86f670b",
   "metadata": {},
   "outputs": [],
   "source": [
    "dlc.label_frames?"
   ]
  },
  {
   "cell_type": "code",
   "execution_count": null,
   "id": "63d95110",
   "metadata": {},
   "outputs": [],
   "source": [
    "# label frames\n",
    "# generates folders in the labeled-data folder with the video name\n",
    "dlc.label_frames(config_path)"
   ]
  },
  {
   "cell_type": "code",
   "execution_count": null,
   "id": "9c142a63",
   "metadata": {},
   "outputs": [],
   "source": [
    "dlc.check_labels?"
   ]
  },
  {
   "cell_type": "code",
   "execution_count": null,
   "id": "e6a836df",
   "metadata": {},
   "outputs": [],
   "source": [
    "# check the labels\n",
    "# generates folders in the labeled-data folder with the video name but the actual labels printed on the pics\n",
    "dlc.check_labels(config_path, draw_skeleton=False, visualizeindividuals=False);"
   ]
  },
  {
   "cell_type": "code",
   "execution_count": null,
   "id": "5c698a5f",
   "metadata": {},
   "outputs": [],
   "source": [
    "dlc.create_training_dataset?"
   ]
  },
  {
   "cell_type": "code",
   "execution_count": null,
   "id": "72d1d032",
   "metadata": {},
   "outputs": [],
   "source": [
    "# create the training set\n",
    "# also creates the Pose.yaml in the dlc-models/train dataset, which contains the setting for training, i.e. take a look\n",
    "dlc.create_training_dataset(config_path, augmenter_type='imgaug');"
   ]
  },
  {
   "cell_type": "code",
   "execution_count": null,
   "id": "2ad5a2c4",
   "metadata": {},
   "outputs": [],
   "source": [
    "# train the network\n",
    "dlc.train_network(config_path, gputouse=0, allow_growth=True,\n",
    "                  max_snapshots_to_keep=10, displayiters=5e3, saveiters=50e3)"
   ]
  },
  {
   "cell_type": "code",
   "execution_count": null,
   "id": "1e98935f",
   "metadata": {},
   "outputs": [],
   "source": [
    "# evaluate the network\n",
    "dlc.evaluate_network(config_path, Shuffles=[1], plotting=True)"
   ]
  },
  {
   "cell_type": "code",
   "execution_count": null,
   "id": "0b15f845",
   "metadata": {},
   "outputs": [],
   "source": [
    "dlc.analyze_videos?"
   ]
  },
  {
   "cell_type": "code",
   "execution_count": null,
   "id": "cf67e573",
   "metadata": {},
   "outputs": [],
   "source": [
    "dlc.analyze_videos(config_path, [r\"D:\\DLC_projects\\vwheel_pupil_modelzoo-matt-2022-11-25\\videos\\test-short.mp4\"], dynamic=(True, .1, 50), gputouse=0)"
   ]
  },
  {
   "cell_type": "code",
   "execution_count": null,
   "id": "00899eb7",
   "metadata": {},
   "outputs": [],
   "source": [
    "dlc.create_labeled_video(config_path, [r\"D:\\DLC_projects\\vwheel_pupil_modelzoo-matt-2022-11-25\\videos\\test-short.mp4\"], fastmode=True)"
   ]
  },
  {
   "cell_type": "code",
   "execution_count": null,
   "id": "af8cd496",
   "metadata": {},
   "outputs": [],
   "source": [
    "# extract outlier frames\n",
    "# dlc.extract_outlier_frames(config_path, project_video_list, outlieralgorithm='uncertain', p_bound=0.6)\n",
    "dlc.extract_outlier_frames(config_path, [r\"D:\\DLC_projects\\vwheel_pupil_modelzoo-matt-2022-11-25\\videos\\test-short.mp4\"])"
   ]
  },
  {
   "cell_type": "code",
   "execution_count": null,
   "id": "abb6a17b",
   "metadata": {},
   "outputs": [],
   "source": [
    "dlc.refine_labels(config_path)"
   ]
  },
  {
   "cell_type": "code",
   "execution_count": null,
   "id": "336f6274",
   "metadata": {},
   "outputs": [],
   "source": [
    "# Merge the dataset, then move to check labels and retrain\n",
    "dlc.merge_datasets(config_path)"
   ]
  },
  {
   "cell_type": "markdown",
   "id": "d555e39a",
   "metadata": {},
   "source": [
    "# Add extra videos (if needed)"
   ]
  },
  {
   "cell_type": "code",
   "execution_count": null,
   "id": "025b963a",
   "metadata": {},
   "outputs": [],
   "source": [
    "# If adding new videos, do that here by randomly selecting some not in the original data set or the test set\n",
    "# For this particular case, we want videos that are older than March 4th 2022\n",
    "from datetime import datetime\n",
    "from os.path import sep\n",
    "valid_extras = [vid for vid in all_videos if datetime.strptime(vid.split(sep)[-1].split('_VWheel')[0], \"%m_%d_%Y_%H_%M_%S\") > datetime(2022, 3, 5)]\n",
    "\n",
    "extra_vids = []\n",
    "while(len(extra_vids) < 5):\n",
    "    vid = random.choice(valid_extras)\n",
    "    if vid not in project_video_list or test_vids:\n",
    "        extra_vids.append(vid)\n",
    "        \n",
    "dlc.add_new_videos(config_path, extra_vids, copy_videos=True)"
   ]
  }
 ],
 "metadata": {
  "celltoolbar": "Initialization Cell",
  "kernelspec": {
   "display_name": "Python 3 (ipykernel)",
   "language": "python",
   "name": "python3"
  },
  "language_info": {
   "codemirror_mode": {
    "name": "ipython",
    "version": 3
   },
   "file_extension": ".py",
   "mimetype": "text/x-python",
   "name": "python",
   "nbconvert_exporter": "python",
   "pygments_lexer": "ipython3",
   "version": "3.8.15"
  },
  "toc": {
   "base_numbering": 1,
   "nav_menu": {},
   "number_sections": true,
   "sideBar": true,
   "skip_h1_title": false,
   "title_cell": "Table of Contents",
   "title_sidebar": "Contents",
   "toc_cell": false,
   "toc_position": {},
   "toc_section_display": true,
   "toc_window_display": false
  },
  "varInspector": {
   "cols": {
    "lenName": 16,
    "lenType": 16,
    "lenVar": 40
   },
   "kernels_config": {
    "python": {
     "delete_cmd_postfix": "",
     "delete_cmd_prefix": "del ",
     "library": "var_list.py",
     "varRefreshCmd": "print(var_dic_list())"
    },
    "r": {
     "delete_cmd_postfix": ") ",
     "delete_cmd_prefix": "rm(",
     "library": "var_list.r",
     "varRefreshCmd": "cat(var_dic_list()) "
    }
   },
   "types_to_exclude": [
    "module",
    "function",
    "builtin_function_or_method",
    "instance",
    "_Feature"
   ],
   "window_display": false
  }
 },
 "nbformat": 4,
 "nbformat_minor": 5
}

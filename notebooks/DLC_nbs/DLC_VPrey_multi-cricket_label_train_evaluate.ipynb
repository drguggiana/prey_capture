{
 "cells": [
  {
   "cell_type": "markdown",
   "metadata": {},
   "source": [
    "# This notebook works with the ARPrey project and it's current config.yaml file.\n",
    "\n",
    "**Note**: It will also create the project if not already specified.\n",
    "This notebook is specifically intended for tracking a mouse + two crickets in the VR Arena"
   ]
  },
  {
   "cell_type": "code",
   "execution_count": 1,
   "metadata": {
    "init_cell": true
   },
   "outputs": [],
   "source": [
    "import deeplabcut as dlc\n",
    "import random\n",
    "import shutil\n",
    "import glob\n",
    "import os\n",
    "\n",
    "# From paths.py\n",
    "import paths"
   ]
  },
  {
   "cell_type": "code",
   "execution_count": 2,
   "metadata": {
    "init_cell": true
   },
   "outputs": [],
   "source": [
    "# Find all ARPrey videos in the data directory\n",
    "all_videos = glob.glob(paths.vrexperiment_path + os.sep + \"*.avi\")\n",
    "ARPrey_videos = [p for p in all_videos if ('ARPrey' in p) and ('twocrickets' in p)]"
   ]
  },
  {
   "cell_type": "markdown",
   "metadata": {},
   "source": [
    "## Load config file (if project already created)"
   ]
  },
  {
   "cell_type": "code",
   "execution_count": 3,
   "metadata": {
    "init_cell": true
   },
   "outputs": [],
   "source": [
    "# Get config path\n",
    "config_path = paths.config_path_vr_multi_cricket\n",
    "\n",
    "# Read config file\n",
    "cfg = dlc.auxiliaryfunctions.read_config(config_path)\n",
    "\n",
    "# Get project directory\n",
    "project_directory = cfg['project_path']\n",
    "\n",
    "# Get list of local videos as found in the config\n",
    "project_video_list = [vid for vid in cfg[\"video_sets\"]]"
   ]
  },
  {
   "cell_type": "markdown",
   "metadata": {},
   "source": [
    "## Pick videos not contained in the training set for testing"
   ]
  },
  {
   "cell_type": "code",
   "execution_count": 4,
   "metadata": {
    "init_cell": true
   },
   "outputs": [],
   "source": [
    "# Randomly pick videos to test the network that are not part of the training set and copy to the project directory\n",
    "test_video_dir = os.path.join(project_directory, \"test-videos\")\n",
    "if not os.path.isdir(test_video_dir):\n",
    "    os.mkdir(test_video_dir)\n",
    "\n",
    "    # Randomly pick five videos outside of the training set to test the network on\n",
    "    test_vids = []\n",
    "    while(len(test_vids) < 5):\n",
    "        vid = random.choice(ARPrey_videos)\n",
    "        if vid not in project_video_list:\n",
    "            dest = shutil.copy2(vid, test_video_dir)\n",
    "            test_vids.append(dest)\n",
    "\n",
    "else:\n",
    "    test_vids = glob.glob(test_video_dir + os.sep + \"*.avi\")"
   ]
  },
  {
   "cell_type": "markdown",
   "metadata": {},
   "source": [
    "## Create new project (only needs to be done once)"
   ]
  },
  {
   "cell_type": "code",
   "execution_count": null,
   "metadata": {},
   "outputs": [],
   "source": [
    "dlc.create_new_project?"
   ]
  },
  {
   "cell_type": "code",
   "execution_count": null,
   "metadata": {
    "scrolled": false
   },
   "outputs": [],
   "source": [
    "# Randomly select 25 videos to train on\n",
    "init_video_list = random.sample(ARPrey_videos, 25)\n",
    "dlc.create_new_project(\"ARPrey\", \"Matt\", init_video_list, \n",
    "                       working_directory=r\"D:\\dlc_vr_arena_twocrickets\", \n",
    "                       multianimal=True,\n",
    "                       copy_videos=True)"
   ]
  },
  {
   "cell_type": "markdown",
   "metadata": {},
   "source": [
    "## Extract and label frames"
   ]
  },
  {
   "cell_type": "code",
   "execution_count": null,
   "metadata": {},
   "outputs": [],
   "source": [
    "dlc.extract_frames?"
   ]
  },
  {
   "cell_type": "code",
   "execution_count": null,
   "metadata": {},
   "outputs": [],
   "source": [
    "# will go through all of the videos on the list, so if many videos, it might take a while\n",
    "dlc.extract_frames(config_path, mode='automatic', algo='kmeans', crop=False, userfeedback=False);"
   ]
  },
  {
   "cell_type": "code",
   "execution_count": null,
   "metadata": {},
   "outputs": [],
   "source": [
    "# label frames\n",
    "# generates folders in the labeled-data folder with the video name\n",
    "dlc.label_frames(config_path)"
   ]
  },
  {
   "cell_type": "code",
   "execution_count": null,
   "metadata": {},
   "outputs": [],
   "source": [
    "# check the labels\n",
    "# generates folders in the labeled-data folder with the video name but the actual labels printed on the pics\n",
    "dlc.check_labels(config_path);"
   ]
  },
  {
   "cell_type": "markdown",
   "metadata": {},
   "source": [
    "## Create dataset and train network"
   ]
  },
  {
   "cell_type": "code",
   "execution_count": null,
   "metadata": {},
   "outputs": [],
   "source": [
    "dlc.create_multianimaltraining_dataset?"
   ]
  },
  {
   "cell_type": "code",
   "execution_count": null,
   "metadata": {},
   "outputs": [],
   "source": [
    "# create the training set\n",
    "# also creates the Pose.yaml in the dlc-models/train dataset, which contains the setting for training, i.e. take a look\n",
    "dlc.create_multianimaltraining_dataset(\n",
    "    config_path,\n",
    "    num_shuffles=1,\n",
    "    net_type=\"dlcrnet_ms5\",\n",
    ")"
   ]
  },
  {
   "cell_type": "code",
   "execution_count": null,
   "metadata": {},
   "outputs": [],
   "source": [
    "dlc.train_network?"
   ]
  },
  {
   "cell_type": "code",
   "execution_count": null,
   "metadata": {
    "scrolled": false
   },
   "outputs": [],
   "source": [
    "# train the network\n",
    "dlc.train_network(config_path, \n",
    "                  displayiters=20000, \n",
    "                  saveiters=10000, \n",
    "                  maxiters=100000, \n",
    "                  allow_growth=True)"
   ]
  },
  {
   "cell_type": "markdown",
   "metadata": {},
   "source": [
    "## Evaluate network"
   ]
  },
  {
   "cell_type": "code",
   "execution_count": null,
   "metadata": {},
   "outputs": [],
   "source": [
    "dlc.evaluate_network?"
   ]
  },
  {
   "cell_type": "code",
   "execution_count": null,
   "metadata": {
    "scrolled": false
   },
   "outputs": [],
   "source": [
    "# evaluate the network\n",
    "dlc.evaluate_network(config_path, plotting=True)"
   ]
  },
  {
   "cell_type": "code",
   "execution_count": null,
   "metadata": {},
   "outputs": [],
   "source": [
    "dlc.extract_save_all_maps?"
   ]
  },
  {
   "cell_type": "code",
   "execution_count": null,
   "metadata": {
    "scrolled": false
   },
   "outputs": [],
   "source": [
    "dlc.extract_save_all_maps(config_path, shuffle=1, gputouse=0)"
   ]
  },
  {
   "cell_type": "markdown",
   "metadata": {},
   "source": [
    "## Pick a test video for pose estimation before proceeding to tracklets"
   ]
  },
  {
   "cell_type": "code",
   "execution_count": 5,
   "metadata": {},
   "outputs": [],
   "source": [
    "vid_to_test = test_vids[0]"
   ]
  },
  {
   "cell_type": "code",
   "execution_count": 7,
   "metadata": {},
   "outputs": [],
   "source": [
    "dlc.create_video_with_all_detections?"
   ]
  },
  {
   "cell_type": "code",
   "execution_count": 6,
   "metadata": {},
   "outputs": [
    {
     "name": "stdout",
     "output_type": "stream",
     "text": [
      "Using snapshot-100000 for model D:\\dlc_vr_arena_twocrickets\\ARPrey-Matt-2021-09-14\\dlc-models\\iteration-0\\ARPreySep14-trainset95shuffle1\n"
     ]
    },
    {
     "name": "stderr",
     "output_type": "stream",
     "text": [
      "C:\\Users\\mmccann\\Miniconda3\\envs\\DLC\\lib\\site-packages\\tensorflow\\python\\keras\\engine\\base_layer_v1.py:1694: UserWarning: `layer.apply` is deprecated and will be removed in a future version. Please use `layer.__call__` method instead.\n",
      "  warnings.warn('`layer.apply` is deprecated and '\n"
     ]
    },
    {
     "name": "stdout",
     "output_type": "stream",
     "text": [
      "Activating extracting of PAFs\n",
      "Starting to analyze %  D:\\dlc_vr_arena_twocrickets\\ARPrey-Matt-2021-09-14\\test-videos\\08_10_2021_12_24_45_ARPrey_DG_210203_a_succ_camo_crickettexture_twocrickets_capturelight_sl75_led25.avi\n",
      "D:\\dlc_vr_arena_twocrickets\\ARPrey-Matt-2021-09-14\\test-videos  already exists!\n",
      "Loading  D:\\dlc_vr_arena_twocrickets\\ARPrey-Matt-2021-09-14\\test-videos\\08_10_2021_12_24_45_ARPrey_DG_210203_a_succ_camo_crickettexture_twocrickets_capturelight_sl75_led25.avi\n",
      "Duration of video [s]:  18.33 , recorded with  30.0 fps!\n",
      "Overall # of frames:  550  found with (before cropping) frame dimensions:  1280 1024\n",
      "Starting to extract posture\n"
     ]
    },
    {
     "name": "stderr",
     "output_type": "stream",
     "text": [
      "100%|████████████████████████████████████████████████████████████████████████████████| 550/550 [00:48<00:00, 11.37it/s]\n"
     ]
    },
    {
     "name": "stdout",
     "output_type": "stream",
     "text": [
      "Saving results in D:\\dlc_vr_arena_twocrickets\\ARPrey-Matt-2021-09-14\\test-videos...\n",
      "The videos are analyzed. Time to assemble animals and track 'em... \n",
      " Call 'create_video_with_all_detections' to check multi-animal detection quality before tracking.\n",
      "If the tracking is not satisfactory for some videos, consider expanding the training set. You can use the function 'extract_outlier_frames' to extract a few representative outlier frames.\n",
      "Creating labeled video for  08_10_2021_12_24_45_ARPrey_DG_210203_a_succ_camo_crickettexture_twocrickets_capturelight_sl75_led25\n"
     ]
    },
    {
     "name": "stderr",
     "output_type": "stream",
     "text": [
      "100%|████████████████████████████████████████████████████████████████████████████████| 550/550 [00:06<00:00, 84.93it/s]\n"
     ]
    }
   ],
   "source": [
    "scorername = dlc.analyze_videos(config_path,[vid_to_test])\n",
    "dlc.create_video_with_all_detections(config_path, [vid_to_test], videotype='.mp4')"
   ]
  },
  {
   "cell_type": "code",
   "execution_count": null,
   "metadata": {},
   "outputs": [],
   "source": [
    "dlc.convert_detections2tracklets?"
   ]
  },
  {
   "cell_type": "code",
   "execution_count": 8,
   "metadata": {
    "scrolled": false
   },
   "outputs": [
    {
     "name": "stdout",
     "output_type": "stream",
     "text": [
      "Using snapshot-100000 for model D:\\dlc_vr_arena_twocrickets\\ARPrey-Matt-2021-09-14\\dlc-models\\iteration-0\\ARPreySep14-trainset95shuffle1\n",
      "Processing...  D:\\dlc_vr_arena_twocrickets\\ARPrey-Matt-2021-09-14\\test-videos\\08_10_2021_12_24_45_ARPrey_DG_210203_a_succ_camo_crickettexture_twocrickets_capturelight_sl75_led25.avi\n",
      "D:\\dlc_vr_arena_twocrickets\\ARPrey-Matt-2021-09-14\\test-videos  already exists!\n",
      "Analyzing D:\\dlc_vr_arena_twocrickets\\ARPrey-Matt-2021-09-14\\test-videos\\08_10_2021_12_24_45_ARPrey_DG_210203_a_succ_camo_crickettexture_twocrickets_capturelight_sl75_led25DLC_dlcrnetms5_ARPreySep14shuffle1_100000.h5\n"
     ]
    },
    {
     "name": "stderr",
     "output_type": "stream",
     "text": [
      "550it [00:00, 3557.86it/s]\n",
      "550it [00:00, 551618.17it/s]"
     ]
    },
    {
     "name": "stdout",
     "output_type": "stream",
     "text": [
      "The tracklets were created. Now you can 'refine_tracklets'.\n"
     ]
    },
    {
     "name": "stderr",
     "output_type": "stream",
     "text": [
      "\n"
     ]
    }
   ],
   "source": [
    "dlc.convert_detections2tracklets(config_path, [vid_to_test], \n",
    "                                 shuffle=1, trainingsetindex=0, \n",
    "                                 track_method=\"ellipse\", videotype='mp4', \n",
    "                                 overwrite=True)"
   ]
  },
  {
   "cell_type": "code",
   "execution_count": 11,
   "metadata": {},
   "outputs": [],
   "source": [
    "pickled_tracklet_file = r'D:\\dlc_vr_arena_twocrickets\\ARPrey-Matt-2021-09-14\\test-videos\\08_10_2021_12_24_45_ARPrey_DG_210203_a_succ_camo_crickettexture_twocrickets_capturelight_sl75_led25DLC_dlcrnetms5_ARPreySep14shuffle1_100000_el.pickle'"
   ]
  },
  {
   "cell_type": "code",
   "execution_count": 9,
   "metadata": {},
   "outputs": [],
   "source": [
    "dlc.utils.make_labeled_video.create_video_from_pickled_tracks?"
   ]
  },
  {
   "cell_type": "code",
   "execution_count": 14,
   "metadata": {},
   "outputs": [
    {
     "name": "stderr",
     "output_type": "stream",
     "text": [
      "100%|████████████████████████████████████████████████████████████████████████████████| 550/550 [00:06<00:00, 83.38it/s]\n"
     ]
    }
   ],
   "source": [
    "dlc.utils.make_labeled_video.create_video_from_pickled_tracks(vid_to_test,\n",
    "                                                             pickled_tracklet_file,\n",
    "                                                             pcutoff=0.3)"
   ]
  },
  {
   "cell_type": "code",
   "execution_count": null,
   "metadata": {},
   "outputs": [],
   "source": [
    "dlc.refine_tracklets?"
   ]
  },
  {
   "cell_type": "code",
   "execution_count": 15,
   "metadata": {},
   "outputs": [
    {
     "ename": "TypeError",
     "evalue": "expected string or bytes-like object",
     "output_type": "error",
     "traceback": [
      "\u001b[1;31m---------------------------------------------------------------------------\u001b[0m",
      "\u001b[1;31mTypeError\u001b[0m                                 Traceback (most recent call last)",
      "\u001b[1;32m~\\AppData\\Local\\Temp/ipykernel_12828/2279499946.py\u001b[0m in \u001b[0;36m<module>\u001b[1;34m\u001b[0m\n\u001b[1;32m----> 1\u001b[1;33m dlc.refine_tracklets(config_path,\n\u001b[0m\u001b[0;32m      2\u001b[0m                      \u001b[0mpickled_tracklet_file\u001b[0m\u001b[1;33m,\u001b[0m\u001b[1;33m\u001b[0m\u001b[1;33m\u001b[0m\u001b[0m\n\u001b[0;32m      3\u001b[0m                      \u001b[0mvid_to_test\u001b[0m\u001b[1;33m,\u001b[0m\u001b[1;33m\u001b[0m\u001b[1;33m\u001b[0m\u001b[0m\n\u001b[0;32m      4\u001b[0m                      \u001b[0mmin_tracklet_len\u001b[0m\u001b[1;33m=\u001b[0m\u001b[1;36m0\u001b[0m\u001b[1;33m,\u001b[0m\u001b[1;33m\u001b[0m\u001b[1;33m\u001b[0m\u001b[0m\n\u001b[0;32m      5\u001b[0m                     )\n",
      "\u001b[1;32m~\\Miniconda3\\envs\\DLC\\lib\\site-packages\\deeplabcut\\gui\\tracklet_toolbox.py\u001b[0m in \u001b[0;36mrefine_tracklets\u001b[1;34m(config, pickle_or_h5_file, video, min_swap_len, min_tracklet_len, max_gap, trail_len)\u001b[0m\n\u001b[0;32m    789\u001b[0m     \u001b[0mmanager\u001b[0m \u001b[1;33m=\u001b[0m \u001b[0mTrackletManager\u001b[0m\u001b[1;33m(\u001b[0m\u001b[0mconfig\u001b[0m\u001b[1;33m,\u001b[0m \u001b[0mmin_swap_len\u001b[0m\u001b[1;33m,\u001b[0m \u001b[0mmin_tracklet_len\u001b[0m\u001b[1;33m,\u001b[0m \u001b[0mmax_gap\u001b[0m\u001b[1;33m)\u001b[0m\u001b[1;33m\u001b[0m\u001b[1;33m\u001b[0m\u001b[0m\n\u001b[0;32m    790\u001b[0m     \u001b[1;32mif\u001b[0m \u001b[0mpickle_or_h5_file\u001b[0m\u001b[1;33m.\u001b[0m\u001b[0mendswith\u001b[0m\u001b[1;33m(\u001b[0m\u001b[1;34m\"pickle\"\u001b[0m\u001b[1;33m)\u001b[0m\u001b[1;33m:\u001b[0m\u001b[1;33m\u001b[0m\u001b[1;33m\u001b[0m\u001b[0m\n\u001b[1;32m--> 791\u001b[1;33m         \u001b[0mmanager\u001b[0m\u001b[1;33m.\u001b[0m\u001b[0mload_tracklets_from_pickle\u001b[0m\u001b[1;33m(\u001b[0m\u001b[0mpickle_or_h5_file\u001b[0m\u001b[1;33m)\u001b[0m\u001b[1;33m\u001b[0m\u001b[1;33m\u001b[0m\u001b[0m\n\u001b[0m\u001b[0;32m    792\u001b[0m     \u001b[1;32melse\u001b[0m\u001b[1;33m:\u001b[0m\u001b[1;33m\u001b[0m\u001b[1;33m\u001b[0m\u001b[0m\n\u001b[0;32m    793\u001b[0m         \u001b[0mmanager\u001b[0m\u001b[1;33m.\u001b[0m\u001b[0mload_tracklets_from_hdf\u001b[0m\u001b[1;33m(\u001b[0m\u001b[0mpickle_or_h5_file\u001b[0m\u001b[1;33m)\u001b[0m\u001b[1;33m\u001b[0m\u001b[1;33m\u001b[0m\u001b[0m\n",
      "\u001b[1;32m~\\Miniconda3\\envs\\DLC\\lib\\site-packages\\deeplabcut\\refine_training_dataset\\tracklets.py\u001b[0m in \u001b[0;36mload_tracklets_from_pickle\u001b[1;34m(self, filename, auto_fill)\u001b[0m\n\u001b[0;32m    231\u001b[0m         \u001b[1;32mwith\u001b[0m \u001b[0mopen\u001b[0m\u001b[1;33m(\u001b[0m\u001b[0mfilename\u001b[0m\u001b[1;33m,\u001b[0m \u001b[1;34m\"rb\"\u001b[0m\u001b[1;33m)\u001b[0m \u001b[1;32mas\u001b[0m \u001b[0mfile\u001b[0m\u001b[1;33m:\u001b[0m\u001b[1;33m\u001b[0m\u001b[1;33m\u001b[0m\u001b[0m\n\u001b[0;32m    232\u001b[0m             \u001b[0mtracklets\u001b[0m \u001b[1;33m=\u001b[0m \u001b[0mpickle\u001b[0m\u001b[1;33m.\u001b[0m\u001b[0mload\u001b[0m\u001b[1;33m(\u001b[0m\u001b[0mfile\u001b[0m\u001b[1;33m)\u001b[0m\u001b[1;33m\u001b[0m\u001b[1;33m\u001b[0m\u001b[0m\n\u001b[1;32m--> 233\u001b[1;33m         \u001b[0mself\u001b[0m\u001b[1;33m.\u001b[0m\u001b[0m_load_tracklets\u001b[0m\u001b[1;33m(\u001b[0m\u001b[0mtracklets\u001b[0m\u001b[1;33m,\u001b[0m \u001b[0mauto_fill\u001b[0m\u001b[1;33m)\u001b[0m\u001b[1;33m\u001b[0m\u001b[1;33m\u001b[0m\u001b[0m\n\u001b[0m\u001b[0;32m    234\u001b[0m         \u001b[0mself\u001b[0m\u001b[1;33m.\u001b[0m\u001b[0m_xy\u001b[0m \u001b[1;33m=\u001b[0m \u001b[0mself\u001b[0m\u001b[1;33m.\u001b[0m\u001b[0mxy\u001b[0m\u001b[1;33m.\u001b[0m\u001b[0mcopy\u001b[0m\u001b[1;33m(\u001b[0m\u001b[1;33m)\u001b[0m\u001b[1;33m\u001b[0m\u001b[1;33m\u001b[0m\u001b[0m\n\u001b[0;32m    235\u001b[0m \u001b[1;33m\u001b[0m\u001b[0m\n",
      "\u001b[1;32m~\\Miniconda3\\envs\\DLC\\lib\\site-packages\\deeplabcut\\refine_training_dataset\\tracklets.py\u001b[0m in \u001b[0;36m_load_tracklets\u001b[1;34m(self, tracklets, auto_fill)\u001b[0m\n\u001b[0;32m     84\u001b[0m         \u001b[0mlast_frames\u001b[0m \u001b[1;33m=\u001b[0m \u001b[1;33m[\u001b[0m\u001b[1;33m]\u001b[0m\u001b[1;33m\u001b[0m\u001b[1;33m\u001b[0m\u001b[0m\n\u001b[0;32m     85\u001b[0m         \u001b[1;32mfor\u001b[0m \u001b[0mtracklet\u001b[0m \u001b[1;32min\u001b[0m \u001b[0mtemp\u001b[0m\u001b[1;33m:\u001b[0m\u001b[1;33m\u001b[0m\u001b[1;33m\u001b[0m\u001b[0m\n\u001b[1;32m---> 86\u001b[1;33m             \u001b[0mlast_frames\u001b[0m\u001b[1;33m.\u001b[0m\u001b[0mappend\u001b[0m\u001b[1;33m(\u001b[0m\u001b[0mget_frame_ind\u001b[0m\u001b[1;33m(\u001b[0m\u001b[0mlist\u001b[0m\u001b[1;33m(\u001b[0m\u001b[0mtracklet\u001b[0m\u001b[1;33m)\u001b[0m\u001b[1;33m[\u001b[0m\u001b[1;33m-\u001b[0m\u001b[1;36m1\u001b[0m\u001b[1;33m]\u001b[0m\u001b[1;33m)\u001b[0m\u001b[1;33m)\u001b[0m\u001b[1;33m\u001b[0m\u001b[1;33m\u001b[0m\u001b[0m\n\u001b[0m\u001b[0;32m     87\u001b[0m             \u001b[1;32mif\u001b[0m \u001b[0mlen\u001b[0m\u001b[1;33m(\u001b[0m\u001b[0mtracklet\u001b[0m\u001b[1;33m)\u001b[0m \u001b[1;33m>\u001b[0m \u001b[0mself\u001b[0m\u001b[1;33m.\u001b[0m\u001b[0mmin_tracklet_len\u001b[0m\u001b[1;33m:\u001b[0m\u001b[1;33m\u001b[0m\u001b[1;33m\u001b[0m\u001b[0m\n\u001b[0;32m     88\u001b[0m                 \u001b[0mtracklets_sorted\u001b[0m\u001b[1;33m.\u001b[0m\u001b[0mappend\u001b[0m\u001b[1;33m(\u001b[0m\u001b[0mtracklet\u001b[0m\u001b[1;33m)\u001b[0m\u001b[1;33m\u001b[0m\u001b[1;33m\u001b[0m\u001b[0m\n",
      "\u001b[1;32m~\\Miniconda3\\envs\\DLC\\lib\\site-packages\\deeplabcut\\refine_training_dataset\\tracklets.py\u001b[0m in \u001b[0;36m<lambda>\u001b[1;34m(s)\u001b[0m\n\u001b[0;32m     78\u001b[0m             \u001b[1;32mraise\u001b[0m \u001b[0mIOError\u001b[0m\u001b[1;33m(\u001b[0m\u001b[1;34m\"Tracklets are empty.\"\u001b[0m\u001b[1;33m)\u001b[0m\u001b[1;33m\u001b[0m\u001b[1;33m\u001b[0m\u001b[0m\n\u001b[0;32m     79\u001b[0m \u001b[1;33m\u001b[0m\u001b[0m\n\u001b[1;32m---> 80\u001b[1;33m         \u001b[0mget_frame_ind\u001b[0m \u001b[1;33m=\u001b[0m \u001b[1;32mlambda\u001b[0m \u001b[0ms\u001b[0m\u001b[1;33m:\u001b[0m \u001b[0mint\u001b[0m\u001b[1;33m(\u001b[0m\u001b[0mre\u001b[0m\u001b[1;33m.\u001b[0m\u001b[0mfindall\u001b[0m\u001b[1;33m(\u001b[0m\u001b[1;34mr\"\\d+\"\u001b[0m\u001b[1;33m,\u001b[0m \u001b[0ms\u001b[0m\u001b[1;33m)\u001b[0m\u001b[1;33m[\u001b[0m\u001b[1;36m0\u001b[0m\u001b[1;33m]\u001b[0m\u001b[1;33m)\u001b[0m\u001b[1;33m\u001b[0m\u001b[1;33m\u001b[0m\u001b[0m\n\u001b[0m\u001b[0;32m     81\u001b[0m \u001b[1;33m\u001b[0m\u001b[0m\n\u001b[0;32m     82\u001b[0m         \u001b[1;31m# Drop tracklets that are too short\u001b[0m\u001b[1;33m\u001b[0m\u001b[1;33m\u001b[0m\u001b[1;33m\u001b[0m\u001b[0m\n",
      "\u001b[1;32m~\\Miniconda3\\envs\\DLC\\lib\\re.py\u001b[0m in \u001b[0;36mfindall\u001b[1;34m(pattern, string, flags)\u001b[0m\n\u001b[0;32m    239\u001b[0m \u001b[1;33m\u001b[0m\u001b[0m\n\u001b[0;32m    240\u001b[0m     Empty matches are included in the result.\"\"\"\n\u001b[1;32m--> 241\u001b[1;33m     \u001b[1;32mreturn\u001b[0m \u001b[0m_compile\u001b[0m\u001b[1;33m(\u001b[0m\u001b[0mpattern\u001b[0m\u001b[1;33m,\u001b[0m \u001b[0mflags\u001b[0m\u001b[1;33m)\u001b[0m\u001b[1;33m.\u001b[0m\u001b[0mfindall\u001b[0m\u001b[1;33m(\u001b[0m\u001b[0mstring\u001b[0m\u001b[1;33m)\u001b[0m\u001b[1;33m\u001b[0m\u001b[1;33m\u001b[0m\u001b[0m\n\u001b[0m\u001b[0;32m    242\u001b[0m \u001b[1;33m\u001b[0m\u001b[0m\n\u001b[0;32m    243\u001b[0m \u001b[1;32mdef\u001b[0m \u001b[0mfinditer\u001b[0m\u001b[1;33m(\u001b[0m\u001b[0mpattern\u001b[0m\u001b[1;33m,\u001b[0m \u001b[0mstring\u001b[0m\u001b[1;33m,\u001b[0m \u001b[0mflags\u001b[0m\u001b[1;33m=\u001b[0m\u001b[1;36m0\u001b[0m\u001b[1;33m)\u001b[0m\u001b[1;33m:\u001b[0m\u001b[1;33m\u001b[0m\u001b[1;33m\u001b[0m\u001b[0m\n",
      "\u001b[1;31mTypeError\u001b[0m: expected string or bytes-like object"
     ]
    }
   ],
   "source": [
    "dlc.refine_tracklets(config_path,\n",
    "                     pickled_tracklet_file,\n",
    "                     vid_to_test,\n",
    "                     min_tracklet_len=0,\n",
    "                    )"
   ]
  },
  {
   "cell_type": "code",
   "execution_count": 16,
   "metadata": {},
   "outputs": [
    {
     "name": "stdout",
     "output_type": "stream",
     "text": [
      "Processing...  D:\\dlc_vr_arena_twocrickets\\ARPrey-Matt-2021-09-14\\test-videos\\08_10_2021_12_24_45_ARPrey_DG_210203_a_succ_camo_crickettexture_twocrickets_capturelight_sl75_led25.avi\n",
      "D:\\dlc_vr_arena_twocrickets\\ARPrey-Matt-2021-09-14\\test-videos  already exists!\n"
     ]
    },
    {
     "ename": "OSError",
     "evalue": "Tracklets are empty.",
     "output_type": "error",
     "traceback": [
      "\u001b[1;31m---------------------------------------------------------------------------\u001b[0m",
      "\u001b[1;31mOSError\u001b[0m                                   Traceback (most recent call last)",
      "\u001b[1;32m~\\AppData\\Local\\Temp/ipykernel_12828/2000231404.py\u001b[0m in \u001b[0;36m<module>\u001b[1;34m\u001b[0m\n\u001b[1;32m----> 1\u001b[1;33m dlc.stitch_tracklets(config_path, vid_to_test,\n\u001b[0m\u001b[0;32m      2\u001b[0m                      \u001b[0mtrack_method\u001b[0m\u001b[1;33m=\u001b[0m\u001b[1;34m\"ellipse\"\u001b[0m\u001b[1;33m,\u001b[0m\u001b[1;33m\u001b[0m\u001b[1;33m\u001b[0m\u001b[0m\n\u001b[0;32m      3\u001b[0m                      \u001b[0mmin_length\u001b[0m\u001b[1;33m=\u001b[0m\u001b[1;36m3\u001b[0m\u001b[1;33m,\u001b[0m\u001b[1;33m\u001b[0m\u001b[1;33m\u001b[0m\u001b[0m\n\u001b[0;32m      4\u001b[0m )\n",
      "\u001b[1;32m~\\Miniconda3\\envs\\DLC\\lib\\site-packages\\deeplabcut\\refine_training_dataset\\stitch.py\u001b[0m in \u001b[0;36mstitch_tracklets\u001b[1;34m(config_path, videos, videotype, shuffle, trainingsetindex, n_tracks, min_length, split_tracklets, prestitch_residuals, max_gap, weight_func, track_method, destfolder, modelprefix, output_name)\u001b[0m\n\u001b[0;32m   1091\u001b[0m         \u001b[0mpickle_file\u001b[0m \u001b[1;33m=\u001b[0m \u001b[0mdataname\u001b[0m\u001b[1;33m.\u001b[0m\u001b[0msplit\u001b[0m\u001b[1;33m(\u001b[0m\u001b[1;34m\".h5\"\u001b[0m\u001b[1;33m)\u001b[0m\u001b[1;33m[\u001b[0m\u001b[1;36m0\u001b[0m\u001b[1;33m]\u001b[0m \u001b[1;33m+\u001b[0m \u001b[1;34mf\"_{method}.pickle\"\u001b[0m\u001b[1;33m\u001b[0m\u001b[1;33m\u001b[0m\u001b[0m\n\u001b[0;32m   1092\u001b[0m         \u001b[1;32mtry\u001b[0m\u001b[1;33m:\u001b[0m\u001b[1;33m\u001b[0m\u001b[1;33m\u001b[0m\u001b[0m\n\u001b[1;32m-> 1093\u001b[1;33m             stitcher = TrackletStitcher.from_pickle(\n\u001b[0m\u001b[0;32m   1094\u001b[0m                 \u001b[0mpickle_file\u001b[0m\u001b[1;33m,\u001b[0m \u001b[0mn_tracks\u001b[0m\u001b[1;33m,\u001b[0m \u001b[0mmin_length\u001b[0m\u001b[1;33m,\u001b[0m \u001b[0msplit_tracklets\u001b[0m\u001b[1;33m,\u001b[0m \u001b[0mprestitch_residuals\u001b[0m\u001b[1;33m\u001b[0m\u001b[1;33m\u001b[0m\u001b[0m\n\u001b[0;32m   1095\u001b[0m             )\n",
      "\u001b[1;32m~\\Miniconda3\\envs\\DLC\\lib\\site-packages\\deeplabcut\\refine_training_dataset\\stitch.py\u001b[0m in \u001b[0;36mfrom_pickle\u001b[1;34m(cls, pickle_file, n_tracks, min_length, split_tracklets, prestitch_residuals)\u001b[0m\n\u001b[0;32m    513\u001b[0m         \u001b[1;32mwith\u001b[0m \u001b[0mopen\u001b[0m\u001b[1;33m(\u001b[0m\u001b[0mpickle_file\u001b[0m\u001b[1;33m,\u001b[0m \u001b[1;34m\"rb\"\u001b[0m\u001b[1;33m)\u001b[0m \u001b[1;32mas\u001b[0m \u001b[0mfile\u001b[0m\u001b[1;33m:\u001b[0m\u001b[1;33m\u001b[0m\u001b[1;33m\u001b[0m\u001b[0m\n\u001b[0;32m    514\u001b[0m             \u001b[0mtracklets\u001b[0m \u001b[1;33m=\u001b[0m \u001b[0mpickle\u001b[0m\u001b[1;33m.\u001b[0m\u001b[0mload\u001b[0m\u001b[1;33m(\u001b[0m\u001b[0mfile\u001b[0m\u001b[1;33m)\u001b[0m\u001b[1;33m\u001b[0m\u001b[1;33m\u001b[0m\u001b[0m\n\u001b[1;32m--> 515\u001b[1;33m         class_ = cls.from_dict_of_dict(\n\u001b[0m\u001b[0;32m    516\u001b[0m             \u001b[0mtracklets\u001b[0m\u001b[1;33m,\u001b[0m \u001b[0mn_tracks\u001b[0m\u001b[1;33m,\u001b[0m \u001b[0mmin_length\u001b[0m\u001b[1;33m,\u001b[0m \u001b[0msplit_tracklets\u001b[0m\u001b[1;33m,\u001b[0m \u001b[0mprestitch_residuals\u001b[0m\u001b[1;33m\u001b[0m\u001b[1;33m\u001b[0m\u001b[0m\n\u001b[0;32m    517\u001b[0m         )\n",
      "\u001b[1;32m~\\Miniconda3\\envs\\DLC\\lib\\site-packages\\deeplabcut\\refine_training_dataset\\stitch.py\u001b[0m in \u001b[0;36mfrom_dict_of_dict\u001b[1;34m(cls, dict_of_dict, n_tracks, min_length, split_tracklets, prestitch_residuals)\u001b[0m\n\u001b[0;32m    545\u001b[0m             \u001b[1;32melse\u001b[0m\u001b[1;33m:\u001b[0m\u001b[1;33m\u001b[0m\u001b[1;33m\u001b[0m\u001b[0m\n\u001b[0;32m    546\u001b[0m                 \u001b[0mtracklets\u001b[0m\u001b[1;33m.\u001b[0m\u001b[0mappend\u001b[0m\u001b[1;33m(\u001b[0m\u001b[0mTracklet\u001b[0m\u001b[1;33m(\u001b[0m\u001b[0mdata\u001b[0m\u001b[1;33m,\u001b[0m \u001b[0minds\u001b[0m\u001b[1;33m)\u001b[0m\u001b[1;33m)\u001b[0m\u001b[1;33m\u001b[0m\u001b[1;33m\u001b[0m\u001b[0m\n\u001b[1;32m--> 547\u001b[1;33m         class_ = cls(\n\u001b[0m\u001b[0;32m    548\u001b[0m             \u001b[0mtracklets\u001b[0m\u001b[1;33m,\u001b[0m \u001b[0mn_tracks\u001b[0m\u001b[1;33m,\u001b[0m \u001b[0mmin_length\u001b[0m\u001b[1;33m,\u001b[0m \u001b[0msplit_tracklets\u001b[0m\u001b[1;33m,\u001b[0m \u001b[0mprestitch_residuals\u001b[0m\u001b[1;33m\u001b[0m\u001b[1;33m\u001b[0m\u001b[0m\n\u001b[0;32m    549\u001b[0m         )\n",
      "\u001b[1;32m~\\Miniconda3\\envs\\DLC\\lib\\site-packages\\deeplabcut\\refine_training_dataset\\stitch.py\u001b[0m in \u001b[0;36m__init__\u001b[1;34m(self, tracklets, n_tracks, min_length, split_tracklets, prestitch_residuals)\u001b[0m\n\u001b[0;32m    473\u001b[0m \u001b[1;33m\u001b[0m\u001b[0m\n\u001b[0;32m    474\u001b[0m         \u001b[1;32mif\u001b[0m \u001b[1;32mnot\u001b[0m \u001b[0mlen\u001b[0m\u001b[1;33m(\u001b[0m\u001b[0mself\u001b[0m\u001b[1;33m.\u001b[0m\u001b[0mtracklets\u001b[0m\u001b[1;33m)\u001b[0m\u001b[1;33m:\u001b[0m\u001b[1;33m\u001b[0m\u001b[1;33m\u001b[0m\u001b[0m\n\u001b[1;32m--> 475\u001b[1;33m             \u001b[1;32mraise\u001b[0m \u001b[0mIOError\u001b[0m\u001b[1;33m(\u001b[0m\u001b[1;34m\"Tracklets are empty.\"\u001b[0m\u001b[1;33m)\u001b[0m\u001b[1;33m\u001b[0m\u001b[1;33m\u001b[0m\u001b[0m\n\u001b[0m\u001b[0;32m    476\u001b[0m \u001b[1;33m\u001b[0m\u001b[0m\n\u001b[0;32m    477\u001b[0m         \u001b[1;32mif\u001b[0m \u001b[0mprestitch_residuals\u001b[0m\u001b[1;33m:\u001b[0m\u001b[1;33m\u001b[0m\u001b[1;33m\u001b[0m\u001b[0m\n",
      "\u001b[1;31mOSError\u001b[0m: Tracklets are empty."
     ]
    }
   ],
   "source": [
    "dlc.stitch_tracklets(config_path, vid_to_test,\n",
    "                     track_method=\"ellipse\",\n",
    "                     min_length=3,\n",
    ")"
   ]
  },
  {
   "cell_type": "markdown",
   "metadata": {},
   "source": [
    "## Analyze new videos"
   ]
  },
  {
   "cell_type": "code",
   "execution_count": null,
   "metadata": {},
   "outputs": [],
   "source": [
    "dlc.analyze_videos?"
   ]
  },
  {
   "cell_type": "code",
   "execution_count": null,
   "metadata": {
    "scrolled": false
   },
   "outputs": [],
   "source": [
    "# Test one video\n",
    "dlc.analyze_videos(config_path, test_vids, videotype='mp4')"
   ]
  },
  {
   "cell_type": "code",
   "execution_count": null,
   "metadata": {},
   "outputs": [],
   "source": [
    "dlc.create_labeled_video?"
   ]
  },
  {
   "cell_type": "code",
   "execution_count": null,
   "metadata": {},
   "outputs": [],
   "source": [
    "# use the path defined above\n",
    "dlc.create_labeled_video(config_path, test_vids[0],\n",
    "    color_by=\"individual\",\n",
    "    keypoints_only=False,\n",
    "    trailpoints=10,\n",
    "    draw_skeleton=False,\n",
    "    track_method=\"ellipse\",\n",
    ")"
   ]
  },
  {
   "cell_type": "code",
   "execution_count": null,
   "metadata": {},
   "outputs": [],
   "source": [
    "# extract outlier frames\n",
    "dlc.extract_outlier_frames?"
   ]
  },
  {
   "cell_type": "code",
   "execution_count": null,
   "metadata": {},
   "outputs": [],
   "source": [
    "# extract outlier frames\n",
    "dlc.extract_outlier_frames(config_path, project_video_list, outlieralgorithm='uncerrtain', p_bound=0.8)"
   ]
  },
  {
   "cell_type": "code",
   "execution_count": null,
   "metadata": {},
   "outputs": [],
   "source": [
    "dlc.refine_labels(config_path)"
   ]
  },
  {
   "cell_type": "code",
   "execution_count": null,
   "metadata": {},
   "outputs": [],
   "source": [
    "# Merge the dataset, then move to check labels and retrain\n",
    "dlc.merge_datasets(config_path)"
   ]
  },
  {
   "cell_type": "markdown",
   "metadata": {},
   "source": [
    "## Add extra videos (if needed)"
   ]
  },
  {
   "cell_type": "code",
   "execution_count": null,
   "metadata": {},
   "outputs": [],
   "source": [
    "dlc.extract_frames?"
   ]
  },
  {
   "cell_type": "code",
   "execution_count": null,
   "metadata": {},
   "outputs": [],
   "source": [
    "# If adding new videos, do that here by randomly selecting some not in the original data set or the test set\n",
    "extra_vids = []\n",
    "while(len(extra_vids) < 5):\n",
    "    vid = random.choice(all_videos)\n",
    "    if vid not in project_video_list or test_vids:\n",
    "        extra_vids.append(vid)\n",
    "        \n",
    "dlc.add_new_videos(config_path, extra_vids, copy_videos=True)"
   ]
  }
 ],
 "metadata": {
  "celltoolbar": "Initialization Cell",
  "kernelspec": {
   "display_name": "Python [conda env:DLC] *",
   "language": "python",
   "name": "conda-env-DLC-py"
  },
  "language_info": {
   "codemirror_mode": {
    "name": "ipython",
    "version": 3
   },
   "file_extension": ".py",
   "mimetype": "text/x-python",
   "name": "python",
   "nbconvert_exporter": "python",
   "pygments_lexer": "ipython3",
   "version": "3.8.12"
  },
  "varInspector": {
   "cols": {
    "lenName": 16,
    "lenType": 16,
    "lenVar": 40
   },
   "kernels_config": {
    "python": {
     "delete_cmd_postfix": "",
     "delete_cmd_prefix": "del ",
     "library": "var_list.py",
     "varRefreshCmd": "print(var_dic_list())"
    },
    "r": {
     "delete_cmd_postfix": ") ",
     "delete_cmd_prefix": "rm(",
     "library": "var_list.r",
     "varRefreshCmd": "cat(var_dic_list()) "
    }
   },
   "types_to_exclude": [
    "module",
    "function",
    "builtin_function_or_method",
    "instance",
    "_Feature"
   ],
   "window_display": false
  }
 },
 "nbformat": 4,
 "nbformat_minor": 4
}

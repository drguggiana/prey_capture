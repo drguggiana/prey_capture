{
 "cells": [
  {
   "cell_type": "code",
   "execution_count": null,
   "id": "282ff9f6",
   "metadata": {
    "init_cell": true
   },
   "outputs": [],
   "source": [
    "import deeplabcut as dlc\n",
    "import random\n",
    "import shutil\n",
    "import glob\n",
    "import os\n",
    "\n",
    "# From paths.py\n",
    "import paths"
   ]
  },
  {
   "cell_type": "code",
   "execution_count": null,
   "id": "0d0f2454",
   "metadata": {
    "init_cell": true
   },
   "outputs": [],
   "source": [
    "# Find all videos in the data directory with VTuning in the name\n",
    "all_videos = glob.glob(paths.vrexperiment_path + os.sep + \"*VTuningWF*.avi\")"
   ]
  },
  {
   "cell_type": "markdown",
   "id": "0a0b5fb6",
   "metadata": {},
   "source": [
    "# If Project already created, run the cell below"
   ]
  },
  {
   "cell_type": "code",
   "execution_count": null,
   "id": "f6bdf885",
   "metadata": {},
   "outputs": [],
   "source": [
    "# Get config path\n",
    "# config_path = paths.config_path_VTuningWF\n",
    "config_path = r\"D:\\DLC_projects\\vtuning_wirefree_DLC_22\\VTuningWF-Matt-2022-10-25\\config.yaml\"\n",
    "\n",
    "# Read config file\n",
    "cfg = dlc.auxiliaryfunctions.read_config(config_path)\n",
    "\n",
    "# Get project directory\n",
    "project_directory = cfg['project_path']\n",
    "\n",
    "# Get list of local videos as found in the config\n",
    "project_video_list = [vid for vid in cfg[\"video_sets\"]]\n",
    "test_video_dir = os.path.join(project_directory, \"test-videos\")\n",
    "test_vids = glob.glob(test_video_dir + os.sep + \"*.avi\")\n",
    "test_vids += glob.glob(test_video_dir + os.sep + \"*.mp4\")\n",
    "test_vids = [vid for vid in test_vids if \"labeled\" not in vid]"
   ]
  },
  {
   "cell_type": "markdown",
   "id": "672c8801",
   "metadata": {},
   "source": [
    "# If you haven't created a new project, run this cell"
   ]
  },
  {
   "cell_type": "code",
   "execution_count": null,
   "id": "e9ebd3c3",
   "metadata": {},
   "outputs": [],
   "source": [
    "dlc.create_new_project?"
   ]
  },
  {
   "cell_type": "code",
   "execution_count": null,
   "id": "6e0ed438",
   "metadata": {},
   "outputs": [],
   "source": [
    "# Randomly select 15 videos to train on\n",
    "remote_video_list = []\n",
    "for i in range(4):\n",
    "    remote_video_list.append(random.choice(all_videos))\n",
    "\n",
    "dlc.create_new_project(\"VTuningWF\", \"Matt\", remote_video_list, working_directory=r\"D:\\DLC_projects\\vtuning_wirefree\", copy_videos=True)"
   ]
  },
  {
   "cell_type": "code",
   "execution_count": null,
   "id": "029d2fbc",
   "metadata": {},
   "outputs": [],
   "source": [
    "# Get config and path info\n",
    "config_path = paths.config_path_VTuningWF\n",
    "cfg = dlc.auxiliaryfunctions.read_config(config_path)\n",
    "project_directory = cfg['project_path']\n",
    "project_video_list = [vid for vid in cfg[\"video_sets\"]]"
   ]
  },
  {
   "cell_type": "code",
   "execution_count": null,
   "id": "e01645bc",
   "metadata": {},
   "outputs": [],
   "source": [
    "# Randomly pick videos to test the network that are not part of the training set and copy to the project directory\n",
    "test_video_dir = os.path.join(project_directory, \"test-videos\")\n",
    "if not os.path.isdir(test_video_dir):\n",
    "    os.mkdir(test_video_dir)\n",
    "\n",
    "# Randomly pick five videos outside of the training set to test the network on\n",
    "test_vids = []\n",
    "while(len(test_vids) < 5):\n",
    "    vid = random.choice(all_videos)\n",
    "    if vid not in project_video_list:\n",
    "        dest = shutil.copy2(vid, test_video_dir)\n",
    "        test_vids.append(dest)\n",
    "        \n",
    "test_vids = glob.glob(test_video_dir + os.sep + \"*VTuningWF*.avi\")"
   ]
  },
  {
   "cell_type": "code",
   "execution_count": null,
   "id": "0e74a748",
   "metadata": {},
   "outputs": [],
   "source": [
    "test_vids"
   ]
  },
  {
   "cell_type": "markdown",
   "id": "b5351f95",
   "metadata": {},
   "source": [
    "# Add extra videos (if needed)"
   ]
  },
  {
   "cell_type": "code",
   "execution_count": null,
   "id": "f52cad9e",
   "metadata": {},
   "outputs": [],
   "source": [
    "dlc.add_new_videos?"
   ]
  },
  {
   "cell_type": "code",
   "execution_count": null,
   "id": "6cca27ad",
   "metadata": {},
   "outputs": [],
   "source": [
    "# If adding new videos, do that here by randomly selecting some not in the original data set or the test set\n",
    "# For this particular case, we want videos that are older than March 12th 2022\n",
    "from datetime import datetime\n",
    "from os.path import sep\n",
    "\n",
    "valid_extras = [vid for vid in all_videos if datetime.strptime(vid.split(sep)[-1].split('_VTuningWF')[0], \"%m_%d_%Y_%H_%M_%S\") > datetime(2022, 3, 12)]\n",
    "\n",
    "extra_vids = []\n",
    "while(len(extra_vids) < 2):\n",
    "    vid = random.choice(valid_extras)\n",
    "    if vid not in project_video_list or test_vids:\n",
    "        extra_vids.append(vid)\n",
    "        \n",
    "dlc.add_new_videos(config_path, extra_vids, copy_videos=True)"
   ]
  },
  {
   "cell_type": "markdown",
   "id": "bacff94a",
   "metadata": {},
   "source": [
    "# Extract and label frames"
   ]
  },
  {
   "cell_type": "code",
   "execution_count": null,
   "id": "42484018",
   "metadata": {},
   "outputs": [],
   "source": [
    "dlc.extract_frames?"
   ]
  },
  {
   "cell_type": "code",
   "execution_count": null,
   "id": "d0f1e171",
   "metadata": {},
   "outputs": [],
   "source": [
    "# extract frames from the videos\n",
    "# will go through all of the videos on the list, so if many videos, it might take a while\n",
    "dlc.extract_frames(config_path, mode='automatic', algo='kmeans', crop=False, userfeedback=True);"
   ]
  },
  {
   "cell_type": "code",
   "execution_count": null,
   "id": "70f86e6a",
   "metadata": {},
   "outputs": [],
   "source": [
    "# label frames\n",
    "# generates folders in the labeled-data folder with the video name\n",
    "dlc.label_frames(config_path)"
   ]
  },
  {
   "cell_type": "code",
   "execution_count": null,
   "id": "5c5326eb",
   "metadata": {},
   "outputs": [],
   "source": [
    "# check the labels\n",
    "# generates folders in the labeled-data folder with the video name but the actual labels printed on the pics\n",
    "dlc.check_labels(config_path, draw_skeleton=False);"
   ]
  },
  {
   "cell_type": "code",
   "execution_count": null,
   "id": "52e829a1",
   "metadata": {},
   "outputs": [],
   "source": [
    "# Used if need to |reconstruct labeling h5 files from csvs\n",
    "dlc.convertcsv2h5(config_path)"
   ]
  },
  {
   "cell_type": "code",
   "execution_count": null,
   "id": "d6652f01",
   "metadata": {},
   "outputs": [],
   "source": [
    "dlc.create_training_dataset?"
   ]
  },
  {
   "cell_type": "code",
   "execution_count": null,
   "id": "1e79b4c3",
   "metadata": {},
   "outputs": [],
   "source": [
    "# create the training set\n",
    "# also creates the Pose.yaml in the dlc-models/train dataset, which contains the setting for training, i.e. take a look\n",
    "dlc.create_training_dataset(config_path, num_shuffles=3,\n",
    "                            augmenter_type='imgaug',\n",
    "                            net_type='resnet_50',\n",
    "                            posecfg_template=r\"D:\\DLC_projects\\vtuning_wirefree_DLC_22\\VTuningWF-Matt-2022-10-25\\pose_cfg.yaml\"\n",
    "                            );"
   ]
  },
  {
   "cell_type": "code",
   "execution_count": null,
   "id": "31e02ecf",
   "metadata": {},
   "outputs": [],
   "source": [
    "dlc.train_network?"
   ]
  },
  {
   "cell_type": "code",
   "execution_count": null,
   "id": "0b7e870e",
   "metadata": {},
   "outputs": [],
   "source": [
    "# train the network\n",
    "dlc.train_network(config_path, shuffle=2,\n",
    "                  gputouse=0, allow_growth=True,\n",
    "                  max_snapshots_to_keep=5, displayiters=5e3, saveiters=25e3, maxiters=200e3)"
   ]
  },
  {
   "cell_type": "code",
   "execution_count": null,
   "id": "5f80ad57",
   "metadata": {},
   "outputs": [],
   "source": [
    "# evaluate the network|\n",
    "dlc.evaluate_network(config_path, Shuffles=[2], plotting=True)"
   ]
  },
  {
   "cell_type": "code",
   "execution_count": null,
   "id": "047bdb9e",
   "metadata": {},
   "outputs": [],
   "source": [
    "dlc.analyze_videos?"
   ]
  },
  {
   "cell_type": "code",
   "execution_count": null,
   "id": "5179b150",
   "metadata": {},
   "outputs": [],
   "source": [
    "test_vids"
   ]
  },
  {
   "cell_type": "code",
   "execution_count": null,
   "id": "a6dd46b8",
   "metadata": {},
   "outputs": [],
   "source": [
    "dlc.analyze_videos(config_path, [test_vids[-1]], shuffle=2, dynamic=(True, .1, 50), gputouse=0)"
   ]
  },
  {
   "cell_type": "code",
   "execution_count": null,
   "id": "7a22d1e7",
   "metadata": {},
   "outputs": [],
   "source": [
    "dlc.filterpredictions?"
   ]
  },
  {
   "cell_type": "code",
   "execution_count": null,
   "id": "64719f08",
   "metadata": {},
   "outputs": [],
   "source": [
    "dlc.filterpredictions(config_path, [test_vids[-1]], shuffle=2, filtertype='arima', p_bound=0.01, ARdegree=3, MAdegree=1, alpha=0.01)"
   ]
  },
  {
   "cell_type": "code",
   "execution_count": null,
   "id": "15113af9",
   "metadata": {},
   "outputs": [],
   "source": [
    "dlc.plot_trajectories?"
   ]
  },
  {
   "cell_type": "code",
   "execution_count": null,
   "id": "2e387776",
   "metadata": {},
   "outputs": [],
   "source": [
    "# Plot tracjectories\n",
    "%matplotlib notebook\n",
    "dlc.plot_trajectories(config_path, [test_vids[-1]], shuffle=2, showfigures=True)"
   ]
  },
  {
   "cell_type": "code",
   "execution_count": null,
   "id": "f96c5401",
   "metadata": {},
   "outputs": [],
   "source": [
    "dlc.create_labeled_video?"
   ]
  },
  {
   "cell_type": "code",
   "execution_count": null,
   "id": "a9d8e5ae",
   "metadata": {},
   "outputs": [],
   "source": [
    "dlc.create_labeled_video(config_path, [test_vids[-1]], shuffle=2, filtered=True, draw_skeleton=True)"
   ]
  },
  {
   "cell_type": "code",
   "execution_count": null,
   "id": "8a04c62d",
   "metadata": {},
   "outputs": [],
   "source": [
    "dlc.extract_outlier_frames?"
   ]
  },
  {
   "cell_type": "code",
   "execution_count": null,
   "id": "36ae115a",
   "metadata": {},
   "outputs": [],
   "source": [
    "# extract outlier frames\n",
    "# dlc.extract_outlier_frames(config_path, project_video_list, outlieralgorithm='uncertain', p_bound=0.6)\n",
    "dlc.extract_outlier_frames(config_path, project_video_list,\n",
    "                          outlieralgorithm='jump', epsilon=8)"
   ]
  },
  {
   "cell_type": "code",
   "execution_count": null,
   "id": "a015421a",
   "metadata": {},
   "outputs": [],
   "source": [
    "dlc.refine_labels(config_path)"
   ]
  },
  {
   "cell_type": "code",
   "execution_count": null,
   "id": "8ef92aea",
   "metadata": {},
   "outputs": [],
   "source": [
    "# Merge the dataset, then move to check labels and retrain\n",
    "dlc.merge_datasets(config_path)"
   ]
  },
  {
   "cell_type": "code",
   "execution_count": null,
   "id": "004aeeb6",
   "metadata": {},
   "outputs": [],
   "source": []
  }
 ],
 "metadata": {
  "celltoolbar": "Initialization Cell",
  "kernelspec": {
   "display_name": "Python 3 (ipykernel)",
   "language": "python",
   "name": "python3"
  },
  "language_info": {
   "codemirror_mode": {
    "name": "ipython",
    "version": 3
   },
   "file_extension": ".py",
   "mimetype": "text/x-python",
   "name": "python",
   "nbconvert_exporter": "python",
   "pygments_lexer": "ipython3",
   "version": "3.8.15"
  },
  "toc": {
   "base_numbering": 1,
   "nav_menu": {},
   "number_sections": true,
   "sideBar": true,
   "skip_h1_title": false,
   "title_cell": "Table of Contents",
   "title_sidebar": "Contents",
   "toc_cell": false,
   "toc_position": {},
   "toc_section_display": true,
   "toc_window_display": false
  },
  "varInspector": {
   "cols": {
    "lenName": 16,
    "lenType": 16,
    "lenVar": 40
   },
   "kernels_config": {
    "python": {
     "delete_cmd_postfix": "",
     "delete_cmd_prefix": "del ",
     "library": "var_list.py",
     "varRefreshCmd": "print(var_dic_list())"
    },
    "r": {
     "delete_cmd_postfix": ") ",
     "delete_cmd_prefix": "rm(",
     "library": "var_list.r",
     "varRefreshCmd": "cat(var_dic_list()) "
    }
   },
   "types_to_exclude": [
    "module",
    "function",
    "builtin_function_or_method",
    "instance",
    "_Feature"
   ],
   "window_display": false
  }
 },
 "nbformat": 4,
 "nbformat_minor": 5
}

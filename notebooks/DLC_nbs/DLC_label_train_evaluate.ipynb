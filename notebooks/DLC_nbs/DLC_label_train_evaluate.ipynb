{
 "cells": [
  {
   "cell_type": "markdown",
   "metadata": {},
   "source": [
    "# This notebook works with the already created project Prey_capture, with an already defined config.yaml"
   ]
  },
  {
   "cell_type": "code",
   "execution_count": null,
   "metadata": {},
   "outputs": [],
   "source": [
    "import deeplabcut\n",
    "import paths\n",
    "import importlib\n",
    "import processing_parameters\n",
    "# define the config_path\n",
    "config_path = paths.config_vame_path"
   ]
  },
  {
   "cell_type": "code",
   "execution_count": null,
   "metadata": {},
   "outputs": [],
   "source": [
    "# extract frames from the videos\n",
    "# will go through all of the videos on the list, so if many videos, it might take a while\n",
    "deeplabcut.extract_frames(config_path, mode='automatic', algo='kmeans', crop = False, userfeedback=False)"
   ]
  },
  {
   "cell_type": "code",
   "execution_count": null,
   "metadata": {},
   "outputs": [],
   "source": [
    "# label frames\n",
    "# generates folders in the labeled-data folder with the video name\n",
    "deeplabcut.label_frames(config_path)"
   ]
  },
  {
   "cell_type": "code",
   "execution_count": null,
   "metadata": {},
   "outputs": [],
   "source": [
    "# check the labels\n",
    "# generates folders in the labeled-data folder with the video name but the actual labels printed on the pics\n",
    "deeplabcut.check_labels(config_path)"
   ]
  },
  {
   "cell_type": "code",
   "execution_count": null,
   "metadata": {},
   "outputs": [],
   "source": [
    "# create the training set\n",
    "# also creates the Pose.yaml in the dlc-models/train dataset, which contains the setting for training, i.e. take a look\n",
    "deeplabcut.create_training_dataset(config_path, augmenter_type = 'imgaug')"
   ]
  },
  {
   "cell_type": "code",
   "execution_count": null,
   "metadata": {},
   "outputs": [],
   "source": [
    "# train the network\n",
    "deeplabcut.train_network(config_path, max_snapshots_to_keep=10)"
   ]
  },
  {
   "cell_type": "code",
   "execution_count": null,
   "metadata": {},
   "outputs": [],
   "source": [
    "# evaluate the network\n",
    "deeplabcut.evaluate_network(config_path,Shuffles=[1], plotting=True)"
   ]
  },
  {
   "cell_type": "code",
   "execution_count": null,
   "metadata": {},
   "outputs": [],
   "source": [
    "# extract outlier frames\n",
    "deeplabcut.extract_outlier_frames(config_path, video, outlieralgorithm='jump', epsilon=200)\n",
    "# deeplabcut.extract_outlier_frames?"
   ]
  },
  {
   "cell_type": "code",
   "execution_count": null,
   "metadata": {},
   "outputs": [],
   "source": [
    "# Refine the labels if the network didn't perform as desired\n",
    "\n",
    "deeplabcut.refine_labels(config_path)\n",
    "# deeplabcut.refine_training_dataset?"
   ]
  },
  {
   "cell_type": "code",
   "execution_count": null,
   "metadata": {},
   "outputs": [],
   "source": [
    "# Add new videos\n",
    "\n",
    "# # define the videos to add\n",
    "# new_video_list = [\n",
    "#     r\"J:\\Drago Guggiana Nilo\\Prey_capture\\VideoExperiment\\06_15_2021_09_56_55_miniscope_DG_210323_b_succ_dark_nofluo_head.avi\",\n",
    "#     r\"J:\\Drago Guggiana Nilo\\Prey_capture\\VideoExperiment\\06_14_2021_11_26_24_miniscope_DG_210323_b_succ_dark_nofluo_head.avi\",\n",
    "#     r\"J:\\Drago Guggiana Nilo\\Prey_capture\\VideoExperiment\\06_17_2021_10_39_40_miniscope_DG_210323_b_succ_dark_head.avi\",\n",
    "#     r\"J:\\Drago Guggiana Nilo\\Prey_capture\\VideoExperiment\\06_17_2021_10_46_31_miniscope_DG_210323_b_succ_dark_head.avi\",\n",
    "#     r\"J:\\Drago Guggiana Nilo\\Prey_capture\\VideoExperiment\\06_17_2021_10_59_21_miniscope_DG_210323_b_succ_dark_head.avi\",\n",
    "#     r\"J:\\Drago Guggiana Nilo\\Prey_capture\\VideoExperiment\\06_18_2021_13_54_19_miniscope_DG_210323_b_succ_dark_head.avi\",\n",
    "#     r\"J:\\Drago Guggiana Nilo\\Prey_capture\\VideoExperiment\\06_18_2021_14_01_27_miniscope_DG_210323_b_succ_dark_head.avi\",\n",
    "#     r\"J:\\Drago Guggiana Nilo\\Prey_capture\\VideoExperiment\\06_18_2021_13_47_49_miniscope_DG_210323_b_succ_dark_head.avi\",\n",
    "# ]\n",
    "\n",
    "new_video_list = [\n",
    "    r\"J:\\Drago Guggiana Nilo\\Prey_capture\\VideoExperiment\\06_30_2021_17_19_57_miniscope_DG_210323_b_objt_nonres.avi\",\n",
    "    r\"J:\\Drago Guggiana Nilo\\Prey_capture\\VideoExperiment\\06_30_2021_17_31_02_miniscope_DG_210323_b_objt_nonres.avi\",\n",
    "    r\"J:\\Drago Guggiana Nilo\\Prey_capture\\VideoExperiment\\06_30_2021_17_44_21_miniscope_DG_210323_b_objt_nonres.avi\",\n",
    "    r\"J:\\Drago Guggiana Nilo\\Prey_capture\\VideoExperiment\\06_30_2021_17_56_56_miniscope_DG_210323_b_objt_nonres.avi\",\n",
    "    r\"J:\\Drago Guggiana Nilo\\Prey_capture\\test_files\\06_30_2021_18_05_40_miniscope_object_medium.avi\",\n",
    "    r\"J:\\Drago Guggiana Nilo\\Prey_capture\\test_files\\06_30_2021_18_07_01_miniscope_object_small.avi\",\n",
    "    r\"J:\\Drago Guggiana Nilo\\Prey_capture\\test_files\\06_30_2021_18_09_49_miniscope_object_large.avi\",\n",
    "]\n",
    "\n",
    "# run the video addition function\n",
    "deeplabcut.add_new_videos(config_path, new_video_list, copy_videos=True)"
   ]
  },
  {
   "cell_type": "code",
   "execution_count": null,
   "metadata": {},
   "outputs": [],
   "source": [
    "# Merge the dataset, then move to check labels and retrain\n",
    "\n",
    "deeplabcut.merge_datasets(config_path)\n",
    "# deeplabcut.merge_datasets?"
   ]
  },
  {
   "cell_type": "code",
   "execution_count": null,
   "metadata": {},
   "outputs": [],
   "source": [
    "# Define the videos to analyze\n",
    "importlib.reload(processing_parameters)\n",
    "# manually define video paths (hand picked as more representative)\n",
    "video = processing_parameters.test_videos\n",
    "print(video)"
   ]
  },
  {
   "cell_type": "code",
   "execution_count": null,
   "metadata": {},
   "outputs": [],
   "source": [
    "# analyze videos\n",
    "\n",
    "# define the video path\n",
    "\n",
    "# video = [r'D:\\DLC_projects\\Prey_capture\\Prey_capture-Drago Guggiana-2020-03-26\\videos\\12_12_2019_15_18_57_miniscope_MM_191108_a_fail.avi']\n",
    "# video = [r'D:\\DLC_projects\\Prey_capture\\Prey_capture-Drago Guggiana-2020-03-26\\videos\\12_07_2019_15_29_41_miniscope_MM_191108_a_succ.avi']\n",
    "# video = [r'J:\\Drago Guggiana Nilo\\Prey_capture\\VideoExperiment\\12_12_2019_15_16_04_miniscope_MM_191108_a_succ.avi']\n",
    "deeplabcut.analyze_videos(config_path, video)\n",
    "deeplabcut.create_labeled_video(config_path, video)"
   ]
  },
  {
   "cell_type": "code",
   "execution_count": null,
   "metadata": {},
   "outputs": [],
   "source": [
    "# plot trajectories\n",
    "\n",
    "# use the path defined above\n",
    "deeplabcut.plot_trajectories(config_path, video)"
   ]
  },
  {
   "cell_type": "code",
   "execution_count": null,
   "metadata": {},
   "outputs": [],
   "source": [
    "# create labeled video\n",
    "importlib.reload(paths)\n",
    "# use the path defined above\n",
    "deeplabcut.create_labeled_video(config_path, video)"
   ]
  }
 ],
 "metadata": {
  "kernelspec": {
   "display_name": "Python [conda env:.conda-DLC-GPU]",
   "language": "python",
   "name": "conda-env-.conda-DLC-GPU-py"
  },
  "language_info": {
   "codemirror_mode": {
    "name": "ipython",
    "version": 3
   },
   "file_extension": ".py",
   "mimetype": "text/x-python",
   "name": "python",
   "nbconvert_exporter": "python",
   "pygments_lexer": "ipython3",
   "version": "3.7.10"
  }
 },
 "nbformat": 4,
 "nbformat_minor": 4
}

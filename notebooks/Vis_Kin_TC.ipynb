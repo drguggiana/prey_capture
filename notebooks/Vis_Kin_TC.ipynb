{
 "cells": [
  {
   "cell_type": "code",
   "execution_count": null,
   "id": "20a09965-323a-4d57-aced-e7f32d7825ed",
   "metadata": {},
   "outputs": [],
   "source": [
    "%load_ext autoreload\n",
    "%autoreload 2\n",
    "\n",
    "# Imports\n",
    "import numpy as np\n",
    "import pandas as pd\n",
    "import panel as pn\n",
    "import holoviews as hv\n",
    "import datashader as dshade\n",
    "import ipywidgets as widgets\n",
    "from ipywidgets import interact, interactive\n",
    "\n",
    "import os\n",
    "import sys\n",
    "import random\n",
    "import importlib\n",
    "import datetime\n",
    "import warnings\n",
    "import math\n",
    "warnings.filterwarnings('ignore')\n",
    "\n",
    "from bokeh.resources import INLINE\n",
    "from bokeh.io import export_svgs, export_png\n",
    "from holoviews import opts, dim\n",
    "from holoviews.operation import histogram\n",
    "from holoviews.operation.datashader import datashade, shade\n",
    "hv.extension('bokeh')\n",
    "# hv.extension('matplotlib')\n",
    "import matplotlib.pyplot as plt\n",
    "\n",
    "\n",
    "sys.path.insert(0, os.path.abspath(r'C:/Users/mmccann/repos/bonhoeffer/prey_capture/'))\n",
    "%aimport paths\n",
    "import processing_parameters\n",
    "import functions_bondjango as bd\n",
    "import functions_plotting as fp\n",
    "import functions_data_handling as fdh\n",
    "import functions_kinematic as fk\n",
    "import functions_tuning as tuning\n",
    "import functions_misc as misc\n",
    "from wirefree_experiment import WirefreeExperiment, DataContainer\n",
    "\n",
    "importlib.reload(fp)\n",
    "# set up the figure theme\n",
    "fp.set_theme()\n",
    "plt.rcParams[\"font.family\"] = \"Arial\"\n",
    "cm = 1./2.54"
   ]
  },
  {
   "cell_type": "code",
   "execution_count": null,
   "id": "d0255979-897d-4d2a-b2b4-a389737d65cb",
   "metadata": {},
   "outputs": [],
   "source": [
    "figure_save_path = r\"C:\\Users\\mmccann\\Dropbox\\bonhoeffer lab\\TAC\\TAC5\\presentation\\media\""
   ]
  },
  {
   "cell_type": "code",
   "execution_count": null,
   "id": "09a3b6d2-9f9b-4cd1-8fa1-c84c696817f6",
   "metadata": {},
   "outputs": [],
   "source": [
    "def plot_compare_matched_vis_tuning(ds_list, cell, tuning_kind='direction', exp_name='', error='std', norm=True, polar=True, axes=None):\n",
    "    if axes is None:\n",
    "        axes = []\n",
    "        fig = plt.figure(layout='constrained', figsize=(32*cm, 2*len(data_list)*cm))\n",
    "        fig.suptitle(f\"Cell {cell}\", fontsize='x-large')\n",
    "        subfigs = fig.subfigures(nrows=len(ds_list), ncols=1, hspace=0.07)\n",
    "    \n",
    "        for i, subfig in enumerate(subfigs):\n",
    "            subfig.suptitle(processing_parameters.wf_label_dictionary[exp_name[i]].title())\n",
    "            \n",
    "            if polar:\n",
    "                ax1 = subfig.add_subplot(121, projection=\"polar\") # direction tuning\n",
    "            else:\n",
    "                ax1 = subfig.add_subplot(121) # tuning\n",
    "                \n",
    "            ax2 = subfig.add_subplot(222) #  resp\n",
    "            ax3 = subfig.add_subplot(224) #  error\n",
    "            ax = np.array([ax1, ax2, ax3])\n",
    "            axes.append(ax)\n",
    "\n",
    "    for sub_ax, ds in zip(axes, ds_list):\n",
    "        sub_ax = fp.plot_tuning_with_stats(ds, cell, tuning_kind=tuning_kind, error=error, norm=norm, polar=polar, axes=sub_ax)\n",
    "\n",
    "    return fig, axes\n",
    "\n",
    "def plot_compare_all_vis_tuning(ds_list, cell, tuning_kind=['direction', 'orientation'], exp_name=[''], error='std', norm=True, polar=True, axes=None, **kwargs):\n",
    "    \n",
    "    if axes is None:\n",
    "        axes = []\n",
    "        figsize = kwargs.get('figsize', (22*cm, 5*cm*(len(ds_list)//len(tuning_kind))))\n",
    "        fig = plt.figure(layout='constrained', figsize=figsize)\n",
    "        # fig.suptitle(f\"Cell {cell}\", fontsize='x-large')\n",
    "        subfigs = fig.subfigures(nrows=len(exp_name), ncols=2, hspace=0.07)\n",
    "    \n",
    "        for i, subfig in enumerate(subfigs.flatten()):\n",
    "            # subfig.suptitle(processing_parameters.wf_label_dictionary[exp_name[(i-1)//len(exp_name)]].title())\n",
    "            \n",
    "            if polar:\n",
    "                ax1 = subfig.add_subplot(121, projection=\"polar\") # tuning\n",
    "            else:\n",
    "                ax1 = subfig.add_subplot(121) # tuning\n",
    "                \n",
    "            ax2 = subfig.add_subplot(122) #  resp\n",
    "            # ax3 = subfig.add_subplot(224) #  error\n",
    "            ax = np.array([ax1, ax2])\n",
    "            axes.append(ax)\n",
    "\n",
    "    tuning_kind = ['direction', 'orientation'] * 2\n",
    "    for i, (ds, sub_ax) in enumerate(zip(ds_list, axes)):\n",
    "        sub_ax = fp.plot_tuning_with_stats(ds, cell, tuning_kind=tuning_kind[i], error=error, norm=norm, polar=polar, axes=sub_ax, figsize=(figsize[0]/2, figsize[1]/2))\n",
    "\n",
    "    return fig, axes"
   ]
  },
  {
   "cell_type": "code",
   "execution_count": null,
   "id": "8c5f81b7-5fc3-4345-95a0-496752cf6c80",
   "metadata": {},
   "outputs": [],
   "source": [
    "def plot_comapre_kine_tuning(data_list, cell, exp_name='', axes=None):\n",
    "    if axes is None:\n",
    "        axes = []\n",
    "        fig = plt.figure(layout='constrained', figsize=(35*cm, 10*len(data_list)*cm))\n",
    "        fig.suptitle(f\"Cell {cell}\", fontsize='x-large')\n",
    "        subfigs = fig.subfigures(nrows=len(data_list), ncols=1, hspace=0.07)\n",
    "\n",
    "        try:\n",
    "            for i, (ds, subfig) in enumerate(zip(data_list, subfigs)):\n",
    "                # subfig.suptitle(processing_parameters.wf_label_dictionary[exp_name[i]].title())\n",
    "                kinem_keys = [key for key in ds.keys() if ('props' not in key) and \n",
    "                      ('counts' not in key) and ('edges' not in key) and (key != \"cell_matches\") and (key != 'rig')]\n",
    "                if len(kinem_keys) > 5:\n",
    "                    rows = 2\n",
    "                    cols = math.ceil(len(kinem_keys) / rows)\n",
    "                    ax = subfig.subplots(ncols=cols, nrows=rows, sharey=True)\n",
    "                else:\n",
    "                    rows = 1\n",
    "                    cols = len(kinem_keys)\n",
    "                    ax = subfig.subplots(ncols=cols, nrows=rows, sharey=True)\n",
    "                axes.append(ax.flatten())\n",
    "                \n",
    "        except TypeError:\n",
    "                # subfigs.suptitle(processing_parameters.wf_label_dictionary[exp_name].title())\n",
    "                kinem_keys = [key for key in data_list[0].keys() if ('props' not in key) and \n",
    "                      ('counts' not in key) and ('edges' not in key) and (key != \"cell_matches\") and (key != 'rig')]\n",
    "                if len(kinem_keys) > 5:\n",
    "                    rows = 2\n",
    "                    cols = math.ceil(len(kinem_keys) / rows)\n",
    "                    ax = subfigs.subplots(ncols=cols, nrows=rows, sharey=True)\n",
    "                else:\n",
    "                    rows = 1\n",
    "                    cols = len(kinem_keys)\n",
    "                    ax = subfigs.subplots(ncols=cols, nrows=rows, sharey=True)\n",
    "                axes.append(ax.flatten())\n",
    "\n",
    "    for i, (sub_ax, data_dict) in enumerate(zip(axes, data_list)):\n",
    "        kinem_keys = [key for key in data_dict.keys() if ('props' not in key) and \n",
    "                      ('counts' not in key) and ('edges' not in key) and (key != \"cell_matches\") and (key != 'rig')]\n",
    "        \n",
    "        for j, (ax, k_key) in enumerate(zip(sub_ax, kinem_keys)):\n",
    "            data = data_dict[k_key]\n",
    "            bin_cols = [col for col in data.columns if ('half' not in col) and ('bin'in col)]\n",
    "            current_bins = processing_parameters.tc_params[k_key]\n",
    "            bins0 = np.linspace(current_bins[0], current_bins[1], processing_parameters.bin_number)\n",
    "            ax.plot(bins0, data.loc[cell, bin_cols].fillna(0).to_numpy())\n",
    "            ax.set_xlabel(processing_parameters.wf_label_dictionary[k_key])\n",
    "            ax.spines['right'].set_visible(False)\n",
    "            ax.spines['top'].set_visible(False)\n",
    "            if j % cols != 0:\n",
    "                ax.spines['left'].set_visible(False)\n",
    "                ax.yaxis.set_ticks_position('none') \n",
    "            else:\n",
    "                ax.set_ylabel('Activity [a.u.]')\n",
    "\n",
    "    return fig, axes"
   ]
  },
  {
   "cell_type": "code",
   "execution_count": null,
   "id": "9cc9eb27-02cd-4d32-8fc1-aa97250759d6",
   "metadata": {},
   "outputs": [],
   "source": [
    "def plot_comapre_kine_tuning_hv(data_list, cell, exp_name='', axes=None):\n",
    "\n",
    "    for i, data_dict in enumerate(data_list):\n",
    "        kinem_keys = [key for key in data_dict.keys() if ('props' not in key) and \n",
    "                      ('counts' not in key) and ('edges' not in key) and (key != \"cell_matches\") and (key != 'rig')]\n",
    "\n",
    "        plot_list = []\n",
    "        for j, k_key in enumerate(kinem_keys):\n",
    "            data = data_dict[k_key]\n",
    "            bin_cols = [col for col in data.columns if ('half' not in col) and ('bin'in col)]\n",
    "            half_0_bin_cols = [col for col in data.columns if ('half_0' in col) and ('bin'in col)]\n",
    "            half_0_bin_cols = [col for col in data.columns if ('half_1' in col) and ('bin'in col)]\n",
    "\n",
    "\n",
    "            current_bins = processing_parameters.tc_params[k_key]\n",
    "            bins0 = np.linspace(current_bins[0], current_bins[1], processing_parameters.bin_number)\n",
    "            var = processing_parameters.wf_label_dictionary[k_key]\n",
    "            curve = hv.Curve((bins0, data.loc[cell, bin_cols].fillna(0).to_numpy()), str(var), 'activity').opts(xlabel=var, ylabel='Activity [a.u.]', line_width=2)\n",
    "\n",
    "\n",
    "            \n",
    "            spread\n",
    "            plot_list.append(curve)\n",
    "            \n",
    "    return plot_list"
   ]
  },
  {
   "cell_type": "code",
   "execution_count": null,
   "id": "7dada5f5-ea75-4f93-a017-c12645ce0130",
   "metadata": {},
   "outputs": [],
   "source": [
    "importlib.reload(processing_parameters)\n",
    "\n",
    "# get the search string\n",
    "search_string = processing_parameters.search_string  # + r\", analysis_type:tc_analysis\"\n",
    "parsed_search = fdh.parse_search_string(search_string)\n",
    "\n",
    "# get the paths from the database\n",
    "file_infos = bd.query_database(\"analyzed_data\", search_string)\n",
    "tc_paths = np.array([el['analysis_path'] for el in file_infos if ('_tcday' in el['slug']) and\n",
    "                        (parsed_search['mouse'].lower() in el['slug'])])\n",
    "rigs = np.array([el['rig'] for el in file_infos if ('_tcday' in el['slug']) and\n",
    "                 (parsed_search['mouse'].lower() in el['slug'])])\n",
    "rev_sort = np.argsort(rigs)[::-1]\n",
    "rigs = rigs[rev_sort]\n",
    "tc_paths = tc_paths[rev_sort]\n",
    "preproc_paths = [file.replace('tcday', 'preproc') for file in tc_paths]\n",
    "\n",
    "# assemble the output path\n",
    "print(tc_paths)\n",
    "print(rigs)\n",
    "\n",
    "tc_data_list = []\n",
    "for file in tc_paths:\n",
    "    data_dict = {}\n",
    "    with pd.HDFStore(file, 'r') as tc:\n",
    "        for key in tc.keys():\n",
    "            data_dict[key.split('/')[-1]] = tc[key]\n",
    "    tc_data_list.append(data_dict)\n",
    "\n",
    "preproc_exp_list = []\n",
    "for file in preproc_paths:\n",
    "    exp = WirefreeExperiment(file, use_xarray=False)\n",
    "    exp.dff = tuning.calculate_dff(exp.raw_fluor)\n",
    "    exp.norm_spikes = tuning.normalize_responses(exp.raw_spikes)\n",
    "    exp.norm_fluor = tuning.normalize_responses(exp.raw_fluor)\n",
    "    exp.norm_dff = tuning.normalize_responses(exp.dff)\n",
    "    preproc_exp_list.append(exp)\n",
    "\n",
    "# Match cells\n",
    "matches = tc_data_list[0]['cell_matches'].dropna()\n",
    "matched_tc_data_list = []\n",
    "matched_preproc_exp = []\n",
    "\n",
    "kinem_keys = []\n",
    "\n",
    "for tc_data, preproc_exp, rig in zip(tc_data_list, preproc_exp_list, rigs):\n",
    "    matched_dict = {}\n",
    "    match_col = np.where([rig in el for el in matches.columns])[0][0]\n",
    "    match_idxs = matches.iloc[:, match_col].to_numpy(dtype=int)\n",
    "    matched_dict['rig'] = rig\n",
    "\n",
    "    # handle tuning curves\n",
    "    kinem = [key for key in tc_data.keys() if ('props' not in key) and ('counts' not in key) \n",
    "             and ('edges' not in key) and (key != \"cell_matches\") and (key != 'rig')]\n",
    "    kinem_keys.append(kinem)\n",
    "    \n",
    "    for feature in tc_data.keys():\n",
    "        # Save matched TCs\n",
    "        if ('counts' not in feature) and ('edges' not in feature) and (feature != \"cell_matches\"):\n",
    "            matched_dict[feature] = tc_data[feature].iloc[match_idxs, :].reset_index(names='original_cell_id')\n",
    "\n",
    "    matched_tc_data_list.append(matched_dict)\n",
    "\n",
    "    # handle preproc data\n",
    "    noncell_cols = [col for col in preproc_exp.dff.columns if 'cell' not in col]\n",
    "    matched_cell_cols = [f'cell_{idx:04}' for idx in match_idxs]\n",
    "    rename_cell_cols = [f'cell_{idx:04}' for idx in np.arange(len(match_idxs))]\n",
    "    rename_dict = dict(zip(matched_cell_cols, rename_cell_cols))\n",
    "    preproc_exp.matched_dff = preproc_exp.dff.loc[:, noncell_cols + matched_cell_cols].rename(columns=rename_dict)\n",
    "    preproc_exp.matched_norm_spikes = preproc_exp.norm_spikes.loc[:, noncell_cols + matched_cell_cols].rename(columns=rename_dict)\n",
    "    preproc_exp.matched_norm_fluor = preproc_exp.norm_fluor.loc[:, noncell_cols + matched_cell_cols].rename(columns=rename_dict)\n",
    "    preproc_exp.matched_norm_dff = preproc_exp.norm_dff.loc[:, noncell_cols + matched_cell_cols].rename(columns=rename_dict)\n",
    "    matched_preproc_exp.append(preproc_exp)"
   ]
  },
  {
   "cell_type": "code",
   "execution_count": null,
   "id": "2e8331f7-33e9-4c18-9041-794b081cd28b",
   "metadata": {},
   "outputs": [],
   "source": [
    "np.std(ds['head_direction'].half_1_bin_0)"
   ]
  },
  {
   "cell_type": "code",
   "execution_count": null,
   "id": "6009fc60-9fa2-484d-90cd-126e368723c0",
   "metadata": {},
   "outputs": [],
   "source": [
    "np.std(ds['head_direction'].half_0_bin_0)"
   ]
  },
  {
   "cell_type": "code",
   "execution_count": null,
   "id": "4d848c94-2aa2-4bb1-a0ca-cbf89c819c27",
   "metadata": {},
   "outputs": [],
   "source": [
    "ds['head_direction'].bin_0"
   ]
  },
  {
   "cell_type": "markdown",
   "id": "1d0f6d55-ff81-495c-99d7-f6b4873f861b",
   "metadata": {},
   "source": [
    "# View Tuning Curves"
   ]
  },
  {
   "cell_type": "code",
   "execution_count": null,
   "id": "652142dd",
   "metadata": {},
   "outputs": [],
   "source": [
    "datasets[0].shuffle_dsi_abs[1]"
   ]
  },
  {
   "cell_type": "code",
   "execution_count": null,
   "id": "d65db1a9-0014-4f57-8a4d-abc91b83c1b7",
   "metadata": {},
   "outputs": [],
   "source": [
    "ds_names = [key for key in matched_tc_data_list[0].keys() if ('props' in key) and ('still' in key)]\n",
    "datasets = [dataset[ds_name] for dataset in matched_tc_data_list for ds_name in ds_names]\n",
    "print(ds_names)\n",
    "print(datasets[0].columns)"
   ]
  },
  {
   "cell_type": "code",
   "execution_count": null,
   "id": "a740d6be-c753-4fb4-9205-3b92a93a7b09",
   "metadata": {},
   "outputs": [],
   "source": [
    "hist_resp = datasets[0].shuffle_dsi_abs[1]\n",
    "hist_resp[~np.isfinite(hist_resp)] = 0\n",
    "real_resp = datasets[0].dsi_abs[1]\n",
    "edges = np.arange(0, 1, 0.05)\n",
    "plt.hist(np.abs(hist_resp), bins=edges, edgecolor=\"black\")\n",
    "plt.axvline(x=abs(real_resp), color='r', linestyle='dashed', linewidth=2)"
   ]
  },
  {
   "cell_type": "code",
   "execution_count": null,
   "id": "c3816357",
   "metadata": {},
   "outputs": [],
   "source": [
    "len(datasets)"
   ]
  },
  {
   "cell_type": "code",
   "execution_count": null,
   "id": "a81e5b91-4af8-472e-a5bd-cceef8b1941e",
   "metadata": {},
   "outputs": [],
   "source": [
    "ds = datasets[1]\n",
    "cell = 9\n",
    "counts, edges = np.histogram(ds.bootstrap_osi[cell])\n",
    "a = ds.bootstrap_osi[cell]\n",
    "a[a == -np.inf] = 0\n",
    "plt.hist(a, bins=20)\n",
    "plt.axvline(ds.osi[cell], color='r')\n",
    "# plt.xlim((-1,1))"
   ]
  },
  {
   "cell_type": "code",
   "execution_count": null,
   "id": "2f84c826-96be-4fba-8cf3-743d1931d100",
   "metadata": {},
   "outputs": [],
   "source": [
    "datasets[1].trial_resp_norm[1]"
   ]
  },
  {
   "cell_type": "code",
   "execution_count": null,
   "id": "61269997-a261-4d8e-af36-0563ccf00edc",
   "metadata": {},
   "outputs": [],
   "source": [
    "ds_names = [key for key in matched_tc_data_list[0].keys() if ('props' in key) and ('still' in key)]\n",
    "datasets = [dataset[ds_name] for dataset in matched_tc_data_list for ds_name in ds_names]\n",
    "\n",
    "matched_vis_fig = interactive(plot_compare_all_vis_tuning,\n",
    "                              ds_list=widgets.fixed(datasets),\n",
    "                              cell=np.arange(len(matches)), \n",
    "                              tuning_kind = widgets.fixed(['direction', 'orientation']),\n",
    "                              exp_name = widgets.fixed(rigs),\n",
    "                              error = ['std', 'sem'],\n",
    "                              polar=[True, False],\n",
    "                              norm=widgets.fixed(True),\n",
    "                              axes=widgets.fixed(None))\n",
    "matched_vis_fig"
   ]
  },
  {
   "cell_type": "code",
   "execution_count": null,
   "id": "8222be90-3854-440e-8a27-59d025d623a6",
   "metadata": {},
   "outputs": [],
   "source": [
    "matched_vis_fig.result[0].savefig(os.path.join(figure_save_path, 'Fig3', 'matched_cell_tc.png'), dpi=1000, format='png')"
   ]
  },
  {
   "cell_type": "code",
   "execution_count": null,
   "id": "e784d7bd-a86b-4d5e-a2f2-04c5f75c7bde",
   "metadata": {},
   "outputs": [],
   "source": [
    "matched_kinem_fig = interactive(plot_comapre_kine_tuning,\n",
    "                                 data_list=widgets.fixed(matched_tc_data_list),\n",
    "                                 cell=np.arange(len(matches)), \n",
    "                                 exp_name=widgets.fixed(rigs),\n",
    "                                 axes=widgets.fixed(None))\n",
    "matched_kinem_fig"
   ]
  },
  {
   "cell_type": "code",
   "execution_count": null,
   "id": "97ae7e04-11b2-49e2-9dfd-61d78b64fc6a",
   "metadata": {},
   "outputs": [],
   "source": [
    "matched_kinem_fig.result[0].savefig(os.path.join(figure_save_path, 'Fig3', 'matched_cell8_tc.svg'), dpi=1000, format='svg')"
   ]
  },
  {
   "cell_type": "code",
   "execution_count": null,
   "id": "9464ae1c-e7df-4634-b42f-8efbf5004234",
   "metadata": {},
   "outputs": [],
   "source": [
    "frac_cons = matched_tc_data_list[1]['head_direction']['Cons_test'].sum() / matched_tc_data_list[1]['head_direction']['Cons_test'].count()\n",
    "frac_resp = matched_tc_data_list[1]['head_direction']['Resp_test'].sum() / matched_tc_data_list[1]['head_direction']['Resp_test'].count()\n",
    "frac_qual = matched_tc_data_list[1]['head_direction']['Qual_test'].sum() / matched_tc_data_list[1]['head_direction']['Qual_test'].count()"
   ]
  },
  {
   "cell_type": "markdown",
   "id": "25277d84-be33-4859-871a-9d67b33e0c35",
   "metadata": {},
   "source": [
    "## Plot cells with the highest responsivity index"
   ]
  },
  {
   "cell_type": "code",
   "execution_count": null,
   "id": "5438ba19-f1c3-4d7d-8de0-9013c1c56d60",
   "metadata": {},
   "outputs": [],
   "source": [
    "ds_names = [key for key in matched_tc_data_list[0].keys() if ('props' in key) and ('still' in key)]\n",
    "\n",
    "idx = 1\n",
    "rig = rigs[idx]\n",
    "ds = tc_data_list[idx]\n",
    "cells = np.arange(ds['norm_spikes_viewed_still_direction_props'].shape[0])\n",
    "sorted_responsivity = ds['norm_spikes_viewed_still_direction_props'].reset_index(names='original_cell_id').sort_values('responsivity', ascending=False)\n",
    "responsive_cells = sorted_responsivity.index.to_list()\n",
    "\n",
    "vis_tc_fig = interactive(plot_compare_all_vis_tuning,\n",
    "                              ds_list=widgets.fixed([ds[name] for name in ds_names]),\n",
    "                              cell=responsive_cells, \n",
    "                              tuning_kind = widgets.fixed(['direction', 'orientation']),\n",
    "                              exp_name = widgets.fixed([rig]),\n",
    "                              error = ['std', 'sem'],\n",
    "                              polar=[True, False],\n",
    "                              norm=widgets.fixed(True),\n",
    "                              axes=widgets.fixed(None))\n",
    "vis_tc_fig"
   ]
  },
  {
   "cell_type": "code",
   "execution_count": null,
   "id": "817a47ba-3c1d-4f44-9b98-578f2029cb77",
   "metadata": {},
   "outputs": [],
   "source": [
    "vis_tc_fig.result[0].savefig(os.path.join(figure_save_path, 'Fig2', 'cell20_free_vis_tc.png'), dpi=1000, format='png')"
   ]
  },
  {
   "cell_type": "code",
   "execution_count": null,
   "id": "c76013f9-6c39-4834-8898-da9a5fe2cbab",
   "metadata": {},
   "outputs": [],
   "source": [
    "kinem_tc_fig = interactive(plot_comapre_kine_tuning,\n",
    "             data_list=widgets.fixed([ds]),\n",
    "             cell=responsive_cells, \n",
    "             exp_name=widgets.fixed(rigs[idx]),\n",
    "             axes=widgets.fixed(None))\n",
    "kinem_tc_fig"
   ]
  },
  {
   "cell_type": "code",
   "execution_count": null,
   "id": "5b1f7931-e79d-4e43-861d-7f1390412667",
   "metadata": {},
   "outputs": [],
   "source": [
    "kinem_tc_fig.result[0].savefig(os.path.join(figure_save_path, 'Fig2', 'cell20_free_kinem_tc.png'), dpi=1000, format='png')"
   ]
  },
  {
   "cell_type": "code",
   "execution_count": null,
   "id": "c11cc87d-38da-4425-9f05-4f0a6f2a962f",
   "metadata": {},
   "outputs": [],
   "source": [
    "kinem_tc_fig = interactive(plot_comapre_kine_tuning_hv,\n",
    "             data_list=widgets.fixed([ds]),\n",
    "             cell=responsive_cells, \n",
    "             exp_name=widgets.fixed(rigs[idx]),\n",
    "             axes=widgets.fixed(None))\n",
    "kinem_tc_fig"
   ]
  },
  {
   "cell_type": "code",
   "execution_count": null,
   "id": "1f73869a-ee5d-4865-935e-df66771c0b86",
   "metadata": {},
   "outputs": [],
   "source": [
    "fig_list = []\n",
    "for i, subfig in enumerate(kinem_tc_fig.result):\n",
    "    subfig.opts(width=500, height=300, xrotation=45, ylabel='', yaxis=None)\n",
    "    subfig = fp.save_figure(subfig, save_path=os.path.join(figure_save_path, 'Fig2', f'cell61_free_kinem_tc_{i}.png'), fig_width=7, dpi=1000, fontsize='poster', target='save', display_factor=0.1)\n",
    "    fig_list.append(subfig)\n",
    "\n",
    "layout = hv.Layout(fig_list).cols(5)\n",
    "layout"
   ]
  },
  {
   "cell_type": "markdown",
   "id": "43148238-7a30-4474-8c4b-5688d8253df6",
   "metadata": {
    "jp-MarkdownHeadingCollapsed": true
   },
   "source": [
    "# View heatmaps"
   ]
  },
  {
   "cell_type": "code",
   "execution_count": null,
   "id": "6a7839ec-514b-48de-85fc-da6942fdd391",
   "metadata": {},
   "outputs": [],
   "source": [
    "%matplotlib widget\n",
    "cell = 'cell_0089'\n",
    "angle_type = 'direction_wrapped'\n",
    "a = preproc_exp_list[0].norm_spikes.groupby([angle_type, 'trial_num'])[cell].agg(list)\n",
    "a = a.droplevel('trial_num').groupby(angle_type).agg(list)\n",
    "a = a.apply(misc.list_lists_to_array).reset_index()\n",
    "a = a.drop(a[a[angle_type] == -1000].index)\n",
    "a['mean_trace'] = a[cell].map(lambda x: np.nanmean(x, axis=0))\n",
    "fig = plt.figure(figsize=(10,5))\n",
    "for idx, row in a.iterrows():\n",
    "    plt.plot(row['mean_trace'][20:120])\n",
    "plt.legend([f'{val:.1f}' for val in a[angle_type].values], ncol=3)"
   ]
  },
  {
   "cell_type": "code",
   "execution_count": null,
   "id": "dd25a28a-993b-48b6-9002-96dad9835c80",
   "metadata": {},
   "outputs": [],
   "source": [
    "def raster_spikes(data, fig=None):\n",
    "    if fig is None:\n",
    "        fig = plt.figure(figsize=(15,5))\n",
    "        ax = plt.axes()\n",
    "        \n",
    "    im = plt.imshow(data, cmap='Reds', aspect='auto')\n",
    "\n",
    "    cax = fig.add_axes([ax.get_position().x1 + 0.01, ax.get_position().y0, 0.02, ax.get_position().height])\n",
    "    cbar = plt.colorbar(im, cax=cax)\n",
    "    cbar.set_label('Activity (a.u.)', rotation=270, labelpad=20)\n",
    "    # t_label = np.arange(0, 121, 20)\n",
    "    # plt.xticks(t_label, t_label*0.05)\n",
    "    # plt.yticks(np.arange(0, mean_resp.shape[0]), [f'{d:.2f}' for d in directions])\n",
    "    # plt.title(cell.replace(\"_\", \" \").capitalize())\n",
    "    # plt.xlabel('Time [sec]')\n",
    "    # plt.ylabel('Directions [$^{\\circ}$]') \n",
    "\n",
    "    return fig"
   ]
  },
  {
   "cell_type": "code",
   "execution_count": null,
   "id": "db4031bf-88d7-4d36-b6ea-abc8090543ad",
   "metadata": {},
   "outputs": [],
   "source": [
    "cell = 'cell_0109'\n",
    "directions = a[angle_type].to_numpy()\n",
    "mean_resp = a['mean_trace'].to_list()\n",
    "mean_resp = misc.list_lists_to_array(mean_resp)\n",
    "fig = plt.figure(figsize=(15,5))\n",
    "ax = plt.axes()\n",
    "im = plt.imshow(mean_resp[:, :120], cmap='Reds', aspect='auto', vmax=1.0)\n",
    "t_label = np.arange(0, 121, 20)\n",
    "plt.xticks(t_label, t_label*0.05)\n",
    "plt.yticks(np.arange(0, mean_resp.shape[0]), [f'{d:.2f}' for d in directions])\n",
    "plt.title(cell.replace(\"_\", \" \").capitalize())\n",
    "plt.xlabel('Time [sec]')\n",
    "plt.ylabel('Directions [$^{\\circ}$]') \n",
    "\n",
    "\n",
    "cax = fig.add_axes([ax.get_position().x1 + 0.01, ax.get_position().y0, 0.02, ax.get_position().height])\n",
    "cbar = plt.colorbar(im, cax=cax)\n",
    "# cbar.clim(0, 1.0)\n",
    "cbar.set_label('Nprm. Activity (a.u.)', rotation=270, labelpad=20)\n",
    "# plt.compact_layout()\n",
    "\n",
    "save_path = os.path.join(r'C:\\Users\\mmccann\\Dropbox\\bonhoeffer lab\\SFN 2023\\poster', f'spikes_{cell}.png')\n",
    "# fp.save_figure(fig, fig_width=8, save_path=save_path, fontsize='poster', target='both')\n",
    "plt.savefig(save_path, dpi=600)"
   ]
  },
  {
   "cell_type": "code",
   "execution_count": null,
   "id": "c17a34d7-68a2-4a52-b0ce-fcc706ffd37e",
   "metadata": {},
   "outputs": [],
   "source": [
    "cells = [col for col in preproc_exp_list[0].raw_spikes.columns if 'cell' in col]\n",
    "a = preproc_exp_list[0].norm_spikes[cells].to_numpy()"
   ]
  },
  {
   "cell_type": "code",
   "execution_count": null,
   "id": "a99bbd25-3e27-4da0-9b37-f352aa255f7a",
   "metadata": {},
   "outputs": [],
   "source": [
    "fig = raster_spikes(a.T)"
   ]
  },
  {
   "cell_type": "code",
   "execution_count": null,
   "id": "59361ddd-fc8c-4cf2-ab09-4b0f5f99e1f3",
   "metadata": {},
   "outputs": [],
   "source": []
  }
 ],
 "metadata": {
  "kernelspec": {
   "display_name": "Python 3 (ipykernel)",
   "language": "python",
   "name": "python3"
  },
  "language_info": {
   "codemirror_mode": {
    "name": "ipython",
    "version": 3
   },
   "file_extension": ".py",
   "mimetype": "text/x-python",
   "name": "python",
   "nbconvert_exporter": "python",
   "pygments_lexer": "ipython3",
   "version": "3.8.16"
  }
 },
 "nbformat": 4,
 "nbformat_minor": 5
}

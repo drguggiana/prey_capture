{
 "cells": [
  {
   "cell_type": "code",
   "execution_count": null,
   "metadata": {},
   "outputs": [],
   "source": [
    "%load_ext autoreload\n",
    "%autoreload 2\n",
    "\n",
    "# Imports\n",
    "import itertools\n",
    "import numpy as np\n",
    "import pandas as pd\n",
    "import scipy.stats as st\n",
    "import panel as pn\n",
    "import seaborn as sns\n",
    "import holoviews as hv\n",
    "import hvplot.pandas\n",
    "import datashader as dshade\n",
    "import ipywidgets as widgets\n",
    "from ipywidgets import interact, interactive\n",
    "from statsmodels.stats.multitest import multipletests\n",
    "\n",
    "import os\n",
    "import sys\n",
    "import random\n",
    "import importlib\n",
    "import warnings\n",
    "import math\n",
    "import h5py\n",
    "warnings.filterwarnings('ignore')\n",
    "\n",
    "from bokeh.resources import INLINE\n",
    "from bokeh.io import export_svgs, export_png\n",
    "from bokeh.plotting import show\n",
    "from holoviews import opts, dim\n",
    "from holoviews.operation import histogram\n",
    "from holoviews.operation.datashader import datashade, shade\n",
    "hv.extension('bokeh')\n",
    "# hv.extension('matplotlib')\n",
    "import matplotlib.pyplot as plt\n",
    "\n",
    "sys.path.insert(0, os.path.abspath(r'C:/Users/mmccann/repos/bonhoeffer/prey_capture/'))\n",
    "%aimport paths\n",
    "import processing_parameters\n",
    "import functions_bondjango as bd\n",
    "import functions_loaders as fl\n",
    "import functions_plotting as fp\n",
    "import functions_data_handling as fdh\n",
    "import functions_kinematic as fk\n",
    "import functions_tuning as tuning\n",
    "import functions_misc as misc\n",
    "from wirefree_experiment import WirefreeExperiment, DataContainer\n",
    "\n",
    "importlib.reload(fp)\n",
    "# set up the figure theme\n",
    "fp.set_theme()\n",
    "plt.rcParams[\"font.family\"] = \"Arial\"\n",
    "cm = 1./2.54\n",
    "figure_save_path = r\"Z:\\Prey_capture\\WF_Figures\""
   ]
  },
  {
   "cell_type": "code",
   "execution_count": null,
   "metadata": {},
   "outputs": [],
   "source": [
    "from umap.umap_ import UMAP\n",
    "from rastermap import Rastermap\n",
    "import sklearn.preprocessing as preproc"
   ]
  },
  {
   "cell_type": "code",
   "execution_count": null,
   "metadata": {},
   "outputs": [],
   "source": [
    "all_paths, all_queries = fl.query_search_list()\n",
    "mice = ['_'.join(os.path.basename(path).split('_')[7:10]) for path in all_paths[0]]\n",
    "print(all_paths)\n",
    "\n",
    "data_list = []\n",
    "# load the data\n",
    "for path, queries in zip(all_paths, all_queries):\n",
    "    \n",
    "    data, _, metadata  = fl.load_preprocessing(path, queries, latents_flag=False)\n",
    "    data_list.append(data)\n",
    "\n",
    "frame_rate = processing_parameters.wf_frame_rate\n",
    "kinem_vars = [processing_parameters.variable_list_free, processing_parameters.variable_list_fixed]\n"
   ]
  },
  {
   "cell_type": "code",
   "execution_count": null,
   "metadata": {},
   "outputs": [],
   "source": [
    "data_dict = {}\n",
    "for ds_list, kinem_var_set, label in zip(data_list, kinem_vars, ['free', 'fixed']):\n",
    "    half1 = []\n",
    "    half2 = []\n",
    "\n",
    "    for ds in ds_list:\n",
    "        if 'wheel_speed' in ds.columns:\n",
    "            ds['wheel_speed_abs'] = ds['wheel_speed'].abs().copy()\n",
    "\n",
    "        data = ds[kinem_var_set]\n",
    "        # Split the halves\n",
    "        halves = np.array_split(data, 2, axis=0)\n",
    "        half1.append(halves[0])\n",
    "        half2.append(halves[1])\n",
    "\n",
    "    data_dict[label + '1'] = pd.concat(half1, axis=0).fillna(0)\n",
    "    data_dict[label + '2'] = pd.concat(half2, axis=0).fillna(0)"
   ]
  },
  {
   "cell_type": "code",
   "execution_count": null,
   "metadata": {},
   "outputs": [],
   "source": [
    "free1_tunings = preproc.StandardScaler().fit_transform(data_dict['free1'].to_numpy())\n",
    "free2_tunings = preproc.StandardScaler().fit_transform(data_dict['free2'].to_numpy())\n",
    "fixed1_tunings = preproc.StandardScaler().fit_transform(data_dict['fixed1'].to_numpy())\n",
    "fixed2_tunings = preproc.StandardScaler().fit_transform(data_dict['fixed2'].to_numpy())"
   ]
  },
  {
   "cell_type": "code",
   "execution_count": null,
   "metadata": {},
   "outputs": [],
   "source": [
    "reducer1 = UMAP(min_dist=0.1, n_neighbors=20)\n",
    "embedded_data1 = reducer1.fit_transform(free1_tunings)\n",
    "embedded_data2 = reducer1.fit_transform(free2_tunings)"
   ]
  },
  {
   "cell_type": "code",
   "execution_count": null,
   "metadata": {},
   "outputs": [],
   "source": [
    "np.save(os.path.join(figure_save_path + r'free1_umap.npy'), embedded_data1)\n",
    "np.save(os.path.join(figure_save_path + r'free2_umap.npy'), embedded_data2)"
   ]
  },
  {
   "cell_type": "code",
   "execution_count": null,
   "metadata": {},
   "outputs": [],
   "source": [
    "reducer2 = UMAP(min_dist=0.1, n_neighbors=10)\n",
    "embedded_data3 = reducer2.fit_transform(fixed1_tunings)\n",
    "embedded_data4 = reducer2.fit_transform(fixed2_tunings)"
   ]
  },
  {
   "cell_type": "code",
   "execution_count": null,
   "metadata": {},
   "outputs": [],
   "source": [
    "np.save(os.path.join(figure_save_path + r'fixed1_umap.npy'), embedded_data3)\n",
    "np.save(os.path.join(figure_save_path + r'fixed2_umap.npy'), embedded_data4)"
   ]
  },
  {
   "cell_type": "code",
   "execution_count": null,
   "metadata": {},
   "outputs": [],
   "source": [
    "perc = 99\n",
    "predictor_columns = kinem_vars[0]\n",
    "plot_list = []\n",
    "\n",
    "for predictor_column in predictor_columns:\n",
    "    label_idx = [idx for idx, el in enumerate(predictor_columns) if predictor_column == el]\n",
    "\n",
    "    for i, (raw_data, embedded_data) in enumerate(zip([free1_tunings, free2_tunings], [embedded_data1, embedded_data2])):\n",
    "        raw_labels = raw_data[:, label_idx]\n",
    "        \n",
    "        raw_labels = np.abs(raw_labels)\n",
    "        raw_labels[raw_labels>np.percentile(raw_labels, perc)] = np.percentile(raw_labels, perc)\n",
    "        raw_labels[raw_labels<np.percentile(raw_labels, 100-perc)] = np.percentile(raw_labels, 100-perc)\n",
    "\n",
    "        half_label = np.ones_like(raw_labels) + i\n",
    "        \n",
    "        plot_data = np.concatenate([embedded_data, raw_labels.reshape((-1, 1)), half_label.reshape((-1, 1))], axis=1)\n",
    "\n",
    "        umap_plot = hv.Scatter(plot_data, kdims=['Dim 1'], vdims=['Dim 2', 'Parameter', 'Half'],  hover_cols=['Parameter'])\n",
    "        # umap_plot = hv.HexTiles(umap_data, kdims=['Dim 1', 'Dim 2'])\n",
    "        umap_plot.opts(colorbar=False, color='Parameter', cmap='Spectral_r', alpha=1, xaxis=None, yaxis=None, tools=['hover'])\n",
    "        umap_plot.opts(width=300, height=300, size=2, title=processing_parameters.wf_label_dictionary[predictor_column])\n",
    "\n",
    "    # save_name = os.path.join(figure_save_path, f\"UMAP_{predictor_column}_{cell_subset}.png\")   \n",
    "    # umap_plot = fp.save_figure(umap_plot, save_path=save_name, fig_width=6, dpi=1000, fontsize='screen', target='save', display_factor=0.1)\n",
    "    plot_list.append(umap_plot)"
   ]
  },
  {
   "cell_type": "code",
   "execution_count": null,
   "metadata": {},
   "outputs": [],
   "source": [
    "layout = hv.Layout(plot_list).cols(5)\n",
    "layout"
   ]
  },
  {
   "cell_type": "code",
   "execution_count": null,
   "metadata": {},
   "outputs": [],
   "source": []
  }
 ],
 "metadata": {
  "kernelspec": {
   "display_name": "prey_capture",
   "language": "python",
   "name": "python3"
  },
  "language_info": {
   "codemirror_mode": {
    "name": "ipython",
    "version": 3
   },
   "file_extension": ".py",
   "mimetype": "text/x-python",
   "name": "python",
   "nbconvert_exporter": "python",
   "pygments_lexer": "ipython3",
   "version": "3.8.16"
  }
 },
 "nbformat": 4,
 "nbformat_minor": 2
}

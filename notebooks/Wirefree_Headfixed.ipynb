{
 "cells": [
  {
   "cell_type": "code",
   "execution_count": null,
   "id": "9eea0c1b-b5b1-46f7-a878-fe32349643f3",
   "metadata": {
    "ExecuteTime": {
     "end_time": "2023-12-05T10:27:50.365480Z",
     "start_time": "2023-12-05T10:27:44.112551400Z"
    }
   },
   "source": [
    "%load_ext autoreload\n",
    "%autoreload 2\n",
    "\n",
    "# Imports\n",
    "import numpy as np\n",
    "import pandas as pd\n",
    "import xarray as xr\n",
    "import panel as pn\n",
    "import holoviews as hv\n",
    "import datashader as dshade\n",
    "import ipywidgets as widgets\n",
    "from ipywidgets import interact\n",
    "\n",
    "import os\n",
    "import sys\n",
    "import random\n",
    "import importlib\n",
    "import datetime\n",
    "import warnings\n",
    "import math\n",
    "import cmath\n",
    "import pycircstat as circ\n",
    "warnings.filterwarnings('ignore')\n",
    "\n",
    "from itertools import zip_longest\n",
    "from scipy.stats import sem, norm, binned_statistic, percentileofscore, ttest_1samp, ttest_ind\n",
    "from scipy.optimize import least_squares\n",
    "\n",
    "from bokeh.resources import INLINE\n",
    "from bokeh.io import export_svgs, export_png\n",
    "from holoviews import opts, dim\n",
    "from holoviews.operation import histogram\n",
    "from holoviews.operation.datashader import datashade, shade\n",
    "hv.extension('bokeh')\n",
    "# hv.extension('matplotlib')\n",
    "import matplotlib.pyplot as plt\n",
    "%matplotlib widget\n",
    "\n",
    "sys.path.insert(0, os.path.abspath(r'C:/Users/mmccann/repos/bonhoeffer/prey_capture/'))\n",
    "%aimport paths\n",
    "import processing_parameters\n",
    "import functions_bondjango as bd\n",
    "import functions_plotting as fp\n",
    "import functions_data_handling as fdh\n",
    "import functions_kinematic as fk\n",
    "import functions_tuning as tuning\n",
    "from functions_misc import list_lists_to_array\n",
    "from wirefree_experiment import WirefreeExperiment, DataContainer\n",
    "\n",
    "importlib.reload(fp)\n",
    "# set up the figure theme\n",
    "fp.set_theme()\n",
    "\n",
    "plt.rcParams[\"font.family\"] = \"Arial\"\n",
    "plt.rcParams['font.size'] = 15\n",
    "cm = 1/2.54  # centimeters in inches"
   ],
   "outputs": []
  },
  {
   "cell_type": "code",
   "execution_count": null,
   "id": "8c338e97-8bb3-4c3d-8962-6ab7680a3871",
   "metadata": {
    "ExecuteTime": {
     "end_time": "2023-12-05T10:27:57.586154900Z",
     "start_time": "2023-12-05T10:27:55.493362900Z"
    }
   },
   "source": [
    "def spike_raster(data, cells=None):\n",
    "        if cells is None:\n",
    "            cells = [el for el in data.columns if 'cell' in el]\n",
    "    \n",
    "        spikes = data.loc[:, cells]\n",
    "    \n",
    "        im = hv.Image((data.time_vector, np.arange(len(cells)), spikes.values.T), \n",
    "                        kdims=['Time (s)', 'Cells'], vdims=['Activity (a.u.)'])\n",
    "        im.opts(width=600) #, cmap='Purples')\n",
    "        return im\n",
    "\n",
    "def trace_raster(data, cells=None, ds_factor=1):\n",
    "    if cells is None:\n",
    "        cells = [el for el in data.columns if 'cell' in el]\n",
    "\n",
    "    trace = data.loc[:, cells]\n",
    "    max_std = trace.std().max()\n",
    "\n",
    "    lines = {i: hv.Curve((data.time_vector, trace.iloc[:, i].values.T + i*max_std)) for i in np.arange(len(cells))}\n",
    "    lineoverlay = hv.NdOverlay(lines, kdims=['Time (s)']).opts(height=500, width=800)\n",
    "    return lineoverlay\n",
    "\n",
    "def plot_fixed_ethogram(experiment, num_cells=15, **kwargs):\n",
    "    kinem = experiment.kinematics\n",
    "    time = kinem.time_vector\n",
    "\n",
    "    # Select cells\n",
    "    cells = np.random.choice(experiment.cells, num_cells)\n",
    "    \n",
    "    fig, axes = plt.subplots(nrows=num_cells+4, ncols=1, sharex=True, **kwargs)\n",
    "    kine_labels = ['trials', 'run speed\\n [m/s]', 'pupil dia.\\n [px]', 'pupil pos.\\n [px]'] \n",
    "\n",
    "    # Plot trials and kinematics\n",
    "    trial_tick = np.where(kinem.trial_num > 0, 1, 0)\n",
    "    axes[0].plot(time, trial_tick, 'k')\n",
    "    \n",
    "    \n",
    "    axes[1].plot(time, np.abs(kinem.wheel_speed), 'k')\n",
    "    axes[1].set_ylim((0, 1))\n",
    "\n",
    "    smoothed_diameter = tuning.normalize(np.unwrap(fk.jump_killer(kinem.pupil_diameter, 2), 10))\n",
    "    axes[2].plot(time, tuning.moving_average(smoothed_diameter, 5), 'k')\n",
    "    axes[2].set_ylim((0, 1))\n",
    "\n",
    "    smoothed_x = np.unwrap(fk.jump_killer(kinem.fit_pupil_center_x, 3), 15)\n",
    "    smoothed_x -= np.mean(smoothed_x)\n",
    "    smoothed_y = np.unwrap(fk.jump_killer(kinem.fit_pupil_center_y, 3), 15)\n",
    "    smoothed_y -= np.mean(smoothed_y)\n",
    "    axes[3].plot(time, smoothed_x, 'k', time, smoothed_y, 'r')\n",
    "    \n",
    "\n",
    "    # Plot neural data\n",
    "    for i, cell in enumerate(cells):\n",
    "        axes[i+4].plot(time, exp.norm_dff[cell], 'k', alpha=0.7)\n",
    "        axes[i+4].plot(time, exp.norm_spikes[cell], 'g', alpha=0.5)\n",
    "        axes[i+4].set_ylim((0, 1))\n",
    "\n",
    "    # Remove ticks\n",
    "    axes_labels = kine_labels  + list(cells)\n",
    "    for i, a in enumerate(axes):\n",
    "        if i < len(kine_labels):\n",
    "            a.set_ylabel(axes_labels[i].capitalize(), rotation=0, va='center', wrap=True, labelpad=25)\n",
    "        else:\n",
    "            a.set_ylabel(axes_labels[i].replace(\"_\", \" \").capitalize(), rotation=0, va='center', wrap=True, labelpad=25)\n",
    "            \n",
    "        a.spines[\"top\"].set_visible(False)\n",
    "        a.spines[\"right\"].set_visible(False)\n",
    "        if i < len(axes)-1:\n",
    "            a.spines[\"bottom\"].set_visible(False)\n",
    "            a.xaxis.set_tick_params(bottom=False)\n",
    "    \n",
    "    axes[-1].set_xlabel (\"Time (s)\")\n",
    "    fig.align_ylabels()\n",
    "\n",
    "    return fig"
   ],
   "outputs": []
  },
  {
   "cell_type": "code",
   "execution_count": null,
   "id": "36d8ebc8-a957-4820-bc8d-42e4ce6f1261",
   "metadata": {
    "ExecuteTime": {
     "end_time": "2023-12-05T10:28:03.342306300Z",
     "start_time": "2023-12-05T10:27:58.853312800Z"
    }
   },
   "source": [
    "importlib.reload(processing_parameters)\n",
    "\n",
    "# get the search string\n",
    "search_string = processing_parameters.search_string + r\", rig:VWheelWF, analysis_type:preprocessing\"\n",
    "\n",
    "# get the paths from the database\n",
    "file_path, paths_all, parsed_query, date_list, animal_list = fdh.fetch_preprocessing(search_string)\n",
    "\n",
    "animal_idxs = [i for i,d in enumerate(animal_list) if d==parsed_query['mouse'].lower()]\n",
    "good_entries = [file_path[index] for index in animal_idxs]\n",
    "input_path = [paths_all[index] for index in animal_idxs]\n",
    "\n",
    "# # assemble the output path\n",
    "print(input_path)\n",
    "\n",
    "exp = WirefreeExperiment(input_path[0], use_xarray=False)\n",
    "exp.dff = tuning.calculate_dff(exp.raw_fluor)\n",
    "exp.norm_spikes = tuning.normalize_responses(exp.raw_spikes)\n",
    "exp.norm_fluor = tuning.normalize_responses(exp.raw_fluor)\n",
    "exp.norm_dff = tuning.normalize_responses(exp.dff)\n",
    "\n",
    "if 'head_pitch' not in exp.kinematics.columns:\n",
    "    pitch = -fk.wrap_negative(exp.kinematics.mouse_xrot_m.values)\n",
    "    exp.kinematics['head_pitch'] = fk.smooth_trace(pitch, range=(-180, 180), kernel_size=10, discont=2*np.pi)\n",
    "    \n",
    "    yaw = fk.wrap_negative(exp.kinematics.mouse_zrot_m.values)\n",
    "    exp.kinematics['head_yaw'] = fk.smooth_trace(yaw, range=(-180, 180), kernel_size=10, discont=2*np.pi)\n",
    "    \n",
    "    roll = fk.wrap_negative(exp.kinematics.mouse_yrot_m.values)\n",
    "    exp.kinematics['head_roll'] = fk.smooth_trace(roll, range=(-180, 180), kernel_size=10, discont=2*np.pi)"
   ],
   "outputs": []
  },
  {
   "cell_type": "code",
   "execution_count": null,
   "id": "6bd4b1a2acfa23c5",
   "metadata": {
    "ExecuteTime": {
     "end_time": "2023-12-05T10:34:46.459477600Z",
     "start_time": "2023-12-05T10:34:45.523723700Z"
    }
   },
   "source": [
    "def get_trial_duration_stats(df, trial_key, time_key):\n",
    "    grouped_trials = df[df[trial_key] > 0].groupby(trial_key)\n",
    "    trial_durations = grouped_trials.apply(lambda x: x[time_key].to_list()[-1] - x[time_key].to_list()[0])\n",
    "    print(trial_durations.min(), trial_durations.max(), trial_durations.mean())\n",
    "    return np.array((trial_durations.min(), trial_durations.max(), trial_durations.mean()))"
   ],
   "outputs": []
  },
  {
   "cell_type": "code",
   "execution_count": null,
   "id": "4590de6dc986290e",
   "metadata": {
    "ExecuteTime": {
     "end_time": "2023-12-05T10:35:17.818223900Z",
     "start_time": "2023-12-05T10:35:16.872827Z"
    }
   },
   "source": [
    "a = get_trial_duration_stats(exp.norm_spikes, 'trial_num', 'time_vector')"
   ],
   "outputs": []
  },
  {
   "cell_type": "code",
   "execution_count": null,
   "id": "1e51d56a-f810-49f7-ae99-add49f719b97",
   "metadata": {},
   "source": [
    "%matplotlib widget\n",
    "fig = plot_fixed_ethogram(exp, num_cells=10, figsize=(15*cm,15*cm))\n",
    "plt.tight_layout()\n",
    "save_path = os.path.join(r'C:\\Users\\mmccann\\Dropbox\\bonhoeffer lab\\SFN 2023\\poster', f'fixed_ethogram.png')\n",
    "# fp.save_figure(fig, fig_width=8, save_path=save_path, fontsize='poster', target='both')\n",
    "# plt.savefig(save_path, dpi=600)"
   ],
   "outputs": []
  },
  {
   "cell_type": "markdown",
   "id": "e8643b27-aabb-4443-a794-ec010561d13f",
   "metadata": {},
   "source": [
    "## Filter by running speed\n",
    "Look at # surviving trials (how many are left?). Running modulation? Bin based on running speed. How well does speed explain the activity of each cell on a given trial? If ccs high, sad.  \n",
    "\n",
    "Split tuning curve trials in 80% train, 20% test. Caclulate fit on train, get R2 to test. Gets an idea of response reliability/goodness, as opposed to robustness to noise with bootstrapping. need to explain clearly why these are"
   ]
  },
  {
   "cell_type": "code",
   "execution_count": null,
   "id": "f9f90ed1-1b6a-4768-8669-6bcce2d11668",
   "metadata": {
    "ExecuteTime": {
     "end_time": "2023-12-05T10:28:16.955370700Z",
     "start_time": "2023-12-05T10:28:16.796302300Z"
    }
   },
   "source": [
    "# Get an idea of the cutoff to be considered still\n",
    "exp.kinematics['wheel_speed_abs'] = np.abs(exp.kinematics['wheel_speed'])\n",
    "speed_cutoff = np.percentile(exp.kinematics.wheel_speed_abs, 80)\n",
    "exp.kinematics['is_running'] = exp.kinematics.wheel_speed_abs >= speed_cutoff"
   ],
   "outputs": []
  },
  {
   "cell_type": "code",
   "execution_count": null,
   "id": "ee49d6c9-04d4-404e-9c46-e739a782596f",
   "metadata": {
    "ExecuteTime": {
     "end_time": "2023-12-05T10:28:20.892655300Z",
     "start_time": "2023-12-05T10:28:20.639921100Z"
    }
   },
   "source": [
    "fig=plt.figure()\n",
    "plt.plot(exp.kinematics.wheel_speed_abs) \n",
    "plt.hlines(speed_cutoff, 0, len(exp.kinematics.wheel_speed_abs), colors='r')\n",
    "plt.show()"
   ],
   "outputs": []
  },
  {
   "cell_type": "code",
   "execution_count": null,
   "id": "81a56a88-5e13-468e-8744-278a69e13ccb",
   "metadata": {
    "ExecuteTime": {
     "end_time": "2023-12-05T10:28:30.898022Z",
     "start_time": "2023-12-05T10:28:30.714853700Z"
    }
   },
   "source": [
    "still_trials = exp.kinematics.groupby('trial_num').filter(lambda x: x['wheel_speed_abs'].mean() < speed_cutoff).trial_num.unique()\n",
    "still_spikes = exp.norm_spikes.loc[exp.norm_spikes.trial_num.isin(still_trials)]\n",
    "exp.norm_spikes_still = still_spikes"
   ],
   "outputs": []
  },
  {
   "cell_type": "code",
   "execution_count": null,
   "id": "e299952b-e8e4-44c1-9869-c5afe445c838",
   "metadata": {},
   "source": [
    "%%time\n",
    "datasets = ['norm_spikes_still'] # 'raw_spikes', 'norm_spikes', \n",
    "for dataset in datasets: \n",
    "    activity = getattr(exp, dataset)\n",
    "    \n",
    "    for tuning_type in ['direction_wrapped', 'orientation']:\n",
    "        props = calculate_visual_tuning(activity, tuning_type, bootstrap_shuffles=1)\n",
    "        \n",
    "        tuning_label = tuning_type.split('_')[0]\n",
    "        setattr(exp, f'{dataset}_{tuning_label}_props', props)"
   ],
   "outputs": []
  },
  {
   "cell_type": "code",
   "execution_count": null,
   "id": "eb2451b5-b7ee-43e5-bcc7-66a60d0bf4aa",
   "metadata": {},
   "source": [
    "%matplotlib inline\n",
    "interact(plot_visual_tuning_curves,\n",
    "         experiment = widgets.fixed(exp),\n",
    "         cell=exp.cells, \n",
    "         data_type=datasets, \n",
    "         error = ['std', 'sem'],\n",
    "         polar=[True, False],\n",
    "         norm=widgets.fixed(True),\n",
    "         axes=widgets.fixed(None))"
   ],
   "outputs": []
  },
  {
   "cell_type": "code",
   "execution_count": null,
   "id": "717a7fab-d485-4f52-9e02-09af2b928581",
   "metadata": {},
   "source": [
    "# Get number of presentation per orientation\n",
    "exp.dff.groupby(['orientation']).apply(lambda x: x.trial_num.unique().size)"
   ],
   "outputs": []
  },
  {
   "cell_type": "markdown",
   "id": "237e96bc-886f-4817-8080-95836a4457c9",
   "metadata": {
    "jp-MarkdownHeadingCollapsed": true
   },
   "source": [
    "# Cell responses by orientation"
   ]
  },
  {
   "cell_type": "code",
   "execution_count": null,
   "id": "852aaeb7-d67e-4222-9b71-5a9ba9decf95",
   "metadata": {},
   "source": [
    "ds = exp.raw_fluor\n",
    "ds.dropna(inplace=True)\n",
    "cells = [col for col in ds if 'cell' in col]\n",
    "trials_per_ori = ds.groupby(['orientation', 'trial_num']).agg(list).groupby(['orientation'])[cells].agg(list).applymap(list_lists_to_array).reset_index()\n",
    "trials_per_ori.drop(trials_per_ori[trials_per_ori.orientation == -1000].index, inplace=True)\n",
    "trials_per_ori.set_index('orientation', inplace=True)\n",
    "trials_averages = trials_per_ori[cells].applymap(np.nanmean, axis=0) \n",
    "\n",
    "plot_list = []\n",
    "\n",
    "for i, cell in enumerate(cells):\n",
    "\n",
    "    cell_resps = trials_per_ori[cell]\n",
    "    cell_mean = trials_averages[cell]\n",
    "    \n",
    "    for k in range(cell_resps.shape[-1]):\n",
    "        resps = cell_resps.iloc[k]\n",
    "        mean = cell_mean.iloc[k]\n",
    "        \n",
    "        trials_list = [hv.Curve(resps[r, :100]).opts(color='blue', alpha=0.25) for r in np.arange(resps.shape[0])]\n",
    "        mean_list = [hv.Curve((np.arange(0, 100), mean[:100])).opts(color='k', xticks=[(0, 0), (50, 2.5)], xlabel='', ylabel='', fontsize={'xticks': 10, 'yticks': 10,})]\n",
    "        \n",
    "        if i == 0:\n",
    "            [mean_plot.opts(title=f\"{cell_resps.index[k]:.1f}\") for mean_plot in mean_list]\n",
    "            \n",
    "        plot_list.append(hv.Overlay(trials_list + mean_list).opts(width=120, height=150))\n",
    "        # plot_list.append(hv.Overlay(mean_list).opts(width=120, height=150))\n",
    "\n",
    "raw_fluor_layout = hv.Layout(plot_list).cols(12)\n",
    "raw_fluor_layout"
   ],
   "outputs": []
  },
  {
   "cell_type": "code",
   "execution_count": null,
   "id": "03cd09e0-e814-416d-abe1-717057056fa4",
   "metadata": {},
   "source": [
    "ds = exp.norm_dff\n",
    "ds.dropna(inplace=True)\n",
    "cells = [col for col in ds if 'cell' in col]\n",
    "trials_per_ori = ds.groupby(['orientation', 'trial_num']).agg(list).groupby(['orientation'])[cells].agg(list).applymap(list_lists_to_array).reset_index()\n",
    "trials_per_ori.drop(trials_per_ori[trials_per_ori.orientation == -1000].index, inplace=True)\n",
    "trials_per_ori.set_index('orientation', inplace=True)\n",
    "trials_averages = trials_per_ori[cells].applymap(np.nanmean, axis=0) \n",
    "\n",
    "plot_list = []\n",
    "\n",
    "for i, cell in enumerate(cells):\n",
    "\n",
    "    cell_resps = trials_per_ori[cell]\n",
    "    cell_mean = trials_averages[cell]\n",
    "    \n",
    "    for k in range(cell_resps.shape[-1]):\n",
    "        resps = cell_resps.iloc[k]\n",
    "        mean = cell_mean.iloc[k]\n",
    "        \n",
    "        trials_list = [hv.Curve(resps[r, :100]).opts(color='blue', alpha=0.25) for r in np.arange(resps.shape[0])]\n",
    "        mean_list = [hv.Curve((np.arange(0, 100), mean[:100])).opts(color='k', xticks=[(0, 0), (50, 2.5)], xlabel='', ylabel='', fontsize={'xticks': 10, 'yticks': 10,})]\n",
    "        \n",
    "        if i == 0:\n",
    "            [mean_plot.opts(title=f\"{cell_resps.index[k]:.1f}\") for mean_plot in mean_list]\n",
    "                \n",
    "        plot_list.append(hv.Overlay(trials_list + mean_list).opts(width=120, height=150))\n",
    "        # plot_list.append(hv.Overlay(mean_list).opts(width=120, height=150))\n",
    "\n",
    "norm_dff_layout = hv.Layout(plot_list).cols(12)\n",
    "norm_dff_layout"
   ],
   "outputs": []
  },
  {
   "cell_type": "code",
   "execution_count": null,
   "id": "605cf34f-6d85-4f91-b6a9-5c1384e786a4",
   "metadata": {},
   "source": [
    "ds = exp.dff\n",
    "ds.dropna(inplace=True)\n",
    "cells = [col for col in ds if 'cell' in col]\n",
    "trials_per_ori = ds.groupby(['orientation', 'trial_num']).agg(list).groupby(['orientation'])[cells].agg(list).applymap(list_lists_to_array).reset_index()\n",
    "trials_per_ori.drop(trials_per_ori[trials_per_ori.orientation == -1000].index, inplace=True)\n",
    "trials_per_ori.set_index('orientation', inplace=True)\n",
    "trials_averages = trials_per_ori[cells].applymap(np.nanmean, axis=0)\n",
    "\n",
    "plot_list = []\n",
    "\n",
    "for i, cell in enumerate(cells):\n",
    "\n",
    "    cell_resps = trials_per_ori[cell]\n",
    "    cell_mean = trials_averages[cell]\n",
    "    \n",
    "    for k in range(cell_resps.shape[-1]):\n",
    "        resps = cell_resps.iloc[k]\n",
    "        mean = cell_mean.iloc[k]\n",
    "        \n",
    "        trials_list = [hv.Curve(resps[r, :100]).opts(color='blue', alpha=0.25) for r in np.arange(resps.shape[0])]\n",
    "        mean_list = [hv.Curve((np.arange(0, 100), mean[:100])).opts(color='k', xticks=[(0, 0), (50, 2.5)], xlabel='', ylabel='', fontsize={'xticks': 10, 'yticks': 10,})]\n",
    "        \n",
    "        if i == 0:\n",
    "            [mean_plot.opts(title=f\"{cell_resps.index[k]:.1f}\") for mean_plot in mean_list]\n",
    "                \n",
    "        plot_list.append(hv.Overlay(trials_list + mean_list).opts(width=120, height=150))\n",
    "        # plot_list.append(hv.Overlay(mean_list).opts(width=120, height=150))\n",
    "dff_layout = hv.Layout(plot_list).cols(12)\n",
    "dff_layout"
   ],
   "outputs": []
  },
  {
   "cell_type": "code",
   "execution_count": null,
   "id": "13485bbd-e1e7-4042-b5d6-9d203a32f8cc",
   "metadata": {},
   "source": [
    "ds = exp.norm_spikes\n",
    "ds.dropna(inplace=True)\n",
    "cells = [col for col in ds if 'cell' in col]\n",
    "trials_per_ori = ds.groupby(['orientation', 'trial_num']).agg(list).groupby(['orientation'])[cells].agg(list).applymap(list_lists_to_array).reset_index()\n",
    "trials_per_ori.drop(trials_per_ori[trials_per_ori.orientation == -1000].index, inplace=True)\n",
    "trials_per_ori.set_index('orientation', inplace=True)\n",
    "trials_averages = trials_per_ori[cells].applymap(np.nanmean, axis=0)\n",
    "\n",
    "plot_list = []\n",
    "\n",
    "for i, cell in enumerate(cells):\n",
    "\n",
    "    cell_resps = trials_per_ori[cell]\n",
    "    cell_mean = trials_averages[cell]\n",
    "    \n",
    "    for k in range(cell_resps.shape[-1]):\n",
    "        resps = cell_resps.iloc[k]\n",
    "        mean = cell_mean.iloc[k]\n",
    "        \n",
    "        trials_list = [hv.Curve(resps[r, :100]).opts(color='blue', alpha=0.25) for r in np.arange(resps.shape[0])]\n",
    "        mean_list = [hv.Curve((np.arange(0, 100), mean[:100])).opts(color='k', xticks=[(0, 0), (50, 2.5)], xlabel='', ylabel='', fontsize={'xticks': 10, 'yticks': 10,})]\n",
    "        \n",
    "        if i == 0:\n",
    "            [mean_plot.opts(title=f\"{cell_resps.index[k]:.1f}\") for mean_plot in mean_list]\n",
    "                \n",
    "        plot_list.append(hv.Overlay(trials_list + mean_list).opts(width=120, height=150))\n",
    "        # plot_list.append(hv.Overlay(mean_list).opts(width=120, height=150))\n",
    "norm_spikes_layout = hv.Layout(plot_list).cols(12)\n",
    "norm_spikes_layout"
   ],
   "outputs": []
  },
  {
   "cell_type": "code",
   "execution_count": null,
   "id": "8b06b57e-7290-4119-aea5-2c889dae70fe",
   "metadata": {},
   "source": [
    "ds = exp.raw_spikes\n",
    "ds.dropna(inplace=True)\n",
    "cells = [col for col in ds if 'cell' in col]\n",
    "trials_per_ori = ds.groupby(['orientation', 'trial_num']).agg(list).groupby(['orientation'])[cells].agg(list).applymap(list_lists_to_array).reset_index()\n",
    "trials_per_ori.drop(trials_per_ori[trials_per_ori.orientation == -1000].index, inplace=True)\n",
    "trials_per_ori.set_index('orientation', inplace=True)\n",
    "trials_averages = trials_per_ori[cells].applymap(np.nanmean, axis=0)\n",
    "\n",
    "plot_list = []\n",
    "\n",
    "for i, cell in enumerate(cells):\n",
    "\n",
    "    cell_resps = trials_per_ori[cell]\n",
    "    cell_mean = trials_averages[cell]\n",
    "    \n",
    "    for k in range(cell_resps.shape[-1]):\n",
    "        resps = cell_resps.iloc[k]\n",
    "        mean = cell_mean.iloc[k]\n",
    "        \n",
    "        trials_list = [hv.Curve(resps[r, :100]).opts(color='blue', alpha=0.25) for r in np.arange(resps.shape[0])]\n",
    "        mean_list = [hv.Curve((np.arange(0, 100), mean[:100])).opts(color='k', xticks=[(0, 0), (50, 2.5)], xlabel='', ylabel='', fontsize={'xticks': 10, 'yticks': 10,})]\n",
    "        \n",
    "        if i == 0:\n",
    "            [mean_plot.opts(title=f\"{cell_resps.index[k]:.1f}\") for mean_plot in mean_list]\n",
    "                \n",
    "        plot_list.append(hv.Overlay(trials_list + mean_list).opts(width=120, height=150))\n",
    "        # plot_list.append(hv.Overlay(mean_list).opts(width=120, height=150))\n",
    "raw_spikes_layout = hv.Layout(plot_list).cols(12)\n",
    "raw_spikes_layout"
   ],
   "outputs": []
  },
  {
   "cell_type": "markdown",
   "id": "e386d699-bbfe-4586-8057-bbb220c8818f",
   "metadata": {
    "jp-MarkdownHeadingCollapsed": true
   },
   "source": [
    "# Cell responses by visual stimulus"
   ]
  },
  {
   "cell_type": "code",
   "execution_count": null,
   "id": "e8329979-2deb-4a60-b252-7a57a389a90c",
   "metadata": {},
   "source": [
    "ds = exp.norm_dff\n",
    "ds.dropna(inplace=True)\n",
    "cells = [col for col in ds if 'cell' in col]\n",
    "trials_per_ori = ds.groupby(['trial_num']).agg(list).groupby(['orientation'])[cells].agg(list).applymap(list_lists_to_array).reset_index()\n",
    "trials_per_ori.drop(trials_per_ori[trials_per_ori.orientation == -1000].index, inplace=True)\n",
    "trials_per_ori.set_index('orientation', inplace=True)\n",
    "trials_averages = trials_per_ori[cells].applymap(np.nanmean, axis=0) \n",
    "\n",
    "plot_list = []\n",
    "\n",
    "for i, cell in enumerate(cells):\n",
    "\n",
    "    cell_resps = trials_per_ori[cell]\n",
    "    cell_mean = trials_averages[cell]\n",
    "    \n",
    "    for k in range(cell_resps.shape[-1]):\n",
    "        resps = cell_resps.iloc[k]\n",
    "        mean = cell_mean.iloc[k]\n",
    "        \n",
    "        trials_list = [hv.Curve(resps[r, :100]).opts(color='blue', alpha=0.25) for r in np.arange(resps.shape[0])]\n",
    "        mean_list = [hv.Curve((np.arange(0, 100), mean[:100])).opts(color='k', xticks=[(0, 0), (50, 2.5)], xlabel='', ylabel='', fontsize={'xticks': 10, 'yticks': 10,})]\n",
    "        \n",
    "        if i == 0:\n",
    "            [mean_plot.opts(title=f\"{cell_resps.index[k]:.1f}\") for mean_plot in mean_list]\n",
    "                \n",
    "        plot_list.append(hv.Overlay(trials_list + mean_list).opts(width=120, height=150))\n",
    "        # plot_list.append(hv.Overlay(mean_list).opts(width=120, height=150))\n",
    "\n",
    "norm_dff_layout = hv.Layout(plot_list).cols(12)\n",
    "norm_dff_layout"
   ],
   "outputs": []
  },
  {
   "cell_type": "markdown",
   "id": "283a5bc8-091b-4e2c-9175-b0144237e83d",
   "metadata": {},
   "source": [
    "# Visual stimulus triggered responses"
   ]
  },
  {
   "cell_type": "code",
   "execution_count": null,
   "id": "10b652308ee5ea7d",
   "metadata": {
    "ExecuteTime": {
     "start_time": "2023-12-05T10:35:31.831443900Z"
    },
    "is_executing": true
   },
   "source": [
    "# Test with just trial_num agg\n",
    "ds = exp.norm_dff\n",
    "ds.dropna(inplace=True)\n",
    "\n",
    "frame_rate = processing_parameters.wf_frame_rate    #fps\n",
    "cells = [col for col in ds if 'cell' in col]\n",
    "trial_idx_frames = ds[ds.trial_num > 0.0].groupby(['trial_num']).apply(lambda x: [x.index[0], x.index[-1]])\n",
    "trial_idx_frames = np.array(trial_idx_frames.to_list())\n",
    "\n",
    "trial_idx_frames[:, 0] -= 2 * frame_rate\n",
    "trial_idx_frames[:, 1] += 2 * frame_rate\n",
    "if trial_idx_frames[-1, 1] > ds.index[-1]:\n",
    "    trial_idx_frames[-1, 1] = ds.index[-1]\n",
    "if trial_idx_frames[0, 0] < 0:\n",
    "    trial_idx_frames[0, 0] = 0\n",
    "    \n",
    "traces = []\n",
    "for i, frame in enumerate(trial_idx_frames):\n",
    "    ds_slice = ds.iloc[frame[0]:frame[1], :].copy()\n",
    "    ds_slice['trial'] = i\n",
    "    traces.append(ds_slice)\n",
    "\n",
    "traces = pd.concat(traces, axis=0).reset_index(drop=True)\n",
    "traces = traces.groupby('trial').agg(list)\n",
    "\n",
    "plot_list = []\n",
    "\n",
    "for cell in cells:\n",
    "    resps = list_lists_to_array(traces[cell].tolist(), prepend=True)\n",
    "    mean = np.nanmean(resps, axis=0)\n",
    "\n",
    "    trials_list = [hv.Curve(resps[r, :]).opts(color='blue', alpha=0.15) for r in np.arange(resps.shape[0])]\n",
    "    mean_list = [hv.Curve((np.arange(0, mean.shape[0]), mean)).opts(color='red', alpha=0.5, xticks=[(0, -2), (40, 0), (90, 2.5), (140, 5)], xlabel='', ylabel='', title=cell, fontsize={'xticks': 10, 'yticks': 10,})]\n",
    "    vlines = [hv.VLine(40).opts(color='k', line_width=1), hv.VLine(140).opts(color='k', line_width=1)]\n",
    "    plot_list.append(hv.Overlay(trials_list + mean_list + vlines).opts(width=150, height=150))\n",
    "\n",
    "vis_trig_avg = hv.Layout(plot_list).cols(10)\n",
    "vis_trig_avg"
   ],
   "outputs": []
  },
  {
   "cell_type": "markdown",
   "id": "ce07c9d6-1ddc-487a-bbbc-345e16ce2224",
   "metadata": {},
   "source": [
    "# Running onset triggered responses"
   ]
  },
  {
   "cell_type": "code",
   "execution_count": null,
   "id": "c892a247-50f4-49ec-b9c6-9c59fcda992a",
   "metadata": {
    "ExecuteTime": {
     "start_time": "2023-12-05T10:32:07.248606500Z"
    }
   },
   "source": [
    "def consecutive(data, stepsize=1):\n",
    "    return np.split(data, np.where(np.diff(data) > stepsize)[0]+1)"
   ],
   "outputs": []
  },
  {
   "cell_type": "code",
   "execution_count": null,
   "id": "c96e646c-780b-438c-8980-fcd7a2690942",
   "metadata": {
    "ExecuteTime": {
     "start_time": "2023-12-05T10:32:07.250642300Z"
    }
   },
   "source": [
    "ds = exp.norm_dff\n",
    "ds.dropna(inplace=True)\n",
    "\n",
    "a = exp.kinematics[exp.kinematics.is_running > 0].index.to_numpy()\n",
    "# Group contiuous bouts\n",
    "min_duration = processing_parameters.wf_frame_rate * 1\n",
    "bouts = [bout for bout in consecutive(a, stepsize=min_duration) if len(bout) >= min_duration]\n",
    "bouts = np.array([[bout[0], bout[0] + 5*processing_parameters.wf_frame_rate] for bout in bouts])\n",
    "\n",
    "bouts[:, 0] -= 2 * processing_parameters.wf_frame_rate\n",
    "# bouts[:, 1] += 2* processing_parameters.wf_frame_rate\n",
    "if bouts[-1, 1] > ds.index[-1]:\n",
    "    bouts[-1, 1] = ds.index[-1]\n",
    "if bouts[0, 0] < 0:\n",
    "    bouts[0, 0] = 0\n",
    "    \n",
    "traces = []\n",
    "for i, frame in enumerate(bouts):\n",
    "    ds_slice = ds.iloc[frame[0]:frame[1], :].copy()\n",
    "    ds_slice['trial'] = i\n",
    "    traces.append(ds_slice)\n",
    "\n",
    "traces = pd.concat(traces, axis=0).reset_index(drop=True)\n",
    "traces = traces.groupby('trial').agg(list)\n",
    "\n",
    "plot_list = []\n",
    "\n",
    "for cell in cells:\n",
    "    resps = list_lists_to_array(traces[cell].tolist(), prepend=True)\n",
    "    mean = np.nanmean(resps, axis=0)\n",
    "\n",
    "    trials_list = [hv.Curve(resps[r, :]).opts(color='blue', alpha=0.15) for r in np.arange(resps.shape[0])]\n",
    "    mean_list = [hv.Curve((np.arange(0, mean.shape[0]), mean)).opts(color='red', xticks=[(0, -2), (40, 0), (90, 2.5), (140, 5)], xlabel='', ylabel='', title=cell, fontsize={'xticks': 10, 'yticks': 10,})]\n",
    "    vlines = [hv.VLine(40).opts(color='k', line_width=2), hv.VLine(140).opts(color='k', line_width=2)]\n",
    "    plot_list.append(hv.Overlay(trials_list + mean_list + vlines).opts(width=120, height=150))\n",
    "\n",
    "running_trig_avg = hv.Layout(plot_list).cols(10)\n",
    "running_trig_avg"
   ],
   "outputs": []
  },
  {
   "cell_type": "code",
   "execution_count": null,
   "id": "079320c3-345a-4dbd-9923-f50111a12470",
   "metadata": {},
   "source": [
    "ds = exp.norm_dff\n",
    "ds.dropna(inplace=True)\n",
    "\n",
    "frame_rate = processing_parameters.wf_frame_rate    #fps\n",
    "cells = [col for col in ds if 'cell' in col]\n",
    "trial_idx_frames = ds[ds.direction > -1000].groupby(['trial_num']).apply(lambda x: [x.index[0], x.index[0] + 5*frame_rate])\n",
    "trial_idx_frames = np.array(trial_idx_frames.to_list())\n",
    "\n",
    "# trial_idx_frames[:, 0] -= 2* frame_rate\n",
    "# trial_idx_frames[:, 1] += 2* frame_rate\n",
    "if trial_idx_frames[-1, 1] > ds.index[-1]:\n",
    "    trial_idx_frames[-1, 1] = ds.index[-1]\n",
    "if trial_idx_frames[0, 0] < 0:\n",
    "    trial_idx_frames[0, 0] = 0\n",
    "    \n",
    "traces = []\n",
    "for i, frame in enumerate(trial_idx_frames):\n",
    "    ds_slice = ds.iloc[frame[0]:frame[1], :].copy()\n",
    "    ds_slice['trial_num'] = i + 1\n",
    "    traces.append(ds_slice)\n",
    "\n",
    "traces = pd.concat(traces, axis=0).reset_index(drop=True)\n",
    "mean_trial_activity = traces.groupby(['direction_wrapped', 'trial_num']).agg(np.nanmean).reset_index()\n",
    "mean_trial_activity = mean_trial_activity.drop(mean_trial_activity[mean_trial_activity.direction_wrapped == -1000].index).sort_values('trial_num')"
   ],
   "outputs": []
  },
  {
   "cell_type": "code",
   "execution_count": null,
   "id": "f54c2cbf-268f-48c2-a5b2-76a437c3b741",
   "metadata": {},
   "source": [
    "mean_trial_activity.direction_wrapped.unique()"
   ],
   "outputs": []
  },
  {
   "cell_type": "markdown",
   "id": "95802f2f-2d93-4dd8-b06d-f54e374f92ec",
   "metadata": {},
   "source": [
    "# Check trials"
   ]
  },
  {
   "cell_type": "code",
   "execution_count": null,
   "id": "2e176270-194a-46ae-bc02-50b91f15c030",
   "metadata": {},
   "source": [
    "ds = exp.norm_dff\n",
    "ds.dropna(inplace=True)\n",
    "cells = [col for col in ds if 'cell' in col]"
   ],
   "outputs": []
  },
  {
   "cell_type": "code",
   "execution_count": null,
   "id": "14ea4de9-65e3-42aa-8167-bd266da72475",
   "metadata": {},
   "source": [
    "%matplotlib inline\n",
    "ds_drop = ds[ds.trial_num > 0].copy()\n",
    "trial_duration = ds_drop.groupby(['trial_num']).apply(lambda x: x['time_vector'].to_list()[-1] - x['time_vector'].to_list()[0])\n",
    "start_stop_trial = ds_drop.groupby(['trial_num']).apply(lambda x: [x['time_vector'].to_list()[0],  x['time_vector'].to_list()[-1]])\n",
    "starts = ds_drop.groupby(['trial_num']).apply(lambda x: x['time_vector'].to_list()[0])\n",
    "stops = ds_drop.groupby(['trial_num']).apply(lambda x: x['time_vector'].to_list()[-1])\n",
    "print(np.sum(trial_duration <= 5), len(trial_duration))"
   ],
   "outputs": []
  },
  {
   "cell_type": "code",
   "execution_count": null,
   "id": "8f094625-a35d-4737-bf93-cbad43d357aa",
   "metadata": {},
   "source": [
    "trial_duration"
   ],
   "outputs": []
  },
  {
   "cell_type": "code",
   "execution_count": null,
   "id": "1a9d3633-7058-4924-b4cc-f661ee3883e3",
   "metadata": {},
   "source": [
    "frame_rate = 20    #fps\n",
    "cells = [col for col in ds if 'cell' in col]\n",
    "true_trial_times = ds[ds.direction > -1000].groupby(['trial_num']).apply(lambda x: [x.time_vector.to_list()[0], x.time_vector.to_list()[5*frame_rate]])\n",
    "true_trial_duration = ds[ds.direction > -1000].groupby(['trial_num']).apply(lambda x: x.time_vector.to_list()[5*frame_rate] - x.time_vector.to_list()[0])\n",
    "true_trial_starts = ds[ds.direction > -1000].groupby(['trial_num']).apply(lambda x: x.time_vector.to_list()[0])\n",
    "true_trial_stops = ds[ds.direction > -1000].groupby(['trial_num']).apply(lambda x: x.time_vector.to_list()[5*frame_rate])"
   ],
   "outputs": []
  },
  {
   "cell_type": "code",
   "execution_count": null,
   "id": "73301ec6-ff73-4210-978f-7044afa59b55",
   "metadata": {},
   "source": [
    "np.diff(true_trial_stops)"
   ],
   "outputs": []
  },
  {
   "cell_type": "code",
   "execution_count": null,
   "id": "c9425431-98d6-4415-a059-4bcf220a8ecf",
   "metadata": {},
   "source": [
    "np.diff(true_trial_starts)"
   ],
   "outputs": []
  },
  {
   "cell_type": "code",
   "execution_count": null,
   "id": "a29fd198-cd8d-4dfe-a8d0-abf3fa355701",
   "metadata": {},
   "source": [
    "true_trial_duration"
   ],
   "outputs": []
  },
  {
   "cell_type": "code",
   "execution_count": null,
   "id": "3e147757-f2f5-490b-9736-755b733ca56c",
   "metadata": {},
   "source": [],
   "outputs": []
  }
 ],
 "metadata": {
  "kernelspec": {
   "display_name": "Python 3 (ipykernel)",
   "language": "python",
   "name": "python3"
  },
  "language_info": {
   "codemirror_mode": {
    "name": "ipython",
    "version": 3
   },
   "file_extension": ".py",
   "mimetype": "text/x-python",
   "name": "python",
   "nbconvert_exporter": "python",
   "pygments_lexer": "ipython3",
   "version": "3.8.16"
  }
 },
 "nbformat": 4,
 "nbformat_minor": 5
}

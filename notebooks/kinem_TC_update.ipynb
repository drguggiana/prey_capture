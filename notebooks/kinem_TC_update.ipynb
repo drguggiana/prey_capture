{
 "cells": [
  {
   "cell_type": "code",
   "execution_count": null,
   "metadata": {},
   "source": [
    "# imports\n",
    "import os\n",
    "import sys\n",
    "import pandas as pd\n",
    "import numpy as np\n",
    "import importlib\n",
    "sys.path.insert(0, os.path.abspath(r'C:/Users/mmccann/repos/bonhoeffer/prey_capture/'))\n",
    "import scipy.signal as ss\n",
    "import scipy.stats as stat\n",
    "\n",
    "import panel as pn\n",
    "import holoviews as hv\n",
    "from holoviews import opts, dim\n",
    "from holoviews.operation import histogram\n",
    "hv.extension('bokeh')\n",
    "from bokeh.resources import INLINE\n",
    "\n",
    "import paths\n",
    "import processing_parameters\n",
    "import functions_misc as fm\n",
    "import functions_bondjango as bd\n",
    "import snakemake_scripts.tc_calculate as tc\n",
    "import snakemake_scripts.wf_tc_calculate as wf_tc\n",
    "import functions_plotting as fp\n",
    "import functions_data_handling as fdh\n",
    "from functions_tuning import calculate_dff"
   ],
   "outputs": []
  },
  {
   "cell_type": "code",
   "execution_count": null,
   "metadata": {},
   "source": [
    "importlib.reload(processing_parameters)\n",
    "# get the search query\n",
    "search_string = processing_parameters.search_string + ', analysis_type:preprocessing'\n",
    "parsed_search_string = fdh.parse_search_string(search_string)\n",
    "\n",
    "# get the paths from the database\n",
    "all_path = bd.query_database('analyzed_data', search_string)\n",
    "input_path = [el['analysis_path'] for el in all_path if ('_preproc' in el['slug']) and (parsed_search_string['mouse'].lower() in el['slug'])]\n",
    "# get the day, animal and rig\n",
    "day = '_'.join(all_path[0]['slug'].split('_')[0:3])\n",
    "rig = all_path[0]['rig']\n",
    "animal = all_path[0]['slug'].split('_')[3:6]\n",
    "animal = '_'.join([animal[0].upper()] + animal[1:])\n",
    "\n",
    "# assemble the output path\n",
    "out_path = os.path.join(paths.analysis_path, '_'.join((day, animal, rig, 'tcday.hdf5')))\n",
    "\n",
    "# allocate memory for the data\n",
    "raw_data = []\n",
    "# allocate memory for excluded trials\n",
    "excluded_trials = []\n",
    "# for all the files\n",
    "for files in input_path:\n",
    "    # load the data\n",
    "    with pd.HDFStore(files, mode='r') as h:\n",
    "        if ('/matched_calcium' in h.keys()):\n",
    "\n",
    "            # concatenate the latents\n",
    "            dataframe = h['matched_calcium']\n",
    "            # store\n",
    "            raw_data.append(dataframe)\n",
    "        else:\n",
    "            excluded_trials.append(files)\n",
    "print(f'Number of files loaded: {len(raw_data)}')"
   ],
   "outputs": []
  },
  {
   "cell_type": "code",
   "execution_count": null,
   "metadata": {},
   "source": [
    "tcs_dict, tcs_counts_dict, tcs_bins_dict = wf_tc.calculate_kinematic_tuning(raw_data[0], day, animal, rig)"
   ],
   "outputs": []
  }
 ],
 "metadata": {
  "kernelspec": {
   "display_name": "prey_capture_old",
   "language": "python",
   "name": "python3"
  },
  "language_info": {
   "codemirror_mode": {
    "name": "ipython",
    "version": 3
   },
   "file_extension": ".py",
   "mimetype": "text/x-python",
   "name": "python",
   "nbconvert_exporter": "python",
   "pygments_lexer": "ipython3",
   "version": "3.8.16"
  }
 },
 "nbformat": 4,
 "nbformat_minor": 2
}

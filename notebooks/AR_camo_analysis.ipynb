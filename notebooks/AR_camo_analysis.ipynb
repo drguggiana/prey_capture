{
 "cells": [
  {
   "cell_type": "markdown",
   "metadata": {},
   "source": [
    "# Basic AR Prey Analysis"
   ]
  },
  {
   "cell_type": "code",
   "execution_count": null,
   "metadata": {},
   "outputs": [],
   "source": [
    "%matplotlib notebook\n",
    "import os\n",
    "import sys\n",
    "sys.path.insert(0, r'..\\..')\n",
    "import paths\n",
    "\n",
    "import seaborn as sb\n",
    "import panel as pn\n",
    "import holoviews as hv\n",
    "from holoviews import opts, dim\n",
    "hv.extension('bokeh')\n",
    "from bokeh.resources import INLINE\n",
    "\n",
    "import functions_bondjango as bd\n",
    "from src import functions_kinematic as fk\n",
    "import functions_plotting as fp\n",
    "import functions_preprocessing as fpr\n",
    "import functions_misc as fm\n",
    "import functions_data_handling as fd\n",
    "import pandas as pd\n",
    "import numpy as np\n",
    "import h5py\n",
    "\n",
    "from scipy.stats import sem\n",
    "import sklearn.decomposition as decomp\n",
    "import umap\n",
    "import sklearn.mixture as mix\n",
    "from scipy.stats import sem\n",
    "\n",
    "line_width = 5"
   ]
  },
  {
   "cell_type": "code",
   "execution_count": null,
   "metadata": {},
   "outputs": [],
   "source": [
    "# Define a data loading function\n",
    "\n",
    "def load_dataset(search_string, label=None, exclusion=None):\n",
    "    # load the data\n",
    "    # get the data paths\n",
    "    try:\n",
    "        data_path = snakemake.input[0]\n",
    "    except NameError:\n",
    "        # query the database for data to plot\n",
    "        data_all = bd.query_database('analyzed_data', search_string)\n",
    "\n",
    "        if exclusion is not None:\n",
    "            for ds in data_all:\n",
    "                if exclusion not in ds['analysis_path']:\n",
    "                    data_path = ds['analysis_path']\n",
    "                    data_date = ds['date']\n",
    "                    break\n",
    "        else:\n",
    "            print(data_all[0].keys())\n",
    "            data_path = data_all[0]['analysis_path']\n",
    "            data_date = data_all[0]['date']\n",
    "    print(data_path)\n",
    "    print(data_date)\n",
    "\n",
    "    # assemble a label for this data set\n",
    "    if label is None:\n",
    "        d = fd.parse_search_string(search_string)\n",
    "        label = '_'.join([d['rig'], d['lighting'], d['result'], d['notes']])\n",
    "    print('data label: ' + label + '\\n')\n",
    "\n",
    "    # load the data\n",
    "    return pd.HDFStore(data_path), label, data_all[0]"
   ]
  },
  {
   "cell_type": "code",
   "execution_count": null,
   "metadata": {},
   "outputs": [],
   "source": [
    "# define the name to be used for the saved figures\n",
    "save_name = 'ARPrey_cricketcamo'"
   ]
  },
  {
   "cell_type": "code",
   "execution_count": null,
   "metadata": {},
   "outputs": [],
   "source": [
    "### Load new data\n",
    "# create container for holding multiple data sets\n",
    "data_dict = {}\n",
    "\n",
    "# Load real prey capture in the light - this is a baseline comparison\n",
    "search_string = 'result:succ, lighting:normal, rig:ARPrey, analysis_type:preprocessing, notes:2D'\n",
    "ds, label, DD = load_dataset(search_string, label=\"VScreen_2D\")\n",
    "# data_dict[label] = ds\n",
    "\n",
    "# Get rid of doubled data set\n",
    "# del ds"
   ]
  },
  {
   "cell_type": "code",
   "execution_count": null,
   "metadata": {},
   "outputs": [],
   "source": [
    "summary_file = pd.ExcelFile(r'C:\\Users\\mmccann\\Dropbox\\My PC (P1-485)\\Documents\\ARPrey_results.xlsx', engine='openpyxl')\n",
    "sheets = list(summary_file.sheet_names)\n",
    "\n",
    "cricket_camo_df = pd.read_excel(summary_file, header=0, sheet_name='cricket_camo', dtype=object, engine='openpyxl')\n",
    "moss_camo_df = pd.read_excel(summary_file, header=0, sheet_name='moss_camo', dtype=object, engine='openpyxl')\n",
    "vr_cricket_camo_df = pd.read_excel(summary_file, header=0, sheet_name='VR_cricket_camo', dtype=object, engine='openpyxl')\n",
    "cricket_camo_empty_spotlight_df = pd.read_excel(summary_file, header=0, sheet_name='cricket_camo_empty_spotlight', dtype=object, engine='openpyxl')\n",
    "cricket_camo_dark_spot_df = pd.read_excel(summary_file, header=0, sheet_name='cricket_camo_dark_spot', dtype=object, engine='openpyxl')"
   ]
  },
  {
   "cell_type": "code",
   "execution_count": null,
   "metadata": {},
   "outputs": [],
   "source": [
    "cc = cricket_camo_df.groupby(['spotlight', 'camo_albedo'])['capture_light', 'capture_dark'].sum().stack()\n",
    "cc.index.names = ['spotlight', 'camo_albedo', 'outcome']\n",
    "cc = cc.reset_index()\n",
    "cc.columns.values[-1] = 'count'"
   ]
  },
  {
   "cell_type": "code",
   "execution_count": null,
   "metadata": {},
   "outputs": [],
   "source": [
    "fg = sb.factorplot(x='camo_albedo', y='count', hue='outcome', \n",
    "                        col='spotlight', data=cc, kind='bar')"
   ]
  },
  {
   "cell_type": "code",
   "execution_count": null,
   "metadata": {},
   "outputs": [],
   "source": [
    "mc = cricket_camo_df.groupby(['spotlight', 'camo_albedo'])['capture_light', 'capture_dark'].sum().stack()\n",
    "mc.index.names = ['spotlight', 'camo_albedo', 'outcome']\n",
    "mc = mc.reset_index()\n",
    "mc.columns.values[-1] = 'count'\n",
    "mc"
   ]
  },
  {
   "cell_type": "code",
   "execution_count": null,
   "metadata": {},
   "outputs": [],
   "source": [
    "fg = sb.factorplot(x='camo_albedo', y='count', hue='outcome', \n",
    "                        col='spotlight', data=mc, kind='bar')"
   ]
  },
  {
   "cell_type": "code",
   "execution_count": null,
   "metadata": {},
   "outputs": [],
   "source": [
    "vrcc = vr_cricket_camo_df.groupby(['spotlight', 'camo_albedo'])['interact_VR', 'ignore_VR'].sum().stack()\n",
    "vrcc.index.names = ['spotlight', 'camo_albedo', 'outcome']\n",
    "vrcc = vrcc.reset_index()\n",
    "vrcc.columns.values[-1] = 'count'\n",
    "vrcc"
   ]
  },
  {
   "cell_type": "code",
   "execution_count": null,
   "metadata": {},
   "outputs": [],
   "source": [
    "fg = sb.factorplot(x='camo_albedo', y='count', hue='outcome', \n",
    "                        col='spotlight', data=vrcc, kind='bar')"
   ]
  },
  {
   "cell_type": "code",
   "execution_count": null,
   "metadata": {},
   "outputs": [],
   "source": [
    "cces = cricket_camo_empty_spotlight_df.groupby(['spotlight', 'camo_albedo'])['interact_VR', 'ignore_VR'].sum().stack()\n",
    "cces.index.names = ['spotlight', 'camo_albedo', 'outcome']\n",
    "cces = cces.reset_index()\n",
    "cces.columns.values[-1] = 'count'\n",
    "cces"
   ]
  },
  {
   "cell_type": "code",
   "execution_count": null,
   "metadata": {},
   "outputs": [],
   "source": [
    "fg = sb.factorplot(x='camo_albedo', y='count', hue='outcome', \n",
    "                        col='spotlight', data=cces, kind='bar')"
   ]
  },
  {
   "cell_type": "code",
   "execution_count": null,
   "metadata": {},
   "outputs": [],
   "source": [
    "cricket_camo_dark_spot_df"
   ]
  },
  {
   "cell_type": "code",
   "execution_count": null,
   "metadata": {},
   "outputs": [],
   "source": [
    "ccds = cricket_camo_dark_spot_df.groupby(['camo_albedo'])['capture_light', 'capture_dark', 'go_light', 'go_dark'].sum().stack()\n",
    "ccds.index.names = ['camo_albedo', 'outcome']\n",
    "ccds = ccds.reset_index()\n",
    "ccds.columns.values[-1] = 'count'\n",
    "ccds"
   ]
  },
  {
   "cell_type": "code",
   "execution_count": null,
   "metadata": {},
   "outputs": [],
   "source": [
    "fg = sb.factorplot(x='camo_albedo', y='count', hue='outcome', \n",
    "                        data=ccds, kind='bar')"
   ]
  },
  {
   "cell_type": "code",
   "execution_count": null,
   "metadata": {},
   "outputs": [],
   "source": []
  }
 ],
 "metadata": {
  "kernelspec": {
   "display_name": "Python [conda env:prey_capture] *",
   "language": "python",
   "name": "conda-env-prey_capture-py"
  },
  "language_info": {
   "codemirror_mode": {
    "name": "ipython",
    "version": 3
   },
   "file_extension": ".py",
   "mimetype": "text/x-python",
   "name": "python",
   "nbconvert_exporter": "python",
   "pygments_lexer": "ipython3",
   "version": "3.7.3"
  },
  "varInspector": {
   "cols": {
    "lenName": 16,
    "lenType": 16,
    "lenVar": 40
   },
   "kernels_config": {
    "python": {
     "delete_cmd_postfix": "",
     "delete_cmd_prefix": "del ",
     "library": "var_list.py",
     "varRefreshCmd": "print(var_dic_list())"
    },
    "r": {
     "delete_cmd_postfix": ") ",
     "delete_cmd_prefix": "rm(",
     "library": "var_list.r",
     "varRefreshCmd": "cat(var_dic_list()) "
    }
   },
   "types_to_exclude": [
    "module",
    "function",
    "builtin_function_or_method",
    "instance",
    "_Feature"
   ],
   "window_display": false
  }
 },
 "nbformat": 4,
 "nbformat_minor": 4
}

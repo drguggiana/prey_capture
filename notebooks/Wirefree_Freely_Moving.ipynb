{
 "cells": [
  {
   "cell_type": "code",
   "execution_count": null,
   "id": "9eea0c1b-b5b1-46f7-a878-fe32349643f3",
   "metadata": {},
   "source": [
    "%load_ext autoreload\n",
    "%autoreload 2\n",
    "\n",
    "# Imports\n",
    "import numpy as np\n",
    "import pandas as pd\n",
    "import xarray as xr\n",
    "import panel as pn\n",
    "import holoviews as hv\n",
    "import datashader as dshade\n",
    "import ipywidgets as widgets\n",
    "from ipywidgets import interact\n",
    "\n",
    "import os\n",
    "import sys\n",
    "import random\n",
    "import importlib\n",
    "import datetime\n",
    "import warnings\n",
    "import math\n",
    "import cmath\n",
    "warnings.filterwarnings('ignore')\n",
    "\n",
    "from pprint import pprint\n",
    "from itertools import zip_longest\n",
    "from scipy.stats import norm, binned_statistic, ttest_1samp, ttest_ind\n",
    "\n",
    "from bokeh.resources import INLINE\n",
    "from bokeh.io import export_svgs, export_png\n",
    "from holoviews import opts, dim\n",
    "from holoviews.operation import histogram\n",
    "from holoviews.operation.datashader import datashade, shade\n",
    "hv.extension('bokeh')\n",
    "# hv.extension('matplotlib')\n",
    "import matplotlib.pyplot as plt\n",
    "\n",
    "sys.path.insert(0, os.path.abspath(r'C:/Users/mmccann/repos/bonhoeffer/prey_capture/'))\n",
    "%aimport paths\n",
    "import processing_parameters\n",
    "import functions_bondjango as bd\n",
    "import functions_plotting as fp\n",
    "import functions_data_handling as fdh\n",
    "import functions_kinematic as fk\n",
    "import functions_tuning as tuning\n",
    "import functions_misc as misc\n",
    "from wirefree_experiment import WirefreeExperiment, DataContainer\n",
    "\n",
    "importlib.reload(fp)\n",
    "# set up the figure theme\n",
    "fp.set_theme()\n",
    "plt.rcParams[\"font.family\"] = \"Arial\"\n",
    "# plt.rcParams['font.size'] = 15\n",
    "cm = 1/2.54  # centimeters in inches"
   ],
   "outputs": []
  },
  {
   "cell_type": "code",
   "execution_count": null,
   "id": "8c338e97-8bb3-4c3d-8962-6ab7680a3871",
   "metadata": {},
   "source": [
    "def plot_free_ethogram(experiment, cells=None, num_cells=15, **kwargs):\n",
    "\n",
    "    kinem = experiment.kinematics\n",
    "    time = kinem.time_vector\n",
    "\n",
    "    # Select cells\n",
    "    if cells is None:\n",
    "        cells = np.random.choice(experiment.cells, num_cells)\n",
    "    \n",
    "    kine_labels = ['trials', 'speed\\n [m/s]', 'heading\\n [$^\\circ$]', 'ahv\\n [$^\\circ$/sec]', 'head dir.\\n [$^\\circ$]', \\\n",
    "                   'head height\\n [m]', 'head pitch\\n [$^\\circ$]', 'head yaw\\n [$^\\circ$]', 'head roll\\n [$^\\circ$]'] \n",
    "\n",
    "    fig, axes = plt.subplots(nrows=len(kine_labels)+len(list(cells)), ncols=1, sharex=True, **kwargs)\n",
    "\n",
    "    # Plot trials and kinematics\n",
    "    trial_tick = np.where(kinem.trial_num > 0, 1, 0)\n",
    "    axes[0].plot(time, trial_tick, 'k')\n",
    "    \n",
    "    \n",
    "    axes[1].plot(time, np.abs(kinem.mouse_speed), 'k', alpha=0.8)\n",
    "    # axes[1].set_ylim((0, 1))\n",
    "\n",
    "    axes[2].plot(time, fk.smooth_trace(kinem.mouse_heading, range=(-180,180)), 'k', alpha=0.8)\n",
    "    axes[2].set_ylim((-180, 180))\n",
    "\n",
    "    axes[3].plot(time, kinem.mouse_angular_speed, 'k', alpha=0.8)\n",
    "\n",
    "    # smoothed_x = np.unwrap(fk.jump_killer(kinem.fit_pupil_center_x, 3), 15)\n",
    "    # smoothed_x -= np.mean(smoothed_x)\n",
    "    # smoothed_y = np.unwrap(fk.jump_killer(kinem.fit_pupil_center_y, 3), 15)\n",
    "    # smoothed_y -= np.mean(smoothed_y)\n",
    "    axes[4].plot(time, kinem.head_direction, 'k', alpha=0.8)\n",
    "    axes[4].set_ylim((-180, 180))\n",
    "    \n",
    "    axes[5].plot(time, kinem.head_height, 'k', alpha=0.8)\n",
    "    \n",
    "    axes[6].plot(time, kinem.head_pitch, 'k', alpha=0.8)\n",
    "    axes[6].set_ylim((-180, 180))\n",
    "\n",
    "    axes[7].plot(time, kinem.head_yaw, 'k', alpha=0.8)\n",
    "    axes[7].set_ylim((-180, 180))\n",
    "    \n",
    "    axes[8].plot(time, kinem.head_roll, 'k', alpha=0.8)\n",
    "    axes[8].set_ylim((-180, 180))\n",
    "    \n",
    "\n",
    "    # Plot neural data\n",
    "    for i, cell in enumerate(cells):\n",
    "        axes[i+len(kine_labels)].plot(time, exp.norm_dff[cell], 'k', alpha=0.8)\n",
    "        axes[i+len(kine_labels)].plot(time, exp.norm_spikes[cell], 'g', alpha=0.6)\n",
    "        axes[i+len(kine_labels)].set_ylim((0, 1))\n",
    "        # if i == 0:\n",
    "        #     axes[i+len(kine_labels)].legend(['dFF','inf. spikes'], loc='right')\n",
    "\n",
    "    # Remove ticks and set axis labels\n",
    "    axes_labels = kine_labels + [f'cell {n+1}' for n, cell in enumerate(cells)]\n",
    "    for i, a in enumerate(axes):\n",
    "        # if i < len(axes_labels):\n",
    "        a.set_ylabel(axes_labels[i].capitalize(), rotation=0, va='center', wrap=True, labelpad=25)\n",
    "            \n",
    "        a.spines[\"top\"].set_visible(False)\n",
    "        a.spines[\"right\"].set_visible(False)\n",
    "        a.yaxis.set_tick_params(pad=5)\n",
    "        if i < len(axes)-1:\n",
    "            a.spines[\"bottom\"].set_visible(False)\n",
    "            a.xaxis.set_tick_params(bottom=False)\n",
    "    \n",
    "    axes[-1].set_xlabel (\"Time (s)\")\n",
    "    # plt.tight_layout()\n",
    "    fig.align_ylabels()\n",
    "\n",
    "    return fig"
   ],
   "outputs": []
  },
  {
   "cell_type": "code",
   "execution_count": null,
   "id": "e4fb0204-14b1-4688-bfcb-b0860f805b6d",
   "metadata": {},
   "source": [
    "def plot_free_ethogram_hv(experiment, cells=None, num_cells=15, **kwargs):\n",
    "\n",
    "    kinem = experiment.kinematics\n",
    "    time = kinem.time_vector\n",
    "\n",
    "    # Select cells\n",
    "    if cells is None:\n",
    "        cells = np.random.choice(experiment.cells, num_cells)\n",
    "    \n",
    "    kine_labels = ['trials', 'speed\\n [m/s]', 'heading\\n [$^\\circ$]', 'ahv\\n [$^\\circ$/sec]', 'head dir.\\n [$^\\circ$]', \\\n",
    "                   'head height\\n [m]', 'head pitch\\n [$^\\circ$]', 'head yaw\\n [$^\\circ$]', 'head roll\\n [$^\\circ$]'] \n",
    "\n",
    "\n",
    "    # Plot trials and kinematics\n",
    "    trial_tick = np.where(kinem.trial_num > 0, 1, 0)\n",
    "    trial_plot = hv.Curve((time, trial_tick)).opts(color='k', xaxis=None)    \n",
    "    speed_plot = hv.Curve((time, np.abs(kinem.mouse_speed))).opts(color='k', xaxis=None)\n",
    "    heading_plot = hv.Curve((time, fk.smooth_trace(kinem.mouse_heading, range=(-180,180)))).opts(color='k')\n",
    "\n",
    "    plt_list = [trial_plot, speed_plot, heading_plot]\n",
    "    \n",
    "    layout = hv.Layout(plt_list).cols(1).opts(shared_axes=True)\n",
    "    \n",
    "\n",
    "\n",
    "    # axes[2].plot(time, fk.smooth_trace(kinem.mouse_heading, range=(-180,180)), 'k', alpha=0.8)\n",
    "    # axes[2].set_ylim((-180, 180))\n",
    "\n",
    "    # axes[3].plot(time, kinem.mouse_angular_speed, 'k', alpha=0.8)\n",
    "\n",
    "    # # smoothed_x = np.unwrap(fk.jump_killer(kinem.fit_pupil_center_x, 3), 15)\n",
    "    # # smoothed_x -= np.mean(smoothed_x)\n",
    "    # # smoothed_y = np.unwrap(fk.jump_killer(kinem.fit_pupil_center_y, 3), 15)\n",
    "    # # smoothed_y -= np.mean(smoothed_y)\n",
    "    # axes[4].plot(time, kinem.head_direction, 'k', alpha=0.8)\n",
    "    # axes[4].set_ylim((-180, 180))\n",
    "    \n",
    "    # axes[5].plot(time, kinem.head_height, 'k', alpha=0.8)\n",
    "    \n",
    "    # axes[6].plot(time, kinem.head_pitch, 'k', alpha=0.8)\n",
    "    # axes[6].set_ylim((-180, 180))\n",
    "\n",
    "    # axes[7].plot(time, kinem.head_yaw, 'k', alpha=0.8)\n",
    "    # axes[7].set_ylim((-180, 180))\n",
    "    \n",
    "    # axes[8].plot(time, kinem.head_roll, 'k', alpha=0.8)\n",
    "    # axes[8].set_ylim((-180, 180))\n",
    "    \n",
    "\n",
    "    # # Plot neural data\n",
    "    # for i, cell in enumerate(cells):\n",
    "    #     axes[i+len(kine_labels)].plot(time, exp.norm_dff[cell], 'k', alpha=0.8)\n",
    "    #     axes[i+len(kine_labels)].plot(time, exp.norm_spikes[cell], 'g', alpha=0.6)\n",
    "    #     axes[i+len(kine_labels)].set_ylim((0, 1))\n",
    "    #     # if i == 0:\n",
    "    #     #     axes[i+len(kine_labels)].legend(['dFF','inf. spikes'], loc='right')\n",
    "\n",
    "    # # Remove ticks and set axis labels\n",
    "    # axes_labels = kine_labels + [f'cell {n+1}' for n, cell in enumerate(cells)]\n",
    "    # for i, a in enumerate(axes):\n",
    "    #     # if i < len(axes_labels):\n",
    "    #     a.set_ylabel(axes_labels[i].capitalize(), rotation=0, va='center', wrap=True, labelpad=25)\n",
    "            \n",
    "    #     a.spines[\"top\"].set_visible(False)\n",
    "    #     a.spines[\"right\"].set_visible(False)\n",
    "    #     a.yaxis.set_tick_params(pad=5)\n",
    "    #     if i < len(axes)-1:\n",
    "    #         a.spines[\"bottom\"].set_visible(False)\n",
    "    #         a.xaxis.set_tick_params(bottom=False)\n",
    "    \n",
    "    # axes[-1].set_xlabel (\"Time (s)\")\n",
    "    # # plt.tight_layout()\n",
    "    # fig.align_ylabels()\n",
    "\n",
    "    return layout"
   ],
   "outputs": []
  },
  {
   "cell_type": "code",
   "execution_count": null,
   "id": "36d8ebc8-a957-4820-bc8d-42e4ce6f1261",
   "metadata": {},
   "source": [
    "importlib.reload(processing_parameters)\n",
    "\n",
    "# get the search string\n",
    "search_string = processing_parameters.search_string + r\", rig:VTuningWF, analysis_type:preprocessing\"\n",
    "\n",
    "# get the paths from the database\n",
    "file_path, paths_all, parsed_query, date_list, animal_list = fdh.fetch_preprocessing(search_string)\n",
    "\n",
    "animal_idxs = [i for i,d in enumerate(animal_list) if d==parsed_query['mouse'].lower()]\n",
    "good_entries = [file_path[index] for index in animal_idxs]\n",
    "input_path = [paths_all[index] for index in animal_idxs]\n",
    "\n",
    "# # assemble the output path\n",
    "print(input_path)"
   ],
   "outputs": []
  },
  {
   "cell_type": "code",
   "execution_count": null,
   "id": "6c207192-784f-4ac2-ac74-6ac89f3520f3",
   "metadata": {},
   "source": [
    "exp = WirefreeExperiment(input_path[0], use_xarray=False)\n",
    "exp.dff = tuning.calculate_dff(exp.raw_fluor)\n",
    "exp.norm_spikes = tuning.normalize_responses(exp.raw_spikes)\n",
    "exp.norm_fluor = tuning.normalize_responses(exp.raw_fluor)\n",
    "exp.norm_dff = tuning.normalize_responses(exp.dff)\n",
    "\n",
    "if 'head_pitch' not in exp.kinematics.columns:\n",
    "    pitch = -fk.wrap_negative(exp.kinematics.mouse_xrot_m.values)\n",
    "    exp.kinematics['head_pitch'] = fk.smooth_trace(pitch, range=(-180, 180), kernel_size=10, discont=2*np.pi)\n",
    "    \n",
    "    yaw = fk.wrap_negative(exp.kinematics.mouse_zrot_m.values)\n",
    "    exp.kinematics['head_yaw'] = fk.smooth_trace(yaw, range=(-180, 180), kernel_size=10, discont=2*np.pi)\n",
    "    \n",
    "    roll = fk.wrap_negative(exp.kinematics.mouse_yrot_m.values)\n",
    "    exp.kinematics['head_roll'] = fk.smooth_trace(roll, range=(-180, 180), kernel_size=10, discont=2*np.pi)"
   ],
   "outputs": []
  },
  {
   "cell_type": "code",
   "execution_count": null,
   "id": "1e51d56a-f810-49f7-ae99-add49f719b97",
   "metadata": {},
   "source": [
    "%matplotlib widget\n",
    "fig = plot_free_ethogram(exp, num_cells=10, figsize=(15,15))\n",
    "save_path = os.path.join(r'C:\\Users\\mmccann\\Dropbox\\bonhoeffer lab\\SFN 2023\\poster', f'free_ethogram.png')\n",
    "# fp.save_figure(fig, fig_width=8, save_path=save_path, fontsize='poster', target='both')\n",
    "# plt.savefig(save_path, dpi=600)"
   ],
   "outputs": []
  },
  {
   "cell_type": "code",
   "execution_count": null,
   "id": "90d13fd6-dfa9-4fe6-bba6-20d81d8fc898",
   "metadata": {},
   "source": [
    "fig = plot_free_ethogram_hv(exp, num_cells=10, figsize=(15,15))\n",
    "fig.opts(height=200, width=10000)\n",
    "# save_path = os.path.join(r'C:\\Users\\mmccann\\Dropbox\\bonhoeffer lab\\SFN 2023\\poster', f'free_ethogram.png')\n",
    "# fp.save_figure(fig, fig_width=8, save_path=save_path, fontsize='poster', target='both')\n",
    "# plt.savefig(save_path, dpi=600)"
   ],
   "outputs": []
  },
  {
   "cell_type": "code",
   "execution_count": null,
   "id": "be3671df-6c2f-4834-9adb-1e177e005fbb",
   "metadata": {},
   "source": [
    "%matplotlib inline\n",
    "a = exp.kinematics.mouse_speed*100\n",
    "hist = a.hist(bins=20)"
   ],
   "outputs": []
  },
  {
   "cell_type": "markdown",
   "id": "0eeabe77-a7fc-4e2b-b2e7-d168a595d6a6",
   "metadata": {},
   "source": [
    "# Filter by head pitch\n",
    "Get rid of trials where the mouse is consistently looking above the upper edge of the arena"
   ]
  },
  {
   "cell_type": "code",
   "execution_count": null,
   "id": "66622aac-7bba-4910-886f-43df12a16af5",
   "metadata": {},
   "source": [
    "pitch_upper_cutoff = 20\n",
    "pitch_lower_cutoff = -90\n",
    "view_fraction = 0.7\n",
    "exp.kinematics['viewed'] = np.logical_and(exp.kinematics.head_pitch >= pitch_lower_cutoff, exp.kinematics.head_pitch <= pitch_upper_cutoff)\n",
    "viewed_trials = exp.kinematics.groupby('trial_num').filter(lambda x: (x['viewed'].sum() / len(x['viewed'])) > view_fraction).trial_num.unique()\n",
    "\n",
    "norm_spikes_viewed = exp.norm_spikes.loc[exp.norm_spikes.trial_num.isin(viewed_trials)]\n",
    "exp.norm_spikes_viewed = norm_spikes_viewed"
   ],
   "outputs": []
  },
  {
   "cell_type": "markdown",
   "id": "e8643b27-aabb-4443-a794-ec010561d13f",
   "metadata": {},
   "source": [
    "# Filter by running speed"
   ]
  },
  {
   "cell_type": "code",
   "execution_count": null,
   "id": "f9f90ed1-1b6a-4768-8669-6bcce2d11668",
   "metadata": {},
   "source": [
    "# Get an idea of the cutoff to be considered still\n",
    "speed_cutoff = np.percentile(np.abs(exp.kinematics.mouse_speed), 80)\n",
    "exp.kinematics['is_running'] = np.abs(exp.kinematics.mouse_speed) >= speed_cutoff\n",
    "exp.kinematics['mouse_speed_abs'] = np.abs(exp.kinematics['mouse_speed'])\n",
    "# fig = plt.figure()\n",
    "# plt.plot(exp.kinematics.time_vector, np.abs(exp.kinematics.mouse_speed)) \n",
    "# plt.hlines(speed_cutoff, 0, exp.kinematics.time_vector.max(), colors='r')"
   ],
   "outputs": []
  },
  {
   "cell_type": "code",
   "execution_count": null,
   "id": "81a56a88-5e13-468e-8744-278a69e13ccb",
   "metadata": {},
   "source": [
    "still_trials = exp.kinematics.groupby('trial_num').filter(lambda x: x['mouse_speed_abs'].mean() < speed_cutoff).trial_num.unique()\n",
    "still_trials = viewed_trials[np.in1d(viewed_trials, still_trials)]\n",
    "still_spikes = exp.norm_spikes_viewed.loc[exp.norm_spikes_viewed.trial_num.isin(still_trials)]\n",
    "exp.norm_spikes_viewed_still = still_spikes.copy()"
   ],
   "outputs": []
  },
  {
   "cell_type": "markdown",
   "id": "c5562cd1-05a2-4cdd-bf70-1213ced94d50",
   "metadata": {},
   "source": [
    "# Run the TC calculation loop"
   ]
  },
  {
   "cell_type": "code",
   "execution_count": null,
   "id": "29049151-8098-40f3-910a-9daa168f6d17",
   "metadata": {},
   "source": [
    "from snakemake_scripts.wf_tc_calculate import calculate_visual_tuning"
   ],
   "outputs": []
  },
  {
   "cell_type": "code",
   "execution_count": null,
   "id": "e299952b-e8e4-44c1-9869-c5afe445c838",
   "metadata": {},
   "source": [
    "%%time\n",
    "datasets = ['norm_spikes', 'norm_spikes_viewed', 'norm_spikes_viewed_still'] # 'raw_spikes \n",
    "for dataset in datasets: \n",
    "    activity = getattr(exp, dataset)\n",
    "    \n",
    "    for tuning_type in ['direction_wrapped', 'orientation']:\n",
    "        props = calculate_visual_tuning(activity, tuning_type, bootstrap_shuffles=1)\n",
    "        \n",
    "        tuning_label = tuning_type.split('_')[0]\n",
    "        setattr(exp, f'{dataset}_{tuning_label}_props', props)"
   ],
   "outputs": []
  },
  {
   "cell_type": "code",
   "execution_count": null,
   "id": "631a8100-455f-4a94-9272-3812a8fc5953",
   "metadata": {},
   "source": [
    "[attr for attr in exp.list_attributes() if ('spikes'in attr) and ('props'not in attr)]"
   ],
   "outputs": []
  },
  {
   "cell_type": "markdown",
   "id": "2a96c202-2bbb-4f8e-991a-05202ba6c950",
   "metadata": {},
   "source": [
    "# Check out tuning curves"
   ]
  },
  {
   "cell_type": "markdown",
   "id": "a1051f99-673b-4619-bb56-97e454b43a8f",
   "metadata": {},
   "source": [
    "## Visual tuning"
   ]
  },
  {
   "cell_type": "code",
   "execution_count": null,
   "id": "eb2451b5-b7ee-43e5-bcc7-66a60d0bf4aa",
   "metadata": {},
   "source": [
    "%matplotlib inline\n",
    "interact(plot_visual_tuning_curves,\n",
    "         experiment = widgets.fixed(exp),\n",
    "         cell=exp.cells, \n",
    "         data_type=datasets, \n",
    "         error = ['std', 'sem'],\n",
    "         polar=[True, False],\n",
    "         norm=widgets.fixed(True),\n",
    "         axes=widgets.fixed(None))"
   ],
   "outputs": []
  },
  {
   "cell_type": "code",
   "execution_count": null,
   "id": "8a7a4490-3363-4c30-b3bf-5ef0c414066c",
   "metadata": {},
   "source": [
    "fig = plt.figure()\n",
    "plt.plot(exp.kinematics.head_direction)\n",
    "plt.plot(-exp.kinematics.yaw)"
   ],
   "outputs": []
  },
  {
   "cell_type": "code",
   "execution_count": null,
   "id": "17f89a30-051f-4909-88b9-c6829c764d75",
   "metadata": {},
   "source": [
    "cell = 'cell_0000'\n",
    "a = exp.norm_spikes_viewed.groupby(['orientation', 'trial_num'])[cell].agg(list)\n",
    "a = a.droplevel('trial_num').groupby('orientation').agg(list)\n",
    "a = a.apply(misc.list_lists_to_array).reset_index()\n",
    "a = a.drop(a[a['orientation'] == -1000].index)\n",
    "a['mean_trace'] = a[cell].map(lambda x: np.nanmean(x, axis=0))\n",
    "fig = plt.figure(figsize=(5,5))\n",
    "for idx, row in a.iterrows():\n",
    "    plt.plot(row['mean_trace'][:120])\n",
    "plt.legend([f'{val:.1f}' for val in a['orientation'].values], ncol=3)"
   ],
   "outputs": []
  },
  {
   "cell_type": "code",
   "execution_count": null,
   "id": "826b5ba0-04f6-4846-947c-aca50934d947",
   "metadata": {},
   "source": [
    "directions = a['orientation'].to_numpy()\n",
    "mean_resp = a['mean_trace'].to_list()\n",
    "mean_resp = misc.list_lists_to_array(mean_resp)\n",
    "fig = plt.figure(figsize=(20,20))\n",
    "ax = plt.axes()\n",
    "im = plt.imshow(mean_resp[:, :120], cmap='Reds')\n",
    "# plt.xticks(np.arange(0, 115), np.arange(0, 115*0.05, 0.05))\n",
    "plt.yticks(np.arange(0, mean_resp.shape[0]), directions)\n",
    "\n",
    "\n",
    "cax = fig.add_axes([ax.get_position().x1 + 0.01, ax.get_position().y0, 0.02, ax.get_position().height])\n",
    "cbar = plt.colorbar(im, cax=cax)\n",
    "cbar.set_label('Activity (a.u.)', rotation=270)"
   ],
   "outputs": []
  },
  {
   "cell_type": "code",
   "execution_count": null,
   "id": "c15a9d78-8679-4331-87f4-48f348376657",
   "metadata": {},
   "source": [
    "np.mean(np.diff(exp.norm_spikes_viewed.time_vector))"
   ],
   "outputs": []
  }
 ],
 "metadata": {
  "kernelspec": {
   "display_name": "Python 3 (ipykernel)",
   "language": "python",
   "name": "python3"
  },
  "language_info": {
   "codemirror_mode": {
    "name": "ipython",
    "version": 3
   },
   "file_extension": ".py",
   "mimetype": "text/x-python",
   "name": "python",
   "nbconvert_exporter": "python",
   "pygments_lexer": "ipython3",
   "version": "3.8.16"
  }
 },
 "nbformat": 4,
 "nbformat_minor": 5
}

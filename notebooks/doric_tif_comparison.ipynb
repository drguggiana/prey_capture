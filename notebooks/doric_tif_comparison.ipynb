{
 "cells": [
  {
   "cell_type": "code",
   "execution_count": null,
   "id": "e0e74d31",
   "metadata": {
    "code_folding": []
   },
   "source": [
    "# imports\n",
    "import os\n",
    "import sys\n",
    "\n",
    "import paths\n",
    "import functions_bondjango as bd\n",
    "import functions_misc as fm\n",
    "import functions_plotting as fp\n",
    "import pandas as pd\n",
    "import numpy as np\n",
    "import sklearn.mixture as mix\n",
    "import sklearn.decomposition as decomp\n",
    "from sklearn.metrics import confusion_matrix\n",
    "from sklearn.model_selection import cross_val_predict, train_test_split\n",
    "from sklearn import svm, datasets\n",
    "from sklearn import preprocessing\n",
    "import sklearn.linear_model as lin\n",
    "import sklearn.metrics as smet\n",
    "import scipy.signal as ss\n",
    "\n",
    "import random\n",
    "import functions_data_handling as fd\n",
    "import importlib\n",
    "import processing_parameters\n",
    "import h5py\n",
    "import pathlib"
   ],
   "outputs": []
  },
  {
   "cell_type": "code",
   "execution_count": null,
   "id": "e4ed1c2e",
   "metadata": {},
   "source": [
    "%matplotlib inline \n",
    "import matplotlib.pyplot as plt"
   ],
   "outputs": []
  },
  {
   "cell_type": "markdown",
   "id": "e33fa251",
   "metadata": {},
   "source": [
    "# Correlate .doric loaded into numpy vs .tif loaded directly."
   ]
  },
  {
   "cell_type": "code",
   "execution_count": null,
   "id": "9d8aba8b",
   "metadata": {},
   "source": [
    "tif_file = r'D:\\05_02_2022_13_40_25_VWheel_MM_220121_a_fixed0_gabor_mini.tif'\n",
    "doric_file = r'D:\\05_02_2022_13_40_25_VWheel_MM_220121_a_fixed0_gabor_mini.doric'"
   ],
   "outputs": []
  },
  {
   "cell_type": "code",
   "execution_count": null,
   "id": "1439d2ba",
   "metadata": {},
   "source": [
    "import functions_doric as fdor\n",
    "import tifffile"
   ],
   "outputs": []
  },
  {
   "cell_type": "code",
   "execution_count": null,
   "id": "c4f73f55",
   "metadata": {},
   "source": [
    "# load doric file\n",
    "doric_data = fdor.extract_doric(doric_file)\n",
    "doric_data = doric_data[0]['Data'][0]['Data']\n",
    "# permute to leave frames as the first dimension\n",
    "doric_data = np.transpose(doric_data, [2, 0, 1])"
   ],
   "outputs": []
  },
  {
   "cell_type": "code",
   "execution_count": null,
   "id": "736a3639",
   "metadata": {},
   "source": [
    "# load doric file\n",
    "tif_data = tifffile.imread(tif_file)"
   ],
   "outputs": []
  },
  {
   "cell_type": "code",
   "execution_count": null,
   "id": "0e490b7c",
   "metadata": {},
   "source": [
    "print(tif_data.shape)\n",
    "print(doric_data.shape)"
   ],
   "outputs": []
  },
  {
   "cell_type": "code",
   "execution_count": null,
   "id": "1c5dedc7",
   "metadata": {},
   "source": [
    "# check if arrays contain the same values\n",
    "print(np.array_equal(doric_data, tif_data))"
   ],
   "outputs": []
  },
  {
   "cell_type": "code",
   "execution_count": null,
   "id": "a0e03390",
   "metadata": {},
   "source": [
    "plt.imshow(np.corrcoef(doric_data[0, :], tif_data[0, :]))"
   ],
   "outputs": []
  },
  {
   "cell_type": "code",
   "execution_count": null,
   "id": "ce9dd9d1",
   "metadata": {},
   "source": [
    "from skimage.feature import match_template, register_translation"
   ],
   "outputs": []
  },
  {
   "cell_type": "code",
   "execution_count": null,
   "id": "d4d01470",
   "metadata": {},
   "source": [
    "shift, error, diffphase = register_translation(doric_data, tif_data, 1)"
   ],
   "outputs": []
  },
  {
   "cell_type": "code",
   "execution_count": null,
   "id": "3b36fae2",
   "metadata": {},
   "source": [
    "\n",
    "image_product = np.fft.fft2(doric_data[5000,:]) * np.fft.fft2(tif_data[5000,:]).conj()\n",
    "cc_image = np.fft.fftshift(np.fft.ifft2(image_product))\n",
    "plt.imshow(cc_image.real)"
   ],
   "outputs": []
  },
  {
   "cell_type": "code",
   "execution_count": null,
   "id": "76cc68a9",
   "metadata": {},
   "source": [
    "[np.corrcoef(doric_data[:, 0, 0], tif_data[:, 0, 0]) for i in doric_data.shape[0]] "
   ],
   "outputs": []
  },
  {
   "cell_type": "code",
   "execution_count": null,
   "id": "e499f509",
   "metadata": {},
   "source": [
    "corr = ss.correlate(doric_data[:, 0, 0], tif_data[:, 0, 0])\n",
    "lags = ss.correlation_lags(len(doric_data[:, 0, 0]), len(tif_data[:, 0, 0]))\n",
    "corr = corr / np.max(corr)"
   ],
   "outputs": []
  },
  {
   "cell_type": "code",
   "execution_count": null,
   "id": "a6d86911",
   "metadata": {},
   "source": [
    "plt.plot(lags, corr)"
   ],
   "outputs": []
  },
  {
   "cell_type": "code",
   "execution_count": null,
   "id": "2888cfce",
   "metadata": {},
   "source": [
    "plt.imshow(doric_data[0, :])"
   ],
   "outputs": []
  },
  {
   "cell_type": "code",
   "execution_count": null,
   "id": "16eac95b",
   "metadata": {},
   "source": [
    "plt.imshow(tif_data[0, :])"
   ],
   "outputs": []
  },
  {
   "cell_type": "code",
   "execution_count": null,
   "id": "c1c7455a",
   "metadata": {},
   "source": [
    "corr = ss.correlate2d(doric_data[0, :], \n",
    "                      tif_data[0, :],\n",
    "                      boundary='symm',\n",
    "                      mode='full')"
   ],
   "outputs": []
  },
  {
   "cell_type": "markdown",
   "id": "a0e304c9",
   "metadata": {},
   "source": [
    "# Check distributions of values between files acquired as tif and those converted from .doric"
   ]
  },
  {
   "cell_type": "code",
   "execution_count": null,
   "id": "6af83020",
   "metadata": {},
   "source": [
    "def get_ca_data_from_h5(path):\n",
    "    with h5py.File(path, 'r') as f:\n",
    "        calcium = f[('C')][:]\n",
    "        footprints = f[('A')][:]\n",
    "        \n",
    "    return calcium, footprints"
   ],
   "outputs": []
  },
  {
   "cell_type": "code",
   "execution_count": null,
   "id": "a41585cb",
   "metadata": {},
   "source": [
    "old_ca_file = r'D:\\04_12_2022_MM_220121_a_calciumday.hdf5'\n",
    "new_ca_file = r'D:\\05_03_2022_MM_220121_a_calciumday.hdf5'"
   ],
   "outputs": []
  },
  {
   "cell_type": "code",
   "execution_count": null,
   "id": "daed6389",
   "metadata": {},
   "source": [
    "old_ca, old_rois = get_ca_data_from_h5(old_ca_file)\n",
    "new_ca, new_rois = get_ca_data_from_h5(new_ca_file)"
   ],
   "outputs": []
  },
  {
   "cell_type": "code",
   "execution_count": null,
   "id": "7b439706",
   "metadata": {},
   "source": [
    "plt.hist(old_ca)\n",
    "plt.show()"
   ],
   "outputs": []
  },
  {
   "cell_type": "code",
   "execution_count": null,
   "id": "f3b39344",
   "metadata": {},
   "source": [
    "plt.hist(new_ca)\n",
    "plt.show()"
   ],
   "outputs": []
  },
  {
   "cell_type": "code",
   "execution_count": null,
   "id": "fdda2730",
   "metadata": {},
   "source": [
    "a = pd.read_hdf(r'D:\\04_12_2022_13_58_22_VWheel_MM_220117_a_fixed0_gabor_dlc.h5')"
   ],
   "outputs": []
  },
  {
   "cell_type": "code",
   "execution_count": null,
   "id": "05a0df40",
   "metadata": {},
   "source": [
    "a.columns.levels[-2]"
   ],
   "outputs": []
  },
  {
   "cell_type": "code",
   "execution_count": null,
   "id": "37a366bf",
   "metadata": {},
   "source": [],
   "outputs": []
  }
 ],
 "metadata": {
  "kernelspec": {
   "display_name": "Python [conda env:prey_capture] *",
   "language": "python",
   "name": "conda-env-prey_capture-py"
  },
  "language_info": {
   "codemirror_mode": {
    "name": "ipython",
    "version": 3
   },
   "file_extension": ".py",
   "mimetype": "text/x-python",
   "name": "python",
   "nbconvert_exporter": "python",
   "pygments_lexer": "ipython3",
   "version": "3.8.8"
  },
  "varInspector": {
   "cols": {
    "lenName": 16,
    "lenType": 16,
    "lenVar": 40
   },
   "kernels_config": {
    "python": {
     "delete_cmd_postfix": "",
     "delete_cmd_prefix": "del ",
     "library": "var_list.py",
     "varRefreshCmd": "print(var_dic_list())"
    },
    "r": {
     "delete_cmd_postfix": ") ",
     "delete_cmd_prefix": "rm(",
     "library": "var_list.r",
     "varRefreshCmd": "cat(var_dic_list()) "
    }
   },
   "position": {
    "height": "264.85px",
    "left": "1550px",
    "right": "20px",
    "top": "120px",
    "width": "350px"
   },
   "types_to_exclude": [
    "module",
    "function",
    "builtin_function_or_method",
    "instance",
    "_Feature"
   ],
   "window_display": true
  }
 },
 "nbformat": 4,
 "nbformat_minor": 5
}

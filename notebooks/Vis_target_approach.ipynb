{
 "cells": [
  {
   "cell_type": "markdown",
   "metadata": {},
   "source": [
    "# Visualize Target Approach\n",
    "\n",
    "This notebook works for VR target approach experiments where the 2D and 3D stimuli are interleaved (after April 13, 2021)"
   ]
  },
  {
   "cell_type": "code",
   "execution_count": null,
   "metadata": {
    "init_cell": true
   },
   "source": [
    "import os\n",
    "import sys\n",
    "import h5py\n",
    "\n",
    "import pandas as pd\n",
    "import numpy as np\n",
    "import panel as pn\n",
    "import matplotlib\n",
    "import matplotlib.pyplot as plt\n",
    "from matplotlib.gridspec import GridSpec\n",
    "from tqdm.notebook import tqdm\n",
    "from scipy.stats import sem\n",
    "from datetime import datetime\n",
    "\n",
    "sys.path.insert(0, r'..\\..')\n",
    "import paths\n",
    "import functions_bondjango as bd\n",
    "import functions_kinematic as fk\n",
    "import functions_plotting as fp\n",
    "import functions_preprocessing as fpr\n",
    "import functions_misc as fm\n",
    "import functions_data_handling as fd\n",
    "import functions_vrtarget as vt\n",
    "\n",
    "\n",
    "import importlib\n",
    "importlib.reload(vt)\n",
    "\n",
    "line_width = 5\n",
    "matplotlib.rcParams.update({'font.size': 22})"
   ],
   "outputs": []
  },
  {
   "cell_type": "code",
   "execution_count": null,
   "metadata": {
    "init_cell": true
   },
   "source": [
    "def thresh_function(param, thres):\n",
    "    return param <= thres"
   ],
   "outputs": []
  },
  {
   "cell_type": "code",
   "execution_count": null,
   "metadata": {
    "init_cell": true
   },
   "source": [
    "def get_count_mean_sem(df: pd.DataFrame, grouping_params: list, target_param: str) -> pd.DataFrame:\n",
    "    grouped = df.groupby(['date', *grouping_params])[target_param]\n",
    "    count = grouped.sum().reset_index()\n",
    "    mean = count.groupby([*grouping_params])[target_param].mean().unstack().T\n",
    "    sem = count.groupby([*grouping_params])[target_param].sem().unstack().T\n",
    "\n",
    "    return count, mean, sem"
   ],
   "outputs": []
  },
  {
   "cell_type": "code",
   "execution_count": null,
   "metadata": {
    "init_cell": true
   },
   "source": [
    "def get_percentage_trials(df: pd.DataFrame, grouping_params: list, target_param: str) -> pd.DataFrame:\n",
    "    new_col_name = 'percent_{}'.format(target_param)\n",
    "\n",
    "    grouped = df.groupby(['date', *grouping_params])[target_param]\n",
    "    \n",
    "    percent = 100 * grouped.sum() / grouped.count()\n",
    "    percent = percent.reset_index()\n",
    "    percent = percent.rename(columns={target_param: new_col_name})\n",
    "    \n",
    "    mean_percent = percent.groupby([*grouping_params])[new_col_name].mean().unstack().T\n",
    "    sem_percent = percent.groupby([*grouping_params])[new_col_name].sem().unstack().T\n",
    "\n",
    "\n",
    "    return percent, mean_percent, sem_percent"
   ],
   "outputs": []
  },
  {
   "cell_type": "code",
   "execution_count": null,
   "metadata": {
    "init_cell": true
   },
   "source": [
    "def plot_approach_heatmaps_by_contrast(df, level=0, fig=None, axes=None, **kwargs):\n",
    "    colors = df.groupby(level=[level]).agg(list).index.to_list()\n",
    "    color_labels = {'(0, 0, 0, 1)': '100% black',\n",
    "                    '(0.25, 0.25, 0.25, 1)': '75% gray',\n",
    "                    '(1, 1, 1, 1)': '0% white',\n",
    "    }\n",
    "\n",
    "    if axes is None:\n",
    "        fig, axes = plt.subplots(2, 1, figsize=(10, 20), constrained_layout=True)\n",
    "\n",
    "    images = []\n",
    "    cmap_max = kwargs.get('cmap_max', None)\n",
    "    \n",
    "    if cmap_max is None:\n",
    "            cmap_max = df.values.max()\n",
    "            kwargs['cmap_max'] = cmap_max\n",
    "    \n",
    "    for i, color in enumerate(colors):\n",
    "        ax = axes[i]\n",
    "        data = df.xs(color, level=level)\n",
    "        values = data.values\n",
    "        speeds = [int(a) for a in data.index.to_list()]\n",
    "        scales = data.columns.to_list()\n",
    "        \n",
    "        im, ax = fp.plot_heatmap(values, scales, speeds, ax=ax, **kwargs)\n",
    "        images.append(im)\n",
    "        \n",
    "        axes[i].set_ylabel('Speeds [cm/s]')\n",
    "        axes[i].set_xlabel(\"Scale [cm]\")\n",
    "        \n",
    "        if 'date' in kwargs:\n",
    "            axes[i].set_title('{}\\nContrast: {}'.format(kwargs.get('date'), color_labels[str(color)]))\n",
    "        elif 'nbin' in kwargs:\n",
    "            axes[i].set_title('Bin: {}\\nContrast: {}'.format(str(int(kwargs.get('nbin'))), color_labels[str(color)]))\n",
    "        elif 'target_type' in kwargs:\n",
    "            axes[i].set_title('Dimension: {}\\nContrast: {}'.format(str(kwargs.get('target_type')), color_labels[str(color)]))\n",
    "        elif ('date' in kwargs) and ('target_type' in kwargs):\n",
    "            axes[i].set_title('{} \\nDimension: {}, Contrast: {}'.format(kwargs.get('date'), str(kwargs.get('target_type')), color_labels[str(color)]))\n",
    "        elif ('nbin' in kwargs) and ('target_type' in kwargs):\n",
    "            axes[i].set_title('Bin:{} \\nBin: {}, Contrast: {}'.format(str(int(kwargs.get('nbin'))), str(kwargs.get('target_type')), color_labels[str(color)]))\n",
    "        else:\n",
    "            axes[i].set_title('Contrast: {}'.format(color_labels[str(color)]))\n",
    "        \n",
    "    if i+1 <= len(axes):\n",
    "        for ax in axes[i+1:]:\n",
    "            ax.set_visible(False)\n",
    "\n",
    "    return fig, axes, images"
   ],
   "outputs": []
  },
  {
   "cell_type": "code",
   "execution_count": null,
   "metadata": {},
   "source": [
    "# define the name to be used for the saved figures\n",
    "notes = 'led100'\n",
    "save_name = 'VScreen_{}'.format(notes)"
   ],
   "outputs": []
  },
  {
   "cell_type": "code",
   "execution_count": null,
   "metadata": {},
   "source": [
    "# If this data set was already processed\n",
    "approach_df = pd.read_hdf(r\"D:/vscreens/\" + save_name, 'data')"
   ],
   "outputs": []
  },
  {
   "cell_type": "code",
   "execution_count": null,
   "metadata": {},
   "source": [
    "search_params = {'result': 'test',\n",
    "                 'lighting': 'normal',\n",
    "                 'rig': 'VScreen',\n",
    "                 'analysis_type': 'preprocessing',\n",
    "                 'gtdate': '2021-03-22T00-00-00',\n",
    "                 'notes': notes\n",
    "                }\n",
    "\n",
    "search_string = ', '.join(\"{}:{}\".format(key,val) for (key,val) in search_params.items())\n",
    "data = vt.load_VScreens_datasets(search_string, exclusion=\"removedtracker\")"
   ],
   "outputs": []
  },
  {
   "cell_type": "code",
   "execution_count": null,
   "metadata": {},
   "source": [
    "exp_manipulation_params = ['object', 'color_target', 'scale', 'speed']\n",
    "df_columns = ['date', 'animal', 'bin', 'trial_num', 'target_type', 'target_color', 'speed', 'scale', 'approaches', 'has_approach']\n",
    "\n",
    "# encounter_criteria\n",
    "approach_criteria = {'2D': {'distance_threshold':0.05, 'speed_minimum': 0.10, 'start_distance': 0.05, 'window': 2},\n",
    "                     '3D': {'distance_threshold':0.10, 'speed_minimum': 0.10, 'start_distance': 0.05, 'window': 2},\n",
    "                     'cricket': {'distance_threshold':0.10, 'speed_minimum': 0.10, 'start_distance': 0.05, 'window': 2}\n",
    "                     }\n",
    "\n",
    "# This lookup list matches the target types as defined in the Unity scene\n",
    "target_lookup = ['2D', '2D', '2D', '3D', '3D', '3D', 'cricket']"
   ],
   "outputs": []
  },
  {
   "cell_type": "code",
   "execution_count": null,
   "metadata": {},
   "source": [
    "# Get the mean trial duration for the fastest stimulus speed in the data set\n",
    "fast_trials = data[0]['trial_params']['trial_num'][data[0]['trial_params']['speed'] == data[0]['trial_params']['speed'].max()].to_numpy()\n",
    "fast_bois = [data[0]['traces'].loc[data[0]['traces']['trial_num'] == x] for x in fast_trials]\n",
    "\n",
    "durations = []\n",
    "for fb in fast_bois:\n",
    "    time_moving = fb['time_vector'][(fb['target_speed'] > 0.1) & (fb['target_speed'] < 0.4)].to_numpy()\n",
    "    durations.append(time_moving[-1] - time_moving[1])\n",
    "    \n",
    "# This time will be how we create pseudotrials from the longer data sets\n",
    "pseudo_duration = np.mean(durations)"
   ],
   "outputs": []
  },
  {
   "cell_type": "code",
   "execution_count": null,
   "metadata": {},
   "source": [
    "slow_trials = data[0]['trial_params']['trial_num'][data[0]['trial_params']['speed'] == data[0]['trial_params']['speed'].min()].to_numpy()\n",
    "slow_bois = [data[0]['traces'].loc[data[0]['traces']['trial_num'] == x] for x in slow_trials]"
   ],
   "outputs": []
  },
  {
   "cell_type": "code",
   "execution_count": null,
   "metadata": {},
   "source": [
    "t = slow_bois[0]['time_vector'].to_numpy()\n",
    "t -= t[0]\n",
    "a = t % pseudo_duration\n",
    "plt.plot(t, a < 0.01)"
   ],
   "outputs": []
  },
  {
   "cell_type": "code",
   "execution_count": null,
   "metadata": {},
   "source": [
    "def make_pseudo_trials_by_speed(traces, exp_params, duration):\n",
    "    \"\"\"Breaks up a longer trial with a slower stimulus into pseudo trials \n",
    "    with a duration that equals the trial duration of the fastest stimulus. \"\"\"\n",
    "    "
   ],
   "outputs": []
  },
  {
   "cell_type": "code",
   "execution_count": null,
   "metadata": {},
   "source": [
    "# For later visualization\n",
    "all_valid_approaches = []\n",
    "all_approaches = []\n",
    "\n",
    "test_ds = data[0:1]\n",
    "\n",
    "# Make a new data frame\n",
    "approach_df = pd.DataFrame(columns=df_columns)\n",
    "\n",
    "for exp_num, exp in tqdm(enumerate(test_ds), total=len(test_ds)):\n",
    "    \n",
    "    # Add experiment number\n",
    "    exp['traces']['experiment_num'] = exp_num\n",
    "    \n",
    "    # For older experiments, add a target type column so that it is compatible with newer data sets\n",
    "    if 'object' not in exp['trial_params'].columns:\n",
    "        if '2D' in notes:\n",
    "            exp['trial_params']['object'] = 0\n",
    "            # To be removed once incorporated into snakemake preprocessing\n",
    "#             exp['traces'] = vt.recalculate_2D_target_mouse_distance(exp['traces'])\n",
    "        elif '3D' in notes:\n",
    "            exp['trial_params']['object'] = 3\n",
    "#             exp['traces'] = vt.recalculate_3D_target_mouse_distance(exp['traces'])\n",
    "    \n",
    "    # Check if the experiment ended early and only consider the completed trials\n",
    "    exp = vt.remove_trials_end_early(exp)\n",
    "\n",
    "    # Extract the approaches in this experiment\n",
    "    experiment_approaches = pd.DataFrame(columns=df_columns)\n",
    "    experiment_approaches, exp_valid_approaches, all_exp_approaches = \\\n",
    "        vt.extract_experiment_approaches(exp, exp_manipulation_params, 'target_mouse_distance_adj', thresh_function, \n",
    "                                         approach_criteria, experiment_approaches)\n",
    "    \n",
    "    approach_df = approach_df.append(experiment_approaches, ignore_index=True)\n",
    "    all_valid_approaches.append(exp_valid_approaches)\n",
    "    all_approaches.append(all_exp_approaches)\n",
    "                             \n",
    "# Save the data for later\n",
    "approach_df.to_hdf(r\"D:/vscreens/\" + save_name, 'data')\n",
    "\n",
    "# Collect some parameters from all of the experiments for further analysis\n",
    "all_traces_df = pd.concat([exp['traces'][['date', 'animal', 'experiment_num', 'bins', 'trial_num', 'mouse_distance_travelled', 'mouse_x_m', 'mouse_y_m']] for exp in data])"
   ],
   "outputs": []
  },
  {
   "cell_type": "code",
   "execution_count": null,
   "metadata": {},
   "source": [
    "# label dates as unique for groupby later\n",
    "sorted_date = np.sort(approach_df['date'].unique())\n",
    "day = np.zeros(len(approach_df['date']))\n",
    "for d in approach_df['date'].unique():\n",
    "    which_day = np.where(sorted_date == d)[0][0]\n",
    "    day = np.where(approach_df['date'] == d, which_day, day)\n",
    "    \n",
    "approach_df['day'] = day"
   ],
   "outputs": []
  },
  {
   "cell_type": "code",
   "execution_count": null,
   "metadata": {},
   "source": [
    "# label dates as unique for groupby later\n",
    "sorted_date = np.sort(all_traces_df['date'].unique())\n",
    "day = np.zeros(len(all_traces_df['date']))\n",
    "for d in all_traces_df['date'].unique():\n",
    "    which_day = np.where(sorted_date == d)[0][0]\n",
    "    day = np.where(all_traces_df['date'] == d, which_day, day)\n",
    "    \n",
    "all_traces_df['day'] = day"
   ],
   "outputs": []
  },
  {
   "cell_type": "code",
   "execution_count": null,
   "metadata": {},
   "source": [
    "# Locomotion of all mice on first day\n",
    "\n",
    "a = all_traces_df.loc[all_traces_df['day'] == 0].groupby(['animal', 'bins'])['mouse_distance_travelled'].sum()\n",
    "dist_tr = a.groupby(['bins']).mean()\n",
    "bins = list(dist_tr.index)\n",
    "plt.bar(bins, dist_tr.to_numpy())\n",
    "plt.xlabel('Bin')\n",
    "plt.ylabel('Total distance travelled [m]')\n",
    "plt.title('Mean distance travelled per bin across experiments')\n",
    "\n",
    "save_path = os.path.join(paths.figures_path, '_'.join([save_name, 'dist_travelled_bins']))\n",
    "plt.savefig(save_path)"
   ],
   "outputs": []
  },
  {
   "cell_type": "code",
   "execution_count": null,
   "metadata": {},
   "source": [
    "# locomotion of all mice on all days\n",
    "# Note here we use experiment_num instead of animal since we have multiple repetitions of each animal\n",
    "a = all_traces_df.groupby(['experiment_num', 'bins'])['mouse_distance_travelled'].sum()\n",
    "dist_tr = a.groupby(['bins']).mean()\n",
    "bins = list(dist_tr.index)\n",
    "plt.bar(bins, dist_tr.to_numpy())\n",
    "plt.xlabel('Bin')\n",
    "plt.ylabel('Total distance travelled [m]')\n",
    "plt.title('Mean distance travelled per bin across experiments')\n",
    "\n",
    "save_path = os.path.join(paths.figures_path, '_'.join([save_name, 'dist_travelled_bins']))\n",
    "plt.savefig(save_path)"
   ],
   "outputs": []
  },
  {
   "cell_type": "code",
   "execution_count": null,
   "metadata": {},
   "source": [
    "# Dwell time of all mice on first day during trials\n",
    "\n",
    "data = all_traces_df.loc[all_traces_df['day'] == 0]\n",
    "x_range = np.arange(data.mouse_x_m.min(), data.mouse_x_m.max()+0.01, 0.05)\n",
    "y_range = np.arange(data.mouse_y_m.min(), data.mouse_y_m.max()+0.01, 0.05)\n",
    "x_pos = data.loc[data['trial_num'] != 0, ['mouse_x_m']].to_numpy().squeeze()\n",
    "y_pos = data.loc[data['trial_num'] != 0, ['mouse_y_m']].to_numpy().squeeze()\n",
    "\n",
    "plt.hist2d(x_pos, y_pos, [x_range, y_range], cmap='viridis')\n",
    "\n",
    "# plt.hist2d(all_traces_df.mouse_x_m.to_numpy(), all_traces_df.mouse_y_m.to_numpy(), [x_range, y_range], cmap='viridis')\n",
    "plt.colorbar()\n",
    "plt.xlim([-0.6, 0.6])\n",
    "plt.ylim([-0.4, 0.3])\n",
    "# plt.axis('equal')\n",
    "\n",
    "save_path = os.path.join(paths.figures_path, '_'.join([save_name, 'occupancy_heatmap_in_trial_day0']))\n",
    "plt.savefig(save_path)"
   ],
   "outputs": []
  },
  {
   "cell_type": "code",
   "execution_count": null,
   "metadata": {},
   "source": [
    "# Dwell time of all mice on all days during trials\n",
    "\n",
    "data = all_traces_df\n",
    "x_range = np.arange(data.mouse_x_m.min(), data.mouse_x_m.max()+0.01, 0.05)\n",
    "y_range = np.arange(data.mouse_y_m.min(), data.mouse_y_m.max()+0.01, 0.05)\n",
    "x_pos = data.loc[data['trial_num'] != 0, ['mouse_x_m']].to_numpy().squeeze()\n",
    "y_pos = data.loc[data['trial_num'] != 0, ['mouse_y_m']].to_numpy().squeeze()\n",
    "\n",
    "plt.hist2d(x_pos, y_pos, [x_range, y_range], cmap='viridis')\n",
    "\n",
    "# plt.hist2d(all_traces_df.mouse_x_m.to_numpy(), all_traces_df.mouse_y_m.to_numpy(), [x_range, y_range], cmap='viridis')\n",
    "plt.colorbar()\n",
    "plt.xlim([-0.6, 0.6])\n",
    "plt.ylim([-0.4, 0.3])\n",
    "# plt.axis('equal')\n",
    "\n",
    "save_path = os.path.join(paths.figures_path, '_'.join([save_name, 'occupancy_heatmap_in_trial_all_days']))\n",
    "plt.savefig(save_path)"
   ],
   "outputs": []
  },
  {
   "cell_type": "code",
   "execution_count": null,
   "metadata": {},
   "source": [
    "# Dwell time of all mice on first day during non-trial periods\n",
    "\n",
    "data = all_traces_df[all_traces_df['day'] == 0]\n",
    "x_range = np.arange(data.mouse_x_m.min(), data.mouse_x_m.max()+0.01, 0.05)\n",
    "y_range = np.arange(data.mouse_y_m.min(), data.mouse_y_m.max()+0.01, 0.05)\n",
    "x_pos = data.loc[data['trial_num'] == 0, ['mouse_x_m']].to_numpy().squeeze()\n",
    "y_pos = data.loc[data['trial_num'] == 0, ['mouse_y_m']].to_numpy().squeeze()\n",
    "\n",
    "plt.hist2d(x_pos, y_pos, [x_range, y_range], cmap='viridis')\n",
    "\n",
    "# plt.hist2d(all_traces_df.mouse_x_m.to_numpy(), all_traces_df.mouse_y_m.to_numpy(), [x_range, y_range], cmap='viridis')\n",
    "plt.colorbar()\n",
    "plt.xlim([-0.6, 0.6])\n",
    "plt.ylim([-0.4, 0.3])\n",
    "# plt.axis('equal')\n",
    "\n",
    "save_path = os.path.join(paths.figures_path, '_'.join([save_name, 'occupancy_heatmap_no_trial_day0']))\n",
    "plt.savefig(save_path)"
   ],
   "outputs": []
  },
  {
   "cell_type": "code",
   "execution_count": null,
   "metadata": {},
   "source": [
    "# Dwell time of all mice on first day during non-trial periods\n",
    "\n",
    "data = all_traces_df\n",
    "x_range = np.arange(data.mouse_x_m.min(), data.mouse_x_m.max()+0.01, 0.05)\n",
    "y_range = np.arange(data.mouse_y_m.min(), data.mouse_y_m.max()+0.01, 0.05)\n",
    "x_pos = data.loc[data['trial_num'] == 0, ['mouse_x_m']].to_numpy().squeeze()\n",
    "y_pos = data.loc[data['trial_num'] == 0, ['mouse_y_m']].to_numpy().squeeze()\n",
    "\n",
    "plt.hist2d(x_pos, y_pos, [x_range, y_range], cmap='viridis')\n",
    "\n",
    "# plt.hist2d(all_traces_df.mouse_x_m.to_numpy(), all_traces_df.mouse_y_m.to_numpy(), [x_range, y_range], cmap='viridis')\n",
    "plt.colorbar()\n",
    "plt.xlim([-0.6, 0.6])\n",
    "plt.ylim([-0.4, 0.3])\n",
    "# plt.axis('equal')\n",
    "\n",
    "save_path = os.path.join(paths.figures_path, '_'.join([save_name, 'occupancy_heatmap_no_trial_all_days']))\n",
    "plt.savefig(save_path)"
   ],
   "outputs": []
  },
  {
   "cell_type": "code",
   "execution_count": null,
   "metadata": {},
   "source": [
    "percent_mean.values.max()"
   ],
   "outputs": []
  },
  {
   "cell_type": "code",
   "execution_count": null,
   "metadata": {},
   "source": [
    "# Fraction of trials with approach by target type and contrast, all days, all data\n",
    "\n",
    "%matplotlib inline\n",
    "group_params = ['target_type', 'target_color', 'speed', 'scale', ]\n",
    "target_param = 'has_approach'\n",
    "\n",
    "percent_approach, percent_mean, percent_sem = get_percentage_trials(approach_df, group_params, target_param)\n",
    "num_approach, num_mean, num_sem = get_count_mean_sem(approach_df, group_params, target_param)\n",
    "\n",
    "# Loop through each of the target types (2D vs 3D)\n",
    "grouped = percent_mean.T.groupby(['target_type'])\n",
    "n_rows = len(approach_df['target_type'].unique())\n",
    "n_cols = len(approach_df['target_color'].unique())\n",
    "fig, axes = plt.subplots(n_rows, n_cols, figsize=(n_cols*10, n_rows*10), constrained_layout=True)\n",
    "\n",
    "if len(axes.shape) < 2:\n",
    "    axes = np.expand_dims(axes, axis=0)\n",
    "\n",
    "panels = []\n",
    "cmap_max = percent_mean.values.max()/100\n",
    "for i, (key, item) in enumerate(grouped):\n",
    "    ds = item.droplevel(0)    # Remove the target type from the index of the grouped dataset\n",
    "    fig, _, ims = plot_approach_heatmaps_by_contrast(ds/100, fig=fig, axes=axes[i], target_type=key, cmap_max=cmap_max)\n",
    "    panels.append(ims)\n",
    "    \n",
    "cbar_im = fm.flatten_list(panels)[0]\n",
    "for ax in fig.get_axes():\n",
    "    fig.colorbar(cbar_im, ax=ax, label='mean fraction trials w/ approach', fraction=0.04, pad=0.04)\n",
    "    \n",
    "plt.suptitle('Fraction of trials with approach across all experiments\\n{}'.format(save_name))\n",
    "\n",
    "save_path = os.path.join(paths.figures_path, '_'.join([save_name, 'heatmap_frac_approach_all']))\n",
    "plt.savefig(save_path)"
   ],
   "outputs": []
  },
  {
   "cell_type": "code",
   "execution_count": null,
   "metadata": {},
   "source": [
    "ds"
   ],
   "outputs": []
  },
  {
   "cell_type": "code",
   "execution_count": null,
   "metadata": {},
   "source": [
    "# Fraction of trials with approach by target type and contrast, first day only\n",
    "\n",
    "%matplotlib inline\n",
    "group_params = ['target_type', 'target_color', 'speed', 'scale']\n",
    "target_param = 'has_approach'\n",
    "\n",
    "data = approach_df.loc[(approach_df['day'] == 0) & (approach_df['bin'] < 3)]\n",
    "\n",
    "percent_approach, percent_mean, percent_sem = get_percentage_trials(data, group_params, target_param)\n",
    "num_approach, num_mean, num_sem = get_count_mean_sem(data, group_params, target_param)\n",
    "\n",
    "# Loop through each of the target types (2D vs 3D)\n",
    "grouped = percent_mean.T.groupby(['target_type'])\n",
    "n_rows = len(approach_df['target_type'].unique())\n",
    "n_cols = len(approach_df['target_color'].unique())\n",
    "fig, axes = plt.subplots(n_rows, n_cols, figsize=(n_cols*10, n_rows*10), constrained_layout=True)\n",
    "\n",
    "if len(axes.shape) < 2:\n",
    "    axes = np.expand_dims(axes, axis=0)\n",
    "    \n",
    "panels = []\n",
    "cmap_max = percent_mean.T.values.max()/100\n",
    "for i, (key, item) in enumerate(grouped):\n",
    "    ds = item.droplevel(0)    # Remove the target type from the index of the grouped dataset\n",
    "    fig, _, ims = plot_approach_heatmaps_by_contrast(ds/100, fig=fig, axes=axes[i], target_type=key, cmap_max=cmap_max)\n",
    "    panels.append(ims)\n",
    "    \n",
    "cbar_im = fm.flatten_list(panels)[0]\n",
    "for ax in fig.get_axes():\n",
    "    fig.colorbar(cbar_im, ax=ax, label='mean fraction trials w/ approach', fraction=0.04, pad=0.04)\n",
    "    \n",
    "plt.suptitle('Fraction of trials with approach across all experiments\\n{}'.format(save_name))\n",
    "\n",
    "save_path = os.path.join(paths.figures_path, '_'.join([save_name, 'heatmap_frac_approach_day0_bin0-2']))\n",
    "plt.savefig(save_path)"
   ],
   "outputs": []
  },
  {
   "cell_type": "code",
   "execution_count": null,
   "metadata": {},
   "source": [
    "# Fraction of trials with approach by target type and contrast, across days\n",
    "\n",
    "\n",
    "%matplotlib inline\n",
    "\n",
    "group_params = ['date', 'target_type', 'target_color', 'speed', 'scale']\n",
    "target_param = 'has_approach'\n",
    "\n",
    "grouped = approach_df.groupby(group_params)[target_param].sum() / approach_df.groupby(group_params)[target_param].count()\n",
    "\n",
    "cols = len(list(grouped.groupby(['date']).groups.keys()))\n",
    "rows = len(list(grouped.groupby(['target_color']).groups.keys())) \n",
    "row_multiplier = len(list(grouped.groupby(['target_type']).groups.keys()))\n",
    "\n",
    "fig = plt.figure(figsize=(10*cols, 10*rows*row_multiplier), constrained_layout=True)\n",
    "gs = GridSpec(rows*row_multiplier, cols, figure=fig)\n",
    "\n",
    "panels = []\n",
    "cmap_max = grouped.max()\n",
    "for col, (date, d_data) in enumerate(grouped.unstack().groupby(['date'])):\n",
    "    \n",
    "    d_data = d_data.reset_index(level=0, drop=True)\n",
    "    target_grouped = d_data.groupby(['target_type'])\n",
    "    \n",
    "    for i, (target, t_data) in enumerate(target_grouped):\n",
    "        \n",
    "        ds = t_data.droplevel(0)    # Remove the target type from the index of the grouped dataset\n",
    "        \n",
    "        sub_axes = []\n",
    "        for r in range(rows):\n",
    "            r = r + (i*rows)\n",
    "            sub_axes.append(fig.add_subplot(gs[r, col]))\n",
    "    \n",
    "        _, axes, ims = plot_approach_heatmaps_by_contrast(ds, fig=fig, axes=sub_axes, cmap_max=cmap_max, date=date, target_type=target)\n",
    "        panels.append(ims)\n",
    " \n",
    "cbar_im = fm.flatten_list(panels)[0]\n",
    "for ax in fig.get_axes():\n",
    "    fig.colorbar(cbar_im, ax=ax, label='fraction trials w/ approach', fraction=0.05, pad=0.04)\n",
    " \n",
    "plt.suptitle('Fraction of trials with approach across days\\n{}'.format(save_name))\n",
    "\n",
    "save_path = os.path.join(paths.figures_path, '_'.join([save_name, 'heatmap_frac_approach_days']))\n",
    "plt.savefig(save_path)"
   ],
   "outputs": []
  },
  {
   "cell_type": "code",
   "execution_count": null,
   "metadata": {},
   "source": [
    "%matplotlib inline\n",
    "\n",
    "group_params = ['bin', 'target_type', 'target_color', 'speed', 'scale']\n",
    "target_param = 'has_approach'\n",
    "\n",
    "grouped = approach_df.groupby(group_params)[target_param].sum() / approach_df.groupby(group_params)[target_param].count()\n",
    "\n",
    "cols = len(list(grouped.groupby(['bin']).groups.keys()))\n",
    "rows = len(list(grouped.groupby(['target_color']).groups.keys())) \n",
    "row_multiplier = len(list(grouped.groupby(['target_type']).groups.keys()))\n",
    "\n",
    "fig = plt.figure(figsize=(10*cols, 10*rows*row_multiplier), constrained_layout=True)\n",
    "gs = GridSpec(rows*row_multiplier, cols, figure=fig)\n",
    "\n",
    "panels = []\n",
    "cmap_max = grouped.max()\n",
    "for col, (nbin, b_data) in enumerate(grouped.unstack().groupby(['bin'])):\n",
    "    \n",
    "    b_data = b_data.reset_index(level=0, drop=True)\n",
    "    target_grouped = b_data.groupby(['target_type'])\n",
    "    \n",
    "    for i, (target, t_data) in enumerate(target_grouped):\n",
    "        \n",
    "        ds = t_data.droplevel(0)    # Remove the target type from the index of the grouped dataset\n",
    "        \n",
    "        sub_axes = []\n",
    "        for r in range(rows):\n",
    "            r = r + (i*rows)\n",
    "            sub_axes.append(fig.add_subplot(gs[r, col]))\n",
    "    \n",
    "        _, axes, ims = plot_approach_heatmaps_by_contrast(ds, fig=fig, axes=sub_axes, cmap_max=cmap_max, nbin=nbin, target_type=target)\n",
    "        panels.append(ims)\n",
    "    \n",
    " \n",
    "cbar_im = fm.flatten_list(panels)[0]\n",
    "for ax in fig.get_axes():\n",
    "    fig.colorbar(cbar_im, ax=ax, label='fraction trials w/ approach', fraction=0.05, pad=0.04)\n",
    "\n",
    "plt.suptitle('Fraction of trials with approach by bin across all experiments\\n{}'.format(save_name))\n",
    "    \n",
    "save_path = os.path.join(paths.figures_path, '_'.join([save_name, 'heatmap_frac_approach_bins']))\n",
    "plt.savefig(save_path)"
   ],
   "outputs": []
  },
  {
   "cell_type": "code",
   "execution_count": null,
   "metadata": {},
   "source": [],
   "outputs": []
  }
 ],
 "metadata": {
  "celltoolbar": "Initialization Cell",
  "kernelspec": {
   "display_name": "Python [conda env:prey_capture] *",
   "language": "python",
   "name": "conda-env-prey_capture-py"
  },
  "language_info": {
   "codemirror_mode": {
    "name": "ipython",
    "version": 3
   },
   "file_extension": ".py",
   "mimetype": "text/x-python",
   "name": "python",
   "nbconvert_exporter": "python",
   "pygments_lexer": "ipython3",
   "version": "3.7.3"
  },
  "varInspector": {
   "cols": {
    "lenName": 16,
    "lenType": 16,
    "lenVar": 40
   },
   "kernels_config": {
    "python": {
     "delete_cmd_postfix": "",
     "delete_cmd_prefix": "del ",
     "library": "var_list.py",
     "varRefreshCmd": "print(var_dic_list())"
    },
    "r": {
     "delete_cmd_postfix": ") ",
     "delete_cmd_prefix": "rm(",
     "library": "var_list.r",
     "varRefreshCmd": "cat(var_dic_list()) "
    }
   },
   "position": {
    "height": "405.85px",
    "left": "1488px",
    "right": "20px",
    "top": "120px",
    "width": "350px"
   },
   "types_to_exclude": [
    "module",
    "function",
    "builtin_function_or_method",
    "instance",
    "_Feature"
   ],
   "window_display": false
  }
 },
 "nbformat": 4,
 "nbformat_minor": 4
}

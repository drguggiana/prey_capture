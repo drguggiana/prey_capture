{
 "cells": [
  {
   "cell_type": "markdown",
   "metadata": {},
   "source": [
    "# Visualize and process cricket data"
   ]
  },
  {
   "cell_type": "code",
   "execution_count": null,
   "metadata": {},
   "source": [
    "# imports\n",
    "import os\n",
    "import sys\n",
    "sys.path.insert(0, os.path.abspath(r'D:\\Code Repos\\prey_capture'))\n",
    "\n",
    "import panel as pn\n",
    "import holoviews as hv\n",
    "from holoviews import opts, dim\n",
    "hv.extension('bokeh')\n",
    "from bokeh.resources import INLINE\n",
    "\n",
    "import paths\n",
    "import functions_bondjango as bd\n",
    "import pandas as pd\n",
    "import numpy as np\n",
    "import functions_data_handling as fd"
   ],
   "outputs": []
  },
  {
   "cell_type": "code",
   "execution_count": null,
   "metadata": {},
   "source": [
    "# load the data\n",
    "# get the data paths\n",
    "try:\n",
    "    # this is for snakemake compatibility, won't interfere\n",
    "    data_path = snakemake.input[0]\n",
    "except NameError:\n",
    "    # this is the data loading if running stand alone\n",
    "    \n",
    "    # define the search string\n",
    "    search_string = 'result:succ, lighting:normal, rig:miniscope, =analysis_type:aggEnc'\n",
    "    # query the database for data to plot\n",
    "    data_all = bd.query_database('analyzed_data', search_string)\n",
    "    data_path = data_all[0]['analysis_path']\n",
    "print(data_path)\n",
    "\n",
    "# load the data\n",
    "data = fd.aggregate_loader(data_path)\n",
    "print(data)"
   ],
   "outputs": []
  },
  {
   "cell_type": "code",
   "execution_count": null,
   "metadata": {},
   "source": [
    "# Plot a histogram of the speeds\n",
    "\n",
    "frequencies, edges = np.histogram(np.log(data['cricket_speed']+0.001), 100)\n",
    "# frequencies, edges = np.histogram(np.log(np.abs(data['cricket_acceleration']+0.01)), 100)\n",
    "mouse_frequencies, mouse_edges = np.histogram(np.log(data['mouse_speed']+0.001), 100)\n",
    "# mouse_frequencies, mouse_edges = np.histogram(np.log(np.abs(data['mouse_acceleration']+0.01)), 100)\n",
    "\n",
    "hv.Histogram((edges, frequencies)) + hv.Histogram((mouse_edges, mouse_frequencies))"
   ],
   "outputs": []
  }
 ],
 "metadata": {
  "kernelspec": {
   "display_name": "Python 3",
   "language": "python",
   "name": "python3"
  },
  "language_info": {
   "codemirror_mode": {
    "name": "ipython",
    "version": 3
   },
   "file_extension": ".py",
   "mimetype": "text/x-python",
   "name": "python",
   "nbconvert_exporter": "python",
   "pygments_lexer": "ipython3",
   "version": "3.7.3"
  }
 },
 "nbformat": 4,
 "nbformat_minor": 4
}

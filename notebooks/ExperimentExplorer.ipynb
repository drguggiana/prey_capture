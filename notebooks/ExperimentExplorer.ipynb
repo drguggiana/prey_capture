{
 "cells": [
  {
   "cell_type": "markdown",
   "id": "ded76efe-e3c4-4884-a773-789192b0384d",
   "metadata": {},
   "source": [
    "# Experiment Explorer"
   ]
  },
  {
   "cell_type": "code",
   "execution_count": null,
   "id": "89d00664-093b-4153-91b8-2bc3227ad526",
   "metadata": {},
   "source": [
    "import ipywidgets as widgets\n",
    "import numpy as np\n",
    "import matplotlib.pyplot as plt\n",
    "import os\n",
    "import sys\n",
    "import importlib\n",
    "import datetime\n",
    "\n",
    "sys.path.insert(0, os.path.abspath(r'C:/Users/mmccann/repos/bonhoeffer/prey_capture/'))\n",
    "import processing_parameters\n",
    "import functions_bondjango as bd\n",
    "import functions_plotting as fp\n",
    "import functions_data_handling as fdh\n",
    "import functions_kinematic as fk"
   ],
   "outputs": []
  },
  {
   "cell_type": "code",
   "execution_count": null,
   "id": "68c393ee-2335-4585-b887-72d41fd6f267",
   "metadata": {},
   "source": [
    "class ExperimentViewer():\n",
    "    def __init__(self, experiment_type, init_query):\n",
    "        self.query = None\n",
    "        self.dataset = None\n",
    "\n",
    "        # Set up GUI\n",
    "        self.available_experiments = {}\n",
    "        self._get_query_results(experiment_type, init_query)\n",
    "\n",
    "        self.miceW = widgets.Select(options=self.available_experiments.keys())\n",
    "        init_mouse = self.miceW.value\n",
    "        self.dateW = widgets.Select(options=self.available_experiments[init_mouse].keys())\n",
    "        init_date = self.dateW.value\n",
    "        self.rigW = widgets.Select(options=self.available_experiments[init_mouse][init_date])\n",
    "\n",
    "        k = widgets.interactive(self.generate_query, mouse=self.miceW, day=self.dateW, rig=self.rigW)\n",
    "        j = widgets.interactive(self._select_rig, mouse=self.miceW, day=self.dateW)\n",
    "        i = widgets.interactive(self._select_date, mouse=self.miceW)\n",
    "        \n",
    "        display(k)\n",
    "\n",
    "    def generate_query(self, mouse, day, rig):\n",
    "        day_format = datetime.datetime.strptime(day, '%Y-%m-%d').strftime('%m_%d_%Y')\n",
    "        self.query = f'mouse:{mouse}, rig:{rig}, slug:{day_format}'\n",
    "        return self.query\n",
    "        \n",
    "    def _get_query_results(self, experiment_type, query):\n",
    "        entries = bd.query_database(experiment_type, query)\n",
    "        mice = np.unique([entry['mouse'] for entry in entries])\n",
    "\n",
    "        available_dates = {}\n",
    "        for mouse in mice:\n",
    "            short_dates = []\n",
    "            for entry in entries:\n",
    "                if entry['mouse'] == mouse:\n",
    "                    short_dates.append(entry['date'][:10])\n",
    "            available_dates[mouse] = np.unique(short_dates)\n",
    "\n",
    "        for mouse, dates in available_dates.items():\n",
    "            self.available_experiments[mouse] = {}\n",
    "            for date in dates:\n",
    "                rigs = []\n",
    "                for entry in entries:\n",
    "                    if (entry['mouse'] == mouse) and (date in entry['date']):\n",
    "                        rigs.append(entry['rig'])\n",
    "\n",
    "                if len(rigs) > 0:\n",
    "                    self.available_experiments[mouse].update({date: rigs})\n",
    "\n",
    "    def _select_date(self, mouse):\n",
    "        self.dateW.options =self.available_experiments[mouse].keys()\n",
    "\n",
    "    def _select_rig(self, mouse, day):\n",
    "        self.rigW.options = self.available_experiments[mouse][day]\n",
    "    \n",
    "        "
   ],
   "outputs": []
  },
  {
   "cell_type": "code",
   "execution_count": null,
   "id": "a24b93d7-83e8-4a09-b872-01bb9939e161",
   "metadata": {},
   "source": [
    "f = ExperimentViewer('vr_experiment', 'imaging:wirefree')"
   ],
   "outputs": []
  },
  {
   "cell_type": "code",
   "execution_count": null,
   "id": "3deab4c3-10bd-4adf-a18e-099a476e19a4",
   "metadata": {},
   "source": [
    "importlib.reload(processing_parameters)\n",
    "\n",
    "# get the search string\n",
    "search_string = processing_parameters.search_string + r\", analysis_type:preprocessing\"\n",
    "\n",
    "# get the paths from the database\n",
    "file_path, paths_all, parsed_query, date_list, animal_list = fdh.fetch_preprocessing(search_string)\n",
    "\n",
    "animal_idxs = [i for i,d in enumerate(animal_list) if d==parsed_query['mouse'].lower()]\n",
    "good_entries = [file_path[index] for index in animal_idxs]\n",
    "input_path = [paths_all[index] for index in animal_idxs]\n",
    "\n",
    "# # assemble the output path\n",
    "# out_path = os.path.join(paths.analysis_path, 'test_latentconsolidate.hdf5')\n",
    "print(input_path)"
   ],
   "outputs": []
  },
  {
   "cell_type": "code",
   "execution_count": null,
   "id": "8f5ad7d2-c005-4a89-b10c-4336dc9823c8",
   "metadata": {},
   "source": [],
   "outputs": []
  }
 ],
 "metadata": {
  "kernelspec": {
   "display_name": "Python 3 (ipykernel)",
   "language": "python",
   "name": "python3"
  },
  "language_info": {
   "codemirror_mode": {
    "name": "ipython",
    "version": 3
   },
   "file_extension": ".py",
   "mimetype": "text/x-python",
   "name": "python",
   "nbconvert_exporter": "python",
   "pygments_lexer": "ipython3",
   "version": "3.8.16"
  }
 },
 "nbformat": 4,
 "nbformat_minor": 5
}
